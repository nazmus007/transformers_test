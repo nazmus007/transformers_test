{
  "nbformat": 4,
  "nbformat_minor": 0,
  "metadata": {
    "accelerator": "GPU",
    "colab": {
      "name": "Sarcasm_detection_XLNet_ptacek_run2+emoji.ipynb",
      "provenance": [],
      "collapsed_sections": [],
      "machine_shape": "hm",
      "include_colab_link": true
    },
    "kernelspec": {
      "name": "python3",
      "language": "python",
      "display_name": "Python 3"
    },
    "language_info": {
      "name": "python",
      "version": "3.6.9",
      "mimetype": "text/x-python",
      "codemirror_mode": {
        "name": "ipython",
        "version": 3
      },
      "pygments_lexer": "ipython3",
      "nbconvert_exporter": "python",
      "file_extension": ".py"
    },
    "kernel_info": {
      "name": "python3"
    },
    "nteract": {
      "version": "nteract-front-end@1.0.0"
    },
    "microsoft": {
      "host": {
        "AzureML": {
          "notebookHasBeenCompleted": true
        }
      }
    }
  },
  "cells": [
    {
      "cell_type": "markdown",
      "metadata": {
        "id": "view-in-github",
        "colab_type": "text"
      },
      "source": [
        "<a href=\"https://colab.research.google.com/github/nazmus007/transformers_test/blob/main/Sarcasm_detection_XLNet_ptacek_run2%2Bemoji.ipynb\" target=\"_parent\"><img src=\"https://colab.research.google.com/assets/colab-badge.svg\" alt=\"Open In Colab\"/></a>"
      ]
    },
    {
      "cell_type": "code",
      "metadata": {
        "colab": {
          "base_uri": "https://localhost:8080/"
        },
        "id": "3m6sGbnGeXHk",
        "outputId": "b352039c-bdec-431f-afec-2eaaa4c1f35e"
      },
      "source": [
        "!nvidia-smi"
      ],
      "execution_count": null,
      "outputs": [
        {
          "output_type": "stream",
          "name": "stdout",
          "text": [
            "Mon Sep  6 19:13:45 2021       \n",
            "+-----------------------------------------------------------------------------+\n",
            "| NVIDIA-SMI 470.63.01    Driver Version: 460.32.03    CUDA Version: 11.2     |\n",
            "|-------------------------------+----------------------+----------------------+\n",
            "| GPU  Name        Persistence-M| Bus-Id        Disp.A | Volatile Uncorr. ECC |\n",
            "| Fan  Temp  Perf  Pwr:Usage/Cap|         Memory-Usage | GPU-Util  Compute M. |\n",
            "|                               |                      |               MIG M. |\n",
            "|===============================+======================+======================|\n",
            "|   0  Tesla T4            Off  | 00000000:00:04.0 Off |                    0 |\n",
            "| N/A   48C    P8    10W /  70W |      0MiB / 15109MiB |      0%      Default |\n",
            "|                               |                      |                  N/A |\n",
            "+-------------------------------+----------------------+----------------------+\n",
            "                                                                               \n",
            "+-----------------------------------------------------------------------------+\n",
            "| Processes:                                                                  |\n",
            "|  GPU   GI   CI        PID   Type   Process name                  GPU Memory |\n",
            "|        ID   ID                                                   Usage      |\n",
            "|=============================================================================|\n",
            "|  No running processes found                                                 |\n",
            "+-----------------------------------------------------------------------------+\n"
          ]
        }
      ]
    },
    {
      "cell_type": "code",
      "metadata": {
        "id": "La_IYlxh8-zo"
      },
      "source": [
        "torch.cuda.empty_cache()"
      ],
      "execution_count": null,
      "outputs": []
    },
    {
      "cell_type": "code",
      "metadata": {
        "colab": {
          "base_uri": "https://localhost:8080/"
        },
        "id": "hF1TjbDfjCYz",
        "outputId": "a95917d0-1c1b-47e5-a3cd-0d6ab5099428"
      },
      "source": [
        "from google.colab import drive\n",
        "drive.mount('/content/drive')"
      ],
      "execution_count": 1,
      "outputs": [
        {
          "output_type": "stream",
          "name": "stdout",
          "text": [
            "Mounted at /content/drive\n"
          ]
        }
      ]
    },
    {
      "cell_type": "code",
      "metadata": {
        "id": "1Z9KcjiTjpSE",
        "colab": {
          "base_uri": "https://localhost:8080/"
        },
        "outputId": "1bdc9115-5004-4071-d8c7-a4238a2fe599"
      },
      "source": [
        "!pip install -qq transformers"
      ],
      "execution_count": 2,
      "outputs": [
        {
          "output_type": "stream",
          "name": "stdout",
          "text": [
            "\u001b[K     |████████████████████████████████| 2.9 MB 4.3 MB/s \n",
            "\u001b[K     |████████████████████████████████| 636 kB 89.6 MB/s \n",
            "\u001b[K     |████████████████████████████████| 56 kB 6.9 MB/s \n",
            "\u001b[K     |████████████████████████████████| 3.3 MB 60.9 MB/s \n",
            "\u001b[K     |████████████████████████████████| 895 kB 65.3 MB/s \n",
            "\u001b[?25h"
          ]
        }
      ]
    },
    {
      "cell_type": "markdown",
      "metadata": {
        "id": "Mk0GnvUQIdxc"
      },
      "source": [
        "### Making the necessary imports"
      ]
    },
    {
      "cell_type": "code",
      "metadata": {
        "id": "dOpc8w_12D1f",
        "gather": {
          "logged": 1628694988278
        }
      },
      "source": [
        "import transformers\n",
        "from transformers import XLNetTokenizer, XLNetModel, AdamW, get_linear_schedule_with_warmup\n",
        "import torch\n",
        "\n",
        "import numpy as np\n",
        "import pandas as pd\n",
        "import seaborn as sns\n",
        "import matplotlib.pyplot as plt\n",
        "from matplotlib import rc\n",
        "from sklearn.model_selection import train_test_split\n",
        "from sklearn.metrics import confusion_matrix, classification_report, accuracy_score\n",
        "from collections import defaultdict\n",
        "from textwrap import wrap\n",
        "from pylab import rcParams\n",
        "\n",
        "from torch import nn, optim\n",
        "\n"
      ],
      "execution_count": 2,
      "outputs": []
    },
    {
      "cell_type": "code",
      "metadata": {
        "collapsed": true,
        "jupyter": {
          "source_hidden": false,
          "outputs_hidden": false
        },
        "nteract": {
          "transient": {
            "deleting": false
          }
        },
        "gather": {
          "logged": 1628695028251
        },
        "id": "WLK2sng5bf2O"
      },
      "source": [
        "from tensorflow.python.keras.preprocessing.sequence import pad_sequences\n",
        "from torch.utils.data import TensorDataset,RandomSampler,SequentialSampler\n",
        "from torch.utils.data import Dataset, DataLoader\n",
        "import torch.nn.functional as F"
      ],
      "execution_count": 3,
      "outputs": []
    },
    {
      "cell_type": "code",
      "metadata": {
        "colab": {
          "base_uri": "https://localhost:8080/"
        },
        "id": "qAICzZNo2Dyw",
        "gather": {
          "logged": 1628695031092
        },
        "outputId": "e605e93e-9ab7-4d9c-800d-a525b1befc37"
      },
      "source": [
        "%matplotlib inline\n",
        "%config InlineBackend.figure_format='retina'\n",
        "\n",
        "sns.set(style='whitegrid', palette='muted', font_scale=1.2)\n",
        "\n",
        "HAPPY_COLORS_PALETTE = [\"#01BEFE\", \"#FFDD00\", \"#FF7D00\", \"#FF006D\", \"#ADFF02\", \"#8F00FF\"]\n",
        "\n",
        "sns.set_palette(sns.color_palette(HAPPY_COLORS_PALETTE))\n",
        "\n",
        "rcParams['figure.figsize'] = 12, 8\n",
        "\n",
        "RANDOM_SEED = 42\n",
        "np.random.seed(RANDOM_SEED)\n",
        "torch.manual_seed(RANDOM_SEED)\n",
        "\n",
        "device = torch.device(\"cuda:0\" if torch.cuda.is_available() else \"cpu\")\n",
        "device"
      ],
      "execution_count": 4,
      "outputs": [
        {
          "output_type": "execute_result",
          "data": {
            "text/plain": [
              "device(type='cuda', index=0)"
            ]
          },
          "metadata": {},
          "execution_count": 4
        }
      ]
    },
    {
      "cell_type": "markdown",
      "metadata": {
        "id": "gC-WS1hYIxkr"
      },
      "source": [
        "### Data Preprocessing"
      ]
    },
    {
      "cell_type": "code",
      "metadata": {
        "colab": {
          "base_uri": "https://localhost:8080/",
          "height": 206
        },
        "id": "jJ83RaRG2Dv8",
        "gather": {
          "logged": 1628695033745
        },
        "outputId": "bf9cdf55-81bb-41b9-b1b1-aa0492a676f2"
      },
      "source": [
        "df = pd.read_csv('./drive/MyDrive/datasets/cleaned_ptacek_wtweets_wnotebook.csv')\n",
        "df.head()"
      ],
      "execution_count": 5,
      "outputs": [
        {
          "output_type": "execute_result",
          "data": {
            "text/html": [
              "<div>\n",
              "<style scoped>\n",
              "    .dataframe tbody tr th:only-of-type {\n",
              "        vertical-align: middle;\n",
              "    }\n",
              "\n",
              "    .dataframe tbody tr th {\n",
              "        vertical-align: top;\n",
              "    }\n",
              "\n",
              "    .dataframe thead th {\n",
              "        text-align: right;\n",
              "    }\n",
              "</style>\n",
              "<table border=\"1\" class=\"dataframe\">\n",
              "  <thead>\n",
              "    <tr style=\"text-align: right;\">\n",
              "      <th></th>\n",
              "      <th>Unnamed: 0</th>\n",
              "      <th>index</th>\n",
              "      <th>Tweet_id</th>\n",
              "      <th>Tweet</th>\n",
              "      <th>Label</th>\n",
              "    </tr>\n",
              "  </thead>\n",
              "  <tbody>\n",
              "    <tr>\n",
              "      <th>0</th>\n",
              "      <td>0</td>\n",
              "      <td>0</td>\n",
              "      <td>411348816583856129</td>\n",
              "      <td>peyton obviously cannot finish games he just t...</td>\n",
              "      <td>1</td>\n",
              "    </tr>\n",
              "    <tr>\n",
              "      <th>1</th>\n",
              "      <td>1</td>\n",
              "      <td>1</td>\n",
              "      <td>408111537011036160</td>\n",
              "      <td>well i would love to be sleeping right now but...</td>\n",
              "      <td>1</td>\n",
              "    </tr>\n",
              "    <tr>\n",
              "      <th>2</th>\n",
              "      <td>2</td>\n",
              "      <td>2</td>\n",
              "      <td>403282506230665217</td>\n",
              "      <td>my biggest executive decision today choosing b...</td>\n",
              "      <td>1</td>\n",
              "    </tr>\n",
              "    <tr>\n",
              "      <th>3</th>\n",
              "      <td>3</td>\n",
              "      <td>3</td>\n",
              "      <td>409720467662983168</td>\n",
              "      <td>the first quality opponent they played in 2 y...</td>\n",
              "      <td>1</td>\n",
              "    </tr>\n",
              "    <tr>\n",
              "      <th>4</th>\n",
              "      <td>4</td>\n",
              "      <td>4</td>\n",
              "      <td>403005765608554496</td>\n",
              "      <td>but do not you dare call it hate crimes  libe...</td>\n",
              "      <td>1</td>\n",
              "    </tr>\n",
              "  </tbody>\n",
              "</table>\n",
              "</div>"
            ],
            "text/plain": [
              "   Unnamed: 0  index  ...                                              Tweet Label\n",
              "0           0      0  ...  peyton obviously cannot finish games he just t...     1\n",
              "1           1      1  ...  well i would love to be sleeping right now but...     1\n",
              "2           2      2  ...  my biggest executive decision today choosing b...     1\n",
              "3           3      3  ...   the first quality opponent they played in 2 y...     1\n",
              "4           4      4  ...   but do not you dare call it hate crimes  libe...     1\n",
              "\n",
              "[5 rows x 5 columns]"
            ]
          },
          "metadata": {},
          "execution_count": 5
        }
      ]
    },
    {
      "cell_type": "code",
      "metadata": {
        "colab": {
          "base_uri": "https://localhost:8080/"
        },
        "id": "mcp8uRMP-FAb",
        "outputId": "2edf6a3f-92ef-4e15-cbf9-076e4913619f"
      },
      "source": [
        "!pip install demoji"
      ],
      "execution_count": 8,
      "outputs": [
        {
          "output_type": "stream",
          "name": "stdout",
          "text": [
            "Collecting demoji\n",
            "  Downloading demoji-1.1.0-py3-none-any.whl (42 kB)\n",
            "\u001b[?25l\r\u001b[K     |███████▋                        | 10 kB 154 kB/s eta 0:00:01\r\u001b[K     |███████████████▎                | 20 kB 301 kB/s eta 0:00:01\r\u001b[K     |███████████████████████         | 30 kB 438 kB/s eta 0:00:01\r\u001b[K     |██████████████████████████████▋ | 40 kB 571 kB/s eta 0:00:01\r\u001b[K     |████████████████████████████████| 42 kB 380 kB/s \n",
            "\u001b[?25hInstalling collected packages: demoji\n",
            "Successfully installed demoji-1.1.0\n"
          ]
        }
      ]
    },
    {
      "cell_type": "code",
      "metadata": {
        "id": "rUhdd3nWZcH6"
      },
      "source": [
        "import demoji\n",
        "def demoji_text(text):\n",
        "  d= demoji.findall(text)\n",
        "  return d"
      ],
      "execution_count": 6,
      "outputs": []
    },
    {
      "cell_type": "code",
      "metadata": {
        "id": "JeKqYLm5Zb9v"
      },
      "source": [
        "df['emoji_list'] = df['Tweet'].apply(demoji_text)"
      ],
      "execution_count": 7,
      "outputs": []
    },
    {
      "cell_type": "code",
      "metadata": {
        "id": "DyCF_AL9Zbyo"
      },
      "source": [
        "f= list(filter(None, df['emoji_list']))"
      ],
      "execution_count": 8,
      "outputs": []
    },
    {
      "cell_type": "code",
      "metadata": {
        "colab": {
          "base_uri": "https://localhost:8080/"
        },
        "id": "NRCFKpPlZbhF",
        "outputId": "eb8a0622-0761-40a2-bfb9-a58702145a03"
      },
      "source": [
        "print(f)"
      ],
      "execution_count": 9,
      "outputs": [
        {
          "output_type": "stream",
          "name": "stdout",
          "text": [
            "[{'👌': 'OK hand', '😏': 'smirking face'}, {'👍': 'thumbs up'}, {'😡': 'pouting face'}, {'😫': 'tired face', '🙈': 'see-no-evil monkey', '😍': 'smiling face with heart-eyes', '🔫': 'water pistol'}, {'😐': 'neutral face'}, {'😒': 'unamused face'}, {'👀': 'eyes', '😮': 'face with open mouth'}, {'😭': 'loudly crying face', '🔫': 'water pistol'}, {'👌': 'OK hand'}, {'😒': 'unamused face'}, {'👌': 'OK hand', '😳': 'flushed face'}, {'😣': 'persevering face'}, {'😒': 'unamused face'}, {'👌': 'OK hand'}, {'😒': 'unamused face'}, {'🙈': 'see-no-evil monkey'}, {'😒': 'unamused face'}, {'😊': 'smiling face with smiling eyes'}, {'👌': 'OK hand'}, {'😑': 'expressionless face'}, {'👍': 'thumbs up'}, {'🎉': 'party popper'}, {'😒': 'unamused face', '👏': 'clapping hands'}, {'😛': 'face with tongue'}, {'😒': 'unamused face'}, {'😻': 'smiling cat with heart-eyes'}, {'😑': 'expressionless face'}, {'😰': 'anxious face with sweat'}, {'😉': 'winking face'}, {'😳': 'flushed face'}, {'😭': 'loudly crying face'}, {'💁': 'person tipping hand'}, {'😤': 'face with steam from nose', '😡': 'pouting face'}, {'😒': 'unamused face'}, {'👏': 'clapping hands'}, {'☠': 'skull and crossbones'}, {'😒': 'unamused face'}, {'👏': 'clapping hands'}, {'😒': 'unamused face'}, {'😒': 'unamused face'}, {'💪': 'flexed biceps', '😒': 'unamused face'}, {'😳': 'flushed face'}, {'😂': 'face with tears of joy'}, {'😒': 'unamused face'}, {'😂': 'face with tears of joy'}, {'♥': 'heart suit'}, {'🌙': 'crescent moon', '😅': 'grinning face with sweat', '👌': 'OK hand'}, {'😠': 'angry face'}, {'❤️': 'red heart'}, {'😒': 'unamused face'}, {'😂': 'face with tears of joy'}, {'😭': 'loudly crying face'}, {'😉': 'winking face', '👌': 'OK hand', '✌️': 'victory hand', '👍': 'thumbs up'}, {'😂': 'face with tears of joy'}, {'😉': 'winking face'}, {'❄️': 'snowflake', '😒': 'unamused face'}, {'😂': 'face with tears of joy'}, {'😞': 'disappointed face'}, {'🙈': 'see-no-evil monkey', '💦': 'sweat droplets', '☔': 'umbrella with rain drops', '💖': 'sparkling heart'}, {'😭': 'loudly crying face'}, {'🐥': 'front-facing baby chick', '💁': 'person tipping hand', '✌️': 'victory hand', '🎀': 'ribbon'}, {'😀': 'grinning face'}, {'😉': 'winking face'}, {'😒': 'unamused face'}, {'😒': 'unamused face'}, {'😂': 'face with tears of joy', '🎶': 'musical notes', '😩': 'weary face'}, {'😘': 'face blowing a kiss'}, {'😂': 'face with tears of joy'}, {'😂': 'face with tears of joy'}, {'😠': 'angry face', '👊': 'oncoming fist'}, {'😂': 'face with tears of joy', '😹': 'cat with tears of joy'}, {'😍': 'smiling face with heart-eyes'}, {'😊': 'smiling face with smiling eyes'}, {'😕': 'confused face', '😑': 'expressionless face'}, {'👅': 'tongue', '💦': 'sweat droplets'}, {'😅': 'grinning face with sweat', '🔫': 'water pistol'}, {'😅': 'grinning face with sweat'}, {'😏': 'smirking face'}, {'😒': 'unamused face'}, {'👎': 'thumbs down'}, {'😒': 'unamused face', '😬': 'grimacing face'}, {'😂': 'face with tears of joy', '😉': 'winking face'}, {'😫': 'tired face'}, {'😂': 'face with tears of joy'}, {'😒': 'unamused face'}, {'😎': 'smiling face with sunglasses'}, {'😂': 'face with tears of joy'}, {'😑': 'expressionless face'}, {'😉': 'winking face'}, {'🎄': 'Christmas tree', '🎅': 'Santa Claus', '👱': 'person: blond hair'}, {'😒': 'unamused face'}, {'😒': 'unamused face'}, {'💅': 'nail polish', '💖': 'sparkling heart'}, {'❄': 'snowflake', '⛅': 'sun behind cloud'}, {'😒': 'unamused face'}, {'👍': 'thumbs up'}, {'😒': 'unamused face'}, {'😃': 'grinning face with big eyes', '🔫': 'water pistol'}, {'👌': 'OK hand'}, {'👌': 'OK hand'}, {'😔': 'pensive face'}, {'👌': 'OK hand'}, {'👌': 'OK hand'}, {'🍃': 'leaf fluttering in wind'}, {'😑': 'expressionless face'}, {'😒': 'unamused face'}, {'💁': 'person tipping hand'}, {'😔': 'pensive face'}, {'😒': 'unamused face'}, {'😅': 'grinning face with sweat', '😐': 'neutral face', '😑': 'expressionless face'}, {'😄': 'grinning face with smiling eyes'}, {'😊': 'smiling face with smiling eyes'}, {'☔': 'umbrella with rain drops'}, {'😘': 'face blowing a kiss', '✌': 'victory hand'}, {'🙊': 'speak-no-evil monkey'}, {'😷': 'face with medical mask', '😩': 'weary face', '👎': 'thumbs down'}, {'👋': 'waving hand'}, {'😁': 'beaming face with smiling eyes'}, {'😒': 'unamused face'}, {'☺': 'smiling face'}, {'😂': 'face with tears of joy'}, {'💁': 'person tipping hand'}, {'😂': 'face with tears of joy'}, {'😃': 'grinning face with big eyes', '☺️': 'smiling face'}, {'😏': 'smirking face'}, {'👊': 'oncoming fist', '😑': 'expressionless face'}, {'😂': 'face with tears of joy'}, {'😂': 'face with tears of joy'}, {'❄️': 'snowflake'}, {'😂': 'face with tears of joy'}, {'😁': 'beaming face with smiling eyes'}, {'😂': 'face with tears of joy'}, {'😒': 'unamused face'}, {'😏': 'smirking face'}, {'😒': 'unamused face', '😷': 'face with medical mask', '👎': 'thumbs down', '🎄': 'Christmas tree', '🎅': 'Santa Claus', '🎁': 'wrapped gift'}, {'😒': 'unamused face', '😠': 'angry face', '😑': 'expressionless face'}, {'😠': 'angry face', '😏': 'smirking face', '😞': 'disappointed face'}, {'😍': 'smiling face with heart-eyes', '😐': 'neutral face'}, {'😒': 'unamused face'}, {'😂': 'face with tears of joy'}, {'😒': 'unamused face', '😞': 'disappointed face'}, {'👍': 'thumbs up', '☺️': 'smiling face'}, {'😒': 'unamused face'}, {'🙌': 'raising hands'}, {'👌': 'OK hand', '👍': 'thumbs up'}, {'🏈': 'american football'}, {'😁': 'beaming face with smiling eyes'}, {'😠': 'angry face', '😎': 'smiling face with sunglasses'}, {'😒': 'unamused face', '😊': 'smiling face with smiling eyes'}, {'💀': 'skull', '😩': 'weary face', '😡': 'pouting face'}, {'😅': 'grinning face with sweat'}, {'😏': 'smirking face'}, {'😒': 'unamused face'}, {'😑': 'expressionless face'}, {'❄️': 'snowflake', '⛄': 'snowman without snow', '😏': 'smirking face'}, {'😉': 'winking face'}, {'😜': 'winking face with tongue', '😋': 'face savoring food', '😏': 'smirking face', '😁': 'beaming face with smiling eyes'}, {'🙈': 'see-no-evil monkey', '😭': 'loudly crying face', '💩': 'pile of poo'}, {'😂': 'face with tears of joy'}, {'❤️': 'red heart'}, {'😢': 'crying face'}, {'😫': 'tired face'}, {'👍': 'thumbs up'}, {'🙏': 'folded hands'}, {'😕': 'confused face'}, {'😑': 'expressionless face'}, {'😂': 'face with tears of joy'}, {'👌': 'OK hand'}, {'😐': 'neutral face', '😢': 'crying face', '😣': 'persevering face', '😒': 'unamused face', '😠': 'angry face'}, {'😑': 'expressionless face'}, {'👏': 'clapping hands'}, {'😉': 'winking face'}, {'😳': 'flushed face'}, {'🎉': 'party popper'}, {'😂': 'face with tears of joy'}, {'😒': 'unamused face'}, {'👌': 'OK hand'}, {'😲': 'astonished face', '💜': 'purple heart', '😑': 'expressionless face'}, {'😑': 'expressionless face'}, {'😩': 'weary face'}, {'😂': 'face with tears of joy'}, {'😂': 'face with tears of joy'}, {'😴': 'sleeping face', '😩': 'weary face', '😞': 'disappointed face'}, {'👈': 'backhand index pointing left', '🏃': 'person running'}, {'😛': 'face with tongue'}, {'😏': 'smirking face', '😄': 'grinning face with smiling eyes', '🐠': 'tropical fish'}, {'😏': 'smirking face'}, {'🌚': 'new moon face'}, {'😉': 'winking face', '😁': 'beaming face with smiling eyes'}, {'😒': 'unamused face'}, {'👌': 'OK hand'}, {'☺️': 'smiling face'}, {'😒': 'unamused face'}, {'😒': 'unamused face'}, {'👏': 'clapping hands'}, {'👋': 'waving hand', '👍': 'thumbs up'}, {'😒': 'unamused face'}, {'😊': 'smiling face with smiling eyes'}, {'😱': 'face screaming in fear'}, {'😖': 'confounded face'}, {'😥': 'sad but relieved face', '😰': 'anxious face with sweat', '😨': 'fearful face'}, {'😂': 'face with tears of joy', '🎄': 'Christmas tree', '👊': 'oncoming fist', '😐': 'neutral face'}, {'😂': 'face with tears of joy'}, {'😂': 'face with tears of joy'}, {'😑': 'expressionless face'}, {'💰': 'money bag', '😷': 'face with medical mask', '🔫': 'water pistol', '😢': 'crying face'}, {'😊': 'smiling face with smiling eyes'}, {'😂': 'face with tears of joy'}, {'💃': 'woman dancing', '👏': 'clapping hands'}, {'♥': 'heart suit'}, {'😒': 'unamused face', '😍': 'smiling face with heart-eyes'}, {'👌': 'OK hand', '👍': 'thumbs up', '😄': 'grinning face with smiling eyes'}, {'😒': 'unamused face'}, {'👌': 'OK hand', '😅': 'grinning face with sweat'}, {'😂': 'face with tears of joy'}, {'👏': 'clapping hands'}, {'😒': 'unamused face'}, {'👌': 'OK hand'}, {'😒': 'unamused face'}, {'💔': 'broken heart', '😩': 'weary face'}, {'😒': 'unamused face'}, {'😉': 'winking face'}, {'😒': 'unamused face'}, {'😑': 'expressionless face'}, {'😭': 'loudly crying face'}, {'😃': 'grinning face with big eyes'}, {'🌂': 'closed umbrella', '⚡': 'high voltage', '☔': 'umbrella with rain drops', '😔': 'pensive face', '❌': 'cross mark'}, {'😂': 'face with tears of joy'}, {'😒': 'unamused face', '😡': 'pouting face'}, {'💁': 'person tipping hand'}, {'😘': 'face blowing a kiss'}, {'😒': 'unamused face'}, {'☺️': 'smiling face'}, {'😒': 'unamused face'}, {'✋': 'raised hand'}, {'😜': 'winking face with tongue', '👎': 'thumbs down'}, {'😒': 'unamused face', '😣': 'persevering face'}, {'😁': 'beaming face with smiling eyes', '🔫': 'water pistol', '💥': 'collision'}, {'😊': 'smiling face with smiling eyes'}, {'😒': 'unamused face'}, {'🔫': 'water pistol', '😄': 'grinning face with smiling eyes'}, {'🔥': 'fire'}, {'😊': 'smiling face with smiling eyes'}, {'😑': 'expressionless face'}, {'😒': 'unamused face'}, {'😒': 'unamused face'}, {'😐': 'neutral face'}, {'😷': 'face with medical mask'}, {'😢': 'crying face'}, {'🎉': 'party popper', '🍸': 'cocktail glass'}, {'😔': 'pensive face', '😒': 'unamused face'}, {'👌': 'OK hand'}, {'😂': 'face with tears of joy', '💁': 'person tipping hand'}, {'😒': 'unamused face'}, {'😂': 'face with tears of joy'}, {'😒': 'unamused face'}, {'☺️': 'smiling face', '😍': 'smiling face with heart-eyes', '👌': 'OK hand'}, {'❄️': 'snowflake', '😷': 'face with medical mask', '😐': 'neutral face'}, {'😂': 'face with tears of joy'}, {'😏': 'smirking face', '😣': 'persevering face'}, {'👌': 'OK hand', '😡': 'pouting face'}, {'😐': 'neutral face'}, {'☺': 'smiling face'}, {'😩': 'weary face', '👎': 'thumbs down'}, {'😂': 'face with tears of joy'}, {'😁': 'beaming face with smiling eyes'}, {'💔': 'broken heart', '❤️': 'red heart'}, {'😒': 'unamused face'}, {'🙌': 'raising hands'}, {'😪': 'sleepy face'}, {'😊': 'smiling face with smiling eyes'}, {'😔': 'pensive face'}, {'🔫': 'water pistol'}, {'😥': 'sad but relieved face', '😱': 'face screaming in fear', '😑': 'expressionless face'}, {'😤': 'face with steam from nose'}, {'😒': 'unamused face', '😑': 'expressionless face'}, {'👌': 'OK hand'}, {'😒': 'unamused face'}, {'😂': 'face with tears of joy', '😆': 'grinning squinting face', '😭': 'loudly crying face'}, {'😂': 'face with tears of joy'}, {'😒': 'unamused face'}, {'😡': 'pouting face'}, {'😒': 'unamused face'}, {'😊': 'smiling face with smiling eyes'}, {'😄': 'grinning face with smiling eyes'}, {'😑': 'expressionless face'}, {'😯': 'hushed face', '😜': 'winking face with tongue'}, {'😹': 'cat with tears of joy'}, {'😂': 'face with tears of joy'}, {'💛': 'yellow heart', '❤️': 'red heart'}, {'😺': 'grinning cat'}, {'👍': 'thumbs up'}, {'👌': 'OK hand'}, {'👍': 'thumbs up'}, {'👿': 'angry face with horns', '😑': 'expressionless face'}, {'😂': 'face with tears of joy'}, {'😂': 'face with tears of joy'}, {'😏': 'smirking face'}, {'❄️': 'snowflake'}, {'👌': 'OK hand'}, {'🌴': 'palm tree', '👙': 'bikini'}, {'😂': 'face with tears of joy'}, {'😁': 'beaming face with smiling eyes'}, {'😊': 'smiling face with smiling eyes'}, {'😔': 'pensive face'}, {'😂': 'face with tears of joy', '💕': 'two hearts', '❤️': 'red heart'}, {'❤️': 'red heart'}, {'👌': 'OK hand', '😡': 'pouting face', '😑': 'expressionless face'}, {'😒': 'unamused face'}, {'😒': 'unamused face'}, {'😒': 'unamused face'}, {'😛': 'face with tongue'}, {'😠': 'angry face'}, {'🙈': 'see-no-evil monkey', '😒': 'unamused face', '👎': 'thumbs down'}, {'😉': 'winking face'}, {'❤️': 'red heart'}, {'😂': 'face with tears of joy'}, {'😶': 'face without mouth'}, {'👍': 'thumbs up', '😄': 'grinning face with smiling eyes'}, {'😑': 'expressionless face'}, {'😲': 'astonished face'}, {'😅': 'grinning face with sweat', '👎': 'thumbs down'}, {'😒': 'unamused face', '😭': 'loudly crying face'}, {'😰': 'anxious face with sweat', '😃': 'grinning face with big eyes'}, {'💁': 'person tipping hand'}, {'😄': 'grinning face with smiling eyes'}, {'😏': 'smirking face'}, {'😂': 'face with tears of joy'}, {'😁': 'beaming face with smiling eyes', '🔫': 'water pistol'}, {'😃': 'grinning face with big eyes'}, {'😒': 'unamused face'}, {'😠': 'angry face', '😡': 'pouting face'}, {'☝️': 'index pointing up'}, {'😷': 'face with medical mask'}, {'😒': 'unamused face'}, {'😳': 'flushed face', '😁': 'beaming face with smiling eyes', '🎀': 'ribbon'}, {'👊': 'oncoming fist'}, {'😒': 'unamused face'}, {'😭': 'loudly crying face', '😩': 'weary face'}, {'💩': 'pile of poo'}, {'😒': 'unamused face'}, {'😂': 'face with tears of joy'}, {'🙌': 'raising hands', '😒': 'unamused face'}, {'😂': 'face with tears of joy'}, {'😒': 'unamused face'}, {'👌': 'OK hand', '😊': 'smiling face with smiling eyes'}, {'😂': 'face with tears of joy', '😜': 'winking face with tongue'}, {'😀': 'grinning face'}, {'😒': 'unamused face'}, {'😑': 'expressionless face'}, {'👌': 'OK hand'}, {'👌': 'OK hand'}, {'😂': 'face with tears of joy'}, {'😙': 'kissing face with smiling eyes'}, {'😘': 'face blowing a kiss', '👑': 'crown', '💎': 'gem stone'}, {'😒': 'unamused face'}, {'😄': 'grinning face with smiling eyes', '🏃': 'person running', '😒': 'unamused face', '💨': 'dashing away', '🚶': 'person walking'}, {'💢': 'anger symbol', '👊': 'oncoming fist', '😑': 'expressionless face'}, {'😒': 'unamused face'}, {'😒': 'unamused face'}, {'😑': 'expressionless face'}, {'😬': 'grimacing face'}, {'😅': 'grinning face with sweat'}, {'😒': 'unamused face'}, {'😳': 'flushed face'}, {'👍': 'thumbs up'}, {'👍': 'thumbs up', '😶': 'face without mouth'}, {'😂': 'face with tears of joy'}, {'😂': 'face with tears of joy', '💁': 'person tipping hand'}, {'😒': 'unamused face'}, {'😒': 'unamused face'}, {'👌': 'OK hand', '🙆': 'person gesturing OK', '👍': 'thumbs up'}, {'🍻': 'clinking beer mugs'}, {'😱': 'face screaming in fear'}, {'🍭': 'lollipop', '🍬': 'candy', '🍪': 'cookie', '🍰': 'shortcake', '🍧': 'shaved ice'}, {'👌': 'OK hand'}, {'😂': 'face with tears of joy'}, {'❄️': 'snowflake', '👙': 'bikini'}, {'😍': 'smiling face with heart-eyes', '❤️': 'red heart'}, {'😆': 'grinning squinting face', '😃': 'grinning face with big eyes', '😱': 'face screaming in fear'}, {'😒': 'unamused face'}, {'❤️': 'red heart'}, {'😃': 'grinning face with big eyes'}, {'😱': 'face screaming in fear'}, {'👌': 'OK hand'}, {'😡': 'pouting face', '😞': 'disappointed face'}, {'😠': 'angry face'}, {'👍': 'thumbs up'}, {'😁': 'beaming face with smiling eyes'}, {'😒': 'unamused face'}, {'💁': 'person tipping hand', '❤': 'red heart'}, {'😒': 'unamused face'}, {'😂': 'face with tears of joy'}, {'😔': 'pensive face'}, {'😏': 'smirking face'}, {'✈️': 'airplane', '😡': 'pouting face'}, {'😉': 'winking face', '😰': 'anxious face with sweat', '💃': 'woman dancing', '😣': 'persevering face'}, {'👏': 'clapping hands'}, {'😒': 'unamused face'}, {'😄': 'grinning face with smiling eyes'}, {'😊': 'smiling face with smiling eyes'}, {'😒': 'unamused face'}, {'😰': 'anxious face with sweat', '😠': 'angry face', '😴': 'sleeping face'}, {'✊': 'raised fist'}, {'😑': 'expressionless face'}, {'😳': 'flushed face'}, {'😂': 'face with tears of joy', '👌': 'OK hand', '👏': 'clapping hands'}, {'😒': 'unamused face'}, {'🙈': 'see-no-evil monkey'}, {'😂': 'face with tears of joy'}, {'😒': 'unamused face'}, {'😒': 'unamused face'}, {'😒': 'unamused face'}, {'☺️': 'smiling face', '😄': 'grinning face with smiling eyes', '😆': 'grinning squinting face', '👍': 'thumbs up', '💜': 'purple heart', '💚': 'green heart', '😁': 'beaming face with smiling eyes'}, {'👌': 'OK hand'}, {'👍': 'thumbs up', '🙈': 'see-no-evil monkey'}, {'👌': 'OK hand'}, {'✌️': 'victory hand'}, {'😜': 'winking face with tongue', '😏': 'smirking face', '😁': 'beaming face with smiling eyes'}, {'😑': 'expressionless face'}, {'😑': 'expressionless face'}, {'😐': 'neutral face'}, {'😂': 'face with tears of joy', '😔': 'pensive face', '😒': 'unamused face'}, {'😴': 'sleeping face', '👍': 'thumbs up', '📚': 'books', '📖': 'open book'}, {'😂': 'face with tears of joy'}, {'😊': 'smiling face with smiling eyes'}, {'👍': 'thumbs up'}, {'👌': 'OK hand'}, {'😘': 'face blowing a kiss'}, {'😘': 'face blowing a kiss'}, {'😠': 'angry face'}, {'🙆': 'person gesturing OK'}, {'😕': 'confused face'}, {'😉': 'winking face', '😒': 'unamused face', '😠': 'angry face'}, {'😂': 'face with tears of joy', '👍': 'thumbs up', '😜': 'winking face with tongue'}, {'😒': 'unamused face'}, {'😉': 'winking face'}, {'😒': 'unamused face'}, {'😂': 'face with tears of joy'}, {'😊': 'smiling face with smiling eyes'}, {'😁': 'beaming face with smiling eyes'}, {'👌': 'OK hand'}, {'✨': 'sparkles'}, {'👀': 'eyes', '😒': 'unamused face', '😷': 'face with medical mask'}, {'😂': 'face with tears of joy'}, {'😠': 'angry face'}, {'😂': 'face with tears of joy'}, {'❤️': 'red heart'}, {'👎': 'thumbs down'}, {'😫': 'tired face'}, {'😒': 'unamused face'}, {'😻': 'smiling cat with heart-eyes', '🙌': 'raising hands'}, {'😂': 'face with tears of joy'}, {'😀': 'grinning face', '👍': 'thumbs up'}, {'💪': 'flexed biceps'}, {'🌅': 'sunrise'}, {'😝': 'squinting face with tongue'}, {'😄': 'grinning face with smiling eyes'}, {'👌': 'OK hand'}, {'😂': 'face with tears of joy', '🔫': 'water pistol'}, {'😄': 'grinning face with smiling eyes'}, {'😍': 'smiling face with heart-eyes', '♥️': 'heart suit'}, {'😒': 'unamused face'}, {'😆': 'grinning squinting face'}, {'👍': 'thumbs up'}, {'🙋': 'person raising hand'}, {'😘': 'face blowing a kiss', '😊': 'smiling face with smiling eyes'}, {'😂': 'face with tears of joy', '😒': 'unamused face'}, {'😠': 'angry face'}, {'😂': 'face with tears of joy', '😳': 'flushed face'}, {'😒': 'unamused face'}, {'🔥': 'fire'}, {'✌️': 'victory hand', '😄': 'grinning face with smiling eyes'}, {'👄': 'mouth'}, {'😂': 'face with tears of joy', '👊': 'oncoming fist', '😡': 'pouting face'}, {'🚫': 'prohibited', '☕': 'hot beverage', '😌': 'relieved face'}, {'😒': 'unamused face', '😤': 'face with steam from nose', '😡': 'pouting face'}, {'😉': 'winking face', '👌': 'OK hand'}, {'😒': 'unamused face'}, {'😁': 'beaming face with smiling eyes'}, {'😂': 'face with tears of joy'}, {'😤': 'face with steam from nose', '😑': 'expressionless face'}, {'👊': 'oncoming fist', '👎': 'thumbs down', '😡': 'pouting face'}, {'😹': 'cat with tears of joy'}, {'😑': 'expressionless face'}, {'😏': 'smirking face'}, {'🎉': 'party popper', '🎈': 'balloon', '😄': 'grinning face with smiling eyes', '🎊': 'confetti ball'}, {'⛄': 'snowman without snow', '☀': 'sun'}, {'😵': 'knocked-out face', '🔫': 'water pistol'}, {'😴': 'sleeping face'}, {'👌': 'OK hand'}, {'👌': 'OK hand'}, {'😔': 'pensive face'}, {'😑': 'expressionless face'}, {'😒': 'unamused face'}, {'👀': 'eyes'}, {'😩': 'weary face', '🔫': 'water pistol'}, {'😍': 'smiling face with heart-eyes'}, {'😒': 'unamused face'}, {'😂': 'face with tears of joy'}, {'👉': 'backhand index pointing right'}, {'😡': 'pouting face'}, {'👆': 'backhand index pointing up', '👌': 'OK hand', '✌️': 'victory hand'}, {'😞': 'disappointed face'}, {'😉': 'winking face'}, {'🏈': 'american football'}, {'👌': 'OK hand', '😒': 'unamused face'}, {'😁': 'beaming face with smiling eyes'}, {'👌': 'OK hand'}, {'😒': 'unamused face'}, {'😊': 'smiling face with smiling eyes'}, {'😂': 'face with tears of joy'}, {'♥': 'heart suit'}, {'😂': 'face with tears of joy'}, {'😭': 'loudly crying face', '😌': 'relieved face'}, {'😒': 'unamused face'}, {'😂': 'face with tears of joy'}, {'😑': 'expressionless face'}, {'😒': 'unamused face', '😑': 'expressionless face'}, {'😀': 'grinning face'}, {'😂': 'face with tears of joy'}, {'😒': 'unamused face'}, {'😶': 'face without mouth'}, {'😆': 'grinning squinting face', '👍': 'thumbs up'}, {'⚽': 'soccer ball'}, {'😒': 'unamused face', '😳': 'flushed face'}, {'👋': 'waving hand'}, {'😑': 'expressionless face'}, {'😒': 'unamused face'}, {'👍': 'thumbs up'}, {'😂': 'face with tears of joy'}, {'😁': 'beaming face with smiling eyes', '💯': 'hundred points'}, {'👍': 'thumbs up'}, {'👌': 'OK hand', '👍': 'thumbs up'}, {'😷': 'face with medical mask'}, {'😒': 'unamused face'}, {'😂': 'face with tears of joy', '😏': 'smirking face'}, {'😍': 'smiling face with heart-eyes'}, {'😩': 'weary face'}, {'😂': 'face with tears of joy', '😍': 'smiling face with heart-eyes', '💋': 'kiss mark'}, {'😇': 'smiling face with halo'}, {'😄': 'grinning face with smiling eyes'}, {'😒': 'unamused face'}, {'😒': 'unamused face'}, {'😠': 'angry face', '😊': 'smiling face with smiling eyes', '😡': 'pouting face'}, {'😊': 'smiling face with smiling eyes'}, {'🙈': 'see-no-evil monkey'}, {'😡': 'pouting face'}, {'☺️': 'smiling face'}, {'😠': 'angry face'}, {'😠': 'angry face', '😤': 'face with steam from nose', '😡': 'pouting face', '👎': 'thumbs down'}, {'😒': 'unamused face'}, {'😞': 'disappointed face'}, {'✋': 'raised hand', '🙅': 'person gesturing NO'}, {'😅': 'grinning face with sweat'}, {'😂': 'face with tears of joy'}, {'❄️': 'snowflake'}, {'😒': 'unamused face'}, {'😘': 'face blowing a kiss'}, {'😡': 'pouting face'}, {'😐': 'neutral face'}, {'😊': 'smiling face with smiling eyes'}, {'😁': 'beaming face with smiling eyes'}, {'👌': 'OK hand', '😬': 'grimacing face'}, {'💋': 'kiss mark', '❤️': 'red heart', '💖': 'sparkling heart', '💗': 'growing heart', '😘': 'face blowing a kiss', '💞': 'revolving hearts'}, {'❄️': 'snowflake', '😍': 'smiling face with heart-eyes'}, {'😒': 'unamused face'}, {'😐': 'neutral face', '☀️': 'sun', '⛄': 'snowman without snow', '🌀': 'cyclone', '❄️': 'snowflake', '❌': 'cross mark'}, {'🏊': 'person swimming', '👌': 'OK hand', '💧': 'droplet'}, {'😑': 'expressionless face'}, {'👍': 'thumbs up'}, {'🙈': 'see-no-evil monkey', '👀': 'eyes'}, {'😍': 'smiling face with heart-eyes'}, {'😂': 'face with tears of joy', '🙈': 'see-no-evil monkey', '😍': 'smiling face with heart-eyes'}, {'😳': 'flushed face', '😱': 'face screaming in fear'}, {'😆': 'grinning squinting face'}, {'👌': 'OK hand', '😐': 'neutral face'}, {'🍗': 'poultry leg'}, {'❗': 'red exclamation mark'}, {'✊': 'raised fist', '💦': 'sweat droplets'}, {'❄️': 'snowflake', '⛄': 'snowman without snow'}, {'😒': 'unamused face'}, {'💁': 'person tipping hand', '😒': 'unamused face'}, {'😊': 'smiling face with smiling eyes'}, {'😃': 'grinning face with big eyes'}, {'👍': 'thumbs up'}, {'😷': 'face with medical mask', '😤': 'face with steam from nose'}, {'😒': 'unamused face', '😠': 'angry face'}, {'😐': 'neutral face'}, {'😍': 'smiling face with heart-eyes'}, {'😝': 'squinting face with tongue', '😂': 'face with tears of joy', '😏': 'smirking face'}, {'😒': 'unamused face'}, {'😒': 'unamused face'}, {'😂': 'face with tears of joy', '💁': 'person tipping hand', '😁': 'beaming face with smiling eyes'}, {'😂': 'face with tears of joy', '💜': 'purple heart'}, {'😑': 'expressionless face'}, {'😑': 'expressionless face'}, {'😂': 'face with tears of joy'}, {'😂': 'face with tears of joy'}, {'😒': 'unamused face'}, {'😔': 'pensive face'}, {'😕': 'confused face'}, {'😒': 'unamused face'}, {'☁️': 'cloud', '☀️': 'sun', '⛅': 'sun behind cloud', '⚡': 'high voltage', '☔': 'umbrella with rain drops', '❄️': 'snowflake'}, {'😩': 'weary face', '😫': 'tired face', '😖': 'confounded face'}, {'👍': 'thumbs up'}, {'👌': 'OK hand'}, {'👎': 'thumbs down'}, {'😁': 'beaming face with smiling eyes'}, {'😄': 'grinning face with smiling eyes'}, {'😂': 'face with tears of joy'}, {'😔': 'pensive face', '😒': 'unamused face'}, {'😨': 'fearful face', '😩': 'weary face', '😡': 'pouting face', '😣': 'persevering face'}, {'👌': 'OK hand'}, {'😭': 'loudly crying face'}, {'❄️': 'snowflake'}, {'☺️': 'smiling face'}, {'😒': 'unamused face'}, {'☕': 'hot beverage', '🎄': 'Christmas tree', '💻': 'laptop'}, {'😡': 'pouting face', '😑': 'expressionless face'}, {'😬': 'grimacing face'}, {'😔': 'pensive face'}, {'✌️': 'victory hand'}, {'😜': 'winking face with tongue'}, {'😒': 'unamused face'}, {'😵': 'knocked-out face'}, {'🐤': 'baby chick'}, {'😐': 'neutral face', '😡': 'pouting face', '😕': 'confused face', '😑': 'expressionless face'}, {'☺️': 'smiling face'}, {'😀': 'grinning face'}, {'🚔': 'oncoming police car', '🚨': 'police car light'}, {'😂': 'face with tears of joy'}, {'😂': 'face with tears of joy'}, {'👌': 'OK hand'}, {'😂': 'face with tears of joy', '😊': 'smiling face with smiling eyes'}, {'👎': 'thumbs down', '😐': 'neutral face'}, {'😂': 'face with tears of joy'}, {'😒': 'unamused face'}, {'😂': 'face with tears of joy'}, {'😀': 'grinning face'}, {'👌': 'OK hand'}, {'👼': 'baby angel'}, {'😒': 'unamused face'}, {'😂': 'face with tears of joy'}, {'😟': 'worried face', '😐': 'neutral face', '😑': 'expressionless face'}, {'😪': 'sleepy face'}, {'😁': 'beaming face with smiling eyes'}, {'😒': 'unamused face'}, {'😒': 'unamused face'}, {'😏': 'smirking face'}, {'🚬': 'cigarette'}, {'👍': 'thumbs up', '😁': 'beaming face with smiling eyes'}, {'🚨': 'police car light', '😑': 'expressionless face'}, {'😱': 'face screaming in fear'}, {'👶': 'baby', '👎': 'thumbs down'}, {'🎁': 'wrapped gift', '😍': 'smiling face with heart-eyes'}, {'❤️': 'red heart'}, {'😳': 'flushed face'}, {'💪': 'flexed biceps'}, {'👌': 'OK hand', '😘': 'face blowing a kiss'}, {'❄️': 'snowflake', '😒': 'unamused face', '🔫': 'water pistol'}, {'😡': 'pouting face'}, {'😒': 'unamused face'}, {'😂': 'face with tears of joy'}, {'💤': 'zzz', '😴': 'sleeping face'}, {'🙏': 'folded hands', '❤️': 'red heart'}, {'😂': 'face with tears of joy'}, {'👍': 'thumbs up'}, {'😋': 'face savoring food'}, {'👍': 'thumbs up'}, {'😑': 'expressionless face'}, {'👌': 'OK hand', '😕': 'confused face'}, {'👌': 'OK hand'}, {'👍': 'thumbs up'}, {'😅': 'grinning face with sweat'}, {'😩': 'weary face'}, {'😒': 'unamused face'}, {'😅': 'grinning face with sweat'}, {'🍺': 'beer mug', '😱': 'face screaming in fear', '😯': 'hushed face', '🎊': 'confetti ball', '🍻': 'clinking beer mugs', '🎉': 'party popper'}, {'👌': 'OK hand'}, {'😃': 'grinning face with big eyes'}, {'😁': 'beaming face with smiling eyes'}, {'😔': 'pensive face', '😠': 'angry face'}, {'👌': 'OK hand', '😒': 'unamused face'}, {'😳': 'flushed face'}, {'😒': 'unamused face'}, {'🙊': 'speak-no-evil monkey'}, {'😂': 'face with tears of joy'}, {'😑': 'expressionless face'}, {'💁': 'person tipping hand', '💕': 'two hearts', '😇': 'smiling face with halo'}, {'😁': 'beaming face with smiling eyes'}, {'👍': 'thumbs up'}, {'😔': 'pensive face'}, {'😂': 'face with tears of joy'}, {'😒': 'unamused face'}, {'☔': 'umbrella with rain drops'}, {'😱': 'face screaming in fear'}, {'😂': 'face with tears of joy'}, {'😁': 'beaming face with smiling eyes'}, {'😂': 'face with tears of joy'}, {'😒': 'unamused face'}, {'😕': 'confused face'}, {'😘': 'face blowing a kiss'}, {'😂': 'face with tears of joy'}, {'😔': 'pensive face'}, {'🙌': 'raising hands', '😒': 'unamused face'}, {'😂': 'face with tears of joy', '💋': 'kiss mark', '🎀': 'ribbon', '💄': 'lipstick', '😉': 'winking face'}, {'😠': 'angry face'}, {'😃': 'grinning face with big eyes'}, {'😒': 'unamused face'}, {'💁': 'person tipping hand'}, {'😕': 'confused face'}, {'👌': 'OK hand'}, {'😥': 'sad but relieved face', '🚨': 'police car light'}, {'😑': 'expressionless face'}, {'😂': 'face with tears of joy', '😭': 'loudly crying face'}, {'😄': 'grinning face with smiling eyes'}, {'😫': 'tired face', '😩': 'weary face', '😤': 'face with steam from nose'}, {'👌': 'OK hand'}, {'😆': 'grinning squinting face'}, {'❄️': 'snowflake', '😒': 'unamused face'}, {'🙊': 'speak-no-evil monkey'}, {'😁': 'beaming face with smiling eyes'}, {'😒': 'unamused face'}, {'😒': 'unamused face'}, {'😔': 'pensive face'}, {'🙉': 'hear-no-evil monkey'}, {'😂': 'face with tears of joy'}, {'💁': 'person tipping hand'}, {'😏': 'smirking face'}, {'😒': 'unamused face'}, {'🙆': 'person gesturing OK', '👏': 'clapping hands'}, {'😒': 'unamused face'}, {'😂': 'face with tears of joy'}, {'😒': 'unamused face'}, {'☀️': 'sun', '💛': 'yellow heart', '😊': 'smiling face with smiling eyes'}, {'😂': 'face with tears of joy'}, {'✌': 'victory hand'}, {'😔': 'pensive face'}, {'👌': 'OK hand'}, {'😒': 'unamused face'}, {'😭': 'loudly crying face'}, {'♥': 'heart suit'}, {'😒': 'unamused face'}, {'👌': 'OK hand'}, {'😂': 'face with tears of joy'}, {'😒': 'unamused face'}, {'😒': 'unamused face'}, {'😒': 'unamused face'}, {'👌': 'OK hand'}, {'😒': 'unamused face'}, {'😏': 'smirking face'}, {'😒': 'unamused face'}, {'🎉': 'party popper', '🎊': 'confetti ball'}, {'😂': 'face with tears of joy'}, {'😅': 'grinning face with sweat'}, {'😑': 'expressionless face'}, {'👎': 'thumbs down'}, {'🎁': 'wrapped gift'}, {'😂': 'face with tears of joy'}, {'😑': 'expressionless face'}, {'✌': 'victory hand', '😁': 'beaming face with smiling eyes'}, {'😊': 'smiling face with smiling eyes'}, {'😑': 'expressionless face'}, {'💕': 'two hearts', '😘': 'face blowing a kiss'}, {'👌': 'OK hand'}, {'😒': 'unamused face', '😁': 'beaming face with smiling eyes'}, {'😄': 'grinning face with smiling eyes'}, {'💁': 'person tipping hand'}, {'👎': 'thumbs down'}, {'😒': 'unamused face', '😁': 'beaming face with smiling eyes'}, {'🎉': 'party popper', '👏': 'clapping hands'}, {'✏': 'pencil', '📚': 'books', '📖': 'open book'}, {'😅': 'grinning face with sweat', '😬': 'grimacing face'}, {'👍': 'thumbs up', '😊': 'smiling face with smiling eyes', '📚': 'books'}, {'😡': 'pouting face'}, {'👌': 'OK hand'}, {'😍': 'smiling face with heart-eyes'}, {'😉': 'winking face'}, {'😘': 'face blowing a kiss'}, {'⚡': 'high voltage', '☔': 'umbrella with rain drops'}, {'😂': 'face with tears of joy'}, {'☺️': 'smiling face'}, {'😠': 'angry face', '😒': 'unamused face'}, {'👏': 'clapping hands'}, {'💪': 'flexed biceps', '😢': 'crying face'}, {'😅': 'grinning face with sweat'}, {'🎹': 'musical keyboard', '📯': 'postal horn', '🎻': 'violin', '🎺': 'trumpet', '🎵': 'musical note', '🎸': 'guitar', '🎼': 'musical score', '🎶': 'musical notes', '🎷': 'saxophone'}, {'👋': 'waving hand'}, {'😘': 'face blowing a kiss', '❤': 'red heart'}, {'😑': 'expressionless face'}, {'🙈': 'see-no-evil monkey'}, {'💸': 'money with wings', '😔': 'pensive face'}, {'😅': 'grinning face with sweat'}, {'🎉': 'party popper', '😜': 'winking face with tongue'}, {'❤️': 'red heart'}, {'😆': 'grinning squinting face'}, {'💊': 'pill', '💉': 'syringe'}, {'🙈': 'see-no-evil monkey'}, {'😤': 'face with steam from nose'}, {'👏': 'clapping hands'}, {'😒': 'unamused face'}, {'😩': 'weary face'}, {'😷': 'face with medical mask'}, {'😔': 'pensive face'}, {'😯': 'hushed face', '😊': 'smiling face with smiling eyes'}, {'😒': 'unamused face'}, {'🙅': 'person gesturing NO'}, {'✌️': 'victory hand', '💀': 'skull'}, {'😊': 'smiling face with smiling eyes'}, {'😅': 'grinning face with sweat', '😭': 'loudly crying face', '😢': 'crying face'}, {'😔': 'pensive face', '👎': 'thumbs down'}, {'😊': 'smiling face with smiling eyes'}, {'😂': 'face with tears of joy'}, {'😏': 'smirking face'}, {'😉': 'winking face'}, {'😊': 'smiling face with smiling eyes'}, {'🐟': 'fish', '🐬': 'dolphin', '🐳': 'spouting whale', '🐠': 'tropical fish'}, {'😢': 'crying face'}, {'😁': 'beaming face with smiling eyes'}, {'💔': 'broken heart'}, {'🌵': 'cactus'}, {'😂': 'face with tears of joy'}, {'🍦': 'soft ice cream', '🍗': 'poultry leg', '🍟': 'french fries', '🍖': 'meat on bone', '🍨': 'ice cream', '🍩': 'doughnut', '🍝': 'spaghetti', '🍔': 'hamburger', '🍤': 'fried shrimp', '🎂': 'birthday cake', '🍳': 'cooking', '🍛': 'curry rice', '🍫': 'chocolate bar', '🍕': 'pizza', '🍧': 'shaved ice'}, {'😕': 'confused face'}, {'😬': 'grimacing face'}, {'😂': 'face with tears of joy'}, {'😧': 'anguished face'}, {'😩': 'weary face'}, {'😂': 'face with tears of joy'}, {'😝': 'squinting face with tongue'}, {'😒': 'unamused face'}, {'😍': 'smiling face with heart-eyes'}, {'🍁': 'maple leaf', '👃': 'nose', '💚': 'green heart'}, {'😂': 'face with tears of joy'}, {'😊': 'smiling face with smiling eyes'}, {'😴': 'sleeping face'}, {'❄️': 'snowflake', '⛄': 'snowman without snow'}, {'👌': 'OK hand', '😃': 'grinning face with big eyes'}, {'😂': 'face with tears of joy'}, {'😂': 'face with tears of joy'}, {'📑': 'bookmark tabs', '😒': 'unamused face', '💻': 'laptop'}, {'😊': 'smiling face with smiling eyes'}, {'😒': 'unamused face', '🐛': 'bug'}, {'🔫': 'water pistol', '😑': 'expressionless face'}, {'😂': 'face with tears of joy'}, {'😂': 'face with tears of joy'}, {'😑': 'expressionless face'}, {'👍': 'thumbs up'}, {'😀': 'grinning face', '👍': 'thumbs up'}, {'💖': 'sparkling heart'}, {'👌': 'OK hand', '🙌': 'raising hands', '👏': 'clapping hands'}, {'😒': 'unamused face'}, {'👏': 'clapping hands'}, {'😒': 'unamused face', '😠': 'angry face'}, {'✌️': 'victory hand'}, {'👍': 'thumbs up'}, {'😉': 'winking face'}, {'😱': 'face screaming in fear'}, {'😈': 'smiling face with horns', '😂': 'face with tears of joy', '😎': 'smiling face with sunglasses'}, {'😒': 'unamused face'}, {'💯': 'hundred points'}, {'😁': 'beaming face with smiling eyes'}, {'😑': 'expressionless face'}, {'🙊': 'speak-no-evil monkey'}, {'😳': 'flushed face'}, {'👿': 'angry face with horns'}, {'😊': 'smiling face with smiling eyes'}, {'🌙': 'crescent moon'}, {'😒': 'unamused face'}, {'😭': 'loudly crying face'}, {'😂': 'face with tears of joy', '👏': 'clapping hands'}, {'😂': 'face with tears of joy', '😭': 'loudly crying face'}, {'👀': 'eyes'}, {'😉': 'winking face'}, {'😴': 'sleeping face'}, {'😝': 'squinting face with tongue', '😏': 'smirking face', '😁': 'beaming face with smiling eyes', '😌': 'relieved face'}, {'😒': 'unamused face'}, {'👌': 'OK hand', '👍': 'thumbs up', '😄': 'grinning face with smiling eyes'}, {'👌': 'OK hand'}, {'😂': 'face with tears of joy'}, {'😊': 'smiling face with smiling eyes'}, {'😑': 'expressionless face'}, {'😂': 'face with tears of joy', '😘': 'face blowing a kiss'}, {'👍': 'thumbs up', '😑': 'expressionless face'}, {'😒': 'unamused face'}, {'😕': 'confused face'}, {'🔫': 'water pistol', '😑': 'expressionless face'}, {'🍺': 'beer mug'}, {'😉': 'winking face'}, {'😑': 'expressionless face'}, {'😍': 'smiling face with heart-eyes'}, {'😭': 'loudly crying face', '👊': 'oncoming fist'}, {'😂': 'face with tears of joy', '😭': 'loudly crying face'}, {'😑': 'expressionless face'}, {'😒': 'unamused face', '😄': 'grinning face with smiling eyes'}, {'🙌': 'raising hands'}, {'😔': 'pensive face'}, {'👍': 'thumbs up'}, {'😂': 'face with tears of joy'}, {'😎': 'smiling face with sunglasses'}, {'👌': 'OK hand'}, {'😂': 'face with tears of joy', '🙌': 'raising hands'}, {'👍': 'thumbs up'}, {'👍': 'thumbs up', '😒': 'unamused face', '😃': 'grinning face with big eyes'}, {'😜': 'winking face with tongue'}, {'😳': 'flushed face'}, {'😒': 'unamused face'}, {'😒': 'unamused face'}, {'😔': 'pensive face'}, {'😒': 'unamused face'}, {'🙏': 'folded hands'}, {'👍': 'thumbs up'}, {'😩': 'weary face', '👎': 'thumbs down'}, {'😜': 'winking face with tongue'}, {'🙌': 'raising hands'}, {'😂': 'face with tears of joy', '👌': 'OK hand'}, {'😔': 'pensive face'}, {'👍': 'thumbs up'}, {'😔': 'pensive face'}, {'😃': 'grinning face with big eyes'}, {'😂': 'face with tears of joy'}, {'😑': 'expressionless face'}, {'😄': 'grinning face with smiling eyes'}, {'😐': 'neutral face'}, {'😌': 'relieved face'}, {'☺️': 'smiling face'}, {'❤️': 'red heart'}, {'👍': 'thumbs up'}, {'😊': 'smiling face with smiling eyes'}, {'😒': 'unamused face', '👎': 'thumbs down'}, {'😒': 'unamused face'}, {'👀': 'eyes', '🌀': 'cyclone'}, {'😑': 'expressionless face'}, {'👌': 'OK hand'}, {'😊': 'smiling face with smiling eyes'}, {'😒': 'unamused face'}, {'😂': 'face with tears of joy'}, {'💔': 'broken heart'}, {'👾': 'alien monster'}, {'😂': 'face with tears of joy'}, {'😂': 'face with tears of joy', '😌': 'relieved face'}, {'💁': 'person tipping hand'}, {'💁': 'person tipping hand', '😁': 'beaming face with smiling eyes', '😄': 'grinning face with smiling eyes'}, {'👍': 'thumbs up'}, {'😒': 'unamused face', '😑': 'expressionless face'}, {'😅': 'grinning face with sweat'}, {'😑': 'expressionless face'}, {'💩': 'pile of poo'}, {'👌': 'OK hand'}, {'😄': 'grinning face with smiling eyes'}, {'😊': 'smiling face with smiling eyes'}, {'💁': 'person tipping hand'}, {'😎': 'smiling face with sunglasses'}, {'😑': 'expressionless face'}, {'😅': 'grinning face with sweat'}, {'😍': 'smiling face with heart-eyes'}, {'😳': 'flushed face'}, {'💩': 'pile of poo'}, {'♥': 'heart suit'}, {'💁': 'person tipping hand'}, {'♥': 'heart suit'}, {'☕': 'hot beverage', '🍩': 'doughnut'}, {'♥': 'heart suit'}, {'🍀': 'four leaf clover', '💪': 'flexed biceps', '💎': 'gem stone'}, {'😏': 'smirking face'}, {'🙌': 'raising hands'}, {'♥': 'heart suit'}, {'😒': 'unamused face'}, {'😃': 'grinning face with big eyes'}, {'😛': 'face with tongue'}, {'🏥': 'hospital', '💊': 'pill', '🐾': 'paw prints', '🎎': 'Japanese dolls', '💣': 'bomb', '📱': 'mobile phone'}, {'♥': 'heart suit'}, {'😂': 'face with tears of joy'}, {'🙆': 'person gesturing OK'}, {'💯': 'hundred points'}, {'👭': 'women holding hands', '😴': 'sleeping face'}, {'☺': 'smiling face', '😚': 'kissing face with closed eyes', '♥': 'heart suit'}, {'🎄': 'Christmas tree', '😍': 'smiling face with heart-eyes'}, {'😘': 'face blowing a kiss'}, {'😉': 'winking face', '❤': 'red heart'}, {'♥': 'heart suit'}, {'😂': 'face with tears of joy'}, {'™': 'trade mark'}, {'♥': 'heart suit'}, {'😬': 'grimacing face'}, {'😂': 'face with tears of joy', '👌': 'OK hand', '🍆': 'eggplant', '🍅': 'tomato', '🍠': 'roasted sweet potato', '😃': 'grinning face with big eyes', '🍲': 'pot of food', '🍍': 'pineapple'}, {'💃': 'woman dancing'}, {'😳': 'flushed face', '🕥': 'ten-thirty'}, {'👌': 'OK hand'}, {'♥': 'heart suit'}, {'☹': 'frowning face'}, {'🌂': 'closed umbrella', '😊': 'smiling face with smiling eyes', '👠': 'high-heeled shoe', '💄': 'lipstick'}, {'😘': 'face blowing a kiss', '🎀': 'ribbon'}, {'👊': 'oncoming fist', '😎': 'smiling face with sunglasses'}, {'😂': 'face with tears of joy'}, {'❤️': 'red heart'}, {'🎉': 'party popper', '🙋': 'person raising hand', '🎅': 'Santa Claus', '🎄': 'Christmas tree'}, {'❤️': 'red heart'}, {'😢': 'crying face'}, {'😂': 'face with tears of joy'}, {'😠': 'angry face'}, {'😂': 'face with tears of joy', '😆': 'grinning squinting face', '😊': 'smiling face with smiling eyes'}, {'©': 'copyright'}, {'💕': 'two hearts'}, {'😅': 'grinning face with sweat'}, {'♥': 'heart suit'}, {'♥': 'heart suit'}, {'🌍': 'globe showing Europe-Africa', '🌏': 'globe showing Asia-Australia'}, {'🎅': 'Santa Claus', '🎄': 'Christmas tree'}, {'😂': 'face with tears of joy', '😛': 'face with tongue'}, {'😂': 'face with tears of joy'}, {'💳': 'credit card'}, {'💕': 'two hearts', '😍': 'smiling face with heart-eyes'}, {'♥': 'heart suit'}, {'❤️': 'red heart'}, {'😔': 'pensive face', '😳': 'flushed face'}, {'😉': 'winking face', '❤': 'red heart'}, {'😁': 'beaming face with smiling eyes'}, {'🙈': 'see-no-evil monkey'}, {'😜': 'winking face with tongue', '😘': 'face blowing a kiss'}, {'❤️': 'red heart'}, {'😡': 'pouting face', '😱': 'face screaming in fear'}, {'🌎': 'globe showing Americas'}, {'👭': 'women holding hands', '🍹': 'tropical drink', '🍸': 'cocktail glass', '🍷': 'wine glass'}, {'❤': 'red heart'}, {'❤️': 'red heart'}, {'🙈': 'see-no-evil monkey'}, {'❤️': 'red heart'}, {'♥': 'heart suit'}, {'😂': 'face with tears of joy', '👌': 'OK hand'}, {'♥': 'heart suit'}, {'💤': 'zzz', '😴': 'sleeping face', '😒': 'unamused face'}, {'❤️': 'red heart'}, {'👍': 'thumbs up', '❤️': 'red heart'}, {'🏈': 'american football'}, {'❤️': 'red heart'}, {'✖️': 'multiply', '😌': 'relieved face'}, {'®': 'registered'}, {'👏': 'clapping hands'}, {'❤️': 'red heart', '😞': 'disappointed face'}, {'👍': 'thumbs up', '😎': 'smiling face with sunglasses'}, {'©': 'copyright'}, {'😉': 'winking face', '❤': 'red heart'}, {'😁': 'beaming face with smiling eyes', '💚': 'green heart'}, {'😂': 'face with tears of joy', '👌': 'OK hand'}, {'😭': 'loudly crying face'}, {'📖': 'open book'}, {'🎭': 'performing arts'}, {'😂': 'face with tears of joy', '👌': 'OK hand', '😳': 'flushed face'}, {'😔': 'pensive face'}, {'😄': 'grinning face with smiling eyes'}, {'😎': 'smiling face with sunglasses'}, {'👍': 'thumbs up', '😍': 'smiling face with heart-eyes'}, {'😉': 'winking face', '❤': 'red heart'}, {'💁': 'person tipping hand'}, {'😓': 'downcast face with sweat'}, {'🌞': 'sun with face', '💕': 'two hearts'}, {'😡': 'pouting face'}, {'😂': 'face with tears of joy'}, {'😒': 'unamused face'}, {'🙆': 'person gesturing OK'}, {'😂': 'face with tears of joy', '🙈': 'see-no-evil monkey'}, {'😔': 'pensive face'}, {'♥': 'heart suit'}, {'😁': 'beaming face with smiling eyes'}, {'😂': 'face with tears of joy', '👬': 'men holding hands', '🔫': 'water pistol', '👩': 'woman', '🙆': 'person gesturing OK'}, {'❄': 'snowflake', '☃': 'snowman'}, {'🌙': 'crescent moon', '✨': 'sparkles'}, {'😉': 'winking face', '❤': 'red heart'}, {'👊': 'oncoming fist', '😡': 'pouting face'}, {'😉': 'winking face', '❤': 'red heart'}, {'❤️': 'red heart'}, {'💔': 'broken heart'}, {'💪': 'flexed biceps'}, {'❤': 'red heart'}, {'😂': 'face with tears of joy'}, {'😚': 'kissing face with closed eyes'}, {'❤️': 'red heart'}, {'❤️': 'red heart', '🎄': 'Christmas tree', '💜': 'purple heart', '❄️': 'snowflake', '🎅': 'Santa Claus'}, {'🐼': 'panda', '😊': 'smiling face with smiling eyes', '🍵': 'teacup without handle', '📖': 'open book', '👣': 'footprints'}, {'♥': 'heart suit'}, {'😭': 'loudly crying face'}, {'😭': 'loudly crying face'}, {'☺': 'smiling face', '😭': 'loudly crying face'}, {'😊': 'smiling face with smiling eyes', '🎆': 'fireworks', '🎄': 'Christmas tree', '🎊': 'confetti ball', '🎅': 'Santa Claus', '🎉': 'party popper', '🎁': 'wrapped gift'}, {'😒': 'unamused face'}, {'😭': 'loudly crying face'}, {'☹': 'frowning face'}, {'😍': 'smiling face with heart-eyes'}, {'😐': 'neutral face'}, {'😉': 'winking face', '❤': 'red heart'}, {'🎄': 'Christmas tree', '🎁': 'wrapped gift'}, {'😆': 'grinning squinting face'}, {'😂': 'face with tears of joy'}, {'😂': 'face with tears of joy'}, {'✋': 'raised hand'}, {'❤': 'red heart'}, {'♥': 'heart suit'}, {'😃': 'grinning face with big eyes', '🎈': 'balloon'}, {'♥': 'heart suit'}, {'✋': 'raised hand', '🙈': 'see-no-evil monkey', '😭': 'loudly crying face', '😢': 'crying face'}, {'❤️': 'red heart', '✊': 'raised fist', '😍': 'smiling face with heart-eyes', '💯': 'hundred points'}, {'😫': 'tired face'}, {'♥': 'heart suit'}, {'♥': 'heart suit'}, {'😂': 'face with tears of joy', '😏': 'smirking face'}, {'©': 'copyright'}, {'😛': 'face with tongue'}, {'♥': 'heart suit'}, {'♥': 'heart suit'}, {'🎶': 'musical notes'}, {'🎉': 'party popper', '😊': 'smiling face with smiling eyes', '🎈': 'balloon'}, {'🎧': 'headphone'}, {'🎧': 'headphone'}, {'😊': 'smiling face with smiling eyes'}, {'😍': 'smiling face with heart-eyes'}, {'❄️': 'snowflake'}, {'👌': 'OK hand', '😒': 'unamused face', '💯': 'hundred points'}, {'😳': 'flushed face'}, {'😉': 'winking face', '❤': 'red heart'}, {'👼': 'baby angel', '👙': 'bikini'}, {'♥': 'heart suit'}, {'👍': 'thumbs up'}, {'♥': 'heart suit'}, {'😔': 'pensive face'}, {'♥': 'heart suit'}, {'⬅️': 'left arrow', '➡️': 'right arrow'}, {'☀': 'sun', '😊': 'smiling face with smiling eyes'}, {'😂': 'face with tears of joy'}, {'😔': 'pensive face'}, {'🌆': 'cityscape at dusk', '🇫🇷': 'flag: France', '🍭': 'lollipop', '😍': 'smiling face with heart-eyes'}, {'♦': 'diamond suit'}, {'🌽': 'ear of corn', '💕': 'two hearts', '😏': 'smirking face'}, {'🙈': 'see-no-evil monkey', '🙊': 'speak-no-evil monkey', '💃': 'woman dancing'}, {'😂': 'face with tears of joy'}, {'😌': 'relieved face'}, {'👉': 'backhand index pointing right', '😃': 'grinning face with big eyes', '😘': 'face blowing a kiss', '❤': 'red heart'}, {'☹': 'frowning face'}, {'🌞': 'sun with face', '☕': 'hot beverage'}, {'♥': 'heart suit'}, {'🌙': 'crescent moon'}, {'🙆': 'person gesturing OK', '😏': 'smirking face', '😒': 'unamused face'}, {'😏': 'smirking face'}, {'👊': 'oncoming fist'}, {'🙌': 'raising hands'}, {'✋': 'raised hand'}, {'♥': 'heart suit'}, {'🙌': 'raising hands'}, {'😍': 'smiling face with heart-eyes'}, {'😉': 'winking face', '❤': 'red heart'}, {'😉': 'winking face', '❤': 'red heart'}, {'😔': 'pensive face', '😩': 'weary face', '😳': 'flushed face'}, {'♥': 'heart suit'}, {'❤️': 'red heart'}, {'😩': 'weary face'}, {'🙈': 'see-no-evil monkey'}, {'😂': 'face with tears of joy'}, {'👍': 'thumbs up', '😄': 'grinning face with smiling eyes'}, {'😄': 'grinning face with smiling eyes', '👏': 'clapping hands'}, {'☹': 'frowning face'}, {'😂': 'face with tears of joy'}, {'😂': 'face with tears of joy'}, {'♥': 'heart suit'}, {'🙌': 'raising hands'}, {'🎶': 'musical notes', '🎅': 'Santa Claus', '🎄': 'Christmas tree', '❤️': 'red heart'}, {'☹': 'frowning face'}, {'😟': 'worried face', '🔫': 'water pistol'}, {'😂': 'face with tears of joy'}, {'♥': 'heart suit'}, {'☺': 'smiling face'}, {'💸': 'money with wings', '💰': 'money bag'}, {'🎧': 'headphone'}, {'♥': 'heart suit'}, {'😘': 'face blowing a kiss'}, {'😤': 'face with steam from nose', '😡': 'pouting face'}, {'😮': 'face with open mouth', '👏': 'clapping hands'}, {'😍': 'smiling face with heart-eyes'}, {'♥': 'heart suit'}, {'🎅': 'Santa Claus'}, {'✌': 'victory hand'}, {'💋': 'kiss mark'}, {'♥': 'heart suit'}, {'👌': 'OK hand', '🙌': 'raising hands'}, {'👍': 'thumbs up', '😄': 'grinning face with smiling eyes'}, {'❤': 'red heart'}, {'😂': 'face with tears of joy', '👌': 'OK hand', '🙌': 'raising hands', '😌': 'relieved face', '🚶': 'person walking', '🎉': 'party popper'}, {'😉': 'winking face', '❤': 'red heart'}, {'❤️': 'red heart'}, {'👐': 'open hands'}, {'♥': 'heart suit'}, {'😉': 'winking face', '❤': 'red heart'}, {'😘': 'face blowing a kiss'}, {'❤️': 'red heart'}, {'👌': 'OK hand'}, {'♥': 'heart suit'}, {'💝': 'heart with ribbon', '🎄': 'Christmas tree'}, {'🙊': 'speak-no-evil monkey', '🐰': 'rabbit face', '💚': 'green heart'}, {'😂': 'face with tears of joy', '😒': 'unamused face', '😌': 'relieved face'}, {'🙌': 'raising hands', '😏': 'smirking face'}, {'❤': 'red heart'}, {'🎾': 'tennis', '🎉': 'party popper'}, {'☹': 'frowning face', '♥': 'heart suit'}, {'🙅': 'person gesturing NO'}, {'🙌': 'raising hands'}, {'😊': 'smiling face with smiling eyes'}, {'😂': 'face with tears of joy', '👌': 'OK hand', '🙊': 'speak-no-evil monkey'}, {'😘': 'face blowing a kiss'}, {'😔': 'pensive face'}, {'♥': 'heart suit'}, {'♥': 'heart suit'}, {'😉': 'winking face', '❤': 'red heart'}, {'™': 'trade mark'}, {'❤️': 'red heart', '😎': 'smiling face with sunglasses'}, {'💌': 'love letter', '💕': 'two hearts', '💖': 'sparkling heart'}, {'❤️': 'red heart'}, {'❤': 'red heart'}, {'😘': 'face blowing a kiss', '😍': 'smiling face with heart-eyes', '❤️': 'red heart'}, {'❤': 'red heart'}, {'©': 'copyright'}, {'😍': 'smiling face with heart-eyes', '🎀': 'ribbon', '😋': 'face savoring food', '👑': 'crown', '💁': 'person tipping hand'}, {'😭': 'loudly crying face', '❤️': 'red heart'}, {'😉': 'winking face', '❤': 'red heart'}, {'😊': 'smiling face with smiling eyes', '❤': 'red heart'}, {'♥': 'heart suit'}, {'♥': 'heart suit'}, {'🚴': 'person biking'}, {'😍': 'smiling face with heart-eyes'}, {'♥': 'heart suit'}, {'😁': 'beaming face with smiling eyes'}, {'💛': 'yellow heart', '🙈': 'see-no-evil monkey', '⏰': 'alarm clock', '💞': 'revolving hearts'}, {'😂': 'face with tears of joy', '😡': 'pouting face'}, {'☺': 'smiling face'}, {'💏': 'kiss', '😜': 'winking face with tongue', '👍': 'thumbs up', '👌': 'OK hand'}, {'😒': 'unamused face', '😭': 'loudly crying face'}, {'♥': 'heart suit'}, {'🎧': 'headphone'}, {'🏊': 'person swimming', '👩': 'woman', '😊': 'smiling face with smiling eyes', '🌊': 'water wave'}, {'▶': 'play button'}, {'👪': 'family', '❤️': 'red heart'}, {'😊': 'smiling face with smiling eyes'}, {'🙈': 'see-no-evil monkey'}, {'♥': 'heart suit'}, {'😒': 'unamused face'}, {'🎧': 'headphone'}, {'😂': 'face with tears of joy'}, {'👍': 'thumbs up', '♥': 'heart suit'}, {'♥': 'heart suit'}, {'♥': 'heart suit'}, {'♥': 'heart suit'}, {'😋': 'face savoring food'}, {'😃': 'grinning face with big eyes'}, {'♥': 'heart suit'}, {'♥': 'heart suit'}, {'😌': 'relieved face'}, {'😬': 'grimacing face'}, {'😣': 'persevering face'}, {'❤️': 'red heart'}, {'💕': 'two hearts'}, {'💅': 'nail polish', '♥': 'heart suit'}, {'⚡': 'high voltage'}, {'😘': 'face blowing a kiss', '😍': 'smiling face with heart-eyes', '❤️': 'red heart'}, {'♥': 'heart suit'}, {'♥': 'heart suit'}, {'👍': 'thumbs up'}, {'💋': 'kiss mark', '❤️': 'red heart'}, {'♥': 'heart suit'}, {'😥': 'sad but relieved face'}, {'💖': 'sparkling heart'}, {'😉': 'winking face', '❤': 'red heart'}, {'😉': 'winking face', '❤': 'red heart'}, {'🏰': 'castle'}, {'👍': 'thumbs up', '💕': 'two hearts', '➡️': 'right arrow'}, {'💕': 'two hearts'}, {'🍩': 'doughnut', '☕': 'hot beverage'}, {'😥': 'sad but relieved face'}, {'😉': 'winking face', '❤': 'red heart'}, {'😭': 'loudly crying face'}, {'♥': 'heart suit'}, {'♥': 'heart suit'}, {'😂': 'face with tears of joy'}, {'😂': 'face with tears of joy', '🙆': 'person gesturing OK', '😳': 'flushed face'}, {'😝': 'squinting face with tongue', '😂': 'face with tears of joy', '😳': 'flushed face'}, {'🎼': 'musical score', '🎧': 'headphone'}, {'😴': 'sleeping face', '😋': 'face savoring food'}, {'👌': 'OK hand'}, {'😭': 'loudly crying face'}, {'💅': 'nail polish', '🍆': 'eggplant', '💵': 'dollar banknote', '👜': 'handbag', '✨': 'sparkles', '💆': 'person getting massage', '💂': 'guard'}, {'😔': 'pensive face'}, {'♥': 'heart suit'}, {'💁': 'person tipping hand', '😏': 'smirking face'}, {'😂': 'face with tears of joy'}, {'😊': 'smiling face with smiling eyes'}, {'♥': 'heart suit'}, {'😒': 'unamused face'}, {'😉': 'winking face'}, {'😂': 'face with tears of joy'}, {'😊': 'smiling face with smiling eyes', '❤': 'red heart', '💚': 'green heart'}, {'👌': 'OK hand', '☺️': 'smiling face', '❤️': 'red heart', '😍': 'smiling face with heart-eyes', '👍': 'thumbs up', '😘': 'face blowing a kiss'}, {'😉': 'winking face', '❤': 'red heart'}, {'®': 'registered'}, {'😒': 'unamused face', '😳': 'flushed face'}, {'😂': 'face with tears of joy', '👌': 'OK hand'}, {'😉': 'winking face', '❤': 'red heart'}, {'😀': 'grinning face'}, {'❤️': 'red heart'}, {'🎧': 'headphone', '🎵': 'musical note', '🎤': 'microphone', '🎼': 'musical score', '🎶': 'musical notes'}, {'♥': 'heart suit'}, {'🙈': 'see-no-evil monkey', '💕': 'two hearts'}, {'💋': 'kiss mark'}, {'✨': 'sparkles', '😊': 'smiling face with smiling eyes', '💜': 'purple heart'}, {'❄️': 'snowflake', '😱': 'face screaming in fear'}, {'😃': 'grinning face with big eyes', '😍': 'smiling face with heart-eyes'}, {'♥': 'heart suit'}, {'🎉': 'party popper'}, {'✴': 'eight-pointed star'}, {'♥': 'heart suit'}, {'🇩🇪': 'flag: Germany', '💕': 'two hearts', '😘': 'face blowing a kiss', '❤': 'red heart'}, {'♥': 'heart suit'}, {'💅': 'nail polish', '☀️': 'sun', '😨': 'fearful face', '⛅': 'sun behind cloud'}, {'😂': 'face with tears of joy'}, {'♥': 'heart suit'}, {'🎶': 'musical notes'}, {'👌': 'OK hand', '😁': 'beaming face with smiling eyes', '👍': 'thumbs up'}, {'✴': 'eight-pointed star'}, {'❤': 'red heart'}, {'🙈': 'see-no-evil monkey'}, {'▶': 'play button'}, {'♥': 'heart suit'}, {'♥': 'heart suit'}, {'😂': 'face with tears of joy'}, {'♥': 'heart suit'}, {'🙏': 'folded hands'}, {'🙆': 'person gesturing OK'}, {'🙋': 'person raising hand'}, {'💗': 'growing heart'}, {'😍': 'smiling face with heart-eyes'}, {'®': 'registered'}, {'😂': 'face with tears of joy', '🙈': 'see-no-evil monkey'}, {'♥': 'heart suit'}, {'😄': 'grinning face with smiling eyes', '❤️': 'red heart'}, {'❤️': 'red heart'}, {'😂': 'face with tears of joy'}, {'😂': 'face with tears of joy', '🚴': 'person biking', '💨': 'dashing away'}, {'🙌': 'raising hands', '😘': 'face blowing a kiss', '💖': 'sparkling heart'}, {'😈': 'smiling face with horns', '👍': 'thumbs up'}, {'☺': 'smiling face'}, {'♥': 'heart suit'}, {'❤️': 'red heart'}, {'☺️': 'smiling face', '😩': 'weary face'}, {'♥': 'heart suit'}, {'♥': 'heart suit'}, {'😔': 'pensive face'}, {'❤': 'red heart'}, {'😘': 'face blowing a kiss'}, {'😔': 'pensive face'}, {'😠': 'angry face', '😳': 'flushed face'}, {'♥': 'heart suit'}, {'🌸': 'cherry blossom'}, {'😎': 'smiling face with sunglasses'}, {'♥': 'heart suit'}, {'🙈': 'see-no-evil monkey', '🙊': 'speak-no-evil monkey', '😎': 'smiling face with sunglasses'}, {'✨': 'sparkles'}, {'💁': 'person tipping hand'}, {'😄': 'grinning face with smiling eyes'}, {'🎶': 'musical notes'}, {'😍': 'smiling face with heart-eyes'}, {'😂': 'face with tears of joy', '😒': 'unamused face'}, {'♥': 'heart suit'}, {'😍': 'smiling face with heart-eyes', '🙏': 'folded hands'}, {'🎧': 'headphone'}, {'😭': 'loudly crying face', '❤': 'red heart', '🙏': 'folded hands'}, {'😋': 'face savoring food', '😩': 'weary face'}, {'😔': 'pensive face'}, {'♥': 'heart suit'}, {'❤': 'red heart', '♥': 'heart suit'}, {'😂': 'face with tears of joy', '🙆': 'person gesturing OK', '😳': 'flushed face'}, {'♥': 'heart suit'}, {'♥': 'heart suit'}, {'😂': 'face with tears of joy', '🙈': 'see-no-evil monkey', '😜': 'winking face with tongue', '👩': 'woman', '👸': 'princess', '💁': 'person tipping hand'}, {'💜': 'purple heart', '❤️': 'red heart', '😄': 'grinning face with smiling eyes'}, {'🌱': 'seedling', '🐟': 'fish'}, {'👭': 'women holding hands', '✈️': 'airplane', '😭': 'loudly crying face', '💖': 'sparkling heart'}, {'🎶': 'musical notes'}, {'♥': 'heart suit'}, {'👣': 'footprints'}, {'😭': 'loudly crying face'}, {'😂': 'face with tears of joy'}, {'😁': 'beaming face with smiling eyes'}, {'😂': 'face with tears of joy', '😘': 'face blowing a kiss', '😏': 'smirking face'}, {'🎀': 'ribbon', '❄': 'snowflake', '🎄': 'Christmas tree', '🎅': 'Santa Claus', '😃': 'grinning face with big eyes', '🎁': 'wrapped gift'}, {'😬': 'grimacing face', '❤': 'red heart'}, {'😖': 'confounded face'}, {'😄': 'grinning face with smiling eyes'}, {'😃': 'grinning face with big eyes'}, {'®': 'registered'}, {'😂': 'face with tears of joy', '👌': 'OK hand'}, {'🎶': 'musical notes'}, {'®': 'registered'}, {'😳': 'flushed face'}, {'😳': 'flushed face'}, {'♥': 'heart suit'}, {'☺': 'smiling face'}, {'😏': 'smirking face', '😩': 'weary face'}, {'😭': 'loudly crying face', '😳': 'flushed face', '✋': 'raised hand'}, {'💖': 'sparkling heart'}, {'😉': 'winking face'}, {'😃': 'grinning face with big eyes'}, {'☹': 'frowning face'}, {'😭': 'loudly crying face', '😩': 'weary face'}, {'😭': 'loudly crying face', '😩': 'weary face', '😍': 'smiling face with heart-eyes'}, {'💤': 'zzz', '😴': 'sleeping face'}, {'♥': 'heart suit'}, {'🎅': 'Santa Claus', '🎁': 'wrapped gift', '🎄': 'Christmas tree'}, {'🚬': 'cigarette', '👌': 'OK hand', '🔥': 'fire', '💯': 'hundred points'}, {'▶': 'play button'}, {'😒': 'unamused face'}, {'😏': 'smirking face'}, {'♥': 'heart suit'}, {'😧': 'anguished face', '😦': 'frowning face with open mouth'}, {'😂': 'face with tears of joy', '😳': 'flushed face', '😁': 'beaming face with smiling eyes'}, {'☺': 'smiling face', '🚼': 'baby symbol', '😍': 'smiling face with heart-eyes'}, {'🕐': 'one o’clock', '👀': 'eyes', '🕑': 'two o’clock', '🎧': 'headphone'}, {'😊': 'smiling face with smiling eyes'}, {'👏': 'clapping hands'}, {'♏': 'Scorpio'}, {'❤️': 'red heart'}, {'✋': 'raised hand'}, {'▪': 'black small square'}, {'❤️': 'red heart'}, {'👋': 'waving hand'}, {'😉': 'winking face', '❤': 'red heart'}, {'💖': 'sparkling heart'}, {'🙏': 'folded hands'}, {'😂': 'face with tears of joy'}, {'♥': 'heart suit'}, {'😉': 'winking face', '❤': 'red heart'}, {'🏰': 'castle'}, {'🙈': 'see-no-evil monkey', '😳': 'flushed face'}, {'®': 'registered'}, {'♥': 'heart suit'}, {'👯': 'people with bunny ears'}, {'🎄': 'Christmas tree'}, {'♥': 'heart suit'}, {'🇩🇪': 'flag: Germany'}, {'😩': 'weary face'}, {'😒': 'unamused face'}, {'❤': 'red heart'}, {'😉': 'winking face', '❤': 'red heart'}, {'🎅': 'Santa Claus', '😘': 'face blowing a kiss', '🎄': 'Christmas tree'}, {'😎': 'smiling face with sunglasses'}, {'😂': 'face with tears of joy'}, {'💖': 'sparkling heart'}, {'❄️': 'snowflake', '☺️': 'smiling face', '😍': 'smiling face with heart-eyes'}, {'😝': 'squinting face with tongue', '😊': 'smiling face with smiling eyes', '😍': 'smiling face with heart-eyes'}, {'😉': 'winking face', '❤': 'red heart'}, {'♥': 'heart suit'}, {'😂': 'face with tears of joy', '😭': 'loudly crying face'}, {'♥': 'heart suit'}, {'♥': 'heart suit'}, {'😏': 'smirking face'}, {'☺': 'smiling face', '✊': 'raised fist', '✌': 'victory hand'}, {'✨': 'sparkles', '❤️': 'red heart'}, {'❤️': 'red heart'}, {'♥': 'heart suit'}, {'😉': 'winking face', '❤': 'red heart'}, {'😩': 'weary face'}, {'♥': 'heart suit'}, {'♥': 'heart suit'}, {'😂': 'face with tears of joy', '😳': 'flushed face'}, {'😤': 'face with steam from nose', '😡': 'pouting face'}, {'😔': 'pensive face'}, {'❤️': 'red heart', '✊': 'raised fist', '💋': 'kiss mark'}, {'👎': 'thumbs down'}, {'♥': 'heart suit'}, {'😉': 'winking face', '❤': 'red heart'}, {'😊': 'smiling face with smiling eyes'}, {'♥': 'heart suit'}, {'♥': 'heart suit'}, {'💪': 'flexed biceps'}, {'♥': 'heart suit'}, {'♥': 'heart suit'}, {'🌏': 'globe showing Asia-Australia', '🌍': 'globe showing Europe-Africa', '✈️': 'airplane', '🌎': 'globe showing Americas'}, {'😭': 'loudly crying face'}, {'😂': 'face with tears of joy'}, {'😜': 'winking face with tongue'}, {'😍': 'smiling face with heart-eyes'}, {'😄': 'grinning face with smiling eyes'}, {'😄': 'grinning face with smiling eyes'}, {'😁': 'beaming face with smiling eyes'}, {'🍩': 'doughnut', '☕': 'hot beverage'}, {'😂': 'face with tears of joy'}, {'🙈': 'see-no-evil monkey', '😭': 'loudly crying face'}, {'😭': 'loudly crying face'}, {'😉': 'winking face', '❤': 'red heart'}, {'😉': 'winking face', '❤': 'red heart'}, {'🍻': 'clinking beer mugs', '🍸': 'cocktail glass', '🍷': 'wine glass'}, {'😘': 'face blowing a kiss'}, {'♥': 'heart suit'}, {'🍺': 'beer mug', '😁': 'beaming face with smiling eyes'}, {'❤': 'red heart'}, {'💖': 'sparkling heart'}, {'♥': 'heart suit'}, {'☀': 'sun', '☂': 'umbrella'}, {'😮': 'face with open mouth'}, {'💝': 'heart with ribbon'}, {'😉': 'winking face'}, {'😳': 'flushed face'}, {'😚': 'kissing face with closed eyes', '❤️': 'red heart'}, {'👫': 'woman and man holding hands', '😒': 'unamused face'}, {'😝': 'squinting face with tongue'}, {'😕': 'confused face'}, {'💕': 'two hearts'}, {'💕': 'two hearts'}, {'🌙': 'crescent moon'}, {'😭': 'loudly crying face'}, {'😏': 'smirking face', '💩': 'pile of poo'}, {'😂': 'face with tears of joy'}, {'😂': 'face with tears of joy', '💁': 'person tipping hand', '😘': 'face blowing a kiss'}, {'☺️': 'smiling face'}, {'😒': 'unamused face'}, {'😉': 'winking face', '❤': 'red heart'}, {'♥': 'heart suit'}, {'💙': 'blue heart'}, {'👋': 'waving hand', '👌': 'OK hand'}, {'👌': 'OK hand'}, {'🍷': 'wine glass', '❄': 'snowflake', '⛄': 'snowman without snow', '😊': 'smiling face with smiling eyes', '✈': 'airplane', '🎄': 'Christmas tree', '❤': 'red heart', '🍻': 'clinking beer mugs', '🎅': 'Santa Claus'}, {'😎': 'smiling face with sunglasses'}, {'💜': 'purple heart'}, {'🐉': 'dragon', '😛': 'face with tongue', '😳': 'flushed face'}, {'♥': 'heart suit'}, {'✋': 'raised hand'}, {'🙌': 'raising hands', '👏': 'clapping hands'}, {'♥': 'heart suit'}, {'👌': 'OK hand'}, {'📣': 'megaphone', '🎂': 'birthday cake', '💘': 'heart with arrow'}, {'♥': 'heart suit'}, {'😒': 'unamused face'}, {'😂': 'face with tears of joy'}, {'😯': 'hushed face'}, {'♥': 'heart suit'}, {'♥': 'heart suit'}, {'😀': 'grinning face'}, {'🐽': 'pig nose'}, {'😡': 'pouting face'}, {'😘': 'face blowing a kiss', '😊': 'smiling face with smiling eyes'}, {'🚢': 'ship'}, {'😀': 'grinning face'}, {'♥': 'heart suit'}, {'💖': 'sparkling heart'}, {'🎶': 'musical notes'}, {'😛': 'face with tongue'}, {'♥': 'heart suit'}, {'😬': 'grimacing face'}, {'♥': 'heart suit'}, {'😍': 'smiling face with heart-eyes'}, {'🐶': 'dog face'}, {'👏': 'clapping hands'}, {'😉': 'winking face', '❤': 'red heart'}, {'💗': 'growing heart', '🐶': 'dog face'}, {'😭': 'loudly crying face'}, {'♥': 'heart suit'}, {'🍻': 'clinking beer mugs', '✌️': 'victory hand', '😊': 'smiling face with smiling eyes'}, {'❤️': 'red heart'}, {'😍': 'smiling face with heart-eyes'}, {'😒': 'unamused face'}, {'😊': 'smiling face with smiling eyes'}, {'™': 'trade mark'}, {'😊': 'smiling face with smiling eyes'}, {'▶': 'play button'}, {'❤️': 'red heart'}, {'😂': 'face with tears of joy'}, {'🎄': 'Christmas tree'}, {'🎉': 'party popper', '🎂': 'birthday cake'}, {'♥': 'heart suit'}, {'🎉': 'party popper', '✌️': 'victory hand', '😁': 'beaming face with smiling eyes', '👌': 'OK hand'}, {'😙': 'kissing face with smiling eyes', '💋': 'kiss mark'}, {'😁': 'beaming face with smiling eyes'}, {'♥': 'heart suit'}, {'♥': 'heart suit'}, {'😂': 'face with tears of joy', '👌': 'OK hand'}, {'🎧': 'headphone'}, {'😂': 'face with tears of joy', '😏': 'smirking face'}, {'❤️': 'red heart'}, {'🎌': 'crossed flags', '🎎': 'Japanese dolls'}, {'😉': 'winking face'}, {'👍': 'thumbs up'}, {'🎶': 'musical notes'}, {'♥': 'heart suit'}, {'🍻': 'clinking beer mugs', '👍': 'thumbs up', '😊': 'smiling face with smiling eyes', '🍺': 'beer mug'}, {'🎶': 'musical notes'}, {'👻': 'ghost', '🎧': 'headphone', '📖': 'open book'}, {'🚙': 'sport utility vehicle', '📓': 'notebook', '✏': 'pencil'}, {'🐸': 'frog'}, {'♥': 'heart suit'}, {'☺️': 'smiling face'}, {'♥': 'heart suit'}, {'😏': 'smirking face', '😳': 'flushed face'}, {'▶': 'play button'}, {'♥': 'heart suit'}, {'😂': 'face with tears of joy', '😝': 'squinting face with tongue'}, {'😉': 'winking face', '❤': 'red heart'}, {'😉': 'winking face'}, {'😁': 'beaming face with smiling eyes', '😎': 'smiling face with sunglasses'}, {'💁': 'person tipping hand', '😊': 'smiling face with smiling eyes'}, {'😂': 'face with tears of joy', '💯': 'hundred points'}, {'💰': 'money bag', '🎤': 'microphone', '🎶': 'musical notes', '✈️': 'airplane', '🌆': 'cityscape at dusk', '🌃': 'night with stars'}, {'☮': 'peace symbol'}, {'😂': 'face with tears of joy', '🙈': 'see-no-evil monkey', '😳': 'flushed face'}, {'❤️': 'red heart', '💚': 'green heart'}, {'😘': 'face blowing a kiss', '☺️': 'smiling face'}, {'🙈': 'see-no-evil monkey', '😳': 'flushed face'}, {'👻': 'ghost', '🎋': 'tanabata tree', '🎊': 'confetti ball'}, {'💰': 'money bag', '😉': 'winking face', '😘': 'face blowing a kiss', '👏': 'clapping hands', '💪': 'flexed biceps', '🎓': 'graduation cap'}, {'💽': 'computer disk'}, {'🙌': 'raising hands'}, {'🚀': 'rocket', '⛄': 'snowman without snow', '💣': 'bomb', '💥': 'collision', '🎉': 'party popper', '🎈': 'balloon'}, {'♥': 'heart suit'}, {'😉': 'winking face'}, {'®': 'registered'}, {'😊': 'smiling face with smiling eyes'}, {'😉': 'winking face', '❤': 'red heart'}, {'😂': 'face with tears of joy'}, {'❤️': 'red heart'}, {'🌞': 'sun with face', '☕': 'hot beverage'}, {'😏': 'smirking face', '🙈': 'see-no-evil monkey', '🙏': 'folded hands', '😈': 'smiling face with horns', '😇': 'smiling face with halo'}, {'♥': 'heart suit'}, {'⭐': 'star'}, {'♥': 'heart suit'}, {'😍': 'smiling face with heart-eyes'}, {'😂': 'face with tears of joy', '💁': 'person tipping hand'}, {'🍩': 'doughnut', '🍫': 'chocolate bar', '😎': 'smiling face with sunglasses'}, {'♥': 'heart suit'}, {'😤': 'face with steam from nose'}, {'😂': 'face with tears of joy', '👌': 'OK hand'}, {'♥': 'heart suit'}, {'❤️': 'red heart'}, {'😍': 'smiling face with heart-eyes'}, {'😂': 'face with tears of joy', '👌': 'OK hand'}, {'😊': 'smiling face with smiling eyes', '💜': 'purple heart'}, {'😂': 'face with tears of joy'}, {'♥': 'heart suit'}, {'🙈': 'see-no-evil monkey'}, {'❄️': 'snowflake', '❄': 'snowflake'}, {'♥': 'heart suit'}, {'💖': 'sparkling heart'}, {'😔': 'pensive face'}, {'✊': 'raised fist', '😘': 'face blowing a kiss', '💯': 'hundred points', '❤️': 'red heart'}, {'🏄': 'person surfing', '💧': 'droplet', '😎': 'smiling face with sunglasses', '🏊': 'person swimming', '💦': 'sweat droplets'}, {'🎄': 'Christmas tree'}, {'👌': 'OK hand', '☺️': 'smiling face', '❤️': 'red heart', '😍': 'smiling face with heart-eyes', '👍': 'thumbs up', '😊': 'smiling face with smiling eyes', '😱': 'face screaming in fear', '😈': 'smiling face with horns', '😘': 'face blowing a kiss', '✌️': 'victory hand', '😳': 'flushed face', '😃': 'grinning face with big eyes'}, {'👍': 'thumbs up', '😏': 'smirking face', '😍': 'smiling face with heart-eyes'}, {'😉': 'winking face'}, {'☺': 'smiling face', '😭': 'loudly crying face'}, {'❤️': 'red heart'}, {'❤️': 'red heart'}, {'👌': 'OK hand', '🇬🇧': 'flag: United Kingdom'}, {'😘': 'face blowing a kiss', '❤️': 'red heart'}, {'💁': 'person tipping hand', '😘': 'face blowing a kiss'}, {'😐': 'neutral face'}, {'😰': 'anxious face with sweat'}, {'🇩🇪': 'flag: Germany', '😰': 'anxious face with sweat', '➡️': 'right arrow', '🎓': 'graduation cap'}, {'♥': 'heart suit'}, {'😃': 'grinning face with big eyes'}, {'😂': 'face with tears of joy'}, {'😢': 'crying face'}, {'👌': 'OK hand'}, {'♥': 'heart suit'}, {'❤️': 'red heart', '😶': 'face without mouth'}, {'♥': 'heart suit'}, {'♥': 'heart suit'}, {'🐒': 'monkey'}, {'😉': 'winking face', '❤': 'red heart'}, {'♥': 'heart suit'}, {'™': 'trade mark'}, {'🆒': 'COOL button'}, {'™': 'trade mark'}, {'♥': 'heart suit'}, {'😊': 'smiling face with smiling eyes'}, {'🍸': 'cocktail glass', '🎄': 'Christmas tree'}, {'💗': 'growing heart', '💙': 'blue heart', '💖': 'sparkling heart'}, {'♥': 'heart suit'}, {'😁': 'beaming face with smiling eyes'}, {'😂': 'face with tears of joy', '🙈': 'see-no-evil monkey'}, {'👌': 'OK hand', '🙌': 'raising hands', '😍': 'smiling face with heart-eyes'}, {'✨': 'sparkles'}, {'💛': 'yellow heart', '💜': 'purple heart', '💙': 'blue heart'}, {'🙌': 'raising hands'}, {'😂': 'face with tears of joy', '💅': 'nail polish', '😭': 'loudly crying face', '👊': 'oncoming fist'}, {'✌': 'victory hand'}, {'™': 'trade mark'}, {'😂': 'face with tears of joy', '😳': 'flushed face'}, {'®': 'registered'}, {'♥': 'heart suit'}, {'😉': 'winking face'}, {'♥': 'heart suit'}, {'❤️': 'red heart'}, {'♥': 'heart suit'}, {'👍': 'thumbs up', '😍': 'smiling face with heart-eyes'}, {'😉': 'winking face'}, {'😻': 'smiling cat with heart-eyes', '😘': 'face blowing a kiss', '👶': 'baby', '😍': 'smiling face with heart-eyes'}, {'🎁': 'wrapped gift', '🎄': 'Christmas tree'}, {'😔': 'pensive face'}, {'❤': 'red heart'}, {'❤': 'red heart'}, {'🎧': 'headphone'}, {'😊': 'smiling face with smiling eyes'}, {'☕': 'hot beverage', '😳': 'flushed face', '👎': 'thumbs down'}, {'👑': 'crown'}, {'👫': 'woman and man holding hands'}, {'♥': 'heart suit'}, {'😔': 'pensive face'}, {'♥': 'heart suit'}, {'☀️': 'sun', '❤️': 'red heart'}, {'✌️': 'victory hand'}, {'😂': 'face with tears of joy', '😱': 'face screaming in fear'}, {'😏': 'smirking face'}, {'🎉': 'party popper', '👍': 'thumbs up'}, {'✋': 'raised hand'}, {'☂': 'umbrella'}, {'😩': 'weary face', '😍': 'smiling face with heart-eyes'}, {'😂': 'face with tears of joy'}, {'🎉': 'party popper', '🎅': 'Santa Claus', '⛄': 'snowman without snow', '🎄': 'Christmas tree'}, {'✋': 'raised hand'}, {'👌': 'OK hand', '😳': 'flushed face'}, {'😂': 'face with tears of joy', '💁': 'person tipping hand', '🙈': 'see-no-evil monkey'}, {'🙈': 'see-no-evil monkey'}, {'⛪': 'church'}, {'💕': 'two hearts'}, {'♥': 'heart suit'}, {'♥': 'heart suit'}, {'™': 'trade mark'}, {'😑': 'expressionless face'}, {'♥': 'heart suit'}, {'👣': 'footprints'}, {'😂': 'face with tears of joy'}, {'😂': 'face with tears of joy', '💁': 'person tipping hand'}, {'♥': 'heart suit'}, {'♥': 'heart suit'}, {'😄': 'grinning face with smiling eyes'}, {'🎅': 'Santa Claus', '🙈': 'see-no-evil monkey'}, {'♥': 'heart suit'}, {'♥': 'heart suit'}, {'👩': 'woman', '👸': 'princess', '🙆': 'person gesturing OK'}, {'❤️': 'red heart'}, {'🎶': 'musical notes'}, {'❤️': 'red heart'}, {'🎧': 'headphone'}, {'🎅': 'Santa Claus', '😊': 'smiling face with smiling eyes'}, {'😘': 'face blowing a kiss', '❤️': 'red heart'}, {'😒': 'unamused face', '😐': 'neutral face'}, {'♥': 'heart suit'}, {'😉': 'winking face', '❤': 'red heart'}, {'☀️': 'sun'}, {'♥': 'heart suit'}, {'♥': 'heart suit'}, {'🎧': 'headphone'}, {'😍': 'smiling face with heart-eyes'}, {'😂': 'face with tears of joy'}, {'😉': 'winking face', '✌️': 'victory hand'}, {'💔': 'broken heart'}, {'♥': 'heart suit'}, {'😃': 'grinning face with big eyes'}, {'😥': 'sad but relieved face', '😠': 'angry face', '😤': 'face with steam from nose', '😖': 'confounded face', '😫': 'tired face', '😡': 'pouting face'}, {'😉': 'winking face'}, {'👋': 'waving hand', '😔': 'pensive face'}, {'😉': 'winking face', '❤': 'red heart'}, {'💜': 'purple heart'}, {'😭': 'loudly crying face'}, {'😒': 'unamused face'}, {'✌️': 'victory hand'}, {'😭': 'loudly crying face'}, {'👄': 'mouth', '💋': 'kiss mark', '💙': 'blue heart', '👍': 'thumbs up', '🍹': 'tropical drink', '💦': 'sweat droplets'}, {'🎄': 'Christmas tree'}, {'😑': 'expressionless face'}, {'🎶': 'musical notes'}, {'😂': 'face with tears of joy'}, {'🙈': 'see-no-evil monkey'}, {'☮': 'peace symbol'}, {'👌': 'OK hand', '✌️': 'victory hand', '💯': 'hundred points'}, {'▶': 'play button'}, {'🙌': 'raising hands', '👏': 'clapping hands'}, {'☺': 'smiling face'}, {'🙌': 'raising hands', '👏': 'clapping hands'}, {'🐣': 'hatching chick', '🇩🇪': 'flag: Germany', '👼': 'baby angel', '❤️': 'red heart', '🙈': 'see-no-evil monkey', '👣': 'footprints'}, {'😉': 'winking face', '❤': 'red heart'}, {'🐭': 'mouse face', '👀': 'eyes', '📚': 'books'}, {'♥': 'heart suit'}, {'😂': 'face with tears of joy', '👌': 'OK hand'}, {'🙌': 'raising hands', '🙏': 'folded hands', '👏': 'clapping hands'}, {'💕': 'two hearts', '☕': 'hot beverage', '🍩': 'doughnut'}, {'❤️': 'red heart'}, {'😂': 'face with tears of joy', '👏': 'clapping hands'}, {'♥': 'heart suit'}, {'❤️': 'red heart'}, {'😉': 'winking face', '😦': 'frowning face with open mouth'}, {'😂': 'face with tears of joy', '😒': 'unamused face', '😳': 'flushed face'}, {'😍': 'smiling face with heart-eyes'}, {'😂': 'face with tears of joy', '🙈': 'see-no-evil monkey', '😜': 'winking face with tongue'}, {'♥': 'heart suit'}, {'♥': 'heart suit'}, {'😉': 'winking face', '❤': 'red heart'}, {'💩': 'pile of poo'}, {'❄': 'snowflake', '⛄': 'snowman without snow', '🍪': 'cookie', '🎄': 'Christmas tree', '🍫': 'chocolate bar', '🎅': 'Santa Claus', '😃': 'grinning face with big eyes', '🎁': 'wrapped gift'}, {'😜': 'winking face with tongue'}, {'🎄': 'Christmas tree'}, {'❤️': 'red heart'}, {'❄️': 'snowflake'}, {'😷': 'face with medical mask', '😖': 'confounded face'}, {'♥': 'heart suit'}, {'👯': 'people with bunny ears'}, {'♥': 'heart suit'}, {'▶': 'play button'}, {'🍗': 'poultry leg', '🍖': 'meat on bone'}, {'😝': 'squinting face with tongue', '💁': 'person tipping hand'}, {'😒': 'unamused face'}, {'🙌': 'raising hands'}, {'☁': 'cloud', '☹': 'frowning face', '☃': 'snowman'}, {'😘': 'face blowing a kiss', '❤️': 'red heart'}, {'😘': 'face blowing a kiss', '❤️': 'red heart'}, {'👀': 'eyes'}, {'♥': 'heart suit'}, {'😂': 'face with tears of joy', '🎅': 'Santa Claus', '👌': 'OK hand'}, {'🙆': 'person gesturing OK', '😭': 'loudly crying face', '🙏': 'folded hands'}, {'💕': 'two hearts'}, {'😉': 'winking face', '❤': 'red heart'}, {'♥': 'heart suit', '❤️': 'red heart'}, {'♥': 'heart suit'}, {'☺️': 'smiling face'}, {'❤️': 'red heart'}, {'🙈': 'see-no-evil monkey', '🙉': 'hear-no-evil monkey', '🙊': 'speak-no-evil monkey'}, {'™': 'trade mark'}, {'🌚': 'new moon face'}, {'💅': 'nail polish'}, {'😝': 'squinting face with tongue', '😛': 'face with tongue', '😜': 'winking face with tongue'}, {'♥': 'heart suit'}, {'♥': 'heart suit'}, {'💖': 'sparkling heart'}, {'✨': 'sparkles'}, {'✋': 'raised hand'}, {'🙊': 'speak-no-evil monkey', '🙉': 'hear-no-evil monkey', '🙈': 'see-no-evil monkey'}, {'😺': 'grinning cat', '😁': 'beaming face with smiling eyes'}, {'♥️': 'heart suit'}, {'😉': 'winking face', '❤': 'red heart'}, {'😔': 'pensive face', '🔫': 'water pistol'}, {'😂': 'face with tears of joy'}, {'😆': 'grinning squinting face', '🙊': 'speak-no-evil monkey', '🙈': 'see-no-evil monkey'}, {'™': 'trade mark'}, {'😘': 'face blowing a kiss'}, {'😂': 'face with tears of joy', '👌': 'OK hand'}, {'😒': 'unamused face'}, {'©': 'copyright'}, {'☺': 'smiling face', '🙊': 'speak-no-evil monkey'}, {'😊': 'smiling face with smiling eyes'}, {'™': 'trade mark'}, {'😘': 'face blowing a kiss'}, {'😉': 'winking face', '❤': 'red heart'}, {'♥': 'heart suit'}, {'❤️': 'red heart'}, {'🙌': 'raising hands', '😊': 'smiling face with smiling eyes', '👌': 'OK hand'}, {'♥': 'heart suit'}, {'😂': 'face with tears of joy', '😳': 'flushed face'}, {'😑': 'expressionless face'}, {'♥': 'heart suit'}, {'♥': 'heart suit'}, {'🎉': 'party popper', '💜': 'purple heart'}, {'😭': 'loudly crying face'}, {'🎶': 'musical notes'}, {'😢': 'crying face'}, {'💟': 'heart decoration'}, {'®': 'registered'}, {'😉': 'winking face', '❤': 'red heart'}, {'😂': 'face with tears of joy'}, {'😎': 'smiling face with sunglasses'}, {'😳': 'flushed face'}, {'👏': 'clapping hands'}, {'💚': 'green heart'}, {'😃': 'grinning face with big eyes'}, {'😉': 'winking face', '❤': 'red heart'}, {'❤': 'red heart'}, {'🌞': 'sun with face', '☕': 'hot beverage'}, {'❤️': 'red heart', '⭐': 'star', '🎄': 'Christmas tree', '😄': 'grinning face with smiling eyes'}, {'💋': 'kiss mark'}, {'😉': 'winking face', '❤': 'red heart'}, {'♥': 'heart suit'}, {'😂': 'face with tears of joy', '👌': 'OK hand', '🙈': 'see-no-evil monkey'}, {'😒': 'unamused face'}, {'🙆': 'person gesturing OK', '😏': 'smirking face'}, {'💖': 'sparkling heart'}, {'♥': 'heart suit'}, {'♥': 'heart suit'}, {'🙅': 'person gesturing NO', '❄️': 'snowflake', '🌾': 'sheaf of rice', '😤': 'face with steam from nose'}, {'😊': 'smiling face with smiling eyes', '❤️': 'red heart'}, {'😭': 'loudly crying face', '🎥': 'movie camera'}, {'♥': 'heart suit'}, {'👍': 'thumbs up', '🙌': 'raising hands', '😏': 'smirking face', '👌': 'OK hand'}, {'😂': 'face with tears of joy', '😱': 'face screaming in fear', '👏': 'clapping hands'}, {'😂': 'face with tears of joy', '👌': 'OK hand', '🚼': 'baby symbol'}, {'🍀': 'four leaf clover', '🍆': 'eggplant'}, {'☹': 'frowning face'}, {'😉': 'winking face'}, {'📺': 'television'}, {'😩': 'weary face'}, {'😉': 'winking face', '❤': 'red heart'}, {'😝': 'squinting face with tongue', '👹': 'ogre', '😋': 'face savoring food'}, {'😤': 'face with steam from nose'}, {'💄': 'lipstick', '👯': 'people with bunny ears', '🎶': 'musical notes', '💝': 'heart with ribbon', '🍹': 'tropical drink', '🎉': 'party popper'}, {'✴': 'eight-pointed star'}, {'💜': 'purple heart'}, {'😉': 'winking face', '❤': 'red heart'}, {'◽': 'white medium-small square', '◾': 'black medium-small square'}, {'😉': 'winking face'}, {'😂': 'face with tears of joy', '😏': 'smirking face'}, {'🙌': 'raising hands', '💰': 'money bag'}, {'☺': 'smiling face', '♥': 'heart suit'}, {'😂': 'face with tears of joy', '👌': 'OK hand', '🙈': 'see-no-evil monkey'}, {'♥': 'heart suit'}, {'😉': 'winking face', '❤': 'red heart'}, {'👏': 'clapping hands'}, {'💗': 'growing heart', '💕': 'two hearts'}, {'🎉': 'party popper', '❤️': 'red heart'}, {'♥': 'heart suit'}, {'♥': 'heart suit'}, {'😍': 'smiling face with heart-eyes', '💘': 'heart with arrow'}, {'😘': 'face blowing a kiss'}, {'👌': 'OK hand'}, {'😉': 'winking face', '😬': 'grimacing face', '😄': 'grinning face with smiling eyes'}, {'💋': 'kiss mark'}, {'😂': 'face with tears of joy', '😳': 'flushed face'}, {'😒': 'unamused face', '✌️': 'victory hand'}, {'😉': 'winking face', '❤': 'red heart'}, {'❤️': 'red heart'}, {'👅': 'tongue', '🍓': 'strawberry'}, {'😑': 'expressionless face'}, {'❤️': 'red heart', '💙': 'blue heart', '💛': 'yellow heart', '💚': 'green heart', '💜': 'purple heart'}, {'👌': 'OK hand', '🔥': 'fire', '💯': 'hundred points'}, {'♥': 'heart suit'}, {'👍': 'thumbs up'}, {'😍': 'smiling face with heart-eyes'}, {'✌️': 'victory hand', '☺️': 'smiling face'}, {'❤️': 'red heart'}, {'💗': 'growing heart'}, {'♥': 'heart suit'}, {'🎆': 'fireworks', '❤️': 'red heart'}, {'♥': 'heart suit'}, {'😩': 'weary face'}, {'☺️': 'smiling face'}, {'😘': 'face blowing a kiss'}, {'😂': 'face with tears of joy'}, {'♥': 'heart suit'}, {'💖': 'sparkling heart'}, {'😑': 'expressionless face'}, {'©': 'copyright'}, {'♥': 'heart suit'}, {'®': 'registered'}, {'🎉': 'party popper', '🎁': 'wrapped gift', '💐': 'bouquet'}, {'😉': 'winking face', '❤': 'red heart'}, {'😂': 'face with tears of joy'}, {'😉': 'winking face', '❤': 'red heart'}, {'😉': 'winking face'}, {'💖': 'sparkling heart'}, {'♥': 'heart suit'}, {'👋': 'waving hand'}, {'👍': 'thumbs up'}, {'👍': 'thumbs up', '😜': 'winking face with tongue'}, {'😂': 'face with tears of joy', '🙆': 'person gesturing OK', '😳': 'flushed face'}, {'😜': 'winking face with tongue'}, {'🎉': 'party popper', '🎁': 'wrapped gift', '🎄': 'Christmas tree'}, {'©': 'copyright'}, {'✌️': 'victory hand'}, {'♥': 'heart suit'}, {'❤️': 'red heart'}, {'❤': 'red heart'}, {'❤': 'red heart'}, {'🚗': 'automobile'}, {'😂': 'face with tears of joy', '🙈': 'see-no-evil monkey', '😳': 'flushed face'}, {'😂': 'face with tears of joy', '👏': 'clapping hands'}, {'👌': 'OK hand', '👍': 'thumbs up'}, {'😌': 'relieved face'}, {'😒': 'unamused face'}, {'😭': 'loudly crying face'}, {'👌': 'OK hand'}, {'😊': 'smiling face with smiling eyes'}, {'😥': 'sad but relieved face', '😭': 'loudly crying face'}, {'♥': 'heart suit'}, {'♥': 'heart suit'}, {'💛': 'yellow heart', '🎧': 'headphone', '💜': 'purple heart', '💙': 'blue heart'}, {'💛': 'yellow heart'}, {'⁉️': 'exclamation question mark'}, {'😉': 'winking face', '❤': 'red heart'}, {'😂': 'face with tears of joy', '😖': 'confounded face'}, {'😘': 'face blowing a kiss', '😄': 'grinning face with smiling eyes'}, {'👌': 'OK hand', '😇': 'smiling face with halo', '💃': 'woman dancing', '🎀': 'ribbon'}, {'♥': 'heart suit'}, {'🎧': 'headphone'}, {'☺️': 'smiling face', '😘': 'face blowing a kiss', '😭': 'loudly crying face', '😩': 'weary face'}, {'😓': 'downcast face with sweat'}, {'♥': 'heart suit'}, {'💖': 'sparkling heart'}, {'😍': 'smiling face with heart-eyes'}, {'😂': 'face with tears of joy', '🐴': 'horse face'}, {'♥': 'heart suit'}, {'💋': 'kiss mark'}, {'🇩🇪': 'flag: Germany', '🚙': 'sport utility vehicle', '🔅': 'dim button', '🏡': 'house with garden', '🔆': 'bright button', '🎄': 'Christmas tree'}, {'🌠': 'shooting star', '😇': 'smiling face with halo', '❤️': 'red heart'}, {'☹': 'frowning face'}, {'👏': 'clapping hands'}, {'♥': 'heart suit'}, {'🎧': 'headphone'}, {'♥': 'heart suit'}, {'😘': 'face blowing a kiss'}, {'☺': 'smiling face', '😡': 'pouting face'}, {'😔': 'pensive face'}, {'😉': 'winking face'}, {'🎨': 'artist palette', '🎮': 'video game'}, {'😉': 'winking face', '❤': 'red heart'}, {'😉': 'winking face'}, {'😔': 'pensive face'}, {'©': 'copyright'}, {'🙊': 'speak-no-evil monkey', '😍': 'smiling face with heart-eyes', '❤️': 'red heart'}, {'🎉': 'party popper'}, {'😡': 'pouting face'}, {'😍': 'smiling face with heart-eyes'}, {'♥': 'heart suit'}, {'✨': 'sparkles', '❤️': 'red heart'}, {'😉': 'winking face', '❤': 'red heart'}, {'♥': 'heart suit'}, {'❤️': 'red heart'}, {'🎧': 'headphone'}, {'♥': 'heart suit'}, {'❄️': 'snowflake', '⛄': 'snowman without snow'}, {'😉': 'winking face', '❤': 'red heart'}, {'😃': 'grinning face with big eyes'}, {'♥': 'heart suit'}, {'😷': 'face with medical mask', '😳': 'flushed face'}, {'😓': 'downcast face with sweat'}, {'🎶': 'musical notes'}, {'♥': 'heart suit'}, {'🍀': 'four leaf clover'}, {'😉': 'winking face', '❤': 'red heart'}, {'♥': 'heart suit'}, {'♥': 'heart suit'}, {'☁': 'cloud'}, {'💕': 'two hearts', '🚺': 'women’s room'}, {'🌚': 'new moon face', '❤️': 'red heart'}, {'💗': 'growing heart'}, {'😍': 'smiling face with heart-eyes'}, {'❤': 'red heart'}, {'😉': 'winking face', '❤': 'red heart'}, {'😉': 'winking face', '❤': 'red heart'}, {'😑': 'expressionless face'}, {'®': 'registered'}, {'™': 'trade mark'}, {'😉': 'winking face', '❤': 'red heart'}, {'♥': 'heart suit'}, {'♥': 'heart suit', '😳': 'flushed face'}, {'😢': 'crying face'}, {'😉': 'winking face', '❤': 'red heart'}, {'😂': 'face with tears of joy', '😏': 'smirking face'}, {'♥': 'heart suit'}, {'🎶': 'musical notes'}, {'😏': 'smirking face'}, {'🙆': 'person gesturing OK', '😡': 'pouting face'}, {'👌': 'OK hand', '🙌': 'raising hands'}, {'💖': 'sparkling heart'}, {'✌️': 'victory hand'}, {'💖': 'sparkling heart'}, {'🎅': 'Santa Claus', '🎉': 'party popper', '🎄': 'Christmas tree'}, {'♥': 'heart suit'}, {'💨': 'dashing away'}, {'♥': 'heart suit'}, {'😉': 'winking face', '❤': 'red heart'}, {'👊': 'oncoming fist'}, {'😍': 'smiling face with heart-eyes'}, {'😂': 'face with tears of joy'}, {'♥': 'heart suit'}, {'❤️': 'red heart'}, {'😔': 'pensive face', '😚': 'kissing face with closed eyes', '❤': 'red heart'}, {'♥': 'heart suit'}, {'😊': 'smiling face with smiling eyes', '💋': 'kiss mark', '👏': 'clapping hands'}, {'♥': 'heart suit'}, {'🙌': 'raising hands', '😏': 'smirking face'}, {'😂': 'face with tears of joy', '🙆': 'person gesturing OK'}, {'💕': 'two hearts'}, {'😃': 'grinning face with big eyes'}, {'😑': 'expressionless face'}, {'©': 'copyright'}, {'😍': 'smiling face with heart-eyes'}, {'™': 'trade mark'}, {'🌲': 'evergreen tree', '👪': 'family', '♥️': 'heart suit'}, {'🔫': 'water pistol'}, {'😍': 'smiling face with heart-eyes'}, {'😂': 'face with tears of joy', '👌': 'OK hand'}, {'🎉': 'party popper', '🎊': 'confetti ball'}, {'👍': 'thumbs up', '💋': 'kiss mark', '❤️': 'red heart', '♥️': 'heart suit'}, {'😒': 'unamused face', '😭': 'loudly crying face'}, {'💁': 'person tipping hand', '😏': 'smirking face'}, {'😍': 'smiling face with heart-eyes', '❤️': 'red heart'}, {'😉': 'winking face', '❤': 'red heart'}, {'😃': 'grinning face with big eyes'}, {'😂': 'face with tears of joy'}, {'😂': 'face with tears of joy'}, {'☹': 'frowning face'}, {'😩': 'weary face', '🔫': 'water pistol'}, {'👌': 'OK hand'}, {'🙅': 'person gesturing NO'}, {'☺️': 'smiling face'}, {'✋': 'raised hand', '😩': 'weary face', '😡': 'pouting face'}, {'♥': 'heart suit'}, {'☺': 'smiling face'}, {'😉': 'winking face', '❤': 'red heart'}, {'😉': 'winking face', '❤': 'red heart'}, {'⛄': 'snowman without snow', '🎄': 'Christmas tree', '❄️': 'snowflake', '🎅': 'Santa Claus', '🎁': 'wrapped gift'}, {'✨': 'sparkles'}, {'🎄': 'Christmas tree'}, {'💕': 'two hearts', '😘': 'face blowing a kiss', '☺️': 'smiling face'}, {'🐶': 'dog face'}, {'🐼': 'panda', '😫': 'tired face'}, {'🙏': 'folded hands'}, {'😘': 'face blowing a kiss', '❤️': 'red heart'}, {'😉': 'winking face', '❤': 'red heart'}, {'😜': 'winking face with tongue', '😄': 'grinning face with smiling eyes'}, {'©': 'copyright'}, {'💤': 'zzz'}, {'♥': 'heart suit'}, {'🎅': 'Santa Claus'}, {'😊': 'smiling face with smiling eyes'}, {'♥': 'heart suit'}, {'⛄': 'snowman without snow'}, {'🙈': 'see-no-evil monkey', '🙆': 'person gesturing OK'}, {'♥': 'heart suit'}, {'💩': 'pile of poo'}, {'♥': 'heart suit'}, {'☺': 'smiling face'}, {'😂': 'face with tears of joy', '👌': 'OK hand', '😳': 'flushed face'}, {'😉': 'winking face', '❤': 'red heart'}, {'😉': 'winking face', '❤': 'red heart'}, {'🍀': 'four leaf clover'}, {'🙊': 'speak-no-evil monkey', '🍳': 'cooking'}, {'❤️': 'red heart'}, {'🌌': 'milky way'}, {'😢': 'crying face'}, {'🎶': 'musical notes'}, {'🐧': 'penguin', '❤️': 'red heart'}, {'🙌': 'raising hands'}, {'👍': 'thumbs up', '🆘': 'SOS button', '😴': 'sleeping face'}, {'😂': 'face with tears of joy'}, {'♥': 'heart suit'}, {'©': 'copyright'}, {'👸': 'princess'}, {'😘': 'face blowing a kiss', '☺️': 'smiling face', '💋': 'kiss mark', '💙': 'blue heart'}, {'😉': 'winking face', '❤': 'red heart'}, {'💃': 'woman dancing', '🏃': 'person running'}, {'❤️': 'red heart'}, {'🚢': 'ship', '😄': 'grinning face with smiling eyes'}, {'🏰': 'castle', '🎼': 'musical score', '🎶': 'musical notes', '🎄': 'Christmas tree', '🎁': 'wrapped gift'}, {'🎧': 'headphone'}, {'🔄': 'counterclockwise arrows button'}, {'💁': 'person tipping hand'}, {'❤️': 'red heart'}, {'😉': 'winking face', '❤': 'red heart'}, {'♥': 'heart suit'}, {'👑': 'crown', '👏': 'clapping hands'}, {'💸': 'money with wings', '😭': 'loudly crying face'}, {'😂': 'face with tears of joy'}, {'♥': 'heart suit'}, {'👊': 'oncoming fist'}, {'♥': 'heart suit'}, {'😛': 'face with tongue', '😅': 'grinning face with sweat', '😏': 'smirking face', '😍': 'smiling face with heart-eyes', '😄': 'grinning face with smiling eyes', '😉': 'winking face', '😋': 'face savoring food', '😘': 'face blowing a kiss', '😳': 'flushed face'}, {'✊': 'raised fist', '💯': 'hundred points'}, {'😂': 'face with tears of joy'}, {'🙈': 'see-no-evil monkey'}, {'😘': 'face blowing a kiss'}, {'♥': 'heart suit'}, {'☕': 'hot beverage', '🌸': 'cherry blossom'}, {'😉': 'winking face', '👌': 'OK hand', '😒': 'unamused face'}, {'😂': 'face with tears of joy'}, {'®': 'registered'}, {'☝️': 'index pointing up'}, {'💔': 'broken heart'}, {'👍': 'thumbs up', '☺️': 'smiling face'}, {'🚓': 'police car', '🚨': 'police car light'}, {'❤': 'red heart'}, {'😄': 'grinning face with smiling eyes'}, {'😂': 'face with tears of joy', '👌': 'OK hand'}, {'❤️': 'red heart'}, {'🎅': 'Santa Claus', '🎄': 'Christmas tree'}, {'❤': 'red heart', '💋': 'kiss mark'}, {'😍': 'smiling face with heart-eyes'}, {'☹': 'frowning face', '☺': 'smiling face'}, {'😂': 'face with tears of joy'}, {'❤️': 'red heart'}, {'™': 'trade mark', '♥': 'heart suit'}, {'😏': 'smirking face'}, {'📄': 'page facing up', '📨': 'incoming envelope', '❄️': 'snowflake', '🎅': 'Santa Claus', '🎁': 'wrapped gift', '☺': 'smiling face'}, {'😉': 'winking face', '❤': 'red heart'}, {'❤️': 'red heart'}, {'💕': 'two hearts'}, {'😂': 'face with tears of joy', '👌': 'OK hand'}, {'😝': 'squinting face with tongue'}, {'♥': 'heart suit'}, {'♥': 'heart suit'}, {'❤': 'red heart'}, {'😘': 'face blowing a kiss', '😍': 'smiling face with heart-eyes'}, {'♥': 'heart suit'}, {'😍': 'smiling face with heart-eyes', '💜': 'purple heart'}, {'💛': 'yellow heart', '👩': 'woman', '👸': 'princess', '👑': 'crown'}, {'™': 'trade mark'}, {'🍟': 'french fries', '🔪': 'kitchen knife', '😊': 'smiling face with smiling eyes', '📀': 'dvd', '🍔': 'hamburger', '🎥': 'movie camera'}, {'🙌': 'raising hands'}, {'😃': 'grinning face with big eyes', '👍': 'thumbs up', '😄': 'grinning face with smiling eyes'}, {'😉': 'winking face', '❤': 'red heart'}, {'😚': 'kissing face with closed eyes'}, {'❤️': 'red heart'}, {'💖': 'sparkling heart'}, {'♥': 'heart suit'}, {'❤': 'red heart', '😊': 'smiling face with smiling eyes', '😍': 'smiling face with heart-eyes'}, {'❤️': 'red heart'}, {'😭': 'loudly crying face'}, {'😳': 'flushed face'}, {'™': 'trade mark'}, {'😍': 'smiling face with heart-eyes', '❤️': 'red heart', '👍': 'thumbs up', '🎄': 'Christmas tree', '🎅': 'Santa Claus'}, {'🍺': 'beer mug', '😊': 'smiling face with smiling eyes', '👊': 'oncoming fist', '😝': 'squinting face with tongue', '😜': 'winking face with tongue', '🍻': 'clinking beer mugs'}, {'🍍': 'pineapple', '🍉': 'watermelon', '🍈': 'melon'}, {'😒': 'unamused face'}, {'💋': 'kiss mark', '👬': 'men holding hands', '👭': 'women holding hands', '😘': 'face blowing a kiss', '❤': 'red heart', '💞': 'revolving hearts'}, {'😂': 'face with tears of joy', '🍊': 'tangerine', '🍻': 'clinking beer mugs', '🏈': 'american football'}, {'😉': 'winking face', '❤': 'red heart'}, {'😂': 'face with tears of joy', '👌': 'OK hand', '😏': 'smirking face'}, {'😒': 'unamused face', '😳': 'flushed face'}, {'😝': 'squinting face with tongue'}, {'🙆': 'person gesturing OK'}, {'💁': 'person tipping hand', '🎉': 'party popper', '💃': 'woman dancing'}, {'😉': 'winking face', '❤': 'red heart'}, {'♥': 'heart suit'}, {'😉': 'winking face', '❤': 'red heart'}, {'👍': 'thumbs up', '✌️': 'victory hand'}, {'😔': 'pensive face'}, {'👹': 'ogre', '😄': 'grinning face with smiling eyes'}, {'😡': 'pouting face'}, {'💋': 'kiss mark'}, {'😩': 'weary face'}, {'♥': 'heart suit'}, {'😡': 'pouting face'}, {'😁': 'beaming face with smiling eyes', '👏': 'clapping hands'}, {'😏': 'smirking face'}, {'✨': 'sparkles'}, {'♥': 'heart suit'}, {'👌': 'OK hand', '😘': 'face blowing a kiss', '🎉': 'party popper', '🍷': 'wine glass'}, {'😪': 'sleepy face', '😢': 'crying face', '😷': 'face with medical mask', '😭': 'loudly crying face', '👶': 'baby', '👂': 'ear'}, {'💁': 'person tipping hand'}, {'®': 'registered'}, {'❤️': 'red heart'}, {'😘': 'face blowing a kiss', '💖': 'sparkling heart'}, {'✏': 'pencil', '😭': 'loudly crying face'}, {'♥': 'heart suit'}, {'♥': 'heart suit'}, {'💕': 'two hearts'}, {'😉': 'winking face', '❤': 'red heart'}, {'♥': 'heart suit'}, {'😥': 'sad but relieved face', '😓': 'downcast face with sweat', '😳': 'flushed face'}, {'🎶': 'musical notes', '🎵': 'musical note', '😮': 'face with open mouth'}, {'☹': 'frowning face'}, {'©': 'copyright'}, {'😂': 'face with tears of joy'}, {'♥': 'heart suit'}, {'🔥': 'fire'}, {'👌': 'OK hand', '😍': 'smiling face with heart-eyes'}, {'♥': 'heart suit'}, {'😝': 'squinting face with tongue'}, {'😂': 'face with tears of joy'}, {'🙈': 'see-no-evil monkey', '😳': 'flushed face'}, {'😆': 'grinning squinting face', '😒': 'unamused face'}, {'™': 'trade mark'}, {'🎅': 'Santa Claus'}, {'🙊': 'speak-no-evil monkey'}, {'☹': 'frowning face', '☺': 'smiling face'}, {'♥': 'heart suit'}, {'😟': 'worried face'}, {'♥': 'heart suit'}, {'♥': 'heart suit'}, {'♥': 'heart suit'}, {'♥': 'heart suit'}, {'♥': 'heart suit'}, {'😂': 'face with tears of joy', '👏': 'clapping hands'}, {'♥': 'heart suit'}, {'👍': 'thumbs up'}, {'▶': 'play button'}, {'😳': 'flushed face'}, {'😉': 'winking face', '❤': 'red heart'}, {'😉': 'winking face', '❤': 'red heart'}, {'♥': 'heart suit'}, {'😒': 'unamused face'}, {'😳': 'flushed face'}, {'💕': 'two hearts', '☺️': 'smiling face'}, {'😂': 'face with tears of joy', '😘': 'face blowing a kiss'}, {'☺': 'smiling face'}, {'😔': 'pensive face'}, {'💋': 'kiss mark'}, {'😂': 'face with tears of joy', '😁': 'beaming face with smiling eyes'}, {'😉': 'winking face', '❤': 'red heart'}, {'❄️': 'snowflake'}, {'♥': 'heart suit'}, {'😘': 'face blowing a kiss', '👯': 'people with bunny ears'}, {'❤️': 'red heart'}, {'😂': 'face with tears of joy', '❤️': 'red heart'}, {'♥': 'heart suit'}, {'😉': 'winking face', '❤': 'red heart'}, {'😉': 'winking face', '🇮🇹': 'flag: Italy'}, {'👣': 'footprints'}, {'😆': 'grinning squinting face'}, {'🙌': 'raising hands', '😁': 'beaming face with smiling eyes'}, {'♥': 'heart suit'}, {'😉': 'winking face', '❤': 'red heart'}, {'®': 'registered'}, {'♥': 'heart suit'}, {'☺️': 'smiling face'}, {'😭': 'loudly crying face'}, {'🔞': 'no one under eighteen'}, {'👍': 'thumbs up', '✌️': 'victory hand', '☺️': 'smiling face'}, {'😒': 'unamused face', '👊': 'oncoming fist'}, {'❤️': 'red heart'}, {'😂': 'face with tears of joy'}, {'🎅': 'Santa Claus'}, {'😂': 'face with tears of joy', '👌': 'OK hand', '✋': 'raised hand'}, {'😂': 'face with tears of joy', '😳': 'flushed face'}, {'♥': 'heart suit'}, {'😷': 'face with medical mask'}, {'😂': 'face with tears of joy'}, {'😂': 'face with tears of joy', '👌': 'OK hand'}, {'💪': 'flexed biceps', '😊': 'smiling face with smiling eyes'}, {'😂': 'face with tears of joy'}, {'😒': 'unamused face'}, {'🎧': 'headphone'}, {'😌': 'relieved face'}, {'™': 'trade mark'}, {'😂': 'face with tears of joy', '👀': 'eyes', '😭': 'loudly crying face'}, {'👍': 'thumbs up', '👌': 'OK hand'}, {'😘': 'face blowing a kiss'}, {'🙅': 'person gesturing NO'}, {'👳': 'person wearing turban', '📱': 'mobile phone'}, {'😂': 'face with tears of joy', '⛄': 'snowman without snow', '😭': 'loudly crying face', '🎅': 'Santa Claus', '🎁': 'wrapped gift'}, {'😏': 'smirking face'}, {'🙅': 'person gesturing NO', '😳': 'flushed face'}, {'😉': 'winking face', '❤': 'red heart'}, {'❤️': 'red heart'}, {'❤️': 'red heart', '😽': 'kissing cat', '😻': 'smiling cat with heart-eyes', '💛': 'yellow heart', '🎈': 'balloon'}, {'🌁': 'foggy', '⛅': 'sun behind cloud', '🌊': 'water wave', '☁': 'cloud', '🚢': 'ship'}, {'♥': 'heart suit'}, {'☺': 'smiling face'}, {'❤️': 'red heart'}, {'☺': 'smiling face'}, {'♥': 'heart suit'}, {'✖': 'multiply'}, {'🎶': 'musical notes', '😏': 'smirking face'}, {'❤️': 'red heart'}, {'😘': 'face blowing a kiss'}, {'©': 'copyright'}, {'😂': 'face with tears of joy'}, {'🙈': 'see-no-evil monkey'}, {'😊': 'smiling face with smiling eyes'}, {'😓': 'downcast face with sweat'}, {'♥': 'heart suit'}, {'🐧': 'penguin', '❤️': 'red heart'}, {'🎅': 'Santa Claus', '🎄': 'Christmas tree'}, {'🎤': 'microphone'}, {'♥': 'heart suit'}, {'😉': 'winking face', '😊': 'smiling face with smiling eyes'}, {'🙅': 'person gesturing NO'}, {'🎉': 'party popper', '🎄': 'Christmas tree', '🎊': 'confetti ball', '🔮': 'crystal ball', '🎅': 'Santa Claus', '🎁': 'wrapped gift'}, {'😉': 'winking face', '❤': 'red heart'}, {'😭': 'loudly crying face'}, {'😭': 'loudly crying face'}, {'💂': 'guard'}, {'👫': 'woman and man holding hands', '🌃': 'night with stars', '💞': 'revolving hearts'}, {'❄️': 'snowflake', '👌': 'OK hand', '✌️': 'victory hand', '😍': 'smiling face with heart-eyes'}, {'♥': 'heart suit'}, {'☹': 'frowning face'}, {'😊': 'smiling face with smiling eyes'}, {'🎄': 'Christmas tree', '😊': 'smiling face with smiling eyes'}, {'♥': 'heart suit'}, {'😇': 'smiling face with halo', '❤️': 'red heart'}, {'💁': 'person tipping hand', '🎓': 'graduation cap', '👯': 'people with bunny ears'}, {'😉': 'winking face', '❤': 'red heart'}, {'♥': 'heart suit'}, {'😌': 'relieved face'}, {'❤': 'red heart'}, {'♥': 'heart suit'}, {'😂': 'face with tears of joy', '😏': 'smirking face', '😳': 'flushed face'}, {'😚': 'kissing face with closed eyes'}, {'☕': 'hot beverage'}, {'✔️': 'check mark'}, {'😨': 'fearful face'}, {'😭': 'loudly crying face'}, {'♥': 'heart suit'}, {'👫': 'woman and man holding hands', '❤': 'red heart', '🎈': 'balloon'}, {'🙈': 'see-no-evil monkey'}, {'❤️': 'red heart'}, {'⭐': 'star', '🏰': 'castle', '🌌': 'milky way'}, {'😉': 'winking face', '❤': 'red heart'}, {'♥': 'heart suit'}, {'♥': 'heart suit'}, {'😂': 'face with tears of joy'}, {'©': 'copyright'}, {'😔': 'pensive face', '✋': 'raised hand'}, {'♥': 'heart suit'}, {'💕': 'two hearts'}, {'😉': 'winking face', '❤': 'red heart'}, {'♥': 'heart suit'}, {'😂': 'face with tears of joy'}, {'✌️': 'victory hand', '😫': 'tired face', '😎': 'smiling face with sunglasses'}, {'💁': 'person tipping hand', '🙌': 'raising hands'}, {'💗': 'growing heart', '😭': 'loudly crying face'}, {'✈️': 'airplane'}, {'😂': 'face with tears of joy', '🙏': 'folded hands'}, {'😂': 'face with tears of joy'}, {'🙈': 'see-no-evil monkey', '💕': 'two hearts', '😄': 'grinning face with smiling eyes'}, {'😳': 'flushed face'}, {'❤️': 'red heart'}, {'💁': 'person tipping hand'}, {'😂': 'face with tears of joy'}, {'😉': 'winking face', '❤': 'red heart'}, {'💀': 'skull'}, {'♥': 'heart suit'}, {'😭': 'loudly crying face'}, {'♥': 'heart suit'}, {'❄': 'snowflake', '🎿': 'skis', '🏂': 'snowboarder'}, {'♥': 'heart suit'}, {'💕': 'two hearts'}, {'💕': 'two hearts', '🐷': 'pig face'}, {'😂': 'face with tears of joy', '🎾': 'tennis', '🐶': 'dog face'}, {'🎄': 'Christmas tree'}, {'😉': 'winking face', '❤': 'red heart'}, {'😝': 'squinting face with tongue', '👋': 'waving hand'}, {'🙌': 'raising hands'}, {'😴': 'sleeping face', '😏': 'smirking face', '😩': 'weary face', '😱': 'face screaming in fear'}, {'😒': 'unamused face'}, {'😔': 'pensive face'}, {'▶': 'play button'}, {'☹': 'frowning face'}, {'👰': 'person with veil', '💏': 'kiss', '🙏': 'folded hands', '💖': 'sparkling heart'}, {'🙍': 'person frowning'}, {'♥': 'heart suit'}, {'😉': 'winking face', '❤': 'red heart'}, {'®': 'registered'}, {'💁': 'person tipping hand'}, {'♥': 'heart suit'}, {'♥': 'heart suit'}, {'®': 'registered'}, {'😂': 'face with tears of joy', '🙈': 'see-no-evil monkey', '😳': 'flushed face'}, {'😎': 'smiling face with sunglasses'}, {'♥': 'heart suit'}, {'♥': 'heart suit'}, {'🌻': 'sunflower', '🌞': 'sun with face', '😘': 'face blowing a kiss', '😁': 'beaming face with smiling eyes', '💞': 'revolving hearts'}, {'😆': 'grinning squinting face'}, {'😆': 'grinning squinting face', '👍': 'thumbs up', '😉': 'winking face', '😜': 'winking face with tongue', '😁': 'beaming face with smiling eyes', '🎈': 'balloon'}, {'😂': 'face with tears of joy'}, {'😉': 'winking face'}, {'👌': 'OK hand'}, {'😚': 'kissing face with closed eyes', '❤️': 'red heart'}, {'😍': 'smiling face with heart-eyes'}, {'😂': 'face with tears of joy'}, {'😋': 'face savoring food'}, {'❤️': 'red heart'}, {'😂': 'face with tears of joy', '🙈': 'see-no-evil monkey'}, {'😍': 'smiling face with heart-eyes', '🎀': 'ribbon'}, {'♥': 'heart suit'}, {'😉': 'winking face', '❤': 'red heart'}, {'😂': 'face with tears of joy', '👌': 'OK hand'}, {'♥': 'heart suit'}, {'♥': 'heart suit'}, {'😂': 'face with tears of joy'}, {'😍': 'smiling face with heart-eyes'}, {'🐇': 'rabbit'}, {'😂': 'face with tears of joy'}, {'♥': 'heart suit'}, {'🙌': 'raising hands', '😭': 'loudly crying face'}, {'😘': 'face blowing a kiss'}, {'😂': 'face with tears of joy'}, {'♥': 'heart suit'}, {'😏': 'smirking face'}, {'😂': 'face with tears of joy'}, {'🍀': 'four leaf clover'}, {'😂': 'face with tears of joy'}, {'😉': 'winking face', '❤': 'red heart'}, {'♥': 'heart suit'}, {'👼': 'baby angel', '🙈': 'see-no-evil monkey', '🙉': 'hear-no-evil monkey', '😇': 'smiling face with halo', '🙊': 'speak-no-evil monkey', '💦': 'sweat droplets'}, {'😳': 'flushed face'}, {'♥': 'heart suit'}, {'♥': 'heart suit'}, {'😂': 'face with tears of joy', '✊': 'raised fist', '😍': 'smiling face with heart-eyes'}, {'🍩': 'doughnut', '☕': 'hot beverage'}, {'♥': 'heart suit'}, {'😩': 'weary face'}, {'✌️': 'victory hand'}, {'♥': 'heart suit'}, {'♥': 'heart suit'}, {'♥': 'heart suit'}, {'🎅': 'Santa Claus', '🎄': 'Christmas tree', '⛄': 'snowman without snow'}, {'💕': 'two hearts', '😘': 'face blowing a kiss'}, {'🙌': 'raising hands', '🙏': 'folded hands', '👏': 'clapping hands'}, {'♥': 'heart suit'}, {'😿': 'crying cat', '😶': 'face without mouth'}, {'😳': 'flushed face'}, {'☹': 'frowning face'}, {'❤️': 'red heart'}, {'🎁': 'wrapped gift'}, {'🎶': 'musical notes', '❤': 'red heart', '😍': 'smiling face with heart-eyes', '🎸': 'guitar'}, {'♥': 'heart suit'}, {'💞': 'revolving hearts', '💋': 'kiss mark'}, {'😒': 'unamused face', '💔': 'broken heart'}, {'💖': 'sparkling heart'}, {'😉': 'winking face'}, {'❗': 'red exclamation mark', '〰': 'wavy dash'}, {'♥': 'heart suit'}, {'👌': 'OK hand'}, {'😂': 'face with tears of joy'}, {'😉': 'winking face', '❤': 'red heart'}, {'😉': 'winking face', '❤': 'red heart'}, {'💖': 'sparkling heart'}, {'😅': 'grinning face with sweat'}, {'💛': 'yellow heart', '💙': 'blue heart'}, {'😭': 'loudly crying face', '😊': 'smiling face with smiling eyes'}, {'☹': 'frowning face'}, {'🎄': 'Christmas tree', '🎈': 'balloon'}, {'😔': 'pensive face', '🙈': 'see-no-evil monkey'}, {'❤': 'red heart'}, {'😁': 'beaming face with smiling eyes'}, {'🙌': 'raising hands'}, {'❤️': 'red heart'}, {'😠': 'angry face'}, {'🎄': 'Christmas tree'}, {'♥': 'heart suit'}, {'☺️': 'smiling face'}, {'💎': 'gem stone', '👊': 'oncoming fist', '💯': 'hundred points', '💍': 'ring', '👪': 'family'}, {'😝': 'squinting face with tongue'}, {'😒': 'unamused face'}, {'🎻': 'violin', '🙀': 'weary cat', '❤️': 'red heart', '🎶': 'musical notes'}, {'❤️': 'red heart', '💖': 'sparkling heart'}, {'🍋': 'lemon', '😟': 'worried face'}, {'✋': 'raised hand'}, {'🐷': 'pig face'}, {'🇺🇸': 'flag: United States'}, {'💕': 'two hearts'}, {'😀': 'grinning face', '🙊': 'speak-no-evil monkey', '😋': 'face savoring food', '😗': 'kissing face'}, {'☺': 'smiling face'}, {'😊': 'smiling face with smiling eyes', '❤️': 'red heart'}, {'❤️': 'red heart'}, {'😍': 'smiling face with heart-eyes', '⛄': 'snowman without snow', '🔥': 'fire', '🎊': 'confetti ball', '🔯': 'dotted six-pointed star'}, {'♥': 'heart suit'}, {'👍': 'thumbs up', '💃': 'woman dancing'}, {'♥': 'heart suit'}, {'♥': 'heart suit'}, {'🎻': 'violin', '😊': 'smiling face with smiling eyes'}, {'💼': 'briefcase', '👔': 'necktie'}, {'👌': 'OK hand'}, {'😭': 'loudly crying face'}, {'💛': 'yellow heart'}, {'🙌': 'raising hands'}, {'❤️': 'red heart'}, {'🔥': 'fire', '🙏': 'folded hands'}, {'💕': 'two hearts'}, {'♥': 'heart suit'}, {'❤️': 'red heart', '👍': 'thumbs up', '😘': 'face blowing a kiss', '😄': 'grinning face with smiling eyes'}, {'💐': 'bouquet', '❤️': 'red heart', '🎄': 'Christmas tree', '🎅': 'Santa Claus', '🎁': 'wrapped gift'}, {'💁': 'person tipping hand', '😔': 'pensive face', '🙌': 'raising hands', '😩': 'weary face'}, {'🌵': 'cactus', '😒': 'unamused face', '✌️': 'victory hand'}, {'♥': 'heart suit'}, {'😉': 'winking face', '❤': 'red heart'}, {'♥': 'heart suit'}, {'™': 'trade mark'}, {'♥': 'heart suit'}, {'😔': 'pensive face', '😭': 'loudly crying face'}, {'💖': 'sparkling heart'}, {'🌞': 'sun with face', '☕': 'hot beverage'}, {'😩': 'weary face', '😣': 'persevering face', '😒': 'unamused face', '❄️': 'snowflake', '😁': 'beaming face with smiling eyes'}, {'😘': 'face blowing a kiss', '😏': 'smirking face', '❤️': 'red heart'}, {'❤️': 'red heart'}, {'💕': 'two hearts', '😘': 'face blowing a kiss'}, {'🍏': 'green apple'}, {'🎶': 'musical notes', '🎧': 'headphone'}, {'❤️': 'red heart'}, {'😭': 'loudly crying face', '💔': 'broken heart', '😑': 'expressionless face'}, {'😜': 'winking face with tongue'}, {'🙌': 'raising hands'}, {'😂': 'face with tears of joy'}]\n"
          ]
        }
      ]
    },
    {
      "cell_type": "code",
      "metadata": {
        "id": "COfpg1hbZs6V"
      },
      "source": [
        "all_keys = set().union(*(d.keys() for d in f))"
      ],
      "execution_count": 10,
      "outputs": []
    },
    {
      "cell_type": "code",
      "metadata": {
        "colab": {
          "base_uri": "https://localhost:8080/"
        },
        "id": "bO_fk8pSZzLv",
        "outputId": "54082d50-9e77-4d7b-d0e5-f4eff91bd5c8"
      },
      "source": [
        "print(all_keys)"
      ],
      "execution_count": 11,
      "outputs": [
        {
          "output_type": "stream",
          "name": "stdout",
          "text": [
            "{'😀', '😏', '☺️', '🎾', '🍧', '💔', '📯', '😿', '😶', '🍔', '🇬🇧', '📖', '😊', '🌏', '🎸', '😥', '🍝', '🎌', '✋', '😳', '💅', '👆', '🔮', '🍬', '👈', '😍', '😕', '🚬', '🔥', '☃', '🔞', '👔', '🏊', '💝', '🐒', '🎈', '🌴', '🏃', '🍩', '👎', '🍤', '💩', '©', '🚴', '🐣', '👻', '🚼', '💊', '🌱', '🙆', '🙅', '👅', '🐤', '❗', '✖', '💰', '⚡', '💂', '⬅️', '💚', '💌', '🍕', '🎁', '👊', '😱', '🌌', '📚', '💞', '🍭', '⛄', '👳', '🎤', '📀', '💨', '😁', '😨', '💖', '🚗', '😇', '💧', '🇫🇷', '😎', '🌃', '〰', '💽', '🏂', '🆒', '🍦', '😩', '🌻', '💀', '⏰', '🍲', '🚢', '😅', '🍅', '😣', '👱', '😈', '🎆', '🍳', '🎎', '🍗', '💙', '🙊', '☹', '🍸', '💐', '🌅', '🎮', '🐬', '😯', '👃', '🍷', '🍖', '😒', '🍊', '🌸', '🍻', '🐽', '😰', '🆘', '🐛', '🍃', '😠', '🍰', '🎿', '🙌', '😪', '☠', '☀️', '▶', '👀', '🍺', '😢', '👫', '🙈', '🚔', '🎊', '😑', '🎹', '◽', '☮', '✊', '👩', '🚨', '💕', '⭐', '❌', '👬', '😭', '🌲', '🌀', '🍹', '💆', '👌', '▪', '💎', '➡️', '😓', '☺', '🍓', '💋', '🐾', '🍛', '👠', '🌆', '™', '📓', '🙀', '🚀', '🙋', '💢', '🎼', '🍍', '✴', '😽', '😝', '👶', '😫', '😐', '❄', '💻', '👙', '✔️', '😵', '😬', '😮', '🍉', '👾', '🏄', '😚', '🎨', '💛', '😜', '🐥', '🔄', '🌠', '❄️', '👋', '😦', '🔆', '💯', '🌞', '😌', '💁', '🎉', '📺', '♦', '🕑', '🌎', '🎶', '👏', '😃', '🐇', '🍏', '🇩🇪', '☕', '😴', '🎵', '🌍', '🙉', '👂', '😷', '🐶', '🕥', '👯', '🌙', '🕐', '😙', '🎀', '💸', '😆', '🔫', '♏', '😉', '👭', '🐷', '💘', '👿', '♥', '☁️', '🎓', '😂', '⁉️', '😟', '💟', '💜', '😤', '🌊', '🌾', '🐴', '🍨', '🏡', '🐰', '😲', '💳', '🚶', '🍁', '😡', '🐳', '🔪', '🍠', '🌁', '😻', '🔯', '🔅', '🍀', '🎻', '🍵', '🐠', '👉', '☀', '👪', '✌', '👜', '💥', '😹', '👣', '🍈', '🇺🇸', '📨', '🇮🇹', '😗', '🌚', '💵', '🙍', '🎄', '🐉', '◾', '🌂', '💍', '⛪', '🎧', '❤️', '®', '❤', '👑', '💣', '🍋', '🎺', '📑', '🚺', '😘', '✌️', '🚫', '🌽', '💤', '🎥', '✏', '💪', '🏰', '😞', '✖️', '👹', '📣', '😺', '😄', '👰', '☔', '🎅', '😔', '☂', '💼', '🚓', '🍫', '👄', '💄', '👐', '💗', '🌵', '🐟', '💃', '🙏', '✨', '☝️', '☁', '🏈', '🍪', '⛅', '💉', '🐭', '⚽', '😛', '🍟', '💏', '😋', '📄', '🏥', '🐼', '♥️', '😧', '💦', '🎷', '🎂', '📱', '🚙', '👼', '🍆', '✈', '👸', '🎭', '🐸', '👍', '✈️', '😖', '🎋', '🐧'}\n"
          ]
        }
      ]
    },
    {
      "cell_type": "code",
      "metadata": {
        "colab": {
          "base_uri": "https://localhost:8080/"
        },
        "id": "zGQlUqZUZ215",
        "outputId": "efab0d55-bc4e-4d00-c625-0cdfcb475632"
      },
      "source": [
        "len(all_keys)"
      ],
      "execution_count": 12,
      "outputs": [
        {
          "output_type": "execute_result",
          "data": {
            "text/plain": [
              "368"
            ]
          },
          "metadata": {},
          "execution_count": 12
        }
      ]
    },
    {
      "cell_type": "code",
      "metadata": {
        "id": "tAjZFPZylu8j"
      },
      "source": [
        "df= df.drop(['Unnamed: 0','index','Tweet_id'],axis=1)"
      ],
      "execution_count": 13,
      "outputs": []
    },
    {
      "cell_type": "code",
      "metadata": {
        "id": "LU7PCysjmDCw"
      },
      "source": [
        "import re\n",
        "emoji_1 = re.compile('[\\\\u203C-\\\\u3299\\\\U0001F000-\\\\U0001F644]')"
      ],
      "execution_count": 6,
      "outputs": []
    },
    {
      "cell_type": "code",
      "metadata": {
        "id": "sPRf-k7DmzON"
      },
      "source": [
        "emoji_list= list(filter(emoji_1.match, df['Tweet']))"
      ],
      "execution_count": 7,
      "outputs": []
    },
    {
      "cell_type": "code",
      "metadata": {
        "id": "iv8JuUgLm4JB"
      },
      "source": [
        "emo_found= ' '.join(emoji for emoji in emoji_list)"
      ],
      "execution_count": 8,
      "outputs": []
    },
    {
      "cell_type": "code",
      "metadata": {
        "colab": {
          "base_uri": "https://localhost:8080/"
        },
        "id": "kNfrgvAknC_2",
        "outputId": "6aade16b-c0e0-406a-e077-fa5dc6879153"
      },
      "source": [
        "!pip install emoji"
      ],
      "execution_count": 11,
      "outputs": [
        {
          "output_type": "stream",
          "name": "stdout",
          "text": [
            "Collecting emoji\n",
            "  Downloading emoji-1.6.0.tar.gz (168 kB)\n",
            "\u001b[?25l\r\u001b[K     |██                              | 10 kB 25.7 MB/s eta 0:00:01\r\u001b[K     |███▉                            | 20 kB 32.2 MB/s eta 0:00:01\r\u001b[K     |█████▉                          | 30 kB 24.0 MB/s eta 0:00:01\r\u001b[K     |███████▊                        | 40 kB 18.8 MB/s eta 0:00:01\r\u001b[K     |█████████▊                      | 51 kB 10.1 MB/s eta 0:00:01\r\u001b[K     |███████████▋                    | 61 kB 8.7 MB/s eta 0:00:01\r\u001b[K     |█████████████▋                  | 71 kB 9.5 MB/s eta 0:00:01\r\u001b[K     |███████████████▌                | 81 kB 10.7 MB/s eta 0:00:01\r\u001b[K     |█████████████████▌              | 92 kB 10.0 MB/s eta 0:00:01\r\u001b[K     |███████████████████▍            | 102 kB 9.4 MB/s eta 0:00:01\r\u001b[K     |█████████████████████▍          | 112 kB 9.4 MB/s eta 0:00:01\r\u001b[K     |███████████████████████▎        | 122 kB 9.4 MB/s eta 0:00:01\r\u001b[K     |█████████████████████████▎      | 133 kB 9.4 MB/s eta 0:00:01\r\u001b[K     |███████████████████████████▏    | 143 kB 9.4 MB/s eta 0:00:01\r\u001b[K     |█████████████████████████████▏  | 153 kB 9.4 MB/s eta 0:00:01\r\u001b[K     |███████████████████████████████ | 163 kB 9.4 MB/s eta 0:00:01\r\u001b[K     |████████████████████████████████| 168 kB 9.4 MB/s \n",
            "\u001b[?25hBuilding wheels for collected packages: emoji\n",
            "  Building wheel for emoji (setup.py) ... \u001b[?25l\u001b[?25hdone\n",
            "  Created wheel for emoji: filename=emoji-1.6.0-py3-none-any.whl size=168256 sha256=504e5c8294fa46cf1711f586e8b120a24d0a21b8f3f354b76b4893891e2df2d3\n",
            "  Stored in directory: /root/.cache/pip/wheels/f7/d7/74/c720aaf345a042b0c2d74361873258c5e8649b7f11b2ccce49\n",
            "Successfully built emoji\n",
            "Installing collected packages: emoji\n",
            "Successfully installed emoji-1.6.0\n"
          ]
        }
      ]
    },
    {
      "cell_type": "code",
      "metadata": {
        "id": "V9d8bi8Rm-9b"
      },
      "source": [
        "from emoji import UNICODE_EMOJI\n",
        "\n",
        "def get_emoji_set(text):\n",
        "    return {letter for letter in text if letter in UNICODE_EMOJI['en'] }"
      ],
      "execution_count": 9,
      "outputs": []
    },
    {
      "cell_type": "code",
      "metadata": {
        "id": "uZbMBPzMnMId"
      },
      "source": [
        "c = get_emoji_set(emo_found)"
      ],
      "execution_count": 10,
      "outputs": []
    },
    {
      "cell_type": "code",
      "metadata": {
        "colab": {
          "base_uri": "https://localhost:8080/"
        },
        "id": "xDggZWpFnOuY",
        "outputId": "2f5ebf2a-4263-4ce1-ed5f-c71f528cfd53"
      },
      "source": [
        "print(c)"
      ],
      "execution_count": 11,
      "outputs": [
        {
          "output_type": "stream",
          "name": "stdout",
          "text": [
            "{'🏥', '😝', '🐶', '🎅', '🍃', '💝', '🍊', '👫', '😩', '💚', '🙊', '❄', '🍻', '😋', '☕', '😍', '🎈', '😛', '💕', '😒', '😕', '🌏', '🎧', '😇', '🌞', '⛄', '💊', '🐉', '💗', '🎁', '🙉', '💯', '💦', '😙', '😱', '💎', '👌', '🐒', '🎀', '⭐', '💣', '☺', '😊', '🏈', '😏', '👼', '😆', '😂', '🌍', '📱', '🎄', '🎎', '😳', '♥', '😔', '🎶', '🍀', '🙈', '☹', '🐾', '✨', '🍩', '❤', '😘', '▶', '😢', '👑', '🐸'}\n"
          ]
        }
      ]
    },
    {
      "cell_type": "code",
      "metadata": {
        "colab": {
          "base_uri": "https://localhost:8080/"
        },
        "id": "JrU3yh6bZpSN",
        "outputId": "848d2316-8c62-44bd-9654-c10fbb014410"
      },
      "source": [
        "len(c)"
      ],
      "execution_count": 22,
      "outputs": [
        {
          "output_type": "execute_result",
          "data": {
            "text/plain": [
              "68"
            ]
          },
          "metadata": {},
          "execution_count": 22
        }
      ]
    },
    {
      "cell_type": "code",
      "metadata": {
        "colab": {
          "base_uri": "https://localhost:8080/"
        },
        "id": "__GW0odg-Zcc",
        "outputId": "1ff17ad2-27d2-41b9-d979-9afffdf79a70"
      },
      "source": [
        "!pip install emoji"
      ],
      "execution_count": 18,
      "outputs": [
        {
          "output_type": "stream",
          "name": "stdout",
          "text": [
            "Collecting emoji\n",
            "  Downloading emoji-1.6.0.tar.gz (168 kB)\n",
            "\u001b[?25l\r\u001b[K     |██                              | 10 kB 40.9 MB/s eta 0:00:01\r\u001b[K     |███▉                            | 20 kB 9.2 MB/s eta 0:00:01\r\u001b[K     |█████▉                          | 30 kB 8.2 MB/s eta 0:00:01\r\u001b[K     |███████▊                        | 40 kB 7.8 MB/s eta 0:00:01\r\u001b[K     |█████████▊                      | 51 kB 4.1 MB/s eta 0:00:01\r\u001b[K     |███████████▋                    | 61 kB 4.4 MB/s eta 0:00:01\r\u001b[K     |█████████████▋                  | 71 kB 4.6 MB/s eta 0:00:01\r\u001b[K     |███████████████▌                | 81 kB 5.2 MB/s eta 0:00:01\r\u001b[K     |█████████████████▌              | 92 kB 5.3 MB/s eta 0:00:01\r\u001b[K     |███████████████████▍            | 102 kB 4.3 MB/s eta 0:00:01\r\u001b[K     |█████████████████████▍          | 112 kB 4.3 MB/s eta 0:00:01\r\u001b[K     |███████████████████████▎        | 122 kB 4.3 MB/s eta 0:00:01\r\u001b[K     |█████████████████████████▎      | 133 kB 4.3 MB/s eta 0:00:01\r\u001b[K     |███████████████████████████▏    | 143 kB 4.3 MB/s eta 0:00:01\r\u001b[K     |█████████████████████████████▏  | 153 kB 4.3 MB/s eta 0:00:01\r\u001b[K     |███████████████████████████████ | 163 kB 4.3 MB/s eta 0:00:01\r\u001b[K     |████████████████████████████████| 168 kB 4.3 MB/s \n",
            "\u001b[?25hBuilding wheels for collected packages: emoji\n",
            "  Building wheel for emoji (setup.py) ... \u001b[?25l\u001b[?25hdone\n",
            "  Created wheel for emoji: filename=emoji-1.6.0-py3-none-any.whl size=168256 sha256=b519afb0f09544193ab8b4d94c255ad3b8d442616e55a03d6e5e758f912377c5\n",
            "  Stored in directory: /root/.cache/pip/wheels/f7/d7/74/c720aaf345a042b0c2d74361873258c5e8649b7f11b2ccce49\n",
            "Successfully built emoji\n",
            "Installing collected packages: emoji\n",
            "Successfully installed emoji-1.6.0\n"
          ]
        }
      ]
    },
    {
      "cell_type": "code",
      "metadata": {
        "id": "0ngNYRxaYlvS"
      },
      "source": [
        "import emoji\n",
        "def extract_emojis(s):\n",
        "    return ''.join((' '+c+' ') if c in emoji.UNICODE_EMOJI['en'] else c for c in s)"
      ],
      "execution_count": 14,
      "outputs": []
    },
    {
      "cell_type": "code",
      "metadata": {
        "id": "G8C1jVDrYrvI"
      },
      "source": [
        "df['Tweet'] = df['Tweet'].apply(extract_emojis)"
      ],
      "execution_count": 15,
      "outputs": []
    },
    {
      "cell_type": "code",
      "metadata": {
        "id": "zC5ssJiVYvsd"
      },
      "source": [
        "df.columns = df.columns.str.lstrip()"
      ],
      "execution_count": 16,
      "outputs": []
    },
    {
      "cell_type": "code",
      "metadata": {
        "colab": {
          "base_uri": "https://localhost:8080/",
          "height": 677
        },
        "id": "4J5-ddIc2DtI",
        "gather": {
          "logged": 1628695038088
        },
        "outputId": "6cdd44dc-7028-409d-d928-4832de81d990"
      },
      "source": [
        "from sklearn.utils import shuffle\n",
        "df = shuffle(df)\n",
        "df.head(20)"
      ],
      "execution_count": null,
      "outputs": [
        {
          "output_type": "execute_result",
          "data": {
            "text/html": [
              "<div>\n",
              "<style scoped>\n",
              "    .dataframe tbody tr th:only-of-type {\n",
              "        vertical-align: middle;\n",
              "    }\n",
              "\n",
              "    .dataframe tbody tr th {\n",
              "        vertical-align: top;\n",
              "    }\n",
              "\n",
              "    .dataframe thead th {\n",
              "        text-align: right;\n",
              "    }\n",
              "</style>\n",
              "<table border=\"1\" class=\"dataframe\">\n",
              "  <thead>\n",
              "    <tr style=\"text-align: right;\">\n",
              "      <th></th>\n",
              "      <th>Tweet</th>\n",
              "      <th>Label</th>\n",
              "    </tr>\n",
              "  </thead>\n",
              "  <tbody>\n",
              "    <tr>\n",
              "      <th>55286</th>\n",
              "      <td>tomorrow night pink in december hosted by satc...</td>\n",
              "      <td>0</td>\n",
              "    </tr>\n",
              "    <tr>\n",
              "      <th>45858</th>\n",
              "      <td>atheist billboard ads rejected in vancouver  s...</td>\n",
              "      <td>0</td>\n",
              "    </tr>\n",
              "    <tr>\n",
              "      <th>28908</th>\n",
              "      <td>and this get a life sydq you so swt and i syd ...</td>\n",
              "      <td>0</td>\n",
              "    </tr>\n",
              "    <tr>\n",
              "      <th>27225</th>\n",
              "      <td>too easy to see me eh with nuri estatika pic —</td>\n",
              "      <td>0</td>\n",
              "    </tr>\n",
              "    <tr>\n",
              "      <th>5436</th>\n",
              "      <td>laugh out loud that ohio state wr that think t...</td>\n",
              "      <td>1</td>\n",
              "    </tr>\n",
              "    <tr>\n",
              "      <th>63133</th>\n",
              "      <td>decided to wait until next year will probabl...</td>\n",
              "      <td>0</td>\n",
              "    </tr>\n",
              "    <tr>\n",
              "      <th>61946</th>\n",
              "      <td>walaupon awak selalu buat hati saya sakit tapi...</td>\n",
              "      <td>0</td>\n",
              "    </tr>\n",
              "    <tr>\n",
              "      <th>30843</th>\n",
              "      <td>canada moves to cap domestic wireless roaming ...</td>\n",
              "      <td>0</td>\n",
              "    </tr>\n",
              "    <tr>\n",
              "      <th>44233</th>\n",
              "      <td>two 1s in less than six months how it feels like</td>\n",
              "      <td>0</td>\n",
              "    </tr>\n",
              "    <tr>\n",
              "      <th>10930</th>\n",
              "      <td>“  you like tanisha and armaan ” yes i love th...</td>\n",
              "      <td>1</td>\n",
              "    </tr>\n",
              "    <tr>\n",
              "      <th>18305</th>\n",
              "      <td>i love the island tradition of saying good mor...</td>\n",
              "      <td>0</td>\n",
              "    </tr>\n",
              "    <tr>\n",
              "      <th>26371</th>\n",
              "      <td>that is why you tagged me e creepy as always</td>\n",
              "      <td>0</td>\n",
              "    </tr>\n",
              "    <tr>\n",
              "      <th>20072</th>\n",
              "      <td>nilesy look at that gold count   and i am sti...</td>\n",
              "      <td>0</td>\n",
              "    </tr>\n",
              "    <tr>\n",
              "      <th>26101</th>\n",
              "      <td>gift ideas for the little photographer  photog...</td>\n",
              "      <td>0</td>\n",
              "    </tr>\n",
              "    <tr>\n",
              "      <th>64174</th>\n",
              "      <td>i mean you guys here in dresden  that would ...</td>\n",
              "      <td>0</td>\n",
              "    </tr>\n",
              "    <tr>\n",
              "      <th>29149</th>\n",
              "      <td>laugh out loud eine stimme xd rt  okay also di...</td>\n",
              "      <td>0</td>\n",
              "    </tr>\n",
              "    <tr>\n",
              "      <th>46554</th>\n",
              "      <td>followmejai please follow me and  we love you...</td>\n",
              "      <td>0</td>\n",
              "    </tr>\n",
              "    <tr>\n",
              "      <th>34045</th>\n",
              "      <td>giveaway silent no more by  win signed paperba...</td>\n",
              "      <td>0</td>\n",
              "    </tr>\n",
              "    <tr>\n",
              "      <th>29102</th>\n",
              "      <td>laugh out loud tom warum</td>\n",
              "      <td>0</td>\n",
              "    </tr>\n",
              "    <tr>\n",
              "      <th>55239</th>\n",
              "      <td>530am random subway station in prague czech re...</td>\n",
              "      <td>0</td>\n",
              "    </tr>\n",
              "  </tbody>\n",
              "</table>\n",
              "</div>"
            ],
            "text/plain": [
              "                                                   Tweet  Label\n",
              "55286  tomorrow night pink in december hosted by satc...      0\n",
              "45858  atheist billboard ads rejected in vancouver  s...      0\n",
              "28908  and this get a life sydq you so swt and i syd ...      0\n",
              "27225    too easy to see me eh with nuri estatika pic —       0\n",
              "5436   laugh out loud that ohio state wr that think t...      1\n",
              "63133    decided to wait until next year will probabl...      0\n",
              "61946  walaupon awak selalu buat hati saya sakit tapi...      0\n",
              "30843  canada moves to cap domestic wireless roaming ...      0\n",
              "44233   two 1s in less than six months how it feels like      0\n",
              "10930  “  you like tanisha and armaan ” yes i love th...      1\n",
              "18305  i love the island tradition of saying good mor...      0\n",
              "26371       that is why you tagged me e creepy as always      0\n",
              "20072   nilesy look at that gold count   and i am sti...      0\n",
              "26101  gift ideas for the little photographer  photog...      0\n",
              "64174    i mean you guys here in dresden  that would ...      0\n",
              "29149  laugh out loud eine stimme xd rt  okay also di...      0\n",
              "46554   followmejai please follow me and  we love you...      0\n",
              "34045  giveaway silent no more by  win signed paperba...      0\n",
              "29102                           laugh out loud tom warum      0\n",
              "55239  530am random subway station in prague czech re...      0"
            ]
          },
          "metadata": {},
          "execution_count": 12
        }
      ]
    },
    {
      "cell_type": "code",
      "metadata": {
        "id": "GluMm1Nj2DqK",
        "gather": {
          "logged": 1628695041188
        }
      },
      "source": [
        "import re\n",
        "def clean_text(text):\n",
        "    text = re.sub(r\"@[A-Za-z0-9]+\", ' ', text)\n",
        "    text = re.sub(r\"https?://[A-Za-z0-9./]+\", ' ', text)\n",
        "    text = re.sub(r\"[^a-zA-z.!?'0-9]\", ' ', text)\n",
        "    text = re.sub('\\t', ' ',  text)\n",
        "    text = re.sub(r\" +\", ' ', text)\n",
        "    text = re.sub(r'[^\\w\\s]',' ', text)\n",
        "    return text"
      ],
      "execution_count": null,
      "outputs": []
    },
    {
      "cell_type": "code",
      "metadata": {
        "id": "8HpgvTb72wtm",
        "gather": {
          "logged": 1628695042903
        }
      },
      "source": [
        "df['Tweet'] = df['Tweet'].apply(clean_text)"
      ],
      "execution_count": null,
      "outputs": []
    },
    {
      "cell_type": "code",
      "metadata": {
        "colab": {
          "base_uri": "https://localhost:8080/",
          "height": 455
        },
        "id": "ptC13l5r25qH",
        "gather": {
          "logged": 1628695045371
        },
        "outputId": "94cc40d7-1896-4af4-cfad-a9025064f1fd"
      },
      "source": [
        "rcParams['figure.figsize'] = 8, 6\n",
        "sns.countplot(df.Label)\n",
        "plt.xlabel('class comparison');"
      ],
      "execution_count": 22,
      "outputs": [
        {
          "output_type": "stream",
          "name": "stderr",
          "text": [
            "/usr/local/lib/python3.7/dist-packages/seaborn/_decorators.py:43: FutureWarning: Pass the following variable as a keyword arg: x. From version 0.12, the only valid positional argument will be `data`, and passing other arguments without an explicit keyword will result in an error or misinterpretation.\n",
            "  FutureWarning\n"
          ]
        },
        {
          "output_type": "display_data",
          "data": {
            "image/png": "[encoded data removed]",
            "text/plain": [
              "<Figure size 576x432 with 1 Axes>"
            ]
          },
          "metadata": {
            "image/png": {
              "width": 530,
              "height": 381
            }
          }
        }
      ]
    },
    {
      "cell_type": "code",
      "metadata": {
        "colab": {
          "base_uri": "https://localhost:8080/"
        },
        "id": "YK3jPP3i3lRw",
        "gather": {
          "logged": 1628695049072
        },
        "outputId": "33dce675-2d89-4481-afa3-f52f7039c8ac"
      },
      "source": [
        "df['Label'].value_counts()"
      ],
      "execution_count": 17,
      "outputs": [
        {
          "output_type": "execute_result",
          "data": {
            "text/plain": [
              "0    49654\n",
              "1    14580\n",
              "Name: Label, dtype: int64"
            ]
          },
          "metadata": {},
          "execution_count": 17
        }
      ]
    },
    {
      "cell_type": "code",
      "metadata": {
        "id": "StOb4mAa3rgo",
        "gather": {
          "logged": 1628695050816
        }
      },
      "source": [
        "class_names = ['1', '0']"
      ],
      "execution_count": 18,
      "outputs": []
    },
    {
      "cell_type": "code",
      "metadata": {
        "colab": {
          "base_uri": "https://localhost:8080/"
        },
        "id": "LFBcXhe9rnwF",
        "outputId": "88d72897-cd4f-4605-8ac5-ec0bf1afedad"
      },
      "source": [
        "!pip install sentencepiece"
      ],
      "execution_count": 25,
      "outputs": [
        {
          "output_type": "stream",
          "name": "stdout",
          "text": [
            "Collecting sentencepiece\n",
            "  Downloading sentencepiece-0.1.96-cp37-cp37m-manylinux_2_17_x86_64.manylinux2014_x86_64.whl (1.2 MB)\n",
            "\u001b[K     |████████████████████████████████| 1.2 MB 4.1 MB/s \n",
            "\u001b[?25hInstalling collected packages: sentencepiece\n",
            "Successfully installed sentencepiece-0.1.96\n"
          ]
        }
      ]
    },
    {
      "cell_type": "markdown",
      "metadata": {
        "id": "mmBGGgUVJBpT"
      },
      "source": [
        "### Playing with XLNetTokenizer"
      ]
    },
    {
      "cell_type": "code",
      "metadata": {
        "colab": {
          "base_uri": "https://localhost:8080/",
          "height": 151
        },
        "id": "hVWO_38_32jL",
        "gather": {
          "logged": 1628695054190
        },
        "outputId": "846a04c4-2520-4323-8aa8-fe37e1fe714f"
      },
      "source": [
        "from transformers import XLNetTokenizer, XLNetModel\n",
        "PRE_TRAINED_MODEL_NAME = 'xlnet-base-cased'\n",
        "tokenizer = XLNetTokenizer.from_pretrained(PRE_TRAINED_MODEL_NAME)\n",
        "tokenizer.add_tokens(['😀', '😏', '☺️', '🎾', '🍧', '💔', '📯', '😿', '😶', '🍔', '🇬🇧', '📖', '😊', '🌏', '🎸', '😥', '🍝', '🎌', '✋', '😳', '💅', '👆', '🔮', '🍬', '👈', '😍', '😕', '🚬', '🔥', '☃', '🔞', '👔', '🏊', '💝', '🐒', '🎈', '🌴', '🏃', '🍩', '👎', '🍤', '💩', '©', '🚴', '🐣', '👻', '🚼', '💊', '🌱', '🙆', '🙅', '👅', '🐤', '❗', '✖', '💰', '⚡', '💂', '⬅️', '💚', '💌', '🍕', '🎁', '👊', '😱', '🌌', '📚', '💞', '🍭', '⛄', '👳', '🎤', '📀', '💨', '😁', '😨', '💖', '🚗', '😇', '💧', '🇫🇷', '😎', '🌃', '〰', '💽', '🏂', '🆒', '🍦', '😩', '🌻', '💀', '⏰', '🍲', '🚢', '😅', '🍅', '😣', '👱', '😈', '🎆', '🍳', '🎎', '🍗', '💙', '🙊', '☹', '🍸', '💐', '🌅', '🎮', '🐬', '😯', '👃', '🍷', '🍖', '😒', '🍊', '🌸', '🍻', '🐽', '😰', '🆘', '🐛', '🍃', '😠', '🍰', '🎿', '🙌', '😪', '☠', '☀️', '▶', '👀', '🍺', '😢', '👫', '🙈', '🚔', '🎊', '😑', '🎹', '◽', '☮', '✊', '👩', '🚨', '💕', '⭐', '❌', '👬', '😭', '🌲', '🌀', '🍹', '💆', '👌', '▪', '💎', '➡️', '😓', '☺', '🍓', '💋', '🐾', '🍛', '👠', '🌆', '™', '📓', '🙀', '🚀', '🙋', '💢', '🎼', '🍍', '✴', '😽', '😝', '👶', '😫', '😐', '❄', '💻', '👙', '✔️', '😵', '😬', '😮', '🍉', '👾', '🏄', '😚', '🎨', '💛', '😜', '🐥', '🔄', '🌠', '❄️', '👋', '😦', '🔆', '💯', '🌞', '😌', '💁', '🎉', '📺', '♦', '🕑', '🌎', '🎶', '👏', '😃', '🐇', '🍏', '🇩🇪', '☕', '😴', '🎵', '🌍', '🙉', '👂', '😷', '🐶', '🕥', '👯', '🌙', '🕐', '😙', '🎀', '💸', '😆', '🔫', '♏', '😉', '👭', '🐷', '💘', '👿', '♥', '☁️', '🎓', '😂', '⁉️', '😟', '💟', '💜', '😤', '🌊', '🌾', '🐴', '🍨', '🏡', '🐰', '😲', '💳', '🚶', '🍁', '😡', '🐳', '🔪', '🍠', '🌁', '😻', '🔯', '🔅', '🍀', '🎻', '🍵', '🐠', '👉', '☀', '👪', '✌', '👜', '💥', '😹', '👣', '🍈', '🇺🇸', '📨', '🇮🇹', '😗', '🌚', '💵', '🙍', '🎄', '🐉', '◾', '🌂', '💍', '⛪', '🎧', '❤️', '®', '❤', '👑', '💣', '🍋', '🎺', '📑', '🚺', '😘', '✌️', '🚫', '🌽', '💤', '🎥', '✏', '💪', '🏰', '😞', '✖️', '👹', '📣', '😺', '😄', '👰', '☔', '🎅', '😔', '☂', '💼', '🚓', '🍫', '👄', '💄', '👐', '💗', '🌵', '🐟', '💃', '🙏', '✨', '☝️', '☁', '🏈', '🍪', '⛅', '💉', '🐭', '⚽', '😛', '🍟', '💏', '😋', '📄', '🏥', '🐼', '♥️', '😧', '💦', '🎷', '🎂', '📱', '🚙', '👼', '🍆', '✈', '👸', '🎭', '🐸', '👍', '✈️', '😖', '🎋', '🐧'])\n",
        "print(tokenizer)"
      ],
      "execution_count": 19,
      "outputs": [
        {
          "output_type": "display_data",
          "data": {
            "application/vnd.jupyter.widget-view+json": {
              "model_id": "f257f7cf4b3041c58a6cc16f93ba98d5",
              "version_minor": 0,
              "version_major": 2
            },
            "text/plain": [
              "Downloading:   0%|          | 0.00/779k [00:00<?, ?B/s]"
            ]
          },
          "metadata": {}
        },
        {
          "output_type": "display_data",
          "data": {
            "application/vnd.jupyter.widget-view+json": {
              "model_id": "649a601ad23d494db375f4231a9f52f5",
              "version_minor": 0,
              "version_major": 2
            },
            "text/plain": [
              "Downloading:   0%|          | 0.00/1.32M [00:00<?, ?B/s]"
            ]
          },
          "metadata": {}
        },
        {
          "output_type": "display_data",
          "data": {
            "application/vnd.jupyter.widget-view+json": {
              "model_id": "2c4ab8de0d904d8ca48e4585805b3187",
              "version_minor": 0,
              "version_major": 2
            },
            "text/plain": [
              "Downloading:   0%|          | 0.00/760 [00:00<?, ?B/s]"
            ]
          },
          "metadata": {}
        },
        {
          "output_type": "stream",
          "name": "stdout",
          "text": [
            "PreTrainedTokenizer(name_or_path='xlnet-base-cased', vocab_size=32000, model_max_len=1000000000000000019884624838656, is_fast=False, padding_side='left', special_tokens={'bos_token': '<s>', 'eos_token': '</s>', 'unk_token': '<unk>', 'sep_token': '<sep>', 'pad_token': '<pad>', 'cls_token': '<cls>', 'mask_token': AddedToken(\"<mask>\", rstrip=False, lstrip=True, single_word=False, normalized=True), 'additional_special_tokens': ['<eop>', '<eod>']})\n"
          ]
        }
      ]
    },
    {
      "cell_type": "code",
      "metadata": {
        "id": "1ckpqWd_YWgZ",
        "gather": {
          "logged": 1628695056708
        }
      },
      "source": [
        "input_txt = \"the roads look really bad to me 😏 i think we need another day without school 👌\"\n"
      ],
      "execution_count": 20,
      "outputs": []
    },
    {
      "cell_type": "code",
      "metadata": {
        "id": "xOR39p2A7zvA",
        "gather": {
          "logged": 1628695058887
        },
        "colab": {
          "base_uri": "https://localhost:8080/"
        },
        "outputId": "20569cdd-a95b-4d21-d88a-417dcbd6d28b"
      },
      "source": [
        "encodings = tokenizer.encode_plus(input_txt, add_special_tokens=True, max_length=32, return_tensors='pt', return_token_type_ids=False, return_attention_mask=True, padding=True)"
      ],
      "execution_count": 21,
      "outputs": [
        {
          "output_type": "stream",
          "name": "stderr",
          "text": [
            "/usr/local/lib/python3.7/dist-packages/transformers/tokenization_utils_base.py:2228: UserWarning: `max_length` is ignored when `padding`=`True` and there is no truncation strategy. To pad to max length, use `padding='max_length'`.\n",
            "  \"`max_length` is ignored when `padding`=`True` and there is no truncation strategy. \"\n"
          ]
        }
      ]
    },
    {
      "cell_type": "code",
      "metadata": {
        "collapsed": true,
        "jupyter": {
          "source_hidden": false,
          "outputs_hidden": false
        },
        "nteract": {
          "transient": {
            "deleting": false
          }
        },
        "gather": {
          "logged": 1628695060678
        },
        "colab": {
          "base_uri": "https://localhost:8080/"
        },
        "id": "1jO2hFcEbf4L",
        "outputId": "739ac12d-f89c-4093-e1d2-cd65e0ac0aa5"
      },
      "source": [
        "encodings.keys()"
      ],
      "execution_count": 22,
      "outputs": [
        {
          "output_type": "execute_result",
          "data": {
            "text/plain": [
              "dict_keys(['input_ids', 'attention_mask'])"
            ]
          },
          "metadata": {},
          "execution_count": 22
        }
      ]
    },
    {
      "cell_type": "code",
      "metadata": {
        "colab": {
          "base_uri": "https://localhost:8080/"
        },
        "id": "Y_ew5njtYWc1",
        "gather": {
          "logged": 1628695062891
        },
        "outputId": "11522526-717e-48b5-90ff-5f3c1ad3b184"
      },
      "source": [
        "print('input_ids : ',encodings['input_ids'])"
      ],
      "execution_count": 23,
      "outputs": [
        {
          "output_type": "stream",
          "name": "stdout",
          "text": [
            "input_ids :  tensor([[   18,  4378,   338,   343,   948,    22,   110, 32001,    17,   150,\n",
            "           232,    80,   214,   245,   191,   286,   297, 32155,     4,     3]])\n"
          ]
        }
      ]
    },
    {
      "cell_type": "code",
      "metadata": {
        "colab": {
          "base_uri": "https://localhost:8080/"
        },
        "id": "eEXfe39mYWK7",
        "gather": {
          "logged": 1628695064893
        },
        "outputId": "9880f062-0bbc-4227-b2f0-0af79fcdff8d"
      },
      "source": [
        "tokenizer.convert_ids_to_tokens(encodings['input_ids'][0])"
      ],
      "execution_count": 24,
      "outputs": [
        {
          "output_type": "execute_result",
          "data": {
            "text/plain": [
              "['▁the',\n",
              " '▁roads',\n",
              " '▁look',\n",
              " '▁really',\n",
              " '▁bad',\n",
              " '▁to',\n",
              " '▁me',\n",
              " '😏',\n",
              " '▁',\n",
              " 'i',\n",
              " '▁think',\n",
              " '▁we',\n",
              " '▁need',\n",
              " '▁another',\n",
              " '▁day',\n",
              " '▁without',\n",
              " '▁school',\n",
              " '👌',\n",
              " '<sep>',\n",
              " '<cls>']"
            ]
          },
          "metadata": {},
          "execution_count": 24
        }
      ]
    },
    {
      "cell_type": "code",
      "metadata": {
        "colab": {
          "base_uri": "https://localhost:8080/"
        },
        "id": "XR1xkLYtTurv",
        "gather": {
          "logged": 1628695067295
        },
        "outputId": "039dd6c1-09d5-44a8-faa6-0843252cbd7a"
      },
      "source": [
        "type(encodings['attention_mask'])"
      ],
      "execution_count": 25,
      "outputs": [
        {
          "output_type": "execute_result",
          "data": {
            "text/plain": [
              "torch.Tensor"
            ]
          },
          "metadata": {},
          "execution_count": 25
        }
      ]
    },
    {
      "cell_type": "code",
      "metadata": {
        "colab": {
          "base_uri": "https://localhost:8080/"
        },
        "id": "RAa-stcwzI2d",
        "outputId": "ad76460b-b483-4f10-970d-9a88a7fcc6e1"
      },
      "source": [
        "tokens = tokenizer.tokenize(input_txt)\n",
        "token_ids = tokenizer.convert_tokens_to_ids(tokens)\n",
        "\n",
        "print(f' Sentence: {input_txt}')\n",
        "print(f'   Tokens: {tokens}')\n",
        "print(f'Token IDs: {token_ids}')"
      ],
      "execution_count": 26,
      "outputs": [
        {
          "output_type": "stream",
          "name": "stdout",
          "text": [
            " Sentence: the roads look really bad to me 😏 i think we need another day without school 👌\n",
            "   Tokens: ['▁the', '▁roads', '▁look', '▁really', '▁bad', '▁to', '▁me', '😏', '▁', 'i', '▁think', '▁we', '▁need', '▁another', '▁day', '▁without', '▁school', '👌']\n",
            "Token IDs: [18, 4378, 338, 343, 948, 22, 110, 32001, 17, 150, 232, 80, 214, 245, 191, 286, 297, 32155]\n"
          ]
        }
      ]
    },
    {
      "cell_type": "code",
      "metadata": {
        "id": "Pp97KX-9UtMK",
        "gather": {
          "logged": 1628695069034
        }
      },
      "source": [
        "attention_mask = pad_sequences(encodings['attention_mask'], maxlen=512, dtype=torch.Tensor ,truncating=\"post\",padding=\"post\")"
      ],
      "execution_count": 27,
      "outputs": []
    },
    {
      "cell_type": "code",
      "metadata": {
        "colab": {
          "base_uri": "https://localhost:8080/"
        },
        "id": "6Pzeyv1_UvMT",
        "gather": {
          "logged": 1628695071216
        },
        "outputId": "9e11cd75-c942-4b56-856b-657c897b2cf9"
      },
      "source": [
        "attention_mask = attention_mask.astype(dtype = 'int64')\n",
        "attention_mask = torch.tensor(attention_mask) \n",
        "attention_mask.flatten()"
      ],
      "execution_count": 28,
      "outputs": [
        {
          "output_type": "execute_result",
          "data": {
            "text/plain": [
              "tensor([1, 1, 1, 1, 1, 1, 1, 1, 1, 1, 1, 1, 1, 1, 1, 1, 1, 1, 1, 1, 0, 0, 0, 0,\n",
              "        0, 0, 0, 0, 0, 0, 0, 0, 0, 0, 0, 0, 0, 0, 0, 0, 0, 0, 0, 0, 0, 0, 0, 0,\n",
              "        0, 0, 0, 0, 0, 0, 0, 0, 0, 0, 0, 0, 0, 0, 0, 0, 0, 0, 0, 0, 0, 0, 0, 0,\n",
              "        0, 0, 0, 0, 0, 0, 0, 0, 0, 0, 0, 0, 0, 0, 0, 0, 0, 0, 0, 0, 0, 0, 0, 0,\n",
              "        0, 0, 0, 0, 0, 0, 0, 0, 0, 0, 0, 0, 0, 0, 0, 0, 0, 0, 0, 0, 0, 0, 0, 0,\n",
              "        0, 0, 0, 0, 0, 0, 0, 0, 0, 0, 0, 0, 0, 0, 0, 0, 0, 0, 0, 0, 0, 0, 0, 0,\n",
              "        0, 0, 0, 0, 0, 0, 0, 0, 0, 0, 0, 0, 0, 0, 0, 0, 0, 0, 0, 0, 0, 0, 0, 0,\n",
              "        0, 0, 0, 0, 0, 0, 0, 0, 0, 0, 0, 0, 0, 0, 0, 0, 0, 0, 0, 0, 0, 0, 0, 0,\n",
              "        0, 0, 0, 0, 0, 0, 0, 0, 0, 0, 0, 0, 0, 0, 0, 0, 0, 0, 0, 0, 0, 0, 0, 0,\n",
              "        0, 0, 0, 0, 0, 0, 0, 0, 0, 0, 0, 0, 0, 0, 0, 0, 0, 0, 0, 0, 0, 0, 0, 0,\n",
              "        0, 0, 0, 0, 0, 0, 0, 0, 0, 0, 0, 0, 0, 0, 0, 0, 0, 0, 0, 0, 0, 0, 0, 0,\n",
              "        0, 0, 0, 0, 0, 0, 0, 0, 0, 0, 0, 0, 0, 0, 0, 0, 0, 0, 0, 0, 0, 0, 0, 0,\n",
              "        0, 0, 0, 0, 0, 0, 0, 0, 0, 0, 0, 0, 0, 0, 0, 0, 0, 0, 0, 0, 0, 0, 0, 0,\n",
              "        0, 0, 0, 0, 0, 0, 0, 0, 0, 0, 0, 0, 0, 0, 0, 0, 0, 0, 0, 0, 0, 0, 0, 0,\n",
              "        0, 0, 0, 0, 0, 0, 0, 0, 0, 0, 0, 0, 0, 0, 0, 0, 0, 0, 0, 0, 0, 0, 0, 0,\n",
              "        0, 0, 0, 0, 0, 0, 0, 0, 0, 0, 0, 0, 0, 0, 0, 0, 0, 0, 0, 0, 0, 0, 0, 0,\n",
              "        0, 0, 0, 0, 0, 0, 0, 0, 0, 0, 0, 0, 0, 0, 0, 0, 0, 0, 0, 0, 0, 0, 0, 0,\n",
              "        0, 0, 0, 0, 0, 0, 0, 0, 0, 0, 0, 0, 0, 0, 0, 0, 0, 0, 0, 0, 0, 0, 0, 0,\n",
              "        0, 0, 0, 0, 0, 0, 0, 0, 0, 0, 0, 0, 0, 0, 0, 0, 0, 0, 0, 0, 0, 0, 0, 0,\n",
              "        0, 0, 0, 0, 0, 0, 0, 0, 0, 0, 0, 0, 0, 0, 0, 0, 0, 0, 0, 0, 0, 0, 0, 0,\n",
              "        0, 0, 0, 0, 0, 0, 0, 0, 0, 0, 0, 0, 0, 0, 0, 0, 0, 0, 0, 0, 0, 0, 0, 0,\n",
              "        0, 0, 0, 0, 0, 0, 0, 0])"
            ]
          },
          "metadata": {},
          "execution_count": 28
        }
      ]
    },
    {
      "cell_type": "code",
      "metadata": {
        "colab": {
          "base_uri": "https://localhost:8080/"
        },
        "id": "kM7cxiA9RlnA",
        "gather": {
          "logged": 1628695074492
        },
        "outputId": "b39785c9-3502-4b71-9527-0ecfa0ff46a4"
      },
      "source": [
        "encodings['input_ids']"
      ],
      "execution_count": 29,
      "outputs": [
        {
          "output_type": "execute_result",
          "data": {
            "text/plain": [
              "tensor([[   18,  4378,   338,   343,   948,    22,   110, 32001,    17,   150,\n",
              "           232,    80,   214,   245,   191,   286,   297, 32155,     4,     3]])"
            ]
          },
          "metadata": {},
          "execution_count": 29
        }
      ]
    },
    {
      "cell_type": "markdown",
      "metadata": {
        "id": "M12PPghlJUbg"
      },
      "source": [
        "### Checking the distribution of token lengths"
      ]
    },
    {
      "cell_type": "code",
      "metadata": {
        "id": "zW4_SrOw4BDy",
        "gather": {
          "logged": 1628695076667
        },
        "colab": {
          "base_uri": "https://localhost:8080/"
        },
        "outputId": "629f2f04-ad5e-4ce3-a557-4672e5dd4647"
      },
      "source": [
        "token_lens = []\n",
        "\n",
        "for txt in df['Tweet']:\n",
        "  tokens = tokenizer.encode(txt, max_length=512)\n",
        "  token_lens.append(len(tokens))"
      ],
      "execution_count": 30,
      "outputs": [
        {
          "output_type": "stream",
          "name": "stderr",
          "text": [
            "Truncation was not explicitly activated but `max_length` is provided a specific value, please use `truncation=True` to explicitly truncate examples to max length. Defaulting to 'longest_first' truncation strategy. If you encode pairs of sequences (GLUE-style) with the tokenizer you can select this strategy more precisely by providing a specific strategy to `truncation`.\n"
          ]
        }
      ]
    },
    {
      "cell_type": "code",
      "metadata": {
        "colab": {
          "base_uri": "https://localhost:8080/",
          "height": 563
        },
        "id": "aSxO20TU4dz5",
        "gather": {
          "logged": 1628695079584
        },
        "outputId": "249a50a9-3b3f-43f1-c566-d4db65d913e0"
      },
      "source": [
        "sns.distplot(token_lens)\n",
        "plt.xlim([0, 256]);\n",
        "plt.xlabel('Token count');"
      ],
      "execution_count": 31,
      "outputs": [
        {
          "output_type": "stream",
          "name": "stderr",
          "text": [
            "/usr/local/lib/python3.7/dist-packages/seaborn/distributions.py:2619: FutureWarning: `distplot` is a deprecated function and will be removed in a future version. Please adapt your code to use either `displot` (a figure-level function with similar flexibility) or `histplot` (an axes-level function for histograms).\n",
            "  warnings.warn(msg, FutureWarning)\n"
          ]
        },
        {
          "output_type": "display_data",
          "data": {
            "image/png": "[encoded data removed]",
            "text/plain": [
              "<Figure size 864x576 with 1 Axes>"
            ]
          },
          "metadata": {
            "image/png": {
              "width": 740,
              "height": 489
            }
          }
        }
      ]
    },
    {
      "cell_type": "code",
      "metadata": {
        "id": "CR3rHUQR4pDE",
        "gather": {
          "logged": 1628695082861
        }
      },
      "source": [
        "MAX_LEN = 128"
      ],
      "execution_count": 32,
      "outputs": []
    },
    {
      "cell_type": "markdown",
      "metadata": {
        "id": "e6Kutw4dJyUG"
      },
      "source": [
        "### Custom Dataset class"
      ]
    },
    {
      "cell_type": "code",
      "metadata": {
        "id": "q2NOYXcjPK4z",
        "gather": {
          "logged": 1628695088158
        }
      },
      "source": [
        "class sarcasmDataset(Dataset):\n",
        "\n",
        "    def __init__(self, tweets, targets, tokenizer, max_len):\n",
        "        self.tweets = tweets\n",
        "        self.targets = targets\n",
        "        self.tokenizer = tokenizer\n",
        "        self.max_len = max_len\n",
        "    \n",
        "    def __len__(self):\n",
        "        return len(self.tweets)\n",
        "    \n",
        "    def __getitem__(self, item):\n",
        "        Tweet = str(self.tweets[item])\n",
        "        target = self.targets[item]\n",
        "\n",
        "        encoding = self.tokenizer.encode_plus(\n",
        "        Tweet,\n",
        "        add_special_tokens=True,\n",
        "        max_length=self.max_len,\n",
        "        return_token_type_ids=False,\n",
        "        pad_to_max_length=False,\n",
        "        return_attention_mask=True,\n",
        "        return_tensors='pt',\n",
        "        )\n",
        "\n",
        "        input_ids = pad_sequences(encoding['input_ids'], maxlen=MAX_LEN, dtype=torch.Tensor ,truncating=\"post\",padding=\"post\")\n",
        "        input_ids = input_ids.astype(dtype = 'int64')\n",
        "        input_ids = torch.tensor(input_ids) \n",
        "\n",
        "        attention_mask = pad_sequences(encoding['attention_mask'], maxlen=MAX_LEN, dtype=torch.Tensor ,truncating=\"post\",padding=\"post\")\n",
        "        attention_mask = attention_mask.astype(dtype = 'int64')\n",
        "        attention_mask = torch.tensor(attention_mask)       \n",
        "\n",
        "        return {\n",
        "        'tweets': Tweet,\n",
        "        'input_ids': input_ids,\n",
        "        'attention_mask': attention_mask.flatten(),\n",
        "        'targets': torch.tensor(target, dtype=torch.long)\n",
        "        }"
      ],
      "execution_count": 33,
      "outputs": []
    },
    {
      "cell_type": "code",
      "metadata": {
        "id": "wYXt2AtW6iaT",
        "gather": {
          "logged": 1628695091203
        }
      },
      "source": [
        "df_train, df_test = train_test_split(df, test_size=0.2, random_state=101)\n",
        "df_val, df_test = train_test_split(df_test, test_size=0.3, random_state=101)"
      ],
      "execution_count": 34,
      "outputs": []
    },
    {
      "cell_type": "code",
      "metadata": {
        "colab": {
          "base_uri": "https://localhost:8080/"
        },
        "id": "VmAsa9pg6oac",
        "gather": {
          "logged": 1628695093843
        },
        "outputId": "8f336055-7ca5-4cc2-8322-5e03c76b095d"
      },
      "source": [
        "df_train.shape, df_val.shape, df_test.shape"
      ],
      "execution_count": 35,
      "outputs": [
        {
          "output_type": "execute_result",
          "data": {
            "text/plain": [
              "((51387, 3), (8992, 3), (3855, 3))"
            ]
          },
          "metadata": {},
          "execution_count": 35
        }
      ]
    },
    {
      "cell_type": "markdown",
      "metadata": {
        "id": "iFw2z6ElMZMX"
      },
      "source": [
        "### Custom Dataloader"
      ]
    },
    {
      "cell_type": "code",
      "metadata": {
        "id": "3rd7890Z6zLr",
        "gather": {
          "logged": 1628695095758
        }
      },
      "source": [
        "def create_data_loader(df, tokenizer, max_len, batch_size):\n",
        "  ds = sarcasmDataset(\n",
        "    tweets=df.Tweet.to_numpy(),\n",
        "    targets=df.Label.to_numpy(),\n",
        "    tokenizer=tokenizer,\n",
        "    max_len=max_len\n",
        "  )\n",
        "\n",
        "  return DataLoader(\n",
        "    ds,\n",
        "    batch_size=batch_size,\n",
        "    num_workers=4\n",
        "  )"
      ],
      "execution_count": 36,
      "outputs": []
    },
    {
      "cell_type": "code",
      "metadata": {
        "id": "tVU8o6i569ly",
        "gather": {
          "logged": 1628695098272
        }
      },
      "source": [
        "BATCH_SIZE = 32\n",
        "\n",
        "train_data_loader = create_data_loader(df_train, tokenizer, MAX_LEN, BATCH_SIZE)\n",
        "val_data_loader = create_data_loader(df_val, tokenizer, MAX_LEN, BATCH_SIZE)\n",
        "test_data_loader = create_data_loader(df_test, tokenizer, MAX_LEN, BATCH_SIZE)"
      ],
      "execution_count": 37,
      "outputs": []
    },
    {
      "cell_type": "markdown",
      "metadata": {
        "id": "aC5D5Dh8J5w9"
      },
      "source": [
        "### Loading the Pre-trained XLNet model for sequence classification from huggingface transformers"
      ]
    },
    {
      "cell_type": "code",
      "metadata": {
        "colab": {
          "base_uri": "https://localhost:8080/",
          "height": 1000
        },
        "id": "H5mC8v6i7VH1",
        "gather": {
          "logged": 1628695163558
        },
        "outputId": "ce61c91d-42fd-4ebc-967b-96fe16064cc6"
      },
      "source": [
        "from transformers import XLNetForSequenceClassification\n",
        "model = XLNetForSequenceClassification.from_pretrained('xlnet-base-cased', num_labels = 2)\n",
        "model.resize_token_embeddings(len(tokenizer))\n",
        "print(len(tokenizer))\n",
        "model.to(device)"
      ],
      "execution_count": 38,
      "outputs": [
        {
          "output_type": "display_data",
          "data": {
            "application/vnd.jupyter.widget-view+json": {
              "model_id": "f3326b71670346a294dba2865ed3a8e3",
              "version_minor": 0,
              "version_major": 2
            },
            "text/plain": [
              "Downloading:   0%|          | 0.00/445M [00:00<?, ?B/s]"
            ]
          },
          "metadata": {}
        },
        {
          "output_type": "stream",
          "name": "stderr",
          "text": [
            "Some weights of the model checkpoint at xlnet-base-cased were not used when initializing XLNetForSequenceClassification: ['lm_loss.bias', 'lm_loss.weight']\n",
            "- This IS expected if you are initializing XLNetForSequenceClassification from the checkpoint of a model trained on another task or with another architecture (e.g. initializing a BertForSequenceClassification model from a BertForPreTraining model).\n",
            "- This IS NOT expected if you are initializing XLNetForSequenceClassification from the checkpoint of a model that you expect to be exactly identical (initializing a BertForSequenceClassification model from a BertForSequenceClassification model).\n",
            "Some weights of XLNetForSequenceClassification were not initialized from the model checkpoint at xlnet-base-cased and are newly initialized: ['logits_proj.weight', 'sequence_summary.summary.bias', 'logits_proj.bias', 'sequence_summary.summary.weight']\n",
            "You should probably TRAIN this model on a down-stream task to be able to use it for predictions and inference.\n"
          ]
        },
        {
          "output_type": "stream",
          "name": "stdout",
          "text": [
            "32368\n"
          ]
        },
        {
          "output_type": "execute_result",
          "data": {
            "text/plain": [
              "XLNetForSequenceClassification(\n",
              "  (transformer): XLNetModel(\n",
              "    (word_embedding): Embedding(32368, 768)\n",
              "    (layer): ModuleList(\n",
              "      (0): XLNetLayer(\n",
              "        (rel_attn): XLNetRelativeAttention(\n",
              "          (layer_norm): LayerNorm((768,), eps=1e-12, elementwise_affine=True)\n",
              "          (dropout): Dropout(p=0.1, inplace=False)\n",
              "        )\n",
              "        (ff): XLNetFeedForward(\n",
              "          (layer_norm): LayerNorm((768,), eps=1e-12, elementwise_affine=True)\n",
              "          (layer_1): Linear(in_features=768, out_features=3072, bias=True)\n",
              "          (layer_2): Linear(in_features=3072, out_features=768, bias=True)\n",
              "          (dropout): Dropout(p=0.1, inplace=False)\n",
              "        )\n",
              "        (dropout): Dropout(p=0.1, inplace=False)\n",
              "      )\n",
              "      (1): XLNetLayer(\n",
              "        (rel_attn): XLNetRelativeAttention(\n",
              "          (layer_norm): LayerNorm((768,), eps=1e-12, elementwise_affine=True)\n",
              "          (dropout): Dropout(p=0.1, inplace=False)\n",
              "        )\n",
              "        (ff): XLNetFeedForward(\n",
              "          (layer_norm): LayerNorm((768,), eps=1e-12, elementwise_affine=True)\n",
              "          (layer_1): Linear(in_features=768, out_features=3072, bias=True)\n",
              "          (layer_2): Linear(in_features=3072, out_features=768, bias=True)\n",
              "          (dropout): Dropout(p=0.1, inplace=False)\n",
              "        )\n",
              "        (dropout): Dropout(p=0.1, inplace=False)\n",
              "      )\n",
              "      (2): XLNetLayer(\n",
              "        (rel_attn): XLNetRelativeAttention(\n",
              "          (layer_norm): LayerNorm((768,), eps=1e-12, elementwise_affine=True)\n",
              "          (dropout): Dropout(p=0.1, inplace=False)\n",
              "        )\n",
              "        (ff): XLNetFeedForward(\n",
              "          (layer_norm): LayerNorm((768,), eps=1e-12, elementwise_affine=True)\n",
              "          (layer_1): Linear(in_features=768, out_features=3072, bias=True)\n",
              "          (layer_2): Linear(in_features=3072, out_features=768, bias=True)\n",
              "          (dropout): Dropout(p=0.1, inplace=False)\n",
              "        )\n",
              "        (dropout): Dropout(p=0.1, inplace=False)\n",
              "      )\n",
              "      (3): XLNetLayer(\n",
              "        (rel_attn): XLNetRelativeAttention(\n",
              "          (layer_norm): LayerNorm((768,), eps=1e-12, elementwise_affine=True)\n",
              "          (dropout): Dropout(p=0.1, inplace=False)\n",
              "        )\n",
              "        (ff): XLNetFeedForward(\n",
              "          (layer_norm): LayerNorm((768,), eps=1e-12, elementwise_affine=True)\n",
              "          (layer_1): Linear(in_features=768, out_features=3072, bias=True)\n",
              "          (layer_2): Linear(in_features=3072, out_features=768, bias=True)\n",
              "          (dropout): Dropout(p=0.1, inplace=False)\n",
              "        )\n",
              "        (dropout): Dropout(p=0.1, inplace=False)\n",
              "      )\n",
              "      (4): XLNetLayer(\n",
              "        (rel_attn): XLNetRelativeAttention(\n",
              "          (layer_norm): LayerNorm((768,), eps=1e-12, elementwise_affine=True)\n",
              "          (dropout): Dropout(p=0.1, inplace=False)\n",
              "        )\n",
              "        (ff): XLNetFeedForward(\n",
              "          (layer_norm): LayerNorm((768,), eps=1e-12, elementwise_affine=True)\n",
              "          (layer_1): Linear(in_features=768, out_features=3072, bias=True)\n",
              "          (layer_2): Linear(in_features=3072, out_features=768, bias=True)\n",
              "          (dropout): Dropout(p=0.1, inplace=False)\n",
              "        )\n",
              "        (dropout): Dropout(p=0.1, inplace=False)\n",
              "      )\n",
              "      (5): XLNetLayer(\n",
              "        (rel_attn): XLNetRelativeAttention(\n",
              "          (layer_norm): LayerNorm((768,), eps=1e-12, elementwise_affine=True)\n",
              "          (dropout): Dropout(p=0.1, inplace=False)\n",
              "        )\n",
              "        (ff): XLNetFeedForward(\n",
              "          (layer_norm): LayerNorm((768,), eps=1e-12, elementwise_affine=True)\n",
              "          (layer_1): Linear(in_features=768, out_features=3072, bias=True)\n",
              "          (layer_2): Linear(in_features=3072, out_features=768, bias=True)\n",
              "          (dropout): Dropout(p=0.1, inplace=False)\n",
              "        )\n",
              "        (dropout): Dropout(p=0.1, inplace=False)\n",
              "      )\n",
              "      (6): XLNetLayer(\n",
              "        (rel_attn): XLNetRelativeAttention(\n",
              "          (layer_norm): LayerNorm((768,), eps=1e-12, elementwise_affine=True)\n",
              "          (dropout): Dropout(p=0.1, inplace=False)\n",
              "        )\n",
              "        (ff): XLNetFeedForward(\n",
              "          (layer_norm): LayerNorm((768,), eps=1e-12, elementwise_affine=True)\n",
              "          (layer_1): Linear(in_features=768, out_features=3072, bias=True)\n",
              "          (layer_2): Linear(in_features=3072, out_features=768, bias=True)\n",
              "          (dropout): Dropout(p=0.1, inplace=False)\n",
              "        )\n",
              "        (dropout): Dropout(p=0.1, inplace=False)\n",
              "      )\n",
              "      (7): XLNetLayer(\n",
              "        (rel_attn): XLNetRelativeAttention(\n",
              "          (layer_norm): LayerNorm((768,), eps=1e-12, elementwise_affine=True)\n",
              "          (dropout): Dropout(p=0.1, inplace=False)\n",
              "        )\n",
              "        (ff): XLNetFeedForward(\n",
              "          (layer_norm): LayerNorm((768,), eps=1e-12, elementwise_affine=True)\n",
              "          (layer_1): Linear(in_features=768, out_features=3072, bias=True)\n",
              "          (layer_2): Linear(in_features=3072, out_features=768, bias=True)\n",
              "          (dropout): Dropout(p=0.1, inplace=False)\n",
              "        )\n",
              "        (dropout): Dropout(p=0.1, inplace=False)\n",
              "      )\n",
              "      (8): XLNetLayer(\n",
              "        (rel_attn): XLNetRelativeAttention(\n",
              "          (layer_norm): LayerNorm((768,), eps=1e-12, elementwise_affine=True)\n",
              "          (dropout): Dropout(p=0.1, inplace=False)\n",
              "        )\n",
              "        (ff): XLNetFeedForward(\n",
              "          (layer_norm): LayerNorm((768,), eps=1e-12, elementwise_affine=True)\n",
              "          (layer_1): Linear(in_features=768, out_features=3072, bias=True)\n",
              "          (layer_2): Linear(in_features=3072, out_features=768, bias=True)\n",
              "          (dropout): Dropout(p=0.1, inplace=False)\n",
              "        )\n",
              "        (dropout): Dropout(p=0.1, inplace=False)\n",
              "      )\n",
              "      (9): XLNetLayer(\n",
              "        (rel_attn): XLNetRelativeAttention(\n",
              "          (layer_norm): LayerNorm((768,), eps=1e-12, elementwise_affine=True)\n",
              "          (dropout): Dropout(p=0.1, inplace=False)\n",
              "        )\n",
              "        (ff): XLNetFeedForward(\n",
              "          (layer_norm): LayerNorm((768,), eps=1e-12, elementwise_affine=True)\n",
              "          (layer_1): Linear(in_features=768, out_features=3072, bias=True)\n",
              "          (layer_2): Linear(in_features=3072, out_features=768, bias=True)\n",
              "          (dropout): Dropout(p=0.1, inplace=False)\n",
              "        )\n",
              "        (dropout): Dropout(p=0.1, inplace=False)\n",
              "      )\n",
              "      (10): XLNetLayer(\n",
              "        (rel_attn): XLNetRelativeAttention(\n",
              "          (layer_norm): LayerNorm((768,), eps=1e-12, elementwise_affine=True)\n",
              "          (dropout): Dropout(p=0.1, inplace=False)\n",
              "        )\n",
              "        (ff): XLNetFeedForward(\n",
              "          (layer_norm): LayerNorm((768,), eps=1e-12, elementwise_affine=True)\n",
              "          (layer_1): Linear(in_features=768, out_features=3072, bias=True)\n",
              "          (layer_2): Linear(in_features=3072, out_features=768, bias=True)\n",
              "          (dropout): Dropout(p=0.1, inplace=False)\n",
              "        )\n",
              "        (dropout): Dropout(p=0.1, inplace=False)\n",
              "      )\n",
              "      (11): XLNetLayer(\n",
              "        (rel_attn): XLNetRelativeAttention(\n",
              "          (layer_norm): LayerNorm((768,), eps=1e-12, elementwise_affine=True)\n",
              "          (dropout): Dropout(p=0.1, inplace=False)\n",
              "        )\n",
              "        (ff): XLNetFeedForward(\n",
              "          (layer_norm): LayerNorm((768,), eps=1e-12, elementwise_affine=True)\n",
              "          (layer_1): Linear(in_features=768, out_features=3072, bias=True)\n",
              "          (layer_2): Linear(in_features=3072, out_features=768, bias=True)\n",
              "          (dropout): Dropout(p=0.1, inplace=False)\n",
              "        )\n",
              "        (dropout): Dropout(p=0.1, inplace=False)\n",
              "      )\n",
              "    )\n",
              "    (dropout): Dropout(p=0.1, inplace=False)\n",
              "  )\n",
              "  (sequence_summary): SequenceSummary(\n",
              "    (summary): Linear(in_features=768, out_features=768, bias=True)\n",
              "    (first_dropout): Identity()\n",
              "    (last_dropout): Dropout(p=0.1, inplace=False)\n",
              "  )\n",
              "  (logits_proj): Linear(in_features=768, out_features=2, bias=True)\n",
              ")"
            ]
          },
          "metadata": {},
          "execution_count": 38
        }
      ]
    },
    {
      "cell_type": "code",
      "metadata": {
        "colab": {
          "base_uri": "https://localhost:8080/"
        },
        "id": "KYsVoULvfmvD",
        "gather": {
          "logged": 1628695171752
        },
        "outputId": "f074917c-c938-4325-970f-7c468eaa8258"
      },
      "source": [
        "model"
      ],
      "execution_count": null,
      "outputs": [
        {
          "output_type": "execute_result",
          "data": {
            "text/plain": [
              "XLNetForSequenceClassification(\n",
              "  (transformer): XLNetModel(\n",
              "    (word_embedding): Embedding(32068, 768)\n",
              "    (layer): ModuleList(\n",
              "      (0): XLNetLayer(\n",
              "        (rel_attn): XLNetRelativeAttention(\n",
              "          (layer_norm): LayerNorm((768,), eps=1e-12, elementwise_affine=True)\n",
              "          (dropout): Dropout(p=0.1, inplace=False)\n",
              "        )\n",
              "        (ff): XLNetFeedForward(\n",
              "          (layer_norm): LayerNorm((768,), eps=1e-12, elementwise_affine=True)\n",
              "          (layer_1): Linear(in_features=768, out_features=3072, bias=True)\n",
              "          (layer_2): Linear(in_features=3072, out_features=768, bias=True)\n",
              "          (dropout): Dropout(p=0.1, inplace=False)\n",
              "        )\n",
              "        (dropout): Dropout(p=0.1, inplace=False)\n",
              "      )\n",
              "      (1): XLNetLayer(\n",
              "        (rel_attn): XLNetRelativeAttention(\n",
              "          (layer_norm): LayerNorm((768,), eps=1e-12, elementwise_affine=True)\n",
              "          (dropout): Dropout(p=0.1, inplace=False)\n",
              "        )\n",
              "        (ff): XLNetFeedForward(\n",
              "          (layer_norm): LayerNorm((768,), eps=1e-12, elementwise_affine=True)\n",
              "          (layer_1): Linear(in_features=768, out_features=3072, bias=True)\n",
              "          (layer_2): Linear(in_features=3072, out_features=768, bias=True)\n",
              "          (dropout): Dropout(p=0.1, inplace=False)\n",
              "        )\n",
              "        (dropout): Dropout(p=0.1, inplace=False)\n",
              "      )\n",
              "      (2): XLNetLayer(\n",
              "        (rel_attn): XLNetRelativeAttention(\n",
              "          (layer_norm): LayerNorm((768,), eps=1e-12, elementwise_affine=True)\n",
              "          (dropout): Dropout(p=0.1, inplace=False)\n",
              "        )\n",
              "        (ff): XLNetFeedForward(\n",
              "          (layer_norm): LayerNorm((768,), eps=1e-12, elementwise_affine=True)\n",
              "          (layer_1): Linear(in_features=768, out_features=3072, bias=True)\n",
              "          (layer_2): Linear(in_features=3072, out_features=768, bias=True)\n",
              "          (dropout): Dropout(p=0.1, inplace=False)\n",
              "        )\n",
              "        (dropout): Dropout(p=0.1, inplace=False)\n",
              "      )\n",
              "      (3): XLNetLayer(\n",
              "        (rel_attn): XLNetRelativeAttention(\n",
              "          (layer_norm): LayerNorm((768,), eps=1e-12, elementwise_affine=True)\n",
              "          (dropout): Dropout(p=0.1, inplace=False)\n",
              "        )\n",
              "        (ff): XLNetFeedForward(\n",
              "          (layer_norm): LayerNorm((768,), eps=1e-12, elementwise_affine=True)\n",
              "          (layer_1): Linear(in_features=768, out_features=3072, bias=True)\n",
              "          (layer_2): Linear(in_features=3072, out_features=768, bias=True)\n",
              "          (dropout): Dropout(p=0.1, inplace=False)\n",
              "        )\n",
              "        (dropout): Dropout(p=0.1, inplace=False)\n",
              "      )\n",
              "      (4): XLNetLayer(\n",
              "        (rel_attn): XLNetRelativeAttention(\n",
              "          (layer_norm): LayerNorm((768,), eps=1e-12, elementwise_affine=True)\n",
              "          (dropout): Dropout(p=0.1, inplace=False)\n",
              "        )\n",
              "        (ff): XLNetFeedForward(\n",
              "          (layer_norm): LayerNorm((768,), eps=1e-12, elementwise_affine=True)\n",
              "          (layer_1): Linear(in_features=768, out_features=3072, bias=True)\n",
              "          (layer_2): Linear(in_features=3072, out_features=768, bias=True)\n",
              "          (dropout): Dropout(p=0.1, inplace=False)\n",
              "        )\n",
              "        (dropout): Dropout(p=0.1, inplace=False)\n",
              "      )\n",
              "      (5): XLNetLayer(\n",
              "        (rel_attn): XLNetRelativeAttention(\n",
              "          (layer_norm): LayerNorm((768,), eps=1e-12, elementwise_affine=True)\n",
              "          (dropout): Dropout(p=0.1, inplace=False)\n",
              "        )\n",
              "        (ff): XLNetFeedForward(\n",
              "          (layer_norm): LayerNorm((768,), eps=1e-12, elementwise_affine=True)\n",
              "          (layer_1): Linear(in_features=768, out_features=3072, bias=True)\n",
              "          (layer_2): Linear(in_features=3072, out_features=768, bias=True)\n",
              "          (dropout): Dropout(p=0.1, inplace=False)\n",
              "        )\n",
              "        (dropout): Dropout(p=0.1, inplace=False)\n",
              "      )\n",
              "      (6): XLNetLayer(\n",
              "        (rel_attn): XLNetRelativeAttention(\n",
              "          (layer_norm): LayerNorm((768,), eps=1e-12, elementwise_affine=True)\n",
              "          (dropout): Dropout(p=0.1, inplace=False)\n",
              "        )\n",
              "        (ff): XLNetFeedForward(\n",
              "          (layer_norm): LayerNorm((768,), eps=1e-12, elementwise_affine=True)\n",
              "          (layer_1): Linear(in_features=768, out_features=3072, bias=True)\n",
              "          (layer_2): Linear(in_features=3072, out_features=768, bias=True)\n",
              "          (dropout): Dropout(p=0.1, inplace=False)\n",
              "        )\n",
              "        (dropout): Dropout(p=0.1, inplace=False)\n",
              "      )\n",
              "      (7): XLNetLayer(\n",
              "        (rel_attn): XLNetRelativeAttention(\n",
              "          (layer_norm): LayerNorm((768,), eps=1e-12, elementwise_affine=True)\n",
              "          (dropout): Dropout(p=0.1, inplace=False)\n",
              "        )\n",
              "        (ff): XLNetFeedForward(\n",
              "          (layer_norm): LayerNorm((768,), eps=1e-12, elementwise_affine=True)\n",
              "          (layer_1): Linear(in_features=768, out_features=3072, bias=True)\n",
              "          (layer_2): Linear(in_features=3072, out_features=768, bias=True)\n",
              "          (dropout): Dropout(p=0.1, inplace=False)\n",
              "        )\n",
              "        (dropout): Dropout(p=0.1, inplace=False)\n",
              "      )\n",
              "      (8): XLNetLayer(\n",
              "        (rel_attn): XLNetRelativeAttention(\n",
              "          (layer_norm): LayerNorm((768,), eps=1e-12, elementwise_affine=True)\n",
              "          (dropout): Dropout(p=0.1, inplace=False)\n",
              "        )\n",
              "        (ff): XLNetFeedForward(\n",
              "          (layer_norm): LayerNorm((768,), eps=1e-12, elementwise_affine=True)\n",
              "          (layer_1): Linear(in_features=768, out_features=3072, bias=True)\n",
              "          (layer_2): Linear(in_features=3072, out_features=768, bias=True)\n",
              "          (dropout): Dropout(p=0.1, inplace=False)\n",
              "        )\n",
              "        (dropout): Dropout(p=0.1, inplace=False)\n",
              "      )\n",
              "      (9): XLNetLayer(\n",
              "        (rel_attn): XLNetRelativeAttention(\n",
              "          (layer_norm): LayerNorm((768,), eps=1e-12, elementwise_affine=True)\n",
              "          (dropout): Dropout(p=0.1, inplace=False)\n",
              "        )\n",
              "        (ff): XLNetFeedForward(\n",
              "          (layer_norm): LayerNorm((768,), eps=1e-12, elementwise_affine=True)\n",
              "          (layer_1): Linear(in_features=768, out_features=3072, bias=True)\n",
              "          (layer_2): Linear(in_features=3072, out_features=768, bias=True)\n",
              "          (dropout): Dropout(p=0.1, inplace=False)\n",
              "        )\n",
              "        (dropout): Dropout(p=0.1, inplace=False)\n",
              "      )\n",
              "      (10): XLNetLayer(\n",
              "        (rel_attn): XLNetRelativeAttention(\n",
              "          (layer_norm): LayerNorm((768,), eps=1e-12, elementwise_affine=True)\n",
              "          (dropout): Dropout(p=0.1, inplace=False)\n",
              "        )\n",
              "        (ff): XLNetFeedForward(\n",
              "          (layer_norm): LayerNorm((768,), eps=1e-12, elementwise_affine=True)\n",
              "          (layer_1): Linear(in_features=768, out_features=3072, bias=True)\n",
              "          (layer_2): Linear(in_features=3072, out_features=768, bias=True)\n",
              "          (dropout): Dropout(p=0.1, inplace=False)\n",
              "        )\n",
              "        (dropout): Dropout(p=0.1, inplace=False)\n",
              "      )\n",
              "      (11): XLNetLayer(\n",
              "        (rel_attn): XLNetRelativeAttention(\n",
              "          (layer_norm): LayerNorm((768,), eps=1e-12, elementwise_affine=True)\n",
              "          (dropout): Dropout(p=0.1, inplace=False)\n",
              "        )\n",
              "        (ff): XLNetFeedForward(\n",
              "          (layer_norm): LayerNorm((768,), eps=1e-12, elementwise_affine=True)\n",
              "          (layer_1): Linear(in_features=768, out_features=3072, bias=True)\n",
              "          (layer_2): Linear(in_features=3072, out_features=768, bias=True)\n",
              "          (dropout): Dropout(p=0.1, inplace=False)\n",
              "        )\n",
              "        (dropout): Dropout(p=0.1, inplace=False)\n",
              "      )\n",
              "    )\n",
              "    (dropout): Dropout(p=0.1, inplace=False)\n",
              "  )\n",
              "  (sequence_summary): SequenceSummary(\n",
              "    (summary): Linear(in_features=768, out_features=768, bias=True)\n",
              "    (first_dropout): Identity()\n",
              "    (last_dropout): Dropout(p=0.1, inplace=False)\n",
              "  )\n",
              "  (logits_proj): Linear(in_features=768, out_features=2, bias=True)\n",
              ")"
            ]
          },
          "metadata": {},
          "execution_count": 32
        }
      ]
    },
    {
      "cell_type": "markdown",
      "metadata": {
        "id": "vpn2sTTMK_zL"
      },
      "source": [
        "### Setting Hyperparameters"
      ]
    },
    {
      "cell_type": "code",
      "metadata": {
        "id": "aQ9Od31B9YJa",
        "gather": {
          "logged": 1628695231134
        }
      },
      "source": [
        "EPOCHS = 4\n",
        "\n",
        "param_optimizer = list(model.named_parameters())\n",
        "no_decay = ['bias', 'LayerNorm.bias', 'LayerNorm.weight']\n",
        "optimizer_grouped_parameters = [\n",
        "                                {'params': [p for n, p in param_optimizer if not any(nd in n for nd in no_decay)], 'weight_decay': 0.01},\n",
        "                                {'params': [p for n, p in param_optimizer if any(nd in n for nd in no_decay)], 'weight_decay':0.0}\n",
        "]\n",
        "optimizer = AdamW(optimizer_grouped_parameters, lr=1e-5, eps= 1e-8)\n",
        "\n",
        "total_steps = len(train_data_loader) * EPOCHS\n",
        "\n",
        "scheduler = get_linear_schedule_with_warmup(\n",
        "  optimizer,\n",
        "  num_warmup_steps=0,\n",
        "  num_training_steps=total_steps\n",
        ")"
      ],
      "execution_count": 39,
      "outputs": []
    },
    {
      "cell_type": "markdown",
      "metadata": {
        "id": "G2AtJcvwLV3x"
      },
      "source": [
        "### Sanity check with one batch"
      ]
    },
    {
      "cell_type": "code",
      "metadata": {
        "colab": {
          "base_uri": "https://localhost:8080/"
        },
        "id": "rUoaMqjvKdym",
        "gather": {
          "logged": 1628695233994
        },
        "outputId": "7aa2bf3c-f067-463b-9ec0-bc98d5301cf3"
      },
      "source": [
        "data = next(iter(val_data_loader))\n",
        "data.keys()"
      ],
      "execution_count": 40,
      "outputs": [
        {
          "output_type": "execute_result",
          "data": {
            "text/plain": [
              "dict_keys(['tweets', 'input_ids', 'attention_mask', 'targets'])"
            ]
          },
          "metadata": {},
          "execution_count": 40
        }
      ]
    },
    {
      "cell_type": "code",
      "metadata": {
        "colab": {
          "base_uri": "https://localhost:8080/"
        },
        "id": "RIUB5WJNKhBs",
        "gather": {
          "logged": 1628695235802
        },
        "outputId": "10b5ca5c-0644-4756-a913-f7005ddb76b4"
      },
      "source": [
        "input_ids = data['input_ids'].to(device)\n",
        "attention_mask = data['attention_mask'].to(device)\n",
        "targets = data['targets'].to(device)\n",
        "print(input_ids.reshape(32,-1).shape) # batch size x seq length\n",
        "print(attention_mask.shape) # batch size x seq length"
      ],
      "execution_count": 42,
      "outputs": [
        {
          "output_type": "stream",
          "name": "stdout",
          "text": [
            "torch.Size([32, 128])\n",
            "torch.Size([32, 128])\n"
          ]
        }
      ]
    },
    {
      "cell_type": "code",
      "metadata": {
        "colab": {
          "base_uri": "https://localhost:8080/"
        },
        "id": "EYsDR9leYb4Z",
        "gather": {
          "logged": 1628695238356
        },
        "outputId": "6b715e6b-572f-40a6-ee6a-f1984badc1f4"
      },
      "source": [
        "input_ids[0]"
      ],
      "execution_count": 43,
      "outputs": [
        {
          "output_type": "execute_result",
          "data": {
            "text/plain": [
              "tensor([[   18, 16103,  6609,    17,   694,    17,    23,   553, 12676,   249,\n",
              "          2254, 15981,   153,   116,   369, 11005,    93,    17,  1979,   378,\n",
              "            18, 16103,  1647,     4,     3,     0,     0,     0,     0,     0,\n",
              "             0,     0,     0,     0,     0,     0,     0,     0,     0,     0,\n",
              "             0,     0,     0,     0,     0,     0,     0,     0,     0,     0,\n",
              "             0,     0,     0,     0,     0,     0,     0,     0,     0,     0,\n",
              "             0,     0,     0,     0,     0,     0,     0,     0,     0,     0,\n",
              "             0,     0,     0,     0,     0,     0,     0,     0,     0,     0,\n",
              "             0,     0,     0,     0,     0,     0,     0,     0,     0,     0,\n",
              "             0,     0,     0,     0,     0,     0,     0,     0,     0,     0,\n",
              "             0,     0,     0,     0,     0,     0,     0,     0,     0,     0,\n",
              "             0,     0,     0,     0,     0,     0,     0,     0,     0,     0,\n",
              "             0,     0,     0,     0,     0,     0,     0,     0]],\n",
              "       device='cuda:0')"
            ]
          },
          "metadata": {},
          "execution_count": 43
        }
      ]
    },
    {
      "cell_type": "code",
      "metadata": {
        "colab": {
          "base_uri": "https://localhost:8080/",
          "height": 342
        },
        "id": "KCFLKXL0KmaA",
        "gather": {
          "logged": 1628695242554
        },
        "outputId": "2e00231a-4b23-4efd-fbfa-ff83f569709d"
      },
      "source": [
        "outputs = model(input_ids.reshape(32,-1), token_type_ids=None, attention_mask=attention_mask, labels=targets)\n",
        "#outputs"
      ],
      "execution_count": null,
      "outputs": [
        {
          "output_type": "error",
          "ename": "RuntimeError",
          "evalue": "ignored",
          "traceback": [
            "\u001b[0;31m---------------------------------------------------------------------------\u001b[0m",
            "\u001b[0;31mRuntimeError\u001b[0m                              Traceback (most recent call last)",
            "\u001b[0;32m<ipython-input-39-fc546f2ede8d>\u001b[0m in \u001b[0;36m<module>\u001b[0;34m()\u001b[0m\n\u001b[0;32m----> 1\u001b[0;31m \u001b[0moutputs\u001b[0m \u001b[0;34m=\u001b[0m \u001b[0mmodel\u001b[0m\u001b[0;34m(\u001b[0m\u001b[0minput_ids\u001b[0m\u001b[0;34m.\u001b[0m\u001b[0mreshape\u001b[0m\u001b[0;34m(\u001b[0m\u001b[0;36m32\u001b[0m\u001b[0;34m,\u001b[0m\u001b[0;34m-\u001b[0m\u001b[0;36m1\u001b[0m\u001b[0;34m)\u001b[0m\u001b[0;34m,\u001b[0m \u001b[0mtoken_type_ids\u001b[0m\u001b[0;34m=\u001b[0m\u001b[0;32mNone\u001b[0m\u001b[0;34m,\u001b[0m \u001b[0mattention_mask\u001b[0m\u001b[0;34m=\u001b[0m\u001b[0mattention_mask\u001b[0m\u001b[0;34m,\u001b[0m \u001b[0mlabels\u001b[0m\u001b[0;34m=\u001b[0m\u001b[0mtargets\u001b[0m\u001b[0;34m)\u001b[0m\u001b[0;34m\u001b[0m\u001b[0;34m\u001b[0m\u001b[0m\n\u001b[0m\u001b[1;32m      2\u001b[0m \u001b[0;31m#outputs\u001b[0m\u001b[0;34m\u001b[0m\u001b[0;34m\u001b[0m\u001b[0;34m\u001b[0m\u001b[0m\n",
            "\u001b[0;32m/usr/local/lib/python3.7/dist-packages/torch/nn/modules/module.py\u001b[0m in \u001b[0;36m_call_impl\u001b[0;34m(self, *input, **kwargs)\u001b[0m\n\u001b[1;32m   1049\u001b[0m         if not (self._backward_hooks or self._forward_hooks or self._forward_pre_hooks or _global_backward_hooks\n\u001b[1;32m   1050\u001b[0m                 or _global_forward_hooks or _global_forward_pre_hooks):\n\u001b[0;32m-> 1051\u001b[0;31m             \u001b[0;32mreturn\u001b[0m \u001b[0mforward_call\u001b[0m\u001b[0;34m(\u001b[0m\u001b[0;34m*\u001b[0m\u001b[0minput\u001b[0m\u001b[0;34m,\u001b[0m \u001b[0;34m**\u001b[0m\u001b[0mkwargs\u001b[0m\u001b[0;34m)\u001b[0m\u001b[0;34m\u001b[0m\u001b[0;34m\u001b[0m\u001b[0m\n\u001b[0m\u001b[1;32m   1052\u001b[0m         \u001b[0;31m# Do not call functions when jit is used\u001b[0m\u001b[0;34m\u001b[0m\u001b[0;34m\u001b[0m\u001b[0;34m\u001b[0m\u001b[0m\n\u001b[1;32m   1053\u001b[0m         \u001b[0mfull_backward_hooks\u001b[0m\u001b[0;34m,\u001b[0m \u001b[0mnon_full_backward_hooks\u001b[0m \u001b[0;34m=\u001b[0m \u001b[0;34m[\u001b[0m\u001b[0;34m]\u001b[0m\u001b[0;34m,\u001b[0m \u001b[0;34m[\u001b[0m\u001b[0;34m]\u001b[0m\u001b[0;34m\u001b[0m\u001b[0;34m\u001b[0m\u001b[0m\n",
            "\u001b[0;32m/usr/local/lib/python3.7/dist-packages/transformers/models/xlnet/modeling_xlnet.py\u001b[0m in \u001b[0;36mforward\u001b[0;34m(self, input_ids, attention_mask, mems, perm_mask, target_mapping, token_type_ids, input_mask, head_mask, inputs_embeds, labels, use_mems, output_attentions, output_hidden_states, return_dict, **kwargs)\u001b[0m\n\u001b[1;32m   1543\u001b[0m             \u001b[0moutput_hidden_states\u001b[0m\u001b[0;34m=\u001b[0m\u001b[0moutput_hidden_states\u001b[0m\u001b[0;34m,\u001b[0m\u001b[0;34m\u001b[0m\u001b[0;34m\u001b[0m\u001b[0m\n\u001b[1;32m   1544\u001b[0m             \u001b[0mreturn_dict\u001b[0m\u001b[0;34m=\u001b[0m\u001b[0mreturn_dict\u001b[0m\u001b[0;34m,\u001b[0m\u001b[0;34m\u001b[0m\u001b[0;34m\u001b[0m\u001b[0m\n\u001b[0;32m-> 1545\u001b[0;31m             \u001b[0;34m**\u001b[0m\u001b[0mkwargs\u001b[0m\u001b[0;34m,\u001b[0m\u001b[0;34m\u001b[0m\u001b[0;34m\u001b[0m\u001b[0m\n\u001b[0m\u001b[1;32m   1546\u001b[0m         )\n\u001b[1;32m   1547\u001b[0m         \u001b[0moutput\u001b[0m \u001b[0;34m=\u001b[0m \u001b[0mtransformer_outputs\u001b[0m\u001b[0;34m[\u001b[0m\u001b[0;36m0\u001b[0m\u001b[0;34m]\u001b[0m\u001b[0;34m\u001b[0m\u001b[0;34m\u001b[0m\u001b[0m\n",
            "\u001b[0;32m/usr/local/lib/python3.7/dist-packages/torch/nn/modules/module.py\u001b[0m in \u001b[0;36m_call_impl\u001b[0;34m(self, *input, **kwargs)\u001b[0m\n\u001b[1;32m   1049\u001b[0m         if not (self._backward_hooks or self._forward_hooks or self._forward_pre_hooks or _global_backward_hooks\n\u001b[1;32m   1050\u001b[0m                 or _global_forward_hooks or _global_forward_pre_hooks):\n\u001b[0;32m-> 1051\u001b[0;31m             \u001b[0;32mreturn\u001b[0m \u001b[0mforward_call\u001b[0m\u001b[0;34m(\u001b[0m\u001b[0;34m*\u001b[0m\u001b[0minput\u001b[0m\u001b[0;34m,\u001b[0m \u001b[0;34m**\u001b[0m\u001b[0mkwargs\u001b[0m\u001b[0;34m)\u001b[0m\u001b[0;34m\u001b[0m\u001b[0;34m\u001b[0m\u001b[0m\n\u001b[0m\u001b[1;32m   1052\u001b[0m         \u001b[0;31m# Do not call functions when jit is used\u001b[0m\u001b[0;34m\u001b[0m\u001b[0;34m\u001b[0m\u001b[0;34m\u001b[0m\u001b[0m\n\u001b[1;32m   1053\u001b[0m         \u001b[0mfull_backward_hooks\u001b[0m\u001b[0;34m,\u001b[0m \u001b[0mnon_full_backward_hooks\u001b[0m \u001b[0;34m=\u001b[0m \u001b[0;34m[\u001b[0m\u001b[0;34m]\u001b[0m\u001b[0;34m,\u001b[0m \u001b[0;34m[\u001b[0m\u001b[0;34m]\u001b[0m\u001b[0;34m\u001b[0m\u001b[0;34m\u001b[0m\u001b[0m\n",
            "\u001b[0;32m/usr/local/lib/python3.7/dist-packages/transformers/models/xlnet/modeling_xlnet.py\u001b[0m in \u001b[0;36mforward\u001b[0;34m(self, input_ids, attention_mask, mems, perm_mask, target_mapping, token_type_ids, input_mask, head_mask, inputs_embeds, use_mems, output_attentions, output_hidden_states, return_dict, **kwargs)\u001b[0m\n\u001b[1;32m   1256\u001b[0m                 \u001b[0mtarget_mapping\u001b[0m\u001b[0;34m=\u001b[0m\u001b[0mtarget_mapping\u001b[0m\u001b[0;34m,\u001b[0m\u001b[0;34m\u001b[0m\u001b[0;34m\u001b[0m\u001b[0m\n\u001b[1;32m   1257\u001b[0m                 \u001b[0mhead_mask\u001b[0m\u001b[0;34m=\u001b[0m\u001b[0mhead_mask\u001b[0m\u001b[0;34m[\u001b[0m\u001b[0mi\u001b[0m\u001b[0;34m]\u001b[0m\u001b[0;34m,\u001b[0m\u001b[0;34m\u001b[0m\u001b[0;34m\u001b[0m\u001b[0m\n\u001b[0;32m-> 1258\u001b[0;31m                 \u001b[0moutput_attentions\u001b[0m\u001b[0;34m=\u001b[0m\u001b[0moutput_attentions\u001b[0m\u001b[0;34m,\u001b[0m\u001b[0;34m\u001b[0m\u001b[0;34m\u001b[0m\u001b[0m\n\u001b[0m\u001b[1;32m   1259\u001b[0m             )\n\u001b[1;32m   1260\u001b[0m             \u001b[0moutput_h\u001b[0m\u001b[0;34m,\u001b[0m \u001b[0moutput_g\u001b[0m \u001b[0;34m=\u001b[0m \u001b[0moutputs\u001b[0m\u001b[0;34m[\u001b[0m\u001b[0;34m:\u001b[0m\u001b[0;36m2\u001b[0m\u001b[0;34m]\u001b[0m\u001b[0;34m\u001b[0m\u001b[0;34m\u001b[0m\u001b[0m\n",
            "\u001b[0;32m/usr/local/lib/python3.7/dist-packages/torch/nn/modules/module.py\u001b[0m in \u001b[0;36m_call_impl\u001b[0;34m(self, *input, **kwargs)\u001b[0m\n\u001b[1;32m   1049\u001b[0m         if not (self._backward_hooks or self._forward_hooks or self._forward_pre_hooks or _global_backward_hooks\n\u001b[1;32m   1050\u001b[0m                 or _global_forward_hooks or _global_forward_pre_hooks):\n\u001b[0;32m-> 1051\u001b[0;31m             \u001b[0;32mreturn\u001b[0m \u001b[0mforward_call\u001b[0m\u001b[0;34m(\u001b[0m\u001b[0;34m*\u001b[0m\u001b[0minput\u001b[0m\u001b[0;34m,\u001b[0m \u001b[0;34m**\u001b[0m\u001b[0mkwargs\u001b[0m\u001b[0;34m)\u001b[0m\u001b[0;34m\u001b[0m\u001b[0;34m\u001b[0m\u001b[0m\n\u001b[0m\u001b[1;32m   1052\u001b[0m         \u001b[0;31m# Do not call functions when jit is used\u001b[0m\u001b[0;34m\u001b[0m\u001b[0;34m\u001b[0m\u001b[0;34m\u001b[0m\u001b[0m\n\u001b[1;32m   1053\u001b[0m         \u001b[0mfull_backward_hooks\u001b[0m\u001b[0;34m,\u001b[0m \u001b[0mnon_full_backward_hooks\u001b[0m \u001b[0;34m=\u001b[0m \u001b[0;34m[\u001b[0m\u001b[0;34m]\u001b[0m\u001b[0;34m,\u001b[0m \u001b[0;34m[\u001b[0m\u001b[0;34m]\u001b[0m\u001b[0;34m\u001b[0m\u001b[0;34m\u001b[0m\u001b[0m\n",
            "\u001b[0;32m/usr/local/lib/python3.7/dist-packages/transformers/models/xlnet/modeling_xlnet.py\u001b[0m in \u001b[0;36mforward\u001b[0;34m(self, output_h, output_g, attn_mask_h, attn_mask_g, r, seg_mat, mems, target_mapping, head_mask, output_attentions)\u001b[0m\n\u001b[1;32m    523\u001b[0m             \u001b[0mtarget_mapping\u001b[0m\u001b[0;34m=\u001b[0m\u001b[0mtarget_mapping\u001b[0m\u001b[0;34m,\u001b[0m\u001b[0;34m\u001b[0m\u001b[0;34m\u001b[0m\u001b[0m\n\u001b[1;32m    524\u001b[0m             \u001b[0mhead_mask\u001b[0m\u001b[0;34m=\u001b[0m\u001b[0mhead_mask\u001b[0m\u001b[0;34m,\u001b[0m\u001b[0;34m\u001b[0m\u001b[0;34m\u001b[0m\u001b[0m\n\u001b[0;32m--> 525\u001b[0;31m             \u001b[0moutput_attentions\u001b[0m\u001b[0;34m=\u001b[0m\u001b[0moutput_attentions\u001b[0m\u001b[0;34m,\u001b[0m\u001b[0;34m\u001b[0m\u001b[0;34m\u001b[0m\u001b[0m\n\u001b[0m\u001b[1;32m    526\u001b[0m         )\n\u001b[1;32m    527\u001b[0m         \u001b[0moutput_h\u001b[0m\u001b[0;34m,\u001b[0m \u001b[0moutput_g\u001b[0m \u001b[0;34m=\u001b[0m \u001b[0moutputs\u001b[0m\u001b[0;34m[\u001b[0m\u001b[0;34m:\u001b[0m\u001b[0;36m2\u001b[0m\u001b[0;34m]\u001b[0m\u001b[0;34m\u001b[0m\u001b[0;34m\u001b[0m\u001b[0m\n",
            "\u001b[0;32m/usr/local/lib/python3.7/dist-packages/torch/nn/modules/module.py\u001b[0m in \u001b[0;36m_call_impl\u001b[0;34m(self, *input, **kwargs)\u001b[0m\n\u001b[1;32m   1049\u001b[0m         if not (self._backward_hooks or self._forward_hooks or self._forward_pre_hooks or _global_backward_hooks\n\u001b[1;32m   1050\u001b[0m                 or _global_forward_hooks or _global_forward_pre_hooks):\n\u001b[0;32m-> 1051\u001b[0;31m             \u001b[0;32mreturn\u001b[0m \u001b[0mforward_call\u001b[0m\u001b[0;34m(\u001b[0m\u001b[0;34m*\u001b[0m\u001b[0minput\u001b[0m\u001b[0;34m,\u001b[0m \u001b[0;34m**\u001b[0m\u001b[0mkwargs\u001b[0m\u001b[0;34m)\u001b[0m\u001b[0;34m\u001b[0m\u001b[0;34m\u001b[0m\u001b[0m\n\u001b[0m\u001b[1;32m   1052\u001b[0m         \u001b[0;31m# Do not call functions when jit is used\u001b[0m\u001b[0;34m\u001b[0m\u001b[0;34m\u001b[0m\u001b[0;34m\u001b[0m\u001b[0m\n\u001b[1;32m   1053\u001b[0m         \u001b[0mfull_backward_hooks\u001b[0m\u001b[0;34m,\u001b[0m \u001b[0mnon_full_backward_hooks\u001b[0m \u001b[0;34m=\u001b[0m \u001b[0;34m[\u001b[0m\u001b[0;34m]\u001b[0m\u001b[0;34m,\u001b[0m \u001b[0;34m[\u001b[0m\u001b[0;34m]\u001b[0m\u001b[0;34m\u001b[0m\u001b[0;34m\u001b[0m\u001b[0m\n",
            "\u001b[0;32m/usr/local/lib/python3.7/dist-packages/transformers/models/xlnet/modeling_xlnet.py\u001b[0m in \u001b[0;36mforward\u001b[0;34m(self, h, g, attn_mask_h, attn_mask_g, r, seg_mat, mems, target_mapping, head_mask, output_attentions)\u001b[0m\n\u001b[1;32m    452\u001b[0m                 \u001b[0mattn_mask\u001b[0m\u001b[0;34m=\u001b[0m\u001b[0mattn_mask_h\u001b[0m\u001b[0;34m,\u001b[0m\u001b[0;34m\u001b[0m\u001b[0;34m\u001b[0m\u001b[0m\n\u001b[1;32m    453\u001b[0m                 \u001b[0mhead_mask\u001b[0m\u001b[0;34m=\u001b[0m\u001b[0mhead_mask\u001b[0m\u001b[0;34m,\u001b[0m\u001b[0;34m\u001b[0m\u001b[0;34m\u001b[0m\u001b[0m\n\u001b[0;32m--> 454\u001b[0;31m                 \u001b[0moutput_attentions\u001b[0m\u001b[0;34m=\u001b[0m\u001b[0moutput_attentions\u001b[0m\u001b[0;34m,\u001b[0m\u001b[0;34m\u001b[0m\u001b[0;34m\u001b[0m\u001b[0m\n\u001b[0m\u001b[1;32m    455\u001b[0m             )\n\u001b[1;32m    456\u001b[0m \u001b[0;34m\u001b[0m\u001b[0m\n",
            "\u001b[0;32m/usr/local/lib/python3.7/dist-packages/transformers/models/xlnet/modeling_xlnet.py\u001b[0m in \u001b[0;36mrel_attn_core\u001b[0;34m(self, q_head, k_head_h, v_head_h, k_head_r, seg_mat, attn_mask, head_mask, output_attentions)\u001b[0m\n\u001b[1;32m    286\u001b[0m         \u001b[0;31m# position based attention score\u001b[0m\u001b[0;34m\u001b[0m\u001b[0;34m\u001b[0m\u001b[0;34m\u001b[0m\u001b[0m\n\u001b[1;32m    287\u001b[0m         \u001b[0mbd\u001b[0m \u001b[0;34m=\u001b[0m \u001b[0mtorch\u001b[0m\u001b[0;34m.\u001b[0m\u001b[0meinsum\u001b[0m\u001b[0;34m(\u001b[0m\u001b[0;34m\"ibnd,jbnd->bnij\"\u001b[0m\u001b[0;34m,\u001b[0m \u001b[0mq_head\u001b[0m \u001b[0;34m+\u001b[0m \u001b[0mself\u001b[0m\u001b[0;34m.\u001b[0m\u001b[0mr_r_bias\u001b[0m\u001b[0;34m,\u001b[0m \u001b[0mk_head_r\u001b[0m\u001b[0;34m)\u001b[0m\u001b[0;34m\u001b[0m\u001b[0;34m\u001b[0m\u001b[0m\n\u001b[0;32m--> 288\u001b[0;31m         \u001b[0mbd\u001b[0m \u001b[0;34m=\u001b[0m \u001b[0mself\u001b[0m\u001b[0;34m.\u001b[0m\u001b[0mrel_shift_bnij\u001b[0m\u001b[0;34m(\u001b[0m\u001b[0mbd\u001b[0m\u001b[0;34m,\u001b[0m \u001b[0mklen\u001b[0m\u001b[0;34m=\u001b[0m\u001b[0mac\u001b[0m\u001b[0;34m.\u001b[0m\u001b[0mshape\u001b[0m\u001b[0;34m[\u001b[0m\u001b[0;36m3\u001b[0m\u001b[0;34m]\u001b[0m\u001b[0;34m)\u001b[0m\u001b[0;34m\u001b[0m\u001b[0;34m\u001b[0m\u001b[0m\n\u001b[0m\u001b[1;32m    289\u001b[0m \u001b[0;34m\u001b[0m\u001b[0m\n\u001b[1;32m    290\u001b[0m         \u001b[0;31m# segment based attention score\u001b[0m\u001b[0;34m\u001b[0m\u001b[0;34m\u001b[0m\u001b[0;34m\u001b[0m\u001b[0m\n",
            "\u001b[0;32m/usr/local/lib/python3.7/dist-packages/transformers/models/xlnet/modeling_xlnet.py\u001b[0m in \u001b[0;36mrel_shift_bnij\u001b[0;34m(x, klen)\u001b[0m\n\u001b[1;32m    263\u001b[0m         \u001b[0;31m#       However, tracing doesn't like the nature of the slice, and if klen changes\u001b[0m\u001b[0;34m\u001b[0m\u001b[0;34m\u001b[0m\u001b[0;34m\u001b[0m\u001b[0m\n\u001b[1;32m    264\u001b[0m         \u001b[0;31m#       during the run then it'll fail, whereas index_select will be fine.\u001b[0m\u001b[0;34m\u001b[0m\u001b[0;34m\u001b[0m\u001b[0;34m\u001b[0m\u001b[0m\n\u001b[0;32m--> 265\u001b[0;31m         \u001b[0mx\u001b[0m \u001b[0;34m=\u001b[0m \u001b[0mtorch\u001b[0m\u001b[0;34m.\u001b[0m\u001b[0mindex_select\u001b[0m\u001b[0;34m(\u001b[0m\u001b[0mx\u001b[0m\u001b[0;34m,\u001b[0m \u001b[0;36m3\u001b[0m\u001b[0;34m,\u001b[0m \u001b[0mtorch\u001b[0m\u001b[0;34m.\u001b[0m\u001b[0marange\u001b[0m\u001b[0;34m(\u001b[0m\u001b[0mklen\u001b[0m\u001b[0;34m,\u001b[0m \u001b[0mdevice\u001b[0m\u001b[0;34m=\u001b[0m\u001b[0mx\u001b[0m\u001b[0;34m.\u001b[0m\u001b[0mdevice\u001b[0m\u001b[0;34m,\u001b[0m \u001b[0mdtype\u001b[0m\u001b[0;34m=\u001b[0m\u001b[0mtorch\u001b[0m\u001b[0;34m.\u001b[0m\u001b[0mlong\u001b[0m\u001b[0;34m)\u001b[0m\u001b[0;34m)\u001b[0m\u001b[0;34m\u001b[0m\u001b[0;34m\u001b[0m\u001b[0m\n\u001b[0m\u001b[1;32m    266\u001b[0m         \u001b[0;31m# x = x[:, :, :, :klen]\u001b[0m\u001b[0;34m\u001b[0m\u001b[0;34m\u001b[0m\u001b[0;34m\u001b[0m\u001b[0m\n\u001b[1;32m    267\u001b[0m \u001b[0;34m\u001b[0m\u001b[0m\n",
            "\u001b[0;31mRuntimeError\u001b[0m: CUDA out of memory. Tried to allocate 384.00 MiB (GPU 0; 14.76 GiB total capacity; 13.56 GiB already allocated; 63.75 MiB free; 13.64 GiB reserved in total by PyTorch)"
          ]
        }
      ]
    },
    {
      "cell_type": "code",
      "metadata": {
        "colab": {
          "base_uri": "https://localhost:8080/"
        },
        "id": "zbyJNtqVkg4Y",
        "outputId": "eb5a58b4-1eca-4f80-9428-f98c4c962147"
      },
      "source": [
        "type(outputs[0])"
      ],
      "execution_count": null,
      "outputs": [
        {
          "output_type": "execute_result",
          "data": {
            "text/plain": [
              "torch.Tensor"
            ]
          },
          "metadata": {},
          "execution_count": 51
        }
      ]
    },
    {
      "cell_type": "markdown",
      "metadata": {
        "id": "eg44cHnNLd3J"
      },
      "source": [
        "### Defining the training step function"
      ]
    },
    {
      "cell_type": "code",
      "metadata": {
        "id": "tPnWttRNMArt",
        "gather": {
          "logged": 1628695250155
        }
      },
      "source": [
        "from sklearn import metrics\n",
        "def train_epoch(model, data_loader, optimizer, device, scheduler, n_examples):\n",
        "    model = model.train()\n",
        "    losses = []\n",
        "    acc = 0\n",
        "    counter = 0\n",
        "  \n",
        "    for d in data_loader:\n",
        "        input_ids = d[\"input_ids\"].reshape(-1,128).to(device)\n",
        "        attention_mask = d[\"attention_mask\"].to(device)\n",
        "        targets = d[\"targets\"].to(device)\n",
        "        \n",
        "        outputs = model(input_ids=input_ids, token_type_ids=None, attention_mask=attention_mask, labels = targets)\n",
        "        loss = outputs[0]\n",
        "        logits = outputs[1]\n",
        "\n",
        "        # preds = preds.cpu().detach().numpy()\n",
        "        _, prediction = torch.max(outputs[1], dim=1)\n",
        "        targets = targets.cpu().detach().numpy()\n",
        "        prediction = prediction.cpu().detach().numpy()\n",
        "        accuracy = metrics.accuracy_score(targets, prediction)\n",
        "\n",
        "        acc += accuracy\n",
        "        losses.append(loss.item())\n",
        "        \n",
        "        loss.backward()\n",
        "\n",
        "        nn.utils.clip_grad_norm_(model.parameters(), max_norm=1.0)\n",
        "        optimizer.step()\n",
        "        scheduler.step()\n",
        "        optimizer.zero_grad()\n",
        "        counter = counter + 1\n",
        "\n",
        "    return acc / counter, np.mean(losses)"
      ],
      "execution_count": 44,
      "outputs": []
    },
    {
      "cell_type": "markdown",
      "metadata": {
        "id": "4N2ktqT8LoDS"
      },
      "source": [
        "### Defining the evaluation function"
      ]
    },
    {
      "cell_type": "code",
      "metadata": {
        "id": "V_ZyoJ4qb-CB",
        "gather": {
          "logged": 1628695254050
        }
      },
      "source": [
        "def eval_model(model, data_loader, device, n_examples):\n",
        "    model = model.eval()\n",
        "    losses = []\n",
        "    acc = 0\n",
        "    counter = 0\n",
        "  \n",
        "    with torch.no_grad():\n",
        "        for d in data_loader:\n",
        "            input_ids = d[\"input_ids\"].reshape(-1,128).to(device)\n",
        "            attention_mask = d[\"attention_mask\"].to(device)\n",
        "            targets = d[\"targets\"].to(device)\n",
        "            \n",
        "            outputs = model(input_ids=input_ids, token_type_ids=None, attention_mask=attention_mask, labels = targets)\n",
        "            loss = outputs[0]\n",
        "            logits = outputs[1]\n",
        "\n",
        "            _, prediction = torch.max(outputs[1], dim=1)\n",
        "            targets = targets.cpu().detach().numpy()\n",
        "            prediction = prediction.cpu().detach().numpy()\n",
        "            accuracy = metrics.accuracy_score(targets, prediction)\n",
        "\n",
        "            acc += accuracy\n",
        "            losses.append(loss.item())\n",
        "            counter += 1\n",
        "\n",
        "    return acc / counter, np.mean(losses)"
      ],
      "execution_count": 45,
      "outputs": []
    },
    {
      "cell_type": "markdown",
      "metadata": {
        "id": "9AG1TE43LvkX"
      },
      "source": [
        "### Fine-tuning the pre-trained model"
      ]
    },
    {
      "cell_type": "code",
      "metadata": {
        "colab": {
          "base_uri": "https://localhost:8080/"
        },
        "id": "eNSQSFkScp6f",
        "outputId": "f8e6010b-8c9b-4afd-a1fc-33fd000ad3f8"
      },
      "source": [
        "%%time\n",
        "history = defaultdict(list)\n",
        "best_accuracy = 0\n",
        "\n",
        "for epoch in range(EPOCHS):\n",
        "    print(f'Epoch {epoch + 1}/{EPOCHS}')\n",
        "    print('-' * 10)\n",
        "\n",
        "    train_acc, train_loss = train_epoch(\n",
        "        model,\n",
        "        train_data_loader,     \n",
        "        optimizer, \n",
        "        device, \n",
        "        scheduler, \n",
        "        len(df_train)\n",
        "    )\n",
        "\n",
        "    print(f'Train loss {train_loss} Train accuracy {train_acc}')\n",
        "\n",
        "    val_acc, val_loss = eval_model(\n",
        "        model,\n",
        "        val_data_loader, \n",
        "        device, \n",
        "        len(df_val)\n",
        "    )\n",
        "\n",
        "    print(f'Val loss {val_loss} Val accuracy {val_acc}')\n",
        "    print()\n",
        "\n",
        "    history['train_acc'].append(train_acc)\n",
        "    history['train_loss'].append(train_loss)\n",
        "    history['val_acc'].append(val_acc)\n",
        "    history['val_loss'].append(val_loss)\n",
        "\n",
        "    if val_acc > best_accuracy:\n",
        "        torch.save(model.state_dict(), './xlnet_ptacek_run3.bin')\n",
        "        best_accuracy = val_acc"
      ],
      "execution_count": 47,
      "outputs": [
        {
          "output_type": "stream",
          "name": "stdout",
          "text": [
            "Epoch 1/4\n",
            "----------\n",
            "Train loss 0.3384942486511073 Train accuracy 0.8407159494488261\n",
            "Val loss 0.28050490375939635 Val accuracy 0.8783362989323843\n",
            "\n",
            "Epoch 2/4\n",
            "----------\n",
            "Train loss 0.25767109111058123 Train accuracy 0.8887656531064065\n",
            "Val loss 0.2798969444696165 Val accuracy 0.8881227758007118\n",
            "\n",
            "Epoch 3/4\n",
            "----------\n",
            "Train loss 0.212319596031516 Train accuracy 0.9115671555740049\n",
            "Val loss 0.29353269215447836 Val accuracy 0.8919039145907474\n",
            "\n",
            "Epoch 4/4\n",
            "----------\n",
            "Train loss 0.18255994769084646 Train accuracy 0.9262653648355703\n",
            "Val loss 0.30220774735499745 Val accuracy 0.8896797153024911\n",
            "\n",
            "CPU times: user 58min 22s, sys: 25.6 s, total: 58min 47s\n",
            "Wall time: 56min 25s\n"
          ]
        }
      ]
    },
    {
      "cell_type": "code",
      "metadata": {
        "collapsed": true,
        "jupyter": {
          "source_hidden": false,
          "outputs_hidden": false
        },
        "nteract": {
          "transient": {
            "deleting": false
          }
        },
        "gather": {
          "logged": 1628703537520
        },
        "id": "P2GjxOwlbf4d",
        "colab": {
          "base_uri": "https://localhost:8080/",
          "height": 523
        },
        "outputId": "9c4a1a0d-4da5-44e1-84f4-d9c0d2a6bf67"
      },
      "source": [
        "plt.plot(history['train_acc'], label='train accuracy')\n",
        "plt.plot(history['val_acc'], label='validation accuracy')\n",
        "\n",
        "plt.title('Training history')\n",
        "plt.ylabel('Accuracy')\n",
        "plt.xlabel('Epoch')\n",
        "plt.legend()\n",
        "plt.ylim([0, 1]);"
      ],
      "execution_count": 48,
      "outputs": [
        {
          "output_type": "display_data",
          "data": {
            "image/png": "[encoded data removed]",
            "text/plain": [
              "<Figure size 864x576 with 1 Axes>"
            ]
          },
          "metadata": {
            "image/png": {
              "width": 732,
              "height": 506
            }
          }
        }
      ]
    },
    {
      "cell_type": "code",
      "metadata": {
        "collapsed": true,
        "jupyter": {
          "source_hidden": false,
          "outputs_hidden": false
        },
        "nteract": {
          "transient": {
            "deleting": false
          }
        },
        "gather": {
          "logged": 1628703568020
        },
        "id": "vVhpXTwEbf5R",
        "colab": {
          "base_uri": "https://localhost:8080/",
          "height": 523
        },
        "outputId": "004f2243-84f7-4ab7-d1a1-8eb60000ac56"
      },
      "source": [
        "plt.plot(history['train_loss'], label='train loss')\n",
        "plt.plot(history['val_loss'], label='validation loss')\n",
        "\n",
        "plt.title('Training Loss vs Validation Loss')\n",
        "plt.ylabel('Loss')\n",
        "plt.xlabel('Epoch')\n",
        "plt.legend()\n",
        "plt.ylim([0, 1]);"
      ],
      "execution_count": 49,
      "outputs": [
        {
          "output_type": "display_data",
          "data": {
            "image/png": "[encoded data removed]",
            "text/plain": [
              "<Figure size 864x576 with 1 Axes>"
            ]
          },
          "metadata": {
            "image/png": {
              "width": 732,
              "height": 506
            }
          }
        }
      ]
    },
    {
      "cell_type": "markdown",
      "metadata": {
        "id": "qe08GjtNL-Sh"
      },
      "source": [
        "### Evaluation of the fine-tuned model"
      ]
    },
    {
      "cell_type": "code",
      "metadata": {
        "id": "XqtQkz2yrZE3",
        "colab": {
          "base_uri": "https://localhost:8080/"
        },
        "gather": {
          "logged": 1628703093887
        },
        "outputId": "d8bac0e7-85ce-4ec0-d7c5-39778785323a"
      },
      "source": [
        "model.load_state_dict(torch.load('./xlnet_ptacek_run3.bin',map_location=torch.device('cpu')))"
      ],
      "execution_count": 50,
      "outputs": [
        {
          "output_type": "execute_result",
          "data": {
            "text/plain": [
              "<All keys matched successfully>"
            ]
          },
          "metadata": {},
          "execution_count": 50
        }
      ]
    },
    {
      "cell_type": "code",
      "metadata": {
        "id": "26k0PMpdy1QT",
        "gather": {
          "logged": 1628703097444
        }
      },
      "source": [
        "model = model.to(device)"
      ],
      "execution_count": 51,
      "outputs": []
    },
    {
      "cell_type": "code",
      "metadata": {
        "id": "QHINzx6ezSD0",
        "colab": {
          "base_uri": "https://localhost:8080/"
        },
        "gather": {
          "logged": 1628703152477
        },
        "outputId": "bd4f6c5f-e82e-4d6e-945e-2ea75700ef0d"
      },
      "source": [
        "test_acc, test_loss = eval_model(\n",
        "  model,\n",
        "  test_data_loader,\n",
        "  device,\n",
        "  len(df_test)\n",
        ")\n",
        "\n",
        "print('Test Accuracy :', test_acc)\n",
        "print('Test Loss :', test_loss)"
      ],
      "execution_count": 52,
      "outputs": [
        {
          "output_type": "stream",
          "name": "stdout",
          "text": [
            "Test Accuracy : 0.8831955922865014\n",
            "Test Loss : 0.3029123136450437\n"
          ]
        }
      ]
    },
    {
      "cell_type": "code",
      "metadata": {
        "id": "NBWsLq4yzubR",
        "gather": {
          "logged": 1628703470101
        }
      },
      "source": [
        "def get_predictions(model, data_loader):\n",
        "    model = model.eval()\n",
        "    \n",
        "    tweet_texts = []\n",
        "    predictions = []\n",
        "    prediction_probs = []\n",
        "    real_values = []\n",
        "\n",
        "    with torch.no_grad():\n",
        "        for d in data_loader:\n",
        "\n",
        "            texts = d[\"tweets\"]\n",
        "            input_ids = d[\"input_ids\"].reshape(-1,128).to(device)\n",
        "            attention_mask = d[\"attention_mask\"].to(device)\n",
        "            targets = d[\"targets\"].to(device)\n",
        "            \n",
        "            outputs = model(input_ids=input_ids, token_type_ids=None, attention_mask=attention_mask, labels = targets)\n",
        "\n",
        "            loss = outputs[0]\n",
        "            logits = outputs[1]\n",
        "            \n",
        "            _, preds = torch.max(outputs[1], dim=1)\n",
        "\n",
        "            probs = F.softmax(outputs[1], dim=1)\n",
        "\n",
        "            tweet_texts.extend(texts)\n",
        "            predictions.extend(preds)\n",
        "            prediction_probs.extend(probs)\n",
        "            real_values.extend(targets)\n",
        "\n",
        "    predictions = torch.stack(predictions).cpu()\n",
        "    prediction_probs = torch.stack(prediction_probs).cpu()\n",
        "    real_values = torch.stack(real_values).cpu()\n",
        "    return tweet_texts, predictions, prediction_probs, real_values"
      ],
      "execution_count": 55,
      "outputs": []
    },
    {
      "cell_type": "code",
      "metadata": {
        "id": "hwCQaTFH5KWy",
        "gather": {
          "logged": 1628703518187
        }
      },
      "source": [
        "y_review_texts, y_pred, y_pred_probs, y_test = get_predictions(\n",
        "  model,\n",
        "  test_data_loader\n",
        ")"
      ],
      "execution_count": 56,
      "outputs": []
    },
    {
      "cell_type": "code",
      "metadata": {
        "id": "wviSSrIP5Pvl",
        "gather": {
          "logged": 1628703582730
        },
        "colab": {
          "base_uri": "https://localhost:8080/"
        },
        "outputId": "ec5b1e49-2a67-48cd-8782-b41d0f20b002"
      },
      "source": [
        "print(classification_report(y_test, y_pred, target_names=class_names))"
      ],
      "execution_count": 57,
      "outputs": [
        {
          "output_type": "stream",
          "name": "stdout",
          "text": [
            "              precision    recall  f1-score   support\n",
            "\n",
            "           1       0.91      0.94      0.92      2948\n",
            "           0       0.78      0.70      0.74       907\n",
            "\n",
            "    accuracy                           0.88      3855\n",
            "   macro avg       0.84      0.82      0.83      3855\n",
            "weighted avg       0.88      0.88      0.88      3855\n",
            "\n"
          ]
        }
      ]
    },
    {
      "cell_type": "markdown",
      "metadata": {
        "id": "FdrnJkm-MGvv"
      },
      "source": [
        "### Custom prediction function on raw text"
      ]
    },
    {
      "cell_type": "code",
      "metadata": {
        "id": "lIxCoTjo6tWM",
        "gather": {
          "logged": 1628703642832
        }
      },
      "source": [
        "def predict_sentiment(text):\n",
        "    tweets = text\n",
        "\n",
        "    encoded_review = tokenizer.encode_plus(\n",
        "    tweets,\n",
        "    max_length=MAX_LEN,\n",
        "    add_special_tokens=True,\n",
        "    return_token_type_ids=False,\n",
        "    pad_to_max_length=False,\n",
        "    return_attention_mask=True,\n",
        "    return_tensors='pt',\n",
        "    )\n",
        "\n",
        "    input_ids = pad_sequences(encoded_review['input_ids'], maxlen=MAX_LEN, dtype=torch.Tensor ,truncating=\"post\",padding=\"post\")\n",
        "    input_ids = input_ids.astype(dtype = 'int64')\n",
        "    input_ids = torch.tensor(input_ids) \n",
        "\n",
        "    attention_mask = pad_sequences(encoded_review['attention_mask'], maxlen=MAX_LEN, dtype=torch.Tensor ,truncating=\"post\",padding=\"post\")\n",
        "    attention_mask = attention_mask.astype(dtype = 'int64')\n",
        "    attention_mask = torch.tensor(attention_mask) \n",
        "\n",
        "    input_ids = input_ids.reshape(1,128).to(device)\n",
        "    attention_mask = attention_mask.to(device)\n",
        "\n",
        "    outputs = model(input_ids=input_ids, attention_mask=attention_mask)\n",
        "\n",
        "    outputs = outputs[0][0].cpu().detach()\n",
        "\n",
        "    probs = F.softmax(outputs, dim=-1).cpu().detach().numpy().tolist()\n",
        "    _, prediction = torch.max(outputs, dim =-1)\n",
        "\n",
        "    print(\"Non Sarcasm Score \", probs[1])\n",
        "    print(\"Sarcasm score:\", probs[0])\n",
        "    print(f'tweet text: {tweets}')\n",
        "    print(f'Sentiment  : {class_names[prediction]}')"
      ],
      "execution_count": 60,
      "outputs": []
    },
    {
      "cell_type": "code",
      "metadata": {
        "id": "8UlPGZgNFV1j",
        "gather": {
          "logged": 1628703645325
        },
        "colab": {
          "base_uri": "https://localhost:8080/"
        },
        "outputId": "2e7baa05-fc6f-495d-e830-6805204ebd0e"
      },
      "source": [
        "text = \"Nice perfume. How long did you marinate in it?\"\n",
        "predict_sentiment(text)"
      ],
      "execution_count": 61,
      "outputs": [
        {
          "output_type": "stream",
          "name": "stdout",
          "text": [
            "Non Sarcasm Score  0.003047539386898279\n",
            "Sarcasm score: 0.9969524145126343\n",
            "tweet text: Nice perfume. How long did you marinate in it?\n",
            "Sentiment  : 1\n"
          ]
        }
      ]
    },
    {
      "cell_type": "code",
      "metadata": {
        "id": "2oO0OhNoF4wo",
        "gather": {
          "logged": 1628703649363
        },
        "colab": {
          "base_uri": "https://localhost:8080/"
        },
        "outputId": "d2b2bbac-2ea2-408a-c5aa-bcd6992c0906"
      },
      "source": [
        "text = \"i want to look like a 12 year old girl mixed with a retired body builder 💁 dreams  disgusting” 😂 😂 😂 😂 😂 iloveyou\"\n",
        "predict_sentiment(text)"
      ],
      "execution_count": 62,
      "outputs": [
        {
          "output_type": "stream",
          "name": "stdout",
          "text": [
            "Non Sarcasm Score  0.9859796166419983\n",
            "Sarcasm score: 0.014020386151969433\n",
            "tweet text: i want to look like a 12 year old girl mixed with a retired body builder 💁 dreams  disgusting” 😂 😂 😂 😂 😂 iloveyou\n",
            "Sentiment  : 0\n"
          ]
        }
      ]
    },
    {
      "cell_type": "code",
      "metadata": {
        "collapsed": true,
        "jupyter": {
          "source_hidden": false,
          "outputs_hidden": false
        },
        "nteract": {
          "transient": {
            "deleting": false
          }
        },
        "id": "H7F2_EmMbf7m"
      },
      "source": [
        ""
      ],
      "execution_count": null,
      "outputs": []
    }
  ]
}