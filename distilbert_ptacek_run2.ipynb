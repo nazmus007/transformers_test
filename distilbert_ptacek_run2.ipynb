{
  "nbformat": 4,
  "nbformat_minor": 0,
  "metadata": {
    "kernelspec": {
      "name": "python3-azureml",
      "language": "python",
      "display_name": "Python 3.6 - AzureML"
    },
    "language_info": {
      "name": "python",
      "version": "3.6.9",
      "mimetype": "text/x-python",
      "codemirror_mode": {
        "name": "ipython",
        "version": 3
      },
      "pygments_lexer": "ipython3",
      "nbconvert_exporter": "python",
      "file_extension": ".py"
    },
    "kernel_info": {
      "name": "python3-azureml"
    },
    "nteract": {
      "version": "nteract-front-end@1.0.0"
    },
    "microsoft": {
      "host": {
        "AzureML": {
          "notebookHasBeenCompleted": true
        }
      }
    },
    "colab": {
      "name": "distilbert_ptacek_run2.ipynb",
      "provenance": [],
      "collapsed_sections": [],
      "machine_shape": "hm",
      "include_colab_link": true
    },
    "accelerator": "GPU",
    "widgets": {
      "application/vnd.jupyter.widget-state+json": {
        "6db5b2a303034b87b6157c361f082c9c": {
          "model_module": "@jupyter-widgets/controls",
          "model_name": "HBoxModel",
          "model_module_version": "1.5.0",
          "state": {
            "_view_name": "HBoxView",
            "_dom_classes": [],
            "_model_name": "HBoxModel",
            "_view_module": "@jupyter-widgets/controls",
            "_model_module_version": "1.5.0",
            "_view_count": null,
            "_view_module_version": "1.5.0",
            "box_style": "",
            "layout": "IPY_MODEL_b3d2ea665dd74763bf8a5ec693c33ea5",
            "_model_module": "@jupyter-widgets/controls",
            "children": [
              "IPY_MODEL_ebf02e8d8e7f4cd9a4c37ecb516d3fff",
              "IPY_MODEL_2443c19e79f741bca0bbbb6626d8910f",
              "IPY_MODEL_d5aa0d75c79a4389bfb55bc7f1fbc4ba"
            ]
          }
        },
        "b3d2ea665dd74763bf8a5ec693c33ea5": {
          "model_module": "@jupyter-widgets/base",
          "model_name": "LayoutModel",
          "model_module_version": "1.2.0",
          "state": {
            "_view_name": "LayoutView",
            "grid_template_rows": null,
            "right": null,
            "justify_content": null,
            "_view_module": "@jupyter-widgets/base",
            "overflow": null,
            "_model_module_version": "1.2.0",
            "_view_count": null,
            "flex_flow": null,
            "width": null,
            "min_width": null,
            "border": null,
            "align_items": null,
            "bottom": null,
            "_model_module": "@jupyter-widgets/base",
            "top": null,
            "grid_column": null,
            "overflow_y": null,
            "overflow_x": null,
            "grid_auto_flow": null,
            "grid_area": null,
            "grid_template_columns": null,
            "flex": null,
            "_model_name": "LayoutModel",
            "justify_items": null,
            "grid_row": null,
            "max_height": null,
            "align_content": null,
            "visibility": null,
            "align_self": null,
            "height": null,
            "min_height": null,
            "padding": null,
            "grid_auto_rows": null,
            "grid_gap": null,
            "max_width": null,
            "order": null,
            "_view_module_version": "1.2.0",
            "grid_template_areas": null,
            "object_position": null,
            "object_fit": null,
            "grid_auto_columns": null,
            "margin": null,
            "display": null,
            "left": null
          }
        },
        "ebf02e8d8e7f4cd9a4c37ecb516d3fff": {
          "model_module": "@jupyter-widgets/controls",
          "model_name": "HTMLModel",
          "model_module_version": "1.5.0",
          "state": {
            "_view_name": "HTMLView",
            "style": "IPY_MODEL_50d0277d893f4c17adbe1163fb3621ce",
            "_dom_classes": [],
            "description": "",
            "_model_name": "HTMLModel",
            "placeholder": "​",
            "_view_module": "@jupyter-widgets/controls",
            "_model_module_version": "1.5.0",
            "value": "Downloading: 100%",
            "_view_count": null,
            "_view_module_version": "1.5.0",
            "description_tooltip": null,
            "_model_module": "@jupyter-widgets/controls",
            "layout": "IPY_MODEL_2f3cd1a8f0774b4bb9fa225d265bd2e5"
          }
        },
        "2443c19e79f741bca0bbbb6626d8910f": {
          "model_module": "@jupyter-widgets/controls",
          "model_name": "FloatProgressModel",
          "model_module_version": "1.5.0",
          "state": {
            "_view_name": "ProgressView",
            "style": "IPY_MODEL_5e7228a8e35a45e5af810f18f8f0a40b",
            "_dom_classes": [],
            "description": "",
            "_model_name": "FloatProgressModel",
            "bar_style": "success",
            "max": 231508,
            "_view_module": "@jupyter-widgets/controls",
            "_model_module_version": "1.5.0",
            "value": 231508,
            "_view_count": null,
            "_view_module_version": "1.5.0",
            "orientation": "horizontal",
            "min": 0,
            "description_tooltip": null,
            "_model_module": "@jupyter-widgets/controls",
            "layout": "IPY_MODEL_ed4b8f5d406d4d308e4c1dab5fbb3301"
          }
        },
        "d5aa0d75c79a4389bfb55bc7f1fbc4ba": {
          "model_module": "@jupyter-widgets/controls",
          "model_name": "HTMLModel",
          "model_module_version": "1.5.0",
          "state": {
            "_view_name": "HTMLView",
            "style": "IPY_MODEL_0ff9031301de4258b35455de2c123654",
            "_dom_classes": [],
            "description": "",
            "_model_name": "HTMLModel",
            "placeholder": "​",
            "_view_module": "@jupyter-widgets/controls",
            "_model_module_version": "1.5.0",
            "value": " 226k/226k [00:00&lt;00:00, 2.46MB/s]",
            "_view_count": null,
            "_view_module_version": "1.5.0",
            "description_tooltip": null,
            "_model_module": "@jupyter-widgets/controls",
            "layout": "IPY_MODEL_8d488afa0fac40c3a11cd9389eeb29e6"
          }
        },
        "50d0277d893f4c17adbe1163fb3621ce": {
          "model_module": "@jupyter-widgets/controls",
          "model_name": "DescriptionStyleModel",
          "model_module_version": "1.5.0",
          "state": {
            "_view_name": "StyleView",
            "_model_name": "DescriptionStyleModel",
            "description_width": "",
            "_view_module": "@jupyter-widgets/base",
            "_model_module_version": "1.5.0",
            "_view_count": null,
            "_view_module_version": "1.2.0",
            "_model_module": "@jupyter-widgets/controls"
          }
        },
        "2f3cd1a8f0774b4bb9fa225d265bd2e5": {
          "model_module": "@jupyter-widgets/base",
          "model_name": "LayoutModel",
          "model_module_version": "1.2.0",
          "state": {
            "_view_name": "LayoutView",
            "grid_template_rows": null,
            "right": null,
            "justify_content": null,
            "_view_module": "@jupyter-widgets/base",
            "overflow": null,
            "_model_module_version": "1.2.0",
            "_view_count": null,
            "flex_flow": null,
            "width": null,
            "min_width": null,
            "border": null,
            "align_items": null,
            "bottom": null,
            "_model_module": "@jupyter-widgets/base",
            "top": null,
            "grid_column": null,
            "overflow_y": null,
            "overflow_x": null,
            "grid_auto_flow": null,
            "grid_area": null,
            "grid_template_columns": null,
            "flex": null,
            "_model_name": "LayoutModel",
            "justify_items": null,
            "grid_row": null,
            "max_height": null,
            "align_content": null,
            "visibility": null,
            "align_self": null,
            "height": null,
            "min_height": null,
            "padding": null,
            "grid_auto_rows": null,
            "grid_gap": null,
            "max_width": null,
            "order": null,
            "_view_module_version": "1.2.0",
            "grid_template_areas": null,
            "object_position": null,
            "object_fit": null,
            "grid_auto_columns": null,
            "margin": null,
            "display": null,
            "left": null
          }
        },
        "5e7228a8e35a45e5af810f18f8f0a40b": {
          "model_module": "@jupyter-widgets/controls",
          "model_name": "ProgressStyleModel",
          "model_module_version": "1.5.0",
          "state": {
            "_view_name": "StyleView",
            "_model_name": "ProgressStyleModel",
            "description_width": "",
            "_view_module": "@jupyter-widgets/base",
            "_model_module_version": "1.5.0",
            "_view_count": null,
            "_view_module_version": "1.2.0",
            "bar_color": null,
            "_model_module": "@jupyter-widgets/controls"
          }
        },
        "ed4b8f5d406d4d308e4c1dab5fbb3301": {
          "model_module": "@jupyter-widgets/base",
          "model_name": "LayoutModel",
          "model_module_version": "1.2.0",
          "state": {
            "_view_name": "LayoutView",
            "grid_template_rows": null,
            "right": null,
            "justify_content": null,
            "_view_module": "@jupyter-widgets/base",
            "overflow": null,
            "_model_module_version": "1.2.0",
            "_view_count": null,
            "flex_flow": null,
            "width": null,
            "min_width": null,
            "border": null,
            "align_items": null,
            "bottom": null,
            "_model_module": "@jupyter-widgets/base",
            "top": null,
            "grid_column": null,
            "overflow_y": null,
            "overflow_x": null,
            "grid_auto_flow": null,
            "grid_area": null,
            "grid_template_columns": null,
            "flex": null,
            "_model_name": "LayoutModel",
            "justify_items": null,
            "grid_row": null,
            "max_height": null,
            "align_content": null,
            "visibility": null,
            "align_self": null,
            "height": null,
            "min_height": null,
            "padding": null,
            "grid_auto_rows": null,
            "grid_gap": null,
            "max_width": null,
            "order": null,
            "_view_module_version": "1.2.0",
            "grid_template_areas": null,
            "object_position": null,
            "object_fit": null,
            "grid_auto_columns": null,
            "margin": null,
            "display": null,
            "left": null
          }
        },
        "0ff9031301de4258b35455de2c123654": {
          "model_module": "@jupyter-widgets/controls",
          "model_name": "DescriptionStyleModel",
          "model_module_version": "1.5.0",
          "state": {
            "_view_name": "StyleView",
            "_model_name": "DescriptionStyleModel",
            "description_width": "",
            "_view_module": "@jupyter-widgets/base",
            "_model_module_version": "1.5.0",
            "_view_count": null,
            "_view_module_version": "1.2.0",
            "_model_module": "@jupyter-widgets/controls"
          }
        },
        "8d488afa0fac40c3a11cd9389eeb29e6": {
          "model_module": "@jupyter-widgets/base",
          "model_name": "LayoutModel",
          "model_module_version": "1.2.0",
          "state": {
            "_view_name": "LayoutView",
            "grid_template_rows": null,
            "right": null,
            "justify_content": null,
            "_view_module": "@jupyter-widgets/base",
            "overflow": null,
            "_model_module_version": "1.2.0",
            "_view_count": null,
            "flex_flow": null,
            "width": null,
            "min_width": null,
            "border": null,
            "align_items": null,
            "bottom": null,
            "_model_module": "@jupyter-widgets/base",
            "top": null,
            "grid_column": null,
            "overflow_y": null,
            "overflow_x": null,
            "grid_auto_flow": null,
            "grid_area": null,
            "grid_template_columns": null,
            "flex": null,
            "_model_name": "LayoutModel",
            "justify_items": null,
            "grid_row": null,
            "max_height": null,
            "align_content": null,
            "visibility": null,
            "align_self": null,
            "height": null,
            "min_height": null,
            "padding": null,
            "grid_auto_rows": null,
            "grid_gap": null,
            "max_width": null,
            "order": null,
            "_view_module_version": "1.2.0",
            "grid_template_areas": null,
            "object_position": null,
            "object_fit": null,
            "grid_auto_columns": null,
            "margin": null,
            "display": null,
            "left": null
          }
        },
        "d15121b6e3b144758b0fdc93418acc41": {
          "model_module": "@jupyter-widgets/controls",
          "model_name": "HBoxModel",
          "model_module_version": "1.5.0",
          "state": {
            "_view_name": "HBoxView",
            "_dom_classes": [],
            "_model_name": "HBoxModel",
            "_view_module": "@jupyter-widgets/controls",
            "_model_module_version": "1.5.0",
            "_view_count": null,
            "_view_module_version": "1.5.0",
            "box_style": "",
            "layout": "IPY_MODEL_79a9039833bc4a1f868be099e1351ed0",
            "_model_module": "@jupyter-widgets/controls",
            "children": [
              "IPY_MODEL_6926ffb1f1fe4376a6a404f9b16407d3",
              "IPY_MODEL_7e7e0982595347d7becbc65b1a485174",
              "IPY_MODEL_5693ba3c0693467a99e219746c680461"
            ]
          }
        },
        "79a9039833bc4a1f868be099e1351ed0": {
          "model_module": "@jupyter-widgets/base",
          "model_name": "LayoutModel",
          "model_module_version": "1.2.0",
          "state": {
            "_view_name": "LayoutView",
            "grid_template_rows": null,
            "right": null,
            "justify_content": null,
            "_view_module": "@jupyter-widgets/base",
            "overflow": null,
            "_model_module_version": "1.2.0",
            "_view_count": null,
            "flex_flow": null,
            "width": null,
            "min_width": null,
            "border": null,
            "align_items": null,
            "bottom": null,
            "_model_module": "@jupyter-widgets/base",
            "top": null,
            "grid_column": null,
            "overflow_y": null,
            "overflow_x": null,
            "grid_auto_flow": null,
            "grid_area": null,
            "grid_template_columns": null,
            "flex": null,
            "_model_name": "LayoutModel",
            "justify_items": null,
            "grid_row": null,
            "max_height": null,
            "align_content": null,
            "visibility": null,
            "align_self": null,
            "height": null,
            "min_height": null,
            "padding": null,
            "grid_auto_rows": null,
            "grid_gap": null,
            "max_width": null,
            "order": null,
            "_view_module_version": "1.2.0",
            "grid_template_areas": null,
            "object_position": null,
            "object_fit": null,
            "grid_auto_columns": null,
            "margin": null,
            "display": null,
            "left": null
          }
        },
        "6926ffb1f1fe4376a6a404f9b16407d3": {
          "model_module": "@jupyter-widgets/controls",
          "model_name": "HTMLModel",
          "model_module_version": "1.5.0",
          "state": {
            "_view_name": "HTMLView",
            "style": "IPY_MODEL_e1d874b28d8340eebb5c2f39c9f87b7a",
            "_dom_classes": [],
            "description": "",
            "_model_name": "HTMLModel",
            "placeholder": "​",
            "_view_module": "@jupyter-widgets/controls",
            "_model_module_version": "1.5.0",
            "value": "Downloading: 100%",
            "_view_count": null,
            "_view_module_version": "1.5.0",
            "description_tooltip": null,
            "_model_module": "@jupyter-widgets/controls",
            "layout": "IPY_MODEL_25a6c0a188be4e7ca54796e069dcb2e8"
          }
        },
        "7e7e0982595347d7becbc65b1a485174": {
          "model_module": "@jupyter-widgets/controls",
          "model_name": "FloatProgressModel",
          "model_module_version": "1.5.0",
          "state": {
            "_view_name": "ProgressView",
            "style": "IPY_MODEL_23cae751bdbb47aa9e6ea6cfbb6ba43e",
            "_dom_classes": [],
            "description": "",
            "_model_name": "FloatProgressModel",
            "bar_style": "success",
            "max": 267967963,
            "_view_module": "@jupyter-widgets/controls",
            "_model_module_version": "1.5.0",
            "value": 267967963,
            "_view_count": null,
            "_view_module_version": "1.5.0",
            "orientation": "horizontal",
            "min": 0,
            "description_tooltip": null,
            "_model_module": "@jupyter-widgets/controls",
            "layout": "IPY_MODEL_e0a00cfa591f4e0cb8ebf05f02c32765"
          }
        },
        "5693ba3c0693467a99e219746c680461": {
          "model_module": "@jupyter-widgets/controls",
          "model_name": "HTMLModel",
          "model_module_version": "1.5.0",
          "state": {
            "_view_name": "HTMLView",
            "style": "IPY_MODEL_0e10621a0a5d4bc1984fb335ee325f52",
            "_dom_classes": [],
            "description": "",
            "_model_name": "HTMLModel",
            "placeholder": "​",
            "_view_module": "@jupyter-widgets/controls",
            "_model_module_version": "1.5.0",
            "value": " 256M/256M [00:07&lt;00:00, 37.3MB/s]",
            "_view_count": null,
            "_view_module_version": "1.5.0",
            "description_tooltip": null,
            "_model_module": "@jupyter-widgets/controls",
            "layout": "IPY_MODEL_8fa94ebf57b449d4a971c90b02ffa896"
          }
        },
        "e1d874b28d8340eebb5c2f39c9f87b7a": {
          "model_module": "@jupyter-widgets/controls",
          "model_name": "DescriptionStyleModel",
          "model_module_version": "1.5.0",
          "state": {
            "_view_name": "StyleView",
            "_model_name": "DescriptionStyleModel",
            "description_width": "",
            "_view_module": "@jupyter-widgets/base",
            "_model_module_version": "1.5.0",
            "_view_count": null,
            "_view_module_version": "1.2.0",
            "_model_module": "@jupyter-widgets/controls"
          }
        },
        "25a6c0a188be4e7ca54796e069dcb2e8": {
          "model_module": "@jupyter-widgets/base",
          "model_name": "LayoutModel",
          "model_module_version": "1.2.0",
          "state": {
            "_view_name": "LayoutView",
            "grid_template_rows": null,
            "right": null,
            "justify_content": null,
            "_view_module": "@jupyter-widgets/base",
            "overflow": null,
            "_model_module_version": "1.2.0",
            "_view_count": null,
            "flex_flow": null,
            "width": null,
            "min_width": null,
            "border": null,
            "align_items": null,
            "bottom": null,
            "_model_module": "@jupyter-widgets/base",
            "top": null,
            "grid_column": null,
            "overflow_y": null,
            "overflow_x": null,
            "grid_auto_flow": null,
            "grid_area": null,
            "grid_template_columns": null,
            "flex": null,
            "_model_name": "LayoutModel",
            "justify_items": null,
            "grid_row": null,
            "max_height": null,
            "align_content": null,
            "visibility": null,
            "align_self": null,
            "height": null,
            "min_height": null,
            "padding": null,
            "grid_auto_rows": null,
            "grid_gap": null,
            "max_width": null,
            "order": null,
            "_view_module_version": "1.2.0",
            "grid_template_areas": null,
            "object_position": null,
            "object_fit": null,
            "grid_auto_columns": null,
            "margin": null,
            "display": null,
            "left": null
          }
        },
        "23cae751bdbb47aa9e6ea6cfbb6ba43e": {
          "model_module": "@jupyter-widgets/controls",
          "model_name": "ProgressStyleModel",
          "model_module_version": "1.5.0",
          "state": {
            "_view_name": "StyleView",
            "_model_name": "ProgressStyleModel",
            "description_width": "",
            "_view_module": "@jupyter-widgets/base",
            "_model_module_version": "1.5.0",
            "_view_count": null,
            "_view_module_version": "1.2.0",
            "bar_color": null,
            "_model_module": "@jupyter-widgets/controls"
          }
        },
        "e0a00cfa591f4e0cb8ebf05f02c32765": {
          "model_module": "@jupyter-widgets/base",
          "model_name": "LayoutModel",
          "model_module_version": "1.2.0",
          "state": {
            "_view_name": "LayoutView",
            "grid_template_rows": null,
            "right": null,
            "justify_content": null,
            "_view_module": "@jupyter-widgets/base",
            "overflow": null,
            "_model_module_version": "1.2.0",
            "_view_count": null,
            "flex_flow": null,
            "width": null,
            "min_width": null,
            "border": null,
            "align_items": null,
            "bottom": null,
            "_model_module": "@jupyter-widgets/base",
            "top": null,
            "grid_column": null,
            "overflow_y": null,
            "overflow_x": null,
            "grid_auto_flow": null,
            "grid_area": null,
            "grid_template_columns": null,
            "flex": null,
            "_model_name": "LayoutModel",
            "justify_items": null,
            "grid_row": null,
            "max_height": null,
            "align_content": null,
            "visibility": null,
            "align_self": null,
            "height": null,
            "min_height": null,
            "padding": null,
            "grid_auto_rows": null,
            "grid_gap": null,
            "max_width": null,
            "order": null,
            "_view_module_version": "1.2.0",
            "grid_template_areas": null,
            "object_position": null,
            "object_fit": null,
            "grid_auto_columns": null,
            "margin": null,
            "display": null,
            "left": null
          }
        },
        "0e10621a0a5d4bc1984fb335ee325f52": {
          "model_module": "@jupyter-widgets/controls",
          "model_name": "DescriptionStyleModel",
          "model_module_version": "1.5.0",
          "state": {
            "_view_name": "StyleView",
            "_model_name": "DescriptionStyleModel",
            "description_width": "",
            "_view_module": "@jupyter-widgets/base",
            "_model_module_version": "1.5.0",
            "_view_count": null,
            "_view_module_version": "1.2.0",
            "_model_module": "@jupyter-widgets/controls"
          }
        },
        "8fa94ebf57b449d4a971c90b02ffa896": {
          "model_module": "@jupyter-widgets/base",
          "model_name": "LayoutModel",
          "model_module_version": "1.2.0",
          "state": {
            "_view_name": "LayoutView",
            "grid_template_rows": null,
            "right": null,
            "justify_content": null,
            "_view_module": "@jupyter-widgets/base",
            "overflow": null,
            "_model_module_version": "1.2.0",
            "_view_count": null,
            "flex_flow": null,
            "width": null,
            "min_width": null,
            "border": null,
            "align_items": null,
            "bottom": null,
            "_model_module": "@jupyter-widgets/base",
            "top": null,
            "grid_column": null,
            "overflow_y": null,
            "overflow_x": null,
            "grid_auto_flow": null,
            "grid_area": null,
            "grid_template_columns": null,
            "flex": null,
            "_model_name": "LayoutModel",
            "justify_items": null,
            "grid_row": null,
            "max_height": null,
            "align_content": null,
            "visibility": null,
            "align_self": null,
            "height": null,
            "min_height": null,
            "padding": null,
            "grid_auto_rows": null,
            "grid_gap": null,
            "max_width": null,
            "order": null,
            "_view_module_version": "1.2.0",
            "grid_template_areas": null,
            "object_position": null,
            "object_fit": null,
            "grid_auto_columns": null,
            "margin": null,
            "display": null,
            "left": null
          }
        }
      }
    }
  },
  "cells": [
    {
      "cell_type": "markdown",
      "metadata": {
        "id": "view-in-github",
        "colab_type": "text"
      },
      "source": [
        "<a href=\"https://colab.research.google.com/github/nazmus007/transformers_test/blob/main/distilbert_ptacek_run2.ipynb\" target=\"_parent\"><img src=\"https://colab.research.google.com/assets/colab-badge.svg\" alt=\"Open In Colab\"/></a>"
      ]
    },
    {
      "cell_type": "code",
      "metadata": {
        "id": "zTQvMtWsztpa",
        "colab": {
          "base_uri": "https://localhost:8080/"
        },
        "outputId": "dd60d3cb-46ce-4967-8515-628ae6a22934"
      },
      "source": [
        " !pip install -qq transformers"
      ],
      "execution_count": 1,
      "outputs": [
        {
          "output_type": "stream",
          "name": "stdout",
          "text": [
            "\u001b[K     |████████████████████████████████| 2.9 MB 5.1 MB/s \n",
            "\u001b[K     |████████████████████████████████| 895 kB 37.6 MB/s \n",
            "\u001b[K     |████████████████████████████████| 3.3 MB 45.2 MB/s \n",
            "\u001b[K     |████████████████████████████████| 56 kB 4.9 MB/s \n",
            "\u001b[K     |████████████████████████████████| 636 kB 44.7 MB/s \n",
            "\u001b[?25h"
          ]
        }
      ]
    },
    {
      "cell_type": "code",
      "metadata": {
        "colab": {
          "base_uri": "https://localhost:8080/"
        },
        "id": "rQls5xsYO8YP",
        "outputId": "ba08b461-9279-4f2f-cd17-a455e2e7f631"
      },
      "source": [
        "print(transformers.__version__)"
      ],
      "execution_count": null,
      "outputs": [
        {
          "output_type": "stream",
          "name": "stdout",
          "text": [
            "4.10.0\n"
          ]
        }
      ]
    },
    {
      "cell_type": "code",
      "metadata": {
        "colab": {
          "base_uri": "https://localhost:8080/"
        },
        "id": "y8OREO3n6Ft-",
        "outputId": "e4b477ea-cafd-42a9-9f34-43c194c5f605"
      },
      "source": [
        "!pip install emoji"
      ],
      "execution_count": 2,
      "outputs": [
        {
          "output_type": "stream",
          "name": "stdout",
          "text": [
            "Collecting emoji\n",
            "  Downloading emoji-1.6.0.tar.gz (168 kB)\n",
            "\u001b[?25l\r\u001b[K     |██                              | 10 kB 27.5 MB/s eta 0:00:01\r\u001b[K     |███▉                            | 20 kB 25.1 MB/s eta 0:00:01\r\u001b[K     |█████▉                          | 30 kB 12.1 MB/s eta 0:00:01\r\u001b[K     |███████▊                        | 40 kB 9.7 MB/s eta 0:00:01\r\u001b[K     |█████████▊                      | 51 kB 5.3 MB/s eta 0:00:01\r\u001b[K     |███████████▋                    | 61 kB 5.4 MB/s eta 0:00:01\r\u001b[K     |█████████████▋                  | 71 kB 5.1 MB/s eta 0:00:01\r\u001b[K     |███████████████▌                | 81 kB 5.8 MB/s eta 0:00:01\r\u001b[K     |█████████████████▌              | 92 kB 5.6 MB/s eta 0:00:01\r\u001b[K     |███████████████████▍            | 102 kB 5.1 MB/s eta 0:00:01\r\u001b[K     |█████████████████████▍          | 112 kB 5.1 MB/s eta 0:00:01\r\u001b[K     |███████████████████████▎        | 122 kB 5.1 MB/s eta 0:00:01\r\u001b[K     |█████████████████████████▎      | 133 kB 5.1 MB/s eta 0:00:01\r\u001b[K     |███████████████████████████▏    | 143 kB 5.1 MB/s eta 0:00:01\r\u001b[K     |█████████████████████████████▏  | 153 kB 5.1 MB/s eta 0:00:01\r\u001b[K     |███████████████████████████████ | 163 kB 5.1 MB/s eta 0:00:01\r\u001b[K     |████████████████████████████████| 168 kB 5.1 MB/s \n",
            "\u001b[?25hBuilding wheels for collected packages: emoji\n",
            "  Building wheel for emoji (setup.py) ... \u001b[?25l\u001b[?25hdone\n",
            "  Created wheel for emoji: filename=emoji-1.6.0-py3-none-any.whl size=168256 sha256=14a2ca1ae3b15e86d288e438b9aee987cc3aa17f7761d0c13d6770465d976c4a\n",
            "  Stored in directory: /root/.cache/pip/wheels/f7/d7/74/c720aaf345a042b0c2d74361873258c5e8649b7f11b2ccce49\n",
            "Successfully built emoji\n",
            "Installing collected packages: emoji\n",
            "Successfully installed emoji-1.6.0\n"
          ]
        }
      ]
    },
    {
      "cell_type": "code",
      "metadata": {
        "id": "xreQ6mWHPS1R"
      },
      "source": [
        "torch.cuda.empty_cache()"
      ],
      "execution_count": null,
      "outputs": []
    },
    {
      "cell_type": "code",
      "metadata": {
        "colab": {
          "base_uri": "https://localhost:8080/"
        },
        "id": "31C71en6z4IP",
        "outputId": "dbdca01d-adc9-4379-97ff-d3e0b270bc6d"
      },
      "source": [
        "from google.colab import drive\n",
        "drive.mount('/content/drive')"
      ],
      "execution_count": 3,
      "outputs": [
        {
          "output_type": "stream",
          "name": "stdout",
          "text": [
            "Mounted at /content/drive\n"
          ]
        }
      ]
    },
    {
      "cell_type": "code",
      "metadata": {
        "colab": {
          "base_uri": "https://localhost:8080/"
        },
        "id": "1FZSJGtBOSvi",
        "outputId": "ad17db5a-28c4-4ce3-99ad-44e9f4d122e8"
      },
      "source": [
        "!nvidia-smi"
      ],
      "execution_count": null,
      "outputs": [
        {
          "output_type": "stream",
          "name": "stdout",
          "text": [
            "Thu Sep 30 13:07:25 2021       \n",
            "+-----------------------------------------------------------------------------+\n",
            "| NVIDIA-SMI 470.63.01    Driver Version: 460.32.03    CUDA Version: 11.2     |\n",
            "|-------------------------------+----------------------+----------------------+\n",
            "| GPU  Name        Persistence-M| Bus-Id        Disp.A | Volatile Uncorr. ECC |\n",
            "| Fan  Temp  Perf  Pwr:Usage/Cap|         Memory-Usage | GPU-Util  Compute M. |\n",
            "|                               |                      |               MIG M. |\n",
            "|===============================+======================+======================|\n",
            "|   0  Tesla P100-PCIE...  Off  | 00000000:00:04.0 Off |                    0 |\n",
            "| N/A   41C    P0    27W / 250W |      0MiB / 16280MiB |      0%      Default |\n",
            "|                               |                      |                  N/A |\n",
            "+-------------------------------+----------------------+----------------------+\n",
            "                                                                               \n",
            "+-----------------------------------------------------------------------------+\n",
            "| Processes:                                                                  |\n",
            "|  GPU   GI   CI        PID   Type   Process name                  GPU Memory |\n",
            "|        ID   ID                                                   Usage      |\n",
            "|=============================================================================|\n",
            "|  No running processes found                                                 |\n",
            "+-----------------------------------------------------------------------------+\n"
          ]
        }
      ]
    },
    {
      "cell_type": "code",
      "metadata": {
        "collapsed": true,
        "jupyter": {
          "source_hidden": false,
          "outputs_hidden": false
        },
        "nteract": {
          "transient": {
            "deleting": false
          }
        },
        "gather": {
          "logged": 1628541801096
        },
        "id": "CO7SFj5Xztpf"
      },
      "source": [
        "import transformers\n",
        "\n",
        "from transformers import DistilBertModel, DistilBertTokenizer, AdamW, get_linear_schedule_with_warmup, DistilBertForSequenceClassification\n",
        "\n",
        "import torch\n",
        "import re\n",
        "import numpy as np\n",
        "import pandas as pd\n",
        "\n",
        "import seaborn as sns\n",
        "\n",
        "from pylab import rcParams\n",
        "\n",
        "import matplotlib.pyplot as plt\n",
        "\n",
        "from matplotlib import rc\n",
        "\n",
        "from sklearn.model_selection import train_test_split\n",
        "\n",
        "from sklearn.metrics import confusion_matrix, classification_report\n",
        "\n",
        "from collections import defaultdict\n",
        "\n",
        "from textwrap import wrap\n",
        "\n",
        "from torch import nn, optim\n",
        "\n",
        "from torch.utils.data import Dataset, DataLoader"
      ],
      "execution_count": 4,
      "outputs": []
    },
    {
      "cell_type": "code",
      "metadata": {
        "collapsed": true,
        "jupyter": {
          "source_hidden": false,
          "outputs_hidden": false
        },
        "nteract": {
          "transient": {
            "deleting": false
          }
        },
        "gather": {
          "logged": 1628541914487
        },
        "id": "p9fpcDXTztpg"
      },
      "source": [
        "\n",
        "import torch.nn.functional as F"
      ],
      "execution_count": 5,
      "outputs": []
    },
    {
      "cell_type": "code",
      "metadata": {
        "collapsed": true,
        "jupyter": {
          "source_hidden": false,
          "outputs_hidden": false
        },
        "nteract": {
          "transient": {
            "deleting": false
          }
        },
        "gather": {
          "logged": 1628541916842
        },
        "colab": {
          "base_uri": "https://localhost:8080/",
          "height": 206
        },
        "id": "0AbDURbSztph",
        "outputId": "3a0fa402-d277-497a-eab9-ebda3e32e815"
      },
      "source": [
        "df = pd.read_csv(\"./drive/MyDrive/datasets/cleaned_ptacek_wtweets_wnotebook.csv\")\n",
        "df.head()"
      ],
      "execution_count": 6,
      "outputs": [
        {
          "output_type": "execute_result",
          "data": {
            "text/html": [
              "<div>\n",
              "<style scoped>\n",
              "    .dataframe tbody tr th:only-of-type {\n",
              "        vertical-align: middle;\n",
              "    }\n",
              "\n",
              "    .dataframe tbody tr th {\n",
              "        vertical-align: top;\n",
              "    }\n",
              "\n",
              "    .dataframe thead th {\n",
              "        text-align: right;\n",
              "    }\n",
              "</style>\n",
              "<table border=\"1\" class=\"dataframe\">\n",
              "  <thead>\n",
              "    <tr style=\"text-align: right;\">\n",
              "      <th></th>\n",
              "      <th>Unnamed: 0</th>\n",
              "      <th>index</th>\n",
              "      <th>Tweet_id</th>\n",
              "      <th>Tweet</th>\n",
              "      <th>Label</th>\n",
              "    </tr>\n",
              "  </thead>\n",
              "  <tbody>\n",
              "    <tr>\n",
              "      <th>0</th>\n",
              "      <td>0</td>\n",
              "      <td>0</td>\n",
              "      <td>411348816583856129</td>\n",
              "      <td>peyton obviously cannot finish games he just t...</td>\n",
              "      <td>1</td>\n",
              "    </tr>\n",
              "    <tr>\n",
              "      <th>1</th>\n",
              "      <td>1</td>\n",
              "      <td>1</td>\n",
              "      <td>408111537011036160</td>\n",
              "      <td>well i would love to be sleeping right now but...</td>\n",
              "      <td>1</td>\n",
              "    </tr>\n",
              "    <tr>\n",
              "      <th>2</th>\n",
              "      <td>2</td>\n",
              "      <td>2</td>\n",
              "      <td>403282506230665217</td>\n",
              "      <td>my biggest executive decision today choosing b...</td>\n",
              "      <td>1</td>\n",
              "    </tr>\n",
              "    <tr>\n",
              "      <th>3</th>\n",
              "      <td>3</td>\n",
              "      <td>3</td>\n",
              "      <td>409720467662983168</td>\n",
              "      <td>the first quality opponent they played in 2 y...</td>\n",
              "      <td>1</td>\n",
              "    </tr>\n",
              "    <tr>\n",
              "      <th>4</th>\n",
              "      <td>4</td>\n",
              "      <td>4</td>\n",
              "      <td>403005765608554496</td>\n",
              "      <td>but do not you dare call it hate crimes  libe...</td>\n",
              "      <td>1</td>\n",
              "    </tr>\n",
              "  </tbody>\n",
              "</table>\n",
              "</div>"
            ],
            "text/plain": [
              "   Unnamed: 0  index  ...                                              Tweet Label\n",
              "0           0      0  ...  peyton obviously cannot finish games he just t...     1\n",
              "1           1      1  ...  well i would love to be sleeping right now but...     1\n",
              "2           2      2  ...  my biggest executive decision today choosing b...     1\n",
              "3           3      3  ...   the first quality opponent they played in 2 y...     1\n",
              "4           4      4  ...   but do not you dare call it hate crimes  libe...     1\n",
              "\n",
              "[5 rows x 5 columns]"
            ]
          },
          "metadata": {},
          "execution_count": 6
        }
      ]
    },
    {
      "cell_type": "code",
      "metadata": {
        "collapsed": true,
        "jupyter": {
          "source_hidden": false,
          "outputs_hidden": false
        },
        "nteract": {
          "transient": {
            "deleting": false
          }
        },
        "gather": {
          "logged": 1628541920084
        },
        "id": "D3arVKEGztpj"
      },
      "source": [
        "df= df.drop(['Unnamed: 0','index','Tweet_id'],axis=1)"
      ],
      "execution_count": 7,
      "outputs": []
    },
    {
      "cell_type": "code",
      "metadata": {
        "colab": {
          "base_uri": "https://localhost:8080/"
        },
        "id": "lLurSi-Bsp2b",
        "outputId": "2d1598b2-daf0-4b2d-cd25-b74e25f63741"
      },
      "source": [
        "!pip install demoji"
      ],
      "execution_count": 8,
      "outputs": [
        {
          "output_type": "stream",
          "name": "stdout",
          "text": [
            "Collecting demoji\n",
            "  Downloading demoji-1.1.0-py3-none-any.whl (42 kB)\n",
            "\u001b[?25l\r\u001b[K     |███████▋                        | 10 kB 21.0 MB/s eta 0:00:01\r\u001b[K     |███████████████▎                | 20 kB 17.1 MB/s eta 0:00:01\r\u001b[K     |███████████████████████         | 30 kB 14.7 MB/s eta 0:00:01\r\u001b[K     |██████████████████████████████▋ | 40 kB 13.6 MB/s eta 0:00:01\r\u001b[K     |████████████████████████████████| 42 kB 1.0 MB/s \n",
            "\u001b[?25hInstalling collected packages: demoji\n",
            "Successfully installed demoji-1.1.0\n"
          ]
        }
      ]
    },
    {
      "cell_type": "code",
      "metadata": {
        "id": "7siAxYeZsunY"
      },
      "source": [
        "import demoji\n",
        "def demoji_text(text):\n",
        "  d= demoji.findall(text)\n",
        "  return d"
      ],
      "execution_count": 9,
      "outputs": []
    },
    {
      "cell_type": "code",
      "metadata": {
        "id": "KI0XEpJZsx5w"
      },
      "source": [
        "df['emoji_list'] = df['Tweet'].apply(demoji_text)"
      ],
      "execution_count": 10,
      "outputs": []
    },
    {
      "cell_type": "code",
      "metadata": {
        "id": "SRIfjaPjs2A2"
      },
      "source": [
        "f= list(filter(None, df['emoji_list']))"
      ],
      "execution_count": 11,
      "outputs": []
    },
    {
      "cell_type": "code",
      "metadata": {
        "colab": {
          "base_uri": "https://localhost:8080/"
        },
        "id": "ITTkKrjMs74Y",
        "outputId": "f94eddca-fee7-4d61-dec6-3ac13ca51615"
      },
      "source": [
        "print(f)"
      ],
      "execution_count": 12,
      "outputs": [
        {
          "output_type": "stream",
          "name": "stdout",
          "text": [
            "[{'😏': 'smirking face', '👌': 'OK hand'}, {'👍': 'thumbs up'}, {'😡': 'pouting face'}, {'🔫': 'water pistol', '😫': 'tired face', '😍': 'smiling face with heart-eyes', '🙈': 'see-no-evil monkey'}, {'😐': 'neutral face'}, {'😒': 'unamused face'}, {'👀': 'eyes', '😮': 'face with open mouth'}, {'🔫': 'water pistol', '😭': 'loudly crying face'}, {'👌': 'OK hand'}, {'😒': 'unamused face'}, {'😳': 'flushed face', '👌': 'OK hand'}, {'😣': 'persevering face'}, {'😒': 'unamused face'}, {'👌': 'OK hand'}, {'😒': 'unamused face'}, {'🙈': 'see-no-evil monkey'}, {'😒': 'unamused face'}, {'😊': 'smiling face with smiling eyes'}, {'👌': 'OK hand'}, {'😑': 'expressionless face'}, {'👍': 'thumbs up'}, {'🎉': 'party popper'}, {'😒': 'unamused face', '👏': 'clapping hands'}, {'😛': 'face with tongue'}, {'😒': 'unamused face'}, {'😻': 'smiling cat with heart-eyes'}, {'😑': 'expressionless face'}, {'😰': 'anxious face with sweat'}, {'😉': 'winking face'}, {'😳': 'flushed face'}, {'😭': 'loudly crying face'}, {'💁': 'person tipping hand'}, {'😡': 'pouting face', '😤': 'face with steam from nose'}, {'😒': 'unamused face'}, {'👏': 'clapping hands'}, {'☠': 'skull and crossbones'}, {'😒': 'unamused face'}, {'👏': 'clapping hands'}, {'😒': 'unamused face'}, {'😒': 'unamused face'}, {'😒': 'unamused face', '💪': 'flexed biceps'}, {'😳': 'flushed face'}, {'😂': 'face with tears of joy'}, {'😒': 'unamused face'}, {'😂': 'face with tears of joy'}, {'♥': 'heart suit'}, {'😅': 'grinning face with sweat', '🌙': 'crescent moon', '👌': 'OK hand'}, {'😠': 'angry face'}, {'❤️': 'red heart'}, {'😒': 'unamused face'}, {'😂': 'face with tears of joy'}, {'😭': 'loudly crying face'}, {'✌️': 'victory hand', '😉': 'winking face', '👍': 'thumbs up', '👌': 'OK hand'}, {'😂': 'face with tears of joy'}, {'😉': 'winking face'}, {'😒': 'unamused face', '❄️': 'snowflake'}, {'😂': 'face with tears of joy'}, {'😞': 'disappointed face'}, {'💦': 'sweat droplets', '💖': 'sparkling heart', '☔': 'umbrella with rain drops', '🙈': 'see-no-evil monkey'}, {'😭': 'loudly crying face'}, {'✌️': 'victory hand', '🐥': 'front-facing baby chick', '🎀': 'ribbon', '💁': 'person tipping hand'}, {'😀': 'grinning face'}, {'😉': 'winking face'}, {'😒': 'unamused face'}, {'😒': 'unamused face'}, {'😩': 'weary face', '🎶': 'musical notes', '😂': 'face with tears of joy'}, {'😘': 'face blowing a kiss'}, {'😂': 'face with tears of joy'}, {'😂': 'face with tears of joy'}, {'😠': 'angry face', '👊': 'oncoming fist'}, {'😹': 'cat with tears of joy', '😂': 'face with tears of joy'}, {'😍': 'smiling face with heart-eyes'}, {'😊': 'smiling face with smiling eyes'}, {'😑': 'expressionless face', '😕': 'confused face'}, {'💦': 'sweat droplets', '👅': 'tongue'}, {'🔫': 'water pistol', '😅': 'grinning face with sweat'}, {'😅': 'grinning face with sweat'}, {'😏': 'smirking face'}, {'😒': 'unamused face'}, {'👎': 'thumbs down'}, {'😒': 'unamused face', '😬': 'grimacing face'}, {'😂': 'face with tears of joy', '😉': 'winking face'}, {'😫': 'tired face'}, {'😂': 'face with tears of joy'}, {'😒': 'unamused face'}, {'😎': 'smiling face with sunglasses'}, {'😂': 'face with tears of joy'}, {'😑': 'expressionless face'}, {'😉': 'winking face'}, {'🎅': 'Santa Claus', '👱': 'person: blond hair', '🎄': 'Christmas tree'}, {'😒': 'unamused face'}, {'😒': 'unamused face'}, {'💖': 'sparkling heart', '💅': 'nail polish'}, {'⛅': 'sun behind cloud', '❄': 'snowflake'}, {'😒': 'unamused face'}, {'👍': 'thumbs up'}, {'😒': 'unamused face'}, {'🔫': 'water pistol', '😃': 'grinning face with big eyes'}, {'👌': 'OK hand'}, {'👌': 'OK hand'}, {'😔': 'pensive face'}, {'👌': 'OK hand'}, {'👌': 'OK hand'}, {'🍃': 'leaf fluttering in wind'}, {'😑': 'expressionless face'}, {'😒': 'unamused face'}, {'💁': 'person tipping hand'}, {'😔': 'pensive face'}, {'😒': 'unamused face'}, {'😅': 'grinning face with sweat', '😑': 'expressionless face', '😐': 'neutral face'}, {'😄': 'grinning face with smiling eyes'}, {'😊': 'smiling face with smiling eyes'}, {'☔': 'umbrella with rain drops'}, {'✌': 'victory hand', '😘': 'face blowing a kiss'}, {'🙊': 'speak-no-evil monkey'}, {'😩': 'weary face', '👎': 'thumbs down', '😷': 'face with medical mask'}, {'👋': 'waving hand'}, {'😁': 'beaming face with smiling eyes'}, {'😒': 'unamused face'}, {'☺': 'smiling face'}, {'😂': 'face with tears of joy'}, {'💁': 'person tipping hand'}, {'😂': 'face with tears of joy'}, {'☺️': 'smiling face', '😃': 'grinning face with big eyes'}, {'😏': 'smirking face'}, {'😑': 'expressionless face', '👊': 'oncoming fist'}, {'😂': 'face with tears of joy'}, {'😂': 'face with tears of joy'}, {'❄️': 'snowflake'}, {'😂': 'face with tears of joy'}, {'😁': 'beaming face with smiling eyes'}, {'😂': 'face with tears of joy'}, {'😒': 'unamused face'}, {'😏': 'smirking face'}, {'👎': 'thumbs down', '🎁': 'wrapped gift', '😷': 'face with medical mask', '😒': 'unamused face', '🎄': 'Christmas tree', '🎅': 'Santa Claus'}, {'😒': 'unamused face', '😑': 'expressionless face', '😠': 'angry face'}, {'😏': 'smirking face', '😠': 'angry face', '😞': 'disappointed face'}, {'😍': 'smiling face with heart-eyes', '😐': 'neutral face'}, {'😒': 'unamused face'}, {'😂': 'face with tears of joy'}, {'😒': 'unamused face', '😞': 'disappointed face'}, {'☺️': 'smiling face', '👍': 'thumbs up'}, {'😒': 'unamused face'}, {'🙌': 'raising hands'}, {'👍': 'thumbs up', '👌': 'OK hand'}, {'🏈': 'american football'}, {'😁': 'beaming face with smiling eyes'}, {'😠': 'angry face', '😎': 'smiling face with sunglasses'}, {'😒': 'unamused face', '😊': 'smiling face with smiling eyes'}, {'😩': 'weary face', '😡': 'pouting face', '💀': 'skull'}, {'😅': 'grinning face with sweat'}, {'😏': 'smirking face'}, {'😒': 'unamused face'}, {'😑': 'expressionless face'}, {'⛄': 'snowman without snow', '❄️': 'snowflake', '😏': 'smirking face'}, {'😉': 'winking face'}, {'😏': 'smirking face', '😋': 'face savoring food', '😜': 'winking face with tongue', '😁': 'beaming face with smiling eyes'}, {'😭': 'loudly crying face', '🙈': 'see-no-evil monkey', '💩': 'pile of poo'}, {'😂': 'face with tears of joy'}, {'❤️': 'red heart'}, {'😢': 'crying face'}, {'😫': 'tired face'}, {'👍': 'thumbs up'}, {'🙏': 'folded hands'}, {'😕': 'confused face'}, {'😑': 'expressionless face'}, {'😂': 'face with tears of joy'}, {'👌': 'OK hand'}, {'😠': 'angry face', '😒': 'unamused face', '😢': 'crying face', '😐': 'neutral face', '😣': 'persevering face'}, {'😑': 'expressionless face'}, {'👏': 'clapping hands'}, {'😉': 'winking face'}, {'😳': 'flushed face'}, {'🎉': 'party popper'}, {'😂': 'face with tears of joy'}, {'😒': 'unamused face'}, {'👌': 'OK hand'}, {'💜': 'purple heart', '😲': 'astonished face', '😑': 'expressionless face'}, {'😑': 'expressionless face'}, {'😩': 'weary face'}, {'😂': 'face with tears of joy'}, {'😂': 'face with tears of joy'}, {'😩': 'weary face', '😴': 'sleeping face', '😞': 'disappointed face'}, {'🏃': 'person running', '👈': 'backhand index pointing left'}, {'😛': 'face with tongue'}, {'😏': 'smirking face', '😄': 'grinning face with smiling eyes', '🐠': 'tropical fish'}, {'😏': 'smirking face'}, {'🌚': 'new moon face'}, {'😉': 'winking face', '😁': 'beaming face with smiling eyes'}, {'😒': 'unamused face'}, {'👌': 'OK hand'}, {'☺️': 'smiling face'}, {'😒': 'unamused face'}, {'😒': 'unamused face'}, {'👏': 'clapping hands'}, {'👋': 'waving hand', '👍': 'thumbs up'}, {'😒': 'unamused face'}, {'😊': 'smiling face with smiling eyes'}, {'😱': 'face screaming in fear'}, {'😖': 'confounded face'}, {'😰': 'anxious face with sweat', '😨': 'fearful face', '😥': 'sad but relieved face'}, {'😂': 'face with tears of joy', '👊': 'oncoming fist', '🎄': 'Christmas tree', '😐': 'neutral face'}, {'😂': 'face with tears of joy'}, {'😂': 'face with tears of joy'}, {'😑': 'expressionless face'}, {'🔫': 'water pistol', '😢': 'crying face', '💰': 'money bag', '😷': 'face with medical mask'}, {'😊': 'smiling face with smiling eyes'}, {'😂': 'face with tears of joy'}, {'👏': 'clapping hands', '💃': 'woman dancing'}, {'♥': 'heart suit'}, {'😒': 'unamused face', '😍': 'smiling face with heart-eyes'}, {'👌': 'OK hand', '👍': 'thumbs up', '😄': 'grinning face with smiling eyes'}, {'😒': 'unamused face'}, {'😅': 'grinning face with sweat', '👌': 'OK hand'}, {'😂': 'face with tears of joy'}, {'👏': 'clapping hands'}, {'😒': 'unamused face'}, {'👌': 'OK hand'}, {'😒': 'unamused face'}, {'😩': 'weary face', '💔': 'broken heart'}, {'😒': 'unamused face'}, {'😉': 'winking face'}, {'😒': 'unamused face'}, {'😑': 'expressionless face'}, {'😭': 'loudly crying face'}, {'😃': 'grinning face with big eyes'}, {'🌂': 'closed umbrella', '☔': 'umbrella with rain drops', '😔': 'pensive face', '❌': 'cross mark', '⚡': 'high voltage'}, {'😂': 'face with tears of joy'}, {'😒': 'unamused face', '😡': 'pouting face'}, {'💁': 'person tipping hand'}, {'😘': 'face blowing a kiss'}, {'😒': 'unamused face'}, {'☺️': 'smiling face'}, {'😒': 'unamused face'}, {'✋': 'raised hand'}, {'👎': 'thumbs down', '😜': 'winking face with tongue'}, {'😒': 'unamused face', '😣': 'persevering face'}, {'🔫': 'water pistol', '💥': 'collision', '😁': 'beaming face with smiling eyes'}, {'😊': 'smiling face with smiling eyes'}, {'😒': 'unamused face'}, {'🔫': 'water pistol', '😄': 'grinning face with smiling eyes'}, {'🔥': 'fire'}, {'😊': 'smiling face with smiling eyes'}, {'😑': 'expressionless face'}, {'😒': 'unamused face'}, {'😒': 'unamused face'}, {'😐': 'neutral face'}, {'😷': 'face with medical mask'}, {'😢': 'crying face'}, {'🍸': 'cocktail glass', '🎉': 'party popper'}, {'😒': 'unamused face', '😔': 'pensive face'}, {'👌': 'OK hand'}, {'😂': 'face with tears of joy', '💁': 'person tipping hand'}, {'😒': 'unamused face'}, {'😂': 'face with tears of joy'}, {'😒': 'unamused face'}, {'☺️': 'smiling face', '😍': 'smiling face with heart-eyes', '👌': 'OK hand'}, {'❄️': 'snowflake', '😐': 'neutral face', '😷': 'face with medical mask'}, {'😂': 'face with tears of joy'}, {'😏': 'smirking face', '😣': 'persevering face'}, {'😡': 'pouting face', '👌': 'OK hand'}, {'😐': 'neutral face'}, {'☺': 'smiling face'}, {'😩': 'weary face', '👎': 'thumbs down'}, {'😂': 'face with tears of joy'}, {'😁': 'beaming face with smiling eyes'}, {'❤️': 'red heart', '💔': 'broken heart'}, {'😒': 'unamused face'}, {'🙌': 'raising hands'}, {'😪': 'sleepy face'}, {'😊': 'smiling face with smiling eyes'}, {'😔': 'pensive face'}, {'🔫': 'water pistol'}, {'😱': 'face screaming in fear', '😑': 'expressionless face', '😥': 'sad but relieved face'}, {'😤': 'face with steam from nose'}, {'😒': 'unamused face', '😑': 'expressionless face'}, {'👌': 'OK hand'}, {'😒': 'unamused face'}, {'😭': 'loudly crying face', '😂': 'face with tears of joy', '😆': 'grinning squinting face'}, {'😂': 'face with tears of joy'}, {'😒': 'unamused face'}, {'😡': 'pouting face'}, {'😒': 'unamused face'}, {'😊': 'smiling face with smiling eyes'}, {'😄': 'grinning face with smiling eyes'}, {'😑': 'expressionless face'}, {'😜': 'winking face with tongue', '😯': 'hushed face'}, {'😹': 'cat with tears of joy'}, {'😂': 'face with tears of joy'}, {'❤️': 'red heart', '💛': 'yellow heart'}, {'😺': 'grinning cat'}, {'👍': 'thumbs up'}, {'👌': 'OK hand'}, {'👍': 'thumbs up'}, {'😑': 'expressionless face', '👿': 'angry face with horns'}, {'😂': 'face with tears of joy'}, {'😂': 'face with tears of joy'}, {'😏': 'smirking face'}, {'❄️': 'snowflake'}, {'👌': 'OK hand'}, {'🌴': 'palm tree', '👙': 'bikini'}, {'😂': 'face with tears of joy'}, {'😁': 'beaming face with smiling eyes'}, {'😊': 'smiling face with smiling eyes'}, {'😔': 'pensive face'}, {'💕': 'two hearts', '❤️': 'red heart', '😂': 'face with tears of joy'}, {'❤️': 'red heart'}, {'😡': 'pouting face', '😑': 'expressionless face', '👌': 'OK hand'}, {'😒': 'unamused face'}, {'😒': 'unamused face'}, {'😒': 'unamused face'}, {'😛': 'face with tongue'}, {'😠': 'angry face'}, {'😒': 'unamused face', '👎': 'thumbs down', '🙈': 'see-no-evil monkey'}, {'😉': 'winking face'}, {'❤️': 'red heart'}, {'😂': 'face with tears of joy'}, {'😶': 'face without mouth'}, {'👍': 'thumbs up', '😄': 'grinning face with smiling eyes'}, {'😑': 'expressionless face'}, {'😲': 'astonished face'}, {'😅': 'grinning face with sweat', '👎': 'thumbs down'}, {'😒': 'unamused face', '😭': 'loudly crying face'}, {'😃': 'grinning face with big eyes', '😰': 'anxious face with sweat'}, {'💁': 'person tipping hand'}, {'😄': 'grinning face with smiling eyes'}, {'😏': 'smirking face'}, {'😂': 'face with tears of joy'}, {'🔫': 'water pistol', '😁': 'beaming face with smiling eyes'}, {'😃': 'grinning face with big eyes'}, {'😒': 'unamused face'}, {'😠': 'angry face', '😡': 'pouting face'}, {'☝️': 'index pointing up'}, {'😷': 'face with medical mask'}, {'😒': 'unamused face'}, {'🎀': 'ribbon', '😳': 'flushed face', '😁': 'beaming face with smiling eyes'}, {'👊': 'oncoming fist'}, {'😒': 'unamused face'}, {'😩': 'weary face', '😭': 'loudly crying face'}, {'💩': 'pile of poo'}, {'😒': 'unamused face'}, {'😂': 'face with tears of joy'}, {'😒': 'unamused face', '🙌': 'raising hands'}, {'😂': 'face with tears of joy'}, {'😒': 'unamused face'}, {'😊': 'smiling face with smiling eyes', '👌': 'OK hand'}, {'😜': 'winking face with tongue', '😂': 'face with tears of joy'}, {'😀': 'grinning face'}, {'😒': 'unamused face'}, {'😑': 'expressionless face'}, {'👌': 'OK hand'}, {'👌': 'OK hand'}, {'😂': 'face with tears of joy'}, {'😙': 'kissing face with smiling eyes'}, {'💎': 'gem stone', '👑': 'crown', '😘': 'face blowing a kiss'}, {'😒': 'unamused face'}, {'😒': 'unamused face', '🏃': 'person running', '🚶': 'person walking', '😄': 'grinning face with smiling eyes', '💨': 'dashing away'}, {'💢': 'anger symbol', '😑': 'expressionless face', '👊': 'oncoming fist'}, {'😒': 'unamused face'}, {'😒': 'unamused face'}, {'😑': 'expressionless face'}, {'😬': 'grimacing face'}, {'😅': 'grinning face with sweat'}, {'😒': 'unamused face'}, {'😳': 'flushed face'}, {'👍': 'thumbs up'}, {'😶': 'face without mouth', '👍': 'thumbs up'}, {'😂': 'face with tears of joy'}, {'😂': 'face with tears of joy', '💁': 'person tipping hand'}, {'😒': 'unamused face'}, {'😒': 'unamused face'}, {'🙆': 'person gesturing OK', '👍': 'thumbs up', '👌': 'OK hand'}, {'🍻': 'clinking beer mugs'}, {'😱': 'face screaming in fear'}, {'🍰': 'shortcake', '🍭': 'lollipop', '🍬': 'candy', '🍧': 'shaved ice', '🍪': 'cookie'}, {'👌': 'OK hand'}, {'😂': 'face with tears of joy'}, {'👙': 'bikini', '❄️': 'snowflake'}, {'❤️': 'red heart', '😍': 'smiling face with heart-eyes'}, {'😃': 'grinning face with big eyes', '😱': 'face screaming in fear', '😆': 'grinning squinting face'}, {'😒': 'unamused face'}, {'❤️': 'red heart'}, {'😃': 'grinning face with big eyes'}, {'😱': 'face screaming in fear'}, {'👌': 'OK hand'}, {'😡': 'pouting face', '😞': 'disappointed face'}, {'😠': 'angry face'}, {'👍': 'thumbs up'}, {'😁': 'beaming face with smiling eyes'}, {'😒': 'unamused face'}, {'❤': 'red heart', '💁': 'person tipping hand'}, {'😒': 'unamused face'}, {'😂': 'face with tears of joy'}, {'😔': 'pensive face'}, {'😏': 'smirking face'}, {'✈️': 'airplane', '😡': 'pouting face'}, {'😰': 'anxious face with sweat', '😉': 'winking face', '💃': 'woman dancing', '😣': 'persevering face'}, {'👏': 'clapping hands'}, {'😒': 'unamused face'}, {'😄': 'grinning face with smiling eyes'}, {'😊': 'smiling face with smiling eyes'}, {'😒': 'unamused face'}, {'😠': 'angry face', '😰': 'anxious face with sweat', '😴': 'sleeping face'}, {'✊': 'raised fist'}, {'😑': 'expressionless face'}, {'😳': 'flushed face'}, {'👏': 'clapping hands', '😂': 'face with tears of joy', '👌': 'OK hand'}, {'😒': 'unamused face'}, {'🙈': 'see-no-evil monkey'}, {'😂': 'face with tears of joy'}, {'😒': 'unamused face'}, {'😒': 'unamused face'}, {'😒': 'unamused face'}, {'☺️': 'smiling face', '💚': 'green heart', '😆': 'grinning squinting face', '😁': 'beaming face with smiling eyes', '👍': 'thumbs up', '😄': 'grinning face with smiling eyes', '💜': 'purple heart'}, {'👌': 'OK hand'}, {'🙈': 'see-no-evil monkey', '👍': 'thumbs up'}, {'👌': 'OK hand'}, {'✌️': 'victory hand'}, {'😏': 'smirking face', '😜': 'winking face with tongue', '😁': 'beaming face with smiling eyes'}, {'😑': 'expressionless face'}, {'😑': 'expressionless face'}, {'😐': 'neutral face'}, {'😒': 'unamused face', '😂': 'face with tears of joy', '😔': 'pensive face'}, {'📚': 'books', '😴': 'sleeping face', '📖': 'open book', '👍': 'thumbs up'}, {'😂': 'face with tears of joy'}, {'😊': 'smiling face with smiling eyes'}, {'👍': 'thumbs up'}, {'👌': 'OK hand'}, {'😘': 'face blowing a kiss'}, {'😘': 'face blowing a kiss'}, {'😠': 'angry face'}, {'🙆': 'person gesturing OK'}, {'😕': 'confused face'}, {'😒': 'unamused face', '😉': 'winking face', '😠': 'angry face'}, {'😜': 'winking face with tongue', '😂': 'face with tears of joy', '👍': 'thumbs up'}, {'😒': 'unamused face'}, {'😉': 'winking face'}, {'😒': 'unamused face'}, {'😂': 'face with tears of joy'}, {'😊': 'smiling face with smiling eyes'}, {'😁': 'beaming face with smiling eyes'}, {'👌': 'OK hand'}, {'✨': 'sparkles'}, {'😒': 'unamused face', '👀': 'eyes', '😷': 'face with medical mask'}, {'😂': 'face with tears of joy'}, {'😠': 'angry face'}, {'😂': 'face with tears of joy'}, {'❤️': 'red heart'}, {'👎': 'thumbs down'}, {'😫': 'tired face'}, {'😒': 'unamused face'}, {'🙌': 'raising hands', '😻': 'smiling cat with heart-eyes'}, {'😂': 'face with tears of joy'}, {'😀': 'grinning face', '👍': 'thumbs up'}, {'💪': 'flexed biceps'}, {'🌅': 'sunrise'}, {'😝': 'squinting face with tongue'}, {'😄': 'grinning face with smiling eyes'}, {'👌': 'OK hand'}, {'🔫': 'water pistol', '😂': 'face with tears of joy'}, {'😄': 'grinning face with smiling eyes'}, {'😍': 'smiling face with heart-eyes', '♥️': 'heart suit'}, {'😒': 'unamused face'}, {'😆': 'grinning squinting face'}, {'👍': 'thumbs up'}, {'🙋': 'person raising hand'}, {'😘': 'face blowing a kiss', '😊': 'smiling face with smiling eyes'}, {'😒': 'unamused face', '😂': 'face with tears of joy'}, {'😠': 'angry face'}, {'😂': 'face with tears of joy', '😳': 'flushed face'}, {'😒': 'unamused face'}, {'🔥': 'fire'}, {'✌️': 'victory hand', '😄': 'grinning face with smiling eyes'}, {'👄': 'mouth'}, {'😡': 'pouting face', '👊': 'oncoming fist', '😂': 'face with tears of joy'}, {'😌': 'relieved face', '🚫': 'prohibited', '☕': 'hot beverage'}, {'😒': 'unamused face', '😡': 'pouting face', '😤': 'face with steam from nose'}, {'😉': 'winking face', '👌': 'OK hand'}, {'😒': 'unamused face'}, {'😁': 'beaming face with smiling eyes'}, {'😂': 'face with tears of joy'}, {'😑': 'expressionless face', '😤': 'face with steam from nose'}, {'👎': 'thumbs down', '😡': 'pouting face', '👊': 'oncoming fist'}, {'😹': 'cat with tears of joy'}, {'😑': 'expressionless face'}, {'😏': 'smirking face'}, {'😄': 'grinning face with smiling eyes', '🎈': 'balloon', '🎊': 'confetti ball', '🎉': 'party popper'}, {'⛄': 'snowman without snow', '☀': 'sun'}, {'🔫': 'water pistol', '😵': 'knocked-out face'}, {'😴': 'sleeping face'}, {'👌': 'OK hand'}, {'👌': 'OK hand'}, {'😔': 'pensive face'}, {'😑': 'expressionless face'}, {'😒': 'unamused face'}, {'👀': 'eyes'}, {'😩': 'weary face', '🔫': 'water pistol'}, {'😍': 'smiling face with heart-eyes'}, {'😒': 'unamused face'}, {'😂': 'face with tears of joy'}, {'👉': 'backhand index pointing right'}, {'😡': 'pouting face'}, {'✌️': 'victory hand', '👆': 'backhand index pointing up', '👌': 'OK hand'}, {'😞': 'disappointed face'}, {'😉': 'winking face'}, {'🏈': 'american football'}, {'😒': 'unamused face', '👌': 'OK hand'}, {'😁': 'beaming face with smiling eyes'}, {'👌': 'OK hand'}, {'😒': 'unamused face'}, {'😊': 'smiling face with smiling eyes'}, {'😂': 'face with tears of joy'}, {'♥': 'heart suit'}, {'😂': 'face with tears of joy'}, {'😭': 'loudly crying face', '😌': 'relieved face'}, {'😒': 'unamused face'}, {'😂': 'face with tears of joy'}, {'😑': 'expressionless face'}, {'😒': 'unamused face', '😑': 'expressionless face'}, {'😀': 'grinning face'}, {'😂': 'face with tears of joy'}, {'😒': 'unamused face'}, {'😶': 'face without mouth'}, {'😆': 'grinning squinting face', '👍': 'thumbs up'}, {'⚽': 'soccer ball'}, {'😒': 'unamused face', '😳': 'flushed face'}, {'👋': 'waving hand'}, {'😑': 'expressionless face'}, {'😒': 'unamused face'}, {'👍': 'thumbs up'}, {'😂': 'face with tears of joy'}, {'💯': 'hundred points', '😁': 'beaming face with smiling eyes'}, {'👍': 'thumbs up'}, {'👍': 'thumbs up', '👌': 'OK hand'}, {'😷': 'face with medical mask'}, {'😒': 'unamused face'}, {'😏': 'smirking face', '😂': 'face with tears of joy'}, {'😍': 'smiling face with heart-eyes'}, {'😩': 'weary face'}, {'💋': 'kiss mark', '😂': 'face with tears of joy', '😍': 'smiling face with heart-eyes'}, {'😇': 'smiling face with halo'}, {'😄': 'grinning face with smiling eyes'}, {'😒': 'unamused face'}, {'😒': 'unamused face'}, {'😠': 'angry face', '😡': 'pouting face', '😊': 'smiling face with smiling eyes'}, {'😊': 'smiling face with smiling eyes'}, {'🙈': 'see-no-evil monkey'}, {'😡': 'pouting face'}, {'☺️': 'smiling face'}, {'😠': 'angry face'}, {'😠': 'angry face', '👎': 'thumbs down', '😡': 'pouting face', '😤': 'face with steam from nose'}, {'😒': 'unamused face'}, {'😞': 'disappointed face'}, {'✋': 'raised hand', '🙅': 'person gesturing NO'}, {'😅': 'grinning face with sweat'}, {'😂': 'face with tears of joy'}, {'❄️': 'snowflake'}, {'😒': 'unamused face'}, {'😘': 'face blowing a kiss'}, {'😡': 'pouting face'}, {'😐': 'neutral face'}, {'😊': 'smiling face with smiling eyes'}, {'😁': 'beaming face with smiling eyes'}, {'😬': 'grimacing face', '👌': 'OK hand'}, {'💖': 'sparkling heart', '😘': 'face blowing a kiss', '💋': 'kiss mark', '💗': 'growing heart', '💞': 'revolving hearts', '❤️': 'red heart'}, {'❄️': 'snowflake', '😍': 'smiling face with heart-eyes'}, {'😒': 'unamused face'}, {'⛄': 'snowman without snow', '🌀': 'cyclone', '😐': 'neutral face', '☀️': 'sun', '❌': 'cross mark', '❄️': 'snowflake'}, {'🏊': 'person swimming', '💧': 'droplet', '👌': 'OK hand'}, {'😑': 'expressionless face'}, {'👍': 'thumbs up'}, {'👀': 'eyes', '🙈': 'see-no-evil monkey'}, {'😍': 'smiling face with heart-eyes'}, {'😂': 'face with tears of joy', '😍': 'smiling face with heart-eyes', '🙈': 'see-no-evil monkey'}, {'😱': 'face screaming in fear', '😳': 'flushed face'}, {'😆': 'grinning squinting face'}, {'😐': 'neutral face', '👌': 'OK hand'}, {'🍗': 'poultry leg'}, {'❗': 'red exclamation mark'}, {'💦': 'sweat droplets', '✊': 'raised fist'}, {'⛄': 'snowman without snow', '❄️': 'snowflake'}, {'😒': 'unamused face'}, {'😒': 'unamused face', '💁': 'person tipping hand'}, {'😊': 'smiling face with smiling eyes'}, {'😃': 'grinning face with big eyes'}, {'👍': 'thumbs up'}, {'😤': 'face with steam from nose', '😷': 'face with medical mask'}, {'😒': 'unamused face', '😠': 'angry face'}, {'😐': 'neutral face'}, {'😍': 'smiling face with heart-eyes'}, {'😏': 'smirking face', '😝': 'squinting face with tongue', '😂': 'face with tears of joy'}, {'😒': 'unamused face'}, {'😒': 'unamused face'}, {'💁': 'person tipping hand', '😂': 'face with tears of joy', '😁': 'beaming face with smiling eyes'}, {'💜': 'purple heart', '😂': 'face with tears of joy'}, {'😑': 'expressionless face'}, {'😑': 'expressionless face'}, {'😂': 'face with tears of joy'}, {'😂': 'face with tears of joy'}, {'😒': 'unamused face'}, {'😔': 'pensive face'}, {'😕': 'confused face'}, {'😒': 'unamused face'}, {'☔': 'umbrella with rain drops', '☁️': 'cloud', '⛅': 'sun behind cloud', '☀️': 'sun', '⚡': 'high voltage', '❄️': 'snowflake'}, {'😩': 'weary face', '😫': 'tired face', '😖': 'confounded face'}, {'👍': 'thumbs up'}, {'👌': 'OK hand'}, {'👎': 'thumbs down'}, {'😁': 'beaming face with smiling eyes'}, {'😄': 'grinning face with smiling eyes'}, {'😂': 'face with tears of joy'}, {'😒': 'unamused face', '😔': 'pensive face'}, {'😩': 'weary face', '😡': 'pouting face', '😨': 'fearful face', '😣': 'persevering face'}, {'👌': 'OK hand'}, {'😭': 'loudly crying face'}, {'❄️': 'snowflake'}, {'☺️': 'smiling face'}, {'😒': 'unamused face'}, {'💻': 'laptop', '☕': 'hot beverage', '🎄': 'Christmas tree'}, {'😡': 'pouting face', '😑': 'expressionless face'}, {'😬': 'grimacing face'}, {'😔': 'pensive face'}, {'✌️': 'victory hand'}, {'😜': 'winking face with tongue'}, {'😒': 'unamused face'}, {'😵': 'knocked-out face'}, {'🐤': 'baby chick'}, {'😡': 'pouting face', '😑': 'expressionless face', '😕': 'confused face', '😐': 'neutral face'}, {'☺️': 'smiling face'}, {'😀': 'grinning face'}, {'🚨': 'police car light', '🚔': 'oncoming police car'}, {'😂': 'face with tears of joy'}, {'😂': 'face with tears of joy'}, {'👌': 'OK hand'}, {'😂': 'face with tears of joy', '😊': 'smiling face with smiling eyes'}, {'👎': 'thumbs down', '😐': 'neutral face'}, {'😂': 'face with tears of joy'}, {'😒': 'unamused face'}, {'😂': 'face with tears of joy'}, {'😀': 'grinning face'}, {'👌': 'OK hand'}, {'👼': 'baby angel'}, {'😒': 'unamused face'}, {'😂': 'face with tears of joy'}, {'😑': 'expressionless face', '😟': 'worried face', '😐': 'neutral face'}, {'😪': 'sleepy face'}, {'😁': 'beaming face with smiling eyes'}, {'😒': 'unamused face'}, {'😒': 'unamused face'}, {'😏': 'smirking face'}, {'🚬': 'cigarette'}, {'👍': 'thumbs up', '😁': 'beaming face with smiling eyes'}, {'😑': 'expressionless face', '🚨': 'police car light'}, {'😱': 'face screaming in fear'}, {'👎': 'thumbs down', '👶': 'baby'}, {'😍': 'smiling face with heart-eyes', '🎁': 'wrapped gift'}, {'❤️': 'red heart'}, {'😳': 'flushed face'}, {'💪': 'flexed biceps'}, {'😘': 'face blowing a kiss', '👌': 'OK hand'}, {'😒': 'unamused face', '❄️': 'snowflake', '🔫': 'water pistol'}, {'😡': 'pouting face'}, {'😒': 'unamused face'}, {'😂': 'face with tears of joy'}, {'💤': 'zzz', '😴': 'sleeping face'}, {'❤️': 'red heart', '🙏': 'folded hands'}, {'😂': 'face with tears of joy'}, {'👍': 'thumbs up'}, {'😋': 'face savoring food'}, {'👍': 'thumbs up'}, {'😑': 'expressionless face'}, {'😕': 'confused face', '👌': 'OK hand'}, {'👌': 'OK hand'}, {'👍': 'thumbs up'}, {'😅': 'grinning face with sweat'}, {'😩': 'weary face'}, {'😒': 'unamused face'}, {'😅': 'grinning face with sweat'}, {'😯': 'hushed face', '🎉': 'party popper', '🍻': 'clinking beer mugs', '😱': 'face screaming in fear', '🎊': 'confetti ball', '🍺': 'beer mug'}, {'👌': 'OK hand'}, {'😃': 'grinning face with big eyes'}, {'😁': 'beaming face with smiling eyes'}, {'😠': 'angry face', '😔': 'pensive face'}, {'😒': 'unamused face', '👌': 'OK hand'}, {'😳': 'flushed face'}, {'😒': 'unamused face'}, {'🙊': 'speak-no-evil monkey'}, {'😂': 'face with tears of joy'}, {'😑': 'expressionless face'}, {'💕': 'two hearts', '😇': 'smiling face with halo', '💁': 'person tipping hand'}, {'😁': 'beaming face with smiling eyes'}, {'👍': 'thumbs up'}, {'😔': 'pensive face'}, {'😂': 'face with tears of joy'}, {'😒': 'unamused face'}, {'☔': 'umbrella with rain drops'}, {'😱': 'face screaming in fear'}, {'😂': 'face with tears of joy'}, {'😁': 'beaming face with smiling eyes'}, {'😂': 'face with tears of joy'}, {'😒': 'unamused face'}, {'😕': 'confused face'}, {'😘': 'face blowing a kiss'}, {'😂': 'face with tears of joy'}, {'😔': 'pensive face'}, {'😒': 'unamused face', '🙌': 'raising hands'}, {'💄': 'lipstick', '🎀': 'ribbon', '😉': 'winking face', '💋': 'kiss mark', '😂': 'face with tears of joy'}, {'😠': 'angry face'}, {'😃': 'grinning face with big eyes'}, {'😒': 'unamused face'}, {'💁': 'person tipping hand'}, {'😕': 'confused face'}, {'👌': 'OK hand'}, {'🚨': 'police car light', '😥': 'sad but relieved face'}, {'😑': 'expressionless face'}, {'😭': 'loudly crying face', '😂': 'face with tears of joy'}, {'😄': 'grinning face with smiling eyes'}, {'😩': 'weary face', '😫': 'tired face', '😤': 'face with steam from nose'}, {'👌': 'OK hand'}, {'😆': 'grinning squinting face'}, {'😒': 'unamused face', '❄️': 'snowflake'}, {'🙊': 'speak-no-evil monkey'}, {'😁': 'beaming face with smiling eyes'}, {'😒': 'unamused face'}, {'😒': 'unamused face'}, {'😔': 'pensive face'}, {'🙉': 'hear-no-evil monkey'}, {'😂': 'face with tears of joy'}, {'💁': 'person tipping hand'}, {'😏': 'smirking face'}, {'😒': 'unamused face'}, {'👏': 'clapping hands', '🙆': 'person gesturing OK'}, {'😒': 'unamused face'}, {'😂': 'face with tears of joy'}, {'😒': 'unamused face'}, {'☀️': 'sun', '💛': 'yellow heart', '😊': 'smiling face with smiling eyes'}, {'😂': 'face with tears of joy'}, {'✌': 'victory hand'}, {'😔': 'pensive face'}, {'👌': 'OK hand'}, {'😒': 'unamused face'}, {'😭': 'loudly crying face'}, {'♥': 'heart suit'}, {'😒': 'unamused face'}, {'👌': 'OK hand'}, {'😂': 'face with tears of joy'}, {'😒': 'unamused face'}, {'😒': 'unamused face'}, {'😒': 'unamused face'}, {'👌': 'OK hand'}, {'😒': 'unamused face'}, {'😏': 'smirking face'}, {'😒': 'unamused face'}, {'🎊': 'confetti ball', '🎉': 'party popper'}, {'😂': 'face with tears of joy'}, {'😅': 'grinning face with sweat'}, {'😑': 'expressionless face'}, {'👎': 'thumbs down'}, {'🎁': 'wrapped gift'}, {'😂': 'face with tears of joy'}, {'😑': 'expressionless face'}, {'✌': 'victory hand', '😁': 'beaming face with smiling eyes'}, {'😊': 'smiling face with smiling eyes'}, {'😑': 'expressionless face'}, {'💕': 'two hearts', '😘': 'face blowing a kiss'}, {'👌': 'OK hand'}, {'😒': 'unamused face', '😁': 'beaming face with smiling eyes'}, {'😄': 'grinning face with smiling eyes'}, {'💁': 'person tipping hand'}, {'👎': 'thumbs down'}, {'😒': 'unamused face', '😁': 'beaming face with smiling eyes'}, {'👏': 'clapping hands', '🎉': 'party popper'}, {'📚': 'books', '📖': 'open book', '✏': 'pencil'}, {'😬': 'grimacing face', '😅': 'grinning face with sweat'}, {'📚': 'books', '👍': 'thumbs up', '😊': 'smiling face with smiling eyes'}, {'😡': 'pouting face'}, {'👌': 'OK hand'}, {'😍': 'smiling face with heart-eyes'}, {'😉': 'winking face'}, {'😘': 'face blowing a kiss'}, {'⚡': 'high voltage', '☔': 'umbrella with rain drops'}, {'😂': 'face with tears of joy'}, {'☺️': 'smiling face'}, {'😠': 'angry face', '😒': 'unamused face'}, {'👏': 'clapping hands'}, {'💪': 'flexed biceps', '😢': 'crying face'}, {'😅': 'grinning face with sweat'}, {'🎵': 'musical note', '🎷': 'saxophone', '📯': 'postal horn', '🎼': 'musical score', '🎻': 'violin', '🎹': 'musical keyboard', '🎸': 'guitar', '🎶': 'musical notes', '🎺': 'trumpet'}, {'👋': 'waving hand'}, {'❤': 'red heart', '😘': 'face blowing a kiss'}, {'😑': 'expressionless face'}, {'🙈': 'see-no-evil monkey'}, {'😔': 'pensive face', '💸': 'money with wings'}, {'😅': 'grinning face with sweat'}, {'😜': 'winking face with tongue', '🎉': 'party popper'}, {'❤️': 'red heart'}, {'😆': 'grinning squinting face'}, {'💉': 'syringe', '💊': 'pill'}, {'🙈': 'see-no-evil monkey'}, {'😤': 'face with steam from nose'}, {'👏': 'clapping hands'}, {'😒': 'unamused face'}, {'😩': 'weary face'}, {'😷': 'face with medical mask'}, {'😔': 'pensive face'}, {'😊': 'smiling face with smiling eyes', '😯': 'hushed face'}, {'😒': 'unamused face'}, {'🙅': 'person gesturing NO'}, {'✌️': 'victory hand', '💀': 'skull'}, {'😊': 'smiling face with smiling eyes'}, {'😅': 'grinning face with sweat', '😭': 'loudly crying face', '😢': 'crying face'}, {'👎': 'thumbs down', '😔': 'pensive face'}, {'😊': 'smiling face with smiling eyes'}, {'😂': 'face with tears of joy'}, {'😏': 'smirking face'}, {'😉': 'winking face'}, {'😊': 'smiling face with smiling eyes'}, {'🐬': 'dolphin', '🐳': 'spouting whale', '🐟': 'fish', '🐠': 'tropical fish'}, {'😢': 'crying face'}, {'😁': 'beaming face with smiling eyes'}, {'💔': 'broken heart'}, {'🌵': 'cactus'}, {'😂': 'face with tears of joy'}, {'🍳': 'cooking', '🍕': 'pizza', '🍗': 'poultry leg', '🍛': 'curry rice', '🍨': 'ice cream', '🍫': 'chocolate bar', '🎂': 'birthday cake', '🍤': 'fried shrimp', '🍟': 'french fries', '🍝': 'spaghetti', '🍔': 'hamburger', '🍦': 'soft ice cream', '🍧': 'shaved ice', '🍖': 'meat on bone', '🍩': 'doughnut'}, {'😕': 'confused face'}, {'😬': 'grimacing face'}, {'😂': 'face with tears of joy'}, {'😧': 'anguished face'}, {'😩': 'weary face'}, {'😂': 'face with tears of joy'}, {'😝': 'squinting face with tongue'}, {'😒': 'unamused face'}, {'😍': 'smiling face with heart-eyes'}, {'🍁': 'maple leaf', '💚': 'green heart', '👃': 'nose'}, {'😂': 'face with tears of joy'}, {'😊': 'smiling face with smiling eyes'}, {'😴': 'sleeping face'}, {'⛄': 'snowman without snow', '❄️': 'snowflake'}, {'😃': 'grinning face with big eyes', '👌': 'OK hand'}, {'😂': 'face with tears of joy'}, {'😂': 'face with tears of joy'}, {'😒': 'unamused face', '💻': 'laptop', '📑': 'bookmark tabs'}, {'😊': 'smiling face with smiling eyes'}, {'😒': 'unamused face', '🐛': 'bug'}, {'🔫': 'water pistol', '😑': 'expressionless face'}, {'😂': 'face with tears of joy'}, {'😂': 'face with tears of joy'}, {'😑': 'expressionless face'}, {'👍': 'thumbs up'}, {'😀': 'grinning face', '👍': 'thumbs up'}, {'💖': 'sparkling heart'}, {'👏': 'clapping hands', '🙌': 'raising hands', '👌': 'OK hand'}, {'😒': 'unamused face'}, {'👏': 'clapping hands'}, {'😒': 'unamused face', '😠': 'angry face'}, {'✌️': 'victory hand'}, {'👍': 'thumbs up'}, {'😉': 'winking face'}, {'😱': 'face screaming in fear'}, {'😎': 'smiling face with sunglasses', '😂': 'face with tears of joy', '😈': 'smiling face with horns'}, {'😒': 'unamused face'}, {'💯': 'hundred points'}, {'😁': 'beaming face with smiling eyes'}, {'😑': 'expressionless face'}, {'🙊': 'speak-no-evil monkey'}, {'😳': 'flushed face'}, {'👿': 'angry face with horns'}, {'😊': 'smiling face with smiling eyes'}, {'🌙': 'crescent moon'}, {'😒': 'unamused face'}, {'😭': 'loudly crying face'}, {'👏': 'clapping hands', '😂': 'face with tears of joy'}, {'😭': 'loudly crying face', '😂': 'face with tears of joy'}, {'👀': 'eyes'}, {'😉': 'winking face'}, {'😴': 'sleeping face'}, {'😏': 'smirking face', '😝': 'squinting face with tongue', '😁': 'beaming face with smiling eyes', '😌': 'relieved face'}, {'😒': 'unamused face'}, {'👌': 'OK hand', '👍': 'thumbs up', '😄': 'grinning face with smiling eyes'}, {'👌': 'OK hand'}, {'😂': 'face with tears of joy'}, {'😊': 'smiling face with smiling eyes'}, {'😑': 'expressionless face'}, {'😂': 'face with tears of joy', '😘': 'face blowing a kiss'}, {'😑': 'expressionless face', '👍': 'thumbs up'}, {'😒': 'unamused face'}, {'😕': 'confused face'}, {'🔫': 'water pistol', '😑': 'expressionless face'}, {'🍺': 'beer mug'}, {'😉': 'winking face'}, {'😑': 'expressionless face'}, {'😍': 'smiling face with heart-eyes'}, {'😭': 'loudly crying face', '👊': 'oncoming fist'}, {'😭': 'loudly crying face', '😂': 'face with tears of joy'}, {'😑': 'expressionless face'}, {'😒': 'unamused face', '😄': 'grinning face with smiling eyes'}, {'🙌': 'raising hands'}, {'😔': 'pensive face'}, {'👍': 'thumbs up'}, {'😂': 'face with tears of joy'}, {'😎': 'smiling face with sunglasses'}, {'👌': 'OK hand'}, {'😂': 'face with tears of joy', '🙌': 'raising hands'}, {'👍': 'thumbs up'}, {'😒': 'unamused face', '😃': 'grinning face with big eyes', '👍': 'thumbs up'}, {'😜': 'winking face with tongue'}, {'😳': 'flushed face'}, {'😒': 'unamused face'}, {'😒': 'unamused face'}, {'😔': 'pensive face'}, {'😒': 'unamused face'}, {'🙏': 'folded hands'}, {'👍': 'thumbs up'}, {'😩': 'weary face', '👎': 'thumbs down'}, {'😜': 'winking face with tongue'}, {'🙌': 'raising hands'}, {'😂': 'face with tears of joy', '👌': 'OK hand'}, {'😔': 'pensive face'}, {'👍': 'thumbs up'}, {'😔': 'pensive face'}, {'😃': 'grinning face with big eyes'}, {'😂': 'face with tears of joy'}, {'😑': 'expressionless face'}, {'😄': 'grinning face with smiling eyes'}, {'😐': 'neutral face'}, {'😌': 'relieved face'}, {'☺️': 'smiling face'}, {'❤️': 'red heart'}, {'👍': 'thumbs up'}, {'😊': 'smiling face with smiling eyes'}, {'😒': 'unamused face', '👎': 'thumbs down'}, {'😒': 'unamused face'}, {'👀': 'eyes', '🌀': 'cyclone'}, {'😑': 'expressionless face'}, {'👌': 'OK hand'}, {'😊': 'smiling face with smiling eyes'}, {'😒': 'unamused face'}, {'😂': 'face with tears of joy'}, {'💔': 'broken heart'}, {'👾': 'alien monster'}, {'😂': 'face with tears of joy'}, {'😂': 'face with tears of joy', '😌': 'relieved face'}, {'💁': 'person tipping hand'}, {'💁': 'person tipping hand', '😁': 'beaming face with smiling eyes', '😄': 'grinning face with smiling eyes'}, {'👍': 'thumbs up'}, {'😒': 'unamused face', '😑': 'expressionless face'}, {'😅': 'grinning face with sweat'}, {'😑': 'expressionless face'}, {'💩': 'pile of poo'}, {'👌': 'OK hand'}, {'😄': 'grinning face with smiling eyes'}, {'😊': 'smiling face with smiling eyes'}, {'💁': 'person tipping hand'}, {'😎': 'smiling face with sunglasses'}, {'😑': 'expressionless face'}, {'😅': 'grinning face with sweat'}, {'😍': 'smiling face with heart-eyes'}, {'😳': 'flushed face'}, {'💩': 'pile of poo'}, {'♥': 'heart suit'}, {'💁': 'person tipping hand'}, {'♥': 'heart suit'}, {'🍩': 'doughnut', '☕': 'hot beverage'}, {'♥': 'heart suit'}, {'💎': 'gem stone', '🍀': 'four leaf clover', '💪': 'flexed biceps'}, {'😏': 'smirking face'}, {'🙌': 'raising hands'}, {'♥': 'heart suit'}, {'😒': 'unamused face'}, {'😃': 'grinning face with big eyes'}, {'😛': 'face with tongue'}, {'🐾': 'paw prints', '💊': 'pill', '📱': 'mobile phone', '🏥': 'hospital', '💣': 'bomb', '🎎': 'Japanese dolls'}, {'♥': 'heart suit'}, {'😂': 'face with tears of joy'}, {'🙆': 'person gesturing OK'}, {'💯': 'hundred points'}, {'👭': 'women holding hands', '😴': 'sleeping face'}, {'☺': 'smiling face', '😚': 'kissing face with closed eyes', '♥': 'heart suit'}, {'😍': 'smiling face with heart-eyes', '🎄': 'Christmas tree'}, {'😘': 'face blowing a kiss'}, {'❤': 'red heart', '😉': 'winking face'}, {'♥': 'heart suit'}, {'😂': 'face with tears of joy'}, {'™': 'trade mark'}, {'♥': 'heart suit'}, {'😬': 'grimacing face'}, {'🍠': 'roasted sweet potato', '🍅': 'tomato', '👌': 'OK hand', '🍍': 'pineapple', '🍲': 'pot of food', '😂': 'face with tears of joy', '😃': 'grinning face with big eyes', '🍆': 'eggplant'}, {'💃': 'woman dancing'}, {'😳': 'flushed face', '🕥': 'ten-thirty'}, {'👌': 'OK hand'}, {'♥': 'heart suit'}, {'☹': 'frowning face'}, {'🌂': 'closed umbrella', '💄': 'lipstick', '👠': 'high-heeled shoe', '😊': 'smiling face with smiling eyes'}, {'🎀': 'ribbon', '😘': 'face blowing a kiss'}, {'😎': 'smiling face with sunglasses', '👊': 'oncoming fist'}, {'😂': 'face with tears of joy'}, {'❤️': 'red heart'}, {'🎅': 'Santa Claus', '🎉': 'party popper', '🙋': 'person raising hand', '🎄': 'Christmas tree'}, {'❤️': 'red heart'}, {'😢': 'crying face'}, {'😂': 'face with tears of joy'}, {'😠': 'angry face'}, {'😆': 'grinning squinting face', '😂': 'face with tears of joy', '😊': 'smiling face with smiling eyes'}, {'©': 'copyright'}, {'💕': 'two hearts'}, {'😅': 'grinning face with sweat'}, {'♥': 'heart suit'}, {'♥': 'heart suit'}, {'🌍': 'globe showing Europe-Africa', '🌏': 'globe showing Asia-Australia'}, {'🎅': 'Santa Claus', '🎄': 'Christmas tree'}, {'😂': 'face with tears of joy', '😛': 'face with tongue'}, {'😂': 'face with tears of joy'}, {'💳': 'credit card'}, {'💕': 'two hearts', '😍': 'smiling face with heart-eyes'}, {'♥': 'heart suit'}, {'❤️': 'red heart'}, {'😳': 'flushed face', '😔': 'pensive face'}, {'❤': 'red heart', '😉': 'winking face'}, {'😁': 'beaming face with smiling eyes'}, {'🙈': 'see-no-evil monkey'}, {'😜': 'winking face with tongue', '😘': 'face blowing a kiss'}, {'❤️': 'red heart'}, {'😱': 'face screaming in fear', '😡': 'pouting face'}, {'🌎': 'globe showing Americas'}, {'👭': 'women holding hands', '🍹': 'tropical drink', '🍸': 'cocktail glass', '🍷': 'wine glass'}, {'❤': 'red heart'}, {'❤️': 'red heart'}, {'🙈': 'see-no-evil monkey'}, {'❤️': 'red heart'}, {'♥': 'heart suit'}, {'😂': 'face with tears of joy', '👌': 'OK hand'}, {'♥': 'heart suit'}, {'😒': 'unamused face', '😴': 'sleeping face', '💤': 'zzz'}, {'❤️': 'red heart'}, {'❤️': 'red heart', '👍': 'thumbs up'}, {'🏈': 'american football'}, {'❤️': 'red heart'}, {'✖️': 'multiply', '😌': 'relieved face'}, {'®': 'registered'}, {'👏': 'clapping hands'}, {'❤️': 'red heart', '😞': 'disappointed face'}, {'😎': 'smiling face with sunglasses', '👍': 'thumbs up'}, {'©': 'copyright'}, {'❤': 'red heart', '😉': 'winking face'}, {'💚': 'green heart', '😁': 'beaming face with smiling eyes'}, {'😂': 'face with tears of joy', '👌': 'OK hand'}, {'😭': 'loudly crying face'}, {'📖': 'open book'}, {'🎭': 'performing arts'}, {'😂': 'face with tears of joy', '😳': 'flushed face', '👌': 'OK hand'}, {'😔': 'pensive face'}, {'😄': 'grinning face with smiling eyes'}, {'😎': 'smiling face with sunglasses'}, {'😍': 'smiling face with heart-eyes', '👍': 'thumbs up'}, {'❤': 'red heart', '😉': 'winking face'}, {'💁': 'person tipping hand'}, {'😓': 'downcast face with sweat'}, {'💕': 'two hearts', '🌞': 'sun with face'}, {'😡': 'pouting face'}, {'😂': 'face with tears of joy'}, {'😒': 'unamused face'}, {'🙆': 'person gesturing OK'}, {'😂': 'face with tears of joy', '🙈': 'see-no-evil monkey'}, {'😔': 'pensive face'}, {'♥': 'heart suit'}, {'😁': 'beaming face with smiling eyes'}, {'🔫': 'water pistol', '😂': 'face with tears of joy', '👬': 'men holding hands', '🙆': 'person gesturing OK', '👩': 'woman'}, {'☃': 'snowman', '❄': 'snowflake'}, {'🌙': 'crescent moon', '✨': 'sparkles'}, {'❤': 'red heart', '😉': 'winking face'}, {'😡': 'pouting face', '👊': 'oncoming fist'}, {'❤': 'red heart', '😉': 'winking face'}, {'❤️': 'red heart'}, {'💔': 'broken heart'}, {'💪': 'flexed biceps'}, {'❤': 'red heart'}, {'😂': 'face with tears of joy'}, {'😚': 'kissing face with closed eyes'}, {'❤️': 'red heart'}, {'🎄': 'Christmas tree', '🎅': 'Santa Claus', '💜': 'purple heart', '❤️': 'red heart', '❄️': 'snowflake'}, {'👣': 'footprints', '🐼': 'panda', '🍵': 'teacup without handle', '📖': 'open book', '😊': 'smiling face with smiling eyes'}, {'♥': 'heart suit'}, {'😭': 'loudly crying face'}, {'😭': 'loudly crying face'}, {'😭': 'loudly crying face', '☺': 'smiling face'}, {'🎁': 'wrapped gift', '🎄': 'Christmas tree', '🎉': 'party popper', '🎅': 'Santa Claus', '🎆': 'fireworks', '🎊': 'confetti ball', '😊': 'smiling face with smiling eyes'}, {'😒': 'unamused face'}, {'😭': 'loudly crying face'}, {'☹': 'frowning face'}, {'😍': 'smiling face with heart-eyes'}, {'😐': 'neutral face'}, {'❤': 'red heart', '😉': 'winking face'}, {'🎁': 'wrapped gift', '🎄': 'Christmas tree'}, {'😆': 'grinning squinting face'}, {'😂': 'face with tears of joy'}, {'😂': 'face with tears of joy'}, {'✋': 'raised hand'}, {'❤': 'red heart'}, {'♥': 'heart suit'}, {'😃': 'grinning face with big eyes', '🎈': 'balloon'}, {'♥': 'heart suit'}, {'✋': 'raised hand', '😭': 'loudly crying face', '🙈': 'see-no-evil monkey', '😢': 'crying face'}, {'❤️': 'red heart', '💯': 'hundred points', '😍': 'smiling face with heart-eyes', '✊': 'raised fist'}, {'😫': 'tired face'}, {'♥': 'heart suit'}, {'♥': 'heart suit'}, {'😏': 'smirking face', '😂': 'face with tears of joy'}, {'©': 'copyright'}, {'😛': 'face with tongue'}, {'♥': 'heart suit'}, {'♥': 'heart suit'}, {'🎶': 'musical notes'}, {'🎈': 'balloon', '😊': 'smiling face with smiling eyes', '🎉': 'party popper'}, {'🎧': 'headphone'}, {'🎧': 'headphone'}, {'😊': 'smiling face with smiling eyes'}, {'😍': 'smiling face with heart-eyes'}, {'❄️': 'snowflake'}, {'😒': 'unamused face', '💯': 'hundred points', '👌': 'OK hand'}, {'😳': 'flushed face'}, {'❤': 'red heart', '😉': 'winking face'}, {'👙': 'bikini', '👼': 'baby angel'}, {'♥': 'heart suit'}, {'👍': 'thumbs up'}, {'♥': 'heart suit'}, {'😔': 'pensive face'}, {'♥': 'heart suit'}, {'⬅️': 'left arrow', '➡️': 'right arrow'}, {'☀': 'sun', '😊': 'smiling face with smiling eyes'}, {'😂': 'face with tears of joy'}, {'😔': 'pensive face'}, {'🇫🇷': 'flag: France', '🌆': 'cityscape at dusk', '😍': 'smiling face with heart-eyes', '🍭': 'lollipop'}, {'♦': 'diamond suit'}, {'😏': 'smirking face', '💕': 'two hearts', '🌽': 'ear of corn'}, {'🙊': 'speak-no-evil monkey', '🙈': 'see-no-evil monkey', '💃': 'woman dancing'}, {'😂': 'face with tears of joy'}, {'😌': 'relieved face'}, {'😃': 'grinning face with big eyes', '❤': 'red heart', '👉': 'backhand index pointing right', '😘': 'face blowing a kiss'}, {'☹': 'frowning face'}, {'🌞': 'sun with face', '☕': 'hot beverage'}, {'♥': 'heart suit'}, {'🌙': 'crescent moon'}, {'😏': 'smirking face', '😒': 'unamused face', '🙆': 'person gesturing OK'}, {'😏': 'smirking face'}, {'👊': 'oncoming fist'}, {'🙌': 'raising hands'}, {'✋': 'raised hand'}, {'♥': 'heart suit'}, {'🙌': 'raising hands'}, {'😍': 'smiling face with heart-eyes'}, {'❤': 'red heart', '😉': 'winking face'}, {'❤': 'red heart', '😉': 'winking face'}, {'😩': 'weary face', '😳': 'flushed face', '😔': 'pensive face'}, {'♥': 'heart suit'}, {'❤️': 'red heart'}, {'😩': 'weary face'}, {'🙈': 'see-no-evil monkey'}, {'😂': 'face with tears of joy'}, {'👍': 'thumbs up', '😄': 'grinning face with smiling eyes'}, {'👏': 'clapping hands', '😄': 'grinning face with smiling eyes'}, {'☹': 'frowning face'}, {'😂': 'face with tears of joy'}, {'😂': 'face with tears of joy'}, {'♥': 'heart suit'}, {'🙌': 'raising hands'}, {'🎅': 'Santa Claus', '🎶': 'musical notes', '❤️': 'red heart', '🎄': 'Christmas tree'}, {'☹': 'frowning face'}, {'🔫': 'water pistol', '😟': 'worried face'}, {'😂': 'face with tears of joy'}, {'♥': 'heart suit'}, {'☺': 'smiling face'}, {'💸': 'money with wings', '💰': 'money bag'}, {'🎧': 'headphone'}, {'♥': 'heart suit'}, {'😘': 'face blowing a kiss'}, {'😡': 'pouting face', '😤': 'face with steam from nose'}, {'😮': 'face with open mouth', '👏': 'clapping hands'}, {'😍': 'smiling face with heart-eyes'}, {'♥': 'heart suit'}, {'🎅': 'Santa Claus'}, {'✌': 'victory hand'}, {'💋': 'kiss mark'}, {'♥': 'heart suit'}, {'🙌': 'raising hands', '👌': 'OK hand'}, {'👍': 'thumbs up', '😄': 'grinning face with smiling eyes'}, {'❤': 'red heart'}, {'🙌': 'raising hands', '👌': 'OK hand', '😌': 'relieved face', '🎉': 'party popper', '😂': 'face with tears of joy', '🚶': 'person walking'}, {'❤': 'red heart', '😉': 'winking face'}, {'❤️': 'red heart'}, {'👐': 'open hands'}, {'♥': 'heart suit'}, {'❤': 'red heart', '😉': 'winking face'}, {'😘': 'face blowing a kiss'}, {'❤️': 'red heart'}, {'👌': 'OK hand'}, {'♥': 'heart suit'}, {'💝': 'heart with ribbon', '🎄': 'Christmas tree'}, {'💚': 'green heart', '🙊': 'speak-no-evil monkey', '🐰': 'rabbit face'}, {'😒': 'unamused face', '😂': 'face with tears of joy', '😌': 'relieved face'}, {'😏': 'smirking face', '🙌': 'raising hands'}, {'❤': 'red heart'}, {'🎾': 'tennis', '🎉': 'party popper'}, {'♥': 'heart suit', '☹': 'frowning face'}, {'🙅': 'person gesturing NO'}, {'🙌': 'raising hands'}, {'😊': 'smiling face with smiling eyes'}, {'😂': 'face with tears of joy', '🙊': 'speak-no-evil monkey', '👌': 'OK hand'}, {'😘': 'face blowing a kiss'}, {'😔': 'pensive face'}, {'♥': 'heart suit'}, {'♥': 'heart suit'}, {'❤': 'red heart', '😉': 'winking face'}, {'™': 'trade mark'}, {'😎': 'smiling face with sunglasses', '❤️': 'red heart'}, {'💖': 'sparkling heart', '💕': 'two hearts', '💌': 'love letter'}, {'❤️': 'red heart'}, {'❤': 'red heart'}, {'❤️': 'red heart', '😍': 'smiling face with heart-eyes', '😘': 'face blowing a kiss'}, {'❤': 'red heart'}, {'©': 'copyright'}, {'😋': 'face savoring food', '🎀': 'ribbon', '😍': 'smiling face with heart-eyes', '👑': 'crown', '💁': 'person tipping hand'}, {'❤️': 'red heart', '😭': 'loudly crying face'}, {'❤': 'red heart', '😉': 'winking face'}, {'❤': 'red heart', '😊': 'smiling face with smiling eyes'}, {'♥': 'heart suit'}, {'♥': 'heart suit'}, {'🚴': 'person biking'}, {'😍': 'smiling face with heart-eyes'}, {'♥': 'heart suit'}, {'😁': 'beaming face with smiling eyes'}, {'💞': 'revolving hearts', '⏰': 'alarm clock', '🙈': 'see-no-evil monkey', '💛': 'yellow heart'}, {'😡': 'pouting face', '😂': 'face with tears of joy'}, {'☺': 'smiling face'}, {'😜': 'winking face with tongue', '👍': 'thumbs up', '💏': 'kiss', '👌': 'OK hand'}, {'😒': 'unamused face', '😭': 'loudly crying face'}, {'♥': 'heart suit'}, {'🎧': 'headphone'}, {'🌊': 'water wave', '🏊': 'person swimming', '👩': 'woman', '😊': 'smiling face with smiling eyes'}, {'▶': 'play button'}, {'❤️': 'red heart', '👪': 'family'}, {'😊': 'smiling face with smiling eyes'}, {'🙈': 'see-no-evil monkey'}, {'♥': 'heart suit'}, {'😒': 'unamused face'}, {'🎧': 'headphone'}, {'😂': 'face with tears of joy'}, {'👍': 'thumbs up', '♥': 'heart suit'}, {'♥': 'heart suit'}, {'♥': 'heart suit'}, {'♥': 'heart suit'}, {'😋': 'face savoring food'}, {'😃': 'grinning face with big eyes'}, {'♥': 'heart suit'}, {'♥': 'heart suit'}, {'😌': 'relieved face'}, {'😬': 'grimacing face'}, {'😣': 'persevering face'}, {'❤️': 'red heart'}, {'💕': 'two hearts'}, {'💅': 'nail polish', '♥': 'heart suit'}, {'⚡': 'high voltage'}, {'❤️': 'red heart', '😍': 'smiling face with heart-eyes', '😘': 'face blowing a kiss'}, {'♥': 'heart suit'}, {'♥': 'heart suit'}, {'👍': 'thumbs up'}, {'💋': 'kiss mark', '❤️': 'red heart'}, {'♥': 'heart suit'}, {'😥': 'sad but relieved face'}, {'💖': 'sparkling heart'}, {'❤': 'red heart', '😉': 'winking face'}, {'❤': 'red heart', '😉': 'winking face'}, {'🏰': 'castle'}, {'💕': 'two hearts', '➡️': 'right arrow', '👍': 'thumbs up'}, {'💕': 'two hearts'}, {'🍩': 'doughnut', '☕': 'hot beverage'}, {'😥': 'sad but relieved face'}, {'❤': 'red heart', '😉': 'winking face'}, {'😭': 'loudly crying face'}, {'♥': 'heart suit'}, {'♥': 'heart suit'}, {'😂': 'face with tears of joy'}, {'😳': 'flushed face', '😂': 'face with tears of joy', '🙆': 'person gesturing OK'}, {'😝': 'squinting face with tongue', '😂': 'face with tears of joy', '😳': 'flushed face'}, {'🎼': 'musical score', '🎧': 'headphone'}, {'😋': 'face savoring food', '😴': 'sleeping face'}, {'👌': 'OK hand'}, {'😭': 'loudly crying face'}, {'👜': 'handbag', '💆': 'person getting massage', '💂': 'guard', '💵': 'dollar banknote', '💅': 'nail polish', '✨': 'sparkles', '🍆': 'eggplant'}, {'😔': 'pensive face'}, {'♥': 'heart suit'}, {'😏': 'smirking face', '💁': 'person tipping hand'}, {'😂': 'face with tears of joy'}, {'😊': 'smiling face with smiling eyes'}, {'♥': 'heart suit'}, {'😒': 'unamused face'}, {'😉': 'winking face'}, {'😂': 'face with tears of joy'}, {'💚': 'green heart', '❤': 'red heart', '😊': 'smiling face with smiling eyes'}, {'☺️': 'smiling face', '😘': 'face blowing a kiss', '👌': 'OK hand', '👍': 'thumbs up', '😍': 'smiling face with heart-eyes', '❤️': 'red heart'}, {'❤': 'red heart', '😉': 'winking face'}, {'®': 'registered'}, {'😒': 'unamused face', '😳': 'flushed face'}, {'😂': 'face with tears of joy', '👌': 'OK hand'}, {'❤': 'red heart', '😉': 'winking face'}, {'😀': 'grinning face'}, {'❤️': 'red heart'}, {'🎵': 'musical note', '🎧': 'headphone', '🎼': 'musical score', '🎶': 'musical notes', '🎤': 'microphone'}, {'♥': 'heart suit'}, {'💕': 'two hearts', '🙈': 'see-no-evil monkey'}, {'💋': 'kiss mark'}, {'💜': 'purple heart', '✨': 'sparkles', '😊': 'smiling face with smiling eyes'}, {'😱': 'face screaming in fear', '❄️': 'snowflake'}, {'😃': 'grinning face with big eyes', '😍': 'smiling face with heart-eyes'}, {'♥': 'heart suit'}, {'🎉': 'party popper'}, {'✴': 'eight-pointed star'}, {'♥': 'heart suit'}, {'🇩🇪': 'flag: Germany', '💕': 'two hearts', '❤': 'red heart', '😘': 'face blowing a kiss'}, {'♥': 'heart suit'}, {'⛅': 'sun behind cloud', '💅': 'nail polish', '😨': 'fearful face', '☀️': 'sun'}, {'😂': 'face with tears of joy'}, {'♥': 'heart suit'}, {'🎶': 'musical notes'}, {'😁': 'beaming face with smiling eyes', '👍': 'thumbs up', '👌': 'OK hand'}, {'✴': 'eight-pointed star'}, {'❤': 'red heart'}, {'🙈': 'see-no-evil monkey'}, {'▶': 'play button'}, {'♥': 'heart suit'}, {'♥': 'heart suit'}, {'😂': 'face with tears of joy'}, {'♥': 'heart suit'}, {'🙏': 'folded hands'}, {'🙆': 'person gesturing OK'}, {'🙋': 'person raising hand'}, {'💗': 'growing heart'}, {'😍': 'smiling face with heart-eyes'}, {'®': 'registered'}, {'😂': 'face with tears of joy', '🙈': 'see-no-evil monkey'}, {'♥': 'heart suit'}, {'❤️': 'red heart', '😄': 'grinning face with smiling eyes'}, {'❤️': 'red heart'}, {'😂': 'face with tears of joy'}, {'😂': 'face with tears of joy', '💨': 'dashing away', '🚴': 'person biking'}, {'💖': 'sparkling heart', '🙌': 'raising hands', '😘': 'face blowing a kiss'}, {'👍': 'thumbs up', '😈': 'smiling face with horns'}, {'☺': 'smiling face'}, {'♥': 'heart suit'}, {'❤️': 'red heart'}, {'😩': 'weary face', '☺️': 'smiling face'}, {'♥': 'heart suit'}, {'♥': 'heart suit'}, {'😔': 'pensive face'}, {'❤': 'red heart'}, {'😘': 'face blowing a kiss'}, {'😔': 'pensive face'}, {'😠': 'angry face', '😳': 'flushed face'}, {'♥': 'heart suit'}, {'🌸': 'cherry blossom'}, {'😎': 'smiling face with sunglasses'}, {'♥': 'heart suit'}, {'😎': 'smiling face with sunglasses', '🙊': 'speak-no-evil monkey', '🙈': 'see-no-evil monkey'}, {'✨': 'sparkles'}, {'💁': 'person tipping hand'}, {'😄': 'grinning face with smiling eyes'}, {'🎶': 'musical notes'}, {'😍': 'smiling face with heart-eyes'}, {'😒': 'unamused face', '😂': 'face with tears of joy'}, {'♥': 'heart suit'}, {'😍': 'smiling face with heart-eyes', '🙏': 'folded hands'}, {'🎧': 'headphone'}, {'❤': 'red heart', '😭': 'loudly crying face', '🙏': 'folded hands'}, {'😩': 'weary face', '😋': 'face savoring food'}, {'😔': 'pensive face'}, {'♥': 'heart suit'}, {'❤': 'red heart', '♥': 'heart suit'}, {'😂': 'face with tears of joy', '🙆': 'person gesturing OK', '😳': 'flushed face'}, {'♥': 'heart suit'}, {'♥': 'heart suit'}, {'👸': 'princess', '😂': 'face with tears of joy', '🙈': 'see-no-evil monkey', '😜': 'winking face with tongue', '👩': 'woman', '💁': 'person tipping hand'}, {'💜': 'purple heart', '❤️': 'red heart', '😄': 'grinning face with smiling eyes'}, {'🐟': 'fish', '🌱': 'seedling'}, {'👭': 'women holding hands', '💖': 'sparkling heart', '✈️': 'airplane', '😭': 'loudly crying face'}, {'🎶': 'musical notes'}, {'♥': 'heart suit'}, {'👣': 'footprints'}, {'😭': 'loudly crying face'}, {'😂': 'face with tears of joy'}, {'😁': 'beaming face with smiling eyes'}, {'😏': 'smirking face', '😂': 'face with tears of joy', '😘': 'face blowing a kiss'}, {'❄': 'snowflake', '🎄': 'Christmas tree', '🎁': 'wrapped gift', '🎀': 'ribbon', '🎅': 'Santa Claus', '😃': 'grinning face with big eyes'}, {'😬': 'grimacing face', '❤': 'red heart'}, {'😖': 'confounded face'}, {'😄': 'grinning face with smiling eyes'}, {'😃': 'grinning face with big eyes'}, {'®': 'registered'}, {'😂': 'face with tears of joy', '👌': 'OK hand'}, {'🎶': 'musical notes'}, {'®': 'registered'}, {'😳': 'flushed face'}, {'😳': 'flushed face'}, {'♥': 'heart suit'}, {'☺': 'smiling face'}, {'😩': 'weary face', '😏': 'smirking face'}, {'✋': 'raised hand', '😭': 'loudly crying face', '😳': 'flushed face'}, {'💖': 'sparkling heart'}, {'😉': 'winking face'}, {'😃': 'grinning face with big eyes'}, {'☹': 'frowning face'}, {'😩': 'weary face', '😭': 'loudly crying face'}, {'😩': 'weary face', '😭': 'loudly crying face', '😍': 'smiling face with heart-eyes'}, {'💤': 'zzz', '😴': 'sleeping face'}, {'♥': 'heart suit'}, {'🎅': 'Santa Claus', '🎁': 'wrapped gift', '🎄': 'Christmas tree'}, {'🔥': 'fire', '💯': 'hundred points', '🚬': 'cigarette', '👌': 'OK hand'}, {'▶': 'play button'}, {'😒': 'unamused face'}, {'😏': 'smirking face'}, {'♥': 'heart suit'}, {'😧': 'anguished face', '😦': 'frowning face with open mouth'}, {'😂': 'face with tears of joy', '😳': 'flushed face', '😁': 'beaming face with smiling eyes'}, {'🚼': 'baby symbol', '😍': 'smiling face with heart-eyes', '☺': 'smiling face'}, {'👀': 'eyes', '🎧': 'headphone', '🕑': 'two o’clock', '🕐': 'one o’clock'}, {'😊': 'smiling face with smiling eyes'}, {'👏': 'clapping hands'}, {'♏': 'Scorpio'}, {'❤️': 'red heart'}, {'✋': 'raised hand'}, {'▪': 'black small square'}, {'❤️': 'red heart'}, {'👋': 'waving hand'}, {'❤': 'red heart', '😉': 'winking face'}, {'💖': 'sparkling heart'}, {'🙏': 'folded hands'}, {'😂': 'face with tears of joy'}, {'♥': 'heart suit'}, {'❤': 'red heart', '😉': 'winking face'}, {'🏰': 'castle'}, {'🙈': 'see-no-evil monkey', '😳': 'flushed face'}, {'®': 'registered'}, {'♥': 'heart suit'}, {'👯': 'people with bunny ears'}, {'🎄': 'Christmas tree'}, {'♥': 'heart suit'}, {'🇩🇪': 'flag: Germany'}, {'😩': 'weary face'}, {'😒': 'unamused face'}, {'❤': 'red heart'}, {'❤': 'red heart', '😉': 'winking face'}, {'🎅': 'Santa Claus', '😘': 'face blowing a kiss', '🎄': 'Christmas tree'}, {'😎': 'smiling face with sunglasses'}, {'😂': 'face with tears of joy'}, {'💖': 'sparkling heart'}, {'☺️': 'smiling face', '❄️': 'snowflake', '😍': 'smiling face with heart-eyes'}, {'😝': 'squinting face with tongue', '😍': 'smiling face with heart-eyes', '😊': 'smiling face with smiling eyes'}, {'❤': 'red heart', '😉': 'winking face'}, {'♥': 'heart suit'}, {'😭': 'loudly crying face', '😂': 'face with tears of joy'}, {'♥': 'heart suit'}, {'♥': 'heart suit'}, {'😏': 'smirking face'}, {'☺': 'smiling face', '✌': 'victory hand', '✊': 'raised fist'}, {'❤️': 'red heart', '✨': 'sparkles'}, {'❤️': 'red heart'}, {'♥': 'heart suit'}, {'❤': 'red heart', '😉': 'winking face'}, {'😩': 'weary face'}, {'♥': 'heart suit'}, {'♥': 'heart suit'}, {'😂': 'face with tears of joy', '😳': 'flushed face'}, {'😡': 'pouting face', '😤': 'face with steam from nose'}, {'😔': 'pensive face'}, {'💋': 'kiss mark', '❤️': 'red heart', '✊': 'raised fist'}, {'👎': 'thumbs down'}, {'♥': 'heart suit'}, {'❤': 'red heart', '😉': 'winking face'}, {'😊': 'smiling face with smiling eyes'}, {'♥': 'heart suit'}, {'♥': 'heart suit'}, {'💪': 'flexed biceps'}, {'♥': 'heart suit'}, {'♥': 'heart suit'}, {'🌏': 'globe showing Asia-Australia', '🌍': 'globe showing Europe-Africa', '✈️': 'airplane', '🌎': 'globe showing Americas'}, {'😭': 'loudly crying face'}, {'😂': 'face with tears of joy'}, {'😜': 'winking face with tongue'}, {'😍': 'smiling face with heart-eyes'}, {'😄': 'grinning face with smiling eyes'}, {'😄': 'grinning face with smiling eyes'}, {'😁': 'beaming face with smiling eyes'}, {'🍩': 'doughnut', '☕': 'hot beverage'}, {'😂': 'face with tears of joy'}, {'😭': 'loudly crying face', '🙈': 'see-no-evil monkey'}, {'😭': 'loudly crying face'}, {'❤': 'red heart', '😉': 'winking face'}, {'❤': 'red heart', '😉': 'winking face'}, {'🍻': 'clinking beer mugs', '🍸': 'cocktail glass', '🍷': 'wine glass'}, {'😘': 'face blowing a kiss'}, {'♥': 'heart suit'}, {'🍺': 'beer mug', '😁': 'beaming face with smiling eyes'}, {'❤': 'red heart'}, {'💖': 'sparkling heart'}, {'♥': 'heart suit'}, {'☀': 'sun', '☂': 'umbrella'}, {'😮': 'face with open mouth'}, {'💝': 'heart with ribbon'}, {'😉': 'winking face'}, {'😳': 'flushed face'}, {'❤️': 'red heart', '😚': 'kissing face with closed eyes'}, {'😒': 'unamused face', '👫': 'woman and man holding hands'}, {'😝': 'squinting face with tongue'}, {'😕': 'confused face'}, {'💕': 'two hearts'}, {'💕': 'two hearts'}, {'🌙': 'crescent moon'}, {'😭': 'loudly crying face'}, {'😏': 'smirking face', '💩': 'pile of poo'}, {'😂': 'face with tears of joy'}, {'😂': 'face with tears of joy', '😘': 'face blowing a kiss', '💁': 'person tipping hand'}, {'☺️': 'smiling face'}, {'😒': 'unamused face'}, {'❤': 'red heart', '😉': 'winking face'}, {'♥': 'heart suit'}, {'💙': 'blue heart'}, {'👋': 'waving hand', '👌': 'OK hand'}, {'👌': 'OK hand'}, {'✈': 'airplane', '❄': 'snowflake', '🎄': 'Christmas tree', '⛄': 'snowman without snow', '🎅': 'Santa Claus', '🍻': 'clinking beer mugs', '❤': 'red heart', '😊': 'smiling face with smiling eyes', '🍷': 'wine glass'}, {'😎': 'smiling face with sunglasses'}, {'💜': 'purple heart'}, {'😛': 'face with tongue', '🐉': 'dragon', '😳': 'flushed face'}, {'♥': 'heart suit'}, {'✋': 'raised hand'}, {'👏': 'clapping hands', '🙌': 'raising hands'}, {'♥': 'heart suit'}, {'👌': 'OK hand'}, {'📣': 'megaphone', '🎂': 'birthday cake', '💘': 'heart with arrow'}, {'♥': 'heart suit'}, {'😒': 'unamused face'}, {'😂': 'face with tears of joy'}, {'😯': 'hushed face'}, {'♥': 'heart suit'}, {'♥': 'heart suit'}, {'😀': 'grinning face'}, {'🐽': 'pig nose'}, {'😡': 'pouting face'}, {'😘': 'face blowing a kiss', '😊': 'smiling face with smiling eyes'}, {'🚢': 'ship'}, {'😀': 'grinning face'}, {'♥': 'heart suit'}, {'💖': 'sparkling heart'}, {'🎶': 'musical notes'}, {'😛': 'face with tongue'}, {'♥': 'heart suit'}, {'😬': 'grimacing face'}, {'♥': 'heart suit'}, {'😍': 'smiling face with heart-eyes'}, {'🐶': 'dog face'}, {'👏': 'clapping hands'}, {'❤': 'red heart', '😉': 'winking face'}, {'💗': 'growing heart', '🐶': 'dog face'}, {'😭': 'loudly crying face'}, {'♥': 'heart suit'}, {'✌️': 'victory hand', '🍻': 'clinking beer mugs', '😊': 'smiling face with smiling eyes'}, {'❤️': 'red heart'}, {'😍': 'smiling face with heart-eyes'}, {'😒': 'unamused face'}, {'😊': 'smiling face with smiling eyes'}, {'™': 'trade mark'}, {'😊': 'smiling face with smiling eyes'}, {'▶': 'play button'}, {'❤️': 'red heart'}, {'😂': 'face with tears of joy'}, {'🎄': 'Christmas tree'}, {'🎂': 'birthday cake', '🎉': 'party popper'}, {'♥': 'heart suit'}, {'✌️': 'victory hand', '🎉': 'party popper', '👌': 'OK hand', '😁': 'beaming face with smiling eyes'}, {'💋': 'kiss mark', '😙': 'kissing face with smiling eyes'}, {'😁': 'beaming face with smiling eyes'}, {'♥': 'heart suit'}, {'♥': 'heart suit'}, {'😂': 'face with tears of joy', '👌': 'OK hand'}, {'🎧': 'headphone'}, {'😏': 'smirking face', '😂': 'face with tears of joy'}, {'❤️': 'red heart'}, {'🎎': 'Japanese dolls', '🎌': 'crossed flags'}, {'😉': 'winking face'}, {'👍': 'thumbs up'}, {'🎶': 'musical notes'}, {'♥': 'heart suit'}, {'🍺': 'beer mug', '🍻': 'clinking beer mugs', '👍': 'thumbs up', '😊': 'smiling face with smiling eyes'}, {'🎶': 'musical notes'}, {'🎧': 'headphone', '📖': 'open book', '👻': 'ghost'}, {'📓': 'notebook', '✏': 'pencil', '🚙': 'sport utility vehicle'}, {'🐸': 'frog'}, {'♥': 'heart suit'}, {'☺️': 'smiling face'}, {'♥': 'heart suit'}, {'😏': 'smirking face', '😳': 'flushed face'}, {'▶': 'play button'}, {'♥': 'heart suit'}, {'😝': 'squinting face with tongue', '😂': 'face with tears of joy'}, {'❤': 'red heart', '😉': 'winking face'}, {'😉': 'winking face'}, {'😎': 'smiling face with sunglasses', '😁': 'beaming face with smiling eyes'}, {'😊': 'smiling face with smiling eyes', '💁': 'person tipping hand'}, {'💯': 'hundred points', '😂': 'face with tears of joy'}, {'🌃': 'night with stars', '✈️': 'airplane', '🌆': 'cityscape at dusk', '💰': 'money bag', '🎶': 'musical notes', '🎤': 'microphone'}, {'☮': 'peace symbol'}, {'😂': 'face with tears of joy', '🙈': 'see-no-evil monkey', '😳': 'flushed face'}, {'💚': 'green heart', '❤️': 'red heart'}, {'☺️': 'smiling face', '😘': 'face blowing a kiss'}, {'🙈': 'see-no-evil monkey', '😳': 'flushed face'}, {'🎋': 'tanabata tree', '👻': 'ghost', '🎊': 'confetti ball'}, {'😘': 'face blowing a kiss', '👏': 'clapping hands', '😉': 'winking face', '🎓': 'graduation cap', '💰': 'money bag', '💪': 'flexed biceps'}, {'💽': 'computer disk'}, {'🙌': 'raising hands'}, {'💥': 'collision', '🚀': 'rocket', '⛄': 'snowman without snow', '🎉': 'party popper', '🎈': 'balloon', '💣': 'bomb'}, {'♥': 'heart suit'}, {'😉': 'winking face'}, {'®': 'registered'}, {'😊': 'smiling face with smiling eyes'}, {'❤': 'red heart', '😉': 'winking face'}, {'😂': 'face with tears of joy'}, {'❤️': 'red heart'}, {'🌞': 'sun with face', '☕': 'hot beverage'}, {'😇': 'smiling face with halo', '🙈': 'see-no-evil monkey', '😏': 'smirking face', '🙏': 'folded hands', '😈': 'smiling face with horns'}, {'♥': 'heart suit'}, {'⭐': 'star'}, {'♥': 'heart suit'}, {'😍': 'smiling face with heart-eyes'}, {'😂': 'face with tears of joy', '💁': 'person tipping hand'}, {'😎': 'smiling face with sunglasses', '🍫': 'chocolate bar', '🍩': 'doughnut'}, {'♥': 'heart suit'}, {'😤': 'face with steam from nose'}, {'😂': 'face with tears of joy', '👌': 'OK hand'}, {'♥': 'heart suit'}, {'❤️': 'red heart'}, {'😍': 'smiling face with heart-eyes'}, {'😂': 'face with tears of joy', '👌': 'OK hand'}, {'💜': 'purple heart', '😊': 'smiling face with smiling eyes'}, {'😂': 'face with tears of joy'}, {'♥': 'heart suit'}, {'🙈': 'see-no-evil monkey'}, {'❄️': 'snowflake', '❄': 'snowflake'}, {'♥': 'heart suit'}, {'💖': 'sparkling heart'}, {'😔': 'pensive face'}, {'❤️': 'red heart', '💯': 'hundred points', '😘': 'face blowing a kiss', '✊': 'raised fist'}, {'💦': 'sweat droplets', '💧': 'droplet', '😎': 'smiling face with sunglasses', '🏄': 'person surfing', '🏊': 'person swimming'}, {'🎄': 'Christmas tree'}, {'☺️': 'smiling face', '✌️': 'victory hand', '😈': 'smiling face with horns', '😘': 'face blowing a kiss', '👌': 'OK hand', '👍': 'thumbs up', '😱': 'face screaming in fear', '😍': 'smiling face with heart-eyes', '😃': 'grinning face with big eyes', '❤️': 'red heart', '😳': 'flushed face', '😊': 'smiling face with smiling eyes'}, {'😏': 'smirking face', '😍': 'smiling face with heart-eyes', '👍': 'thumbs up'}, {'😉': 'winking face'}, {'😭': 'loudly crying face', '☺': 'smiling face'}, {'❤️': 'red heart'}, {'❤️': 'red heart'}, {'🇬🇧': 'flag: United Kingdom', '👌': 'OK hand'}, {'❤️': 'red heart', '😘': 'face blowing a kiss'}, {'😘': 'face blowing a kiss', '💁': 'person tipping hand'}, {'😐': 'neutral face'}, {'😰': 'anxious face with sweat'}, {'😰': 'anxious face with sweat', '➡️': 'right arrow', '🎓': 'graduation cap', '🇩🇪': 'flag: Germany'}, {'♥': 'heart suit'}, {'😃': 'grinning face with big eyes'}, {'😂': 'face with tears of joy'}, {'😢': 'crying face'}, {'👌': 'OK hand'}, {'♥': 'heart suit'}, {'❤️': 'red heart', '😶': 'face without mouth'}, {'♥': 'heart suit'}, {'♥': 'heart suit'}, {'🐒': 'monkey'}, {'❤': 'red heart', '😉': 'winking face'}, {'♥': 'heart suit'}, {'™': 'trade mark'}, {'🆒': 'COOL button'}, {'™': 'trade mark'}, {'♥': 'heart suit'}, {'😊': 'smiling face with smiling eyes'}, {'🍸': 'cocktail glass', '🎄': 'Christmas tree'}, {'💙': 'blue heart', '💖': 'sparkling heart', '💗': 'growing heart'}, {'♥': 'heart suit'}, {'😁': 'beaming face with smiling eyes'}, {'😂': 'face with tears of joy', '🙈': 'see-no-evil monkey'}, {'😍': 'smiling face with heart-eyes', '🙌': 'raising hands', '👌': 'OK hand'}, {'✨': 'sparkles'}, {'💙': 'blue heart', '💜': 'purple heart', '💛': 'yellow heart'}, {'🙌': 'raising hands'}, {'😭': 'loudly crying face', '👊': 'oncoming fist', '😂': 'face with tears of joy', '💅': 'nail polish'}, {'✌': 'victory hand'}, {'™': 'trade mark'}, {'😂': 'face with tears of joy', '😳': 'flushed face'}, {'®': 'registered'}, {'♥': 'heart suit'}, {'😉': 'winking face'}, {'♥': 'heart suit'}, {'❤️': 'red heart'}, {'♥': 'heart suit'}, {'😍': 'smiling face with heart-eyes', '👍': 'thumbs up'}, {'😉': 'winking face'}, {'😍': 'smiling face with heart-eyes', '😻': 'smiling cat with heart-eyes', '😘': 'face blowing a kiss', '👶': 'baby'}, {'🎁': 'wrapped gift', '🎄': 'Christmas tree'}, {'😔': 'pensive face'}, {'❤': 'red heart'}, {'❤': 'red heart'}, {'🎧': 'headphone'}, {'😊': 'smiling face with smiling eyes'}, {'👎': 'thumbs down', '😳': 'flushed face', '☕': 'hot beverage'}, {'👑': 'crown'}, {'👫': 'woman and man holding hands'}, {'♥': 'heart suit'}, {'😔': 'pensive face'}, {'♥': 'heart suit'}, {'❤️': 'red heart', '☀️': 'sun'}, {'✌️': 'victory hand'}, {'😱': 'face screaming in fear', '😂': 'face with tears of joy'}, {'😏': 'smirking face'}, {'👍': 'thumbs up', '🎉': 'party popper'}, {'✋': 'raised hand'}, {'☂': 'umbrella'}, {'😩': 'weary face', '😍': 'smiling face with heart-eyes'}, {'😂': 'face with tears of joy'}, {'⛄': 'snowman without snow', '🎉': 'party popper', '🎅': 'Santa Claus', '🎄': 'Christmas tree'}, {'✋': 'raised hand'}, {'😳': 'flushed face', '👌': 'OK hand'}, {'😂': 'face with tears of joy', '🙈': 'see-no-evil monkey', '💁': 'person tipping hand'}, {'🙈': 'see-no-evil monkey'}, {'⛪': 'church'}, {'💕': 'two hearts'}, {'♥': 'heart suit'}, {'♥': 'heart suit'}, {'™': 'trade mark'}, {'😑': 'expressionless face'}, {'♥': 'heart suit'}, {'👣': 'footprints'}, {'😂': 'face with tears of joy'}, {'😂': 'face with tears of joy', '💁': 'person tipping hand'}, {'♥': 'heart suit'}, {'♥': 'heart suit'}, {'😄': 'grinning face with smiling eyes'}, {'🎅': 'Santa Claus', '🙈': 'see-no-evil monkey'}, {'♥': 'heart suit'}, {'♥': 'heart suit'}, {'👸': 'princess', '🙆': 'person gesturing OK', '👩': 'woman'}, {'❤️': 'red heart'}, {'🎶': 'musical notes'}, {'❤️': 'red heart'}, {'🎧': 'headphone'}, {'🎅': 'Santa Claus', '😊': 'smiling face with smiling eyes'}, {'❤️': 'red heart', '😘': 'face blowing a kiss'}, {'😒': 'unamused face', '😐': 'neutral face'}, {'♥': 'heart suit'}, {'❤': 'red heart', '😉': 'winking face'}, {'☀️': 'sun'}, {'♥': 'heart suit'}, {'♥': 'heart suit'}, {'🎧': 'headphone'}, {'😍': 'smiling face with heart-eyes'}, {'😂': 'face with tears of joy'}, {'✌️': 'victory hand', '😉': 'winking face'}, {'💔': 'broken heart'}, {'♥': 'heart suit'}, {'😃': 'grinning face with big eyes'}, {'😠': 'angry face', '😥': 'sad but relieved face', '😖': 'confounded face', '😤': 'face with steam from nose', '😡': 'pouting face', '😫': 'tired face'}, {'😉': 'winking face'}, {'👋': 'waving hand', '😔': 'pensive face'}, {'❤': 'red heart', '😉': 'winking face'}, {'💜': 'purple heart'}, {'😭': 'loudly crying face'}, {'😒': 'unamused face'}, {'✌️': 'victory hand'}, {'😭': 'loudly crying face'}, {'🍹': 'tropical drink', '💦': 'sweat droplets', '👍': 'thumbs up', '💙': 'blue heart', '💋': 'kiss mark', '👄': 'mouth'}, {'🎄': 'Christmas tree'}, {'😑': 'expressionless face'}, {'🎶': 'musical notes'}, {'😂': 'face with tears of joy'}, {'🙈': 'see-no-evil monkey'}, {'☮': 'peace symbol'}, {'✌️': 'victory hand', '💯': 'hundred points', '👌': 'OK hand'}, {'▶': 'play button'}, {'👏': 'clapping hands', '🙌': 'raising hands'}, {'☺': 'smiling face'}, {'👏': 'clapping hands', '🙌': 'raising hands'}, {'👼': 'baby angel', '🇩🇪': 'flag: Germany', '👣': 'footprints', '🐣': 'hatching chick', '🙈': 'see-no-evil monkey', '❤️': 'red heart'}, {'❤': 'red heart', '😉': 'winking face'}, {'👀': 'eyes', '📚': 'books', '🐭': 'mouse face'}, {'♥': 'heart suit'}, {'😂': 'face with tears of joy', '👌': 'OK hand'}, {'👏': 'clapping hands', '🙌': 'raising hands', '🙏': 'folded hands'}, {'💕': 'two hearts', '🍩': 'doughnut', '☕': 'hot beverage'}, {'❤️': 'red heart'}, {'👏': 'clapping hands', '😂': 'face with tears of joy'}, {'♥': 'heart suit'}, {'❤️': 'red heart'}, {'😉': 'winking face', '😦': 'frowning face with open mouth'}, {'😒': 'unamused face', '😂': 'face with tears of joy', '😳': 'flushed face'}, {'😍': 'smiling face with heart-eyes'}, {'😜': 'winking face with tongue', '😂': 'face with tears of joy', '🙈': 'see-no-evil monkey'}, {'♥': 'heart suit'}, {'♥': 'heart suit'}, {'❤': 'red heart', '😉': 'winking face'}, {'💩': 'pile of poo'}, {'🍫': 'chocolate bar', '❄': 'snowflake', '🎄': 'Christmas tree', '⛄': 'snowman without snow', '🎁': 'wrapped gift', '🎅': 'Santa Claus', '😃': 'grinning face with big eyes', '🍪': 'cookie'}, {'😜': 'winking face with tongue'}, {'🎄': 'Christmas tree'}, {'❤️': 'red heart'}, {'❄️': 'snowflake'}, {'😷': 'face with medical mask', '😖': 'confounded face'}, {'♥': 'heart suit'}, {'👯': 'people with bunny ears'}, {'♥': 'heart suit'}, {'▶': 'play button'}, {'🍖': 'meat on bone', '🍗': 'poultry leg'}, {'😝': 'squinting face with tongue', '💁': 'person tipping hand'}, {'😒': 'unamused face'}, {'🙌': 'raising hands'}, {'☃': 'snowman', '☁': 'cloud', '☹': 'frowning face'}, {'❤️': 'red heart', '😘': 'face blowing a kiss'}, {'❤️': 'red heart', '😘': 'face blowing a kiss'}, {'👀': 'eyes'}, {'♥': 'heart suit'}, {'🎅': 'Santa Claus', '😂': 'face with tears of joy', '👌': 'OK hand'}, {'🙏': 'folded hands', '😭': 'loudly crying face', '🙆': 'person gesturing OK'}, {'💕': 'two hearts'}, {'❤': 'red heart', '😉': 'winking face'}, {'❤️': 'red heart', '♥': 'heart suit'}, {'♥': 'heart suit'}, {'☺️': 'smiling face'}, {'❤️': 'red heart'}, {'🙉': 'hear-no-evil monkey', '🙊': 'speak-no-evil monkey', '🙈': 'see-no-evil monkey'}, {'™': 'trade mark'}, {'🌚': 'new moon face'}, {'💅': 'nail polish'}, {'😝': 'squinting face with tongue', '😜': 'winking face with tongue', '😛': 'face with tongue'}, {'♥': 'heart suit'}, {'♥': 'heart suit'}, {'💖': 'sparkling heart'}, {'✨': 'sparkles'}, {'✋': 'raised hand'}, {'🙉': 'hear-no-evil monkey', '🙊': 'speak-no-evil monkey', '🙈': 'see-no-evil monkey'}, {'😺': 'grinning cat', '😁': 'beaming face with smiling eyes'}, {'♥️': 'heart suit'}, {'❤': 'red heart', '😉': 'winking face'}, {'🔫': 'water pistol', '😔': 'pensive face'}, {'😂': 'face with tears of joy'}, {'😆': 'grinning squinting face', '🙈': 'see-no-evil monkey', '🙊': 'speak-no-evil monkey'}, {'™': 'trade mark'}, {'😘': 'face blowing a kiss'}, {'😂': 'face with tears of joy', '👌': 'OK hand'}, {'😒': 'unamused face'}, {'©': 'copyright'}, {'☺': 'smiling face', '🙊': 'speak-no-evil monkey'}, {'😊': 'smiling face with smiling eyes'}, {'™': 'trade mark'}, {'😘': 'face blowing a kiss'}, {'❤': 'red heart', '😉': 'winking face'}, {'♥': 'heart suit'}, {'❤️': 'red heart'}, {'🙌': 'raising hands', '😊': 'smiling face with smiling eyes', '👌': 'OK hand'}, {'♥': 'heart suit'}, {'😂': 'face with tears of joy', '😳': 'flushed face'}, {'😑': 'expressionless face'}, {'♥': 'heart suit'}, {'♥': 'heart suit'}, {'💜': 'purple heart', '🎉': 'party popper'}, {'😭': 'loudly crying face'}, {'🎶': 'musical notes'}, {'😢': 'crying face'}, {'💟': 'heart decoration'}, {'®': 'registered'}, {'❤': 'red heart', '😉': 'winking face'}, {'😂': 'face with tears of joy'}, {'😎': 'smiling face with sunglasses'}, {'😳': 'flushed face'}, {'👏': 'clapping hands'}, {'💚': 'green heart'}, {'😃': 'grinning face with big eyes'}, {'❤': 'red heart', '😉': 'winking face'}, {'❤': 'red heart'}, {'🌞': 'sun with face', '☕': 'hot beverage'}, {'❤️': 'red heart', '⭐': 'star', '🎄': 'Christmas tree', '😄': 'grinning face with smiling eyes'}, {'💋': 'kiss mark'}, {'❤': 'red heart', '😉': 'winking face'}, {'♥': 'heart suit'}, {'😂': 'face with tears of joy', '🙈': 'see-no-evil monkey', '👌': 'OK hand'}, {'😒': 'unamused face'}, {'😏': 'smirking face', '🙆': 'person gesturing OK'}, {'💖': 'sparkling heart'}, {'♥': 'heart suit'}, {'♥': 'heart suit'}, {'🌾': 'sheaf of rice', '🙅': 'person gesturing NO', '❄️': 'snowflake', '😤': 'face with steam from nose'}, {'❤️': 'red heart', '😊': 'smiling face with smiling eyes'}, {'🎥': 'movie camera', '😭': 'loudly crying face'}, {'♥': 'heart suit'}, {'😏': 'smirking face', '🙌': 'raising hands', '👍': 'thumbs up', '👌': 'OK hand'}, {'👏': 'clapping hands', '😱': 'face screaming in fear', '😂': 'face with tears of joy'}, {'🚼': 'baby symbol', '😂': 'face with tears of joy', '👌': 'OK hand'}, {'🍀': 'four leaf clover', '🍆': 'eggplant'}, {'☹': 'frowning face'}, {'😉': 'winking face'}, {'📺': 'television'}, {'😩': 'weary face'}, {'❤': 'red heart', '😉': 'winking face'}, {'😋': 'face savoring food', '😝': 'squinting face with tongue', '👹': 'ogre'}, {'😤': 'face with steam from nose'}, {'🍹': 'tropical drink', '👯': 'people with bunny ears', '💄': 'lipstick', '💝': 'heart with ribbon', '🎉': 'party popper', '🎶': 'musical notes'}, {'✴': 'eight-pointed star'}, {'💜': 'purple heart'}, {'❤': 'red heart', '😉': 'winking face'}, {'◽': 'white medium-small square', '◾': 'black medium-small square'}, {'😉': 'winking face'}, {'😏': 'smirking face', '😂': 'face with tears of joy'}, {'🙌': 'raising hands', '💰': 'money bag'}, {'☺': 'smiling face', '♥': 'heart suit'}, {'😂': 'face with tears of joy', '🙈': 'see-no-evil monkey', '👌': 'OK hand'}, {'♥': 'heart suit'}, {'❤': 'red heart', '😉': 'winking face'}, {'👏': 'clapping hands'}, {'💕': 'two hearts', '💗': 'growing heart'}, {'❤️': 'red heart', '🎉': 'party popper'}, {'♥': 'heart suit'}, {'♥': 'heart suit'}, {'😍': 'smiling face with heart-eyes', '💘': 'heart with arrow'}, {'😘': 'face blowing a kiss'}, {'👌': 'OK hand'}, {'😬': 'grimacing face', '😉': 'winking face', '😄': 'grinning face with smiling eyes'}, {'💋': 'kiss mark'}, {'😂': 'face with tears of joy', '😳': 'flushed face'}, {'😒': 'unamused face', '✌️': 'victory hand'}, {'❤': 'red heart', '😉': 'winking face'}, {'❤️': 'red heart'}, {'🍓': 'strawberry', '👅': 'tongue'}, {'😑': 'expressionless face'}, {'💚': 'green heart', '💛': 'yellow heart', '💙': 'blue heart', '💜': 'purple heart', '❤️': 'red heart'}, {'🔥': 'fire', '💯': 'hundred points', '👌': 'OK hand'}, {'♥': 'heart suit'}, {'👍': 'thumbs up'}, {'😍': 'smiling face with heart-eyes'}, {'☺️': 'smiling face', '✌️': 'victory hand'}, {'❤️': 'red heart'}, {'💗': 'growing heart'}, {'♥': 'heart suit'}, {'🎆': 'fireworks', '❤️': 'red heart'}, {'♥': 'heart suit'}, {'😩': 'weary face'}, {'☺️': 'smiling face'}, {'😘': 'face blowing a kiss'}, {'😂': 'face with tears of joy'}, {'♥': 'heart suit'}, {'💖': 'sparkling heart'}, {'😑': 'expressionless face'}, {'©': 'copyright'}, {'♥': 'heart suit'}, {'®': 'registered'}, {'💐': 'bouquet', '🎁': 'wrapped gift', '🎉': 'party popper'}, {'❤': 'red heart', '😉': 'winking face'}, {'😂': 'face with tears of joy'}, {'❤': 'red heart', '😉': 'winking face'}, {'😉': 'winking face'}, {'💖': 'sparkling heart'}, {'♥': 'heart suit'}, {'👋': 'waving hand'}, {'👍': 'thumbs up'}, {'😜': 'winking face with tongue', '👍': 'thumbs up'}, {'😂': 'face with tears of joy', '🙆': 'person gesturing OK', '😳': 'flushed face'}, {'😜': 'winking face with tongue'}, {'🎉': 'party popper', '🎁': 'wrapped gift', '🎄': 'Christmas tree'}, {'©': 'copyright'}, {'✌️': 'victory hand'}, {'♥': 'heart suit'}, {'❤️': 'red heart'}, {'❤': 'red heart'}, {'❤': 'red heart'}, {'🚗': 'automobile'}, {'😂': 'face with tears of joy', '🙈': 'see-no-evil monkey', '😳': 'flushed face'}, {'👏': 'clapping hands', '😂': 'face with tears of joy'}, {'👍': 'thumbs up', '👌': 'OK hand'}, {'😌': 'relieved face'}, {'😒': 'unamused face'}, {'😭': 'loudly crying face'}, {'👌': 'OK hand'}, {'😊': 'smiling face with smiling eyes'}, {'😭': 'loudly crying face', '😥': 'sad but relieved face'}, {'♥': 'heart suit'}, {'♥': 'heart suit'}, {'💙': 'blue heart', '💜': 'purple heart', '🎧': 'headphone', '💛': 'yellow heart'}, {'💛': 'yellow heart'}, {'⁉️': 'exclamation question mark'}, {'❤': 'red heart', '😉': 'winking face'}, {'😂': 'face with tears of joy', '😖': 'confounded face'}, {'😘': 'face blowing a kiss', '😄': 'grinning face with smiling eyes'}, {'🎀': 'ribbon', '😇': 'smiling face with halo', '💃': 'woman dancing', '👌': 'OK hand'}, {'♥': 'heart suit'}, {'🎧': 'headphone'}, {'😩': 'weary face', '☺️': 'smiling face', '😭': 'loudly crying face', '😘': 'face blowing a kiss'}, {'😓': 'downcast face with sweat'}, {'♥': 'heart suit'}, {'💖': 'sparkling heart'}, {'😍': 'smiling face with heart-eyes'}, {'🐴': 'horse face', '😂': 'face with tears of joy'}, {'♥': 'heart suit'}, {'💋': 'kiss mark'}, {'🇩🇪': 'flag: Germany', '🎄': 'Christmas tree', '🏡': 'house with garden', '🔅': 'dim button', '🔆': 'bright button', '🚙': 'sport utility vehicle'}, {'🌠': 'shooting star', '😇': 'smiling face with halo', '❤️': 'red heart'}, {'☹': 'frowning face'}, {'👏': 'clapping hands'}, {'♥': 'heart suit'}, {'🎧': 'headphone'}, {'♥': 'heart suit'}, {'😘': 'face blowing a kiss'}, {'😡': 'pouting face', '☺': 'smiling face'}, {'😔': 'pensive face'}, {'😉': 'winking face'}, {'🎨': 'artist palette', '🎮': 'video game'}, {'❤': 'red heart', '😉': 'winking face'}, {'😉': 'winking face'}, {'😔': 'pensive face'}, {'©': 'copyright'}, {'❤️': 'red heart', '🙊': 'speak-no-evil monkey', '😍': 'smiling face with heart-eyes'}, {'🎉': 'party popper'}, {'😡': 'pouting face'}, {'😍': 'smiling face with heart-eyes'}, {'♥': 'heart suit'}, {'❤️': 'red heart', '✨': 'sparkles'}, {'❤': 'red heart', '😉': 'winking face'}, {'♥': 'heart suit'}, {'❤️': 'red heart'}, {'🎧': 'headphone'}, {'♥': 'heart suit'}, {'⛄': 'snowman without snow', '❄️': 'snowflake'}, {'❤': 'red heart', '😉': 'winking face'}, {'😃': 'grinning face with big eyes'}, {'♥': 'heart suit'}, {'😳': 'flushed face', '😷': 'face with medical mask'}, {'😓': 'downcast face with sweat'}, {'🎶': 'musical notes'}, {'♥': 'heart suit'}, {'🍀': 'four leaf clover'}, {'❤': 'red heart', '😉': 'winking face'}, {'♥': 'heart suit'}, {'♥': 'heart suit'}, {'☁': 'cloud'}, {'💕': 'two hearts', '🚺': 'women’s room'}, {'🌚': 'new moon face', '❤️': 'red heart'}, {'💗': 'growing heart'}, {'😍': 'smiling face with heart-eyes'}, {'❤': 'red heart'}, {'❤': 'red heart', '😉': 'winking face'}, {'❤': 'red heart', '😉': 'winking face'}, {'😑': 'expressionless face'}, {'®': 'registered'}, {'™': 'trade mark'}, {'❤': 'red heart', '😉': 'winking face'}, {'♥': 'heart suit'}, {'😳': 'flushed face', '♥': 'heart suit'}, {'😢': 'crying face'}, {'❤': 'red heart', '😉': 'winking face'}, {'😏': 'smirking face', '😂': 'face with tears of joy'}, {'♥': 'heart suit'}, {'🎶': 'musical notes'}, {'😏': 'smirking face'}, {'😡': 'pouting face', '🙆': 'person gesturing OK'}, {'🙌': 'raising hands', '👌': 'OK hand'}, {'💖': 'sparkling heart'}, {'✌️': 'victory hand'}, {'💖': 'sparkling heart'}, {'🎅': 'Santa Claus', '🎄': 'Christmas tree', '🎉': 'party popper'}, {'♥': 'heart suit'}, {'💨': 'dashing away'}, {'♥': 'heart suit'}, {'❤': 'red heart', '😉': 'winking face'}, {'👊': 'oncoming fist'}, {'😍': 'smiling face with heart-eyes'}, {'😂': 'face with tears of joy'}, {'♥': 'heart suit'}, {'❤️': 'red heart'}, {'❤': 'red heart', '😔': 'pensive face', '😚': 'kissing face with closed eyes'}, {'♥': 'heart suit'}, {'👏': 'clapping hands', '💋': 'kiss mark', '😊': 'smiling face with smiling eyes'}, {'♥': 'heart suit'}, {'😏': 'smirking face', '🙌': 'raising hands'}, {'😂': 'face with tears of joy', '🙆': 'person gesturing OK'}, {'💕': 'two hearts'}, {'😃': 'grinning face with big eyes'}, {'😑': 'expressionless face'}, {'©': 'copyright'}, {'😍': 'smiling face with heart-eyes'}, {'™': 'trade mark'}, {'👪': 'family', '🌲': 'evergreen tree', '♥️': 'heart suit'}, {'🔫': 'water pistol'}, {'😍': 'smiling face with heart-eyes'}, {'😂': 'face with tears of joy', '👌': 'OK hand'}, {'🎊': 'confetti ball', '🎉': 'party popper'}, {'💋': 'kiss mark', '❤️': 'red heart', '👍': 'thumbs up', '♥️': 'heart suit'}, {'😒': 'unamused face', '😭': 'loudly crying face'}, {'😏': 'smirking face', '💁': 'person tipping hand'}, {'❤️': 'red heart', '😍': 'smiling face with heart-eyes'}, {'❤': 'red heart', '😉': 'winking face'}, {'😃': 'grinning face with big eyes'}, {'😂': 'face with tears of joy'}, {'😂': 'face with tears of joy'}, {'☹': 'frowning face'}, {'😩': 'weary face', '🔫': 'water pistol'}, {'👌': 'OK hand'}, {'🙅': 'person gesturing NO'}, {'☺️': 'smiling face'}, {'😩': 'weary face', '😡': 'pouting face', '✋': 'raised hand'}, {'♥': 'heart suit'}, {'☺': 'smiling face'}, {'❤': 'red heart', '😉': 'winking face'}, {'❤': 'red heart', '😉': 'winking face'}, {'🎁': 'wrapped gift', '🎄': 'Christmas tree', '⛄': 'snowman without snow', '🎅': 'Santa Claus', '❄️': 'snowflake'}, {'✨': 'sparkles'}, {'🎄': 'Christmas tree'}, {'☺️': 'smiling face', '💕': 'two hearts', '😘': 'face blowing a kiss'}, {'🐶': 'dog face'}, {'😫': 'tired face', '🐼': 'panda'}, {'🙏': 'folded hands'}, {'❤️': 'red heart', '😘': 'face blowing a kiss'}, {'❤': 'red heart', '😉': 'winking face'}, {'😜': 'winking face with tongue', '😄': 'grinning face with smiling eyes'}, {'©': 'copyright'}, {'💤': 'zzz'}, {'♥': 'heart suit'}, {'🎅': 'Santa Claus'}, {'😊': 'smiling face with smiling eyes'}, {'♥': 'heart suit'}, {'⛄': 'snowman without snow'}, {'🙆': 'person gesturing OK', '🙈': 'see-no-evil monkey'}, {'♥': 'heart suit'}, {'💩': 'pile of poo'}, {'♥': 'heart suit'}, {'☺': 'smiling face'}, {'😂': 'face with tears of joy', '😳': 'flushed face', '👌': 'OK hand'}, {'❤': 'red heart', '😉': 'winking face'}, {'❤': 'red heart', '😉': 'winking face'}, {'🍀': 'four leaf clover'}, {'🍳': 'cooking', '🙊': 'speak-no-evil monkey'}, {'❤️': 'red heart'}, {'🌌': 'milky way'}, {'😢': 'crying face'}, {'🎶': 'musical notes'}, {'❤️': 'red heart', '🐧': 'penguin'}, {'🙌': 'raising hands'}, {'😴': 'sleeping face', '🆘': 'SOS button', '👍': 'thumbs up'}, {'😂': 'face with tears of joy'}, {'♥': 'heart suit'}, {'©': 'copyright'}, {'👸': 'princess'}, {'☺️': 'smiling face', '💋': 'kiss mark', '💙': 'blue heart', '😘': 'face blowing a kiss'}, {'❤': 'red heart', '😉': 'winking face'}, {'🏃': 'person running', '💃': 'woman dancing'}, {'❤️': 'red heart'}, {'🚢': 'ship', '😄': 'grinning face with smiling eyes'}, {'🎁': 'wrapped gift', '🎄': 'Christmas tree', '🏰': 'castle', '🎼': 'musical score', '🎶': 'musical notes'}, {'🎧': 'headphone'}, {'🔄': 'counterclockwise arrows button'}, {'💁': 'person tipping hand'}, {'❤️': 'red heart'}, {'❤': 'red heart', '😉': 'winking face'}, {'♥': 'heart suit'}, {'👏': 'clapping hands', '👑': 'crown'}, {'😭': 'loudly crying face', '💸': 'money with wings'}, {'😂': 'face with tears of joy'}, {'♥': 'heart suit'}, {'👊': 'oncoming fist'}, {'♥': 'heart suit'}, {'😅': 'grinning face with sweat', '😛': 'face with tongue', '😘': 'face blowing a kiss', '😋': 'face savoring food', '😉': 'winking face', '😍': 'smiling face with heart-eyes', '😄': 'grinning face with smiling eyes', '😏': 'smirking face', '😳': 'flushed face'}, {'💯': 'hundred points', '✊': 'raised fist'}, {'😂': 'face with tears of joy'}, {'🙈': 'see-no-evil monkey'}, {'😘': 'face blowing a kiss'}, {'♥': 'heart suit'}, {'🌸': 'cherry blossom', '☕': 'hot beverage'}, {'😒': 'unamused face', '😉': 'winking face', '👌': 'OK hand'}, {'😂': 'face with tears of joy'}, {'®': 'registered'}, {'☝️': 'index pointing up'}, {'💔': 'broken heart'}, {'☺️': 'smiling face', '👍': 'thumbs up'}, {'🚓': 'police car', '🚨': 'police car light'}, {'❤': 'red heart'}, {'😄': 'grinning face with smiling eyes'}, {'😂': 'face with tears of joy', '👌': 'OK hand'}, {'❤️': 'red heart'}, {'🎅': 'Santa Claus', '🎄': 'Christmas tree'}, {'💋': 'kiss mark', '❤': 'red heart'}, {'😍': 'smiling face with heart-eyes'}, {'☺': 'smiling face', '☹': 'frowning face'}, {'😂': 'face with tears of joy'}, {'❤️': 'red heart'}, {'™': 'trade mark', '♥': 'heart suit'}, {'😏': 'smirking face'}, {'🎁': 'wrapped gift', '🎅': 'Santa Claus', '📄': 'page facing up', '📨': 'incoming envelope', '☺': 'smiling face', '❄️': 'snowflake'}, {'❤': 'red heart', '😉': 'winking face'}, {'❤️': 'red heart'}, {'💕': 'two hearts'}, {'😂': 'face with tears of joy', '👌': 'OK hand'}, {'😝': 'squinting face with tongue'}, {'♥': 'heart suit'}, {'♥': 'heart suit'}, {'❤': 'red heart'}, {'😍': 'smiling face with heart-eyes', '😘': 'face blowing a kiss'}, {'♥': 'heart suit'}, {'💜': 'purple heart', '😍': 'smiling face with heart-eyes'}, {'👸': 'princess', '👑': 'crown', '👩': 'woman', '💛': 'yellow heart'}, {'™': 'trade mark'}, {'🔪': 'kitchen knife', '📀': 'dvd', '🍟': 'french fries', '🎥': 'movie camera', '🍔': 'hamburger', '😊': 'smiling face with smiling eyes'}, {'🙌': 'raising hands'}, {'😃': 'grinning face with big eyes', '👍': 'thumbs up', '😄': 'grinning face with smiling eyes'}, {'❤': 'red heart', '😉': 'winking face'}, {'😚': 'kissing face with closed eyes'}, {'❤️': 'red heart'}, {'💖': 'sparkling heart'}, {'♥': 'heart suit'}, {'❤': 'red heart', '😍': 'smiling face with heart-eyes', '😊': 'smiling face with smiling eyes'}, {'❤️': 'red heart'}, {'😭': 'loudly crying face'}, {'😳': 'flushed face'}, {'™': 'trade mark'}, {'🎄': 'Christmas tree', '👍': 'thumbs up', '🎅': 'Santa Claus', '😍': 'smiling face with heart-eyes', '❤️': 'red heart'}, {'😝': 'squinting face with tongue', '🍻': 'clinking beer mugs', '🍺': 'beer mug', '😜': 'winking face with tongue', '👊': 'oncoming fist', '😊': 'smiling face with smiling eyes'}, {'🍍': 'pineapple', '🍈': 'melon', '🍉': 'watermelon'}, {'😒': 'unamused face'}, {'😘': 'face blowing a kiss', '👭': 'women holding hands', '💋': 'kiss mark', '❤': 'red heart', '👬': 'men holding hands', '💞': 'revolving hearts'}, {'🍊': 'tangerine', '🏈': 'american football', '😂': 'face with tears of joy', '🍻': 'clinking beer mugs'}, {'❤': 'red heart', '😉': 'winking face'}, {'😏': 'smirking face', '😂': 'face with tears of joy', '👌': 'OK hand'}, {'😒': 'unamused face', '😳': 'flushed face'}, {'😝': 'squinting face with tongue'}, {'🙆': 'person gesturing OK'}, {'💁': 'person tipping hand', '💃': 'woman dancing', '🎉': 'party popper'}, {'❤': 'red heart', '😉': 'winking face'}, {'♥': 'heart suit'}, {'❤': 'red heart', '😉': 'winking face'}, {'✌️': 'victory hand', '👍': 'thumbs up'}, {'😔': 'pensive face'}, {'👹': 'ogre', '😄': 'grinning face with smiling eyes'}, {'😡': 'pouting face'}, {'💋': 'kiss mark'}, {'😩': 'weary face'}, {'♥': 'heart suit'}, {'😡': 'pouting face'}, {'👏': 'clapping hands', '😁': 'beaming face with smiling eyes'}, {'😏': 'smirking face'}, {'✨': 'sparkles'}, {'♥': 'heart suit'}, {'🍷': 'wine glass', '🎉': 'party popper', '😘': 'face blowing a kiss', '👌': 'OK hand'}, {'😭': 'loudly crying face', '😷': 'face with medical mask', '😢': 'crying face', '😪': 'sleepy face', '👂': 'ear', '👶': 'baby'}, {'💁': 'person tipping hand'}, {'®': 'registered'}, {'❤️': 'red heart'}, {'💖': 'sparkling heart', '😘': 'face blowing a kiss'}, {'😭': 'loudly crying face', '✏': 'pencil'}, {'♥': 'heart suit'}, {'♥': 'heart suit'}, {'💕': 'two hearts'}, {'❤': 'red heart', '😉': 'winking face'}, {'♥': 'heart suit'}, {'😓': 'downcast face with sweat', '😳': 'flushed face', '😥': 'sad but relieved face'}, {'😮': 'face with open mouth', '🎶': 'musical notes', '🎵': 'musical note'}, {'☹': 'frowning face'}, {'©': 'copyright'}, {'😂': 'face with tears of joy'}, {'♥': 'heart suit'}, {'🔥': 'fire'}, {'😍': 'smiling face with heart-eyes', '👌': 'OK hand'}, {'♥': 'heart suit'}, {'😝': 'squinting face with tongue'}, {'😂': 'face with tears of joy'}, {'🙈': 'see-no-evil monkey', '😳': 'flushed face'}, {'😒': 'unamused face', '😆': 'grinning squinting face'}, {'™': 'trade mark'}, {'🎅': 'Santa Claus'}, {'🙊': 'speak-no-evil monkey'}, {'☺': 'smiling face', '☹': 'frowning face'}, {'♥': 'heart suit'}, {'😟': 'worried face'}, {'♥': 'heart suit'}, {'♥': 'heart suit'}, {'♥': 'heart suit'}, {'♥': 'heart suit'}, {'♥': 'heart suit'}, {'👏': 'clapping hands', '😂': 'face with tears of joy'}, {'♥': 'heart suit'}, {'👍': 'thumbs up'}, {'▶': 'play button'}, {'😳': 'flushed face'}, {'❤': 'red heart', '😉': 'winking face'}, {'❤': 'red heart', '😉': 'winking face'}, {'♥': 'heart suit'}, {'😒': 'unamused face'}, {'😳': 'flushed face'}, {'☺️': 'smiling face', '💕': 'two hearts'}, {'😂': 'face with tears of joy', '😘': 'face blowing a kiss'}, {'☺': 'smiling face'}, {'😔': 'pensive face'}, {'💋': 'kiss mark'}, {'😂': 'face with tears of joy', '😁': 'beaming face with smiling eyes'}, {'❤': 'red heart', '😉': 'winking face'}, {'❄️': 'snowflake'}, {'♥': 'heart suit'}, {'👯': 'people with bunny ears', '😘': 'face blowing a kiss'}, {'❤️': 'red heart'}, {'❤️': 'red heart', '😂': 'face with tears of joy'}, {'♥': 'heart suit'}, {'❤': 'red heart', '😉': 'winking face'}, {'😉': 'winking face', '🇮🇹': 'flag: Italy'}, {'👣': 'footprints'}, {'😆': 'grinning squinting face'}, {'🙌': 'raising hands', '😁': 'beaming face with smiling eyes'}, {'♥': 'heart suit'}, {'❤': 'red heart', '😉': 'winking face'}, {'®': 'registered'}, {'♥': 'heart suit'}, {'☺️': 'smiling face'}, {'😭': 'loudly crying face'}, {'🔞': 'no one under eighteen'}, {'☺️': 'smiling face', '✌️': 'victory hand', '👍': 'thumbs up'}, {'😒': 'unamused face', '👊': 'oncoming fist'}, {'❤️': 'red heart'}, {'😂': 'face with tears of joy'}, {'🎅': 'Santa Claus'}, {'✋': 'raised hand', '😂': 'face with tears of joy', '👌': 'OK hand'}, {'😂': 'face with tears of joy', '😳': 'flushed face'}, {'♥': 'heart suit'}, {'😷': 'face with medical mask'}, {'😂': 'face with tears of joy'}, {'😂': 'face with tears of joy', '👌': 'OK hand'}, {'💪': 'flexed biceps', '😊': 'smiling face with smiling eyes'}, {'😂': 'face with tears of joy'}, {'😒': 'unamused face'}, {'🎧': 'headphone'}, {'😌': 'relieved face'}, {'™': 'trade mark'}, {'👀': 'eyes', '😭': 'loudly crying face', '😂': 'face with tears of joy'}, {'👍': 'thumbs up', '👌': 'OK hand'}, {'😘': 'face blowing a kiss'}, {'🙅': 'person gesturing NO'}, {'👳': 'person wearing turban', '📱': 'mobile phone'}, {'😭': 'loudly crying face', '🎁': 'wrapped gift', '⛄': 'snowman without snow', '🎅': 'Santa Claus', '😂': 'face with tears of joy'}, {'😏': 'smirking face'}, {'🙅': 'person gesturing NO', '😳': 'flushed face'}, {'❤': 'red heart', '😉': 'winking face'}, {'❤️': 'red heart'}, {'😽': 'kissing cat', '💛': 'yellow heart', '🎈': 'balloon', '❤️': 'red heart', '😻': 'smiling cat with heart-eyes'}, {'☁': 'cloud', '🚢': 'ship', '🌊': 'water wave', '⛅': 'sun behind cloud', '🌁': 'foggy'}, {'♥': 'heart suit'}, {'☺': 'smiling face'}, {'❤️': 'red heart'}, {'☺': 'smiling face'}, {'♥': 'heart suit'}, {'✖': 'multiply'}, {'😏': 'smirking face', '🎶': 'musical notes'}, {'❤️': 'red heart'}, {'😘': 'face blowing a kiss'}, {'©': 'copyright'}, {'😂': 'face with tears of joy'}, {'🙈': 'see-no-evil monkey'}, {'😊': 'smiling face with smiling eyes'}, {'😓': 'downcast face with sweat'}, {'♥': 'heart suit'}, {'❤️': 'red heart', '🐧': 'penguin'}, {'🎅': 'Santa Claus', '🎄': 'Christmas tree'}, {'🎤': 'microphone'}, {'♥': 'heart suit'}, {'😉': 'winking face', '😊': 'smiling face with smiling eyes'}, {'🙅': 'person gesturing NO'}, {'🎁': 'wrapped gift', '🎄': 'Christmas tree', '🎉': 'party popper', '🎅': 'Santa Claus', '🔮': 'crystal ball', '🎊': 'confetti ball'}, {'❤': 'red heart', '😉': 'winking face'}, {'😭': 'loudly crying face'}, {'😭': 'loudly crying face'}, {'💂': 'guard'}, {'🌃': 'night with stars', '👫': 'woman and man holding hands', '💞': 'revolving hearts'}, {'✌️': 'victory hand', '❄️': 'snowflake', '😍': 'smiling face with heart-eyes', '👌': 'OK hand'}, {'♥': 'heart suit'}, {'☹': 'frowning face'}, {'😊': 'smiling face with smiling eyes'}, {'😊': 'smiling face with smiling eyes', '🎄': 'Christmas tree'}, {'♥': 'heart suit'}, {'❤️': 'red heart', '😇': 'smiling face with halo'}, {'👯': 'people with bunny ears', '🎓': 'graduation cap', '💁': 'person tipping hand'}, {'❤': 'red heart', '😉': 'winking face'}, {'♥': 'heart suit'}, {'😌': 'relieved face'}, {'❤': 'red heart'}, {'♥': 'heart suit'}, {'😏': 'smirking face', '😂': 'face with tears of joy', '😳': 'flushed face'}, {'😚': 'kissing face with closed eyes'}, {'☕': 'hot beverage'}, {'✔️': 'check mark'}, {'😨': 'fearful face'}, {'😭': 'loudly crying face'}, {'♥': 'heart suit'}, {'❤': 'red heart', '👫': 'woman and man holding hands', '🎈': 'balloon'}, {'🙈': 'see-no-evil monkey'}, {'❤️': 'red heart'}, {'🌌': 'milky way', '⭐': 'star', '🏰': 'castle'}, {'❤': 'red heart', '😉': 'winking face'}, {'♥': 'heart suit'}, {'♥': 'heart suit'}, {'😂': 'face with tears of joy'}, {'©': 'copyright'}, {'✋': 'raised hand', '😔': 'pensive face'}, {'♥': 'heart suit'}, {'💕': 'two hearts'}, {'❤': 'red heart', '😉': 'winking face'}, {'♥': 'heart suit'}, {'😂': 'face with tears of joy'}, {'✌️': 'victory hand', '😎': 'smiling face with sunglasses', '😫': 'tired face'}, {'🙌': 'raising hands', '💁': 'person tipping hand'}, {'💗': 'growing heart', '😭': 'loudly crying face'}, {'✈️': 'airplane'}, {'😂': 'face with tears of joy', '🙏': 'folded hands'}, {'😂': 'face with tears of joy'}, {'💕': 'two hearts', '🙈': 'see-no-evil monkey', '😄': 'grinning face with smiling eyes'}, {'😳': 'flushed face'}, {'❤️': 'red heart'}, {'💁': 'person tipping hand'}, {'😂': 'face with tears of joy'}, {'❤': 'red heart', '😉': 'winking face'}, {'💀': 'skull'}, {'♥': 'heart suit'}, {'😭': 'loudly crying face'}, {'♥': 'heart suit'}, {'🎿': 'skis', '🏂': 'snowboarder', '❄': 'snowflake'}, {'♥': 'heart suit'}, {'💕': 'two hearts'}, {'🐷': 'pig face', '💕': 'two hearts'}, {'🎾': 'tennis', '😂': 'face with tears of joy', '🐶': 'dog face'}, {'🎄': 'Christmas tree'}, {'❤': 'red heart', '😉': 'winking face'}, {'😝': 'squinting face with tongue', '👋': 'waving hand'}, {'🙌': 'raising hands'}, {'😏': 'smirking face', '😴': 'sleeping face', '😱': 'face screaming in fear', '😩': 'weary face'}, {'😒': 'unamused face'}, {'😔': 'pensive face'}, {'▶': 'play button'}, {'☹': 'frowning face'}, {'💖': 'sparkling heart', '👰': 'person with veil', '🙏': 'folded hands', '💏': 'kiss'}, {'🙍': 'person frowning'}, {'♥': 'heart suit'}, {'❤': 'red heart', '😉': 'winking face'}, {'®': 'registered'}, {'💁': 'person tipping hand'}, {'♥': 'heart suit'}, {'♥': 'heart suit'}, {'®': 'registered'}, {'😳': 'flushed face', '😂': 'face with tears of joy', '🙈': 'see-no-evil monkey'}, {'😎': 'smiling face with sunglasses'}, {'♥': 'heart suit'}, {'♥': 'heart suit'}, {'😘': 'face blowing a kiss', '😁': 'beaming face with smiling eyes', '🌻': 'sunflower', '🌞': 'sun with face', '💞': 'revolving hearts'}, {'😆': 'grinning squinting face'}, {'😆': 'grinning squinting face', '😁': 'beaming face with smiling eyes', '😉': 'winking face', '👍': 'thumbs up', '🎈': 'balloon', '😜': 'winking face with tongue'}, {'😂': 'face with tears of joy'}, {'😉': 'winking face'}, {'👌': 'OK hand'}, {'❤️': 'red heart', '😚': 'kissing face with closed eyes'}, {'😍': 'smiling face with heart-eyes'}, {'😂': 'face with tears of joy'}, {'😋': 'face savoring food'}, {'❤️': 'red heart'}, {'😂': 'face with tears of joy', '🙈': 'see-no-evil monkey'}, {'🎀': 'ribbon', '😍': 'smiling face with heart-eyes'}, {'♥': 'heart suit'}, {'❤': 'red heart', '😉': 'winking face'}, {'😂': 'face with tears of joy', '👌': 'OK hand'}, {'♥': 'heart suit'}, {'♥': 'heart suit'}, {'😂': 'face with tears of joy'}, {'😍': 'smiling face with heart-eyes'}, {'🐇': 'rabbit'}, {'😂': 'face with tears of joy'}, {'♥': 'heart suit'}, {'😭': 'loudly crying face', '🙌': 'raising hands'}, {'😘': 'face blowing a kiss'}, {'😂': 'face with tears of joy'}, {'♥': 'heart suit'}, {'😏': 'smirking face'}, {'😂': 'face with tears of joy'}, {'🍀': 'four leaf clover'}, {'😂': 'face with tears of joy'}, {'❤': 'red heart', '😉': 'winking face'}, {'♥': 'heart suit'}, {'👼': 'baby angel', '💦': 'sweat droplets', '🙊': 'speak-no-evil monkey', '😇': 'smiling face with halo', '🙉': 'hear-no-evil monkey', '🙈': 'see-no-evil monkey'}, {'😳': 'flushed face'}, {'♥': 'heart suit'}, {'♥': 'heart suit'}, {'😂': 'face with tears of joy', '😍': 'smiling face with heart-eyes', '✊': 'raised fist'}, {'🍩': 'doughnut', '☕': 'hot beverage'}, {'♥': 'heart suit'}, {'😩': 'weary face'}, {'✌️': 'victory hand'}, {'♥': 'heart suit'}, {'♥': 'heart suit'}, {'♥': 'heart suit'}, {'🎅': 'Santa Claus', '⛄': 'snowman without snow', '🎄': 'Christmas tree'}, {'💕': 'two hearts', '😘': 'face blowing a kiss'}, {'👏': 'clapping hands', '🙏': 'folded hands', '🙌': 'raising hands'}, {'♥': 'heart suit'}, {'😶': 'face without mouth', '😿': 'crying cat'}, {'😳': 'flushed face'}, {'☹': 'frowning face'}, {'❤️': 'red heart'}, {'🎁': 'wrapped gift'}, {'🎶': 'musical notes', '🎸': 'guitar', '❤': 'red heart', '😍': 'smiling face with heart-eyes'}, {'♥': 'heart suit'}, {'💋': 'kiss mark', '💞': 'revolving hearts'}, {'😒': 'unamused face', '💔': 'broken heart'}, {'💖': 'sparkling heart'}, {'😉': 'winking face'}, {'❗': 'red exclamation mark', '〰': 'wavy dash'}, {'♥': 'heart suit'}, {'👌': 'OK hand'}, {'😂': 'face with tears of joy'}, {'❤': 'red heart', '😉': 'winking face'}, {'❤': 'red heart', '😉': 'winking face'}, {'💖': 'sparkling heart'}, {'😅': 'grinning face with sweat'}, {'💙': 'blue heart', '💛': 'yellow heart'}, {'😭': 'loudly crying face', '😊': 'smiling face with smiling eyes'}, {'☹': 'frowning face'}, {'🎈': 'balloon', '🎄': 'Christmas tree'}, {'🙈': 'see-no-evil monkey', '😔': 'pensive face'}, {'❤': 'red heart'}, {'😁': 'beaming face with smiling eyes'}, {'🙌': 'raising hands'}, {'❤️': 'red heart'}, {'😠': 'angry face'}, {'🎄': 'Christmas tree'}, {'♥': 'heart suit'}, {'☺️': 'smiling face'}, {'👪': 'family', '💯': 'hundred points', '💍': 'ring', '💎': 'gem stone', '👊': 'oncoming fist'}, {'😝': 'squinting face with tongue'}, {'😒': 'unamused face'}, {'🙀': 'weary cat', '🎶': 'musical notes', '🎻': 'violin', '❤️': 'red heart'}, {'💖': 'sparkling heart', '❤️': 'red heart'}, {'🍋': 'lemon', '😟': 'worried face'}, {'✋': 'raised hand'}, {'🐷': 'pig face'}, {'🇺🇸': 'flag: United States'}, {'💕': 'two hearts'}, {'😀': 'grinning face', '😋': 'face savoring food', '🙊': 'speak-no-evil monkey', '😗': 'kissing face'}, {'☺': 'smiling face'}, {'❤️': 'red heart', '😊': 'smiling face with smiling eyes'}, {'❤️': 'red heart'}, {'🔯': 'dotted six-pointed star', '⛄': 'snowman without snow', '🔥': 'fire', '😍': 'smiling face with heart-eyes', '🎊': 'confetti ball'}, {'♥': 'heart suit'}, {'👍': 'thumbs up', '💃': 'woman dancing'}, {'♥': 'heart suit'}, {'♥': 'heart suit'}, {'🎻': 'violin', '😊': 'smiling face with smiling eyes'}, {'👔': 'necktie', '💼': 'briefcase'}, {'👌': 'OK hand'}, {'😭': 'loudly crying face'}, {'💛': 'yellow heart'}, {'🙌': 'raising hands'}, {'❤️': 'red heart'}, {'🔥': 'fire', '🙏': 'folded hands'}, {'💕': 'two hearts'}, {'♥': 'heart suit'}, {'❤️': 'red heart', '👍': 'thumbs up', '😘': 'face blowing a kiss', '😄': 'grinning face with smiling eyes'}, {'🎁': 'wrapped gift', '🎄': 'Christmas tree', '💐': 'bouquet', '🎅': 'Santa Claus', '❤️': 'red heart'}, {'😩': 'weary face', '🙌': 'raising hands', '😔': 'pensive face', '💁': 'person tipping hand'}, {'😒': 'unamused face', '✌️': 'victory hand', '🌵': 'cactus'}, {'♥': 'heart suit'}, {'❤': 'red heart', '😉': 'winking face'}, {'♥': 'heart suit'}, {'™': 'trade mark'}, {'♥': 'heart suit'}, {'😭': 'loudly crying face', '😔': 'pensive face'}, {'💖': 'sparkling heart'}, {'🌞': 'sun with face', '☕': 'hot beverage'}, {'😁': 'beaming face with smiling eyes', '😩': 'weary face', '😒': 'unamused face', '❄️': 'snowflake', '😣': 'persevering face'}, {'😏': 'smirking face', '❤️': 'red heart', '😘': 'face blowing a kiss'}, {'❤️': 'red heart'}, {'💕': 'two hearts', '😘': 'face blowing a kiss'}, {'🍏': 'green apple'}, {'🎶': 'musical notes', '🎧': 'headphone'}, {'❤️': 'red heart'}, {'😭': 'loudly crying face', '😑': 'expressionless face', '💔': 'broken heart'}, {'😜': 'winking face with tongue'}, {'🙌': 'raising hands'}, {'😂': 'face with tears of joy'}]\n"
          ]
        }
      ]
    },
    {
      "cell_type": "code",
      "metadata": {
        "id": "H6co-IySs_Xs"
      },
      "source": [
        "all_keys = set().union(*(d.keys() for d in f))"
      ],
      "execution_count": 13,
      "outputs": []
    },
    {
      "cell_type": "code",
      "metadata": {
        "colab": {
          "base_uri": "https://localhost:8080/"
        },
        "id": "1WOoOBSgtDOj",
        "outputId": "554a1b2e-570c-4020-b65f-6eaff6b18b82"
      },
      "source": [
        "print(all_keys)"
      ],
      "execution_count": 14,
      "outputs": [
        {
          "output_type": "stream",
          "name": "stdout",
          "text": [
            "{'🙌', '🎌', '👣', '😐', '😦', '☝️', '🐒', '🌴', '😡', '📄', '🚙', '😺', '😴', '👼', '🔞', '👭', '⛅', '👬', '💳', '🇮🇹', '😧', '❄️', '😊', '🍹', '🎁', '💯', '🎂', '🍵', '▶', '👹', '😛', '👊', '😮', '🎋', '✈️', '😀', '🍉', '✴', '👀', '😩', '♥️', '🏥', '🍊', '✈', '📯', '🍭', '💸', '💌', '🌌', '🏂', '😖', '🍸', '🍝', '💘', '👏', '🐛', '🌸', '💄', '🍟', '😄', '💽', '🙆', '💨', '😈', '🐽', '🏄', '🎈', '📨', '🐭', '🌃', '🔯', '🐧', '🚔', '😝', '🎵', '🕥', '☕', '🆒', '🌽', '🌵', '👿', '🐾', '💎', '🎨', '🍧', '💪', '🚗', '🔫', '😲', '🎹', '🐸', '☹', '😁', '👜', '🚬', '🌱', '😔', '👳', '❤', '☀️', '🌁', '😃', '🐉', '😬', '💃', '😚', '👱', '😵', '▪', '🍖', '👩', '🐴', '🆘', '🐼', '❗', '™', '🎻', '♦', '🍦', '🍷', '🚀', '◾', '☠', '🙅', '🌍', '🙊', '😌', '🎺', '✋', '🍏', '😥', '🎊', '🐤', '🇩🇪', '👔', '💟', '🍨', '😋', '💍', '📺', '😓', '👾', '🙀', '💤', '🌠', '😷', '🔥', '✊', '⚡', '❄', '😞', '💢', '🌊', '🎿', '❌', '❤️', '🍆', '®', '👠', '🎾', '😏', '👰', '🎎', '🕐', '🇺🇸', '🎉', '🚨', '💞', '🐶', '😎', '💏', '🌀', '😰', '🚼', '💁', '🍳', '👎', '🍈', '👻', '⏰', '🏊', '💣', '📓', '😻', '🙏', '🍰', '👸', '☁️', '😫', '🌎', '🍺', '😜', '💔', '⚽', '💖', '👋', '🎄', '🍁', '😭', '😨', '☁', '🌏', '◽', '🔪', '☔', '💛', '🌞', '💗', '👫', '☀', '💩', '🍗', '🍀', '😱', '🚶', '🎷', '🏈', '✖️', '💜', '👂', '💵', '🚺', '🌲', '🌻', '🔄', '🇬🇧', '😯', '👆', '🎮', '🇫🇷', '🕑', '🐣', '🍬', '🍔', '☺️', '😆', '🌙', '😘', '🍲', '💅', '💐', '🎼', '💂', '🙈', '🚓', '⬅️', '🐠', '➡️', '🍫', '🍠', '😗', '💧', '📀', '🍓', '💚', '⭐', '🔆', '🎥', '👑', '👙', '🎭', '😹', '🚫', '🙍', '🍋', '©', '✌️', '🚢', '🐟', '🏡', '👄', '👯', '📑', '😒', '⛄', '😑', '🐥', '💻', '🎤', '👐', '👈', '😢', '🍕', '😟', '📱', '🏃', '🌚', '💊', '🐬', '😍', '🍪', '👅', '😿', '🚴', '🎅', '💋', '💰', '☃', '☮', '😅', '😉', '💝', '📚', '💉', '✨', '✌', '😽', '🎶', '😙', '😳', '♥', '🌂', '☂', '🐇', '👌', '💦', '👪', '〰', '🙋', '✖', '🍻', '🎆', '☺', '🌆', '⁉️', '🔮', '🐰', '🍩', '😣', '😇', '😤', '✔️', '✏', '🍛', '🐳', '🏰', '💆', '♏', '😶', '🐷', '💥', '📣', '🎓', '😠', '🍃', '👍', '💀', '😂', '👃', '😪', '💼', '📖', '🌅', '🍍', '🎀', '🙉', '💙', '🎧', '🍤', '🎸', '👉', '🍅', '🌾', '💕', '⛪', '😕', '🔅', '👶'}\n"
          ]
        }
      ]
    },
    {
      "cell_type": "code",
      "metadata": {
        "id": "Pejtka4ttJBN"
      },
      "source": [
        "import emoji\n",
        "def extract_emojis(s):\n",
        "    return ''.join((' '+c+' ') if c in emoji.UNICODE_EMOJI['en'] else c for c in s)"
      ],
      "execution_count": 15,
      "outputs": []
    },
    {
      "cell_type": "code",
      "metadata": {
        "id": "hxIbZiN8tL0o"
      },
      "source": [
        "df['Tweet'] = df['Tweet'].apply(extract_emojis)"
      ],
      "execution_count": 16,
      "outputs": []
    },
    {
      "cell_type": "code",
      "metadata": {
        "id": "3KKEJVAhtP8f"
      },
      "source": [
        "df.columns = df.columns.str.lstrip()"
      ],
      "execution_count": 17,
      "outputs": []
    },
    {
      "cell_type": "code",
      "metadata": {
        "colab": {
          "base_uri": "https://localhost:8080/"
        },
        "id": "tTAextDXtWjY",
        "outputId": "b998322f-1562-458b-de36-096f2baec7b7"
      },
      "source": [
        "%matplotlib inline\n",
        "%config InlineBackend.figure_format='retina'\n",
        "\n",
        "sns.set(style='whitegrid', palette='muted', font_scale=1.2)\n",
        "\n",
        "HAPPY_COLORS_PALETTE = [\"#01BEFE\", \"#FFDD00\", \"#FF7D00\", \"#FF006D\", \"#ADFF02\", \"#8F00FF\"]\n",
        "\n",
        "sns.set_palette(sns.color_palette(HAPPY_COLORS_PALETTE))\n",
        "\n",
        "rcParams['figure.figsize'] = 12, 8\n",
        "\n",
        "RANDOM_SEED = 42\n",
        "np.random.seed(RANDOM_SEED)\n",
        "torch.manual_seed(RANDOM_SEED)\n",
        "\n",
        "device = torch.device(\"cuda:0\" if torch.cuda.is_available() else \"cpu\")\n",
        "device"
      ],
      "execution_count": 18,
      "outputs": [
        {
          "output_type": "execute_result",
          "data": {
            "text/plain": [
              "device(type='cuda', index=0)"
            ]
          },
          "metadata": {},
          "execution_count": 18
        }
      ]
    },
    {
      "cell_type": "code",
      "metadata": {
        "colab": {
          "base_uri": "https://localhost:8080/",
          "height": 455
        },
        "id": "L0BYz2S3tb7B",
        "outputId": "ceb3acde-06d8-4721-91cd-f6052a3c08af"
      },
      "source": [
        "rcParams['figure.figsize'] = 8, 6\n",
        "sns.countplot(df.Label)\n",
        "plt.xlabel('class comparison');"
      ],
      "execution_count": 19,
      "outputs": [
        {
          "output_type": "stream",
          "name": "stderr",
          "text": [
            "/usr/local/lib/python3.7/dist-packages/seaborn/_decorators.py:43: FutureWarning: Pass the following variable as a keyword arg: x. From version 0.12, the only valid positional argument will be `data`, and passing other arguments without an explicit keyword will result in an error or misinterpretation.\n",
            "  FutureWarning\n"
          ]
        },
        {
          "output_type": "display_data",
          "data": {
            "image/png": "[encoded data removed]",
            "text/plain": [
              "<Figure size 576x432 with 1 Axes>"
            ]
          },
          "metadata": {
            "image/png": {
              "width": 530,
              "height": 381
            }
          }
        }
      ]
    },
    {
      "cell_type": "code",
      "metadata": {
        "id": "BOtRJofY3iNX"
      },
      "source": [
        "emoji_1 = re.compile('[\\\\u203C-\\\\u3299\\\\U0001F000-\\\\U0001F644]')"
      ],
      "execution_count": null,
      "outputs": []
    },
    {
      "cell_type": "code",
      "metadata": {
        "id": "M0xz4FhI5Vyt"
      },
      "source": [
        "emoji_list= list(filter(emoji_1.match, df['Tweet text']))"
      ],
      "execution_count": null,
      "outputs": []
    },
    {
      "cell_type": "code",
      "metadata": {
        "colab": {
          "base_uri": "https://localhost:8080/",
          "height": 171
        },
        "id": "aCKGRk-06NXC",
        "outputId": "00199296-1c73-40cd-8aac-c616656e3657"
      },
      "source": [
        "emoji_list_2= list(filter(emoji_1.match,df['Emoji list']))"
      ],
      "execution_count": null,
      "outputs": [
        {
          "output_type": "error",
          "ename": "TypeError",
          "evalue": "ignored",
          "traceback": [
            "\u001b[0;31m---------------------------------------------------------------------------\u001b[0m",
            "\u001b[0;31mTypeError\u001b[0m                                 Traceback (most recent call last)",
            "\u001b[0;32m<ipython-input-26-36f2b5b3c4ae>\u001b[0m in \u001b[0;36m<module>\u001b[0;34m()\u001b[0m\n\u001b[0;32m----> 1\u001b[0;31m \u001b[0memoji_list_2\u001b[0m\u001b[0;34m=\u001b[0m \u001b[0mlist\u001b[0m\u001b[0;34m(\u001b[0m\u001b[0mfilter\u001b[0m\u001b[0;34m(\u001b[0m\u001b[0memoji_1\u001b[0m\u001b[0;34m.\u001b[0m\u001b[0mmatch\u001b[0m\u001b[0;34m,\u001b[0m\u001b[0mdf\u001b[0m\u001b[0;34m[\u001b[0m\u001b[0;34m'Emoji list'\u001b[0m\u001b[0;34m]\u001b[0m\u001b[0;34m)\u001b[0m\u001b[0;34m)\u001b[0m\u001b[0;34m\u001b[0m\u001b[0;34m\u001b[0m\u001b[0m\n\u001b[0m",
            "\u001b[0;31mTypeError\u001b[0m: expected string or bytes-like object"
          ]
        }
      ]
    },
    {
      "cell_type": "code",
      "metadata": {
        "colab": {
          "base_uri": "https://localhost:8080/"
        },
        "id": "M3xabioA5e-Y",
        "outputId": "c5126f09-d9c1-4f0d-9cd2-f369f3a69db9"
      },
      "source": [
        "print(emoji_list)"
      ],
      "execution_count": null,
      "outputs": [
        {
          "output_type": "stream",
          "name": "stdout",
          "text": [
            "['👊 fistbump positive focus starve distractions werk motivation createpath uplift success ', '😒 half of the testing group was very helpful today ', '🙀😱🙀😱🙀😱 popcorn 😂🎅😂🎅😂🔫🔫 bringing this at movie tuesday night  ', '🇫🇴🇱🇱🇴🇼 thistsu website now worth 15 millionyou get paid for posting ', '😂😂 i will let you and bb know how i get on xx', '🎉it is monday 🎉 ']\n"
          ]
        }
      ]
    },
    {
      "cell_type": "code",
      "metadata": {
        "id": "ev1FyCD87SxC"
      },
      "source": [
        "emo_found= ' '.join(emoji for emoji in emoji_list)"
      ],
      "execution_count": null,
      "outputs": []
    },
    {
      "cell_type": "code",
      "metadata": {
        "id": "H8GjMz7F9Otc"
      },
      "source": [
        "from emoji import UNICODE_EMOJI\n",
        "\n",
        "def get_emoji_set(text):\n",
        "    return {letter for letter in text if letter in UNICODE_EMOJI['en'] }"
      ],
      "execution_count": null,
      "outputs": []
    },
    {
      "cell_type": "code",
      "metadata": {
        "id": "NGnTzwz19m9e"
      },
      "source": [
        "def deEmojify(inputString):\n",
        "    return inputString.encode('ascii', 'ignore').decode('ascii')\n"
      ],
      "execution_count": null,
      "outputs": []
    },
    {
      "cell_type": "code",
      "metadata": {
        "colab": {
          "base_uri": "https://localhost:8080/"
        },
        "id": "pgL3XTIDCAWV",
        "outputId": "ebf09e70-e6fb-4614-ef68-0886cae5b25c"
      },
      "source": [
        "print(c)"
      ],
      "execution_count": null,
      "outputs": [
        {
          "output_type": "stream",
          "name": "stdout",
          "text": [
            "{'🔫', '😱', '🎅', '😂', '👊', '🎉', '😒', '🙀'}\n"
          ]
        }
      ]
    },
    {
      "cell_type": "code",
      "metadata": {
        "collapsed": true,
        "jupyter": {
          "source_hidden": false,
          "outputs_hidden": false
        },
        "nteract": {
          "transient": {
            "deleting": false
          }
        },
        "gather": {
          "logged": 1628541925058
        },
        "colab": {
          "base_uri": "https://localhost:8080/",
          "height": 206
        },
        "id": "T7udEFkrztpl",
        "outputId": "1ca076f0-00ea-430e-8a01-7207a3302448"
      },
      "source": [
        "df.head()"
      ],
      "execution_count": null,
      "outputs": [
        {
          "output_type": "execute_result",
          "data": {
            "text/html": [
              "<div>\n",
              "<style scoped>\n",
              "    .dataframe tbody tr th:only-of-type {\n",
              "        vertical-align: middle;\n",
              "    }\n",
              "\n",
              "    .dataframe tbody tr th {\n",
              "        vertical-align: top;\n",
              "    }\n",
              "\n",
              "    .dataframe thead th {\n",
              "        text-align: right;\n",
              "    }\n",
              "</style>\n",
              "<table border=\"1\" class=\"dataframe\">\n",
              "  <thead>\n",
              "    <tr style=\"text-align: right;\">\n",
              "      <th></th>\n",
              "      <th>Tweet</th>\n",
              "      <th>Label</th>\n",
              "    </tr>\n",
              "  </thead>\n",
              "  <tbody>\n",
              "    <tr>\n",
              "      <th>0</th>\n",
              "      <td>peyton obviously cannot finish games he just t...</td>\n",
              "      <td>1</td>\n",
              "    </tr>\n",
              "    <tr>\n",
              "      <th>1</th>\n",
              "      <td>well i would love to be sleeping right now but...</td>\n",
              "      <td>1</td>\n",
              "    </tr>\n",
              "    <tr>\n",
              "      <th>2</th>\n",
              "      <td>my biggest executive decision today choosing b...</td>\n",
              "      <td>1</td>\n",
              "    </tr>\n",
              "    <tr>\n",
              "      <th>3</th>\n",
              "      <td>the first quality opponent they played in 2 y...</td>\n",
              "      <td>1</td>\n",
              "    </tr>\n",
              "    <tr>\n",
              "      <th>4</th>\n",
              "      <td>but do not you dare call it hate crimes  libe...</td>\n",
              "      <td>1</td>\n",
              "    </tr>\n",
              "  </tbody>\n",
              "</table>\n",
              "</div>"
            ],
            "text/plain": [
              "                                               Tweet  Label\n",
              "0  peyton obviously cannot finish games he just t...      1\n",
              "1  well i would love to be sleeping right now but...      1\n",
              "2  my biggest executive decision today choosing b...      1\n",
              "3   the first quality opponent they played in 2 y...      1\n",
              "4   but do not you dare call it hate crimes  libe...      1"
            ]
          },
          "metadata": {},
          "execution_count": 13
        }
      ]
    },
    {
      "cell_type": "code",
      "metadata": {
        "collapsed": true,
        "jupyter": {
          "source_hidden": false,
          "outputs_hidden": false
        },
        "nteract": {
          "transient": {
            "deleting": false
          }
        },
        "gather": {
          "logged": 1628525960136
        },
        "id": "20w0ITcLztpm"
      },
      "source": [
        "df['Label'] = df['Label'].map({1: 'sarcasm', 0: 'Non-sarcasm'})\n"
      ],
      "execution_count": null,
      "outputs": []
    },
    {
      "cell_type": "code",
      "metadata": {
        "collapsed": true,
        "jupyter": {
          "source_hidden": false,
          "outputs_hidden": false
        },
        "nteract": {
          "transient": {
            "deleting": false
          }
        },
        "gather": {
          "logged": 1628541940812
        },
        "id": "fZT6sEOxztpn",
        "outputId": "39d6453f-3ab1-47cc-a349-9a3f19868780"
      },
      "source": [
        "df.head()"
      ],
      "execution_count": null,
      "outputs": [
        {
          "output_type": "execute_result",
          "execution_count": 7,
          "data": {
            "text/plain": "      Label                                              Tweet\n517       0  #Heisenberg Uncertainty Principle: Whatever yo...\n800       0  Don't forget the true meaning of Christmas:per...\n381       0  Happy new year to meeeee... http://t.co/ZLtXiV...\n2092      1  @SerJeyms: This year's class picture is so awe...\n2436      1  @TheLouieMiguel what a way to start the new year ",
            "text/html": "<div>\n<style scoped>\n    .dataframe tbody tr th:only-of-type {\n        vertical-align: middle;\n    }\n\n    .dataframe tbody tr th {\n        vertical-align: top;\n    }\n\n    .dataframe thead th {\n        text-align: right;\n    }\n</style>\n<table border=\"1\" class=\"dataframe\">\n  <thead>\n    <tr style=\"text-align: right;\">\n      <th></th>\n      <th>Label</th>\n      <th>Tweet</th>\n    </tr>\n  </thead>\n  <tbody>\n    <tr>\n      <th>517</th>\n      <td>0</td>\n      <td>#Heisenberg Uncertainty Principle: Whatever yo...</td>\n    </tr>\n    <tr>\n      <th>800</th>\n      <td>0</td>\n      <td>Don't forget the true meaning of Christmas:per...</td>\n    </tr>\n    <tr>\n      <th>381</th>\n      <td>0</td>\n      <td>Happy new year to meeeee... http://t.co/ZLtXiV...</td>\n    </tr>\n    <tr>\n      <th>2092</th>\n      <td>1</td>\n      <td>@SerJeyms: This year's class picture is so awe...</td>\n    </tr>\n    <tr>\n      <th>2436</th>\n      <td>1</td>\n      <td>@TheLouieMiguel what a way to start the new year</td>\n    </tr>\n  </tbody>\n</table>\n</div>"
          },
          "metadata": {}
        }
      ]
    },
    {
      "cell_type": "code",
      "metadata": {
        "collapsed": true,
        "jupyter": {
          "source_hidden": false,
          "outputs_hidden": false
        },
        "nteract": {
          "transient": {
            "deleting": false
          }
        },
        "gather": {
          "logged": 1628541962712
        },
        "colab": {
          "base_uri": "https://localhost:8080/",
          "height": 336
        },
        "id": "QOPHAEgoztps",
        "outputId": "73fde713-da85-4f4d-ed1b-9c27bea14f7f"
      },
      "source": [
        "sns.countplot(df.Label)\n",
        "plt.xlabel('Label');\n"
      ],
      "execution_count": null,
      "outputs": [
        {
          "output_type": "stream",
          "name": "stderr",
          "text": [
            "/usr/local/lib/python3.7/dist-packages/seaborn/_decorators.py:43: FutureWarning: Pass the following variable as a keyword arg: x. From version 0.12, the only valid positional argument will be `data`, and passing other arguments without an explicit keyword will result in an error or misinterpretation.\n",
            "  FutureWarning\n"
          ]
        },
        {
          "output_type": "display_data",
          "data": {
            "image/png": "[encoded data removed]",
            "text/plain": [
              "<Figure size 432x288 with 1 Axes>"
            ]
          },
          "metadata": {
            "needs_background": "light"
          }
        }
      ]
    },
    {
      "cell_type": "code",
      "metadata": {
        "id": "ZaKTIFJStozs"
      },
      "source": [
        "!pip install sentencepiece"
      ],
      "execution_count": null,
      "outputs": []
    },
    {
      "cell_type": "code",
      "metadata": {
        "collapsed": true,
        "jupyter": {
          "source_hidden": false,
          "outputs_hidden": false
        },
        "nteract": {
          "transient": {
            "deleting": false
          }
        },
        "gather": {
          "logged": 1628541966424
        },
        "id": "4PDO5OJ2ztpt"
      },
      "source": [
        "PRE_TRAINED_MODEL_NAME = 'distilbert-base-uncased'"
      ],
      "execution_count": 20,
      "outputs": []
    },
    {
      "cell_type": "code",
      "metadata": {
        "collapsed": true,
        "jupyter": {
          "source_hidden": false,
          "outputs_hidden": false
        },
        "nteract": {
          "transient": {
            "deleting": false
          }
        },
        "gather": {
          "logged": 1628541969740
        },
        "colab": {
          "base_uri": "https://localhost:8080/",
          "height": 163,
          "referenced_widgets": [
            "6db5b2a303034b87b6157c361f082c9c",
            "b3d2ea665dd74763bf8a5ec693c33ea5",
            "ebf02e8d8e7f4cd9a4c37ecb516d3fff",
            "2443c19e79f741bca0bbbb6626d8910f",
            "d5aa0d75c79a4389bfb55bc7f1fbc4ba",
            "50d0277d893f4c17adbe1163fb3621ce",
            "2f3cd1a8f0774b4bb9fa225d265bd2e5",
            "5e7228a8e35a45e5af810f18f8f0a40b",
            "ed4b8f5d406d4d308e4c1dab5fbb3301",
            "0ff9031301de4258b35455de2c123654",
            "8d488afa0fac40c3a11cd9389eeb29e6"
          ]
        },
        "id": "EMPaF5ANztpt",
        "outputId": "d8ed1c9f-957e-400b-d431-952b41eef5a2"
      },
      "source": [
        "tokenizer = DistilBertTokenizer.from_pretrained(PRE_TRAINED_MODEL_NAME)\n",
        "tokenizer.add_tokens(['🙌', '🎌', '👣', '😐', '😦', '☝️', '🐒', '🌴', '😡', '📄', '🚙', '😺', '😴', '👼', '🔞', '👭', '⛅', '👬', '💳', '🇮🇹', '😧', '❄️', '😊', '🍹', '🎁', '💯', '🎂', '🍵', '▶', '👹', '😛', '👊', '😮', '🎋', '✈️', '😀', '🍉', '✴', '👀', '😩', '♥️', '🏥', '🍊', '✈', '📯', '🍭', '💸', '💌', '🌌', '🏂', '😖', '🍸', '🍝', '💘', '👏', '🐛', '🌸', '💄', '🍟', '😄', '💽', '🙆', '💨', '😈', '🐽', '🏄', '🎈', '📨', '🐭', '🌃', '🔯', '🐧', '🚔', '😝', '🎵', '🕥', '☕', '🆒', '🌽', '🌵', '👿', '🐾', '💎', '🎨', '🍧', '💪', '🚗', '🔫', '😲', '🎹', '🐸', '☹', '😁', '👜', '🚬', '🌱', '😔', '👳', '❤', '☀️', '🌁', '😃', '🐉', '😬', '💃', '😚', '👱', '😵', '▪', '🍖', '👩', '🐴', '🆘', '🐼', '❗', '™', '🎻', '♦', '🍦', '🍷', '🚀', '◾', '☠', '🙅', '🌍', '🙊', '😌', '🎺', '✋', '🍏', '😥', '🎊', '🐤', '🇩🇪', '👔', '💟', '🍨', '😋', '💍', '📺', '😓', '👾', '🙀', '💤', '🌠', '😷', '🔥', '✊', '⚡', '❄', '😞', '💢', '🌊', '🎿', '❌', '❤️', '🍆', '®', '👠', '🎾', '😏', '👰', '🎎', '🕐', '🇺🇸', '🎉', '🚨', '💞', '🐶', '😎', '💏', '🌀', '😰', '🚼', '💁', '🍳', '👎', '🍈', '👻', '⏰', '🏊', '💣', '📓', '😻', '🙏', '🍰', '👸', '☁️', '😫', '🌎', '🍺', '😜', '💔', '⚽', '💖', '👋', '🎄', '🍁', '😭', '😨', '☁', '🌏', '◽', '🔪', '☔', '💛', '🌞', '💗', '👫', '☀', '💩', '🍗', '🍀', '😱', '🚶', '🎷', '🏈', '✖️', '💜', '👂', '💵', '🚺', '🌲', '🌻', '🔄', '🇬🇧', '😯', '👆', '🎮', '🇫🇷', '🕑', '🐣', '🍬', '🍔', '☺️', '😆', '🌙', '😘', '🍲', '💅', '💐', '🎼', '💂', '🙈', '🚓', '⬅️', '🐠', '➡️', '🍫', '🍠', '😗', '💧', '📀', '🍓', '💚', '⭐', '🔆', '🎥', '👑', '👙', '🎭', '😹', '🚫', '🙍', '🍋', '©', '✌️', '🚢', '🐟', '🏡', '👄', '👯', '📑', '😒', '⛄', '😑', '🐥', '💻', '🎤', '👐', '👈', '😢', '🍕', '😟', '📱', '🏃', '🌚', '💊', '🐬', '😍', '🍪', '👅', '😿', '🚴', '🎅', '💋', '💰', '☃', '☮', '😅', '😉', '💝', '📚', '💉', '✨', '✌', '😽', '🎶', '😙', '😳', '♥', '🌂', '☂', '🐇', '👌', '💦', '👪', '〰', '🙋', '✖', '🍻', '🎆', '☺', '🌆', '⁉️', '🔮', '🐰', '🍩', '😣', '😇', '😤', '✔️', '✏', '🍛', '🐳', '🏰', '💆', '♏', '😶', '🐷', '💥', '📣', '🎓', '😠', '🍃', '👍', '💀', '😂', '👃', '😪', '💼', '📖', '🌅', '🍍', '🎀', '🙉', '💙', '🎧', '🍤', '🎸', '👉', '🍅', '🌾', '💕', '⛪', '😕', '🔅', '👶'])\n"
      ],
      "execution_count": 21,
      "outputs": [
        {
          "output_type": "display_data",
          "data": {
            "application/vnd.jupyter.widget-view+json": {
              "model_id": "6db5b2a303034b87b6157c361f082c9c",
              "version_minor": 0,
              "version_major": 2
            },
            "text/plain": [
              "Downloading:   0%|          | 0.00/226k [00:00<?, ?B/s]"
            ]
          },
          "metadata": {}
        },
        {
          "output_type": "display_data",
          "data": {
            "application/vnd.jupyter.widget-view+json": {
              "model_id": "67462f16410f4f278dcbe15ce28455ef",
              "version_minor": 0,
              "version_major": 2
            },
            "text/plain": [
              "Downloading:   0%|          | 0.00/28.0 [00:00<?, ?B/s]"
            ]
          },
          "metadata": {}
        },
        {
          "output_type": "display_data",
          "data": {
            "application/vnd.jupyter.widget-view+json": {
              "model_id": "19441178100b442db9b439ae35b1cde3",
              "version_minor": 0,
              "version_major": 2
            },
            "text/plain": [
              "Downloading:   0%|          | 0.00/455k [00:00<?, ?B/s]"
            ]
          },
          "metadata": {}
        },
        {
          "output_type": "display_data",
          "data": {
            "application/vnd.jupyter.widget-view+json": {
              "model_id": "3f9ba20e3dd2472ea95a333479e4e7fc",
              "version_minor": 0,
              "version_major": 2
            },
            "text/plain": [
              "Downloading:   0%|          | 0.00/483 [00:00<?, ?B/s]"
            ]
          },
          "metadata": {}
        },
        {
          "output_type": "execute_result",
          "data": {
            "text/plain": [
              "362"
            ]
          },
          "metadata": {},
          "execution_count": 21
        }
      ]
    },
    {
      "cell_type": "code",
      "metadata": {
        "collapsed": true,
        "jupyter": {
          "source_hidden": false,
          "outputs_hidden": false
        },
        "nteract": {
          "transient": {
            "deleting": false
          }
        },
        "gather": {
          "logged": 1628541972549
        },
        "id": "CdB1Fa5Bztpt"
      },
      "source": [
        "sample_txt = 'the roads look really bad to me 😏 i think we need another day without school 👌'"
      ],
      "execution_count": 22,
      "outputs": []
    },
    {
      "cell_type": "code",
      "metadata": {
        "collapsed": true,
        "jupyter": {
          "source_hidden": false,
          "outputs_hidden": false
        },
        "nteract": {
          "transient": {
            "deleting": false
          }
        },
        "gather": {
          "logged": 1628541975382
        },
        "colab": {
          "base_uri": "https://localhost:8080/"
        },
        "id": "7KRki6qaztpu",
        "outputId": "685e9774-03a7-4a0a-abc2-21323045d358"
      },
      "source": [
        "tokens = tokenizer.tokenize(sample_txt)\n",
        "token_ids = tokenizer.convert_tokens_to_ids(tokens)\n",
        "\n",
        "print(f' Sentence: {sample_txt}')\n",
        "print(f'   Tokens: {tokens}')\n",
        "print(f'Token IDs: {token_ids}')"
      ],
      "execution_count": 23,
      "outputs": [
        {
          "output_type": "stream",
          "name": "stdout",
          "text": [
            " Sentence: the roads look really bad to me 😏 i think we need another day without school 👌\n",
            "   Tokens: ['the', 'roads', 'look', 'really', 'bad', 'to', 'me', '😏', 'i', 'think', 'we', 'need', 'another', 'day', 'without', 'school', '👌']\n",
            "Token IDs: [1996, 4925, 2298, 2428, 2919, 2000, 2033, 30678, 1045, 2228, 2057, 2342, 2178, 2154, 2302, 2082, 30830]\n"
          ]
        }
      ]
    },
    {
      "cell_type": "code",
      "metadata": {
        "collapsed": true,
        "jupyter": {
          "source_hidden": false,
          "outputs_hidden": false
        },
        "nteract": {
          "transient": {
            "deleting": false
          }
        },
        "gather": {
          "logged": 1628541980729
        },
        "colab": {
          "base_uri": "https://localhost:8080/"
        },
        "id": "8TGOBaXEztpw",
        "outputId": "9b86a168-f77f-428a-d5de-3df5dbbbe22b"
      },
      "source": [
        "encoding = tokenizer.encode_plus(\n",
        "  sample_txt,\n",
        "  max_length=32,\n",
        "  add_special_tokens=True, # Add '[CLS]' and '[SEP]'\n",
        "  return_token_type_ids=False,\n",
        "  pad_to_max_length=True,\n",
        "  return_attention_mask=True,\n",
        "  return_tensors='pt',  # Return PyTorch tensors\n",
        ")\n",
        "\n",
        "encoding.keys()"
      ],
      "execution_count": 24,
      "outputs": [
        {
          "output_type": "stream",
          "name": "stderr",
          "text": [
            "Truncation was not explicitly activated but `max_length` is provided a specific value, please use `truncation=True` to explicitly truncate examples to max length. Defaulting to 'longest_first' truncation strategy. If you encode pairs of sequences (GLUE-style) with the tokenizer you can select this strategy more precisely by providing a specific strategy to `truncation`.\n",
            "/usr/local/lib/python3.7/dist-packages/transformers/tokenization_utils_base.py:2217: FutureWarning: The `pad_to_max_length` argument is deprecated and will be removed in a future version, use `padding=True` or `padding='longest'` to pad to the longest sequence in the batch, or use `padding='max_length'` to pad to a max length. In this case, you can give a specific length with `max_length` (e.g. `max_length=45`) or leave max_length to None to pad to the maximal input size of the model (e.g. 512 for Bert).\n",
            "  FutureWarning,\n"
          ]
        },
        {
          "output_type": "execute_result",
          "data": {
            "text/plain": [
              "dict_keys(['input_ids', 'attention_mask'])"
            ]
          },
          "metadata": {},
          "execution_count": 24
        }
      ]
    },
    {
      "cell_type": "code",
      "metadata": {
        "collapsed": true,
        "jupyter": {
          "source_hidden": false,
          "outputs_hidden": false
        },
        "nteract": {
          "transient": {
            "deleting": false
          }
        },
        "gather": {
          "logged": 1628541984214
        },
        "colab": {
          "base_uri": "https://localhost:8080/"
        },
        "id": "mnIUMAqDztpx",
        "outputId": "f2dfc2c2-f89b-4065-943d-d393bac456ae"
      },
      "source": [
        "print(len(encoding['input_ids'][0]))\n",
        "encoding['input_ids'][0]"
      ],
      "execution_count": 25,
      "outputs": [
        {
          "output_type": "stream",
          "name": "stdout",
          "text": [
            "32\n"
          ]
        },
        {
          "output_type": "execute_result",
          "data": {
            "text/plain": [
              "tensor([  101,  1996,  4925,  2298,  2428,  2919,  2000,  2033, 30678,  1045,\n",
              "         2228,  2057,  2342,  2178,  2154,  2302,  2082, 30830,   102,     0,\n",
              "            0,     0,     0,     0,     0,     0,     0,     0,     0,     0,\n",
              "            0,     0])"
            ]
          },
          "metadata": {},
          "execution_count": 25
        }
      ]
    },
    {
      "cell_type": "code",
      "metadata": {
        "collapsed": true,
        "jupyter": {
          "source_hidden": false,
          "outputs_hidden": false
        },
        "nteract": {
          "transient": {
            "deleting": false
          }
        },
        "gather": {
          "logged": 1628541986847
        },
        "colab": {
          "base_uri": "https://localhost:8080/"
        },
        "id": "KG59VX9Jztpy",
        "outputId": "74826244-ff19-493c-f1b1-20c0de74b98b"
      },
      "source": [
        "print(len(encoding['attention_mask'][0]))\n",
        "encoding['attention_mask']"
      ],
      "execution_count": 26,
      "outputs": [
        {
          "output_type": "stream",
          "name": "stdout",
          "text": [
            "32\n"
          ]
        },
        {
          "output_type": "execute_result",
          "data": {
            "text/plain": [
              "tensor([[1, 1, 1, 1, 1, 1, 1, 1, 1, 1, 1, 1, 1, 1, 1, 1, 1, 1, 1, 0, 0, 0, 0, 0,\n",
              "         0, 0, 0, 0, 0, 0, 0, 0]])"
            ]
          },
          "metadata": {},
          "execution_count": 26
        }
      ]
    },
    {
      "cell_type": "code",
      "metadata": {
        "collapsed": true,
        "jupyter": {
          "source_hidden": false,
          "outputs_hidden": false
        },
        "nteract": {
          "transient": {
            "deleting": false
          }
        },
        "gather": {
          "logged": 1628541989596
        },
        "colab": {
          "base_uri": "https://localhost:8080/"
        },
        "id": "8u_nUjq-ztpy",
        "outputId": "be641ef5-1ecc-4a7c-ee3c-d9fc5f8d96b6"
      },
      "source": [
        "tokenizer.convert_ids_to_tokens(encoding['input_ids'][0])"
      ],
      "execution_count": 27,
      "outputs": [
        {
          "output_type": "execute_result",
          "data": {
            "text/plain": [
              "['[CLS]',\n",
              " 'the',\n",
              " 'roads',\n",
              " 'look',\n",
              " 'really',\n",
              " 'bad',\n",
              " 'to',\n",
              " 'me',\n",
              " '😏',\n",
              " 'i',\n",
              " 'think',\n",
              " 'we',\n",
              " 'need',\n",
              " 'another',\n",
              " 'day',\n",
              " 'without',\n",
              " 'school',\n",
              " '👌',\n",
              " '[SEP]',\n",
              " '[PAD]',\n",
              " '[PAD]',\n",
              " '[PAD]',\n",
              " '[PAD]',\n",
              " '[PAD]',\n",
              " '[PAD]',\n",
              " '[PAD]',\n",
              " '[PAD]',\n",
              " '[PAD]',\n",
              " '[PAD]',\n",
              " '[PAD]',\n",
              " '[PAD]',\n",
              " '[PAD]']"
            ]
          },
          "metadata": {},
          "execution_count": 27
        }
      ]
    },
    {
      "cell_type": "code",
      "metadata": {
        "collapsed": true,
        "jupyter": {
          "source_hidden": false,
          "outputs_hidden": false
        },
        "nteract": {
          "transient": {
            "deleting": false
          }
        },
        "gather": {
          "logged": 1628541992915
        },
        "id": "mZDQdBGXztpz"
      },
      "source": [
        "token_lens = []\n",
        "\n",
        "for txt in df.Tweet:\n",
        "  tokens = tokenizer.encode(txt, max_length=256)\n",
        "  token_lens.append(len(tokens))"
      ],
      "execution_count": 28,
      "outputs": []
    },
    {
      "cell_type": "code",
      "metadata": {
        "collapsed": true,
        "jupyter": {
          "source_hidden": false,
          "outputs_hidden": false
        },
        "nteract": {
          "transient": {
            "deleting": false
          }
        },
        "gather": {
          "logged": 1628541994652
        },
        "colab": {
          "base_uri": "https://localhost:8080/",
          "height": 455
        },
        "id": "4TcEmypFztp0",
        "outputId": "5fb822bc-dc3c-4d01-f01b-477cb1498840"
      },
      "source": [
        "sns.distplot(token_lens)\n",
        "plt.xlim([0, 256]);\n",
        "plt.xlabel('Token count');"
      ],
      "execution_count": 29,
      "outputs": [
        {
          "output_type": "stream",
          "name": "stderr",
          "text": [
            "/usr/local/lib/python3.7/dist-packages/seaborn/distributions.py:2619: FutureWarning: `distplot` is a deprecated function and will be removed in a future version. Please adapt your code to use either `displot` (a figure-level function with similar flexibility) or `histplot` (an axes-level function for histograms).\n",
            "  warnings.warn(msg, FutureWarning)\n"
          ]
        },
        {
          "output_type": "display_data",
          "data": {
            "image/png": "[encoded data removed]",
            "text/plain": [
              "<Figure size 576x432 with 1 Axes>"
            ]
          },
          "metadata": {
            "image/png": {
              "width": 519,
              "height": 381
            }
          }
        }
      ]
    },
    {
      "cell_type": "code",
      "metadata": {
        "collapsed": true,
        "jupyter": {
          "source_hidden": false,
          "outputs_hidden": false
        },
        "nteract": {
          "transient": {
            "deleting": false
          }
        },
        "gather": {
          "logged": 1628541996528
        },
        "id": "YHFiORafztp1"
      },
      "source": [
        "MAX_LEN = 128"
      ],
      "execution_count": 30,
      "outputs": []
    },
    {
      "cell_type": "code",
      "metadata": {
        "collapsed": true,
        "jupyter": {
          "source_hidden": false,
          "outputs_hidden": false
        },
        "nteract": {
          "transient": {
            "deleting": false
          }
        },
        "gather": {
          "logged": 1628541999181
        },
        "id": "CMuzinY3ztp1"
      },
      "source": [
        "class SarcasmDataset(Dataset):\n",
        "\n",
        "  def __init__(self, tweets, targets, tokenizer, max_len):\n",
        "    self.tweets = tweets\n",
        "    self.targets = targets\n",
        "    self.tokenizer = tokenizer\n",
        "    self.max_len = max_len\n",
        "  \n",
        "  def __len__(self):\n",
        "    return len(self.tweets)\n",
        "  \n",
        "  def __getitem__(self, item):\n",
        "    tweet = str(self.tweets[item])\n",
        "    target = self.targets[item]\n",
        "\n",
        "    encoding = self.tokenizer.encode_plus(\n",
        "      tweet,\n",
        "      add_special_tokens=True,\n",
        "      max_length=self.max_len,\n",
        "      return_token_type_ids=False,\n",
        "      pad_to_max_length=True,\n",
        "      return_attention_mask=True,\n",
        "      return_tensors='pt',\n",
        "    )\n",
        "\n",
        "    return {\n",
        "      'tweet_text': tweet,\n",
        "      'input_ids': encoding['input_ids'].flatten(),\n",
        "      'attention_mask': encoding['attention_mask'].flatten(),\n",
        "      'targets': torch.tensor(target, dtype=torch.long)\n",
        "    }"
      ],
      "execution_count": 31,
      "outputs": []
    },
    {
      "cell_type": "code",
      "metadata": {
        "collapsed": true,
        "jupyter": {
          "source_hidden": false,
          "outputs_hidden": false
        },
        "nteract": {
          "transient": {
            "deleting": false
          }
        },
        "gather": {
          "logged": 1628542000583
        },
        "id": "14LqRdijztp2"
      },
      "source": [
        "RANDOM_SEED = 42\n",
        "\n",
        "np.random.seed(RANDOM_SEED)\n",
        "\n",
        "torch.manual_seed(RANDOM_SEED)\n",
        "\n",
        "device = torch.device(\"cuda:0\" if torch.cuda.is_available() else \"cpu\")"
      ],
      "execution_count": null,
      "outputs": []
    },
    {
      "cell_type": "code",
      "metadata": {
        "colab": {
          "base_uri": "https://localhost:8080/"
        },
        "id": "7msK5fVwEsGd",
        "outputId": "b91ae71e-93e6-4ac2-978a-c9330331b327"
      },
      "source": [
        "print(device)"
      ],
      "execution_count": null,
      "outputs": [
        {
          "output_type": "stream",
          "name": "stdout",
          "text": [
            "cuda:0\n"
          ]
        }
      ]
    },
    {
      "cell_type": "code",
      "metadata": {
        "collapsed": true,
        "jupyter": {
          "source_hidden": false,
          "outputs_hidden": false
        },
        "nteract": {
          "transient": {
            "deleting": false
          }
        },
        "gather": {
          "logged": 1628542012951
        },
        "id": "Z9zIi1Ohztp2"
      },
      "source": [
        "df_train, df_test = train_test_split(df, test_size=0.2, random_state=RANDOM_SEED)\n",
        "df_val, df_test = train_test_split(df_test, test_size=0.3, random_state=RANDOM_SEED)"
      ],
      "execution_count": 32,
      "outputs": []
    },
    {
      "cell_type": "code",
      "metadata": {
        "collapsed": true,
        "jupyter": {
          "source_hidden": false,
          "outputs_hidden": false
        },
        "nteract": {
          "transient": {
            "deleting": false
          }
        },
        "gather": {
          "logged": 1628542018012
        },
        "colab": {
          "base_uri": "https://localhost:8080/"
        },
        "id": "zXtoaygLztp2",
        "outputId": "579d4f4e-aa6f-4da8-f932-c359bdb7d06e"
      },
      "source": [
        "df_train.shape, df_val.shape, df_test.shape"
      ],
      "execution_count": 33,
      "outputs": [
        {
          "output_type": "execute_result",
          "data": {
            "text/plain": [
              "((51387, 3), (8992, 3), (3855, 3))"
            ]
          },
          "metadata": {},
          "execution_count": 33
        }
      ]
    },
    {
      "cell_type": "code",
      "metadata": {
        "collapsed": true,
        "jupyter": {
          "source_hidden": false,
          "outputs_hidden": false
        },
        "nteract": {
          "transient": {
            "deleting": false
          }
        },
        "gather": {
          "logged": 1628542020610
        },
        "id": "3_O37NR9ztp3"
      },
      "source": [
        "def create_data_loader(df, tokenizer, max_len, batch_size):\n",
        "  ds = SarcasmDataset(\n",
        "    tweets=df.Tweet.to_numpy(),\n",
        "    targets=df.Label.to_numpy(),\n",
        "    tokenizer=tokenizer,\n",
        "    max_len=max_len\n",
        "  )\n",
        "\n",
        "  return DataLoader(\n",
        "    ds,\n",
        "    batch_size=batch_size,\n",
        "    num_workers=4\n",
        "  )"
      ],
      "execution_count": 34,
      "outputs": []
    },
    {
      "cell_type": "code",
      "metadata": {
        "collapsed": true,
        "jupyter": {
          "source_hidden": false,
          "outputs_hidden": false
        },
        "nteract": {
          "transient": {
            "deleting": false
          }
        },
        "gather": {
          "logged": 1628542023124
        },
        "id": "wgyQZJnWztp4"
      },
      "source": [
        "BATCH_SIZE = 32\n",
        "\n",
        "train_data_loader = create_data_loader(df_train, tokenizer, MAX_LEN, BATCH_SIZE)\n",
        "val_data_loader = create_data_loader(df_val, tokenizer, MAX_LEN, BATCH_SIZE)\n",
        "test_data_loader = create_data_loader(df_test, tokenizer, MAX_LEN, BATCH_SIZE)"
      ],
      "execution_count": 35,
      "outputs": []
    },
    {
      "cell_type": "code",
      "metadata": {
        "collapsed": true,
        "jupyter": {
          "source_hidden": false,
          "outputs_hidden": false
        },
        "nteract": {
          "transient": {
            "deleting": false
          }
        },
        "gather": {
          "logged": 1628542025689
        },
        "colab": {
          "base_uri": "https://localhost:8080/"
        },
        "id": "btiS9udFztp4",
        "outputId": "14b03c4d-3975-46be-be89-43a83102415d"
      },
      "source": [
        "data = next(iter(train_data_loader))\n",
        "data.keys()"
      ],
      "execution_count": 36,
      "outputs": [
        {
          "output_type": "stream",
          "name": "stderr",
          "text": [
            "/usr/local/lib/python3.7/dist-packages/transformers/tokenization_utils_base.py:2217: FutureWarning: The `pad_to_max_length` argument is deprecated and will be removed in a future version, use `padding=True` or `padding='longest'` to pad to the longest sequence in the batch, or use `padding='max_length'` to pad to a max length. In this case, you can give a specific length with `max_length` (e.g. `max_length=45`) or leave max_length to None to pad to the maximal input size of the model (e.g. 512 for Bert).\n",
            "  FutureWarning,\n",
            "/usr/local/lib/python3.7/dist-packages/transformers/tokenization_utils_base.py:2217: FutureWarning: The `pad_to_max_length` argument is deprecated and will be removed in a future version, use `padding=True` or `padding='longest'` to pad to the longest sequence in the batch, or use `padding='max_length'` to pad to a max length. In this case, you can give a specific length with `max_length` (e.g. `max_length=45`) or leave max_length to None to pad to the maximal input size of the model (e.g. 512 for Bert).\n",
            "  FutureWarning,\n",
            "/usr/local/lib/python3.7/dist-packages/transformers/tokenization_utils_base.py:2217: FutureWarning: The `pad_to_max_length` argument is deprecated and will be removed in a future version, use `padding=True` or `padding='longest'` to pad to the longest sequence in the batch, or use `padding='max_length'` to pad to a max length. In this case, you can give a specific length with `max_length` (e.g. `max_length=45`) or leave max_length to None to pad to the maximal input size of the model (e.g. 512 for Bert).\n",
            "  FutureWarning,\n",
            "/usr/local/lib/python3.7/dist-packages/transformers/tokenization_utils_base.py:2217: FutureWarning: The `pad_to_max_length` argument is deprecated and will be removed in a future version, use `padding=True` or `padding='longest'` to pad to the longest sequence in the batch, or use `padding='max_length'` to pad to a max length. In this case, you can give a specific length with `max_length` (e.g. `max_length=45`) or leave max_length to None to pad to the maximal input size of the model (e.g. 512 for Bert).\n",
            "  FutureWarning,\n"
          ]
        },
        {
          "output_type": "execute_result",
          "data": {
            "text/plain": [
              "dict_keys(['tweet_text', 'input_ids', 'attention_mask', 'targets'])"
            ]
          },
          "metadata": {},
          "execution_count": 36
        }
      ]
    },
    {
      "cell_type": "code",
      "metadata": {
        "collapsed": true,
        "jupyter": {
          "source_hidden": false,
          "outputs_hidden": false
        },
        "nteract": {
          "transient": {
            "deleting": false
          }
        },
        "gather": {
          "logged": 1628542028031
        },
        "colab": {
          "base_uri": "https://localhost:8080/"
        },
        "id": "RMU_H5e7ztp5",
        "outputId": "798e51cd-09f9-4cb9-e8c3-73fbb9a18640"
      },
      "source": [
        "print(data['input_ids'].shape)\n",
        "print(data['attention_mask'].shape)\n",
        "print(data['targets'].shape)"
      ],
      "execution_count": 37,
      "outputs": [
        {
          "output_type": "stream",
          "name": "stdout",
          "text": [
            "torch.Size([32, 128])\n",
            "torch.Size([32, 128])\n",
            "torch.Size([32])\n"
          ]
        }
      ]
    },
    {
      "cell_type": "code",
      "metadata": {
        "collapsed": true,
        "jupyter": {
          "source_hidden": false,
          "outputs_hidden": false
        },
        "nteract": {
          "transient": {
            "deleting": false
          }
        },
        "gather": {
          "logged": 1628542051315
        },
        "colab": {
          "base_uri": "https://localhost:8080/",
          "height": 143,
          "referenced_widgets": [
            "d15121b6e3b144758b0fdc93418acc41",
            "79a9039833bc4a1f868be099e1351ed0",
            "6926ffb1f1fe4376a6a404f9b16407d3",
            "7e7e0982595347d7becbc65b1a485174",
            "5693ba3c0693467a99e219746c680461",
            "e1d874b28d8340eebb5c2f39c9f87b7a",
            "25a6c0a188be4e7ca54796e069dcb2e8",
            "23cae751bdbb47aa9e6ea6cfbb6ba43e",
            "e0a00cfa591f4e0cb8ebf05f02c32765",
            "0e10621a0a5d4bc1984fb335ee325f52",
            "8fa94ebf57b449d4a971c90b02ffa896"
          ]
        },
        "id": "sTTaFbSBztp5",
        "outputId": "1fc224f0-7d67-4055-866f-95dac760dacb"
      },
      "source": [
        "bert_model_1 = DistilBertModel.from_pretrained(PRE_TRAINED_MODEL_NAME,output_hidden_states=True)\n",
        "bert_model_1.resize_token_embeddings(len(tokenizer))"
      ],
      "execution_count": 38,
      "outputs": [
        {
          "output_type": "display_data",
          "data": {
            "application/vnd.jupyter.widget-view+json": {
              "model_id": "d15121b6e3b144758b0fdc93418acc41",
              "version_minor": 0,
              "version_major": 2
            },
            "text/plain": [
              "Downloading:   0%|          | 0.00/256M [00:00<?, ?B/s]"
            ]
          },
          "metadata": {}
        },
        {
          "output_type": "stream",
          "name": "stderr",
          "text": [
            "Some weights of the model checkpoint at distilbert-base-uncased were not used when initializing DistilBertModel: ['vocab_transform.bias', 'vocab_projector.bias', 'vocab_transform.weight', 'vocab_projector.weight', 'vocab_layer_norm.bias', 'vocab_layer_norm.weight']\n",
            "- This IS expected if you are initializing DistilBertModel from the checkpoint of a model trained on another task or with another architecture (e.g. initializing a BertForSequenceClassification model from a BertForPreTraining model).\n",
            "- This IS NOT expected if you are initializing DistilBertModel from the checkpoint of a model that you expect to be exactly identical (initializing a BertForSequenceClassification model from a BertForSequenceClassification model).\n"
          ]
        },
        {
          "output_type": "execute_result",
          "data": {
            "text/plain": [
              "Embedding(30884, 768)"
            ]
          },
          "metadata": {},
          "execution_count": 38
        }
      ]
    },
    {
      "cell_type": "code",
      "metadata": {
        "collapsed": true,
        "jupyter": {
          "source_hidden": false,
          "outputs_hidden": false
        },
        "nteract": {
          "transient": {
            "deleting": false
          }
        },
        "gather": {
          "logged": 1628542052197
        },
        "id": "lNE8FFcDztp6"
      },
      "source": [
        "last_hidden_state, pooled_output = bert_model_1(\n",
        "  input_ids=encoding['input_ids'], \n",
        "  attention_mask=encoding['attention_mask'],\n",
        "  return_dict = False\n",
        ")"
      ],
      "execution_count": 39,
      "outputs": []
    },
    {
      "cell_type": "code",
      "metadata": {
        "collapsed": true,
        "jupyter": {
          "source_hidden": false,
          "outputs_hidden": false
        },
        "nteract": {
          "transient": {
            "deleting": false
          }
        },
        "gather": {
          "logged": 1628542053097
        },
        "colab": {
          "base_uri": "https://localhost:8080/"
        },
        "id": "K3NOI5vhztp6",
        "outputId": "6541cc7d-add3-4ed0-92bf-bb79d8a000b3"
      },
      "source": [
        "last_hidden_state.shape"
      ],
      "execution_count": 40,
      "outputs": [
        {
          "output_type": "execute_result",
          "data": {
            "text/plain": [
              "torch.Size([1, 32, 768])"
            ]
          },
          "metadata": {},
          "execution_count": 40
        }
      ]
    },
    {
      "cell_type": "code",
      "metadata": {
        "collapsed": true,
        "jupyter": {
          "source_hidden": false,
          "outputs_hidden": false
        },
        "nteract": {
          "transient": {
            "deleting": false
          }
        },
        "gather": {
          "logged": 1628542057526
        },
        "colab": {
          "base_uri": "https://localhost:8080/"
        },
        "id": "QvGHv4fAztp7",
        "outputId": "49280bcd-e14b-461f-9bc2-7962f6cfe82f"
      },
      "source": [
        "bert_model_1.config.hidden_size"
      ],
      "execution_count": 41,
      "outputs": [
        {
          "output_type": "execute_result",
          "data": {
            "text/plain": [
              "768"
            ]
          },
          "metadata": {},
          "execution_count": 41
        }
      ]
    },
    {
      "cell_type": "code",
      "metadata": {
        "collapsed": true,
        "jupyter": {
          "source_hidden": false,
          "outputs_hidden": false
        },
        "nteract": {
          "transient": {
            "deleting": false
          }
        },
        "gather": {
          "logged": 1628542059145
        },
        "colab": {
          "base_uri": "https://localhost:8080/",
          "height": 172
        },
        "id": "5q8PdTsdztp7",
        "outputId": "fb13353f-76ed-4dbb-9426-9b549ff71618"
      },
      "source": [
        "pooled_output.shape"
      ],
      "execution_count": 42,
      "outputs": [
        {
          "output_type": "error",
          "ename": "AttributeError",
          "evalue": "ignored",
          "traceback": [
            "\u001b[0;31m---------------------------------------------------------------------------\u001b[0m",
            "\u001b[0;31mAttributeError\u001b[0m                            Traceback (most recent call last)",
            "\u001b[0;32m<ipython-input-42-d5f0470db3f6>\u001b[0m in \u001b[0;36m<module>\u001b[0;34m()\u001b[0m\n\u001b[0;32m----> 1\u001b[0;31m \u001b[0mpooled_output\u001b[0m\u001b[0;34m.\u001b[0m\u001b[0mshape\u001b[0m\u001b[0;34m\u001b[0m\u001b[0;34m\u001b[0m\u001b[0m\n\u001b[0m",
            "\u001b[0;31mAttributeError\u001b[0m: 'tuple' object has no attribute 'shape'"
          ]
        }
      ]
    },
    {
      "cell_type": "code",
      "metadata": {
        "collapsed": true,
        "jupyter": {
          "source_hidden": false,
          "outputs_hidden": false
        },
        "nteract": {
          "transient": {
            "deleting": false
          }
        },
        "gather": {
          "logged": 1628542062775
        },
        "id": "ezq-1nJzztp8"
      },
      "source": [
        "class SarcasmClassifier(nn.Module):\n",
        "\n",
        "  def __init__(self, n_classes):\n",
        "    super(SarcasmClassifier, self).__init__()\n",
        "    self.l1 = bert_model_1\n",
        "    self.pre_classifier = torch.nn.Linear(768, 768)\n",
        "    self.dropout = torch.nn.Dropout(0.3)\n",
        "    self.classifier = torch.nn.Linear(768, 2)\n",
        "  def forward(self, input_ids, attention_mask):\n",
        "    output_1 = self.l1(input_ids=input_ids, attention_mask=attention_mask)\n",
        "    hidden_state = output_1[0]\n",
        "    pooler = hidden_state[:, 0]\n",
        "    pooler = self.pre_classifier(pooler)\n",
        "    pooler = torch.nn.ReLU()(pooler)\n",
        "    pooler = self.dropout(pooler)\n",
        "    output = self.classifier(pooler)\n",
        "    return output\n",
        "    "
      ],
      "execution_count": 43,
      "outputs": []
    },
    {
      "cell_type": "code",
      "metadata": {
        "collapsed": true,
        "jupyter": {
          "source_hidden": false,
          "outputs_hidden": false
        },
        "nteract": {
          "transient": {
            "deleting": false
          }
        },
        "gather": {
          "logged": 1628543480185
        },
        "id": "wnKxnnaqztp8"
      },
      "source": [
        "class_names=['1', '0']"
      ],
      "execution_count": 44,
      "outputs": []
    },
    {
      "cell_type": "code",
      "metadata": {
        "collapsed": true,
        "jupyter": {
          "source_hidden": false,
          "outputs_hidden": false
        },
        "nteract": {
          "transient": {
            "deleting": false
          }
        },
        "gather": {
          "logged": 1628542067080
        },
        "colab": {
          "base_uri": "https://localhost:8080/"
        },
        "id": "8taxt9wuztp9",
        "outputId": "b67810d1-13ce-4d12-ffb7-60da0b4009e6"
      },
      "source": [
        "len(class_names)"
      ],
      "execution_count": 45,
      "outputs": [
        {
          "output_type": "execute_result",
          "data": {
            "text/plain": [
              "2"
            ]
          },
          "metadata": {},
          "execution_count": 45
        }
      ]
    },
    {
      "cell_type": "code",
      "metadata": {
        "id": "ZgWI4j3aSwDl"
      },
      "source": [
        "model = BertForSequenceClassification.from_pretrained(\n",
        "    \"bert-base-uncased\", # Use the 12-layer BERT model, with an uncased vocab.\n",
        "    num_labels = 2, # The number of output labels--2 for binary classification.\n",
        "                    # You can increase this for multi-class tasks.   \n",
        "    output_attentions = False, # Whether the model returns attentions weights.\n",
        "    output_hidden_states = False, # Whether the model returns all hidden-states.\n",
        ")"
      ],
      "execution_count": null,
      "outputs": []
    },
    {
      "cell_type": "code",
      "metadata": {
        "collapsed": true,
        "jupyter": {
          "source_hidden": false,
          "outputs_hidden": false
        },
        "nteract": {
          "transient": {
            "deleting": false
          }
        },
        "gather": {
          "logged": 1628542100563
        },
        "id": "VaWv_jkoztp9"
      },
      "source": [
        "model = SarcasmClassifier(len(class_names))\n",
        "model = model.to(device)"
      ],
      "execution_count": 46,
      "outputs": []
    },
    {
      "cell_type": "code",
      "metadata": {
        "collapsed": true,
        "jupyter": {
          "source_hidden": false,
          "outputs_hidden": false
        },
        "nteract": {
          "transient": {
            "deleting": false
          }
        },
        "gather": {
          "logged": 1628542105754
        },
        "colab": {
          "base_uri": "https://localhost:8080/"
        },
        "id": "kzSibseqztp9",
        "outputId": "26717e3e-6724-4746-d26c-383e742f08cb"
      },
      "source": [
        "input_ids = data['input_ids'].to(device)\n",
        "attention_mask = data['attention_mask'].to(device)\n",
        "\n",
        "print(input_ids.shape) # batch size x seq length\n",
        "print(attention_mask.shape) # batch size x seq length"
      ],
      "execution_count": 47,
      "outputs": [
        {
          "output_type": "stream",
          "name": "stdout",
          "text": [
            "torch.Size([32, 128])\n",
            "torch.Size([32, 128])\n"
          ]
        }
      ]
    },
    {
      "cell_type": "code",
      "metadata": {
        "collapsed": true,
        "jupyter": {
          "source_hidden": false,
          "outputs_hidden": false
        },
        "nteract": {
          "transient": {
            "deleting": false
          }
        },
        "gather": {
          "logged": 1628542108826
        },
        "colab": {
          "base_uri": "https://localhost:8080/"
        },
        "id": "8g-06PX2ztp-",
        "outputId": "b65a6592-fe51-4bf7-bf2f-5ccb36da1e8b"
      },
      "source": [
        "F.softmax(model(input_ids, attention_mask), dim=1)"
      ],
      "execution_count": 48,
      "outputs": [
        {
          "output_type": "execute_result",
          "data": {
            "text/plain": [
              "tensor([[0.5264, 0.4736],\n",
              "        [0.4937, 0.5063],\n",
              "        [0.5155, 0.4845],\n",
              "        [0.4883, 0.5117],\n",
              "        [0.5248, 0.4752],\n",
              "        [0.4663, 0.5337],\n",
              "        [0.4791, 0.5209],\n",
              "        [0.4904, 0.5096],\n",
              "        [0.4854, 0.5146],\n",
              "        [0.5133, 0.4867],\n",
              "        [0.5054, 0.4946],\n",
              "        [0.4834, 0.5166],\n",
              "        [0.4707, 0.5293],\n",
              "        [0.4704, 0.5296],\n",
              "        [0.5121, 0.4879],\n",
              "        [0.5212, 0.4788],\n",
              "        [0.5159, 0.4841],\n",
              "        [0.4932, 0.5068],\n",
              "        [0.4917, 0.5083],\n",
              "        [0.4874, 0.5126],\n",
              "        [0.5074, 0.4926],\n",
              "        [0.5375, 0.4625],\n",
              "        [0.5254, 0.4746],\n",
              "        [0.4756, 0.5244],\n",
              "        [0.4673, 0.5327],\n",
              "        [0.4745, 0.5255],\n",
              "        [0.5078, 0.4922],\n",
              "        [0.4783, 0.5217],\n",
              "        [0.5030, 0.4970],\n",
              "        [0.5510, 0.4490],\n",
              "        [0.4768, 0.5232],\n",
              "        [0.4977, 0.5023]], device='cuda:0', grad_fn=<SoftmaxBackward>)"
            ]
          },
          "metadata": {},
          "execution_count": 48
        }
      ]
    },
    {
      "cell_type": "code",
      "metadata": {
        "id": "FxaeD6kaLzBN"
      },
      "source": [
        "param_optimizer = list(model.named_parameters())\n",
        "no_decay = ['bias', 'LayerNorm.weight']\n",
        "# Separate the `weight` parameters from the `bias` parameters. \n",
        "# - For the `weight` parameters, this specifies a 'weight_decay_rate' of 0.01. \n",
        "# - For the `bias` parameters, the 'weight_decay_rate' is 0.0. \n",
        "optimizer_grouped_parameters = [\n",
        "    # Filter for all parameters which *don't* include 'bias', 'gamma', 'beta'.\n",
        "    {'params': [p for n, p in param_optimizer if not any(nd in n for nd in no_decay)],\n",
        "     'weight_decay_rate': 0.1},\n",
        "    \n",
        "    # Filter for parameters which *do* include those.\n",
        "    {'params': [p for n, p in param_optimizer if any(nd in n for nd in no_decay)],\n",
        "     'weight_decay_rate': 0.0}\n",
        "]"
      ],
      "execution_count": 49,
      "outputs": []
    },
    {
      "cell_type": "code",
      "metadata": {
        "collapsed": true,
        "jupyter": {
          "source_hidden": false,
          "outputs_hidden": false
        },
        "nteract": {
          "transient": {
            "deleting": false
          }
        },
        "gather": {
          "logged": 1628542133125
        },
        "id": "iL7bzkOxztp-"
      },
      "source": [
        "EPOCHS = 5\n",
        "\n",
        "optimizer = AdamW(optimizer_grouped_parameters, lr=2e-5, eps= 1e-8)\n",
        "total_steps = len(train_data_loader) * EPOCHS\n",
        "\n",
        "scheduler = get_linear_schedule_with_warmup(\n",
        "  optimizer,\n",
        "  num_warmup_steps=0,\n",
        "  num_training_steps=total_steps\n",
        ")\n",
        "\n",
        "loss_fn = nn.CrossEntropyLoss().to(device)"
      ],
      "execution_count": 50,
      "outputs": []
    },
    {
      "cell_type": "code",
      "metadata": {
        "collapsed": true,
        "jupyter": {
          "source_hidden": false,
          "outputs_hidden": false
        },
        "nteract": {
          "transient": {
            "deleting": false
          }
        },
        "gather": {
          "logged": 1628542136704
        },
        "id": "MS46adZbztp_"
      },
      "source": [
        "def train_epoch(\n",
        "  model, \n",
        "  data_loader, \n",
        "  loss_fn, \n",
        "  optimizer, \n",
        "  device, \n",
        "  scheduler, \n",
        "  n_examples\n",
        "):\n",
        "  model = model.train()\n",
        "\n",
        "  losses = []\n",
        "  correct_predictions = 0\n",
        "  \n",
        "  for d in data_loader:\n",
        "    input_ids = d[\"input_ids\"].to(device)\n",
        "    attention_mask = d[\"attention_mask\"].to(device)\n",
        "    targets = d[\"targets\"].to(device)\n",
        "\n",
        "    outputs = model(\n",
        "      input_ids=input_ids,\n",
        "      attention_mask=attention_mask\n",
        "    )\n",
        "\n",
        "    _, preds = torch.max(outputs, dim=1)\n",
        "    loss = loss_fn(outputs, targets)\n",
        "\n",
        "    correct_predictions += torch.sum(preds == targets)\n",
        "    losses.append(loss.item())\n",
        "\n",
        "    loss.backward()\n",
        "    nn.utils.clip_grad_norm_(model.parameters(), max_norm=1.0)\n",
        "    optimizer.step()\n",
        "    scheduler.step()\n",
        "    optimizer.zero_grad()\n",
        "\n",
        "  return correct_predictions.double() / n_examples, np.mean(losses)"
      ],
      "execution_count": 51,
      "outputs": []
    },
    {
      "cell_type": "code",
      "metadata": {
        "collapsed": true,
        "jupyter": {
          "source_hidden": false,
          "outputs_hidden": false
        },
        "nteract": {
          "transient": {
            "deleting": false
          }
        },
        "gather": {
          "logged": 1628542138373
        },
        "id": "543L-EZfztp_"
      },
      "source": [
        "def eval_model(model, data_loader, loss_fn, device, n_examples):\n",
        "  model = model.eval()\n",
        "\n",
        "  losses = []\n",
        "  correct_predictions = 0\n",
        "\n",
        "  with torch.no_grad():\n",
        "    for d in data_loader:\n",
        "      input_ids = d[\"input_ids\"].to(device)\n",
        "      attention_mask = d[\"attention_mask\"].to(device)\n",
        "      targets = d[\"targets\"].to(device)\n",
        "\n",
        "      outputs = model(\n",
        "        input_ids=input_ids,\n",
        "        attention_mask=attention_mask\n",
        "      )\n",
        "      _, preds = torch.max(outputs, dim=1)\n",
        "\n",
        "      loss = loss_fn(outputs, targets)\n",
        "\n",
        "      correct_predictions += torch.sum(preds == targets)\n",
        "      losses.append(loss.item())\n",
        "\n",
        "  return correct_predictions.double() / n_examples, np.mean(losses)"
      ],
      "execution_count": 52,
      "outputs": []
    },
    {
      "cell_type": "code",
      "metadata": {
        "collapsed": true,
        "jupyter": {
          "source_hidden": false,
          "outputs_hidden": false
        },
        "nteract": {
          "transient": {
            "deleting": false
          }
        },
        "colab": {
          "base_uri": "https://localhost:8080/"
        },
        "id": "i9XPrBcpztqA",
        "outputId": "18c351cf-821b-4e80-8618-e9271c83b4f1"
      },
      "source": [
        "%%time\n",
        "\n",
        "history = defaultdict(list)\n",
        "best_accuracy = 0\n",
        "\n",
        "for epoch in range(EPOCHS):\n",
        "\n",
        "  print(f'Epoch {epoch + 1}/{EPOCHS}')\n",
        "  print('-' * 10)\n",
        "\n",
        "  train_acc, train_loss = train_epoch(\n",
        "    model,\n",
        "    train_data_loader,    \n",
        "    loss_fn, \n",
        "    optimizer, \n",
        "    device, \n",
        "    scheduler, \n",
        "    len(df_train)\n",
        "  )\n",
        "\n",
        "  print(f'Train loss {train_loss} accuracy {train_acc}')\n",
        "\n",
        "  val_acc, val_loss = eval_model(\n",
        "    model,\n",
        "    val_data_loader,\n",
        "    loss_fn, \n",
        "    device, \n",
        "    len(df_val)\n",
        "  )\n",
        "\n",
        "  print(f'Val   loss {val_loss} accuracy {val_acc}')\n",
        "  print()\n",
        "\n",
        "  history['train_acc'].append(train_acc)\n",
        "  history['train_loss'].append(train_loss)\n",
        "  history['val_acc'].append(val_acc)\n",
        "  history['val_loss'].append(val_loss)\n",
        "\n",
        "  if val_acc > best_accuracy:\n",
        "    torch.save(model.state_dict(), 'distilbert_ptacek_wemoji_run2.bin')\n",
        "    best_accuracy = val_acc"
      ],
      "execution_count": 53,
      "outputs": [
        {
          "output_type": "stream",
          "name": "stdout",
          "text": [
            "Epoch 1/5\n",
            "----------\n"
          ]
        },
        {
          "output_type": "stream",
          "name": "stderr",
          "text": [
            "/usr/local/lib/python3.7/dist-packages/transformers/tokenization_utils_base.py:2217: FutureWarning: The `pad_to_max_length` argument is deprecated and will be removed in a future version, use `padding=True` or `padding='longest'` to pad to the longest sequence in the batch, or use `padding='max_length'` to pad to a max length. In this case, you can give a specific length with `max_length` (e.g. `max_length=45`) or leave max_length to None to pad to the maximal input size of the model (e.g. 512 for Bert).\n",
            "  FutureWarning,\n",
            "/usr/local/lib/python3.7/dist-packages/transformers/tokenization_utils_base.py:2217: FutureWarning: The `pad_to_max_length` argument is deprecated and will be removed in a future version, use `padding=True` or `padding='longest'` to pad to the longest sequence in the batch, or use `padding='max_length'` to pad to a max length. In this case, you can give a specific length with `max_length` (e.g. `max_length=45`) or leave max_length to None to pad to the maximal input size of the model (e.g. 512 for Bert).\n",
            "  FutureWarning,\n",
            "/usr/local/lib/python3.7/dist-packages/transformers/tokenization_utils_base.py:2217: FutureWarning: The `pad_to_max_length` argument is deprecated and will be removed in a future version, use `padding=True` or `padding='longest'` to pad to the longest sequence in the batch, or use `padding='max_length'` to pad to a max length. In this case, you can give a specific length with `max_length` (e.g. `max_length=45`) or leave max_length to None to pad to the maximal input size of the model (e.g. 512 for Bert).\n",
            "  FutureWarning,\n",
            "/usr/local/lib/python3.7/dist-packages/transformers/tokenization_utils_base.py:2217: FutureWarning: The `pad_to_max_length` argument is deprecated and will be removed in a future version, use `padding=True` or `padding='longest'` to pad to the longest sequence in the batch, or use `padding='max_length'` to pad to a max length. In this case, you can give a specific length with `max_length` (e.g. `max_length=45`) or leave max_length to None to pad to the maximal input size of the model (e.g. 512 for Bert).\n",
            "  FutureWarning,\n"
          ]
        },
        {
          "output_type": "stream",
          "name": "stdout",
          "text": [
            "Train loss 0.313469617060417 accuracy 0.8589721135695798\n"
          ]
        },
        {
          "output_type": "stream",
          "name": "stderr",
          "text": [
            "/usr/local/lib/python3.7/dist-packages/transformers/tokenization_utils_base.py:2217: FutureWarning: The `pad_to_max_length` argument is deprecated and will be removed in a future version, use `padding=True` or `padding='longest'` to pad to the longest sequence in the batch, or use `padding='max_length'` to pad to a max length. In this case, you can give a specific length with `max_length` (e.g. `max_length=45`) or leave max_length to None to pad to the maximal input size of the model (e.g. 512 for Bert).\n",
            "  FutureWarning,\n",
            "/usr/local/lib/python3.7/dist-packages/transformers/tokenization_utils_base.py:2217: FutureWarning: The `pad_to_max_length` argument is deprecated and will be removed in a future version, use `padding=True` or `padding='longest'` to pad to the longest sequence in the batch, or use `padding='max_length'` to pad to a max length. In this case, you can give a specific length with `max_length` (e.g. `max_length=45`) or leave max_length to None to pad to the maximal input size of the model (e.g. 512 for Bert).\n",
            "  FutureWarning,\n",
            "/usr/local/lib/python3.7/dist-packages/transformers/tokenization_utils_base.py:2217: FutureWarning: The `pad_to_max_length` argument is deprecated and will be removed in a future version, use `padding=True` or `padding='longest'` to pad to the longest sequence in the batch, or use `padding='max_length'` to pad to a max length. In this case, you can give a specific length with `max_length` (e.g. `max_length=45`) or leave max_length to None to pad to the maximal input size of the model (e.g. 512 for Bert).\n",
            "  FutureWarning,\n",
            "/usr/local/lib/python3.7/dist-packages/transformers/tokenization_utils_base.py:2217: FutureWarning: The `pad_to_max_length` argument is deprecated and will be removed in a future version, use `padding=True` or `padding='longest'` to pad to the longest sequence in the batch, or use `padding='max_length'` to pad to a max length. In this case, you can give a specific length with `max_length` (e.g. `max_length=45`) or leave max_length to None to pad to the maximal input size of the model (e.g. 512 for Bert).\n",
            "  FutureWarning,\n"
          ]
        },
        {
          "output_type": "stream",
          "name": "stdout",
          "text": [
            "Val   loss 0.2612289898760378 accuracy 0.8881227758007118\n",
            "\n",
            "Epoch 2/5\n",
            "----------\n"
          ]
        },
        {
          "output_type": "stream",
          "name": "stderr",
          "text": [
            "/usr/local/lib/python3.7/dist-packages/transformers/tokenization_utils_base.py:2217: FutureWarning: The `pad_to_max_length` argument is deprecated and will be removed in a future version, use `padding=True` or `padding='longest'` to pad to the longest sequence in the batch, or use `padding='max_length'` to pad to a max length. In this case, you can give a specific length with `max_length` (e.g. `max_length=45`) or leave max_length to None to pad to the maximal input size of the model (e.g. 512 for Bert).\n",
            "  FutureWarning,\n",
            "/usr/local/lib/python3.7/dist-packages/transformers/tokenization_utils_base.py:2217: FutureWarning: The `pad_to_max_length` argument is deprecated and will be removed in a future version, use `padding=True` or `padding='longest'` to pad to the longest sequence in the batch, or use `padding='max_length'` to pad to a max length. In this case, you can give a specific length with `max_length` (e.g. `max_length=45`) or leave max_length to None to pad to the maximal input size of the model (e.g. 512 for Bert).\n",
            "  FutureWarning,\n",
            "/usr/local/lib/python3.7/dist-packages/transformers/tokenization_utils_base.py:2217: FutureWarning: The `pad_to_max_length` argument is deprecated and will be removed in a future version, use `padding=True` or `padding='longest'` to pad to the longest sequence in the batch, or use `padding='max_length'` to pad to a max length. In this case, you can give a specific length with `max_length` (e.g. `max_length=45`) or leave max_length to None to pad to the maximal input size of the model (e.g. 512 for Bert).\n",
            "  FutureWarning,\n",
            "/usr/local/lib/python3.7/dist-packages/transformers/tokenization_utils_base.py:2217: FutureWarning: The `pad_to_max_length` argument is deprecated and will be removed in a future version, use `padding=True` or `padding='longest'` to pad to the longest sequence in the batch, or use `padding='max_length'` to pad to a max length. In this case, you can give a specific length with `max_length` (e.g. `max_length=45`) or leave max_length to None to pad to the maximal input size of the model (e.g. 512 for Bert).\n",
            "  FutureWarning,\n"
          ]
        },
        {
          "output_type": "stream",
          "name": "stdout",
          "text": [
            "Train loss 0.20066896250650082 accuracy 0.9183061863895537\n"
          ]
        },
        {
          "output_type": "stream",
          "name": "stderr",
          "text": [
            "/usr/local/lib/python3.7/dist-packages/transformers/tokenization_utils_base.py:2217: FutureWarning: The `pad_to_max_length` argument is deprecated and will be removed in a future version, use `padding=True` or `padding='longest'` to pad to the longest sequence in the batch, or use `padding='max_length'` to pad to a max length. In this case, you can give a specific length with `max_length` (e.g. `max_length=45`) or leave max_length to None to pad to the maximal input size of the model (e.g. 512 for Bert).\n",
            "  FutureWarning,\n",
            "/usr/local/lib/python3.7/dist-packages/transformers/tokenization_utils_base.py:2217: FutureWarning: The `pad_to_max_length` argument is deprecated and will be removed in a future version, use `padding=True` or `padding='longest'` to pad to the longest sequence in the batch, or use `padding='max_length'` to pad to a max length. In this case, you can give a specific length with `max_length` (e.g. `max_length=45`) or leave max_length to None to pad to the maximal input size of the model (e.g. 512 for Bert).\n",
            "  FutureWarning,\n",
            "/usr/local/lib/python3.7/dist-packages/transformers/tokenization_utils_base.py:2217: FutureWarning: The `pad_to_max_length` argument is deprecated and will be removed in a future version, use `padding=True` or `padding='longest'` to pad to the longest sequence in the batch, or use `padding='max_length'` to pad to a max length. In this case, you can give a specific length with `max_length` (e.g. `max_length=45`) or leave max_length to None to pad to the maximal input size of the model (e.g. 512 for Bert).\n",
            "  FutureWarning,\n",
            "/usr/local/lib/python3.7/dist-packages/transformers/tokenization_utils_base.py:2217: FutureWarning: The `pad_to_max_length` argument is deprecated and will be removed in a future version, use `padding=True` or `padding='longest'` to pad to the longest sequence in the batch, or use `padding='max_length'` to pad to a max length. In this case, you can give a specific length with `max_length` (e.g. `max_length=45`) or leave max_length to None to pad to the maximal input size of the model (e.g. 512 for Bert).\n",
            "  FutureWarning,\n"
          ]
        },
        {
          "output_type": "stream",
          "name": "stdout",
          "text": [
            "Val   loss 0.2879213550959936 accuracy 0.8889012455516013\n",
            "\n",
            "Epoch 3/5\n",
            "----------\n"
          ]
        },
        {
          "output_type": "stream",
          "name": "stderr",
          "text": [
            "/usr/local/lib/python3.7/dist-packages/transformers/tokenization_utils_base.py:2217: FutureWarning: The `pad_to_max_length` argument is deprecated and will be removed in a future version, use `padding=True` or `padding='longest'` to pad to the longest sequence in the batch, or use `padding='max_length'` to pad to a max length. In this case, you can give a specific length with `max_length` (e.g. `max_length=45`) or leave max_length to None to pad to the maximal input size of the model (e.g. 512 for Bert).\n",
            "  FutureWarning,\n",
            "/usr/local/lib/python3.7/dist-packages/transformers/tokenization_utils_base.py:2217: FutureWarning: The `pad_to_max_length` argument is deprecated and will be removed in a future version, use `padding=True` or `padding='longest'` to pad to the longest sequence in the batch, or use `padding='max_length'` to pad to a max length. In this case, you can give a specific length with `max_length` (e.g. `max_length=45`) or leave max_length to None to pad to the maximal input size of the model (e.g. 512 for Bert).\n",
            "  FutureWarning,\n",
            "/usr/local/lib/python3.7/dist-packages/transformers/tokenization_utils_base.py:2217: FutureWarning: The `pad_to_max_length` argument is deprecated and will be removed in a future version, use `padding=True` or `padding='longest'` to pad to the longest sequence in the batch, or use `padding='max_length'` to pad to a max length. In this case, you can give a specific length with `max_length` (e.g. `max_length=45`) or leave max_length to None to pad to the maximal input size of the model (e.g. 512 for Bert).\n",
            "  FutureWarning,\n",
            "/usr/local/lib/python3.7/dist-packages/transformers/tokenization_utils_base.py:2217: FutureWarning: The `pad_to_max_length` argument is deprecated and will be removed in a future version, use `padding=True` or `padding='longest'` to pad to the longest sequence in the batch, or use `padding='max_length'` to pad to a max length. In this case, you can give a specific length with `max_length` (e.g. `max_length=45`) or leave max_length to None to pad to the maximal input size of the model (e.g. 512 for Bert).\n",
            "  FutureWarning,\n"
          ]
        },
        {
          "output_type": "stream",
          "name": "stdout",
          "text": [
            "Train loss 0.1272084059113704 accuracy 0.9532761204195613\n"
          ]
        },
        {
          "output_type": "stream",
          "name": "stderr",
          "text": [
            "/usr/local/lib/python3.7/dist-packages/transformers/tokenization_utils_base.py:2217: FutureWarning: The `pad_to_max_length` argument is deprecated and will be removed in a future version, use `padding=True` or `padding='longest'` to pad to the longest sequence in the batch, or use `padding='max_length'` to pad to a max length. In this case, you can give a specific length with `max_length` (e.g. `max_length=45`) or leave max_length to None to pad to the maximal input size of the model (e.g. 512 for Bert).\n",
            "  FutureWarning,\n",
            "/usr/local/lib/python3.7/dist-packages/transformers/tokenization_utils_base.py:2217: FutureWarning: The `pad_to_max_length` argument is deprecated and will be removed in a future version, use `padding=True` or `padding='longest'` to pad to the longest sequence in the batch, or use `padding='max_length'` to pad to a max length. In this case, you can give a specific length with `max_length` (e.g. `max_length=45`) or leave max_length to None to pad to the maximal input size of the model (e.g. 512 for Bert).\n",
            "  FutureWarning,\n",
            "/usr/local/lib/python3.7/dist-packages/transformers/tokenization_utils_base.py:2217: FutureWarning: The `pad_to_max_length` argument is deprecated and will be removed in a future version, use `padding=True` or `padding='longest'` to pad to the longest sequence in the batch, or use `padding='max_length'` to pad to a max length. In this case, you can give a specific length with `max_length` (e.g. `max_length=45`) or leave max_length to None to pad to the maximal input size of the model (e.g. 512 for Bert).\n",
            "  FutureWarning,\n",
            "/usr/local/lib/python3.7/dist-packages/transformers/tokenization_utils_base.py:2217: FutureWarning: The `pad_to_max_length` argument is deprecated and will be removed in a future version, use `padding=True` or `padding='longest'` to pad to the longest sequence in the batch, or use `padding='max_length'` to pad to a max length. In this case, you can give a specific length with `max_length` (e.g. `max_length=45`) or leave max_length to None to pad to the maximal input size of the model (e.g. 512 for Bert).\n",
            "  FutureWarning,\n"
          ]
        },
        {
          "output_type": "stream",
          "name": "stdout",
          "text": [
            "Val   loss 0.4036623741370821 accuracy 0.8893460854092526\n",
            "\n",
            "Epoch 4/5\n",
            "----------\n"
          ]
        },
        {
          "output_type": "stream",
          "name": "stderr",
          "text": [
            "/usr/local/lib/python3.7/dist-packages/transformers/tokenization_utils_base.py:2217: FutureWarning: The `pad_to_max_length` argument is deprecated and will be removed in a future version, use `padding=True` or `padding='longest'` to pad to the longest sequence in the batch, or use `padding='max_length'` to pad to a max length. In this case, you can give a specific length with `max_length` (e.g. `max_length=45`) or leave max_length to None to pad to the maximal input size of the model (e.g. 512 for Bert).\n",
            "  FutureWarning,\n",
            "/usr/local/lib/python3.7/dist-packages/transformers/tokenization_utils_base.py:2217: FutureWarning: The `pad_to_max_length` argument is deprecated and will be removed in a future version, use `padding=True` or `padding='longest'` to pad to the longest sequence in the batch, or use `padding='max_length'` to pad to a max length. In this case, you can give a specific length with `max_length` (e.g. `max_length=45`) or leave max_length to None to pad to the maximal input size of the model (e.g. 512 for Bert).\n",
            "  FutureWarning,\n",
            "/usr/local/lib/python3.7/dist-packages/transformers/tokenization_utils_base.py:2217: FutureWarning: The `pad_to_max_length` argument is deprecated and will be removed in a future version, use `padding=True` or `padding='longest'` to pad to the longest sequence in the batch, or use `padding='max_length'` to pad to a max length. In this case, you can give a specific length with `max_length` (e.g. `max_length=45`) or leave max_length to None to pad to the maximal input size of the model (e.g. 512 for Bert).\n",
            "  FutureWarning,\n",
            "/usr/local/lib/python3.7/dist-packages/transformers/tokenization_utils_base.py:2217: FutureWarning: The `pad_to_max_length` argument is deprecated and will be removed in a future version, use `padding=True` or `padding='longest'` to pad to the longest sequence in the batch, or use `padding='max_length'` to pad to a max length. In this case, you can give a specific length with `max_length` (e.g. `max_length=45`) or leave max_length to None to pad to the maximal input size of the model (e.g. 512 for Bert).\n",
            "  FutureWarning,\n"
          ]
        },
        {
          "output_type": "stream",
          "name": "stdout",
          "text": [
            "Train loss 0.08115173543994472 accuracy 0.9737093039095491\n"
          ]
        },
        {
          "output_type": "stream",
          "name": "stderr",
          "text": [
            "/usr/local/lib/python3.7/dist-packages/transformers/tokenization_utils_base.py:2217: FutureWarning: The `pad_to_max_length` argument is deprecated and will be removed in a future version, use `padding=True` or `padding='longest'` to pad to the longest sequence in the batch, or use `padding='max_length'` to pad to a max length. In this case, you can give a specific length with `max_length` (e.g. `max_length=45`) or leave max_length to None to pad to the maximal input size of the model (e.g. 512 for Bert).\n",
            "  FutureWarning,\n",
            "/usr/local/lib/python3.7/dist-packages/transformers/tokenization_utils_base.py:2217: FutureWarning: The `pad_to_max_length` argument is deprecated and will be removed in a future version, use `padding=True` or `padding='longest'` to pad to the longest sequence in the batch, or use `padding='max_length'` to pad to a max length. In this case, you can give a specific length with `max_length` (e.g. `max_length=45`) or leave max_length to None to pad to the maximal input size of the model (e.g. 512 for Bert).\n",
            "  FutureWarning,\n",
            "/usr/local/lib/python3.7/dist-packages/transformers/tokenization_utils_base.py:2217: FutureWarning: The `pad_to_max_length` argument is deprecated and will be removed in a future version, use `padding=True` or `padding='longest'` to pad to the longest sequence in the batch, or use `padding='max_length'` to pad to a max length. In this case, you can give a specific length with `max_length` (e.g. `max_length=45`) or leave max_length to None to pad to the maximal input size of the model (e.g. 512 for Bert).\n",
            "  FutureWarning,\n",
            "/usr/local/lib/python3.7/dist-packages/transformers/tokenization_utils_base.py:2217: FutureWarning: The `pad_to_max_length` argument is deprecated and will be removed in a future version, use `padding=True` or `padding='longest'` to pad to the longest sequence in the batch, or use `padding='max_length'` to pad to a max length. In this case, you can give a specific length with `max_length` (e.g. `max_length=45`) or leave max_length to None to pad to the maximal input size of the model (e.g. 512 for Bert).\n",
            "  FutureWarning,\n"
          ]
        },
        {
          "output_type": "stream",
          "name": "stdout",
          "text": [
            "Val   loss 0.5025504049990042 accuracy 0.8899021352313167\n",
            "\n",
            "Epoch 5/5\n",
            "----------\n"
          ]
        },
        {
          "output_type": "stream",
          "name": "stderr",
          "text": [
            "/usr/local/lib/python3.7/dist-packages/transformers/tokenization_utils_base.py:2217: FutureWarning: The `pad_to_max_length` argument is deprecated and will be removed in a future version, use `padding=True` or `padding='longest'` to pad to the longest sequence in the batch, or use `padding='max_length'` to pad to a max length. In this case, you can give a specific length with `max_length` (e.g. `max_length=45`) or leave max_length to None to pad to the maximal input size of the model (e.g. 512 for Bert).\n",
            "  FutureWarning,\n",
            "/usr/local/lib/python3.7/dist-packages/transformers/tokenization_utils_base.py:2217: FutureWarning: The `pad_to_max_length` argument is deprecated and will be removed in a future version, use `padding=True` or `padding='longest'` to pad to the longest sequence in the batch, or use `padding='max_length'` to pad to a max length. In this case, you can give a specific length with `max_length` (e.g. `max_length=45`) or leave max_length to None to pad to the maximal input size of the model (e.g. 512 for Bert).\n",
            "  FutureWarning,\n",
            "/usr/local/lib/python3.7/dist-packages/transformers/tokenization_utils_base.py:2217: FutureWarning: The `pad_to_max_length` argument is deprecated and will be removed in a future version, use `padding=True` or `padding='longest'` to pad to the longest sequence in the batch, or use `padding='max_length'` to pad to a max length. In this case, you can give a specific length with `max_length` (e.g. `max_length=45`) or leave max_length to None to pad to the maximal input size of the model (e.g. 512 for Bert).\n",
            "  FutureWarning,\n",
            "/usr/local/lib/python3.7/dist-packages/transformers/tokenization_utils_base.py:2217: FutureWarning: The `pad_to_max_length` argument is deprecated and will be removed in a future version, use `padding=True` or `padding='longest'` to pad to the longest sequence in the batch, or use `padding='max_length'` to pad to a max length. In this case, you can give a specific length with `max_length` (e.g. `max_length=45`) or leave max_length to None to pad to the maximal input size of the model (e.g. 512 for Bert).\n",
            "  FutureWarning,\n"
          ]
        },
        {
          "output_type": "stream",
          "name": "stdout",
          "text": [
            "Train loss 0.05610197224259344 accuracy 0.9831864090139529\n"
          ]
        },
        {
          "output_type": "stream",
          "name": "stderr",
          "text": [
            "/usr/local/lib/python3.7/dist-packages/transformers/tokenization_utils_base.py:2217: FutureWarning: The `pad_to_max_length` argument is deprecated and will be removed in a future version, use `padding=True` or `padding='longest'` to pad to the longest sequence in the batch, or use `padding='max_length'` to pad to a max length. In this case, you can give a specific length with `max_length` (e.g. `max_length=45`) or leave max_length to None to pad to the maximal input size of the model (e.g. 512 for Bert).\n",
            "  FutureWarning,\n",
            "/usr/local/lib/python3.7/dist-packages/transformers/tokenization_utils_base.py:2217: FutureWarning: The `pad_to_max_length` argument is deprecated and will be removed in a future version, use `padding=True` or `padding='longest'` to pad to the longest sequence in the batch, or use `padding='max_length'` to pad to a max length. In this case, you can give a specific length with `max_length` (e.g. `max_length=45`) or leave max_length to None to pad to the maximal input size of the model (e.g. 512 for Bert).\n",
            "  FutureWarning,\n",
            "/usr/local/lib/python3.7/dist-packages/transformers/tokenization_utils_base.py:2217: FutureWarning: The `pad_to_max_length` argument is deprecated and will be removed in a future version, use `padding=True` or `padding='longest'` to pad to the longest sequence in the batch, or use `padding='max_length'` to pad to a max length. In this case, you can give a specific length with `max_length` (e.g. `max_length=45`) or leave max_length to None to pad to the maximal input size of the model (e.g. 512 for Bert).\n",
            "  FutureWarning,\n",
            "/usr/local/lib/python3.7/dist-packages/transformers/tokenization_utils_base.py:2217: FutureWarning: The `pad_to_max_length` argument is deprecated and will be removed in a future version, use `padding=True` or `padding='longest'` to pad to the longest sequence in the batch, or use `padding='max_length'` to pad to a max length. In this case, you can give a specific length with `max_length` (e.g. `max_length=45`) or leave max_length to None to pad to the maximal input size of the model (e.g. 512 for Bert).\n",
            "  FutureWarning,\n"
          ]
        },
        {
          "output_type": "stream",
          "name": "stdout",
          "text": [
            "Val   loss 0.545857952013645 accuracy 0.890903024911032\n",
            "\n",
            "CPU times: user 28min 16s, sys: 12.4 s, total: 28min 28s\n",
            "Wall time: 28min 25s\n"
          ]
        }
      ]
    },
    {
      "cell_type": "code",
      "metadata": {
        "collapsed": true,
        "jupyter": {
          "source_hidden": false,
          "outputs_hidden": false
        },
        "nteract": {
          "transient": {
            "deleting": false
          }
        },
        "gather": {
          "logged": 1628543120514
        },
        "colab": {
          "base_uri": "https://localhost:8080/",
          "height": 415
        },
        "id": "zrAPw73lztqA",
        "outputId": "2b4becc8-ea0f-45c8-ec21-b8f7a40d9cc6"
      },
      "source": [
        "plt.plot(history['train_acc'], label='train accuracy')\n",
        "plt.plot(history['val_acc'], label='validation accuracy')\n",
        "\n",
        "plt.title('Training history')\n",
        "plt.ylabel('Accuracy')\n",
        "plt.xlabel('Epoch')\n",
        "plt.legend()\n",
        "plt.ylim([0, 1]);"
      ],
      "execution_count": 54,
      "outputs": [
        {
          "output_type": "display_data",
          "data": {
            "image/png": "[encoded data removed]",
            "text/plain": [
              "<Figure size 576x432 with 1 Axes>"
            ]
          },
          "metadata": {
            "image/png": {
              "width": 509,
              "height": 398
            }
          }
        }
      ]
    },
    {
      "cell_type": "code",
      "metadata": {
        "collapsed": true,
        "jupyter": {
          "source_hidden": false,
          "outputs_hidden": false
        },
        "nteract": {
          "transient": {
            "deleting": false
          }
        },
        "gather": {
          "logged": 1628543125557
        },
        "colab": {
          "base_uri": "https://localhost:8080/",
          "height": 415
        },
        "id": "-o0p2u2QztqC",
        "outputId": "5091c0ba-c50b-4f9b-af32-5a4c8b087e0d"
      },
      "source": [
        "plt.plot(history['train_loss'], label='train loss')\n",
        "plt.plot(history['val_loss'], label='validation loss')\n",
        "\n",
        "plt.title('Training Loss vs Validation Loss')\n",
        "plt.ylabel('Loss')\n",
        "plt.xlabel('Epoch')\n",
        "plt.legend()\n",
        "plt.ylim([0, 1]);"
      ],
      "execution_count": 55,
      "outputs": [
        {
          "output_type": "display_data",
          "data": {
            "image/png": "[encoded data removed]",
            "text/plain": [
              "<Figure size 576x432 with 1 Axes>"
            ]
          },
          "metadata": {
            "image/png": {
              "width": 509,
              "height": 398
            }
          }
        }
      ]
    },
    {
      "cell_type": "code",
      "metadata": {
        "collapsed": true,
        "jupyter": {
          "source_hidden": false,
          "outputs_hidden": false
        },
        "nteract": {
          "transient": {
            "deleting": false
          }
        },
        "gather": {
          "logged": 1628543205227
        },
        "id": "nOJ01_qCztqC"
      },
      "source": [
        "def get_predictions(model, data_loader):\n",
        "  model = model.eval()\n",
        "  \n",
        "  tweet_texts = []\n",
        "  predictions = []\n",
        "  prediction_probs = []\n",
        "  real_values = []\n",
        "\n",
        "  with torch.no_grad():\n",
        "    for d in data_loader:\n",
        "\n",
        "      texts = d[\"tweet_text\"]\n",
        "      input_ids = d[\"input_ids\"].to(device)\n",
        "      attention_mask = d[\"attention_mask\"].to(device)\n",
        "      targets = d[\"targets\"].to(device)\n",
        "\n",
        "      outputs = model(\n",
        "        input_ids=input_ids,\n",
        "        attention_mask=attention_mask\n",
        "      )\n",
        "      _, preds = torch.max(outputs, dim=1)\n",
        "\n",
        "      probs = F.softmax(outputs, dim=1)\n",
        "\n",
        "      tweet_texts.extend(texts)\n",
        "      predictions.extend(preds)\n",
        "      prediction_probs.extend(probs)\n",
        "      real_values.extend(targets)\n",
        "\n",
        "  predictions = torch.stack(predictions).cpu()\n",
        "  prediction_probs = torch.stack(prediction_probs).cpu()\n",
        "  real_values = torch.stack(real_values).cpu()\n",
        "  return tweet_texts, predictions, prediction_probs, real_values"
      ],
      "execution_count": 56,
      "outputs": []
    },
    {
      "cell_type": "code",
      "metadata": {
        "collapsed": true,
        "jupyter": {
          "source_hidden": false,
          "outputs_hidden": false
        },
        "nteract": {
          "transient": {
            "deleting": false
          }
        },
        "gather": {
          "logged": 1628543218167
        },
        "colab": {
          "base_uri": "https://localhost:8080/"
        },
        "id": "qiBUsFAiztqC",
        "outputId": "6918e520-bb93-4a47-86aa-f4eb4b7b3872"
      },
      "source": [
        "y_tweet_texts, y_pred, y_pred_probs, y_test = get_predictions(\n",
        "  model,\n",
        "  test_data_loader\n",
        ")"
      ],
      "execution_count": 57,
      "outputs": [
        {
          "output_type": "stream",
          "name": "stderr",
          "text": [
            "/usr/local/lib/python3.7/dist-packages/transformers/tokenization_utils_base.py:2217: FutureWarning: The `pad_to_max_length` argument is deprecated and will be removed in a future version, use `padding=True` or `padding='longest'` to pad to the longest sequence in the batch, or use `padding='max_length'` to pad to a max length. In this case, you can give a specific length with `max_length` (e.g. `max_length=45`) or leave max_length to None to pad to the maximal input size of the model (e.g. 512 for Bert).\n",
            "  FutureWarning,\n",
            "/usr/local/lib/python3.7/dist-packages/transformers/tokenization_utils_base.py:2217: FutureWarning: The `pad_to_max_length` argument is deprecated and will be removed in a future version, use `padding=True` or `padding='longest'` to pad to the longest sequence in the batch, or use `padding='max_length'` to pad to a max length. In this case, you can give a specific length with `max_length` (e.g. `max_length=45`) or leave max_length to None to pad to the maximal input size of the model (e.g. 512 for Bert).\n",
            "  FutureWarning,\n",
            "/usr/local/lib/python3.7/dist-packages/transformers/tokenization_utils_base.py:2217: FutureWarning: The `pad_to_max_length` argument is deprecated and will be removed in a future version, use `padding=True` or `padding='longest'` to pad to the longest sequence in the batch, or use `padding='max_length'` to pad to a max length. In this case, you can give a specific length with `max_length` (e.g. `max_length=45`) or leave max_length to None to pad to the maximal input size of the model (e.g. 512 for Bert).\n",
            "  FutureWarning,\n",
            "/usr/local/lib/python3.7/dist-packages/transformers/tokenization_utils_base.py:2217: FutureWarning: The `pad_to_max_length` argument is deprecated and will be removed in a future version, use `padding=True` or `padding='longest'` to pad to the longest sequence in the batch, or use `padding='max_length'` to pad to a max length. In this case, you can give a specific length with `max_length` (e.g. `max_length=45`) or leave max_length to None to pad to the maximal input size of the model (e.g. 512 for Bert).\n",
            "  FutureWarning,\n"
          ]
        }
      ]
    },
    {
      "cell_type": "code",
      "metadata": {
        "collapsed": true,
        "jupyter": {
          "source_hidden": false,
          "outputs_hidden": false
        },
        "nteract": {
          "transient": {
            "deleting": false
          }
        },
        "gather": {
          "logged": 1628543488243
        },
        "colab": {
          "base_uri": "https://localhost:8080/"
        },
        "id": "4846MMi3ztqD",
        "outputId": "1f8bbe02-d991-4302-e53a-cb03be3d1e26"
      },
      "source": [
        "print(classification_report(y_test, y_pred,labels=[1,0]))"
      ],
      "execution_count": 58,
      "outputs": [
        {
          "output_type": "stream",
          "name": "stdout",
          "text": [
            "              precision    recall  f1-score   support\n",
            "\n",
            "           1       0.78      0.72      0.75       866\n",
            "           0       0.92      0.94      0.93      2989\n",
            "\n",
            "    accuracy                           0.89      3855\n",
            "   macro avg       0.85      0.83      0.84      3855\n",
            "weighted avg       0.89      0.89      0.89      3855\n",
            "\n"
          ]
        }
      ]
    },
    {
      "cell_type": "code",
      "metadata": {
        "collapsed": true,
        "jupyter": {
          "source_hidden": false,
          "outputs_hidden": false
        },
        "nteract": {
          "transient": {
            "deleting": false
          }
        },
        "gather": {
          "logged": 1628543503220
        },
        "colab": {
          "base_uri": "https://localhost:8080/",
          "height": 400
        },
        "id": "1EF_wkj9ztqD",
        "outputId": "bebc3b0d-10fa-4c61-a932-e0da794cb9f7"
      },
      "source": [
        "def show_confusion_matrix(confusion_matrix):\n",
        "  hmap = sns.heatmap(confusion_matrix, annot=True, fmt=\"d\", cmap=\"Blues\")\n",
        "  hmap.yaxis.set_ticklabels(hmap.yaxis.get_ticklabels(), rotation=0, ha='right')\n",
        "  hmap.xaxis.set_ticklabels(hmap.xaxis.get_ticklabels(), rotation=30, ha='right')\n",
        "  plt.ylabel('True sentiment')\n",
        "  plt.xlabel('Predicted sentiment');\n",
        "\n",
        "cm = confusion_matrix(y_test, y_pred)\n",
        "df_cm = pd.DataFrame(cm, index=class_names, columns=class_names)\n",
        "show_confusion_matrix(df_cm)"
      ],
      "execution_count": 59,
      "outputs": [
        {
          "output_type": "display_data",
          "data": {
            "image/png": "[encoded data removed]",
            "text/plain": [
              "<Figure size 576x432 with 2 Axes>"
            ]
          },
          "metadata": {
            "image/png": {
              "width": 489,
              "height": 383
            }
          }
        }
      ]
    },
    {
      "cell_type": "code",
      "metadata": {
        "collapsed": true,
        "jupyter": {
          "source_hidden": false,
          "outputs_hidden": false
        },
        "nteract": {
          "transient": {
            "deleting": false
          }
        },
        "gather": {
          "logged": 1628543511691
        },
        "id": "_xjLqo2mztqE"
      },
      "source": [
        "idx = 2\n",
        "\n",
        "tweet_text = y_tweet_texts[idx]\n",
        "true_sentiment = y_test[idx]\n",
        "pred_df = pd.DataFrame({\n",
        "  'class_names': class_names,\n",
        "  'values': y_pred_probs[idx]\n",
        "})"
      ],
      "execution_count": 60,
      "outputs": []
    },
    {
      "cell_type": "code",
      "metadata": {
        "collapsed": true,
        "jupyter": {
          "source_hidden": false,
          "outputs_hidden": false
        },
        "nteract": {
          "transient": {
            "deleting": false
          }
        },
        "gather": {
          "logged": 1628543513717
        },
        "colab": {
          "base_uri": "https://localhost:8080/"
        },
        "id": "P0xuGj36ztqE",
        "outputId": "23d1d487-dfac-4d38-bcd0-143aa60eb2be"
      },
      "source": [
        "print(\"\\n\".join(wrap(tweet_text)))\n",
        "print()\n",
        "print(f'True sentiment: {class_names[true_sentiment]}')"
      ],
      "execution_count": 61,
      "outputs": [
        {
          "output_type": "stream",
          "name": "stdout",
          "text": [
            "i am sorry but whoever took this timeout is high on turkey and rum\n",
            "pitvsbal\n",
            "\n",
            "True sentiment: 1\n"
          ]
        }
      ]
    },
    {
      "cell_type": "code",
      "metadata": {
        "collapsed": true,
        "jupyter": {
          "source_hidden": false,
          "outputs_hidden": false
        },
        "nteract": {
          "transient": {
            "deleting": false
          }
        },
        "gather": {
          "logged": 1628543650153
        },
        "colab": {
          "base_uri": "https://localhost:8080/",
          "height": 398
        },
        "id": "YsmlzNc6ztqF",
        "outputId": "21a0ca82-5e98-41b0-ece9-95ea4bc60739"
      },
      "source": [
        "sns.barplot(x='values', y='class_names', data=pred_df, orient='h')\n",
        "plt.ylabel('sentiment')\n",
        "plt.xlabel('probability')\n",
        "plt.xlim([0, 1]);"
      ],
      "execution_count": 62,
      "outputs": [
        {
          "output_type": "display_data",
          "data": {
            "image/png": "[encoded data removed]",
            "text/plain": [
              "<Figure size 576x432 with 1 Axes>"
            ]
          },
          "metadata": {
            "image/png": {
              "width": 507,
              "height": 381
            }
          }
        }
      ]
    },
    {
      "cell_type": "code",
      "metadata": {
        "collapsed": true,
        "jupyter": {
          "source_hidden": false,
          "outputs_hidden": false
        },
        "nteract": {
          "transient": {
            "deleting": false
          }
        },
        "gather": {
          "logged": 1628279937778
        },
        "id": "Hvi_vCLqztqF"
      },
      "source": [
        "review_text = \"Oh thank GOD our entire office email system is down... the day of a big event. Santa you know JUST what to get me for xmas\""
      ],
      "execution_count": 63,
      "outputs": []
    },
    {
      "cell_type": "code",
      "metadata": {
        "collapsed": true,
        "jupyter": {
          "source_hidden": false,
          "outputs_hidden": false
        },
        "nteract": {
          "transient": {
            "deleting": false
          }
        },
        "gather": {
          "logged": 1628543657871
        },
        "colab": {
          "base_uri": "https://localhost:8080/"
        },
        "id": "sZsjnnpxztqG",
        "outputId": "1ca972c7-0a32-477e-f13c-75886480aa59"
      },
      "source": [
        "encoded_review = tokenizer.encode_plus(\n",
        "  review_text,\n",
        "  max_length=MAX_LEN,\n",
        "  add_special_tokens=True,\n",
        "  return_token_type_ids=False,\n",
        "  pad_to_max_length=True,\n",
        "  return_attention_mask=True,\n",
        "  return_tensors='pt',\n",
        ")"
      ],
      "execution_count": 64,
      "outputs": [
        {
          "output_type": "stream",
          "name": "stderr",
          "text": [
            "/usr/local/lib/python3.7/dist-packages/transformers/tokenization_utils_base.py:2217: FutureWarning: The `pad_to_max_length` argument is deprecated and will be removed in a future version, use `padding=True` or `padding='longest'` to pad to the longest sequence in the batch, or use `padding='max_length'` to pad to a max length. In this case, you can give a specific length with `max_length` (e.g. `max_length=45`) or leave max_length to None to pad to the maximal input size of the model (e.g. 512 for Bert).\n",
            "  FutureWarning,\n"
          ]
        }
      ]
    },
    {
      "cell_type": "code",
      "metadata": {
        "collapsed": true,
        "jupyter": {
          "source_hidden": false,
          "outputs_hidden": false
        },
        "nteract": {
          "transient": {
            "deleting": false
          }
        },
        "gather": {
          "logged": 1628543661688
        },
        "colab": {
          "base_uri": "https://localhost:8080/"
        },
        "id": "lY99Dxm_ztqG",
        "outputId": "abc2453f-e109-4cda-b472-eac48edef6a1"
      },
      "source": [
        "input_ids = encoded_review['input_ids'].to(device)\n",
        "attention_mask = encoded_review['attention_mask'].to(device)\n",
        "\n",
        "output = model(input_ids, attention_mask)\n",
        "_, prediction = torch.max(output, dim=1)\n",
        "\n",
        "print(f'Tweet text: {review_text}')\n",
        "print(f'Sentiment  : {class_names[prediction]}')"
      ],
      "execution_count": 65,
      "outputs": [
        {
          "output_type": "stream",
          "name": "stdout",
          "text": [
            "Tweet text: Oh thank GOD our entire office email system is down... the day of a big event. Santa you know JUST what to get me for xmas\n",
            "Sentiment  : 0\n"
          ]
        }
      ]
    },
    {
      "cell_type": "code",
      "metadata": {
        "collapsed": true,
        "jupyter": {
          "source_hidden": false,
          "outputs_hidden": false
        },
        "nteract": {
          "transient": {
            "deleting": false
          }
        },
        "id": "d7iMBomJztqH"
      },
      "source": [
        ""
      ],
      "execution_count": null,
      "outputs": []
    }
  ]
}