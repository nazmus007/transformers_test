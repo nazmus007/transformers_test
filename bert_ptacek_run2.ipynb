{
  "nbformat": 4,
  "nbformat_minor": 0,
  "metadata": {
    "kernelspec": {
      "name": "python3-azureml",
      "language": "python",
      "display_name": "Python 3.6 - AzureML"
    },
    "language_info": {
      "name": "python",
      "version": "3.6.9",
      "mimetype": "text/x-python",
      "codemirror_mode": {
        "name": "ipython",
        "version": 3
      },
      "pygments_lexer": "ipython3",
      "nbconvert_exporter": "python",
      "file_extension": ".py"
    },
    "kernel_info": {
      "name": "python3-azureml"
    },
    "nteract": {
      "version": "nteract-front-end@1.0.0"
    },
    "microsoft": {
      "host": {
        "AzureML": {
          "notebookHasBeenCompleted": true
        }
      }
    },
    "colab": {
      "name": "bert_ptacek_run2.ipynb",
      "provenance": [],
      "collapsed_sections": [],
      "machine_shape": "hm",
      "include_colab_link": true
    },
    "accelerator": "GPU",
    "widgets": {
      "application/vnd.jupyter.widget-state+json": {
        "51a381a2df2342bebb69d03ba52e71ab": {
          "model_module": "@jupyter-widgets/controls",
          "model_name": "HBoxModel",
          "model_module_version": "1.5.0",
          "state": {
            "_view_name": "HBoxView",
            "_dom_classes": [],
            "_model_name": "HBoxModel",
            "_view_module": "@jupyter-widgets/controls",
            "_model_module_version": "1.5.0",
            "_view_count": null,
            "_view_module_version": "1.5.0",
            "box_style": "",
            "layout": "IPY_MODEL_3c175e28c97c4e61935069be6c840e38",
            "_model_module": "@jupyter-widgets/controls",
            "children": [
              "IPY_MODEL_aca47d6f1c8d442f8506a6df1ca1ec3d",
              "IPY_MODEL_0809df2a32db4d0da0780f08e1aadb56",
              "IPY_MODEL_1fbfbb7b02954f2caada32172666e875"
            ]
          }
        },
        "3c175e28c97c4e61935069be6c840e38": {
          "model_module": "@jupyter-widgets/base",
          "model_name": "LayoutModel",
          "model_module_version": "1.2.0",
          "state": {
            "_view_name": "LayoutView",
            "grid_template_rows": null,
            "right": null,
            "justify_content": null,
            "_view_module": "@jupyter-widgets/base",
            "overflow": null,
            "_model_module_version": "1.2.0",
            "_view_count": null,
            "flex_flow": null,
            "width": null,
            "min_width": null,
            "border": null,
            "align_items": null,
            "bottom": null,
            "_model_module": "@jupyter-widgets/base",
            "top": null,
            "grid_column": null,
            "overflow_y": null,
            "overflow_x": null,
            "grid_auto_flow": null,
            "grid_area": null,
            "grid_template_columns": null,
            "flex": null,
            "_model_name": "LayoutModel",
            "justify_items": null,
            "grid_row": null,
            "max_height": null,
            "align_content": null,
            "visibility": null,
            "align_self": null,
            "height": null,
            "min_height": null,
            "padding": null,
            "grid_auto_rows": null,
            "grid_gap": null,
            "max_width": null,
            "order": null,
            "_view_module_version": "1.2.0",
            "grid_template_areas": null,
            "object_position": null,
            "object_fit": null,
            "grid_auto_columns": null,
            "margin": null,
            "display": null,
            "left": null
          }
        },
        "aca47d6f1c8d442f8506a6df1ca1ec3d": {
          "model_module": "@jupyter-widgets/controls",
          "model_name": "HTMLModel",
          "model_module_version": "1.5.0",
          "state": {
            "_view_name": "HTMLView",
            "style": "IPY_MODEL_4a6fce165faa4a048b6518ab6b539d39",
            "_dom_classes": [],
            "description": "",
            "_model_name": "HTMLModel",
            "placeholder": "​",
            "_view_module": "@jupyter-widgets/controls",
            "_model_module_version": "1.5.0",
            "value": "Downloading: 100%",
            "_view_count": null,
            "_view_module_version": "1.5.0",
            "description_tooltip": null,
            "_model_module": "@jupyter-widgets/controls",
            "layout": "IPY_MODEL_54ffb2e0c9b84ae3812f4db0992b9108"
          }
        },
        "0809df2a32db4d0da0780f08e1aadb56": {
          "model_module": "@jupyter-widgets/controls",
          "model_name": "FloatProgressModel",
          "model_module_version": "1.5.0",
          "state": {
            "_view_name": "ProgressView",
            "style": "IPY_MODEL_43010ff6716c47f5b5e0934c176bc182",
            "_dom_classes": [],
            "description": "",
            "_model_name": "FloatProgressModel",
            "bar_style": "success",
            "max": 231508,
            "_view_module": "@jupyter-widgets/controls",
            "_model_module_version": "1.5.0",
            "value": 231508,
            "_view_count": null,
            "_view_module_version": "1.5.0",
            "orientation": "horizontal",
            "min": 0,
            "description_tooltip": null,
            "_model_module": "@jupyter-widgets/controls",
            "layout": "IPY_MODEL_e102dfb3b6104fa7b1e451ad853713c5"
          }
        },
        "1fbfbb7b02954f2caada32172666e875": {
          "model_module": "@jupyter-widgets/controls",
          "model_name": "HTMLModel",
          "model_module_version": "1.5.0",
          "state": {
            "_view_name": "HTMLView",
            "style": "IPY_MODEL_e3c8030e0b6447779e335573fe1b4cbc",
            "_dom_classes": [],
            "description": "",
            "_model_name": "HTMLModel",
            "placeholder": "​",
            "_view_module": "@jupyter-widgets/controls",
            "_model_module_version": "1.5.0",
            "value": " 226k/226k [00:00&lt;00:00, 2.69MB/s]",
            "_view_count": null,
            "_view_module_version": "1.5.0",
            "description_tooltip": null,
            "_model_module": "@jupyter-widgets/controls",
            "layout": "IPY_MODEL_db7e9c2f34d74f0193f8d80ba0bdff51"
          }
        },
        "4a6fce165faa4a048b6518ab6b539d39": {
          "model_module": "@jupyter-widgets/controls",
          "model_name": "DescriptionStyleModel",
          "model_module_version": "1.5.0",
          "state": {
            "_view_name": "StyleView",
            "_model_name": "DescriptionStyleModel",
            "description_width": "",
            "_view_module": "@jupyter-widgets/base",
            "_model_module_version": "1.5.0",
            "_view_count": null,
            "_view_module_version": "1.2.0",
            "_model_module": "@jupyter-widgets/controls"
          }
        },
        "54ffb2e0c9b84ae3812f4db0992b9108": {
          "model_module": "@jupyter-widgets/base",
          "model_name": "LayoutModel",
          "model_module_version": "1.2.0",
          "state": {
            "_view_name": "LayoutView",
            "grid_template_rows": null,
            "right": null,
            "justify_content": null,
            "_view_module": "@jupyter-widgets/base",
            "overflow": null,
            "_model_module_version": "1.2.0",
            "_view_count": null,
            "flex_flow": null,
            "width": null,
            "min_width": null,
            "border": null,
            "align_items": null,
            "bottom": null,
            "_model_module": "@jupyter-widgets/base",
            "top": null,
            "grid_column": null,
            "overflow_y": null,
            "overflow_x": null,
            "grid_auto_flow": null,
            "grid_area": null,
            "grid_template_columns": null,
            "flex": null,
            "_model_name": "LayoutModel",
            "justify_items": null,
            "grid_row": null,
            "max_height": null,
            "align_content": null,
            "visibility": null,
            "align_self": null,
            "height": null,
            "min_height": null,
            "padding": null,
            "grid_auto_rows": null,
            "grid_gap": null,
            "max_width": null,
            "order": null,
            "_view_module_version": "1.2.0",
            "grid_template_areas": null,
            "object_position": null,
            "object_fit": null,
            "grid_auto_columns": null,
            "margin": null,
            "display": null,
            "left": null
          }
        },
        "43010ff6716c47f5b5e0934c176bc182": {
          "model_module": "@jupyter-widgets/controls",
          "model_name": "ProgressStyleModel",
          "model_module_version": "1.5.0",
          "state": {
            "_view_name": "StyleView",
            "_model_name": "ProgressStyleModel",
            "description_width": "",
            "_view_module": "@jupyter-widgets/base",
            "_model_module_version": "1.5.0",
            "_view_count": null,
            "_view_module_version": "1.2.0",
            "bar_color": null,
            "_model_module": "@jupyter-widgets/controls"
          }
        },
        "e102dfb3b6104fa7b1e451ad853713c5": {
          "model_module": "@jupyter-widgets/base",
          "model_name": "LayoutModel",
          "model_module_version": "1.2.0",
          "state": {
            "_view_name": "LayoutView",
            "grid_template_rows": null,
            "right": null,
            "justify_content": null,
            "_view_module": "@jupyter-widgets/base",
            "overflow": null,
            "_model_module_version": "1.2.0",
            "_view_count": null,
            "flex_flow": null,
            "width": null,
            "min_width": null,
            "border": null,
            "align_items": null,
            "bottom": null,
            "_model_module": "@jupyter-widgets/base",
            "top": null,
            "grid_column": null,
            "overflow_y": null,
            "overflow_x": null,
            "grid_auto_flow": null,
            "grid_area": null,
            "grid_template_columns": null,
            "flex": null,
            "_model_name": "LayoutModel",
            "justify_items": null,
            "grid_row": null,
            "max_height": null,
            "align_content": null,
            "visibility": null,
            "align_self": null,
            "height": null,
            "min_height": null,
            "padding": null,
            "grid_auto_rows": null,
            "grid_gap": null,
            "max_width": null,
            "order": null,
            "_view_module_version": "1.2.0",
            "grid_template_areas": null,
            "object_position": null,
            "object_fit": null,
            "grid_auto_columns": null,
            "margin": null,
            "display": null,
            "left": null
          }
        },
        "e3c8030e0b6447779e335573fe1b4cbc": {
          "model_module": "@jupyter-widgets/controls",
          "model_name": "DescriptionStyleModel",
          "model_module_version": "1.5.0",
          "state": {
            "_view_name": "StyleView",
            "_model_name": "DescriptionStyleModel",
            "description_width": "",
            "_view_module": "@jupyter-widgets/base",
            "_model_module_version": "1.5.0",
            "_view_count": null,
            "_view_module_version": "1.2.0",
            "_model_module": "@jupyter-widgets/controls"
          }
        },
        "db7e9c2f34d74f0193f8d80ba0bdff51": {
          "model_module": "@jupyter-widgets/base",
          "model_name": "LayoutModel",
          "model_module_version": "1.2.0",
          "state": {
            "_view_name": "LayoutView",
            "grid_template_rows": null,
            "right": null,
            "justify_content": null,
            "_view_module": "@jupyter-widgets/base",
            "overflow": null,
            "_model_module_version": "1.2.0",
            "_view_count": null,
            "flex_flow": null,
            "width": null,
            "min_width": null,
            "border": null,
            "align_items": null,
            "bottom": null,
            "_model_module": "@jupyter-widgets/base",
            "top": null,
            "grid_column": null,
            "overflow_y": null,
            "overflow_x": null,
            "grid_auto_flow": null,
            "grid_area": null,
            "grid_template_columns": null,
            "flex": null,
            "_model_name": "LayoutModel",
            "justify_items": null,
            "grid_row": null,
            "max_height": null,
            "align_content": null,
            "visibility": null,
            "align_self": null,
            "height": null,
            "min_height": null,
            "padding": null,
            "grid_auto_rows": null,
            "grid_gap": null,
            "max_width": null,
            "order": null,
            "_view_module_version": "1.2.0",
            "grid_template_areas": null,
            "object_position": null,
            "object_fit": null,
            "grid_auto_columns": null,
            "margin": null,
            "display": null,
            "left": null
          }
        },
        "4c63eb593ab54183ad383bd68b0943d6": {
          "model_module": "@jupyter-widgets/controls",
          "model_name": "HBoxModel",
          "model_module_version": "1.5.0",
          "state": {
            "_view_name": "HBoxView",
            "_dom_classes": [],
            "_model_name": "HBoxModel",
            "_view_module": "@jupyter-widgets/controls",
            "_model_module_version": "1.5.0",
            "_view_count": null,
            "_view_module_version": "1.5.0",
            "box_style": "",
            "layout": "IPY_MODEL_31fbdf05193e4f8ba8f89ff45ba13098",
            "_model_module": "@jupyter-widgets/controls",
            "children": [
              "IPY_MODEL_5a615c3dd68844898c3de862849d0e07",
              "IPY_MODEL_0c3d3a038f00453493eb0fa348118fb4",
              "IPY_MODEL_484f211210664327a4c5a45802e65aa0"
            ]
          }
        },
        "31fbdf05193e4f8ba8f89ff45ba13098": {
          "model_module": "@jupyter-widgets/base",
          "model_name": "LayoutModel",
          "model_module_version": "1.2.0",
          "state": {
            "_view_name": "LayoutView",
            "grid_template_rows": null,
            "right": null,
            "justify_content": null,
            "_view_module": "@jupyter-widgets/base",
            "overflow": null,
            "_model_module_version": "1.2.0",
            "_view_count": null,
            "flex_flow": null,
            "width": null,
            "min_width": null,
            "border": null,
            "align_items": null,
            "bottom": null,
            "_model_module": "@jupyter-widgets/base",
            "top": null,
            "grid_column": null,
            "overflow_y": null,
            "overflow_x": null,
            "grid_auto_flow": null,
            "grid_area": null,
            "grid_template_columns": null,
            "flex": null,
            "_model_name": "LayoutModel",
            "justify_items": null,
            "grid_row": null,
            "max_height": null,
            "align_content": null,
            "visibility": null,
            "align_self": null,
            "height": null,
            "min_height": null,
            "padding": null,
            "grid_auto_rows": null,
            "grid_gap": null,
            "max_width": null,
            "order": null,
            "_view_module_version": "1.2.0",
            "grid_template_areas": null,
            "object_position": null,
            "object_fit": null,
            "grid_auto_columns": null,
            "margin": null,
            "display": null,
            "left": null
          }
        },
        "5a615c3dd68844898c3de862849d0e07": {
          "model_module": "@jupyter-widgets/controls",
          "model_name": "HTMLModel",
          "model_module_version": "1.5.0",
          "state": {
            "_view_name": "HTMLView",
            "style": "IPY_MODEL_3541e0babe01482e859f21ea00ada89a",
            "_dom_classes": [],
            "description": "",
            "_model_name": "HTMLModel",
            "placeholder": "​",
            "_view_module": "@jupyter-widgets/controls",
            "_model_module_version": "1.5.0",
            "value": "Downloading: 100%",
            "_view_count": null,
            "_view_module_version": "1.5.0",
            "description_tooltip": null,
            "_model_module": "@jupyter-widgets/controls",
            "layout": "IPY_MODEL_eff4f4b767a34cc084c381b7f8cbe463"
          }
        },
        "0c3d3a038f00453493eb0fa348118fb4": {
          "model_module": "@jupyter-widgets/controls",
          "model_name": "FloatProgressModel",
          "model_module_version": "1.5.0",
          "state": {
            "_view_name": "ProgressView",
            "style": "IPY_MODEL_98a205b9e4714ca183a3c0d3fa438b5c",
            "_dom_classes": [],
            "description": "",
            "_model_name": "FloatProgressModel",
            "bar_style": "success",
            "max": 440473133,
            "_view_module": "@jupyter-widgets/controls",
            "_model_module_version": "1.5.0",
            "value": 440473133,
            "_view_count": null,
            "_view_module_version": "1.5.0",
            "orientation": "horizontal",
            "min": 0,
            "description_tooltip": null,
            "_model_module": "@jupyter-widgets/controls",
            "layout": "IPY_MODEL_8ba80a9d1b30468e8153312369fce174"
          }
        },
        "484f211210664327a4c5a45802e65aa0": {
          "model_module": "@jupyter-widgets/controls",
          "model_name": "HTMLModel",
          "model_module_version": "1.5.0",
          "state": {
            "_view_name": "HTMLView",
            "style": "IPY_MODEL_f82d3a05d7574947813187123e3921cf",
            "_dom_classes": [],
            "description": "",
            "_model_name": "HTMLModel",
            "placeholder": "​",
            "_view_module": "@jupyter-widgets/controls",
            "_model_module_version": "1.5.0",
            "value": " 420M/420M [00:07&lt;00:00, 62.8MB/s]",
            "_view_count": null,
            "_view_module_version": "1.5.0",
            "description_tooltip": null,
            "_model_module": "@jupyter-widgets/controls",
            "layout": "IPY_MODEL_a37221fb0c514d4eb820a696f18b8e19"
          }
        },
        "3541e0babe01482e859f21ea00ada89a": {
          "model_module": "@jupyter-widgets/controls",
          "model_name": "DescriptionStyleModel",
          "model_module_version": "1.5.0",
          "state": {
            "_view_name": "StyleView",
            "_model_name": "DescriptionStyleModel",
            "description_width": "",
            "_view_module": "@jupyter-widgets/base",
            "_model_module_version": "1.5.0",
            "_view_count": null,
            "_view_module_version": "1.2.0",
            "_model_module": "@jupyter-widgets/controls"
          }
        },
        "eff4f4b767a34cc084c381b7f8cbe463": {
          "model_module": "@jupyter-widgets/base",
          "model_name": "LayoutModel",
          "model_module_version": "1.2.0",
          "state": {
            "_view_name": "LayoutView",
            "grid_template_rows": null,
            "right": null,
            "justify_content": null,
            "_view_module": "@jupyter-widgets/base",
            "overflow": null,
            "_model_module_version": "1.2.0",
            "_view_count": null,
            "flex_flow": null,
            "width": null,
            "min_width": null,
            "border": null,
            "align_items": null,
            "bottom": null,
            "_model_module": "@jupyter-widgets/base",
            "top": null,
            "grid_column": null,
            "overflow_y": null,
            "overflow_x": null,
            "grid_auto_flow": null,
            "grid_area": null,
            "grid_template_columns": null,
            "flex": null,
            "_model_name": "LayoutModel",
            "justify_items": null,
            "grid_row": null,
            "max_height": null,
            "align_content": null,
            "visibility": null,
            "align_self": null,
            "height": null,
            "min_height": null,
            "padding": null,
            "grid_auto_rows": null,
            "grid_gap": null,
            "max_width": null,
            "order": null,
            "_view_module_version": "1.2.0",
            "grid_template_areas": null,
            "object_position": null,
            "object_fit": null,
            "grid_auto_columns": null,
            "margin": null,
            "display": null,
            "left": null
          }
        },
        "98a205b9e4714ca183a3c0d3fa438b5c": {
          "model_module": "@jupyter-widgets/controls",
          "model_name": "ProgressStyleModel",
          "model_module_version": "1.5.0",
          "state": {
            "_view_name": "StyleView",
            "_model_name": "ProgressStyleModel",
            "description_width": "",
            "_view_module": "@jupyter-widgets/base",
            "_model_module_version": "1.5.0",
            "_view_count": null,
            "_view_module_version": "1.2.0",
            "bar_color": null,
            "_model_module": "@jupyter-widgets/controls"
          }
        },
        "8ba80a9d1b30468e8153312369fce174": {
          "model_module": "@jupyter-widgets/base",
          "model_name": "LayoutModel",
          "model_module_version": "1.2.0",
          "state": {
            "_view_name": "LayoutView",
            "grid_template_rows": null,
            "right": null,
            "justify_content": null,
            "_view_module": "@jupyter-widgets/base",
            "overflow": null,
            "_model_module_version": "1.2.0",
            "_view_count": null,
            "flex_flow": null,
            "width": null,
            "min_width": null,
            "border": null,
            "align_items": null,
            "bottom": null,
            "_model_module": "@jupyter-widgets/base",
            "top": null,
            "grid_column": null,
            "overflow_y": null,
            "overflow_x": null,
            "grid_auto_flow": null,
            "grid_area": null,
            "grid_template_columns": null,
            "flex": null,
            "_model_name": "LayoutModel",
            "justify_items": null,
            "grid_row": null,
            "max_height": null,
            "align_content": null,
            "visibility": null,
            "align_self": null,
            "height": null,
            "min_height": null,
            "padding": null,
            "grid_auto_rows": null,
            "grid_gap": null,
            "max_width": null,
            "order": null,
            "_view_module_version": "1.2.0",
            "grid_template_areas": null,
            "object_position": null,
            "object_fit": null,
            "grid_auto_columns": null,
            "margin": null,
            "display": null,
            "left": null
          }
        },
        "f82d3a05d7574947813187123e3921cf": {
          "model_module": "@jupyter-widgets/controls",
          "model_name": "DescriptionStyleModel",
          "model_module_version": "1.5.0",
          "state": {
            "_view_name": "StyleView",
            "_model_name": "DescriptionStyleModel",
            "description_width": "",
            "_view_module": "@jupyter-widgets/base",
            "_model_module_version": "1.5.0",
            "_view_count": null,
            "_view_module_version": "1.2.0",
            "_model_module": "@jupyter-widgets/controls"
          }
        },
        "a37221fb0c514d4eb820a696f18b8e19": {
          "model_module": "@jupyter-widgets/base",
          "model_name": "LayoutModel",
          "model_module_version": "1.2.0",
          "state": {
            "_view_name": "LayoutView",
            "grid_template_rows": null,
            "right": null,
            "justify_content": null,
            "_view_module": "@jupyter-widgets/base",
            "overflow": null,
            "_model_module_version": "1.2.0",
            "_view_count": null,
            "flex_flow": null,
            "width": null,
            "min_width": null,
            "border": null,
            "align_items": null,
            "bottom": null,
            "_model_module": "@jupyter-widgets/base",
            "top": null,
            "grid_column": null,
            "overflow_y": null,
            "overflow_x": null,
            "grid_auto_flow": null,
            "grid_area": null,
            "grid_template_columns": null,
            "flex": null,
            "_model_name": "LayoutModel",
            "justify_items": null,
            "grid_row": null,
            "max_height": null,
            "align_content": null,
            "visibility": null,
            "align_self": null,
            "height": null,
            "min_height": null,
            "padding": null,
            "grid_auto_rows": null,
            "grid_gap": null,
            "max_width": null,
            "order": null,
            "_view_module_version": "1.2.0",
            "grid_template_areas": null,
            "object_position": null,
            "object_fit": null,
            "grid_auto_columns": null,
            "margin": null,
            "display": null,
            "left": null
          }
        }
      }
    }
  },
  "cells": [
    {
      "cell_type": "markdown",
      "metadata": {
        "id": "view-in-github",
        "colab_type": "text"
      },
      "source": [
        "<a href=\"https://colab.research.google.com/github/nazmus007/transformers_test/blob/main/bert_ptacek_run2.ipynb\" target=\"_parent\"><img src=\"https://colab.research.google.com/assets/colab-badge.svg\" alt=\"Open In Colab\"/></a>"
      ]
    },
    {
      "cell_type": "code",
      "metadata": {
        "id": "zTQvMtWsztpa",
        "colab": {
          "base_uri": "https://localhost:8080/"
        },
        "outputId": "24ed3650-3c13-410a-b543-98660854947c"
      },
      "source": [
        "!pip install -qq transformers"
      ],
      "execution_count": 1,
      "outputs": [
        {
          "output_type": "stream",
          "name": "stdout",
          "text": [
            "\u001b[K     |████████████████████████████████| 2.9 MB 5.0 MB/s \n",
            "\u001b[K     |████████████████████████████████| 895 kB 53.6 MB/s \n",
            "\u001b[K     |████████████████████████████████| 3.3 MB 52.1 MB/s \n",
            "\u001b[K     |████████████████████████████████| 56 kB 5.4 MB/s \n",
            "\u001b[K     |████████████████████████████████| 636 kB 81.8 MB/s \n",
            "\u001b[?25h"
          ]
        }
      ]
    },
    {
      "cell_type": "code",
      "metadata": {
        "colab": {
          "base_uri": "https://localhost:8080/"
        },
        "id": "rQls5xsYO8YP",
        "outputId": "ba08b461-9279-4f2f-cd17-a455e2e7f631"
      },
      "source": [
        "print(transformers.__version__)"
      ],
      "execution_count": null,
      "outputs": [
        {
          "output_type": "stream",
          "name": "stdout",
          "text": [
            "4.10.0\n"
          ]
        }
      ]
    },
    {
      "cell_type": "code",
      "metadata": {
        "colab": {
          "base_uri": "https://localhost:8080/"
        },
        "id": "y8OREO3n6Ft-",
        "outputId": "b00af635-f303-4bb7-e249-b47b11c90081"
      },
      "source": [
        "!pip install emoji"
      ],
      "execution_count": 2,
      "outputs": [
        {
          "output_type": "stream",
          "name": "stdout",
          "text": [
            "Collecting emoji\n",
            "  Downloading emoji-1.6.0.tar.gz (168 kB)\n",
            "\u001b[?25l\r\u001b[K     |██                              | 10 kB 29.2 MB/s eta 0:00:01\r\u001b[K     |███▉                            | 20 kB 26.0 MB/s eta 0:00:01\r\u001b[K     |█████▉                          | 30 kB 17.7 MB/s eta 0:00:01\r\u001b[K     |███████▊                        | 40 kB 15.7 MB/s eta 0:00:01\r\u001b[K     |█████████▊                      | 51 kB 5.4 MB/s eta 0:00:01\r\u001b[K     |███████████▋                    | 61 kB 5.8 MB/s eta 0:00:01\r\u001b[K     |█████████████▋                  | 71 kB 6.3 MB/s eta 0:00:01\r\u001b[K     |███████████████▌                | 81 kB 5.8 MB/s eta 0:00:01\r\u001b[K     |█████████████████▌              | 92 kB 6.0 MB/s eta 0:00:01\r\u001b[K     |███████████████████▍            | 102 kB 6.6 MB/s eta 0:00:01\r\u001b[K     |█████████████████████▍          | 112 kB 6.6 MB/s eta 0:00:01\r\u001b[K     |███████████████████████▎        | 122 kB 6.6 MB/s eta 0:00:01\r\u001b[K     |█████████████████████████▎      | 133 kB 6.6 MB/s eta 0:00:01\r\u001b[K     |███████████████████████████▏    | 143 kB 6.6 MB/s eta 0:00:01\r\u001b[K     |█████████████████████████████▏  | 153 kB 6.6 MB/s eta 0:00:01\r\u001b[K     |███████████████████████████████ | 163 kB 6.6 MB/s eta 0:00:01\r\u001b[K     |████████████████████████████████| 168 kB 6.6 MB/s \n",
            "\u001b[?25hBuilding wheels for collected packages: emoji\n",
            "  Building wheel for emoji (setup.py) ... \u001b[?25l\u001b[?25hdone\n",
            "  Created wheel for emoji: filename=emoji-1.6.0-py3-none-any.whl size=168256 sha256=a1539032b9ca35a4d68aefa6755cfa53a2b7bd7f677024008adaca9e09a2a1e6\n",
            "  Stored in directory: /root/.cache/pip/wheels/f7/d7/74/c720aaf345a042b0c2d74361873258c5e8649b7f11b2ccce49\n",
            "Successfully built emoji\n",
            "Installing collected packages: emoji\n",
            "Successfully installed emoji-1.6.0\n"
          ]
        }
      ]
    },
    {
      "cell_type": "code",
      "metadata": {
        "id": "xreQ6mWHPS1R"
      },
      "source": [
        "torch.cuda.empty_cache()"
      ],
      "execution_count": null,
      "outputs": []
    },
    {
      "cell_type": "code",
      "metadata": {
        "colab": {
          "base_uri": "https://localhost:8080/"
        },
        "id": "31C71en6z4IP",
        "outputId": "70c4a281-56f1-4d41-ede8-65e9f867de79"
      },
      "source": [
        "from google.colab import drive\n",
        "drive.mount('/content/drive')"
      ],
      "execution_count": 3,
      "outputs": [
        {
          "output_type": "stream",
          "name": "stdout",
          "text": [
            "Mounted at /content/drive\n"
          ]
        }
      ]
    },
    {
      "cell_type": "code",
      "metadata": {
        "colab": {
          "base_uri": "https://localhost:8080/"
        },
        "id": "1FZSJGtBOSvi",
        "outputId": "edc10c13-0d24-4ce4-f48b-4d44d169c492"
      },
      "source": [
        "!nvidia-smi"
      ],
      "execution_count": null,
      "outputs": [
        {
          "output_type": "stream",
          "name": "stdout",
          "text": [
            "Mon Sep  6 09:14:03 2021       \n",
            "+-----------------------------------------------------------------------------+\n",
            "| NVIDIA-SMI 470.63.01    Driver Version: 460.32.03    CUDA Version: 11.2     |\n",
            "|-------------------------------+----------------------+----------------------+\n",
            "| GPU  Name        Persistence-M| Bus-Id        Disp.A | Volatile Uncorr. ECC |\n",
            "| Fan  Temp  Perf  Pwr:Usage/Cap|         Memory-Usage | GPU-Util  Compute M. |\n",
            "|                               |                      |               MIG M. |\n",
            "|===============================+======================+======================|\n",
            "|   0  Tesla P100-PCIE...  Off  | 00000000:00:04.0 Off |                    0 |\n",
            "| N/A   41C    P0    29W / 250W |      0MiB / 16280MiB |      0%      Default |\n",
            "|                               |                      |                  N/A |\n",
            "+-------------------------------+----------------------+----------------------+\n",
            "                                                                               \n",
            "+-----------------------------------------------------------------------------+\n",
            "| Processes:                                                                  |\n",
            "|  GPU   GI   CI        PID   Type   Process name                  GPU Memory |\n",
            "|        ID   ID                                                   Usage      |\n",
            "|=============================================================================|\n",
            "|  No running processes found                                                 |\n",
            "+-----------------------------------------------------------------------------+\n"
          ]
        }
      ]
    },
    {
      "cell_type": "code",
      "metadata": {
        "collapsed": true,
        "jupyter": {
          "source_hidden": false,
          "outputs_hidden": false
        },
        "nteract": {
          "transient": {
            "deleting": false
          }
        },
        "gather": {
          "logged": 1628541801096
        },
        "id": "CO7SFj5Xztpf"
      },
      "source": [
        "import transformers\n",
        "\n",
        "from transformers import BertModel, BertTokenizer, AdamW, get_linear_schedule_with_warmup, BertForSequenceClassification\n",
        "\n",
        "import torch\n",
        "import re\n",
        "import numpy as np\n",
        "import pandas as pd\n",
        "\n",
        "import seaborn as sns\n",
        "\n",
        "from pylab import rcParams\n",
        "\n",
        "import matplotlib.pyplot as plt\n",
        "\n",
        "from matplotlib import rc\n",
        "\n",
        "from sklearn.model_selection import train_test_split\n",
        "\n",
        "from sklearn.metrics import confusion_matrix, classification_report\n",
        "\n",
        "from collections import defaultdict\n",
        "\n",
        "from textwrap import wrap\n",
        "\n",
        "from torch import nn, optim\n",
        "\n",
        "from torch.utils.data import Dataset, DataLoader"
      ],
      "execution_count": 4,
      "outputs": []
    },
    {
      "cell_type": "code",
      "metadata": {
        "collapsed": true,
        "jupyter": {
          "source_hidden": false,
          "outputs_hidden": false
        },
        "nteract": {
          "transient": {
            "deleting": false
          }
        },
        "gather": {
          "logged": 1628541914487
        },
        "id": "p9fpcDXTztpg"
      },
      "source": [
        "import torch.nn.functional as F"
      ],
      "execution_count": 5,
      "outputs": []
    },
    {
      "cell_type": "code",
      "metadata": {
        "collapsed": true,
        "jupyter": {
          "source_hidden": false,
          "outputs_hidden": false
        },
        "nteract": {
          "transient": {
            "deleting": false
          }
        },
        "gather": {
          "logged": 1628541916842
        },
        "colab": {
          "base_uri": "https://localhost:8080/",
          "height": 206
        },
        "id": "0AbDURbSztph",
        "outputId": "86e51bc8-d335-49a5-ed5f-96fc2b57657f"
      },
      "source": [
        "df = pd.read_csv(\"./drive/MyDrive/datasets/cleaned_ptacek_wtweets_wnotebook.csv\")\n",
        "df.head()"
      ],
      "execution_count": 6,
      "outputs": [
        {
          "output_type": "execute_result",
          "data": {
            "text/html": [
              "<div>\n",
              "<style scoped>\n",
              "    .dataframe tbody tr th:only-of-type {\n",
              "        vertical-align: middle;\n",
              "    }\n",
              "\n",
              "    .dataframe tbody tr th {\n",
              "        vertical-align: top;\n",
              "    }\n",
              "\n",
              "    .dataframe thead th {\n",
              "        text-align: right;\n",
              "    }\n",
              "</style>\n",
              "<table border=\"1\" class=\"dataframe\">\n",
              "  <thead>\n",
              "    <tr style=\"text-align: right;\">\n",
              "      <th></th>\n",
              "      <th>Unnamed: 0</th>\n",
              "      <th>index</th>\n",
              "      <th>Tweet_id</th>\n",
              "      <th>Tweet</th>\n",
              "      <th>Label</th>\n",
              "    </tr>\n",
              "  </thead>\n",
              "  <tbody>\n",
              "    <tr>\n",
              "      <th>0</th>\n",
              "      <td>0</td>\n",
              "      <td>0</td>\n",
              "      <td>411348816583856129</td>\n",
              "      <td>peyton obviously cannot finish games he just t...</td>\n",
              "      <td>1</td>\n",
              "    </tr>\n",
              "    <tr>\n",
              "      <th>1</th>\n",
              "      <td>1</td>\n",
              "      <td>1</td>\n",
              "      <td>408111537011036160</td>\n",
              "      <td>well i would love to be sleeping right now but...</td>\n",
              "      <td>1</td>\n",
              "    </tr>\n",
              "    <tr>\n",
              "      <th>2</th>\n",
              "      <td>2</td>\n",
              "      <td>2</td>\n",
              "      <td>403282506230665217</td>\n",
              "      <td>my biggest executive decision today choosing b...</td>\n",
              "      <td>1</td>\n",
              "    </tr>\n",
              "    <tr>\n",
              "      <th>3</th>\n",
              "      <td>3</td>\n",
              "      <td>3</td>\n",
              "      <td>409720467662983168</td>\n",
              "      <td>the first quality opponent they played in 2 y...</td>\n",
              "      <td>1</td>\n",
              "    </tr>\n",
              "    <tr>\n",
              "      <th>4</th>\n",
              "      <td>4</td>\n",
              "      <td>4</td>\n",
              "      <td>403005765608554496</td>\n",
              "      <td>but do not you dare call it hate crimes  libe...</td>\n",
              "      <td>1</td>\n",
              "    </tr>\n",
              "  </tbody>\n",
              "</table>\n",
              "</div>"
            ],
            "text/plain": [
              "   Unnamed: 0  index  ...                                              Tweet Label\n",
              "0           0      0  ...  peyton obviously cannot finish games he just t...     1\n",
              "1           1      1  ...  well i would love to be sleeping right now but...     1\n",
              "2           2      2  ...  my biggest executive decision today choosing b...     1\n",
              "3           3      3  ...   the first quality opponent they played in 2 y...     1\n",
              "4           4      4  ...   but do not you dare call it hate crimes  libe...     1\n",
              "\n",
              "[5 rows x 5 columns]"
            ]
          },
          "metadata": {},
          "execution_count": 6
        }
      ]
    },
    {
      "cell_type": "code",
      "metadata": {
        "collapsed": true,
        "jupyter": {
          "source_hidden": false,
          "outputs_hidden": false
        },
        "nteract": {
          "transient": {
            "deleting": false
          }
        },
        "gather": {
          "logged": 1628541920084
        },
        "id": "D3arVKEGztpj"
      },
      "source": [
        "df= df.drop(['Unnamed: 0','index','Tweet_id'],axis=1)"
      ],
      "execution_count": 7,
      "outputs": []
    },
    {
      "cell_type": "code",
      "metadata": {
        "colab": {
          "base_uri": "https://localhost:8080/"
        },
        "id": "gOyNDXroJ7cK",
        "outputId": "f40ff786-55c2-4b97-aa39-d1f79ab5b428"
      },
      "source": [
        "!pip install demoji"
      ],
      "execution_count": 8,
      "outputs": [
        {
          "output_type": "stream",
          "name": "stdout",
          "text": [
            "Collecting demoji\n",
            "  Downloading demoji-1.1.0-py3-none-any.whl (42 kB)\n",
            "\u001b[?25l\r\u001b[K     |███████▋                        | 10 kB 36.3 MB/s eta 0:00:01\r\u001b[K     |███████████████▎                | 20 kB 20.5 MB/s eta 0:00:01\r\u001b[K     |███████████████████████         | 30 kB 11.0 MB/s eta 0:00:01\r\u001b[K     |██████████████████████████████▋ | 40 kB 9.0 MB/s eta 0:00:01\r\u001b[K     |████████████████████████████████| 42 kB 825 kB/s \n",
            "\u001b[?25hInstalling collected packages: demoji\n",
            "Successfully installed demoji-1.1.0\n"
          ]
        }
      ]
    },
    {
      "cell_type": "code",
      "metadata": {
        "id": "jnPWBwCaJ8bC"
      },
      "source": [
        "import demoji\n",
        "def demoji_text(text):\n",
        "  d= demoji.findall(text)\n",
        "  return d"
      ],
      "execution_count": 9,
      "outputs": []
    },
    {
      "cell_type": "code",
      "metadata": {
        "id": "1QznQ-wyJ83X"
      },
      "source": [
        "df['emoji_list'] = df['Tweet'].apply(demoji_text)"
      ],
      "execution_count": 10,
      "outputs": []
    },
    {
      "cell_type": "code",
      "metadata": {
        "id": "HAqDtcrcJ9lY"
      },
      "source": [
        "f= list(filter(None, df['emoji_list']))"
      ],
      "execution_count": 11,
      "outputs": []
    },
    {
      "cell_type": "code",
      "metadata": {
        "colab": {
          "base_uri": "https://localhost:8080/"
        },
        "id": "Xy9_LUpnKJhr",
        "outputId": "082d5068-7020-49e8-a810-102c94feaa97"
      },
      "source": [
        "print(f)"
      ],
      "execution_count": 12,
      "outputs": [
        {
          "output_type": "stream",
          "name": "stdout",
          "text": [
            "[{'😏': 'smirking face', '👌': 'OK hand'}, {'👍': 'thumbs up'}, {'😡': 'pouting face'}, {'😫': 'tired face', '😍': 'smiling face with heart-eyes', '🔫': 'water pistol', '🙈': 'see-no-evil monkey'}, {'😐': 'neutral face'}, {'😒': 'unamused face'}, {'👀': 'eyes', '😮': 'face with open mouth'}, {'😭': 'loudly crying face', '🔫': 'water pistol'}, {'👌': 'OK hand'}, {'😒': 'unamused face'}, {'😳': 'flushed face', '👌': 'OK hand'}, {'😣': 'persevering face'}, {'😒': 'unamused face'}, {'👌': 'OK hand'}, {'😒': 'unamused face'}, {'🙈': 'see-no-evil monkey'}, {'😒': 'unamused face'}, {'😊': 'smiling face with smiling eyes'}, {'👌': 'OK hand'}, {'😑': 'expressionless face'}, {'👍': 'thumbs up'}, {'🎉': 'party popper'}, {'👏': 'clapping hands', '😒': 'unamused face'}, {'😛': 'face with tongue'}, {'😒': 'unamused face'}, {'😻': 'smiling cat with heart-eyes'}, {'😑': 'expressionless face'}, {'😰': 'anxious face with sweat'}, {'😉': 'winking face'}, {'😳': 'flushed face'}, {'😭': 'loudly crying face'}, {'💁': 'person tipping hand'}, {'😤': 'face with steam from nose', '😡': 'pouting face'}, {'😒': 'unamused face'}, {'👏': 'clapping hands'}, {'☠': 'skull and crossbones'}, {'😒': 'unamused face'}, {'👏': 'clapping hands'}, {'😒': 'unamused face'}, {'😒': 'unamused face'}, {'💪': 'flexed biceps', '😒': 'unamused face'}, {'😳': 'flushed face'}, {'😂': 'face with tears of joy'}, {'😒': 'unamused face'}, {'😂': 'face with tears of joy'}, {'♥': 'heart suit'}, {'😅': 'grinning face with sweat', '🌙': 'crescent moon', '👌': 'OK hand'}, {'😠': 'angry face'}, {'❤️': 'red heart'}, {'😒': 'unamused face'}, {'😂': 'face with tears of joy'}, {'😭': 'loudly crying face'}, {'👍': 'thumbs up', '✌️': 'victory hand', '😉': 'winking face', '👌': 'OK hand'}, {'😂': 'face with tears of joy'}, {'😉': 'winking face'}, {'❄️': 'snowflake', '😒': 'unamused face'}, {'😂': 'face with tears of joy'}, {'😞': 'disappointed face'}, {'💖': 'sparkling heart', '☔': 'umbrella with rain drops', '💦': 'sweat droplets', '🙈': 'see-no-evil monkey'}, {'😭': 'loudly crying face'}, {'🎀': 'ribbon', '✌️': 'victory hand', '🐥': 'front-facing baby chick', '💁': 'person tipping hand'}, {'😀': 'grinning face'}, {'😉': 'winking face'}, {'😒': 'unamused face'}, {'😒': 'unamused face'}, {'🎶': 'musical notes', '😩': 'weary face', '😂': 'face with tears of joy'}, {'😘': 'face blowing a kiss'}, {'😂': 'face with tears of joy'}, {'😂': 'face with tears of joy'}, {'👊': 'oncoming fist', '😠': 'angry face'}, {'😹': 'cat with tears of joy', '😂': 'face with tears of joy'}, {'😍': 'smiling face with heart-eyes'}, {'😊': 'smiling face with smiling eyes'}, {'😑': 'expressionless face', '😕': 'confused face'}, {'👅': 'tongue', '💦': 'sweat droplets'}, {'😅': 'grinning face with sweat', '🔫': 'water pistol'}, {'😅': 'grinning face with sweat'}, {'😏': 'smirking face'}, {'😒': 'unamused face'}, {'👎': 'thumbs down'}, {'😬': 'grimacing face', '😒': 'unamused face'}, {'😂': 'face with tears of joy', '😉': 'winking face'}, {'😫': 'tired face'}, {'😂': 'face with tears of joy'}, {'😒': 'unamused face'}, {'😎': 'smiling face with sunglasses'}, {'😂': 'face with tears of joy'}, {'😑': 'expressionless face'}, {'😉': 'winking face'}, {'🎅': 'Santa Claus', '👱': 'person: blond hair', '🎄': 'Christmas tree'}, {'😒': 'unamused face'}, {'😒': 'unamused face'}, {'💅': 'nail polish', '💖': 'sparkling heart'}, {'❄': 'snowflake', '⛅': 'sun behind cloud'}, {'😒': 'unamused face'}, {'👍': 'thumbs up'}, {'😒': 'unamused face'}, {'😃': 'grinning face with big eyes', '🔫': 'water pistol'}, {'👌': 'OK hand'}, {'👌': 'OK hand'}, {'😔': 'pensive face'}, {'👌': 'OK hand'}, {'👌': 'OK hand'}, {'🍃': 'leaf fluttering in wind'}, {'😑': 'expressionless face'}, {'😒': 'unamused face'}, {'💁': 'person tipping hand'}, {'😔': 'pensive face'}, {'😒': 'unamused face'}, {'😑': 'expressionless face', '😅': 'grinning face with sweat', '😐': 'neutral face'}, {'😄': 'grinning face with smiling eyes'}, {'😊': 'smiling face with smiling eyes'}, {'☔': 'umbrella with rain drops'}, {'✌': 'victory hand', '😘': 'face blowing a kiss'}, {'🙊': 'speak-no-evil monkey'}, {'👎': 'thumbs down', '😷': 'face with medical mask', '😩': 'weary face'}, {'👋': 'waving hand'}, {'😁': 'beaming face with smiling eyes'}, {'😒': 'unamused face'}, {'☺': 'smiling face'}, {'😂': 'face with tears of joy'}, {'💁': 'person tipping hand'}, {'😂': 'face with tears of joy'}, {'😃': 'grinning face with big eyes', '☺️': 'smiling face'}, {'😏': 'smirking face'}, {'👊': 'oncoming fist', '😑': 'expressionless face'}, {'😂': 'face with tears of joy'}, {'😂': 'face with tears of joy'}, {'❄️': 'snowflake'}, {'😂': 'face with tears of joy'}, {'😁': 'beaming face with smiling eyes'}, {'😂': 'face with tears of joy'}, {'😒': 'unamused face'}, {'😏': 'smirking face'}, {'🎅': 'Santa Claus', '😷': 'face with medical mask', '😒': 'unamused face', '👎': 'thumbs down', '🎁': 'wrapped gift', '🎄': 'Christmas tree'}, {'😑': 'expressionless face', '😒': 'unamused face', '😠': 'angry face'}, {'😞': 'disappointed face', '😏': 'smirking face', '😠': 'angry face'}, {'😍': 'smiling face with heart-eyes', '😐': 'neutral face'}, {'😒': 'unamused face'}, {'😂': 'face with tears of joy'}, {'😞': 'disappointed face', '😒': 'unamused face'}, {'👍': 'thumbs up', '☺️': 'smiling face'}, {'😒': 'unamused face'}, {'🙌': 'raising hands'}, {'👍': 'thumbs up', '👌': 'OK hand'}, {'🏈': 'american football'}, {'😁': 'beaming face with smiling eyes'}, {'😎': 'smiling face with sunglasses', '😠': 'angry face'}, {'😒': 'unamused face', '😊': 'smiling face with smiling eyes'}, {'😡': 'pouting face', '😩': 'weary face', '💀': 'skull'}, {'😅': 'grinning face with sweat'}, {'😏': 'smirking face'}, {'😒': 'unamused face'}, {'😑': 'expressionless face'}, {'⛄': 'snowman without snow', '❄️': 'snowflake', '😏': 'smirking face'}, {'😉': 'winking face'}, {'😁': 'beaming face with smiling eyes', '😏': 'smirking face', '😋': 'face savoring food', '😜': 'winking face with tongue'}, {'😭': 'loudly crying face', '💩': 'pile of poo', '🙈': 'see-no-evil monkey'}, {'😂': 'face with tears of joy'}, {'❤️': 'red heart'}, {'😢': 'crying face'}, {'😫': 'tired face'}, {'👍': 'thumbs up'}, {'🙏': 'folded hands'}, {'😕': 'confused face'}, {'😑': 'expressionless face'}, {'😂': 'face with tears of joy'}, {'👌': 'OK hand'}, {'😢': 'crying face', '😒': 'unamused face', '😐': 'neutral face', '😠': 'angry face', '😣': 'persevering face'}, {'😑': 'expressionless face'}, {'👏': 'clapping hands'}, {'😉': 'winking face'}, {'😳': 'flushed face'}, {'🎉': 'party popper'}, {'😂': 'face with tears of joy'}, {'😒': 'unamused face'}, {'👌': 'OK hand'}, {'😲': 'astonished face', '😑': 'expressionless face', '💜': 'purple heart'}, {'😑': 'expressionless face'}, {'😩': 'weary face'}, {'😂': 'face with tears of joy'}, {'😂': 'face with tears of joy'}, {'😞': 'disappointed face', '😩': 'weary face', '😴': 'sleeping face'}, {'🏃': 'person running', '👈': 'backhand index pointing left'}, {'😛': 'face with tongue'}, {'😏': 'smirking face', '😄': 'grinning face with smiling eyes', '🐠': 'tropical fish'}, {'😏': 'smirking face'}, {'🌚': 'new moon face'}, {'😁': 'beaming face with smiling eyes', '😉': 'winking face'}, {'😒': 'unamused face'}, {'👌': 'OK hand'}, {'☺️': 'smiling face'}, {'😒': 'unamused face'}, {'😒': 'unamused face'}, {'👏': 'clapping hands'}, {'👍': 'thumbs up', '👋': 'waving hand'}, {'😒': 'unamused face'}, {'😊': 'smiling face with smiling eyes'}, {'😱': 'face screaming in fear'}, {'😖': 'confounded face'}, {'😰': 'anxious face with sweat', '😥': 'sad but relieved face', '😨': 'fearful face'}, {'👊': 'oncoming fist', '😂': 'face with tears of joy', '🎄': 'Christmas tree', '😐': 'neutral face'}, {'😂': 'face with tears of joy'}, {'😂': 'face with tears of joy'}, {'😑': 'expressionless face'}, {'😷': 'face with medical mask', '😢': 'crying face', '💰': 'money bag', '🔫': 'water pistol'}, {'😊': 'smiling face with smiling eyes'}, {'😂': 'face with tears of joy'}, {'👏': 'clapping hands', '💃': 'woman dancing'}, {'♥': 'heart suit'}, {'😍': 'smiling face with heart-eyes', '😒': 'unamused face'}, {'👍': 'thumbs up', '👌': 'OK hand', '😄': 'grinning face with smiling eyes'}, {'😒': 'unamused face'}, {'😅': 'grinning face with sweat', '👌': 'OK hand'}, {'😂': 'face with tears of joy'}, {'👏': 'clapping hands'}, {'😒': 'unamused face'}, {'👌': 'OK hand'}, {'😒': 'unamused face'}, {'💔': 'broken heart', '😩': 'weary face'}, {'😒': 'unamused face'}, {'😉': 'winking face'}, {'😒': 'unamused face'}, {'😑': 'expressionless face'}, {'😭': 'loudly crying face'}, {'😃': 'grinning face with big eyes'}, {'⚡': 'high voltage', '🌂': 'closed umbrella', '☔': 'umbrella with rain drops', '❌': 'cross mark', '😔': 'pensive face'}, {'😂': 'face with tears of joy'}, {'😡': 'pouting face', '😒': 'unamused face'}, {'💁': 'person tipping hand'}, {'😘': 'face blowing a kiss'}, {'😒': 'unamused face'}, {'☺️': 'smiling face'}, {'😒': 'unamused face'}, {'✋': 'raised hand'}, {'👎': 'thumbs down', '😜': 'winking face with tongue'}, {'😣': 'persevering face', '😒': 'unamused face'}, {'😁': 'beaming face with smiling eyes', '💥': 'collision', '🔫': 'water pistol'}, {'😊': 'smiling face with smiling eyes'}, {'😒': 'unamused face'}, {'🔫': 'water pistol', '😄': 'grinning face with smiling eyes'}, {'🔥': 'fire'}, {'😊': 'smiling face with smiling eyes'}, {'😑': 'expressionless face'}, {'😒': 'unamused face'}, {'😒': 'unamused face'}, {'😐': 'neutral face'}, {'😷': 'face with medical mask'}, {'😢': 'crying face'}, {'🍸': 'cocktail glass', '🎉': 'party popper'}, {'😔': 'pensive face', '😒': 'unamused face'}, {'👌': 'OK hand'}, {'😂': 'face with tears of joy', '💁': 'person tipping hand'}, {'😒': 'unamused face'}, {'😂': 'face with tears of joy'}, {'😒': 'unamused face'}, {'👌': 'OK hand', '😍': 'smiling face with heart-eyes', '☺️': 'smiling face'}, {'😷': 'face with medical mask', '❄️': 'snowflake', '😐': 'neutral face'}, {'😂': 'face with tears of joy'}, {'😣': 'persevering face', '😏': 'smirking face'}, {'😡': 'pouting face', '👌': 'OK hand'}, {'😐': 'neutral face'}, {'☺': 'smiling face'}, {'👎': 'thumbs down', '😩': 'weary face'}, {'😂': 'face with tears of joy'}, {'😁': 'beaming face with smiling eyes'}, {'💔': 'broken heart', '❤️': 'red heart'}, {'😒': 'unamused face'}, {'🙌': 'raising hands'}, {'😪': 'sleepy face'}, {'😊': 'smiling face with smiling eyes'}, {'😔': 'pensive face'}, {'🔫': 'water pistol'}, {'😱': 'face screaming in fear', '😑': 'expressionless face', '😥': 'sad but relieved face'}, {'😤': 'face with steam from nose'}, {'😑': 'expressionless face', '😒': 'unamused face'}, {'👌': 'OK hand'}, {'😒': 'unamused face'}, {'😆': 'grinning squinting face', '😭': 'loudly crying face', '😂': 'face with tears of joy'}, {'😂': 'face with tears of joy'}, {'😒': 'unamused face'}, {'😡': 'pouting face'}, {'😒': 'unamused face'}, {'😊': 'smiling face with smiling eyes'}, {'😄': 'grinning face with smiling eyes'}, {'😑': 'expressionless face'}, {'😯': 'hushed face', '😜': 'winking face with tongue'}, {'😹': 'cat with tears of joy'}, {'😂': 'face with tears of joy'}, {'💛': 'yellow heart', '❤️': 'red heart'}, {'😺': 'grinning cat'}, {'👍': 'thumbs up'}, {'👌': 'OK hand'}, {'👍': 'thumbs up'}, {'👿': 'angry face with horns', '😑': 'expressionless face'}, {'😂': 'face with tears of joy'}, {'😂': 'face with tears of joy'}, {'😏': 'smirking face'}, {'❄️': 'snowflake'}, {'👌': 'OK hand'}, {'🌴': 'palm tree', '👙': 'bikini'}, {'😂': 'face with tears of joy'}, {'😁': 'beaming face with smiling eyes'}, {'😊': 'smiling face with smiling eyes'}, {'😔': 'pensive face'}, {'❤️': 'red heart', '😂': 'face with tears of joy', '💕': 'two hearts'}, {'❤️': 'red heart'}, {'😡': 'pouting face', '😑': 'expressionless face', '👌': 'OK hand'}, {'😒': 'unamused face'}, {'😒': 'unamused face'}, {'😒': 'unamused face'}, {'😛': 'face with tongue'}, {'😠': 'angry face'}, {'👎': 'thumbs down', '😒': 'unamused face', '🙈': 'see-no-evil monkey'}, {'😉': 'winking face'}, {'❤️': 'red heart'}, {'😂': 'face with tears of joy'}, {'😶': 'face without mouth'}, {'👍': 'thumbs up', '😄': 'grinning face with smiling eyes'}, {'😑': 'expressionless face'}, {'😲': 'astonished face'}, {'👎': 'thumbs down', '😅': 'grinning face with sweat'}, {'😭': 'loudly crying face', '😒': 'unamused face'}, {'😃': 'grinning face with big eyes', '😰': 'anxious face with sweat'}, {'💁': 'person tipping hand'}, {'😄': 'grinning face with smiling eyes'}, {'😏': 'smirking face'}, {'😂': 'face with tears of joy'}, {'😁': 'beaming face with smiling eyes', '🔫': 'water pistol'}, {'😃': 'grinning face with big eyes'}, {'😒': 'unamused face'}, {'😡': 'pouting face', '😠': 'angry face'}, {'☝️': 'index pointing up'}, {'😷': 'face with medical mask'}, {'😒': 'unamused face'}, {'😁': 'beaming face with smiling eyes', '🎀': 'ribbon', '😳': 'flushed face'}, {'👊': 'oncoming fist'}, {'😒': 'unamused face'}, {'😩': 'weary face', '😭': 'loudly crying face'}, {'💩': 'pile of poo'}, {'😒': 'unamused face'}, {'😂': 'face with tears of joy'}, {'🙌': 'raising hands', '😒': 'unamused face'}, {'😂': 'face with tears of joy'}, {'😒': 'unamused face'}, {'👌': 'OK hand', '😊': 'smiling face with smiling eyes'}, {'😂': 'face with tears of joy', '😜': 'winking face with tongue'}, {'😀': 'grinning face'}, {'😒': 'unamused face'}, {'😑': 'expressionless face'}, {'👌': 'OK hand'}, {'👌': 'OK hand'}, {'😂': 'face with tears of joy'}, {'😙': 'kissing face with smiling eyes'}, {'💎': 'gem stone', '👑': 'crown', '😘': 'face blowing a kiss'}, {'😒': 'unamused face'}, {'🚶': 'person walking', '🏃': 'person running', '😒': 'unamused face', '😄': 'grinning face with smiling eyes', '💨': 'dashing away'}, {'👊': 'oncoming fist', '💢': 'anger symbol', '😑': 'expressionless face'}, {'😒': 'unamused face'}, {'😒': 'unamused face'}, {'😑': 'expressionless face'}, {'😬': 'grimacing face'}, {'😅': 'grinning face with sweat'}, {'😒': 'unamused face'}, {'😳': 'flushed face'}, {'👍': 'thumbs up'}, {'👍': 'thumbs up', '😶': 'face without mouth'}, {'😂': 'face with tears of joy'}, {'😂': 'face with tears of joy', '💁': 'person tipping hand'}, {'😒': 'unamused face'}, {'😒': 'unamused face'}, {'🙆': 'person gesturing OK', '👍': 'thumbs up', '👌': 'OK hand'}, {'🍻': 'clinking beer mugs'}, {'😱': 'face screaming in fear'}, {'🍧': 'shaved ice', '🍪': 'cookie', '🍭': 'lollipop', '🍬': 'candy', '🍰': 'shortcake'}, {'👌': 'OK hand'}, {'😂': 'face with tears of joy'}, {'❄️': 'snowflake', '👙': 'bikini'}, {'❤️': 'red heart', '😍': 'smiling face with heart-eyes'}, {'😱': 'face screaming in fear', '😃': 'grinning face with big eyes', '😆': 'grinning squinting face'}, {'😒': 'unamused face'}, {'❤️': 'red heart'}, {'😃': 'grinning face with big eyes'}, {'😱': 'face screaming in fear'}, {'👌': 'OK hand'}, {'😞': 'disappointed face', '😡': 'pouting face'}, {'😠': 'angry face'}, {'👍': 'thumbs up'}, {'😁': 'beaming face with smiling eyes'}, {'😒': 'unamused face'}, {'❤': 'red heart', '💁': 'person tipping hand'}, {'😒': 'unamused face'}, {'😂': 'face with tears of joy'}, {'😔': 'pensive face'}, {'😏': 'smirking face'}, {'✈️': 'airplane', '😡': 'pouting face'}, {'😣': 'persevering face', '😰': 'anxious face with sweat', '😉': 'winking face', '💃': 'woman dancing'}, {'👏': 'clapping hands'}, {'😒': 'unamused face'}, {'😄': 'grinning face with smiling eyes'}, {'😊': 'smiling face with smiling eyes'}, {'😒': 'unamused face'}, {'😰': 'anxious face with sweat', '😴': 'sleeping face', '😠': 'angry face'}, {'✊': 'raised fist'}, {'😑': 'expressionless face'}, {'😳': 'flushed face'}, {'👏': 'clapping hands', '😂': 'face with tears of joy', '👌': 'OK hand'}, {'😒': 'unamused face'}, {'🙈': 'see-no-evil monkey'}, {'😂': 'face with tears of joy'}, {'😒': 'unamused face'}, {'😒': 'unamused face'}, {'😒': 'unamused face'}, {'😆': 'grinning squinting face', '😁': 'beaming face with smiling eyes', '💜': 'purple heart', '👍': 'thumbs up', '😄': 'grinning face with smiling eyes', '💚': 'green heart', '☺️': 'smiling face'}, {'👌': 'OK hand'}, {'👍': 'thumbs up', '🙈': 'see-no-evil monkey'}, {'👌': 'OK hand'}, {'✌️': 'victory hand'}, {'😁': 'beaming face with smiling eyes', '😏': 'smirking face', '😜': 'winking face with tongue'}, {'😑': 'expressionless face'}, {'😑': 'expressionless face'}, {'😐': 'neutral face'}, {'😂': 'face with tears of joy', '😔': 'pensive face', '😒': 'unamused face'}, {'👍': 'thumbs up', '📖': 'open book', '📚': 'books', '😴': 'sleeping face'}, {'😂': 'face with tears of joy'}, {'😊': 'smiling face with smiling eyes'}, {'👍': 'thumbs up'}, {'👌': 'OK hand'}, {'😘': 'face blowing a kiss'}, {'😘': 'face blowing a kiss'}, {'😠': 'angry face'}, {'🙆': 'person gesturing OK'}, {'😕': 'confused face'}, {'😉': 'winking face', '😒': 'unamused face', '😠': 'angry face'}, {'👍': 'thumbs up', '😂': 'face with tears of joy', '😜': 'winking face with tongue'}, {'😒': 'unamused face'}, {'😉': 'winking face'}, {'😒': 'unamused face'}, {'😂': 'face with tears of joy'}, {'😊': 'smiling face with smiling eyes'}, {'😁': 'beaming face with smiling eyes'}, {'👌': 'OK hand'}, {'✨': 'sparkles'}, {'👀': 'eyes', '😷': 'face with medical mask', '😒': 'unamused face'}, {'😂': 'face with tears of joy'}, {'😠': 'angry face'}, {'😂': 'face with tears of joy'}, {'❤️': 'red heart'}, {'👎': 'thumbs down'}, {'😫': 'tired face'}, {'😒': 'unamused face'}, {'🙌': 'raising hands', '😻': 'smiling cat with heart-eyes'}, {'😂': 'face with tears of joy'}, {'👍': 'thumbs up', '😀': 'grinning face'}, {'💪': 'flexed biceps'}, {'🌅': 'sunrise'}, {'😝': 'squinting face with tongue'}, {'😄': 'grinning face with smiling eyes'}, {'👌': 'OK hand'}, {'😂': 'face with tears of joy', '🔫': 'water pistol'}, {'😄': 'grinning face with smiling eyes'}, {'♥️': 'heart suit', '😍': 'smiling face with heart-eyes'}, {'😒': 'unamused face'}, {'😆': 'grinning squinting face'}, {'👍': 'thumbs up'}, {'🙋': 'person raising hand'}, {'😘': 'face blowing a kiss', '😊': 'smiling face with smiling eyes'}, {'😂': 'face with tears of joy', '😒': 'unamused face'}, {'😠': 'angry face'}, {'😂': 'face with tears of joy', '😳': 'flushed face'}, {'😒': 'unamused face'}, {'🔥': 'fire'}, {'✌️': 'victory hand', '😄': 'grinning face with smiling eyes'}, {'👄': 'mouth'}, {'👊': 'oncoming fist', '😡': 'pouting face', '😂': 'face with tears of joy'}, {'🚫': 'prohibited', '😌': 'relieved face', '☕': 'hot beverage'}, {'😤': 'face with steam from nose', '😡': 'pouting face', '😒': 'unamused face'}, {'😉': 'winking face', '👌': 'OK hand'}, {'😒': 'unamused face'}, {'😁': 'beaming face with smiling eyes'}, {'😂': 'face with tears of joy'}, {'😤': 'face with steam from nose', '😑': 'expressionless face'}, {'👎': 'thumbs down', '😡': 'pouting face', '👊': 'oncoming fist'}, {'😹': 'cat with tears of joy'}, {'😑': 'expressionless face'}, {'😏': 'smirking face'}, {'🎊': 'confetti ball', '🎉': 'party popper', '🎈': 'balloon', '😄': 'grinning face with smiling eyes'}, {'⛄': 'snowman without snow', '☀': 'sun'}, {'😵': 'knocked-out face', '🔫': 'water pistol'}, {'😴': 'sleeping face'}, {'👌': 'OK hand'}, {'👌': 'OK hand'}, {'😔': 'pensive face'}, {'😑': 'expressionless face'}, {'😒': 'unamused face'}, {'👀': 'eyes'}, {'😩': 'weary face', '🔫': 'water pistol'}, {'😍': 'smiling face with heart-eyes'}, {'😒': 'unamused face'}, {'😂': 'face with tears of joy'}, {'👉': 'backhand index pointing right'}, {'😡': 'pouting face'}, {'👆': 'backhand index pointing up', '✌️': 'victory hand', '👌': 'OK hand'}, {'😞': 'disappointed face'}, {'😉': 'winking face'}, {'🏈': 'american football'}, {'😒': 'unamused face', '👌': 'OK hand'}, {'😁': 'beaming face with smiling eyes'}, {'👌': 'OK hand'}, {'😒': 'unamused face'}, {'😊': 'smiling face with smiling eyes'}, {'😂': 'face with tears of joy'}, {'♥': 'heart suit'}, {'😂': 'face with tears of joy'}, {'😌': 'relieved face', '😭': 'loudly crying face'}, {'😒': 'unamused face'}, {'😂': 'face with tears of joy'}, {'😑': 'expressionless face'}, {'😑': 'expressionless face', '😒': 'unamused face'}, {'😀': 'grinning face'}, {'😂': 'face with tears of joy'}, {'😒': 'unamused face'}, {'😶': 'face without mouth'}, {'😆': 'grinning squinting face', '👍': 'thumbs up'}, {'⚽': 'soccer ball'}, {'😒': 'unamused face', '😳': 'flushed face'}, {'👋': 'waving hand'}, {'😑': 'expressionless face'}, {'😒': 'unamused face'}, {'👍': 'thumbs up'}, {'😂': 'face with tears of joy'}, {'😁': 'beaming face with smiling eyes', '💯': 'hundred points'}, {'👍': 'thumbs up'}, {'👍': 'thumbs up', '👌': 'OK hand'}, {'😷': 'face with medical mask'}, {'😒': 'unamused face'}, {'😏': 'smirking face', '😂': 'face with tears of joy'}, {'😍': 'smiling face with heart-eyes'}, {'😩': 'weary face'}, {'😍': 'smiling face with heart-eyes', '😂': 'face with tears of joy', '💋': 'kiss mark'}, {'😇': 'smiling face with halo'}, {'😄': 'grinning face with smiling eyes'}, {'😒': 'unamused face'}, {'😒': 'unamused face'}, {'😡': 'pouting face', '😠': 'angry face', '😊': 'smiling face with smiling eyes'}, {'😊': 'smiling face with smiling eyes'}, {'🙈': 'see-no-evil monkey'}, {'😡': 'pouting face'}, {'☺️': 'smiling face'}, {'😠': 'angry face'}, {'😤': 'face with steam from nose', '😡': 'pouting face', '👎': 'thumbs down', '😠': 'angry face'}, {'😒': 'unamused face'}, {'😞': 'disappointed face'}, {'🙅': 'person gesturing NO', '✋': 'raised hand'}, {'😅': 'grinning face with sweat'}, {'😂': 'face with tears of joy'}, {'❄️': 'snowflake'}, {'😒': 'unamused face'}, {'😘': 'face blowing a kiss'}, {'😡': 'pouting face'}, {'😐': 'neutral face'}, {'😊': 'smiling face with smiling eyes'}, {'😁': 'beaming face with smiling eyes'}, {'😬': 'grimacing face', '👌': 'OK hand'}, {'💖': 'sparkling heart', '😘': 'face blowing a kiss', '❤️': 'red heart', '💗': 'growing heart', '💋': 'kiss mark', '💞': 'revolving hearts'}, {'❄️': 'snowflake', '😍': 'smiling face with heart-eyes'}, {'😒': 'unamused face'}, {'⛄': 'snowman without snow', '❄️': 'snowflake', '❌': 'cross mark', '🌀': 'cyclone', '😐': 'neutral face', '☀️': 'sun'}, {'🏊': 'person swimming', '💧': 'droplet', '👌': 'OK hand'}, {'😑': 'expressionless face'}, {'👍': 'thumbs up'}, {'👀': 'eyes', '🙈': 'see-no-evil monkey'}, {'😍': 'smiling face with heart-eyes'}, {'😍': 'smiling face with heart-eyes', '😂': 'face with tears of joy', '🙈': 'see-no-evil monkey'}, {'😱': 'face screaming in fear', '😳': 'flushed face'}, {'😆': 'grinning squinting face'}, {'👌': 'OK hand', '😐': 'neutral face'}, {'🍗': 'poultry leg'}, {'❗': 'red exclamation mark'}, {'✊': 'raised fist', '💦': 'sweat droplets'}, {'⛄': 'snowman without snow', '❄️': 'snowflake'}, {'😒': 'unamused face'}, {'😒': 'unamused face', '💁': 'person tipping hand'}, {'😊': 'smiling face with smiling eyes'}, {'😃': 'grinning face with big eyes'}, {'👍': 'thumbs up'}, {'😤': 'face with steam from nose', '😷': 'face with medical mask'}, {'😒': 'unamused face', '😠': 'angry face'}, {'😐': 'neutral face'}, {'😍': 'smiling face with heart-eyes'}, {'😏': 'smirking face', '😝': 'squinting face with tongue', '😂': 'face with tears of joy'}, {'😒': 'unamused face'}, {'😒': 'unamused face'}, {'😁': 'beaming face with smiling eyes', '😂': 'face with tears of joy', '💁': 'person tipping hand'}, {'💜': 'purple heart', '😂': 'face with tears of joy'}, {'😑': 'expressionless face'}, {'😑': 'expressionless face'}, {'😂': 'face with tears of joy'}, {'😂': 'face with tears of joy'}, {'😒': 'unamused face'}, {'😔': 'pensive face'}, {'😕': 'confused face'}, {'😒': 'unamused face'}, {'⚡': 'high voltage', '☁️': 'cloud', '❄️': 'snowflake', '☔': 'umbrella with rain drops', '⛅': 'sun behind cloud', '☀️': 'sun'}, {'😫': 'tired face', '😩': 'weary face', '😖': 'confounded face'}, {'👍': 'thumbs up'}, {'👌': 'OK hand'}, {'👎': 'thumbs down'}, {'😁': 'beaming face with smiling eyes'}, {'😄': 'grinning face with smiling eyes'}, {'😂': 'face with tears of joy'}, {'😔': 'pensive face', '😒': 'unamused face'}, {'😣': 'persevering face', '😡': 'pouting face', '😩': 'weary face', '😨': 'fearful face'}, {'👌': 'OK hand'}, {'😭': 'loudly crying face'}, {'❄️': 'snowflake'}, {'☺️': 'smiling face'}, {'😒': 'unamused face'}, {'💻': 'laptop', '🎄': 'Christmas tree', '☕': 'hot beverage'}, {'😡': 'pouting face', '😑': 'expressionless face'}, {'😬': 'grimacing face'}, {'😔': 'pensive face'}, {'✌️': 'victory hand'}, {'😜': 'winking face with tongue'}, {'😒': 'unamused face'}, {'😵': 'knocked-out face'}, {'🐤': 'baby chick'}, {'😡': 'pouting face', '😑': 'expressionless face', '😕': 'confused face', '😐': 'neutral face'}, {'☺️': 'smiling face'}, {'😀': 'grinning face'}, {'🚨': 'police car light', '🚔': 'oncoming police car'}, {'😂': 'face with tears of joy'}, {'😂': 'face with tears of joy'}, {'👌': 'OK hand'}, {'😂': 'face with tears of joy', '😊': 'smiling face with smiling eyes'}, {'👎': 'thumbs down', '😐': 'neutral face'}, {'😂': 'face with tears of joy'}, {'😒': 'unamused face'}, {'😂': 'face with tears of joy'}, {'😀': 'grinning face'}, {'👌': 'OK hand'}, {'👼': 'baby angel'}, {'😒': 'unamused face'}, {'😂': 'face with tears of joy'}, {'😑': 'expressionless face', '😟': 'worried face', '😐': 'neutral face'}, {'😪': 'sleepy face'}, {'😁': 'beaming face with smiling eyes'}, {'😒': 'unamused face'}, {'😒': 'unamused face'}, {'😏': 'smirking face'}, {'🚬': 'cigarette'}, {'👍': 'thumbs up', '😁': 'beaming face with smiling eyes'}, {'😑': 'expressionless face', '🚨': 'police car light'}, {'😱': 'face screaming in fear'}, {'👎': 'thumbs down', '👶': 'baby'}, {'🎁': 'wrapped gift', '😍': 'smiling face with heart-eyes'}, {'❤️': 'red heart'}, {'😳': 'flushed face'}, {'💪': 'flexed biceps'}, {'👌': 'OK hand', '😘': 'face blowing a kiss'}, {'❄️': 'snowflake', '🔫': 'water pistol', '😒': 'unamused face'}, {'😡': 'pouting face'}, {'😒': 'unamused face'}, {'😂': 'face with tears of joy'}, {'💤': 'zzz', '😴': 'sleeping face'}, {'❤️': 'red heart', '🙏': 'folded hands'}, {'😂': 'face with tears of joy'}, {'👍': 'thumbs up'}, {'😋': 'face savoring food'}, {'👍': 'thumbs up'}, {'😑': 'expressionless face'}, {'😕': 'confused face', '👌': 'OK hand'}, {'👌': 'OK hand'}, {'👍': 'thumbs up'}, {'😅': 'grinning face with sweat'}, {'😩': 'weary face'}, {'😒': 'unamused face'}, {'😅': 'grinning face with sweat'}, {'😯': 'hushed face', '🎊': 'confetti ball', '🍺': 'beer mug', '🎉': 'party popper', '😱': 'face screaming in fear', '🍻': 'clinking beer mugs'}, {'👌': 'OK hand'}, {'😃': 'grinning face with big eyes'}, {'😁': 'beaming face with smiling eyes'}, {'😔': 'pensive face', '😠': 'angry face'}, {'😒': 'unamused face', '👌': 'OK hand'}, {'😳': 'flushed face'}, {'😒': 'unamused face'}, {'🙊': 'speak-no-evil monkey'}, {'😂': 'face with tears of joy'}, {'😑': 'expressionless face'}, {'💕': 'two hearts', '😇': 'smiling face with halo', '💁': 'person tipping hand'}, {'😁': 'beaming face with smiling eyes'}, {'👍': 'thumbs up'}, {'😔': 'pensive face'}, {'😂': 'face with tears of joy'}, {'😒': 'unamused face'}, {'☔': 'umbrella with rain drops'}, {'😱': 'face screaming in fear'}, {'😂': 'face with tears of joy'}, {'😁': 'beaming face with smiling eyes'}, {'😂': 'face with tears of joy'}, {'😒': 'unamused face'}, {'😕': 'confused face'}, {'😘': 'face blowing a kiss'}, {'😂': 'face with tears of joy'}, {'😔': 'pensive face'}, {'🙌': 'raising hands', '😒': 'unamused face'}, {'😂': 'face with tears of joy', '🎀': 'ribbon', '💄': 'lipstick', '😉': 'winking face', '💋': 'kiss mark'}, {'😠': 'angry face'}, {'😃': 'grinning face with big eyes'}, {'😒': 'unamused face'}, {'💁': 'person tipping hand'}, {'😕': 'confused face'}, {'👌': 'OK hand'}, {'😥': 'sad but relieved face', '🚨': 'police car light'}, {'😑': 'expressionless face'}, {'😭': 'loudly crying face', '😂': 'face with tears of joy'}, {'😄': 'grinning face with smiling eyes'}, {'😤': 'face with steam from nose', '😫': 'tired face', '😩': 'weary face'}, {'👌': 'OK hand'}, {'😆': 'grinning squinting face'}, {'❄️': 'snowflake', '😒': 'unamused face'}, {'🙊': 'speak-no-evil monkey'}, {'😁': 'beaming face with smiling eyes'}, {'😒': 'unamused face'}, {'😒': 'unamused face'}, {'😔': 'pensive face'}, {'🙉': 'hear-no-evil monkey'}, {'😂': 'face with tears of joy'}, {'💁': 'person tipping hand'}, {'😏': 'smirking face'}, {'😒': 'unamused face'}, {'🙆': 'person gesturing OK', '👏': 'clapping hands'}, {'😒': 'unamused face'}, {'😂': 'face with tears of joy'}, {'😒': 'unamused face'}, {'💛': 'yellow heart', '☀️': 'sun', '😊': 'smiling face with smiling eyes'}, {'😂': 'face with tears of joy'}, {'✌': 'victory hand'}, {'😔': 'pensive face'}, {'👌': 'OK hand'}, {'😒': 'unamused face'}, {'😭': 'loudly crying face'}, {'♥': 'heart suit'}, {'😒': 'unamused face'}, {'👌': 'OK hand'}, {'😂': 'face with tears of joy'}, {'😒': 'unamused face'}, {'😒': 'unamused face'}, {'😒': 'unamused face'}, {'👌': 'OK hand'}, {'😒': 'unamused face'}, {'😏': 'smirking face'}, {'😒': 'unamused face'}, {'🎊': 'confetti ball', '🎉': 'party popper'}, {'😂': 'face with tears of joy'}, {'😅': 'grinning face with sweat'}, {'😑': 'expressionless face'}, {'👎': 'thumbs down'}, {'🎁': 'wrapped gift'}, {'😂': 'face with tears of joy'}, {'😑': 'expressionless face'}, {'😁': 'beaming face with smiling eyes', '✌': 'victory hand'}, {'😊': 'smiling face with smiling eyes'}, {'😑': 'expressionless face'}, {'💕': 'two hearts', '😘': 'face blowing a kiss'}, {'👌': 'OK hand'}, {'😁': 'beaming face with smiling eyes', '😒': 'unamused face'}, {'😄': 'grinning face with smiling eyes'}, {'💁': 'person tipping hand'}, {'👎': 'thumbs down'}, {'😁': 'beaming face with smiling eyes', '😒': 'unamused face'}, {'👏': 'clapping hands', '🎉': 'party popper'}, {'📖': 'open book', '📚': 'books', '✏': 'pencil'}, {'😬': 'grimacing face', '😅': 'grinning face with sweat'}, {'👍': 'thumbs up', '📚': 'books', '😊': 'smiling face with smiling eyes'}, {'😡': 'pouting face'}, {'👌': 'OK hand'}, {'😍': 'smiling face with heart-eyes'}, {'😉': 'winking face'}, {'😘': 'face blowing a kiss'}, {'⚡': 'high voltage', '☔': 'umbrella with rain drops'}, {'😂': 'face with tears of joy'}, {'☺️': 'smiling face'}, {'😒': 'unamused face', '😠': 'angry face'}, {'👏': 'clapping hands'}, {'😢': 'crying face', '💪': 'flexed biceps'}, {'😅': 'grinning face with sweat'}, {'🎶': 'musical notes', '🎻': 'violin', '🎼': 'musical score', '🎹': 'musical keyboard', '🎵': 'musical note', '🎷': 'saxophone', '🎺': 'trumpet', '📯': 'postal horn', '🎸': 'guitar'}, {'👋': 'waving hand'}, {'❤': 'red heart', '😘': 'face blowing a kiss'}, {'😑': 'expressionless face'}, {'🙈': 'see-no-evil monkey'}, {'😔': 'pensive face', '💸': 'money with wings'}, {'😅': 'grinning face with sweat'}, {'🎉': 'party popper', '😜': 'winking face with tongue'}, {'❤️': 'red heart'}, {'😆': 'grinning squinting face'}, {'💉': 'syringe', '💊': 'pill'}, {'🙈': 'see-no-evil monkey'}, {'😤': 'face with steam from nose'}, {'👏': 'clapping hands'}, {'😒': 'unamused face'}, {'😩': 'weary face'}, {'😷': 'face with medical mask'}, {'😔': 'pensive face'}, {'😯': 'hushed face', '😊': 'smiling face with smiling eyes'}, {'😒': 'unamused face'}, {'🙅': 'person gesturing NO'}, {'💀': 'skull', '✌️': 'victory hand'}, {'😊': 'smiling face with smiling eyes'}, {'😢': 'crying face', '😅': 'grinning face with sweat', '😭': 'loudly crying face'}, {'👎': 'thumbs down', '😔': 'pensive face'}, {'😊': 'smiling face with smiling eyes'}, {'😂': 'face with tears of joy'}, {'😏': 'smirking face'}, {'😉': 'winking face'}, {'😊': 'smiling face with smiling eyes'}, {'🐠': 'tropical fish', '🐟': 'fish', '🐳': 'spouting whale', '🐬': 'dolphin'}, {'😢': 'crying face'}, {'😁': 'beaming face with smiling eyes'}, {'💔': 'broken heart'}, {'🌵': 'cactus'}, {'😂': 'face with tears of joy'}, {'🍝': 'spaghetti', '🍦': 'soft ice cream', '🍕': 'pizza', '🍧': 'shaved ice', '🍟': 'french fries', '🍔': 'hamburger', '🍛': 'curry rice', '🍫': 'chocolate bar', '🍖': 'meat on bone', '🍗': 'poultry leg', '🍩': 'doughnut', '🍤': 'fried shrimp', '🍨': 'ice cream', '🎂': 'birthday cake', '🍳': 'cooking'}, {'😕': 'confused face'}, {'😬': 'grimacing face'}, {'😂': 'face with tears of joy'}, {'😧': 'anguished face'}, {'😩': 'weary face'}, {'😂': 'face with tears of joy'}, {'😝': 'squinting face with tongue'}, {'😒': 'unamused face'}, {'😍': 'smiling face with heart-eyes'}, {'💚': 'green heart', '🍁': 'maple leaf', '👃': 'nose'}, {'😂': 'face with tears of joy'}, {'😊': 'smiling face with smiling eyes'}, {'😴': 'sleeping face'}, {'⛄': 'snowman without snow', '❄️': 'snowflake'}, {'😃': 'grinning face with big eyes', '👌': 'OK hand'}, {'😂': 'face with tears of joy'}, {'😂': 'face with tears of joy'}, {'💻': 'laptop', '📑': 'bookmark tabs', '😒': 'unamused face'}, {'😊': 'smiling face with smiling eyes'}, {'😒': 'unamused face', '🐛': 'bug'}, {'😑': 'expressionless face', '🔫': 'water pistol'}, {'😂': 'face with tears of joy'}, {'😂': 'face with tears of joy'}, {'😑': 'expressionless face'}, {'👍': 'thumbs up'}, {'👍': 'thumbs up', '😀': 'grinning face'}, {'💖': 'sparkling heart'}, {'👏': 'clapping hands', '🙌': 'raising hands', '👌': 'OK hand'}, {'😒': 'unamused face'}, {'👏': 'clapping hands'}, {'😒': 'unamused face', '😠': 'angry face'}, {'✌️': 'victory hand'}, {'👍': 'thumbs up'}, {'😉': 'winking face'}, {'😱': 'face screaming in fear'}, {'😎': 'smiling face with sunglasses', '😂': 'face with tears of joy', '😈': 'smiling face with horns'}, {'😒': 'unamused face'}, {'💯': 'hundred points'}, {'😁': 'beaming face with smiling eyes'}, {'😑': 'expressionless face'}, {'🙊': 'speak-no-evil monkey'}, {'😳': 'flushed face'}, {'👿': 'angry face with horns'}, {'😊': 'smiling face with smiling eyes'}, {'🌙': 'crescent moon'}, {'😒': 'unamused face'}, {'😭': 'loudly crying face'}, {'👏': 'clapping hands', '😂': 'face with tears of joy'}, {'😭': 'loudly crying face', '😂': 'face with tears of joy'}, {'👀': 'eyes'}, {'😉': 'winking face'}, {'😴': 'sleeping face'}, {'😌': 'relieved face', '😁': 'beaming face with smiling eyes', '😝': 'squinting face with tongue', '😏': 'smirking face'}, {'😒': 'unamused face'}, {'👍': 'thumbs up', '👌': 'OK hand', '😄': 'grinning face with smiling eyes'}, {'👌': 'OK hand'}, {'😂': 'face with tears of joy'}, {'😊': 'smiling face with smiling eyes'}, {'😑': 'expressionless face'}, {'😂': 'face with tears of joy', '😘': 'face blowing a kiss'}, {'👍': 'thumbs up', '😑': 'expressionless face'}, {'😒': 'unamused face'}, {'😕': 'confused face'}, {'😑': 'expressionless face', '🔫': 'water pistol'}, {'🍺': 'beer mug'}, {'😉': 'winking face'}, {'😑': 'expressionless face'}, {'😍': 'smiling face with heart-eyes'}, {'👊': 'oncoming fist', '😭': 'loudly crying face'}, {'😭': 'loudly crying face', '😂': 'face with tears of joy'}, {'😑': 'expressionless face'}, {'😒': 'unamused face', '😄': 'grinning face with smiling eyes'}, {'🙌': 'raising hands'}, {'😔': 'pensive face'}, {'👍': 'thumbs up'}, {'😂': 'face with tears of joy'}, {'😎': 'smiling face with sunglasses'}, {'👌': 'OK hand'}, {'🙌': 'raising hands', '😂': 'face with tears of joy'}, {'👍': 'thumbs up'}, {'👍': 'thumbs up', '😃': 'grinning face with big eyes', '😒': 'unamused face'}, {'😜': 'winking face with tongue'}, {'😳': 'flushed face'}, {'😒': 'unamused face'}, {'😒': 'unamused face'}, {'😔': 'pensive face'}, {'😒': 'unamused face'}, {'🙏': 'folded hands'}, {'👍': 'thumbs up'}, {'👎': 'thumbs down', '😩': 'weary face'}, {'😜': 'winking face with tongue'}, {'🙌': 'raising hands'}, {'😂': 'face with tears of joy', '👌': 'OK hand'}, {'😔': 'pensive face'}, {'👍': 'thumbs up'}, {'😔': 'pensive face'}, {'😃': 'grinning face with big eyes'}, {'😂': 'face with tears of joy'}, {'😑': 'expressionless face'}, {'😄': 'grinning face with smiling eyes'}, {'😐': 'neutral face'}, {'😌': 'relieved face'}, {'☺️': 'smiling face'}, {'❤️': 'red heart'}, {'👍': 'thumbs up'}, {'😊': 'smiling face with smiling eyes'}, {'👎': 'thumbs down', '😒': 'unamused face'}, {'😒': 'unamused face'}, {'👀': 'eyes', '🌀': 'cyclone'}, {'😑': 'expressionless face'}, {'👌': 'OK hand'}, {'😊': 'smiling face with smiling eyes'}, {'😒': 'unamused face'}, {'😂': 'face with tears of joy'}, {'💔': 'broken heart'}, {'👾': 'alien monster'}, {'😂': 'face with tears of joy'}, {'😌': 'relieved face', '😂': 'face with tears of joy'}, {'💁': 'person tipping hand'}, {'😁': 'beaming face with smiling eyes', '😄': 'grinning face with smiling eyes', '💁': 'person tipping hand'}, {'👍': 'thumbs up'}, {'😑': 'expressionless face', '😒': 'unamused face'}, {'😅': 'grinning face with sweat'}, {'😑': 'expressionless face'}, {'💩': 'pile of poo'}, {'👌': 'OK hand'}, {'😄': 'grinning face with smiling eyes'}, {'😊': 'smiling face with smiling eyes'}, {'💁': 'person tipping hand'}, {'😎': 'smiling face with sunglasses'}, {'😑': 'expressionless face'}, {'😅': 'grinning face with sweat'}, {'😍': 'smiling face with heart-eyes'}, {'😳': 'flushed face'}, {'💩': 'pile of poo'}, {'♥': 'heart suit'}, {'💁': 'person tipping hand'}, {'♥': 'heart suit'}, {'🍩': 'doughnut', '☕': 'hot beverage'}, {'♥': 'heart suit'}, {'💎': 'gem stone', '💪': 'flexed biceps', '🍀': 'four leaf clover'}, {'😏': 'smirking face'}, {'🙌': 'raising hands'}, {'♥': 'heart suit'}, {'😒': 'unamused face'}, {'😃': 'grinning face with big eyes'}, {'😛': 'face with tongue'}, {'🐾': 'paw prints', '💣': 'bomb', '📱': 'mobile phone', '💊': 'pill', '🏥': 'hospital', '🎎': 'Japanese dolls'}, {'♥': 'heart suit'}, {'😂': 'face with tears of joy'}, {'🙆': 'person gesturing OK'}, {'💯': 'hundred points'}, {'👭': 'women holding hands', '😴': 'sleeping face'}, {'♥': 'heart suit', '😚': 'kissing face with closed eyes', '☺': 'smiling face'}, {'😍': 'smiling face with heart-eyes', '🎄': 'Christmas tree'}, {'😘': 'face blowing a kiss'}, {'❤': 'red heart', '😉': 'winking face'}, {'♥': 'heart suit'}, {'😂': 'face with tears of joy'}, {'™': 'trade mark'}, {'♥': 'heart suit'}, {'😬': 'grimacing face'}, {'🍅': 'tomato', '🍍': 'pineapple', '😂': 'face with tears of joy', '👌': 'OK hand', '😃': 'grinning face with big eyes', '🍲': 'pot of food', '🍆': 'eggplant', '🍠': 'roasted sweet potato'}, {'💃': 'woman dancing'}, {'🕥': 'ten-thirty', '😳': 'flushed face'}, {'👌': 'OK hand'}, {'♥': 'heart suit'}, {'☹': 'frowning face'}, {'🌂': 'closed umbrella', '👠': 'high-heeled shoe', '💄': 'lipstick', '😊': 'smiling face with smiling eyes'}, {'🎀': 'ribbon', '😘': 'face blowing a kiss'}, {'👊': 'oncoming fist', '😎': 'smiling face with sunglasses'}, {'😂': 'face with tears of joy'}, {'❤️': 'red heart'}, {'🎅': 'Santa Claus', '🙋': 'person raising hand', '🎉': 'party popper', '🎄': 'Christmas tree'}, {'❤️': 'red heart'}, {'😢': 'crying face'}, {'😂': 'face with tears of joy'}, {'😠': 'angry face'}, {'😆': 'grinning squinting face', '😂': 'face with tears of joy', '😊': 'smiling face with smiling eyes'}, {'©': 'copyright'}, {'💕': 'two hearts'}, {'😅': 'grinning face with sweat'}, {'♥': 'heart suit'}, {'♥': 'heart suit'}, {'🌏': 'globe showing Asia-Australia', '🌍': 'globe showing Europe-Africa'}, {'🎅': 'Santa Claus', '🎄': 'Christmas tree'}, {'😂': 'face with tears of joy', '😛': 'face with tongue'}, {'😂': 'face with tears of joy'}, {'💳': 'credit card'}, {'😍': 'smiling face with heart-eyes', '💕': 'two hearts'}, {'♥': 'heart suit'}, {'❤️': 'red heart'}, {'😔': 'pensive face', '😳': 'flushed face'}, {'❤': 'red heart', '😉': 'winking face'}, {'😁': 'beaming face with smiling eyes'}, {'🙈': 'see-no-evil monkey'}, {'😜': 'winking face with tongue', '😘': 'face blowing a kiss'}, {'❤️': 'red heart'}, {'😱': 'face screaming in fear', '😡': 'pouting face'}, {'🌎': 'globe showing Americas'}, {'👭': 'women holding hands', '🍹': 'tropical drink', '🍸': 'cocktail glass', '🍷': 'wine glass'}, {'❤': 'red heart'}, {'❤️': 'red heart'}, {'🙈': 'see-no-evil monkey'}, {'❤️': 'red heart'}, {'♥': 'heart suit'}, {'😂': 'face with tears of joy', '👌': 'OK hand'}, {'♥': 'heart suit'}, {'💤': 'zzz', '😴': 'sleeping face', '😒': 'unamused face'}, {'❤️': 'red heart'}, {'👍': 'thumbs up', '❤️': 'red heart'}, {'🏈': 'american football'}, {'❤️': 'red heart'}, {'😌': 'relieved face', '✖️': 'multiply'}, {'®': 'registered'}, {'👏': 'clapping hands'}, {'😞': 'disappointed face', '❤️': 'red heart'}, {'😎': 'smiling face with sunglasses', '👍': 'thumbs up'}, {'©': 'copyright'}, {'❤': 'red heart', '😉': 'winking face'}, {'💚': 'green heart', '😁': 'beaming face with smiling eyes'}, {'😂': 'face with tears of joy', '👌': 'OK hand'}, {'😭': 'loudly crying face'}, {'📖': 'open book'}, {'🎭': 'performing arts'}, {'😂': 'face with tears of joy', '😳': 'flushed face', '👌': 'OK hand'}, {'😔': 'pensive face'}, {'😄': 'grinning face with smiling eyes'}, {'😎': 'smiling face with sunglasses'}, {'👍': 'thumbs up', '😍': 'smiling face with heart-eyes'}, {'❤': 'red heart', '😉': 'winking face'}, {'💁': 'person tipping hand'}, {'😓': 'downcast face with sweat'}, {'🌞': 'sun with face', '💕': 'two hearts'}, {'😡': 'pouting face'}, {'😂': 'face with tears of joy'}, {'😒': 'unamused face'}, {'🙆': 'person gesturing OK'}, {'😂': 'face with tears of joy', '🙈': 'see-no-evil monkey'}, {'😔': 'pensive face'}, {'♥': 'heart suit'}, {'😁': 'beaming face with smiling eyes'}, {'👬': 'men holding hands', '😂': 'face with tears of joy', '🔫': 'water pistol', '🙆': 'person gesturing OK', '👩': 'woman'}, {'☃': 'snowman', '❄': 'snowflake'}, {'🌙': 'crescent moon', '✨': 'sparkles'}, {'❤': 'red heart', '😉': 'winking face'}, {'👊': 'oncoming fist', '😡': 'pouting face'}, {'❤': 'red heart', '😉': 'winking face'}, {'❤️': 'red heart'}, {'💔': 'broken heart'}, {'💪': 'flexed biceps'}, {'❤': 'red heart'}, {'😂': 'face with tears of joy'}, {'😚': 'kissing face with closed eyes'}, {'❤️': 'red heart'}, {'🎅': 'Santa Claus', '💜': 'purple heart', '❄️': 'snowflake', '❤️': 'red heart', '🎄': 'Christmas tree'}, {'🐼': 'panda', '🍵': 'teacup without handle', '📖': 'open book', '👣': 'footprints', '😊': 'smiling face with smiling eyes'}, {'♥': 'heart suit'}, {'😭': 'loudly crying face'}, {'😭': 'loudly crying face'}, {'😭': 'loudly crying face', '☺': 'smiling face'}, {'🎅': 'Santa Claus', '🎊': 'confetti ball', '🎉': 'party popper', '🎆': 'fireworks', '🎁': 'wrapped gift', '🎄': 'Christmas tree', '😊': 'smiling face with smiling eyes'}, {'😒': 'unamused face'}, {'😭': 'loudly crying face'}, {'☹': 'frowning face'}, {'😍': 'smiling face with heart-eyes'}, {'😐': 'neutral face'}, {'❤': 'red heart', '😉': 'winking face'}, {'🎁': 'wrapped gift', '🎄': 'Christmas tree'}, {'😆': 'grinning squinting face'}, {'😂': 'face with tears of joy'}, {'😂': 'face with tears of joy'}, {'✋': 'raised hand'}, {'❤': 'red heart'}, {'♥': 'heart suit'}, {'😃': 'grinning face with big eyes', '🎈': 'balloon'}, {'♥': 'heart suit'}, {'😢': 'crying face', '😭': 'loudly crying face', '✋': 'raised hand', '🙈': 'see-no-evil monkey'}, {'✊': 'raised fist', '😍': 'smiling face with heart-eyes', '❤️': 'red heart', '💯': 'hundred points'}, {'😫': 'tired face'}, {'♥': 'heart suit'}, {'♥': 'heart suit'}, {'😏': 'smirking face', '😂': 'face with tears of joy'}, {'©': 'copyright'}, {'😛': 'face with tongue'}, {'♥': 'heart suit'}, {'♥': 'heart suit'}, {'🎶': 'musical notes'}, {'🎈': 'balloon', '🎉': 'party popper', '😊': 'smiling face with smiling eyes'}, {'🎧': 'headphone'}, {'🎧': 'headphone'}, {'😊': 'smiling face with smiling eyes'}, {'😍': 'smiling face with heart-eyes'}, {'❄️': 'snowflake'}, {'😒': 'unamused face', '💯': 'hundred points', '👌': 'OK hand'}, {'😳': 'flushed face'}, {'❤': 'red heart', '😉': 'winking face'}, {'👼': 'baby angel', '👙': 'bikini'}, {'♥': 'heart suit'}, {'👍': 'thumbs up'}, {'♥': 'heart suit'}, {'😔': 'pensive face'}, {'♥': 'heart suit'}, {'➡️': 'right arrow', '⬅️': 'left arrow'}, {'☀': 'sun', '😊': 'smiling face with smiling eyes'}, {'😂': 'face with tears of joy'}, {'😔': 'pensive face'}, {'🍭': 'lollipop', '🇫🇷': 'flag: France', '😍': 'smiling face with heart-eyes', '🌆': 'cityscape at dusk'}, {'♦': 'diamond suit'}, {'😏': 'smirking face', '🌽': 'ear of corn', '💕': 'two hearts'}, {'🙊': 'speak-no-evil monkey', '💃': 'woman dancing', '🙈': 'see-no-evil monkey'}, {'😂': 'face with tears of joy'}, {'😌': 'relieved face'}, {'👉': 'backhand index pointing right', '😃': 'grinning face with big eyes', '❤': 'red heart', '😘': 'face blowing a kiss'}, {'☹': 'frowning face'}, {'🌞': 'sun with face', '☕': 'hot beverage'}, {'♥': 'heart suit'}, {'🌙': 'crescent moon'}, {'🙆': 'person gesturing OK', '😏': 'smirking face', '😒': 'unamused face'}, {'😏': 'smirking face'}, {'👊': 'oncoming fist'}, {'🙌': 'raising hands'}, {'✋': 'raised hand'}, {'♥': 'heart suit'}, {'🙌': 'raising hands'}, {'😍': 'smiling face with heart-eyes'}, {'❤': 'red heart', '😉': 'winking face'}, {'❤': 'red heart', '😉': 'winking face'}, {'😩': 'weary face', '😔': 'pensive face', '😳': 'flushed face'}, {'♥': 'heart suit'}, {'❤️': 'red heart'}, {'😩': 'weary face'}, {'🙈': 'see-no-evil monkey'}, {'😂': 'face with tears of joy'}, {'👍': 'thumbs up', '😄': 'grinning face with smiling eyes'}, {'👏': 'clapping hands', '😄': 'grinning face with smiling eyes'}, {'☹': 'frowning face'}, {'😂': 'face with tears of joy'}, {'😂': 'face with tears of joy'}, {'♥': 'heart suit'}, {'🙌': 'raising hands'}, {'🎅': 'Santa Claus', '🎶': 'musical notes', '❤️': 'red heart', '🎄': 'Christmas tree'}, {'☹': 'frowning face'}, {'😟': 'worried face', '🔫': 'water pistol'}, {'😂': 'face with tears of joy'}, {'♥': 'heart suit'}, {'☺': 'smiling face'}, {'💰': 'money bag', '💸': 'money with wings'}, {'🎧': 'headphone'}, {'♥': 'heart suit'}, {'😘': 'face blowing a kiss'}, {'😤': 'face with steam from nose', '😡': 'pouting face'}, {'👏': 'clapping hands', '😮': 'face with open mouth'}, {'😍': 'smiling face with heart-eyes'}, {'♥': 'heart suit'}, {'🎅': 'Santa Claus'}, {'✌': 'victory hand'}, {'💋': 'kiss mark'}, {'♥': 'heart suit'}, {'🙌': 'raising hands', '👌': 'OK hand'}, {'👍': 'thumbs up', '😄': 'grinning face with smiling eyes'}, {'❤': 'red heart'}, {'😌': 'relieved face', '🚶': 'person walking', '😂': 'face with tears of joy', '🙌': 'raising hands', '🎉': 'party popper', '👌': 'OK hand'}, {'❤': 'red heart', '😉': 'winking face'}, {'❤️': 'red heart'}, {'👐': 'open hands'}, {'♥': 'heart suit'}, {'❤': 'red heart', '😉': 'winking face'}, {'😘': 'face blowing a kiss'}, {'❤️': 'red heart'}, {'👌': 'OK hand'}, {'♥': 'heart suit'}, {'🎄': 'Christmas tree', '💝': 'heart with ribbon'}, {'💚': 'green heart', '🙊': 'speak-no-evil monkey', '🐰': 'rabbit face'}, {'😌': 'relieved face', '😂': 'face with tears of joy', '😒': 'unamused face'}, {'🙌': 'raising hands', '😏': 'smirking face'}, {'❤': 'red heart'}, {'🎉': 'party popper', '🎾': 'tennis'}, {'☹': 'frowning face', '♥': 'heart suit'}, {'🙅': 'person gesturing NO'}, {'🙌': 'raising hands'}, {'😊': 'smiling face with smiling eyes'}, {'🙊': 'speak-no-evil monkey', '😂': 'face with tears of joy', '👌': 'OK hand'}, {'😘': 'face blowing a kiss'}, {'😔': 'pensive face'}, {'♥': 'heart suit'}, {'♥': 'heart suit'}, {'❤': 'red heart', '😉': 'winking face'}, {'™': 'trade mark'}, {'😎': 'smiling face with sunglasses', '❤️': 'red heart'}, {'💌': 'love letter', '💕': 'two hearts', '💖': 'sparkling heart'}, {'❤️': 'red heart'}, {'❤': 'red heart'}, {'❤️': 'red heart', '😍': 'smiling face with heart-eyes', '😘': 'face blowing a kiss'}, {'❤': 'red heart'}, {'©': 'copyright'}, {'🎀': 'ribbon', '💁': 'person tipping hand', '👑': 'crown', '😍': 'smiling face with heart-eyes', '😋': 'face savoring food'}, {'❤️': 'red heart', '😭': 'loudly crying face'}, {'❤': 'red heart', '😉': 'winking face'}, {'❤': 'red heart', '😊': 'smiling face with smiling eyes'}, {'♥': 'heart suit'}, {'♥': 'heart suit'}, {'🚴': 'person biking'}, {'😍': 'smiling face with heart-eyes'}, {'♥': 'heart suit'}, {'😁': 'beaming face with smiling eyes'}, {'💛': 'yellow heart', '⏰': 'alarm clock', '💞': 'revolving hearts', '🙈': 'see-no-evil monkey'}, {'😡': 'pouting face', '😂': 'face with tears of joy'}, {'☺': 'smiling face'}, {'👍': 'thumbs up', '👌': 'OK hand', '😜': 'winking face with tongue', '💏': 'kiss'}, {'😭': 'loudly crying face', '😒': 'unamused face'}, {'♥': 'heart suit'}, {'🎧': 'headphone'}, {'👩': 'woman', '🌊': 'water wave', '🏊': 'person swimming', '😊': 'smiling face with smiling eyes'}, {'▶': 'play button'}, {'❤️': 'red heart', '👪': 'family'}, {'😊': 'smiling face with smiling eyes'}, {'🙈': 'see-no-evil monkey'}, {'♥': 'heart suit'}, {'😒': 'unamused face'}, {'🎧': 'headphone'}, {'😂': 'face with tears of joy'}, {'👍': 'thumbs up', '♥': 'heart suit'}, {'♥': 'heart suit'}, {'♥': 'heart suit'}, {'♥': 'heart suit'}, {'😋': 'face savoring food'}, {'😃': 'grinning face with big eyes'}, {'♥': 'heart suit'}, {'♥': 'heart suit'}, {'😌': 'relieved face'}, {'😬': 'grimacing face'}, {'😣': 'persevering face'}, {'❤️': 'red heart'}, {'💕': 'two hearts'}, {'♥': 'heart suit', '💅': 'nail polish'}, {'⚡': 'high voltage'}, {'❤️': 'red heart', '😍': 'smiling face with heart-eyes', '😘': 'face blowing a kiss'}, {'♥': 'heart suit'}, {'♥': 'heart suit'}, {'👍': 'thumbs up'}, {'❤️': 'red heart', '💋': 'kiss mark'}, {'♥': 'heart suit'}, {'😥': 'sad but relieved face'}, {'💖': 'sparkling heart'}, {'❤': 'red heart', '😉': 'winking face'}, {'❤': 'red heart', '😉': 'winking face'}, {'🏰': 'castle'}, {'👍': 'thumbs up', '➡️': 'right arrow', '💕': 'two hearts'}, {'💕': 'two hearts'}, {'🍩': 'doughnut', '☕': 'hot beverage'}, {'😥': 'sad but relieved face'}, {'❤': 'red heart', '😉': 'winking face'}, {'😭': 'loudly crying face'}, {'♥': 'heart suit'}, {'♥': 'heart suit'}, {'😂': 'face with tears of joy'}, {'🙆': 'person gesturing OK', '😂': 'face with tears of joy', '😳': 'flushed face'}, {'😝': 'squinting face with tongue', '😂': 'face with tears of joy', '😳': 'flushed face'}, {'🎼': 'musical score', '🎧': 'headphone'}, {'😋': 'face savoring food', '😴': 'sleeping face'}, {'👌': 'OK hand'}, {'😭': 'loudly crying face'}, {'💆': 'person getting massage', '💂': 'guard', '🍆': 'eggplant', '💅': 'nail polish', '✨': 'sparkles', '💵': 'dollar banknote', '👜': 'handbag'}, {'😔': 'pensive face'}, {'♥': 'heart suit'}, {'😏': 'smirking face', '💁': 'person tipping hand'}, {'😂': 'face with tears of joy'}, {'😊': 'smiling face with smiling eyes'}, {'♥': 'heart suit'}, {'😒': 'unamused face'}, {'😉': 'winking face'}, {'😂': 'face with tears of joy'}, {'💚': 'green heart', '❤': 'red heart', '😊': 'smiling face with smiling eyes'}, {'👍': 'thumbs up', '👌': 'OK hand', '😘': 'face blowing a kiss', '❤️': 'red heart', '😍': 'smiling face with heart-eyes', '☺️': 'smiling face'}, {'❤': 'red heart', '😉': 'winking face'}, {'®': 'registered'}, {'😒': 'unamused face', '😳': 'flushed face'}, {'😂': 'face with tears of joy', '👌': 'OK hand'}, {'❤': 'red heart', '😉': 'winking face'}, {'😀': 'grinning face'}, {'❤️': 'red heart'}, {'🎶': 'musical notes', '🎼': 'musical score', '🎵': 'musical note', '🎧': 'headphone', '🎤': 'microphone'}, {'♥': 'heart suit'}, {'💕': 'two hearts', '🙈': 'see-no-evil monkey'}, {'💋': 'kiss mark'}, {'💜': 'purple heart', '✨': 'sparkles', '😊': 'smiling face with smiling eyes'}, {'😱': 'face screaming in fear', '❄️': 'snowflake'}, {'😃': 'grinning face with big eyes', '😍': 'smiling face with heart-eyes'}, {'♥': 'heart suit'}, {'🎉': 'party popper'}, {'✴': 'eight-pointed star'}, {'♥': 'heart suit'}, {'❤': 'red heart', '🇩🇪': 'flag: Germany', '💕': 'two hearts', '😘': 'face blowing a kiss'}, {'♥': 'heart suit'}, {'💅': 'nail polish', '☀️': 'sun', '😨': 'fearful face', '⛅': 'sun behind cloud'}, {'😂': 'face with tears of joy'}, {'♥': 'heart suit'}, {'🎶': 'musical notes'}, {'👍': 'thumbs up', '😁': 'beaming face with smiling eyes', '👌': 'OK hand'}, {'✴': 'eight-pointed star'}, {'❤': 'red heart'}, {'🙈': 'see-no-evil monkey'}, {'▶': 'play button'}, {'♥': 'heart suit'}, {'♥': 'heart suit'}, {'😂': 'face with tears of joy'}, {'♥': 'heart suit'}, {'🙏': 'folded hands'}, {'🙆': 'person gesturing OK'}, {'🙋': 'person raising hand'}, {'💗': 'growing heart'}, {'😍': 'smiling face with heart-eyes'}, {'®': 'registered'}, {'😂': 'face with tears of joy', '🙈': 'see-no-evil monkey'}, {'♥': 'heart suit'}, {'❤️': 'red heart', '😄': 'grinning face with smiling eyes'}, {'❤️': 'red heart'}, {'😂': 'face with tears of joy'}, {'💨': 'dashing away', '😂': 'face with tears of joy', '🚴': 'person biking'}, {'💖': 'sparkling heart', '🙌': 'raising hands', '😘': 'face blowing a kiss'}, {'👍': 'thumbs up', '😈': 'smiling face with horns'}, {'☺': 'smiling face'}, {'♥': 'heart suit'}, {'❤️': 'red heart'}, {'😩': 'weary face', '☺️': 'smiling face'}, {'♥': 'heart suit'}, {'♥': 'heart suit'}, {'😔': 'pensive face'}, {'❤': 'red heart'}, {'😘': 'face blowing a kiss'}, {'😔': 'pensive face'}, {'😳': 'flushed face', '😠': 'angry face'}, {'♥': 'heart suit'}, {'🌸': 'cherry blossom'}, {'😎': 'smiling face with sunglasses'}, {'♥': 'heart suit'}, {'😎': 'smiling face with sunglasses', '🙊': 'speak-no-evil monkey', '🙈': 'see-no-evil monkey'}, {'✨': 'sparkles'}, {'💁': 'person tipping hand'}, {'😄': 'grinning face with smiling eyes'}, {'🎶': 'musical notes'}, {'😍': 'smiling face with heart-eyes'}, {'😂': 'face with tears of joy', '😒': 'unamused face'}, {'♥': 'heart suit'}, {'😍': 'smiling face with heart-eyes', '🙏': 'folded hands'}, {'🎧': 'headphone'}, {'❤': 'red heart', '😭': 'loudly crying face', '🙏': 'folded hands'}, {'😩': 'weary face', '😋': 'face savoring food'}, {'😔': 'pensive face'}, {'♥': 'heart suit'}, {'♥': 'heart suit', '❤': 'red heart'}, {'🙆': 'person gesturing OK', '😂': 'face with tears of joy', '😳': 'flushed face'}, {'♥': 'heart suit'}, {'♥': 'heart suit'}, {'👸': 'princess', '😂': 'face with tears of joy', '🙈': 'see-no-evil monkey', '💁': 'person tipping hand', '😜': 'winking face with tongue', '👩': 'woman'}, {'❤️': 'red heart', '💜': 'purple heart', '😄': 'grinning face with smiling eyes'}, {'🌱': 'seedling', '🐟': 'fish'}, {'👭': 'women holding hands', '✈️': 'airplane', '😭': 'loudly crying face', '💖': 'sparkling heart'}, {'🎶': 'musical notes'}, {'♥': 'heart suit'}, {'👣': 'footprints'}, {'😭': 'loudly crying face'}, {'😂': 'face with tears of joy'}, {'😁': 'beaming face with smiling eyes'}, {'😏': 'smirking face', '😂': 'face with tears of joy', '😘': 'face blowing a kiss'}, {'🎅': 'Santa Claus', '🎀': 'ribbon', '😃': 'grinning face with big eyes', '🎁': 'wrapped gift', '❄': 'snowflake', '🎄': 'Christmas tree'}, {'😬': 'grimacing face', '❤': 'red heart'}, {'😖': 'confounded face'}, {'😄': 'grinning face with smiling eyes'}, {'😃': 'grinning face with big eyes'}, {'®': 'registered'}, {'😂': 'face with tears of joy', '👌': 'OK hand'}, {'🎶': 'musical notes'}, {'®': 'registered'}, {'😳': 'flushed face'}, {'😳': 'flushed face'}, {'♥': 'heart suit'}, {'☺': 'smiling face'}, {'😏': 'smirking face', '😩': 'weary face'}, {'✋': 'raised hand', '😭': 'loudly crying face', '😳': 'flushed face'}, {'💖': 'sparkling heart'}, {'😉': 'winking face'}, {'😃': 'grinning face with big eyes'}, {'☹': 'frowning face'}, {'😩': 'weary face', '😭': 'loudly crying face'}, {'😍': 'smiling face with heart-eyes', '😩': 'weary face', '😭': 'loudly crying face'}, {'💤': 'zzz', '😴': 'sleeping face'}, {'♥': 'heart suit'}, {'🎅': 'Santa Claus', '🎁': 'wrapped gift', '🎄': 'Christmas tree'}, {'🚬': 'cigarette', '🔥': 'fire', '💯': 'hundred points', '👌': 'OK hand'}, {'▶': 'play button'}, {'😒': 'unamused face'}, {'😏': 'smirking face'}, {'♥': 'heart suit'}, {'😦': 'frowning face with open mouth', '😧': 'anguished face'}, {'😁': 'beaming face with smiling eyes', '😂': 'face with tears of joy', '😳': 'flushed face'}, {'😍': 'smiling face with heart-eyes', '🚼': 'baby symbol', '☺': 'smiling face'}, {'👀': 'eyes', '🕑': 'two o’clock', '🕐': 'one o’clock', '🎧': 'headphone'}, {'😊': 'smiling face with smiling eyes'}, {'👏': 'clapping hands'}, {'♏': 'Scorpio'}, {'❤️': 'red heart'}, {'✋': 'raised hand'}, {'▪': 'black small square'}, {'❤️': 'red heart'}, {'👋': 'waving hand'}, {'❤': 'red heart', '😉': 'winking face'}, {'💖': 'sparkling heart'}, {'🙏': 'folded hands'}, {'😂': 'face with tears of joy'}, {'♥': 'heart suit'}, {'❤': 'red heart', '😉': 'winking face'}, {'🏰': 'castle'}, {'😳': 'flushed face', '🙈': 'see-no-evil monkey'}, {'®': 'registered'}, {'♥': 'heart suit'}, {'👯': 'people with bunny ears'}, {'🎄': 'Christmas tree'}, {'♥': 'heart suit'}, {'🇩🇪': 'flag: Germany'}, {'😩': 'weary face'}, {'😒': 'unamused face'}, {'❤': 'red heart'}, {'❤': 'red heart', '😉': 'winking face'}, {'🎅': 'Santa Claus', '🎄': 'Christmas tree', '😘': 'face blowing a kiss'}, {'😎': 'smiling face with sunglasses'}, {'😂': 'face with tears of joy'}, {'💖': 'sparkling heart'}, {'❄️': 'snowflake', '😍': 'smiling face with heart-eyes', '☺️': 'smiling face'}, {'😍': 'smiling face with heart-eyes', '😊': 'smiling face with smiling eyes', '😝': 'squinting face with tongue'}, {'❤': 'red heart', '😉': 'winking face'}, {'♥': 'heart suit'}, {'😭': 'loudly crying face', '😂': 'face with tears of joy'}, {'♥': 'heart suit'}, {'♥': 'heart suit'}, {'😏': 'smirking face'}, {'✊': 'raised fist', '✌': 'victory hand', '☺': 'smiling face'}, {'❤️': 'red heart', '✨': 'sparkles'}, {'❤️': 'red heart'}, {'♥': 'heart suit'}, {'❤': 'red heart', '😉': 'winking face'}, {'😩': 'weary face'}, {'♥': 'heart suit'}, {'♥': 'heart suit'}, {'😂': 'face with tears of joy', '😳': 'flushed face'}, {'😤': 'face with steam from nose', '😡': 'pouting face'}, {'😔': 'pensive face'}, {'✊': 'raised fist', '❤️': 'red heart', '💋': 'kiss mark'}, {'👎': 'thumbs down'}, {'♥': 'heart suit'}, {'❤': 'red heart', '😉': 'winking face'}, {'😊': 'smiling face with smiling eyes'}, {'♥': 'heart suit'}, {'♥': 'heart suit'}, {'💪': 'flexed biceps'}, {'♥': 'heart suit'}, {'♥': 'heart suit'}, {'✈️': 'airplane', '🌍': 'globe showing Europe-Africa', '🌎': 'globe showing Americas', '🌏': 'globe showing Asia-Australia'}, {'😭': 'loudly crying face'}, {'😂': 'face with tears of joy'}, {'😜': 'winking face with tongue'}, {'😍': 'smiling face with heart-eyes'}, {'😄': 'grinning face with smiling eyes'}, {'😄': 'grinning face with smiling eyes'}, {'😁': 'beaming face with smiling eyes'}, {'🍩': 'doughnut', '☕': 'hot beverage'}, {'😂': 'face with tears of joy'}, {'😭': 'loudly crying face', '🙈': 'see-no-evil monkey'}, {'😭': 'loudly crying face'}, {'❤': 'red heart', '😉': 'winking face'}, {'❤': 'red heart', '😉': 'winking face'}, {'🍻': 'clinking beer mugs', '🍸': 'cocktail glass', '🍷': 'wine glass'}, {'😘': 'face blowing a kiss'}, {'♥': 'heart suit'}, {'🍺': 'beer mug', '😁': 'beaming face with smiling eyes'}, {'❤': 'red heart'}, {'💖': 'sparkling heart'}, {'♥': 'heart suit'}, {'☂': 'umbrella', '☀': 'sun'}, {'😮': 'face with open mouth'}, {'💝': 'heart with ribbon'}, {'😉': 'winking face'}, {'😳': 'flushed face'}, {'❤️': 'red heart', '😚': 'kissing face with closed eyes'}, {'👫': 'woman and man holding hands', '😒': 'unamused face'}, {'😝': 'squinting face with tongue'}, {'😕': 'confused face'}, {'💕': 'two hearts'}, {'💕': 'two hearts'}, {'🌙': 'crescent moon'}, {'😭': 'loudly crying face'}, {'😏': 'smirking face', '💩': 'pile of poo'}, {'😂': 'face with tears of joy'}, {'😘': 'face blowing a kiss', '😂': 'face with tears of joy', '💁': 'person tipping hand'}, {'☺️': 'smiling face'}, {'😒': 'unamused face'}, {'❤': 'red heart', '😉': 'winking face'}, {'♥': 'heart suit'}, {'💙': 'blue heart'}, {'👌': 'OK hand', '👋': 'waving hand'}, {'👌': 'OK hand'}, {'🎅': 'Santa Claus', '⛄': 'snowman without snow', '❤': 'red heart', '🍻': 'clinking beer mugs', '🍷': 'wine glass', '✈': 'airplane', '❄': 'snowflake', '🎄': 'Christmas tree', '😊': 'smiling face with smiling eyes'}, {'😎': 'smiling face with sunglasses'}, {'💜': 'purple heart'}, {'🐉': 'dragon', '😳': 'flushed face', '😛': 'face with tongue'}, {'♥': 'heart suit'}, {'✋': 'raised hand'}, {'👏': 'clapping hands', '🙌': 'raising hands'}, {'♥': 'heart suit'}, {'👌': 'OK hand'}, {'📣': 'megaphone', '🎂': 'birthday cake', '💘': 'heart with arrow'}, {'♥': 'heart suit'}, {'😒': 'unamused face'}, {'😂': 'face with tears of joy'}, {'😯': 'hushed face'}, {'♥': 'heart suit'}, {'♥': 'heart suit'}, {'😀': 'grinning face'}, {'🐽': 'pig nose'}, {'😡': 'pouting face'}, {'😘': 'face blowing a kiss', '😊': 'smiling face with smiling eyes'}, {'🚢': 'ship'}, {'😀': 'grinning face'}, {'♥': 'heart suit'}, {'💖': 'sparkling heart'}, {'🎶': 'musical notes'}, {'😛': 'face with tongue'}, {'♥': 'heart suit'}, {'😬': 'grimacing face'}, {'♥': 'heart suit'}, {'😍': 'smiling face with heart-eyes'}, {'🐶': 'dog face'}, {'👏': 'clapping hands'}, {'❤': 'red heart', '😉': 'winking face'}, {'🐶': 'dog face', '💗': 'growing heart'}, {'😭': 'loudly crying face'}, {'♥': 'heart suit'}, {'🍻': 'clinking beer mugs', '✌️': 'victory hand', '😊': 'smiling face with smiling eyes'}, {'❤️': 'red heart'}, {'😍': 'smiling face with heart-eyes'}, {'😒': 'unamused face'}, {'😊': 'smiling face with smiling eyes'}, {'™': 'trade mark'}, {'😊': 'smiling face with smiling eyes'}, {'▶': 'play button'}, {'❤️': 'red heart'}, {'😂': 'face with tears of joy'}, {'🎄': 'Christmas tree'}, {'🎉': 'party popper', '🎂': 'birthday cake'}, {'♥': 'heart suit'}, {'😁': 'beaming face with smiling eyes', '🎉': 'party popper', '✌️': 'victory hand', '👌': 'OK hand'}, {'😙': 'kissing face with smiling eyes', '💋': 'kiss mark'}, {'😁': 'beaming face with smiling eyes'}, {'♥': 'heart suit'}, {'♥': 'heart suit'}, {'😂': 'face with tears of joy', '👌': 'OK hand'}, {'🎧': 'headphone'}, {'😏': 'smirking face', '😂': 'face with tears of joy'}, {'❤️': 'red heart'}, {'🎎': 'Japanese dolls', '🎌': 'crossed flags'}, {'😉': 'winking face'}, {'👍': 'thumbs up'}, {'🎶': 'musical notes'}, {'♥': 'heart suit'}, {'🍻': 'clinking beer mugs', '👍': 'thumbs up', '🍺': 'beer mug', '😊': 'smiling face with smiling eyes'}, {'🎶': 'musical notes'}, {'📖': 'open book', '🎧': 'headphone', '👻': 'ghost'}, {'🚙': 'sport utility vehicle', '✏': 'pencil', '📓': 'notebook'}, {'🐸': 'frog'}, {'♥': 'heart suit'}, {'☺️': 'smiling face'}, {'♥': 'heart suit'}, {'😏': 'smirking face', '😳': 'flushed face'}, {'▶': 'play button'}, {'♥': 'heart suit'}, {'😝': 'squinting face with tongue', '😂': 'face with tears of joy'}, {'❤': 'red heart', '😉': 'winking face'}, {'😉': 'winking face'}, {'😎': 'smiling face with sunglasses', '😁': 'beaming face with smiling eyes'}, {'😊': 'smiling face with smiling eyes', '💁': 'person tipping hand'}, {'😂': 'face with tears of joy', '💯': 'hundred points'}, {'🎶': 'musical notes', '✈️': 'airplane', '🌆': 'cityscape at dusk', '💰': 'money bag', '🎤': 'microphone', '🌃': 'night with stars'}, {'☮': 'peace symbol'}, {'😂': 'face with tears of joy', '😳': 'flushed face', '🙈': 'see-no-evil monkey'}, {'💚': 'green heart', '❤️': 'red heart'}, {'☺️': 'smiling face', '😘': 'face blowing a kiss'}, {'😳': 'flushed face', '🙈': 'see-no-evil monkey'}, {'🎋': 'tanabata tree', '🎊': 'confetti ball', '👻': 'ghost'}, {'👏': 'clapping hands', '🎓': 'graduation cap', '😘': 'face blowing a kiss', '💰': 'money bag', '💪': 'flexed biceps', '😉': 'winking face'}, {'💽': 'computer disk'}, {'🙌': 'raising hands'}, {'💥': 'collision', '⛄': 'snowman without snow', '🚀': 'rocket', '🎉': 'party popper', '💣': 'bomb', '🎈': 'balloon'}, {'♥': 'heart suit'}, {'😉': 'winking face'}, {'®': 'registered'}, {'😊': 'smiling face with smiling eyes'}, {'❤': 'red heart', '😉': 'winking face'}, {'😂': 'face with tears of joy'}, {'❤️': 'red heart'}, {'🌞': 'sun with face', '☕': 'hot beverage'}, {'😏': 'smirking face', '🙈': 'see-no-evil monkey', '😈': 'smiling face with horns', '🙏': 'folded hands', '😇': 'smiling face with halo'}, {'♥': 'heart suit'}, {'⭐': 'star'}, {'♥': 'heart suit'}, {'😍': 'smiling face with heart-eyes'}, {'😂': 'face with tears of joy', '💁': 'person tipping hand'}, {'😎': 'smiling face with sunglasses', '🍩': 'doughnut', '🍫': 'chocolate bar'}, {'♥': 'heart suit'}, {'😤': 'face with steam from nose'}, {'😂': 'face with tears of joy', '👌': 'OK hand'}, {'♥': 'heart suit'}, {'❤️': 'red heart'}, {'😍': 'smiling face with heart-eyes'}, {'😂': 'face with tears of joy', '👌': 'OK hand'}, {'💜': 'purple heart', '😊': 'smiling face with smiling eyes'}, {'😂': 'face with tears of joy'}, {'♥': 'heart suit'}, {'🙈': 'see-no-evil monkey'}, {'❄️': 'snowflake', '❄': 'snowflake'}, {'♥': 'heart suit'}, {'💖': 'sparkling heart'}, {'😔': 'pensive face'}, {'✊': 'raised fist', '❤️': 'red heart', '💯': 'hundred points', '😘': 'face blowing a kiss'}, {'💦': 'sweat droplets', '🏊': 'person swimming', '🏄': 'person surfing', '💧': 'droplet', '😎': 'smiling face with sunglasses'}, {'🎄': 'Christmas tree'}, {'✌️': 'victory hand', '👍': 'thumbs up', '😈': 'smiling face with horns', '👌': 'OK hand', '😘': 'face blowing a kiss', '😱': 'face screaming in fear', '😃': 'grinning face with big eyes', '❤️': 'red heart', '😍': 'smiling face with heart-eyes', '😳': 'flushed face', '☺️': 'smiling face', '😊': 'smiling face with smiling eyes'}, {'👍': 'thumbs up', '😏': 'smirking face', '😍': 'smiling face with heart-eyes'}, {'😉': 'winking face'}, {'😭': 'loudly crying face', '☺': 'smiling face'}, {'❤️': 'red heart'}, {'❤️': 'red heart'}, {'🇬🇧': 'flag: United Kingdom', '👌': 'OK hand'}, {'❤️': 'red heart', '😘': 'face blowing a kiss'}, {'😘': 'face blowing a kiss', '💁': 'person tipping hand'}, {'😐': 'neutral face'}, {'😰': 'anxious face with sweat'}, {'😰': 'anxious face with sweat', '➡️': 'right arrow', '🇩🇪': 'flag: Germany', '🎓': 'graduation cap'}, {'♥': 'heart suit'}, {'😃': 'grinning face with big eyes'}, {'😂': 'face with tears of joy'}, {'😢': 'crying face'}, {'👌': 'OK hand'}, {'♥': 'heart suit'}, {'😶': 'face without mouth', '❤️': 'red heart'}, {'♥': 'heart suit'}, {'♥': 'heart suit'}, {'🐒': 'monkey'}, {'❤': 'red heart', '😉': 'winking face'}, {'♥': 'heart suit'}, {'™': 'trade mark'}, {'🆒': 'COOL button'}, {'™': 'trade mark'}, {'♥': 'heart suit'}, {'😊': 'smiling face with smiling eyes'}, {'🍸': 'cocktail glass', '🎄': 'Christmas tree'}, {'💙': 'blue heart', '💗': 'growing heart', '💖': 'sparkling heart'}, {'♥': 'heart suit'}, {'😁': 'beaming face with smiling eyes'}, {'😂': 'face with tears of joy', '🙈': 'see-no-evil monkey'}, {'🙌': 'raising hands', '😍': 'smiling face with heart-eyes', '👌': 'OK hand'}, {'✨': 'sparkles'}, {'💛': 'yellow heart', '💜': 'purple heart', '💙': 'blue heart'}, {'🙌': 'raising hands'}, {'👊': 'oncoming fist', '😂': 'face with tears of joy', '💅': 'nail polish', '😭': 'loudly crying face'}, {'✌': 'victory hand'}, {'™': 'trade mark'}, {'😂': 'face with tears of joy', '😳': 'flushed face'}, {'®': 'registered'}, {'♥': 'heart suit'}, {'😉': 'winking face'}, {'♥': 'heart suit'}, {'❤️': 'red heart'}, {'♥': 'heart suit'}, {'👍': 'thumbs up', '😍': 'smiling face with heart-eyes'}, {'😉': 'winking face'}, {'😍': 'smiling face with heart-eyes', '😻': 'smiling cat with heart-eyes', '👶': 'baby', '😘': 'face blowing a kiss'}, {'🎁': 'wrapped gift', '🎄': 'Christmas tree'}, {'😔': 'pensive face'}, {'❤': 'red heart'}, {'❤': 'red heart'}, {'🎧': 'headphone'}, {'😊': 'smiling face with smiling eyes'}, {'👎': 'thumbs down', '😳': 'flushed face', '☕': 'hot beverage'}, {'👑': 'crown'}, {'👫': 'woman and man holding hands'}, {'♥': 'heart suit'}, {'😔': 'pensive face'}, {'♥': 'heart suit'}, {'❤️': 'red heart', '☀️': 'sun'}, {'✌️': 'victory hand'}, {'😱': 'face screaming in fear', '😂': 'face with tears of joy'}, {'😏': 'smirking face'}, {'👍': 'thumbs up', '🎉': 'party popper'}, {'✋': 'raised hand'}, {'☂': 'umbrella'}, {'😍': 'smiling face with heart-eyes', '😩': 'weary face'}, {'😂': 'face with tears of joy'}, {'🎅': 'Santa Claus', '⛄': 'snowman without snow', '🎉': 'party popper', '🎄': 'Christmas tree'}, {'✋': 'raised hand'}, {'😳': 'flushed face', '👌': 'OK hand'}, {'😂': 'face with tears of joy', '🙈': 'see-no-evil monkey', '💁': 'person tipping hand'}, {'🙈': 'see-no-evil monkey'}, {'⛪': 'church'}, {'💕': 'two hearts'}, {'♥': 'heart suit'}, {'♥': 'heart suit'}, {'™': 'trade mark'}, {'😑': 'expressionless face'}, {'♥': 'heart suit'}, {'👣': 'footprints'}, {'😂': 'face with tears of joy'}, {'😂': 'face with tears of joy', '💁': 'person tipping hand'}, {'♥': 'heart suit'}, {'♥': 'heart suit'}, {'😄': 'grinning face with smiling eyes'}, {'🎅': 'Santa Claus', '🙈': 'see-no-evil monkey'}, {'♥': 'heart suit'}, {'♥': 'heart suit'}, {'🙆': 'person gesturing OK', '👩': 'woman', '👸': 'princess'}, {'❤️': 'red heart'}, {'🎶': 'musical notes'}, {'❤️': 'red heart'}, {'🎧': 'headphone'}, {'🎅': 'Santa Claus', '😊': 'smiling face with smiling eyes'}, {'❤️': 'red heart', '😘': 'face blowing a kiss'}, {'😒': 'unamused face', '😐': 'neutral face'}, {'♥': 'heart suit'}, {'❤': 'red heart', '😉': 'winking face'}, {'☀️': 'sun'}, {'♥': 'heart suit'}, {'♥': 'heart suit'}, {'🎧': 'headphone'}, {'😍': 'smiling face with heart-eyes'}, {'😂': 'face with tears of joy'}, {'✌️': 'victory hand', '😉': 'winking face'}, {'💔': 'broken heart'}, {'♥': 'heart suit'}, {'😃': 'grinning face with big eyes'}, {'😫': 'tired face', '😥': 'sad but relieved face', '😡': 'pouting face', '😤': 'face with steam from nose', '😠': 'angry face', '😖': 'confounded face'}, {'😉': 'winking face'}, {'😔': 'pensive face', '👋': 'waving hand'}, {'❤': 'red heart', '😉': 'winking face'}, {'💜': 'purple heart'}, {'😭': 'loudly crying face'}, {'😒': 'unamused face'}, {'✌️': 'victory hand'}, {'😭': 'loudly crying face'}, {'💦': 'sweat droplets', '👍': 'thumbs up', '🍹': 'tropical drink', '💙': 'blue heart', '👄': 'mouth', '💋': 'kiss mark'}, {'🎄': 'Christmas tree'}, {'😑': 'expressionless face'}, {'🎶': 'musical notes'}, {'😂': 'face with tears of joy'}, {'🙈': 'see-no-evil monkey'}, {'☮': 'peace symbol'}, {'✌️': 'victory hand', '💯': 'hundred points', '👌': 'OK hand'}, {'▶': 'play button'}, {'👏': 'clapping hands', '🙌': 'raising hands'}, {'☺': 'smiling face'}, {'👏': 'clapping hands', '🙌': 'raising hands'}, {'👼': 'baby angel', '🙈': 'see-no-evil monkey', '🐣': 'hatching chick', '❤️': 'red heart', '🇩🇪': 'flag: Germany', '👣': 'footprints'}, {'❤': 'red heart', '😉': 'winking face'}, {'👀': 'eyes', '🐭': 'mouse face', '📚': 'books'}, {'♥': 'heart suit'}, {'😂': 'face with tears of joy', '👌': 'OK hand'}, {'👏': 'clapping hands', '🙌': 'raising hands', '🙏': 'folded hands'}, {'🍩': 'doughnut', '💕': 'two hearts', '☕': 'hot beverage'}, {'❤️': 'red heart'}, {'👏': 'clapping hands', '😂': 'face with tears of joy'}, {'♥': 'heart suit'}, {'❤️': 'red heart'}, {'😦': 'frowning face with open mouth', '😉': 'winking face'}, {'😒': 'unamused face', '😂': 'face with tears of joy', '😳': 'flushed face'}, {'😍': 'smiling face with heart-eyes'}, {'😂': 'face with tears of joy', '😜': 'winking face with tongue', '🙈': 'see-no-evil monkey'}, {'♥': 'heart suit'}, {'♥': 'heart suit'}, {'❤': 'red heart', '😉': 'winking face'}, {'💩': 'pile of poo'}, {'🎅': 'Santa Claus', '🍫': 'chocolate bar', '⛄': 'snowman without snow', '🍪': 'cookie', '😃': 'grinning face with big eyes', '🎁': 'wrapped gift', '❄': 'snowflake', '🎄': 'Christmas tree'}, {'😜': 'winking face with tongue'}, {'🎄': 'Christmas tree'}, {'❤️': 'red heart'}, {'❄️': 'snowflake'}, {'😷': 'face with medical mask', '😖': 'confounded face'}, {'♥': 'heart suit'}, {'👯': 'people with bunny ears'}, {'♥': 'heart suit'}, {'▶': 'play button'}, {'🍗': 'poultry leg', '🍖': 'meat on bone'}, {'😝': 'squinting face with tongue', '💁': 'person tipping hand'}, {'😒': 'unamused face'}, {'🙌': 'raising hands'}, {'☁': 'cloud', '☃': 'snowman', '☹': 'frowning face'}, {'❤️': 'red heart', '😘': 'face blowing a kiss'}, {'❤️': 'red heart', '😘': 'face blowing a kiss'}, {'👀': 'eyes'}, {'♥': 'heart suit'}, {'🎅': 'Santa Claus', '😂': 'face with tears of joy', '👌': 'OK hand'}, {'🙆': 'person gesturing OK', '😭': 'loudly crying face', '🙏': 'folded hands'}, {'💕': 'two hearts'}, {'❤': 'red heart', '😉': 'winking face'}, {'♥': 'heart suit', '❤️': 'red heart'}, {'♥': 'heart suit'}, {'☺️': 'smiling face'}, {'❤️': 'red heart'}, {'🙊': 'speak-no-evil monkey', '🙉': 'hear-no-evil monkey', '🙈': 'see-no-evil monkey'}, {'™': 'trade mark'}, {'🌚': 'new moon face'}, {'💅': 'nail polish'}, {'😝': 'squinting face with tongue', '😜': 'winking face with tongue', '😛': 'face with tongue'}, {'♥': 'heart suit'}, {'♥': 'heart suit'}, {'💖': 'sparkling heart'}, {'✨': 'sparkles'}, {'✋': 'raised hand'}, {'🙊': 'speak-no-evil monkey', '🙉': 'hear-no-evil monkey', '🙈': 'see-no-evil monkey'}, {'😺': 'grinning cat', '😁': 'beaming face with smiling eyes'}, {'♥️': 'heart suit'}, {'❤': 'red heart', '😉': 'winking face'}, {'😔': 'pensive face', '🔫': 'water pistol'}, {'😂': 'face with tears of joy'}, {'😆': 'grinning squinting face', '🙊': 'speak-no-evil monkey', '🙈': 'see-no-evil monkey'}, {'™': 'trade mark'}, {'😘': 'face blowing a kiss'}, {'😂': 'face with tears of joy', '👌': 'OK hand'}, {'😒': 'unamused face'}, {'©': 'copyright'}, {'🙊': 'speak-no-evil monkey', '☺': 'smiling face'}, {'😊': 'smiling face with smiling eyes'}, {'™': 'trade mark'}, {'😘': 'face blowing a kiss'}, {'❤': 'red heart', '😉': 'winking face'}, {'♥': 'heart suit'}, {'❤️': 'red heart'}, {'🙌': 'raising hands', '👌': 'OK hand', '😊': 'smiling face with smiling eyes'}, {'♥': 'heart suit'}, {'😂': 'face with tears of joy', '😳': 'flushed face'}, {'😑': 'expressionless face'}, {'♥': 'heart suit'}, {'♥': 'heart suit'}, {'💜': 'purple heart', '🎉': 'party popper'}, {'😭': 'loudly crying face'}, {'🎶': 'musical notes'}, {'😢': 'crying face'}, {'💟': 'heart decoration'}, {'®': 'registered'}, {'❤': 'red heart', '😉': 'winking face'}, {'😂': 'face with tears of joy'}, {'😎': 'smiling face with sunglasses'}, {'😳': 'flushed face'}, {'👏': 'clapping hands'}, {'💚': 'green heart'}, {'😃': 'grinning face with big eyes'}, {'❤': 'red heart', '😉': 'winking face'}, {'❤': 'red heart'}, {'🌞': 'sun with face', '☕': 'hot beverage'}, {'❤️': 'red heart', '🎄': 'Christmas tree', '😄': 'grinning face with smiling eyes', '⭐': 'star'}, {'💋': 'kiss mark'}, {'❤': 'red heart', '😉': 'winking face'}, {'♥': 'heart suit'}, {'😂': 'face with tears of joy', '👌': 'OK hand', '🙈': 'see-no-evil monkey'}, {'😒': 'unamused face'}, {'🙆': 'person gesturing OK', '😏': 'smirking face'}, {'💖': 'sparkling heart'}, {'♥': 'heart suit'}, {'♥': 'heart suit'}, {'😤': 'face with steam from nose', '❄️': 'snowflake', '🌾': 'sheaf of rice', '🙅': 'person gesturing NO'}, {'❤️': 'red heart', '😊': 'smiling face with smiling eyes'}, {'🎥': 'movie camera', '😭': 'loudly crying face'}, {'♥': 'heart suit'}, {'👍': 'thumbs up', '🙌': 'raising hands', '😏': 'smirking face', '👌': 'OK hand'}, {'😱': 'face screaming in fear', '👏': 'clapping hands', '😂': 'face with tears of joy'}, {'🚼': 'baby symbol', '😂': 'face with tears of joy', '👌': 'OK hand'}, {'🍀': 'four leaf clover', '🍆': 'eggplant'}, {'☹': 'frowning face'}, {'😉': 'winking face'}, {'📺': 'television'}, {'😩': 'weary face'}, {'❤': 'red heart', '😉': 'winking face'}, {'😝': 'squinting face with tongue', '😋': 'face savoring food', '👹': 'ogre'}, {'😤': 'face with steam from nose'}, {'🎶': 'musical notes', '👯': 'people with bunny ears', '🍹': 'tropical drink', '🎉': 'party popper', '💄': 'lipstick', '💝': 'heart with ribbon'}, {'✴': 'eight-pointed star'}, {'💜': 'purple heart'}, {'❤': 'red heart', '😉': 'winking face'}, {'◾': 'black medium-small square', '◽': 'white medium-small square'}, {'😉': 'winking face'}, {'😏': 'smirking face', '😂': 'face with tears of joy'}, {'💰': 'money bag', '🙌': 'raising hands'}, {'♥': 'heart suit', '☺': 'smiling face'}, {'😂': 'face with tears of joy', '👌': 'OK hand', '🙈': 'see-no-evil monkey'}, {'♥': 'heart suit'}, {'❤': 'red heart', '😉': 'winking face'}, {'👏': 'clapping hands'}, {'💗': 'growing heart', '💕': 'two hearts'}, {'❤️': 'red heart', '🎉': 'party popper'}, {'♥': 'heart suit'}, {'♥': 'heart suit'}, {'😍': 'smiling face with heart-eyes', '💘': 'heart with arrow'}, {'😘': 'face blowing a kiss'}, {'👌': 'OK hand'}, {'😬': 'grimacing face', '😉': 'winking face', '😄': 'grinning face with smiling eyes'}, {'💋': 'kiss mark'}, {'😂': 'face with tears of joy', '😳': 'flushed face'}, {'✌️': 'victory hand', '😒': 'unamused face'}, {'❤': 'red heart', '😉': 'winking face'}, {'❤️': 'red heart'}, {'🍓': 'strawberry', '👅': 'tongue'}, {'😑': 'expressionless face'}, {'💜': 'purple heart', '💛': 'yellow heart', '❤️': 'red heart', '💙': 'blue heart', '💚': 'green heart'}, {'🔥': 'fire', '💯': 'hundred points', '👌': 'OK hand'}, {'♥': 'heart suit'}, {'👍': 'thumbs up'}, {'😍': 'smiling face with heart-eyes'}, {'✌️': 'victory hand', '☺️': 'smiling face'}, {'❤️': 'red heart'}, {'💗': 'growing heart'}, {'♥': 'heart suit'}, {'❤️': 'red heart', '🎆': 'fireworks'}, {'♥': 'heart suit'}, {'😩': 'weary face'}, {'☺️': 'smiling face'}, {'😘': 'face blowing a kiss'}, {'😂': 'face with tears of joy'}, {'♥': 'heart suit'}, {'💖': 'sparkling heart'}, {'😑': 'expressionless face'}, {'©': 'copyright'}, {'♥': 'heart suit'}, {'®': 'registered'}, {'🎁': 'wrapped gift', '🎉': 'party popper', '💐': 'bouquet'}, {'❤': 'red heart', '😉': 'winking face'}, {'😂': 'face with tears of joy'}, {'❤': 'red heart', '😉': 'winking face'}, {'😉': 'winking face'}, {'💖': 'sparkling heart'}, {'♥': 'heart suit'}, {'👋': 'waving hand'}, {'👍': 'thumbs up'}, {'👍': 'thumbs up', '😜': 'winking face with tongue'}, {'🙆': 'person gesturing OK', '😂': 'face with tears of joy', '😳': 'flushed face'}, {'😜': 'winking face with tongue'}, {'🎁': 'wrapped gift', '🎉': 'party popper', '🎄': 'Christmas tree'}, {'©': 'copyright'}, {'✌️': 'victory hand'}, {'♥': 'heart suit'}, {'❤️': 'red heart'}, {'❤': 'red heart'}, {'❤': 'red heart'}, {'🚗': 'automobile'}, {'😂': 'face with tears of joy', '😳': 'flushed face', '🙈': 'see-no-evil monkey'}, {'👏': 'clapping hands', '😂': 'face with tears of joy'}, {'👍': 'thumbs up', '👌': 'OK hand'}, {'😌': 'relieved face'}, {'😒': 'unamused face'}, {'😭': 'loudly crying face'}, {'👌': 'OK hand'}, {'😊': 'smiling face with smiling eyes'}, {'😥': 'sad but relieved face', '😭': 'loudly crying face'}, {'♥': 'heart suit'}, {'♥': 'heart suit'}, {'💛': 'yellow heart', '💜': 'purple heart', '🎧': 'headphone', '💙': 'blue heart'}, {'💛': 'yellow heart'}, {'⁉️': 'exclamation question mark'}, {'❤': 'red heart', '😉': 'winking face'}, {'😂': 'face with tears of joy', '😖': 'confounded face'}, {'😄': 'grinning face with smiling eyes', '😘': 'face blowing a kiss'}, {'🎀': 'ribbon', '😇': 'smiling face with halo', '💃': 'woman dancing', '👌': 'OK hand'}, {'♥': 'heart suit'}, {'🎧': 'headphone'}, {'😩': 'weary face', '😭': 'loudly crying face', '☺️': 'smiling face', '😘': 'face blowing a kiss'}, {'😓': 'downcast face with sweat'}, {'♥': 'heart suit'}, {'💖': 'sparkling heart'}, {'😍': 'smiling face with heart-eyes'}, {'😂': 'face with tears of joy', '🐴': 'horse face'}, {'♥': 'heart suit'}, {'💋': 'kiss mark'}, {'🚙': 'sport utility vehicle', '🔆': 'bright button', '🔅': 'dim button', '🇩🇪': 'flag: Germany', '🏡': 'house with garden', '🎄': 'Christmas tree'}, {'❤️': 'red heart', '🌠': 'shooting star', '😇': 'smiling face with halo'}, {'☹': 'frowning face'}, {'👏': 'clapping hands'}, {'♥': 'heart suit'}, {'🎧': 'headphone'}, {'♥': 'heart suit'}, {'😘': 'face blowing a kiss'}, {'😡': 'pouting face', '☺': 'smiling face'}, {'😔': 'pensive face'}, {'😉': 'winking face'}, {'🎮': 'video game', '🎨': 'artist palette'}, {'❤': 'red heart', '😉': 'winking face'}, {'😉': 'winking face'}, {'😔': 'pensive face'}, {'©': 'copyright'}, {'🙊': 'speak-no-evil monkey', '😍': 'smiling face with heart-eyes', '❤️': 'red heart'}, {'🎉': 'party popper'}, {'😡': 'pouting face'}, {'😍': 'smiling face with heart-eyes'}, {'♥': 'heart suit'}, {'❤️': 'red heart', '✨': 'sparkles'}, {'❤': 'red heart', '😉': 'winking face'}, {'♥': 'heart suit'}, {'❤️': 'red heart'}, {'🎧': 'headphone'}, {'♥': 'heart suit'}, {'⛄': 'snowman without snow', '❄️': 'snowflake'}, {'❤': 'red heart', '😉': 'winking face'}, {'😃': 'grinning face with big eyes'}, {'♥': 'heart suit'}, {'😷': 'face with medical mask', '😳': 'flushed face'}, {'😓': 'downcast face with sweat'}, {'🎶': 'musical notes'}, {'♥': 'heart suit'}, {'🍀': 'four leaf clover'}, {'❤': 'red heart', '😉': 'winking face'}, {'♥': 'heart suit'}, {'♥': 'heart suit'}, {'☁': 'cloud'}, {'🚺': 'women’s room', '💕': 'two hearts'}, {'❤️': 'red heart', '🌚': 'new moon face'}, {'💗': 'growing heart'}, {'😍': 'smiling face with heart-eyes'}, {'❤': 'red heart'}, {'❤': 'red heart', '😉': 'winking face'}, {'❤': 'red heart', '😉': 'winking face'}, {'😑': 'expressionless face'}, {'®': 'registered'}, {'™': 'trade mark'}, {'❤': 'red heart', '😉': 'winking face'}, {'♥': 'heart suit'}, {'♥': 'heart suit', '😳': 'flushed face'}, {'😢': 'crying face'}, {'❤': 'red heart', '😉': 'winking face'}, {'😏': 'smirking face', '😂': 'face with tears of joy'}, {'♥': 'heart suit'}, {'🎶': 'musical notes'}, {'😏': 'smirking face'}, {'🙆': 'person gesturing OK', '😡': 'pouting face'}, {'🙌': 'raising hands', '👌': 'OK hand'}, {'💖': 'sparkling heart'}, {'✌️': 'victory hand'}, {'💖': 'sparkling heart'}, {'🎅': 'Santa Claus', '🎉': 'party popper', '🎄': 'Christmas tree'}, {'♥': 'heart suit'}, {'💨': 'dashing away'}, {'♥': 'heart suit'}, {'❤': 'red heart', '😉': 'winking face'}, {'👊': 'oncoming fist'}, {'😍': 'smiling face with heart-eyes'}, {'😂': 'face with tears of joy'}, {'♥': 'heart suit'}, {'❤️': 'red heart'}, {'❤': 'red heart', '😔': 'pensive face', '😚': 'kissing face with closed eyes'}, {'♥': 'heart suit'}, {'👏': 'clapping hands', '💋': 'kiss mark', '😊': 'smiling face with smiling eyes'}, {'♥': 'heart suit'}, {'🙌': 'raising hands', '😏': 'smirking face'}, {'🙆': 'person gesturing OK', '😂': 'face with tears of joy'}, {'💕': 'two hearts'}, {'😃': 'grinning face with big eyes'}, {'😑': 'expressionless face'}, {'©': 'copyright'}, {'😍': 'smiling face with heart-eyes'}, {'™': 'trade mark'}, {'♥️': 'heart suit', '🌲': 'evergreen tree', '👪': 'family'}, {'🔫': 'water pistol'}, {'😍': 'smiling face with heart-eyes'}, {'😂': 'face with tears of joy', '👌': 'OK hand'}, {'🎊': 'confetti ball', '🎉': 'party popper'}, {'👍': 'thumbs up', '♥️': 'heart suit', '❤️': 'red heart', '💋': 'kiss mark'}, {'😭': 'loudly crying face', '😒': 'unamused face'}, {'😏': 'smirking face', '💁': 'person tipping hand'}, {'❤️': 'red heart', '😍': 'smiling face with heart-eyes'}, {'❤': 'red heart', '😉': 'winking face'}, {'😃': 'grinning face with big eyes'}, {'😂': 'face with tears of joy'}, {'😂': 'face with tears of joy'}, {'☹': 'frowning face'}, {'😩': 'weary face', '🔫': 'water pistol'}, {'👌': 'OK hand'}, {'🙅': 'person gesturing NO'}, {'☺️': 'smiling face'}, {'😡': 'pouting face', '😩': 'weary face', '✋': 'raised hand'}, {'♥': 'heart suit'}, {'☺': 'smiling face'}, {'❤': 'red heart', '😉': 'winking face'}, {'❤': 'red heart', '😉': 'winking face'}, {'🎅': 'Santa Claus', '⛄': 'snowman without snow', '❄️': 'snowflake', '🎁': 'wrapped gift', '🎄': 'Christmas tree'}, {'✨': 'sparkles'}, {'🎄': 'Christmas tree'}, {'💕': 'two hearts', '☺️': 'smiling face', '😘': 'face blowing a kiss'}, {'🐶': 'dog face'}, {'🐼': 'panda', '😫': 'tired face'}, {'🙏': 'folded hands'}, {'❤️': 'red heart', '😘': 'face blowing a kiss'}, {'❤': 'red heart', '😉': 'winking face'}, {'😄': 'grinning face with smiling eyes', '😜': 'winking face with tongue'}, {'©': 'copyright'}, {'💤': 'zzz'}, {'♥': 'heart suit'}, {'🎅': 'Santa Claus'}, {'😊': 'smiling face with smiling eyes'}, {'♥': 'heart suit'}, {'⛄': 'snowman without snow'}, {'🙆': 'person gesturing OK', '🙈': 'see-no-evil monkey'}, {'♥': 'heart suit'}, {'💩': 'pile of poo'}, {'♥': 'heart suit'}, {'☺': 'smiling face'}, {'😂': 'face with tears of joy', '😳': 'flushed face', '👌': 'OK hand'}, {'❤': 'red heart', '😉': 'winking face'}, {'❤': 'red heart', '😉': 'winking face'}, {'🍀': 'four leaf clover'}, {'🙊': 'speak-no-evil monkey', '🍳': 'cooking'}, {'❤️': 'red heart'}, {'🌌': 'milky way'}, {'😢': 'crying face'}, {'🎶': 'musical notes'}, {'❤️': 'red heart', '🐧': 'penguin'}, {'🙌': 'raising hands'}, {'👍': 'thumbs up', '🆘': 'SOS button', '😴': 'sleeping face'}, {'😂': 'face with tears of joy'}, {'♥': 'heart suit'}, {'©': 'copyright'}, {'👸': 'princess'}, {'💋': 'kiss mark', '💙': 'blue heart', '☺️': 'smiling face', '😘': 'face blowing a kiss'}, {'❤': 'red heart', '😉': 'winking face'}, {'🏃': 'person running', '💃': 'woman dancing'}, {'❤️': 'red heart'}, {'🚢': 'ship', '😄': 'grinning face with smiling eyes'}, {'🎶': 'musical notes', '🎼': 'musical score', '🏰': 'castle', '🎁': 'wrapped gift', '🎄': 'Christmas tree'}, {'🎧': 'headphone'}, {'🔄': 'counterclockwise arrows button'}, {'💁': 'person tipping hand'}, {'❤️': 'red heart'}, {'❤': 'red heart', '😉': 'winking face'}, {'♥': 'heart suit'}, {'👏': 'clapping hands', '👑': 'crown'}, {'💸': 'money with wings', '😭': 'loudly crying face'}, {'😂': 'face with tears of joy'}, {'♥': 'heart suit'}, {'👊': 'oncoming fist'}, {'♥': 'heart suit'}, {'😅': 'grinning face with sweat', '😏': 'smirking face', '😄': 'grinning face with smiling eyes', '😘': 'face blowing a kiss', '😉': 'winking face', '😍': 'smiling face with heart-eyes', '😛': 'face with tongue', '😋': 'face savoring food', '😳': 'flushed face'}, {'✊': 'raised fist', '💯': 'hundred points'}, {'😂': 'face with tears of joy'}, {'🙈': 'see-no-evil monkey'}, {'😘': 'face blowing a kiss'}, {'♥': 'heart suit'}, {'🌸': 'cherry blossom', '☕': 'hot beverage'}, {'😒': 'unamused face', '😉': 'winking face', '👌': 'OK hand'}, {'😂': 'face with tears of joy'}, {'®': 'registered'}, {'☝️': 'index pointing up'}, {'💔': 'broken heart'}, {'👍': 'thumbs up', '☺️': 'smiling face'}, {'🚨': 'police car light', '🚓': 'police car'}, {'❤': 'red heart'}, {'😄': 'grinning face with smiling eyes'}, {'😂': 'face with tears of joy', '👌': 'OK hand'}, {'❤️': 'red heart'}, {'🎅': 'Santa Claus', '🎄': 'Christmas tree'}, {'❤': 'red heart', '💋': 'kiss mark'}, {'😍': 'smiling face with heart-eyes'}, {'☹': 'frowning face', '☺': 'smiling face'}, {'😂': 'face with tears of joy'}, {'❤️': 'red heart'}, {'♥': 'heart suit', '™': 'trade mark'}, {'😏': 'smirking face'}, {'🎅': 'Santa Claus', '☺': 'smiling face', '❄️': 'snowflake', '🎁': 'wrapped gift', '📄': 'page facing up', '📨': 'incoming envelope'}, {'❤': 'red heart', '😉': 'winking face'}, {'❤️': 'red heart'}, {'💕': 'two hearts'}, {'😂': 'face with tears of joy', '👌': 'OK hand'}, {'😝': 'squinting face with tongue'}, {'♥': 'heart suit'}, {'♥': 'heart suit'}, {'❤': 'red heart'}, {'😍': 'smiling face with heart-eyes', '😘': 'face blowing a kiss'}, {'♥': 'heart suit'}, {'💜': 'purple heart', '😍': 'smiling face with heart-eyes'}, {'💛': 'yellow heart', '👩': 'woman', '👑': 'crown', '👸': 'princess'}, {'™': 'trade mark'}, {'🍟': 'french fries', '🍔': 'hamburger', '📀': 'dvd', '🎥': 'movie camera', '🔪': 'kitchen knife', '😊': 'smiling face with smiling eyes'}, {'🙌': 'raising hands'}, {'👍': 'thumbs up', '😃': 'grinning face with big eyes', '😄': 'grinning face with smiling eyes'}, {'❤': 'red heart', '😉': 'winking face'}, {'😚': 'kissing face with closed eyes'}, {'❤️': 'red heart'}, {'💖': 'sparkling heart'}, {'♥': 'heart suit'}, {'😍': 'smiling face with heart-eyes', '❤': 'red heart', '😊': 'smiling face with smiling eyes'}, {'❤️': 'red heart'}, {'😭': 'loudly crying face'}, {'😳': 'flushed face'}, {'™': 'trade mark'}, {'🎅': 'Santa Claus', '👍': 'thumbs up', '❤️': 'red heart', '😍': 'smiling face with heart-eyes', '🎄': 'Christmas tree'}, {'🍺': 'beer mug', '🍻': 'clinking beer mugs', '👊': 'oncoming fist', '😜': 'winking face with tongue', '😝': 'squinting face with tongue', '😊': 'smiling face with smiling eyes'}, {'🍍': 'pineapple', '🍉': 'watermelon', '🍈': 'melon'}, {'😒': 'unamused face'}, {'👭': 'women holding hands', '👬': 'men holding hands', '❤': 'red heart', '😘': 'face blowing a kiss', '💋': 'kiss mark', '💞': 'revolving hearts'}, {'🍻': 'clinking beer mugs', '😂': 'face with tears of joy', '🍊': 'tangerine', '🏈': 'american football'}, {'❤': 'red heart', '😉': 'winking face'}, {'😏': 'smirking face', '😂': 'face with tears of joy', '👌': 'OK hand'}, {'😒': 'unamused face', '😳': 'flushed face'}, {'😝': 'squinting face with tongue'}, {'🙆': 'person gesturing OK'}, {'🎉': 'party popper', '💃': 'woman dancing', '💁': 'person tipping hand'}, {'❤': 'red heart', '😉': 'winking face'}, {'♥': 'heart suit'}, {'❤': 'red heart', '😉': 'winking face'}, {'👍': 'thumbs up', '✌️': 'victory hand'}, {'😔': 'pensive face'}, {'😄': 'grinning face with smiling eyes', '👹': 'ogre'}, {'😡': 'pouting face'}, {'💋': 'kiss mark'}, {'😩': 'weary face'}, {'♥': 'heart suit'}, {'😡': 'pouting face'}, {'👏': 'clapping hands', '😁': 'beaming face with smiling eyes'}, {'😏': 'smirking face'}, {'✨': 'sparkles'}, {'♥': 'heart suit'}, {'🎉': 'party popper', '🍷': 'wine glass', '👌': 'OK hand', '😘': 'face blowing a kiss'}, {'😷': 'face with medical mask', '😢': 'crying face', '😭': 'loudly crying face', '👶': 'baby', '😪': 'sleepy face', '👂': 'ear'}, {'💁': 'person tipping hand'}, {'®': 'registered'}, {'❤️': 'red heart'}, {'💖': 'sparkling heart', '😘': 'face blowing a kiss'}, {'😭': 'loudly crying face', '✏': 'pencil'}, {'♥': 'heart suit'}, {'♥': 'heart suit'}, {'💕': 'two hearts'}, {'❤': 'red heart', '😉': 'winking face'}, {'♥': 'heart suit'}, {'😓': 'downcast face with sweat', '😥': 'sad but relieved face', '😳': 'flushed face'}, {'🎶': 'musical notes', '🎵': 'musical note', '😮': 'face with open mouth'}, {'☹': 'frowning face'}, {'©': 'copyright'}, {'😂': 'face with tears of joy'}, {'♥': 'heart suit'}, {'🔥': 'fire'}, {'😍': 'smiling face with heart-eyes', '👌': 'OK hand'}, {'♥': 'heart suit'}, {'😝': 'squinting face with tongue'}, {'😂': 'face with tears of joy'}, {'😳': 'flushed face', '🙈': 'see-no-evil monkey'}, {'😆': 'grinning squinting face', '😒': 'unamused face'}, {'™': 'trade mark'}, {'🎅': 'Santa Claus'}, {'🙊': 'speak-no-evil monkey'}, {'☹': 'frowning face', '☺': 'smiling face'}, {'♥': 'heart suit'}, {'😟': 'worried face'}, {'♥': 'heart suit'}, {'♥': 'heart suit'}, {'♥': 'heart suit'}, {'♥': 'heart suit'}, {'♥': 'heart suit'}, {'👏': 'clapping hands', '😂': 'face with tears of joy'}, {'♥': 'heart suit'}, {'👍': 'thumbs up'}, {'▶': 'play button'}, {'😳': 'flushed face'}, {'❤': 'red heart', '😉': 'winking face'}, {'❤': 'red heart', '😉': 'winking face'}, {'♥': 'heart suit'}, {'😒': 'unamused face'}, {'😳': 'flushed face'}, {'💕': 'two hearts', '☺️': 'smiling face'}, {'😂': 'face with tears of joy', '😘': 'face blowing a kiss'}, {'☺': 'smiling face'}, {'😔': 'pensive face'}, {'💋': 'kiss mark'}, {'😁': 'beaming face with smiling eyes', '😂': 'face with tears of joy'}, {'❤': 'red heart', '😉': 'winking face'}, {'❄️': 'snowflake'}, {'♥': 'heart suit'}, {'👯': 'people with bunny ears', '😘': 'face blowing a kiss'}, {'❤️': 'red heart'}, {'❤️': 'red heart', '😂': 'face with tears of joy'}, {'♥': 'heart suit'}, {'❤': 'red heart', '😉': 'winking face'}, {'🇮🇹': 'flag: Italy', '😉': 'winking face'}, {'👣': 'footprints'}, {'😆': 'grinning squinting face'}, {'😁': 'beaming face with smiling eyes', '🙌': 'raising hands'}, {'♥': 'heart suit'}, {'❤': 'red heart', '😉': 'winking face'}, {'®': 'registered'}, {'♥': 'heart suit'}, {'☺️': 'smiling face'}, {'😭': 'loudly crying face'}, {'🔞': 'no one under eighteen'}, {'👍': 'thumbs up', '✌️': 'victory hand', '☺️': 'smiling face'}, {'👊': 'oncoming fist', '😒': 'unamused face'}, {'❤️': 'red heart'}, {'😂': 'face with tears of joy'}, {'🎅': 'Santa Claus'}, {'😂': 'face with tears of joy', '✋': 'raised hand', '👌': 'OK hand'}, {'😂': 'face with tears of joy', '😳': 'flushed face'}, {'♥': 'heart suit'}, {'😷': 'face with medical mask'}, {'😂': 'face with tears of joy'}, {'😂': 'face with tears of joy', '👌': 'OK hand'}, {'💪': 'flexed biceps', '😊': 'smiling face with smiling eyes'}, {'😂': 'face with tears of joy'}, {'😒': 'unamused face'}, {'🎧': 'headphone'}, {'😌': 'relieved face'}, {'™': 'trade mark'}, {'👀': 'eyes', '😂': 'face with tears of joy', '😭': 'loudly crying face'}, {'👍': 'thumbs up', '👌': 'OK hand'}, {'😘': 'face blowing a kiss'}, {'🙅': 'person gesturing NO'}, {'👳': 'person wearing turban', '📱': 'mobile phone'}, {'🎅': 'Santa Claus', '😂': 'face with tears of joy', '⛄': 'snowman without snow', '🎁': 'wrapped gift', '😭': 'loudly crying face'}, {'😏': 'smirking face'}, {'🙅': 'person gesturing NO', '😳': 'flushed face'}, {'❤': 'red heart', '😉': 'winking face'}, {'❤️': 'red heart'}, {'😻': 'smiling cat with heart-eyes', '💛': 'yellow heart', '❤️': 'red heart', '🎈': 'balloon', '😽': 'kissing cat'}, {'🌁': 'foggy', '☁': 'cloud', '🌊': 'water wave', '🚢': 'ship', '⛅': 'sun behind cloud'}, {'♥': 'heart suit'}, {'☺': 'smiling face'}, {'❤️': 'red heart'}, {'☺': 'smiling face'}, {'♥': 'heart suit'}, {'✖': 'multiply'}, {'🎶': 'musical notes', '😏': 'smirking face'}, {'❤️': 'red heart'}, {'😘': 'face blowing a kiss'}, {'©': 'copyright'}, {'😂': 'face with tears of joy'}, {'🙈': 'see-no-evil monkey'}, {'😊': 'smiling face with smiling eyes'}, {'😓': 'downcast face with sweat'}, {'♥': 'heart suit'}, {'❤️': 'red heart', '🐧': 'penguin'}, {'🎅': 'Santa Claus', '🎄': 'Christmas tree'}, {'🎤': 'microphone'}, {'♥': 'heart suit'}, {'😉': 'winking face', '😊': 'smiling face with smiling eyes'}, {'🙅': 'person gesturing NO'}, {'🎅': 'Santa Claus', '🎊': 'confetti ball', '🔮': 'crystal ball', '🎉': 'party popper', '🎁': 'wrapped gift', '🎄': 'Christmas tree'}, {'❤': 'red heart', '😉': 'winking face'}, {'😭': 'loudly crying face'}, {'😭': 'loudly crying face'}, {'💂': 'guard'}, {'👫': 'woman and man holding hands', '💞': 'revolving hearts', '🌃': 'night with stars'}, {'❄️': 'snowflake', '😍': 'smiling face with heart-eyes', '✌️': 'victory hand', '👌': 'OK hand'}, {'♥': 'heart suit'}, {'☹': 'frowning face'}, {'😊': 'smiling face with smiling eyes'}, {'🎄': 'Christmas tree', '😊': 'smiling face with smiling eyes'}, {'♥': 'heart suit'}, {'❤️': 'red heart', '😇': 'smiling face with halo'}, {'💁': 'person tipping hand', '🎓': 'graduation cap', '👯': 'people with bunny ears'}, {'❤': 'red heart', '😉': 'winking face'}, {'♥': 'heart suit'}, {'😌': 'relieved face'}, {'❤': 'red heart'}, {'♥': 'heart suit'}, {'😏': 'smirking face', '😂': 'face with tears of joy', '😳': 'flushed face'}, {'😚': 'kissing face with closed eyes'}, {'☕': 'hot beverage'}, {'✔️': 'check mark'}, {'😨': 'fearful face'}, {'😭': 'loudly crying face'}, {'♥': 'heart suit'}, {'👫': 'woman and man holding hands', '🎈': 'balloon', '❤': 'red heart'}, {'🙈': 'see-no-evil monkey'}, {'❤️': 'red heart'}, {'🌌': 'milky way', '⭐': 'star', '🏰': 'castle'}, {'❤': 'red heart', '😉': 'winking face'}, {'♥': 'heart suit'}, {'♥': 'heart suit'}, {'😂': 'face with tears of joy'}, {'©': 'copyright'}, {'😔': 'pensive face', '✋': 'raised hand'}, {'♥': 'heart suit'}, {'💕': 'two hearts'}, {'❤': 'red heart', '😉': 'winking face'}, {'♥': 'heart suit'}, {'😂': 'face with tears of joy'}, {'😎': 'smiling face with sunglasses', '😫': 'tired face', '✌️': 'victory hand'}, {'🙌': 'raising hands', '💁': 'person tipping hand'}, {'😭': 'loudly crying face', '💗': 'growing heart'}, {'✈️': 'airplane'}, {'😂': 'face with tears of joy', '🙏': 'folded hands'}, {'😂': 'face with tears of joy'}, {'💕': 'two hearts', '😄': 'grinning face with smiling eyes', '🙈': 'see-no-evil monkey'}, {'😳': 'flushed face'}, {'❤️': 'red heart'}, {'💁': 'person tipping hand'}, {'😂': 'face with tears of joy'}, {'❤': 'red heart', '😉': 'winking face'}, {'💀': 'skull'}, {'♥': 'heart suit'}, {'😭': 'loudly crying face'}, {'♥': 'heart suit'}, {'🏂': 'snowboarder', '🎿': 'skis', '❄': 'snowflake'}, {'♥': 'heart suit'}, {'💕': 'two hearts'}, {'💕': 'two hearts', '🐷': 'pig face'}, {'😂': 'face with tears of joy', '🐶': 'dog face', '🎾': 'tennis'}, {'🎄': 'Christmas tree'}, {'❤': 'red heart', '😉': 'winking face'}, {'😝': 'squinting face with tongue', '👋': 'waving hand'}, {'🙌': 'raising hands'}, {'😱': 'face screaming in fear', '😩': 'weary face', '😏': 'smirking face', '😴': 'sleeping face'}, {'😒': 'unamused face'}, {'😔': 'pensive face'}, {'▶': 'play button'}, {'☹': 'frowning face'}, {'👰': 'person with veil', '🙏': 'folded hands', '💖': 'sparkling heart', '💏': 'kiss'}, {'🙍': 'person frowning'}, {'♥': 'heart suit'}, {'❤': 'red heart', '😉': 'winking face'}, {'®': 'registered'}, {'💁': 'person tipping hand'}, {'♥': 'heart suit'}, {'♥': 'heart suit'}, {'®': 'registered'}, {'😂': 'face with tears of joy', '😳': 'flushed face', '🙈': 'see-no-evil monkey'}, {'😎': 'smiling face with sunglasses'}, {'♥': 'heart suit'}, {'♥': 'heart suit'}, {'😁': 'beaming face with smiling eyes', '🌻': 'sunflower', '😘': 'face blowing a kiss', '🌞': 'sun with face', '💞': 'revolving hearts'}, {'😆': 'grinning squinting face'}, {'😆': 'grinning squinting face', '😁': 'beaming face with smiling eyes', '👍': 'thumbs up', '🎈': 'balloon', '😜': 'winking face with tongue', '😉': 'winking face'}, {'😂': 'face with tears of joy'}, {'😉': 'winking face'}, {'👌': 'OK hand'}, {'❤️': 'red heart', '😚': 'kissing face with closed eyes'}, {'😍': 'smiling face with heart-eyes'}, {'😂': 'face with tears of joy'}, {'😋': 'face savoring food'}, {'❤️': 'red heart'}, {'😂': 'face with tears of joy', '🙈': 'see-no-evil monkey'}, {'🎀': 'ribbon', '😍': 'smiling face with heart-eyes'}, {'♥': 'heart suit'}, {'❤': 'red heart', '😉': 'winking face'}, {'😂': 'face with tears of joy', '👌': 'OK hand'}, {'♥': 'heart suit'}, {'♥': 'heart suit'}, {'😂': 'face with tears of joy'}, {'😍': 'smiling face with heart-eyes'}, {'🐇': 'rabbit'}, {'😂': 'face with tears of joy'}, {'♥': 'heart suit'}, {'🙌': 'raising hands', '😭': 'loudly crying face'}, {'😘': 'face blowing a kiss'}, {'😂': 'face with tears of joy'}, {'♥': 'heart suit'}, {'😏': 'smirking face'}, {'😂': 'face with tears of joy'}, {'🍀': 'four leaf clover'}, {'😂': 'face with tears of joy'}, {'❤': 'red heart', '😉': 'winking face'}, {'♥': 'heart suit'}, {'👼': 'baby angel', '💦': 'sweat droplets', '🙈': 'see-no-evil monkey', '🙊': 'speak-no-evil monkey', '🙉': 'hear-no-evil monkey', '😇': 'smiling face with halo'}, {'😳': 'flushed face'}, {'♥': 'heart suit'}, {'♥': 'heart suit'}, {'✊': 'raised fist', '😍': 'smiling face with heart-eyes', '😂': 'face with tears of joy'}, {'🍩': 'doughnut', '☕': 'hot beverage'}, {'♥': 'heart suit'}, {'😩': 'weary face'}, {'✌️': 'victory hand'}, {'♥': 'heart suit'}, {'♥': 'heart suit'}, {'♥': 'heart suit'}, {'🎅': 'Santa Claus', '⛄': 'snowman without snow', '🎄': 'Christmas tree'}, {'💕': 'two hearts', '😘': 'face blowing a kiss'}, {'👏': 'clapping hands', '🙌': 'raising hands', '🙏': 'folded hands'}, {'♥': 'heart suit'}, {'😶': 'face without mouth', '😿': 'crying cat'}, {'😳': 'flushed face'}, {'☹': 'frowning face'}, {'❤️': 'red heart'}, {'🎁': 'wrapped gift'}, {'🎶': 'musical notes', '😍': 'smiling face with heart-eyes', '🎸': 'guitar', '❤': 'red heart'}, {'♥': 'heart suit'}, {'💋': 'kiss mark', '💞': 'revolving hearts'}, {'💔': 'broken heart', '😒': 'unamused face'}, {'💖': 'sparkling heart'}, {'😉': 'winking face'}, {'〰': 'wavy dash', '❗': 'red exclamation mark'}, {'♥': 'heart suit'}, {'👌': 'OK hand'}, {'😂': 'face with tears of joy'}, {'❤': 'red heart', '😉': 'winking face'}, {'❤': 'red heart', '😉': 'winking face'}, {'💖': 'sparkling heart'}, {'😅': 'grinning face with sweat'}, {'💛': 'yellow heart', '💙': 'blue heart'}, {'😭': 'loudly crying face', '😊': 'smiling face with smiling eyes'}, {'☹': 'frowning face'}, {'🎈': 'balloon', '🎄': 'Christmas tree'}, {'😔': 'pensive face', '🙈': 'see-no-evil monkey'}, {'❤': 'red heart'}, {'😁': 'beaming face with smiling eyes'}, {'🙌': 'raising hands'}, {'❤️': 'red heart'}, {'😠': 'angry face'}, {'🎄': 'Christmas tree'}, {'♥': 'heart suit'}, {'☺️': 'smiling face'}, {'💯': 'hundred points', '💍': 'ring', '👪': 'family', '👊': 'oncoming fist', '💎': 'gem stone'}, {'😝': 'squinting face with tongue'}, {'😒': 'unamused face'}, {'🎶': 'musical notes', '🎻': 'violin', '🙀': 'weary cat', '❤️': 'red heart'}, {'❤️': 'red heart', '💖': 'sparkling heart'}, {'😟': 'worried face', '🍋': 'lemon'}, {'✋': 'raised hand'}, {'🐷': 'pig face'}, {'🇺🇸': 'flag: United States'}, {'💕': 'two hearts'}, {'😀': 'grinning face', '🙊': 'speak-no-evil monkey', '😗': 'kissing face', '😋': 'face savoring food'}, {'☺': 'smiling face'}, {'❤️': 'red heart', '😊': 'smiling face with smiling eyes'}, {'❤️': 'red heart'}, {'🎊': 'confetti ball', '⛄': 'snowman without snow', '🔯': 'dotted six-pointed star', '🔥': 'fire', '😍': 'smiling face with heart-eyes'}, {'♥': 'heart suit'}, {'👍': 'thumbs up', '💃': 'woman dancing'}, {'♥': 'heart suit'}, {'♥': 'heart suit'}, {'🎻': 'violin', '😊': 'smiling face with smiling eyes'}, {'💼': 'briefcase', '👔': 'necktie'}, {'👌': 'OK hand'}, {'😭': 'loudly crying face'}, {'💛': 'yellow heart'}, {'🙌': 'raising hands'}, {'❤️': 'red heart'}, {'🔥': 'fire', '🙏': 'folded hands'}, {'💕': 'two hearts'}, {'♥': 'heart suit'}, {'👍': 'thumbs up', '❤️': 'red heart', '😄': 'grinning face with smiling eyes', '😘': 'face blowing a kiss'}, {'🎅': 'Santa Claus', '🎁': 'wrapped gift', '❤️': 'red heart', '💐': 'bouquet', '🎄': 'Christmas tree'}, {'🙌': 'raising hands', '😩': 'weary face', '😔': 'pensive face', '💁': 'person tipping hand'}, {'🌵': 'cactus', '✌️': 'victory hand', '😒': 'unamused face'}, {'♥': 'heart suit'}, {'❤': 'red heart', '😉': 'winking face'}, {'♥': 'heart suit'}, {'™': 'trade mark'}, {'♥': 'heart suit'}, {'😭': 'loudly crying face', '😔': 'pensive face'}, {'💖': 'sparkling heart'}, {'🌞': 'sun with face', '☕': 'hot beverage'}, {'😁': 'beaming face with smiling eyes', '❄️': 'snowflake', '😒': 'unamused face', '😣': 'persevering face', '😩': 'weary face'}, {'😏': 'smirking face', '❤️': 'red heart', '😘': 'face blowing a kiss'}, {'❤️': 'red heart'}, {'💕': 'two hearts', '😘': 'face blowing a kiss'}, {'🍏': 'green apple'}, {'🎶': 'musical notes', '🎧': 'headphone'}, {'❤️': 'red heart'}, {'😑': 'expressionless face', '😭': 'loudly crying face', '💔': 'broken heart'}, {'😜': 'winking face with tongue'}, {'🙌': 'raising hands'}, {'😂': 'face with tears of joy'}]\n"
          ]
        }
      ]
    },
    {
      "cell_type": "code",
      "metadata": {
        "id": "x4UL2zGDKOQu"
      },
      "source": [
        "all_keys = set().union(*(d.keys() for d in f))"
      ],
      "execution_count": 13,
      "outputs": []
    },
    {
      "cell_type": "code",
      "metadata": {
        "colab": {
          "base_uri": "https://localhost:8080/"
        },
        "id": "t19sL7L8KR6t",
        "outputId": "b75297f1-afa3-4038-c689-5128773dda76"
      },
      "source": [
        "print(all_keys)"
      ],
      "execution_count": 14,
      "outputs": [
        {
          "output_type": "stream",
          "name": "stdout",
          "text": [
            "{'◾', '🌻', '🐸', '✊', '😱', '😍', '👣', '💦', '🚙', '😻', '®', '◽', '😊', '💜', '👾', '🍉', '🍊', '☔', '👫', '😀', '👎', '❤️', '😜', '🌚', '🎿', '🍰', '💍', '🌠', '👔', '👳', '✖', '😳', '🌲', '🎮', '❗', '💼', '💄', '💤', '🍔', '☃', '💵', '👐', '😣', '🚺', '🎹', '🐬', '🍓', '⚽', '🚔', '🍟', '❄️', '🏰', '☺️', '☹', '😃', '🇮🇹', '🙉', '⭐', '📣', '🌎', '👶', '🎷', '💪', '😟', '🍋', '🌂', '😂', '🔮', '😢', '⬅️', '🍻', '🏂', '💕', '😹', '😲', '🍍', '✌️', '☁', '🇺🇸', '😅', '🔥', '📄', '🎊', '🐴', '🎌', '👭', '👼', '😥', '✏', '⛪', '😮', '🏄', '😶', '💆', '💥', '🙈', '⛅', '💂', '👑', '🌍', '🐛', '✔️', '❤', '🌀', '✖️', '🚢', '🚫', '🎤', '🍳', '🌃', '🎻', '🐟', '🌽', '💖', '🍲', '😇', '😔', '📨', '🍃', '🍹', '📀', '💀', '💧', '💃', '💣', '🌆', '💉', '😐', '👋', '🍩', '⁉️', '🍸', '💎', '☕', '📱', '🍬', '👻', '🙊', '📚', '💯', '👰', '🐧', '✌', '💽', '♏', '💝', '💘', '📓', '🙆', '👩', '💗', '💋', '💸', '🐶', '🚗', '🎶', '✈️', '🍀', '📑', '🐉', '😑', '💙', '😙', '🚓', '⛄', '🙌', '🚼', '🐰', '🚀', '🏈', '🎄', '✋', '😓', '🏃', '🍫', '📺', '❌', '😘', '👪', '🍷', '🎭', '☮', '😉', '💌', '🎋', '🎈', '🙏', '☂', '🐽', '🎅', '♥', '🍺', '🔫', '😪', '✴', '🌏', '🐠', '💞', '👂', '🚬', '😏', '👍', '🇩🇪', '🍠', '🚴', '👌', '💨', '🔪', '🎉', '🍪', '💁', '💻', '🙅', '💰', '🐭', '🌅', '😽', '🎺', '™', '🐣', '😭', '🏡', '🎎', '🇫🇷', '☀️', '👄', '🍕', '☠', '🍈', '😒', '😈', '💛', '▶', '🕑', '👃', '🔄', '👊', '🎁', '💔', '🌌', '🐇', '⏰', '🌞', '🙀', '🕥', '🍆', '👈', '👿', '🍝', '▪', '👯', '😵', '😄', '🐥', '👅', '📯', '🍅', '😡', '💩', '🎓', '📖', '😨', '♦', '😷', '😗', '😕', '✈', '💢', '😌', '♥️', '🐾', '👙', '☀', '🌱', '🆒', '🍭', '🌵', '✨', '😝', '👏', '👆', '🐒', '😰', '😿', '💅', '🎧', '😠', '👀', '🍏', '😬', '🌴', '😆', '🌾', '😤', '🙍', '👹', '🕐', '☺', '🌸', '🔆', '🇬🇧', '😩', '😖', '🐷', '🎨', '🍖', '🐳', '😛', '😎', '💚', '⚡', '😯', '😫', '🍧', '☁️', '🌁', '😺', '©', '😧', '🎾', '😞', '💐', '☝️', '😁', '🎵', '🏥', '😋', '🐼', '💟', '〰', '👜', '👉', '🎂', '🐤', '🍦', '🎼', '🔯', '💊', '🍗', '🌙', '🍤', '🎀', '😦', '❄', '🔅', '➡️', '😴', '🚨', '🍛', '🌊', '🎆', '🎥', '💳', '🚶', '🍁', '👸', '🙋', '🏊', '👠', '🔞', '🆘', '🍨', '👬', '😚', '🍵', '💏', '👱', '🎸'}\n"
          ]
        }
      ]
    },
    {
      "cell_type": "code",
      "metadata": {
        "colab": {
          "base_uri": "https://localhost:8080/"
        },
        "id": "duylcl2XKU8k",
        "outputId": "aa330087-dcdf-41fb-f92d-d3ecec02a596"
      },
      "source": [
        "len(all_keys)"
      ],
      "execution_count": 15,
      "outputs": [
        {
          "output_type": "execute_result",
          "data": {
            "text/plain": [
              "368"
            ]
          },
          "metadata": {},
          "execution_count": 15
        }
      ]
    },
    {
      "cell_type": "code",
      "metadata": {
        "id": "WqMnhXWtKbfa"
      },
      "source": [
        "import emoji\n",
        "def extract_emojis(s):\n",
        "    return ''.join((' '+c+' ') if c in emoji.UNICODE_EMOJI['en'] else c for c in s)"
      ],
      "execution_count": 16,
      "outputs": []
    },
    {
      "cell_type": "code",
      "metadata": {
        "id": "PG6XuIdKKefo"
      },
      "source": [
        "df['Tweet'] = df['Tweet'].apply(extract_emojis)"
      ],
      "execution_count": 17,
      "outputs": []
    },
    {
      "cell_type": "code",
      "metadata": {
        "id": "tciUvBg9Kh-e"
      },
      "source": [
        "df.columns = df.columns.str.lstrip()"
      ],
      "execution_count": 18,
      "outputs": []
    },
    {
      "cell_type": "code",
      "metadata": {
        "id": "BOtRJofY3iNX"
      },
      "source": [
        "emoji_1 = re.compile('[\\\\u203C-\\\\u3299\\\\U0001F000-\\\\U0001F644]')"
      ],
      "execution_count": null,
      "outputs": []
    },
    {
      "cell_type": "code",
      "metadata": {
        "id": "M0xz4FhI5Vyt"
      },
      "source": [
        "emoji_list= list(filter(emoji_1.match, df['Tweet']))"
      ],
      "execution_count": null,
      "outputs": []
    },
    {
      "cell_type": "code",
      "metadata": {
        "colab": {
          "base_uri": "https://localhost:8080/"
        },
        "id": "M3xabioA5e-Y",
        "outputId": "87fc3ddc-207a-4e3c-e09d-b266de21aed9"
      },
      "source": [
        "print(emoji_list)"
      ],
      "execution_count": null,
      "outputs": [
        {
          "output_type": "stream",
          "name": "stdout",
          "text": [
            "['🍃oh this will surely help the admissions office with their recruitment of students of color    ', '😏 i enjoy our random conversations at the bcm and i thank you for introducing me to one direction  godawgs', '😙love kpop i love kpop dude  pestimistic evil beautiful coldandcalculating lanadelrey artpop f4f shoutout', '💎👑💎👑💎👑1k tweet goes to  because shes kallie and she shes sassy and gets what she wants when she wants it 👑💎👑💎👑💎  😘', '😱 rt  rt  yeah gsp definitely won that fight  ', '😂 rt   my uncle used to refer to missed calls as miskeen calls  laugh out loud', '😂 “ awwwwwww saigon got some drake in him how adorable   lhhny”', '😕 looks like i am not goin to sleep shower there ', '★ all my best wishes andamp happy new y34r 2014 keep partying andamp rave on  2013 was greatfull of goodiesand ', '☕️good morning from germany         🍩', '💊 a study in pink 🎎 the blind banker 💣 the great game  📱 a scandal in belgravia 🐾 the hounds of baskerville 🏥 the reichenbach fall', '♡ me myself someoneelse mystyle jogger jogginghose kaputze ♡ ', '★ transmission  the machine of transformation ★ countdown  16 days  ► ', '💕thanks        happyfriday all💕', '🌏 the world is a book and those who do not travel read only a page 🌍', '【europe】 2013126 231446 utc9  location 146km ne of praguecz  m31 tnt6736kg  depth 20km', '❤ ♫ lola stars and stripes by the stills at dianti catering company — ', '♫ just announced nepomuk czech republic  dec 27 at tlustá berta ', '🌞h ꭺꮲꮲꮍwꭼꭼꮶꭼꮑꭰ mꮍ fꮢꭵꭼꮑꭰs💕        ', '♫ just downloaded above andamp beyond  sun andamp moon drop by     via ', '★★just on the gdjb with markus schulz united music with transmission monday 2511 exclusive on beatport thanks ', '😆“ i bet andy reid is looking at the waffle house menu”', '♫ today kladno czech republic  nov 30 at bpm club ', '♫ just announced kladno czech republic  feb 22 at bpm ', '🎧my top 3 lastfm artists obituary 13 tiamat 12 andamp the toy dolls 11 tweeklyfm ', '👌👌💯  your so cuteee laugh out loud buuuut you got fake and sopped talkin to me 😒', '☕️goodmorning         happywednesday 🌞', '♫ just announced villach austria  jan 31 at vclub ', '☹ ☹  i do not understand why people still eat mcdonald is ☹ ☹', '★★all the way from buenos aires argentina tomas heredia you will hear a lot more about him★★ ', '🎧my top 3 lastfm artists slayer 12 tool 9 andamp serj tankian 7 ', '♫ today altenhof austria  nov 30 at karibikparty ', '🎄time to stick together💝xmas czech xmasmood  mírové náměstí ', '♫ just downloaded lorde  no better dropwizz festi by     via ', '★steve helstrip as known as the thrillseekers is asking which tracks you would like to hear the night before on trance ', '😍😍 with theo in berlin 10112013 😘❤️  hurtsfamily hurts ', '♫ just downloaded new world sound andamp thomas newson  by     via ', 'ㅠㅠ ㅠㅠ rt  ahh panda hyung do not cry tt cr kana ', '🎧my top 3 lastfm artists grimes 12 bosnian rainbows 11 andamp bonobo 10 ', '★ šok ★ hardwell priznal že ghostprodukoval 1 track z beatport top 10 ktorý to asi bude  s touto temnou ', '▶ building mobile apps using salesforce geolocation features  youtube ', '🎧my top 3 lastfm artists ryan leslie 22 vec 4 andamp mariah carey 2 ', '♫ just announced mlada boleslav czech republic  mar 14 at forum ', '▶ salesforce dataloader explained in 30 minute  youtube ', '♥♥♥ rt  make sure to watch the special stage of exo 12월의기적miracles in december at kbs music bank ', '😩☺️  oh my god my favorite memory with you was at the track meet when you were acting craaaazy hahaha i miss you', '🎧my top 3 lastfm artists nmzs 16 olli banjo 7 andamp kontra k 7 music ', '♡♡♡jundyununeo 131216 samsung medical centre     ', '🎶🎶 there is the girl that i like🎶🎶 hardstyle qlimax girls want to meet her  lost in paradise ', '★★cosmic gate rocked the o2 arena hard last saturday★★ ', '♫ today hradec kralove czech republic  dec 13 at ozzies ', '▶ guy kawasaki how to use social media as an evangelist for your business and here is how i did it youtube ', '♫ just downloaded borgore andamp victor niglio  booty m by     via ', '【europe】 20131129 224156 utc9  location 69km e of praguecz  ml25 tnt848kg  depth 20km', '😍 rt  from last night mr synyster gates doing what he does best 😝😊  ', '🍩good morning from germany☕️        happy', '★just played on a state of trance official by armin van buuren transmission  the machine of transformation by ', '♫ just announced melbourne australia  mar 7 at the reverence hotel  the corner hotel ', '♡  junbros  cras tagged charityevent samsungmedicalcentre ', '💕thanks salim my friend       happyfriday all my friends💕', '♫ just announced innsbruck austria  dec 20 at queens club ', '♫ mortal kombat theme  game theme – misterioustheme  nowplaying', '🐉  your really chill but we do not talk anymore and i might possibly be your cheerleader 😳😛', '💗bebe peludo 🐶🐶 puppy love lennon schnauzer happiness ', '🎄my top 3 lastfm artists the irish rovers 6 carach angren 5 andamp vreid 3 ', '🎧my top 3 lastfm artists carnifex 11 blind ambitions 8 andamp hatebreed 3 lastfm ', '🐸🐸🐸 with arif and ikbal at royal stag bistro pic — ', '🌞goodmorning ☕️       followfriday', '⭐️⭐️⭐️  gold followme czech rapamoda black iphoneonly vscocam  jiřího hood ', '◘ promo time ◘  ▬ promo me first ▬ promo rpattzandampkrisstew ▬ comment done ▬ we will do back promo ', '♫ just downloaded martin garrix  animals dropwizz by     via ', '₪ ø lll ·o  czech echelon loves you czechrepublicneedsmars   ₪ ø lll ·o', '🐒your so pretty youandampyour boyfriend are so cute together we used to be close friends i do not know what happened ', '♫ today prague czech republic  dec 31 at nye  cross club ', '♫ just announced simbach germany  jan 18 at rezolut ', '🎧my top 3 lastfm artists vector lovers 14 conforce 10 andamp the heliocentrics 8 ', '💕f0ll0wthebest💕       ', '【europe】 2013126 231449 utc9  location 129km ne of praguecz  ml31 tnt6736kg  depth 100km', '【europe】 2013125 193439 utc9  location 91km nnw of wienat  ml27 tnt1692kg  depth 20km', '🎧my top 2 lastfm artists the toy dolls 51 andamp jo nesbö  nemesis 1 ', '🎧my top 3 lastfm artists chvrches 50 oddisee 24 andamp anoraak 14  ', '♫ today nymburk czech republic  dec 25 at celebrity night ', '♫ just announced banbridge united kingdom  feb 8 at marc van gale pres digital collective 300 ', '【europe】 20131217 35541 utc9  location 95km w of dresdende  me too1 tnt213kg  depth 100km', '★giveaway★win the spiral of bliss trilogy by   at  today giveaway  ', '☕️good morning from germany🍩    happyweekend my friends💕', '♫ just downloaded showtek  we like to party dropw by     via ', '♫ changing of the seasons – two door cinema club  nowplaying', '♫ today prague czech republic  dec 12 at rc kain ', '②ality – javascript and more web platform five technologies to look forward to ', '★ ★ jste na tohle připraveni ★ ★ are you ready for this  ➥ vstupenky čr  ➥ tickets ', '😢 rt  someone come kidnap me so i do not have to leave', '💚 rt  look who is here come and say hello to yumi and her cute little baby boy in our berlin boutique ', '🌞gm☕️         followfriday', 'プラハなう  今日の１面はベルルスコーニw  letiště václava havla  václav havel airport prg w 7 others pic ', '★ soutěž o 3 kiss 2 volné vstupy na páteční ministry of sound cz party s moguaiem v duplex prague czech republic ★ ', '【europe】 2013126 231446 utc9  location 149km ne of praguecz  m31 tnt6736kg  depth 80km', '🎧my top 3 lastfm artists gossip 13 haggard 6 andamp madrid 2 kascalfoni ', '→ one guy with a marker just made the global warming debate completely obsolete via  ', '🎧my top 3 lastfm artists darkthrone 65 cannibal corpse 11 andamp excrementory grindfuckers 9 tweeklyfm ', '♫ just announced plauen germany  dec 21 at malzhaus ', '😔 it is been 5 yrs since i have been home for a thanksgiving dinneri did not even realize thanksgiving had pasted the life of a athlete', '♫♫♫ new mashup release ♫♫♫  this is my last mashup in 2013 have fun  ', '♫ today ostrava czech republic  nov 23 at plan b hardcore cafe ', '😍 vacation church  katedrála sv víta  saint vitus cathedral ', '🎧my top 3 lastfm artists parov stelar 28 ordo rosarius equilibrio 26 andamp miranda sex garden 25 lastfm ', '🍀happy new year my friends🍀        ', '😍 rt  today i got a glimpse of heaven in the form of a light skin male with crystal blue eyes', '🎄🎅🎄🎁🎄❄️🎄⛄️🎄 prague city walk czechrepublic bethlehem chapel historic centre old wood… ', '♫ animals  radio edit – martin garrix  nowplaying', '♪no one can find the rewind button now sing it if you understand ♪ no problem', '🎧my top 3 lastfm artists miley cyrus 6 kai tracid 4 andamp chicane 2 ', '♫ just downloaded laidback luke andamp peking duk  mufa by     via ', '♫ today cottbus germany  nov 30 at blue moon festival ', 'ㅋㅋ rt  laugh out loud rt  pic 131122 honkong airport  sleepy sunggyu crstaygyu ', '♫ just announced osoppo italy  aug 9 at pietrasonica ', '💕hello my dear friends 💕    💕', '😊😍❤ millaapplea delicious cheerleader love fun pink proud ', '🍊🏈🍻you are so tall and really country i saw you at union city wal mart😂', '♫ a thousand years – christina perri  nowplaying', '【ml30】poland depth 10km nov 16 2013 121240 utc grin emsc', '✨ merry christmas to all my ig and twitter friends ✨ ', '★ all my best wishes andamp happy new y34r 2014 keep partying andamp rave on  2013 was greatfull of goodiesand ', '♫ today ceska lipa czech republic  dec 24 at luxor ftc ', '♫ just announced villach austria  jan 25 at vclub ', '♫ access all areas remixed andamp bside – atomic kitten  nowplaying', '♥♥♥ rt  gif 131122 yixing heart to camera cr ', '► neues produkt plattenspieler  hands on by dj stefan  ', '▶ cannabinoids  antiproliferative antiangiogenic antimetastatic ', '♫ heart of the city is not no love – jay z  nowplaying', '♫ safe andamp sound  from the hunger games soundtrack – taylor swiftthe civil wars  nowplaying', '♫ today prague czech republic  nov 30 at transmission 10th anniversary ', '【europe】 20131221 234731 utc9  location 137km ne of praguecz  ml32 tnt9515kg  depth 100km', '🎧my top 3 lastfm artists howard shore 14 dżem 8 andamp justin timberlake 7 ', '☹ i miss him just i am remembering the last year for this date  it was wonderful  with you ', '♫ just announced thesau germany  dec 14 at club ', '♫ today mons belgium  dec 20 at lotto mons club ', '👫🎈❤ love tagsforlikes tflers tweegram photooftheday 20likes amazing followme follow4follow… ', '♫ just downloaded bingo players  mode dropwizz tr by     via ', '♫ just announced velke pavlovice czech republic  jan 25 at millenium ', '♫ today brno czech republic  dec 13 at 7 nebe ', '★★always one of the highlights at transmission the transmix 1520 minutes full of trance classics lasers ', '【europe】 20131219 205953 utc9  location 61km w of praguecz  ml19 tnt107kg  depth 20km', '♫ just downloaded daft punk  get lucky dropwizz c by     via ', '▶  november transactions better than expected says piper jaffray29371291  youtube ', '😋 deli salat feldsalat jogurtsauce healty vegetarian whatvegetarianseat schnittlauch… ', '♫ today prague czech republic  nov 18 at roxy ', '🎀i honestly think we would be great friends we think alike and you getting humor  your so pretty too😍', '♫ just downloaded i am the melodyman hardcore edit by     via ', '♫ just announced hranice budweis czech republic  jan 25 at city bar ', '♫ africa version longue – rose laurens  nowplaying', '🍀happy new year my friends🍀       ff', '😇 solid as a mf rock condolences goes out to ma real niqqa 🙉🙈🙊 rainshower 💦👼 ', '★yeah one of the best locations ever  thanks rotterdam  thanks maassilo for the great night ', '🍩goodmorning my friends☕️   ', '💕thank you hug for canada💕      😘', '► news tomorrowland cz  sk sa rozširuje na 2 víkendy  ► en tomorrowland 2014 expands to 2 weekends ', '🎄🎈 merry christmas from the thomas johnson is andamp the huggins xoxo ', '♫ today plzen czech republic  dec 7 at club 28 ', '♩♬♪rain drops keep fallin on my head♩♪♬  galfa gmbh andamp co kg pic ', '♥  goodmorning hottests have a good day today ♥ ', '★★first set online from last saturdays transmission  the machine of transformation enjoy once more thomas ', 'ㅋㅋㅋㅋㅋㅋㅋ 이게 모얔ㅋㅋㅋㅋㅋㅋㅋㅋㅋㅋㅋ  rt  manly taecyeon  okcat incredible taec ', '♫ today pardubice czech republic  dec 27 at the big bang ', '♫ just downloaded ellie goulding  you my everythi by     via ', '☕️good morning from germany🌞         happyday', '♫ just announced ceske budejovice czech republic  may 31 at budvar ']\n"
          ]
        }
      ]
    },
    {
      "cell_type": "code",
      "metadata": {
        "id": "ev1FyCD87SxC"
      },
      "source": [
        "emo_found= ' '.join(emoji for emoji in emoji_list)"
      ],
      "execution_count": null,
      "outputs": []
    },
    {
      "cell_type": "code",
      "metadata": {
        "id": "H8GjMz7F9Otc"
      },
      "source": [
        "from emoji import UNICODE_EMOJI\n",
        "\n",
        "def get_emoji_set(text):\n",
        "    return {letter for letter in text if letter in UNICODE_EMOJI['en'] }"
      ],
      "execution_count": null,
      "outputs": []
    },
    {
      "cell_type": "code",
      "metadata": {
        "id": "GBt3k70f930z"
      },
      "source": [
        "c = get_emoji_set(emo_found)"
      ],
      "execution_count": null,
      "outputs": []
    },
    {
      "cell_type": "code",
      "metadata": {
        "colab": {
          "base_uri": "https://localhost:8080/"
        },
        "id": "pgL3XTIDCAWV",
        "outputId": "447611d1-b4a0-4994-ec9b-a5778212d8e0"
      },
      "source": [
        "print(c)"
      ],
      "execution_count": null,
      "outputs": [
        {
          "output_type": "stream",
          "name": "stdout",
          "text": [
            "{'😕', '😳', '❤', '🎁', '😢', '🎈', '📱', '🐶', '💎', '🎶', '😂', '🌞', '🎧', '🍩', '😩', '🐒', '🍀', '😍', '🌏', '😊', '💗', '🍻', '😋', '🎀', '😇', '🏈', '🙊', '☺', '⭐', '😱', '😏', '👼', '🌍', '💦', '👫', '🎅', '🍊', '👑', '🙈', '💊', '💣', '🐾', '🎎', '😆', '👌', '😙', '💯', '🎄', '🏥', '▶', '🐉', '😛', '💚', '😔', '😒', '❄', '☹', '♥', '✨', '🙉', '💕', '🐸', '💝', '😝', '⛄', '☕', '🍃', '😘'}\n"
          ]
        }
      ]
    },
    {
      "cell_type": "code",
      "metadata": {
        "collapsed": true,
        "jupyter": {
          "source_hidden": false,
          "outputs_hidden": false
        },
        "nteract": {
          "transient": {
            "deleting": false
          }
        },
        "gather": {
          "logged": 1628541925058
        },
        "colab": {
          "base_uri": "https://localhost:8080/",
          "height": 206
        },
        "id": "T7udEFkrztpl",
        "outputId": "1ca076f0-00ea-430e-8a01-7207a3302448"
      },
      "source": [
        "df.head()"
      ],
      "execution_count": null,
      "outputs": [
        {
          "output_type": "execute_result",
          "data": {
            "text/html": [
              "<div>\n",
              "<style scoped>\n",
              "    .dataframe tbody tr th:only-of-type {\n",
              "        vertical-align: middle;\n",
              "    }\n",
              "\n",
              "    .dataframe tbody tr th {\n",
              "        vertical-align: top;\n",
              "    }\n",
              "\n",
              "    .dataframe thead th {\n",
              "        text-align: right;\n",
              "    }\n",
              "</style>\n",
              "<table border=\"1\" class=\"dataframe\">\n",
              "  <thead>\n",
              "    <tr style=\"text-align: right;\">\n",
              "      <th></th>\n",
              "      <th>Tweet</th>\n",
              "      <th>Label</th>\n",
              "    </tr>\n",
              "  </thead>\n",
              "  <tbody>\n",
              "    <tr>\n",
              "      <th>0</th>\n",
              "      <td>peyton obviously cannot finish games he just t...</td>\n",
              "      <td>1</td>\n",
              "    </tr>\n",
              "    <tr>\n",
              "      <th>1</th>\n",
              "      <td>well i would love to be sleeping right now but...</td>\n",
              "      <td>1</td>\n",
              "    </tr>\n",
              "    <tr>\n",
              "      <th>2</th>\n",
              "      <td>my biggest executive decision today choosing b...</td>\n",
              "      <td>1</td>\n",
              "    </tr>\n",
              "    <tr>\n",
              "      <th>3</th>\n",
              "      <td>the first quality opponent they played in 2 y...</td>\n",
              "      <td>1</td>\n",
              "    </tr>\n",
              "    <tr>\n",
              "      <th>4</th>\n",
              "      <td>but do not you dare call it hate crimes  libe...</td>\n",
              "      <td>1</td>\n",
              "    </tr>\n",
              "  </tbody>\n",
              "</table>\n",
              "</div>"
            ],
            "text/plain": [
              "                                               Tweet  Label\n",
              "0  peyton obviously cannot finish games he just t...      1\n",
              "1  well i would love to be sleeping right now but...      1\n",
              "2  my biggest executive decision today choosing b...      1\n",
              "3   the first quality opponent they played in 2 y...      1\n",
              "4   but do not you dare call it hate crimes  libe...      1"
            ]
          },
          "metadata": {},
          "execution_count": 13
        }
      ]
    },
    {
      "cell_type": "code",
      "metadata": {
        "collapsed": true,
        "jupyter": {
          "source_hidden": false,
          "outputs_hidden": false
        },
        "nteract": {
          "transient": {
            "deleting": false
          }
        },
        "gather": {
          "logged": 1628525960136
        },
        "id": "20w0ITcLztpm"
      },
      "source": [
        "df['Label'] = df['Label'].map({1: 'sarcasm', 0: 'Non-sarcasm'})\n"
      ],
      "execution_count": null,
      "outputs": []
    },
    {
      "cell_type": "code",
      "metadata": {
        "collapsed": true,
        "jupyter": {
          "source_hidden": false,
          "outputs_hidden": false
        },
        "nteract": {
          "transient": {
            "deleting": false
          }
        },
        "gather": {
          "logged": 1628541940812
        },
        "id": "fZT6sEOxztpn",
        "outputId": "39d6453f-3ab1-47cc-a349-9a3f19868780"
      },
      "source": [
        "df.head()"
      ],
      "execution_count": null,
      "outputs": [
        {
          "output_type": "execute_result",
          "execution_count": 7,
          "data": {
            "text/plain": "      Label                                              Tweet\n517       0  #Heisenberg Uncertainty Principle: Whatever yo...\n800       0  Don't forget the true meaning of Christmas:per...\n381       0  Happy new year to meeeee... http://t.co/ZLtXiV...\n2092      1  @SerJeyms: This year's class picture is so awe...\n2436      1  @TheLouieMiguel what a way to start the new year ",
            "text/html": "<div>\n<style scoped>\n    .dataframe tbody tr th:only-of-type {\n        vertical-align: middle;\n    }\n\n    .dataframe tbody tr th {\n        vertical-align: top;\n    }\n\n    .dataframe thead th {\n        text-align: right;\n    }\n</style>\n<table border=\"1\" class=\"dataframe\">\n  <thead>\n    <tr style=\"text-align: right;\">\n      <th></th>\n      <th>Label</th>\n      <th>Tweet</th>\n    </tr>\n  </thead>\n  <tbody>\n    <tr>\n      <th>517</th>\n      <td>0</td>\n      <td>#Heisenberg Uncertainty Principle: Whatever yo...</td>\n    </tr>\n    <tr>\n      <th>800</th>\n      <td>0</td>\n      <td>Don't forget the true meaning of Christmas:per...</td>\n    </tr>\n    <tr>\n      <th>381</th>\n      <td>0</td>\n      <td>Happy new year to meeeee... http://t.co/ZLtXiV...</td>\n    </tr>\n    <tr>\n      <th>2092</th>\n      <td>1</td>\n      <td>@SerJeyms: This year's class picture is so awe...</td>\n    </tr>\n    <tr>\n      <th>2436</th>\n      <td>1</td>\n      <td>@TheLouieMiguel what a way to start the new year</td>\n    </tr>\n  </tbody>\n</table>\n</div>"
          },
          "metadata": {}
        }
      ]
    },
    {
      "cell_type": "code",
      "metadata": {
        "collapsed": true,
        "jupyter": {
          "source_hidden": false,
          "outputs_hidden": false
        },
        "nteract": {
          "transient": {
            "deleting": false
          }
        },
        "gather": {
          "logged": 1628541962712
        },
        "colab": {
          "base_uri": "https://localhost:8080/",
          "height": 336
        },
        "id": "QOPHAEgoztps",
        "outputId": "228ba939-621a-4d1b-8bfb-e32812c40149"
      },
      "source": [
        "sns.countplot(df.Label)\n",
        "plt.xlabel('Label');\n"
      ],
      "execution_count": 19,
      "outputs": [
        {
          "output_type": "stream",
          "name": "stderr",
          "text": [
            "/usr/local/lib/python3.7/dist-packages/seaborn/_decorators.py:43: FutureWarning: Pass the following variable as a keyword arg: x. From version 0.12, the only valid positional argument will be `data`, and passing other arguments without an explicit keyword will result in an error or misinterpretation.\n",
            "  FutureWarning\n"
          ]
        },
        {
          "output_type": "display_data",
          "data": {
            "image/png": "[encoded data removed]",
            "text/plain": [
              "<Figure size 432x288 with 1 Axes>"
            ]
          },
          "metadata": {
            "needs_background": "light"
          }
        }
      ]
    },
    {
      "cell_type": "code",
      "metadata": {
        "collapsed": true,
        "jupyter": {
          "source_hidden": false,
          "outputs_hidden": false
        },
        "nteract": {
          "transient": {
            "deleting": false
          }
        },
        "gather": {
          "logged": 1628541966424
        },
        "id": "4PDO5OJ2ztpt"
      },
      "source": [
        "PRE_TRAINED_MODEL_NAME = 'bert-base-uncased'"
      ],
      "execution_count": 20,
      "outputs": []
    },
    {
      "cell_type": "code",
      "metadata": {
        "collapsed": true,
        "jupyter": {
          "source_hidden": false,
          "outputs_hidden": false
        },
        "nteract": {
          "transient": {
            "deleting": false
          }
        },
        "gather": {
          "logged": 1628541969740
        },
        "colab": {
          "base_uri": "https://localhost:8080/",
          "height": 163,
          "referenced_widgets": [
            "51a381a2df2342bebb69d03ba52e71ab",
            "3c175e28c97c4e61935069be6c840e38",
            "aca47d6f1c8d442f8506a6df1ca1ec3d",
            "0809df2a32db4d0da0780f08e1aadb56",
            "1fbfbb7b02954f2caada32172666e875",
            "4a6fce165faa4a048b6518ab6b539d39",
            "54ffb2e0c9b84ae3812f4db0992b9108",
            "43010ff6716c47f5b5e0934c176bc182",
            "e102dfb3b6104fa7b1e451ad853713c5",
            "e3c8030e0b6447779e335573fe1b4cbc",
            "db7e9c2f34d74f0193f8d80ba0bdff51"
          ]
        },
        "id": "EMPaF5ANztpt",
        "outputId": "183016e5-8f9e-41a1-fd7f-5279501ae16f"
      },
      "source": [
        "tokenizer = BertTokenizer.from_pretrained(PRE_TRAINED_MODEL_NAME)\n",
        "tokenizer.add_tokens(['◾', '🌻', '🐸', '✊', '😱', '😍', '👣', '💦', '🚙', '😻', '®', '◽', '😊', '💜', '👾', '🍉', '🍊', '☔', '👫', '😀', '👎', '❤️', '😜', '🌚', '🎿', '🍰', '💍', '🌠', '👔', '👳', '✖', '😳', '🌲', '🎮', '❗', '💼', '💄', '💤', '🍔', '☃', '💵', '👐', '😣', '🚺', '🎹', '🐬', '🍓', '⚽', '🚔', '🍟', '❄️', '🏰', '☺️', '☹', '😃', '🇮🇹', '🙉', '⭐', '📣', '🌎', '👶', '🎷', '💪', '😟', '🍋', '🌂', '😂', '🔮', '😢', '⬅️', '🍻', '🏂', '💕', '😹', '😲', '🍍', '✌️', '☁', '🇺🇸', '😅', '🔥', '📄', '🎊', '🐴', '🎌', '👭', '👼', '😥', '✏', '⛪', '😮', '🏄', '😶', '💆', '💥', '🙈', '⛅', '💂', '👑', '🌍', '🐛', '✔️', '❤', '🌀', '✖️', '🚢', '🚫', '🎤', '🍳', '🌃', '🎻', '🐟', '🌽', '💖', '🍲', '😇', '😔', '📨', '🍃', '🍹', '📀', '💀', '💧', '💃', '💣', '🌆', '💉', '😐', '👋', '🍩', '⁉️', '🍸', '💎', '☕', '📱', '🍬', '👻', '🙊', '📚', '💯', '👰', '🐧', '✌', '💽', '♏', '💝', '💘', '📓', '🙆', '👩', '💗', '💋', '💸', '🐶', '🚗', '🎶', '✈️', '🍀', '📑', '🐉', '😑', '💙', '😙', '🚓', '⛄', '🙌', '🚼', '🐰', '🚀', '🏈', '🎄', '✋', '😓', '🏃', '🍫', '📺', '❌', '😘', '👪', '🍷', '🎭', '☮', '😉', '💌', '🎋', '🎈', '🙏', '☂', '🐽', '🎅', '♥', '🍺', '🔫', '😪', '✴', '🌏', '🐠', '💞', '👂', '🚬', '😏', '👍', '🇩🇪', '🍠', '🚴', '👌', '💨', '🔪', '🎉', '🍪', '💁', '💻', '🙅', '💰', '🐭', '🌅', '😽', '🎺', '™', '🐣', '😭', '🏡', '🎎', '🇫🇷', '☀️', '👄', '🍕', '☠', '🍈', '😒', '😈', '💛', '▶', '🕑', '👃', '🔄', '👊', '🎁', '💔', '🌌', '🐇', '⏰', '🌞', '🙀', '🕥', '🍆', '👈', '👿', '🍝', '▪', '👯', '😵', '😄', '🐥', '👅', '📯', '🍅', '😡', '💩', '🎓', '📖', '😨', '♦', '😷', '😗', '😕', '✈', '💢', '😌', '♥️', '🐾', '👙', '☀', '🌱', '🆒', '🍭', '🌵', '✨', '😝', '👏', '👆', '🐒', '😰', '😿', '💅', '🎧', '😠', '👀', '🍏', '😬', '🌴', '😆', '🌾', '😤', '🙍', '👹', '🕐', '☺', '🌸', '🔆', '🇬🇧', '😩', '😖', '🐷', '🎨', '🍖', '🐳', '😛', '😎', '💚', '⚡', '😯', '😫', '🍧', '☁️', '🌁', '😺', '©', '😧', '🎾', '😞', '💐', '☝️', '😁', '🎵', '🏥', '😋', '🐼', '💟', '〰', '👜', '👉', '🎂', '🐤', '🍦', '🎼', '🔯', '💊', '🍗', '🌙', '🍤', '🎀', '😦', '❄', '🔅', '➡️', '😴', '🚨', '🍛', '🌊', '🎆', '🎥', '💳', '🚶', '🍁', '👸', '🙋', '🏊', '👠', '🔞', '🆘', '🍨', '👬', '😚', '🍵', '💏', '👱', '🎸']\n",
        ")"
      ],
      "execution_count": 21,
      "outputs": [
        {
          "output_type": "display_data",
          "data": {
            "application/vnd.jupyter.widget-view+json": {
              "model_id": "51a381a2df2342bebb69d03ba52e71ab",
              "version_minor": 0,
              "version_major": 2
            },
            "text/plain": [
              "Downloading:   0%|          | 0.00/226k [00:00<?, ?B/s]"
            ]
          },
          "metadata": {}
        },
        {
          "output_type": "display_data",
          "data": {
            "application/vnd.jupyter.widget-view+json": {
              "model_id": "85ebb3e2bdd1404293079f0b1d33c0c1",
              "version_minor": 0,
              "version_major": 2
            },
            "text/plain": [
              "Downloading:   0%|          | 0.00/28.0 [00:00<?, ?B/s]"
            ]
          },
          "metadata": {}
        },
        {
          "output_type": "display_data",
          "data": {
            "application/vnd.jupyter.widget-view+json": {
              "model_id": "5373d81952e241298490997a23892294",
              "version_minor": 0,
              "version_major": 2
            },
            "text/plain": [
              "Downloading:   0%|          | 0.00/455k [00:00<?, ?B/s]"
            ]
          },
          "metadata": {}
        },
        {
          "output_type": "display_data",
          "data": {
            "application/vnd.jupyter.widget-view+json": {
              "model_id": "3a99282828214799b379dc6388ab2bb4",
              "version_minor": 0,
              "version_major": 2
            },
            "text/plain": [
              "Downloading:   0%|          | 0.00/570 [00:00<?, ?B/s]"
            ]
          },
          "metadata": {}
        },
        {
          "output_type": "execute_result",
          "data": {
            "text/plain": [
              "362"
            ]
          },
          "metadata": {},
          "execution_count": 21
        }
      ]
    },
    {
      "cell_type": "code",
      "metadata": {
        "collapsed": true,
        "jupyter": {
          "source_hidden": false,
          "outputs_hidden": false
        },
        "nteract": {
          "transient": {
            "deleting": false
          }
        },
        "gather": {
          "logged": 1628541972549
        },
        "id": "CdB1Fa5Bztpt"
      },
      "source": [
        "sample_txt = 'the roads look really bad to me 😏 i think we need another day without school 👌'"
      ],
      "execution_count": 22,
      "outputs": []
    },
    {
      "cell_type": "code",
      "metadata": {
        "collapsed": true,
        "jupyter": {
          "source_hidden": false,
          "outputs_hidden": false
        },
        "nteract": {
          "transient": {
            "deleting": false
          }
        },
        "gather": {
          "logged": 1628541975382
        },
        "colab": {
          "base_uri": "https://localhost:8080/"
        },
        "id": "7KRki6qaztpu",
        "outputId": "8090bf90-ef0e-445f-8b6e-8c7145234ff7"
      },
      "source": [
        "tokens = tokenizer.tokenize(sample_txt)\n",
        "token_ids = tokenizer.convert_tokens_to_ids(tokens)\n",
        "\n",
        "print(f' Sentence: {sample_txt}')\n",
        "print(f'   Tokens: {tokens}')\n",
        "print(f'Token IDs: {token_ids}')"
      ],
      "execution_count": 23,
      "outputs": [
        {
          "output_type": "stream",
          "name": "stdout",
          "text": [
            " Sentence: the roads look really bad to me 😏 i think we need another day without school 👌\n",
            "   Tokens: ['the', 'roads', 'look', 'really', 'bad', 'to', 'me', '😏', 'i', 'think', 'we', 'need', 'another', 'day', 'without', 'school', '👌']\n",
            "Token IDs: [1996, 4925, 2298, 2428, 2919, 2000, 2033, 30720, 1045, 2228, 2057, 2342, 2178, 2154, 2302, 2082, 30725]\n"
          ]
        }
      ]
    },
    {
      "cell_type": "code",
      "metadata": {
        "collapsed": true,
        "jupyter": {
          "source_hidden": false,
          "outputs_hidden": false
        },
        "nteract": {
          "transient": {
            "deleting": false
          }
        },
        "gather": {
          "logged": 1628541980729
        },
        "colab": {
          "base_uri": "https://localhost:8080/"
        },
        "id": "8TGOBaXEztpw",
        "outputId": "ac91be35-eee8-4781-ebb2-8526a76141b4"
      },
      "source": [
        "encoding = tokenizer.encode_plus(\n",
        "  sample_txt,\n",
        "  max_length=32,\n",
        "  add_special_tokens=True, # Add '[CLS]' and '[SEP]'\n",
        "  return_token_type_ids=False,\n",
        "  pad_to_max_length=True,\n",
        "  return_attention_mask=True,\n",
        "  return_tensors='pt',  # Return PyTorch tensors\n",
        ")\n",
        "\n",
        "encoding.keys()"
      ],
      "execution_count": 24,
      "outputs": [
        {
          "output_type": "stream",
          "name": "stderr",
          "text": [
            "Truncation was not explicitly activated but `max_length` is provided a specific value, please use `truncation=True` to explicitly truncate examples to max length. Defaulting to 'longest_first' truncation strategy. If you encode pairs of sequences (GLUE-style) with the tokenizer you can select this strategy more precisely by providing a specific strategy to `truncation`.\n",
            "/usr/local/lib/python3.7/dist-packages/transformers/tokenization_utils_base.py:2217: FutureWarning: The `pad_to_max_length` argument is deprecated and will be removed in a future version, use `padding=True` or `padding='longest'` to pad to the longest sequence in the batch, or use `padding='max_length'` to pad to a max length. In this case, you can give a specific length with `max_length` (e.g. `max_length=45`) or leave max_length to None to pad to the maximal input size of the model (e.g. 512 for Bert).\n",
            "  FutureWarning,\n"
          ]
        },
        {
          "output_type": "execute_result",
          "data": {
            "text/plain": [
              "dict_keys(['input_ids', 'attention_mask'])"
            ]
          },
          "metadata": {},
          "execution_count": 24
        }
      ]
    },
    {
      "cell_type": "code",
      "metadata": {
        "collapsed": true,
        "jupyter": {
          "source_hidden": false,
          "outputs_hidden": false
        },
        "nteract": {
          "transient": {
            "deleting": false
          }
        },
        "gather": {
          "logged": 1628541984214
        },
        "colab": {
          "base_uri": "https://localhost:8080/"
        },
        "id": "mnIUMAqDztpx",
        "outputId": "e4a79df3-fbde-4b50-d07c-26480471baeb"
      },
      "source": [
        "print(len(encoding['input_ids'][0]))\n",
        "encoding['input_ids'][0]"
      ],
      "execution_count": 25,
      "outputs": [
        {
          "output_type": "stream",
          "name": "stdout",
          "text": [
            "32\n"
          ]
        },
        {
          "output_type": "execute_result",
          "data": {
            "text/plain": [
              "tensor([  101,  1996,  4925,  2298,  2428,  2919,  2000,  2033, 30720,  1045,\n",
              "         2228,  2057,  2342,  2178,  2154,  2302,  2082, 30725,   102,     0,\n",
              "            0,     0,     0,     0,     0,     0,     0,     0,     0,     0,\n",
              "            0,     0])"
            ]
          },
          "metadata": {},
          "execution_count": 25
        }
      ]
    },
    {
      "cell_type": "code",
      "metadata": {
        "collapsed": true,
        "jupyter": {
          "source_hidden": false,
          "outputs_hidden": false
        },
        "nteract": {
          "transient": {
            "deleting": false
          }
        },
        "gather": {
          "logged": 1628541986847
        },
        "colab": {
          "base_uri": "https://localhost:8080/"
        },
        "id": "KG59VX9Jztpy",
        "outputId": "25dc3b5d-e1a4-406a-a64c-edaa33f059e2"
      },
      "source": [
        "print(len(encoding['attention_mask'][0]))\n",
        "encoding['attention_mask']"
      ],
      "execution_count": 26,
      "outputs": [
        {
          "output_type": "stream",
          "name": "stdout",
          "text": [
            "32\n"
          ]
        },
        {
          "output_type": "execute_result",
          "data": {
            "text/plain": [
              "tensor([[1, 1, 1, 1, 1, 1, 1, 1, 1, 1, 1, 1, 1, 1, 1, 1, 1, 1, 1, 0, 0, 0, 0, 0,\n",
              "         0, 0, 0, 0, 0, 0, 0, 0]])"
            ]
          },
          "metadata": {},
          "execution_count": 26
        }
      ]
    },
    {
      "cell_type": "code",
      "metadata": {
        "collapsed": true,
        "jupyter": {
          "source_hidden": false,
          "outputs_hidden": false
        },
        "nteract": {
          "transient": {
            "deleting": false
          }
        },
        "gather": {
          "logged": 1628541989596
        },
        "colab": {
          "base_uri": "https://localhost:8080/"
        },
        "id": "8u_nUjq-ztpy",
        "outputId": "9a48eea1-a1a8-4993-8002-677652fefd2a"
      },
      "source": [
        "tokenizer.convert_ids_to_tokens(encoding['input_ids'][0])"
      ],
      "execution_count": 27,
      "outputs": [
        {
          "output_type": "execute_result",
          "data": {
            "text/plain": [
              "['[CLS]',\n",
              " 'the',\n",
              " 'roads',\n",
              " 'look',\n",
              " 'really',\n",
              " 'bad',\n",
              " 'to',\n",
              " 'me',\n",
              " '😏',\n",
              " 'i',\n",
              " 'think',\n",
              " 'we',\n",
              " 'need',\n",
              " 'another',\n",
              " 'day',\n",
              " 'without',\n",
              " 'school',\n",
              " '👌',\n",
              " '[SEP]',\n",
              " '[PAD]',\n",
              " '[PAD]',\n",
              " '[PAD]',\n",
              " '[PAD]',\n",
              " '[PAD]',\n",
              " '[PAD]',\n",
              " '[PAD]',\n",
              " '[PAD]',\n",
              " '[PAD]',\n",
              " '[PAD]',\n",
              " '[PAD]',\n",
              " '[PAD]',\n",
              " '[PAD]']"
            ]
          },
          "metadata": {},
          "execution_count": 27
        }
      ]
    },
    {
      "cell_type": "code",
      "metadata": {
        "collapsed": true,
        "jupyter": {
          "source_hidden": false,
          "outputs_hidden": false
        },
        "nteract": {
          "transient": {
            "deleting": false
          }
        },
        "gather": {
          "logged": 1628541992915
        },
        "id": "mZDQdBGXztpz"
      },
      "source": [
        "token_lens = []\n",
        "\n",
        "for txt in df.Tweet:\n",
        "  tokens = tokenizer.encode(txt, max_length=256)\n",
        "  token_lens.append(len(tokens))"
      ],
      "execution_count": 28,
      "outputs": []
    },
    {
      "cell_type": "code",
      "metadata": {
        "collapsed": true,
        "jupyter": {
          "source_hidden": false,
          "outputs_hidden": false
        },
        "nteract": {
          "transient": {
            "deleting": false
          }
        },
        "gather": {
          "logged": 1628541994652
        },
        "colab": {
          "base_uri": "https://localhost:8080/",
          "height": 336
        },
        "id": "4TcEmypFztp0",
        "outputId": "deb9e4f8-35b6-476f-e26d-d831f8415b8a"
      },
      "source": [
        "sns.distplot(token_lens)\n",
        "plt.xlim([0, 256]);\n",
        "plt.xlabel('Token count');"
      ],
      "execution_count": 29,
      "outputs": [
        {
          "output_type": "stream",
          "name": "stderr",
          "text": [
            "/usr/local/lib/python3.7/dist-packages/seaborn/distributions.py:2619: FutureWarning: `distplot` is a deprecated function and will be removed in a future version. Please adapt your code to use either `displot` (a figure-level function with similar flexibility) or `histplot` (an axes-level function for histograms).\n",
            "  warnings.warn(msg, FutureWarning)\n"
          ]
        },
        {
          "output_type": "display_data",
          "data": {
            "image/png": "[encoded data removed]",
            "text/plain": [
              "<Figure size 432x288 with 1 Axes>"
            ]
          },
          "metadata": {
            "needs_background": "light"
          }
        }
      ]
    },
    {
      "cell_type": "code",
      "metadata": {
        "collapsed": true,
        "jupyter": {
          "source_hidden": false,
          "outputs_hidden": false
        },
        "nteract": {
          "transient": {
            "deleting": false
          }
        },
        "gather": {
          "logged": 1628541996528
        },
        "id": "YHFiORafztp1"
      },
      "source": [
        "MAX_LEN = 128"
      ],
      "execution_count": 30,
      "outputs": []
    },
    {
      "cell_type": "code",
      "metadata": {
        "collapsed": true,
        "jupyter": {
          "source_hidden": false,
          "outputs_hidden": false
        },
        "nteract": {
          "transient": {
            "deleting": false
          }
        },
        "gather": {
          "logged": 1628541999181
        },
        "id": "CMuzinY3ztp1"
      },
      "source": [
        "class SarcasmDataset(Dataset):\n",
        "\n",
        "  def __init__(self, tweets, targets, tokenizer, max_len):\n",
        "    self.tweets = tweets\n",
        "    self.targets = targets\n",
        "    self.tokenizer = tokenizer\n",
        "    self.max_len = max_len\n",
        "  \n",
        "  def __len__(self):\n",
        "    return len(self.tweets)\n",
        "  \n",
        "  def __getitem__(self, item):\n",
        "    tweet = str(self.tweets[item])\n",
        "    target = self.targets[item]\n",
        "\n",
        "    encoding = self.tokenizer.encode_plus(\n",
        "      tweet,\n",
        "      add_special_tokens=True,\n",
        "      max_length=self.max_len,\n",
        "      return_token_type_ids=False,\n",
        "      pad_to_max_length=True,\n",
        "      return_attention_mask=True,\n",
        "      return_tensors='pt',\n",
        "    )\n",
        "\n",
        "    return {\n",
        "      'tweet_text': tweet,\n",
        "      'input_ids': encoding['input_ids'].flatten(),\n",
        "      'attention_mask': encoding['attention_mask'].flatten(),\n",
        "      'targets': torch.tensor(target, dtype=torch.long)\n",
        "    }"
      ],
      "execution_count": 31,
      "outputs": []
    },
    {
      "cell_type": "code",
      "metadata": {
        "collapsed": true,
        "jupyter": {
          "source_hidden": false,
          "outputs_hidden": false
        },
        "nteract": {
          "transient": {
            "deleting": false
          }
        },
        "gather": {
          "logged": 1628542000583
        },
        "id": "14LqRdijztp2"
      },
      "source": [
        "RANDOM_SEED = 42\n",
        "\n",
        "np.random.seed(RANDOM_SEED)\n",
        "\n",
        "torch.manual_seed(RANDOM_SEED)\n",
        "\n",
        "device = torch.device(\"cuda:0\" if torch.cuda.is_available() else \"cpu\")"
      ],
      "execution_count": 32,
      "outputs": []
    },
    {
      "cell_type": "code",
      "metadata": {
        "colab": {
          "base_uri": "https://localhost:8080/"
        },
        "id": "7msK5fVwEsGd",
        "outputId": "5ae0a183-a354-4d81-940e-97d6a119745d"
      },
      "source": [
        "print(device)"
      ],
      "execution_count": 33,
      "outputs": [
        {
          "output_type": "stream",
          "name": "stdout",
          "text": [
            "cuda:0\n"
          ]
        }
      ]
    },
    {
      "cell_type": "code",
      "metadata": {
        "collapsed": true,
        "jupyter": {
          "source_hidden": false,
          "outputs_hidden": false
        },
        "nteract": {
          "transient": {
            "deleting": false
          }
        },
        "gather": {
          "logged": 1628542012951
        },
        "id": "Z9zIi1Ohztp2"
      },
      "source": [
        "df_train, df_test = train_test_split(df, test_size=0.2, random_state=RANDOM_SEED)\n",
        "df_val, df_test = train_test_split(df_test, test_size=0.3, random_state=RANDOM_SEED)"
      ],
      "execution_count": 34,
      "outputs": []
    },
    {
      "cell_type": "code",
      "metadata": {
        "collapsed": true,
        "jupyter": {
          "source_hidden": false,
          "outputs_hidden": false
        },
        "nteract": {
          "transient": {
            "deleting": false
          }
        },
        "gather": {
          "logged": 1628542018012
        },
        "colab": {
          "base_uri": "https://localhost:8080/"
        },
        "id": "zXtoaygLztp2",
        "outputId": "b32e593d-ad90-474a-b6e1-f23b4a050c87"
      },
      "source": [
        "df_train.shape, df_val.shape, df_test.shape"
      ],
      "execution_count": 35,
      "outputs": [
        {
          "output_type": "execute_result",
          "data": {
            "text/plain": [
              "((51387, 3), (8992, 3), (3855, 3))"
            ]
          },
          "metadata": {},
          "execution_count": 35
        }
      ]
    },
    {
      "cell_type": "code",
      "metadata": {
        "collapsed": true,
        "jupyter": {
          "source_hidden": false,
          "outputs_hidden": false
        },
        "nteract": {
          "transient": {
            "deleting": false
          }
        },
        "gather": {
          "logged": 1628542020610
        },
        "id": "3_O37NR9ztp3"
      },
      "source": [
        "def create_data_loader(df, tokenizer, max_len, batch_size):\n",
        "  ds = SarcasmDataset(\n",
        "    tweets=df.Tweet.to_numpy(),\n",
        "    targets=df.Label.to_numpy(),\n",
        "    tokenizer=tokenizer,\n",
        "    max_len=max_len\n",
        "  )\n",
        "\n",
        "  return DataLoader(\n",
        "    ds,\n",
        "    batch_size=batch_size,\n",
        "    num_workers=4\n",
        "  )"
      ],
      "execution_count": 36,
      "outputs": []
    },
    {
      "cell_type": "code",
      "metadata": {
        "collapsed": true,
        "jupyter": {
          "source_hidden": false,
          "outputs_hidden": false
        },
        "nteract": {
          "transient": {
            "deleting": false
          }
        },
        "gather": {
          "logged": 1628542023124
        },
        "id": "wgyQZJnWztp4"
      },
      "source": [
        "BATCH_SIZE = 32\n",
        "\n",
        "train_data_loader = create_data_loader(df_train, tokenizer, MAX_LEN, BATCH_SIZE)\n",
        "val_data_loader = create_data_loader(df_val, tokenizer, MAX_LEN, BATCH_SIZE)\n",
        "test_data_loader = create_data_loader(df_test, tokenizer, MAX_LEN, BATCH_SIZE)"
      ],
      "execution_count": 37,
      "outputs": []
    },
    {
      "cell_type": "code",
      "metadata": {
        "collapsed": true,
        "jupyter": {
          "source_hidden": false,
          "outputs_hidden": false
        },
        "nteract": {
          "transient": {
            "deleting": false
          }
        },
        "gather": {
          "logged": 1628542025689
        },
        "colab": {
          "base_uri": "https://localhost:8080/"
        },
        "id": "btiS9udFztp4",
        "outputId": "9ef2e83a-829a-4d3f-8311-fcabfc1ea91e"
      },
      "source": [
        "data = next(iter(train_data_loader))\n",
        "data.keys()"
      ],
      "execution_count": 38,
      "outputs": [
        {
          "output_type": "stream",
          "name": "stderr",
          "text": [
            "/usr/local/lib/python3.7/dist-packages/transformers/tokenization_utils_base.py:2217: FutureWarning: The `pad_to_max_length` argument is deprecated and will be removed in a future version, use `padding=True` or `padding='longest'` to pad to the longest sequence in the batch, or use `padding='max_length'` to pad to a max length. In this case, you can give a specific length with `max_length` (e.g. `max_length=45`) or leave max_length to None to pad to the maximal input size of the model (e.g. 512 for Bert).\n",
            "  FutureWarning,\n",
            "/usr/local/lib/python3.7/dist-packages/transformers/tokenization_utils_base.py:2217: FutureWarning: The `pad_to_max_length` argument is deprecated and will be removed in a future version, use `padding=True` or `padding='longest'` to pad to the longest sequence in the batch, or use `padding='max_length'` to pad to a max length. In this case, you can give a specific length with `max_length` (e.g. `max_length=45`) or leave max_length to None to pad to the maximal input size of the model (e.g. 512 for Bert).\n",
            "  FutureWarning,\n",
            "/usr/local/lib/python3.7/dist-packages/transformers/tokenization_utils_base.py:2217: FutureWarning: The `pad_to_max_length` argument is deprecated and will be removed in a future version, use `padding=True` or `padding='longest'` to pad to the longest sequence in the batch, or use `padding='max_length'` to pad to a max length. In this case, you can give a specific length with `max_length` (e.g. `max_length=45`) or leave max_length to None to pad to the maximal input size of the model (e.g. 512 for Bert).\n",
            "  FutureWarning,\n",
            "/usr/local/lib/python3.7/dist-packages/transformers/tokenization_utils_base.py:2217: FutureWarning: The `pad_to_max_length` argument is deprecated and will be removed in a future version, use `padding=True` or `padding='longest'` to pad to the longest sequence in the batch, or use `padding='max_length'` to pad to a max length. In this case, you can give a specific length with `max_length` (e.g. `max_length=45`) or leave max_length to None to pad to the maximal input size of the model (e.g. 512 for Bert).\n",
            "  FutureWarning,\n"
          ]
        },
        {
          "output_type": "execute_result",
          "data": {
            "text/plain": [
              "dict_keys(['tweet_text', 'input_ids', 'attention_mask', 'targets'])"
            ]
          },
          "metadata": {},
          "execution_count": 38
        }
      ]
    },
    {
      "cell_type": "code",
      "metadata": {
        "collapsed": true,
        "jupyter": {
          "source_hidden": false,
          "outputs_hidden": false
        },
        "nteract": {
          "transient": {
            "deleting": false
          }
        },
        "gather": {
          "logged": 1628542028031
        },
        "colab": {
          "base_uri": "https://localhost:8080/"
        },
        "id": "RMU_H5e7ztp5",
        "outputId": "e88d0d34-91d4-4479-e086-93725b26a7cc"
      },
      "source": [
        "print(data['input_ids'].shape)\n",
        "print(data['attention_mask'].shape)\n",
        "print(data['targets'].shape)"
      ],
      "execution_count": 39,
      "outputs": [
        {
          "output_type": "stream",
          "name": "stdout",
          "text": [
            "torch.Size([32, 128])\n",
            "torch.Size([32, 128])\n",
            "torch.Size([32])\n"
          ]
        }
      ]
    },
    {
      "cell_type": "code",
      "metadata": {
        "collapsed": true,
        "jupyter": {
          "source_hidden": false,
          "outputs_hidden": false
        },
        "nteract": {
          "transient": {
            "deleting": false
          }
        },
        "gather": {
          "logged": 1628542051315
        },
        "colab": {
          "base_uri": "https://localhost:8080/",
          "height": 143,
          "referenced_widgets": [
            "4c63eb593ab54183ad383bd68b0943d6",
            "31fbdf05193e4f8ba8f89ff45ba13098",
            "5a615c3dd68844898c3de862849d0e07",
            "0c3d3a038f00453493eb0fa348118fb4",
            "484f211210664327a4c5a45802e65aa0",
            "3541e0babe01482e859f21ea00ada89a",
            "eff4f4b767a34cc084c381b7f8cbe463",
            "98a205b9e4714ca183a3c0d3fa438b5c",
            "8ba80a9d1b30468e8153312369fce174",
            "f82d3a05d7574947813187123e3921cf",
            "a37221fb0c514d4eb820a696f18b8e19"
          ]
        },
        "id": "sTTaFbSBztp5",
        "outputId": "c5a0662d-0904-45b8-f2b8-383f36a5016c"
      },
      "source": [
        "bert_model_1 = BertModel.from_pretrained(PRE_TRAINED_MODEL_NAME)\n",
        "bert_model_1.resize_token_embeddings(len(tokenizer))"
      ],
      "execution_count": 40,
      "outputs": [
        {
          "output_type": "display_data",
          "data": {
            "application/vnd.jupyter.widget-view+json": {
              "model_id": "4c63eb593ab54183ad383bd68b0943d6",
              "version_minor": 0,
              "version_major": 2
            },
            "text/plain": [
              "Downloading:   0%|          | 0.00/420M [00:00<?, ?B/s]"
            ]
          },
          "metadata": {}
        },
        {
          "output_type": "stream",
          "name": "stderr",
          "text": [
            "Some weights of the model checkpoint at bert-base-uncased were not used when initializing BertModel: ['cls.predictions.transform.dense.weight', 'cls.predictions.transform.LayerNorm.weight', 'cls.seq_relationship.weight', 'cls.predictions.transform.dense.bias', 'cls.predictions.bias', 'cls.predictions.decoder.weight', 'cls.seq_relationship.bias', 'cls.predictions.transform.LayerNorm.bias']\n",
            "- This IS expected if you are initializing BertModel from the checkpoint of a model trained on another task or with another architecture (e.g. initializing a BertForSequenceClassification model from a BertForPreTraining model).\n",
            "- This IS NOT expected if you are initializing BertModel from the checkpoint of a model that you expect to be exactly identical (initializing a BertForSequenceClassification model from a BertForSequenceClassification model).\n"
          ]
        },
        {
          "output_type": "execute_result",
          "data": {
            "text/plain": [
              "Embedding(30884, 768)"
            ]
          },
          "metadata": {},
          "execution_count": 40
        }
      ]
    },
    {
      "cell_type": "code",
      "metadata": {
        "collapsed": true,
        "jupyter": {
          "source_hidden": false,
          "outputs_hidden": false
        },
        "nteract": {
          "transient": {
            "deleting": false
          }
        },
        "gather": {
          "logged": 1628542052197
        },
        "id": "lNE8FFcDztp6"
      },
      "source": [
        "last_hidden_state, pooled_output = bert_model_1(\n",
        "  input_ids=encoding['input_ids'], \n",
        "  attention_mask=encoding['attention_mask'],\n",
        "  return_dict = False\n",
        ")"
      ],
      "execution_count": 41,
      "outputs": []
    },
    {
      "cell_type": "code",
      "metadata": {
        "collapsed": true,
        "jupyter": {
          "source_hidden": false,
          "outputs_hidden": false
        },
        "nteract": {
          "transient": {
            "deleting": false
          }
        },
        "gather": {
          "logged": 1628542053097
        },
        "colab": {
          "base_uri": "https://localhost:8080/"
        },
        "id": "K3NOI5vhztp6",
        "outputId": "186e6d14-3e53-43cd-efa1-b15cbc036685"
      },
      "source": [
        "last_hidden_state.shape"
      ],
      "execution_count": 42,
      "outputs": [
        {
          "output_type": "execute_result",
          "data": {
            "text/plain": [
              "torch.Size([1, 32, 768])"
            ]
          },
          "metadata": {},
          "execution_count": 42
        }
      ]
    },
    {
      "cell_type": "code",
      "metadata": {
        "collapsed": true,
        "jupyter": {
          "source_hidden": false,
          "outputs_hidden": false
        },
        "nteract": {
          "transient": {
            "deleting": false
          }
        },
        "gather": {
          "logged": 1628542057526
        },
        "colab": {
          "base_uri": "https://localhost:8080/"
        },
        "id": "QvGHv4fAztp7",
        "outputId": "f7126247-2757-4c2c-c366-f345f1b20f5b"
      },
      "source": [
        "bert_model_1.config.hidden_size"
      ],
      "execution_count": 43,
      "outputs": [
        {
          "output_type": "execute_result",
          "data": {
            "text/plain": [
              "768"
            ]
          },
          "metadata": {},
          "execution_count": 43
        }
      ]
    },
    {
      "cell_type": "code",
      "metadata": {
        "collapsed": true,
        "jupyter": {
          "source_hidden": false,
          "outputs_hidden": false
        },
        "nteract": {
          "transient": {
            "deleting": false
          }
        },
        "gather": {
          "logged": 1628542059145
        },
        "colab": {
          "base_uri": "https://localhost:8080/"
        },
        "id": "5q8PdTsdztp7",
        "outputId": "fb748b19-5537-45c6-ca8b-ef0fd0b78f25"
      },
      "source": [
        "pooled_output.shape"
      ],
      "execution_count": 44,
      "outputs": [
        {
          "output_type": "execute_result",
          "data": {
            "text/plain": [
              "torch.Size([1, 768])"
            ]
          },
          "metadata": {},
          "execution_count": 44
        }
      ]
    },
    {
      "cell_type": "code",
      "metadata": {
        "collapsed": true,
        "jupyter": {
          "source_hidden": false,
          "outputs_hidden": false
        },
        "nteract": {
          "transient": {
            "deleting": false
          }
        },
        "gather": {
          "logged": 1628542062775
        },
        "id": "ezq-1nJzztp8"
      },
      "source": [
        "class SarcasmClassifier(nn.Module):\n",
        "\n",
        "  def __init__(self, n_classes):\n",
        "    super(SarcasmClassifier, self).__init__()\n",
        "    self.bert = bert_model_1\n",
        "    self.drop = nn.Dropout(p=0.4)\n",
        "    self.out = nn.Linear(self.bert.config.hidden_size, n_classes)\n",
        "  \n",
        "  def forward(self, input_ids, attention_mask):\n",
        "    returned = self.bert(\n",
        "      input_ids=input_ids,\n",
        "      attention_mask=attention_mask\n",
        "    )\n",
        "    pooled_output = returned[\"pooler_output\"]\n",
        "    output = self.drop(pooled_output)\n",
        "    return self.out(output)"
      ],
      "execution_count": 45,
      "outputs": []
    },
    {
      "cell_type": "code",
      "metadata": {
        "collapsed": true,
        "jupyter": {
          "source_hidden": false,
          "outputs_hidden": false
        },
        "nteract": {
          "transient": {
            "deleting": false
          }
        },
        "gather": {
          "logged": 1628543480185
        },
        "id": "wnKxnnaqztp8"
      },
      "source": [
        "class_names=['1', '0']"
      ],
      "execution_count": 46,
      "outputs": []
    },
    {
      "cell_type": "code",
      "metadata": {
        "collapsed": true,
        "jupyter": {
          "source_hidden": false,
          "outputs_hidden": false
        },
        "nteract": {
          "transient": {
            "deleting": false
          }
        },
        "gather": {
          "logged": 1628542067080
        },
        "colab": {
          "base_uri": "https://localhost:8080/"
        },
        "id": "8taxt9wuztp9",
        "outputId": "05aa2510-7808-4f4d-8fd0-4e99dd09ba0a"
      },
      "source": [
        "len(class_names)"
      ],
      "execution_count": 47,
      "outputs": [
        {
          "output_type": "execute_result",
          "data": {
            "text/plain": [
              "2"
            ]
          },
          "metadata": {},
          "execution_count": 47
        }
      ]
    },
    {
      "cell_type": "code",
      "metadata": {
        "id": "ZgWI4j3aSwDl"
      },
      "source": [
        "model = BertForSequenceClassification.from_pretrained(\n",
        "    \"bert-base-uncased\", # Use the 12-layer BERT model, with an uncased vocab.\n",
        "    num_labels = 2, # The number of output labels--2 for binary classification.\n",
        "                    # You can increase this for multi-class tasks.   \n",
        "    output_attentions = False, # Whether the model returns attentions weights.\n",
        "    output_hidden_states = False, # Whether the model returns all hidden-states.\n",
        ")"
      ],
      "execution_count": null,
      "outputs": []
    },
    {
      "cell_type": "code",
      "metadata": {
        "collapsed": true,
        "jupyter": {
          "source_hidden": false,
          "outputs_hidden": false
        },
        "nteract": {
          "transient": {
            "deleting": false
          }
        },
        "gather": {
          "logged": 1628542100563
        },
        "id": "VaWv_jkoztp9"
      },
      "source": [
        "model = SarcasmClassifier(len(class_names))\n",
        "model = model.to(device)"
      ],
      "execution_count": 48,
      "outputs": []
    },
    {
      "cell_type": "code",
      "metadata": {
        "collapsed": true,
        "jupyter": {
          "source_hidden": false,
          "outputs_hidden": false
        },
        "nteract": {
          "transient": {
            "deleting": false
          }
        },
        "gather": {
          "logged": 1628542105754
        },
        "colab": {
          "base_uri": "https://localhost:8080/"
        },
        "id": "kzSibseqztp9",
        "outputId": "bc74c196-1779-46bc-c00a-f93f434d5e99"
      },
      "source": [
        "input_ids = data['input_ids'].to(device)\n",
        "attention_mask = data['attention_mask'].to(device)\n",
        "\n",
        "print(input_ids.shape) # batch size x seq length\n",
        "print(attention_mask.shape) # batch size x seq length"
      ],
      "execution_count": 49,
      "outputs": [
        {
          "output_type": "stream",
          "name": "stdout",
          "text": [
            "torch.Size([32, 128])\n",
            "torch.Size([32, 128])\n"
          ]
        }
      ]
    },
    {
      "cell_type": "code",
      "metadata": {
        "collapsed": true,
        "jupyter": {
          "source_hidden": false,
          "outputs_hidden": false
        },
        "nteract": {
          "transient": {
            "deleting": false
          }
        },
        "gather": {
          "logged": 1628542108826
        },
        "colab": {
          "base_uri": "https://localhost:8080/"
        },
        "id": "8g-06PX2ztp-",
        "outputId": "6f5416d5-7d26-440a-acc5-a4df0c9780f5"
      },
      "source": [
        "F.softmax(model(input_ids, attention_mask), dim=1)"
      ],
      "execution_count": 50,
      "outputs": [
        {
          "output_type": "execute_result",
          "data": {
            "text/plain": [
              "tensor([[0.6535, 0.3465],\n",
              "        [0.7070, 0.2930],\n",
              "        [0.6975, 0.3025],\n",
              "        [0.7236, 0.2764],\n",
              "        [0.6486, 0.3514],\n",
              "        [0.7428, 0.2572],\n",
              "        [0.6647, 0.3353],\n",
              "        [0.5529, 0.4471],\n",
              "        [0.6610, 0.3390],\n",
              "        [0.6302, 0.3698],\n",
              "        [0.6822, 0.3178],\n",
              "        [0.5101, 0.4899],\n",
              "        [0.7052, 0.2948],\n",
              "        [0.5233, 0.4767],\n",
              "        [0.5542, 0.4458],\n",
              "        [0.7101, 0.2899],\n",
              "        [0.6313, 0.3687],\n",
              "        [0.6559, 0.3441],\n",
              "        [0.5049, 0.4951],\n",
              "        [0.7062, 0.2938],\n",
              "        [0.6060, 0.3940],\n",
              "        [0.8039, 0.1961],\n",
              "        [0.7293, 0.2707],\n",
              "        [0.5860, 0.4140],\n",
              "        [0.7394, 0.2606],\n",
              "        [0.7298, 0.2702],\n",
              "        [0.7060, 0.2940],\n",
              "        [0.6889, 0.3111],\n",
              "        [0.6499, 0.3501],\n",
              "        [0.6135, 0.3865],\n",
              "        [0.5670, 0.4330],\n",
              "        [0.7212, 0.2788]], device='cuda:0', grad_fn=<SoftmaxBackward>)"
            ]
          },
          "metadata": {},
          "execution_count": 50
        }
      ]
    },
    {
      "cell_type": "code",
      "metadata": {
        "id": "FxaeD6kaLzBN"
      },
      "source": [
        "param_optimizer = list(model.named_parameters())\n",
        "no_decay = ['bias', 'LayerNorm.weight']\n",
        "# Separate the `weight` parameters from the `bias` parameters. \n",
        "# - For the `weight` parameters, this specifies a 'weight_decay_rate' of 0.01. \n",
        "# - For the `bias` parameters, the 'weight_decay_rate' is 0.0. \n",
        "optimizer_grouped_parameters = [\n",
        "    # Filter for all parameters which *don't* include 'bias', 'gamma', 'beta'.\n",
        "    {'params': [p for n, p in param_optimizer if not any(nd in n for nd in no_decay)],\n",
        "     'weight_decay_rate': 0.1},\n",
        "    \n",
        "    # Filter for parameters which *do* include those.\n",
        "    {'params': [p for n, p in param_optimizer if any(nd in n for nd in no_decay)],\n",
        "     'weight_decay_rate': 0.0}\n",
        "]"
      ],
      "execution_count": 51,
      "outputs": []
    },
    {
      "cell_type": "code",
      "metadata": {
        "collapsed": true,
        "jupyter": {
          "source_hidden": false,
          "outputs_hidden": false
        },
        "nteract": {
          "transient": {
            "deleting": false
          }
        },
        "gather": {
          "logged": 1628542133125
        },
        "id": "iL7bzkOxztp-"
      },
      "source": [
        "EPOCHS = 4\n",
        "\n",
        "optimizer = AdamW(optimizer_grouped_parameters, lr=2e-5, eps= 1e-8)\n",
        "total_steps = len(train_data_loader) * EPOCHS\n",
        "\n",
        "scheduler = get_linear_schedule_with_warmup(\n",
        "  optimizer,\n",
        "  num_warmup_steps=0,\n",
        "  num_training_steps=total_steps\n",
        ")\n",
        "\n",
        "loss_fn = nn.CrossEntropyLoss().to(device)"
      ],
      "execution_count": 52,
      "outputs": []
    },
    {
      "cell_type": "code",
      "metadata": {
        "collapsed": true,
        "jupyter": {
          "source_hidden": false,
          "outputs_hidden": false
        },
        "nteract": {
          "transient": {
            "deleting": false
          }
        },
        "gather": {
          "logged": 1628542136704
        },
        "id": "MS46adZbztp_"
      },
      "source": [
        "def train_epoch(\n",
        "  model, \n",
        "  data_loader, \n",
        "  loss_fn, \n",
        "  optimizer, \n",
        "  device, \n",
        "  scheduler, \n",
        "  n_examples\n",
        "):\n",
        "  model = model.train()\n",
        "\n",
        "  losses = []\n",
        "  correct_predictions = 0\n",
        "  \n",
        "  for d in data_loader:\n",
        "    input_ids = d[\"input_ids\"].to(device)\n",
        "    attention_mask = d[\"attention_mask\"].to(device)\n",
        "    targets = d[\"targets\"].to(device)\n",
        "\n",
        "    outputs = model(\n",
        "      input_ids=input_ids,\n",
        "      attention_mask=attention_mask\n",
        "    )\n",
        "\n",
        "    _, preds = torch.max(outputs, dim=1)\n",
        "    loss = loss_fn(outputs, targets)\n",
        "\n",
        "    correct_predictions += torch.sum(preds == targets)\n",
        "    losses.append(loss.item())\n",
        "\n",
        "    loss.backward()\n",
        "    nn.utils.clip_grad_norm_(model.parameters(), max_norm=1.0)\n",
        "    optimizer.step()\n",
        "    scheduler.step()\n",
        "    optimizer.zero_grad()\n",
        "\n",
        "  return correct_predictions.double() / n_examples, np.mean(losses)"
      ],
      "execution_count": 53,
      "outputs": []
    },
    {
      "cell_type": "code",
      "metadata": {
        "collapsed": true,
        "jupyter": {
          "source_hidden": false,
          "outputs_hidden": false
        },
        "nteract": {
          "transient": {
            "deleting": false
          }
        },
        "gather": {
          "logged": 1628542138373
        },
        "id": "543L-EZfztp_"
      },
      "source": [
        "def eval_model(model, data_loader, loss_fn, device, n_examples):\n",
        "  model = model.eval()\n",
        "\n",
        "  losses = []\n",
        "  correct_predictions = 0\n",
        "\n",
        "  with torch.no_grad():\n",
        "    for d in data_loader:\n",
        "      input_ids = d[\"input_ids\"].to(device)\n",
        "      attention_mask = d[\"attention_mask\"].to(device)\n",
        "      targets = d[\"targets\"].to(device)\n",
        "\n",
        "      outputs = model(\n",
        "        input_ids=input_ids,\n",
        "        attention_mask=attention_mask\n",
        "      )\n",
        "      _, preds = torch.max(outputs, dim=1)\n",
        "\n",
        "      loss = loss_fn(outputs, targets)\n",
        "\n",
        "      correct_predictions += torch.sum(preds == targets)\n",
        "      losses.append(loss.item())\n",
        "\n",
        "  return correct_predictions.double() / n_examples, np.mean(losses)"
      ],
      "execution_count": 54,
      "outputs": []
    },
    {
      "cell_type": "code",
      "metadata": {
        "collapsed": true,
        "jupyter": {
          "source_hidden": false,
          "outputs_hidden": false
        },
        "nteract": {
          "transient": {
            "deleting": false
          }
        },
        "colab": {
          "base_uri": "https://localhost:8080/"
        },
        "id": "i9XPrBcpztqA",
        "outputId": "0e65d92a-ab01-4b1a-aaab-259c59e84222"
      },
      "source": [
        "%%time\n",
        "\n",
        "history = defaultdict(list)\n",
        "best_accuracy = 0\n",
        "\n",
        "for epoch in range(EPOCHS):\n",
        "\n",
        "  print(f'Epoch {epoch + 1}/{EPOCHS}')\n",
        "  print('-' * 10)\n",
        "\n",
        "  train_acc, train_loss = train_epoch(\n",
        "    model,\n",
        "    train_data_loader,    \n",
        "    loss_fn, \n",
        "    optimizer, \n",
        "    device, \n",
        "    scheduler, \n",
        "    len(df_train)\n",
        "  )\n",
        "\n",
        "  print(f'Train loss {train_loss} accuracy {train_acc}')\n",
        "\n",
        "  val_acc, val_loss = eval_model(\n",
        "    model,\n",
        "    val_data_loader,\n",
        "    loss_fn, \n",
        "    device, \n",
        "    len(df_val)\n",
        "  )\n",
        "\n",
        "  print(f'Val   loss {val_loss} accuracy {val_acc}')\n",
        "  print()\n",
        "\n",
        "  history['train_acc'].append(train_acc)\n",
        "  history['train_loss'].append(train_loss)\n",
        "  history['val_acc'].append(val_acc)\n",
        "  history['val_loss'].append(val_loss)\n",
        "\n",
        "  if val_acc > best_accuracy:\n",
        "    torch.save(model.state_dict(), 'best_model_state_semeval_6.bin')\n",
        "    best_accuracy = val_acc"
      ],
      "execution_count": 55,
      "outputs": [
        {
          "output_type": "stream",
          "name": "stdout",
          "text": [
            "Epoch 1/4\n",
            "----------\n"
          ]
        },
        {
          "output_type": "stream",
          "name": "stderr",
          "text": [
            "/usr/local/lib/python3.7/dist-packages/transformers/tokenization_utils_base.py:2217: FutureWarning: The `pad_to_max_length` argument is deprecated and will be removed in a future version, use `padding=True` or `padding='longest'` to pad to the longest sequence in the batch, or use `padding='max_length'` to pad to a max length. In this case, you can give a specific length with `max_length` (e.g. `max_length=45`) or leave max_length to None to pad to the maximal input size of the model (e.g. 512 for Bert).\n",
            "  FutureWarning,\n",
            "/usr/local/lib/python3.7/dist-packages/transformers/tokenization_utils_base.py:2217: FutureWarning: The `pad_to_max_length` argument is deprecated and will be removed in a future version, use `padding=True` or `padding='longest'` to pad to the longest sequence in the batch, or use `padding='max_length'` to pad to a max length. In this case, you can give a specific length with `max_length` (e.g. `max_length=45`) or leave max_length to None to pad to the maximal input size of the model (e.g. 512 for Bert).\n",
            "  FutureWarning,\n",
            "/usr/local/lib/python3.7/dist-packages/transformers/tokenization_utils_base.py:2217: FutureWarning: The `pad_to_max_length` argument is deprecated and will be removed in a future version, use `padding=True` or `padding='longest'` to pad to the longest sequence in the batch, or use `padding='max_length'` to pad to a max length. In this case, you can give a specific length with `max_length` (e.g. `max_length=45`) or leave max_length to None to pad to the maximal input size of the model (e.g. 512 for Bert).\n",
            "  FutureWarning,\n",
            "/usr/local/lib/python3.7/dist-packages/transformers/tokenization_utils_base.py:2217: FutureWarning: The `pad_to_max_length` argument is deprecated and will be removed in a future version, use `padding=True` or `padding='longest'` to pad to the longest sequence in the batch, or use `padding='max_length'` to pad to a max length. In this case, you can give a specific length with `max_length` (e.g. `max_length=45`) or leave max_length to None to pad to the maximal input size of the model (e.g. 512 for Bert).\n",
            "  FutureWarning,\n"
          ]
        },
        {
          "output_type": "stream",
          "name": "stdout",
          "text": [
            "Train loss 0.30449182571261046 accuracy 0.8633701130636153\n"
          ]
        },
        {
          "output_type": "stream",
          "name": "stderr",
          "text": [
            "/usr/local/lib/python3.7/dist-packages/transformers/tokenization_utils_base.py:2217: FutureWarning: The `pad_to_max_length` argument is deprecated and will be removed in a future version, use `padding=True` or `padding='longest'` to pad to the longest sequence in the batch, or use `padding='max_length'` to pad to a max length. In this case, you can give a specific length with `max_length` (e.g. `max_length=45`) or leave max_length to None to pad to the maximal input size of the model (e.g. 512 for Bert).\n",
            "  FutureWarning,\n",
            "/usr/local/lib/python3.7/dist-packages/transformers/tokenization_utils_base.py:2217: FutureWarning: The `pad_to_max_length` argument is deprecated and will be removed in a future version, use `padding=True` or `padding='longest'` to pad to the longest sequence in the batch, or use `padding='max_length'` to pad to a max length. In this case, you can give a specific length with `max_length` (e.g. `max_length=45`) or leave max_length to None to pad to the maximal input size of the model (e.g. 512 for Bert).\n",
            "  FutureWarning,\n",
            "/usr/local/lib/python3.7/dist-packages/transformers/tokenization_utils_base.py:2217: FutureWarning: The `pad_to_max_length` argument is deprecated and will be removed in a future version, use `padding=True` or `padding='longest'` to pad to the longest sequence in the batch, or use `padding='max_length'` to pad to a max length. In this case, you can give a specific length with `max_length` (e.g. `max_length=45`) or leave max_length to None to pad to the maximal input size of the model (e.g. 512 for Bert).\n",
            "  FutureWarning,\n",
            "/usr/local/lib/python3.7/dist-packages/transformers/tokenization_utils_base.py:2217: FutureWarning: The `pad_to_max_length` argument is deprecated and will be removed in a future version, use `padding=True` or `padding='longest'` to pad to the longest sequence in the batch, or use `padding='max_length'` to pad to a max length. In this case, you can give a specific length with `max_length` (e.g. `max_length=45`) or leave max_length to None to pad to the maximal input size of the model (e.g. 512 for Bert).\n",
            "  FutureWarning,\n"
          ]
        },
        {
          "output_type": "stream",
          "name": "stdout",
          "text": [
            "Val   loss 0.24664306926981835 accuracy 0.8963523131672597\n",
            "\n",
            "Epoch 2/4\n",
            "----------\n"
          ]
        },
        {
          "output_type": "stream",
          "name": "stderr",
          "text": [
            "/usr/local/lib/python3.7/dist-packages/transformers/tokenization_utils_base.py:2217: FutureWarning: The `pad_to_max_length` argument is deprecated and will be removed in a future version, use `padding=True` or `padding='longest'` to pad to the longest sequence in the batch, or use `padding='max_length'` to pad to a max length. In this case, you can give a specific length with `max_length` (e.g. `max_length=45`) or leave max_length to None to pad to the maximal input size of the model (e.g. 512 for Bert).\n",
            "  FutureWarning,\n",
            "/usr/local/lib/python3.7/dist-packages/transformers/tokenization_utils_base.py:2217: FutureWarning: The `pad_to_max_length` argument is deprecated and will be removed in a future version, use `padding=True` or `padding='longest'` to pad to the longest sequence in the batch, or use `padding='max_length'` to pad to a max length. In this case, you can give a specific length with `max_length` (e.g. `max_length=45`) or leave max_length to None to pad to the maximal input size of the model (e.g. 512 for Bert).\n",
            "  FutureWarning,\n",
            "/usr/local/lib/python3.7/dist-packages/transformers/tokenization_utils_base.py:2217: FutureWarning: The `pad_to_max_length` argument is deprecated and will be removed in a future version, use `padding=True` or `padding='longest'` to pad to the longest sequence in the batch, or use `padding='max_length'` to pad to a max length. In this case, you can give a specific length with `max_length` (e.g. `max_length=45`) or leave max_length to None to pad to the maximal input size of the model (e.g. 512 for Bert).\n",
            "  FutureWarning,\n",
            "/usr/local/lib/python3.7/dist-packages/transformers/tokenization_utils_base.py:2217: FutureWarning: The `pad_to_max_length` argument is deprecated and will be removed in a future version, use `padding=True` or `padding='longest'` to pad to the longest sequence in the batch, or use `padding='max_length'` to pad to a max length. In this case, you can give a specific length with `max_length` (e.g. `max_length=45`) or leave max_length to None to pad to the maximal input size of the model (e.g. 512 for Bert).\n",
            "  FutureWarning,\n"
          ]
        },
        {
          "output_type": "stream",
          "name": "stdout",
          "text": [
            "Train loss 0.18207254023656508 accuracy 0.9289314418043474\n"
          ]
        },
        {
          "output_type": "stream",
          "name": "stderr",
          "text": [
            "/usr/local/lib/python3.7/dist-packages/transformers/tokenization_utils_base.py:2217: FutureWarning: The `pad_to_max_length` argument is deprecated and will be removed in a future version, use `padding=True` or `padding='longest'` to pad to the longest sequence in the batch, or use `padding='max_length'` to pad to a max length. In this case, you can give a specific length with `max_length` (e.g. `max_length=45`) or leave max_length to None to pad to the maximal input size of the model (e.g. 512 for Bert).\n",
            "  FutureWarning,\n",
            "/usr/local/lib/python3.7/dist-packages/transformers/tokenization_utils_base.py:2217: FutureWarning: The `pad_to_max_length` argument is deprecated and will be removed in a future version, use `padding=True` or `padding='longest'` to pad to the longest sequence in the batch, or use `padding='max_length'` to pad to a max length. In this case, you can give a specific length with `max_length` (e.g. `max_length=45`) or leave max_length to None to pad to the maximal input size of the model (e.g. 512 for Bert).\n",
            "  FutureWarning,\n",
            "/usr/local/lib/python3.7/dist-packages/transformers/tokenization_utils_base.py:2217: FutureWarning: The `pad_to_max_length` argument is deprecated and will be removed in a future version, use `padding=True` or `padding='longest'` to pad to the longest sequence in the batch, or use `padding='max_length'` to pad to a max length. In this case, you can give a specific length with `max_length` (e.g. `max_length=45`) or leave max_length to None to pad to the maximal input size of the model (e.g. 512 for Bert).\n",
            "  FutureWarning,\n",
            "/usr/local/lib/python3.7/dist-packages/transformers/tokenization_utils_base.py:2217: FutureWarning: The `pad_to_max_length` argument is deprecated and will be removed in a future version, use `padding=True` or `padding='longest'` to pad to the longest sequence in the batch, or use `padding='max_length'` to pad to a max length. In this case, you can give a specific length with `max_length` (e.g. `max_length=45`) or leave max_length to None to pad to the maximal input size of the model (e.g. 512 for Bert).\n",
            "  FutureWarning,\n"
          ]
        },
        {
          "output_type": "stream",
          "name": "stdout",
          "text": [
            "Val   loss 0.2782824947714169 accuracy 0.8947953736654803\n",
            "\n",
            "Epoch 3/4\n",
            "----------\n"
          ]
        },
        {
          "output_type": "stream",
          "name": "stderr",
          "text": [
            "/usr/local/lib/python3.7/dist-packages/transformers/tokenization_utils_base.py:2217: FutureWarning: The `pad_to_max_length` argument is deprecated and will be removed in a future version, use `padding=True` or `padding='longest'` to pad to the longest sequence in the batch, or use `padding='max_length'` to pad to a max length. In this case, you can give a specific length with `max_length` (e.g. `max_length=45`) or leave max_length to None to pad to the maximal input size of the model (e.g. 512 for Bert).\n",
            "  FutureWarning,\n",
            "/usr/local/lib/python3.7/dist-packages/transformers/tokenization_utils_base.py:2217: FutureWarning: The `pad_to_max_length` argument is deprecated and will be removed in a future version, use `padding=True` or `padding='longest'` to pad to the longest sequence in the batch, or use `padding='max_length'` to pad to a max length. In this case, you can give a specific length with `max_length` (e.g. `max_length=45`) or leave max_length to None to pad to the maximal input size of the model (e.g. 512 for Bert).\n",
            "  FutureWarning,\n",
            "/usr/local/lib/python3.7/dist-packages/transformers/tokenization_utils_base.py:2217: FutureWarning: The `pad_to_max_length` argument is deprecated and will be removed in a future version, use `padding=True` or `padding='longest'` to pad to the longest sequence in the batch, or use `padding='max_length'` to pad to a max length. In this case, you can give a specific length with `max_length` (e.g. `max_length=45`) or leave max_length to None to pad to the maximal input size of the model (e.g. 512 for Bert).\n",
            "  FutureWarning,\n",
            "/usr/local/lib/python3.7/dist-packages/transformers/tokenization_utils_base.py:2217: FutureWarning: The `pad_to_max_length` argument is deprecated and will be removed in a future version, use `padding=True` or `padding='longest'` to pad to the longest sequence in the batch, or use `padding='max_length'` to pad to a max length. In this case, you can give a specific length with `max_length` (e.g. `max_length=45`) or leave max_length to None to pad to the maximal input size of the model (e.g. 512 for Bert).\n",
            "  FutureWarning,\n"
          ]
        },
        {
          "output_type": "stream",
          "name": "stdout",
          "text": [
            "Train loss 0.10909674297623884 accuracy 0.9635510926888123\n"
          ]
        },
        {
          "output_type": "stream",
          "name": "stderr",
          "text": [
            "/usr/local/lib/python3.7/dist-packages/transformers/tokenization_utils_base.py:2217: FutureWarning: The `pad_to_max_length` argument is deprecated and will be removed in a future version, use `padding=True` or `padding='longest'` to pad to the longest sequence in the batch, or use `padding='max_length'` to pad to a max length. In this case, you can give a specific length with `max_length` (e.g. `max_length=45`) or leave max_length to None to pad to the maximal input size of the model (e.g. 512 for Bert).\n",
            "  FutureWarning,\n",
            "/usr/local/lib/python3.7/dist-packages/transformers/tokenization_utils_base.py:2217: FutureWarning: The `pad_to_max_length` argument is deprecated and will be removed in a future version, use `padding=True` or `padding='longest'` to pad to the longest sequence in the batch, or use `padding='max_length'` to pad to a max length. In this case, you can give a specific length with `max_length` (e.g. `max_length=45`) or leave max_length to None to pad to the maximal input size of the model (e.g. 512 for Bert).\n",
            "  FutureWarning,\n",
            "/usr/local/lib/python3.7/dist-packages/transformers/tokenization_utils_base.py:2217: FutureWarning: The `pad_to_max_length` argument is deprecated and will be removed in a future version, use `padding=True` or `padding='longest'` to pad to the longest sequence in the batch, or use `padding='max_length'` to pad to a max length. In this case, you can give a specific length with `max_length` (e.g. `max_length=45`) or leave max_length to None to pad to the maximal input size of the model (e.g. 512 for Bert).\n",
            "  FutureWarning,\n",
            "/usr/local/lib/python3.7/dist-packages/transformers/tokenization_utils_base.py:2217: FutureWarning: The `pad_to_max_length` argument is deprecated and will be removed in a future version, use `padding=True` or `padding='longest'` to pad to the longest sequence in the batch, or use `padding='max_length'` to pad to a max length. In this case, you can give a specific length with `max_length` (e.g. `max_length=45`) or leave max_length to None to pad to the maximal input size of the model (e.g. 512 for Bert).\n",
            "  FutureWarning,\n"
          ]
        },
        {
          "output_type": "stream",
          "name": "stdout",
          "text": [
            "Val   loss 0.4277756817894076 accuracy 0.889679715302491\n",
            "\n",
            "Epoch 4/4\n",
            "----------\n"
          ]
        },
        {
          "output_type": "stream",
          "name": "stderr",
          "text": [
            "/usr/local/lib/python3.7/dist-packages/transformers/tokenization_utils_base.py:2217: FutureWarning: The `pad_to_max_length` argument is deprecated and will be removed in a future version, use `padding=True` or `padding='longest'` to pad to the longest sequence in the batch, or use `padding='max_length'` to pad to a max length. In this case, you can give a specific length with `max_length` (e.g. `max_length=45`) or leave max_length to None to pad to the maximal input size of the model (e.g. 512 for Bert).\n",
            "  FutureWarning,\n",
            "/usr/local/lib/python3.7/dist-packages/transformers/tokenization_utils_base.py:2217: FutureWarning: The `pad_to_max_length` argument is deprecated and will be removed in a future version, use `padding=True` or `padding='longest'` to pad to the longest sequence in the batch, or use `padding='max_length'` to pad to a max length. In this case, you can give a specific length with `max_length` (e.g. `max_length=45`) or leave max_length to None to pad to the maximal input size of the model (e.g. 512 for Bert).\n",
            "  FutureWarning,\n",
            "/usr/local/lib/python3.7/dist-packages/transformers/tokenization_utils_base.py:2217: FutureWarning: The `pad_to_max_length` argument is deprecated and will be removed in a future version, use `padding=True` or `padding='longest'` to pad to the longest sequence in the batch, or use `padding='max_length'` to pad to a max length. In this case, you can give a specific length with `max_length` (e.g. `max_length=45`) or leave max_length to None to pad to the maximal input size of the model (e.g. 512 for Bert).\n",
            "  FutureWarning,\n",
            "/usr/local/lib/python3.7/dist-packages/transformers/tokenization_utils_base.py:2217: FutureWarning: The `pad_to_max_length` argument is deprecated and will be removed in a future version, use `padding=True` or `padding='longest'` to pad to the longest sequence in the batch, or use `padding='max_length'` to pad to a max length. In this case, you can give a specific length with `max_length` (e.g. `max_length=45`) or leave max_length to None to pad to the maximal input size of the model (e.g. 512 for Bert).\n",
            "  FutureWarning,\n"
          ]
        },
        {
          "output_type": "stream",
          "name": "stdout",
          "text": [
            "Train loss 0.06930500159858408 accuracy 0.9796446572090217\n"
          ]
        },
        {
          "output_type": "stream",
          "name": "stderr",
          "text": [
            "/usr/local/lib/python3.7/dist-packages/transformers/tokenization_utils_base.py:2217: FutureWarning: The `pad_to_max_length` argument is deprecated and will be removed in a future version, use `padding=True` or `padding='longest'` to pad to the longest sequence in the batch, or use `padding='max_length'` to pad to a max length. In this case, you can give a specific length with `max_length` (e.g. `max_length=45`) or leave max_length to None to pad to the maximal input size of the model (e.g. 512 for Bert).\n",
            "  FutureWarning,\n",
            "/usr/local/lib/python3.7/dist-packages/transformers/tokenization_utils_base.py:2217: FutureWarning: The `pad_to_max_length` argument is deprecated and will be removed in a future version, use `padding=True` or `padding='longest'` to pad to the longest sequence in the batch, or use `padding='max_length'` to pad to a max length. In this case, you can give a specific length with `max_length` (e.g. `max_length=45`) or leave max_length to None to pad to the maximal input size of the model (e.g. 512 for Bert).\n",
            "  FutureWarning,\n",
            "/usr/local/lib/python3.7/dist-packages/transformers/tokenization_utils_base.py:2217: FutureWarning: The `pad_to_max_length` argument is deprecated and will be removed in a future version, use `padding=True` or `padding='longest'` to pad to the longest sequence in the batch, or use `padding='max_length'` to pad to a max length. In this case, you can give a specific length with `max_length` (e.g. `max_length=45`) or leave max_length to None to pad to the maximal input size of the model (e.g. 512 for Bert).\n",
            "  FutureWarning,\n",
            "/usr/local/lib/python3.7/dist-packages/transformers/tokenization_utils_base.py:2217: FutureWarning: The `pad_to_max_length` argument is deprecated and will be removed in a future version, use `padding=True` or `padding='longest'` to pad to the longest sequence in the batch, or use `padding='max_length'` to pad to a max length. In this case, you can give a specific length with `max_length` (e.g. `max_length=45`) or leave max_length to None to pad to the maximal input size of the model (e.g. 512 for Bert).\n",
            "  FutureWarning,\n"
          ]
        },
        {
          "output_type": "stream",
          "name": "stdout",
          "text": [
            "Val   loss 0.5384298635688544 accuracy 0.8889012455516013\n",
            "\n",
            "CPU times: user 43min 4s, sys: 16.4 s, total: 43min 21s\n",
            "Wall time: 43min 12s\n"
          ]
        }
      ]
    },
    {
      "cell_type": "code",
      "metadata": {
        "collapsed": true,
        "jupyter": {
          "source_hidden": false,
          "outputs_hidden": false
        },
        "nteract": {
          "transient": {
            "deleting": false
          }
        },
        "gather": {
          "logged": 1628543120514
        },
        "colab": {
          "base_uri": "https://localhost:8080/",
          "height": 295
        },
        "id": "zrAPw73lztqA",
        "outputId": "23323645-0907-4439-c6be-9ac5d3d31809"
      },
      "source": [
        "plt.plot(history['train_acc'], label='train accuracy')\n",
        "plt.plot(history['val_acc'], label='validation accuracy')\n",
        "\n",
        "plt.title('Training history')\n",
        "plt.ylabel('Accuracy')\n",
        "plt.xlabel('Epoch')\n",
        "plt.legend()\n",
        "plt.ylim([0, 1]);"
      ],
      "execution_count": 56,
      "outputs": [
        {
          "output_type": "display_data",
          "data": {
            "image/png": "[encoded data removed]",
            "text/plain": [
              "<Figure size 432x288 with 1 Axes>"
            ]
          },
          "metadata": {
            "needs_background": "light"
          }
        }
      ]
    },
    {
      "cell_type": "code",
      "metadata": {
        "collapsed": true,
        "jupyter": {
          "source_hidden": false,
          "outputs_hidden": false
        },
        "nteract": {
          "transient": {
            "deleting": false
          }
        },
        "gather": {
          "logged": 1628543125557
        },
        "colab": {
          "base_uri": "https://localhost:8080/",
          "height": 295
        },
        "id": "-o0p2u2QztqC",
        "outputId": "f0c08469-6eaa-4001-b65f-3494f79192ae"
      },
      "source": [
        "plt.plot(history['train_loss'], label='train loss')\n",
        "plt.plot(history['val_loss'], label='validation loss')\n",
        "\n",
        "plt.title('Training Loss vs Validation Loss')\n",
        "plt.ylabel('Loss')\n",
        "plt.xlabel('Epoch')\n",
        "plt.legend()\n",
        "plt.ylim([0, 1]);"
      ],
      "execution_count": 57,
      "outputs": [
        {
          "output_type": "display_data",
          "data": {
            "image/png": "[encoded data removed]",
            "text/plain": [
              "<Figure size 432x288 with 1 Axes>"
            ]
          },
          "metadata": {
            "needs_background": "light"
          }
        }
      ]
    },
    {
      "cell_type": "code",
      "metadata": {
        "collapsed": true,
        "jupyter": {
          "source_hidden": false,
          "outputs_hidden": false
        },
        "nteract": {
          "transient": {
            "deleting": false
          }
        },
        "gather": {
          "logged": 1628543205227
        },
        "id": "nOJ01_qCztqC"
      },
      "source": [
        "def get_predictions(model, data_loader):\n",
        "  model = model.eval()\n",
        "  \n",
        "  tweet_texts = []\n",
        "  predictions = []\n",
        "  prediction_probs = []\n",
        "  real_values = []\n",
        "\n",
        "  with torch.no_grad():\n",
        "    for d in data_loader:\n",
        "\n",
        "      texts = d[\"tweet_text\"]\n",
        "      input_ids = d[\"input_ids\"].to(device)\n",
        "      attention_mask = d[\"attention_mask\"].to(device)\n",
        "      targets = d[\"targets\"].to(device)\n",
        "\n",
        "      outputs = model(\n",
        "        input_ids=input_ids,\n",
        "        attention_mask=attention_mask\n",
        "      )\n",
        "      _, preds = torch.max(outputs, dim=1)\n",
        "\n",
        "      probs = F.softmax(outputs, dim=1)\n",
        "\n",
        "      tweet_texts.extend(texts)\n",
        "      predictions.extend(preds)\n",
        "      prediction_probs.extend(probs)\n",
        "      real_values.extend(targets)\n",
        "\n",
        "  predictions = torch.stack(predictions).cpu()\n",
        "  prediction_probs = torch.stack(prediction_probs).cpu()\n",
        "  real_values = torch.stack(real_values).cpu()\n",
        "  return tweet_texts, predictions, prediction_probs, real_values"
      ],
      "execution_count": 58,
      "outputs": []
    },
    {
      "cell_type": "code",
      "metadata": {
        "collapsed": true,
        "jupyter": {
          "source_hidden": false,
          "outputs_hidden": false
        },
        "nteract": {
          "transient": {
            "deleting": false
          }
        },
        "gather": {
          "logged": 1628543218167
        },
        "colab": {
          "base_uri": "https://localhost:8080/"
        },
        "id": "qiBUsFAiztqC",
        "outputId": "21a462c9-a6b7-4004-ad4a-1343a9f4e0d7"
      },
      "source": [
        "y_tweet_texts, y_pred, y_pred_probs, y_test = get_predictions(\n",
        "  model,\n",
        "  test_data_loader\n",
        ")"
      ],
      "execution_count": 59,
      "outputs": [
        {
          "output_type": "stream",
          "name": "stderr",
          "text": [
            "/usr/local/lib/python3.7/dist-packages/transformers/tokenization_utils_base.py:2217: FutureWarning: The `pad_to_max_length` argument is deprecated and will be removed in a future version, use `padding=True` or `padding='longest'` to pad to the longest sequence in the batch, or use `padding='max_length'` to pad to a max length. In this case, you can give a specific length with `max_length` (e.g. `max_length=45`) or leave max_length to None to pad to the maximal input size of the model (e.g. 512 for Bert).\n",
            "  FutureWarning,\n",
            "/usr/local/lib/python3.7/dist-packages/transformers/tokenization_utils_base.py:2217: FutureWarning: The `pad_to_max_length` argument is deprecated and will be removed in a future version, use `padding=True` or `padding='longest'` to pad to the longest sequence in the batch, or use `padding='max_length'` to pad to a max length. In this case, you can give a specific length with `max_length` (e.g. `max_length=45`) or leave max_length to None to pad to the maximal input size of the model (e.g. 512 for Bert).\n",
            "  FutureWarning,\n",
            "/usr/local/lib/python3.7/dist-packages/transformers/tokenization_utils_base.py:2217: FutureWarning: The `pad_to_max_length` argument is deprecated and will be removed in a future version, use `padding=True` or `padding='longest'` to pad to the longest sequence in the batch, or use `padding='max_length'` to pad to a max length. In this case, you can give a specific length with `max_length` (e.g. `max_length=45`) or leave max_length to None to pad to the maximal input size of the model (e.g. 512 for Bert).\n",
            "  FutureWarning,\n",
            "/usr/local/lib/python3.7/dist-packages/transformers/tokenization_utils_base.py:2217: FutureWarning: The `pad_to_max_length` argument is deprecated and will be removed in a future version, use `padding=True` or `padding='longest'` to pad to the longest sequence in the batch, or use `padding='max_length'` to pad to a max length. In this case, you can give a specific length with `max_length` (e.g. `max_length=45`) or leave max_length to None to pad to the maximal input size of the model (e.g. 512 for Bert).\n",
            "  FutureWarning,\n"
          ]
        }
      ]
    },
    {
      "cell_type": "code",
      "metadata": {
        "collapsed": true,
        "jupyter": {
          "source_hidden": false,
          "outputs_hidden": false
        },
        "nteract": {
          "transient": {
            "deleting": false
          }
        },
        "gather": {
          "logged": 1628543488243
        },
        "colab": {
          "base_uri": "https://localhost:8080/"
        },
        "id": "4846MMi3ztqD",
        "outputId": "5f8e5117-0f64-4bbc-8fe5-5fe3b2ebbdf2"
      },
      "source": [
        "print(classification_report(y_test, y_pred,labels=[1,0]))"
      ],
      "execution_count": 60,
      "outputs": [
        {
          "output_type": "stream",
          "name": "stdout",
          "text": [
            "              precision    recall  f1-score   support\n",
            "\n",
            "           1       0.76      0.79      0.77       866\n",
            "           0       0.94      0.93      0.93      2989\n",
            "\n",
            "    accuracy                           0.90      3855\n",
            "   macro avg       0.85      0.86      0.85      3855\n",
            "weighted avg       0.90      0.90      0.90      3855\n",
            "\n"
          ]
        }
      ]
    },
    {
      "cell_type": "code",
      "metadata": {
        "collapsed": true,
        "jupyter": {
          "source_hidden": false,
          "outputs_hidden": false
        },
        "nteract": {
          "transient": {
            "deleting": false
          }
        },
        "gather": {
          "logged": 1628543503220
        },
        "colab": {
          "base_uri": "https://localhost:8080/",
          "height": 281
        },
        "id": "1EF_wkj9ztqD",
        "outputId": "558781f1-2b85-429a-ce19-fa5f6a1e2bf5"
      },
      "source": [
        "def show_confusion_matrix(confusion_matrix):\n",
        "  hmap = sns.heatmap(confusion_matrix, annot=True, fmt=\"d\", cmap=\"Blues\")\n",
        "  hmap.yaxis.set_ticklabels(hmap.yaxis.get_ticklabels(), rotation=0, ha='right')\n",
        "  hmap.xaxis.set_ticklabels(hmap.xaxis.get_ticklabels(), rotation=30, ha='right')\n",
        "  plt.ylabel('True sentiment')\n",
        "  plt.xlabel('Predicted sentiment');\n",
        "\n",
        "cm = confusion_matrix(y_test, y_pred)\n",
        "df_cm = pd.DataFrame(cm, index=class_names, columns=class_names)\n",
        "show_confusion_matrix(df_cm)"
      ],
      "execution_count": 61,
      "outputs": [
        {
          "output_type": "display_data",
          "data": {
            "image/png": "[encoded data removed]",
            "text/plain": [
              "<Figure size 432x288 with 2 Axes>"
            ]
          },
          "metadata": {
            "needs_background": "light"
          }
        }
      ]
    },
    {
      "cell_type": "code",
      "metadata": {
        "collapsed": true,
        "jupyter": {
          "source_hidden": false,
          "outputs_hidden": false
        },
        "nteract": {
          "transient": {
            "deleting": false
          }
        },
        "gather": {
          "logged": 1628543511691
        },
        "id": "_xjLqo2mztqE"
      },
      "source": [
        "idx = 2\n",
        "\n",
        "tweet_text = y_tweet_texts[idx]\n",
        "true_sentiment = y_test[idx]\n",
        "pred_df = pd.DataFrame({\n",
        "  'class_names': class_names,\n",
        "  'values': y_pred_probs[idx]\n",
        "})"
      ],
      "execution_count": 62,
      "outputs": []
    },
    {
      "cell_type": "code",
      "metadata": {
        "collapsed": true,
        "jupyter": {
          "source_hidden": false,
          "outputs_hidden": false
        },
        "nteract": {
          "transient": {
            "deleting": false
          }
        },
        "gather": {
          "logged": 1628543513717
        },
        "colab": {
          "base_uri": "https://localhost:8080/"
        },
        "id": "P0xuGj36ztqE",
        "outputId": "1148858a-7deb-49f9-bedd-677cbdcb55ab"
      },
      "source": [
        "print(\"\\n\".join(wrap(tweet_text)))\n",
        "print()\n",
        "print(f'True sentiment: {class_names[true_sentiment]}')"
      ],
      "execution_count": 63,
      "outputs": [
        {
          "output_type": "stream",
          "name": "stdout",
          "text": [
            "i am sorry but whoever took this timeout is high on turkey and rum\n",
            "pitvsbal\n",
            "\n",
            "True sentiment: 1\n"
          ]
        }
      ]
    },
    {
      "cell_type": "code",
      "metadata": {
        "collapsed": true,
        "jupyter": {
          "source_hidden": false,
          "outputs_hidden": false
        },
        "nteract": {
          "transient": {
            "deleting": false
          }
        },
        "gather": {
          "logged": 1628543650153
        },
        "colab": {
          "base_uri": "https://localhost:8080/",
          "height": 279
        },
        "id": "YsmlzNc6ztqF",
        "outputId": "5447f6c0-f329-4a51-d4c1-9ab02443b997"
      },
      "source": [
        "sns.barplot(x='values', y='class_names', data=pred_df, orient='h')\n",
        "plt.ylabel('sentiment')\n",
        "plt.xlabel('probability')\n",
        "plt.xlim([0, 1]);"
      ],
      "execution_count": 64,
      "outputs": [
        {
          "output_type": "display_data",
          "data": {
            "image/png": "[encoded data removed]",
            "text/plain": [
              "<Figure size 432x288 with 1 Axes>"
            ]
          },
          "metadata": {
            "needs_background": "light"
          }
        }
      ]
    },
    {
      "cell_type": "code",
      "metadata": {
        "collapsed": true,
        "jupyter": {
          "source_hidden": false,
          "outputs_hidden": false
        },
        "nteract": {
          "transient": {
            "deleting": false
          }
        },
        "gather": {
          "logged": 1628279937778
        },
        "id": "Hvi_vCLqztqF"
      },
      "source": [
        "review_text = \"Oh thank GOD our entire office email system is down... the day of a big event. Santa you know JUST what to get me for xmas\""
      ],
      "execution_count": 65,
      "outputs": []
    },
    {
      "cell_type": "code",
      "metadata": {
        "collapsed": true,
        "jupyter": {
          "source_hidden": false,
          "outputs_hidden": false
        },
        "nteract": {
          "transient": {
            "deleting": false
          }
        },
        "gather": {
          "logged": 1628543657871
        },
        "colab": {
          "base_uri": "https://localhost:8080/"
        },
        "id": "sZsjnnpxztqG",
        "outputId": "10547ccc-7ea1-4664-edbe-c18d501e10bb"
      },
      "source": [
        "encoded_review = tokenizer.encode_plus(\n",
        "  review_text,\n",
        "  max_length=MAX_LEN,\n",
        "  add_special_tokens=True,\n",
        "  return_token_type_ids=False,\n",
        "  pad_to_max_length=True,\n",
        "  return_attention_mask=True,\n",
        "  return_tensors='pt',\n",
        ")"
      ],
      "execution_count": 66,
      "outputs": [
        {
          "output_type": "stream",
          "name": "stderr",
          "text": [
            "/usr/local/lib/python3.7/dist-packages/transformers/tokenization_utils_base.py:2217: FutureWarning: The `pad_to_max_length` argument is deprecated and will be removed in a future version, use `padding=True` or `padding='longest'` to pad to the longest sequence in the batch, or use `padding='max_length'` to pad to a max length. In this case, you can give a specific length with `max_length` (e.g. `max_length=45`) or leave max_length to None to pad to the maximal input size of the model (e.g. 512 for Bert).\n",
            "  FutureWarning,\n"
          ]
        }
      ]
    },
    {
      "cell_type": "code",
      "metadata": {
        "collapsed": true,
        "jupyter": {
          "source_hidden": false,
          "outputs_hidden": false
        },
        "nteract": {
          "transient": {
            "deleting": false
          }
        },
        "gather": {
          "logged": 1628543661688
        },
        "colab": {
          "base_uri": "https://localhost:8080/"
        },
        "id": "lY99Dxm_ztqG",
        "outputId": "986470e2-c91d-4ec7-d2b6-d6e84709a53d"
      },
      "source": [
        "input_ids = encoded_review['input_ids'].to(device)\n",
        "attention_mask = encoded_review['attention_mask'].to(device)\n",
        "\n",
        "output = model(input_ids, attention_mask)\n",
        "_, prediction = torch.max(output, dim=1)\n",
        "\n",
        "print(f'Tweet text: {review_text}')\n",
        "print(f'Sentiment  : {class_names[prediction]}')"
      ],
      "execution_count": 67,
      "outputs": [
        {
          "output_type": "stream",
          "name": "stdout",
          "text": [
            "Tweet text: Oh thank GOD our entire office email system is down... the day of a big event. Santa you know JUST what to get me for xmas\n",
            "Sentiment  : 0\n"
          ]
        }
      ]
    },
    {
      "cell_type": "code",
      "metadata": {
        "collapsed": true,
        "jupyter": {
          "source_hidden": false,
          "outputs_hidden": false
        },
        "nteract": {
          "transient": {
            "deleting": false
          }
        },
        "id": "d7iMBomJztqH"
      },
      "source": [
        ""
      ],
      "execution_count": null,
      "outputs": []
    }
  ]
}