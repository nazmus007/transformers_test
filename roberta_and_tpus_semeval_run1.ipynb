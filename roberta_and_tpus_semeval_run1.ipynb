{
  "nbformat": 4,
  "nbformat_minor": 0,
  "metadata": {
    "kernelspec": {
      "display_name": "Python 3",
      "language": "python",
      "name": "python3"
    },
    "language_info": {
      "codemirror_mode": {
        "name": "ipython",
        "version": 3
      },
      "file_extension": ".py",
      "mimetype": "text/x-python",
      "name": "python",
      "nbconvert_exporter": "python",
      "pygments_lexer": "ipython3",
      "version": "3.7.6"
    },
    "papermill": {
      "duration": 220.919883,
      "end_time": "2020-08-17T01:02:22.864726",
      "environment_variables": {},
      "exception": null,
      "input_path": "__notebook__.ipynb",
      "output_path": "__notebook__.ipynb",
      "parameters": {},
      "start_time": "2020-08-17T00:58:41.944843",
      "version": "2.1.0"
    },
    "colab": {
      "name": "roberta_and_tpus_semeval_run1.ipynb",
      "provenance": [],
      "machine_shape": "hm",
      "include_colab_link": true
    },
    "accelerator": "TPU",
    "widgets": {
      "application/vnd.jupyter.widget-state+json": {
        "ca2e57d85a0b4d8d87bd7cb1ed015675": {
          "model_module": "@jupyter-widgets/controls",
          "model_name": "HBoxModel",
          "model_module_version": "1.5.0",
          "state": {
            "_view_name": "HBoxView",
            "_dom_classes": [],
            "_model_name": "HBoxModel",
            "_view_module": "@jupyter-widgets/controls",
            "_model_module_version": "1.5.0",
            "_view_count": null,
            "_view_module_version": "1.5.0",
            "box_style": "",
            "layout": "IPY_MODEL_b8f7082c1a974ed4b74fa56791adde61",
            "_model_module": "@jupyter-widgets/controls",
            "children": [
              "IPY_MODEL_50cbf80390ac4be18fb1b6f4992ce34f",
              "IPY_MODEL_bbc82de12ab14c7cb4b3c83d9991b86f",
              "IPY_MODEL_6a45e436225246a0b08bd83dc164fa05"
            ]
          }
        },
        "b8f7082c1a974ed4b74fa56791adde61": {
          "model_module": "@jupyter-widgets/base",
          "model_name": "LayoutModel",
          "model_module_version": "1.2.0",
          "state": {
            "_view_name": "LayoutView",
            "grid_template_rows": null,
            "right": null,
            "justify_content": null,
            "_view_module": "@jupyter-widgets/base",
            "overflow": null,
            "_model_module_version": "1.2.0",
            "_view_count": null,
            "flex_flow": null,
            "width": null,
            "min_width": null,
            "border": null,
            "align_items": null,
            "bottom": null,
            "_model_module": "@jupyter-widgets/base",
            "top": null,
            "grid_column": null,
            "overflow_y": null,
            "overflow_x": null,
            "grid_auto_flow": null,
            "grid_area": null,
            "grid_template_columns": null,
            "flex": null,
            "_model_name": "LayoutModel",
            "justify_items": null,
            "grid_row": null,
            "max_height": null,
            "align_content": null,
            "visibility": null,
            "align_self": null,
            "height": null,
            "min_height": null,
            "padding": null,
            "grid_auto_rows": null,
            "grid_gap": null,
            "max_width": null,
            "order": null,
            "_view_module_version": "1.2.0",
            "grid_template_areas": null,
            "object_position": null,
            "object_fit": null,
            "grid_auto_columns": null,
            "margin": null,
            "display": null,
            "left": null
          }
        },
        "50cbf80390ac4be18fb1b6f4992ce34f": {
          "model_module": "@jupyter-widgets/controls",
          "model_name": "HTMLModel",
          "model_module_version": "1.5.0",
          "state": {
            "_view_name": "HTMLView",
            "style": "IPY_MODEL_b3405d47bf714d3ba7c78a0fcb4cc59f",
            "_dom_classes": [],
            "description": "",
            "_model_name": "HTMLModel",
            "placeholder": "​",
            "_view_module": "@jupyter-widgets/controls",
            "_model_module_version": "1.5.0",
            "value": "Downloading: 100%",
            "_view_count": null,
            "_view_module_version": "1.5.0",
            "description_tooltip": null,
            "_model_module": "@jupyter-widgets/controls",
            "layout": "IPY_MODEL_fc64d10fbc534dbb8165310e5a8d762e"
          }
        },
        "bbc82de12ab14c7cb4b3c83d9991b86f": {
          "model_module": "@jupyter-widgets/controls",
          "model_name": "FloatProgressModel",
          "model_module_version": "1.5.0",
          "state": {
            "_view_name": "ProgressView",
            "style": "IPY_MODEL_36ddcf05763d4a579ffe331f194dd1fb",
            "_dom_classes": [],
            "description": "",
            "_model_name": "FloatProgressModel",
            "bar_style": "success",
            "max": 898823,
            "_view_module": "@jupyter-widgets/controls",
            "_model_module_version": "1.5.0",
            "value": 898823,
            "_view_count": null,
            "_view_module_version": "1.5.0",
            "orientation": "horizontal",
            "min": 0,
            "description_tooltip": null,
            "_model_module": "@jupyter-widgets/controls",
            "layout": "IPY_MODEL_f62c0c1f79654db58d5ffc968f6b8866"
          }
        },
        "6a45e436225246a0b08bd83dc164fa05": {
          "model_module": "@jupyter-widgets/controls",
          "model_name": "HTMLModel",
          "model_module_version": "1.5.0",
          "state": {
            "_view_name": "HTMLView",
            "style": "IPY_MODEL_396e3bcc8fee4c75909cc380e0d44a2f",
            "_dom_classes": [],
            "description": "",
            "_model_name": "HTMLModel",
            "placeholder": "​",
            "_view_module": "@jupyter-widgets/controls",
            "_model_module_version": "1.5.0",
            "value": " 878k/878k [00:00&lt;00:00, 1.37MB/s]",
            "_view_count": null,
            "_view_module_version": "1.5.0",
            "description_tooltip": null,
            "_model_module": "@jupyter-widgets/controls",
            "layout": "IPY_MODEL_f8ada02dd4654de4b8ba00c545714a4b"
          }
        },
        "b3405d47bf714d3ba7c78a0fcb4cc59f": {
          "model_module": "@jupyter-widgets/controls",
          "model_name": "DescriptionStyleModel",
          "model_module_version": "1.5.0",
          "state": {
            "_view_name": "StyleView",
            "_model_name": "DescriptionStyleModel",
            "description_width": "",
            "_view_module": "@jupyter-widgets/base",
            "_model_module_version": "1.5.0",
            "_view_count": null,
            "_view_module_version": "1.2.0",
            "_model_module": "@jupyter-widgets/controls"
          }
        },
        "fc64d10fbc534dbb8165310e5a8d762e": {
          "model_module": "@jupyter-widgets/base",
          "model_name": "LayoutModel",
          "model_module_version": "1.2.0",
          "state": {
            "_view_name": "LayoutView",
            "grid_template_rows": null,
            "right": null,
            "justify_content": null,
            "_view_module": "@jupyter-widgets/base",
            "overflow": null,
            "_model_module_version": "1.2.0",
            "_view_count": null,
            "flex_flow": null,
            "width": null,
            "min_width": null,
            "border": null,
            "align_items": null,
            "bottom": null,
            "_model_module": "@jupyter-widgets/base",
            "top": null,
            "grid_column": null,
            "overflow_y": null,
            "overflow_x": null,
            "grid_auto_flow": null,
            "grid_area": null,
            "grid_template_columns": null,
            "flex": null,
            "_model_name": "LayoutModel",
            "justify_items": null,
            "grid_row": null,
            "max_height": null,
            "align_content": null,
            "visibility": null,
            "align_self": null,
            "height": null,
            "min_height": null,
            "padding": null,
            "grid_auto_rows": null,
            "grid_gap": null,
            "max_width": null,
            "order": null,
            "_view_module_version": "1.2.0",
            "grid_template_areas": null,
            "object_position": null,
            "object_fit": null,
            "grid_auto_columns": null,
            "margin": null,
            "display": null,
            "left": null
          }
        },
        "36ddcf05763d4a579ffe331f194dd1fb": {
          "model_module": "@jupyter-widgets/controls",
          "model_name": "ProgressStyleModel",
          "model_module_version": "1.5.0",
          "state": {
            "_view_name": "StyleView",
            "_model_name": "ProgressStyleModel",
            "description_width": "",
            "_view_module": "@jupyter-widgets/base",
            "_model_module_version": "1.5.0",
            "_view_count": null,
            "_view_module_version": "1.2.0",
            "bar_color": null,
            "_model_module": "@jupyter-widgets/controls"
          }
        },
        "f62c0c1f79654db58d5ffc968f6b8866": {
          "model_module": "@jupyter-widgets/base",
          "model_name": "LayoutModel",
          "model_module_version": "1.2.0",
          "state": {
            "_view_name": "LayoutView",
            "grid_template_rows": null,
            "right": null,
            "justify_content": null,
            "_view_module": "@jupyter-widgets/base",
            "overflow": null,
            "_model_module_version": "1.2.0",
            "_view_count": null,
            "flex_flow": null,
            "width": null,
            "min_width": null,
            "border": null,
            "align_items": null,
            "bottom": null,
            "_model_module": "@jupyter-widgets/base",
            "top": null,
            "grid_column": null,
            "overflow_y": null,
            "overflow_x": null,
            "grid_auto_flow": null,
            "grid_area": null,
            "grid_template_columns": null,
            "flex": null,
            "_model_name": "LayoutModel",
            "justify_items": null,
            "grid_row": null,
            "max_height": null,
            "align_content": null,
            "visibility": null,
            "align_self": null,
            "height": null,
            "min_height": null,
            "padding": null,
            "grid_auto_rows": null,
            "grid_gap": null,
            "max_width": null,
            "order": null,
            "_view_module_version": "1.2.0",
            "grid_template_areas": null,
            "object_position": null,
            "object_fit": null,
            "grid_auto_columns": null,
            "margin": null,
            "display": null,
            "left": null
          }
        },
        "396e3bcc8fee4c75909cc380e0d44a2f": {
          "model_module": "@jupyter-widgets/controls",
          "model_name": "DescriptionStyleModel",
          "model_module_version": "1.5.0",
          "state": {
            "_view_name": "StyleView",
            "_model_name": "DescriptionStyleModel",
            "description_width": "",
            "_view_module": "@jupyter-widgets/base",
            "_model_module_version": "1.5.0",
            "_view_count": null,
            "_view_module_version": "1.2.0",
            "_model_module": "@jupyter-widgets/controls"
          }
        },
        "f8ada02dd4654de4b8ba00c545714a4b": {
          "model_module": "@jupyter-widgets/base",
          "model_name": "LayoutModel",
          "model_module_version": "1.2.0",
          "state": {
            "_view_name": "LayoutView",
            "grid_template_rows": null,
            "right": null,
            "justify_content": null,
            "_view_module": "@jupyter-widgets/base",
            "overflow": null,
            "_model_module_version": "1.2.0",
            "_view_count": null,
            "flex_flow": null,
            "width": null,
            "min_width": null,
            "border": null,
            "align_items": null,
            "bottom": null,
            "_model_module": "@jupyter-widgets/base",
            "top": null,
            "grid_column": null,
            "overflow_y": null,
            "overflow_x": null,
            "grid_auto_flow": null,
            "grid_area": null,
            "grid_template_columns": null,
            "flex": null,
            "_model_name": "LayoutModel",
            "justify_items": null,
            "grid_row": null,
            "max_height": null,
            "align_content": null,
            "visibility": null,
            "align_self": null,
            "height": null,
            "min_height": null,
            "padding": null,
            "grid_auto_rows": null,
            "grid_gap": null,
            "max_width": null,
            "order": null,
            "_view_module_version": "1.2.0",
            "grid_template_areas": null,
            "object_position": null,
            "object_fit": null,
            "grid_auto_columns": null,
            "margin": null,
            "display": null,
            "left": null
          }
        },
        "6a477cab861d40a58f648c816169a844": {
          "model_module": "@jupyter-widgets/controls",
          "model_name": "HBoxModel",
          "model_module_version": "1.5.0",
          "state": {
            "_view_name": "HBoxView",
            "_dom_classes": [],
            "_model_name": "HBoxModel",
            "_view_module": "@jupyter-widgets/controls",
            "_model_module_version": "1.5.0",
            "_view_count": null,
            "_view_module_version": "1.5.0",
            "box_style": "",
            "layout": "IPY_MODEL_f2c2dcf38da948ac9310a97067919fff",
            "_model_module": "@jupyter-widgets/controls",
            "children": [
              "IPY_MODEL_403c2c64d9674a4daac7632626204b84",
              "IPY_MODEL_b61f49df672f4feca72fe13781964023",
              "IPY_MODEL_93a8e87ce5764b39b70373d73dc66f01"
            ]
          }
        },
        "f2c2dcf38da948ac9310a97067919fff": {
          "model_module": "@jupyter-widgets/base",
          "model_name": "LayoutModel",
          "model_module_version": "1.2.0",
          "state": {
            "_view_name": "LayoutView",
            "grid_template_rows": null,
            "right": null,
            "justify_content": null,
            "_view_module": "@jupyter-widgets/base",
            "overflow": null,
            "_model_module_version": "1.2.0",
            "_view_count": null,
            "flex_flow": null,
            "width": null,
            "min_width": null,
            "border": null,
            "align_items": null,
            "bottom": null,
            "_model_module": "@jupyter-widgets/base",
            "top": null,
            "grid_column": null,
            "overflow_y": null,
            "overflow_x": null,
            "grid_auto_flow": null,
            "grid_area": null,
            "grid_template_columns": null,
            "flex": null,
            "_model_name": "LayoutModel",
            "justify_items": null,
            "grid_row": null,
            "max_height": null,
            "align_content": null,
            "visibility": null,
            "align_self": null,
            "height": null,
            "min_height": null,
            "padding": null,
            "grid_auto_rows": null,
            "grid_gap": null,
            "max_width": null,
            "order": null,
            "_view_module_version": "1.2.0",
            "grid_template_areas": null,
            "object_position": null,
            "object_fit": null,
            "grid_auto_columns": null,
            "margin": null,
            "display": null,
            "left": null
          }
        },
        "403c2c64d9674a4daac7632626204b84": {
          "model_module": "@jupyter-widgets/controls",
          "model_name": "HTMLModel",
          "model_module_version": "1.5.0",
          "state": {
            "_view_name": "HTMLView",
            "style": "IPY_MODEL_3e243e39baa247d3b32274ec5120d5be",
            "_dom_classes": [],
            "description": "",
            "_model_name": "HTMLModel",
            "placeholder": "​",
            "_view_module": "@jupyter-widgets/controls",
            "_model_module_version": "1.5.0",
            "value": "Downloading: 100%",
            "_view_count": null,
            "_view_module_version": "1.5.0",
            "description_tooltip": null,
            "_model_module": "@jupyter-widgets/controls",
            "layout": "IPY_MODEL_87aeef328ea241f9b1fb83ab1157b81b"
          }
        },
        "b61f49df672f4feca72fe13781964023": {
          "model_module": "@jupyter-widgets/controls",
          "model_name": "FloatProgressModel",
          "model_module_version": "1.5.0",
          "state": {
            "_view_name": "ProgressView",
            "style": "IPY_MODEL_c93fb475031648b7ac5c4256760ea824",
            "_dom_classes": [],
            "description": "",
            "_model_name": "FloatProgressModel",
            "bar_style": "success",
            "max": 456318,
            "_view_module": "@jupyter-widgets/controls",
            "_model_module_version": "1.5.0",
            "value": 456318,
            "_view_count": null,
            "_view_module_version": "1.5.0",
            "orientation": "horizontal",
            "min": 0,
            "description_tooltip": null,
            "_model_module": "@jupyter-widgets/controls",
            "layout": "IPY_MODEL_42f10c2ea10c43f9aed169167e6fa4f1"
          }
        },
        "93a8e87ce5764b39b70373d73dc66f01": {
          "model_module": "@jupyter-widgets/controls",
          "model_name": "HTMLModel",
          "model_module_version": "1.5.0",
          "state": {
            "_view_name": "HTMLView",
            "style": "IPY_MODEL_0e647267e8794e97bd82185808c7600b",
            "_dom_classes": [],
            "description": "",
            "_model_name": "HTMLModel",
            "placeholder": "​",
            "_view_module": "@jupyter-widgets/controls",
            "_model_module_version": "1.5.0",
            "value": " 446k/446k [00:00&lt;00:00, 1.50MB/s]",
            "_view_count": null,
            "_view_module_version": "1.5.0",
            "description_tooltip": null,
            "_model_module": "@jupyter-widgets/controls",
            "layout": "IPY_MODEL_320b1966b2be4847b0e48577da815d3b"
          }
        },
        "3e243e39baa247d3b32274ec5120d5be": {
          "model_module": "@jupyter-widgets/controls",
          "model_name": "DescriptionStyleModel",
          "model_module_version": "1.5.0",
          "state": {
            "_view_name": "StyleView",
            "_model_name": "DescriptionStyleModel",
            "description_width": "",
            "_view_module": "@jupyter-widgets/base",
            "_model_module_version": "1.5.0",
            "_view_count": null,
            "_view_module_version": "1.2.0",
            "_model_module": "@jupyter-widgets/controls"
          }
        },
        "87aeef328ea241f9b1fb83ab1157b81b": {
          "model_module": "@jupyter-widgets/base",
          "model_name": "LayoutModel",
          "model_module_version": "1.2.0",
          "state": {
            "_view_name": "LayoutView",
            "grid_template_rows": null,
            "right": null,
            "justify_content": null,
            "_view_module": "@jupyter-widgets/base",
            "overflow": null,
            "_model_module_version": "1.2.0",
            "_view_count": null,
            "flex_flow": null,
            "width": null,
            "min_width": null,
            "border": null,
            "align_items": null,
            "bottom": null,
            "_model_module": "@jupyter-widgets/base",
            "top": null,
            "grid_column": null,
            "overflow_y": null,
            "overflow_x": null,
            "grid_auto_flow": null,
            "grid_area": null,
            "grid_template_columns": null,
            "flex": null,
            "_model_name": "LayoutModel",
            "justify_items": null,
            "grid_row": null,
            "max_height": null,
            "align_content": null,
            "visibility": null,
            "align_self": null,
            "height": null,
            "min_height": null,
            "padding": null,
            "grid_auto_rows": null,
            "grid_gap": null,
            "max_width": null,
            "order": null,
            "_view_module_version": "1.2.0",
            "grid_template_areas": null,
            "object_position": null,
            "object_fit": null,
            "grid_auto_columns": null,
            "margin": null,
            "display": null,
            "left": null
          }
        },
        "c93fb475031648b7ac5c4256760ea824": {
          "model_module": "@jupyter-widgets/controls",
          "model_name": "ProgressStyleModel",
          "model_module_version": "1.5.0",
          "state": {
            "_view_name": "StyleView",
            "_model_name": "ProgressStyleModel",
            "description_width": "",
            "_view_module": "@jupyter-widgets/base",
            "_model_module_version": "1.5.0",
            "_view_count": null,
            "_view_module_version": "1.2.0",
            "bar_color": null,
            "_model_module": "@jupyter-widgets/controls"
          }
        },
        "42f10c2ea10c43f9aed169167e6fa4f1": {
          "model_module": "@jupyter-widgets/base",
          "model_name": "LayoutModel",
          "model_module_version": "1.2.0",
          "state": {
            "_view_name": "LayoutView",
            "grid_template_rows": null,
            "right": null,
            "justify_content": null,
            "_view_module": "@jupyter-widgets/base",
            "overflow": null,
            "_model_module_version": "1.2.0",
            "_view_count": null,
            "flex_flow": null,
            "width": null,
            "min_width": null,
            "border": null,
            "align_items": null,
            "bottom": null,
            "_model_module": "@jupyter-widgets/base",
            "top": null,
            "grid_column": null,
            "overflow_y": null,
            "overflow_x": null,
            "grid_auto_flow": null,
            "grid_area": null,
            "grid_template_columns": null,
            "flex": null,
            "_model_name": "LayoutModel",
            "justify_items": null,
            "grid_row": null,
            "max_height": null,
            "align_content": null,
            "visibility": null,
            "align_self": null,
            "height": null,
            "min_height": null,
            "padding": null,
            "grid_auto_rows": null,
            "grid_gap": null,
            "max_width": null,
            "order": null,
            "_view_module_version": "1.2.0",
            "grid_template_areas": null,
            "object_position": null,
            "object_fit": null,
            "grid_auto_columns": null,
            "margin": null,
            "display": null,
            "left": null
          }
        },
        "0e647267e8794e97bd82185808c7600b": {
          "model_module": "@jupyter-widgets/controls",
          "model_name": "DescriptionStyleModel",
          "model_module_version": "1.5.0",
          "state": {
            "_view_name": "StyleView",
            "_model_name": "DescriptionStyleModel",
            "description_width": "",
            "_view_module": "@jupyter-widgets/base",
            "_model_module_version": "1.5.0",
            "_view_count": null,
            "_view_module_version": "1.2.0",
            "_model_module": "@jupyter-widgets/controls"
          }
        },
        "320b1966b2be4847b0e48577da815d3b": {
          "model_module": "@jupyter-widgets/base",
          "model_name": "LayoutModel",
          "model_module_version": "1.2.0",
          "state": {
            "_view_name": "LayoutView",
            "grid_template_rows": null,
            "right": null,
            "justify_content": null,
            "_view_module": "@jupyter-widgets/base",
            "overflow": null,
            "_model_module_version": "1.2.0",
            "_view_count": null,
            "flex_flow": null,
            "width": null,
            "min_width": null,
            "border": null,
            "align_items": null,
            "bottom": null,
            "_model_module": "@jupyter-widgets/base",
            "top": null,
            "grid_column": null,
            "overflow_y": null,
            "overflow_x": null,
            "grid_auto_flow": null,
            "grid_area": null,
            "grid_template_columns": null,
            "flex": null,
            "_model_name": "LayoutModel",
            "justify_items": null,
            "grid_row": null,
            "max_height": null,
            "align_content": null,
            "visibility": null,
            "align_self": null,
            "height": null,
            "min_height": null,
            "padding": null,
            "grid_auto_rows": null,
            "grid_gap": null,
            "max_width": null,
            "order": null,
            "_view_module_version": "1.2.0",
            "grid_template_areas": null,
            "object_position": null,
            "object_fit": null,
            "grid_auto_columns": null,
            "margin": null,
            "display": null,
            "left": null
          }
        },
        "0346c61538d349a59c28d8f4d1257522": {
          "model_module": "@jupyter-widgets/controls",
          "model_name": "HBoxModel",
          "model_module_version": "1.5.0",
          "state": {
            "_view_name": "HBoxView",
            "_dom_classes": [],
            "_model_name": "HBoxModel",
            "_view_module": "@jupyter-widgets/controls",
            "_model_module_version": "1.5.0",
            "_view_count": null,
            "_view_module_version": "1.5.0",
            "box_style": "",
            "layout": "IPY_MODEL_a60d694feb334be3b4ab9ca2c2688b5e",
            "_model_module": "@jupyter-widgets/controls",
            "children": [
              "IPY_MODEL_dd2906d28a8d4510a6c0a6be91ef119d",
              "IPY_MODEL_536d2de1003e4442bb05fb8c2480fb90",
              "IPY_MODEL_5722761fe8a549979adbe37b03f7d0ac"
            ]
          }
        },
        "a60d694feb334be3b4ab9ca2c2688b5e": {
          "model_module": "@jupyter-widgets/base",
          "model_name": "LayoutModel",
          "model_module_version": "1.2.0",
          "state": {
            "_view_name": "LayoutView",
            "grid_template_rows": null,
            "right": null,
            "justify_content": null,
            "_view_module": "@jupyter-widgets/base",
            "overflow": null,
            "_model_module_version": "1.2.0",
            "_view_count": null,
            "flex_flow": null,
            "width": null,
            "min_width": null,
            "border": null,
            "align_items": null,
            "bottom": null,
            "_model_module": "@jupyter-widgets/base",
            "top": null,
            "grid_column": null,
            "overflow_y": null,
            "overflow_x": null,
            "grid_auto_flow": null,
            "grid_area": null,
            "grid_template_columns": null,
            "flex": null,
            "_model_name": "LayoutModel",
            "justify_items": null,
            "grid_row": null,
            "max_height": null,
            "align_content": null,
            "visibility": null,
            "align_self": null,
            "height": null,
            "min_height": null,
            "padding": null,
            "grid_auto_rows": null,
            "grid_gap": null,
            "max_width": null,
            "order": null,
            "_view_module_version": "1.2.0",
            "grid_template_areas": null,
            "object_position": null,
            "object_fit": null,
            "grid_auto_columns": null,
            "margin": null,
            "display": null,
            "left": null
          }
        },
        "dd2906d28a8d4510a6c0a6be91ef119d": {
          "model_module": "@jupyter-widgets/controls",
          "model_name": "HTMLModel",
          "model_module_version": "1.5.0",
          "state": {
            "_view_name": "HTMLView",
            "style": "IPY_MODEL_d4a8b78233064125aeaa9446c3bd3249",
            "_dom_classes": [],
            "description": "",
            "_model_name": "HTMLModel",
            "placeholder": "​",
            "_view_module": "@jupyter-widgets/controls",
            "_model_module_version": "1.5.0",
            "value": "Downloading: 100%",
            "_view_count": null,
            "_view_module_version": "1.5.0",
            "description_tooltip": null,
            "_model_module": "@jupyter-widgets/controls",
            "layout": "IPY_MODEL_a3dd8df0994c4a84bded781f62deb8d2"
          }
        },
        "536d2de1003e4442bb05fb8c2480fb90": {
          "model_module": "@jupyter-widgets/controls",
          "model_name": "FloatProgressModel",
          "model_module_version": "1.5.0",
          "state": {
            "_view_name": "ProgressView",
            "style": "IPY_MODEL_a903608ea4394b17a47d9208e4fc3c18",
            "_dom_classes": [],
            "description": "",
            "_model_name": "FloatProgressModel",
            "bar_style": "success",
            "max": 1355863,
            "_view_module": "@jupyter-widgets/controls",
            "_model_module_version": "1.5.0",
            "value": 1355863,
            "_view_count": null,
            "_view_module_version": "1.5.0",
            "orientation": "horizontal",
            "min": 0,
            "description_tooltip": null,
            "_model_module": "@jupyter-widgets/controls",
            "layout": "IPY_MODEL_463bdbdaf76549cdacdaf7251451e787"
          }
        },
        "5722761fe8a549979adbe37b03f7d0ac": {
          "model_module": "@jupyter-widgets/controls",
          "model_name": "HTMLModel",
          "model_module_version": "1.5.0",
          "state": {
            "_view_name": "HTMLView",
            "style": "IPY_MODEL_b3602002e94c4057ba2cac2e51b6d54f",
            "_dom_classes": [],
            "description": "",
            "_model_name": "HTMLModel",
            "placeholder": "​",
            "_view_module": "@jupyter-widgets/controls",
            "_model_module_version": "1.5.0",
            "value": " 1.29M/1.29M [00:00&lt;00:00, 1.67MB/s]",
            "_view_count": null,
            "_view_module_version": "1.5.0",
            "description_tooltip": null,
            "_model_module": "@jupyter-widgets/controls",
            "layout": "IPY_MODEL_33949fa1f790499db02a048090abfd53"
          }
        },
        "d4a8b78233064125aeaa9446c3bd3249": {
          "model_module": "@jupyter-widgets/controls",
          "model_name": "DescriptionStyleModel",
          "model_module_version": "1.5.0",
          "state": {
            "_view_name": "StyleView",
            "_model_name": "DescriptionStyleModel",
            "description_width": "",
            "_view_module": "@jupyter-widgets/base",
            "_model_module_version": "1.5.0",
            "_view_count": null,
            "_view_module_version": "1.2.0",
            "_model_module": "@jupyter-widgets/controls"
          }
        },
        "a3dd8df0994c4a84bded781f62deb8d2": {
          "model_module": "@jupyter-widgets/base",
          "model_name": "LayoutModel",
          "model_module_version": "1.2.0",
          "state": {
            "_view_name": "LayoutView",
            "grid_template_rows": null,
            "right": null,
            "justify_content": null,
            "_view_module": "@jupyter-widgets/base",
            "overflow": null,
            "_model_module_version": "1.2.0",
            "_view_count": null,
            "flex_flow": null,
            "width": null,
            "min_width": null,
            "border": null,
            "align_items": null,
            "bottom": null,
            "_model_module": "@jupyter-widgets/base",
            "top": null,
            "grid_column": null,
            "overflow_y": null,
            "overflow_x": null,
            "grid_auto_flow": null,
            "grid_area": null,
            "grid_template_columns": null,
            "flex": null,
            "_model_name": "LayoutModel",
            "justify_items": null,
            "grid_row": null,
            "max_height": null,
            "align_content": null,
            "visibility": null,
            "align_self": null,
            "height": null,
            "min_height": null,
            "padding": null,
            "grid_auto_rows": null,
            "grid_gap": null,
            "max_width": null,
            "order": null,
            "_view_module_version": "1.2.0",
            "grid_template_areas": null,
            "object_position": null,
            "object_fit": null,
            "grid_auto_columns": null,
            "margin": null,
            "display": null,
            "left": null
          }
        },
        "a903608ea4394b17a47d9208e4fc3c18": {
          "model_module": "@jupyter-widgets/controls",
          "model_name": "ProgressStyleModel",
          "model_module_version": "1.5.0",
          "state": {
            "_view_name": "StyleView",
            "_model_name": "ProgressStyleModel",
            "description_width": "",
            "_view_module": "@jupyter-widgets/base",
            "_model_module_version": "1.5.0",
            "_view_count": null,
            "_view_module_version": "1.2.0",
            "bar_color": null,
            "_model_module": "@jupyter-widgets/controls"
          }
        },
        "463bdbdaf76549cdacdaf7251451e787": {
          "model_module": "@jupyter-widgets/base",
          "model_name": "LayoutModel",
          "model_module_version": "1.2.0",
          "state": {
            "_view_name": "LayoutView",
            "grid_template_rows": null,
            "right": null,
            "justify_content": null,
            "_view_module": "@jupyter-widgets/base",
            "overflow": null,
            "_model_module_version": "1.2.0",
            "_view_count": null,
            "flex_flow": null,
            "width": null,
            "min_width": null,
            "border": null,
            "align_items": null,
            "bottom": null,
            "_model_module": "@jupyter-widgets/base",
            "top": null,
            "grid_column": null,
            "overflow_y": null,
            "overflow_x": null,
            "grid_auto_flow": null,
            "grid_area": null,
            "grid_template_columns": null,
            "flex": null,
            "_model_name": "LayoutModel",
            "justify_items": null,
            "grid_row": null,
            "max_height": null,
            "align_content": null,
            "visibility": null,
            "align_self": null,
            "height": null,
            "min_height": null,
            "padding": null,
            "grid_auto_rows": null,
            "grid_gap": null,
            "max_width": null,
            "order": null,
            "_view_module_version": "1.2.0",
            "grid_template_areas": null,
            "object_position": null,
            "object_fit": null,
            "grid_auto_columns": null,
            "margin": null,
            "display": null,
            "left": null
          }
        },
        "b3602002e94c4057ba2cac2e51b6d54f": {
          "model_module": "@jupyter-widgets/controls",
          "model_name": "DescriptionStyleModel",
          "model_module_version": "1.5.0",
          "state": {
            "_view_name": "StyleView",
            "_model_name": "DescriptionStyleModel",
            "description_width": "",
            "_view_module": "@jupyter-widgets/base",
            "_model_module_version": "1.5.0",
            "_view_count": null,
            "_view_module_version": "1.2.0",
            "_model_module": "@jupyter-widgets/controls"
          }
        },
        "33949fa1f790499db02a048090abfd53": {
          "model_module": "@jupyter-widgets/base",
          "model_name": "LayoutModel",
          "model_module_version": "1.2.0",
          "state": {
            "_view_name": "LayoutView",
            "grid_template_rows": null,
            "right": null,
            "justify_content": null,
            "_view_module": "@jupyter-widgets/base",
            "overflow": null,
            "_model_module_version": "1.2.0",
            "_view_count": null,
            "flex_flow": null,
            "width": null,
            "min_width": null,
            "border": null,
            "align_items": null,
            "bottom": null,
            "_model_module": "@jupyter-widgets/base",
            "top": null,
            "grid_column": null,
            "overflow_y": null,
            "overflow_x": null,
            "grid_auto_flow": null,
            "grid_area": null,
            "grid_template_columns": null,
            "flex": null,
            "_model_name": "LayoutModel",
            "justify_items": null,
            "grid_row": null,
            "max_height": null,
            "align_content": null,
            "visibility": null,
            "align_self": null,
            "height": null,
            "min_height": null,
            "padding": null,
            "grid_auto_rows": null,
            "grid_gap": null,
            "max_width": null,
            "order": null,
            "_view_module_version": "1.2.0",
            "grid_template_areas": null,
            "object_position": null,
            "object_fit": null,
            "grid_auto_columns": null,
            "margin": null,
            "display": null,
            "left": null
          }
        },
        "e4104c5654524a4a86ed698c3479b96c": {
          "model_module": "@jupyter-widgets/controls",
          "model_name": "HBoxModel",
          "model_module_version": "1.5.0",
          "state": {
            "_view_name": "HBoxView",
            "_dom_classes": [],
            "_model_name": "HBoxModel",
            "_view_module": "@jupyter-widgets/controls",
            "_model_module_version": "1.5.0",
            "_view_count": null,
            "_view_module_version": "1.5.0",
            "box_style": "",
            "layout": "IPY_MODEL_70f008b3c4bf41bd955a47450a493c3d",
            "_model_module": "@jupyter-widgets/controls",
            "children": [
              "IPY_MODEL_1c88440d881445ac909405b7c82cff9e",
              "IPY_MODEL_87eae44f67564c2eac61ff8b148c2b2d",
              "IPY_MODEL_61b5a71b762242e4971825be1caa3165"
            ]
          }
        },
        "70f008b3c4bf41bd955a47450a493c3d": {
          "model_module": "@jupyter-widgets/base",
          "model_name": "LayoutModel",
          "model_module_version": "1.2.0",
          "state": {
            "_view_name": "LayoutView",
            "grid_template_rows": null,
            "right": null,
            "justify_content": null,
            "_view_module": "@jupyter-widgets/base",
            "overflow": null,
            "_model_module_version": "1.2.0",
            "_view_count": null,
            "flex_flow": null,
            "width": null,
            "min_width": null,
            "border": null,
            "align_items": null,
            "bottom": null,
            "_model_module": "@jupyter-widgets/base",
            "top": null,
            "grid_column": null,
            "overflow_y": null,
            "overflow_x": null,
            "grid_auto_flow": null,
            "grid_area": null,
            "grid_template_columns": null,
            "flex": null,
            "_model_name": "LayoutModel",
            "justify_items": null,
            "grid_row": null,
            "max_height": null,
            "align_content": null,
            "visibility": null,
            "align_self": null,
            "height": null,
            "min_height": null,
            "padding": null,
            "grid_auto_rows": null,
            "grid_gap": null,
            "max_width": null,
            "order": null,
            "_view_module_version": "1.2.0",
            "grid_template_areas": null,
            "object_position": null,
            "object_fit": null,
            "grid_auto_columns": null,
            "margin": null,
            "display": null,
            "left": null
          }
        },
        "1c88440d881445ac909405b7c82cff9e": {
          "model_module": "@jupyter-widgets/controls",
          "model_name": "HTMLModel",
          "model_module_version": "1.5.0",
          "state": {
            "_view_name": "HTMLView",
            "style": "IPY_MODEL_2e50f9e81a214952ba0a17dd5c86f9b0",
            "_dom_classes": [],
            "description": "",
            "_model_name": "HTMLModel",
            "placeholder": "​",
            "_view_module": "@jupyter-widgets/controls",
            "_model_module_version": "1.5.0",
            "value": "Downloading: 100%",
            "_view_count": null,
            "_view_module_version": "1.5.0",
            "description_tooltip": null,
            "_model_module": "@jupyter-widgets/controls",
            "layout": "IPY_MODEL_dc5e2388d02148a0a128316185e96985"
          }
        },
        "87eae44f67564c2eac61ff8b148c2b2d": {
          "model_module": "@jupyter-widgets/controls",
          "model_name": "FloatProgressModel",
          "model_module_version": "1.5.0",
          "state": {
            "_view_name": "ProgressView",
            "style": "IPY_MODEL_5ffda69dd7fb4d5f969ea4405e4d28cc",
            "_dom_classes": [],
            "description": "",
            "_model_name": "FloatProgressModel",
            "bar_style": "success",
            "max": 481,
            "_view_module": "@jupyter-widgets/controls",
            "_model_module_version": "1.5.0",
            "value": 481,
            "_view_count": null,
            "_view_module_version": "1.5.0",
            "orientation": "horizontal",
            "min": 0,
            "description_tooltip": null,
            "_model_module": "@jupyter-widgets/controls",
            "layout": "IPY_MODEL_6938690ee3794c7a875f01ce91721648"
          }
        },
        "61b5a71b762242e4971825be1caa3165": {
          "model_module": "@jupyter-widgets/controls",
          "model_name": "HTMLModel",
          "model_module_version": "1.5.0",
          "state": {
            "_view_name": "HTMLView",
            "style": "IPY_MODEL_fac9eddc7a694e47839366efeafc00f8",
            "_dom_classes": [],
            "description": "",
            "_model_name": "HTMLModel",
            "placeholder": "​",
            "_view_module": "@jupyter-widgets/controls",
            "_model_module_version": "1.5.0",
            "value": " 481/481 [00:00&lt;00:00, 18.2kB/s]",
            "_view_count": null,
            "_view_module_version": "1.5.0",
            "description_tooltip": null,
            "_model_module": "@jupyter-widgets/controls",
            "layout": "IPY_MODEL_c2a4f4b92c00479b8ab032f70975a555"
          }
        },
        "2e50f9e81a214952ba0a17dd5c86f9b0": {
          "model_module": "@jupyter-widgets/controls",
          "model_name": "DescriptionStyleModel",
          "model_module_version": "1.5.0",
          "state": {
            "_view_name": "StyleView",
            "_model_name": "DescriptionStyleModel",
            "description_width": "",
            "_view_module": "@jupyter-widgets/base",
            "_model_module_version": "1.5.0",
            "_view_count": null,
            "_view_module_version": "1.2.0",
            "_model_module": "@jupyter-widgets/controls"
          }
        },
        "dc5e2388d02148a0a128316185e96985": {
          "model_module": "@jupyter-widgets/base",
          "model_name": "LayoutModel",
          "model_module_version": "1.2.0",
          "state": {
            "_view_name": "LayoutView",
            "grid_template_rows": null,
            "right": null,
            "justify_content": null,
            "_view_module": "@jupyter-widgets/base",
            "overflow": null,
            "_model_module_version": "1.2.0",
            "_view_count": null,
            "flex_flow": null,
            "width": null,
            "min_width": null,
            "border": null,
            "align_items": null,
            "bottom": null,
            "_model_module": "@jupyter-widgets/base",
            "top": null,
            "grid_column": null,
            "overflow_y": null,
            "overflow_x": null,
            "grid_auto_flow": null,
            "grid_area": null,
            "grid_template_columns": null,
            "flex": null,
            "_model_name": "LayoutModel",
            "justify_items": null,
            "grid_row": null,
            "max_height": null,
            "align_content": null,
            "visibility": null,
            "align_self": null,
            "height": null,
            "min_height": null,
            "padding": null,
            "grid_auto_rows": null,
            "grid_gap": null,
            "max_width": null,
            "order": null,
            "_view_module_version": "1.2.0",
            "grid_template_areas": null,
            "object_position": null,
            "object_fit": null,
            "grid_auto_columns": null,
            "margin": null,
            "display": null,
            "left": null
          }
        },
        "5ffda69dd7fb4d5f969ea4405e4d28cc": {
          "model_module": "@jupyter-widgets/controls",
          "model_name": "ProgressStyleModel",
          "model_module_version": "1.5.0",
          "state": {
            "_view_name": "StyleView",
            "_model_name": "ProgressStyleModel",
            "description_width": "",
            "_view_module": "@jupyter-widgets/base",
            "_model_module_version": "1.5.0",
            "_view_count": null,
            "_view_module_version": "1.2.0",
            "bar_color": null,
            "_model_module": "@jupyter-widgets/controls"
          }
        },
        "6938690ee3794c7a875f01ce91721648": {
          "model_module": "@jupyter-widgets/base",
          "model_name": "LayoutModel",
          "model_module_version": "1.2.0",
          "state": {
            "_view_name": "LayoutView",
            "grid_template_rows": null,
            "right": null,
            "justify_content": null,
            "_view_module": "@jupyter-widgets/base",
            "overflow": null,
            "_model_module_version": "1.2.0",
            "_view_count": null,
            "flex_flow": null,
            "width": null,
            "min_width": null,
            "border": null,
            "align_items": null,
            "bottom": null,
            "_model_module": "@jupyter-widgets/base",
            "top": null,
            "grid_column": null,
            "overflow_y": null,
            "overflow_x": null,
            "grid_auto_flow": null,
            "grid_area": null,
            "grid_template_columns": null,
            "flex": null,
            "_model_name": "LayoutModel",
            "justify_items": null,
            "grid_row": null,
            "max_height": null,
            "align_content": null,
            "visibility": null,
            "align_self": null,
            "height": null,
            "min_height": null,
            "padding": null,
            "grid_auto_rows": null,
            "grid_gap": null,
            "max_width": null,
            "order": null,
            "_view_module_version": "1.2.0",
            "grid_template_areas": null,
            "object_position": null,
            "object_fit": null,
            "grid_auto_columns": null,
            "margin": null,
            "display": null,
            "left": null
          }
        },
        "fac9eddc7a694e47839366efeafc00f8": {
          "model_module": "@jupyter-widgets/controls",
          "model_name": "DescriptionStyleModel",
          "model_module_version": "1.5.0",
          "state": {
            "_view_name": "StyleView",
            "_model_name": "DescriptionStyleModel",
            "description_width": "",
            "_view_module": "@jupyter-widgets/base",
            "_model_module_version": "1.5.0",
            "_view_count": null,
            "_view_module_version": "1.2.0",
            "_model_module": "@jupyter-widgets/controls"
          }
        },
        "c2a4f4b92c00479b8ab032f70975a555": {
          "model_module": "@jupyter-widgets/base",
          "model_name": "LayoutModel",
          "model_module_version": "1.2.0",
          "state": {
            "_view_name": "LayoutView",
            "grid_template_rows": null,
            "right": null,
            "justify_content": null,
            "_view_module": "@jupyter-widgets/base",
            "overflow": null,
            "_model_module_version": "1.2.0",
            "_view_count": null,
            "flex_flow": null,
            "width": null,
            "min_width": null,
            "border": null,
            "align_items": null,
            "bottom": null,
            "_model_module": "@jupyter-widgets/base",
            "top": null,
            "grid_column": null,
            "overflow_y": null,
            "overflow_x": null,
            "grid_auto_flow": null,
            "grid_area": null,
            "grid_template_columns": null,
            "flex": null,
            "_model_name": "LayoutModel",
            "justify_items": null,
            "grid_row": null,
            "max_height": null,
            "align_content": null,
            "visibility": null,
            "align_self": null,
            "height": null,
            "min_height": null,
            "padding": null,
            "grid_auto_rows": null,
            "grid_gap": null,
            "max_width": null,
            "order": null,
            "_view_module_version": "1.2.0",
            "grid_template_areas": null,
            "object_position": null,
            "object_fit": null,
            "grid_auto_columns": null,
            "margin": null,
            "display": null,
            "left": null
          }
        },
        "be5e0efe4e0d42199e65d86f66cfdf84": {
          "model_module": "@jupyter-widgets/controls",
          "model_name": "HBoxModel",
          "model_module_version": "1.5.0",
          "state": {
            "_view_name": "HBoxView",
            "_dom_classes": [],
            "_model_name": "HBoxModel",
            "_view_module": "@jupyter-widgets/controls",
            "_model_module_version": "1.5.0",
            "_view_count": null,
            "_view_module_version": "1.5.0",
            "box_style": "",
            "layout": "IPY_MODEL_b230b67d1a844c7eb1564e1c40aa9aed",
            "_model_module": "@jupyter-widgets/controls",
            "children": [
              "IPY_MODEL_5b8b03c01f7c40379d6c9474749e35e7",
              "IPY_MODEL_3656d45072994ba794ac03270039c588",
              "IPY_MODEL_74896c044b5a48498774277ef187dd8e"
            ]
          }
        },
        "b230b67d1a844c7eb1564e1c40aa9aed": {
          "model_module": "@jupyter-widgets/base",
          "model_name": "LayoutModel",
          "model_module_version": "1.2.0",
          "state": {
            "_view_name": "LayoutView",
            "grid_template_rows": null,
            "right": null,
            "justify_content": null,
            "_view_module": "@jupyter-widgets/base",
            "overflow": null,
            "_model_module_version": "1.2.0",
            "_view_count": null,
            "flex_flow": null,
            "width": null,
            "min_width": null,
            "border": null,
            "align_items": null,
            "bottom": null,
            "_model_module": "@jupyter-widgets/base",
            "top": null,
            "grid_column": null,
            "overflow_y": null,
            "overflow_x": null,
            "grid_auto_flow": null,
            "grid_area": null,
            "grid_template_columns": null,
            "flex": null,
            "_model_name": "LayoutModel",
            "justify_items": null,
            "grid_row": null,
            "max_height": null,
            "align_content": null,
            "visibility": null,
            "align_self": null,
            "height": null,
            "min_height": null,
            "padding": null,
            "grid_auto_rows": null,
            "grid_gap": null,
            "max_width": null,
            "order": null,
            "_view_module_version": "1.2.0",
            "grid_template_areas": null,
            "object_position": null,
            "object_fit": null,
            "grid_auto_columns": null,
            "margin": null,
            "display": null,
            "left": null
          }
        },
        "5b8b03c01f7c40379d6c9474749e35e7": {
          "model_module": "@jupyter-widgets/controls",
          "model_name": "HTMLModel",
          "model_module_version": "1.5.0",
          "state": {
            "_view_name": "HTMLView",
            "style": "IPY_MODEL_dc6cfd0b84df4618b5963547ef793398",
            "_dom_classes": [],
            "description": "",
            "_model_name": "HTMLModel",
            "placeholder": "​",
            "_view_module": "@jupyter-widgets/controls",
            "_model_module_version": "1.5.0",
            "value": "Downloading: 100%",
            "_view_count": null,
            "_view_module_version": "1.5.0",
            "description_tooltip": null,
            "_model_module": "@jupyter-widgets/controls",
            "layout": "IPY_MODEL_f6d661ee55fe44d093a52115db2c205e"
          }
        },
        "3656d45072994ba794ac03270039c588": {
          "model_module": "@jupyter-widgets/controls",
          "model_name": "FloatProgressModel",
          "model_module_version": "1.5.0",
          "state": {
            "_view_name": "ProgressView",
            "style": "IPY_MODEL_a6576d5c40514674b6cce2a92fba9cea",
            "_dom_classes": [],
            "description": "",
            "_model_name": "FloatProgressModel",
            "bar_style": "success",
            "max": 657434796,
            "_view_module": "@jupyter-widgets/controls",
            "_model_module_version": "1.5.0",
            "value": 657434796,
            "_view_count": null,
            "_view_module_version": "1.5.0",
            "orientation": "horizontal",
            "min": 0,
            "description_tooltip": null,
            "_model_module": "@jupyter-widgets/controls",
            "layout": "IPY_MODEL_32d11a1368a54bde8d815a29f9d1a470"
          }
        },
        "74896c044b5a48498774277ef187dd8e": {
          "model_module": "@jupyter-widgets/controls",
          "model_name": "HTMLModel",
          "model_module_version": "1.5.0",
          "state": {
            "_view_name": "HTMLView",
            "style": "IPY_MODEL_e59af2e6a6584fad83df035565d3c508",
            "_dom_classes": [],
            "description": "",
            "_model_name": "HTMLModel",
            "placeholder": "​",
            "_view_module": "@jupyter-widgets/controls",
            "_model_module_version": "1.5.0",
            "value": " 627M/627M [00:11&lt;00:00, 56.0MB/s]",
            "_view_count": null,
            "_view_module_version": "1.5.0",
            "description_tooltip": null,
            "_model_module": "@jupyter-widgets/controls",
            "layout": "IPY_MODEL_9bc76e1d7dec4d988eba07ec2ea8a924"
          }
        },
        "dc6cfd0b84df4618b5963547ef793398": {
          "model_module": "@jupyter-widgets/controls",
          "model_name": "DescriptionStyleModel",
          "model_module_version": "1.5.0",
          "state": {
            "_view_name": "StyleView",
            "_model_name": "DescriptionStyleModel",
            "description_width": "",
            "_view_module": "@jupyter-widgets/base",
            "_model_module_version": "1.5.0",
            "_view_count": null,
            "_view_module_version": "1.2.0",
            "_model_module": "@jupyter-widgets/controls"
          }
        },
        "f6d661ee55fe44d093a52115db2c205e": {
          "model_module": "@jupyter-widgets/base",
          "model_name": "LayoutModel",
          "model_module_version": "1.2.0",
          "state": {
            "_view_name": "LayoutView",
            "grid_template_rows": null,
            "right": null,
            "justify_content": null,
            "_view_module": "@jupyter-widgets/base",
            "overflow": null,
            "_model_module_version": "1.2.0",
            "_view_count": null,
            "flex_flow": null,
            "width": null,
            "min_width": null,
            "border": null,
            "align_items": null,
            "bottom": null,
            "_model_module": "@jupyter-widgets/base",
            "top": null,
            "grid_column": null,
            "overflow_y": null,
            "overflow_x": null,
            "grid_auto_flow": null,
            "grid_area": null,
            "grid_template_columns": null,
            "flex": null,
            "_model_name": "LayoutModel",
            "justify_items": null,
            "grid_row": null,
            "max_height": null,
            "align_content": null,
            "visibility": null,
            "align_self": null,
            "height": null,
            "min_height": null,
            "padding": null,
            "grid_auto_rows": null,
            "grid_gap": null,
            "max_width": null,
            "order": null,
            "_view_module_version": "1.2.0",
            "grid_template_areas": null,
            "object_position": null,
            "object_fit": null,
            "grid_auto_columns": null,
            "margin": null,
            "display": null,
            "left": null
          }
        },
        "a6576d5c40514674b6cce2a92fba9cea": {
          "model_module": "@jupyter-widgets/controls",
          "model_name": "ProgressStyleModel",
          "model_module_version": "1.5.0",
          "state": {
            "_view_name": "StyleView",
            "_model_name": "ProgressStyleModel",
            "description_width": "",
            "_view_module": "@jupyter-widgets/base",
            "_model_module_version": "1.5.0",
            "_view_count": null,
            "_view_module_version": "1.2.0",
            "bar_color": null,
            "_model_module": "@jupyter-widgets/controls"
          }
        },
        "32d11a1368a54bde8d815a29f9d1a470": {
          "model_module": "@jupyter-widgets/base",
          "model_name": "LayoutModel",
          "model_module_version": "1.2.0",
          "state": {
            "_view_name": "LayoutView",
            "grid_template_rows": null,
            "right": null,
            "justify_content": null,
            "_view_module": "@jupyter-widgets/base",
            "overflow": null,
            "_model_module_version": "1.2.0",
            "_view_count": null,
            "flex_flow": null,
            "width": null,
            "min_width": null,
            "border": null,
            "align_items": null,
            "bottom": null,
            "_model_module": "@jupyter-widgets/base",
            "top": null,
            "grid_column": null,
            "overflow_y": null,
            "overflow_x": null,
            "grid_auto_flow": null,
            "grid_area": null,
            "grid_template_columns": null,
            "flex": null,
            "_model_name": "LayoutModel",
            "justify_items": null,
            "grid_row": null,
            "max_height": null,
            "align_content": null,
            "visibility": null,
            "align_self": null,
            "height": null,
            "min_height": null,
            "padding": null,
            "grid_auto_rows": null,
            "grid_gap": null,
            "max_width": null,
            "order": null,
            "_view_module_version": "1.2.0",
            "grid_template_areas": null,
            "object_position": null,
            "object_fit": null,
            "grid_auto_columns": null,
            "margin": null,
            "display": null,
            "left": null
          }
        },
        "e59af2e6a6584fad83df035565d3c508": {
          "model_module": "@jupyter-widgets/controls",
          "model_name": "DescriptionStyleModel",
          "model_module_version": "1.5.0",
          "state": {
            "_view_name": "StyleView",
            "_model_name": "DescriptionStyleModel",
            "description_width": "",
            "_view_module": "@jupyter-widgets/base",
            "_model_module_version": "1.5.0",
            "_view_count": null,
            "_view_module_version": "1.2.0",
            "_model_module": "@jupyter-widgets/controls"
          }
        },
        "9bc76e1d7dec4d988eba07ec2ea8a924": {
          "model_module": "@jupyter-widgets/base",
          "model_name": "LayoutModel",
          "model_module_version": "1.2.0",
          "state": {
            "_view_name": "LayoutView",
            "grid_template_rows": null,
            "right": null,
            "justify_content": null,
            "_view_module": "@jupyter-widgets/base",
            "overflow": null,
            "_model_module_version": "1.2.0",
            "_view_count": null,
            "flex_flow": null,
            "width": null,
            "min_width": null,
            "border": null,
            "align_items": null,
            "bottom": null,
            "_model_module": "@jupyter-widgets/base",
            "top": null,
            "grid_column": null,
            "overflow_y": null,
            "overflow_x": null,
            "grid_auto_flow": null,
            "grid_area": null,
            "grid_template_columns": null,
            "flex": null,
            "_model_name": "LayoutModel",
            "justify_items": null,
            "grid_row": null,
            "max_height": null,
            "align_content": null,
            "visibility": null,
            "align_self": null,
            "height": null,
            "min_height": null,
            "padding": null,
            "grid_auto_rows": null,
            "grid_gap": null,
            "max_width": null,
            "order": null,
            "_view_module_version": "1.2.0",
            "grid_template_areas": null,
            "object_position": null,
            "object_fit": null,
            "grid_auto_columns": null,
            "margin": null,
            "display": null,
            "left": null
          }
        }
      }
    }
  },
  "cells": [
    {
      "cell_type": "markdown",
      "metadata": {
        "id": "view-in-github",
        "colab_type": "text"
      },
      "source": [
        "<a href=\"https://colab.research.google.com/github/nazmus007/transformers_test/blob/main/roberta_and_tpus_semeval_run1.ipynb\" target=\"_parent\"><img src=\"https://colab.research.google.com/assets/colab-badge.svg\" alt=\"Open In Colab\"/></a>"
      ]
    },
    {
      "cell_type": "markdown",
      "metadata": {
        "papermill": {
          "duration": 0.013944,
          "end_time": "2020-08-17T00:58:47.141883",
          "exception": false,
          "start_time": "2020-08-17T00:58:47.127939",
          "status": "completed"
        },
        "tags": [],
        "id": "uLDawlaJbSij"
      },
      "source": [
        "# Text Classification with RoBERTa\n",
        "\n",
        "The RoBERTa model was proposed in RoBERTa: A Robustly Optimized BERT Pretraining Approach by Yinhan Liu et al. It is based on Google’s BERT model released in 2018: it modifies key hyperparameters, removing the next-sentence pretraining objective and training with much larger mini-batches and learning rates.\n",
        "\n",
        "See:\n",
        "- RoBERTa's paper: https://arxiv.org/pdf/1907.11692.pdf\n",
        "- BERT's paper: https://arxiv.org/pdf/1810.04805.pdf"
      ]
    },
    {
      "cell_type": "code",
      "metadata": {
        "colab": {
          "base_uri": "https://localhost:8080/"
        },
        "id": "kHPmPndEbZB-",
        "outputId": "22429984-05e5-4b15-f8f2-afb886f843dc"
      },
      "source": [
        "!pip install -qq transformers"
      ],
      "execution_count": 1,
      "outputs": [
        {
          "output_type": "stream",
          "name": "stdout",
          "text": [
            "\u001b[K     |████████████████████████████████| 2.9 MB 5.4 MB/s \n",
            "\u001b[K     |████████████████████████████████| 3.3 MB 64.4 MB/s \n",
            "\u001b[K     |████████████████████████████████| 56 kB 5.3 MB/s \n",
            "\u001b[K     |████████████████████████████████| 636 kB 79.2 MB/s \n",
            "\u001b[K     |████████████████████████████████| 895 kB 69.5 MB/s \n",
            "\u001b[?25h"
          ]
        }
      ]
    },
    {
      "cell_type": "code",
      "metadata": {
        "execution": {
          "iopub.execute_input": "2020-08-17T00:58:47.177202Z",
          "iopub.status.busy": "2020-08-17T00:58:47.176190Z",
          "iopub.status.idle": "2020-08-17T00:58:57.520104Z",
          "shell.execute_reply": "2020-08-17T00:58:57.519406Z"
        },
        "papermill": {
          "duration": 10.36626,
          "end_time": "2020-08-17T00:58:57.520250",
          "exception": false,
          "start_time": "2020-08-17T00:58:47.153990",
          "status": "completed"
        },
        "tags": [],
        "id": "vr7jGmOsbSip"
      },
      "source": [
        "import numpy as np\n",
        "import regex as re\n",
        "import pandas as pd\n",
        "import matplotlib.pyplot as plt\n",
        "import seaborn as sns\n",
        "import statistics\n",
        "import math\n",
        "import os\n",
        "\n",
        "from sklearn.model_selection import StratifiedKFold\n",
        "from sklearn.metrics import accuracy_score,classification_report,confusion_matrix\n",
        "from sklearn.model_selection import train_test_split\n",
        "\n",
        "import tensorflow as tf\n",
        "import tensorflow.keras.backend as K\n",
        "import tokenizers\n",
        "from transformers import RobertaTokenizer, TFRobertaModel\n",
        "\n",
        "from collections import Counter\n",
        "\n",
        "import warnings\n",
        "warnings.filterwarnings(\"ignore\")"
      ],
      "execution_count": 49,
      "outputs": []
    },
    {
      "cell_type": "code",
      "metadata": {
        "execution": {
          "iopub.execute_input": "2020-08-17T00:58:57.554786Z",
          "iopub.status.busy": "2020-08-17T00:58:57.548463Z",
          "iopub.status.idle": "2020-08-17T00:59:02.123739Z",
          "shell.execute_reply": "2020-08-17T00:59:02.123130Z"
        },
        "papermill": {
          "duration": 4.59451,
          "end_time": "2020-08-17T00:59:02.123874",
          "exception": false,
          "start_time": "2020-08-17T00:58:57.529364",
          "status": "completed"
        },
        "tags": [],
        "colab": {
          "base_uri": "https://localhost:8080/"
        },
        "id": "Hwd2BtbbbSit",
        "outputId": "28f944f0-3be3-4309-91dd-98fe7c3c044d"
      },
      "source": [
        "# Detect hardware, return appropriate distribution strategy (you can see that it is pretty easy to set up).\n",
        "try:\n",
        "    # TPU detection. No parameters necessary if TPU_NAME environment variable is set (always set in Kaggle)\n",
        "    tpu = tf.distribute.cluster_resolver.TPUClusterResolver()\n",
        "    tf.config.experimental_connect_to_cluster(tpu)\n",
        "    tf.tpu.experimental.initialize_tpu_system(tpu)\n",
        "    strategy = tf.distribute.experimental.TPUStrategy(tpu)\n",
        "    print('Running on TPU ', tpu.master())\n",
        "except ValueError:\n",
        "    # Default distribution strategy in Tensorflow. Works on CPU and single GPU.\n",
        "    strategy = tf.distribute.get_strategy()\n",
        "\n",
        "print('Number of replicas:', strategy.num_replicas_in_sync)"
      ],
      "execution_count": 3,
      "outputs": [
        {
          "output_type": "stream",
          "name": "stderr",
          "text": [
            "INFO:absl:Entering into master device scope: /job:worker/replica:0/task:0/device:CPU:0\n"
          ]
        },
        {
          "output_type": "stream",
          "name": "stdout",
          "text": [
            "INFO:tensorflow:Clearing out eager caches\n"
          ]
        },
        {
          "output_type": "stream",
          "name": "stderr",
          "text": [
            "INFO:tensorflow:Clearing out eager caches\n"
          ]
        },
        {
          "output_type": "stream",
          "name": "stdout",
          "text": [
            "INFO:tensorflow:Initializing the TPU system: grpc://10.106.27.2:8470\n"
          ]
        },
        {
          "output_type": "stream",
          "name": "stderr",
          "text": [
            "INFO:tensorflow:Initializing the TPU system: grpc://10.106.27.2:8470\n"
          ]
        },
        {
          "output_type": "stream",
          "name": "stdout",
          "text": [
            "INFO:tensorflow:Finished initializing TPU system.\n"
          ]
        },
        {
          "output_type": "stream",
          "name": "stderr",
          "text": [
            "INFO:tensorflow:Finished initializing TPU system.\n",
            "WARNING:absl:`tf.distribute.experimental.TPUStrategy` is deprecated, please use  the non experimental symbol `tf.distribute.TPUStrategy` instead.\n"
          ]
        },
        {
          "output_type": "stream",
          "name": "stdout",
          "text": [
            "INFO:tensorflow:Found TPU system:\n"
          ]
        },
        {
          "output_type": "stream",
          "name": "stderr",
          "text": [
            "INFO:tensorflow:Found TPU system:\n"
          ]
        },
        {
          "output_type": "stream",
          "name": "stdout",
          "text": [
            "INFO:tensorflow:*** Num TPU Cores: 8\n"
          ]
        },
        {
          "output_type": "stream",
          "name": "stderr",
          "text": [
            "INFO:tensorflow:*** Num TPU Cores: 8\n"
          ]
        },
        {
          "output_type": "stream",
          "name": "stdout",
          "text": [
            "INFO:tensorflow:*** Num TPU Workers: 1\n"
          ]
        },
        {
          "output_type": "stream",
          "name": "stderr",
          "text": [
            "INFO:tensorflow:*** Num TPU Workers: 1\n"
          ]
        },
        {
          "output_type": "stream",
          "name": "stdout",
          "text": [
            "INFO:tensorflow:*** Num TPU Cores Per Worker: 8\n"
          ]
        },
        {
          "output_type": "stream",
          "name": "stderr",
          "text": [
            "INFO:tensorflow:*** Num TPU Cores Per Worker: 8\n"
          ]
        },
        {
          "output_type": "stream",
          "name": "stdout",
          "text": [
            "INFO:tensorflow:*** Available Device: _DeviceAttributes(/job:localhost/replica:0/task:0/device:CPU:0, CPU, 0, 0)\n"
          ]
        },
        {
          "output_type": "stream",
          "name": "stderr",
          "text": [
            "INFO:tensorflow:*** Available Device: _DeviceAttributes(/job:localhost/replica:0/task:0/device:CPU:0, CPU, 0, 0)\n"
          ]
        },
        {
          "output_type": "stream",
          "name": "stdout",
          "text": [
            "INFO:tensorflow:*** Available Device: _DeviceAttributes(/job:worker/replica:0/task:0/device:CPU:0, CPU, 0, 0)\n"
          ]
        },
        {
          "output_type": "stream",
          "name": "stderr",
          "text": [
            "INFO:tensorflow:*** Available Device: _DeviceAttributes(/job:worker/replica:0/task:0/device:CPU:0, CPU, 0, 0)\n"
          ]
        },
        {
          "output_type": "stream",
          "name": "stdout",
          "text": [
            "INFO:tensorflow:*** Available Device: _DeviceAttributes(/job:worker/replica:0/task:0/device:TPU:0, TPU, 0, 0)\n"
          ]
        },
        {
          "output_type": "stream",
          "name": "stderr",
          "text": [
            "INFO:tensorflow:*** Available Device: _DeviceAttributes(/job:worker/replica:0/task:0/device:TPU:0, TPU, 0, 0)\n"
          ]
        },
        {
          "output_type": "stream",
          "name": "stdout",
          "text": [
            "INFO:tensorflow:*** Available Device: _DeviceAttributes(/job:worker/replica:0/task:0/device:TPU:1, TPU, 0, 0)\n"
          ]
        },
        {
          "output_type": "stream",
          "name": "stderr",
          "text": [
            "INFO:tensorflow:*** Available Device: _DeviceAttributes(/job:worker/replica:0/task:0/device:TPU:1, TPU, 0, 0)\n"
          ]
        },
        {
          "output_type": "stream",
          "name": "stdout",
          "text": [
            "INFO:tensorflow:*** Available Device: _DeviceAttributes(/job:worker/replica:0/task:0/device:TPU:2, TPU, 0, 0)\n"
          ]
        },
        {
          "output_type": "stream",
          "name": "stderr",
          "text": [
            "INFO:tensorflow:*** Available Device: _DeviceAttributes(/job:worker/replica:0/task:0/device:TPU:2, TPU, 0, 0)\n"
          ]
        },
        {
          "output_type": "stream",
          "name": "stdout",
          "text": [
            "INFO:tensorflow:*** Available Device: _DeviceAttributes(/job:worker/replica:0/task:0/device:TPU:3, TPU, 0, 0)\n"
          ]
        },
        {
          "output_type": "stream",
          "name": "stderr",
          "text": [
            "INFO:tensorflow:*** Available Device: _DeviceAttributes(/job:worker/replica:0/task:0/device:TPU:3, TPU, 0, 0)\n"
          ]
        },
        {
          "output_type": "stream",
          "name": "stdout",
          "text": [
            "INFO:tensorflow:*** Available Device: _DeviceAttributes(/job:worker/replica:0/task:0/device:TPU:4, TPU, 0, 0)\n"
          ]
        },
        {
          "output_type": "stream",
          "name": "stderr",
          "text": [
            "INFO:tensorflow:*** Available Device: _DeviceAttributes(/job:worker/replica:0/task:0/device:TPU:4, TPU, 0, 0)\n"
          ]
        },
        {
          "output_type": "stream",
          "name": "stdout",
          "text": [
            "INFO:tensorflow:*** Available Device: _DeviceAttributes(/job:worker/replica:0/task:0/device:TPU:5, TPU, 0, 0)\n"
          ]
        },
        {
          "output_type": "stream",
          "name": "stderr",
          "text": [
            "INFO:tensorflow:*** Available Device: _DeviceAttributes(/job:worker/replica:0/task:0/device:TPU:5, TPU, 0, 0)\n"
          ]
        },
        {
          "output_type": "stream",
          "name": "stdout",
          "text": [
            "INFO:tensorflow:*** Available Device: _DeviceAttributes(/job:worker/replica:0/task:0/device:TPU:6, TPU, 0, 0)\n"
          ]
        },
        {
          "output_type": "stream",
          "name": "stderr",
          "text": [
            "INFO:tensorflow:*** Available Device: _DeviceAttributes(/job:worker/replica:0/task:0/device:TPU:6, TPU, 0, 0)\n"
          ]
        },
        {
          "output_type": "stream",
          "name": "stdout",
          "text": [
            "INFO:tensorflow:*** Available Device: _DeviceAttributes(/job:worker/replica:0/task:0/device:TPU:7, TPU, 0, 0)\n"
          ]
        },
        {
          "output_type": "stream",
          "name": "stderr",
          "text": [
            "INFO:tensorflow:*** Available Device: _DeviceAttributes(/job:worker/replica:0/task:0/device:TPU:7, TPU, 0, 0)\n"
          ]
        },
        {
          "output_type": "stream",
          "name": "stdout",
          "text": [
            "INFO:tensorflow:*** Available Device: _DeviceAttributes(/job:worker/replica:0/task:0/device:TPU_SYSTEM:0, TPU_SYSTEM, 0, 0)\n"
          ]
        },
        {
          "output_type": "stream",
          "name": "stderr",
          "text": [
            "INFO:tensorflow:*** Available Device: _DeviceAttributes(/job:worker/replica:0/task:0/device:TPU_SYSTEM:0, TPU_SYSTEM, 0, 0)\n"
          ]
        },
        {
          "output_type": "stream",
          "name": "stdout",
          "text": [
            "INFO:tensorflow:*** Available Device: _DeviceAttributes(/job:worker/replica:0/task:0/device:XLA_CPU:0, XLA_CPU, 0, 0)\n"
          ]
        },
        {
          "output_type": "stream",
          "name": "stderr",
          "text": [
            "INFO:tensorflow:*** Available Device: _DeviceAttributes(/job:worker/replica:0/task:0/device:XLA_CPU:0, XLA_CPU, 0, 0)\n"
          ]
        },
        {
          "output_type": "stream",
          "name": "stdout",
          "text": [
            "Running on TPU  grpc://10.106.27.2:8470\n",
            "Number of replicas: 8\n"
          ]
        }
      ]
    },
    {
      "cell_type": "code",
      "metadata": {
        "execution": {
          "iopub.execute_input": "2020-08-17T00:59:02.149207Z",
          "iopub.status.busy": "2020-08-17T00:59:02.148412Z",
          "iopub.status.idle": "2020-08-17T00:59:02.152199Z",
          "shell.execute_reply": "2020-08-17T00:59:02.151582Z"
        },
        "papermill": {
          "duration": 0.019427,
          "end_time": "2020-08-17T00:59:02.152327",
          "exception": false,
          "start_time": "2020-08-17T00:59:02.132900",
          "status": "completed"
        },
        "tags": [],
        "id": "GEaE3IfNbSiv"
      },
      "source": [
        "MODEL_NAME = 'roberta-base'\n",
        "MAX_LEN = 128\n",
        "ARTIFACTS_PATH = './drive/MyDrive/artifacts_2/'\n",
        "\n",
        "BATCH_SIZE = 8 * strategy.num_replicas_in_sync\n",
        "EPOCHS = 4\n",
        "\n",
        "if not os.path.exists(ARTIFACTS_PATH):\n",
        "    os.makedirs(ARTIFACTS_PATH)"
      ],
      "execution_count": 33,
      "outputs": []
    },
    {
      "cell_type": "code",
      "metadata": {
        "colab": {
          "base_uri": "https://localhost:8080/"
        },
        "id": "gozW-CGfcW3M",
        "outputId": "dbaa890a-9bae-4655-ccfc-daecf6fca7aa"
      },
      "source": [
        "from google.colab import drive\n",
        "drive.mount('/gdrive')"
      ],
      "execution_count": 4,
      "outputs": [
        {
          "output_type": "stream",
          "name": "stdout",
          "text": [
            "Mounted at /gdrive\n"
          ]
        }
      ]
    },
    {
      "cell_type": "code",
      "metadata": {
        "id": "TpYkB-u6tHq6"
      },
      "source": [
        "exit()"
      ],
      "execution_count": null,
      "outputs": []
    },
    {
      "cell_type": "markdown",
      "metadata": {
        "papermill": {
          "duration": 0.008666,
          "end_time": "2020-08-17T00:59:02.170047",
          "exception": false,
          "start_time": "2020-08-17T00:59:02.161381",
          "status": "completed"
        },
        "tags": [],
        "id": "Az2_QwhebSiw"
      },
      "source": [
        "## Prepare dataset\n",
        "\n",
        "Note that I have already cleaned the dataset, so the training should be better:\n",
        "- Remove punctuation symbols and double white spaces.\n",
        "- Lemmatization.\n",
        "- Remove stop words (see `spacy.lang.en.stop_words.STOP_WORDS`).\n",
        "- TD-IDF\n",
        "\n",
        "The reason of this preprocess is that I have used this dataset with other models, such as LSTM. However, I believe (I didn't test it) that RoBERTa could deal with it."
      ]
    },
    {
      "cell_type": "code",
      "metadata": {
        "execution": {
          "iopub.execute_input": "2020-08-17T00:59:02.195556Z",
          "iopub.status.busy": "2020-08-17T00:59:02.194688Z",
          "iopub.status.idle": "2020-08-17T00:59:02.257868Z",
          "shell.execute_reply": "2020-08-17T00:59:02.258452Z"
        },
        "papermill": {
          "duration": 0.079526,
          "end_time": "2020-08-17T00:59:02.258609",
          "exception": false,
          "start_time": "2020-08-17T00:59:02.179083",
          "status": "completed"
        },
        "tags": [],
        "colab": {
          "base_uri": "https://localhost:8080/",
          "height": 206
        },
        "id": "W7PPJOFNbSix",
        "outputId": "3d8453ed-afaf-4b8e-ba78-a1ccea5e3a27"
      },
      "source": [
        "df = pd.read_csv('/gdrive/MyDrive/datasets/cleaned_semeval_wnotebook_5.csv')\n",
        "df.head()"
      ],
      "execution_count": 6,
      "outputs": [
        {
          "output_type": "execute_result",
          "data": {
            "text/html": [
              "<div>\n",
              "<style scoped>\n",
              "    .dataframe tbody tr th:only-of-type {\n",
              "        vertical-align: middle;\n",
              "    }\n",
              "\n",
              "    .dataframe tbody tr th {\n",
              "        vertical-align: top;\n",
              "    }\n",
              "\n",
              "    .dataframe thead th {\n",
              "        text-align: right;\n",
              "    }\n",
              "</style>\n",
              "<table border=\"1\" class=\"dataframe\">\n",
              "  <thead>\n",
              "    <tr style=\"text-align: right;\">\n",
              "      <th></th>\n",
              "      <th>Tweet index</th>\n",
              "      <th>Label</th>\n",
              "      <th>Tweet</th>\n",
              "    </tr>\n",
              "  </thead>\n",
              "  <tbody>\n",
              "    <tr>\n",
              "      <th>0</th>\n",
              "      <td>1</td>\n",
              "      <td>1</td>\n",
              "      <td>sweet united nations video just in time for ch...</td>\n",
              "    </tr>\n",
              "    <tr>\n",
              "      <th>1</th>\n",
              "      <td>2</td>\n",
              "      <td>1</td>\n",
              "      <td>we are rumored to have talked to erv is agent ...</td>\n",
              "    </tr>\n",
              "    <tr>\n",
              "      <th>2</th>\n",
              "      <td>3</td>\n",
              "      <td>1</td>\n",
              "      <td>hey there nice to see you minnesotand winter w...</td>\n",
              "    </tr>\n",
              "    <tr>\n",
              "      <th>3</th>\n",
              "      <td>4</td>\n",
              "      <td>0</td>\n",
              "      <td>3 episodes left i am dying over here</td>\n",
              "    </tr>\n",
              "    <tr>\n",
              "      <th>4</th>\n",
              "      <td>5</td>\n",
              "      <td>1</td>\n",
              "      <td>i cannot breathe was chosen as the most notabl...</td>\n",
              "    </tr>\n",
              "  </tbody>\n",
              "</table>\n",
              "</div>"
            ],
            "text/plain": [
              "   Tweet index  Label                                              Tweet\n",
              "0            1      1  sweet united nations video just in time for ch...\n",
              "1            2      1  we are rumored to have talked to erv is agent ...\n",
              "2            3      1  hey there nice to see you minnesotand winter w...\n",
              "3            4      0               3 episodes left i am dying over here\n",
              "4            5      1  i cannot breathe was chosen as the most notabl..."
            ]
          },
          "metadata": {},
          "execution_count": 6
        }
      ]
    },
    {
      "cell_type": "code",
      "metadata": {
        "id": "0aOt6Z8E_3nb"
      },
      "source": [
        "df = df.drop(['Tweet index'],axis=1)"
      ],
      "execution_count": 8,
      "outputs": []
    },
    {
      "cell_type": "code",
      "metadata": {
        "id": "d4c4oM-uubVv"
      },
      "source": [
        "df.dropna(subset = [\"Tweet\"], inplace=True)"
      ],
      "execution_count": 9,
      "outputs": []
    },
    {
      "cell_type": "code",
      "metadata": {
        "id": "KIau-Kty4OqP"
      },
      "source": [
        "import emoji\n",
        "def extract_emojis(s):\n",
        "    return ''.join((' '+c+' ') if c in emoji.UNICODE_EMOJI['en'] else c for c in s)"
      ],
      "execution_count": 11,
      "outputs": []
    },
    {
      "cell_type": "code",
      "metadata": {
        "id": "e6FK2FJf_e1r"
      },
      "source": [
        "df['Tweet'] = df['Tweet'].apply(extract_emojis)"
      ],
      "execution_count": 12,
      "outputs": []
    },
    {
      "cell_type": "code",
      "metadata": {
        "execution": {
          "iopub.execute_input": "2020-08-17T00:59:02.292536Z",
          "iopub.status.busy": "2020-08-17T00:59:02.291626Z",
          "iopub.status.idle": "2020-08-17T00:59:02.295159Z",
          "shell.execute_reply": "2020-08-17T00:59:02.294382Z"
        },
        "papermill": {
          "duration": 0.027193,
          "end_time": "2020-08-17T00:59:02.295293",
          "exception": false,
          "start_time": "2020-08-17T00:59:02.268100",
          "status": "completed"
        },
        "tags": [],
        "id": "KC81JL8ybSiy"
      },
      "source": [
        "X_data = df[['Tweet']].to_numpy()\n",
        "y_data = df[['Label']].to_numpy()"
      ],
      "execution_count": 13,
      "outputs": []
    },
    {
      "cell_type": "code",
      "metadata": {
        "id": "eeJM47C6eiLt"
      },
      "source": [
        "X_data = X_data.reshape(-1)\n",
        "y_data = y_data.reshape(-1)"
      ],
      "execution_count": 14,
      "outputs": []
    },
    {
      "cell_type": "code",
      "metadata": {
        "colab": {
          "base_uri": "https://localhost:8080/"
        },
        "id": "gYrWT7z15dq_",
        "outputId": "c7c0c65c-8d0f-40ec-87d4-2fa1b9db681f"
      },
      "source": [
        "print(X_data[90:93])"
      ],
      "execution_count": 15,
      "outputs": [
        {
          "output_type": "stream",
          "name": "stdout",
          "text": [
            "['not even 8am and i can already see this is going to be a wonderful day  needmorecoffee'\n",
            " 'i have an idea how about 911 operators do not ever describe raceand police have to wear color blind glasses'\n",
            " 'but russell is a good christian fella he would not do that']\n"
          ]
        }
      ]
    },
    {
      "cell_type": "code",
      "metadata": {
        "colab": {
          "base_uri": "https://localhost:8080/"
        },
        "id": "QgMQxTzB_WUW",
        "outputId": "9ea7062e-6502-4d38-bced-7d1ab14e7e0b"
      },
      "source": [
        "!pip install emoji"
      ],
      "execution_count": 10,
      "outputs": [
        {
          "output_type": "stream",
          "name": "stdout",
          "text": [
            "Collecting emoji\n",
            "  Downloading emoji-1.6.0.tar.gz (168 kB)\n",
            "\u001b[?25l\r\u001b[K     |██                              | 10 kB 25.6 MB/s eta 0:00:01\r\u001b[K     |███▉                            | 20 kB 31.8 MB/s eta 0:00:01\r\u001b[K     |█████▉                          | 30 kB 12.7 MB/s eta 0:00:01\r\u001b[K     |███████▊                        | 40 kB 9.9 MB/s eta 0:00:01\r\u001b[K     |█████████▊                      | 51 kB 5.4 MB/s eta 0:00:01\r\u001b[K     |███████████▋                    | 61 kB 6.0 MB/s eta 0:00:01\r\u001b[K     |█████████████▋                  | 71 kB 5.7 MB/s eta 0:00:01\r\u001b[K     |███████████████▌                | 81 kB 6.4 MB/s eta 0:00:01\r\u001b[K     |█████████████████▌              | 92 kB 4.9 MB/s eta 0:00:01\r\u001b[K     |███████████████████▍            | 102 kB 5.3 MB/s eta 0:00:01\r\u001b[K     |█████████████████████▍          | 112 kB 5.3 MB/s eta 0:00:01\r\u001b[K     |███████████████████████▎        | 122 kB 5.3 MB/s eta 0:00:01\r\u001b[K     |█████████████████████████▎      | 133 kB 5.3 MB/s eta 0:00:01\r\u001b[K     |███████████████████████████▏    | 143 kB 5.3 MB/s eta 0:00:01\r\u001b[K     |█████████████████████████████▏  | 153 kB 5.3 MB/s eta 0:00:01\r\u001b[K     |███████████████████████████████ | 163 kB 5.3 MB/s eta 0:00:01\r\u001b[K     |████████████████████████████████| 168 kB 5.3 MB/s \n",
            "\u001b[?25hBuilding wheels for collected packages: emoji\n",
            "  Building wheel for emoji (setup.py) ... \u001b[?25l\u001b[?25hdone\n",
            "  Created wheel for emoji: filename=emoji-1.6.0-py3-none-any.whl size=168256 sha256=f666fca18460ec605a88212cd76c9226d432b29d4d48266c1c8670844988ac1f\n",
            "  Stored in directory: /root/.cache/pip/wheels/f7/d7/74/c720aaf345a042b0c2d74361873258c5e8649b7f11b2ccce49\n",
            "Successfully built emoji\n",
            "Installing collected packages: emoji\n",
            "Successfully installed emoji-1.6.0\n"
          ]
        }
      ]
    },
    {
      "cell_type": "code",
      "metadata": {
        "colab": {
          "base_uri": "https://localhost:8080/"
        },
        "id": "IxdX6mIbesHQ",
        "outputId": "ded48aa5-6ba0-4380-884f-62b80b0ed5b8"
      },
      "source": [
        "print(X_data[:10])"
      ],
      "execution_count": null,
      "outputs": [
        {
          "output_type": "stream",
          "name": "stdout",
          "text": [
            "['peyton obviously cannot finish games he just throws interceptions when the game is on the line just like romo firepeytonmanning '\n",
            " 'well i would love to be sleeping right now but nooooooo lets just stay awake all might that is what i wanted to do  cantsleep blah'\n",
            " 'my biggest executive decision today choosing between georgetown cupcakes andamp sprinkles i still have not decided '\n",
            " ' the first quality opponent they played in 2 years and they lose shocked '\n",
            " ' but do not you dare call it hate crimes  liberallogic'\n",
            " 'its always a good day when you think you failed a test '\n",
            " 'i am going to have such a wonderful weekend yay so stoked just kidding  tothemax'\n",
            " 'great i have a night class next semester oh the joy '\n",
            " '   loll hahahahahahaha funny as he will funny '\n",
            " 'this week just keeps getting better and better ']\n"
          ]
        }
      ]
    },
    {
      "cell_type": "markdown",
      "metadata": {
        "papermill": {
          "duration": 0.009105,
          "end_time": "2020-08-17T00:59:02.314235",
          "exception": false,
          "start_time": "2020-08-17T00:59:02.305130",
          "status": "completed"
        },
        "tags": [],
        "id": "JmZIlfJLbSiy"
      },
      "source": [
        "# Dataset analysis\n",
        "\n",
        "As you can see in the following plot, the samples **are not balanced**. This could cause problems during the training but, since they are not highly unbalanced, I have left it as it is.\n",
        "\n",
        "In other cases, such as fraud detecting where the positive classes are very few compared to the negative ones, we must apply techniques to balance it. For example, we could undersample the biggest category."
      ]
    },
    {
      "cell_type": "code",
      "metadata": {
        "execution": {
          "iopub.execute_input": "2020-08-17T00:59:02.345719Z",
          "iopub.status.busy": "2020-08-17T00:59:02.344849Z",
          "iopub.status.idle": "2020-08-17T00:59:02.551796Z",
          "shell.execute_reply": "2020-08-17T00:59:02.552389Z"
        },
        "papermill": {
          "duration": 0.229019,
          "end_time": "2020-08-17T00:59:02.552568",
          "exception": false,
          "start_time": "2020-08-17T00:59:02.323549",
          "status": "completed"
        },
        "tags": [],
        "colab": {
          "base_uri": "https://localhost:8080/",
          "height": 354
        },
        "id": "TK5bHtRtbSiz",
        "outputId": "d255b22e-1ff5-4051-ff61-1c993ad51994"
      },
      "source": [
        "categories = df[['Label']].values.reshape(-1)\n",
        "\n",
        "counter_categories = Counter(categories)\n",
        "category_names = counter_categories.keys()\n",
        "category_values = counter_categories.values()\n",
        "\n",
        "y_pos = np.arange(len(category_names))\n",
        "\n",
        "plt.figure(1, figsize=(10, 5))\n",
        "plt.bar(y_pos, category_values, align='center', alpha=0.5)\n",
        "plt.xticks(y_pos, category_names)\n",
        "plt.ylabel('Number of texts')\n",
        "plt.title('Distribution of texts per category')\n",
        "plt.gca().yaxis.grid(True)\n",
        "plt.show()\n",
        "\n",
        "print(counter_categories)"
      ],
      "execution_count": 16,
      "outputs": [
        {
          "output_type": "display_data",
          "data": {
            "image/png": "[encoded data removed]",
            "text/plain": [
              "<Figure size 720x360 with 1 Axes>"
            ]
          },
          "metadata": {
            "needs_background": "light"
          }
        },
        {
          "output_type": "stream",
          "name": "stdout",
          "text": [
            "Counter({0: 1915, 1: 1901})\n"
          ]
        }
      ]
    },
    {
      "cell_type": "code",
      "metadata": {
        "execution": {
          "iopub.execute_input": "2020-08-17T00:59:02.594121Z",
          "iopub.status.busy": "2020-08-17T00:59:02.593179Z",
          "iopub.status.idle": "2020-08-17T00:59:02.596211Z",
          "shell.execute_reply": "2020-08-17T00:59:02.595575Z"
        },
        "papermill": {
          "duration": 0.033783,
          "end_time": "2020-08-17T00:59:02.596334",
          "exception": false,
          "start_time": "2020-08-17T00:59:02.562551",
          "status": "completed"
        },
        "tags": [],
        "id": "1sV85RTVbSi2"
      },
      "source": [
        "def calculate_stats(df, split_char=' '):\n",
        "    categories = df['Label'].unique()\n",
        "    \n",
        "    all_lengths = []\n",
        "    per_category = {\n",
        "        'lengths': {c:[] for c in categories},\n",
        "        'mean': {c:0 for c in categories},\n",
        "        'stdev': {c:0 for c in categories}\n",
        "    }\n",
        "\n",
        "    for index, row in df.iterrows():\n",
        "        text = row['Tweet']\n",
        "        text = re.sub(r\"\\s+\", ' ', text) # Normalize\n",
        "        text = text.split(split_char)\n",
        "        l = len(text)\n",
        "        \n",
        "        category = row['Label']\n",
        "        \n",
        "        all_lengths.append(l)\n",
        "        per_category['lengths'][category].append(l)\n",
        "    \n",
        "    for c in categories:\n",
        "        per_category['mean'][c] = statistics.mean(per_category['lengths'][c])\n",
        "        per_category['stdev'][c] = statistics.stdev(per_category['lengths'][c])\n",
        "    \n",
        "    global_stats = {\n",
        "        'mean': statistics.mean(all_lengths),\n",
        "        'stdev': statistics.stdev(all_lengths),\n",
        "        'lengths': all_lengths\n",
        "    }\n",
        "    \n",
        "    return {\n",
        "        'global': global_stats,\n",
        "        'per_category': pd.DataFrame(per_category)\n",
        "    }\n",
        "\n",
        "\n",
        "def display_lengths_histograms(df_stats, n_cols=3):\n",
        "    categories = df['Label'].unique()\n",
        "    n_rows = math.ceil(len(categories) / n_cols)\n",
        "    \n",
        "    plt.figure(figsize=(15, 8))\n",
        "    plt.suptitle('Distribution of lengths')\n",
        "    \n",
        "    # Subplot of all lengths\n",
        "    plt.subplot(n_rows, n_cols, 1)\n",
        "    plt.title('All categories')\n",
        "    lengths = df_stats['global']['lengths']\n",
        "    plt.hist(lengths, color='r')\n",
        "\n",
        "    # Subplot of each category\n",
        "    index_subplot = 2\n",
        "    for c in categories:\n",
        "        plt.subplot(n_rows, n_cols, index_subplot)\n",
        "        plt.title('Category: %s' % c)\n",
        "        \n",
        "        lengths = df_stats['per_category']['lengths'][c]\n",
        "        plt.hist(lengths, color='b')\n",
        "\n",
        "        index_subplot += 1\n",
        "\n",
        "    plt.show()"
      ],
      "execution_count": 17,
      "outputs": []
    },
    {
      "cell_type": "markdown",
      "metadata": {
        "papermill": {
          "duration": 0.009466,
          "end_time": "2020-08-17T00:59:02.615755",
          "exception": false,
          "start_time": "2020-08-17T00:59:02.606289",
          "status": "completed"
        },
        "tags": [],
        "id": "yv7RekF3bSi2"
      },
      "source": [
        "In these histograms and stats, we can see that almost all texts contain $500$ or less words. Also, we can see that the average length is very different depending on the category.\n",
        "\n",
        "Please, note that the tokenization process may split words into several parts, so lengths could increase (or decrease too). This is only an orientative result."
      ]
    },
    {
      "cell_type": "code",
      "metadata": {
        "execution": {
          "iopub.execute_input": "2020-08-17T00:59:02.645642Z",
          "iopub.status.busy": "2020-08-17T00:59:02.644559Z",
          "iopub.status.idle": "2020-08-17T00:59:03.414051Z",
          "shell.execute_reply": "2020-08-17T00:59:03.414617Z"
        },
        "papermill": {
          "duration": 0.789333,
          "end_time": "2020-08-17T00:59:03.414792",
          "exception": false,
          "start_time": "2020-08-17T00:59:02.625459",
          "status": "completed"
        },
        "tags": [],
        "id": "wFEIC90XbSi3",
        "colab": {
          "base_uri": "https://localhost:8080/",
          "height": 112
        },
        "outputId": "bf41550b-84cd-4e27-f4f1-6ab02073c408"
      },
      "source": [
        "df_stats = calculate_stats(df)\n",
        "df_stats['per_category']"
      ],
      "execution_count": 18,
      "outputs": [
        {
          "output_type": "execute_result",
          "data": {
            "text/html": [
              "<div>\n",
              "<style scoped>\n",
              "    .dataframe tbody tr th:only-of-type {\n",
              "        vertical-align: middle;\n",
              "    }\n",
              "\n",
              "    .dataframe tbody tr th {\n",
              "        vertical-align: top;\n",
              "    }\n",
              "\n",
              "    .dataframe thead th {\n",
              "        text-align: right;\n",
              "    }\n",
              "</style>\n",
              "<table border=\"1\" class=\"dataframe\">\n",
              "  <thead>\n",
              "    <tr style=\"text-align: right;\">\n",
              "      <th></th>\n",
              "      <th>lengths</th>\n",
              "      <th>mean</th>\n",
              "      <th>stdev</th>\n",
              "    </tr>\n",
              "  </thead>\n",
              "  <tbody>\n",
              "    <tr>\n",
              "      <th>1</th>\n",
              "      <td>[11, 21, 9, 23, 19, 26, 10, 14, 22, 9, 19, 12,...</td>\n",
              "      <td>13.473961</td>\n",
              "      <td>6.122261</td>\n",
              "    </tr>\n",
              "    <tr>\n",
              "      <th>0</th>\n",
              "      <td>[8, 8, 12, 18, 10, 16, 12, 20, 26, 24, 8, 21, ...</td>\n",
              "      <td>13.331593</td>\n",
              "      <td>7.283498</td>\n",
              "    </tr>\n",
              "  </tbody>\n",
              "</table>\n",
              "</div>"
            ],
            "text/plain": [
              "                                             lengths       mean     stdev\n",
              "1  [11, 21, 9, 23, 19, 26, 10, 14, 22, 9, 19, 12,...  13.473961  6.122261\n",
              "0  [8, 8, 12, 18, 10, 16, 12, 20, 26, 24, 8, 21, ...  13.331593  7.283498"
            ]
          },
          "metadata": {},
          "execution_count": 18
        }
      ]
    },
    {
      "cell_type": "code",
      "metadata": {
        "execution": {
          "iopub.execute_input": "2020-08-17T00:59:03.446634Z",
          "iopub.status.busy": "2020-08-17T00:59:03.439289Z",
          "iopub.status.idle": "2020-08-17T00:59:04.714830Z",
          "shell.execute_reply": "2020-08-17T00:59:04.714244Z"
        },
        "papermill": {
          "duration": 1.289992,
          "end_time": "2020-08-17T00:59:04.714956",
          "exception": false,
          "start_time": "2020-08-17T00:59:03.424964",
          "status": "completed"
        },
        "tags": [],
        "id": "EnQvNmirbSi3",
        "colab": {
          "base_uri": "https://localhost:8080/",
          "height": 540
        },
        "outputId": "273116a4-f2db-49b8-a209-26e7e2eba46c"
      },
      "source": [
        "display_lengths_histograms(df_stats)"
      ],
      "execution_count": 19,
      "outputs": [
        {
          "output_type": "display_data",
          "data": {
            "image/png": "[encoded data removed]",
            "text/plain": [
              "<Figure size 1080x576 with 3 Axes>"
            ]
          },
          "metadata": {
            "needs_background": "light"
          }
        }
      ]
    },
    {
      "cell_type": "code",
      "metadata": {
        "execution": {
          "iopub.execute_input": "2020-08-17T00:59:04.744270Z",
          "iopub.status.busy": "2020-08-17T00:59:04.743492Z",
          "iopub.status.idle": "2020-08-17T00:59:04.747754Z",
          "shell.execute_reply": "2020-08-17T00:59:04.746809Z"
        },
        "papermill": {
          "duration": 0.021533,
          "end_time": "2020-08-17T00:59:04.747906",
          "exception": false,
          "start_time": "2020-08-17T00:59:04.726373",
          "status": "completed"
        },
        "tags": [],
        "colab": {
          "base_uri": "https://localhost:8080/"
        },
        "id": "CoOcrZARbSi5",
        "outputId": "7a90d19a-13a1-42b2-a65c-7a00964ff227"
      },
      "source": [
        "n_texts = len(X_data)\n",
        "print('Texts in dataset: %d' % n_texts)\n",
        "\n",
        "categories = df['Label'].unique()\n",
        "n_categories = len(categories)\n",
        "print('Number of categories: %d' % n_categories)\n",
        "\n",
        "print('Done!')"
      ],
      "execution_count": 20,
      "outputs": [
        {
          "output_type": "stream",
          "name": "stdout",
          "text": [
            "Texts in dataset: 3816\n",
            "Number of categories: 2\n",
            "Done!\n"
          ]
        }
      ]
    },
    {
      "cell_type": "code",
      "metadata": {
        "colab": {
          "base_uri": "https://localhost:8080/"
        },
        "id": "TR1JA9LnvE0h",
        "outputId": "879aa1a7-394d-4d15-f283-698d801ae306"
      },
      "source": [
        "!pip install demoji"
      ],
      "execution_count": 21,
      "outputs": [
        {
          "output_type": "stream",
          "name": "stdout",
          "text": [
            "Collecting demoji\n",
            "  Downloading demoji-1.1.0-py3-none-any.whl (42 kB)\n",
            "\u001b[?25l\r\u001b[K     |███████▋                        | 10 kB 25.1 MB/s eta 0:00:01\r\u001b[K     |███████████████▎                | 20 kB 31.0 MB/s eta 0:00:01\r\u001b[K     |███████████████████████         | 30 kB 12.1 MB/s eta 0:00:01\r\u001b[K     |██████████████████████████████▋ | 40 kB 11.7 MB/s eta 0:00:01\r\u001b[K     |████████████████████████████████| 42 kB 1.2 MB/s \n",
            "\u001b[?25hInstalling collected packages: demoji\n",
            "Successfully installed demoji-1.1.0\n"
          ]
        }
      ]
    },
    {
      "cell_type": "code",
      "metadata": {
        "id": "6b8hSsBXvH7L"
      },
      "source": [
        "import demoji\n",
        "def demoji_text(text):\n",
        "  d= demoji.findall(text)\n",
        "  return d"
      ],
      "execution_count": 22,
      "outputs": []
    },
    {
      "cell_type": "code",
      "metadata": {
        "id": "XS_TRievvLdg"
      },
      "source": [
        "df['emoji_list'] = df['Tweet'].apply(demoji_text)"
      ],
      "execution_count": 23,
      "outputs": []
    },
    {
      "cell_type": "code",
      "metadata": {
        "id": "Mr1jcLpfvPPr"
      },
      "source": [
        "f= list(filter(None, df['emoji_list']))"
      ],
      "execution_count": 24,
      "outputs": []
    },
    {
      "cell_type": "code",
      "metadata": {
        "colab": {
          "base_uri": "https://localhost:8080/"
        },
        "id": "84KZO6jrvQ_N",
        "outputId": "60712723-3a68-481e-ed5e-5c8b8e696843"
      },
      "source": [
        "print(f)"
      ],
      "execution_count": 25,
      "outputs": [
        {
          "output_type": "stream",
          "name": "stdout",
          "text": [
            "[{'😡': 'pouting face'}, {'😬': 'grimacing face'}, {'❤': 'red heart'}, {'😅': 'grinning face with sweat'}, {'😁': 'beaming face with smiling eyes'}, {'😐': 'neutral face'}, {'😱': 'face screaming in fear'}, {'☺': 'smiling face', '👭': 'women holding hands'}, {'💯': 'hundred points', '😳': 'flushed face'}, {'😴': 'sleeping face'}, {'💩': 'pile of poo'}, {'😩': 'weary face'}, {'😑': 'expressionless face'}, {'🎶': 'musical notes'}, {'😃': 'grinning face with big eyes', '😇': 'smiling face with halo'}, {'😂': 'face with tears of joy'}, {'🙌': 'raising hands'}, {'😂': 'face with tears of joy', '😲': 'astonished face'}, {'✈': 'airplane', '🌏': 'globe showing Asia-Australia', '❤': 'red heart'}, {'😘': 'face blowing a kiss', '😍': 'smiling face with heart-eyes'}, {'😘': 'face blowing a kiss', '😳': 'flushed face', '😍': 'smiling face with heart-eyes'}, {'🎶': 'musical notes', '☀': 'sun'}, {'🙊': 'speak-no-evil monkey'}, {'😭': 'loudly crying face'}, {'😩': 'weary face'}, {'☀': 'sun', '🌴': 'palm tree'}, {'😀': 'grinning face', '🔫': 'water pistol'}, {'😩': 'weary face'}, {'🎉': 'party popper', '🎶': 'musical notes', '😆': 'grinning squinting face', '🎅': 'Santa Claus'}, {'🍷': 'wine glass'}, {'💧': 'droplet', '💦': 'sweat droplets', '💨': 'dashing away', '👎': 'thumbs down'}, {'😃': 'grinning face with big eyes'}, {'🙈': 'see-no-evil monkey'}, {'😷': 'face with medical mask', '😫': 'tired face'}, {'😆': 'grinning squinting face'}, {'😫': 'tired face'}, {'😂': 'face with tears of joy'}, {'✌': 'victory hand'}, {'😉': 'winking face'}, {'💅': 'nail polish', '😁': 'beaming face with smiling eyes', '🙅': 'person gesturing NO', '💁': 'person tipping hand'}, {'😕': 'confused face', '🎁': 'wrapped gift'}, {'🙋': 'person raising hand'}, {'☹': 'frowning face'}, {'😔': 'pensive face'}, {'😏': 'smirking face', '😴': 'sleeping face'}, {'😡': 'pouting face'}, {'😡': 'pouting face', '😭': 'loudly crying face'}, {'😂': 'face with tears of joy'}, {'😊': 'smiling face with smiling eyes'}, {'👍': 'thumbs up'}, {'🙅': 'person gesturing NO', '🔫': 'water pistol'}, {'🎁': 'wrapped gift'}, {'👏': 'clapping hands'}, {'😑': 'expressionless face'}, {'😃': 'grinning face with big eyes'}, {'😂': 'face with tears of joy'}, {'😶': 'face without mouth'}, {'👌': 'OK hand'}, {'💘': 'heart with arrow'}, {'💯': 'hundred points', '🏀': 'basketball'}, {'😔': 'pensive face'}, {'😒': 'unamused face'}, {'🎅': 'Santa Claus', '🎁': 'wrapped gift', '👍': 'thumbs up'}, {'😱': 'face screaming in fear'}, {'😜': 'winking face with tongue'}, {'😖': 'confounded face'}, {'😂': 'face with tears of joy', '😍': 'smiling face with heart-eyes'}, {'😑': 'expressionless face', '👎': 'thumbs down'}, {'😄': 'grinning face with smiling eyes'}, {'🚀': 'rocket'}, {'😒': 'unamused face'}, {'✨': 'sparkles'}, {'👸': 'princess', '💋': 'kiss mark', '✨': 'sparkles', '❤': 'red heart', '💃': 'woman dancing'}, {'😒': 'unamused face', '😄': 'grinning face with smiling eyes'}, {'☔': 'umbrella with rain drops', '🎻': 'violin'}, {'😳': 'flushed face'}, {'😑': 'expressionless face'}, {'💁': 'person tipping hand', '😍': 'smiling face with heart-eyes', '❤': 'red heart'}, {'😍': 'smiling face with heart-eyes'}, {'✅': 'check mark button'}, {'😂': 'face with tears of joy', '💋': 'kiss mark', '❤': 'red heart'}, {'🙏': 'folded hands'}, {'😭': 'loudly crying face', '😘': 'face blowing a kiss', '🙈': 'see-no-evil monkey'}, {'😔': 'pensive face'}, {'😛': 'face with tongue'}, {'😒': 'unamused face'}, {'🐱': 'cat face', '🐶': 'dog face'}, {'😩': 'weary face'}, {'😭': 'loudly crying face', '🔪': 'kitchen knife', '🔥': 'fire'}, {'💦': 'sweat droplets', '☔': 'umbrella with rain drops', '💧': 'droplet'}, {'😊': 'smiling face with smiling eyes'}, {'😊': 'smiling face with smiling eyes'}, {'👌': 'OK hand', '👍': 'thumbs up'}, {'😳': 'flushed face'}, {'😁': 'beaming face with smiling eyes', '😳': 'flushed face'}, {'😷': 'face with medical mask'}, {'💜': 'purple heart'}, {'👊': 'oncoming fist'}, {'😐': 'neutral face'}, {'🙈': 'see-no-evil monkey', '😄': 'grinning face with smiling eyes'}, {'😁': 'beaming face with smiling eyes'}, {'😉': 'winking face'}, {'💯': 'hundred points'}, {'😡': 'pouting face', '🙅': 'person gesturing NO'}, {'😂': 'face with tears of joy', '👳': 'person wearing turban'}, {'😘': 'face blowing a kiss'}, {'☺': 'smiling face', '😁': 'beaming face with smiling eyes'}, {'😭': 'loudly crying face', '🙏': 'folded hands', '☕': 'hot beverage'}, {'⚡': 'high voltage', '☔': 'umbrella with rain drops'}, {'😭': 'loudly crying face'}, {'😣': 'persevering face'}, {'😎': 'smiling face with sunglasses'}, {'😂': 'face with tears of joy'}, {'😕': 'confused face', '💤': 'zzz', '😴': 'sleeping face'}, {'😂': 'face with tears of joy'}, {'😜': 'winking face with tongue', '😫': 'tired face', '😣': 'persevering face', '😄': 'grinning face with smiling eyes', '😰': 'anxious face with sweat', '😖': 'confounded face', '😂': 'face with tears of joy'}, {'👎': 'thumbs down'}, {'😭': 'loudly crying face'}, {'😍': 'smiling face with heart-eyes', '😫': 'tired face'}, {'😒': 'unamused face'}, {'😄': 'grinning face with smiling eyes'}, {'😅': 'grinning face with sweat'}, {'😕': 'confused face'}, {'😂': 'face with tears of joy'}, {'😒': 'unamused face', '👊': 'oncoming fist'}, {'😒': 'unamused face'}, {'😖': 'confounded face', '😣': 'persevering face', '💔': 'broken heart'}, {'😜': 'winking face with tongue'}, {'👍': 'thumbs up'}, {'☺': 'smiling face', '😁': 'beaming face with smiling eyes', '😊': 'smiling face with smiling eyes'}, {'☺': 'smiling face', '🎄': 'Christmas tree'}, {'😕': 'confused face'}, {'😒': 'unamused face'}, {'🙏': 'folded hands', '😜': 'winking face with tongue'}, {'😤': 'face with steam from nose'}, {'😘': 'face blowing a kiss'}, {'🎅': 'Santa Claus', '🙀': 'weary cat', '😱': 'face screaming in fear', '😂': 'face with tears of joy', '🔫': 'water pistol'}, {'😰': 'anxious face with sweat'}, {'😂': 'face with tears of joy'}, {'🙈': 'see-no-evil monkey'}, {'😖': 'confounded face'}, {'🍕': 'pizza'}, {'😀': 'grinning face'}, {'🍆': 'eggplant', '😁': 'beaming face with smiling eyes', '🔫': 'water pistol'}, {'😆': 'grinning squinting face'}, {'💻': 'laptop', '💾': 'floppy disk', '🔫': 'water pistol'}, {'👌': 'OK hand'}, {'☔': 'umbrella with rain drops'}, {'😋': 'face savoring food'}, {'😂': 'face with tears of joy'}, {'🇫🇴': 'flag: Faroe Islands'}, {'❤': 'red heart'}, {'💋': 'kiss mark'}, {'👍': 'thumbs up'}, {'😩': 'weary face'}, {'🆘': 'SOS button', '😴': 'sleeping face'}, {'💭': 'thought balloon'}, {'😡': 'pouting face', '😠': 'angry face', '😤': 'face with steam from nose'}, {'☺': 'smiling face'}, {'😎': 'smiling face with sunglasses'}, {'😡': 'pouting face'}, {'😂': 'face with tears of joy'}, {'💪': 'flexed biceps', '👊': 'oncoming fist'}, {'😴': 'sleeping face'}, {'😣': 'persevering face'}, {'❤': 'red heart', '😜': 'winking face with tongue'}, {'😒': 'unamused face', '👍': 'thumbs up'}, {'🙌': 'raising hands', '⚾': 'baseball', '😄': 'grinning face with smiling eyes', '🏆': 'trophy'}, {'👎': 'thumbs down'}, {'😂': 'face with tears of joy'}, {'😡': 'pouting face', '🔫': 'water pistol'}, {'😏': 'smirking face'}, {'🎉': 'party popper', '😂': 'face with tears of joy', '😻': 'smiling cat with heart-eyes', '❤': 'red heart'}, {'💪': 'flexed biceps'}, {'😀': 'grinning face'}, {'👌': 'OK hand'}, {'🙈': 'see-no-evil monkey', '👌': 'OK hand'}, {'😘': 'face blowing a kiss', '😍': 'smiling face with heart-eyes', '❤': 'red heart'}, {'😒': 'unamused face'}, {'😂': 'face with tears of joy', '😭': 'loudly crying face', '💁': 'person tipping hand'}, {'🎵': 'musical note', '💕': 'two hearts'}, {'💤': 'zzz', '😴': 'sleeping face'}, {'🎤': 'microphone'}, {'😝': 'squinting face with tongue'}, {'💀': 'skull'}, {'🎉': 'party popper', '🙊': 'speak-no-evil monkey', '😁': 'beaming face with smiling eyes'}, {'😅': 'grinning face with sweat'}, {'🛀': 'person taking bath', '💚': 'green heart', '👍': 'thumbs up'}, {'😢': 'crying face'}, {'😒': 'unamused face'}, {'😑': 'expressionless face'}, {'💕': 'two hearts'}, {'☕': 'hot beverage', '🐸': 'frog'}, {'🙈': 'see-no-evil monkey'}, {'😒': 'unamused face', '👍': 'thumbs up'}, {'😍': 'smiling face with heart-eyes'}, {'💚': 'green heart', '😍': 'smiling face with heart-eyes', '😝': 'squinting face with tongue', '❤': 'red heart'}, {'🙊': 'speak-no-evil monkey'}, {'☕': 'hot beverage', '🐸': 'frog'}, {'👊': 'oncoming fist'}, {'😔': 'pensive face', '😒': 'unamused face'}, {'😎': 'smiling face with sunglasses'}, {'😂': 'face with tears of joy', '😳': 'flushed face', '🙈': 'see-no-evil monkey'}, {'👌': 'OK hand'}, {'😒': 'unamused face'}, {'💜': 'purple heart'}, {'😂': 'face with tears of joy'}, {'😂': 'face with tears of joy', '😭': 'loudly crying face'}, {'😆': 'grinning squinting face', '😎': 'smiling face with sunglasses'}, {'😏': 'smirking face'}, {'🎄': 'Christmas tree', '🎅': 'Santa Claus'}, {'😤': 'face with steam from nose', '🎄': 'Christmas tree', '😊': 'smiling face with smiling eyes'}, {'😩': 'weary face'}, {'😂': 'face with tears of joy', '🙈': 'see-no-evil monkey'}, {'😑': 'expressionless face', '😡': 'pouting face'}, {'😂': 'face with tears of joy'}, {'😒': 'unamused face'}, {'😳': 'flushed face'}, {'✈': 'airplane'}, {'😩': 'weary face'}, {'💋': 'kiss mark'}, {'😁': 'beaming face with smiling eyes'}, {'😂': 'face with tears of joy', '👊': 'oncoming fist'}, {'😂': 'face with tears of joy'}, {'😊': 'smiling face with smiling eyes'}, {'😂': 'face with tears of joy'}, {'😂': 'face with tears of joy'}, {'🙊': 'speak-no-evil monkey'}, {'🎅': 'Santa Claus', '🎁': 'wrapped gift', '👍': 'thumbs up'}, {'🎧': 'headphone'}, {'😂': 'face with tears of joy'}, {'😏': 'smirking face', '🎄': 'Christmas tree', '😎': 'smiling face with sunglasses'}, {'🐁': 'mouse'}, {'💁': 'person tipping hand'}, {'😃': 'grinning face with big eyes', '👍': 'thumbs up'}, {'🙈': 'see-no-evil monkey', '💕': 'two hearts'}, {'😷': 'face with medical mask'}, {'☁': 'cloud'}, {'😒': 'unamused face'}, {'😣': 'persevering face'}, {'😬': 'grimacing face'}, {'💀': 'skull', '🚓': 'police car'}, {'🙆': 'person gesturing OK'}, {'💣': 'bomb'}, {'😂': 'face with tears of joy'}, {'🍹': 'tropical drink'}, {'😏': 'smirking face'}, {'😂': 'face with tears of joy'}, {'😷': 'face with medical mask', '😒': 'unamused face'}, {'🙊': 'speak-no-evil monkey', '😂': 'face with tears of joy', '🙈': 'see-no-evil monkey'}, {'😝': 'squinting face with tongue'}, {'😊': 'smiling face with smiling eyes'}, {'😞': 'disappointed face', '😔': 'pensive face'}, {'😏': 'smirking face', '🙅': 'person gesturing NO', '👑': 'crown'}, {'😂': 'face with tears of joy'}, {'😜': 'winking face with tongue'}, {'😳': 'flushed face'}, {'😂': 'face with tears of joy'}, {'👍': 'thumbs up'}, {'😘': 'face blowing a kiss'}, {'😁': 'beaming face with smiling eyes'}, {'😑': 'expressionless face', '😒': 'unamused face'}, {'😵': 'knocked-out face', '🔪': 'kitchen knife'}, {'😒': 'unamused face'}, {'👏': 'clapping hands', '😎': 'smiling face with sunglasses', '👊': 'oncoming fist', '🎼': 'musical score'}, {'🎶': 'musical notes', '😊': 'smiling face with smiling eyes'}, {'🚶': 'person walking'}, {'🔌': 'electric plug'}, {'🇬🇧': 'flag: United Kingdom', '❄': 'snowflake'}, {'😂': 'face with tears of joy', '😃': 'grinning face with big eyes'}, {'😭': 'loudly crying face'}, {'😂': 'face with tears of joy'}, {'👌': 'OK hand'}, {'😏': 'smirking face'}, {'😏': 'smirking face', '👊': 'oncoming fist'}, {'♥': 'heart suit'}, {'😒': 'unamused face'}, {'😡': 'pouting face'}, {'🍸': 'cocktail glass', '☺': 'smiling face', '🔫': 'water pistol'}, {'😏': 'smirking face', '😳': 'flushed face'}, {'💃': 'woman dancing', '👯': 'people with bunny ears', '📚': 'books', '📖': 'open book'}, {'💖': 'sparkling heart', '😇': 'smiling face with halo'}, {'😂': 'face with tears of joy'}, {'😊': 'smiling face with smiling eyes'}, {'😔': 'pensive face'}, {'🔫': 'water pistol', '😲': 'astonished face'}, {'💜': 'purple heart'}, {'👏': 'clapping hands', '🙌': 'raising hands', '👍': 'thumbs up'}, {'😘': 'face blowing a kiss'}, {'☺': 'smiling face'}, {'👍': 'thumbs up'}, {'🔜': 'SOON arrow', '📷': 'camera', '➡': 'right arrow'}, {'☺': 'smiling face', '💜': 'purple heart'}, {'😂': 'face with tears of joy'}, {'💕': 'two hearts'}, {'🙌': 'raising hands'}, {'❤': 'red heart'}, {'💁': 'person tipping hand', '😊': 'smiling face with smiling eyes'}, {'😘': 'face blowing a kiss', '🙌': 'raising hands', '💕': 'two hearts'}, {'😒': 'unamused face'}, {'💜': 'purple heart', '💕': 'two hearts'}, {'🍵': 'teacup without handle'}, {'🔜': 'SOON arrow', '🔥': 'fire'}, {'🎉': 'party popper', '☺': 'smiling face'}, {'😂': 'face with tears of joy', '😩': 'weary face', '🙈': 'see-no-evil monkey'}, {'😒': 'unamused face'}, {'😂': 'face with tears of joy'}, {'😟': 'worried face', '😕': 'confused face', '😞': 'disappointed face', '😢': 'crying face', '😪': 'sleepy face'}, {'😂': 'face with tears of joy'}, {'🔥': 'fire'}, {'😍': 'smiling face with heart-eyes', '👍': 'thumbs up'}, {'😂': 'face with tears of joy', '🍻': 'clinking beer mugs', '😉': 'winking face'}, {'😃': 'grinning face with big eyes'}, {'😂': 'face with tears of joy'}, {'😭': 'loudly crying face', '😢': 'crying face'}, {'😅': 'grinning face with sweat'}, {'😘': 'face blowing a kiss', '😁': 'beaming face with smiling eyes'}, {'😘': 'face blowing a kiss'}, {'😁': 'beaming face with smiling eyes'}, {'☺': 'smiling face'}, {'😍': 'smiling face with heart-eyes'}, {'😂': 'face with tears of joy', '🐣': 'hatching chick'}, {'🙈': 'see-no-evil monkey'}, {'😍': 'smiling face with heart-eyes'}, {'😂': 'face with tears of joy'}, {'💁': 'person tipping hand'}, {'✌': 'victory hand'}, {'😂': 'face with tears of joy'}, {'😂': 'face with tears of joy', '😋': 'face savoring food'}, {'😑': 'expressionless face', '🏃': 'person running'}, {'😂': 'face with tears of joy'}, {'😅': 'grinning face with sweat', '😱': 'face screaming in fear'}, {'😂': 'face with tears of joy', '👐': 'open hands'}, {'💜': 'purple heart', '💕': 'two hearts'}, {'💓': 'beating heart'}, {'😂': 'face with tears of joy', '👊': 'oncoming fist'}, {'😑': 'expressionless face'}, {'😂': 'face with tears of joy', '😜': 'winking face with tongue'}, {'💜': 'purple heart'}, {'😳': 'flushed face'}, {'😂': 'face with tears of joy', '🙌': 'raising hands', '✌': 'victory hand'}, {'😡': 'pouting face'}, {'☺': 'smiling face'}, {'💪': 'flexed biceps'}, {'😁': 'beaming face with smiling eyes'}, {'😒': 'unamused face'}, {'😣': 'persevering face'}, {'🎄': 'Christmas tree', '🎅': 'Santa Claus'}, {'😒': 'unamused face'}, {'💚': 'green heart'}, {'🎁': 'wrapped gift', '🎄': 'Christmas tree', '🎅': 'Santa Claus'}, {'😂': 'face with tears of joy'}, {'😂': 'face with tears of joy'}, {'😒': 'unamused face'}, {'😂': 'face with tears of joy'}, {'😩': 'weary face', '😔': 'pensive face'}, {'🙈': 'see-no-evil monkey'}, {'😕': 'confused face'}, {'😁': 'beaming face with smiling eyes'}, {'😩': 'weary face'}, {'👎': 'thumbs down', '👍': 'thumbs up'}, {'❤': 'red heart'}, {'😞': 'disappointed face', '🔫': 'water pistol', '💗': 'growing heart'}, {'😒': 'unamused face', '🔫': 'water pistol'}, {'🎉': 'party popper'}, {'❄': 'snowflake'}, {'😜': 'winking face with tongue'}, {'😁': 'beaming face with smiling eyes'}, {'😉': 'winking face'}, {'🍴': 'fork and knife'}, {'🍟': 'french fries'}, {'🙊': 'speak-no-evil monkey', '😂': 'face with tears of joy'}, {'🎉': 'party popper', '🎶': 'musical notes', '😘': 'face blowing a kiss', '🎅': 'Santa Claus'}, {'✋': 'raised hand', '💃': 'woman dancing'}, {'👌': 'OK hand'}, {'✌': 'victory hand'}, {'🚍': 'oncoming bus', '😋': 'face savoring food', '❄': 'snowflake', '⛄': 'snowman without snow'}, {'😳': 'flushed face'}, {'🙊': 'speak-no-evil monkey', '📚': 'books', '👯': 'people with bunny ears'}, {'😒': 'unamused face'}, {'🚒': 'fire engine', '🚑': 'ambulance', '😴': 'sleeping face'}, {'😃': 'grinning face with big eyes', '👍': 'thumbs up'}, {'😖': 'confounded face'}, {'✈': 'airplane', '🎄': 'Christmas tree', '❤': 'red heart'}, {'😂': 'face with tears of joy'}, {'💰': 'money bag'}, {'😴': 'sleeping face'}, {'🙇': 'person bowing', '✨': 'sparkles'}, {'😒': 'unamused face'}, {'👌': 'OK hand', '😆': 'grinning squinting face', '☺': 'smiling face', '🙈': 'see-no-evil monkey'}, {'👏': 'clapping hands', '👈': 'backhand index pointing left', '❌': 'cross mark', '👉': 'backhand index pointing right', '⭕': 'hollow red circle', '🙌': 'raising hands', '🙏': 'folded hands', '💜': 'purple heart'}, {'😜': 'winking face with tongue'}, {'💜': 'purple heart', '😬': 'grimacing face', '💕': 'two hearts'}, {'😖': 'confounded face', '😔': 'pensive face', '✌': 'victory hand'}, {'😷': 'face with medical mask', '😣': 'persevering face'}, {'😁': 'beaming face with smiling eyes'}, {'😎': 'smiling face with sunglasses'}, {'😂': 'face with tears of joy'}, {'💅': 'nail polish'}, {'😔': 'pensive face'}, {'👤': 'bust in silhouette'}, {'💩': 'pile of poo'}, {'👑': 'crown'}, {'👌': 'OK hand'}, {'😳': 'flushed face'}, {'😂': 'face with tears of joy'}, {'💀': 'skull', '😂': 'face with tears of joy'}]\n"
          ]
        }
      ]
    },
    {
      "cell_type": "code",
      "metadata": {
        "id": "96_vxnYMvYsf"
      },
      "source": [
        "all_keys = set().union(*(d.keys() for d in f))"
      ],
      "execution_count": 26,
      "outputs": []
    },
    {
      "cell_type": "code",
      "metadata": {
        "colab": {
          "base_uri": "https://localhost:8080/"
        },
        "id": "7hcCAcGmvaGy",
        "outputId": "22677e3b-143a-4ced-bfc7-42b60bdc8c74"
      },
      "source": [
        "print(all_keys)"
      ],
      "execution_count": 27,
      "outputs": [
        {
          "output_type": "stream",
          "name": "stdout",
          "text": [
            "{'🎶', '💁', '👸', '😳', '👳', '🍵', '💀', '❤', '☺', '😒', '🛀', '📷', '👐', '😻', '💯', '😟', '🙇', '😢', '💨', '😜', '🐱', '🚀', '💖', '🚶', '🚒', '🐶', '❌', '💋', '✨', '🔌', '💓', '🙌', '😴', '😖', '🙏', '💪', '😪', '🏆', '✅', '🔪', '😇', '👍', '💗', '😕', '💩', '✋', '😋', '😱', '🍻', '😃', '☀', '👏', '💰', '🎅', '👯', '⛄', '😀', '☔', '😫', '💦', '✌', '🎻', '👌', '😰', '🇬🇧', '♥', '💃', '😘', '😐', '☹', '🐣', '🙊', '😝', '😑', '🏃', '😏', '😊', '😛', '🚓', '😡', '💾', '🎁', '😶', '🎄', '⚾', '⚡', '😵', '😭', '😩', '🍴', '➡', '😷', '☕', '🔜', '📚', '💘', '🐸', '🙈', '🎤', '🎼', '😆', '💅', '👭', '🙋', '🍟', '👈', '🐁', '👊', '😲', '💔', '😠', '🇫🇴', '💣', '🚍', '👎', '😔', '🍹', '👉', '🙅', '😞', '😣', '💤', '😄', '💭', '👤', '❄', '🍸', '🚑', '🏀', '✈', '💧', '🍆', '🎵', '💜', '🔥', '📖', '🆘', '😍', '💻', '🍷', '😅', '😂', '🎧', '😤', '💚', '🍕', '☁', '🙆', '🌏', '😉', '👑', '⭕', '😬', '🌴', '🎉', '🙀', '😎', '😁', '💕', '🔫'}\n"
          ]
        }
      ]
    },
    {
      "cell_type": "code",
      "metadata": {
        "colab": {
          "base_uri": "https://localhost:8080/"
        },
        "id": "C1O-akLovd2t",
        "outputId": "a48e3e7e-e79c-46bd-eb4e-9f05746b7889"
      },
      "source": [
        "len(all_keys)"
      ],
      "execution_count": 28,
      "outputs": [
        {
          "output_type": "execute_result",
          "data": {
            "text/plain": [
              "160"
            ]
          },
          "metadata": {},
          "execution_count": 28
        }
      ]
    },
    {
      "cell_type": "markdown",
      "metadata": {
        "papermill": {
          "duration": 0.010138,
          "end_time": "2020-08-17T00:59:04.769397",
          "exception": false,
          "start_time": "2020-08-17T00:59:04.759259",
          "status": "completed"
        },
        "tags": [],
        "id": "5sG59QFZbSi6"
      },
      "source": [
        "# Tokenize & encode"
      ]
    },
    {
      "cell_type": "markdown",
      "metadata": {
        "papermill": {
          "duration": 0.01009,
          "end_time": "2020-08-17T00:59:04.789862",
          "exception": false,
          "start_time": "2020-08-17T00:59:04.779772",
          "status": "completed"
        },
        "tags": [],
        "id": "KQ-i9NImbSi6"
      },
      "source": [
        "I am going to import the RoBERTa model from HuggingFace. Note that I must import not only the model but also the tokenizer (since I must use the same vocabulary as the model was trained with).\n",
        "\n",
        "We should take into account that RoBERTa's input accepts up-to 512 tokens, thus **we must truncate the tokenized texts**. In my case, I truncate to 256 tokens, but you can put a higher value in the variable `MAX_LEN`.\n",
        "\n",
        "See https://huggingface.co/roberta-base"
      ]
    },
    {
      "cell_type": "code",
      "metadata": {
        "execution": {
          "iopub.execute_input": "2020-08-17T00:59:04.823681Z",
          "iopub.status.busy": "2020-08-17T00:59:04.822765Z",
          "iopub.status.idle": "2020-08-17T00:59:04.826001Z",
          "shell.execute_reply": "2020-08-17T00:59:04.825249Z"
        },
        "papermill": {
          "duration": 0.025689,
          "end_time": "2020-08-17T00:59:04.826129",
          "exception": false,
          "start_time": "2020-08-17T00:59:04.800440",
          "status": "completed"
        },
        "tags": [],
        "id": "Ag4YPNe9bSi6"
      },
      "source": [
        "def roberta_encode(texts, tokenizer):\n",
        "    ct = len(texts)\n",
        "    input_ids = np.ones((ct, MAX_LEN), dtype='int32')\n",
        "    attention_mask = np.zeros((ct, MAX_LEN), dtype='int32')\n",
        "    token_type_ids = np.zeros((ct, MAX_LEN), dtype='int32') # Not used in text classification\n",
        "\n",
        "    for k, text in enumerate(texts):\n",
        "        # Tokenize\n",
        "        tok_text= tokenizer.add_tokens(['🎶', '💁', '👸', '😳', '👳', '🍵', '💀', '❤', '☺', '😒', '🛀', '📷', '👐', '😻', '💯', '😟', '🙇', '😢', '💨', '😜', '🐱', '🚀', '💖', '🚶', '🚒', '🐶', '❌', '💋', '✨', '🔌', '💓', '🙌', '😴', '😖', '🙏', '💪', '😪', '🏆', '✅', '🔪', '😇', '👍', '💗', '😕', '💩', '✋', '😋', '😱', '🍻', '😃', '☀', '👏', '💰', '🎅', '👯', '⛄', '😀', '☔', '😫', '💦', '✌', '🎻', '👌', '😰', '🇬🇧', '♥', '💃', '😘', '😐', '☹', '🐣', '🙊', '😝', '😑', '🏃', '😏', '😊', '😛', '🚓', '😡', '💾', '🎁', '😶', '🎄', '⚾', '⚡', '😵', '😭', '😩', '🍴', '➡', '😷', '☕', '🔜', '📚', '💘', '🐸', '🙈', '🎤', '🎼', '😆', '💅', '👭', '🙋', '🍟', '👈', '🐁', '👊', '😲', '💔', '😠', '🇫🇴', '💣', '🚍', '👎', '😔', '🍹', '👉', '🙅', '😞', '😣', '💤', '😄', '💭', '👤', '❄', '🍸', '🚑', '🏀', '✈', '💧', '🍆', '🎵', '💜', '🔥', '📖', '🆘', '😍', '💻', '🍷', '😅', '😂', '🎧', '😤', '💚', '🍕', '☁', '🙆', '🌏', '😉', '👑', '⭕', '😬', '🌴', '🎉', '🙀', '😎', '😁', '💕', '🔫'])\n",
        "        tok_text = tokenizer.tokenize(text)\n",
        "        \n",
        "        # Truncate and convert tokens to numerical IDs\n",
        "        enc_text = tokenizer.convert_tokens_to_ids(tok_text[:(MAX_LEN-2)])\n",
        "        \n",
        "        input_length = len(enc_text) + 2\n",
        "        input_length = input_length if input_length < MAX_LEN else MAX_LEN\n",
        "        \n",
        "        # Add tokens [CLS] and [SEP] at the beginning and the end\n",
        "        input_ids[k,:input_length] = np.asarray([0] + enc_text + [2], dtype='int32')\n",
        "        \n",
        "        # Set to 1s in the attention input\n",
        "        attention_mask[k,:input_length] = 1\n",
        "\n",
        "    return {\n",
        "        'input_word_ids': input_ids,\n",
        "        'input_mask': attention_mask,\n",
        "        'input_type_ids': token_type_ids\n",
        "    }"
      ],
      "execution_count": 29,
      "outputs": []
    },
    {
      "cell_type": "code",
      "metadata": {
        "execution": {
          "iopub.execute_input": "2020-08-17T00:59:04.858065Z",
          "iopub.status.busy": "2020-08-17T00:59:04.857134Z",
          "iopub.status.idle": "2020-08-17T00:59:04.861813Z",
          "shell.execute_reply": "2020-08-17T00:59:04.861171Z"
        },
        "papermill": {
          "duration": 0.025227,
          "end_time": "2020-08-17T00:59:04.861943",
          "exception": false,
          "start_time": "2020-08-17T00:59:04.836716",
          "status": "completed"
        },
        "tags": [],
        "colab": {
          "base_uri": "https://localhost:8080/"
        },
        "id": "0IZ9NTKKbSi7",
        "outputId": "2e54b11f-0256-43a6-dd98-159599d72815"
      },
      "source": [
        "# Transform categories into numbers\n",
        "category_to_id = {}\n",
        "category_to_name = {}\n",
        "\n",
        "for index, c in enumerate(y_data):\n",
        "    if c in category_to_id:\n",
        "        category_id = category_to_id[c]\n",
        "    else:\n",
        "        category_id = len(category_to_id)\n",
        "        category_to_id[c] = category_id\n",
        "        category_to_name[category_id] = c\n",
        "    \n",
        "    y_data[index] = category_id\n",
        "\n",
        "# Display dictionary\n",
        "category_to_name"
      ],
      "execution_count": 30,
      "outputs": [
        {
          "output_type": "execute_result",
          "data": {
            "text/plain": [
              "{0: 1, 1: 0}"
            ]
          },
          "metadata": {},
          "execution_count": 30
        }
      ]
    },
    {
      "cell_type": "code",
      "metadata": {
        "execution": {
          "iopub.execute_input": "2020-08-17T00:59:04.890382Z",
          "iopub.status.busy": "2020-08-17T00:59:04.889620Z",
          "iopub.status.idle": "2020-08-17T00:59:04.893070Z",
          "shell.execute_reply": "2020-08-17T00:59:04.892447Z"
        },
        "papermill": {
          "duration": 0.020423,
          "end_time": "2020-08-17T00:59:04.893194",
          "exception": false,
          "start_time": "2020-08-17T00:59:04.872771",
          "status": "completed"
        },
        "tags": [],
        "id": "9xCQYv0ybSi8"
      },
      "source": [
        "# Split into train and test datasets\n",
        "X_train, X_test, y_train, y_test = train_test_split(X_data, y_data, test_size=0.3, random_state=777) # random_state to reproduce results"
      ],
      "execution_count": 31,
      "outputs": []
    },
    {
      "cell_type": "code",
      "metadata": {
        "execution": {
          "iopub.execute_input": "2020-08-17T00:59:04.920991Z",
          "iopub.status.busy": "2020-08-17T00:59:04.920216Z",
          "iopub.status.idle": "2020-08-17T00:59:07.838328Z",
          "shell.execute_reply": "2020-08-17T00:59:07.837704Z"
        },
        "papermill": {
          "duration": 2.934245,
          "end_time": "2020-08-17T00:59:07.838456",
          "exception": false,
          "start_time": "2020-08-17T00:59:04.904211",
          "status": "completed"
        },
        "tags": [],
        "id": "7P3JGGgAbSi8",
        "colab": {
          "base_uri": "https://localhost:8080/",
          "height": 461,
          "referenced_widgets": [
            "ca2e57d85a0b4d8d87bd7cb1ed015675",
            "b8f7082c1a974ed4b74fa56791adde61",
            "50cbf80390ac4be18fb1b6f4992ce34f",
            "bbc82de12ab14c7cb4b3c83d9991b86f",
            "6a45e436225246a0b08bd83dc164fa05",
            "b3405d47bf714d3ba7c78a0fcb4cc59f",
            "fc64d10fbc534dbb8165310e5a8d762e",
            "36ddcf05763d4a579ffe331f194dd1fb",
            "f62c0c1f79654db58d5ffc968f6b8866",
            "396e3bcc8fee4c75909cc380e0d44a2f",
            "f8ada02dd4654de4b8ba00c545714a4b",
            "6a477cab861d40a58f648c816169a844",
            "f2c2dcf38da948ac9310a97067919fff",
            "403c2c64d9674a4daac7632626204b84",
            "b61f49df672f4feca72fe13781964023",
            "93a8e87ce5764b39b70373d73dc66f01",
            "3e243e39baa247d3b32274ec5120d5be",
            "87aeef328ea241f9b1fb83ab1157b81b",
            "c93fb475031648b7ac5c4256760ea824",
            "42f10c2ea10c43f9aed169167e6fa4f1",
            "0e647267e8794e97bd82185808c7600b",
            "320b1966b2be4847b0e48577da815d3b",
            "0346c61538d349a59c28d8f4d1257522",
            "a60d694feb334be3b4ab9ca2c2688b5e",
            "dd2906d28a8d4510a6c0a6be91ef119d",
            "536d2de1003e4442bb05fb8c2480fb90",
            "5722761fe8a549979adbe37b03f7d0ac",
            "d4a8b78233064125aeaa9446c3bd3249",
            "a3dd8df0994c4a84bded781f62deb8d2",
            "a903608ea4394b17a47d9208e4fc3c18",
            "463bdbdaf76549cdacdaf7251451e787",
            "b3602002e94c4057ba2cac2e51b6d54f",
            "33949fa1f790499db02a048090abfd53",
            "e4104c5654524a4a86ed698c3479b96c",
            "70f008b3c4bf41bd955a47450a493c3d",
            "1c88440d881445ac909405b7c82cff9e",
            "87eae44f67564c2eac61ff8b148c2b2d",
            "61b5a71b762242e4971825be1caa3165",
            "2e50f9e81a214952ba0a17dd5c86f9b0",
            "dc5e2388d02148a0a128316185e96985",
            "5ffda69dd7fb4d5f969ea4405e4d28cc",
            "6938690ee3794c7a875f01ce91721648",
            "fac9eddc7a694e47839366efeafc00f8",
            "c2a4f4b92c00479b8ab032f70975a555"
          ]
        },
        "outputId": "8bdb76a4-29fd-45e9-c9f2-0805735e54c4"
      },
      "source": [
        "# Import tokenizer from HuggingFace\n",
        "tokenizer = RobertaTokenizer.from_pretrained(MODEL_NAME)"
      ],
      "execution_count": 34,
      "outputs": [
        {
          "output_type": "stream",
          "name": "stderr",
          "text": [
            "DEBUG:filelock:Attempting to acquire lock 140544736492816 on /root/.cache/huggingface/transformers/d3ccdbfeb9aaa747ef20432d4976c32ee3fa69663b379deb253ccfce2bb1fdc5.d67d6b367eb24ab43b08ad55e014cf254076934f71d832bbab9ad35644a375ab.lock\n",
            "DEBUG:filelock:Lock 140544736492816 acquired on /root/.cache/huggingface/transformers/d3ccdbfeb9aaa747ef20432d4976c32ee3fa69663b379deb253ccfce2bb1fdc5.d67d6b367eb24ab43b08ad55e014cf254076934f71d832bbab9ad35644a375ab.lock\n"
          ]
        },
        {
          "output_type": "display_data",
          "data": {
            "application/vnd.jupyter.widget-view+json": {
              "model_id": "ca2e57d85a0b4d8d87bd7cb1ed015675",
              "version_minor": 0,
              "version_major": 2
            },
            "text/plain": [
              "Downloading:   0%|          | 0.00/878k [00:00<?, ?B/s]"
            ]
          },
          "metadata": {}
        },
        {
          "output_type": "stream",
          "name": "stderr",
          "text": [
            "DEBUG:filelock:Attempting to release lock 140544736492816 on /root/.cache/huggingface/transformers/d3ccdbfeb9aaa747ef20432d4976c32ee3fa69663b379deb253ccfce2bb1fdc5.d67d6b367eb24ab43b08ad55e014cf254076934f71d832bbab9ad35644a375ab.lock\n",
            "DEBUG:filelock:Lock 140544736492816 released on /root/.cache/huggingface/transformers/d3ccdbfeb9aaa747ef20432d4976c32ee3fa69663b379deb253ccfce2bb1fdc5.d67d6b367eb24ab43b08ad55e014cf254076934f71d832bbab9ad35644a375ab.lock\n",
            "DEBUG:filelock:Attempting to acquire lock 140544737818320 on /root/.cache/huggingface/transformers/cafdecc90fcab17011e12ac813dd574b4b3fea39da6dd817813efa010262ff3f.5d12962c5ee615a4c803841266e9c3be9a691a924f72d395d3a6c6c81157788b.lock\n",
            "DEBUG:filelock:Lock 140544737818320 acquired on /root/.cache/huggingface/transformers/cafdecc90fcab17011e12ac813dd574b4b3fea39da6dd817813efa010262ff3f.5d12962c5ee615a4c803841266e9c3be9a691a924f72d395d3a6c6c81157788b.lock\n"
          ]
        },
        {
          "output_type": "display_data",
          "data": {
            "application/vnd.jupyter.widget-view+json": {
              "model_id": "6a477cab861d40a58f648c816169a844",
              "version_minor": 0,
              "version_major": 2
            },
            "text/plain": [
              "Downloading:   0%|          | 0.00/446k [00:00<?, ?B/s]"
            ]
          },
          "metadata": {}
        },
        {
          "output_type": "stream",
          "name": "stderr",
          "text": [
            "DEBUG:filelock:Attempting to release lock 140544737818320 on /root/.cache/huggingface/transformers/cafdecc90fcab17011e12ac813dd574b4b3fea39da6dd817813efa010262ff3f.5d12962c5ee615a4c803841266e9c3be9a691a924f72d395d3a6c6c81157788b.lock\n",
            "DEBUG:filelock:Lock 140544737818320 released on /root/.cache/huggingface/transformers/cafdecc90fcab17011e12ac813dd574b4b3fea39da6dd817813efa010262ff3f.5d12962c5ee615a4c803841266e9c3be9a691a924f72d395d3a6c6c81157788b.lock\n",
            "DEBUG:filelock:Attempting to acquire lock 140549586715408 on /root/.cache/huggingface/transformers/d53fc0fa09b8342651efd4073d75e19617b3e51287c2a535becda5808a8db287.fc9576039592f026ad76a1c231b89aee8668488c671dfbe6616bab2ed298d730.lock\n",
            "DEBUG:filelock:Lock 140549586715408 acquired on /root/.cache/huggingface/transformers/d53fc0fa09b8342651efd4073d75e19617b3e51287c2a535becda5808a8db287.fc9576039592f026ad76a1c231b89aee8668488c671dfbe6616bab2ed298d730.lock\n"
          ]
        },
        {
          "output_type": "display_data",
          "data": {
            "application/vnd.jupyter.widget-view+json": {
              "model_id": "0346c61538d349a59c28d8f4d1257522",
              "version_minor": 0,
              "version_major": 2
            },
            "text/plain": [
              "Downloading:   0%|          | 0.00/1.29M [00:00<?, ?B/s]"
            ]
          },
          "metadata": {}
        },
        {
          "output_type": "stream",
          "name": "stderr",
          "text": [
            "DEBUG:filelock:Attempting to release lock 140549586715408 on /root/.cache/huggingface/transformers/d53fc0fa09b8342651efd4073d75e19617b3e51287c2a535becda5808a8db287.fc9576039592f026ad76a1c231b89aee8668488c671dfbe6616bab2ed298d730.lock\n",
            "DEBUG:filelock:Lock 140549586715408 released on /root/.cache/huggingface/transformers/d53fc0fa09b8342651efd4073d75e19617b3e51287c2a535becda5808a8db287.fc9576039592f026ad76a1c231b89aee8668488c671dfbe6616bab2ed298d730.lock\n",
            "DEBUG:filelock:Attempting to acquire lock 140544736473424 on /root/.cache/huggingface/transformers/733bade19e5f0ce98e6531021dd5180994bb2f7b8bd7e80c7968805834ba351e.35205c6cfc956461d8515139f0f8dd5d207a2f336c0c3a83b4bc8dca3518e37b.lock\n",
            "DEBUG:filelock:Lock 140544736473424 acquired on /root/.cache/huggingface/transformers/733bade19e5f0ce98e6531021dd5180994bb2f7b8bd7e80c7968805834ba351e.35205c6cfc956461d8515139f0f8dd5d207a2f336c0c3a83b4bc8dca3518e37b.lock\n"
          ]
        },
        {
          "output_type": "display_data",
          "data": {
            "application/vnd.jupyter.widget-view+json": {
              "model_id": "e4104c5654524a4a86ed698c3479b96c",
              "version_minor": 0,
              "version_major": 2
            },
            "text/plain": [
              "Downloading:   0%|          | 0.00/481 [00:00<?, ?B/s]"
            ]
          },
          "metadata": {}
        },
        {
          "output_type": "stream",
          "name": "stderr",
          "text": [
            "DEBUG:filelock:Attempting to release lock 140544736473424 on /root/.cache/huggingface/transformers/733bade19e5f0ce98e6531021dd5180994bb2f7b8bd7e80c7968805834ba351e.35205c6cfc956461d8515139f0f8dd5d207a2f336c0c3a83b4bc8dca3518e37b.lock\n",
            "DEBUG:filelock:Lock 140544736473424 released on /root/.cache/huggingface/transformers/733bade19e5f0ce98e6531021dd5180994bb2f7b8bd7e80c7968805834ba351e.35205c6cfc956461d8515139f0f8dd5d207a2f336c0c3a83b4bc8dca3518e37b.lock\n"
          ]
        }
      ]
    },
    {
      "cell_type": "code",
      "metadata": {
        "execution": {
          "iopub.execute_input": "2020-08-17T00:59:07.868787Z",
          "iopub.status.busy": "2020-08-17T00:59:07.868044Z",
          "iopub.status.idle": "2020-08-17T00:59:13.419358Z",
          "shell.execute_reply": "2020-08-17T00:59:13.418701Z"
        },
        "papermill": {
          "duration": 5.568996,
          "end_time": "2020-08-17T00:59:13.419489",
          "exception": false,
          "start_time": "2020-08-17T00:59:07.850493",
          "status": "completed"
        },
        "tags": [],
        "id": "OOdpuXiqbSi8"
      },
      "source": [
        "X_train = roberta_encode(X_train, tokenizer)\n",
        "X_test = roberta_encode(X_test, tokenizer)\n",
        "\n",
        "y_train = np.asarray(y_train, dtype='int32')\n",
        "y_test = np.asarray(y_test, dtype='int32')"
      ],
      "execution_count": 35,
      "outputs": []
    },
    {
      "cell_type": "markdown",
      "metadata": {
        "papermill": {
          "duration": 0.011806,
          "end_time": "2020-08-17T00:59:13.443167",
          "exception": false,
          "start_time": "2020-08-17T00:59:13.431361",
          "status": "completed"
        },
        "tags": [],
        "id": "YnTbcjKzbSi9"
      },
      "source": [
        "## Create RoBERTa model"
      ]
    },
    {
      "cell_type": "code",
      "metadata": {
        "execution": {
          "iopub.execute_input": "2020-08-17T00:59:13.482447Z",
          "iopub.status.busy": "2020-08-17T00:59:13.480028Z",
          "iopub.status.idle": "2020-08-17T00:59:13.485058Z",
          "shell.execute_reply": "2020-08-17T00:59:13.485589Z"
        },
        "papermill": {
          "duration": 0.031088,
          "end_time": "2020-08-17T00:59:13.485764",
          "exception": false,
          "start_time": "2020-08-17T00:59:13.454676",
          "status": "completed"
        },
        "scrolled": true,
        "tags": [],
        "id": "9jfSHZurbSi9"
      },
      "source": [
        "def build_model(n_categories):\n",
        "    with strategy.scope():\n",
        "        input_word_ids = tf.keras.Input(shape=(MAX_LEN,), dtype=tf.int32, name='input_word_ids')\n",
        "        input_mask = tf.keras.Input(shape=(MAX_LEN,), dtype=tf.int32, name='input_mask')\n",
        "        input_type_ids = tf.keras.Input(shape=(MAX_LEN,), dtype=tf.int32, name='input_type_ids')\n",
        "\n",
        "        # Import RoBERTa model from HuggingFace\n",
        "        roberta_model = TFRobertaModel.from_pretrained(MODEL_NAME)\n",
        "        roberta_model.resize_token_embeddings(len(tokenizer))\n",
        "        x = roberta_model(input_word_ids, attention_mask=input_mask, token_type_ids=input_type_ids)\n",
        "\n",
        "        # Huggingface transformers have multiple outputs, embeddings are the first one,\n",
        "        # so let's slice out the first position\n",
        "        x = x[0]\n",
        "\n",
        "        x = tf.keras.layers.Dropout(0.1)(x)\n",
        "        x = tf.keras.layers.Flatten()(x)\n",
        "        x = tf.keras.layers.Dense(256, activation='relu')(x)\n",
        "        x = tf.keras.layers.Dense(n_categories, activation='softmax')(x)\n",
        "\n",
        "        model = tf.keras.Model(inputs=[input_word_ids, input_mask, input_type_ids], outputs=x)\n",
        "        model.compile(\n",
        "            optimizer=tf.keras.optimizers.Adam(lr=2e-5),\n",
        "            loss='sparse_categorical_crossentropy',\n",
        "            metrics=['accuracy'])\n",
        "\n",
        "        return model"
      ],
      "execution_count": 36,
      "outputs": []
    },
    {
      "cell_type": "code",
      "metadata": {
        "execution": {
          "iopub.execute_input": "2020-08-17T00:59:13.515642Z",
          "iopub.status.busy": "2020-08-17T00:59:13.514812Z",
          "iopub.status.idle": "2020-08-17T01:00:08.617564Z",
          "shell.execute_reply": "2020-08-17T01:00:08.616814Z"
        },
        "papermill": {
          "duration": 55.120478,
          "end_time": "2020-08-17T01:00:08.617740",
          "exception": false,
          "start_time": "2020-08-17T00:59:13.497262",
          "status": "completed"
        },
        "tags": [],
        "colab": {
          "base_uri": "https://localhost:8080/",
          "height": 716,
          "referenced_widgets": [
            "be5e0efe4e0d42199e65d86f66cfdf84",
            "b230b67d1a844c7eb1564e1c40aa9aed",
            "5b8b03c01f7c40379d6c9474749e35e7",
            "3656d45072994ba794ac03270039c588",
            "74896c044b5a48498774277ef187dd8e",
            "dc6cfd0b84df4618b5963547ef793398",
            "f6d661ee55fe44d093a52115db2c205e",
            "a6576d5c40514674b6cce2a92fba9cea",
            "32d11a1368a54bde8d815a29f9d1a470",
            "e59af2e6a6584fad83df035565d3c508",
            "9bc76e1d7dec4d988eba07ec2ea8a924"
          ]
        },
        "id": "OB0RzdkPbSi-",
        "outputId": "3b89c886-b5aa-4a03-c7e5-2ee65a829676"
      },
      "source": [
        "with strategy.scope():\n",
        "    model = build_model(n_categories)\n",
        "    model.summary()"
      ],
      "execution_count": 37,
      "outputs": [
        {
          "output_type": "stream",
          "name": "stderr",
          "text": [
            "DEBUG:filelock:Attempting to acquire lock 140544690245008 on /root/.cache/huggingface/transformers/22fef2e3c5012c1a8f8d7f024e30275dd2925b076abb5131dc3d1068345b6426.d409db346b0c1408865b9785d36744ccb988186626309ae8f995f86511811602.h5.lock\n",
            "DEBUG:filelock:Lock 140544690245008 acquired on /root/.cache/huggingface/transformers/22fef2e3c5012c1a8f8d7f024e30275dd2925b076abb5131dc3d1068345b6426.d409db346b0c1408865b9785d36744ccb988186626309ae8f995f86511811602.h5.lock\n"
          ]
        },
        {
          "output_type": "display_data",
          "data": {
            "application/vnd.jupyter.widget-view+json": {
              "model_id": "be5e0efe4e0d42199e65d86f66cfdf84",
              "version_minor": 0,
              "version_major": 2
            },
            "text/plain": [
              "Downloading:   0%|          | 0.00/627M [00:00<?, ?B/s]"
            ]
          },
          "metadata": {}
        },
        {
          "output_type": "stream",
          "name": "stderr",
          "text": [
            "DEBUG:filelock:Attempting to release lock 140544690245008 on /root/.cache/huggingface/transformers/22fef2e3c5012c1a8f8d7f024e30275dd2925b076abb5131dc3d1068345b6426.d409db346b0c1408865b9785d36744ccb988186626309ae8f995f86511811602.h5.lock\n",
            "DEBUG:filelock:Lock 140544690245008 released on /root/.cache/huggingface/transformers/22fef2e3c5012c1a8f8d7f024e30275dd2925b076abb5131dc3d1068345b6426.d409db346b0c1408865b9785d36744ccb988186626309ae8f995f86511811602.h5.lock\n",
            "Some layers from the model checkpoint at roberta-base were not used when initializing TFRobertaModel: ['lm_head']\n",
            "- This IS expected if you are initializing TFRobertaModel from the checkpoint of a model trained on another task or with another architecture (e.g. initializing a BertForSequenceClassification model from a BertForPreTraining model).\n",
            "- This IS NOT expected if you are initializing TFRobertaModel from the checkpoint of a model that you expect to be exactly identical (initializing a BertForSequenceClassification model from a BertForSequenceClassification model).\n",
            "All the layers of TFRobertaModel were initialized from the model checkpoint at roberta-base.\n",
            "If your task is similar to the task the model of the checkpoint was trained on, you can already use TFRobertaModel for predictions without further training.\n"
          ]
        },
        {
          "output_type": "stream",
          "name": "stdout",
          "text": [
            "Model: \"model\"\n",
            "__________________________________________________________________________________________________\n",
            "Layer (type)                    Output Shape         Param #     Connected to                     \n",
            "==================================================================================================\n",
            "input_word_ids (InputLayer)     [(None, 128)]        0                                            \n",
            "__________________________________________________________________________________________________\n",
            "input_mask (InputLayer)         [(None, 128)]        0                                            \n",
            "__________________________________________________________________________________________________\n",
            "input_type_ids (InputLayer)     [(None, 128)]        0                                            \n",
            "__________________________________________________________________________________________________\n",
            "tf_roberta_model (TFRobertaMode TFBaseModelOutputWit 124768512   input_word_ids[0][0]             \n",
            "                                                                 input_mask[0][0]                 \n",
            "                                                                 input_type_ids[0][0]             \n",
            "__________________________________________________________________________________________________\n",
            "dropout_37 (Dropout)            (None, 128, 768)     0           tf_roberta_model[0][0]           \n",
            "__________________________________________________________________________________________________\n",
            "flatten (Flatten)               (None, 98304)        0           dropout_37[0][0]                 \n",
            "__________________________________________________________________________________________________\n",
            "dense (Dense)                   (None, 256)          25166080    flatten[0][0]                    \n",
            "__________________________________________________________________________________________________\n",
            "dense_1 (Dense)                 (None, 2)            514         dense[0][0]                      \n",
            "==================================================================================================\n",
            "Total params: 149,935,106\n",
            "Trainable params: 149,935,106\n",
            "Non-trainable params: 0\n",
            "__________________________________________________________________________________________________\n"
          ]
        }
      ]
    },
    {
      "cell_type": "markdown",
      "metadata": {
        "papermill": {
          "duration": 0.012166,
          "end_time": "2020-08-17T01:00:08.645204",
          "exception": false,
          "start_time": "2020-08-17T01:00:08.633038",
          "status": "completed"
        },
        "tags": [],
        "id": "_Ij1JVzlbSi_"
      },
      "source": [
        "## Train model\n",
        "\n",
        "This is basic training of RoBERTa but, if your dataset is larger, you may use K-Folds in this section. In this notebook, I use K-Folds (use it as inspiration): https://www.kaggle.com/dimasmunoz/clean-english-data-roberta ;)"
      ]
    },
    {
      "cell_type": "code",
      "metadata": {
        "execution": {
          "iopub.execute_input": "2020-08-17T01:00:08.690435Z",
          "iopub.status.busy": "2020-08-17T01:00:08.689632Z",
          "iopub.status.idle": "2020-08-17T01:02:08.992785Z",
          "shell.execute_reply": "2020-08-17T01:02:08.992073Z"
        },
        "papermill": {
          "duration": 120.335358,
          "end_time": "2020-08-17T01:02:08.992931",
          "exception": false,
          "start_time": "2020-08-17T01:00:08.657573",
          "status": "completed"
        },
        "tags": [],
        "colab": {
          "base_uri": "https://localhost:8080/"
        },
        "id": "raag3RzlbSi_",
        "outputId": "836be7dc-af8e-4b3a-f44b-537642db5ff2"
      },
      "source": [
        "with strategy.scope():\n",
        "    print('Starting training.....')\n",
        "    history = model.fit(X_train,\n",
        "                        y_train,\n",
        "                        epochs=EPOCHS,\n",
        "                        batch_size=BATCH_SIZE,\n",
        "                        verbose=1,\n",
        "                        validation_data=(X_test, y_test))"
      ],
      "execution_count": 38,
      "outputs": [
        {
          "output_type": "stream",
          "name": "stdout",
          "text": [
            "Starting training.....\n",
            "Epoch 1/4\n"
          ]
        },
        {
          "output_type": "stream",
          "name": "stderr",
          "text": [
            "INFO:absl:TPU has inputs with dynamic shapes: [<tf.Tensor 'Const:0' shape=() dtype=int32>, <tf.Tensor 'cond_8/Identity:0' shape=(None, 128) dtype=int32>, <tf.Tensor 'cond_8/Identity_1:0' shape=(None, 128) dtype=int32>, <tf.Tensor 'cond_8/Identity_2:0' shape=(None, 128) dtype=int32>, <tf.Tensor 'cond_8/Identity_3:0' shape=(None,) dtype=int32>]\n"
          ]
        },
        {
          "output_type": "stream",
          "name": "stdout",
          "text": [
            "WARNING:tensorflow:Gradients do not exist for variables ['tf_roberta_model/roberta/pooler/dense/kernel:0', 'tf_roberta_model/roberta/pooler/dense/bias:0'] when minimizing the loss.\n"
          ]
        },
        {
          "output_type": "stream",
          "name": "stderr",
          "text": [
            "WARNING:tensorflow:Gradients do not exist for variables ['tf_roberta_model/roberta/pooler/dense/kernel:0', 'tf_roberta_model/roberta/pooler/dense/bias:0'] when minimizing the loss.\n",
            "INFO:absl:TPU has inputs with dynamic shapes: [<tf.Tensor 'Const:0' shape=() dtype=int32>, <tf.Tensor 'cond_8/Identity:0' shape=(None, 128) dtype=int32>, <tf.Tensor 'cond_8/Identity_1:0' shape=(None, 128) dtype=int32>, <tf.Tensor 'cond_8/Identity_2:0' shape=(None, 128) dtype=int32>, <tf.Tensor 'cond_8/Identity_3:0' shape=(None,) dtype=int32>]\n"
          ]
        },
        {
          "output_type": "stream",
          "name": "stdout",
          "text": [
            "WARNING:tensorflow:Gradients do not exist for variables ['tf_roberta_model/roberta/pooler/dense/kernel:0', 'tf_roberta_model/roberta/pooler/dense/bias:0'] when minimizing the loss.\n"
          ]
        },
        {
          "output_type": "stream",
          "name": "stderr",
          "text": [
            "WARNING:tensorflow:Gradients do not exist for variables ['tf_roberta_model/roberta/pooler/dense/kernel:0', 'tf_roberta_model/roberta/pooler/dense/bias:0'] when minimizing the loss.\n"
          ]
        },
        {
          "output_type": "stream",
          "name": "stdout",
          "text": [
            "42/42 [==============================] - ETA: 0s - loss: 0.7177 - accuracy: 0.5522"
          ]
        },
        {
          "output_type": "stream",
          "name": "stderr",
          "text": [
            "INFO:absl:TPU has inputs with dynamic shapes: [<tf.Tensor 'Const:0' shape=() dtype=int32>, <tf.Tensor 'cond_8/Identity:0' shape=(None, 128) dtype=int32>, <tf.Tensor 'cond_8/Identity_1:0' shape=(None, 128) dtype=int32>, <tf.Tensor 'cond_8/Identity_2:0' shape=(None, 128) dtype=int32>, <tf.Tensor 'cond_8/Identity_3:0' shape=(None,) dtype=int32>]\n"
          ]
        },
        {
          "output_type": "stream",
          "name": "stdout",
          "text": [
            "42/42 [==============================] - 147s 2s/step - loss: 0.7177 - accuracy: 0.5522 - val_loss: 0.6394 - val_accuracy: 0.6306\n",
            "Epoch 2/4\n",
            "42/42 [==============================] - 5s 125ms/step - loss: 0.5937 - accuracy: 0.6814 - val_loss: 0.6101 - val_accuracy: 0.6664\n",
            "Epoch 3/4\n",
            "42/42 [==============================] - 5s 125ms/step - loss: 0.4357 - accuracy: 0.7963 - val_loss: 0.6107 - val_accuracy: 0.6961\n",
            "Epoch 4/4\n",
            "42/42 [==============================] - 5s 124ms/step - loss: 0.2727 - accuracy: 0.8836 - val_loss: 0.7501 - val_accuracy: 0.6865\n"
          ]
        }
      ]
    },
    {
      "cell_type": "code",
      "metadata": {
        "execution": {
          "iopub.execute_input": "2020-08-17T01:02:09.037091Z",
          "iopub.status.busy": "2020-08-17T01:02:09.035944Z",
          "iopub.status.idle": "2020-08-17T01:02:09.278418Z",
          "shell.execute_reply": "2020-08-17T01:02:09.277834Z"
        },
        "papermill": {
          "duration": 0.267718,
          "end_time": "2020-08-17T01:02:09.278543",
          "exception": false,
          "start_time": "2020-08-17T01:02:09.010825",
          "status": "completed"
        },
        "tags": [],
        "colab": {
          "base_uri": "https://localhost:8080/",
          "height": 625
        },
        "id": "GCj7VZECbSjB",
        "outputId": "b95b4adc-5497-45d7-f463-874e5f8c504d"
      },
      "source": [
        "# This plot will look much better if we train models with more epochs, but anyway here is\n",
        "plt.figure(figsize=(10, 10))\n",
        "plt.title('Accuracy')\n",
        "\n",
        "xaxis = np.arange(len(history.history['accuracy']))\n",
        "plt.plot(xaxis, history.history['accuracy'], label='Train set')\n",
        "plt.plot(xaxis, history.history['val_accuracy'], label='Validation set')\n",
        "plt.legend()"
      ],
      "execution_count": 39,
      "outputs": [
        {
          "output_type": "execute_result",
          "data": {
            "text/plain": [
              "<matplotlib.legend.Legend at 0x7fd2fb57c710>"
            ]
          },
          "metadata": {},
          "execution_count": 39
        },
        {
          "output_type": "display_data",
          "data": {
            "image/png": "[encoded data removed]",
            "text/plain": [
              "<Figure size 720x720 with 1 Axes>"
            ]
          },
          "metadata": {
            "needs_background": "light"
          }
        }
      ]
    },
    {
      "cell_type": "code",
      "metadata": {
        "colab": {
          "base_uri": "https://localhost:8080/",
          "height": 625
        },
        "id": "xiErkZ-wsxoL",
        "outputId": "358bf286-a861-4eda-b8b6-5dd940fa92ff"
      },
      "source": [
        "plt.figure(figsize=(10, 10))\n",
        "plt.title('Accuracy')\n",
        "\n",
        "xaxis = np.arange(len(history.history['loss']))\n",
        "plt.plot(xaxis, history.history['loss'], label='Train set')\n",
        "plt.plot(xaxis, history.history['val_loss'], label='Validation set')\n",
        "plt.legend()"
      ],
      "execution_count": 40,
      "outputs": [
        {
          "output_type": "execute_result",
          "data": {
            "text/plain": [
              "<matplotlib.legend.Legend at 0x7fd2f492b990>"
            ]
          },
          "metadata": {},
          "execution_count": 40
        },
        {
          "output_type": "display_data",
          "data": {
            "image/png": "[encoded data removed]",
            "text/plain": [
              "<Figure size 720x720 with 1 Axes>"
            ]
          },
          "metadata": {
            "needs_background": "light"
          }
        }
      ]
    },
    {
      "cell_type": "markdown",
      "metadata": {
        "papermill": {
          "duration": 0.0176,
          "end_time": "2020-08-17T01:02:09.314368",
          "exception": false,
          "start_time": "2020-08-17T01:02:09.296768",
          "status": "completed"
        },
        "tags": [],
        "id": "Gf_QB1BqbSjB"
      },
      "source": [
        "## Evaluation\n",
        "\n",
        "In a confusion matrix, we can see how many categories are classified c"
      ]
    },
    {
      "cell_type": "code",
      "metadata": {
        "execution": {
          "iopub.execute_input": "2020-08-17T01:02:09.362877Z",
          "iopub.status.busy": "2020-08-17T01:02:09.361981Z",
          "iopub.status.idle": "2020-08-17T01:02:09.364860Z",
          "shell.execute_reply": "2020-08-17T01:02:09.365396Z"
        },
        "papermill": {
          "duration": 0.033205,
          "end_time": "2020-08-17T01:02:09.365553",
          "exception": false,
          "start_time": "2020-08-17T01:02:09.332348",
          "status": "completed"
        },
        "tags": [],
        "id": "wf_Re7n7bSjC"
      },
      "source": [
        "def plot_confusion_matrix(X_test, y_test, model):\n",
        "    y_pred = model.predict(X_test)\n",
        "    y_pred = [np.argmax(i) for i in model.predict(X_test)]\n",
        "\n",
        "    con_mat = tf.math.confusion_matrix(labels=y_test, predictions=y_pred).numpy()\n",
        "\n",
        "    con_mat_norm = np.around(con_mat.astype('float') / con_mat.sum(axis=1)[:, np.newaxis], decimals=2)\n",
        "    label_names = list(range(len(con_mat_norm)))\n",
        "\n",
        "    con_mat_df = pd.DataFrame(con_mat_norm,\n",
        "                              index=label_names, \n",
        "                              columns=label_names)\n",
        "\n",
        "    figure = plt.figure(figsize=(10, 10))\n",
        "    sns.heatmap(con_mat_df, cmap=plt.cm.Blues, annot=True)\n",
        "    plt.ylabel('True label')\n",
        "    plt.xlabel('Predicted label')"
      ],
      "execution_count": 41,
      "outputs": []
    },
    {
      "cell_type": "code",
      "metadata": {
        "execution": {
          "iopub.execute_input": "2020-08-17T01:02:09.411483Z",
          "iopub.status.busy": "2020-08-17T01:02:09.410589Z",
          "iopub.status.idle": "2020-08-17T01:02:10.240891Z",
          "shell.execute_reply": "2020-08-17T01:02:10.241444Z"
        },
        "papermill": {
          "duration": 0.857642,
          "end_time": "2020-08-17T01:02:10.241606",
          "exception": false,
          "start_time": "2020-08-17T01:02:09.383964",
          "status": "completed"
        },
        "tags": [],
        "colab": {
          "base_uri": "https://localhost:8080/"
        },
        "id": "LwqN3s2ubSjC",
        "outputId": "3e93f3b3-81a1-4c1e-d426-07fc664cefa1"
      },
      "source": [
        "scores = model.evaluate(X_test, y_test, verbose=0)\n",
        "print(\"Accuracy: %.2f%%\" % (scores[1] * 100))"
      ],
      "execution_count": 42,
      "outputs": [
        {
          "output_type": "stream",
          "name": "stdout",
          "text": [
            "Accuracy: 68.65%\n"
          ]
        }
      ]
    },
    {
      "cell_type": "code",
      "metadata": {
        "id": "JhprlcjSSUqM"
      },
      "source": [
        "class_names=['1', '0']"
      ],
      "execution_count": 43,
      "outputs": []
    },
    {
      "cell_type": "code",
      "metadata": {
        "colab": {
          "base_uri": "https://localhost:8080/"
        },
        "id": "EbmP5AzmSblm",
        "outputId": "af7a99ed-f24f-4d61-a115-49a3cca57c9b"
      },
      "source": [
        "y_pred= model.predict(X_test)\n",
        "y_pred = [np.argmax(i) for i in model.predict(X_test)]\n",
        "print(classification_report(y_test, y_pred, target_names=class_names))"
      ],
      "execution_count": 46,
      "outputs": [
        {
          "output_type": "stream",
          "name": "stderr",
          "text": [
            "INFO:absl:TPU has inputs with dynamic shapes: [<tf.Tensor 'Const:0' shape=() dtype=int32>, <tf.Tensor 'cond_8/Identity:0' shape=(None, 128) dtype=int32>, <tf.Tensor 'cond_8/Identity_1:0' shape=(None, 128) dtype=int32>, <tf.Tensor 'cond_8/Identity_2:0' shape=(None, 128) dtype=int32>]\n"
          ]
        },
        {
          "output_type": "stream",
          "name": "stdout",
          "text": [
            "              precision    recall  f1-score   support\n",
            "\n",
            "           1       0.65      0.79      0.71       567\n",
            "           0       0.74      0.58      0.65       578\n",
            "\n",
            "    accuracy                           0.69      1145\n",
            "   macro avg       0.70      0.69      0.68      1145\n",
            "weighted avg       0.70      0.69      0.68      1145\n",
            "\n"
          ]
        }
      ]
    },
    {
      "cell_type": "code",
      "metadata": {
        "id": "ZgqXRKBbxUUi"
      },
      "source": [
        "def show_confusion_matrix(confusion_matrix):\n",
        "  hmap = sns.heatmap(confusion_matrix, annot=True, fmt=\"d\", cmap=\"Blues\")\n",
        "  hmap.yaxis.set_ticklabels(hmap.yaxis.get_ticklabels(), rotation=0, ha='right')\n",
        "  hmap.xaxis.set_ticklabels(hmap.xaxis.get_ticklabels(), rotation=30, ha='right')\n",
        "  plt.ylabel('True Lablel')\n",
        "  plt.xlabel('Predicted label');"
      ],
      "execution_count": 47,
      "outputs": []
    },
    {
      "cell_type": "code",
      "metadata": {
        "id": "I2qo8Vo7xXzN",
        "outputId": "7db34440-cab7-4a72-8a00-d69bb63a93d0",
        "colab": {
          "base_uri": "https://localhost:8080/",
          "height": 281
        }
      },
      "source": [
        "cm = confusion_matrix(y_test, y_pred)\n",
        "df_cm = pd.DataFrame(cm, index=class_names, columns=class_names)\n",
        "show_confusion_matrix(df_cm)"
      ],
      "execution_count": 50,
      "outputs": [
        {
          "output_type": "display_data",
          "data": {
            "image/png": "[encoded data removed]",
            "text/plain": [
              "<Figure size 432x288 with 2 Axes>"
            ]
          },
          "metadata": {
            "needs_background": "light"
          }
        }
      ]
    },
    {
      "cell_type": "code",
      "metadata": {
        "execution": {
          "iopub.execute_input": "2020-08-17T01:02:10.287252Z",
          "iopub.status.busy": "2020-08-17T01:02:10.286402Z",
          "iopub.status.idle": "2020-08-17T01:02:22.697723Z",
          "shell.execute_reply": "2020-08-17T01:02:22.696941Z"
        },
        "papermill": {
          "duration": 12.437743,
          "end_time": "2020-08-17T01:02:22.697855",
          "exception": false,
          "start_time": "2020-08-17T01:02:10.260112",
          "status": "completed"
        },
        "tags": [],
        "colab": {
          "base_uri": "https://localhost:8080/",
          "height": 606
        },
        "id": "AZ5q_-NibSjD",
        "outputId": "efa108fb-932a-48ed-ad6f-2abdc8318dc7"
      },
      "source": [
        "plot_confusion_matrix(X_test, y_test, model)"
      ],
      "execution_count": 51,
      "outputs": [
        {
          "output_type": "display_data",
          "data": {
            "image/png": "[encoded data removed]",
            "text/plain": [
              "<Figure size 720x720 with 2 Axes>"
            ]
          },
          "metadata": {
            "needs_background": "light"
          }
        }
      ]
    },
    {
      "cell_type": "code",
      "metadata": {
        "papermill": {
          "duration": 0.018376,
          "end_time": "2020-08-17T01:02:22.735544",
          "exception": false,
          "start_time": "2020-08-17T01:02:22.717168",
          "status": "completed"
        },
        "tags": [],
        "id": "7A9VT1XabSjD"
      },
      "source": [
        ""
      ],
      "execution_count": null,
      "outputs": []
    }
  ]
}