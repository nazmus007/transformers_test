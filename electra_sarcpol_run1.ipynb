{
  "nbformat": 4,
  "nbformat_minor": 0,
  "metadata": {
    "colab": {
      "name": "electra_ghosh_run1.ipynb",
      "provenance": [],
      "machine_shape": "hm",
      "include_colab_link": true
    },
    "kernelspec": {
      "name": "python3",
      "display_name": "Python 3"
    },
    "language_info": {
      "name": "python"
    },
    "accelerator": "GPU",
    "widgets": {
      "application/vnd.jupyter.widget-state+json": {
        "43f6fe1f65834c2081ca93d0b0026987": {
          "model_module": "@jupyter-widgets/controls",
          "model_name": "HBoxModel",
          "model_module_version": "1.5.0",
          "state": {
            "_dom_classes": [],
            "_model_module": "@jupyter-widgets/controls",
            "_model_module_version": "1.5.0",
            "_model_name": "HBoxModel",
            "_view_count": null,
            "_view_module": "@jupyter-widgets/controls",
            "_view_module_version": "1.5.0",
            "_view_name": "HBoxView",
            "box_style": "",
            "children": [
              "IPY_MODEL_c8636488863f4f4bbf0803dddf48e8a8",
              "IPY_MODEL_5d6a85e3a0ab47ae9cfc987e25bd8fb8",
              "IPY_MODEL_8ff5956b1a1c43febb040a582a87c021"
            ],
            "layout": "IPY_MODEL_cfd16758ec09414ca0dfb2c0873fbdb7"
          }
        },
        "c8636488863f4f4bbf0803dddf48e8a8": {
          "model_module": "@jupyter-widgets/controls",
          "model_name": "HTMLModel",
          "model_module_version": "1.5.0",
          "state": {
            "_dom_classes": [],
            "_model_module": "@jupyter-widgets/controls",
            "_model_module_version": "1.5.0",
            "_model_name": "HTMLModel",
            "_view_count": null,
            "_view_module": "@jupyter-widgets/controls",
            "_view_module_version": "1.5.0",
            "_view_name": "HTMLView",
            "description": "",
            "description_tooltip": null,
            "layout": "IPY_MODEL_d1337e02a8cc481088cd0a7d1b72c509",
            "placeholder": "​",
            "style": "IPY_MODEL_816947778a7443e9b2cb9ee3dfac0935",
            "value": "Downloading: 100%"
          }
        },
        "5d6a85e3a0ab47ae9cfc987e25bd8fb8": {
          "model_module": "@jupyter-widgets/controls",
          "model_name": "FloatProgressModel",
          "model_module_version": "1.5.0",
          "state": {
            "_dom_classes": [],
            "_model_module": "@jupyter-widgets/controls",
            "_model_module_version": "1.5.0",
            "_model_name": "FloatProgressModel",
            "_view_count": null,
            "_view_module": "@jupyter-widgets/controls",
            "_view_module_version": "1.5.0",
            "_view_name": "ProgressView",
            "bar_style": "success",
            "description": "",
            "description_tooltip": null,
            "layout": "IPY_MODEL_fed8e4de7eb1405b8f7455b1054b1ada",
            "max": 231508,
            "min": 0,
            "orientation": "horizontal",
            "style": "IPY_MODEL_47596c6bb20e46cd9f124561630bd60a",
            "value": 231508
          }
        },
        "8ff5956b1a1c43febb040a582a87c021": {
          "model_module": "@jupyter-widgets/controls",
          "model_name": "HTMLModel",
          "model_module_version": "1.5.0",
          "state": {
            "_dom_classes": [],
            "_model_module": "@jupyter-widgets/controls",
            "_model_module_version": "1.5.0",
            "_model_name": "HTMLModel",
            "_view_count": null,
            "_view_module": "@jupyter-widgets/controls",
            "_view_module_version": "1.5.0",
            "_view_name": "HTMLView",
            "description": "",
            "description_tooltip": null,
            "layout": "IPY_MODEL_179f909c3ffe4da7a2b271446cc3abac",
            "placeholder": "​",
            "style": "IPY_MODEL_2d4f1b47828b426c8804b02acfee4cdc",
            "value": " 226k/226k [00:00&lt;00:00, 926kB/s]"
          }
        },
        "cfd16758ec09414ca0dfb2c0873fbdb7": {
          "model_module": "@jupyter-widgets/base",
          "model_name": "LayoutModel",
          "model_module_version": "1.2.0",
          "state": {
            "_model_module": "@jupyter-widgets/base",
            "_model_module_version": "1.2.0",
            "_model_name": "LayoutModel",
            "_view_count": null,
            "_view_module": "@jupyter-widgets/base",
            "_view_module_version": "1.2.0",
            "_view_name": "LayoutView",
            "align_content": null,
            "align_items": null,
            "align_self": null,
            "border": null,
            "bottom": null,
            "display": null,
            "flex": null,
            "flex_flow": null,
            "grid_area": null,
            "grid_auto_columns": null,
            "grid_auto_flow": null,
            "grid_auto_rows": null,
            "grid_column": null,
            "grid_gap": null,
            "grid_row": null,
            "grid_template_areas": null,
            "grid_template_columns": null,
            "grid_template_rows": null,
            "height": null,
            "justify_content": null,
            "justify_items": null,
            "left": null,
            "margin": null,
            "max_height": null,
            "max_width": null,
            "min_height": null,
            "min_width": null,
            "object_fit": null,
            "object_position": null,
            "order": null,
            "overflow": null,
            "overflow_x": null,
            "overflow_y": null,
            "padding": null,
            "right": null,
            "top": null,
            "visibility": null,
            "width": null
          }
        },
        "d1337e02a8cc481088cd0a7d1b72c509": {
          "model_module": "@jupyter-widgets/base",
          "model_name": "LayoutModel",
          "model_module_version": "1.2.0",
          "state": {
            "_model_module": "@jupyter-widgets/base",
            "_model_module_version": "1.2.0",
            "_model_name": "LayoutModel",
            "_view_count": null,
            "_view_module": "@jupyter-widgets/base",
            "_view_module_version": "1.2.0",
            "_view_name": "LayoutView",
            "align_content": null,
            "align_items": null,
            "align_self": null,
            "border": null,
            "bottom": null,
            "display": null,
            "flex": null,
            "flex_flow": null,
            "grid_area": null,
            "grid_auto_columns": null,
            "grid_auto_flow": null,
            "grid_auto_rows": null,
            "grid_column": null,
            "grid_gap": null,
            "grid_row": null,
            "grid_template_areas": null,
            "grid_template_columns": null,
            "grid_template_rows": null,
            "height": null,
            "justify_content": null,
            "justify_items": null,
            "left": null,
            "margin": null,
            "max_height": null,
            "max_width": null,
            "min_height": null,
            "min_width": null,
            "object_fit": null,
            "object_position": null,
            "order": null,
            "overflow": null,
            "overflow_x": null,
            "overflow_y": null,
            "padding": null,
            "right": null,
            "top": null,
            "visibility": null,
            "width": null
          }
        },
        "816947778a7443e9b2cb9ee3dfac0935": {
          "model_module": "@jupyter-widgets/controls",
          "model_name": "DescriptionStyleModel",
          "model_module_version": "1.5.0",
          "state": {
            "_model_module": "@jupyter-widgets/controls",
            "_model_module_version": "1.5.0",
            "_model_name": "DescriptionStyleModel",
            "_view_count": null,
            "_view_module": "@jupyter-widgets/base",
            "_view_module_version": "1.2.0",
            "_view_name": "StyleView",
            "description_width": ""
          }
        },
        "fed8e4de7eb1405b8f7455b1054b1ada": {
          "model_module": "@jupyter-widgets/base",
          "model_name": "LayoutModel",
          "model_module_version": "1.2.0",
          "state": {
            "_model_module": "@jupyter-widgets/base",
            "_model_module_version": "1.2.0",
            "_model_name": "LayoutModel",
            "_view_count": null,
            "_view_module": "@jupyter-widgets/base",
            "_view_module_version": "1.2.0",
            "_view_name": "LayoutView",
            "align_content": null,
            "align_items": null,
            "align_self": null,
            "border": null,
            "bottom": null,
            "display": null,
            "flex": null,
            "flex_flow": null,
            "grid_area": null,
            "grid_auto_columns": null,
            "grid_auto_flow": null,
            "grid_auto_rows": null,
            "grid_column": null,
            "grid_gap": null,
            "grid_row": null,
            "grid_template_areas": null,
            "grid_template_columns": null,
            "grid_template_rows": null,
            "height": null,
            "justify_content": null,
            "justify_items": null,
            "left": null,
            "margin": null,
            "max_height": null,
            "max_width": null,
            "min_height": null,
            "min_width": null,
            "object_fit": null,
            "object_position": null,
            "order": null,
            "overflow": null,
            "overflow_x": null,
            "overflow_y": null,
            "padding": null,
            "right": null,
            "top": null,
            "visibility": null,
            "width": null
          }
        },
        "47596c6bb20e46cd9f124561630bd60a": {
          "model_module": "@jupyter-widgets/controls",
          "model_name": "ProgressStyleModel",
          "model_module_version": "1.5.0",
          "state": {
            "_model_module": "@jupyter-widgets/controls",
            "_model_module_version": "1.5.0",
            "_model_name": "ProgressStyleModel",
            "_view_count": null,
            "_view_module": "@jupyter-widgets/base",
            "_view_module_version": "1.2.0",
            "_view_name": "StyleView",
            "bar_color": null,
            "description_width": ""
          }
        },
        "179f909c3ffe4da7a2b271446cc3abac": {
          "model_module": "@jupyter-widgets/base",
          "model_name": "LayoutModel",
          "model_module_version": "1.2.0",
          "state": {
            "_model_module": "@jupyter-widgets/base",
            "_model_module_version": "1.2.0",
            "_model_name": "LayoutModel",
            "_view_count": null,
            "_view_module": "@jupyter-widgets/base",
            "_view_module_version": "1.2.0",
            "_view_name": "LayoutView",
            "align_content": null,
            "align_items": null,
            "align_self": null,
            "border": null,
            "bottom": null,
            "display": null,
            "flex": null,
            "flex_flow": null,
            "grid_area": null,
            "grid_auto_columns": null,
            "grid_auto_flow": null,
            "grid_auto_rows": null,
            "grid_column": null,
            "grid_gap": null,
            "grid_row": null,
            "grid_template_areas": null,
            "grid_template_columns": null,
            "grid_template_rows": null,
            "height": null,
            "justify_content": null,
            "justify_items": null,
            "left": null,
            "margin": null,
            "max_height": null,
            "max_width": null,
            "min_height": null,
            "min_width": null,
            "object_fit": null,
            "object_position": null,
            "order": null,
            "overflow": null,
            "overflow_x": null,
            "overflow_y": null,
            "padding": null,
            "right": null,
            "top": null,
            "visibility": null,
            "width": null
          }
        },
        "2d4f1b47828b426c8804b02acfee4cdc": {
          "model_module": "@jupyter-widgets/controls",
          "model_name": "DescriptionStyleModel",
          "model_module_version": "1.5.0",
          "state": {
            "_model_module": "@jupyter-widgets/controls",
            "_model_module_version": "1.5.0",
            "_model_name": "DescriptionStyleModel",
            "_view_count": null,
            "_view_module": "@jupyter-widgets/base",
            "_view_module_version": "1.2.0",
            "_view_name": "StyleView",
            "description_width": ""
          }
        },
        "e8a975e3b00b4114b3463d5f7d3a11ab": {
          "model_module": "@jupyter-widgets/controls",
          "model_name": "HBoxModel",
          "model_module_version": "1.5.0",
          "state": {
            "_dom_classes": [],
            "_model_module": "@jupyter-widgets/controls",
            "_model_module_version": "1.5.0",
            "_model_name": "HBoxModel",
            "_view_count": null,
            "_view_module": "@jupyter-widgets/controls",
            "_view_module_version": "1.5.0",
            "_view_name": "HBoxView",
            "box_style": "",
            "children": [
              "IPY_MODEL_69b25b5fb3f041cabc42834c7abafab1",
              "IPY_MODEL_ebcf4a315eb34863a5deceaf2fa9f0dc",
              "IPY_MODEL_75e215633f6d401d9eb6270b1e599630"
            ],
            "layout": "IPY_MODEL_bd39eb506ffe46afabff05dafbe00082"
          }
        },
        "69b25b5fb3f041cabc42834c7abafab1": {
          "model_module": "@jupyter-widgets/controls",
          "model_name": "HTMLModel",
          "model_module_version": "1.5.0",
          "state": {
            "_dom_classes": [],
            "_model_module": "@jupyter-widgets/controls",
            "_model_module_version": "1.5.0",
            "_model_name": "HTMLModel",
            "_view_count": null,
            "_view_module": "@jupyter-widgets/controls",
            "_view_module_version": "1.5.0",
            "_view_name": "HTMLView",
            "description": "",
            "description_tooltip": null,
            "layout": "IPY_MODEL_4ef4fb72359f4358941c11b699cd5cde",
            "placeholder": "​",
            "style": "IPY_MODEL_2c46c9ef0b9d4a87b345ce41140a112d",
            "value": "Downloading: 100%"
          }
        },
        "ebcf4a315eb34863a5deceaf2fa9f0dc": {
          "model_module": "@jupyter-widgets/controls",
          "model_name": "FloatProgressModel",
          "model_module_version": "1.5.0",
          "state": {
            "_dom_classes": [],
            "_model_module": "@jupyter-widgets/controls",
            "_model_module_version": "1.5.0",
            "_model_name": "FloatProgressModel",
            "_view_count": null,
            "_view_module": "@jupyter-widgets/controls",
            "_view_module_version": "1.5.0",
            "_view_name": "ProgressView",
            "bar_style": "success",
            "description": "",
            "description_tooltip": null,
            "layout": "IPY_MODEL_9b9da5b378a54e7ea67f9bfe6129d508",
            "max": 27,
            "min": 0,
            "orientation": "horizontal",
            "style": "IPY_MODEL_34b0a2bb15b04fbd8a772ec4bc4924d7",
            "value": 27
          }
        },
        "75e215633f6d401d9eb6270b1e599630": {
          "model_module": "@jupyter-widgets/controls",
          "model_name": "HTMLModel",
          "model_module_version": "1.5.0",
          "state": {
            "_dom_classes": [],
            "_model_module": "@jupyter-widgets/controls",
            "_model_module_version": "1.5.0",
            "_model_name": "HTMLModel",
            "_view_count": null,
            "_view_module": "@jupyter-widgets/controls",
            "_view_module_version": "1.5.0",
            "_view_name": "HTMLView",
            "description": "",
            "description_tooltip": null,
            "layout": "IPY_MODEL_9845688c7de64aa089a0a09ea60fdbb7",
            "placeholder": "​",
            "style": "IPY_MODEL_0ddecc2e3d1848da84931bf80161829e",
            "value": " 27.0/27.0 [00:00&lt;00:00, 842B/s]"
          }
        },
        "bd39eb506ffe46afabff05dafbe00082": {
          "model_module": "@jupyter-widgets/base",
          "model_name": "LayoutModel",
          "model_module_version": "1.2.0",
          "state": {
            "_model_module": "@jupyter-widgets/base",
            "_model_module_version": "1.2.0",
            "_model_name": "LayoutModel",
            "_view_count": null,
            "_view_module": "@jupyter-widgets/base",
            "_view_module_version": "1.2.0",
            "_view_name": "LayoutView",
            "align_content": null,
            "align_items": null,
            "align_self": null,
            "border": null,
            "bottom": null,
            "display": null,
            "flex": null,
            "flex_flow": null,
            "grid_area": null,
            "grid_auto_columns": null,
            "grid_auto_flow": null,
            "grid_auto_rows": null,
            "grid_column": null,
            "grid_gap": null,
            "grid_row": null,
            "grid_template_areas": null,
            "grid_template_columns": null,
            "grid_template_rows": null,
            "height": null,
            "justify_content": null,
            "justify_items": null,
            "left": null,
            "margin": null,
            "max_height": null,
            "max_width": null,
            "min_height": null,
            "min_width": null,
            "object_fit": null,
            "object_position": null,
            "order": null,
            "overflow": null,
            "overflow_x": null,
            "overflow_y": null,
            "padding": null,
            "right": null,
            "top": null,
            "visibility": null,
            "width": null
          }
        },
        "4ef4fb72359f4358941c11b699cd5cde": {
          "model_module": "@jupyter-widgets/base",
          "model_name": "LayoutModel",
          "model_module_version": "1.2.0",
          "state": {
            "_model_module": "@jupyter-widgets/base",
            "_model_module_version": "1.2.0",
            "_model_name": "LayoutModel",
            "_view_count": null,
            "_view_module": "@jupyter-widgets/base",
            "_view_module_version": "1.2.0",
            "_view_name": "LayoutView",
            "align_content": null,
            "align_items": null,
            "align_self": null,
            "border": null,
            "bottom": null,
            "display": null,
            "flex": null,
            "flex_flow": null,
            "grid_area": null,
            "grid_auto_columns": null,
            "grid_auto_flow": null,
            "grid_auto_rows": null,
            "grid_column": null,
            "grid_gap": null,
            "grid_row": null,
            "grid_template_areas": null,
            "grid_template_columns": null,
            "grid_template_rows": null,
            "height": null,
            "justify_content": null,
            "justify_items": null,
            "left": null,
            "margin": null,
            "max_height": null,
            "max_width": null,
            "min_height": null,
            "min_width": null,
            "object_fit": null,
            "object_position": null,
            "order": null,
            "overflow": null,
            "overflow_x": null,
            "overflow_y": null,
            "padding": null,
            "right": null,
            "top": null,
            "visibility": null,
            "width": null
          }
        },
        "2c46c9ef0b9d4a87b345ce41140a112d": {
          "model_module": "@jupyter-widgets/controls",
          "model_name": "DescriptionStyleModel",
          "model_module_version": "1.5.0",
          "state": {
            "_model_module": "@jupyter-widgets/controls",
            "_model_module_version": "1.5.0",
            "_model_name": "DescriptionStyleModel",
            "_view_count": null,
            "_view_module": "@jupyter-widgets/base",
            "_view_module_version": "1.2.0",
            "_view_name": "StyleView",
            "description_width": ""
          }
        },
        "9b9da5b378a54e7ea67f9bfe6129d508": {
          "model_module": "@jupyter-widgets/base",
          "model_name": "LayoutModel",
          "model_module_version": "1.2.0",
          "state": {
            "_model_module": "@jupyter-widgets/base",
            "_model_module_version": "1.2.0",
            "_model_name": "LayoutModel",
            "_view_count": null,
            "_view_module": "@jupyter-widgets/base",
            "_view_module_version": "1.2.0",
            "_view_name": "LayoutView",
            "align_content": null,
            "align_items": null,
            "align_self": null,
            "border": null,
            "bottom": null,
            "display": null,
            "flex": null,
            "flex_flow": null,
            "grid_area": null,
            "grid_auto_columns": null,
            "grid_auto_flow": null,
            "grid_auto_rows": null,
            "grid_column": null,
            "grid_gap": null,
            "grid_row": null,
            "grid_template_areas": null,
            "grid_template_columns": null,
            "grid_template_rows": null,
            "height": null,
            "justify_content": null,
            "justify_items": null,
            "left": null,
            "margin": null,
            "max_height": null,
            "max_width": null,
            "min_height": null,
            "min_width": null,
            "object_fit": null,
            "object_position": null,
            "order": null,
            "overflow": null,
            "overflow_x": null,
            "overflow_y": null,
            "padding": null,
            "right": null,
            "top": null,
            "visibility": null,
            "width": null
          }
        },
        "34b0a2bb15b04fbd8a772ec4bc4924d7": {
          "model_module": "@jupyter-widgets/controls",
          "model_name": "ProgressStyleModel",
          "model_module_version": "1.5.0",
          "state": {
            "_model_module": "@jupyter-widgets/controls",
            "_model_module_version": "1.5.0",
            "_model_name": "ProgressStyleModel",
            "_view_count": null,
            "_view_module": "@jupyter-widgets/base",
            "_view_module_version": "1.2.0",
            "_view_name": "StyleView",
            "bar_color": null,
            "description_width": ""
          }
        },
        "9845688c7de64aa089a0a09ea60fdbb7": {
          "model_module": "@jupyter-widgets/base",
          "model_name": "LayoutModel",
          "model_module_version": "1.2.0",
          "state": {
            "_model_module": "@jupyter-widgets/base",
            "_model_module_version": "1.2.0",
            "_model_name": "LayoutModel",
            "_view_count": null,
            "_view_module": "@jupyter-widgets/base",
            "_view_module_version": "1.2.0",
            "_view_name": "LayoutView",
            "align_content": null,
            "align_items": null,
            "align_self": null,
            "border": null,
            "bottom": null,
            "display": null,
            "flex": null,
            "flex_flow": null,
            "grid_area": null,
            "grid_auto_columns": null,
            "grid_auto_flow": null,
            "grid_auto_rows": null,
            "grid_column": null,
            "grid_gap": null,
            "grid_row": null,
            "grid_template_areas": null,
            "grid_template_columns": null,
            "grid_template_rows": null,
            "height": null,
            "justify_content": null,
            "justify_items": null,
            "left": null,
            "margin": null,
            "max_height": null,
            "max_width": null,
            "min_height": null,
            "min_width": null,
            "object_fit": null,
            "object_position": null,
            "order": null,
            "overflow": null,
            "overflow_x": null,
            "overflow_y": null,
            "padding": null,
            "right": null,
            "top": null,
            "visibility": null,
            "width": null
          }
        },
        "0ddecc2e3d1848da84931bf80161829e": {
          "model_module": "@jupyter-widgets/controls",
          "model_name": "DescriptionStyleModel",
          "model_module_version": "1.5.0",
          "state": {
            "_model_module": "@jupyter-widgets/controls",
            "_model_module_version": "1.5.0",
            "_model_name": "DescriptionStyleModel",
            "_view_count": null,
            "_view_module": "@jupyter-widgets/base",
            "_view_module_version": "1.2.0",
            "_view_name": "StyleView",
            "description_width": ""
          }
        },
        "0ca9ac6356024c3b9790a8ae228b4baf": {
          "model_module": "@jupyter-widgets/controls",
          "model_name": "HBoxModel",
          "model_module_version": "1.5.0",
          "state": {
            "_dom_classes": [],
            "_model_module": "@jupyter-widgets/controls",
            "_model_module_version": "1.5.0",
            "_model_name": "HBoxModel",
            "_view_count": null,
            "_view_module": "@jupyter-widgets/controls",
            "_view_module_version": "1.5.0",
            "_view_name": "HBoxView",
            "box_style": "",
            "children": [
              "IPY_MODEL_39dadafb831242f8aa330ad4617ea9df",
              "IPY_MODEL_aec8e8ef965345b9888af09a6efeac0e",
              "IPY_MODEL_8edd4103247a4bcdab2ccd26538d7c85"
            ],
            "layout": "IPY_MODEL_29bfde07da5c4962b56c0fc2eee73b85"
          }
        },
        "39dadafb831242f8aa330ad4617ea9df": {
          "model_module": "@jupyter-widgets/controls",
          "model_name": "HTMLModel",
          "model_module_version": "1.5.0",
          "state": {
            "_dom_classes": [],
            "_model_module": "@jupyter-widgets/controls",
            "_model_module_version": "1.5.0",
            "_model_name": "HTMLModel",
            "_view_count": null,
            "_view_module": "@jupyter-widgets/controls",
            "_view_module_version": "1.5.0",
            "_view_name": "HTMLView",
            "description": "",
            "description_tooltip": null,
            "layout": "IPY_MODEL_7a8284db418146c0a6b585bd2e82bd97",
            "placeholder": "​",
            "style": "IPY_MODEL_5c15b0a49c2746a9a998827dad2e38b7",
            "value": "Downloading: 100%"
          }
        },
        "aec8e8ef965345b9888af09a6efeac0e": {
          "model_module": "@jupyter-widgets/controls",
          "model_name": "FloatProgressModel",
          "model_module_version": "1.5.0",
          "state": {
            "_dom_classes": [],
            "_model_module": "@jupyter-widgets/controls",
            "_model_module_version": "1.5.0",
            "_model_name": "FloatProgressModel",
            "_view_count": null,
            "_view_module": "@jupyter-widgets/controls",
            "_view_module_version": "1.5.0",
            "_view_name": "ProgressView",
            "bar_style": "success",
            "description": "",
            "description_tooltip": null,
            "layout": "IPY_MODEL_474c78722931406db6e211c108ad11be",
            "max": 666,
            "min": 0,
            "orientation": "horizontal",
            "style": "IPY_MODEL_b32109f516424369a7b51a3c99a395f2",
            "value": 666
          }
        },
        "8edd4103247a4bcdab2ccd26538d7c85": {
          "model_module": "@jupyter-widgets/controls",
          "model_name": "HTMLModel",
          "model_module_version": "1.5.0",
          "state": {
            "_dom_classes": [],
            "_model_module": "@jupyter-widgets/controls",
            "_model_module_version": "1.5.0",
            "_model_name": "HTMLModel",
            "_view_count": null,
            "_view_module": "@jupyter-widgets/controls",
            "_view_module_version": "1.5.0",
            "_view_name": "HTMLView",
            "description": "",
            "description_tooltip": null,
            "layout": "IPY_MODEL_d03d2e6f71484c5697a472a4928cf037",
            "placeholder": "​",
            "style": "IPY_MODEL_b640768984e54beb859bb228fce31231",
            "value": " 666/666 [00:00&lt;00:00, 23.3kB/s]"
          }
        },
        "29bfde07da5c4962b56c0fc2eee73b85": {
          "model_module": "@jupyter-widgets/base",
          "model_name": "LayoutModel",
          "model_module_version": "1.2.0",
          "state": {
            "_model_module": "@jupyter-widgets/base",
            "_model_module_version": "1.2.0",
            "_model_name": "LayoutModel",
            "_view_count": null,
            "_view_module": "@jupyter-widgets/base",
            "_view_module_version": "1.2.0",
            "_view_name": "LayoutView",
            "align_content": null,
            "align_items": null,
            "align_self": null,
            "border": null,
            "bottom": null,
            "display": null,
            "flex": null,
            "flex_flow": null,
            "grid_area": null,
            "grid_auto_columns": null,
            "grid_auto_flow": null,
            "grid_auto_rows": null,
            "grid_column": null,
            "grid_gap": null,
            "grid_row": null,
            "grid_template_areas": null,
            "grid_template_columns": null,
            "grid_template_rows": null,
            "height": null,
            "justify_content": null,
            "justify_items": null,
            "left": null,
            "margin": null,
            "max_height": null,
            "max_width": null,
            "min_height": null,
            "min_width": null,
            "object_fit": null,
            "object_position": null,
            "order": null,
            "overflow": null,
            "overflow_x": null,
            "overflow_y": null,
            "padding": null,
            "right": null,
            "top": null,
            "visibility": null,
            "width": null
          }
        },
        "7a8284db418146c0a6b585bd2e82bd97": {
          "model_module": "@jupyter-widgets/base",
          "model_name": "LayoutModel",
          "model_module_version": "1.2.0",
          "state": {
            "_model_module": "@jupyter-widgets/base",
            "_model_module_version": "1.2.0",
            "_model_name": "LayoutModel",
            "_view_count": null,
            "_view_module": "@jupyter-widgets/base",
            "_view_module_version": "1.2.0",
            "_view_name": "LayoutView",
            "align_content": null,
            "align_items": null,
            "align_self": null,
            "border": null,
            "bottom": null,
            "display": null,
            "flex": null,
            "flex_flow": null,
            "grid_area": null,
            "grid_auto_columns": null,
            "grid_auto_flow": null,
            "grid_auto_rows": null,
            "grid_column": null,
            "grid_gap": null,
            "grid_row": null,
            "grid_template_areas": null,
            "grid_template_columns": null,
            "grid_template_rows": null,
            "height": null,
            "justify_content": null,
            "justify_items": null,
            "left": null,
            "margin": null,
            "max_height": null,
            "max_width": null,
            "min_height": null,
            "min_width": null,
            "object_fit": null,
            "object_position": null,
            "order": null,
            "overflow": null,
            "overflow_x": null,
            "overflow_y": null,
            "padding": null,
            "right": null,
            "top": null,
            "visibility": null,
            "width": null
          }
        },
        "5c15b0a49c2746a9a998827dad2e38b7": {
          "model_module": "@jupyter-widgets/controls",
          "model_name": "DescriptionStyleModel",
          "model_module_version": "1.5.0",
          "state": {
            "_model_module": "@jupyter-widgets/controls",
            "_model_module_version": "1.5.0",
            "_model_name": "DescriptionStyleModel",
            "_view_count": null,
            "_view_module": "@jupyter-widgets/base",
            "_view_module_version": "1.2.0",
            "_view_name": "StyleView",
            "description_width": ""
          }
        },
        "474c78722931406db6e211c108ad11be": {
          "model_module": "@jupyter-widgets/base",
          "model_name": "LayoutModel",
          "model_module_version": "1.2.0",
          "state": {
            "_model_module": "@jupyter-widgets/base",
            "_model_module_version": "1.2.0",
            "_model_name": "LayoutModel",
            "_view_count": null,
            "_view_module": "@jupyter-widgets/base",
            "_view_module_version": "1.2.0",
            "_view_name": "LayoutView",
            "align_content": null,
            "align_items": null,
            "align_self": null,
            "border": null,
            "bottom": null,
            "display": null,
            "flex": null,
            "flex_flow": null,
            "grid_area": null,
            "grid_auto_columns": null,
            "grid_auto_flow": null,
            "grid_auto_rows": null,
            "grid_column": null,
            "grid_gap": null,
            "grid_row": null,
            "grid_template_areas": null,
            "grid_template_columns": null,
            "grid_template_rows": null,
            "height": null,
            "justify_content": null,
            "justify_items": null,
            "left": null,
            "margin": null,
            "max_height": null,
            "max_width": null,
            "min_height": null,
            "min_width": null,
            "object_fit": null,
            "object_position": null,
            "order": null,
            "overflow": null,
            "overflow_x": null,
            "overflow_y": null,
            "padding": null,
            "right": null,
            "top": null,
            "visibility": null,
            "width": null
          }
        },
        "b32109f516424369a7b51a3c99a395f2": {
          "model_module": "@jupyter-widgets/controls",
          "model_name": "ProgressStyleModel",
          "model_module_version": "1.5.0",
          "state": {
            "_model_module": "@jupyter-widgets/controls",
            "_model_module_version": "1.5.0",
            "_model_name": "ProgressStyleModel",
            "_view_count": null,
            "_view_module": "@jupyter-widgets/base",
            "_view_module_version": "1.2.0",
            "_view_name": "StyleView",
            "bar_color": null,
            "description_width": ""
          }
        },
        "d03d2e6f71484c5697a472a4928cf037": {
          "model_module": "@jupyter-widgets/base",
          "model_name": "LayoutModel",
          "model_module_version": "1.2.0",
          "state": {
            "_model_module": "@jupyter-widgets/base",
            "_model_module_version": "1.2.0",
            "_model_name": "LayoutModel",
            "_view_count": null,
            "_view_module": "@jupyter-widgets/base",
            "_view_module_version": "1.2.0",
            "_view_name": "LayoutView",
            "align_content": null,
            "align_items": null,
            "align_self": null,
            "border": null,
            "bottom": null,
            "display": null,
            "flex": null,
            "flex_flow": null,
            "grid_area": null,
            "grid_auto_columns": null,
            "grid_auto_flow": null,
            "grid_auto_rows": null,
            "grid_column": null,
            "grid_gap": null,
            "grid_row": null,
            "grid_template_areas": null,
            "grid_template_columns": null,
            "grid_template_rows": null,
            "height": null,
            "justify_content": null,
            "justify_items": null,
            "left": null,
            "margin": null,
            "max_height": null,
            "max_width": null,
            "min_height": null,
            "min_width": null,
            "object_fit": null,
            "object_position": null,
            "order": null,
            "overflow": null,
            "overflow_x": null,
            "overflow_y": null,
            "padding": null,
            "right": null,
            "top": null,
            "visibility": null,
            "width": null
          }
        },
        "b640768984e54beb859bb228fce31231": {
          "model_module": "@jupyter-widgets/controls",
          "model_name": "DescriptionStyleModel",
          "model_module_version": "1.5.0",
          "state": {
            "_model_module": "@jupyter-widgets/controls",
            "_model_module_version": "1.5.0",
            "_model_name": "DescriptionStyleModel",
            "_view_count": null,
            "_view_module": "@jupyter-widgets/base",
            "_view_module_version": "1.2.0",
            "_view_name": "StyleView",
            "description_width": ""
          }
        },
        "3cb10c18ed5d49db901c6b4578689feb": {
          "model_module": "@jupyter-widgets/controls",
          "model_name": "HBoxModel",
          "model_module_version": "1.5.0",
          "state": {
            "_dom_classes": [],
            "_model_module": "@jupyter-widgets/controls",
            "_model_module_version": "1.5.0",
            "_model_name": "HBoxModel",
            "_view_count": null,
            "_view_module": "@jupyter-widgets/controls",
            "_view_module_version": "1.5.0",
            "_view_name": "HBoxView",
            "box_style": "",
            "children": [
              "IPY_MODEL_c597efa9dc604e7eaaba4b1f9f7ec92b",
              "IPY_MODEL_8f2de5dc0cba48388bf33bf59123b89a",
              "IPY_MODEL_3389c22be51449c0a73f00b8aba3a110"
            ],
            "layout": "IPY_MODEL_02a2730bfa0242b681aca6468ab6aa89"
          }
        },
        "c597efa9dc604e7eaaba4b1f9f7ec92b": {
          "model_module": "@jupyter-widgets/controls",
          "model_name": "HTMLModel",
          "model_module_version": "1.5.0",
          "state": {
            "_dom_classes": [],
            "_model_module": "@jupyter-widgets/controls",
            "_model_module_version": "1.5.0",
            "_model_name": "HTMLModel",
            "_view_count": null,
            "_view_module": "@jupyter-widgets/controls",
            "_view_module_version": "1.5.0",
            "_view_name": "HTMLView",
            "description": "",
            "description_tooltip": null,
            "layout": "IPY_MODEL_da3f612b85f54f5aa279bc7385d5d109",
            "placeholder": "​",
            "style": "IPY_MODEL_04902ad78ea047d89d22c7c63cebe879",
            "value": "Downloading: 100%"
          }
        },
        "8f2de5dc0cba48388bf33bf59123b89a": {
          "model_module": "@jupyter-widgets/controls",
          "model_name": "FloatProgressModel",
          "model_module_version": "1.5.0",
          "state": {
            "_dom_classes": [],
            "_model_module": "@jupyter-widgets/controls",
            "_model_module_version": "1.5.0",
            "_model_name": "FloatProgressModel",
            "_view_count": null,
            "_view_module": "@jupyter-widgets/controls",
            "_view_module_version": "1.5.0",
            "_view_name": "ProgressView",
            "bar_style": "success",
            "description": "",
            "description_tooltip": null,
            "layout": "IPY_MODEL_148214ff34e04ef4a617de55f51be84e",
            "max": 440343552,
            "min": 0,
            "orientation": "horizontal",
            "style": "IPY_MODEL_814a1c17cb3741a49b342c710e7e9421",
            "value": 440343552
          }
        },
        "3389c22be51449c0a73f00b8aba3a110": {
          "model_module": "@jupyter-widgets/controls",
          "model_name": "HTMLModel",
          "model_module_version": "1.5.0",
          "state": {
            "_dom_classes": [],
            "_model_module": "@jupyter-widgets/controls",
            "_model_module_version": "1.5.0",
            "_model_name": "HTMLModel",
            "_view_count": null,
            "_view_module": "@jupyter-widgets/controls",
            "_view_module_version": "1.5.0",
            "_view_name": "HTMLView",
            "description": "",
            "description_tooltip": null,
            "layout": "IPY_MODEL_715000150d95420191f117b6f483b44f",
            "placeholder": "​",
            "style": "IPY_MODEL_9d35e7d6e1994b00bcb6e6418184f69f",
            "value": " 420M/420M [00:06&lt;00:00, 61.4MB/s]"
          }
        },
        "02a2730bfa0242b681aca6468ab6aa89": {
          "model_module": "@jupyter-widgets/base",
          "model_name": "LayoutModel",
          "model_module_version": "1.2.0",
          "state": {
            "_model_module": "@jupyter-widgets/base",
            "_model_module_version": "1.2.0",
            "_model_name": "LayoutModel",
            "_view_count": null,
            "_view_module": "@jupyter-widgets/base",
            "_view_module_version": "1.2.0",
            "_view_name": "LayoutView",
            "align_content": null,
            "align_items": null,
            "align_self": null,
            "border": null,
            "bottom": null,
            "display": null,
            "flex": null,
            "flex_flow": null,
            "grid_area": null,
            "grid_auto_columns": null,
            "grid_auto_flow": null,
            "grid_auto_rows": null,
            "grid_column": null,
            "grid_gap": null,
            "grid_row": null,
            "grid_template_areas": null,
            "grid_template_columns": null,
            "grid_template_rows": null,
            "height": null,
            "justify_content": null,
            "justify_items": null,
            "left": null,
            "margin": null,
            "max_height": null,
            "max_width": null,
            "min_height": null,
            "min_width": null,
            "object_fit": null,
            "object_position": null,
            "order": null,
            "overflow": null,
            "overflow_x": null,
            "overflow_y": null,
            "padding": null,
            "right": null,
            "top": null,
            "visibility": null,
            "width": null
          }
        },
        "da3f612b85f54f5aa279bc7385d5d109": {
          "model_module": "@jupyter-widgets/base",
          "model_name": "LayoutModel",
          "model_module_version": "1.2.0",
          "state": {
            "_model_module": "@jupyter-widgets/base",
            "_model_module_version": "1.2.0",
            "_model_name": "LayoutModel",
            "_view_count": null,
            "_view_module": "@jupyter-widgets/base",
            "_view_module_version": "1.2.0",
            "_view_name": "LayoutView",
            "align_content": null,
            "align_items": null,
            "align_self": null,
            "border": null,
            "bottom": null,
            "display": null,
            "flex": null,
            "flex_flow": null,
            "grid_area": null,
            "grid_auto_columns": null,
            "grid_auto_flow": null,
            "grid_auto_rows": null,
            "grid_column": null,
            "grid_gap": null,
            "grid_row": null,
            "grid_template_areas": null,
            "grid_template_columns": null,
            "grid_template_rows": null,
            "height": null,
            "justify_content": null,
            "justify_items": null,
            "left": null,
            "margin": null,
            "max_height": null,
            "max_width": null,
            "min_height": null,
            "min_width": null,
            "object_fit": null,
            "object_position": null,
            "order": null,
            "overflow": null,
            "overflow_x": null,
            "overflow_y": null,
            "padding": null,
            "right": null,
            "top": null,
            "visibility": null,
            "width": null
          }
        },
        "04902ad78ea047d89d22c7c63cebe879": {
          "model_module": "@jupyter-widgets/controls",
          "model_name": "DescriptionStyleModel",
          "model_module_version": "1.5.0",
          "state": {
            "_model_module": "@jupyter-widgets/controls",
            "_model_module_version": "1.5.0",
            "_model_name": "DescriptionStyleModel",
            "_view_count": null,
            "_view_module": "@jupyter-widgets/base",
            "_view_module_version": "1.2.0",
            "_view_name": "StyleView",
            "description_width": ""
          }
        },
        "148214ff34e04ef4a617de55f51be84e": {
          "model_module": "@jupyter-widgets/base",
          "model_name": "LayoutModel",
          "model_module_version": "1.2.0",
          "state": {
            "_model_module": "@jupyter-widgets/base",
            "_model_module_version": "1.2.0",
            "_model_name": "LayoutModel",
            "_view_count": null,
            "_view_module": "@jupyter-widgets/base",
            "_view_module_version": "1.2.0",
            "_view_name": "LayoutView",
            "align_content": null,
            "align_items": null,
            "align_self": null,
            "border": null,
            "bottom": null,
            "display": null,
            "flex": null,
            "flex_flow": null,
            "grid_area": null,
            "grid_auto_columns": null,
            "grid_auto_flow": null,
            "grid_auto_rows": null,
            "grid_column": null,
            "grid_gap": null,
            "grid_row": null,
            "grid_template_areas": null,
            "grid_template_columns": null,
            "grid_template_rows": null,
            "height": null,
            "justify_content": null,
            "justify_items": null,
            "left": null,
            "margin": null,
            "max_height": null,
            "max_width": null,
            "min_height": null,
            "min_width": null,
            "object_fit": null,
            "object_position": null,
            "order": null,
            "overflow": null,
            "overflow_x": null,
            "overflow_y": null,
            "padding": null,
            "right": null,
            "top": null,
            "visibility": null,
            "width": null
          }
        },
        "814a1c17cb3741a49b342c710e7e9421": {
          "model_module": "@jupyter-widgets/controls",
          "model_name": "ProgressStyleModel",
          "model_module_version": "1.5.0",
          "state": {
            "_model_module": "@jupyter-widgets/controls",
            "_model_module_version": "1.5.0",
            "_model_name": "ProgressStyleModel",
            "_view_count": null,
            "_view_module": "@jupyter-widgets/base",
            "_view_module_version": "1.2.0",
            "_view_name": "StyleView",
            "bar_color": null,
            "description_width": ""
          }
        },
        "715000150d95420191f117b6f483b44f": {
          "model_module": "@jupyter-widgets/base",
          "model_name": "LayoutModel",
          "model_module_version": "1.2.0",
          "state": {
            "_model_module": "@jupyter-widgets/base",
            "_model_module_version": "1.2.0",
            "_model_name": "LayoutModel",
            "_view_count": null,
            "_view_module": "@jupyter-widgets/base",
            "_view_module_version": "1.2.0",
            "_view_name": "LayoutView",
            "align_content": null,
            "align_items": null,
            "align_self": null,
            "border": null,
            "bottom": null,
            "display": null,
            "flex": null,
            "flex_flow": null,
            "grid_area": null,
            "grid_auto_columns": null,
            "grid_auto_flow": null,
            "grid_auto_rows": null,
            "grid_column": null,
            "grid_gap": null,
            "grid_row": null,
            "grid_template_areas": null,
            "grid_template_columns": null,
            "grid_template_rows": null,
            "height": null,
            "justify_content": null,
            "justify_items": null,
            "left": null,
            "margin": null,
            "max_height": null,
            "max_width": null,
            "min_height": null,
            "min_width": null,
            "object_fit": null,
            "object_position": null,
            "order": null,
            "overflow": null,
            "overflow_x": null,
            "overflow_y": null,
            "padding": null,
            "right": null,
            "top": null,
            "visibility": null,
            "width": null
          }
        },
        "9d35e7d6e1994b00bcb6e6418184f69f": {
          "model_module": "@jupyter-widgets/controls",
          "model_name": "DescriptionStyleModel",
          "model_module_version": "1.5.0",
          "state": {
            "_model_module": "@jupyter-widgets/controls",
            "_model_module_version": "1.5.0",
            "_model_name": "DescriptionStyleModel",
            "_view_count": null,
            "_view_module": "@jupyter-widgets/base",
            "_view_module_version": "1.2.0",
            "_view_name": "StyleView",
            "description_width": ""
          }
        }
      }
    }
  },
  "cells": [
    {
      "cell_type": "markdown",
      "metadata": {
        "id": "view-in-github",
        "colab_type": "text"
      },
      "source": [
        "<a href=\"https://colab.research.google.com/github/nazmus007/transformers_test/blob/main/electra_sarcpol_run1.ipynb\" target=\"_parent\"><img src=\"https://colab.research.google.com/assets/colab-badge.svg\" alt=\"Open In Colab\"/></a>"
      ]
    },
    {
      "cell_type": "code",
      "execution_count": 22,
      "metadata": {
        "id": "A_wADkH2P2bh"
      },
      "outputs": [],
      "source": [
        "!pip install -qq transformers"
      ]
    },
    {
      "cell_type": "code",
      "source": [
        "from google.colab import drive\n",
        "drive.mount('/content/drive')"
      ],
      "metadata": {
        "colab": {
          "base_uri": "https://localhost:8080/"
        },
        "id": "_YJ317ciQFPN",
        "outputId": "79ed4c8b-f3f4-4835-8f62-14d2c0c7e4a9"
      },
      "execution_count": 23,
      "outputs": [
        {
          "output_type": "stream",
          "name": "stdout",
          "text": [
            "Drive already mounted at /content/drive; to attempt to forcibly remount, call drive.mount(\"/content/drive\", force_remount=True).\n"
          ]
        }
      ]
    },
    {
      "cell_type": "code",
      "source": [
        "import transformers\n",
        "\n",
        "from transformers import BertModel, BertTokenizer, AdamW, get_linear_schedule_with_warmup, BertForSequenceClassification\n",
        "\n",
        "import torch\n",
        "import re\n",
        "import numpy as np\n",
        "import pandas as pd\n",
        "\n",
        "import seaborn as sns\n",
        "\n",
        "from pylab import rcParams\n",
        "\n",
        "import matplotlib.pyplot as plt\n",
        "\n",
        "from matplotlib import rc\n",
        "\n",
        "from sklearn.model_selection import train_test_split\n",
        "\n",
        "from sklearn.metrics import confusion_matrix, classification_report\n",
        "\n",
        "from collections import defaultdict\n",
        "\n",
        "from textwrap import wrap\n",
        "\n",
        "from torch import nn, optim\n",
        "\n",
        "from torch.utils.data import Dataset, DataLoader"
      ],
      "metadata": {
        "id": "DPOck7x2QK1s"
      },
      "execution_count": 3,
      "outputs": []
    },
    {
      "cell_type": "code",
      "source": [
        "import torch.nn.functional as F"
      ],
      "metadata": {
        "id": "NaOOVBxJQc_z"
      },
      "execution_count": 4,
      "outputs": []
    },
    {
      "cell_type": "code",
      "source": [
        "df_train = pd.read_csv(\"./drive/MyDrive/datasets/sarc_pol_train.csv\")\n",
        "df_train.head()"
      ],
      "metadata": {
        "id": "X39lB9x0QiGk",
        "outputId": "ae74c6cf-30f6-4d21-f00d-753ed5b6f753",
        "colab": {
          "base_uri": "https://localhost:8080/",
          "height": 206
        }
      },
      "execution_count": 6,
      "outputs": [
        {
          "output_type": "execute_result",
          "data": {
            "text/plain": [
              "   Unnamed: 0  index                                              Tweet  Label\n",
              "0           0      0  JUST YOU SHUT THE FUCK UP AND GET BACK TO TROO...      1\n",
              "1           1      1                     When all else fails blame Pepe      1\n",
              "2           2      2    Well at least he is doing a white people drug .      1\n",
              "3           3      3  I'm sure he will come into meetings with a com...      1\n",
              "4           4      4                                     I'm so shocked      1"
            ],
            "text/html": [
              "\n",
              "  <div id=\"df-eb5141fa-5e71-46db-ac3e-6cf8907699b8\">\n",
              "    <div class=\"colab-df-container\">\n",
              "      <div>\n",
              "<style scoped>\n",
              "    .dataframe tbody tr th:only-of-type {\n",
              "        vertical-align: middle;\n",
              "    }\n",
              "\n",
              "    .dataframe tbody tr th {\n",
              "        vertical-align: top;\n",
              "    }\n",
              "\n",
              "    .dataframe thead th {\n",
              "        text-align: right;\n",
              "    }\n",
              "</style>\n",
              "<table border=\"1\" class=\"dataframe\">\n",
              "  <thead>\n",
              "    <tr style=\"text-align: right;\">\n",
              "      <th></th>\n",
              "      <th>Unnamed: 0</th>\n",
              "      <th>index</th>\n",
              "      <th>Tweet</th>\n",
              "      <th>Label</th>\n",
              "    </tr>\n",
              "  </thead>\n",
              "  <tbody>\n",
              "    <tr>\n",
              "      <th>0</th>\n",
              "      <td>0</td>\n",
              "      <td>0</td>\n",
              "      <td>JUST YOU SHUT THE FUCK UP AND GET BACK TO TROO...</td>\n",
              "      <td>1</td>\n",
              "    </tr>\n",
              "    <tr>\n",
              "      <th>1</th>\n",
              "      <td>1</td>\n",
              "      <td>1</td>\n",
              "      <td>When all else fails blame Pepe</td>\n",
              "      <td>1</td>\n",
              "    </tr>\n",
              "    <tr>\n",
              "      <th>2</th>\n",
              "      <td>2</td>\n",
              "      <td>2</td>\n",
              "      <td>Well at least he is doing a white people drug .</td>\n",
              "      <td>1</td>\n",
              "    </tr>\n",
              "    <tr>\n",
              "      <th>3</th>\n",
              "      <td>3</td>\n",
              "      <td>3</td>\n",
              "      <td>I'm sure he will come into meetings with a com...</td>\n",
              "      <td>1</td>\n",
              "    </tr>\n",
              "    <tr>\n",
              "      <th>4</th>\n",
              "      <td>4</td>\n",
              "      <td>4</td>\n",
              "      <td>I'm so shocked</td>\n",
              "      <td>1</td>\n",
              "    </tr>\n",
              "  </tbody>\n",
              "</table>\n",
              "</div>\n",
              "      <button class=\"colab-df-convert\" onclick=\"convertToInteractive('df-eb5141fa-5e71-46db-ac3e-6cf8907699b8')\"\n",
              "              title=\"Convert this dataframe to an interactive table.\"\n",
              "              style=\"display:none;\">\n",
              "        \n",
              "  <svg xmlns=\"http://www.w3.org/2000/svg\" height=\"24px\"viewBox=\"0 0 24 24\"\n",
              "       width=\"24px\">\n",
              "    <path d=\"M0 0h24v24H0V0z\" fill=\"none\"/>\n",
              "    <path d=\"M18.56 5.44l.94 2.06.94-2.06 2.06-.94-2.06-.94-.94-2.06-.94 2.06-2.06.94zm-11 1L8.5 8.5l.94-2.06 2.06-.94-2.06-.94L8.5 2.5l-.94 2.06-2.06.94zm10 10l.94 2.06.94-2.06 2.06-.94-2.06-.94-.94-2.06-.94 2.06-2.06.94z\"/><path d=\"M17.41 7.96l-1.37-1.37c-.4-.4-.92-.59-1.43-.59-.52 0-1.04.2-1.43.59L10.3 9.45l-7.72 7.72c-.78.78-.78 2.05 0 2.83L4 21.41c.39.39.9.59 1.41.59.51 0 1.02-.2 1.41-.59l7.78-7.78 2.81-2.81c.8-.78.8-2.07 0-2.86zM5.41 20L4 18.59l7.72-7.72 1.47 1.35L5.41 20z\"/>\n",
              "  </svg>\n",
              "      </button>\n",
              "      \n",
              "  <style>\n",
              "    .colab-df-container {\n",
              "      display:flex;\n",
              "      flex-wrap:wrap;\n",
              "      gap: 12px;\n",
              "    }\n",
              "\n",
              "    .colab-df-convert {\n",
              "      background-color: #E8F0FE;\n",
              "      border: none;\n",
              "      border-radius: 50%;\n",
              "      cursor: pointer;\n",
              "      display: none;\n",
              "      fill: #1967D2;\n",
              "      height: 32px;\n",
              "      padding: 0 0 0 0;\n",
              "      width: 32px;\n",
              "    }\n",
              "\n",
              "    .colab-df-convert:hover {\n",
              "      background-color: #E2EBFA;\n",
              "      box-shadow: 0px 1px 2px rgba(60, 64, 67, 0.3), 0px 1px 3px 1px rgba(60, 64, 67, 0.15);\n",
              "      fill: #174EA6;\n",
              "    }\n",
              "\n",
              "    [theme=dark] .colab-df-convert {\n",
              "      background-color: #3B4455;\n",
              "      fill: #D2E3FC;\n",
              "    }\n",
              "\n",
              "    [theme=dark] .colab-df-convert:hover {\n",
              "      background-color: #434B5C;\n",
              "      box-shadow: 0px 1px 3px 1px rgba(0, 0, 0, 0.15);\n",
              "      filter: drop-shadow(0px 1px 2px rgba(0, 0, 0, 0.3));\n",
              "      fill: #FFFFFF;\n",
              "    }\n",
              "  </style>\n",
              "\n",
              "      <script>\n",
              "        const buttonEl =\n",
              "          document.querySelector('#df-eb5141fa-5e71-46db-ac3e-6cf8907699b8 button.colab-df-convert');\n",
              "        buttonEl.style.display =\n",
              "          google.colab.kernel.accessAllowed ? 'block' : 'none';\n",
              "\n",
              "        async function convertToInteractive(key) {\n",
              "          const element = document.querySelector('#df-eb5141fa-5e71-46db-ac3e-6cf8907699b8');\n",
              "          const dataTable =\n",
              "            await google.colab.kernel.invokeFunction('convertToInteractive',\n",
              "                                                     [key], {});\n",
              "          if (!dataTable) return;\n",
              "\n",
              "          const docLinkHtml = 'Like what you see? Visit the ' +\n",
              "            '<a target=\"_blank\" href=https://colab.research.google.com/notebooks/data_table.ipynb>data table notebook</a>'\n",
              "            + ' to learn more about interactive tables.';\n",
              "          element.innerHTML = '';\n",
              "          dataTable['output_type'] = 'display_data';\n",
              "          await google.colab.output.renderOutput(dataTable, element);\n",
              "          const docLink = document.createElement('div');\n",
              "          docLink.innerHTML = docLinkHtml;\n",
              "          element.appendChild(docLink);\n",
              "        }\n",
              "      </script>\n",
              "    </div>\n",
              "  </div>\n",
              "  "
            ]
          },
          "metadata": {},
          "execution_count": 6
        }
      ]
    },
    {
      "cell_type": "code",
      "source": [
        "df_test= pd.read_csv(\"./drive/MyDrive/datasets/sarc_pol_test.csv\")"
      ],
      "metadata": {
        "id": "z0q93dMzQkVq"
      },
      "execution_count": 5,
      "outputs": []
    },
    {
      "cell_type": "code",
      "source": [
        "df_val = pd.read_csv(\"./drive/MyDrive/datasets/sarc_pol_dev.csv\")"
      ],
      "metadata": {
        "id": "PFPKhxX5Qm9_"
      },
      "execution_count": 7,
      "outputs": []
    },
    {
      "cell_type": "code",
      "source": [
        "!pip install demoji"
      ],
      "metadata": {
        "id": "ucXdgoZ_Qrm2",
        "outputId": "e8c2e0c8-a561-4451-a5aa-d8b5790df6c5",
        "colab": {
          "base_uri": "https://localhost:8080/"
        }
      },
      "execution_count": null,
      "outputs": [
        {
          "output_type": "stream",
          "name": "stdout",
          "text": [
            "Looking in indexes: https://pypi.org/simple, https://us-python.pkg.dev/colab-wheels/public/simple/\n",
            "Collecting demoji\n",
            "  Downloading demoji-1.1.0-py3-none-any.whl (42 kB)\n",
            "\u001b[K     |████████████████████████████████| 42 kB 934 kB/s \n",
            "\u001b[?25hInstalling collected packages: demoji\n",
            "Successfully installed demoji-1.1.0\n"
          ]
        }
      ]
    },
    {
      "cell_type": "code",
      "source": [
        "import demoji\n",
        "def demoji_text(text):\n",
        "  d= demoji.findall(text)\n",
        "  return d"
      ],
      "metadata": {
        "id": "Doxu2bHaQpAu"
      },
      "execution_count": null,
      "outputs": []
    },
    {
      "cell_type": "code",
      "source": [
        "df_train['emoji_list'] = df_train['Tweet'].apply(demoji_text)"
      ],
      "metadata": {
        "id": "xmJD-_bbQvtw"
      },
      "execution_count": null,
      "outputs": []
    },
    {
      "cell_type": "code",
      "source": [
        "f= list(filter(None, df_train['emoji_list']))"
      ],
      "metadata": {
        "id": "JyyV5yIzQx22"
      },
      "execution_count": null,
      "outputs": []
    },
    {
      "cell_type": "code",
      "source": [
        "print(f)"
      ],
      "metadata": {
        "id": "XbnWCoxjQ0hY",
        "outputId": "4c65e356-c4a4-494c-be51-fad3e13f63f5",
        "colab": {
          "base_uri": "https://localhost:8080/"
        }
      },
      "execution_count": null,
      "outputs": [
        {
          "output_type": "stream",
          "name": "stdout",
          "text": [
            "[{'🌲': 'evergreen tree'}, {'😂': 'face with tears of joy'}, {'😂': 'face with tears of joy'}, {'😍': 'smiling face with heart-eyes'}, {'😩': 'weary face'}, {'😍': 'smiling face with heart-eyes', '😘': 'face blowing a kiss', '😁': 'beaming face with smiling eyes', '🍗': 'poultry leg', '✊': 'raised fist', '🌽': 'ear of corn', '🍴': 'fork and knife'}, {'💫': 'dizzy', '✨': 'sparkles'}, {'😭': 'loudly crying face'}, {'😭': 'loudly crying face'}, {'😴': 'sleeping face'}, {'☺': 'smiling face'}, {'🌪': 'tornado'}, {'☺️': 'smiling face'}, {'☺': 'smiling face'}, {'😂': 'face with tears of joy'}, {'😈': 'smiling face with horns', '😩': 'weary face', '😜': 'winking face with tongue'}, {'😂': 'face with tears of joy'}, {'❤️': 'red heart', '👶': 'baby', '😩': 'weary face'}, {'😍': 'smiling face with heart-eyes'}, {'😊': 'smiling face with smiling eyes'}, {'🎤': 'microphone'}, {'⚓': 'anchor', '❤️': 'red heart'}, {'❤': 'red heart'}, {'😂': 'face with tears of joy'}, {'🏈': 'american football'}, {'😘': 'face blowing a kiss'}, {'😭': 'loudly crying face'}, {'😷': 'face with medical mask'}, {'😍': 'smiling face with heart-eyes'}, {'😊': 'smiling face with smiling eyes'}, {'😩': 'weary face'}, {'😈': 'smiling face with horns', '☺️': 'smiling face'}, {'👪': 'family'}, {'😀': 'grinning face', '😍': 'smiling face with heart-eyes'}, {'😅': 'grinning face with sweat'}, {'😍': 'smiling face with heart-eyes'}, {'😭': 'loudly crying face', '😂': 'face with tears of joy'}, {'😭': 'loudly crying face'}, {'😏': 'smirking face', '😉': 'winking face'}, {'😁': 'beaming face with smiling eyes', '😍': 'smiling face with heart-eyes'}, {'😂': 'face with tears of joy'}, {'😒': 'unamused face'}, {'🌞': 'sun with face'}, {'😛': 'face with tongue', '😘': 'face blowing a kiss'}, {'❤️': 'red heart'}, {'😭': 'loudly crying face', '😍': 'smiling face with heart-eyes', '😂': 'face with tears of joy', '❤': 'red heart'}, {'😘': 'face blowing a kiss'}, {'😌': 'relieved face'}, {'😁': 'beaming face with smiling eyes'}, {'😭': 'loudly crying face'}, {'😘': 'face blowing a kiss', '😁': 'beaming face with smiling eyes', '😍': 'smiling face with heart-eyes', '❤': 'red heart'}, {'♥️': 'heart suit'}, {'😊': 'smiling face with smiling eyes'}, {'🌟': 'glowing star', '🌌': 'milky way'}, {'😃': 'grinning face with big eyes', '😄': 'grinning face with smiling eyes', '😀': 'grinning face'}, {'😭': 'loudly crying face'}, {'📖': 'open book'}, {'😘': 'face blowing a kiss', '🍇': 'grapes', '🍓': 'strawberry', '💌': 'love letter'}, {'😂': 'face with tears of joy'}, {'😲': 'astonished face'}, {'😂': 'face with tears of joy'}, {'😂': 'face with tears of joy'}, {'😑': 'expressionless face'}, {'😒': 'unamused face'}, {'❤️': 'red heart'}, {'😊': 'smiling face with smiling eyes', '☺️': 'smiling face'}, {'😡': 'pouting face'}, {'😢': 'crying face'}, {'😂': 'face with tears of joy'}, {'😉': 'winking face'}, {'❤️': 'red heart'}, {'😷': 'face with medical mask'}, {'😛': 'face with tongue'}, {'😴': 'sleeping face'}, {'😂': 'face with tears of joy'}, {'😁': 'beaming face with smiling eyes'}, {'😩': 'weary face'}, {'😭': 'loudly crying face'}, {'☀': 'sun', '♥': 'heart suit'}, {'💙': 'blue heart', '🍭': 'lollipop'}, {'❄️': 'snowflake'}, {'😝': 'squinting face with tongue'}, {'😝': 'squinting face with tongue', '😘': 'face blowing a kiss'}, {'😍': 'smiling face with heart-eyes'}, {'😂': 'face with tears of joy'}, {'😭': 'loudly crying face'}, {'😐': 'neutral face'}, {'😒': 'unamused face'}, {'😂': 'face with tears of joy'}, {'😂': 'face with tears of joy'}, {'😁': 'beaming face with smiling eyes'}, {'😊': 'smiling face with smiling eyes'}, {'😂': 'face with tears of joy'}, {'😊': 'smiling face with smiling eyes'}, {'😭': 'loudly crying face', '😜': 'winking face with tongue'}, {'😉': 'winking face'}, {'✌': 'victory hand', '😑': 'expressionless face'}, {'👪': 'family'}, {'😂': 'face with tears of joy'}, {'😐': 'neutral face'}, {'😂': 'face with tears of joy'}, {'😅': 'grinning face with sweat', '🍀': 'four leaf clover', '😜': 'winking face with tongue', '😉': 'winking face'}, {'😑': 'expressionless face'}, {'🏈': 'american football'}, {'😙': 'kissing face with smiling eyes'}, {'❤': 'red heart'}, {'😍': 'smiling face with heart-eyes'}, {'💖': 'sparkling heart'}, {'😂': 'face with tears of joy', '😉': 'winking face'}, {'💙': 'blue heart'}, {'☺': 'smiling face'}, {'😊': 'smiling face with smiling eyes'}, {'😂': 'face with tears of joy'}, {'🚮': 'litter in bin sign'}, {'📝': 'memo'}, {'😅': 'grinning face with sweat', '😂': 'face with tears of joy'}, {'😴': 'sleeping face'}, {'😝': 'squinting face with tongue'}, {'😒': 'unamused face'}, {'😍': 'smiling face with heart-eyes', '✨': 'sparkles', '😉': 'winking face'}, {'😀': 'grinning face'}, {'❤️': 'red heart'}, {'⚡': 'high voltage', '✨': 'sparkles'}, {'😁': 'beaming face with smiling eyes'}, {'😘': 'face blowing a kiss'}, {'❤️': 'red heart'}, {'😘': 'face blowing a kiss'}, {'🍟': 'french fries', '😉': 'winking face'}, {'😂': 'face with tears of joy'}, {'💙': 'blue heart', '🐏': 'ram'}, {'😂': 'face with tears of joy'}, {'😘': 'face blowing a kiss'}, {'😍': 'smiling face with heart-eyes'}, {'☀️': 'sun', '👲': 'person with skullcap'}, {'😂': 'face with tears of joy'}, {'❄️': 'snowflake'}, {'😓': 'downcast face with sweat'}, {'😋': 'face savoring food'}, {'😍': 'smiling face with heart-eyes'}, {'🚽': 'toilet'}, {'☺️': 'smiling face'}, {'😂': 'face with tears of joy'}, {'🍝': 'spaghetti'}, {'😒': 'unamused face'}, {'😡': 'pouting face'}, {'😂': 'face with tears of joy'}, {'😂': 'face with tears of joy'}, {'❤️': 'red heart', '🚗': 'automobile'}, {'😂': 'face with tears of joy'}, {'😂': 'face with tears of joy'}, {'😘': 'face blowing a kiss'}, {'❤️': 'red heart'}, {'💛': 'yellow heart'}, {'❤️': 'red heart'}, {'😘': 'face blowing a kiss'}, {'©': 'copyright'}, {'😙': 'kissing face with smiling eyes', '💞': 'revolving hearts'}, {'❤️': 'red heart'}, {'✌️': 'victory hand'}, {'😁': 'beaming face with smiling eyes'}, {'😍': 'smiling face with heart-eyes'}, {'✨': 'sparkles'}, {'😁': 'beaming face with smiling eyes'}, {'❤️': 'red heart'}, {'😛': 'face with tongue'}, {'👸': 'princess', '😣': 'persevering face'}, {'👑': 'crown'}, {'😂': 'face with tears of joy', '❤': 'red heart'}, {'😊': 'smiling face with smiling eyes'}, {'👑': 'crown'}, {'🗣': 'speaking head'}, {'😞': 'disappointed face'}, {'💙': 'blue heart'}, {'❣': 'heart exclamation'}, {'😃': 'grinning face with big eyes'}, {'😩': 'weary face'}, {'😍': 'smiling face with heart-eyes', '😘': 'face blowing a kiss', '❤️': 'red heart', '😂': 'face with tears of joy', '😊': 'smiling face with smiling eyes'}, {'😎': 'smiling face with sunglasses'}, {'😒': 'unamused face'}, {'😳': 'flushed face'}, {'😳': 'flushed face'}, {'😝': 'squinting face with tongue', '😅': 'grinning face with sweat', '😂': 'face with tears of joy'}, {'😌': 'relieved face'}, {'😈': 'smiling face with horns', '✊': 'raised fist'}, {'😿': 'crying cat'}, {'😝': 'squinting face with tongue'}, {'🙌': 'raising hands', '😍': 'smiling face with heart-eyes'}, {'😌': 'relieved face', '👫': 'woman and man holding hands', '😘': 'face blowing a kiss', '😁': 'beaming face with smiling eyes', '🔐': 'locked with key', '✊': 'raised fist'}, {'😂': 'face with tears of joy'}, {'😂': 'face with tears of joy'}, {'👑': 'crown'}, {'😁': 'beaming face with smiling eyes'}, {'❤': 'red heart'}, {'❤️': 'red heart'}, {'😁': 'beaming face with smiling eyes', '😂': 'face with tears of joy'}, {'☺️': 'smiling face'}, {'😩': 'weary face'}, {'💙': 'blue heart'}, {'😥': 'sad but relieved face', '😩': 'weary face'}, {'😒': 'unamused face'}, {'😂': 'face with tears of joy'}, {'🏿': 'dark skin tone'}, {'😍': 'smiling face with heart-eyes'}, {'☺️': 'smiling face'}, {'😂': 'face with tears of joy'}, {'🌸': 'cherry blossom'}, {'😋': 'face savoring food'}, {'😂': 'face with tears of joy'}, {'😎': 'smiling face with sunglasses'}, {'🐑': 'ewe'}, {'😘': 'face blowing a kiss'}, {'😩': 'weary face', '😂': 'face with tears of joy'}, {'😍': 'smiling face with heart-eyes'}, {'💙': 'blue heart'}, {'😅': 'grinning face with sweat', '😊': 'smiling face with smiling eyes'}, {'♥': 'heart suit'}, {'😭': 'loudly crying face', '😍': 'smiling face with heart-eyes', '😂': 'face with tears of joy'}, {'😌': 'relieved face'}, {'😘': 'face blowing a kiss'}, {'❤️': 'red heart'}, {'😏': 'smirking face'}, {'😒': 'unamused face'}, {'😂': 'face with tears of joy'}, {'😂': 'face with tears of joy'}, {'😻': 'smiling cat with heart-eyes', '❤️': 'red heart'}, {'❤️': 'red heart', '🏐': 'volleyball'}, {'😴': 'sleeping face'}, {'😂': 'face with tears of joy'}, {'😘': 'face blowing a kiss', '🎈': 'balloon'}, {'😍': 'smiling face with heart-eyes'}, {'☺': 'smiling face'}, {'👦': 'boy', '⚠️': 'warning'}, {'😂': 'face with tears of joy'}, {'😩': 'weary face'}, {'😂': 'face with tears of joy'}, {'😂': 'face with tears of joy'}, {'👋': 'waving hand', '😑': 'expressionless face'}, {'😂': 'face with tears of joy'}, {'😴': 'sleeping face'}, {'😔': 'pensive face'}, {'😌': 'relieved face'}, {'😡': 'pouting face'}, {'😂': 'face with tears of joy'}, {'😂': 'face with tears of joy'}, {'❤️': 'red heart', '🏿': 'dark skin tone'}, {'👑': 'crown'}, {'😊': 'smiling face with smiling eyes'}, {'❤️': 'red heart'}, {'✈️': 'airplane', '😁': 'beaming face with smiling eyes'}, {'😭': 'loudly crying face', '😂': 'face with tears of joy'}, {'😊': 'smiling face with smiling eyes'}, {'😂': 'face with tears of joy'}, {'😀': 'grinning face'}, {'😊': 'smiling face with smiling eyes'}, {'😞': 'disappointed face'}, {'☺️': 'smiling face'}, {'♥': 'heart suit'}, {'😭': 'loudly crying face'}, {'☺': 'smiling face'}, {'😆': 'grinning squinting face', '😅': 'grinning face with sweat'}, {'😘': 'face blowing a kiss'}, {'😝': 'squinting face with tongue'}, {'😖': 'confounded face'}, {'😐': 'neutral face'}, {'😁': 'beaming face with smiling eyes', '😂': 'face with tears of joy'}, {'😊': 'smiling face with smiling eyes'}, {'😢': 'crying face'}, {'😂': 'face with tears of joy'}, {'🎈': 'balloon'}, {'🎤': 'microphone', '🎶': 'musical notes', '😘': 'face blowing a kiss', '😄': 'grinning face with smiling eyes', '👧': 'girl', '💕': 'two hearts', '👑': 'crown', '😊': 'smiling face with smiling eyes', '☀️': 'sun'}, {'💜': 'purple heart'}, {'💙': 'blue heart'}, {'😙': 'kissing face with smiling eyes', '😘': 'face blowing a kiss', '😍': 'smiling face with heart-eyes', '😚': 'kissing face with closed eyes'}, {'❤': 'red heart'}, {'❤': 'red heart'}, {'😹': 'cat with tears of joy'}, {'👸': 'princess'}, {'😊': 'smiling face with smiling eyes'}, {'😂': 'face with tears of joy'}, {'😭': 'loudly crying face'}, {'😩': 'weary face', '😂': 'face with tears of joy'}, {'😭': 'loudly crying face'}, {'💙': 'blue heart', '😞': 'disappointed face', '😩': 'weary face'}, {'📝': 'memo'}, {'😊': 'smiling face with smiling eyes'}, {'😒': 'unamused face'}, {'😂': 'face with tears of joy'}, {'✊': 'raised fist'}, {'😌': 'relieved face'}, {'😂': 'face with tears of joy'}, {'😒': 'unamused face'}, {'😘': 'face blowing a kiss'}, {'😂': 'face with tears of joy'}, {'😐': 'neutral face'}, {'😇': 'smiling face with halo'}, {'❤': 'red heart'}, {'😂': 'face with tears of joy'}, {'🏏': 'cricket game'}, {'🇬🇧': 'flag: United Kingdom'}, {'😻': 'smiling cat with heart-eyes'}, {'😂': 'face with tears of joy'}, {'😭': 'loudly crying face', '😍': 'smiling face with heart-eyes'}, {'💌': 'love letter', '☺': 'smiling face', '😉': 'winking face', '😪': 'sleepy face', '🌼': 'blossom', '🌃': 'night with stars'}, {'♥': 'heart suit'}, {'👌': 'OK hand'}, {'❤': 'red heart'}, {'😇': 'smiling face with halo'}, {'😢': 'crying face', '😍': 'smiling face with heart-eyes', '❤': 'red heart'}, {'😘': 'face blowing a kiss', '😍': 'smiling face with heart-eyes', '❤': 'red heart'}, {'❤️': 'red heart', '😘': 'face blowing a kiss', '😍': 'smiling face with heart-eyes'}, {'❤️': 'red heart'}, {'🎂': 'birthday cake', '🎉': 'party popper', '💕': 'two hearts'}, {'❤️': 'red heart', '🌍': 'globe showing Europe-Africa', '😂': 'face with tears of joy'}, {'🎂': 'birthday cake', '💖': 'sparkling heart', '🎉': 'party popper'}, {'💗': 'growing heart'}, {'😘': 'face blowing a kiss', '😊': 'smiling face with smiling eyes', '❤️': 'red heart'}, {'❤': 'red heart'}, {'💙': 'blue heart'}, {'😋': 'face savoring food', '😊': 'smiling face with smiling eyes', '😚': 'kissing face with closed eyes'}, {'😘': 'face blowing a kiss'}, {'❤️': 'red heart'}, {'😍': 'smiling face with heart-eyes', '😘': 'face blowing a kiss', '😙': 'kissing face with smiling eyes', '😚': 'kissing face with closed eyes', '😗': 'kissing face'}, {'❤️': 'red heart'}, {'😎': 'smiling face with sunglasses', '❤': 'red heart'}, {'😕': 'confused face'}, {'😧': 'anguished face'}, {'👀': 'eyes'}, {'❤️': 'red heart'}, {'❤️': 'red heart', '😌': 'relieved face'}, {'🌎': 'globe showing Americas'}, {'😅': 'grinning face with sweat'}, {'💫': 'dizzy'}, {'❤️': 'red heart', '😜': 'winking face with tongue'}, {'😭': 'loudly crying face', '😩': 'weary face'}, {'😂': 'face with tears of joy'}, {'😭': 'loudly crying face', '🌬': 'wind face', '❄️': 'snowflake'}, {'😩': 'weary face'}, {'😭': 'loudly crying face'}, {'❤️': 'red heart'}, {'😍': 'smiling face with heart-eyes'}, {'😍': 'smiling face with heart-eyes'}, {'😍': 'smiling face with heart-eyes'}, {'🌞': 'sun with face', '😑': 'expressionless face'}, {'😘': 'face blowing a kiss', '😊': 'smiling face with smiling eyes'}, {'😂': 'face with tears of joy'}, {'🎂': 'birthday cake'}, {'😂': 'face with tears of joy'}, {'😍': 'smiling face with heart-eyes', '😂': 'face with tears of joy'}, {'😂': 'face with tears of joy'}, {'❤️': 'red heart'}, {'😩': 'weary face'}, {'❄': 'snowflake'}, {'😊': 'smiling face with smiling eyes'}, {'⚽': 'soccer ball', '❤️': 'red heart'}, {'😅': 'grinning face with sweat'}, {'😜': 'winking face with tongue'}, {'😻': 'smiling cat with heart-eyes'}, {'☺️': 'smiling face'}, {'😫': 'tired face'}, {'😫': 'tired face', '🙇': 'person bowing'}, {'☺️': 'smiling face'}, {'😍': 'smiling face with heart-eyes'}, {'😍': 'smiling face with heart-eyes'}, {'❤️': 'red heart'}, {'😌': 'relieved face'}, {'😪': 'sleepy face'}, {'⭕': 'hollow red circle'}, {'😛': 'face with tongue'}, {'😁': 'beaming face with smiling eyes'}, {'😂': 'face with tears of joy'}, {'😴': 'sleeping face', '☕': 'hot beverage'}, {'😪': 'sleepy face'}, {'😌': 'relieved face', '😍': 'smiling face with heart-eyes'}, {'😻': 'smiling cat with heart-eyes'}, {'🇸🇸': 'flag: South Sudan'}, {'😝': 'squinting face with tongue'}, {'😉': 'winking face'}, {'😈': 'smiling face with horns'}, {'⚽': 'soccer ball'}, {'😩': 'weary face'}, {'🐻': 'bear', '😻': 'smiling cat with heart-eyes', '💙': 'blue heart'}, {'😭': 'loudly crying face'}, {'😏': 'smirking face'}, {'😂': 'face with tears of joy'}, {'♥': 'heart suit'}, {'😘': 'face blowing a kiss', '❤️': 'red heart'}, {'😆': 'grinning squinting face'}, {'👶': 'baby', '😩': 'weary face', '🍼': 'baby bottle'}, {'❤': 'red heart'}, {'❤️': 'red heart', '😘': 'face blowing a kiss'}, {'😂': 'face with tears of joy'}, {'😍': 'smiling face with heart-eyes'}, {'😠': 'angry face'}, {'😇': 'smiling face with halo'}, {'✌️': 'victory hand'}, {'♥': 'heart suit'}, {'😈': 'smiling face with horns'}, {'😁': 'beaming face with smiling eyes'}, {'😂': 'face with tears of joy'}, {'😉': 'winking face'}, {'😫': 'tired face', '☺️': 'smiling face'}, {'😂': 'face with tears of joy'}, {'😍': 'smiling face with heart-eyes'}, {'❤️': 'red heart'}, {'😓': 'downcast face with sweat'}, {'😋': 'face savoring food', '😊': 'smiling face with smiling eyes'}, {'😁': 'beaming face with smiling eyes'}, {'🍏': 'green apple', '🍫': 'chocolate bar', '🍓': 'strawberry', '🍎': 'red apple'}, {'😢': 'crying face'}, {'😄': 'grinning face with smiling eyes'}, {'😆': 'grinning squinting face', '😁': 'beaming face with smiling eyes', '✌️': 'victory hand'}, {'😀': 'grinning face'}, {'😑': 'expressionless face'}, {'❄️': 'snowflake'}, {'❤️': 'red heart', '😍': 'smiling face with heart-eyes'}, {'💷': 'pound banknote'}, {'😞': 'disappointed face'}, {'😂': 'face with tears of joy'}, {'😂': 'face with tears of joy'}, {'🌃': 'night with stars'}, {'😂': 'face with tears of joy'}, {'😷': 'face with medical mask', '❤️': 'red heart'}, {'😇': 'smiling face with halo'}, {'😭': 'loudly crying face'}, {'😩': 'weary face'}, {'😩': 'weary face'}, {'🏡': 'house with garden', '😊': 'smiling face with smiling eyes'}, {'😈': 'smiling face with horns'}, {'😌': 'relieved face'}, {'😌': 'relieved face'}, {'😂': 'face with tears of joy'}, {'😎': 'smiling face with sunglasses'}, {'😘': 'face blowing a kiss', '😭': 'loudly crying face', '😍': 'smiling face with heart-eyes'}, {'😀': 'grinning face'}, {'😚': 'kissing face with closed eyes'}, {'😶': 'face without mouth'}, {'❤️': 'red heart'}, {'☺️': 'smiling face'}, {'😭': 'loudly crying face'}, {'😍': 'smiling face with heart-eyes'}, {'😍': 'smiling face with heart-eyes'}, {'😐': 'neutral face', '😒': 'unamused face'}, {'😍': 'smiling face with heart-eyes'}, {'😅': 'grinning face with sweat', '☺️': 'smiling face', '😂': 'face with tears of joy'}, {'🚂': 'locomotive', '😊': 'smiling face with smiling eyes'}, {'😎': 'smiling face with sunglasses', '😊': 'smiling face with smiling eyes'}, {'😘': 'face blowing a kiss', '😋': 'face savoring food'}, {'👸': 'princess', '☕': 'hot beverage', '🖼': 'framed picture', '💫': 'dizzy', '😊': 'smiling face with smiling eyes', '⭐': 'star'}, {'😭': 'loudly crying face'}, {'🍰': 'shortcake', '☕': 'hot beverage', '☺️': 'smiling face'}, {'😊': 'smiling face with smiling eyes'}, {'💙': 'blue heart'}, {'😍': 'smiling face with heart-eyes'}, {'🤑': 'money-mouth face'}, {'😁': 'beaming face with smiling eyes'}, {'😪': 'sleepy face', '❤️': 'red heart', '😩': 'weary face'}, {'🤑': 'money-mouth face'}, {'😷': 'face with medical mask'}, {'😁': 'beaming face with smiling eyes'}, {'😕': 'confused face'}, {'😭': 'loudly crying face'}, {'😘': 'face blowing a kiss'}, {'😘': 'face blowing a kiss', '❤️': 'red heart'}, {'😘': 'face blowing a kiss'}, {'❤': 'red heart'}, {'😂': 'face with tears of joy'}, {'😭': 'loudly crying face'}, {'😘': 'face blowing a kiss'}, {'😂': 'face with tears of joy', '😜': 'winking face with tongue'}, {'😡': 'pouting face'}, {'😒': 'unamused face'}, {'😕': 'confused face'}, {'😩': 'weary face'}, {'🦃': 'turkey'}, {'☺️': 'smiling face'}, {'😇': 'smiling face with halo'}, {'👗': 'dress'}, {'😊': 'smiling face with smiling eyes'}, {'😭': 'loudly crying face'}, {'😷': 'face with medical mask'}, {'😂': 'face with tears of joy'}, {'🍸': 'cocktail glass', '🙌': 'raising hands'}, {'❤': 'red heart'}, {'😘': 'face blowing a kiss'}, {'💞': 'revolving hearts'}, {'😍': 'smiling face with heart-eyes'}, {'❤': 'red heart'}, {'❤': 'red heart'}, {'😊': 'smiling face with smiling eyes', '💞': 'revolving hearts', '😚': 'kissing face with closed eyes'}, {'😍': 'smiling face with heart-eyes'}, {'❤': 'red heart'}, {'☺️': 'smiling face'}, {'💜': 'purple heart'}, {'😂': 'face with tears of joy'}, {'😭': 'loudly crying face', '😂': 'face with tears of joy'}, {'😭': 'loudly crying face'}, {'✌️': 'victory hand'}, {'😊': 'smiling face with smiling eyes'}, {'😩': 'weary face', '😂': 'face with tears of joy'}, {'😁': 'beaming face with smiling eyes', '😒': 'unamused face'}, {'🎁': 'wrapped gift'}, {'❤️': 'red heart', '😘': 'face blowing a kiss'}, {'✂️': 'scissors', '😒': 'unamused face'}, {'🐔': 'chicken'}, {'🐟': 'fish', '🍟': 'french fries'}, {'😕': 'confused face'}, {'😆': 'grinning squinting face'}, {'😢': 'crying face', '😂': 'face with tears of joy'}, {'😂': 'face with tears of joy'}, {'😒': 'unamused face'}, {'😆': 'grinning squinting face'}, {'😣': 'persevering face', '😕': 'confused face'}, {'😂': 'face with tears of joy'}, {'😊': 'smiling face with smiling eyes'}, {'😂': 'face with tears of joy'}, {'😊': 'smiling face with smiling eyes'}, {'❤️': 'red heart'}, {'😊': 'smiling face with smiling eyes'}, {'😎': 'smiling face with sunglasses', '😴': 'sleeping face'}, {'😘': 'face blowing a kiss'}, {'😳': 'flushed face'}, {'😭': 'loudly crying face', '😂': 'face with tears of joy'}, {'😔': 'pensive face'}, {'♥': 'heart suit'}, {'😒': 'unamused face', '😩': 'weary face'}, {'😂': 'face with tears of joy'}, {'😎': 'smiling face with sunglasses'}, {'😔': 'pensive face'}, {'😂': 'face with tears of joy'}, {'❗': 'red exclamation mark'}, {'😈': 'smiling face with horns'}, {'😊': 'smiling face with smiling eyes'}, {'❤': 'red heart'}, {'✊': 'raised fist'}, {'😏': 'smirking face', '😉': 'winking face'}, {'😫': 'tired face'}, {'😂': 'face with tears of joy'}, {'✊': 'raised fist'}, {'😊': 'smiling face with smiling eyes'}, {'😂': 'face with tears of joy'}, {'😂': 'face with tears of joy', '😜': 'winking face with tongue'}, {'❤️': 'red heart'}, {'😡': 'pouting face', '😐': 'neutral face'}, {'😒': 'unamused face'}, {'😁': 'beaming face with smiling eyes', '😂': 'face with tears of joy'}, {'😴': 'sleeping face'}, {'😍': 'smiling face with heart-eyes'}, {'😞': 'disappointed face'}, {'😫': 'tired face'}, {'😳': 'flushed face'}, {'😭': 'loudly crying face', '🎇': 'sparkler', '❤': 'red heart'}, {'😅': 'grinning face with sweat'}, {'😂': 'face with tears of joy', '😩': 'weary face'}, {'😷': 'face with medical mask'}, {'😂': 'face with tears of joy'}, {'🐀': 'rat'}, {'🙏🏼': 'folded hands: medium-light skin tone', '👍🏼': 'thumbs up: medium-light skin tone'}, {'✋': 'raised hand', '😂': 'face with tears of joy'}, {'😓': 'downcast face with sweat'}, {'😁': 'beaming face with smiling eyes'}, {'❤️': 'red heart', '😍': 'smiling face with heart-eyes'}, {'👅': 'tongue', '😈': 'smiling face with horns'}, {'😊': 'smiling face with smiling eyes'}, {'🎈': 'balloon'}, {'😈': 'smiling face with horns', '🎈': 'balloon'}, {'😂': 'face with tears of joy'}, {'✔': 'check mark'}, {'😄': 'grinning face with smiling eyes'}, {'😳': 'flushed face'}, {'☕': 'hot beverage', '😊': 'smiling face with smiling eyes'}, {'😂': 'face with tears of joy'}, {'❤️': 'red heart'}, {'😂': 'face with tears of joy'}, {'❤️': 'red heart', '😔': 'pensive face'}, {'😉': 'winking face'}, {'😂': 'face with tears of joy'}, {'😽': 'kissing cat'}, {'😂': 'face with tears of joy'}, {'😂': 'face with tears of joy'}, {'🗽': 'Statue of Liberty'}, {'😀': 'grinning face'}, {'🇬🇧': 'flag: United Kingdom', '🇺🇸': 'flag: United States', '👍': 'thumbs up'}, {'🌯': 'burrito', '😌': 'relieved face'}, {'♥️': 'heart suit'}, {'🐟': 'fish', '🍟': 'french fries'}, {'😋': 'face savoring food', '😂': 'face with tears of joy'}, {'😂': 'face with tears of joy'}, {'❤️': 'red heart', '😁': 'beaming face with smiling eyes'}, {'😴': 'sleeping face', '😂': 'face with tears of joy'}, {'😁': 'beaming face with smiling eyes'}, {'📻': 'radio'}, {'😂': 'face with tears of joy'}, {'😂': 'face with tears of joy'}, {'😞': 'disappointed face'}, {'😎': 'smiling face with sunglasses'}, {'😐': 'neutral face'}, {'😁': 'beaming face with smiling eyes'}, {'😕': 'confused face'}, {'👐': 'open hands'}, {'😒': 'unamused face', '😍': 'smiling face with heart-eyes'}, {'😒': 'unamused face'}, {'😂': 'face with tears of joy'}, {'😭': 'loudly crying face'}, {'😊': 'smiling face with smiling eyes'}, {'❄️': 'snowflake'}, {'📺': 'television'}, {'😋': 'face savoring food'}, {'😊': 'smiling face with smiling eyes'}, {'❤️': 'red heart'}, {'😎': 'smiling face with sunglasses', '😥': 'sad but relieved face', '😊': 'smiling face with smiling eyes'}, {'😁': 'beaming face with smiling eyes'}, {'😂': 'face with tears of joy'}, {'😆': 'grinning squinting face'}, {'😩': 'weary face'}, {'😂': 'face with tears of joy'}, {'😭': 'loudly crying face', '✌️': 'victory hand'}, {'❤️': 'red heart'}, {'😑': 'expressionless face'}, {'😫': 'tired face'}, {'😩': 'weary face'}, {'😊': 'smiling face with smiling eyes'}, {'❤': 'red heart'}, {'😊': 'smiling face with smiling eyes'}, {'😈': 'smiling face with horns'}, {'😌': 'relieved face', '⛈': 'cloud with lightning and rain'}, {'💸': 'money with wings'}, {'😍': 'smiling face with heart-eyes'}, {'🎤': 'microphone'}, {'😜': 'winking face with tongue'}, {'😷': 'face with medical mask'}, {'😪': 'sleepy face', '😡': 'pouting face'}, {'😷': 'face with medical mask', '😥': 'sad but relieved face'}, {'😒': 'unamused face', '❗': 'red exclamation mark'}, {'❤️': 'red heart', '😌': 'relieved face'}, {'😱': 'face screaming in fear', '😭': 'loudly crying face'}, {'♥': 'heart suit'}, {'😐': 'neutral face'}, {'✔️': 'check mark'}, {'😏': 'smirking face'}, {'😘': 'face blowing a kiss', '❤️': 'red heart', '😁': 'beaming face with smiling eyes', '😇': 'smiling face with halo'}, {'😭': 'loudly crying face', '😂': 'face with tears of joy'}, {'🐊': 'crocodile'}, {'😫': 'tired face', '😭': 'loudly crying face', '😂': 'face with tears of joy'}, {'😩': 'weary face'}, {'😎': 'smiling face with sunglasses', '✊': 'raised fist'}, {'😜': 'winking face with tongue'}, {'😩': 'weary face'}, {'😅': 'grinning face with sweat', '😂': 'face with tears of joy'}, {'😘': 'face blowing a kiss', '🍕': 'pizza'}, {'😀': 'grinning face'}, {'❤️': 'red heart'}, {'😀': 'grinning face'}, {'⬆️': 'up arrow'}, {'😂': 'face with tears of joy'}, {'😭': 'loudly crying face'}, {'😢': 'crying face'}, {'✌️': 'victory hand'}, {'😂': 'face with tears of joy'}, {'✌️': 'victory hand'}, {'😘': 'face blowing a kiss', '😉': 'winking face'}, {'😂': 'face with tears of joy'}, {'😭': 'loudly crying face'}, {'😂': 'face with tears of joy'}, {'😂': 'face with tears of joy'}, {'😊': 'smiling face with smiling eyes', '😂': 'face with tears of joy'}, {'😂': 'face with tears of joy'}, {'😘': 'face blowing a kiss', '❤': 'red heart'}, {'😂': 'face with tears of joy'}, {'📹': 'video camera'}, {'😟': 'worried face'}, {'😫': 'tired face'}, {'❤️': 'red heart', '™': 'trade mark'}, {'😂': 'face with tears of joy'}, {'😎': 'smiling face with sunglasses'}, {'❤️': 'red heart'}, {'😃': 'grinning face with big eyes'}, {'😂': 'face with tears of joy'}, {'😅': 'grinning face with sweat'}, {'😘': 'face blowing a kiss'}, {'😍': 'smiling face with heart-eyes'}, {'😂': 'face with tears of joy'}, {'😟': 'worried face', '😴': 'sleeping face'}, {'♥': 'heart suit'}, {'😂': 'face with tears of joy'}, {'😁': 'beaming face with smiling eyes'}, {'😷': 'face with medical mask', '😑': 'expressionless face'}, {'😭': 'loudly crying face', '😩': 'weary face'}, {'😂': 'face with tears of joy'}, {'😂': 'face with tears of joy'}, {'😂': 'face with tears of joy'}, {'❤': 'red heart'}, {'😂': 'face with tears of joy'}, {'❤️': 'red heart', '😊': 'smiling face with smiling eyes'}, {'❤️': 'red heart', '👼': 'baby angel', '🌺': 'hibiscus'}, {'😀': 'grinning face'}, {'😍': 'smiling face with heart-eyes'}, {'😍': 'smiling face with heart-eyes'}, {'😍': 'smiling face with heart-eyes'}, {'😌': 'relieved face'}, {'❤': 'red heart'}, {'🐾': 'paw prints'}, {'😍': 'smiling face with heart-eyes'}, {'😅': 'grinning face with sweat'}, {'😈': 'smiling face with horns', '✔️': 'check mark'}, {'😂': 'face with tears of joy'}, {'😂': 'face with tears of joy'}, {'😴': 'sleeping face', '😁': 'beaming face with smiling eyes'}, {'🍰': 'shortcake'}, {'😘': 'face blowing a kiss', '😉': 'winking face'}, {'😎': 'smiling face with sunglasses'}, {'❤️': 'red heart'}, {'🏈': 'american football', '🏆': 'trophy'}, {'😋': 'face savoring food', '😜': 'winking face with tongue'}, {'😖': 'confounded face', '❤️': 'red heart', '‼️': 'double exclamation mark', '😊': 'smiling face with smiling eyes'}, {'⚽': 'soccer ball'}, {'❤': 'red heart'}, {'✌️': 'victory hand'}, {'😊': 'smiling face with smiling eyes', '❤': 'red heart'}, {'😘': 'face blowing a kiss'}, {'😴': 'sleeping face'}, {'😘': 'face blowing a kiss'}, {'✨': 'sparkles', '☀️': 'sun'}, {'🌝': 'full moon face', '❣': 'heart exclamation'}, {'😝': 'squinting face with tongue', '😘': 'face blowing a kiss', '😈': 'smiling face with horns'}, {'😭': 'loudly crying face', '😍': 'smiling face with heart-eyes'}, {'😭': 'loudly crying face'}, {'😍': 'smiling face with heart-eyes'}, {'😂': 'face with tears of joy'}, {'😜': 'winking face with tongue'}, {'😁': 'beaming face with smiling eyes'}, {'😁': 'beaming face with smiling eyes'}, {'😏': 'smirking face'}, {'😂': 'face with tears of joy'}, {'😩': 'weary face'}, {'😉': 'winking face'}, {'😍': 'smiling face with heart-eyes'}, {'🌝': 'full moon face'}, {'😰': 'anxious face with sweat'}, {'❤': 'red heart'}, {'😂': 'face with tears of joy'}, {'😛': 'face with tongue'}, {'❤️': 'red heart'}, {'😞': 'disappointed face', '😣': 'persevering face', '😔': 'pensive face'}, {'😼': 'cat with wry smile'}, {'😀': 'grinning face'}, {'🍿': 'popcorn'}, {'😴': 'sleeping face'}, {'☕': 'hot beverage', '🐸': 'frog'}, {'😂': 'face with tears of joy'}, {'😮': 'face with open mouth', '😂': 'face with tears of joy'}, {'💙': 'blue heart'}, {'😉': 'winking face'}, {'⛄': 'snowman without snow', '🌬': 'wind face'}, {'❤️': 'red heart'}, {'😔': 'pensive face'}, {'🎥': 'movie camera', '😄': 'grinning face with smiling eyes', '☺️': 'smiling face'}, {'😘': 'face blowing a kiss', '😍': 'smiling face with heart-eyes'}, {'😱': 'face screaming in fear', '😂': 'face with tears of joy'}, {'😂': 'face with tears of joy'}, {'❤️': 'red heart', '😊': 'smiling face with smiling eyes'}, {'😓': 'downcast face with sweat'}, {'😘': 'face blowing a kiss'}, {'😁': 'beaming face with smiling eyes', '☺️': 'smiling face'}, {'😁': 'beaming face with smiling eyes'}, {'🏹': 'bow and arrow', '😂': 'face with tears of joy'}, {'😌': 'relieved face'}, {'😜': 'winking face with tongue'}, {'🌃': 'night with stars', '❄️': 'snowflake'}, {'😩': 'weary face'}, {'😍': 'smiling face with heart-eyes'}, {'😂': 'face with tears of joy'}, {'😁': 'beaming face with smiling eyes'}, {'😂': 'face with tears of joy'}, {'😷': 'face with medical mask'}, {'😃': 'grinning face with big eyes'}, {'😂': 'face with tears of joy'}, {'😂': 'face with tears of joy'}, {'😁': 'beaming face with smiling eyes'}, {'😍': 'smiling face with heart-eyes'}, {'🎂': 'birthday cake', '🎁': 'wrapped gift'}, {'🎂': 'birthday cake', '🎊': 'confetti ball', '🎁': 'wrapped gift', '🎆': 'fireworks', '🎇': 'sparkler', '🎈': 'balloon'}, {'🎊': 'confetti ball', '🎁': 'wrapped gift', '😉': 'winking face', '💙': 'blue heart', '🍾': 'bottle with popping cork'}, {'❤️': 'red heart'}, {'❤️': 'red heart', '😊': 'smiling face with smiling eyes'}, {'🎊': 'confetti ball', '🍒': 'cherries', '👼': 'baby angel', '✨': 'sparkles', '👑': 'crown', '👦': 'boy'}, {'❤️': 'red heart'}, {'❤️': 'red heart'}, {'😘': 'face blowing a kiss'}, {'😊': 'smiling face with smiling eyes'}, {'❤️': 'red heart', '🎈': 'balloon'}, {'🎁': 'wrapped gift', '😍': 'smiling face with heart-eyes'}, {'😍': 'smiling face with heart-eyes'}, {'🎂': 'birthday cake', '😘': 'face blowing a kiss'}, {'♥': 'heart suit'}, {'🎈': 'balloon'}, {'❤️': 'red heart', '😂': 'face with tears of joy'}, {'🎊': 'confetti ball', '🎂': 'birthday cake', '👸': 'princess', '💍': 'ring', '😍': 'smiling face with heart-eyes', '😘': 'face blowing a kiss', '❤️': 'red heart', '😁': 'beaming face with smiling eyes', '🎈': 'balloon'}, {'❤': 'red heart'}, {'❤️': 'red heart'}, {'🎊': 'confetti ball', '🎁': 'wrapped gift', '😘': 'face blowing a kiss', '❤️': 'red heart', '🎈': 'balloon'}, {'😛': 'face with tongue'}, {'😘': 'face blowing a kiss', '🎈': 'balloon'}, {'😘': 'face blowing a kiss'}, {'🎈': 'balloon', '😍': 'smiling face with heart-eyes'}, {'❤️': 'red heart'}, {'💙': 'blue heart'}, {'❤️': 'red heart'}, {'🍸': 'cocktail glass', '🔞': 'no one under eighteen'}, {'❤️': 'red heart', '😂': 'face with tears of joy'}, {'❤️': 'red heart'}, {'☺️': 'smiling face', '😊': 'smiling face with smiling eyes'}, {'😘': 'face blowing a kiss'}, {'😘': 'face blowing a kiss'}, {'❤️': 'red heart', '😘': 'face blowing a kiss'}, {'👩': 'woman', '❤️': 'red heart', '😈': 'smiling face with horns'}, {'🎂': 'birthday cake', '🎁': 'wrapped gift'}, {'😻': 'smiling cat with heart-eyes'}, {'😂': 'face with tears of joy'}, {'❤': 'red heart'}, {'🎉': 'party popper'}, {'😊': 'smiling face with smiling eyes', '🎈': 'balloon'}, {'🎂': 'birthday cake', '🎁': 'wrapped gift'}, {'💙': 'blue heart'}, {'😍': 'smiling face with heart-eyes'}, {'❤️': 'red heart', '😊': 'smiling face with smiling eyes'}, {'🎈': 'balloon'}, {'⚽': 'soccer ball', '😍': 'smiling face with heart-eyes', '❤️': 'red heart', '☺️': 'smiling face', '🎈': 'balloon'}, {'✨': 'sparkles'}, {'❤': 'red heart'}, {'😂': 'face with tears of joy'}, {'😱': 'face screaming in fear', '❤️': 'red heart'}, {'😘': 'face blowing a kiss', '🎈': 'balloon', '✨': 'sparkles', '❤': 'red heart'}, {'😁': 'beaming face with smiling eyes'}, {'😂': 'face with tears of joy'}, {'🍾': 'bottle with popping cork', '😝': 'squinting face with tongue', '🎂': 'birthday cake'}, {'😊': 'smiling face with smiling eyes'}, {'✔️': 'check mark', '🤑': 'money-mouth face'}, {'😘': 'face blowing a kiss', '😍': 'smiling face with heart-eyes'}, {'😊': 'smiling face with smiling eyes'}, {'❤️': 'red heart', '🎈': 'balloon'}, {'🎂': 'birthday cake', '🎁': 'wrapped gift'}, {'😂': 'face with tears of joy'}, {'🌞': 'sun with face'}, {'❤️': 'red heart'}, {'☺️': 'smiling face', '😂': 'face with tears of joy'}, {'😀': 'grinning face', '🎈': 'balloon'}, {'❤️': 'red heart'}, {'😘': 'face blowing a kiss'}, {'😉': 'winking face'}, {'😍': 'smiling face with heart-eyes'}, {'😘': 'face blowing a kiss', '❤': 'red heart'}, {'❤️': 'red heart', '🤑': 'money-mouth face'}, {'😍': 'smiling face with heart-eyes'}, {'😛': 'face with tongue'}, {'😘': 'face blowing a kiss', '☺️': 'smiling face', '😂': 'face with tears of joy'}, {'❤️': 'red heart', '🔞': 'no one under eighteen'}, {'❤': 'red heart'}, {'💙': 'blue heart', '❤️': 'red heart'}, {'❤️': 'red heart'}, {'😘': 'face blowing a kiss'}, {'💝': 'heart with ribbon'}, {'💛': 'yellow heart'}, {'😛': 'face with tongue', '❤️': 'red heart'}, {'❤️': 'red heart'}, {'😋': 'face savoring food'}, {'👸': 'princess', '😘': 'face blowing a kiss', '🍾': 'bottle with popping cork', '😝': 'squinting face with tongue'}, {'💙': 'blue heart'}, {'🔷': 'large blue diamond', '❤️': 'red heart', '✊': 'raised fist', '😊': 'smiling face with smiling eyes'}, {'😃': 'grinning face with big eyes', '😘': 'face blowing a kiss'}, {'💙': 'blue heart'}, {'😍': 'smiling face with heart-eyes'}, {'❤': 'red heart'}, {'😘': 'face blowing a kiss', '😂': 'face with tears of joy'}, {'🐯': 'tiger face', '😍': 'smiling face with heart-eyes', '❤': 'red heart'}, {'🎈': 'balloon'}, {'💙': 'blue heart'}, {'😊': 'smiling face with smiling eyes'}, {'❤️': 'red heart'}, {'😘': 'face blowing a kiss'}, {'😎': 'smiling face with sunglasses', '😊': 'smiling face with smiling eyes', '🎈': 'balloon'}, {'🎊': 'confetti ball', '😘': 'face blowing a kiss', '😍': 'smiling face with heart-eyes'}, {'😘': 'face blowing a kiss'}, {'🌸': 'cherry blossom', '💐': 'bouquet'}, {'😘': 'face blowing a kiss', '☀️': 'sun'}, {'☕': 'hot beverage'}, {'💙': 'blue heart', '😁': 'beaming face with smiling eyes'}, {'🎊': 'confetti ball', '❤️': 'red heart'}, {'❤': 'red heart'}, {'🎊': 'confetti ball', '🎂': 'birthday cake', '😍': 'smiling face with heart-eyes', '☺️': 'smiling face', '🍴': 'fork and knife', '🎈': 'balloon'}, {'😊': 'smiling face with smiling eyes'}, {'❣': 'heart exclamation'}, {'💖': 'sparkling heart'}, {'♥': 'heart suit'}, {'♥': 'heart suit'}, {'😡': 'pouting face'}, {'😑': 'expressionless face'}, {'👨\\u200d👩\\u200d👧\\u200d👧': 'family: man, woman, girl, girl', '🚊': 'tram'}, {'😔': 'pensive face'}, {'😳': 'flushed face', '😣': 'persevering face', '😒': 'unamused face'}, {'😀': 'grinning face'}, {'😔': 'pensive face'}, {'😷': 'face with medical mask'}, {'🎥': 'movie camera', '😖': 'confounded face', '😞': 'disappointed face', '😨': 'fearful face', '😡': 'pouting face', '😩': 'weary face'}, {'🌅': 'sunrise'}, {'😡': 'pouting face', '😒': 'unamused face'}, {'😒': 'unamused face'}, {'😂': 'face with tears of joy'}, {'😅': 'grinning face with sweat'}, {'😁': 'beaming face with smiling eyes'}, {'☕': 'hot beverage'}, {'❤️': 'red heart', '😏': 'smirking face'}, {'❤': 'red heart'}, {'😩': 'weary face'}, {'🌳': 'deciduous tree'}, {'😭': 'loudly crying face', '😍': 'smiling face with heart-eyes'}, {'😊': 'smiling face with smiling eyes'}, {'😕': 'confused face', '😒': 'unamused face'}, {'😭': 'loudly crying face', '😩': 'weary face'}, {'😩': 'weary face'}, {'😪': 'sleepy face'}, {'🚡': 'aerial tramway', '😱': 'face screaming in fear'}, {'😅': 'grinning face with sweat'}, {'😍': 'smiling face with heart-eyes'}, {'♥': 'heart suit'}, {'😂': 'face with tears of joy'}, {'❤️': 'red heart'}, {'😅': 'grinning face with sweat', '😍': 'smiling face with heart-eyes', '😂': 'face with tears of joy'}, {'😢': 'crying face'}, {'❤️': 'red heart'}, {'💖': 'sparkling heart', '😍': 'smiling face with heart-eyes'}, {'😁': 'beaming face with smiling eyes'}, {'😂': 'face with tears of joy'}, {'😂': 'face with tears of joy'}, {'😂': 'face with tears of joy'}, {'☺️': 'smiling face'}, {'😏': 'smirking face'}, {'😳': 'flushed face'}, {'🎤': 'microphone'}, {'😂': 'face with tears of joy'}, {'😔': 'pensive face'}, {'😊': 'smiling face with smiling eyes'}, {'🌈': 'rainbow'}, {'😎': 'smiling face with sunglasses', '😋': 'face savoring food'}, {'😋': 'face savoring food'}, {'😂': 'face with tears of joy'}, {'😎': 'smiling face with sunglasses'}, {'😂': 'face with tears of joy'}, {'😷': 'face with medical mask'}, {'😊': 'smiling face with smiling eyes'}, {'😭': 'loudly crying face'}, {'❤️': 'red heart'}, {'😂': 'face with tears of joy'}, {'😨': 'fearful face', '😻': 'smiling cat with heart-eyes'}, {'😂': 'face with tears of joy'}, {'😂': 'face with tears of joy'}, {'🎊': 'confetti ball', '🎂': 'birthday cake', '😜': 'winking face with tongue'}, {'😀': 'grinning face'}, {'❣': 'heart exclamation', '😊': 'smiling face with smiling eyes', '😉': 'winking face'}, {'😭': 'loudly crying face'}, {'😁': 'beaming face with smiling eyes'}, {'🌞': 'sun with face'}, {'☺️': 'smiling face'}, {'❤️': 'red heart'}, {'❤': 'red heart'}, {'😂': 'face with tears of joy', '😩': 'weary face'}, {'😊': 'smiling face with smiling eyes', '☺': 'smiling face', '👋': 'waving hand'}, {'😖': 'confounded face'}, {'🙂': 'slightly smiling face'}, {'🐸': 'frog'}, {'🏦': 'bank', '😂': 'face with tears of joy'}, {'😄': 'grinning face with smiling eyes', '😂': 'face with tears of joy'}, {'😘': 'face blowing a kiss', '😂': 'face with tears of joy'}, {'😃': 'grinning face with big eyes', '😁': 'beaming face with smiling eyes'}, {'🏒': 'ice hockey', '😈': 'smiling face with horns'}, {'😇': 'smiling face with halo'}, {'😂': 'face with tears of joy', '🌯': 'burrito', '🍿': 'popcorn'}, {'😘': 'face blowing a kiss', '😊': 'smiling face with smiling eyes'}, {'😍': 'smiling face with heart-eyes'}, {'❤️': 'red heart'}, {'😺': 'grinning cat'}, {'😊': 'smiling face with smiling eyes'}, {'❤️': 'red heart', '😏': 'smirking face'}, {'😌': 'relieved face'}, {'😂': 'face with tears of joy'}, {'😌': 'relieved face'}, {'😂': 'face with tears of joy'}, {'❤️': 'red heart'}, {'😈': 'smiling face with horns'}, {'💄': 'lipstick'}, {'😝': 'squinting face with tongue'}, {'😂': 'face with tears of joy'}, {'❤️': 'red heart'}, {'⚽': 'soccer ball'}, {'😱': 'face screaming in fear'}, {'😹': 'cat with tears of joy'}, {'😂': 'face with tears of joy'}, {'😘': 'face blowing a kiss'}, {'😭': 'loudly crying face'}, {'😣': 'persevering face'}, {'☹️': 'frowning face', '😔': 'pensive face'}, {'😘': 'face blowing a kiss', '😩': 'weary face'}, {'😳': 'flushed face'}, {'😒': 'unamused face'}, {'😭': 'loudly crying face', '😂': 'face with tears of joy'}, {'😂': 'face with tears of joy', '😜': 'winking face with tongue'}, {'😢': 'crying face', '🎵': 'musical note'}, {'❤️': 'red heart'}, {'😂': 'face with tears of joy'}, {'😘': 'face blowing a kiss', '❤': 'red heart', '🔒': 'locked', '😈': 'smiling face with horns', '😩': 'weary face'}, {'😘': 'face blowing a kiss', '😝': 'squinting face with tongue'}, {'😍': 'smiling face with heart-eyes'}, {'😀': 'grinning face', '😊': 'smiling face with smiling eyes'}, {'😄': 'grinning face with smiling eyes', '❤️': 'red heart'}, {'😂': 'face with tears of joy'}, {'✌': 'victory hand'}, {'😂': 'face with tears of joy'}, {'😅': 'grinning face with sweat'}, {'♥': 'heart suit'}, {'😂': 'face with tears of joy'}, {'😘': 'face blowing a kiss', '😏': 'smirking face'}, {'😩': 'weary face'}, {'❤️': 'red heart'}, {'😂': 'face with tears of joy'}, {'😂': 'face with tears of joy', '😩': 'weary face'}, {'😂': 'face with tears of joy'}, {'❤️': 'red heart', '😭': 'loudly crying face'}, {'😭': 'loudly crying face', '😂': 'face with tears of joy'}, {'😴': 'sleeping face', '😂': 'face with tears of joy'}, {'😪': 'sleepy face'}, {'😍': 'smiling face with heart-eyes'}, {'😍': 'smiling face with heart-eyes'}, {'😭': 'loudly crying face', '😩': 'weary face'}, {'😞': 'disappointed face'}, {'😢': 'crying face', '😍': 'smiling face with heart-eyes'}, {'😍': 'smiling face with heart-eyes'}, {'☺️': 'smiling face', '😜': 'winking face with tongue'}, {'😍': 'smiling face with heart-eyes'}, {'😏': 'smirking face'}, {'😘': 'face blowing a kiss', '😍': 'smiling face with heart-eyes'}, {'✨': 'sparkles'}, {'😂': 'face with tears of joy'}, {'😂': 'face with tears of joy'}, {'😊': 'smiling face with smiling eyes'}, {'😭': 'loudly crying face'}, {'😂': 'face with tears of joy'}, {'☕': 'hot beverage', '🐸': 'frog'}, {'😂': 'face with tears of joy'}, {'😒': 'unamused face'}, {'😭': 'loudly crying face'}, {'❤️': 'red heart', '👶': 'baby'}, {'😛': 'face with tongue'}, {'🅿️': 'P button'}, {'😒': 'unamused face'}, {'😦': 'frowning face with open mouth'}, {'✨': 'sparkles'}, {'☺': 'smiling face', '😍': 'smiling face with heart-eyes', '❤': 'red heart'}, {'😜': 'winking face with tongue'}, {'😢': 'crying face'}, {'😌': 'relieved face'}, {'😊': 'smiling face with smiling eyes'}, {'❤️': 'red heart'}, {'😈': 'smiling face with horns'}, {'💍': 'ring'}, {'😃': 'grinning face with big eyes'}, {'😩': 'weary face'}, {'😴': 'sleeping face'}, {'😭': 'loudly crying face', '😍': 'smiling face with heart-eyes'}, {'😊': 'smiling face with smiling eyes'}, {'😍': 'smiling face with heart-eyes'}, {'😎': 'smiling face with sunglasses', '😍': 'smiling face with heart-eyes'}, {'❤️': 'red heart', '😭': 'loudly crying face', '😔': 'pensive face'}, {'😐': 'neutral face'}, {'❤️': 'red heart', '❄️': 'snowflake'}, {'😂': 'face with tears of joy'}, {'🚮': 'litter in bin sign'}, {'😂': 'face with tears of joy'}, {'👐': 'open hands'}, {'😉': 'winking face'}, {'👋': 'waving hand'}, {'☹': 'frowning face'}, {'❤️': 'red heart', '☺️': 'smiling face'}, {'😩': 'weary face'}, {'😢': 'crying face', '😍': 'smiling face with heart-eyes'}, {'👸': 'princess', '😅': 'grinning face with sweat', '😂': 'face with tears of joy', '👑': 'crown', '😭': 'loudly crying face'}, {'😂': 'face with tears of joy'}, {'⚽': 'soccer ball'}, {'😂': 'face with tears of joy'}, {'😍': 'smiling face with heart-eyes', '😂': 'face with tears of joy'}, {'😫': 'tired face'}, {'😋': 'face savoring food'}, {'❤️': 'red heart', '😴': 'sleeping face', '👵': 'old woman'}, {'😂': 'face with tears of joy'}, {'☹️': 'frowning face', '😍': 'smiling face with heart-eyes', '😘': 'face blowing a kiss', '😔': 'pensive face', '😂': 'face with tears of joy'}, {'😍': 'smiling face with heart-eyes'}, {'😂': 'face with tears of joy', '😜': 'winking face with tongue'}, {'😂': 'face with tears of joy'}, {'😩': 'weary face'}, {'❤': 'red heart'}, {'😷': 'face with medical mask'}, {'😒': 'unamused face'}, {'🐨': 'koala', '😎': 'smiling face with sunglasses'}, {'😂': 'face with tears of joy'}, {'☺️': 'smiling face', '☝️': 'index pointing up'}, {'😄': 'grinning face with smiling eyes', '😏': 'smirking face'}, {'😽': 'kissing cat'}, {'😩': 'weary face'}, {'😕': 'confused face'}, {'😍': 'smiling face with heart-eyes'}, {'😑': 'expressionless face'}, {'🎄': 'Christmas tree'}, {'😷': 'face with medical mask'}, {'😂': 'face with tears of joy'}, {'😈': 'smiling face with horns'}, {'☺️': 'smiling face'}, {'🚮': 'litter in bin sign'}, {'🐷': 'pig face'}, {'🙄': 'face with rolling eyes'}, {'😌': 'relieved face'}, {'😓': 'downcast face with sweat', '😜': 'winking face with tongue'}, {'✊': 'raised fist', '🅿️': 'P button'}, {'😍': 'smiling face with heart-eyes'}, {'😅': 'grinning face with sweat', '🔋': 'battery'}, {'😓': 'downcast face with sweat'}, {'🙇': 'person bowing'}, {'😠': 'angry face'}, {'😂': 'face with tears of joy'}, {'😆': 'grinning squinting face', '😊': 'smiling face with smiling eyes'}, {'✌️': 'victory hand', '😍': 'smiling face with heart-eyes', '🍥': 'fish cake with swirl'}, {'❤️': 'red heart'}, {'♥': 'heart suit'}, {'😭': 'loudly crying face'}, {'😋': 'face savoring food'}, {'🐼': 'panda'}, {'😂': 'face with tears of joy'}, {'😂': 'face with tears of joy'}, {'😂': 'face with tears of joy'}, {'😒': 'unamused face'}, {'😅': 'grinning face with sweat'}, {'😳': 'flushed face'}, {'😂': 'face with tears of joy'}, {'😭': 'loudly crying face'}, {'💦': 'sweat droplets'}, {'😒': 'unamused face'}, {'☺️': 'smiling face'}, {'😜': 'winking face with tongue'}, {'😁': 'beaming face with smiling eyes'}, {'♥': 'heart suit'}, {'🐱': 'cat face'}, {'👳': 'person wearing turban'}, {'👑': 'crown', '😇': 'smiling face with halo'}, {'😢': 'crying face'}, {'☺️': 'smiling face', '😍': 'smiling face with heart-eyes'}, {'😏': 'smirking face'}, {'😩': 'weary face'}, {'😏': 'smirking face'}, {'😒': 'unamused face'}, {'😂': 'face with tears of joy'}, {'😄': 'grinning face with smiling eyes', '😏': 'smirking face'}, {'😘': 'face blowing a kiss'}, {'😘': 'face blowing a kiss', '😍': 'smiling face with heart-eyes', '❤️': 'red heart'}, {'😒': 'unamused face', '😑': 'expressionless face'}, {'😔': 'pensive face'}, {'😔': 'pensive face'}, {'😭': 'loudly crying face'}, {'😭': 'loudly crying face'}, {'😂': 'face with tears of joy'}, {'🤕': 'face with head-bandage'}, {'😫': 'tired face'}, {'😩': 'weary face'}, {'😰': 'anxious face with sweat'}, {'😫': 'tired face'}, {'😷': 'face with medical mask', '😠': 'angry face'}, {'😖': 'confounded face'}, {'😑': 'expressionless face'}, {'😫': 'tired face', '👿': 'angry face with horns'}, {'😔': 'pensive face'}, {'😑': 'expressionless face'}, {'😞': 'disappointed face'}, {'😒': 'unamused face'}, {'🌵': 'cactus'}, {'😪': 'sleepy face'}, {'😒': 'unamused face'}, {'😩': 'weary face'}, {'😓': 'downcast face with sweat'}, {'😒': 'unamused face'}, {'😭': 'loudly crying face', '😂': 'face with tears of joy'}, {'😡': 'pouting face', '✌️': 'victory hand', '👐': 'open hands'}, {'😕': 'confused face'}, {'😒': 'unamused face'}, {'😘': 'face blowing a kiss'}, {'😒': 'unamused face'}, {'😢': 'crying face'}, {'😒': 'unamused face'}, {'😭': 'loudly crying face'}, {'😩': 'weary face'}, {'😊': 'smiling face with smiling eyes'}, {'😠': 'angry face'}, {'😂': 'face with tears of joy'}, {'😷': 'face with medical mask'}, {'😴': 'sleeping face', '😕': 'confused face'}, {'😂': 'face with tears of joy', '😑': 'expressionless face'}, {'😒': 'unamused face'}, {'😊': 'smiling face with smiling eyes'}, {'😭': 'loudly crying face'}, {'😩': 'weary face'}, {'😊': 'smiling face with smiling eyes'}, {'😂': 'face with tears of joy'}, {'😂': 'face with tears of joy'}, {'😎': 'smiling face with sunglasses'}, {'😒': 'unamused face'}, {'😡': 'pouting face', '😂': 'face with tears of joy'}, {'😂': 'face with tears of joy'}, {'☹': 'frowning face'}, {'😂': 'face with tears of joy'}, {'😩': 'weary face'}, {'😔': 'pensive face'}, {'❤️': 'red heart'}, {'😊': 'smiling face with smiling eyes'}, {'😭': 'loudly crying face'}, {'😫': 'tired face'}, {'😍': 'smiling face with heart-eyes'}, {'😒': 'unamused face'}, {'😭': 'loudly crying face'}, {'😎': 'smiling face with sunglasses'}, {'🔓': 'unlocked'}, {'❤️': 'red heart'}, {'😊': 'smiling face with smiling eyes'}, {'😊': 'smiling face with smiling eyes'}, {'😩': 'weary face'}, {'🌞': 'sun with face'}, {'😉': 'winking face'}, {'😘': 'face blowing a kiss'}, {'😂': 'face with tears of joy'}, {'😭': 'loudly crying face'}, {'😭': 'loudly crying face'}, {'😞': 'disappointed face'}, {'😛': 'face with tongue'}, {'😭': 'loudly crying face'}, {'😑': 'expressionless face'}, {'😭': 'loudly crying face'}, {'😖': 'confounded face'}, {'😩': 'weary face'}, {'😚': 'kissing face with closed eyes'}, {'😭': 'loudly crying face'}, {'😋': 'face savoring food'}, {'😂': 'face with tears of joy'}, {'😩': 'weary face', '😂': 'face with tears of joy'}, {'😷': 'face with medical mask'}, {'😐': 'neutral face'}, {'📖': 'open book'}, {'😂': 'face with tears of joy'}, {'😭': 'loudly crying face', '😂': 'face with tears of joy'}, {'😂': 'face with tears of joy'}, {'😂': 'face with tears of joy'}, {'😐': 'neutral face'}, {'😘': 'face blowing a kiss'}, {'😂': 'face with tears of joy'}, {'😩': 'weary face'}, {'😔': 'pensive face'}, {'😁': 'beaming face with smiling eyes', '😂': 'face with tears of joy'}, {'❤️': 'red heart'}, {'😂': 'face with tears of joy'}, {'👐': 'open hands'}, {'☺': 'smiling face'}, {'😑': 'expressionless face'}, {'😔': 'pensive face'}, {'😩': 'weary face'}, {'😭': 'loudly crying face'}, {'😩': 'weary face'}, {'🌲': 'evergreen tree'}, {'😍': 'smiling face with heart-eyes'}, {'😌': 'relieved face'}, {'😄': 'grinning face with smiling eyes'}, {'😂': 'face with tears of joy'}, {'😍': 'smiling face with heart-eyes'}, {'😂': 'face with tears of joy'}, {'🗿': 'moai'}, {'❤️': 'red heart', '😘': 'face blowing a kiss'}, {'😂': 'face with tears of joy'}, {'⛄': 'snowman without snow', '🌨': 'cloud with snow', '❄️': 'snowflake'}, {'😭': 'loudly crying face'}, {'😭': 'loudly crying face', '😍': 'smiling face with heart-eyes'}, {'❤️': 'red heart', '😩': 'weary face'}, {'😂': 'face with tears of joy'}, {'😌': 'relieved face'}, {'❤': 'red heart'}, {'😅': 'grinning face with sweat', '😈': 'smiling face with horns'}, {'😁': 'beaming face with smiling eyes', '😂': 'face with tears of joy'}, {'😁': 'beaming face with smiling eyes'}, {'⛪': 'church', '😊': 'smiling face with smiling eyes'}, {'😒': 'unamused face'}, {'😍': 'smiling face with heart-eyes'}, {'📱': 'mobile phone', '😍': 'smiling face with heart-eyes'}, {'☕': 'hot beverage'}, {'😪': 'sleepy face'}, {'❤️': 'red heart', '🙈': 'see-no-evil monkey'}, {'❤️': 'red heart', '😂': 'face with tears of joy'}, {'😊': 'smiling face with smiling eyes'}, {'❤️': 'red heart', '😩': 'weary face'}, {'☺️': 'smiling face'}, {'😊': 'smiling face with smiling eyes', '😹': 'cat with tears of joy'}, {'☺️': 'smiling face'}, {'😗': 'kissing face'}, {'😊': 'smiling face with smiling eyes', '😍': 'smiling face with heart-eyes'}, {'😍': 'smiling face with heart-eyes'}, {'😻': 'smiling cat with heart-eyes'}, {'❤️': 'red heart', '☕': 'hot beverage'}, {'😊': 'smiling face with smiling eyes', '😩': 'weary face'}, {'😍': 'smiling face with heart-eyes'}, {'❤': 'red heart'}, {'😂': 'face with tears of joy'}, {'😄': 'grinning face with smiling eyes'}, {'😭': 'loudly crying face'}, {'😂': 'face with tears of joy'}, {'💄': 'lipstick', '👗': 'dress', '😩': 'weary face', '👑': 'crown', '👠': 'high-heeled shoe'}, {'☺️': 'smiling face'}, {'😝': 'squinting face with tongue'}, {'😭': 'loudly crying face'}, {'😍': 'smiling face with heart-eyes'}, {'😂': 'face with tears of joy'}, {'💙': 'blue heart', '😅': 'grinning face with sweat'}, {'💸': 'money with wings', '😩': 'weary face'}, {'😕': 'confused face'}, {'😂': 'face with tears of joy'}, {'😍': 'smiling face with heart-eyes'}, {'😂': 'face with tears of joy'}, {'😘': 'face blowing a kiss', '😍': 'smiling face with heart-eyes', '💑': 'couple with heart'}, {'😍': 'smiling face with heart-eyes'}, {'🙇': 'person bowing'}, {'❤️': 'red heart', '😍': 'smiling face with heart-eyes'}, {'😒': 'unamused face'}, {'😜': 'winking face with tongue'}, {'😍': 'smiling face with heart-eyes'}, {'😂': 'face with tears of joy'}, {'🍂': 'fallen leaf', '🍁': 'maple leaf', '🍗': 'poultry leg'}, {'😒': 'unamused face'}, {'😐': 'neutral face', '😂': 'face with tears of joy'}, {'😂': 'face with tears of joy'}, {'😂': 'face with tears of joy'}, {'😉': 'winking face'}, {'😊': 'smiling face with smiling eyes'}, {'❤️': 'red heart'}, {'😫': 'tired face'}, {'✨': 'sparkles'}, {'😊': 'smiling face with smiling eyes'}, {'❤️': 'red heart', '😂': 'face with tears of joy'}, {'😂': 'face with tears of joy'}, {'😔': 'pensive face'}, {'🏈': 'american football'}, {'😅': 'grinning face with sweat'}, {'🎄': 'Christmas tree'}, {'😂': 'face with tears of joy'}, {'😊': 'smiling face with smiling eyes', '😂': 'face with tears of joy'}, {'😚': 'kissing face with closed eyes'}, {'❤️': 'red heart'}, {'😔': 'pensive face'}, {'😢': 'crying face'}, {'😞': 'disappointed face'}, {'☹': 'frowning face'}, {'😓': 'downcast face with sweat'}, {'😭': 'loudly crying face', '😔': 'pensive face', '😩': 'weary face'}, {'❤️': 'red heart', '😊': 'smiling face with smiling eyes', '😭': 'loudly crying face'}, {'😭': 'loudly crying face'}, {'😔': 'pensive face'}, {'😌': 'relieved face', '😣': 'persevering face'}, {'😭': 'loudly crying face'}, {'😋': 'face savoring food'}, {'😘': 'face blowing a kiss'}, {'😭': 'loudly crying face'}, {'😝': 'squinting face with tongue', '😊': 'smiling face with smiling eyes', '😂': 'face with tears of joy'}, {'😍': 'smiling face with heart-eyes'}, {'😂': 'face with tears of joy', '😏': 'smirking face'}, {'😂': 'face with tears of joy', '😩': 'weary face'}, {'😂': 'face with tears of joy'}, {'😷': 'face with medical mask', '😔': 'pensive face'}, {'😩': 'weary face'}, {'✋': 'raised hand', '🌵': 'cactus'}, {'♥': 'heart suit'}, {'😠': 'angry face'}, {'🌤': 'sun behind small cloud', '❄️': 'snowflake'}, {'😭': 'loudly crying face'}, {'💦': 'sweat droplets', '😩': 'weary face'}, {'😭': 'loudly crying face'}, {'😝': 'squinting face with tongue'}, {'😊': 'smiling face with smiling eyes'}, {'😱': 'face screaming in fear'}, {'❤️': 'red heart'}, {'😍': 'smiling face with heart-eyes'}, {'😭': 'loudly crying face', '😩': 'weary face'}, {'😐': 'neutral face'}, {'😭': 'loudly crying face'}, {'😭': 'loudly crying face', '😩': 'weary face'}, {'❄️': 'snowflake', '😩': 'weary face'}, {'👶': 'baby', '👼': 'baby angel'}, {'😐': 'neutral face'}, {'☺️': 'smiling face'}, {'🦃': 'turkey'}, {'☺️': 'smiling face'}, {'😂': 'face with tears of joy'}, {'😣': 'persevering face'}, {'😂': 'face with tears of joy'}, {'😳': 'flushed face'}, {'♥': 'heart suit'}, {'😫': 'tired face'}, {'😴': 'sleeping face'}, {'😩': 'weary face'}, {'😂': 'face with tears of joy'}, {'😴': 'sleeping face'}, {'😪': 'sleepy face'}, {'😥': 'sad but relieved face'}, {'😓': 'downcast face with sweat'}, {'😳': 'flushed face', '😂': 'face with tears of joy'}, {'😷': 'face with medical mask', '🐯': 'tiger face'}, {'😂': 'face with tears of joy'}, {'😘': 'face blowing a kiss'}, {'😌': 'relieved face'}, {'😒': 'unamused face'}, {'😃': 'grinning face with big eyes'}, {'🌞': 'sun with face'}, {'😊': 'smiling face with smiling eyes'}, {'😭': 'loudly crying face'}, {'😐': 'neutral face'}, {'😢': 'crying face'}, {'❤️': 'red heart', '💎': 'gem stone'}, {'😔': 'pensive face'}, {'😢': 'crying face'}, {'📝': 'memo', '😁': 'beaming face with smiling eyes'}, {'😓': 'downcast face with sweat'}, {'😂': 'face with tears of joy'}, {'😂': 'face with tears of joy'}, {'😂': 'face with tears of joy'}, {'❤️': 'red heart'}, {'😔': 'pensive face'}, {'😂': 'face with tears of joy'}, {'😪': 'sleepy face', '😴': 'sleeping face'}, {'😴': 'sleeping face'}, {'😩': 'weary face'}, {'➰': 'curly loop'}, {'😴': 'sleeping face'}, {'😔': 'pensive face'}, {'😩': 'weary face'}, {'👑': 'crown', '💙': 'blue heart', '😩': 'weary face'}, {'😂': 'face with tears of joy'}, {'♥': 'heart suit'}, {'😒': 'unamused face'}, {'😊': 'smiling face with smiling eyes'}, {'😭': 'loudly crying face'}, {'😘': 'face blowing a kiss'}, {'😊': 'smiling face with smiling eyes'}, {'😒': 'unamused face'}, {'😅': 'grinning face with sweat'}, {'😂': 'face with tears of joy'}, {'😕': 'confused face'}, {'🌺': 'hibiscus'}, {'😩': 'weary face'}, {'😂': 'face with tears of joy'}, {'😂': 'face with tears of joy'}, {'💳': 'credit card', '👨\\u200d👩\\u200d👦\\u200d👦': 'family: man, woman, boy, boy', '😏': 'smirking face'}, {'😅': 'grinning face with sweat', '😍': 'smiling face with heart-eyes'}, {'😩': 'weary face'}, {'😂': 'face with tears of joy'}, {'😍': 'smiling face with heart-eyes', '😩': 'weary face'}, {'🐯': 'tiger face'}, {'😍': 'smiling face with heart-eyes'}, {'😭': 'loudly crying face'}, {'👋': 'waving hand', '😂': 'face with tears of joy'}, {'😇': 'smiling face with halo'}, {'🔐': 'locked with key'}, {'❤️': 'red heart'}, {'✌': 'victory hand', '😂': 'face with tears of joy'}, {'❤️': 'red heart'}, {'😕': 'confused face'}, {'😭': 'loudly crying face', '😂': 'face with tears of joy'}, {'👫': 'woman and man holding hands', '🏰': 'castle', '✨': 'sparkles'}, {'🍂': 'fallen leaf'}, {'😂': 'face with tears of joy'}, {'😂': 'face with tears of joy'}, {'❤️': 'red heart', '😂': 'face with tears of joy'}, {'😮': 'face with open mouth'}, {'😭': 'loudly crying face'}, {'😍': 'smiling face with heart-eyes'}, {'😁': 'beaming face with smiling eyes'}, {'😔': 'pensive face'}, {'❤': 'red heart'}, {'☮': 'peace symbol'}, {'♥': 'heart suit'}, {'😩': 'weary face'}, {'😂': 'face with tears of joy'}, {'😊': 'smiling face with smiling eyes'}, {'🤐': 'zipper-mouth face'}, {'😉': 'winking face'}, {'😭': 'loudly crying face'}, {'😐': 'neutral face', '😭': 'loudly crying face', '😊': 'smiling face with smiling eyes', '😂': 'face with tears of joy'}, {'❤️': 'red heart', '🎄': 'Christmas tree', '🎅': 'Santa Claus'}, {'♥': 'heart suit'}, {'✨': 'sparkles'}, {'♥': 'heart suit'}, {'😩': 'weary face'}, {'😅': 'grinning face with sweat'}, {'🎭': 'performing arts', '🎨': 'artist palette'}, {'😂': 'face with tears of joy', '🖖': 'vulcan salute'}, {'👋': 'waving hand'}, {'😍': 'smiling face with heart-eyes'}, {'😔': 'pensive face'}, {'😂': 'face with tears of joy'}, {'😍': 'smiling face with heart-eyes'}, {'😒': 'unamused face'}, {'😭': 'loudly crying face'}, {'😕': 'confused face'}, {'😩': 'weary face', '😂': 'face with tears of joy'}, {'😑': 'expressionless face'}, {'😒': 'unamused face'}, {'😂': 'face with tears of joy'}, {'😘': 'face blowing a kiss'}, {'😚': 'kissing face with closed eyes'}, {'❤️': 'red heart', '😭': 'loudly crying face'}, {'😙': 'kissing face with smiling eyes', '😹': 'cat with tears of joy'}, {'😓': 'downcast face with sweat'}, {'😫': 'tired face'}, {'🌧': 'cloud with rain', '😩': 'weary face'}, {'😷': 'face with medical mask'}, {'💙': 'blue heart'}, {'😪': 'sleepy face', '😂': 'face with tears of joy'}, {'😶': 'face without mouth'}, {'😌': 'relieved face'}, {'😳': 'flushed face'}, {'😌': 'relieved face'}, {'🎅': 'Santa Claus', '🎄': 'Christmas tree', '😍': 'smiling face with heart-eyes'}, {'🎊': 'confetti ball', '🎁': 'wrapped gift', '🎄': 'Christmas tree', '🎅': 'Santa Claus'}, {'❤️': 'red heart', '😭': 'loudly crying face', '😍': 'smiling face with heart-eyes'}, {'❄️': 'snowflake'}, {'😍': 'smiling face with heart-eyes'}, {'✌': 'victory hand', '😊': 'smiling face with smiling eyes', '😒': 'unamused face'}, {'😂': 'face with tears of joy', '😩': 'weary face'}, {'♥': 'heart suit'}, {'⚽': 'soccer ball', '🍴': 'fork and knife'}, {'😂': 'face with tears of joy'}, {'😒': 'unamused face'}, {'❤': 'red heart'}, {'🙁': 'slightly frowning face'}, {'😞': 'disappointed face', '😔': 'pensive face', '😩': 'weary face'}, {'😕': 'confused face'}, {'😂': 'face with tears of joy'}, {'😍': 'smiling face with heart-eyes'}, {'☺️': 'smiling face'}, {'👋': 'waving hand'}, {'⭐': 'star', '🍥': 'fish cake with swirl'}, {'😫': 'tired face'}, {'❤️': 'red heart'}, {'😛': 'face with tongue'}, {'😭': 'loudly crying face'}, {'❤️': 'red heart', '😂': 'face with tears of joy'}, {'😂': 'face with tears of joy'}, {'😂': 'face with tears of joy'}, {'😂': 'face with tears of joy'}, {'😂': 'face with tears of joy'}, {'😍': 'smiling face with heart-eyes'}, {'🛏': 'bed'}, {'😂': 'face with tears of joy'}, {'☺️': 'smiling face'}, {'😩': 'weary face'}, {'❤️': 'red heart', '😭': 'loudly crying face'}, {'😳': 'flushed face'}, {'😍': 'smiling face with heart-eyes'}, {'☹️': 'frowning face'}, {'😩': 'weary face'}, {'😩': 'weary face', '😂': 'face with tears of joy'}, {'👅': 'tongue', '😍': 'smiling face with heart-eyes'}, {'😩': 'weary face'}, {'😩': 'weary face'}, {'😭': 'loudly crying face', '😂': 'face with tears of joy'}, {'😻': 'smiling cat with heart-eyes', '😽': 'kissing cat'}, {'😂': 'face with tears of joy'}, {'😩': 'weary face'}, {'😂': 'face with tears of joy'}, {'😭': 'loudly crying face', '😑': 'expressionless face'}, {'😡': 'pouting face'}, {'😘': 'face blowing a kiss', '😍': 'smiling face with heart-eyes', '😂': 'face with tears of joy'}, {'😩': 'weary face'}, {'💑': 'couple with heart', '😍': 'smiling face with heart-eyes', '😜': 'winking face with tongue'}, {'😌': 'relieved face'}, {'😂': 'face with tears of joy'}, {'😎': 'smiling face with sunglasses'}, {'😞': 'disappointed face'}, {'😍': 'smiling face with heart-eyes'}, {'😅': 'grinning face with sweat'}, {'😍': 'smiling face with heart-eyes'}, {'😩': 'weary face'}, {'😩': 'weary face'}, {'😢': 'crying face'}, {'🖼': 'framed picture', '😋': 'face savoring food', '😩': 'weary face', '⭐': 'star'}, {'🇮🇹': 'flag: Italy', '💞': 'revolving hearts', '🙈': 'see-no-evil monkey'}, {'😅': 'grinning face with sweat'}, {'😍': 'smiling face with heart-eyes'}, {'😌': 'relieved face', '😏': 'smirking face', '😈': 'smiling face with horns'}, {'🎤': 'microphone'}, {'😒': 'unamused face'}, {'😂': 'face with tears of joy', '😏': 'smirking face'}, {'😊': 'smiling face with smiling eyes'}, {'😂': 'face with tears of joy'}, {'😊': 'smiling face with smiling eyes'}, {'😭': 'loudly crying face', '😍': 'smiling face with heart-eyes'}, {'😂': 'face with tears of joy'}, {'😁': 'beaming face with smiling eyes'}, {'😍': 'smiling face with heart-eyes'}, {'😊': 'smiling face with smiling eyes'}, {'😭': 'loudly crying face'}, {'☕': 'hot beverage', '😉': 'winking face'}, {'😜': 'winking face with tongue'}, {'😭': 'loudly crying face', '😍': 'smiling face with heart-eyes'}, {'😂': 'face with tears of joy'}, {'☺️': 'smiling face'}, {'❤️': 'red heart'}, {'😊': 'smiling face with smiling eyes'}, {'❤': 'red heart'}, {'😎': 'smiling face with sunglasses'}, {'💝': 'heart with ribbon'}, {'♥': 'heart suit'}, {'❤️': 'red heart', '👸': 'princess'}, {'😂': 'face with tears of joy'}, {'😂': 'face with tears of joy'}, {'😔': 'pensive face'}, {'💙': 'blue heart'}, {'😊': 'smiling face with smiling eyes', '💖': 'sparkling heart', '✨': 'sparkles'}, {'😱': 'face screaming in fear', '😍': 'smiling face with heart-eyes', '😂': 'face with tears of joy'}, {'💟': 'heart decoration'}, {'😱': 'face screaming in fear', '😜': 'winking face with tongue'}, {'😍': 'smiling face with heart-eyes'}, {'😀': 'grinning face'}, {'🎄': 'Christmas tree'}, {'😊': 'smiling face with smiling eyes'}, {'😉': 'winking face'}, {'😂': 'face with tears of joy'}, {'😂': 'face with tears of joy'}, {'😂': 'face with tears of joy'}, {'😊': 'smiling face with smiling eyes'}, {'😍': 'smiling face with heart-eyes'}, {'😃': 'grinning face with big eyes', '☔': 'umbrella with rain drops', '😘': 'face blowing a kiss', '❤️': 'red heart', '💧': 'droplet', '💐': 'bouquet'}, {'😈': 'smiling face with horns'}, {'😡': 'pouting face'}, {'😊': 'smiling face with smiling eyes'}, {'😩': 'weary face', '😂': 'face with tears of joy'}, {'😶': 'face without mouth', '😑': 'expressionless face'}, {'😛': 'face with tongue'}, {'😒': 'unamused face'}, {'😒': 'unamused face'}, {'😍': 'smiling face with heart-eyes'}, {'😩': 'weary face'}, {'😧': 'anguished face', '😟': 'worried face'}, {'😊': 'smiling face with smiling eyes'}, {'♥': 'heart suit'}, {'🏿': 'dark skin tone', '😍': 'smiling face with heart-eyes'}, {'💜': 'purple heart'}, {'🙏🏽': 'folded hands: medium skin tone', '😂': 'face with tears of joy'}, {'🙏': 'folded hands', '😇': 'smiling face with halo'}, {'❤': 'red heart'}, {'❤': 'red heart'}, {'☺️': 'smiling face'}, {'😊': 'smiling face with smiling eyes'}, {'😅': 'grinning face with sweat', '😑': 'expressionless face'}, {'🤑': 'money-mouth face'}, {'😭': 'loudly crying face'}, {'😍': 'smiling face with heart-eyes'}, {'😍': 'smiling face with heart-eyes'}, {'☺️': 'smiling face', '😊': 'smiling face with smiling eyes'}, {'😂': 'face with tears of joy'}, {'😍': 'smiling face with heart-eyes'}, {'😛': 'face with tongue', '😂': 'face with tears of joy', '😩': 'weary face'}, {'😒': 'unamused face'}, {'😓': 'downcast face with sweat'}, {'😘': 'face blowing a kiss', '✌': 'victory hand'}, {'😩': 'weary face'}, {'😓': 'downcast face with sweat'}, {'😊': 'smiling face with smiling eyes'}, {'😊': 'smiling face with smiling eyes'}, {'☺️': 'smiling face'}, {'😂': 'face with tears of joy'}, {'😭': 'loudly crying face'}, {'😊': 'smiling face with smiling eyes', '😍': 'smiling face with heart-eyes', '😇': 'smiling face with halo'}, {'😈': 'smiling face with horns', '😇': 'smiling face with halo'}, {'😍': 'smiling face with heart-eyes'}, {'😩': 'weary face'}, {'😘': 'face blowing a kiss'}, {'😰': 'anxious face with sweat'}, {'😔': 'pensive face'}, {'😂': 'face with tears of joy'}, {'😜': 'winking face with tongue'}, {'👫': 'woman and man holding hands', '💑': 'couple with heart'}, {'😍': 'smiling face with heart-eyes'}, {'😍': 'smiling face with heart-eyes'}, {'😴': 'sleeping face'}, {'😩': 'weary face'}, {'😘': 'face blowing a kiss', '😍': 'smiling face with heart-eyes'}, {'😻': 'smiling cat with heart-eyes'}, {'😍': 'smiling face with heart-eyes', '😂': 'face with tears of joy'}, {'❤️': 'red heart'}, {'😝': 'squinting face with tongue', '❤️': 'red heart'}, {'😎': 'smiling face with sunglasses'}, {'🌝': 'full moon face'}, {'❤️': 'red heart', '😉': 'winking face'}, {'😍': 'smiling face with heart-eyes'}, {'😂': 'face with tears of joy'}, {'😝': 'squinting face with tongue', '❤️': 'red heart'}, {'🌊': 'water wave', '🐣': 'hatching chick'}, {'😢': 'crying face'}, {'🎈': 'balloon'}, {'😘': 'face blowing a kiss'}, {'✨': 'sparkles', '💕': 'two hearts'}, {'😝': 'squinting face with tongue', '❤️': 'red heart'}, {'‼️': 'double exclamation mark', '😍': 'smiling face with heart-eyes'}, {'😁': 'beaming face with smiling eyes'}, {'😂': 'face with tears of joy'}, {'👑': 'crown', '😂': 'face with tears of joy'}, {'😘': 'face blowing a kiss'}, {'❤️': 'red heart'}, {'😍': 'smiling face with heart-eyes'}, {'😅': 'grinning face with sweat'}, {'😠': 'angry face'}, {'😝': 'squinting face with tongue', '❤️': 'red heart'}, {'🙄': 'face with rolling eyes'}, {'😍': 'smiling face with heart-eyes'}, {'☺️': 'smiling face'}, {'😓': 'downcast face with sweat'}, {'🎊': 'confetti ball', '😁': 'beaming face with smiling eyes', '🎁': 'wrapped gift', '🎈': 'balloon'}, {'😍': 'smiling face with heart-eyes'}, {'😞': 'disappointed face', '✊': 'raised fist'}, {'😂': 'face with tears of joy', '🎆': 'fireworks'}, {'😅': 'grinning face with sweat'}, {'😘': 'face blowing a kiss'}, {'✊': 'raised fist'}, {'😊': 'smiling face with smiling eyes'}, {'😁': 'beaming face with smiling eyes'}, {'❤️': 'red heart'}, {'😁': 'beaming face with smiling eyes'}, {'😇': 'smiling face with halo'}, {'😍': 'smiling face with heart-eyes', '😚': 'kissing face with closed eyes'}, {'😘': 'face blowing a kiss', '😍': 'smiling face with heart-eyes'}, {'😩': 'weary face'}, {'😭': 'loudly crying face'}, {'❤️': 'red heart', '😈': 'smiling face with horns', '🏆': 'trophy'}, {'♥': 'heart suit'}, {'😂': 'face with tears of joy'}, {'😂': 'face with tears of joy'}, {'😭': 'loudly crying face', '😂': 'face with tears of joy'}, {'❤️': 'red heart', '❄️': 'snowflake'}, {'😫': 'tired face', '✌️': 'victory hand'}, {'😊': 'smiling face with smiling eyes'}, {'😜': 'winking face with tongue'}, {'💙': 'blue heart'}, {'😏': 'smirking face'}, {'☺': 'smiling face'}, {'😂': 'face with tears of joy'}, {'😎': 'smiling face with sunglasses', '💸': 'money with wings'}, {'😆': 'grinning squinting face'}, {'😭': 'loudly crying face', '😂': 'face with tears of joy'}, {'💕': 'two hearts'}, {'😇': 'smiling face with halo'}, {'😂': 'face with tears of joy'}, {'😞': 'disappointed face', '😊': 'smiling face with smiling eyes'}, {'😩': 'weary face'}, {'😭': 'loudly crying face'}, {'🍂': 'fallen leaf'}, {'😂': 'face with tears of joy'}, {'😥': 'sad but relieved face'}, {'😟': 'worried face', '😊': 'smiling face with smiling eyes'}, {'😊': 'smiling face with smiling eyes', '😍': 'smiling face with heart-eyes'}, {'😂': 'face with tears of joy'}, {'😭': 'loudly crying face'}, {'😭': 'loudly crying face', '😩': 'weary face'}, {'😂': 'face with tears of joy'}, {'😎': 'smiling face with sunglasses'}, {'😂': 'face with tears of joy', '😩': 'weary face'}, {'❤': 'red heart'}, {'😢': 'crying face'}, {'😂': 'face with tears of joy'}, {'❤️': 'red heart'}, {'❤': 'red heart'}, {'👑': 'crown'}, {'🔴': 'red circle'}, {'😛': 'face with tongue', '🐔': 'chicken', '✨': 'sparkles', '😘': 'face blowing a kiss', '🐮': 'cow face', '💦': 'sweat droplets', '🍋': 'lemon', '🍕': 'pizza', '🎑': 'moon viewing ceremony', '🍎': 'red apple', '👑': 'crown', '🐛': 'bug', '😈': 'smiling face with horns', '🍚': 'cooked rice'}, {'🎁': 'wrapped gift', '😍': 'smiling face with heart-eyes', '😘': 'face blowing a kiss', '❤️': 'red heart', '🎈': 'balloon'}, {'😊': 'smiling face with smiling eyes', '😂': 'face with tears of joy'}, {'😂': 'face with tears of joy'}, {'😂': 'face with tears of joy'}, {'😂': 'face with tears of joy'}, {'😒': 'unamused face'}, {'😳': 'flushed face'}, {'😂': 'face with tears of joy'}, {'😭': 'loudly crying face', '😂': 'face with tears of joy'}, {'😅': 'grinning face with sweat', '😂': 'face with tears of joy'}, {'😂': 'face with tears of joy'}, {'😛': 'face with tongue', '😇': 'smiling face with halo'}, {'😍': 'smiling face with heart-eyes'}, {'😊': 'smiling face with smiling eyes'}, {'😐': 'neutral face', '😅': 'grinning face with sweat'}, {'😢': 'crying face'}, {'😂': 'face with tears of joy'}, {'😂': 'face with tears of joy'}, {'😂': 'face with tears of joy'}, {'😂': 'face with tears of joy'}, {'😂': 'face with tears of joy'}, {'❤️': 'red heart'}, {'😍': 'smiling face with heart-eyes'}, {'😎': 'smiling face with sunglasses'}, {'😥': 'sad but relieved face'}, {'👠': 'high-heeled shoe'}, {'😍': 'smiling face with heart-eyes'}, {'😭': 'loudly crying face'}, {'🍸': 'cocktail glass', '🍹': 'tropical drink'}, {'😀': 'grinning face'}, {'😊': 'smiling face with smiling eyes', '👗': 'dress', '👠': 'high-heeled shoe'}, {'♥': 'heart suit'}, {'😂': 'face with tears of joy'}, {'⛷': 'skier'}, {'😩': 'weary face'}, {'💫': 'dizzy'}, {'😂': 'face with tears of joy'}, {'😭': 'loudly crying face'}, {'😞': 'disappointed face'}, {'😑': 'expressionless face'}, {'😐': 'neutral face'}, {'😂': 'face with tears of joy'}, {'😶': 'face without mouth', '🏡': 'house with garden'}, {'❤️': 'red heart'}, {'⭕': 'hollow red circle', '❌': 'cross mark'}, {'🏡': 'house with garden', '☺️': 'smiling face'}, {'😝': 'squinting face with tongue', '😜': 'winking face with tongue'}, {'😍': 'smiling face with heart-eyes', '❤': 'red heart'}, {'😏': 'smirking face'}, {'😋': 'face savoring food'}, {'❤️': 'red heart'}, {'☕': 'hot beverage'}, {'😃': 'grinning face with big eyes', '😑': 'expressionless face'}, {'☺️': 'smiling face'}, {'😂': 'face with tears of joy'}, {'❤': 'red heart'}, {'♥': 'heart suit'}, {'😘': 'face blowing a kiss', '❤️': 'red heart'}, {'😈': 'smiling face with horns'}, {'🚌': 'bus', '😍': 'smiling face with heart-eyes'}, {'😂': 'face with tears of joy'}, {'😴': 'sleeping face'}, {'❤': 'red heart', '😉': 'winking face'}, {'😍': 'smiling face with heart-eyes'}, {'❤️': 'red heart'}, {'😂': 'face with tears of joy'}, {'😍': 'smiling face with heart-eyes'}, {'😊': 'smiling face with smiling eyes'}, {'😂': 'face with tears of joy'}, {'💈': 'barber pole', '☺️': 'smiling face'}, {'☁️': 'cloud'}, {'😻': 'smiling cat with heart-eyes'}, {'😴': 'sleeping face', '☺️': 'smiling face'}, {'💙': 'blue heart'}, {'😃': 'grinning face with big eyes'}, {'😘': 'face blowing a kiss', '😍': 'smiling face with heart-eyes'}, {'😘': 'face blowing a kiss', '😋': 'face savoring food', '😂': 'face with tears of joy', '❤️': 'red heart'}, {'☃': 'snowman', '✝': 'latin cross', '😍': 'smiling face with heart-eyes', '❄️': 'snowflake'}, {'😍': 'smiling face with heart-eyes'}, {'😄': 'grinning face with smiling eyes'}, {'❤️': 'red heart', '😭': 'loudly crying face', '😍': 'smiling face with heart-eyes'}, {'😎': 'smiling face with sunglasses'}, {'😭': 'loudly crying face'}, {'😄': 'grinning face with smiling eyes', '😩': 'weary face'}, {'😁': 'beaming face with smiling eyes', '😂': 'face with tears of joy'}, {'😂': 'face with tears of joy'}, {'😁': 'beaming face with smiling eyes', '😭': 'loudly crying face', '😂': 'face with tears of joy'}, {'😉': 'winking face'}, {'😭': 'loudly crying face', '😂': 'face with tears of joy'}, {'☺️': 'smiling face'}, {'😖': 'confounded face', '😨': 'fearful face', '😭': 'loudly crying face'}, {'😖': 'confounded face'}, {'😂': 'face with tears of joy'}, {'❤️': 'red heart'}, {'😂': 'face with tears of joy'}, {'👎🏼': 'thumbs down: medium-light skin tone'}, {'😍': 'smiling face with heart-eyes'}, {'❤️': 'red heart'}, {'😐': 'neutral face', '😂': 'face with tears of joy', '🤐': 'zipper-mouth face'}, {'😅': 'grinning face with sweat'}, {'😃': 'grinning face with big eyes', '😄': 'grinning face with smiling eyes'}, {'♥': 'heart suit'}, {'♥': 'heart suit'}, {'😄': 'grinning face with smiling eyes', '😍': 'smiling face with heart-eyes', '😂': 'face with tears of joy', '❤': 'red heart'}, {'😌': 'relieved face'}, {'😌': 'relieved face'}, {'😂': 'face with tears of joy'}, {'👸': 'princess', '🎈': 'balloon', '✨': 'sparkles'}, {'😂': 'face with tears of joy'}, {'😏': 'smirking face'}, {'🚐': 'minibus', '🚫': 'prohibited'}, {'😂': 'face with tears of joy'}, {'😂': 'face with tears of joy'}, {'😳': 'flushed face', '😩': 'weary face'}, {'😘': 'face blowing a kiss'}, {'💡': 'light bulb'}, {'😸': 'grinning cat with smiling eyes', '❤️': 'red heart'}, {'🌝': 'full moon face'}, {'😊': 'smiling face with smiling eyes'}, {'😘': 'face blowing a kiss', '❤️': 'red heart'}, {'😭': 'loudly crying face'}, {'😀': 'grinning face'}, {'😳': 'flushed face'}, {'☝️': 'index pointing up'}, {'❤️': 'red heart', '😩': 'weary face'}, {'😪': 'sleepy face'}, {'😭': 'loudly crying face', '😂': 'face with tears of joy'}, {'🍇': 'grapes', '🍓': 'strawberry', '🍑': 'peach', '🍍': 'pineapple'}, {'😎': 'smiling face with sunglasses', '😂': 'face with tears of joy'}, {'❤️': 'red heart', '😌': 'relieved face'}, {'😴': 'sleeping face', '😂': 'face with tears of joy'}, {'😁': 'beaming face with smiling eyes', '😅': 'grinning face with sweat', '😢': 'crying face', '😂': 'face with tears of joy'}, {'❤': 'red heart'}, {'❤️': 'red heart'}, {'❤': 'red heart'}, {'♥': 'heart suit'}, {'❤️': 'red heart'}, {'😭': 'loudly crying face', '❤': 'red heart'}, {'🎂': 'birthday cake', '😘': 'face blowing a kiss', '🎈': 'balloon', '❤': 'red heart'}, {'😘': 'face blowing a kiss'}, {'😘': 'face blowing a kiss', '😍': 'smiling face with heart-eyes'}, {'🎂': 'birthday cake'}, {'🎈': 'balloon'}, {'😀': 'grinning face'}, {'😊': 'smiling face with smiling eyes'}, {'😅': 'grinning face with sweat'}, {'🎂': 'birthday cake'}, {'❤': 'red heart'}, {'😽': 'kissing cat'}, {'😘': 'face blowing a kiss', '😏': 'smirking face'}, {'❤️': 'red heart'}, {'❤️': 'red heart', '😜': 'winking face with tongue'}, {'❤️': 'red heart', '😭': 'loudly crying face', '😂': 'face with tears of joy'}, {'😘': 'face blowing a kiss', '😍': 'smiling face with heart-eyes'}, {'🌏': 'globe showing Asia-Australia', '☀️': 'sun', '🌴': 'palm tree'}, {'❤️': 'red heart', '😁': 'beaming face with smiling eyes', '😍': 'smiling face with heart-eyes'}, {'😂': 'face with tears of joy'}, {'😊': 'smiling face with smiling eyes'}, {'☀️': 'sun'}, {'😭': 'loudly crying face'}, {'😭': 'loudly crying face'}, {'😭': 'loudly crying face'}, {'😕': 'confused face'}, {'😊': 'smiling face with smiling eyes', '☺': 'smiling face'}, {'😓': 'downcast face with sweat'}, {'🦄': 'unicorn'}, {'😭': 'loudly crying face', '😂': 'face with tears of joy'}, {'☺': 'smiling face'}, {'😘': 'face blowing a kiss', '😍': 'smiling face with heart-eyes', '❤': 'red heart'}, {'‼️': 'double exclamation mark', '😍': 'smiling face with heart-eyes'}, {'❤️': 'red heart'}, {'😴': 'sleeping face'}, {'🎊': 'confetti ball', '🎈': 'balloon'}, {'😎': 'smiling face with sunglasses'}, {'😭': 'loudly crying face', '😏': 'smirking face'}, {'😂': 'face with tears of joy'}, {'😊': 'smiling face with smiling eyes', '☀️': 'sun'}, {'❤️': 'red heart'}, {'😘': 'face blowing a kiss', '😊': 'smiling face with smiling eyes'}, {'🙈': 'see-no-evil monkey'}, {'😃': 'grinning face with big eyes', '😄': 'grinning face with smiling eyes', '☺': 'smiling face'}, {'😊': 'smiling face with smiling eyes'}, {'🎄': 'Christmas tree', '😍': 'smiling face with heart-eyes', '⛸': 'ice skate'}, {'😂': 'face with tears of joy'}, {'😢': 'crying face', '😂': 'face with tears of joy'}, {'✊': 'raised fist'}, {'😂': 'face with tears of joy'}, {'😂': 'face with tears of joy'}, {'♥': 'heart suit'}, {'☕': 'hot beverage'}, {'😂': 'face with tears of joy'}, {'😊': 'smiling face with smiling eyes', '🎵': 'musical note', '😜': 'winking face with tongue'}, {'😉': 'winking face'}, {'❤️': 'red heart', '😅': 'grinning face with sweat'}, {'😊': 'smiling face with smiling eyes', '😩': 'weary face'}, {'😩': 'weary face'}, {'😭': 'loudly crying face', '😩': 'weary face', '😂': 'face with tears of joy'}, {'😴': 'sleeping face'}, {'❤️': 'red heart', '😩': 'weary face'}, {'👫': 'woman and man holding hands', '❤️': 'red heart', '😘': 'face blowing a kiss', '✊': 'raised fist'}, {'😭': 'loudly crying face'}, {'😈': 'smiling face with horns'}, {'🙁': 'slightly frowning face', '😩': 'weary face'}, {'😜': 'winking face with tongue'}, {'😩': 'weary face', '😂': 'face with tears of joy', '😉': 'winking face'}, {'😍': 'smiling face with heart-eyes', '😏': 'smirking face'}, {'😍': 'smiling face with heart-eyes', '😩': 'weary face'}, {'😊': 'smiling face with smiling eyes'}, {'😂': 'face with tears of joy', '😑': 'expressionless face'}, {'😫': 'tired face'}, {'😊': 'smiling face with smiling eyes', '❤': 'red heart'}, {'😘': 'face blowing a kiss', '😊': 'smiling face with smiling eyes'}, {'☺️': 'smiling face'}, {'😍': 'smiling face with heart-eyes'}, {'📀': 'dvd'}, {'😏': 'smirking face'}, {'😂': 'face with tears of joy'}, {'❤️': 'red heart', '🌈': 'rainbow'}, {'😊': 'smiling face with smiling eyes'}, {'😊': 'smiling face with smiling eyes', '😍': 'smiling face with heart-eyes', '😭': 'loudly crying face'}, {'❤️': 'red heart'}, {'😄': 'grinning face with smiling eyes'}, {'😭': 'loudly crying face', '😩': 'weary face'}, {'😒': 'unamused face'}, {'😂': 'face with tears of joy'}, {'😭': 'loudly crying face'}, {'😫': 'tired face'}, {'❗': 'red exclamation mark', '👐': 'open hands'}, {'😍': 'smiling face with heart-eyes'}, {'😀': 'grinning face', '😗': 'kissing face'}, {'☺️': 'smiling face'}, {'😂': 'face with tears of joy'}, {'😂': 'face with tears of joy'}, {'😢': 'crying face'}, {'😒': 'unamused face'}, {'😭': 'loudly crying face', '😔': 'pensive face'}, {'😑': 'expressionless face'}, {'😌': 'relieved face', '😂': 'face with tears of joy'}, {'😈': 'smiling face with horns'}, {'😂': 'face with tears of joy'}, {'😭': 'loudly crying face', '😍': 'smiling face with heart-eyes'}, {'😔': 'pensive face'}, {'😘': 'face blowing a kiss', '😁': 'beaming face with smiling eyes'}, {'😎': 'smiling face with sunglasses'}, {'😍': 'smiling face with heart-eyes'}, {'✌': 'victory hand'}, {'😩': 'weary face'}, {'😭': 'loudly crying face'}, {'😂': 'face with tears of joy'}, {'🍸': 'cocktail glass'}, {'🍁': 'maple leaf', '😂': 'face with tears of joy'}, {'😒': 'unamused face'}, {'☹': 'frowning face'}, {'😓': 'downcast face with sweat'}, {'😂': 'face with tears of joy'}, {'🍾': 'bottle with popping cork'}, {'😡': 'pouting face'}, {'😂': 'face with tears of joy'}, {'😎': 'smiling face with sunglasses'}, {'☺️': 'smiling face'}, {'😂': 'face with tears of joy'}, {'😂': 'face with tears of joy'}, {'☺️': 'smiling face'}, {'😡': 'pouting face', '😒': 'unamused face', '😕': 'confused face', '😩': 'weary face'}, {'😭': 'loudly crying face'}, {'☺': 'smiling face'}, {'😂': 'face with tears of joy'}, {'😂': 'face with tears of joy'}, {'😴': 'sleeping face'}, {'😁': 'beaming face with smiling eyes'}, {'😩': 'weary face'}, {'😭': 'loudly crying face'}, {'😘': 'face blowing a kiss'}, {'😂': 'face with tears of joy'}, {'❤': 'red heart'}, {'😘': 'face blowing a kiss', '😂': 'face with tears of joy'}, {'❤️': 'red heart'}, {'😂': 'face with tears of joy'}, {'😞': 'disappointed face'}, {'😂': 'face with tears of joy'}, {'😁': 'beaming face with smiling eyes'}, {'☹': 'frowning face'}, {'🆘': 'SOS button'}, {'😒': 'unamused face'}, {'🔋': 'battery'}, {'😢': 'crying face'}, {'🎭': 'performing arts'}, {'💙': 'blue heart'}, {'😴': 'sleeping face'}, {'😂': 'face with tears of joy'}, {'❤️': 'red heart'}, {'🌟': 'glowing star', '✨': 'sparkles'}, {'😂': 'face with tears of joy', '😔': 'pensive face', '😩': 'weary face'}, {'🏐': 'volleyball'}, {'😭': 'loudly crying face', '😂': 'face with tears of joy'}, {'😩': 'weary face', '😂': 'face with tears of joy'}, {'😂': 'face with tears of joy'}, {'❤️': 'red heart'}, {'😂': 'face with tears of joy'}, {'😸': 'grinning cat with smiling eyes', '😘': 'face blowing a kiss'}, {'😈': 'smiling face with horns', '☺️': 'smiling face'}, {'😂': 'face with tears of joy'}, {'😒': 'unamused face'}, {'😍': 'smiling face with heart-eyes'}, {'😊': 'smiling face with smiling eyes'}, {'😀': 'grinning face'}, {'😂': 'face with tears of joy'}, {'🏃': 'person running', '😁': 'beaming face with smiling eyes'}, {'❤️': 'red heart'}, {'😇': 'smiling face with halo'}, {'😃': 'grinning face with big eyes'}, {'😴': 'sleeping face'}, {'😊': 'smiling face with smiling eyes'}, {'🌌': 'milky way'}, {'👑': 'crown', '💫': 'dizzy'}, {'🦄': 'unicorn'}, {'💓': 'beating heart'}, {'😊': 'smiling face with smiling eyes', '😂': 'face with tears of joy', '❤': 'red heart'}, {'😃': 'grinning face with big eyes', '👸': 'princess', '👼': 'baby angel', '😍': 'smiling face with heart-eyes', '💋': 'kiss mark', '🍀': 'four leaf clover', '💕': 'two hearts', '👑': 'crown', '✌': 'victory hand'}, {'😇': 'smiling face with halo'}, {'❤️': 'red heart', '✨': 'sparkles'}, {'☺️': 'smiling face'}, {'😆': 'grinning squinting face'}, {'😎': 'smiling face with sunglasses', '✌️': 'victory hand'}, {'😘': 'face blowing a kiss'}, {'😘': 'face blowing a kiss'}, {'😅': 'grinning face with sweat', '👋': 'waving hand'}, {'😘': 'face blowing a kiss', '😍': 'smiling face with heart-eyes'}, {'😂': 'face with tears of joy', '😒': 'unamused face', '😩': 'weary face'}, {'😭': 'loudly crying face'}, {'😒': 'unamused face', '👐': 'open hands'}, {'😂': 'face with tears of joy'}, {'😝': 'squinting face with tongue', '😁': 'beaming face with smiling eyes'}, {'❤': 'red heart'}, {'☹️': 'frowning face'}, {'😂': 'face with tears of joy'}, {'😍': 'smiling face with heart-eyes'}, {'🕰': 'mantelpiece clock', '🔕': 'bell with slash', '⏲': 'timer clock', '📵': 'no mobile phones', '🚫': 'prohibited', '⏱': 'stopwatch', '⏳': 'hourglass not done'}, {'❤': 'red heart'}, {'♥': 'heart suit'}, {'😭': 'loudly crying face', '😍': 'smiling face with heart-eyes'}, {'😂': 'face with tears of joy'}, {'😂': 'face with tears of joy'}, {'😒': 'unamused face', '😂': 'face with tears of joy'}, {'😩': 'weary face'}, {'😫': 'tired face'}, {'😂': 'face with tears of joy'}, {'😑': 'expressionless face'}, {'😎': 'smiling face with sunglasses'}, {'⚽': 'soccer ball', '😭': 'loudly crying face'}, {'☺️': 'smiling face'}, {'😴': 'sleeping face'}, {'😷': 'face with medical mask'}, {'👫': 'woman and man holding hands'}, {'😔': 'pensive face'}, {'❤️': 'red heart', '☕': 'hot beverage', '😍': 'smiling face with heart-eyes'}, {'🎄': 'Christmas tree'}, {'☕': 'hot beverage'}, {'💙': 'blue heart'}, {'❤️': 'red heart'}, {'🎧': 'headphone'}, {'😴': 'sleeping face'}, {'😑': 'expressionless face'}, {'🤕': 'face with head-bandage'}, {'😃': 'grinning face with big eyes', '😍': 'smiling face with heart-eyes', '😉': 'winking face', '😘': 'face blowing a kiss', '💙': 'blue heart'}, {'😐': 'neutral face'}, {'☺️': 'smiling face'}, {'😊': 'smiling face with smiling eyes'}, {'😉': 'winking face'}, {'😭': 'loudly crying face'}, {'❤': 'red heart'}, {'😂': 'face with tears of joy'}, {'💧': 'droplet', '☔': 'umbrella with rain drops'}, {'😊': 'smiling face with smiling eyes', '😂': 'face with tears of joy'}, {'❤️': 'red heart'}, {'😶': 'face without mouth', '😑': 'expressionless face'}, {'😊': 'smiling face with smiling eyes', '😂': 'face with tears of joy'}, {'😁': 'beaming face with smiling eyes'}, {'😎': 'smiling face with sunglasses', '👗': 'dress', '😩': 'weary face'}, {'😅': 'grinning face with sweat'}, {'😒': 'unamused face'}, {'😒': 'unamused face', '😂': 'face with tears of joy'}, {'😘': 'face blowing a kiss', '😚': 'kissing face with closed eyes', '😂': 'face with tears of joy'}, {'😂': 'face with tears of joy'}, {'🍕': 'pizza'}, {'😭': 'loudly crying face'}, {'👑': 'crown', '👒': 'woman’s hat'}, {'😂': 'face with tears of joy'}, {'😌': 'relieved face'}, {'❤️': 'red heart'}, {'👅': 'tongue', '🌸': 'cherry blossom', '🍥': 'fish cake with swirl'}, {'☺️': 'smiling face', '😠': 'angry face'}, {'😒': 'unamused face'}, {'😫': 'tired face'}, {'❤️': 'red heart'}, {'😑': 'expressionless face'}, {'😧': 'anguished face'}, {'😍': 'smiling face with heart-eyes'}, {'❤️': 'red heart'}, {'🆗': 'OK button', '🤑': 'money-mouth face', '😂': 'face with tears of joy', '😏': 'smirking face'}, {'😳': 'flushed face', '😱': 'face screaming in fear', '😍': 'smiling face with heart-eyes', '😄': 'grinning face with smiling eyes', '😂': 'face with tears of joy', '😊': 'smiling face with smiling eyes'}, {'❤️': 'red heart', '😂': 'face with tears of joy'}, {'❤️': 'red heart'}, {'🤕': 'face with head-bandage', '🤐': 'zipper-mouth face'}, {'😞': 'disappointed face'}, {'😍': 'smiling face with heart-eyes', '😩': 'weary face'}, {'😢': 'crying face'}, {'😂': 'face with tears of joy'}, {'😉': 'winking face'}, {'😂': 'face with tears of joy'}, {'😍': 'smiling face with heart-eyes'}, {'😂': 'face with tears of joy'}, {'😂': 'face with tears of joy'}, {'😄': 'grinning face with smiling eyes'}, {'😙': 'kissing face with smiling eyes', '❤': 'red heart'}, {'👅': 'tongue'}, {'😂': 'face with tears of joy'}, {'😁': 'beaming face with smiling eyes'}, {'😭': 'loudly crying face', '😩': 'weary face', '😂': 'face with tears of joy', '😏': 'smirking face'}, {'😂': 'face with tears of joy'}, {'✈️': 'airplane', '😻': 'smiling cat with heart-eyes'}, {'✌️': 'victory hand', '🎹': 'musical keyboard'}, {'😴': 'sleeping face'}, {'😳': 'flushed face'}, {'😆': 'grinning squinting face'}, {'❤️': 'red heart'}, {'😂': 'face with tears of joy'}, {'😘': 'face blowing a kiss'}, {'⚽': 'soccer ball', '😊': 'smiling face with smiling eyes', '🚙': 'sport utility vehicle'}, {'😩': 'weary face'}, {'®': 'registered'}, {'💝': 'heart with ribbon'}, {'😌': 'relieved face'}, {'😁': 'beaming face with smiling eyes'}, {'😊': 'smiling face with smiling eyes', '❤': 'red heart'}, {'😴': 'sleeping face', '😩': 'weary face'}, {'😊': 'smiling face with smiling eyes'}, {'📹': 'video camera'}, {'😍': 'smiling face with heart-eyes'}, {'😂': 'face with tears of joy'}, {'✌': 'victory hand', '🚪': 'door'}, {'🏃': 'person running', '😅': 'grinning face with sweat', '😏': 'smirking face'}, {'😇': 'smiling face with halo'}, {'😡': 'pouting face', '😭': 'loudly crying face', '😕': 'confused face', '😩': 'weary face'}, {'❤️': 'red heart', '😊': 'smiling face with smiling eyes'}, {'😒': 'unamused face'}, {'👑': 'crown', '😂': 'face with tears of joy'}, {'😊': 'smiling face with smiling eyes'}, {'😘': 'face blowing a kiss', '❤': 'red heart'}, {'😏': 'smirking face'}, {'♥': 'heart suit'}, {'😠': 'angry face'}, {'😘': 'face blowing a kiss', '😭': 'loudly crying face', '😂': 'face with tears of joy'}, {'❤️': 'red heart'}, {'😫': 'tired face'}, {'😂': 'face with tears of joy'}, {'😊': 'smiling face with smiling eyes'}, {'😒': 'unamused face'}, {'💻': 'laptop'}, {'☕': 'hot beverage'}, {'😍': 'smiling face with heart-eyes'}, {'😕': 'confused face'}, {'😩': 'weary face'}, {'😭': 'loudly crying face'}, {'❤️': 'red heart'}, {'😂': 'face with tears of joy'}, {'😴': 'sleeping face'}, {'💍': 'ring', '😍': 'smiling face with heart-eyes', '😘': 'face blowing a kiss', '❤': 'red heart', '💙': 'blue heart', '💎': 'gem stone'}, {'😉': 'winking face'}, {'😭': 'loudly crying face'}, {'😍': 'smiling face with heart-eyes'}, {'🤑': 'money-mouth face'}, {'♥': 'heart suit'}, {'🆒': 'COOL button', '🆗': 'OK button'}, {'❤️': 'red heart'}, {'🎅': 'Santa Claus'}, {'😉': 'winking face'}, {'✨': 'sparkles'}, {'😀': 'grinning face'}, {'😊': 'smiling face with smiling eyes'}, {'❤️': 'red heart'}, {'🌈': 'rainbow', '🐒': 'monkey'}, {'🚮': 'litter in bin sign'}, {'😭': 'loudly crying face', '😍': 'smiling face with heart-eyes'}, {'😂': 'face with tears of joy'}, {'😋': 'face savoring food'}, {'😊': 'smiling face with smiling eyes'}, {'🖐': 'hand with fingers splayed'}, {'☺️': 'smiling face'}, {'😡': 'pouting face'}, {'😁': 'beaming face with smiling eyes'}, {'🙏': 'folded hands', '💜': 'purple heart'}, {'😪': 'sleepy face'}, {'☺': 'smiling face'}, {'👎': 'thumbs down'}, {'😘': 'face blowing a kiss', '😋': 'face savoring food'}, {'❤': 'red heart'}, {'😃': 'grinning face with big eyes'}, {'♥': 'heart suit'}, {'🔮': 'crystal ball'}, {'♥': 'heart suit'}, {'❣': 'heart exclamation', '😊': 'smiling face with smiling eyes'}, {'😍': 'smiling face with heart-eyes', '💑': 'couple with heart', '❤': 'red heart'}, {'😒': 'unamused face'}, {'😔': 'pensive face'}, {'👉': 'backhand index pointing right', '☺️': 'smiling face'}, {'😭': 'loudly crying face', '😍': 'smiling face with heart-eyes'}, {'😴': 'sleeping face'}, {'😂': 'face with tears of joy'}, {'1️⃣': 'keycap: 1'}, {'😻': 'smiling cat with heart-eyes'}, {'😅': 'grinning face with sweat'}, {'😭': 'loudly crying face'}, {'😊': 'smiling face with smiling eyes'}, {'😩': 'weary face'}, {'😭': 'loudly crying face', '😂': 'face with tears of joy'}, {'😂': 'face with tears of joy'}, {'😊': 'smiling face with smiling eyes', '😍': 'smiling face with heart-eyes'}, {'💍': 'ring', '😏': 'smirking face', '🕑': 'two o’clock', '😘': 'face blowing a kiss', '❤️': 'red heart', '👂': 'ear', '🔐': 'locked with key', '😂': 'face with tears of joy', '😡': 'pouting face'}, {'🏇': 'horse racing'}, {'🐥': 'front-facing baby chick'}, {'😊': 'smiling face with smiling eyes'}, {'❤': 'red heart'}, {'😭': 'loudly crying face'}, {'😘': 'face blowing a kiss'}, {'😭': 'loudly crying face'}, {'❣': 'heart exclamation'}, {'😂': 'face with tears of joy'}, {'🎊': 'confetti ball', '😻': 'smiling cat with heart-eyes', '🎈': 'balloon', '❤️': 'red heart'}, {'😃': 'grinning face with big eyes'}, {'😣': 'persevering face'}, {'😂': 'face with tears of joy'}, {'🎄': 'Christmas tree'}, {'😂': 'face with tears of joy'}, {'😉': 'winking face'}, {'😊': 'smiling face with smiling eyes'}, {'😂': 'face with tears of joy'}, {'😘': 'face blowing a kiss', '😍': 'smiling face with heart-eyes'}, {'😈': 'smiling face with horns', '😂': 'face with tears of joy'}, {'😊': 'smiling face with smiling eyes'}, {'😂': 'face with tears of joy'}, {'🐱': 'cat face', '🐧': 'penguin', '❤': 'red heart', '😄': 'grinning face with smiling eyes', '✖': 'multiply'}, {'❤️': 'red heart', '🙈': 'see-no-evil monkey'}, {'😂': 'face with tears of joy'}, {'😍': 'smiling face with heart-eyes'}, {'😭': 'loudly crying face', '😂': 'face with tears of joy'}, {'😇': 'smiling face with halo'}, {'😂': 'face with tears of joy'}, {'😄': 'grinning face with smiling eyes', '😕': 'confused face'}, {'😂': 'face with tears of joy'}, {'😍': 'smiling face with heart-eyes'}, {'☹': 'frowning face'}, {'😒': 'unamused face'}, {'😅': 'grinning face with sweat', '😂': 'face with tears of joy'}, {'❤️': 'red heart', '⚫': 'black circle', '😂': 'face with tears of joy'}, {'✊': 'raised fist', '😊': 'smiling face with smiling eyes', '❤': 'red heart'}, {'😭': 'loudly crying face'}, {'😭': 'loudly crying face'}, {'😂': 'face with tears of joy'}, {'😘': 'face blowing a kiss'}, {'😻': 'smiling cat with heart-eyes'}, {'😩': 'weary face'}, {'❤️': 'red heart'}, {'😊': 'smiling face with smiling eyes'}, {'😎': 'smiling face with sunglasses'}, {'😭': 'loudly crying face', '😂': 'face with tears of joy'}, {'😁': 'beaming face with smiling eyes'}, {'⚡': 'high voltage', '🌂': 'closed umbrella', '☁': 'cloud'}, {'😁': 'beaming face with smiling eyes'}, {'😂': 'face with tears of joy'}, {'😘': 'face blowing a kiss'}, {'😂': 'face with tears of joy'}, {'☺️': 'smiling face'}, {'❤': 'red heart'}, {'☺️': 'smiling face'}, {'❤️': 'red heart', '☺️': 'smiling face', '😍': 'smiling face with heart-eyes'}, {'😭': 'loudly crying face'}, {'😖': 'confounded face'}, {'😏': 'smirking face'}, {'✌️': 'victory hand'}, {'😍': 'smiling face with heart-eyes'}, {'⛪': 'church', '💪': 'flexed biceps'}, {'🙆🏻': 'person gesturing OK: light skin tone', '😍': 'smiling face with heart-eyes', '😩': 'weary face'}, {'💝': 'heart with ribbon'}, {'😒': 'unamused face'}, {'😂': 'face with tears of joy'}, {'👅': 'tongue'}, {'😍': 'smiling face with heart-eyes'}, {'😃': 'grinning face with big eyes'}, {'😂': 'face with tears of joy'}, {'👍': 'thumbs up'}, {'😘': 'face blowing a kiss'}, {'😱': 'face screaming in fear'}, {'🐠': 'tropical fish', '😂': 'face with tears of joy'}, {'😭': 'loudly crying face'}, {'😍': 'smiling face with heart-eyes'}, {'💙': 'blue heart', '😁': 'beaming face with smiling eyes'}, {'💗': 'growing heart', '😂': 'face with tears of joy'}, {'🌟': 'glowing star', '😘': 'face blowing a kiss', '😍': 'smiling face with heart-eyes'}, {'😁': 'beaming face with smiling eyes'}, {'😘': 'face blowing a kiss'}, {'😍': 'smiling face with heart-eyes'}, {'🙃': 'upside-down face'}, {'🖖': 'vulcan salute'}, {'💗': 'growing heart'}, {'😍': 'smiling face with heart-eyes'}, {'👀': 'eyes', '🔦': 'flashlight'}, {'❤️': 'red heart'}, {'😍': 'smiling face with heart-eyes', '❤': 'red heart'}, {'😭': 'loudly crying face'}, {'😔': 'pensive face'}, {'♥': 'heart suit'}, {'😂': 'face with tears of joy'}, {'😂': 'face with tears of joy'}, {'😻': 'smiling cat with heart-eyes', '😘': 'face blowing a kiss', '😜': 'winking face with tongue'}, {'👑': 'crown'}, {'😭': 'loudly crying face', '😍': 'smiling face with heart-eyes'}, {'😊': 'smiling face with smiling eyes', '🎈': 'balloon'}, {'😜': 'winking face with tongue'}, {'😍': 'smiling face with heart-eyes'}, {'😈': 'smiling face with horns'}, {'😘': 'face blowing a kiss', '😁': 'beaming face with smiling eyes'}, {'😭': 'loudly crying face', '😔': 'pensive face'}, {'😂': 'face with tears of joy'}, {'😂': 'face with tears of joy'}, {'😂': 'face with tears of joy'}, {'😂': 'face with tears of joy'}, {'😂': 'face with tears of joy'}, {'😭': 'loudly crying face'}, {'😂': 'face with tears of joy'}, {'😍': 'smiling face with heart-eyes'}, {'😒': 'unamused face'}, {'😑': 'expressionless face'}, {'😒': 'unamused face'}, {'😏': 'smirking face'}, {'😟': 'worried face'}, {'😌': 'relieved face', '👼🏿': 'baby angel: dark skin tone'}, {'🔷': 'large blue diamond'}, {'😂': 'face with tears of joy'}, {'💍': 'ring'}, {'😊': 'smiling face with smiling eyes'}, {'💙': 'blue heart', '😏': 'smirking face'}, {'‼️': 'double exclamation mark'}, {'😂': 'face with tears of joy'}, {'😅': 'grinning face with sweat'}, {'✌': 'victory hand', '😒': 'unamused face'}, {'🐜': 'ant'}, {'😊': 'smiling face with smiling eyes', '😍': 'smiling face with heart-eyes'}, {'😍': 'smiling face with heart-eyes'}, {'😄': 'grinning face with smiling eyes', '🌺': 'hibiscus'}, {'😊': 'smiling face with smiling eyes', '😂': 'face with tears of joy'}, {'😂': 'face with tears of joy'}, {'👋': 'waving hand'}, {'😃': 'grinning face with big eyes'}, {'😭': 'loudly crying face'}, {'😒': 'unamused face'}, {'👋🏻': 'waving hand: light skin tone', '🏡': 'house with garden'}, {'😉': 'winking face', '👍': 'thumbs up'}, {'😂': 'face with tears of joy'}, {'😂': 'face with tears of joy'}, {'😐': 'neutral face'}, {'😄': 'grinning face with smiling eyes'}, {'😒': 'unamused face', '😂': 'face with tears of joy'}, {'😂': 'face with tears of joy'}, {'😘': 'face blowing a kiss', '❤': 'red heart'}, {'😉': 'winking face'}, {'😁': 'beaming face with smiling eyes'}, {'😍': 'smiling face with heart-eyes'}, {'❤️': 'red heart'}, {'😭': 'loudly crying face'}, {'😍': 'smiling face with heart-eyes'}, {'🍴': 'fork and knife'}, {'😍': 'smiling face with heart-eyes'}, {'😊': 'smiling face with smiling eyes'}, {'😭': 'loudly crying face'}, {'😊': 'smiling face with smiling eyes'}, {'😍': 'smiling face with heart-eyes'}, {'😊': 'smiling face with smiling eyes'}, {'❤️': 'red heart', '✋': 'raised hand'}, {'😩': 'weary face'}, {'☺️': 'smiling face'}, {'😋': 'face savoring food', '😂': 'face with tears of joy'}, {'😧': 'anguished face'}, {'😂': 'face with tears of joy'}, {'😑': 'expressionless face'}, {'😐': 'neutral face'}, {'😍': 'smiling face with heart-eyes'}, {'👐': 'open hands'}, {'😊': 'smiling face with smiling eyes'}, {'☺️': 'smiling face'}, {'😏': 'smirking face'}, {'😂': 'face with tears of joy'}, {'🏆': 'trophy'}, {'😎': 'smiling face with sunglasses'}, {'😂': 'face with tears of joy'}, {'😅': 'grinning face with sweat'}, {'☹': 'frowning face'}, {'😥': 'sad but relieved face'}, {'😍': 'smiling face with heart-eyes'}, {'😍': 'smiling face with heart-eyes'}, {'🎤': 'microphone'}, {'😂': 'face with tears of joy'}, {'😍': 'smiling face with heart-eyes'}, {'😴': 'sleeping face'}, {'😍': 'smiling face with heart-eyes'}, {'☺️': 'smiling face', '😂': 'face with tears of joy'}, {'😊': 'smiling face with smiling eyes', '😩': 'weary face'}, {'😂': 'face with tears of joy'}, {'😴': 'sleeping face'}, {'⛄': 'snowman without snow', '🎄': 'Christmas tree', '🎁': 'wrapped gift'}, {'😇': 'smiling face with halo'}, {'😅': 'grinning face with sweat'}, {'😇': 'smiling face with halo'}, {'😘': 'face blowing a kiss', '❤️': 'red heart'}, {'😩': 'weary face'}, {'😎': 'smiling face with sunglasses'}, {'❤️': 'red heart'}, {'😉': 'winking face'}, {'😔': 'pensive face'}, {'😌': 'relieved face'}, {'😓': 'downcast face with sweat'}, {'😁': 'beaming face with smiling eyes'}, {'😒': 'unamused face'}, {'😭': 'loudly crying face'}, {'✌': 'victory hand'}, {'🏡': 'house with garden'}, {'💙': 'blue heart', '😉': 'winking face'}, {'😀': 'grinning face', '😂': 'face with tears of joy'}, {'😳': 'flushed face', '😐': 'neutral face'}, {'😣': 'persevering face'}, {'😘': 'face blowing a kiss', '😊': 'smiling face with smiling eyes', '💍': 'ring'}, {'😢': 'crying face'}, {'😏': 'smirking face'}, {'🍟': 'french fries', '🍔': 'hamburger', '🍕': 'pizza'}, {'😅': 'grinning face with sweat'}, {'😰': 'anxious face with sweat'}, {'💑': 'couple with heart'}, {'❤️': 'red heart', '😁': 'beaming face with smiling eyes'}, {'😄': 'grinning face with smiling eyes'}, {'😆': 'grinning squinting face'}, {'😅': 'grinning face with sweat', '🎅': 'Santa Claus'}, {'😩': 'weary face'}, {'😅': 'grinning face with sweat', '😂': 'face with tears of joy'}, {'😋': 'face savoring food'}, {'😑': 'expressionless face'}, {'😂': 'face with tears of joy'}, {'😂': 'face with tears of joy'}, {'😓': 'downcast face with sweat'}, {'😭': 'loudly crying face'}, {'😕': 'confused face'}, {'😭': 'loudly crying face'}, {'😭': 'loudly crying face', '😍': 'smiling face with heart-eyes'}, {'😂': 'face with tears of joy'}, {'😌': 'relieved face'}, {'😂': 'face with tears of joy'}, {'☹️': 'frowning face', '😒': 'unamused face'}, {'💙': 'blue heart', '😩': 'weary face'}, {'😎': 'smiling face with sunglasses'}, {'😌': 'relieved face'}, {'😉': 'winking face'}, {'😊': 'smiling face with smiling eyes'}, {'🌞': 'sun with face'}, {'😝': 'squinting face with tongue', '❣': 'heart exclamation'}, {'😊': 'smiling face with smiling eyes'}, {'💙': 'blue heart'}, {'❤️': 'red heart', '😍': 'smiling face with heart-eyes'}, {'😂': 'face with tears of joy'}, {'😊': 'smiling face with smiling eyes'}, {'😭': 'loudly crying face', '😂': 'face with tears of joy'}, {'😂': 'face with tears of joy'}, {'😂': 'face with tears of joy', '😉': 'winking face'}, {'😂': 'face with tears of joy'}, {'😂': 'face with tears of joy'}, {'😑': 'expressionless face'}, {'☺': 'smiling face'}, {'😆': 'grinning squinting face'}, {'😴': 'sleeping face'}, {'😁': 'beaming face with smiling eyes'}, {'😂': 'face with tears of joy'}, {'😜': 'winking face with tongue'}, {'😭': 'loudly crying face'}, {'😍': 'smiling face with heart-eyes'}, {'💙': 'blue heart', '❤': 'red heart', '💝': 'heart with ribbon'}, {'😘': 'face blowing a kiss', '😥': 'sad but relieved face', '🎉': 'party popper', '❤': 'red heart'}, {'😂': 'face with tears of joy'}, {'😂': 'face with tears of joy'}, {'😁': 'beaming face with smiling eyes'}, {'😄': 'grinning face with smiling eyes'}, {'😅': 'grinning face with sweat'}, {'👅': 'tongue', '😊': 'smiling face with smiling eyes'}, {'😂': 'face with tears of joy'}, {'😂': 'face with tears of joy'}, {'😏': 'smirking face'}, {'😴': 'sleeping face'}, {'😂': 'face with tears of joy'}, {'😁': 'beaming face with smiling eyes'}, {'‼️': 'double exclamation mark', '😭': 'loudly crying face', '😂': 'face with tears of joy'}, {'😂': 'face with tears of joy'}, {'😂': 'face with tears of joy'}, {'😎': 'smiling face with sunglasses', '✌️': 'victory hand'}, {'☺️': 'smiling face', '😍': 'smiling face with heart-eyes'}, {'😊': 'smiling face with smiling eyes'}, {'😍': 'smiling face with heart-eyes'}, {'😩': 'weary face'}, {'😪': 'sleepy face', '😂': 'face with tears of joy', '😩': 'weary face'}, {'😊': 'smiling face with smiling eyes', '😂': 'face with tears of joy'}, {'😷': 'face with medical mask', '😩': 'weary face'}, {'😘': 'face blowing a kiss', '❤': 'red heart'}, {'😡': 'pouting face'}, {'📄': 'page facing up', '❤️': 'red heart', '🖊': 'pen'}, {'😂': 'face with tears of joy'}, {'😄': 'grinning face with smiling eyes', '❤️': 'red heart'}, {'❣': 'heart exclamation', '🎈': 'balloon'}, {'🦄': 'unicorn'}, {'😃': 'grinning face with big eyes'}, {'❤️': 'red heart'}, {'😁': 'beaming face with smiling eyes'}, {'❤️': 'red heart'}, {'😂': 'face with tears of joy'}, {'😂': 'face with tears of joy'}, {'❤️': 'red heart'}, {'😍': 'smiling face with heart-eyes'}, {'😂': 'face with tears of joy'}, {'😊': 'smiling face with smiling eyes', '😍': 'smiling face with heart-eyes', '😩': 'weary face'}, {'😊': 'smiling face with smiling eyes'}, {'✊': 'raised fist'}, {'😳': 'flushed face'}, {'❤️': 'red heart'}, {'😎': 'smiling face with sunglasses'}, {'😍': 'smiling face with heart-eyes'}, {'😘': 'face blowing a kiss'}, {'😹': 'cat with tears of joy'}, {'😃': 'grinning face with big eyes'}, {'😳': 'flushed face'}, {'🙁': 'slightly frowning face'}, {'😂': 'face with tears of joy'}, {'😱': 'face screaming in fear', '😍': 'smiling face with heart-eyes'}, {'😀': 'grinning face', '🎄': 'Christmas tree'}, {'❤️': 'red heart'}, {'😘': 'face blowing a kiss', '😍': 'smiling face with heart-eyes'}, {'☺️': 'smiling face'}, {'😍': 'smiling face with heart-eyes'}, {'😍': 'smiling face with heart-eyes'}, {'☕': 'hot beverage'}, {'😂': 'face with tears of joy'}, {'😭': 'loudly crying face'}, {'😍': 'smiling face with heart-eyes', '😂': 'face with tears of joy'}, {'😍': 'smiling face with heart-eyes'}, {'😂': 'face with tears of joy'}, {'😭': 'loudly crying face', '😍': 'smiling face with heart-eyes'}, {'😂': 'face with tears of joy'}, {'😴': 'sleeping face', '😂': 'face with tears of joy'}, {'😩': 'weary face'}, {'😇': 'smiling face with halo', '❤': 'red heart'}, {'😂': 'face with tears of joy'}, {'😅': 'grinning face with sweat', '😩': 'weary face'}, {'👓': 'glasses'}, {'☕': 'hot beverage'}, {'☹': 'frowning face'}, {'😌': 'relieved face'}, {'😡': 'pouting face'}, {'👑': 'crown', '💫': 'dizzy', '😍': 'smiling face with heart-eyes'}, {'😉': 'winking face'}, {'😄': 'grinning face with smiling eyes'}, {'😅': 'grinning face with sweat'}, {'😻': 'smiling cat with heart-eyes'}, {'😒': 'unamused face'}, {'😁': 'beaming face with smiling eyes'}, {'😻': 'smiling cat with heart-eyes', '🎄': 'Christmas tree', '😍': 'smiling face with heart-eyes'}, {'⛄': 'snowman without snow', '😊': 'smiling face with smiling eyes', '❄️': 'snowflake'}, {'😐': 'neutral face', '0⃣': 'keycap: 0'}, {'😒': 'unamused face'}, {'😞': 'disappointed face'}, {'😭': 'loudly crying face'}, {'😍': 'smiling face with heart-eyes'}, {'😀': 'grinning face'}, {'😘': 'face blowing a kiss'}, {'😊': 'smiling face with smiling eyes'}, {'😶': 'face without mouth'}, {'💙': 'blue heart'}, {'😑': 'expressionless face'}, {'☝️': 'index pointing up'}, {'😍': 'smiling face with heart-eyes'}, {'😔': 'pensive face'}, {'😴': 'sleeping face', '🐸': 'frog'}, {'😳': 'flushed face', '😔': 'pensive face'}, {'😅': 'grinning face with sweat'}, {'😭': 'loudly crying face'}, {'😑': 'expressionless face'}, {'😁': 'beaming face with smiling eyes'}, {'😎': 'smiling face with sunglasses', '😉': 'winking face'}, {'😕': 'confused face'}, {'❤️': 'red heart', '👼': 'baby angel'}, {'😩': 'weary face'}, {'😂': 'face with tears of joy'}, {'😋': 'face savoring food'}, {'😫': 'tired face', '😩': 'weary face'}, {'☕': 'hot beverage', '😍': 'smiling face with heart-eyes'}, {'☕': 'hot beverage', '😍': 'smiling face with heart-eyes'}, {'😝': 'squinting face with tongue'}, {'☺️': 'smiling face', '😍': 'smiling face with heart-eyes'}, {'😍': 'smiling face with heart-eyes'}, {'😌': 'relieved face'}, {'🌼': 'blossom'}, {'😊': 'smiling face with smiling eyes'}, {'😍': 'smiling face with heart-eyes'}, {'😂': 'face with tears of joy'}, {'😩': 'weary face'}, {'™': 'trade mark'}, {'😂': 'face with tears of joy'}, {'🙀': 'weary cat', '😭': 'loudly crying face', '😿': 'crying cat'}, {'😍': 'smiling face with heart-eyes'}, {'❤': 'red heart'}, {'⚡': 'high voltage'}, {'😟': 'worried face', '😌': 'relieved face', '😑': 'expressionless face'}, {'🆙': 'UP! button', '😕': 'confused face', '😩': 'weary face'}, {'😓': 'downcast face with sweat'}, {'😩': 'weary face'}, {'😝': 'squinting face with tongue'}, {'😔': 'pensive face'}, {'😁': 'beaming face with smiling eyes'}, {'😂': 'face with tears of joy'}, {'💙': 'blue heart'}, {'🤑': 'money-mouth face'}, {'👋': 'waving hand'}, {'😑': 'expressionless face'}, {'👐': 'open hands'}, {'🤑': 'money-mouth face', '😂': 'face with tears of joy'}, {'😮': 'face with open mouth'}, {'♈': 'Aries'}, {'😂': 'face with tears of joy'}, {'😍': 'smiling face with heart-eyes'}, {'👶': 'baby', '🍼': 'baby bottle', '😁': 'beaming face with smiling eyes', '😍': 'smiling face with heart-eyes'}, {'😂': 'face with tears of joy'}, {'😂': 'face with tears of joy'}, {'☺️': 'smiling face', '😍': 'smiling face with heart-eyes'}, {'😅': 'grinning face with sweat'}, {'😂': 'face with tears of joy'}, {'😢': 'crying face', '😂': 'face with tears of joy'}, {'😆': 'grinning squinting face'}, {'🌏': 'globe showing Asia-Australia', '🙎': 'person pouting', '🌍': 'globe showing Europe-Africa', '🌎': 'globe showing Americas'}, {'😭': 'loudly crying face'}, {'😢': 'crying face'}, {'😍': 'smiling face with heart-eyes'}, {'😳': 'flushed face'}, {'😝': 'squinting face with tongue'}, {'❤️': 'red heart', '⏳': 'hourglass not done'}, {'😣': 'persevering face', '😒': 'unamused face'}, {'☺️': 'smiling face'}, {'🎵': 'musical note'}, {'😂': 'face with tears of joy'}, {'😂': 'face with tears of joy'}, {'😂': 'face with tears of joy'}, {'😂': 'face with tears of joy'}, {'😭': 'loudly crying face'}, {'❤️': 'red heart'}, {'😍': 'smiling face with heart-eyes'}, {'😍': 'smiling face with heart-eyes'}, {'😩': 'weary face'}, {'😐': 'neutral face', '😔': 'pensive face'}, {'😂': 'face with tears of joy'}, {'😩': 'weary face'}, {'😊': 'smiling face with smiling eyes'}, {'😌': 'relieved face', '😍': 'smiling face with heart-eyes'}, {'😂': 'face with tears of joy'}, {'❤️': 'red heart', '😭': 'loudly crying face'}, {'😪': 'sleepy face'}, {'😂': 'face with tears of joy'}, {'😭': 'loudly crying face'}, {'😩': 'weary face'}, {'😅': 'grinning face with sweat'}, {'❤️': 'red heart'}, {'🎁': 'wrapped gift', '🎄': 'Christmas tree', '☃': 'snowman', '☺️': 'smiling face', '🎅': 'Santa Claus'}, {'💍': 'ring', '😍': 'smiling face with heart-eyes', '👫': 'woman and man holding hands', '😎': 'smiling face with sunglasses', '🚫': 'prohibited', '🔐': 'locked with key', '✊': 'raised fist'}, {'❤': 'red heart'}, {'😘': 'face blowing a kiss', '😭': 'loudly crying face'}, {'😂': 'face with tears of joy'}, {'😡': 'pouting face'}, {'🤔': 'thinking face'}, {'😠': 'angry face'}, {'😋': 'face savoring food'}, {'😘': 'face blowing a kiss'}, {'😛': 'face with tongue', '😂': 'face with tears of joy', '🅰': 'A button (blood type)'}, {'😴': 'sleeping face'}, {'😴': 'sleeping face'}, {'😊': 'smiling face with smiling eyes'}, {'❤': 'red heart'}, {'😢': 'crying face', '😇': 'smiling face with halo'}, {'😄': 'grinning face with smiling eyes'}, {'😴': 'sleeping face'}, {'😆': 'grinning squinting face'}, {'😃': 'grinning face with big eyes', '☺': 'smiling face', '😁': 'beaming face with smiling eyes', '😄': 'grinning face with smiling eyes', '😀': 'grinning face', '😊': 'smiling face with smiling eyes'}, {'😊': 'smiling face with smiling eyes'}, {'😂': 'face with tears of joy'}, {'😘': 'face blowing a kiss'}, {'🌠': 'shooting star'}, {'😂': 'face with tears of joy', '😏': 'smirking face'}, {'😂': 'face with tears of joy'}, {'😊': 'smiling face with smiling eyes'}, {'😁': 'beaming face with smiling eyes'}, {'✍': 'writing hand', '🤕': 'face with head-bandage', '🤐': 'zipper-mouth face', '🖖': 'vulcan salute'}, {'😂': 'face with tears of joy'}, {'😅': 'grinning face with sweat'}, {'😊': 'smiling face with smiling eyes'}, {'😩': 'weary face'}, {'💙': 'blue heart', '❤️': 'red heart'}, {'♥': 'heart suit'}, {'😂': 'face with tears of joy', '😩': 'weary face'}, {'😕': 'confused face'}, {'😂': 'face with tears of joy'}, {'😳': 'flushed face'}, {'😆': 'grinning squinting face', '😃': 'grinning face with big eyes', '💦': 'sweat droplets', '💻': 'laptop'}, {'😂': 'face with tears of joy'}, {'❤': 'red heart'}, {'😊': 'smiling face with smiling eyes'}, {'❤️': 'red heart', '😂': 'face with tears of joy'}, {'😎': 'smiling face with sunglasses', '😈': 'smiling face with horns'}, {'☺': 'smiling face'}, {'😖': 'confounded face'}, {'😆': 'grinning squinting face'}, {'😊': 'smiling face with smiling eyes'}, {'😊': 'smiling face with smiling eyes'}, {'😫': 'tired face', '🤕': 'face with head-bandage', '😷': 'face with medical mask'}, {'❤️': 'red heart', '😂': 'face with tears of joy'}, {'😅': 'grinning face with sweat'}, {'😘': 'face blowing a kiss'}, {'😑': 'expressionless face'}, {'😄': 'grinning face with smiling eyes'}, {'➡️': 'right arrow'}, {'😔': 'pensive face'}, {'😑': 'expressionless face'}, {'😂': 'face with tears of joy'}, {'☕': 'hot beverage', '⛽': 'fuel pump'}, {'😂': 'face with tears of joy'}, {'💖': 'sparkling heart'}, {'😭': 'loudly crying face'}, {'😐': 'neutral face'}, {'😂': 'face with tears of joy'}, {'😂': 'face with tears of joy'}, {'💁': 'person tipping hand'}, {'😉': 'winking face'}, {'😩': 'weary face'}, {'😐': 'neutral face', '😒': 'unamused face'}, {'😘': 'face blowing a kiss'}, {'😩': 'weary face'}, {'🐣': 'hatching chick'}, {'😭': 'loudly crying face'}, {'😞': 'disappointed face', '😩': 'weary face'}, {'😉': 'winking face'}, {'☺️': 'smiling face'}, {'😫': 'tired face', '😱': 'face screaming in fear'}, {'😌': 'relieved face'}, {'😰': 'anxious face with sweat'}, {'😘': 'face blowing a kiss', '😍': 'smiling face with heart-eyes'}, {'😂': 'face with tears of joy'}, {'😍': 'smiling face with heart-eyes'}, {'😡': 'pouting face'}, {'✨': 'sparkles'}, {'😂': 'face with tears of joy'}, {'🍣': 'sushi', '🌶': 'hot pepper', '😂': 'face with tears of joy'}, {'😭': 'loudly crying face'}, {'✨': 'sparkles'}, {'❤️': 'red heart', '😭': 'loudly crying face'}, {'👑': 'crown'}, {'😂': 'face with tears of joy'}, {'❤️': 'red heart', '😂': 'face with tears of joy'}, {'😴': 'sleeping face'}, {'🐅': 'tiger'}, {'😞': 'disappointed face', '😭': 'loudly crying face'}, {'👑': 'crown'}, {'😀': 'grinning face'}, {'🤑': 'money-mouth face'}, {'☺️': 'smiling face'}, {'👑': 'crown', '🐥': 'front-facing baby chick', '✨': 'sparkles'}, {'🐰': 'rabbit face', '🎼': 'musical score', '😏': 'smirking face'}, {'♥️': 'heart suit'}, {'😍': 'smiling face with heart-eyes'}, {'💙': 'blue heart'}, {'🤑': 'money-mouth face'}, {'😊': 'smiling face with smiling eyes'}, {'😂': 'face with tears of joy'}, {'🇬🇧': 'flag: United Kingdom', '😂': 'face with tears of joy'}, {'😊': 'smiling face with smiling eyes', '😂': 'face with tears of joy'}, {'😊': 'smiling face with smiling eyes', '😕': 'confused face'}, {'🏿': 'dark skin tone'}, {'😭': 'loudly crying face', '😂': 'face with tears of joy'}, {'😛': 'face with tongue', '👅': 'tongue', '😍': 'smiling face with heart-eyes', '😂': 'face with tears of joy'}, {'😙': 'kissing face with smiling eyes', '😂': 'face with tears of joy'}, {'😣': 'persevering face'}, {'😂': 'face with tears of joy'}, {'❤️': 'red heart'}, {'🍀': 'four leaf clover', '😊': 'smiling face with smiling eyes'}, {'🚗': 'automobile'}, {'😒': 'unamused face'}, {'😊': 'smiling face with smiling eyes'}, {'😩': 'weary face'}, {'😌': 'relieved face'}, {'🏈': 'american football', '💍': 'ring'}, {'😊': 'smiling face with smiling eyes'}, {'😭': 'loudly crying face', '😂': 'face with tears of joy'}, {'😂': 'face with tears of joy'}, {'😅': 'grinning face with sweat'}, {'😡': 'pouting face', '😢': 'crying face'}, {'😆': 'grinning squinting face'}, {'🐿': 'chipmunk'}, {'☺️': 'smiling face'}, {'❓': 'red question mark'}, {'😡': 'pouting face'}, {'🐟': 'fish'}, {'🙇': 'person bowing'}, {'😂': 'face with tears of joy'}, {'😅': 'grinning face with sweat'}, {'😭': 'loudly crying face'}, {'😂': 'face with tears of joy'}, {'😂': 'face with tears of joy'}, {'😘': 'face blowing a kiss', '❤️': 'red heart', '😊': 'smiling face with smiling eyes', '😂': 'face with tears of joy', '☺️': 'smiling face'}, {'✌️': 'victory hand'}, {'😩': 'weary face'}, {'😁': 'beaming face with smiling eyes'}, {'😊': 'smiling face with smiling eyes'}, {'🎎': 'Japanese dolls'}, {'❤️': 'red heart'}, {'😑': 'expressionless face'}, {'😂': 'face with tears of joy'}, {'😂': 'face with tears of joy', '😭': 'loudly crying face', '😩': 'weary face'}, {'😭': 'loudly crying face'}, {'😊': 'smiling face with smiling eyes'}, {'😂': 'face with tears of joy'}, {'❗': 'red exclamation mark'}, {'😪': 'sleepy face'}, {'💯': 'hundred points'}, {'😩': 'weary face'}, {'😘': 'face blowing a kiss'}, {'😂': 'face with tears of joy'}, {'😒': 'unamused face'}, {'😂': 'face with tears of joy'}, {'😐': 'neutral face', '😂': 'face with tears of joy'}, {'😂': 'face with tears of joy'}, {'😭': 'loudly crying face'}, {'😑': 'expressionless face'}, {'😥': 'sad but relieved face', '😒': 'unamused face'}, {'😍': 'smiling face with heart-eyes'}, {'😊': 'smiling face with smiling eyes'}, {'😆': 'grinning squinting face'}, {'😊': 'smiling face with smiling eyes'}, {'😍': 'smiling face with heart-eyes'}, {'😊': 'smiling face with smiling eyes'}, {'😋': 'face savoring food'}, {'😍': 'smiling face with heart-eyes'}, {'😂': 'face with tears of joy'}, {'😇': 'smiling face with halo'}, {'😏': 'smirking face'}, {'😔': 'pensive face'}, {'😊': 'smiling face with smiling eyes'}, {'😭': 'loudly crying face', '😂': 'face with tears of joy'}, {'😏': 'smirking face', '📹': 'video camera'}, {'😒': 'unamused face'}, {'❣': 'heart exclamation'}, {'🍟': 'french fries', '🍗': 'poultry leg', '🍕': 'pizza', '🍰': 'shortcake', '🍔': 'hamburger', '🐷': 'pig face'}, {'😿': 'crying cat'}, {'😊': 'smiling face with smiling eyes'}, {'😭': 'loudly crying face'}, {'😑': 'expressionless face'}, {'😁': 'beaming face with smiling eyes', '☝️': 'index pointing up'}, {'🍕': 'pizza', '😌': 'relieved face'}, {'😅': 'grinning face with sweat'}, {'😍': 'smiling face with heart-eyes'}, {'😃': 'grinning face with big eyes'}, {'👐': 'open hands'}, {'😫': 'tired face'}, {'😊': 'smiling face with smiling eyes', '😩': 'weary face'}, {'☝': 'index pointing up'}, {'😊': 'smiling face with smiling eyes'}, {'😂': 'face with tears of joy'}, {'❤️': 'red heart', '☺️': 'smiling face'}, {'😴': 'sleeping face', '😭': 'loudly crying face'}, {'😂': 'face with tears of joy'}, {'😌': 'relieved face', '☺️': 'smiling face'}, {'😈': 'smiling face with horns', '😂': 'face with tears of joy', '😜': 'winking face with tongue'}, {'😐': 'neutral face'}, {'😊': 'smiling face with smiling eyes', '😩': 'weary face'}, {'😩': 'weary face'}, {'😍': 'smiling face with heart-eyes'}, {'😅': 'grinning face with sweat', '😂': 'face with tears of joy'}, {'😛': 'face with tongue'}, {'😶': 'face without mouth'}, {'😭': 'loudly crying face', '😂': 'face with tears of joy'}, {'❤️': 'red heart', '😘': 'face blowing a kiss', '😊': 'smiling face with smiling eyes'}, {'😭': 'loudly crying face', '😍': 'smiling face with heart-eyes', '😂': 'face with tears of joy'}, {'😂': 'face with tears of joy'}, {'😊': 'smiling face with smiling eyes'}, {'🍕': 'pizza'}, {'😘': 'face blowing a kiss', '😭': 'loudly crying face'}, {'❤️': 'red heart'}, {'😂': 'face with tears of joy'}, {'😊': 'smiling face with smiling eyes'}, {'😂': 'face with tears of joy'}, {'😁': 'beaming face with smiling eyes'}, {'☺': 'smiling face', '❤': 'red heart'}, {'😍': 'smiling face with heart-eyes'}, {'😅': 'grinning face with sweat'}, {'😊': 'smiling face with smiling eyes'}, {'😆': 'grinning squinting face', '😭': 'loudly crying face', '😂': 'face with tears of joy'}, {'😩': 'weary face'}, {'😂': 'face with tears of joy'}, {'😍': 'smiling face with heart-eyes', '😏': 'smirking face'}, {'☹️': 'frowning face'}, {'😍': 'smiling face with heart-eyes'}, {'😊': 'smiling face with smiling eyes'}, {'🤐': 'zipper-mouth face'}, {'😅': 'grinning face with sweat', '😭': 'loudly crying face', '😩': 'weary face'}, {'😪': 'sleepy face'}, {'😂': 'face with tears of joy'}, {'☕': 'hot beverage'}, {'😉': 'winking face', '🍑': 'peach'}, {'😏': 'smirking face'}, {'🐯': 'tiger face', '🦃': 'turkey'}, {'😴': 'sleeping face', '😄': 'grinning face with smiling eyes'}, {'😂': 'face with tears of joy'}, {'☺️': 'smiling face'}, {'😩': 'weary face'}, {'😂': 'face with tears of joy'}, {'😶': 'face without mouth'}, {'😑': 'expressionless face'}, {'🍅': 'tomato', '☺️': 'smiling face'}, {'😩': 'weary face'}, {'😒': 'unamused face'}, {'😂': 'face with tears of joy'}, {'😫': 'tired face'}, {'😡': 'pouting face', '😒': 'unamused face'}, {'😴': 'sleeping face'}, {'😭': 'loudly crying face'}, {'😂': 'face with tears of joy'}, {'😒': 'unamused face'}, {'😂': 'face with tears of joy'}, {'😒': 'unamused face'}, {'😒': 'unamused face'}, {'😧': 'anguished face'}, {'😂': 'face with tears of joy'}, {'😘': 'face blowing a kiss'}, {'😩': 'weary face'}, {'😙': 'kissing face with smiling eyes', '😊': 'smiling face with smiling eyes'}, {'😍': 'smiling face with heart-eyes'}, {'⚽': 'soccer ball', '❤': 'red heart'}, {'😫': 'tired face'}, {'😌': 'relieved face', '😁': 'beaming face with smiling eyes'}, {'💲': 'heavy dollar sign'}, {'😥': 'sad but relieved face'}, {'😥': 'sad but relieved face', '😢': 'crying face', '😭': 'loudly crying face'}, {'😛': 'face with tongue', '😂': 'face with tears of joy'}, {'😂': 'face with tears of joy', '😉': 'winking face'}, {'😯': 'hushed face'}, {'🎅': 'Santa Claus', '😊': 'smiling face with smiling eyes', '🎄': 'Christmas tree'}, {'🍁': 'maple leaf'}, {'🏿': 'dark skin tone'}, {'😩': 'weary face'}, {'⚽': 'soccer ball'}, {'😐': 'neutral face'}, {'☕': 'hot beverage'}, {'❓': 'red question mark'}, {'📹': 'video camera'}, {'😂': 'face with tears of joy'}, {'😩': 'weary face'}, {'😍': 'smiling face with heart-eyes'}, {'😭': 'loudly crying face', '😂': 'face with tears of joy'}, {'😔': 'pensive face'}, {'😪': 'sleepy face', '😭': 'loudly crying face'}, {'😖': 'confounded face', '👄': 'mouth'}, {'😍': 'smiling face with heart-eyes', '😩': 'weary face'}, {'😢': 'crying face', '😠': 'angry face'}, {'😂': 'face with tears of joy'}, {'❤️': 'red heart'}, {'❤️': 'red heart', '🇨🇦': 'flag: Canada'}, {'🐗': 'boar', '🏈': 'american football'}, {'👅': 'tongue', '✊': 'raised fist'}, {'😪': 'sleepy face'}, {'😩': 'weary face'}, {'😒': 'unamused face'}, {'😭': 'loudly crying face'}, {'😐': 'neutral face'}, {'😣': 'persevering face', '😂': 'face with tears of joy'}, {'😭': 'loudly crying face', '😍': 'smiling face with heart-eyes'}, {'😭': 'loudly crying face'}, {'😜': 'winking face with tongue'}, {'😒': 'unamused face'}, {'😂': 'face with tears of joy'}, {'😂': 'face with tears of joy'}, {'😠': 'angry face'}, {'😨': 'fearful face'}, {'😭': 'loudly crying face', '😂': 'face with tears of joy'}, {'😂': 'face with tears of joy'}, {'😭': 'loudly crying face'}, {'😉': 'winking face'}, {'😘': 'face blowing a kiss'}, {'😍': 'smiling face with heart-eyes', '❤': 'red heart'}, {'😂': 'face with tears of joy'}, {'🆓': 'FREE button', '🎮': 'video game'}, {'😎': 'smiling face with sunglasses'}, {'😎': 'smiling face with sunglasses', '😅': 'grinning face with sweat'}, {'😈': 'smiling face with horns', '🤑': 'money-mouth face'}, {'😂': 'face with tears of joy'}, {'😢': 'crying face'}, {'😳': 'flushed face'}, {'😌': 'relieved face'}, {'😭': 'loudly crying face'}, {'❤️': 'red heart'}, {'😊': 'smiling face with smiling eyes'}, {'❤️': 'red heart', '😊': 'smiling face with smiling eyes'}, {'😍': 'smiling face with heart-eyes'}, {'😭': 'loudly crying face'}, {'😄': 'grinning face with smiling eyes', '❤': 'red heart'}, {'😍': 'smiling face with heart-eyes'}, {'😣': 'persevering face', '💝': 'heart with ribbon'}, {'😊': 'smiling face with smiling eyes'}, {'😁': 'beaming face with smiling eyes'}, {'😍': 'smiling face with heart-eyes'}, {'😊': 'smiling face with smiling eyes'}, {'😊': 'smiling face with smiling eyes'}, {'🌻': 'sunflower'}, {'☺️': 'smiling face'}, {'😄': 'grinning face with smiling eyes'}, {'😐': 'neutral face'}, {'😁': 'beaming face with smiling eyes'}, {'😊': 'smiling face with smiling eyes'}, {'😍': 'smiling face with heart-eyes'}, {'😍': 'smiling face with heart-eyes', '😉': 'winking face', '😄': 'grinning face with smiling eyes', '😂': 'face with tears of joy', '😊': 'smiling face with smiling eyes'}, {'😇': 'smiling face with halo'}, {'✊': 'raised fist', '😊': 'smiling face with smiling eyes'}, {'😊': 'smiling face with smiling eyes'}, {'😌': 'relieved face'}, {'🤑': 'money-mouth face'}, {'✨': 'sparkles'}, {'😘': 'face blowing a kiss', '😍': 'smiling face with heart-eyes'}, {'😩': 'weary face'}, {'😡': 'pouting face'}, {'😴': 'sleeping face'}, {'😂': 'face with tears of joy'}, {'☺️': 'smiling face', '👙': 'bikini'}, {'😇': 'smiling face with halo'}, {'😅': 'grinning face with sweat', '😍': 'smiling face with heart-eyes'}, {'😩': 'weary face'}, {'😫': 'tired face'}, {'✔️': 'check mark', '😹': 'cat with tears of joy'}, {'😁': 'beaming face with smiling eyes'}, {'😔': 'pensive face'}, {'🌀': 'cyclone', '🌠': 'shooting star', '🌏': 'globe showing Asia-Australia'}, {'😍': 'smiling face with heart-eyes'}, {'😂': 'face with tears of joy'}, {'😡': 'pouting face'}, {'😊': 'smiling face with smiling eyes'}, {'😎': 'smiling face with sunglasses', '👔': 'necktie', '✌️': 'victory hand', '😉': 'winking face'}, {'🌵': 'cactus', '😂': 'face with tears of joy'}, {'😎': 'smiling face with sunglasses'}, {'🏆': 'trophy'}, {'😈': 'smiling face with horns'}, {'😭': 'loudly crying face'}, {'😢': 'crying face', '😍': 'smiling face with heart-eyes'}, {'😐': 'neutral face'}, {'😂': 'face with tears of joy'}, {'☺️': 'smiling face'}, {'😂': 'face with tears of joy'}, {'✌️': 'victory hand'}, {'🚶': 'person walking', '✅': 'check mark button'}, {'❤️': 'red heart'}, {'✔️': 'check mark', '✅': 'check mark button'}, {'😭': 'loudly crying face'}, {'😊': 'smiling face with smiling eyes'}, {'🌺': 'hibiscus'}, {'🌸': 'cherry blossom'}, {'🦄': 'unicorn', '😇': 'smiling face with halo'}, {'⚽': 'soccer ball', '❣': 'heart exclamation', '😭': 'loudly crying face'}, {'😏': 'smirking face'}, {'❤️': 'red heart', '😘': 'face blowing a kiss', '😭': 'loudly crying face'}, {'🎄': 'Christmas tree', '🎅': 'Santa Claus', '☃': 'snowman'}, {'😳': 'flushed face', '👦🏿': 'boy: dark skin tone'}, {'🎂': 'birthday cake', '😌': 'relieved face'}, {'😃': 'grinning face with big eyes', '😊': 'smiling face with smiling eyes'}, {'💙': 'blue heart'}, {'✌️': 'victory hand', '😉': 'winking face'}, {'😚': 'kissing face with closed eyes'}, {'❤️': 'red heart'}, {'😍': 'smiling face with heart-eyes'}, {'🌸': 'cherry blossom'}, {'😊': 'smiling face with smiling eyes'}, {'🔱': 'trident emblem'}, {'💙': 'blue heart', '😁': 'beaming face with smiling eyes'}, {'😴': 'sleeping face'}, {'😷': 'face with medical mask', '😣': 'persevering face'}, {'😭': 'loudly crying face'}, {'😞': 'disappointed face'}, {'😭': 'loudly crying face'}, {'♥': 'heart suit'}, {'♥': 'heart suit'}, {'😩': 'weary face'}, {'😂': 'face with tears of joy'}, {'❤️': 'red heart'}, {'😩': 'weary face', '😂': 'face with tears of joy'}, {'😡': 'pouting face'}, {'😕': 'confused face'}, {'😂': 'face with tears of joy'}, {'😍': 'smiling face with heart-eyes'}, {'🐻': 'bear', '😻': 'smiling cat with heart-eyes'}, {'😅': 'grinning face with sweat'}, {'😍': 'smiling face with heart-eyes'}, {'😊': 'smiling face with smiling eyes'}, {'😒': 'unamused face'}, {'😶': 'face without mouth'}, {'🔥': 'fire', '✨': 'sparkles'}, {'😒': 'unamused face'}, {'😊': 'smiling face with smiling eyes'}, {'😔': 'pensive face'}, {'😴': 'sleeping face'}, {'😊': 'smiling face with smiling eyes'}, {'😒': 'unamused face'}, {'😴': 'sleeping face', '😱': 'face screaming in fear'}, {'😁': 'beaming face with smiling eyes', '😍': 'smiling face with heart-eyes'}, {'😊': 'smiling face with smiling eyes'}, {'😂': 'face with tears of joy'}, {'😩': 'weary face'}, {'😒': 'unamused face'}, {'😂': 'face with tears of joy', '😉': 'winking face'}, {'😭': 'loudly crying face', '😔': 'pensive face'}, {'✊': 'raised fist'}, {'😁': 'beaming face with smiling eyes'}, {'😂': 'face with tears of joy'}, {'😛': 'face with tongue', '🚗': 'automobile'}, {'❤': 'red heart', '😉': 'winking face'}, {'😅': 'grinning face with sweat'}, {'😪': 'sleepy face'}, {'😀': 'grinning face'}, {'😊': 'smiling face with smiling eyes'}, {'😒': 'unamused face'}, {'😊': 'smiling face with smiling eyes'}, {'😂': 'face with tears of joy'}, {'😩': 'weary face'}, {'😒': 'unamused face'}, {'😕': 'confused face'}, {'😫': 'tired face'}, {'😒': 'unamused face'}, {'🔬': 'microscope'}, {'❣': 'heart exclamation'}, {'😒': 'unamused face'}, {'😁': 'beaming face with smiling eyes', '😂': 'face with tears of joy'}, {'😅': 'grinning face with sweat'}, {'😴': 'sleeping face'}, {'😂': 'face with tears of joy'}, {'😄': 'grinning face with smiling eyes'}, {'😊': 'smiling face with smiling eyes'}, {'😈': 'smiling face with horns', '😂': 'face with tears of joy'}, {'😊': 'smiling face with smiling eyes', '😒': 'unamused face'}, {'😄': 'grinning face with smiling eyes', '😂': 'face with tears of joy'}, {'😘': 'face blowing a kiss'}, {'😂': 'face with tears of joy', '😩': 'weary face'}, {'😢': 'crying face'}, {'😘': 'face blowing a kiss'}, {'😐': 'neutral face'}, {'😕': 'confused face'}, {'☺️': 'smiling face'}, {'😂': 'face with tears of joy'}, {'😍': 'smiling face with heart-eyes'}, {'😭': 'loudly crying face', '😂': 'face with tears of joy'}, {'😂': 'face with tears of joy'}, {'😭': 'loudly crying face'}, {'😄': 'grinning face with smiling eyes'}, {'😒': 'unamused face'}, {'😃': 'grinning face with big eyes'}, {'😂': 'face with tears of joy'}, {'👄': 'mouth'}, {'😟': 'worried face', '😂': 'face with tears of joy'}, {'😞': 'disappointed face'}, {'❤️': 'red heart'}, {'😅': 'grinning face with sweat'}, {'💙': 'blue heart', '✊': 'raised fist'}, {'😕': 'confused face'}, {'😭': 'loudly crying face'}, {'☕': 'hot beverage', '😑': 'expressionless face'}, {'😷': 'face with medical mask'}, {'😏': 'smirking face'}, {'😒': 'unamused face'}, {'😂': 'face with tears of joy'}, {'😂': 'face with tears of joy'}, {'😂': 'face with tears of joy'}, {'☺️': 'smiling face', '😭': 'loudly crying face', '😂': 'face with tears of joy'}, {'😒': 'unamused face', '🙇': 'person bowing'}, {'☺️': 'smiling face', '😂': 'face with tears of joy'}, {'😂': 'face with tears of joy'}, {'😇': 'smiling face with halo'}, {'😔': 'pensive face'}, {'😩': 'weary face'}, {'😍': 'smiling face with heart-eyes', '😂': 'face with tears of joy'}, {'☺': 'smiling face', '😩': 'weary face'}, {'🙃': 'upside-down face'}, {'😉': 'winking face'}, {'😂': 'face with tears of joy'}, {'😔': 'pensive face'}, {'😍': 'smiling face with heart-eyes'}, {'😒': 'unamused face'}, {'✋': 'raised hand'}, {'😂': 'face with tears of joy'}, {'😩': 'weary face'}, {'😒': 'unamused face'}, {'😴': 'sleeping face'}, {'🙈': 'see-no-evil monkey'}, {'😃': 'grinning face with big eyes'}, {'☺': 'smiling face'}, {'😒': 'unamused face'}, {'😊': 'smiling face with smiling eyes'}, {'😊': 'smiling face with smiling eyes'}, {'😝': 'squinting face with tongue'}, {'❤️': 'red heart'}, {'😊': 'smiling face with smiling eyes', '😑': 'expressionless face'}, {'😝': 'squinting face with tongue', '😊': 'smiling face with smiling eyes'}, {'😊': 'smiling face with smiling eyes'}, {'☺️': 'smiling face', '😏': 'smirking face'}, {'☺️': 'smiling face'}, {'😒': 'unamused face'}, {'😩': 'weary face'}, {'😄': 'grinning face with smiling eyes'}, {'😉': 'winking face'}, {'😅': 'grinning face with sweat'}, {'😢': 'crying face'}, {'😊': 'smiling face with smiling eyes'}, {'😐': 'neutral face'}, {'😈': 'smiling face with horns'}, {'😊': 'smiling face with smiling eyes'}, {'😷': 'face with medical mask'}, {'😂': 'face with tears of joy'}, {'😒': 'unamused face'}, {'😠': 'angry face'}, {'😒': 'unamused face'}, {'😒': 'unamused face'}, {'❤️': 'red heart'}, {'😂': 'face with tears of joy'}, {'😒': 'unamused face'}, {'😉': 'winking face'}, {'😒': 'unamused face'}, {'😁': 'beaming face with smiling eyes'}, {'😂': 'face with tears of joy'}, {'😒': 'unamused face'}, {'☺️': 'smiling face'}, {'‼️': 'double exclamation mark'}, {'☃': 'snowman', '🌨': 'cloud with snow', '❄️': 'snowflake'}, {'😩': 'weary face', '😂': 'face with tears of joy'}, {'😒': 'unamused face'}, {'😆': 'grinning squinting face', '😅': 'grinning face with sweat', '😂': 'face with tears of joy'}, {'😒': 'unamused face', '😂': 'face with tears of joy'}, {'😂': 'face with tears of joy'}, {'❤️': 'red heart'}, {'🎤': 'microphone', '🎶': 'musical notes', '🔊': 'speaker high volume'}, {'❤': 'red heart'}, {'😑': 'expressionless face'}, {'☺️': 'smiling face'}, {'☺️': 'smiling face'}, {'😪': 'sleepy face'}, {'😀': 'grinning face'}, {'😭': 'loudly crying face'}, {'😊': 'smiling face with smiling eyes'}, {'😍': 'smiling face with heart-eyes'}, {'😂': 'face with tears of joy'}, {'😝': 'squinting face with tongue'}, {'😍': 'smiling face with heart-eyes'}, {'😘': 'face blowing a kiss'}, {'😊': 'smiling face with smiling eyes'}, {'😅': 'grinning face with sweat', '😂': 'face with tears of joy'}, {'❤': 'red heart'}, {'😂': 'face with tears of joy'}, {'😾': 'pouting cat'}, {'©': 'copyright'}, {'😫': 'tired face'}, {'😭': 'loudly crying face'}, {'😂': 'face with tears of joy'}, {'😍': 'smiling face with heart-eyes'}, {'😂': 'face with tears of joy'}, {'😘': 'face blowing a kiss', '✨': 'sparkles'}, {'😊': 'smiling face with smiling eyes'}, {'😂': 'face with tears of joy'}, {'😂': 'face with tears of joy'}, {'😍': 'smiling face with heart-eyes', '😂': 'face with tears of joy'}, {'😒': 'unamused face'}, {'❤️': 'red heart', '😭': 'loudly crying face'}, {'😂': 'face with tears of joy'}, {'😧': 'anguished face', '😩': 'weary face'}, {'👱': 'person: blond hair', '🌎': 'globe showing Americas'}, {'😘': 'face blowing a kiss', '😁': 'beaming face with smiling eyes', '😜': 'winking face with tongue'}, {'😍': 'smiling face with heart-eyes'}, {'😆': 'grinning squinting face', '❤️': 'red heart', '😂': 'face with tears of joy'}, {'😴': 'sleeping face'}, {'😩': 'weary face'}, {'😈': 'smiling face with horns'}, {'☔': 'umbrella with rain drops'}, {'🏡': 'house with garden'}, {'😭': 'loudly crying face', '😍': 'smiling face with heart-eyes'}, {'😍': 'smiling face with heart-eyes'}, {'😊': 'smiling face with smiling eyes', '😍': 'smiling face with heart-eyes', '😩': 'weary face'}, {'😩': 'weary face'}, {'😑': 'expressionless face'}, {'😊': 'smiling face with smiling eyes'}, {'😒': 'unamused face'}, {'⚡': 'high voltage'}, {'😊': 'smiling face with smiling eyes'}, {'😣': 'persevering face'}, {'😁': 'beaming face with smiling eyes'}, {'😂': 'face with tears of joy'}, {'😍': 'smiling face with heart-eyes'}, {'😏': 'smirking face'}, {'😒': 'unamused face'}, {'😊': 'smiling face with smiling eyes'}, {'😂': 'face with tears of joy'}, {'😩': 'weary face'}, {'❣': 'heart exclamation', '😊': 'smiling face with smiling eyes'}, {'😑': 'expressionless face'}, {'😔': 'pensive face', '😏': 'smirking face'}, {'😻': 'smiling cat with heart-eyes'}, {'😞': 'disappointed face'}, {'😚': 'kissing face with closed eyes'}, {'❤️': 'red heart', '😐': 'neutral face', '😂': 'face with tears of joy'}, {'😔': 'pensive face'}, {'😂': 'face with tears of joy'}, {'😂': 'face with tears of joy'}, {'😂': 'face with tears of joy'}, {'😌': 'relieved face'}, {'🔬': 'microscope'}, {'😂': 'face with tears of joy'}, {'😭': 'loudly crying face', '😩': 'weary face'}, {'😒': 'unamused face'}, {'😂': 'face with tears of joy'}, {'😁': 'beaming face with smiling eyes'}, {'🤔': 'thinking face'}, {'😒': 'unamused face'}, {'😡': 'pouting face'}, {'😩': 'weary face'}, {'😂': 'face with tears of joy'}, {'😩': 'weary face'}, {'😭': 'loudly crying face', '😍': 'smiling face with heart-eyes'}, {'❤️': 'red heart', '😁': 'beaming face with smiling eyes'}, {'☹': 'frowning face'}, {'🙊': 'speak-no-evil monkey'}, {'😂': 'face with tears of joy'}, {'💩': 'pile of poo'}, {'😷': 'face with medical mask'}, {'♥': 'heart suit'}, {'😒': 'unamused face'}, {'😂': 'face with tears of joy'}, {'😞': 'disappointed face', '😍': 'smiling face with heart-eyes'}, {'😪': 'sleepy face'}, {'😊': 'smiling face with smiling eyes'}, {'😃': 'grinning face with big eyes', '☺': 'smiling face'}, {'😩': 'weary face'}, {'😐': 'neutral face'}, {'😅': 'grinning face with sweat'}, {'😂': 'face with tears of joy'}, {'😕': 'confused face', '😂': 'face with tears of joy', '🅿️': 'P button'}, {'😂': 'face with tears of joy'}, {'😧': 'anguished face'}, {'😞': 'disappointed face', '😭': 'loudly crying face'}, {'😄': 'grinning face with smiling eyes'}, {'😭': 'loudly crying face'}, {'😄': 'grinning face with smiling eyes'}, {'😒': 'unamused face'}, {'🚲': 'bicycle'}, {'😩': 'weary face'}, {'❣': 'heart exclamation'}, {'😭': 'loudly crying face'}, {'💦': 'sweat droplets', '😈': 'smiling face with horns'}, {'❤️': 'red heart', '😂': 'face with tears of joy'}, {'😕': 'confused face'}, {'✋': 'raised hand', '😭': 'loudly crying face', '😂': 'face with tears of joy'}, {'😔': 'pensive face'}, {'😙': 'kissing face with smiling eyes', '❤': 'red heart'}, {'😩': 'weary face'}, {'😂': 'face with tears of joy'}, {'😏': 'smirking face', '😉': 'winking face'}, {'🆘': 'SOS button', '😩': 'weary face'}, {'😊': 'smiling face with smiling eyes'}, {'😂': 'face with tears of joy'}, {'😊': 'smiling face with smiling eyes'}, {'😔': 'pensive face'}, {'😻': 'smiling cat with heart-eyes'}, {'🙄': 'face with rolling eyes'}, {'😄': 'grinning face with smiling eyes'}, {'😡': 'pouting face'}, {'☺️': 'smiling face', '😩': 'weary face'}, {'😍': 'smiling face with heart-eyes', '🙈': 'see-no-evil monkey', '😏': 'smirking face'}, {'❤️': 'red heart', '💁🏼': 'person tipping hand: medium-light skin tone'}, {'🐘': 'elephant'}, {'😂': 'face with tears of joy'}, {'‼️': 'double exclamation mark', '😭': 'loudly crying face', '😂': 'face with tears of joy'}, {'😴': 'sleeping face'}, {'✋': 'raised hand', '😂': 'face with tears of joy'}, {'😂': 'face with tears of joy'}, {'✋': 'raised hand'}, {'🙃': 'upside-down face'}, {'😊': 'smiling face with smiling eyes'}, {'😑': 'expressionless face'}, {'😒': 'unamused face'}, {'😂': 'face with tears of joy'}, {'😠': 'angry face'}, {'🌰': 'chestnut'}, {'😃': 'grinning face with big eyes'}, {'😳': 'flushed face'}, {'😊': 'smiling face with smiling eyes'}, {'😂': 'face with tears of joy'}, {'😁': 'beaming face with smiling eyes'}, {'😶': 'face without mouth'}, {'🚑': 'ambulance'}, {'🍵': 'teacup without handle'}, {'😂': 'face with tears of joy'}, {'😑': 'expressionless face'}, {'😅': 'grinning face with sweat'}, {'☣': 'biohazard'}, {'😂': 'face with tears of joy'}, {'😍': 'smiling face with heart-eyes'}, {'😑': 'expressionless face'}, {'😂': 'face with tears of joy'}, {'😭': 'loudly crying face'}, {'❣': 'heart exclamation'}, {'😊': 'smiling face with smiling eyes'}, {'😁': 'beaming face with smiling eyes'}, {'😁': 'beaming face with smiling eyes'}, {'😔': 'pensive face'}, {'😑': 'expressionless face'}, {'😢': 'crying face'}, {'😂': 'face with tears of joy'}, {'✋': 'raised hand'}, {'😜': 'winking face with tongue'}, {'😡': 'pouting face'}, {'😂': 'face with tears of joy'}, {'😂': 'face with tears of joy'}, {'❤️': 'red heart', '😍': 'smiling face with heart-eyes', '😂': 'face with tears of joy'}, {'😯': 'hushed face'}, {'😌': 'relieved face'}, {'😫': 'tired face'}, {'😩': 'weary face', '🌞': 'sun with face'}, {'❤️': 'red heart', '😘': 'face blowing a kiss'}, {'😂': 'face with tears of joy'}, {'😂': 'face with tears of joy'}, {'✌': 'victory hand', '😊': 'smiling face with smiling eyes', '❤': 'red heart'}, {'☕': 'hot beverage'}, {'😒': 'unamused face'}, {'😠': 'angry face'}, {'😍': 'smiling face with heart-eyes', '😂': 'face with tears of joy'}, {'😕': 'confused face'}, {'😞': 'disappointed face', '😒': 'unamused face', '😷': 'face with medical mask'}, {'😂': 'face with tears of joy'}, {'☹': 'frowning face'}, {'😳': 'flushed face', '😅': 'grinning face with sweat', '😁': 'beaming face with smiling eyes'}, {'😆': 'grinning squinting face'}, {'😭': 'loudly crying face'}, {'😂': 'face with tears of joy'}, {'😂': 'face with tears of joy'}, {'😂': 'face with tears of joy'}, {'☺️': 'smiling face', '😭': 'loudly crying face', '😩': 'weary face'}, {'😔': 'pensive face'}, {'😅': 'grinning face with sweat'}, {'☺️': 'smiling face'}, {'😒': 'unamused face'}, {'😴': 'sleeping face'}, {'🍔': 'hamburger'}, {'😳': 'flushed face', '😶': 'face without mouth'}, {'😍': 'smiling face with heart-eyes'}, {'😅': 'grinning face with sweat'}, {'😍': 'smiling face with heart-eyes'}, {'😍': 'smiling face with heart-eyes'}, {'😩': 'weary face'}, {'😎': 'smiling face with sunglasses'}, {'😐': 'neutral face'}, {'😊': 'smiling face with smiling eyes'}, {'😃': 'grinning face with big eyes'}, {'😈': 'smiling face with horns', '😍': 'smiling face with heart-eyes'}, {'😃': 'grinning face with big eyes', '❤': 'red heart'}, {'✔': 'check mark'}, {'™': 'trade mark'}, {'😔': 'pensive face'}, {'😂': 'face with tears of joy'}, {'🎁': 'wrapped gift', '🎄': 'Christmas tree', '🎅': 'Santa Claus'}, {'😂': 'face with tears of joy'}, {'‼️': 'double exclamation mark'}, {'😂': 'face with tears of joy'}, {'❤': 'red heart'}, {'😊': 'smiling face with smiling eyes'}, {'✨': 'sparkles'}, {'🐚': 'spiral shell', '🌸': 'cherry blossom', '😚': 'kissing face with closed eyes'}, {'😶': 'face without mouth'}, {'❤️': 'red heart', '😩': 'weary face', '😂': 'face with tears of joy'}, {'😍': 'smiling face with heart-eyes'}, {'😒': 'unamused face'}, {'😝': 'squinting face with tongue'}, {'😒': 'unamused face'}, {'❤️': 'red heart'}, {'😑': 'expressionless face'}, {'😂': 'face with tears of joy'}, {'😅': 'grinning face with sweat'}, {'✈️': 'airplane'}, {'😫': 'tired face'}, {'🚬': 'cigarette', '😷': 'face with medical mask'}, {'😂': 'face with tears of joy'}, {'✋': 'raised hand'}, {'😂': 'face with tears of joy'}, {'😔': 'pensive face'}, {'😪': 'sleepy face'}, {'💳': 'credit card'}, {'✌️': 'victory hand'}, {'😭': 'loudly crying face', '😍': 'smiling face with heart-eyes'}, {'😫': 'tired face', '😩': 'weary face'}, {'🌊': 'water wave'}, {'😁': 'beaming face with smiling eyes', '😍': 'smiling face with heart-eyes'}, {'😄': 'grinning face with smiling eyes'}, {'✌️': 'victory hand'}, {'😀': 'grinning face'}, {'😉': 'winking face'}, {'😝': 'squinting face with tongue'}, {'✝': 'latin cross', '🤑': 'money-mouth face'}, {'😎': 'smiling face with sunglasses'}, {'😭': 'loudly crying face'}, {'😂': 'face with tears of joy'}, {'😑': 'expressionless face'}, {'😂': 'face with tears of joy'}, {'😒': 'unamused face', '😂': 'face with tears of joy'}, {'😭': 'loudly crying face'}, {'😡': 'pouting face'}, {'😈': 'smiling face with horns'}, {'😘': 'face blowing a kiss', '😉': 'winking face'}, {'😁': 'beaming face with smiling eyes'}, {'🏈': 'american football'}, {'😩': 'weary face', '😜': 'winking face with tongue'}, {'😊': 'smiling face with smiling eyes'}, {'😩': 'weary face'}, {'😂': 'face with tears of joy'}, {'😈': 'smiling face with horns'}, {'😑': 'expressionless face'}, {'😀': 'grinning face'}, {'😡': 'pouting face'}, {'😂': 'face with tears of joy'}, {'👋': 'waving hand', '😑': 'expressionless face'}, {'😾': 'pouting cat'}, {'😊': 'smiling face with smiling eyes'}, {'😫': 'tired face', '😑': 'expressionless face'}, {'😂': 'face with tears of joy'}, {'☺️': 'smiling face'}, {'😳': 'flushed face'}, {'😂': 'face with tears of joy'}, {'☺️': 'smiling face'}, {'😌': 'relieved face'}, {'😂': 'face with tears of joy'}, {'😅': 'grinning face with sweat'}, {'✌': 'victory hand', '😒': 'unamused face'}, {'😭': 'loudly crying face', '😔': 'pensive face'}, {'😭': 'loudly crying face', '😒': 'unamused face'}, {'😂': 'face with tears of joy'}, {'😅': 'grinning face with sweat'}, {'😷': 'face with medical mask', '😒': 'unamused face', '😩': 'weary face'}, {'😍': 'smiling face with heart-eyes'}, {'😂': 'face with tears of joy'}, {'😊': 'smiling face with smiling eyes', '😉': 'winking face'}, {'❤': 'red heart'}, {'😩': 'weary face'}, {'😖': 'confounded face'}, {'😒': 'unamused face'}, {'😡': 'pouting face', '😒': 'unamused face'}, {'😊': 'smiling face with smiling eyes'}, {'☺️': 'smiling face'}, {'♥': 'heart suit'}, {'😩': 'weary face'}, {'😭': 'loudly crying face'}, {'😴': 'sleeping face'}, {'😘': 'face blowing a kiss', '☺️': 'smiling face'}, {'😒': 'unamused face'}, {'😄': 'grinning face with smiling eyes'}, {'😩': 'weary face'}, {'😌': 'relieved face'}, {'💙': 'blue heart'}, {'😷': 'face with medical mask'}, {'😑': 'expressionless face'}, {'☄': 'comet'}, {'😷': 'face with medical mask'}, {'😂': 'face with tears of joy'}, {'😝': 'squinting face with tongue'}, {'😚': 'kissing face with closed eyes'}, {'😂': 'face with tears of joy', '😑': 'expressionless face'}, {'😚': 'kissing face with closed eyes'}, {'😪': 'sleepy face'}, {'✋': 'raised hand'}, {'🙀': 'weary cat', '😹': 'cat with tears of joy'}, {'☝️': 'index pointing up'}, {'😊': 'smiling face with smiling eyes'}, {'😒': 'unamused face'}, {'👌': 'OK hand'}, {'😭': 'loudly crying face'}, {'😂': 'face with tears of joy'}, {'😌': 'relieved face'}, {'😕': 'confused face'}, {'😊': 'smiling face with smiling eyes'}, {'😭': 'loudly crying face'}, {'😍': 'smiling face with heart-eyes', '😩': 'weary face'}, {'😡': 'pouting face'}, {'🇯🇵': 'flag: Japan'}, {'😛': 'face with tongue'}, {'🎯': 'bullseye'}, {'😊': 'smiling face with smiling eyes'}, {'😅': 'grinning face with sweat'}, {'😭': 'loudly crying face'}, {'✋': 'raised hand', '😂': 'face with tears of joy'}, {'😒': 'unamused face'}, {'😢': 'crying face', '😩': 'weary face'}, {'😕': 'confused face', '😂': 'face with tears of joy'}, {'😒': 'unamused face', '😍': 'smiling face with heart-eyes'}, {'😄': 'grinning face with smiling eyes', '😭': 'loudly crying face', '😍': 'smiling face with heart-eyes', '😂': 'face with tears of joy'}, {'😷': 'face with medical mask', '😂': 'face with tears of joy'}, {'😩': 'weary face'}, {'😕': 'confused face'}, {'😂': 'face with tears of joy'}, {'😈': 'smiling face with horns'}, {'🏆': 'trophy'}, {'😊': 'smiling face with smiling eyes'}, {'😍': 'smiling face with heart-eyes', '❤': 'red heart'}, {'🌞': 'sun with face'}, {'😳': 'flushed face'}, {'😑': 'expressionless face'}, {'🎂': 'birthday cake'}, {'❤️': 'red heart', '😀': 'grinning face'}, {'😭': 'loudly crying face'}, {'😍': 'smiling face with heart-eyes'}, {'😫': 'tired face', '😭': 'loudly crying face', '😔': 'pensive face', '😑': 'expressionless face'}, {'😂': 'face with tears of joy'}, {'😼': 'cat with wry smile', '🤑': 'money-mouth face'}, {'❤️': 'red heart', '😒': 'unamused face'}, {'❤️': 'red heart', '😅': 'grinning face with sweat'}, {'😩': 'weary face'}, {'❤️': 'red heart'}, {'😈': 'smiling face with horns'}, {'✋': 'raised hand'}, {'😂': 'face with tears of joy'}, {'😫': 'tired face'}, {'😫': 'tired face', '😓': 'downcast face with sweat'}, {'😍': 'smiling face with heart-eyes'}, {'😀': 'grinning face'}, {'😍': 'smiling face with heart-eyes'}, {'😊': 'smiling face with smiling eyes', '😭': 'loudly crying face', '😂': 'face with tears of joy'}, {'😳': 'flushed face', '☺️': 'smiling face', '😭': 'loudly crying face'}, {'😭': 'loudly crying face', '😍': 'smiling face with heart-eyes'}, {'😊': 'smiling face with smiling eyes', '😭': 'loudly crying face'}, {'😭': 'loudly crying face'}, {'😪': 'sleepy face'}, {'😂': 'face with tears of joy'}, {'🤑': 'money-mouth face'}, {'😭': 'loudly crying face'}, {'😭': 'loudly crying face'}, {'😂': 'face with tears of joy'}, {'😁': 'beaming face with smiling eyes'}, {'😒': 'unamused face'}, {'😌': 'relieved face'}, {'😌': 'relieved face'}, {'😔': 'pensive face'}, {'😒': 'unamused face'}, {'😂': 'face with tears of joy'}, {'😴': 'sleeping face', '🚛': 'articulated lorry'}, {'😩': 'weary face'}, {'😭': 'loudly crying face'}, {'😩': 'weary face'}, {'😩': 'weary face'}, {'👆': 'backhand index pointing up'}, {'😞': 'disappointed face'}, {'✌️': 'victory hand'}, {'☺️': 'smiling face'}, {'😂': 'face with tears of joy'}, {'💙': 'blue heart'}, {'😂': 'face with tears of joy'}, {'😊': 'smiling face with smiling eyes'}, {'😅': 'grinning face with sweat', '✌️': 'victory hand'}, {'😰': 'anxious face with sweat'}, {'😒': 'unamused face'}, {'😒': 'unamused face'}, {'😂': 'face with tears of joy'}, {'😂': 'face with tears of joy'}, {'😍': 'smiling face with heart-eyes'}, {'😭': 'loudly crying face', '😂': 'face with tears of joy'}, {'😴': 'sleeping face'}, {'☺️': 'smiling face'}, {'😇': 'smiling face with halo'}, {'😒': 'unamused face', '😂': 'face with tears of joy'}, {'😟': 'worried face', '😂': 'face with tears of joy'}, {'🎊': 'confetti ball'}, {'😏': 'smirking face'}, {'😩': 'weary face'}, {'⛵': 'sailboat'}, {'👉🏿': 'backhand index pointing right: dark skin tone', '🎵': 'musical note', '📹': 'video camera'}, {'😴': 'sleeping face', '😏': 'smirking face'}, {'😂': 'face with tears of joy'}, {'😊': 'smiling face with smiling eyes'}, {'😁': 'beaming face with smiling eyes'}, {'😑': 'expressionless face'}, {'😁': 'beaming face with smiling eyes'}, {'😭': 'loudly crying face'}, {'❤️': 'red heart'}, {'😪': 'sleepy face'}, {'😡': 'pouting face', '😢': 'crying face'}, {'😂': 'face with tears of joy'}, {'😔': 'pensive face'}, {'😩': 'weary face', '😂': 'face with tears of joy'}, {'😂': 'face with tears of joy'}, {'😀': 'grinning face'}, {'😡': 'pouting face', '✌': 'victory hand', '😢': 'crying face', '😒': 'unamused face'}, {'😷': 'face with medical mask', '😣': 'persevering face'}, {'💙': 'blue heart', '❤': 'red heart'}, {'😊': 'smiling face with smiling eyes', '☝️': 'index pointing up'}, {'😩': 'weary face'}, {'❤️': 'red heart'}, {'😊': 'smiling face with smiling eyes'}, {'😐': 'neutral face'}, {'😄': 'grinning face with smiling eyes'}, {'😞': 'disappointed face', '😒': 'unamused face'}, {'❤️': 'red heart'}, {'👉': 'backhand index pointing right', '✊': 'raised fist', '😂': 'face with tears of joy', '✋': 'raised hand', '😩': 'weary face'}, {'😎': 'smiling face with sunglasses'}, {'😡': 'pouting face'}, {'😒': 'unamused face'}, {'😡': 'pouting face', '😣': 'persevering face'}, {'☺️': 'smiling face'}, {'😅': 'grinning face with sweat'}, {'😰': 'anxious face with sweat'}, {'😑': 'expressionless face'}, {'😑': 'expressionless face'}, {'😈': 'smiling face with horns'}, {'😒': 'unamused face'}, {'😑': 'expressionless face'}, {'😑': 'expressionless face'}, {'😠': 'angry face'}, {'😅': 'grinning face with sweat'}, {'😑': 'expressionless face'}, {'☺️': 'smiling face'}, {'😌': 'relieved face'}, {'😑': 'expressionless face'}, {'😑': 'expressionless face'}, {'😐': 'neutral face'}, {'😒': 'unamused face'}, {'😌': 'relieved face', '😇': 'smiling face with halo'}, {'😈': 'smiling face with horns'}, {'😌': 'relieved face'}, {'😕': 'confused face'}, {'😷': 'face with medical mask'}, {'😡': 'pouting face'}, {'😅': 'grinning face with sweat'}, {'😕': 'confused face'}, {'😭': 'loudly crying face'}, {'😂': 'face with tears of joy'}, {'😢': 'crying face'}, {'😊': 'smiling face with smiling eyes'}, {'✨': 'sparkles'}, {'❤️': 'red heart'}, {'😭': 'loudly crying face', '😑': 'expressionless face'}, {'😣': 'persevering face'}, {'😁': 'beaming face with smiling eyes'}, {'😄': 'grinning face with smiling eyes'}, {'😞': 'disappointed face'}, {'😰': 'anxious face with sweat', '😭': 'loudly crying face', '😂': 'face with tears of joy'}, {'✏️': 'pencil', '📤': 'outbox tray', '📥': 'inbox tray'}, {'😂': 'face with tears of joy'}, {'😂': 'face with tears of joy'}, {'😂': 'face with tears of joy'}, {'😂': 'face with tears of joy'}, {'😩': 'weary face'}, {'😒': 'unamused face'}, {'❤️': 'red heart', '😴': 'sleeping face', '😒': 'unamused face', '😑': 'expressionless face'}, {'😒': 'unamused face'}, {'❤️': 'red heart'}, {'😍': 'smiling face with heart-eyes', '😩': 'weary face'}, {'😻': 'smiling cat with heart-eyes'}, {'😍': 'smiling face with heart-eyes'}, {'😻': 'smiling cat with heart-eyes'}, {'😍': 'smiling face with heart-eyes', '😩': 'weary face'}, {'😩': 'weary face'}, {'😭': 'loudly crying face'}, {'😭': 'loudly crying face'}, {'😊': 'smiling face with smiling eyes'}, {'😩': 'weary face'}, {'✔️': 'check mark'}, {'☺️': 'smiling face', '😒': 'unamused face'}, {'😊': 'smiling face with smiling eyes'}, {'😑': 'expressionless face'}, {'😭': 'loudly crying face'}, {'😊': 'smiling face with smiling eyes', '🌞': 'sun with face'}, {'☕': 'hot beverage'}, {'❤️': 'red heart'}, {'😊': 'smiling face with smiling eyes'}, {'😁': 'beaming face with smiling eyes', '😂': 'face with tears of joy'}, {'😁': 'beaming face with smiling eyes'}, {'😊': 'smiling face with smiling eyes'}, {'😅': 'grinning face with sweat', '😕': 'confused face'}, {'😷': 'face with medical mask'}, {'☺️': 'smiling face'}, {'😊': 'smiling face with smiling eyes', '😍': 'smiling face with heart-eyes'}, {'😳': 'flushed face'}, {'😒': 'unamused face'}, {'😁': 'beaming face with smiling eyes'}, {'😔': 'pensive face'}, {'😊': 'smiling face with smiling eyes'}, {'😅': 'grinning face with sweat'}, {'😋': 'face savoring food'}, {'😌': 'relieved face'}, {'😩': 'weary face'}, {'😈': 'smiling face with horns'}, {'😩': 'weary face'}, {'😊': 'smiling face with smiling eyes'}, {'😒': 'unamused face'}, {'😊': 'smiling face with smiling eyes'}, {'😊': 'smiling face with smiling eyes'}, {'😊': 'smiling face with smiling eyes'}, {'😭': 'loudly crying face', '😍': 'smiling face with heart-eyes'}, {'😊': 'smiling face with smiling eyes'}, {'😊': 'smiling face with smiling eyes'}, {'😁': 'beaming face with smiling eyes', '😩': 'weary face'}, {'😍': 'smiling face with heart-eyes'}, {'😒': 'unamused face'}, {'😒': 'unamused face'}, {'😊': 'smiling face with smiling eyes'}, {'😂': 'face with tears of joy'}, {'😂': 'face with tears of joy'}, {'😒': 'unamused face'}, {'😑': 'expressionless face'}, {'😊': 'smiling face with smiling eyes'}, {'😂': 'face with tears of joy'}, {'😊': 'smiling face with smiling eyes'}, {'😖': 'confounded face', '😒': 'unamused face'}, {'😒': 'unamused face'}, {'😣': 'persevering face', '😒': 'unamused face', '😠': 'angry face'}, {'😅': 'grinning face with sweat'}, {'😂': 'face with tears of joy'}, {'😅': 'grinning face with sweat'}, {'😄': 'grinning face with smiling eyes'}, {'😍': 'smiling face with heart-eyes'}, {'😍': 'smiling face with heart-eyes'}, {'😒': 'unamused face', '😠': 'angry face'}, {'😈': 'smiling face with horns'}, {'😓': 'downcast face with sweat'}, {'🚫': 'prohibited'}, {'😒': 'unamused face'}, {'😐': 'neutral face'}, {'😩': 'weary face', '😂': 'face with tears of joy', '👄': 'mouth'}, {'✔': 'check mark', '✅': 'check mark button'}, {'‼️': 'double exclamation mark'}, {'😂': 'face with tears of joy'}, {'😏': 'smirking face'}, {'😩': 'weary face'}, {'😧': 'anguished face'}, {'😎': 'smiling face with sunglasses'}, {'😅': 'grinning face with sweat'}, {'♥': 'heart suit'}, {'😂': 'face with tears of joy'}, {'😔': 'pensive face'}, {'😊': 'smiling face with smiling eyes'}, {'😴': 'sleeping face'}, {'👐': 'open hands'}, {'😡': 'pouting face'}, {'😂': 'face with tears of joy'}, {'😭': 'loudly crying face', '😂': 'face with tears of joy'}, {'😝': 'squinting face with tongue'}, {'💕': 'two hearts'}, {'😊': 'smiling face with smiling eyes'}, {'😅': 'grinning face with sweat'}, {'😅': 'grinning face with sweat'}, {'😒': 'unamused face'}, {'😄': 'grinning face with smiling eyes'}, {'😄': 'grinning face with smiling eyes'}, {'☔': 'umbrella with rain drops'}, {'😄': 'grinning face with smiling eyes'}, {'😷': 'face with medical mask'}, {'😅': 'grinning face with sweat'}, {'😁': 'beaming face with smiling eyes'}, {'❤️': 'red heart'}, {'😊': 'smiling face with smiling eyes'}, {'😂': 'face with tears of joy'}, {'😅': 'grinning face with sweat'}, {'😅': 'grinning face with sweat', '☺️': 'smiling face'}, {'😭': 'loudly crying face', '😩': 'weary face'}, {'😒': 'unamused face'}, {'😂': 'face with tears of joy'}, {'😅': 'grinning face with sweat'}, {'☺️': 'smiling face'}, {'🖕🏼': 'middle finger: medium-light skin tone'}, {'😢': 'crying face'}, {'😉': 'winking face'}, {'😊': 'smiling face with smiling eyes'}, {'😅': 'grinning face with sweat'}, {'😭': 'loudly crying face'}, {'💁🏽': 'person tipping hand: medium skin tone'}, {'☺️': 'smiling face'}, {'😔': 'pensive face'}, {'😢': 'crying face'}, {'😊': 'smiling face with smiling eyes'}, {'😂': 'face with tears of joy'}, {'☺️': 'smiling face'}, {'😌': 'relieved face'}, {'😭': 'loudly crying face', '😂': 'face with tears of joy'}, {'😂': 'face with tears of joy'}, {'😩': 'weary face'}, {'💦': 'sweat droplets', '🏋': 'person lifting weights'}, {'😢': 'crying face', '😭': 'loudly crying face', '😍': 'smiling face with heart-eyes'}, {'✔': 'check mark'}, {'⚽': 'soccer ball', '😭': 'loudly crying face', '🕸': 'spider web'}, {'😒': 'unamused face', '😂': 'face with tears of joy'}, {'🆒': 'COOL button'}, {'✋': 'raised hand', '😂': 'face with tears of joy'}, {'😅': 'grinning face with sweat'}, {'😂': 'face with tears of joy'}, {'😴': 'sleeping face', '❤️': 'red heart'}, {'😂': 'face with tears of joy'}, {'😒': 'unamused face'}, {'😍': 'smiling face with heart-eyes'}, {'😹': 'cat with tears of joy'}, {'😋': 'face savoring food'}, {'☁': 'cloud', '☀': 'sun', '😒': 'unamused face'}, {'😂': 'face with tears of joy'}, {'😭': 'loudly crying face', '😒': 'unamused face', '😩': 'weary face'}, {'😌': 'relieved face'}, {'😝': 'squinting face with tongue', '😏': 'smirking face'}, {'😃': 'grinning face with big eyes'}, {'😂': 'face with tears of joy'}, {'😃': 'grinning face with big eyes'}, {'🍾': 'bottle with popping cork', '❣': 'heart exclamation'}, {'😊': 'smiling face with smiling eyes'}, {'😒': 'unamused face'}, {'😂': 'face with tears of joy'}, {'😊': 'smiling face with smiling eyes'}, {'😍': 'smiling face with heart-eyes'}, {'😊': 'smiling face with smiling eyes'}, {'🐔': 'chicken', '🏈': 'american football'}, {'😅': 'grinning face with sweat'}, {'☹': 'frowning face'}, {'😔': 'pensive face', '😩': 'weary face'}, {'❤️': 'red heart', '😂': 'face with tears of joy'}, {'👓': 'glasses'}, {'😭': 'loudly crying face', '😩': 'weary face'}, {'😣': 'persevering face'}, {'😂': 'face with tears of joy'}, {'😂': 'face with tears of joy'}, {'😂': 'face with tears of joy'}, {'😂': 'face with tears of joy'}, {'😔': 'pensive face'}, {'😉': 'winking face'}, {'😴': 'sleeping face', '😏': 'smirking face'}, {'😭': 'loudly crying face'}, {'😊': 'smiling face with smiling eyes'}, {'😍': 'smiling face with heart-eyes'}, {'😐': 'neutral face', '😂': 'face with tears of joy'}, {'🚶': 'person walking'}, {'💙': 'blue heart', '😭': 'loudly crying face'}, {'😩': 'weary face'}, {'😍': 'smiling face with heart-eyes'}, {'😊': 'smiling face with smiling eyes'}, {'😀': 'grinning face'}, {'😂': 'face with tears of joy'}, {'😔': 'pensive face'}, {'😕': 'confused face'}, {'😂': 'face with tears of joy'}, {'😡': 'pouting face'}, {'☺️': 'smiling face', '😒': 'unamused face'}, {'😂': 'face with tears of joy'}, {'😅': 'grinning face with sweat'}, {'❤': 'red heart'}, {'🙄': 'face with rolling eyes'}, {'😪': 'sleepy face', '😂': 'face with tears of joy'}, {'♥': 'heart suit'}, {'🦄': 'unicorn'}, {'😒': 'unamused face'}, {'😭': 'loudly crying face', '😂': 'face with tears of joy'}, {'😡': 'pouting face'}, {'😅': 'grinning face with sweat'}, {'✌️': 'victory hand'}, {'😒': 'unamused face'}, {'😫': 'tired face', '🍺': 'beer mug', '🍻': 'clinking beer mugs', '🍃': 'leaf fluttering in wind'}, {'😭': 'loudly crying face'}, {'😂': 'face with tears of joy'}, {'😭': 'loudly crying face', '😔': 'pensive face'}, {'✌️': 'victory hand', '🎵': 'musical note'}, {'😂': 'face with tears of joy'}, {'😍': 'smiling face with heart-eyes'}, {'🎥': 'movie camera', '📹': 'video camera'}, {'😭': 'loudly crying face'}, {'😑': 'expressionless face'}, {'😊': 'smiling face with smiling eyes'}, {'😑': 'expressionless face'}, {'😑': 'expressionless face'}, {'😂': 'face with tears of joy'}, {'😁': 'beaming face with smiling eyes'}, {'😐': 'neutral face'}, {'😂': 'face with tears of joy'}, {'❤️': 'red heart', '😭': 'loudly crying face'}, {'😷': 'face with medical mask'}, {'😭': 'loudly crying face', '😂': 'face with tears of joy'}, {'👨': 'man', '👼': 'baby angel', '👪': 'family', '👳': 'person wearing turban', '👫': 'woman and man holding hands', '😉': 'winking face', '👴': 'old man', '🚫': 'prohibited', '👩': 'woman', '👧': 'girl', '👱': 'person: blond hair', '🚶': 'person walking', '👶': 'baby', '👦': 'boy', '👵': 'old woman'}, {'😂': 'face with tears of joy'}, {'😡': 'pouting face'}, {'🐘': 'elephant'}, {'😭': 'loudly crying face'}, {'❤️': 'red heart'}, {'😍': 'smiling face with heart-eyes'}, {'😍': 'smiling face with heart-eyes'}, {'😒': 'unamused face'}, {'😒': 'unamused face'}, {'😕': 'confused face'}, {'❤️': 'red heart'}, {'😂': 'face with tears of joy'}, {'😪': 'sleepy face'}, {'😢': 'crying face', '😂': 'face with tears of joy'}, {'😂': 'face with tears of joy', '😩': 'weary face'}, {'😏': 'smirking face'}, {'😂': 'face with tears of joy'}, {'☺': 'smiling face'}, {'😡': 'pouting face'}, {'😭': 'loudly crying face', '😂': 'face with tears of joy'}, {'😂': 'face with tears of joy'}, {'😴': 'sleeping face', '😒': 'unamused face'}, {'😒': 'unamused face'}, {'😂': 'face with tears of joy'}, {'😃': 'grinning face with big eyes'}, {'☹': 'frowning face'}, {'😕': 'confused face'}, {'😐': 'neutral face'}, {'😍': 'smiling face with heart-eyes'}, {'😂': 'face with tears of joy'}, {'😀': 'grinning face'}, {'😡': 'pouting face'}, {'😓': 'downcast face with sweat'}, {'💧': 'droplet', '☔': 'umbrella with rain drops'}, {'😄': 'grinning face with smiling eyes'}, {'😒': 'unamused face'}, {'🎥': 'movie camera'}, {'😔': 'pensive face'}, {'❤️': 'red heart', '😊': 'smiling face with smiling eyes', '😍': 'smiling face with heart-eyes'}, {'😂': 'face with tears of joy'}, {'😴': 'sleeping face'}, {'😂': 'face with tears of joy'}, {'😒': 'unamused face'}, {'😳': 'flushed face'}, {'😂': 'face with tears of joy'}, {'😳': 'flushed face'}, {'😭': 'loudly crying face'}, {'😩': 'weary face'}, {'😴': 'sleeping face'}, {'😩': 'weary face'}, {'🤕': 'face with head-bandage'}, {'👨': 'man'}, {'😂': 'face with tears of joy'}, {'😊': 'smiling face with smiling eyes'}, {'😁': 'beaming face with smiling eyes'}, {'❤️': 'red heart', '😭': 'loudly crying face'}, {'😧': 'anguished face'}, {'🍀': 'four leaf clover'}, {'😂': 'face with tears of joy'}, {'😭': 'loudly crying face'}, {'😖': 'confounded face', '😣': 'persevering face'}, {'🔫': 'water pistol', '😁': 'beaming face with smiling eyes'}, {'😴': 'sleeping face', '😑': 'expressionless face', '😩': 'weary face'}, {'😂': 'face with tears of joy'}, {'😂': 'face with tears of joy'}, {'😭': 'loudly crying face', '😂': 'face with tears of joy'}, {'😩': 'weary face'}, {'😂': 'face with tears of joy'}, {'😴': 'sleeping face', '😭': 'loudly crying face', '😂': 'face with tears of joy'}, {'😒': 'unamused face'}, {'😑': 'expressionless face'}, {'😩': 'weary face'}, {'😍': 'smiling face with heart-eyes'}, {'❤': 'red heart'}, {'😴': 'sleeping face'}, {'😑': 'expressionless face'}, {'😍': 'smiling face with heart-eyes'}, {'😒': 'unamused face', '😑': 'expressionless face', '😩': 'weary face'}, {'☹️': 'frowning face'}, {'😴': 'sleeping face', '😂': 'face with tears of joy'}, {'😘': 'face blowing a kiss', '😊': 'smiling face with smiling eyes', '😍': 'smiling face with heart-eyes'}, {'✌️': 'victory hand'}, {'💙': 'blue heart', '👼': 'baby angel'}, {'😑': 'expressionless face'}, {'😂': 'face with tears of joy'}, {'😉': 'winking face'}, {'😂': 'face with tears of joy'}, {'😂': 'face with tears of joy'}, {'😴': 'sleeping face'}, {'😌': 'relieved face'}, {'😡': 'pouting face', '😒': 'unamused face'}, {'😂': 'face with tears of joy'}, {'😄': 'grinning face with smiling eyes'}, {'😊': 'smiling face with smiling eyes'}, {'😉': 'winking face'}, {'😊': 'smiling face with smiling eyes'}, {'😸': 'grinning cat with smiling eyes'}, {'😂': 'face with tears of joy'}, {'😂': 'face with tears of joy'}, {'😘': 'face blowing a kiss'}, {'😄': 'grinning face with smiling eyes'}, {'😆': 'grinning squinting face', '😂': 'face with tears of joy'}, {'😅': 'grinning face with sweat'}, {'😭': 'loudly crying face', '😂': 'face with tears of joy'}, {'😭': 'loudly crying face', '😂': 'face with tears of joy'}, {'👍': 'thumbs up'}, {'😂': 'face with tears of joy'}, {'😭': 'loudly crying face', '😩': 'weary face'}, {'😝': 'squinting face with tongue'}, {'😂': 'face with tears of joy'}, {'❤': 'red heart'}, {'❤️': 'red heart', '😉': 'winking face'}, {'😡': 'pouting face'}, {'😭': 'loudly crying face'}, {'✔': 'check mark'}, {'🚲': 'bicycle'}, {'😊': 'smiling face with smiling eyes'}, {'😪': 'sleepy face'}, {'😂': 'face with tears of joy'}, {'😷': 'face with medical mask'}, {'💦': 'sweat droplets', '😂': 'face with tears of joy', '🍆': 'eggplant'}, {'😒': 'unamused face'}, {'😡': 'pouting face', '😒': 'unamused face'}, {'😰': 'anxious face with sweat', '😷': 'face with medical mask', '😔': 'pensive face'}, {'😒': 'unamused face'}, {'😋': 'face savoring food'}, {'😕': 'confused face'}, {'😑': 'expressionless face'}, {'❄️': 'snowflake'}, {'✋': 'raised hand', '😒': 'unamused face'}, {'😒': 'unamused face', '😩': 'weary face'}, {'😕': 'confused face'}, {'😂': 'face with tears of joy'}, {'😏': 'smirking face'}, {'😑': 'expressionless face'}, {'🍒': 'cherries', '😒': 'unamused face'}, {'😒': 'unamused face', '😠': 'angry face'}, {'😂': 'face with tears of joy'}, {'😘': 'face blowing a kiss', '😔': 'pensive face'}, {'😭': 'loudly crying face'}, {'❤️': 'red heart', '😉': 'winking face'}, {'😂': 'face with tears of joy'}, {'😍': 'smiling face with heart-eyes'}, {'😂': 'face with tears of joy'}, {'😆': 'grinning squinting face', '😂': 'face with tears of joy'}, {'😅': 'grinning face with sweat', '😒': 'unamused face'}, {'😇': 'smiling face with halo'}, {'😊': 'smiling face with smiling eyes'}, {'😭': 'loudly crying face'}, {'😭': 'loudly crying face'}, {'😩': 'weary face', '😂': 'face with tears of joy'}, {'😕': 'confused face'}, {'😊': 'smiling face with smiling eyes'}, {'😂': 'face with tears of joy'}, {'😂': 'face with tears of joy'}, {'😢': 'crying face'}, {'😙': 'kissing face with smiling eyes'}, {'😁': 'beaming face with smiling eyes', '😂': 'face with tears of joy'}, {'😂': 'face with tears of joy'}, {'😂': 'face with tears of joy'}, {'😩': 'weary face'}, {'😎': 'smiling face with sunglasses'}, {'✋': 'raised hand', '😒': 'unamused face'}, {'😂': 'face with tears of joy'}, {'😁': 'beaming face with smiling eyes'}, {'😍': 'smiling face with heart-eyes'}, {'💙': 'blue heart'}, {'😁': 'beaming face with smiling eyes', '😊': 'smiling face with smiling eyes', '😂': 'face with tears of joy'}, {'✌': 'victory hand'}, {'😭': 'loudly crying face'}, {'😷': 'face with medical mask'}, {'😂': 'face with tears of joy'}, {'😾': 'pouting cat', '😀': 'grinning face'}, {'😘': 'face blowing a kiss'}, {'😅': 'grinning face with sweat'}, {'😊': 'smiling face with smiling eyes'}, {'😅': 'grinning face with sweat'}, {'😃': 'grinning face with big eyes', '😍': 'smiling face with heart-eyes'}, {'😃': 'grinning face with big eyes'}, {'🆒': 'COOL button'}, {'😩': 'weary face'}, {'😊': 'smiling face with smiling eyes'}, {'😢': 'crying face'}, {'😒': 'unamused face'}, {'☺️': 'smiling face', '😍': 'smiling face with heart-eyes'}, {'😘': 'face blowing a kiss'}, {'😂': 'face with tears of joy'}, {'✋': 'raised hand'}, {'😅': 'grinning face with sweat'}, {'😭': 'loudly crying face', '😑': 'expressionless face'}, {'😩': 'weary face'}, {'😴': 'sleeping face'}, {'😕': 'confused face'}, {'😂': 'face with tears of joy'}, {'😕': 'confused face'}, {'😔': 'pensive face'}, {'😝': 'squinting face with tongue', '😘': 'face blowing a kiss', '😈': 'smiling face with horns', '😂': 'face with tears of joy'}, {'😭': 'loudly crying face', '😩': 'weary face'}, {'😂': 'face with tears of joy', '😩': 'weary face'}, {'😰': 'anxious face with sweat', '😭': 'loudly crying face', '😂': 'face with tears of joy'}, {'😒': 'unamused face'}, {'😩': 'weary face'}, {'😁': 'beaming face with smiling eyes'}, {'😘': 'face blowing a kiss'}, {'😁': 'beaming face with smiling eyes'}, {'😄': 'grinning face with smiling eyes'}, {'😂': 'face with tears of joy'}, {'😂': 'face with tears of joy'}, {'😭': 'loudly crying face', '😂': 'face with tears of joy'}, {'😂': 'face with tears of joy'}, {'😂': 'face with tears of joy'}, {'😩': 'weary face'}, {'😩': 'weary face', '😂': 'face with tears of joy'}, {'😍': 'smiling face with heart-eyes'}, {'😊': 'smiling face with smiling eyes'}, {'😁': 'beaming face with smiling eyes'}, {'😊': 'smiling face with smiling eyes'}, {'😂': 'face with tears of joy'}, {'😭': 'loudly crying face'}, {'😂': 'face with tears of joy'}, {'😅': 'grinning face with sweat', '😂': 'face with tears of joy'}, {'😂': 'face with tears of joy'}, {'😌': 'relieved face'}, {'😑': 'expressionless face'}, {'😥': 'sad but relieved face', '😢': 'crying face'}, {'😒': 'unamused face'}, {'😳': 'flushed face', '😭': 'loudly crying face', '😩': 'weary face'}, {'😍': 'smiling face with heart-eyes'}, {'😅': 'grinning face with sweat'}, {'😞': 'disappointed face'}, {'😄': 'grinning face with smiling eyes'}, {'🤐': 'zipper-mouth face', '🤔': 'thinking face', '😗': 'kissing face', '🙄': 'face with rolling eyes'}, {'😁': 'beaming face with smiling eyes', '😋': 'face savoring food', '🕷': 'spider', '🐛': 'bug', '🐍': 'snake'}, {'😊': 'smiling face with smiling eyes'}, {'😀': 'grinning face'}, {'😊': 'smiling face with smiling eyes'}, {'❣': 'heart exclamation'}, {'😘': 'face blowing a kiss'}, {'😊': 'smiling face with smiling eyes'}, {'😊': 'smiling face with smiling eyes'}, {'😷': 'face with medical mask'}, {'😂': 'face with tears of joy'}, {'😊': 'smiling face with smiling eyes'}, {'😂': 'face with tears of joy'}, {'😂': 'face with tears of joy'}, {'☹': 'frowning face'}, {'☺️': 'smiling face'}, {'😔': 'pensive face'}, {'😳': 'flushed face'}, {'😑': 'expressionless face'}, {'😅': 'grinning face with sweat'}, {'😃': 'grinning face with big eyes'}, {'😞': 'disappointed face'}, {'😊': 'smiling face with smiling eyes'}, {'☺️': 'smiling face'}, {'🙍': 'person frowning'}, {'😒': 'unamused face'}, {'😅': 'grinning face with sweat'}, {'😊': 'smiling face with smiling eyes'}, {'😂': 'face with tears of joy', '😩': 'weary face'}, {'❤️': 'red heart'}, {'😂': 'face with tears of joy'}, {'😊': 'smiling face with smiling eyes'}, {'😩': 'weary face', '😏': 'smirking face'}, {'😠': 'angry face'}, {'😒': 'unamused face'}, {'❤️': 'red heart'}, {'😊': 'smiling face with smiling eyes'}, {'😊': 'smiling face with smiling eyes'}, {'☺️': 'smiling face'}, {'😒': 'unamused face'}, {'😪': 'sleepy face', '😕': 'confused face'}, {'😍': 'smiling face with heart-eyes'}, {'😖': 'confounded face', '😐': 'neutral face'}, {'😄': 'grinning face with smiling eyes'}, {'😍': 'smiling face with heart-eyes'}, {'💑': 'couple with heart'}, {'😴': 'sleeping face', '😊': 'smiling face with smiling eyes'}, {'😌': 'relieved face'}, {'😡': 'pouting face'}, {'😈': 'smiling face with horns'}, {'😂': 'face with tears of joy'}, {'😒': 'unamused face'}, {'😋': 'face savoring food', '😌': 'relieved face'}, {'💙': 'blue heart', '👶': 'baby', '😍': 'smiling face with heart-eyes'}, {'😊': 'smiling face with smiling eyes'}, {'😁': 'beaming face with smiling eyes'}, {'🎼': 'musical score', '🎵': 'musical note'}, {'😡': 'pouting face', '😲': 'astonished face'}, {'🏥': 'hospital'}, {'😊': 'smiling face with smiling eyes', '😒': 'unamused face'}, {'😊': 'smiling face with smiling eyes'}, {'😄': 'grinning face with smiling eyes'}, {'😒': 'unamused face'}, {'😄': 'grinning face with smiling eyes'}, {'😍': 'smiling face with heart-eyes'}, {'😊': 'smiling face with smiling eyes'}, {'❤️': 'red heart', '😊': 'smiling face with smiling eyes'}, {'😂': 'face with tears of joy'}, {'😂': 'face with tears of joy'}, {'😡': 'pouting face', '😭': 'loudly crying face'}, {'😔': 'pensive face'}, {'😒': 'unamused face'}, {'❤': 'red heart'}, {'❤️': 'red heart', '😍': 'smiling face with heart-eyes'}, {'😁': 'beaming face with smiling eyes'}, {'😑': 'expressionless face'}, {'😷': 'face with medical mask'}, {'😴': 'sleeping face', '✋': 'raised hand', '😒': 'unamused face'}, {'😊': 'smiling face with smiling eyes'}, {'☔': 'umbrella with rain drops'}, {'😡': 'pouting face'}, {'😂': 'face with tears of joy'}, {'😐': 'neutral face'}, {'😇': 'smiling face with halo'}, {'😂': 'face with tears of joy'}, {'😡': 'pouting face'}, {'😍': 'smiling face with heart-eyes'}, {'😂': 'face with tears of joy'}, {'😁': 'beaming face with smiling eyes', '😒': 'unamused face'}, {'😷': 'face with medical mask'}, {'😊': 'smiling face with smiling eyes'}, {'😂': 'face with tears of joy'}, {'💙': 'blue heart', '😊': 'smiling face with smiling eyes', '😪': 'sleepy face'}, {'😑': 'expressionless face'}, {'😂': 'face with tears of joy'}, {'😊': 'smiling face with smiling eyes'}, {'😩': 'weary face'}, {'😳': 'flushed face', '❤': 'red heart'}, {'😊': 'smiling face with smiling eyes'}, {'😘': 'face blowing a kiss'}, {'😭': 'loudly crying face'}, {'😩': 'weary face'}, {'😊': 'smiling face with smiling eyes'}, {'☺️': 'smiling face', '😂': 'face with tears of joy'}, {'👎🏼': 'thumbs down: medium-light skin tone'}, {'🙎': 'person pouting'}, {'😍': 'smiling face with heart-eyes'}, {'😭': 'loudly crying face', '😍': 'smiling face with heart-eyes'}, {'😷': 'face with medical mask', '😅': 'grinning face with sweat'}, {'😅': 'grinning face with sweat'}, {'😪': 'sleepy face'}, {'😂': 'face with tears of joy'}, {'😂': 'face with tears of joy'}, {'😔': 'pensive face', '😂': 'face with tears of joy'}, {'😒': 'unamused face'}, {'😴': 'sleeping face'}, {'🎺': 'trumpet', '😂': 'face with tears of joy', '🎹': 'musical keyboard'}, {'😂': 'face with tears of joy'}, {'😂': 'face with tears of joy'}, {'😊': 'smiling face with smiling eyes', '😏': 'smirking face'}, {'😭': 'loudly crying face', '😂': 'face with tears of joy'}, {'😅': 'grinning face with sweat', '🇪🇸': 'flag: Spain'}, {'😘': 'face blowing a kiss', '😂': 'face with tears of joy'}, {'😂': 'face with tears of joy', '😑': 'expressionless face'}, {'😂': 'face with tears of joy'}, {'🎵': 'musical note'}, {'😱': 'face screaming in fear'}, {'😒': 'unamused face'}, {'➡': 'right arrow'}, {'🙃': 'upside-down face'}, {'✌': 'victory hand', '😂': 'face with tears of joy'}, {'😂': 'face with tears of joy'}, {'😂': 'face with tears of joy'}, {'😑': 'expressionless face'}, {'😍': 'smiling face with heart-eyes'}, {'😥': 'sad but relieved face', '😍': 'smiling face with heart-eyes'}, {'😒': 'unamused face'}, {'😂': 'face with tears of joy'}, {'😂': 'face with tears of joy'}, {'😭': 'loudly crying face'}, {'😂': 'face with tears of joy'}, {'😨': 'fearful face'}, {'😫': 'tired face'}, {'😂': 'face with tears of joy'}, {'😅': 'grinning face with sweat'}, {'❤️': 'red heart'}, {'😂': 'face with tears of joy'}, {'😂': 'face with tears of joy'}, {'😂': 'face with tears of joy'}, {'😒': 'unamused face'}, {'😂': 'face with tears of joy'}, {'😑': 'expressionless face'}, {'😠': 'angry face'}, {'🏽': 'medium skin tone'}, {'😭': 'loudly crying face'}, {'😶': 'face without mouth'}, {'😂': 'face with tears of joy', '😏': 'smirking face'}, {'😛': 'face with tongue', '😂': 'face with tears of joy'}, {'😒': 'unamused face'}, {'🎙': 'studio microphone', '🎄': 'Christmas tree', '☃': 'snowman'}, {'😭': 'loudly crying face'}, {'😭': 'loudly crying face'}, {'😋': 'face savoring food', '😂': 'face with tears of joy'}, {'😊': 'smiling face with smiling eyes'}, {'😏': 'smirking face'}, {'😑': 'expressionless face'}, {'😐': 'neutral face'}, {'😍': 'smiling face with heart-eyes'}, {'😞': 'disappointed face'}, {'😔': 'pensive face'}, {'😊': 'smiling face with smiling eyes'}, {'😰': 'anxious face with sweat'}, {'😁': 'beaming face with smiling eyes'}, {'🤐': 'zipper-mouth face'}, {'😃': 'grinning face with big eyes'}, {'😂': 'face with tears of joy'}, {'😒': 'unamused face'}, {'😂': 'face with tears of joy'}, {'😊': 'smiling face with smiling eyes'}, {'😘': 'face blowing a kiss', '😂': 'face with tears of joy'}, {'❤️': 'red heart'}, {'😂': 'face with tears of joy'}, {'😭': 'loudly crying face'}, {'😒': 'unamused face'}, {'😑': 'expressionless face'}, {'😄': 'grinning face with smiling eyes', '😀': 'grinning face', '😂': 'face with tears of joy'}, {'😩': 'weary face'}, {'😊': 'smiling face with smiling eyes'}, {'🤕': 'face with head-bandage'}, {'😭': 'loudly crying face'}, {'😂': 'face with tears of joy'}, {'😒': 'unamused face'}, {'😂': 'face with tears of joy'}, {'😂': 'face with tears of joy'}, {'😰': 'anxious face with sweat'}, {'😒': 'unamused face'}, {'😂': 'face with tears of joy'}, {'😑': 'expressionless face'}, {'😎': 'smiling face with sunglasses', '😂': 'face with tears of joy'}, {'😷': 'face with medical mask'}, {'😭': 'loudly crying face'}, {'😒': 'unamused face'}, {'😁': 'beaming face with smiling eyes'}, {'😉': 'winking face'}, {'😠': 'angry face'}, {'😀': 'grinning face'}, {'🐘': 'elephant'}, {'😒': 'unamused face'}, {'👑': 'crown', '😌': 'relieved face'}, {'😊': 'smiling face with smiling eyes'}, {'📱': 'mobile phone', '🔋': 'battery'}, {'😑': 'expressionless face'}, {'😊': 'smiling face with smiling eyes'}, {'😳': 'flushed face'}, {'😍': 'smiling face with heart-eyes'}, {'😑': 'expressionless face'}, {'😉': 'winking face'}, {'😂': 'face with tears of joy'}, {'😞': 'disappointed face'}, {'😒': 'unamused face'}, {'😫': 'tired face'}, {'😂': 'face with tears of joy'}, {'😂': 'face with tears of joy'}, {'😆': 'grinning squinting face'}, {'❤️': 'red heart', '😭': 'loudly crying face'}, {'😉': 'winking face'}, {'😭': 'loudly crying face'}, {'😔': 'pensive face'}, {'😘': 'face blowing a kiss'}, {'😢': 'crying face'}, {'😭': 'loudly crying face'}, {'😋': 'face savoring food'}, {'😃': 'grinning face with big eyes'}, {'❤️': 'red heart'}, {'❤': 'red heart'}, {'😂': 'face with tears of joy'}, {'😂': 'face with tears of joy'}, {'😒': 'unamused face'}, {'😏': 'smirking face'}, {'✌️': 'victory hand'}, {'😒': 'unamused face'}, {'😂': 'face with tears of joy'}, {'😁': 'beaming face with smiling eyes', '✌': 'victory hand'}, {'✋': 'raised hand'}, {'😍': 'smiling face with heart-eyes'}, {'😒': 'unamused face'}, {'❤': 'red heart'}, {'😈': 'smiling face with horns'}, {'😒': 'unamused face'}, {'😂': 'face with tears of joy'}, {'😁': 'beaming face with smiling eyes'}, {'🐘': 'elephant'}, {'😒': 'unamused face'}, {'😊': 'smiling face with smiling eyes'}, {'😩': 'weary face'}, {'😊': 'smiling face with smiling eyes'}, {'😊': 'smiling face with smiling eyes'}, {'😍': 'smiling face with heart-eyes'}, {'😩': 'weary face'}, {'👼': 'baby angel'}, {'😂': 'face with tears of joy'}, {'😐': 'neutral face', '😠': 'angry face'}, {'😎': 'smiling face with sunglasses'}, {'😄': 'grinning face with smiling eyes', '😊': 'smiling face with smiling eyes'}, {'😭': 'loudly crying face'}, {'😊': 'smiling face with smiling eyes'}, {'✊': 'raised fist'}, {'😂': 'face with tears of joy'}, {'😢': 'crying face'}, {'😞': 'disappointed face', '😄': 'grinning face with smiling eyes'}, {'😷': 'face with medical mask'}, {'😷': 'face with medical mask'}, {'😒': 'unamused face', '😂': 'face with tears of joy'}, {'😭': 'loudly crying face'}, {'😭': 'loudly crying face', '😩': 'weary face'}, {'😇': 'smiling face with halo'}, {'😂': 'face with tears of joy'}, {'😎': 'smiling face with sunglasses', '😂': 'face with tears of joy'}, {'😂': 'face with tears of joy'}, {'😅': 'grinning face with sweat'}, {'😥': 'sad but relieved face', '😂': 'face with tears of joy'}, {'😩': 'weary face'}, {'😂': 'face with tears of joy'}, {'😒': 'unamused face'}, {'😒': 'unamused face', '😂': 'face with tears of joy'}, {'😚': 'kissing face with closed eyes'}, {'😓': 'downcast face with sweat'}, {'😎': 'smiling face with sunglasses'}, {'😋': 'face savoring food'}, {'😅': 'grinning face with sweat', '😂': 'face with tears of joy'}, {'😡': 'pouting face'}, {'😅': 'grinning face with sweat'}, {'😩': 'weary face'}, {'😡': 'pouting face'}, {'😩': 'weary face'}, {'😁': 'beaming face with smiling eyes'}, {'😭': 'loudly crying face'}, {'😂': 'face with tears of joy'}, {'📝': 'memo', '📜': 'scroll'}, {'😴': 'sleeping face', '🙍': 'person frowning', '✌️': 'victory hand', '😹': 'cat with tears of joy', '🚫': 'prohibited'}, {'😅': 'grinning face with sweat'}, {'☔': 'umbrella with rain drops'}, {'😡': 'pouting face', '😠': 'angry face'}, {'😅': 'grinning face with sweat'}, {'😊': 'smiling face with smiling eyes'}, {'😒': 'unamused face'}, {'😊': 'smiling face with smiling eyes'}, {'🍓': 'strawberry', '🏵': 'rosette'}, {'😅': 'grinning face with sweat'}, {'😇': 'smiling face with halo'}, {'✨': 'sparkles'}, {'😭': 'loudly crying face'}, {'😭': 'loudly crying face'}, {'✋': 'raised hand', '😒': 'unamused face'}, {'😍': 'smiling face with heart-eyes'}, {'✌️': 'victory hand', '🌞': 'sun with face'}, {'😂': 'face with tears of joy'}, {'☺️': 'smiling face'}, {'🌙': 'crescent moon', '😭': 'loudly crying face'}, {'✊': 'raised fist'}, {'😊': 'smiling face with smiling eyes'}, {'😩': 'weary face'}, {'😍': 'smiling face with heart-eyes'}, {'☺️': 'smiling face'}, {'☺️': 'smiling face'}, {'😂': 'face with tears of joy'}, {'😌': 'relieved face'}, {'😅': 'grinning face with sweat'}, {'😕': 'confused face'}, {'😂': 'face with tears of joy'}, {'😩': 'weary face'}, {'😡': 'pouting face', '😭': 'loudly crying face', '✏️': 'pencil'}, {'😍': 'smiling face with heart-eyes'}, {'😂': 'face with tears of joy'}, {'😭': 'loudly crying face'}, {'🚘': 'oncoming automobile', '😁': 'beaming face with smiling eyes', '😍': 'smiling face with heart-eyes'}, {'❤️': 'red heart'}, {'😫': 'tired face'}, {'😒': 'unamused face'}, {'💦': 'sweat droplets'}, {'❤️': 'red heart'}, {'😭': 'loudly crying face'}, {'😣': 'persevering face'}, {'😑': 'expressionless face'}, {'☺️': 'smiling face'}, {'😒': 'unamused face', '😑': 'expressionless face'}, {'😖': 'confounded face'}, {'😊': 'smiling face with smiling eyes'}, {'😊': 'smiling face with smiling eyes'}, {'😅': 'grinning face with sweat'}, {'😁': 'beaming face with smiling eyes', '😀': 'grinning face', '😂': 'face with tears of joy', '♥': 'heart suit'}, {'🐱': 'cat face'}, {'😂': 'face with tears of joy'}, {'😂': 'face with tears of joy'}, {'😂': 'face with tears of joy'}, {'😒': 'unamused face'}, {'😂': 'face with tears of joy'}, {'✒️': 'black nib'}, {'😅': 'grinning face with sweat'}, {'😂': 'face with tears of joy'}, {'😣': 'persevering face'}, {'😒': 'unamused face'}, {'🚜': 'tractor'}, {'😅': 'grinning face with sweat'}, {'😎': 'smiling face with sunglasses'}, {'😌': 'relieved face'}, {'✋': 'raised hand', '😭': 'loudly crying face', '😂': 'face with tears of joy'}, {'😴': 'sleeping face'}, {'😑': 'expressionless face'}, {'😌': 'relieved face'}, {'😊': 'smiling face with smiling eyes'}, {'😑': 'expressionless face'}, {'😐': 'neutral face'}, {'😒': 'unamused face'}, {'😭': 'loudly crying face'}, {'😍': 'smiling face with heart-eyes'}, {'😔': 'pensive face'}, {'😂': 'face with tears of joy'}, {'😫': 'tired face'}, {'😂': 'face with tears of joy'}, {'😘': 'face blowing a kiss'}, {'☺️': 'smiling face'}, {'😊': 'smiling face with smiling eyes'}, {'😅': 'grinning face with sweat'}, {'😋': 'face savoring food'}, {'😂': 'face with tears of joy'}, {'😀': 'grinning face'}, {'😞': 'disappointed face'}, {'😭': 'loudly crying face', '☔': 'umbrella with rain drops'}, {'✋': 'raised hand'}, {'☺️': 'smiling face'}, {'😅': 'grinning face with sweat'}, {'🏃': 'person running'}, {'😒': 'unamused face'}, {'😁': 'beaming face with smiling eyes'}, {'❤️': 'red heart', '😂': 'face with tears of joy'}, {'😞': 'disappointed face'}, {'😒': 'unamused face'}, {'😐': 'neutral face'}, {'😴': 'sleeping face'}, {'🚔': 'oncoming police car'}, {'😖': 'confounded face', '☹️': 'frowning face', '😒': 'unamused face'}, {'❤️': 'red heart'}, {'✔': 'check mark'}, {'☝️': 'index pointing up', '😜': 'winking face with tongue'}, {'😐': 'neutral face', '😕': 'confused face'}, {'😒': 'unamused face', '😑': 'expressionless face'}, {'❤️': 'red heart', '✨': 'sparkles'}, {'😃': 'grinning face with big eyes'}, {'😂': 'face with tears of joy'}, {'😅': 'grinning face with sweat'}, {'😁': 'beaming face with smiling eyes'}, {'😊': 'smiling face with smiling eyes'}, {'❤': 'red heart'}, {'😂': 'face with tears of joy'}, {'😒': 'unamused face'}, {'😱': 'face screaming in fear'}, {'😂': 'face with tears of joy'}, {'😓': 'downcast face with sweat'}, {'😂': 'face with tears of joy'}, {'😑': 'expressionless face'}, {'😂': 'face with tears of joy'}, {'🙈': 'see-no-evil monkey'}, {'💫': 'dizzy'}, {'😓': 'downcast face with sweat'}, {'😂': 'face with tears of joy'}, {'😒': 'unamused face'}, {'😜': 'winking face with tongue'}, {'😒': 'unamused face', '😑': 'expressionless face'}, {'😂': 'face with tears of joy'}, {'😂': 'face with tears of joy'}, {'🙌': 'raising hands'}, {'😂': 'face with tears of joy'}, {'😑': 'expressionless face'}, {'☺': 'smiling face'}, {'😍': 'smiling face with heart-eyes'}, {'😫': 'tired face', '😄': 'grinning face with smiling eyes'}, {'😂': 'face with tears of joy'}, {'😀': 'grinning face'}, {'💕': 'two hearts'}, {'😑': 'expressionless face'}, {'🈵': 'Japanese “no vacancy” button'}, {'😋': 'face savoring food', '😂': 'face with tears of joy'}, {'😂': 'face with tears of joy'}, {'😷': 'face with medical mask'}, {'😡': 'pouting face'}, {'😂': 'face with tears of joy'}, {'😎': 'smiling face with sunglasses'}, {'😂': 'face with tears of joy'}, {'😋': 'face savoring food', '😢': 'crying face', '😠': 'angry face'}, {'😢': 'crying face'}, {'😂': 'face with tears of joy'}, {'😂': 'face with tears of joy'}, {'😂': 'face with tears of joy'}, {'😉': 'winking face'}, {'😢': 'crying face'}, {'😄': 'grinning face with smiling eyes', '😓': 'downcast face with sweat'}, {'😅': 'grinning face with sweat', '😀': 'grinning face', '😂': 'face with tears of joy'}, {'💀': 'skull', '😝': 'squinting face with tongue', '❤': 'red heart', '😂': 'face with tears of joy', '😈': 'smiling face with horns', '😊': 'smiling face with smiling eyes'}, {'👀': 'eyes'}, {'🍕': 'pizza'}, {'😫': 'tired face'}, {'😨': 'fearful face', '😠': 'angry face'}, {'😂': 'face with tears of joy'}, {'😂': 'face with tears of joy'}, {'😂': 'face with tears of joy'}, {'😄': 'grinning face with smiling eyes', '😂': 'face with tears of joy'}, {'✋': 'raised hand', '😓': 'downcast face with sweat'}, {'😒': 'unamused face'}, {'😤': 'face with steam from nose'}, {'😕': 'confused face'}, {'✌': 'victory hand', '☺': 'smiling face'}, {'😉': 'winking face'}, {'😂': 'face with tears of joy'}, {'😀': 'grinning face'}, {'🐥': 'front-facing baby chick', '🐣': 'hatching chick'}, {'😒': 'unamused face'}, {'✋': 'raised hand'}, {'🙃': 'upside-down face'}, {'😁': 'beaming face with smiling eyes'}, {'😞': 'disappointed face'}, {'😎': 'smiling face with sunglasses'}, {'😁': 'beaming face with smiling eyes', '😒': 'unamused face'}, {'😂': 'face with tears of joy'}, {'😑': 'expressionless face'}, {'😒': 'unamused face', '😂': 'face with tears of joy'}, {'😈': 'smiling face with horns'}, {'😒': 'unamused face'}, {'😏': 'smirking face'}, {'😥': 'sad but relieved face'}, {'😑': 'expressionless face'}, {'😛': 'face with tongue'}, {'😭': 'loudly crying face'}, {'😭': 'loudly crying face'}, {'😒': 'unamused face'}, {'😂': 'face with tears of joy'}, {'😑': 'expressionless face'}, {'🙁': 'slightly frowning face'}, {'😌': 'relieved face'}, {'😂': 'face with tears of joy'}, {'😅': 'grinning face with sweat', '😓': 'downcast face with sweat'}, {'😂': 'face with tears of joy'}, {'😅': 'grinning face with sweat'}, {'😍': 'smiling face with heart-eyes'}, {'😂': 'face with tears of joy', '😅': 'grinning face with sweat', '😜': 'winking face with tongue'}, {'😂': 'face with tears of joy'}, {'😂': 'face with tears of joy'}, {'😅': 'grinning face with sweat'}, {'😧': 'anguished face'}, {'👴': 'old man'}, {'👦': 'boy', '👵': 'old woman'}, {'😂': 'face with tears of joy'}, {'😠': 'angry face'}, {'😆': 'grinning squinting face'}, {'🌞': 'sun with face'}, {'❤️': 'red heart', '😒': 'unamused face'}, {'😓': 'downcast face with sweat'}, {'😑': 'expressionless face'}, {'😑': 'expressionless face'}, {'🍍': 'pineapple'}, {'😅': 'grinning face with sweat'}, {'😥': 'sad but relieved face'}, {'😎': 'smiling face with sunglasses'}, {'😂': 'face with tears of joy'}, {'😂': 'face with tears of joy'}, {'😂': 'face with tears of joy'}, {'😒': 'unamused face', '🌿': 'herb'}, {'😂': 'face with tears of joy', '😉': 'winking face'}, {'😒': 'unamused face'}, {'➡': 'right arrow'}, {'😊': 'smiling face with smiling eyes'}, {'😓': 'downcast face with sweat'}, {'😯': 'hushed face'}, {'😎': 'smiling face with sunglasses', '😏': 'smirking face'}, {'😫': 'tired face', '😨': 'fearful face', '😷': 'face with medical mask'}, {'😶': 'face without mouth'}, {'😈': 'smiling face with horns', '😂': 'face with tears of joy'}, {'😉': 'winking face', '👻': 'ghost', '😂': 'face with tears of joy', '😜': 'winking face with tongue'}, {'😑': 'expressionless face'}, {'😂': 'face with tears of joy'}, {'😂': 'face with tears of joy'}, {'😏': 'smirking face'}, {'😉': 'winking face'}, {'😀': 'grinning face'}, {'😂': 'face with tears of joy'}, {'😆': 'grinning squinting face', '😏': 'smirking face'}, {'😐': 'neutral face'}, {'😴': 'sleeping face'}, {'😠': 'angry face'}, {'😊': 'smiling face with smiling eyes'}, {'😂': 'face with tears of joy'}, {'😂': 'face with tears of joy'}, {'😎': 'smiling face with sunglasses', '😂': 'face with tears of joy'}, {'😍': 'smiling face with heart-eyes'}, {'😫': 'tired face'}, {'😒': 'unamused face'}, {'☺️': 'smiling face'}, {'😂': 'face with tears of joy'}, {'🐳': 'spouting whale'}, {'😺': 'grinning cat'}, {'😊': 'smiling face with smiling eyes'}, {'😒': 'unamused face'}, {'😄': 'grinning face with smiling eyes'}, {'😩': 'weary face', '😂': 'face with tears of joy'}, {'✋': 'raised hand'}, {'😊': 'smiling face with smiling eyes'}, {'😊': 'smiling face with smiling eyes'}, {'😭': 'loudly crying face'}, {'😭': 'loudly crying face', '😂': 'face with tears of joy'}, {'😑': 'expressionless face'}, {'😁': 'beaming face with smiling eyes'}, {'😒': 'unamused face'}, {'😭': 'loudly crying face'}, {'😄': 'grinning face with smiling eyes', '😅': 'grinning face with sweat', '😂': 'face with tears of joy'}, {'😳': 'flushed face'}, {'👌': 'OK hand'}, {'😳': 'flushed face', '😁': 'beaming face with smiling eyes'}, {'😘': 'face blowing a kiss'}, {'😂': 'face with tears of joy'}, {'😂': 'face with tears of joy'}, {'💗': 'growing heart'}, {'❤️': 'red heart'}, {'❤️': 'red heart'}, {'😂': 'face with tears of joy'}, {'😐': 'neutral face', '😕': 'confused face'}, {'😂': 'face with tears of joy'}, {'😊': 'smiling face with smiling eyes', '❤': 'red heart'}, {'😛': 'face with tongue'}, {'😊': 'smiling face with smiling eyes'}, {'😂': 'face with tears of joy'}, {'😒': 'unamused face'}, {'😶': 'face without mouth'}, {'😭': 'loudly crying face', '😒': 'unamused face'}, {'😫': 'tired face'}, {'😔': 'pensive face'}, {'😁': 'beaming face with smiling eyes'}, {'😊': 'smiling face with smiling eyes'}, {'😴': 'sleeping face', '😣': 'persevering face'}, {'😒': 'unamused face', '😠': 'angry face'}, {'😊': 'smiling face with smiling eyes'}, {'😊': 'smiling face with smiling eyes'}, {'😂': 'face with tears of joy'}, {'😂': 'face with tears of joy'}, {'😂': 'face with tears of joy'}, {'😂': 'face with tears of joy'}, {'😂': 'face with tears of joy'}, {'😭': 'loudly crying face', '☃': 'snowman'}, {'😊': 'smiling face with smiling eyes'}, {'😄': 'grinning face with smiling eyes'}, {'😃': 'grinning face with big eyes'}, {'😭': 'loudly crying face'}, {'😊': 'smiling face with smiling eyes'}, {'😊': 'smiling face with smiling eyes'}, {'😂': 'face with tears of joy'}, {'😅': 'grinning face with sweat'}, {'😷': 'face with medical mask'}, {'😋': 'face savoring food'}, {'😒': 'unamused face'}, {'😒': 'unamused face'}, {'😡': 'pouting face'}, {'😂': 'face with tears of joy'}, {'😒': 'unamused face'}, {'👑': 'crown', '☁️': 'cloud'}, {'😳': 'flushed face', '😩': 'weary face'}, {'😡': 'pouting face'}, {'🏡': 'house with garden', '💑': 'couple with heart'}, {'😩': 'weary face'}, {'😒': 'unamused face'}, {'😱': 'face screaming in fear'}, {'😅': 'grinning face with sweat'}, {'😏': 'smirking face'}, {'😂': 'face with tears of joy'}, {'🚮': 'litter in bin sign'}, {'😢': 'crying face', '😭': 'loudly crying face'}, {'😡': 'pouting face'}, {'😂': 'face with tears of joy'}, {'😂': 'face with tears of joy'}, {'😍': 'smiling face with heart-eyes'}, {'🙁': 'slightly frowning face'}, {'😩': 'weary face'}, {'😏': 'smirking face'}, {'😚': 'kissing face with closed eyes'}, {'👸🏽': 'princess: medium skin tone'}, {'😂': 'face with tears of joy'}, {'😊': 'smiling face with smiling eyes'}, {'😜': 'winking face with tongue'}, {'😒': 'unamused face'}, {'😉': 'winking face'}, {'😄': 'grinning face with smiling eyes'}, {'😊': 'smiling face with smiling eyes'}, {'😁': 'beaming face with smiling eyes'}, {'😍': 'smiling face with heart-eyes'}, {'😰': 'anxious face with sweat'}, {'😳': 'flushed face', '😒': 'unamused face'}, {'💦': 'sweat droplets'}, {'😉': 'winking face'}, {'😏': 'smirking face'}, {'😘': 'face blowing a kiss', '🌻': 'sunflower', '✨': 'sparkles'}, {'😂': 'face with tears of joy'}, {'😀': 'grinning face'}, {'💞': 'revolving hearts'}, {'😭': 'loudly crying face'}, {'😂': 'face with tears of joy'}, {'😑': 'expressionless face'}, {'😊': 'smiling face with smiling eyes'}, {'😷': 'face with medical mask', '😐': 'neutral face'}, {'😒': 'unamused face'}, {'😛': 'face with tongue'}, {'😅': 'grinning face with sweat'}, {'😳': 'flushed face', '😔': 'pensive face'}, {'😍': 'smiling face with heart-eyes', '😏': 'smirking face'}, {'😘': 'face blowing a kiss', '😩': 'weary face', '😏': 'smirking face'}, {'😂': 'face with tears of joy'}, {'😏': 'smirking face'}, {'😊': 'smiling face with smiling eyes'}, {'😂': 'face with tears of joy'}, {'😒': 'unamused face'}, {'😂': 'face with tears of joy'}, {'😊': 'smiling face with smiling eyes'}, {'😅': 'grinning face with sweat', '😂': 'face with tears of joy'}, {'😴': 'sleeping face'}, {'😢': 'crying face', '😭': 'loudly crying face'}, {'😡': 'pouting face'}, {'😒': 'unamused face', '😑': 'expressionless face'}, {'☺️': 'smiling face'}, {'😭': 'loudly crying face'}, {'😞': 'disappointed face'}, {'😭': 'loudly crying face'}, {'😂': 'face with tears of joy'}, {'😄': 'grinning face with smiling eyes'}, {'😂': 'face with tears of joy'}, {'😞': 'disappointed face'}, {'‼️': 'double exclamation mark'}, {'😢': 'crying face'}, {'😡': 'pouting face', '😒': 'unamused face'}, {'😒': 'unamused face'}, {'😊': 'smiling face with smiling eyes'}, {'😒': 'unamused face'}, {'🙀': 'weary cat'}, {'😝': 'squinting face with tongue'}, {'😒': 'unamused face', '😍': 'smiling face with heart-eyes'}, {'😁': 'beaming face with smiling eyes'}, {'😂': 'face with tears of joy'}, {'☺️': 'smiling face', '😂': 'face with tears of joy'}, {'☝': 'index pointing up', '😴': 'sleeping face', '😂': 'face with tears of joy'}, {'😍': 'smiling face with heart-eyes', '❤': 'red heart'}, {'🐱': 'cat face'}, {'🐾': 'paw prints', '🍦': 'soft ice cream'}, {'☕': 'hot beverage', '🐸': 'frog'}, {'😆': 'grinning squinting face', '😭': 'loudly crying face'}, {'😐': 'neutral face'}, {'😂': 'face with tears of joy'}, {'😢': 'crying face', '😓': 'downcast face with sweat', '😩': 'weary face'}, {'❤': 'red heart'}, {'❤️': 'red heart', '😒': 'unamused face'}, {'❤️': 'red heart'}, {'😒': 'unamused face'}, {'😒': 'unamused face'}, {'😘': 'face blowing a kiss'}, {'😒': 'unamused face'}, {'😘': 'face blowing a kiss', '😒': 'unamused face'}, {'✋': 'raised hand'}, {'😡': 'pouting face'}, {'😡': 'pouting face', '😒': 'unamused face'}, {'😊': 'smiling face with smiling eyes', '😣': 'persevering face', '😂': 'face with tears of joy'}, {'😱': 'face screaming in fear'}, {'😔': 'pensive face'}, {'😇': 'smiling face with halo'}, {'✌': 'victory hand'}, {'☺️': 'smiling face', '🌵': 'cactus'}, {'😨': 'fearful face'}, {'😐': 'neutral face'}, {'😡': 'pouting face'}, {'💣': 'bomb'}, {'❤️': 'red heart', '😊': 'smiling face with smiling eyes'}, {'😅': 'grinning face with sweat'}, {'😊': 'smiling face with smiling eyes'}, {'😐': 'neutral face'}, {'😂': 'face with tears of joy'}, {'😕': 'confused face'}, {'😂': 'face with tears of joy'}, {'😡': 'pouting face'}, {'😂': 'face with tears of joy'}, {'😭': 'loudly crying face'}, {'☺️': 'smiling face'}, {'😩': 'weary face'}, {'❤️': 'red heart', '😍': 'smiling face with heart-eyes'}, {'😒': 'unamused face'}, {'😊': 'smiling face with smiling eyes'}, {'😭': 'loudly crying face'}, {'😂': 'face with tears of joy'}, {'😴': 'sleeping face'}, {'😄': 'grinning face with smiling eyes'}, {'😁': 'beaming face with smiling eyes'}, {'😊': 'smiling face with smiling eyes'}, {'😄': 'grinning face with smiling eyes'}, {'😒': 'unamused face'}, {'❤️': 'red heart'}, {'😴': 'sleeping face'}, {'😂': 'face with tears of joy'}, {'☺': 'smiling face'}, {'😠': 'angry face'}, {'❤': 'red heart'}, {'😑': 'expressionless face'}, {'😒': 'unamused face'}, {'😁': 'beaming face with smiling eyes'}, {'😒': 'unamused face'}, {'😒': 'unamused face'}, {'😊': 'smiling face with smiling eyes'}, {'😖': 'confounded face', '😒': 'unamused face'}, {'😭': 'loudly crying face'}, {'😂': 'face with tears of joy', '😣': 'persevering face', '😩': 'weary face'}, {'😑': 'expressionless face'}, {'😷': 'face with medical mask', '😥': 'sad but relieved face'}, {'✋': 'raised hand'}, {'😖': 'confounded face', '🚲': 'bicycle', '🌧': 'cloud with rain'}, {'👑': 'crown', '💍': 'ring', '😍': 'smiling face with heart-eyes', '❤': 'red heart'}, {'😑': 'expressionless face'}, {'😒': 'unamused face'}, {'😐': 'neutral face'}, {'😁': 'beaming face with smiling eyes'}, {'😭': 'loudly crying face'}, {'❤️': 'red heart'}, {'😂': 'face with tears of joy'}, {'😳': 'flushed face'}, {'😕': 'confused face'}, {'😂': 'face with tears of joy'}, {'😑': 'expressionless face'}, {'😂': 'face with tears of joy'}, {'😒': 'unamused face'}, {'😷': 'face with medical mask'}, {'✨': 'sparkles'}, {'😫': 'tired face'}, {'✋': 'raised hand'}, {'😖': 'confounded face', '😂': 'face with tears of joy', '😒': 'unamused face', '😩': 'weary face'}, {'😅': 'grinning face with sweat'}, {'✔': 'check mark'}, {'📈': 'chart increasing'}, {'😅': 'grinning face with sweat'}, {'😍': 'smiling face with heart-eyes'}, {'⚽': 'soccer ball', '😊': 'smiling face with smiling eyes'}, {'😂': 'face with tears of joy', '👳': 'person wearing turban'}, {'👼': 'baby angel', '😂': 'face with tears of joy'}, {'😠': 'angry face'}, {'😭': 'loudly crying face'}, {'😌': 'relieved face'}, {'😒': 'unamused face'}, {'😞': 'disappointed face'}, {'😒': 'unamused face'}, {'😒': 'unamused face', '😑': 'expressionless face'}, {'😩': 'weary face'}, {'😭': 'loudly crying face', '😍': 'smiling face with heart-eyes'}, {'😂': 'face with tears of joy'}, {'😂': 'face with tears of joy'}, {'😒': 'unamused face'}, {'😂': 'face with tears of joy'}, {'😑': 'expressionless face'}, {'😭': 'loudly crying face'}, {'😒': 'unamused face'}, {'💡': 'light bulb'}, {'😑': 'expressionless face'}, {'😰': 'anxious face with sweat', '😱': 'face screaming in fear', '😫': 'tired face'}, {'😖': 'confounded face'}, {'😂': 'face with tears of joy'}, {'😆': 'grinning squinting face', '😌': 'relieved face'}, {'😁': 'beaming face with smiling eyes', '😊': 'smiling face with smiling eyes'}, {'🙀': 'weary cat'}, {'😒': 'unamused face'}, {'😑': 'expressionless face'}, {'😣': 'persevering face'}, {'😍': 'smiling face with heart-eyes'}, {'🏃': 'person running'}, {'😂': 'face with tears of joy'}, {'😒': 'unamused face'}, {'😊': 'smiling face with smiling eyes'}, {'😠': 'angry face'}, {'🐘': 'elephant'}, {'🎧': 'headphone'}, {'😒': 'unamused face', '😔': 'pensive face'}, {'😩': 'weary face'}, {'😋': 'face savoring food'}, {'😭': 'loudly crying face'}, {'😘': 'face blowing a kiss'}, {'😭': 'loudly crying face'}, {'😊': 'smiling face with smiling eyes', '😔': 'pensive face'}, {'♈': 'Aries', '♐': 'Sagittarius'}, {'😩': 'weary face'}, {'😪': 'sleepy face', '😊': 'smiling face with smiling eyes'}, {'😚': 'kissing face with closed eyes'}, {'😭': 'loudly crying face', '😂': 'face with tears of joy'}, {'😡': 'pouting face'}, {'😳': 'flushed face'}, {'😴': 'sleeping face', '😩': 'weary face'}, {'😭': 'loudly crying face'}, {'😊': 'smiling face with smiling eyes'}, {'😉': 'winking face'}, {'😅': 'grinning face with sweat', '😁': 'beaming face with smiling eyes'}, {'😊': 'smiling face with smiling eyes'}, {'😒': 'unamused face'}, {'😍': 'smiling face with heart-eyes', '❤️': 'red heart', '😘': 'face blowing a kiss', '😋': 'face savoring food', '😊': 'smiling face with smiling eyes'}, {'😘': 'face blowing a kiss', '😀': 'grinning face', '😂': 'face with tears of joy'}, {'😢': 'crying face'}, {'😅': 'grinning face with sweat'}, {'😭': 'loudly crying face'}, {'😂': 'face with tears of joy'}, {'😍': 'smiling face with heart-eyes'}, {'😂': 'face with tears of joy'}, {'😩': 'weary face'}, {'😃': 'grinning face with big eyes'}, {'✊': 'raised fist'}, {'🚶': 'person walking'}, {'😄': 'grinning face with smiling eyes'}, {'😂': 'face with tears of joy'}, {'😍': 'smiling face with heart-eyes'}, {'👑': 'crown'}, {'😒': 'unamused face'}, {'❤️': 'red heart', '😂': 'face with tears of joy'}, {'😭': 'loudly crying face', '😩': 'weary face'}, {'😫': 'tired face'}, {'😂': 'face with tears of joy'}, {'😐': 'neutral face'}, {'😐': 'neutral face'}, {'😔': 'pensive face'}, {'😅': 'grinning face with sweat'}, {'😂': 'face with tears of joy'}, {'😭': 'loudly crying face', '😒': 'unamused face'}, {'😂': 'face with tears of joy'}, {'😁': 'beaming face with smiling eyes'}, {'😒': 'unamused face'}, {'👉': 'backhand index pointing right'}, {'⏱': 'stopwatch'}, {'😏': 'smirking face'}, {'😅': 'grinning face with sweat', '☀️': 'sun'}, {'😪': 'sleepy face', '❤️': 'red heart', '😌': 'relieved face', '😍': 'smiling face with heart-eyes'}, {'😊': 'smiling face with smiling eyes'}, {'😏': 'smirking face'}, {'😒': 'unamused face', '😑': 'expressionless face'}, {'😷': 'face with medical mask'}, {'✈️': 'airplane', '✨': 'sparkles'}, {'😭': 'loudly crying face'}, {'😊': 'smiling face with smiling eyes'}, {'😂': 'face with tears of joy', '✋': 'raised hand', '😑': 'expressionless face'}, {'😩': 'weary face'}, {'😂': 'face with tears of joy', '😩': 'weary face'}, {'😧': 'anguished face', '😂': 'face with tears of joy', '😠': 'angry face'}, {'😑': 'expressionless face'}, {'😩': 'weary face'}, {'😫': 'tired face'}, {'😅': 'grinning face with sweat'}, {'😂': 'face with tears of joy'}, {'😂': 'face with tears of joy'}, {'☹️': 'frowning face', '😒': 'unamused face', '😑': 'expressionless face'}, {'😂': 'face with tears of joy'}, {'😘': 'face blowing a kiss', '❤️': 'red heart'}, {'😊': 'smiling face with smiling eyes'}, {'😥': 'sad but relieved face'}, {'😂': 'face with tears of joy'}, {'😁': 'beaming face with smiling eyes'}, {'😞': 'disappointed face', '☺️': 'smiling face'}, {'😅': 'grinning face with sweat'}, {'😊': 'smiling face with smiling eyes'}, {'😊': 'smiling face with smiling eyes'}, {'😢': 'crying face'}, {'😊': 'smiling face with smiling eyes'}, {'😒': 'unamused face'}, {'😭': 'loudly crying face', '😂': 'face with tears of joy'}, {'😡': 'pouting face', '😭': 'loudly crying face', '😖': 'confounded face'}, {'😒': 'unamused face', '😩': 'weary face', '😔': 'pensive face'}, {'💶': 'euro banknote', '💸': 'money with wings', '✔': 'check mark', '💵': 'dollar banknote'}, {'😑': 'expressionless face'}, {'💁🏽': 'person tipping hand: medium skin tone', '😳': 'flushed face', '🙈': 'see-no-evil monkey'}, {'😉': 'winking face'}, {'👈': 'backhand index pointing left'}, {'😏': 'smirking face'}, {'😑': 'expressionless face'}, {'❤️': 'red heart'}, {'😔': 'pensive face'}, {'😒': 'unamused face'}, {'😩': 'weary face'}, {'😊': 'smiling face with smiling eyes'}, {'😒': 'unamused face', '☔': 'umbrella with rain drops'}, {'😞': 'disappointed face'}, {'😑': 'expressionless face'}, {'❤️': 'red heart'}, {'😪': 'sleepy face'}, {'🤑': 'money-mouth face', '❤': 'red heart'}, {'😒': 'unamused face', '😂': 'face with tears of joy'}, {'❤': 'red heart'}, {'😄': 'grinning face with smiling eyes'}, {'😓': 'downcast face with sweat', '😑': 'expressionless face'}, {'😩': 'weary face', '😂': 'face with tears of joy'}, {'😂': 'face with tears of joy'}, {'😂': 'face with tears of joy'}, {'💍': 'ring', '😒': 'unamused face'}, {'😒': 'unamused face', '😂': 'face with tears of joy'}, {'😖': 'confounded face', '💳': 'credit card', '😩': 'weary face'}, {'😍': 'smiling face with heart-eyes'}, {'😄': 'grinning face with smiling eyes', '😒': 'unamused face', '❤️': 'red heart'}, {'😑': 'expressionless face'}, {'😄': 'grinning face with smiling eyes'}, {'😂': 'face with tears of joy'}, {'😂': 'face with tears of joy'}, {'😒': 'unamused face'}, {'😭': 'loudly crying face'}, {'😳': 'flushed face'}, {'😭': 'loudly crying face', '😩': 'weary face'}, {'😂': 'face with tears of joy', '🙄': 'face with rolling eyes'}, {'😒': 'unamused face'}, {'😑': 'expressionless face'}, {'😑': 'expressionless face'}, {'🗑': 'wastebasket'}, {'😅': 'grinning face with sweat'}, {'☔': 'umbrella with rain drops'}, {'😆': 'grinning squinting face', '💙': 'blue heart', '😊': 'smiling face with smiling eyes', '😭': 'loudly crying face'}, {'😔': 'pensive face'}, {'😒': 'unamused face'}, {'😊': 'smiling face with smiling eyes'}, {'😁': 'beaming face with smiling eyes', '😂': 'face with tears of joy'}, {'☺️': 'smiling face', '😊': 'smiling face with smiling eyes'}, {'😊': 'smiling face with smiling eyes'}, {'😊': 'smiling face with smiling eyes'}, {'😂': 'face with tears of joy'}, {'😊': 'smiling face with smiling eyes'}, {'😅': 'grinning face with sweat'}, {'😊': 'smiling face with smiling eyes'}, {'😊': 'smiling face with smiling eyes'}, {'😅': 'grinning face with sweat'}, {'✌': 'victory hand'}, {'😊': 'smiling face with smiling eyes'}, {'😢': 'crying face'}, {'😋': 'face savoring food', '😊': 'smiling face with smiling eyes', '🙇': 'person bowing'}, {'😘': 'face blowing a kiss'}, {'😊': 'smiling face with smiling eyes'}, {'😭': 'loudly crying face'}, {'😢': 'crying face'}, {'😊': 'smiling face with smiling eyes'}, {'😡': 'pouting face'}, {'😫': 'tired face'}, {'😩': 'weary face'}, {'❤️': 'red heart'}, {'😂': 'face with tears of joy', '✌️': 'victory hand', '😜': 'winking face with tongue'}, {'😂': 'face with tears of joy'}, {'😧': 'anguished face'}, {'😊': 'smiling face with smiling eyes'}, {'😍': 'smiling face with heart-eyes', '👧': 'girl'}, {'😂': 'face with tears of joy'}, {'😂': 'face with tears of joy'}, {'😒': 'unamused face'}, {'😒': 'unamused face'}, {'😑': 'expressionless face'}, {'😔': 'pensive face'}, {'😊': 'smiling face with smiling eyes'}, {'😂': 'face with tears of joy'}, {'😃': 'grinning face with big eyes', '😒': 'unamused face'}, {'✏': 'pencil', '✂': 'scissors', '📖': 'open book', '📓': 'notebook'}, {'😲': 'astonished face'}, {'😊': 'smiling face with smiling eyes'}, {'😒': 'unamused face'}, {'😕': 'confused face'}, {'😒': 'unamused face'}, {'😩': 'weary face'}, {'😳': 'flushed face', '😂': 'face with tears of joy'}, {'😂': 'face with tears of joy', '😩': 'weary face'}, {'😭': 'loudly crying face'}, {'😭': 'loudly crying face'}, {'😭': 'loudly crying face'}, {'😊': 'smiling face with smiling eyes'}, {'😆': 'grinning squinting face', '😎': 'smiling face with sunglasses', '😄': 'grinning face with smiling eyes'}, {'☺️': 'smiling face'}, {'😞': 'disappointed face'}, {'😂': 'face with tears of joy'}, {'☺': 'smiling face'}, {'😍': 'smiling face with heart-eyes'}, {'😀': 'grinning face'}, {'😾': 'pouting cat', '😠': 'angry face'}, {'😢': 'crying face'}, {'☔': 'umbrella with rain drops', '🚣': 'person rowing boat'}, {'😳': 'flushed face', '✋': 'raised hand', '😂': 'face with tears of joy'}, {'✋': 'raised hand'}, {'😃': 'grinning face with big eyes', '😍': 'smiling face with heart-eyes'}, {'☺️': 'smiling face'}, {'😐': 'neutral face', '😭': 'loudly crying face'}, {'🤑': 'money-mouth face'}, {'😔': 'pensive face'}, {'😂': 'face with tears of joy'}, {'😘': 'face blowing a kiss', '🍕': 'pizza'}, {'😔': 'pensive face'}, {'😔': 'pensive face'}, {'😫': 'tired face'}, {'😅': 'grinning face with sweat'}, {'😂': 'face with tears of joy'}, {'😊': 'smiling face with smiling eyes', '😒': 'unamused face'}, {'😀': 'grinning face'}, {'😡': 'pouting face'}, {'😕': 'confused face'}, {'😒': 'unamused face'}, {'😍': 'smiling face with heart-eyes'}, {'😴': 'sleeping face', '😒': 'unamused face'}, {'😫': 'tired face', '😊': 'smiling face with smiling eyes'}, {'😂': 'face with tears of joy'}, {'😊': 'smiling face with smiling eyes'}, {'✋': 'raised hand'}, {'❤️': 'red heart', '😊': 'smiling face with smiling eyes'}, {'😊': 'smiling face with smiling eyes'}, {'😂': 'face with tears of joy'}, {'😒': 'unamused face'}, {'😘': 'face blowing a kiss'}, {'😑': 'expressionless face'}, {'😒': 'unamused face', '😑': 'expressionless face'}, {'😂': 'face with tears of joy'}, {'😊': 'smiling face with smiling eyes'}, {'😊': 'smiling face with smiling eyes'}, {'😭': 'loudly crying face'}, {'😃': 'grinning face with big eyes', '😁': 'beaming face with smiling eyes', '😒': 'unamused face', '😩': 'weary face'}, {'😊': 'smiling face with smiling eyes'}, {'😒': 'unamused face'}, {'😍': 'smiling face with heart-eyes'}, {'🏐': 'volleyball'}, {'☺️': 'smiling face'}, {'😊': 'smiling face with smiling eyes'}, {'😰': 'anxious face with sweat', '😭': 'loudly crying face'}, {'☺️': 'smiling face'}, {'😕': 'confused face'}, {'😫': 'tired face', '😞': 'disappointed face'}, {'✊': 'raised fist'}, {'😭': 'loudly crying face'}, {'😋': 'face savoring food'}, {'😌': 'relieved face', '😂': 'face with tears of joy'}, {'😁': 'beaming face with smiling eyes', '😀': 'grinning face'}, {'😛': 'face with tongue'}, {'😂': 'face with tears of joy'}, {'😡': 'pouting face'}, {'☺': 'smiling face'}, {'😊': 'smiling face with smiling eyes'}, {'😄': 'grinning face with smiling eyes'}, {'☔': 'umbrella with rain drops', '☀️': 'sun'}, {'😄': 'grinning face with smiling eyes'}, {'😊': 'smiling face with smiling eyes'}, {'😈': 'smiling face with horns'}, {'😑': 'expressionless face'}, {'😡': 'pouting face', '😑': 'expressionless face'}, {'😑': 'expressionless face'}, {'😂': 'face with tears of joy'}, {'😄': 'grinning face with smiling eyes'}, {'😔': 'pensive face'}, {'😠': 'angry face'}, {'😭': 'loudly crying face'}, {'😒': 'unamused face'}, {'😑': 'expressionless face'}, {'😊': 'smiling face with smiling eyes'}, {'😂': 'face with tears of joy'}, {'😂': 'face with tears of joy'}, {'😂': 'face with tears of joy'}, {'😂': 'face with tears of joy'}, {'🙌🏼': 'raising hands: medium-light skin tone'}, {'😒': 'unamused face'}, {'❤️': 'red heart', '☺️': 'smiling face', '😍': 'smiling face with heart-eyes'}, {'😍': 'smiling face with heart-eyes'}, {'😒': 'unamused face'}, {'✌️': 'victory hand'}, {'🍕': 'pizza', '💯': 'hundred points', '😂': 'face with tears of joy'}, {'😎': 'smiling face with sunglasses'}, {'😜': 'winking face with tongue'}, {'✋': 'raised hand'}, {'😔': 'pensive face'}, {'🖕🏼': 'middle finger: medium-light skin tone'}, {'😒': 'unamused face'}, {'😂': 'face with tears of joy'}, {'😩': 'weary face'}, {'😴': 'sleeping face'}, {'😜': 'winking face with tongue'}, {'😂': 'face with tears of joy'}, {'😒': 'unamused face', '😂': 'face with tears of joy'}, {'😂': 'face with tears of joy'}, {'😈': 'smiling face with horns', '🔥': 'fire'}, {'😂': 'face with tears of joy'}, {'🇸🇸': 'flag: South Sudan'}, {'😡': 'pouting face'}, {'😒': 'unamused face'}, {'😝': 'squinting face with tongue', '😜': 'winking face with tongue'}, {'❤': 'red heart'}, {'😂': 'face with tears of joy'}]\n"
          ]
        }
      ]
    },
    {
      "cell_type": "code",
      "source": [
        "all_keys = set().union(*(d.keys() for d in f))"
      ],
      "metadata": {
        "id": "lOlF8nWoQ24B"
      },
      "execution_count": null,
      "outputs": []
    },
    {
      "cell_type": "code",
      "source": [
        "print(all_keys)"
      ],
      "metadata": {
        "id": "Yor8xPy4Q5mx",
        "outputId": "5df82fb1-7c05-42ce-8ab8-b980707e01a6",
        "colab": {
          "base_uri": "https://localhost:8080/"
        }
      },
      "execution_count": null,
      "outputs": [
        {
          "output_type": "stream",
          "name": "stdout",
          "text": [
            "{'🐻', '🌅', '🖊', '😜', '😻', '🐷', '☀️', '🍏', '👉', '👼', '💫', '💙', '💡', '🌯', '📺', '⛪', '😆', '🌈', '🐜', '😂', '😫', '😱', '🌿', '🌌', '✂️', '👌', '👦', '➡', '🍒', '📤', '🚛', '🔐', '‼️', '😲', '🔋', '🤑', '🐯', '✏️', '🎺', '🎧', '😰', '🗽', '🍀', '🐧', '🤔', '🍂', '👦🏿', '⛷', '☃', '😥', '👎', '😈', '🇸🇸', '😇', '🔦', '🙎', '👨\\u200d👩\\u200d👦\\u200d👦', '🍹', '🔒', '🕸', '😋', '🙏🏽', '✏', '👼🏿', '☝', '🎊', '💍', '🏦', '🐟', '💛', '😾', '📹', '🏹', '👸🏽', '💁', '✔', '✍', '🖖', '👉🏿', '🌶', '🐠', '🌪', '😎', '🍼', '📄', '🌧', '⚠️', '🍰', '👋🏻', '✝', '🎆', '👳', '🐊', '🐾', '🏆', '🐸', '👙', '♥️', '🐼', '⏳', '🗑', '☣', '🌤', '🔫', '😀', '🔊', '🚘', '💶', '👅', '🛏', '📖', '📝', '👫', '🍥', '⭕', '⚽', '🎂', '☁', '🐑', '😢', '🇨🇦', '😙', '🚮', '☁️', '☺', '🙍', '❤️', '😞', '💻', '🏿', '💸', '🌨', '💷', '😌', '💜', '🐀', '❣', '⏱', '💲', '🚶', '😓', '🙁', '©', '🌝', '🚬', '💧', '🚜', '😑', '😖', '🌠', '🐛', '🏒', '🎵', '🐔', '😔', '🆘', '🍔', '🙀', '🎮', '⛈', '📵', '🕷', '❌', '✈️', '😒', '😏', '🌳', '🔬', '🐏', '😣', '🌎', '🎄', '⭐', '✅', '🖐', '☄', '😽', '🙆🏻', '🙂', '🇪🇸', '🎙', '💕', '🌲', '👀', '🚡', '🏇', '🌂', '😡', '✔️', '🍚', '♐', '😛', '💄', '🍿', '🌴', '📈', '☺️', '👸', '📀', '🐘', '♥', '✒️', '👧', '🙌', '🍭', '👋', '🍁', '✊', '🐒', '👑', '🐥', '👪', '📻', '💈', '🍗', '🍇', '🚔', '🐰', '😿', '🐣', '🎁', '🐱', '😯', '🍅', '🌸', '🌊', '📜', '🙈', '💝', '🚑', '🌏', '👵', '🎎', '🐍', '📓', '🐮', '😁', '🌻', '🚣', '🚊', '🐳', '✂', '0⃣', '💐', '🎥', '😶', '✨', '👍', '🆗', '🎶', '❗', '🇮🇹', '☮', '✌', '🌍', '🎨', '💗', '🐚', '😄', '🇬🇧', '😤', '💌', '🌙', '🎼', '😅', '💞', '🇺🇸', '🔷', '🚫', '😦', '💎', '🅰', '👄', '👱', '🖼', '⛄', '🍵', '🔴', '⛽', '💦', '🏽', '🎅', '😴', '🏏', '🍸', '😭', '🌰', '♈', '➡️', '⏲', '🙏', '🍃', '🐿', '😮', '🈵', '😸', '🙏🏼', '💳', '🆓', '❄️', '🙇', '➰', '😚', '🎈', '🖕🏼', '😍', '🍋', '🏈', '🚽', '👍🏼', '🙃', '💣', '🎇', '👓', '🍎', '⚡', '🏡', '👠', '☹', '🔞', '💟', '📱', '😩', '1️⃣', '💁🏼', '🏃', '🚐', '😊', '💖', '😷', '😉', '😝', '👴', '🏐', '🍦', '😺', '😹', '❤', '💁🏽', '🍣', '❄', '⛸', '😳', '🌺', '🏋', '🌽', '😗', '🤐', '❓', '⛵', '👒', '🗿', '🕑', '🚗', '™', '😧', '🚂', '🚲', '🔓', '🍾', '👨\\u200d👩\\u200d👧\\u200d👧', '🍓', '🎤', '🗣', '☹️', '🐗', '👩', '👆', '🙌🏼', '🐨', '💓', '🎉', '💵', '😐', '👶', '⚫', '🎯', '👨', '🕰', '🅿️', '👈', '🌞', '📥', '😃', '👻', '💀', '🍍', '💪', '🌬', '👗', '🌼', '👿', '🍫', '😠', '👐', '🍕', '🎑', '😕', '💋', '💩', '✌️', '🤕', '🚙', '🔱', '👲', '🦃', '🏥', '🏵', '🙊', '🔕', '☀', '🍑', '✋', '🎹', '🍟', '☔', '🔮', '🆙', '🎭', '🚌', '🍝', '👔', '🍆', '🌃', '☝️', '🍴', '✖', '☕', '🌟', '😘', '😪', '💑', '🍺', '⚓', '🔥', '⬆️', '🚪', '🌵', '👂', '😟', '😨', '🦄', '🏰', '🇯🇵', '🙄', '🐅', '😼', '🌀', '👎🏼', '®', '💯', '🆒', '🍻'}\n"
          ]
        }
      ]
    },
    {
      "cell_type": "code",
      "source": [
        "len(all_keys)"
      ],
      "metadata": {
        "id": "fEodQA1qQ5_t",
        "outputId": "b0a14137-0c2c-4a8e-cdf4-16088c2fcc20",
        "colab": {
          "base_uri": "https://localhost:8080/"
        }
      },
      "execution_count": null,
      "outputs": [
        {
          "output_type": "execute_result",
          "data": {
            "text/plain": [
              "453"
            ]
          },
          "metadata": {},
          "execution_count": 16
        }
      ]
    },
    {
      "cell_type": "code",
      "source": [
        "!pip install sentencepiece"
      ],
      "metadata": {
        "colab": {
          "base_uri": "https://localhost:8080/"
        },
        "id": "7t6UmU_hGl9q",
        "outputId": "f494dfb7-47a5-4a0d-e6f2-2b3b5df964db"
      },
      "execution_count": null,
      "outputs": [
        {
          "output_type": "stream",
          "name": "stdout",
          "text": [
            "Looking in indexes: https://pypi.org/simple, https://us-python.pkg.dev/colab-wheels/public/simple/\n",
            "Collecting sentencepiece\n",
            "  Downloading sentencepiece-0.1.96-cp37-cp37m-manylinux_2_17_x86_64.manylinux2014_x86_64.whl (1.2 MB)\n",
            "\u001b[K     |████████████████████████████████| 1.2 MB 4.3 MB/s \n",
            "\u001b[?25hInstalling collected packages: sentencepiece\n",
            "Successfully installed sentencepiece-0.1.96\n"
          ]
        }
      ]
    },
    {
      "cell_type": "code",
      "source": [
        "PRE_TRAINED_MODEL_NAME = 'google/electra-base-discriminator'"
      ],
      "metadata": {
        "id": "Ed4yXqunQ8Ko"
      },
      "execution_count": 8,
      "outputs": []
    },
    {
      "cell_type": "code",
      "source": [
        "from transformers import ElectraTokenizer\n",
        "\n",
        "tokenizer = ElectraTokenizer.from_pretrained(PRE_TRAINED_MODEL_NAME)\n",
        "#tokenizer.add_tokens(['⭕', '♐', '👋', '👴', '🤔', '😳', '✔', '🎶', '😂', '😪', '⛽', '😤', '🏋', '💌', '🌏', '♥', '🎙', '💐', '🏇', '☃', '👑', '📄', '🙁', '🐊', '🌸', '☹', '💦', '⏲', '🙏🏽', '😉', '🍅', '🎮', '📹', '😄', '🎉', '😩', '😮', '🍂', '🙎', '😟', '😫', '🔫', '🙏', '😀', '⚡', '💁', '😅', '👎', '®', '❄', '🌧', '😌', '🏹', '✏️', '👍', '⏳', '💸', '👦', '🏽', '😖', '👼', '🐥', '🐜', '🌊', '😼', '✂️', '😰', '🍝', '💀', '🍿', '🙇', '🚣', '💎', '😍', '🍋', '👲', '🙌🏼', '🔒', '🌟', '📜', '💋', '⚽', '☀', '👋🏻', '🌌', '🏵', '🍀', '🚊', '🍣', '😊', '👳', '🙃', '😒', '🍻', '🏦', '📻', '🙄', '👩', '🌲', '🍏', '😞', '🔋', '👉', '🐸', '🙆🏻', '🆓', '🔮', '🍦', '💝', '🆙', '🚛', '😆', '☕', '🏰', '🆗', '🐣', '🌰', '🤑', '🔦', '🕸', '👅', '🅰', '🌈', '🎼', '🌝', '❗', '🔴', '🚐', '🌎', '😋', '🍟', '🌵', '💁🏼', '✖', '🍰', '🍹', '💷', '🚮', '🍇', '✅', '🏈', '👧', '👎🏼', '🤕', '👐', '🔬', '™', '🚬', '🚌', '🐼', '🚂', '👱', '📝', '‼️', '🌙', '🖊', '🍕', '😘', '💕', '🍗', '🇸🇸', '👂', '💖', '📈', '🏐', '⛄', '♥️', '🍸', '👿', '🎅', '🐱', '🤐', '🚜', '🐨', '🍚', '🎭', '⏱', '🚲', '➰', '⛪', '🍒', '😸', '🙍', '💯', '😃', '🎨', '💲', '🔷', '🗽', '👒', '🍴', '😣', '👫', '🚙', '🙂', '💈', '👈', '🐅', '🍁', '📓', '😢', '👉🏿', '🈵', '💄', '🍫', '💙', '🐍', '⚠️', '🖖', '👆', '✍', '🍑', '⛷', '♈', '🐑', '😻', '🍾', '🍍', '🎈', '😗', '✒️', '🖼', '👗', '👨', '😝', '😾', '📥', '🐧', '🌳', '❤', '😚', '🎄', '👵', '👸🏽', '➡️', '✂', '😐', '😎', '💛', '👨\\u200d👩\\u200d👦\\u200d👦', '⬆️', '©', '❌', '⚓', '🏡', '🚡', '😡', '😱', '📀', '⛵', '🐿', '😓', '😁', '🐘', '🍔', '⭐', '🐾', '🏒', '🍼', '🎯', '🐚', '😔', '❣', '🦃', '💧', '👍🏼', '🆒', '🐟', '💍', '💪', '🚗', '💓', '😽', '🖐', '😿', '💑', '😴', '🚫', '👀', '❄️', '🍃', '✌', '🐷', '🌪', '😹', '🔓', '🌺', '😈', '😛', '🌴', '☄', '🐳', '💗', '🌻', '🐀', '😨', '😙', '💶', '😑', '🐰', '🇪🇸', '🔐', '⛈', '😶', '🇮🇹', '❓', '😦', '🌼', '🌤', '🖕🏼', '➡', '🌨', '⛸', '👪', '📖', '🍎', '👸', '🐗', '🆘', '🗣', '🎁', '🌯', '🏥', '🐏', '🔕', '😧', '🕷', '☝️', '😕', '🇯🇵', '👓', '🔥', '🍵', '✨', '🔱', '📵', '📺', '💳', '🇺🇸', '👄', '💫', '🚑', '😲', '🎆', '🙀', '😜', '📱', '🌿', '❤️', '🍭', '✏', '☺', '⚫', '🎺', '🌍', '🛏', '🎵', '0⃣', '🚘', '💣', '🏃', '😇', '🚪', '🎂', '😥', '😠', '😺', '🔞', '☝', '🌃', '🔊', '🏆', '🎊', '🍥', '🚶', '☁️', '🐔', '☔', '😯', '🌠', '👙', '🎤', '🌬', '✌️', '☮', '🦄', '💵', '🍺', '🍆', '🗑', '📤', '🕰', '😷', '🐛', '🌅', '✊', '🚔', '☹️', '🍓', '🙏🏼', '👠', '🐯', '☁', '🗿', '🎇', '💟', '💻', '💞', '🇨🇦', '✝', '🎧', '✔️', '🐒', '💁🏽', '🐮', '🌂', '1️⃣', '🌽', '✈️', '✋', '💡', '🙌', '👨\\u200d👩\\u200d👧\\u200d👧', '🕑', '🌶', '🎎', '👶', '💩', '🏏', '🏿', '☺️', '🌞', '🙈', '💜', '👌', '🇬🇧', '🐠', '👼🏿', '☣', '☀️', '👻', '🎑', '🎹', '😭', '🌀', '🙊', '👦🏿', '😏', '🅿️', '🐻', '🎥', '👔', '🚽'])\n"
      ],
      "metadata": {
        "id": "KgBXlZEtRCx4",
        "outputId": "9845be2e-beab-4d3b-d163-4f73d7939263",
        "colab": {
          "base_uri": "https://localhost:8080/",
          "height": 113,
          "referenced_widgets": [
            "43f6fe1f65834c2081ca93d0b0026987",
            "c8636488863f4f4bbf0803dddf48e8a8",
            "5d6a85e3a0ab47ae9cfc987e25bd8fb8",
            "8ff5956b1a1c43febb040a582a87c021",
            "cfd16758ec09414ca0dfb2c0873fbdb7",
            "d1337e02a8cc481088cd0a7d1b72c509",
            "816947778a7443e9b2cb9ee3dfac0935",
            "fed8e4de7eb1405b8f7455b1054b1ada",
            "47596c6bb20e46cd9f124561630bd60a",
            "179f909c3ffe4da7a2b271446cc3abac",
            "2d4f1b47828b426c8804b02acfee4cdc",
            "e8a975e3b00b4114b3463d5f7d3a11ab",
            "69b25b5fb3f041cabc42834c7abafab1",
            "ebcf4a315eb34863a5deceaf2fa9f0dc",
            "75e215633f6d401d9eb6270b1e599630",
            "bd39eb506ffe46afabff05dafbe00082",
            "4ef4fb72359f4358941c11b699cd5cde",
            "2c46c9ef0b9d4a87b345ce41140a112d",
            "9b9da5b378a54e7ea67f9bfe6129d508",
            "34b0a2bb15b04fbd8a772ec4bc4924d7",
            "9845688c7de64aa089a0a09ea60fdbb7",
            "0ddecc2e3d1848da84931bf80161829e",
            "0ca9ac6356024c3b9790a8ae228b4baf",
            "39dadafb831242f8aa330ad4617ea9df",
            "aec8e8ef965345b9888af09a6efeac0e",
            "8edd4103247a4bcdab2ccd26538d7c85",
            "29bfde07da5c4962b56c0fc2eee73b85",
            "7a8284db418146c0a6b585bd2e82bd97",
            "5c15b0a49c2746a9a998827dad2e38b7",
            "474c78722931406db6e211c108ad11be",
            "b32109f516424369a7b51a3c99a395f2",
            "d03d2e6f71484c5697a472a4928cf037",
            "b640768984e54beb859bb228fce31231"
          ]
        }
      },
      "execution_count": 9,
      "outputs": [
        {
          "output_type": "display_data",
          "data": {
            "text/plain": [
              "Downloading:   0%|          | 0.00/226k [00:00<?, ?B/s]"
            ],
            "application/vnd.jupyter.widget-view+json": {
              "version_major": 2,
              "version_minor": 0,
              "model_id": "43f6fe1f65834c2081ca93d0b0026987"
            }
          },
          "metadata": {}
        },
        {
          "output_type": "display_data",
          "data": {
            "text/plain": [
              "Downloading:   0%|          | 0.00/27.0 [00:00<?, ?B/s]"
            ],
            "application/vnd.jupyter.widget-view+json": {
              "version_major": 2,
              "version_minor": 0,
              "model_id": "e8a975e3b00b4114b3463d5f7d3a11ab"
            }
          },
          "metadata": {}
        },
        {
          "output_type": "display_data",
          "data": {
            "text/plain": [
              "Downloading:   0%|          | 0.00/666 [00:00<?, ?B/s]"
            ],
            "application/vnd.jupyter.widget-view+json": {
              "version_major": 2,
              "version_minor": 0,
              "model_id": "0ca9ac6356024c3b9790a8ae228b4baf"
            }
          },
          "metadata": {}
        }
      ]
    },
    {
      "cell_type": "code",
      "source": [
        "token_lens = []\n",
        "\n",
        "for txt in df_train['Tweet']:\n",
        "  tokens = tokenizer.encode(txt, max_length=512)\n",
        "  token_lens.append(len(tokens))"
      ],
      "metadata": {
        "id": "pjfniWP-RRGZ",
        "outputId": "3472ddaa-702d-4cfb-a9df-36350c26cdfe",
        "colab": {
          "base_uri": "https://localhost:8080/"
        }
      },
      "execution_count": null,
      "outputs": [
        {
          "output_type": "stream",
          "name": "stderr",
          "text": [
            "Truncation was not explicitly activated but `max_length` is provided a specific value, please use `truncation=True` to explicitly truncate examples to max length. Defaulting to 'longest_first' truncation strategy. If you encode pairs of sequences (GLUE-style) with the tokenizer you can select this strategy more precisely by providing a specific strategy to `truncation`.\n"
          ]
        }
      ]
    },
    {
      "cell_type": "code",
      "source": [
        "import seaborn as sns\n",
        "\n",
        "sns.distplot(token_lens)\n",
        "plt.xlim([0, 256]);\n",
        "plt.xlabel('Token count');"
      ],
      "metadata": {
        "id": "_WMoxiTqRXTz",
        "outputId": "0d2fad14-b21e-4658-c043-5e9383c1c909",
        "colab": {
          "base_uri": "https://localhost:8080/",
          "height": 336
        }
      },
      "execution_count": null,
      "outputs": [
        {
          "output_type": "stream",
          "name": "stderr",
          "text": [
            "/usr/local/lib/python3.7/dist-packages/seaborn/distributions.py:2619: FutureWarning: `distplot` is a deprecated function and will be removed in a future version. Please adapt your code to use either `displot` (a figure-level function with similar flexibility) or `histplot` (an axes-level function for histograms).\n",
            "  warnings.warn(msg, FutureWarning)\n"
          ]
        },
        {
          "output_type": "display_data",
          "data": {
            "text/plain": [
              "<Figure size 432x288 with 1 Axes>"
            ],
            "image/png": "[encoded data removed]"
          },
          "metadata": {
            "needs_background": "light"
          }
        }
      ]
    },
    {
      "cell_type": "code",
      "source": [
        "df_train_X= list(df_train[\"Tweet\"])\n",
        "df_val_X = list(df_val[\"Tweet\"])"
      ],
      "metadata": {
        "id": "hWsDife-UIbd"
      },
      "execution_count": 10,
      "outputs": []
    },
    {
      "cell_type": "code",
      "source": [
        "y_train = list(df_train[\"Label\"])\n",
        "\n",
        "y_val = list(df_val[\"Label\"])\n",
        "\n",
        "y_test = list(df_test[\"Label\"])"
      ],
      "metadata": {
        "id": "DiMrXTCOUMuZ"
      },
      "execution_count": 11,
      "outputs": []
    },
    {
      "cell_type": "code",
      "source": [
        "X_train_tokenized = tokenizer(df_train_X, padding=True, truncation=True, max_length=512)\n",
        "X_val_tokenized = tokenizer(df_val_X, padding=True, truncation=True, max_length=512)"
      ],
      "metadata": {
        "id": "OvdG037jURWD"
      },
      "execution_count": 12,
      "outputs": []
    },
    {
      "cell_type": "code",
      "source": [
        "class Dataset(torch.utils.data.Dataset):\n",
        "    def __init__(self, encodings, labels=None):\n",
        "        self.encodings = encodings\n",
        "        self.labels = labels\n",
        "\n",
        "    def __getitem__(self, idx):\n",
        "        item = {key: torch.tensor(val[idx]) for key, val in self.encodings.items()}\n",
        "        item[\"labels\"] = torch.tensor([self.labels[idx]])\n",
        "        return item\n",
        "\n",
        "    def __len__(self):\n",
        "        return len(self.encodings[\"input_ids\"])"
      ],
      "metadata": {
        "id": "8gwITkq5Y7_l"
      },
      "execution_count": 13,
      "outputs": []
    },
    {
      "cell_type": "code",
      "source": [
        "train_dataset = Dataset(X_train_tokenized, y_train)\n",
        "val_dataset = Dataset(X_val_tokenized, y_val)"
      ],
      "metadata": {
        "id": "j_3xbLHqZKLf"
      },
      "execution_count": 14,
      "outputs": []
    },
    {
      "cell_type": "code",
      "source": [
        "device = torch.device(\"cuda:0\" if torch.cuda.is_available() else \"cpu\")\n",
        "print(device)"
      ],
      "metadata": {
        "id": "4oTBRspYZNnD",
        "outputId": "9652df1b-7989-451c-d627-307517fa228a",
        "colab": {
          "base_uri": "https://localhost:8080/"
        }
      },
      "execution_count": 15,
      "outputs": [
        {
          "output_type": "stream",
          "name": "stdout",
          "text": [
            "cuda:0\n"
          ]
        }
      ]
    },
    {
      "cell_type": "code",
      "source": [
        "from transformers import ElectraForSequenceClassification\n",
        "\n",
        "model = ElectraForSequenceClassification.from_pretrained(\n",
        "    \"google/electra-base-discriminator\", # Use the 12-layer BERT model, with an uncased vocab.\n",
        "    num_labels = 2, # The number of output labels--2 for binary classification.\n",
        "                    # You can increase this for multi-class tasks.   \n",
        "    output_attentions = False, # Whether the model returns attentions weights.\n",
        "    output_hidden_states = False, # Whether the model returns all hidden-states.\n",
        ")\n",
        "\n",
        "#model.resize_token_embeddings(len(tokenizer))"
      ],
      "metadata": {
        "id": "WE9sjrF8UazW",
        "outputId": "1ad184ea-1b5a-4c80-dde5-190044d8689e",
        "colab": {
          "base_uri": "https://localhost:8080/",
          "height": 162,
          "referenced_widgets": [
            "3cb10c18ed5d49db901c6b4578689feb",
            "c597efa9dc604e7eaaba4b1f9f7ec92b",
            "8f2de5dc0cba48388bf33bf59123b89a",
            "3389c22be51449c0a73f00b8aba3a110",
            "02a2730bfa0242b681aca6468ab6aa89",
            "da3f612b85f54f5aa279bc7385d5d109",
            "04902ad78ea047d89d22c7c63cebe879",
            "148214ff34e04ef4a617de55f51be84e",
            "814a1c17cb3741a49b342c710e7e9421",
            "715000150d95420191f117b6f483b44f",
            "9d35e7d6e1994b00bcb6e6418184f69f"
          ]
        }
      },
      "execution_count": 16,
      "outputs": [
        {
          "output_type": "display_data",
          "data": {
            "text/plain": [
              "Downloading:   0%|          | 0.00/420M [00:00<?, ?B/s]"
            ],
            "application/vnd.jupyter.widget-view+json": {
              "version_major": 2,
              "version_minor": 0,
              "model_id": "3cb10c18ed5d49db901c6b4578689feb"
            }
          },
          "metadata": {}
        },
        {
          "output_type": "stream",
          "name": "stderr",
          "text": [
            "Some weights of the model checkpoint at google/electra-base-discriminator were not used when initializing ElectraForSequenceClassification: ['discriminator_predictions.dense_prediction.weight', 'discriminator_predictions.dense_prediction.bias', 'discriminator_predictions.dense.weight', 'discriminator_predictions.dense.bias']\n",
            "- This IS expected if you are initializing ElectraForSequenceClassification from the checkpoint of a model trained on another task or with another architecture (e.g. initializing a BertForSequenceClassification model from a BertForPreTraining model).\n",
            "- This IS NOT expected if you are initializing ElectraForSequenceClassification from the checkpoint of a model that you expect to be exactly identical (initializing a BertForSequenceClassification model from a BertForSequenceClassification model).\n",
            "Some weights of ElectraForSequenceClassification were not initialized from the model checkpoint at google/electra-base-discriminator and are newly initialized: ['classifier.dense.weight', 'classifier.out_proj.weight', 'classifier.dense.bias', 'classifier.out_proj.bias']\n",
            "You should probably TRAIN this model on a down-stream task to be able to use it for predictions and inference.\n"
          ]
        }
      ]
    },
    {
      "cell_type": "code",
      "source": [
        "model.to(device)"
      ],
      "metadata": {
        "id": "elnLABNkZQGR",
        "outputId": "d17dc095-d754-40cf-95cd-aa90677b95ce",
        "colab": {
          "base_uri": "https://localhost:8080/"
        }
      },
      "execution_count": 17,
      "outputs": [
        {
          "output_type": "execute_result",
          "data": {
            "text/plain": [
              "ElectraForSequenceClassification(\n",
              "  (electra): ElectraModel(\n",
              "    (embeddings): ElectraEmbeddings(\n",
              "      (word_embeddings): Embedding(30522, 768, padding_idx=0)\n",
              "      (position_embeddings): Embedding(512, 768)\n",
              "      (token_type_embeddings): Embedding(2, 768)\n",
              "      (LayerNorm): LayerNorm((768,), eps=1e-12, elementwise_affine=True)\n",
              "      (dropout): Dropout(p=0.1, inplace=False)\n",
              "    )\n",
              "    (encoder): ElectraEncoder(\n",
              "      (layer): ModuleList(\n",
              "        (0): ElectraLayer(\n",
              "          (attention): ElectraAttention(\n",
              "            (self): ElectraSelfAttention(\n",
              "              (query): Linear(in_features=768, out_features=768, bias=True)\n",
              "              (key): Linear(in_features=768, out_features=768, bias=True)\n",
              "              (value): Linear(in_features=768, out_features=768, bias=True)\n",
              "              (dropout): Dropout(p=0.1, inplace=False)\n",
              "            )\n",
              "            (output): ElectraSelfOutput(\n",
              "              (dense): Linear(in_features=768, out_features=768, bias=True)\n",
              "              (LayerNorm): LayerNorm((768,), eps=1e-12, elementwise_affine=True)\n",
              "              (dropout): Dropout(p=0.1, inplace=False)\n",
              "            )\n",
              "          )\n",
              "          (intermediate): ElectraIntermediate(\n",
              "            (dense): Linear(in_features=768, out_features=3072, bias=True)\n",
              "            (intermediate_act_fn): GELUActivation()\n",
              "          )\n",
              "          (output): ElectraOutput(\n",
              "            (dense): Linear(in_features=3072, out_features=768, bias=True)\n",
              "            (LayerNorm): LayerNorm((768,), eps=1e-12, elementwise_affine=True)\n",
              "            (dropout): Dropout(p=0.1, inplace=False)\n",
              "          )\n",
              "        )\n",
              "        (1): ElectraLayer(\n",
              "          (attention): ElectraAttention(\n",
              "            (self): ElectraSelfAttention(\n",
              "              (query): Linear(in_features=768, out_features=768, bias=True)\n",
              "              (key): Linear(in_features=768, out_features=768, bias=True)\n",
              "              (value): Linear(in_features=768, out_features=768, bias=True)\n",
              "              (dropout): Dropout(p=0.1, inplace=False)\n",
              "            )\n",
              "            (output): ElectraSelfOutput(\n",
              "              (dense): Linear(in_features=768, out_features=768, bias=True)\n",
              "              (LayerNorm): LayerNorm((768,), eps=1e-12, elementwise_affine=True)\n",
              "              (dropout): Dropout(p=0.1, inplace=False)\n",
              "            )\n",
              "          )\n",
              "          (intermediate): ElectraIntermediate(\n",
              "            (dense): Linear(in_features=768, out_features=3072, bias=True)\n",
              "            (intermediate_act_fn): GELUActivation()\n",
              "          )\n",
              "          (output): ElectraOutput(\n",
              "            (dense): Linear(in_features=3072, out_features=768, bias=True)\n",
              "            (LayerNorm): LayerNorm((768,), eps=1e-12, elementwise_affine=True)\n",
              "            (dropout): Dropout(p=0.1, inplace=False)\n",
              "          )\n",
              "        )\n",
              "        (2): ElectraLayer(\n",
              "          (attention): ElectraAttention(\n",
              "            (self): ElectraSelfAttention(\n",
              "              (query): Linear(in_features=768, out_features=768, bias=True)\n",
              "              (key): Linear(in_features=768, out_features=768, bias=True)\n",
              "              (value): Linear(in_features=768, out_features=768, bias=True)\n",
              "              (dropout): Dropout(p=0.1, inplace=False)\n",
              "            )\n",
              "            (output): ElectraSelfOutput(\n",
              "              (dense): Linear(in_features=768, out_features=768, bias=True)\n",
              "              (LayerNorm): LayerNorm((768,), eps=1e-12, elementwise_affine=True)\n",
              "              (dropout): Dropout(p=0.1, inplace=False)\n",
              "            )\n",
              "          )\n",
              "          (intermediate): ElectraIntermediate(\n",
              "            (dense): Linear(in_features=768, out_features=3072, bias=True)\n",
              "            (intermediate_act_fn): GELUActivation()\n",
              "          )\n",
              "          (output): ElectraOutput(\n",
              "            (dense): Linear(in_features=3072, out_features=768, bias=True)\n",
              "            (LayerNorm): LayerNorm((768,), eps=1e-12, elementwise_affine=True)\n",
              "            (dropout): Dropout(p=0.1, inplace=False)\n",
              "          )\n",
              "        )\n",
              "        (3): ElectraLayer(\n",
              "          (attention): ElectraAttention(\n",
              "            (self): ElectraSelfAttention(\n",
              "              (query): Linear(in_features=768, out_features=768, bias=True)\n",
              "              (key): Linear(in_features=768, out_features=768, bias=True)\n",
              "              (value): Linear(in_features=768, out_features=768, bias=True)\n",
              "              (dropout): Dropout(p=0.1, inplace=False)\n",
              "            )\n",
              "            (output): ElectraSelfOutput(\n",
              "              (dense): Linear(in_features=768, out_features=768, bias=True)\n",
              "              (LayerNorm): LayerNorm((768,), eps=1e-12, elementwise_affine=True)\n",
              "              (dropout): Dropout(p=0.1, inplace=False)\n",
              "            )\n",
              "          )\n",
              "          (intermediate): ElectraIntermediate(\n",
              "            (dense): Linear(in_features=768, out_features=3072, bias=True)\n",
              "            (intermediate_act_fn): GELUActivation()\n",
              "          )\n",
              "          (output): ElectraOutput(\n",
              "            (dense): Linear(in_features=3072, out_features=768, bias=True)\n",
              "            (LayerNorm): LayerNorm((768,), eps=1e-12, elementwise_affine=True)\n",
              "            (dropout): Dropout(p=0.1, inplace=False)\n",
              "          )\n",
              "        )\n",
              "        (4): ElectraLayer(\n",
              "          (attention): ElectraAttention(\n",
              "            (self): ElectraSelfAttention(\n",
              "              (query): Linear(in_features=768, out_features=768, bias=True)\n",
              "              (key): Linear(in_features=768, out_features=768, bias=True)\n",
              "              (value): Linear(in_features=768, out_features=768, bias=True)\n",
              "              (dropout): Dropout(p=0.1, inplace=False)\n",
              "            )\n",
              "            (output): ElectraSelfOutput(\n",
              "              (dense): Linear(in_features=768, out_features=768, bias=True)\n",
              "              (LayerNorm): LayerNorm((768,), eps=1e-12, elementwise_affine=True)\n",
              "              (dropout): Dropout(p=0.1, inplace=False)\n",
              "            )\n",
              "          )\n",
              "          (intermediate): ElectraIntermediate(\n",
              "            (dense): Linear(in_features=768, out_features=3072, bias=True)\n",
              "            (intermediate_act_fn): GELUActivation()\n",
              "          )\n",
              "          (output): ElectraOutput(\n",
              "            (dense): Linear(in_features=3072, out_features=768, bias=True)\n",
              "            (LayerNorm): LayerNorm((768,), eps=1e-12, elementwise_affine=True)\n",
              "            (dropout): Dropout(p=0.1, inplace=False)\n",
              "          )\n",
              "        )\n",
              "        (5): ElectraLayer(\n",
              "          (attention): ElectraAttention(\n",
              "            (self): ElectraSelfAttention(\n",
              "              (query): Linear(in_features=768, out_features=768, bias=True)\n",
              "              (key): Linear(in_features=768, out_features=768, bias=True)\n",
              "              (value): Linear(in_features=768, out_features=768, bias=True)\n",
              "              (dropout): Dropout(p=0.1, inplace=False)\n",
              "            )\n",
              "            (output): ElectraSelfOutput(\n",
              "              (dense): Linear(in_features=768, out_features=768, bias=True)\n",
              "              (LayerNorm): LayerNorm((768,), eps=1e-12, elementwise_affine=True)\n",
              "              (dropout): Dropout(p=0.1, inplace=False)\n",
              "            )\n",
              "          )\n",
              "          (intermediate): ElectraIntermediate(\n",
              "            (dense): Linear(in_features=768, out_features=3072, bias=True)\n",
              "            (intermediate_act_fn): GELUActivation()\n",
              "          )\n",
              "          (output): ElectraOutput(\n",
              "            (dense): Linear(in_features=3072, out_features=768, bias=True)\n",
              "            (LayerNorm): LayerNorm((768,), eps=1e-12, elementwise_affine=True)\n",
              "            (dropout): Dropout(p=0.1, inplace=False)\n",
              "          )\n",
              "        )\n",
              "        (6): ElectraLayer(\n",
              "          (attention): ElectraAttention(\n",
              "            (self): ElectraSelfAttention(\n",
              "              (query): Linear(in_features=768, out_features=768, bias=True)\n",
              "              (key): Linear(in_features=768, out_features=768, bias=True)\n",
              "              (value): Linear(in_features=768, out_features=768, bias=True)\n",
              "              (dropout): Dropout(p=0.1, inplace=False)\n",
              "            )\n",
              "            (output): ElectraSelfOutput(\n",
              "              (dense): Linear(in_features=768, out_features=768, bias=True)\n",
              "              (LayerNorm): LayerNorm((768,), eps=1e-12, elementwise_affine=True)\n",
              "              (dropout): Dropout(p=0.1, inplace=False)\n",
              "            )\n",
              "          )\n",
              "          (intermediate): ElectraIntermediate(\n",
              "            (dense): Linear(in_features=768, out_features=3072, bias=True)\n",
              "            (intermediate_act_fn): GELUActivation()\n",
              "          )\n",
              "          (output): ElectraOutput(\n",
              "            (dense): Linear(in_features=3072, out_features=768, bias=True)\n",
              "            (LayerNorm): LayerNorm((768,), eps=1e-12, elementwise_affine=True)\n",
              "            (dropout): Dropout(p=0.1, inplace=False)\n",
              "          )\n",
              "        )\n",
              "        (7): ElectraLayer(\n",
              "          (attention): ElectraAttention(\n",
              "            (self): ElectraSelfAttention(\n",
              "              (query): Linear(in_features=768, out_features=768, bias=True)\n",
              "              (key): Linear(in_features=768, out_features=768, bias=True)\n",
              "              (value): Linear(in_features=768, out_features=768, bias=True)\n",
              "              (dropout): Dropout(p=0.1, inplace=False)\n",
              "            )\n",
              "            (output): ElectraSelfOutput(\n",
              "              (dense): Linear(in_features=768, out_features=768, bias=True)\n",
              "              (LayerNorm): LayerNorm((768,), eps=1e-12, elementwise_affine=True)\n",
              "              (dropout): Dropout(p=0.1, inplace=False)\n",
              "            )\n",
              "          )\n",
              "          (intermediate): ElectraIntermediate(\n",
              "            (dense): Linear(in_features=768, out_features=3072, bias=True)\n",
              "            (intermediate_act_fn): GELUActivation()\n",
              "          )\n",
              "          (output): ElectraOutput(\n",
              "            (dense): Linear(in_features=3072, out_features=768, bias=True)\n",
              "            (LayerNorm): LayerNorm((768,), eps=1e-12, elementwise_affine=True)\n",
              "            (dropout): Dropout(p=0.1, inplace=False)\n",
              "          )\n",
              "        )\n",
              "        (8): ElectraLayer(\n",
              "          (attention): ElectraAttention(\n",
              "            (self): ElectraSelfAttention(\n",
              "              (query): Linear(in_features=768, out_features=768, bias=True)\n",
              "              (key): Linear(in_features=768, out_features=768, bias=True)\n",
              "              (value): Linear(in_features=768, out_features=768, bias=True)\n",
              "              (dropout): Dropout(p=0.1, inplace=False)\n",
              "            )\n",
              "            (output): ElectraSelfOutput(\n",
              "              (dense): Linear(in_features=768, out_features=768, bias=True)\n",
              "              (LayerNorm): LayerNorm((768,), eps=1e-12, elementwise_affine=True)\n",
              "              (dropout): Dropout(p=0.1, inplace=False)\n",
              "            )\n",
              "          )\n",
              "          (intermediate): ElectraIntermediate(\n",
              "            (dense): Linear(in_features=768, out_features=3072, bias=True)\n",
              "            (intermediate_act_fn): GELUActivation()\n",
              "          )\n",
              "          (output): ElectraOutput(\n",
              "            (dense): Linear(in_features=3072, out_features=768, bias=True)\n",
              "            (LayerNorm): LayerNorm((768,), eps=1e-12, elementwise_affine=True)\n",
              "            (dropout): Dropout(p=0.1, inplace=False)\n",
              "          )\n",
              "        )\n",
              "        (9): ElectraLayer(\n",
              "          (attention): ElectraAttention(\n",
              "            (self): ElectraSelfAttention(\n",
              "              (query): Linear(in_features=768, out_features=768, bias=True)\n",
              "              (key): Linear(in_features=768, out_features=768, bias=True)\n",
              "              (value): Linear(in_features=768, out_features=768, bias=True)\n",
              "              (dropout): Dropout(p=0.1, inplace=False)\n",
              "            )\n",
              "            (output): ElectraSelfOutput(\n",
              "              (dense): Linear(in_features=768, out_features=768, bias=True)\n",
              "              (LayerNorm): LayerNorm((768,), eps=1e-12, elementwise_affine=True)\n",
              "              (dropout): Dropout(p=0.1, inplace=False)\n",
              "            )\n",
              "          )\n",
              "          (intermediate): ElectraIntermediate(\n",
              "            (dense): Linear(in_features=768, out_features=3072, bias=True)\n",
              "            (intermediate_act_fn): GELUActivation()\n",
              "          )\n",
              "          (output): ElectraOutput(\n",
              "            (dense): Linear(in_features=3072, out_features=768, bias=True)\n",
              "            (LayerNorm): LayerNorm((768,), eps=1e-12, elementwise_affine=True)\n",
              "            (dropout): Dropout(p=0.1, inplace=False)\n",
              "          )\n",
              "        )\n",
              "        (10): ElectraLayer(\n",
              "          (attention): ElectraAttention(\n",
              "            (self): ElectraSelfAttention(\n",
              "              (query): Linear(in_features=768, out_features=768, bias=True)\n",
              "              (key): Linear(in_features=768, out_features=768, bias=True)\n",
              "              (value): Linear(in_features=768, out_features=768, bias=True)\n",
              "              (dropout): Dropout(p=0.1, inplace=False)\n",
              "            )\n",
              "            (output): ElectraSelfOutput(\n",
              "              (dense): Linear(in_features=768, out_features=768, bias=True)\n",
              "              (LayerNorm): LayerNorm((768,), eps=1e-12, elementwise_affine=True)\n",
              "              (dropout): Dropout(p=0.1, inplace=False)\n",
              "            )\n",
              "          )\n",
              "          (intermediate): ElectraIntermediate(\n",
              "            (dense): Linear(in_features=768, out_features=3072, bias=True)\n",
              "            (intermediate_act_fn): GELUActivation()\n",
              "          )\n",
              "          (output): ElectraOutput(\n",
              "            (dense): Linear(in_features=3072, out_features=768, bias=True)\n",
              "            (LayerNorm): LayerNorm((768,), eps=1e-12, elementwise_affine=True)\n",
              "            (dropout): Dropout(p=0.1, inplace=False)\n",
              "          )\n",
              "        )\n",
              "        (11): ElectraLayer(\n",
              "          (attention): ElectraAttention(\n",
              "            (self): ElectraSelfAttention(\n",
              "              (query): Linear(in_features=768, out_features=768, bias=True)\n",
              "              (key): Linear(in_features=768, out_features=768, bias=True)\n",
              "              (value): Linear(in_features=768, out_features=768, bias=True)\n",
              "              (dropout): Dropout(p=0.1, inplace=False)\n",
              "            )\n",
              "            (output): ElectraSelfOutput(\n",
              "              (dense): Linear(in_features=768, out_features=768, bias=True)\n",
              "              (LayerNorm): LayerNorm((768,), eps=1e-12, elementwise_affine=True)\n",
              "              (dropout): Dropout(p=0.1, inplace=False)\n",
              "            )\n",
              "          )\n",
              "          (intermediate): ElectraIntermediate(\n",
              "            (dense): Linear(in_features=768, out_features=3072, bias=True)\n",
              "            (intermediate_act_fn): GELUActivation()\n",
              "          )\n",
              "          (output): ElectraOutput(\n",
              "            (dense): Linear(in_features=3072, out_features=768, bias=True)\n",
              "            (LayerNorm): LayerNorm((768,), eps=1e-12, elementwise_affine=True)\n",
              "            (dropout): Dropout(p=0.1, inplace=False)\n",
              "          )\n",
              "        )\n",
              "      )\n",
              "    )\n",
              "  )\n",
              "  (classifier): ElectraClassificationHead(\n",
              "    (dense): Linear(in_features=768, out_features=768, bias=True)\n",
              "    (dropout): Dropout(p=0.1, inplace=False)\n",
              "    (out_proj): Linear(in_features=768, out_features=2, bias=True)\n",
              "  )\n",
              ")"
            ]
          },
          "metadata": {},
          "execution_count": 17
        }
      ]
    },
    {
      "cell_type": "code",
      "source": [
        "from sklearn.metrics import accuracy_score, recall_score, precision_score, f1_score\n",
        "\n",
        "def compute_metrics(p):\n",
        "    pred, labels = p\n",
        "    pred = np.argmax(pred, axis=1)\n",
        "\n",
        "    accuracy = accuracy_score(y_true=labels, y_pred=pred)\n",
        "    recall = recall_score(y_true=labels, y_pred=pred)\n",
        "    precision = precision_score(y_true=labels, y_pred=pred)\n",
        "    f1 = f1_score(y_true=labels, y_pred=pred)\n",
        "\n",
        "\n",
        "    return {\"accuracy\": accuracy, \"precision\": precision, \"recall\": recall, \"f1\": f1}"
      ],
      "metadata": {
        "id": "bL_ewApoZTxJ"
      },
      "execution_count": 18,
      "outputs": []
    },
    {
      "cell_type": "code",
      "source": [
        "output_dir='./drive/MyDrive/savedmodel_meta/sarcpol_electra'"
      ],
      "metadata": {
        "id": "DnKUpao5Zdaq"
      },
      "execution_count": 19,
      "outputs": []
    },
    {
      "cell_type": "code",
      "source": [
        "from transformers import TrainingArguments, Trainer\n",
        "\n",
        "args = TrainingArguments(\n",
        "    output_dir=output_dir,\n",
        "    evaluation_strategy=\"steps\",\n",
        "    weight_decay = 0.01,\n",
        "    logging_steps = 500,\n",
        "    eval_steps = 500,\n",
        "    logging_dir='./logs/electra_electra',\n",
        "    per_device_train_batch_size=8,\n",
        "    per_device_eval_batch_size=8,\n",
        "    num_train_epochs=4,\n",
        "    seed=123,\n",
        "    load_best_model_at_end=True,\n",
        "    #save_total_limit=1,\n",
        "    learning_rate = 2e-5\n",
        ")"
      ],
      "metadata": {
        "id": "77g9IqNbZgAx"
      },
      "execution_count": 20,
      "outputs": []
    },
    {
      "cell_type": "code",
      "source": [
        "from transformers import EarlyStoppingCallback\n",
        "\n",
        "trainer = Trainer(\n",
        "    model=model,                         # the instantiated 🤗 Transformers model to be trained\n",
        "    args= args,                  # training arguments, defined above\n",
        "    train_dataset=train_dataset,         # training dataset\n",
        "    eval_dataset=val_dataset,             # evaluation dataset\n",
        "    tokenizer = tokenizer,\n",
        "    compute_metrics = compute_metrics,\n",
        "    callbacks=[EarlyStoppingCallback(early_stopping_patience=20)]\n",
        ")\n",
        "\n",
        "trainer.train()"
      ],
      "metadata": {
        "id": "q3GOcuHCZiYq",
        "outputId": "b9f96ac5-bb45-4358-c181-cbf37527bd63",
        "colab": {
          "base_uri": "https://localhost:8080/",
          "height": 1000
        }
      },
      "execution_count": 21,
      "outputs": [
        {
          "output_type": "stream",
          "name": "stderr",
          "text": [
            "/usr/local/lib/python3.7/dist-packages/transformers/optimization.py:309: FutureWarning: This implementation of AdamW is deprecated and will be removed in a future version. Use the PyTorch implementation torch.optim.AdamW instead, or set `no_deprecation_warning=True` to disable this warning\n",
            "  FutureWarning,\n",
            "***** Running training *****\n",
            "  Num examples = 10934\n",
            "  Num Epochs = 4\n",
            "  Instantaneous batch size per device = 8\n",
            "  Total train batch size (w. parallel, distributed & accumulation) = 8\n",
            "  Gradient Accumulation steps = 1\n",
            "  Total optimization steps = 5468\n"
          ]
        },
        {
          "output_type": "display_data",
          "data": {
            "text/plain": [
              "<IPython.core.display.HTML object>"
            ],
            "text/html": [
              "\n",
              "    <div>\n",
              "      \n",
              "      <progress value='5468' max='5468' style='width:300px; height:20px; vertical-align: middle;'></progress>\n",
              "      [5468/5468 16:09, Epoch 4/4]\n",
              "    </div>\n",
              "    <table border=\"1\" class=\"dataframe\">\n",
              "  <thead>\n",
              " <tr style=\"text-align: left;\">\n",
              "      <th>Step</th>\n",
              "      <th>Training Loss</th>\n",
              "      <th>Validation Loss</th>\n",
              "      <th>Accuracy</th>\n",
              "      <th>Precision</th>\n",
              "      <th>Recall</th>\n",
              "      <th>F1</th>\n",
              "    </tr>\n",
              "  </thead>\n",
              "  <tbody>\n",
              "    <tr>\n",
              "      <td>500</td>\n",
              "      <td>0.626500</td>\n",
              "      <td>0.593129</td>\n",
              "      <td>0.710315</td>\n",
              "      <td>0.735223</td>\n",
              "      <td>0.661326</td>\n",
              "      <td>0.696319</td>\n",
              "    </tr>\n",
              "    <tr>\n",
              "      <td>1000</td>\n",
              "      <td>0.586000</td>\n",
              "      <td>0.546265</td>\n",
              "      <td>0.740307</td>\n",
              "      <td>0.755985</td>\n",
              "      <td>0.713037</td>\n",
              "      <td>0.733883</td>\n",
              "    </tr>\n",
              "    <tr>\n",
              "      <td>1500</td>\n",
              "      <td>0.539300</td>\n",
              "      <td>0.577535</td>\n",
              "      <td>0.739210</td>\n",
              "      <td>0.756610</td>\n",
              "      <td>0.708667</td>\n",
              "      <td>0.731854</td>\n",
              "    </tr>\n",
              "    <tr>\n",
              "      <td>2000</td>\n",
              "      <td>0.445600</td>\n",
              "      <td>0.587755</td>\n",
              "      <td>0.739576</td>\n",
              "      <td>0.721663</td>\n",
              "      <td>0.783685</td>\n",
              "      <td>0.751397</td>\n",
              "    </tr>\n",
              "    <tr>\n",
              "      <td>2500</td>\n",
              "      <td>0.455100</td>\n",
              "      <td>0.586524</td>\n",
              "      <td>0.730432</td>\n",
              "      <td>0.695572</td>\n",
              "      <td>0.823744</td>\n",
              "      <td>0.754251</td>\n",
              "    </tr>\n",
              "    <tr>\n",
              "      <td>3000</td>\n",
              "      <td>0.391000</td>\n",
              "      <td>0.830956</td>\n",
              "      <td>0.711046</td>\n",
              "      <td>0.665531</td>\n",
              "      <td>0.853605</td>\n",
              "      <td>0.747926</td>\n",
              "    </tr>\n",
              "    <tr>\n",
              "      <td>3500</td>\n",
              "      <td>0.321300</td>\n",
              "      <td>0.881318</td>\n",
              "      <td>0.724214</td>\n",
              "      <td>0.695762</td>\n",
              "      <td>0.801165</td>\n",
              "      <td>0.744753</td>\n",
              "    </tr>\n",
              "    <tr>\n",
              "      <td>4000</td>\n",
              "      <td>0.350500</td>\n",
              "      <td>0.841441</td>\n",
              "      <td>0.708486</td>\n",
              "      <td>0.664384</td>\n",
              "      <td>0.847779</td>\n",
              "      <td>0.744960</td>\n",
              "    </tr>\n",
              "    <tr>\n",
              "      <td>4500</td>\n",
              "      <td>0.232400</td>\n",
              "      <td>1.072832</td>\n",
              "      <td>0.734455</td>\n",
              "      <td>0.714665</td>\n",
              "      <td>0.784414</td>\n",
              "      <td>0.747917</td>\n",
              "    </tr>\n",
              "    <tr>\n",
              "      <td>5000</td>\n",
              "      <td>0.257800</td>\n",
              "      <td>1.125048</td>\n",
              "      <td>0.733358</td>\n",
              "      <td>0.708820</td>\n",
              "      <td>0.796067</td>\n",
              "      <td>0.749914</td>\n",
              "    </tr>\n",
              "  </tbody>\n",
              "</table><p>"
            ]
          },
          "metadata": {}
        },
        {
          "output_type": "stream",
          "name": "stderr",
          "text": [
            "***** Running Evaluation *****\n",
            "  Num examples = 2734\n",
            "  Batch size = 8\n",
            "Saving model checkpoint to ./drive/MyDrive/savedmodel_meta/sarcpol_electra/checkpoint-500\n",
            "Configuration saved in ./drive/MyDrive/savedmodel_meta/sarcpol_electra/checkpoint-500/config.json\n",
            "Model weights saved in ./drive/MyDrive/savedmodel_meta/sarcpol_electra/checkpoint-500/pytorch_model.bin\n",
            "tokenizer config file saved in ./drive/MyDrive/savedmodel_meta/sarcpol_electra/checkpoint-500/tokenizer_config.json\n",
            "Special tokens file saved in ./drive/MyDrive/savedmodel_meta/sarcpol_electra/checkpoint-500/special_tokens_map.json\n",
            "***** Running Evaluation *****\n",
            "  Num examples = 2734\n",
            "  Batch size = 8\n",
            "Saving model checkpoint to ./drive/MyDrive/savedmodel_meta/sarcpol_electra/checkpoint-1000\n",
            "Configuration saved in ./drive/MyDrive/savedmodel_meta/sarcpol_electra/checkpoint-1000/config.json\n",
            "Model weights saved in ./drive/MyDrive/savedmodel_meta/sarcpol_electra/checkpoint-1000/pytorch_model.bin\n",
            "tokenizer config file saved in ./drive/MyDrive/savedmodel_meta/sarcpol_electra/checkpoint-1000/tokenizer_config.json\n",
            "Special tokens file saved in ./drive/MyDrive/savedmodel_meta/sarcpol_electra/checkpoint-1000/special_tokens_map.json\n",
            "***** Running Evaluation *****\n",
            "  Num examples = 2734\n",
            "  Batch size = 8\n",
            "Saving model checkpoint to ./drive/MyDrive/savedmodel_meta/sarcpol_electra/checkpoint-1500\n",
            "Configuration saved in ./drive/MyDrive/savedmodel_meta/sarcpol_electra/checkpoint-1500/config.json\n",
            "Model weights saved in ./drive/MyDrive/savedmodel_meta/sarcpol_electra/checkpoint-1500/pytorch_model.bin\n",
            "tokenizer config file saved in ./drive/MyDrive/savedmodel_meta/sarcpol_electra/checkpoint-1500/tokenizer_config.json\n",
            "Special tokens file saved in ./drive/MyDrive/savedmodel_meta/sarcpol_electra/checkpoint-1500/special_tokens_map.json\n",
            "***** Running Evaluation *****\n",
            "  Num examples = 2734\n",
            "  Batch size = 8\n",
            "Saving model checkpoint to ./drive/MyDrive/savedmodel_meta/sarcpol_electra/checkpoint-2000\n",
            "Configuration saved in ./drive/MyDrive/savedmodel_meta/sarcpol_electra/checkpoint-2000/config.json\n",
            "Model weights saved in ./drive/MyDrive/savedmodel_meta/sarcpol_electra/checkpoint-2000/pytorch_model.bin\n",
            "tokenizer config file saved in ./drive/MyDrive/savedmodel_meta/sarcpol_electra/checkpoint-2000/tokenizer_config.json\n",
            "Special tokens file saved in ./drive/MyDrive/savedmodel_meta/sarcpol_electra/checkpoint-2000/special_tokens_map.json\n",
            "***** Running Evaluation *****\n",
            "  Num examples = 2734\n",
            "  Batch size = 8\n",
            "Saving model checkpoint to ./drive/MyDrive/savedmodel_meta/sarcpol_electra/checkpoint-2500\n",
            "Configuration saved in ./drive/MyDrive/savedmodel_meta/sarcpol_electra/checkpoint-2500/config.json\n",
            "Model weights saved in ./drive/MyDrive/savedmodel_meta/sarcpol_electra/checkpoint-2500/pytorch_model.bin\n",
            "tokenizer config file saved in ./drive/MyDrive/savedmodel_meta/sarcpol_electra/checkpoint-2500/tokenizer_config.json\n",
            "Special tokens file saved in ./drive/MyDrive/savedmodel_meta/sarcpol_electra/checkpoint-2500/special_tokens_map.json\n",
            "***** Running Evaluation *****\n",
            "  Num examples = 2734\n",
            "  Batch size = 8\n",
            "Saving model checkpoint to ./drive/MyDrive/savedmodel_meta/sarcpol_electra/checkpoint-3000\n",
            "Configuration saved in ./drive/MyDrive/savedmodel_meta/sarcpol_electra/checkpoint-3000/config.json\n",
            "Model weights saved in ./drive/MyDrive/savedmodel_meta/sarcpol_electra/checkpoint-3000/pytorch_model.bin\n",
            "tokenizer config file saved in ./drive/MyDrive/savedmodel_meta/sarcpol_electra/checkpoint-3000/tokenizer_config.json\n",
            "Special tokens file saved in ./drive/MyDrive/savedmodel_meta/sarcpol_electra/checkpoint-3000/special_tokens_map.json\n",
            "***** Running Evaluation *****\n",
            "  Num examples = 2734\n",
            "  Batch size = 8\n",
            "Saving model checkpoint to ./drive/MyDrive/savedmodel_meta/sarcpol_electra/checkpoint-3500\n",
            "Configuration saved in ./drive/MyDrive/savedmodel_meta/sarcpol_electra/checkpoint-3500/config.json\n",
            "Model weights saved in ./drive/MyDrive/savedmodel_meta/sarcpol_electra/checkpoint-3500/pytorch_model.bin\n",
            "tokenizer config file saved in ./drive/MyDrive/savedmodel_meta/sarcpol_electra/checkpoint-3500/tokenizer_config.json\n",
            "Special tokens file saved in ./drive/MyDrive/savedmodel_meta/sarcpol_electra/checkpoint-3500/special_tokens_map.json\n",
            "***** Running Evaluation *****\n",
            "  Num examples = 2734\n",
            "  Batch size = 8\n",
            "Saving model checkpoint to ./drive/MyDrive/savedmodel_meta/sarcpol_electra/checkpoint-4000\n",
            "Configuration saved in ./drive/MyDrive/savedmodel_meta/sarcpol_electra/checkpoint-4000/config.json\n",
            "Model weights saved in ./drive/MyDrive/savedmodel_meta/sarcpol_electra/checkpoint-4000/pytorch_model.bin\n",
            "tokenizer config file saved in ./drive/MyDrive/savedmodel_meta/sarcpol_electra/checkpoint-4000/tokenizer_config.json\n",
            "Special tokens file saved in ./drive/MyDrive/savedmodel_meta/sarcpol_electra/checkpoint-4000/special_tokens_map.json\n",
            "***** Running Evaluation *****\n",
            "  Num examples = 2734\n",
            "  Batch size = 8\n",
            "Saving model checkpoint to ./drive/MyDrive/savedmodel_meta/sarcpol_electra/checkpoint-4500\n",
            "Configuration saved in ./drive/MyDrive/savedmodel_meta/sarcpol_electra/checkpoint-4500/config.json\n",
            "Model weights saved in ./drive/MyDrive/savedmodel_meta/sarcpol_electra/checkpoint-4500/pytorch_model.bin\n",
            "tokenizer config file saved in ./drive/MyDrive/savedmodel_meta/sarcpol_electra/checkpoint-4500/tokenizer_config.json\n",
            "Special tokens file saved in ./drive/MyDrive/savedmodel_meta/sarcpol_electra/checkpoint-4500/special_tokens_map.json\n",
            "***** Running Evaluation *****\n",
            "  Num examples = 2734\n",
            "  Batch size = 8\n",
            "Saving model checkpoint to ./drive/MyDrive/savedmodel_meta/sarcpol_electra/checkpoint-5000\n",
            "Configuration saved in ./drive/MyDrive/savedmodel_meta/sarcpol_electra/checkpoint-5000/config.json\n",
            "Model weights saved in ./drive/MyDrive/savedmodel_meta/sarcpol_electra/checkpoint-5000/pytorch_model.bin\n",
            "tokenizer config file saved in ./drive/MyDrive/savedmodel_meta/sarcpol_electra/checkpoint-5000/tokenizer_config.json\n",
            "Special tokens file saved in ./drive/MyDrive/savedmodel_meta/sarcpol_electra/checkpoint-5000/special_tokens_map.json\n",
            "\n",
            "\n",
            "Training completed. Do not forget to share your model on huggingface.co/models =)\n",
            "\n",
            "\n",
            "Loading best model from ./drive/MyDrive/savedmodel_meta/sarcpol_electra/checkpoint-1000 (score: 0.546265184879303).\n"
          ]
        },
        {
          "output_type": "execute_result",
          "data": {
            "text/plain": [
              "TrainOutput(global_step=5468, training_loss=0.404357925504337, metrics={'train_runtime': 969.5165, 'train_samples_per_second': 45.111, 'train_steps_per_second': 5.64, 'total_flos': 3685972107861120.0, 'train_loss': 0.404357925504337, 'epoch': 4.0})"
            ]
          },
          "metadata": {},
          "execution_count": 21
        }
      ]
    },
    {
      "cell_type": "code",
      "source": [
        "X_test = list(df_test[\"Tweet\"])\n",
        "X_test_tokenized = tokenizer(X_test, padding=True, truncation=True, max_length=512)\n",
        "\n",
        "# Create torch dataset\n",
        "test_dataset = Dataset(X_test_tokenized,y_test)\n",
        "\n",
        "# Load trained model\n",
        "model_path = \"./drive/MyDrive/savedmodel_meta/sarcpol_electra/checkpoint-4500\"\n",
        "\n",
        "model = ElectraForSequenceClassification.from_pretrained(model_path, num_labels=2)\n",
        "\n",
        "# Define test trainer\n",
        "test_trainer = Trainer(model)\n",
        "\n",
        "# Make prediction\n",
        "raw_pred, _, _ = test_trainer.predict(test_dataset)\n",
        "\n",
        "# Preprocess raw predictions\n",
        "y_pred = np.argmax(raw_pred, axis=1)"
      ],
      "metadata": {
        "id": "I9biK8Haa9Oh",
        "outputId": "5d05626a-6168-484b-809d-e575b1f5c7b8",
        "colab": {
          "base_uri": "https://localhost:8080/",
          "height": 856
        }
      },
      "execution_count": 26,
      "outputs": [
        {
          "output_type": "stream",
          "name": "stderr",
          "text": [
            "loading configuration file ./drive/MyDrive/savedmodel_meta/sarcpol_electra/checkpoint-4500/config.json\n",
            "Model config ElectraConfig {\n",
            "  \"_name_or_path\": \"google/electra-base-discriminator\",\n",
            "  \"architectures\": [\n",
            "    \"ElectraForSequenceClassification\"\n",
            "  ],\n",
            "  \"attention_probs_dropout_prob\": 0.1,\n",
            "  \"classifier_dropout\": null,\n",
            "  \"embedding_size\": 768,\n",
            "  \"hidden_act\": \"gelu\",\n",
            "  \"hidden_dropout_prob\": 0.1,\n",
            "  \"hidden_size\": 768,\n",
            "  \"initializer_range\": 0.02,\n",
            "  \"intermediate_size\": 3072,\n",
            "  \"layer_norm_eps\": 1e-12,\n",
            "  \"max_position_embeddings\": 512,\n",
            "  \"model_type\": \"electra\",\n",
            "  \"num_attention_heads\": 12,\n",
            "  \"num_hidden_layers\": 12,\n",
            "  \"pad_token_id\": 0,\n",
            "  \"position_embedding_type\": \"absolute\",\n",
            "  \"problem_type\": \"single_label_classification\",\n",
            "  \"summary_activation\": \"gelu\",\n",
            "  \"summary_last_dropout\": 0.1,\n",
            "  \"summary_type\": \"first\",\n",
            "  \"summary_use_proj\": true,\n",
            "  \"torch_dtype\": \"float32\",\n",
            "  \"transformers_version\": \"4.19.4\",\n",
            "  \"type_vocab_size\": 2,\n",
            "  \"use_cache\": true,\n",
            "  \"vocab_size\": 30522\n",
            "}\n",
            "\n",
            "loading weights file ./drive/MyDrive/savedmodel_meta/sarcpol_electra/checkpoint-4500/pytorch_model.bin\n",
            "All model checkpoint weights were used when initializing ElectraForSequenceClassification.\n",
            "\n",
            "All the weights of ElectraForSequenceClassification were initialized from the model checkpoint at ./drive/MyDrive/savedmodel_meta/sarcpol_electra/checkpoint-4500.\n",
            "If your task is similar to the task the model of the checkpoint was trained on, you can already use ElectraForSequenceClassification for predictions without further training.\n",
            "No `TrainingArguments` passed, using `output_dir=tmp_trainer`.\n",
            "PyTorch: setting up devices\n",
            "The default value for the training argument `--report_to` will change in v5 (from all installed integrations to none). In v5, you will need to use `--report_to all` to get the same behavior as now. You should start updating your code and make this info disappear :-).\n",
            "***** Running Prediction *****\n",
            "  Num examples = 3406\n",
            "  Batch size = 8\n"
          ]
        },
        {
          "output_type": "display_data",
          "data": {
            "text/plain": [
              "<IPython.core.display.HTML object>"
            ],
            "text/html": [
              "\n",
              "    <div>\n",
              "      \n",
              "      <progress value='426' max='426' style='width:300px; height:20px; vertical-align: middle;'></progress>\n",
              "      [426/426 00:07]\n",
              "    </div>\n",
              "    "
            ]
          },
          "metadata": {}
        }
      ]
    },
    {
      "cell_type": "code",
      "source": [
        "from sklearn.metrics import confusion_matrix, classification_report\n",
        "print(classification_report(y_test, y_pred,labels=[1,0])) #chkpoint2500"
      ],
      "metadata": {
        "colab": {
          "base_uri": "https://localhost:8080/"
        },
        "id": "7J_GhsyOTzs4",
        "outputId": "e0b9c135-d58f-4670-db33-a55a426fe515"
      },
      "execution_count": 25,
      "outputs": [
        {
          "output_type": "stream",
          "name": "stdout",
          "text": [
            "              precision    recall  f1-score   support\n",
            "\n",
            "           1       0.70      0.82      0.76      1703\n",
            "           0       0.78      0.65      0.71      1703\n",
            "\n",
            "    accuracy                           0.73      3406\n",
            "   macro avg       0.74      0.73      0.73      3406\n",
            "weighted avg       0.74      0.73      0.73      3406\n",
            "\n"
          ]
        }
      ]
    },
    {
      "cell_type": "code",
      "source": [
        "from sklearn.metrics import confusion_matrix, classification_report\n",
        "print(classification_report(y_test, y_pred,labels=[1,0]))#chkpoint4500"
      ],
      "metadata": {
        "colab": {
          "base_uri": "https://localhost:8080/"
        },
        "id": "FyC_A-xDTT6E",
        "outputId": "882f4a5f-6496-4d21-d370-70eef606c5e1"
      },
      "execution_count": 27,
      "outputs": [
        {
          "output_type": "stream",
          "name": "stdout",
          "text": [
            "              precision    recall  f1-score   support\n",
            "\n",
            "           1       0.72      0.79      0.75      1703\n",
            "           0       0.77      0.69      0.73      1703\n",
            "\n",
            "    accuracy                           0.74      3406\n",
            "   macro avg       0.74      0.74      0.74      3406\n",
            "weighted avg       0.74      0.74      0.74      3406\n",
            "\n"
          ]
        }
      ]
    },
    {
      "cell_type": "code",
      "source": [
        "class_names = [1,0]"
      ],
      "metadata": {
        "id": "-HEpEM83jZtR"
      },
      "execution_count": 28,
      "outputs": []
    },
    {
      "cell_type": "code",
      "source": [
        "def show_confusion_matrix(confusion_matrix):\n",
        "  hmap = sns.heatmap(confusion_matrix, annot=True, fmt=\"d\", cmap=\"Blues\")\n",
        "  hmap.yaxis.set_ticklabels(hmap.yaxis.get_ticklabels(), rotation=0, ha='right')\n",
        "  hmap.xaxis.set_ticklabels(hmap.xaxis.get_ticklabels(), rotation=30, ha='right')\n",
        "  plt.ylabel('True sentiment')\n",
        "  plt.xlabel('Predicted sentiment');\n",
        "\n",
        "cm = confusion_matrix(y_test, y_pred)\n",
        "df_cm = pd.DataFrame(cm, index=class_names, columns=class_names)\n",
        "show_confusion_matrix(df_cm)"
      ],
      "metadata": {
        "id": "DLx4kw_NjdoI",
        "outputId": "4d2693da-9ef3-49ea-9ce4-83e7d8f071c3",
        "colab": {
          "base_uri": "https://localhost:8080/",
          "height": 281
        }
      },
      "execution_count": 29,
      "outputs": [
        {
          "output_type": "display_data",
          "data": {
            "text/plain": [
              "<Figure size 432x288 with 2 Axes>"
            ],
            "image/png": "[encoded data removed]"
          },
          "metadata": {
            "needs_background": "light"
          }
        }
      ]
    },
    {
      "cell_type": "code",
      "source": [
        ""
      ],
      "metadata": {
        "id": "MkORo_Csje-Z"
      },
      "execution_count": null,
      "outputs": []
    }
  ]
}