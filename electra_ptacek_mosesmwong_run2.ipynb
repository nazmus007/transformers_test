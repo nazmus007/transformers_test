{
  "nbformat": 4,
  "nbformat_minor": 0,
  "metadata": {
    "colab": {
      "name": "electra_ptacek_mosesmwong_run2.ipynb",
      "provenance": [],
      "machine_shape": "hm",
      "authorship_tag": "ABX9TyNyX4UnS8rUnTjdx/wfnukQ",
      "include_colab_link": true
    },
    "kernelspec": {
      "name": "python3",
      "display_name": "Python 3"
    },
    "language_info": {
      "name": "python"
    },
    "accelerator": "GPU",
    "widgets": {
      "application/vnd.jupyter.widget-state+json": {
        "95c04270279a4b758ce315dca90209e4": {
          "model_module": "@jupyter-widgets/controls",
          "model_name": "HBoxModel",
          "model_module_version": "1.5.0",
          "state": {
            "_view_name": "HBoxView",
            "_dom_classes": [],
            "_model_name": "HBoxModel",
            "_view_module": "@jupyter-widgets/controls",
            "_model_module_version": "1.5.0",
            "_view_count": null,
            "_view_module_version": "1.5.0",
            "box_style": "",
            "layout": "IPY_MODEL_b7e432887b40417f92f94bddc740fdec",
            "_model_module": "@jupyter-widgets/controls",
            "children": [
              "IPY_MODEL_3eab6913e49b4790a007cfe45e382973",
              "IPY_MODEL_ac8674ce3da7497090cc2cf3d3fea892",
              "IPY_MODEL_0164ae1ee28d4a65a450231ba653090b"
            ]
          }
        },
        "b7e432887b40417f92f94bddc740fdec": {
          "model_module": "@jupyter-widgets/base",
          "model_name": "LayoutModel",
          "model_module_version": "1.2.0",
          "state": {
            "_view_name": "LayoutView",
            "grid_template_rows": null,
            "right": null,
            "justify_content": null,
            "_view_module": "@jupyter-widgets/base",
            "overflow": null,
            "_model_module_version": "1.2.0",
            "_view_count": null,
            "flex_flow": null,
            "width": null,
            "min_width": null,
            "border": null,
            "align_items": null,
            "bottom": null,
            "_model_module": "@jupyter-widgets/base",
            "top": null,
            "grid_column": null,
            "overflow_y": null,
            "overflow_x": null,
            "grid_auto_flow": null,
            "grid_area": null,
            "grid_template_columns": null,
            "flex": null,
            "_model_name": "LayoutModel",
            "justify_items": null,
            "grid_row": null,
            "max_height": null,
            "align_content": null,
            "visibility": null,
            "align_self": null,
            "height": null,
            "min_height": null,
            "padding": null,
            "grid_auto_rows": null,
            "grid_gap": null,
            "max_width": null,
            "order": null,
            "_view_module_version": "1.2.0",
            "grid_template_areas": null,
            "object_position": null,
            "object_fit": null,
            "grid_auto_columns": null,
            "margin": null,
            "display": null,
            "left": null
          }
        },
        "3eab6913e49b4790a007cfe45e382973": {
          "model_module": "@jupyter-widgets/controls",
          "model_name": "HTMLModel",
          "model_module_version": "1.5.0",
          "state": {
            "_view_name": "HTMLView",
            "style": "IPY_MODEL_840b196f1c4a4c2db230b0085981dcf0",
            "_dom_classes": [],
            "description": "",
            "_model_name": "HTMLModel",
            "placeholder": "​",
            "_view_module": "@jupyter-widgets/controls",
            "_model_module_version": "1.5.0",
            "value": "Downloading: 100%",
            "_view_count": null,
            "_view_module_version": "1.5.0",
            "description_tooltip": null,
            "_model_module": "@jupyter-widgets/controls",
            "layout": "IPY_MODEL_34b4cf07c51c4d67a5ddacafcfa7c6af"
          }
        },
        "ac8674ce3da7497090cc2cf3d3fea892": {
          "model_module": "@jupyter-widgets/controls",
          "model_name": "FloatProgressModel",
          "model_module_version": "1.5.0",
          "state": {
            "_view_name": "ProgressView",
            "style": "IPY_MODEL_347915619d7c40b495dbc7c43b6ee038",
            "_dom_classes": [],
            "description": "",
            "_model_name": "FloatProgressModel",
            "bar_style": "success",
            "max": 231508,
            "_view_module": "@jupyter-widgets/controls",
            "_model_module_version": "1.5.0",
            "value": 231508,
            "_view_count": null,
            "_view_module_version": "1.5.0",
            "orientation": "horizontal",
            "min": 0,
            "description_tooltip": null,
            "_model_module": "@jupyter-widgets/controls",
            "layout": "IPY_MODEL_10146939c71144819f2bfb85e9403128"
          }
        },
        "0164ae1ee28d4a65a450231ba653090b": {
          "model_module": "@jupyter-widgets/controls",
          "model_name": "HTMLModel",
          "model_module_version": "1.5.0",
          "state": {
            "_view_name": "HTMLView",
            "style": "IPY_MODEL_4de3b8fe490c4642b3db1905749e11b0",
            "_dom_classes": [],
            "description": "",
            "_model_name": "HTMLModel",
            "placeholder": "​",
            "_view_module": "@jupyter-widgets/controls",
            "_model_module_version": "1.5.0",
            "value": " 226k/226k [00:00&lt;00:00, 603kB/s]",
            "_view_count": null,
            "_view_module_version": "1.5.0",
            "description_tooltip": null,
            "_model_module": "@jupyter-widgets/controls",
            "layout": "IPY_MODEL_382854666fb64bc1ac97b0b53507331b"
          }
        },
        "840b196f1c4a4c2db230b0085981dcf0": {
          "model_module": "@jupyter-widgets/controls",
          "model_name": "DescriptionStyleModel",
          "model_module_version": "1.5.0",
          "state": {
            "_view_name": "StyleView",
            "_model_name": "DescriptionStyleModel",
            "description_width": "",
            "_view_module": "@jupyter-widgets/base",
            "_model_module_version": "1.5.0",
            "_view_count": null,
            "_view_module_version": "1.2.0",
            "_model_module": "@jupyter-widgets/controls"
          }
        },
        "34b4cf07c51c4d67a5ddacafcfa7c6af": {
          "model_module": "@jupyter-widgets/base",
          "model_name": "LayoutModel",
          "model_module_version": "1.2.0",
          "state": {
            "_view_name": "LayoutView",
            "grid_template_rows": null,
            "right": null,
            "justify_content": null,
            "_view_module": "@jupyter-widgets/base",
            "overflow": null,
            "_model_module_version": "1.2.0",
            "_view_count": null,
            "flex_flow": null,
            "width": null,
            "min_width": null,
            "border": null,
            "align_items": null,
            "bottom": null,
            "_model_module": "@jupyter-widgets/base",
            "top": null,
            "grid_column": null,
            "overflow_y": null,
            "overflow_x": null,
            "grid_auto_flow": null,
            "grid_area": null,
            "grid_template_columns": null,
            "flex": null,
            "_model_name": "LayoutModel",
            "justify_items": null,
            "grid_row": null,
            "max_height": null,
            "align_content": null,
            "visibility": null,
            "align_self": null,
            "height": null,
            "min_height": null,
            "padding": null,
            "grid_auto_rows": null,
            "grid_gap": null,
            "max_width": null,
            "order": null,
            "_view_module_version": "1.2.0",
            "grid_template_areas": null,
            "object_position": null,
            "object_fit": null,
            "grid_auto_columns": null,
            "margin": null,
            "display": null,
            "left": null
          }
        },
        "347915619d7c40b495dbc7c43b6ee038": {
          "model_module": "@jupyter-widgets/controls",
          "model_name": "ProgressStyleModel",
          "model_module_version": "1.5.0",
          "state": {
            "_view_name": "StyleView",
            "_model_name": "ProgressStyleModel",
            "description_width": "",
            "_view_module": "@jupyter-widgets/base",
            "_model_module_version": "1.5.0",
            "_view_count": null,
            "_view_module_version": "1.2.0",
            "bar_color": null,
            "_model_module": "@jupyter-widgets/controls"
          }
        },
        "10146939c71144819f2bfb85e9403128": {
          "model_module": "@jupyter-widgets/base",
          "model_name": "LayoutModel",
          "model_module_version": "1.2.0",
          "state": {
            "_view_name": "LayoutView",
            "grid_template_rows": null,
            "right": null,
            "justify_content": null,
            "_view_module": "@jupyter-widgets/base",
            "overflow": null,
            "_model_module_version": "1.2.0",
            "_view_count": null,
            "flex_flow": null,
            "width": null,
            "min_width": null,
            "border": null,
            "align_items": null,
            "bottom": null,
            "_model_module": "@jupyter-widgets/base",
            "top": null,
            "grid_column": null,
            "overflow_y": null,
            "overflow_x": null,
            "grid_auto_flow": null,
            "grid_area": null,
            "grid_template_columns": null,
            "flex": null,
            "_model_name": "LayoutModel",
            "justify_items": null,
            "grid_row": null,
            "max_height": null,
            "align_content": null,
            "visibility": null,
            "align_self": null,
            "height": null,
            "min_height": null,
            "padding": null,
            "grid_auto_rows": null,
            "grid_gap": null,
            "max_width": null,
            "order": null,
            "_view_module_version": "1.2.0",
            "grid_template_areas": null,
            "object_position": null,
            "object_fit": null,
            "grid_auto_columns": null,
            "margin": null,
            "display": null,
            "left": null
          }
        },
        "4de3b8fe490c4642b3db1905749e11b0": {
          "model_module": "@jupyter-widgets/controls",
          "model_name": "DescriptionStyleModel",
          "model_module_version": "1.5.0",
          "state": {
            "_view_name": "StyleView",
            "_model_name": "DescriptionStyleModel",
            "description_width": "",
            "_view_module": "@jupyter-widgets/base",
            "_model_module_version": "1.5.0",
            "_view_count": null,
            "_view_module_version": "1.2.0",
            "_model_module": "@jupyter-widgets/controls"
          }
        },
        "382854666fb64bc1ac97b0b53507331b": {
          "model_module": "@jupyter-widgets/base",
          "model_name": "LayoutModel",
          "model_module_version": "1.2.0",
          "state": {
            "_view_name": "LayoutView",
            "grid_template_rows": null,
            "right": null,
            "justify_content": null,
            "_view_module": "@jupyter-widgets/base",
            "overflow": null,
            "_model_module_version": "1.2.0",
            "_view_count": null,
            "flex_flow": null,
            "width": null,
            "min_width": null,
            "border": null,
            "align_items": null,
            "bottom": null,
            "_model_module": "@jupyter-widgets/base",
            "top": null,
            "grid_column": null,
            "overflow_y": null,
            "overflow_x": null,
            "grid_auto_flow": null,
            "grid_area": null,
            "grid_template_columns": null,
            "flex": null,
            "_model_name": "LayoutModel",
            "justify_items": null,
            "grid_row": null,
            "max_height": null,
            "align_content": null,
            "visibility": null,
            "align_self": null,
            "height": null,
            "min_height": null,
            "padding": null,
            "grid_auto_rows": null,
            "grid_gap": null,
            "max_width": null,
            "order": null,
            "_view_module_version": "1.2.0",
            "grid_template_areas": null,
            "object_position": null,
            "object_fit": null,
            "grid_auto_columns": null,
            "margin": null,
            "display": null,
            "left": null
          }
        }
      }
    }
  },
  "cells": [
    {
      "cell_type": "markdown",
      "metadata": {
        "id": "view-in-github",
        "colab_type": "text"
      },
      "source": [
        "<a href=\"https://colab.research.google.com/github/nazmus007/transformers_test/blob/main/electra_ptacek_mosesmwong_run2.ipynb\" target=\"_parent\"><img src=\"https://colab.research.google.com/assets/colab-badge.svg\" alt=\"Open In Colab\"/></a>"
      ]
    },
    {
      "cell_type": "code",
      "metadata": {
        "id": "ArgPumecEVBL"
      },
      "source": [
        "import numpy as np\n",
        "import pandas as pd"
      ],
      "execution_count": null,
      "outputs": []
    },
    {
      "cell_type": "code",
      "metadata": {
        "colab": {
          "base_uri": "https://localhost:8080/"
        },
        "id": "ntcXxYytEwm3",
        "outputId": "42bccf47-3ed1-43f8-c869-25d2b7b7382a"
      },
      "source": [
        "!pip install -qq transformers\n"
      ],
      "execution_count": null,
      "outputs": [
        {
          "output_type": "stream",
          "name": "stdout",
          "text": [
            "\u001b[K     |████████████████████████████████| 2.9 MB 7.1 MB/s \n",
            "\u001b[K     |████████████████████████████████| 636 kB 81.0 MB/s \n",
            "\u001b[K     |████████████████████████████████| 3.3 MB 79.3 MB/s \n",
            "\u001b[K     |████████████████████████████████| 56 kB 4.7 MB/s \n",
            "\u001b[K     |████████████████████████████████| 895 kB 85.6 MB/s \n",
            "\u001b[?25h"
          ]
        }
      ]
    },
    {
      "cell_type": "code",
      "metadata": {
        "colab": {
          "base_uri": "https://localhost:8080/"
        },
        "id": "IVcn_n-jE8sk",
        "outputId": "395b04ff-db00-4e85-9f95-9364b84c626a"
      },
      "source": [
        "!pip install emoji"
      ],
      "execution_count": null,
      "outputs": [
        {
          "output_type": "stream",
          "name": "stdout",
          "text": [
            "Collecting emoji\n",
            "  Downloading emoji-1.6.0.tar.gz (168 kB)\n",
            "\u001b[?25l\r\u001b[K     |██                              | 10 kB 39.5 MB/s eta 0:00:01\r\u001b[K     |███▉                            | 20 kB 39.0 MB/s eta 0:00:01\r\u001b[K     |█████▉                          | 30 kB 22.3 MB/s eta 0:00:01\r\u001b[K     |███████▊                        | 40 kB 18.4 MB/s eta 0:00:01\r\u001b[K     |█████████▊                      | 51 kB 7.9 MB/s eta 0:00:01\r\u001b[K     |███████████▋                    | 61 kB 8.6 MB/s eta 0:00:01\r\u001b[K     |█████████████▋                  | 71 kB 7.4 MB/s eta 0:00:01\r\u001b[K     |███████████████▌                | 81 kB 8.4 MB/s eta 0:00:01\r\u001b[K     |█████████████████▌              | 92 kB 6.8 MB/s eta 0:00:01\r\u001b[K     |███████████████████▍            | 102 kB 7.4 MB/s eta 0:00:01\r\u001b[K     |█████████████████████▍          | 112 kB 7.4 MB/s eta 0:00:01\r\u001b[K     |███████████████████████▎        | 122 kB 7.4 MB/s eta 0:00:01\r\u001b[K     |█████████████████████████▎      | 133 kB 7.4 MB/s eta 0:00:01\r\u001b[K     |███████████████████████████▏    | 143 kB 7.4 MB/s eta 0:00:01\r\u001b[K     |█████████████████████████████▏  | 153 kB 7.4 MB/s eta 0:00:01\r\u001b[K     |███████████████████████████████ | 163 kB 7.4 MB/s eta 0:00:01\r\u001b[K     |████████████████████████████████| 168 kB 7.4 MB/s \n",
            "\u001b[?25hBuilding wheels for collected packages: emoji\n",
            "  Building wheel for emoji (setup.py) ... \u001b[?25l\u001b[?25hdone\n",
            "  Created wheel for emoji: filename=emoji-1.6.0-py3-none-any.whl size=168256 sha256=395d450026c6848b0177512825f0312b5f2087cf821f5759fc4ef6c76b8c085b\n",
            "  Stored in directory: /root/.cache/pip/wheels/f7/d7/74/c720aaf345a042b0c2d74361873258c5e8649b7f11b2ccce49\n",
            "Successfully built emoji\n",
            "Installing collected packages: emoji\n",
            "Successfully installed emoji-1.6.0\n"
          ]
        }
      ]
    },
    {
      "cell_type": "code",
      "metadata": {
        "id": "4QTwJqvYE-b1"
      },
      "source": [
        "from torch.utils.data import Dataset, DataLoader\n",
        "from collections import defaultdict\n",
        "from transformers import get_linear_schedule_with_warmup\n",
        "from torch import nn, optim\n",
        "import seaborn as sns\n",
        "from emoji import UNICODE_EMOJI\n",
        "from sklearn.metrics import confusion_matrix\n",
        "from torch.nn import functional as F \n",
        "from pylab import rcParams\n",
        "from transformers import ElectraTokenizer, ElectraForSequenceClassification,AdamW #\n",
        "\n",
        "import matplotlib.pyplot as plt\n",
        "\n",
        "from matplotlib import rc\n",
        "import torch\n",
        "\n",
        "import re"
      ],
      "execution_count": null,
      "outputs": []
    },
    {
      "cell_type": "code",
      "metadata": {
        "colab": {
          "base_uri": "https://localhost:8080/"
        },
        "id": "ajnkCdjbFEQY",
        "outputId": "98be989b-29b8-4809-adc9-ee074f43845e"
      },
      "source": [
        "from google.colab import drive\n",
        "drive.mount('/content/drive')"
      ],
      "execution_count": null,
      "outputs": [
        {
          "output_type": "stream",
          "name": "stdout",
          "text": [
            "Mounted at /content/drive\n"
          ]
        }
      ]
    },
    {
      "cell_type": "code",
      "metadata": {
        "colab": {
          "base_uri": "https://localhost:8080/",
          "height": 206
        },
        "id": "YZuYRnNfFIox",
        "outputId": "eabfd1ef-c5d3-442a-d287-3ad0d4fe9183"
      },
      "source": [
        "df = pd.read_csv(\"./drive/MyDrive/datasets/cleaned_ptacek_wtweets_wnotebook.csv\")\n",
        "df.head()"
      ],
      "execution_count": null,
      "outputs": [
        {
          "output_type": "execute_result",
          "data": {
            "text/html": [
              "<div>\n",
              "<style scoped>\n",
              "    .dataframe tbody tr th:only-of-type {\n",
              "        vertical-align: middle;\n",
              "    }\n",
              "\n",
              "    .dataframe tbody tr th {\n",
              "        vertical-align: top;\n",
              "    }\n",
              "\n",
              "    .dataframe thead th {\n",
              "        text-align: right;\n",
              "    }\n",
              "</style>\n",
              "<table border=\"1\" class=\"dataframe\">\n",
              "  <thead>\n",
              "    <tr style=\"text-align: right;\">\n",
              "      <th></th>\n",
              "      <th>Unnamed: 0</th>\n",
              "      <th>index</th>\n",
              "      <th>Tweet_id</th>\n",
              "      <th>Tweet</th>\n",
              "      <th>Label</th>\n",
              "    </tr>\n",
              "  </thead>\n",
              "  <tbody>\n",
              "    <tr>\n",
              "      <th>0</th>\n",
              "      <td>0</td>\n",
              "      <td>0</td>\n",
              "      <td>411348816583856129</td>\n",
              "      <td>peyton obviously cannot finish games he just t...</td>\n",
              "      <td>1</td>\n",
              "    </tr>\n",
              "    <tr>\n",
              "      <th>1</th>\n",
              "      <td>1</td>\n",
              "      <td>1</td>\n",
              "      <td>408111537011036160</td>\n",
              "      <td>well i would love to be sleeping right now but...</td>\n",
              "      <td>1</td>\n",
              "    </tr>\n",
              "    <tr>\n",
              "      <th>2</th>\n",
              "      <td>2</td>\n",
              "      <td>2</td>\n",
              "      <td>403282506230665217</td>\n",
              "      <td>my biggest executive decision today choosing b...</td>\n",
              "      <td>1</td>\n",
              "    </tr>\n",
              "    <tr>\n",
              "      <th>3</th>\n",
              "      <td>3</td>\n",
              "      <td>3</td>\n",
              "      <td>409720467662983168</td>\n",
              "      <td>the first quality opponent they played in 2 y...</td>\n",
              "      <td>1</td>\n",
              "    </tr>\n",
              "    <tr>\n",
              "      <th>4</th>\n",
              "      <td>4</td>\n",
              "      <td>4</td>\n",
              "      <td>403005765608554496</td>\n",
              "      <td>but do not you dare call it hate crimes  libe...</td>\n",
              "      <td>1</td>\n",
              "    </tr>\n",
              "  </tbody>\n",
              "</table>\n",
              "</div>"
            ],
            "text/plain": [
              "   Unnamed: 0  index  ...                                              Tweet Label\n",
              "0           0      0  ...  peyton obviously cannot finish games he just t...     1\n",
              "1           1      1  ...  well i would love to be sleeping right now but...     1\n",
              "2           2      2  ...  my biggest executive decision today choosing b...     1\n",
              "3           3      3  ...   the first quality opponent they played in 2 y...     1\n",
              "4           4      4  ...   but do not you dare call it hate crimes  libe...     1\n",
              "\n",
              "[5 rows x 5 columns]"
            ]
          },
          "metadata": {},
          "execution_count": 7
        }
      ]
    },
    {
      "cell_type": "code",
      "metadata": {
        "id": "2lngsJSwFQrD"
      },
      "source": [
        "df= df.drop(['Unnamed: 0','index','Tweet_id'],axis=1)"
      ],
      "execution_count": null,
      "outputs": []
    },
    {
      "cell_type": "code",
      "metadata": {
        "id": "6Du5lQOuOTOs"
      },
      "source": [
        "df_train = pd.read_csv('./drive/MyDrive/datasets/df_train.csv')\n",
        "\n",
        "df_test = pd.read_csv('./drive/MyDrive/datasets/df_test.csv') "
      ],
      "execution_count": null,
      "outputs": []
    },
    {
      "cell_type": "code",
      "metadata": {
        "id": "S2QfQVkmFS6J"
      },
      "source": [
        "#Hyperparameters\n",
        "my_learning_rate = 2E-5 # default is 5E-5\n",
        "my_adam_epsilon = 1E-8 # default is 1E-8\n",
        "my_number_of_epochs = 5\n",
        "my_warmup = 3\n",
        "my_mini_batch_size = 32"
      ],
      "execution_count": null,
      "outputs": []
    },
    {
      "cell_type": "code",
      "metadata": {
        "colab": {
          "base_uri": "https://localhost:8080/"
        },
        "id": "41_qzy7wFbrb",
        "outputId": "b81e370b-c881-4895-a6b9-67fa1cc7df07"
      },
      "source": [
        "if torch.cuda.is_available():  \n",
        "    device = torch.device(\"cuda\")\n",
        "    print('I will use the GPU:', torch.cuda.get_device_name(0))\n",
        "    \n",
        "else:\n",
        "    print('No GPU available, using the CPU instead.')\n",
        "    device = torch.device(\"cpu\")"
      ],
      "execution_count": null,
      "outputs": [
        {
          "output_type": "stream",
          "name": "stdout",
          "text": [
            "I will use the GPU: Tesla P100-PCIE-16GB\n"
          ]
        }
      ]
    },
    {
      "cell_type": "code",
      "metadata": {
        "colab": {
          "base_uri": "https://localhost:8080/"
        },
        "id": "xGqfMHMmhALO",
        "outputId": "e72443be-209c-485f-c79b-b831b39d01c2"
      },
      "source": [
        "!pip install demoji"
      ],
      "execution_count": null,
      "outputs": [
        {
          "output_type": "stream",
          "name": "stdout",
          "text": [
            "Collecting demoji\n",
            "  Downloading demoji-1.1.0-py3-none-any.whl (42 kB)\n",
            "\u001b[?25l\r\u001b[K     |███████▋                        | 10 kB 37.2 MB/s eta 0:00:01\r\u001b[K     |███████████████▎                | 20 kB 29.7 MB/s eta 0:00:01\r\u001b[K     |███████████████████████         | 30 kB 18.5 MB/s eta 0:00:01\r\u001b[K     |██████████████████████████████▋ | 40 kB 15.9 MB/s eta 0:00:01\r\u001b[K     |████████████████████████████████| 42 kB 1.3 MB/s \n",
            "\u001b[?25hInstalling collected packages: demoji\n",
            "Successfully installed demoji-1.1.0\n"
          ]
        }
      ]
    },
    {
      "cell_type": "code",
      "metadata": {
        "id": "sRNfan5_Tu1i"
      },
      "source": [
        "import demoji\n",
        "def demoji_text(text):\n",
        "  d= demoji.findall(text)\n",
        "  return d"
      ],
      "execution_count": null,
      "outputs": []
    },
    {
      "cell_type": "code",
      "metadata": {
        "id": "slV33tOeTvUK"
      },
      "source": [
        "df['emoji_list'] = df['Tweet'].apply(demoji_text)"
      ],
      "execution_count": null,
      "outputs": []
    },
    {
      "cell_type": "code",
      "metadata": {
        "id": "W11ezxKbTxLs"
      },
      "source": [
        "f= list(filter(None, df['emoji_list']))"
      ],
      "execution_count": null,
      "outputs": []
    },
    {
      "cell_type": "code",
      "metadata": {
        "colab": {
          "base_uri": "https://localhost:8080/"
        },
        "id": "ZeroFLUXTyIL",
        "outputId": "62eb481e-f8ab-4348-e430-f5d872606b9f"
      },
      "source": [
        "print(f)"
      ],
      "execution_count": null,
      "outputs": [
        {
          "output_type": "stream",
          "name": "stdout",
          "text": [
            "[{'😏': 'smirking face', '👌': 'OK hand'}, {'👍': 'thumbs up'}, {'😡': 'pouting face'}, {'😫': 'tired face', '🙈': 'see-no-evil monkey', '🔫': 'water pistol', '😍': 'smiling face with heart-eyes'}, {'😐': 'neutral face'}, {'😒': 'unamused face'}, {'😮': 'face with open mouth', '👀': 'eyes'}, {'🔫': 'water pistol', '😭': 'loudly crying face'}, {'👌': 'OK hand'}, {'😒': 'unamused face'}, {'👌': 'OK hand', '😳': 'flushed face'}, {'😣': 'persevering face'}, {'😒': 'unamused face'}, {'👌': 'OK hand'}, {'😒': 'unamused face'}, {'🙈': 'see-no-evil monkey'}, {'😒': 'unamused face'}, {'😊': 'smiling face with smiling eyes'}, {'👌': 'OK hand'}, {'😑': 'expressionless face'}, {'👍': 'thumbs up'}, {'🎉': 'party popper'}, {'😒': 'unamused face', '👏': 'clapping hands'}, {'😛': 'face with tongue'}, {'😒': 'unamused face'}, {'😻': 'smiling cat with heart-eyes'}, {'😑': 'expressionless face'}, {'😰': 'anxious face with sweat'}, {'😉': 'winking face'}, {'😳': 'flushed face'}, {'😭': 'loudly crying face'}, {'💁': 'person tipping hand'}, {'😤': 'face with steam from nose', '😡': 'pouting face'}, {'😒': 'unamused face'}, {'👏': 'clapping hands'}, {'☠': 'skull and crossbones'}, {'😒': 'unamused face'}, {'👏': 'clapping hands'}, {'😒': 'unamused face'}, {'😒': 'unamused face'}, {'😒': 'unamused face', '💪': 'flexed biceps'}, {'😳': 'flushed face'}, {'😂': 'face with tears of joy'}, {'😒': 'unamused face'}, {'😂': 'face with tears of joy'}, {'♥': 'heart suit'}, {'😅': 'grinning face with sweat', '👌': 'OK hand', '🌙': 'crescent moon'}, {'😠': 'angry face'}, {'❤️': 'red heart'}, {'😒': 'unamused face'}, {'😂': 'face with tears of joy'}, {'😭': 'loudly crying face'}, {'👍': 'thumbs up', '👌': 'OK hand', '✌️': 'victory hand', '😉': 'winking face'}, {'😂': 'face with tears of joy'}, {'😉': 'winking face'}, {'❄️': 'snowflake', '😒': 'unamused face'}, {'😂': 'face with tears of joy'}, {'😞': 'disappointed face'}, {'☔': 'umbrella with rain drops', '💖': 'sparkling heart', '🙈': 'see-no-evil monkey', '💦': 'sweat droplets'}, {'😭': 'loudly crying face'}, {'🎀': 'ribbon', '💁': 'person tipping hand', '✌️': 'victory hand', '🐥': 'front-facing baby chick'}, {'😀': 'grinning face'}, {'😉': 'winking face'}, {'😒': 'unamused face'}, {'😒': 'unamused face'}, {'😩': 'weary face', '🎶': 'musical notes', '😂': 'face with tears of joy'}, {'😘': 'face blowing a kiss'}, {'😂': 'face with tears of joy'}, {'😂': 'face with tears of joy'}, {'👊': 'oncoming fist', '😠': 'angry face'}, {'😹': 'cat with tears of joy', '😂': 'face with tears of joy'}, {'😍': 'smiling face with heart-eyes'}, {'😊': 'smiling face with smiling eyes'}, {'😑': 'expressionless face', '😕': 'confused face'}, {'💦': 'sweat droplets', '👅': 'tongue'}, {'😅': 'grinning face with sweat', '🔫': 'water pistol'}, {'😅': 'grinning face with sweat'}, {'😏': 'smirking face'}, {'😒': 'unamused face'}, {'👎': 'thumbs down'}, {'😒': 'unamused face', '😬': 'grimacing face'}, {'😂': 'face with tears of joy', '😉': 'winking face'}, {'😫': 'tired face'}, {'😂': 'face with tears of joy'}, {'😒': 'unamused face'}, {'😎': 'smiling face with sunglasses'}, {'😂': 'face with tears of joy'}, {'😑': 'expressionless face'}, {'😉': 'winking face'}, {'👱': 'person: blond hair', '🎄': 'Christmas tree', '🎅': 'Santa Claus'}, {'😒': 'unamused face'}, {'😒': 'unamused face'}, {'💖': 'sparkling heart', '💅': 'nail polish'}, {'⛅': 'sun behind cloud', '❄': 'snowflake'}, {'😒': 'unamused face'}, {'👍': 'thumbs up'}, {'😒': 'unamused face'}, {'🔫': 'water pistol', '😃': 'grinning face with big eyes'}, {'👌': 'OK hand'}, {'👌': 'OK hand'}, {'😔': 'pensive face'}, {'👌': 'OK hand'}, {'👌': 'OK hand'}, {'🍃': 'leaf fluttering in wind'}, {'😑': 'expressionless face'}, {'😒': 'unamused face'}, {'💁': 'person tipping hand'}, {'😔': 'pensive face'}, {'😒': 'unamused face'}, {'😅': 'grinning face with sweat', '😑': 'expressionless face', '😐': 'neutral face'}, {'😄': 'grinning face with smiling eyes'}, {'😊': 'smiling face with smiling eyes'}, {'☔': 'umbrella with rain drops'}, {'✌': 'victory hand', '😘': 'face blowing a kiss'}, {'🙊': 'speak-no-evil monkey'}, {'😩': 'weary face', '😷': 'face with medical mask', '👎': 'thumbs down'}, {'👋': 'waving hand'}, {'😁': 'beaming face with smiling eyes'}, {'😒': 'unamused face'}, {'☺': 'smiling face'}, {'😂': 'face with tears of joy'}, {'💁': 'person tipping hand'}, {'😂': 'face with tears of joy'}, {'😃': 'grinning face with big eyes', '☺️': 'smiling face'}, {'😏': 'smirking face'}, {'😑': 'expressionless face', '👊': 'oncoming fist'}, {'😂': 'face with tears of joy'}, {'😂': 'face with tears of joy'}, {'❄️': 'snowflake'}, {'😂': 'face with tears of joy'}, {'😁': 'beaming face with smiling eyes'}, {'😂': 'face with tears of joy'}, {'😒': 'unamused face'}, {'😏': 'smirking face'}, {'👎': 'thumbs down', '🎁': 'wrapped gift', '🎄': 'Christmas tree', '😷': 'face with medical mask', '😒': 'unamused face', '🎅': 'Santa Claus'}, {'😒': 'unamused face', '😑': 'expressionless face', '😠': 'angry face'}, {'😏': 'smirking face', '😠': 'angry face', '😞': 'disappointed face'}, {'😐': 'neutral face', '😍': 'smiling face with heart-eyes'}, {'😒': 'unamused face'}, {'😂': 'face with tears of joy'}, {'😒': 'unamused face', '😞': 'disappointed face'}, {'👍': 'thumbs up', '☺️': 'smiling face'}, {'😒': 'unamused face'}, {'🙌': 'raising hands'}, {'👍': 'thumbs up', '👌': 'OK hand'}, {'🏈': 'american football'}, {'😁': 'beaming face with smiling eyes'}, {'😎': 'smiling face with sunglasses', '😠': 'angry face'}, {'😒': 'unamused face', '😊': 'smiling face with smiling eyes'}, {'😩': 'weary face', '💀': 'skull', '😡': 'pouting face'}, {'😅': 'grinning face with sweat'}, {'😏': 'smirking face'}, {'😒': 'unamused face'}, {'😑': 'expressionless face'}, {'❄️': 'snowflake', '⛄': 'snowman without snow', '😏': 'smirking face'}, {'😉': 'winking face'}, {'😜': 'winking face with tongue', '😏': 'smirking face', '😁': 'beaming face with smiling eyes', '😋': 'face savoring food'}, {'💩': 'pile of poo', '🙈': 'see-no-evil monkey', '😭': 'loudly crying face'}, {'😂': 'face with tears of joy'}, {'❤️': 'red heart'}, {'😢': 'crying face'}, {'😫': 'tired face'}, {'👍': 'thumbs up'}, {'🙏': 'folded hands'}, {'😕': 'confused face'}, {'😑': 'expressionless face'}, {'😂': 'face with tears of joy'}, {'👌': 'OK hand'}, {'😢': 'crying face', '😣': 'persevering face', '😐': 'neutral face', '😒': 'unamused face', '😠': 'angry face'}, {'😑': 'expressionless face'}, {'👏': 'clapping hands'}, {'😉': 'winking face'}, {'😳': 'flushed face'}, {'🎉': 'party popper'}, {'😂': 'face with tears of joy'}, {'😒': 'unamused face'}, {'👌': 'OK hand'}, {'💜': 'purple heart', '😑': 'expressionless face', '😲': 'astonished face'}, {'😑': 'expressionless face'}, {'😩': 'weary face'}, {'😂': 'face with tears of joy'}, {'😂': 'face with tears of joy'}, {'😩': 'weary face', '😴': 'sleeping face', '😞': 'disappointed face'}, {'🏃': 'person running', '👈': 'backhand index pointing left'}, {'😛': 'face with tongue'}, {'😏': 'smirking face', '😄': 'grinning face with smiling eyes', '🐠': 'tropical fish'}, {'😏': 'smirking face'}, {'🌚': 'new moon face'}, {'😁': 'beaming face with smiling eyes', '😉': 'winking face'}, {'😒': 'unamused face'}, {'👌': 'OK hand'}, {'☺️': 'smiling face'}, {'😒': 'unamused face'}, {'😒': 'unamused face'}, {'👏': 'clapping hands'}, {'👍': 'thumbs up', '👋': 'waving hand'}, {'😒': 'unamused face'}, {'😊': 'smiling face with smiling eyes'}, {'😱': 'face screaming in fear'}, {'😖': 'confounded face'}, {'😨': 'fearful face', '😥': 'sad but relieved face', '😰': 'anxious face with sweat'}, {'🎄': 'Christmas tree', '👊': 'oncoming fist', '😐': 'neutral face', '😂': 'face with tears of joy'}, {'😂': 'face with tears of joy'}, {'😂': 'face with tears of joy'}, {'😑': 'expressionless face'}, {'🔫': 'water pistol', '💰': 'money bag', '😷': 'face with medical mask', '😢': 'crying face'}, {'😊': 'smiling face with smiling eyes'}, {'😂': 'face with tears of joy'}, {'💃': 'woman dancing', '👏': 'clapping hands'}, {'♥': 'heart suit'}, {'😒': 'unamused face', '😍': 'smiling face with heart-eyes'}, {'😄': 'grinning face with smiling eyes', '👌': 'OK hand', '👍': 'thumbs up'}, {'😒': 'unamused face'}, {'😅': 'grinning face with sweat', '👌': 'OK hand'}, {'😂': 'face with tears of joy'}, {'👏': 'clapping hands'}, {'😒': 'unamused face'}, {'👌': 'OK hand'}, {'😒': 'unamused face'}, {'😩': 'weary face', '💔': 'broken heart'}, {'😒': 'unamused face'}, {'😉': 'winking face'}, {'😒': 'unamused face'}, {'😑': 'expressionless face'}, {'😭': 'loudly crying face'}, {'😃': 'grinning face with big eyes'}, {'☔': 'umbrella with rain drops', '🌂': 'closed umbrella', '😔': 'pensive face', '❌': 'cross mark', '⚡': 'high voltage'}, {'😂': 'face with tears of joy'}, {'😒': 'unamused face', '😡': 'pouting face'}, {'💁': 'person tipping hand'}, {'😘': 'face blowing a kiss'}, {'😒': 'unamused face'}, {'☺️': 'smiling face'}, {'😒': 'unamused face'}, {'✋': 'raised hand'}, {'😜': 'winking face with tongue', '👎': 'thumbs down'}, {'😒': 'unamused face', '😣': 'persevering face'}, {'🔫': 'water pistol', '💥': 'collision', '😁': 'beaming face with smiling eyes'}, {'😊': 'smiling face with smiling eyes'}, {'😒': 'unamused face'}, {'🔫': 'water pistol', '😄': 'grinning face with smiling eyes'}, {'🔥': 'fire'}, {'😊': 'smiling face with smiling eyes'}, {'😑': 'expressionless face'}, {'😒': 'unamused face'}, {'😒': 'unamused face'}, {'😐': 'neutral face'}, {'😷': 'face with medical mask'}, {'😢': 'crying face'}, {'🍸': 'cocktail glass', '🎉': 'party popper'}, {'😒': 'unamused face', '😔': 'pensive face'}, {'👌': 'OK hand'}, {'💁': 'person tipping hand', '😂': 'face with tears of joy'}, {'😒': 'unamused face'}, {'😂': 'face with tears of joy'}, {'😒': 'unamused face'}, {'👌': 'OK hand', '😍': 'smiling face with heart-eyes', '☺️': 'smiling face'}, {'❄️': 'snowflake', '😷': 'face with medical mask', '😐': 'neutral face'}, {'😂': 'face with tears of joy'}, {'😏': 'smirking face', '😣': 'persevering face'}, {'👌': 'OK hand', '😡': 'pouting face'}, {'😐': 'neutral face'}, {'☺': 'smiling face'}, {'😩': 'weary face', '👎': 'thumbs down'}, {'😂': 'face with tears of joy'}, {'😁': 'beaming face with smiling eyes'}, {'❤️': 'red heart', '💔': 'broken heart'}, {'😒': 'unamused face'}, {'🙌': 'raising hands'}, {'😪': 'sleepy face'}, {'😊': 'smiling face with smiling eyes'}, {'😔': 'pensive face'}, {'🔫': 'water pistol'}, {'😑': 'expressionless face', '😥': 'sad but relieved face', '😱': 'face screaming in fear'}, {'😤': 'face with steam from nose'}, {'😒': 'unamused face', '😑': 'expressionless face'}, {'👌': 'OK hand'}, {'😒': 'unamused face'}, {'😆': 'grinning squinting face', '😂': 'face with tears of joy', '😭': 'loudly crying face'}, {'😂': 'face with tears of joy'}, {'😒': 'unamused face'}, {'😡': 'pouting face'}, {'😒': 'unamused face'}, {'😊': 'smiling face with smiling eyes'}, {'😄': 'grinning face with smiling eyes'}, {'😑': 'expressionless face'}, {'😜': 'winking face with tongue', '😯': 'hushed face'}, {'😹': 'cat with tears of joy'}, {'😂': 'face with tears of joy'}, {'❤️': 'red heart', '💛': 'yellow heart'}, {'😺': 'grinning cat'}, {'👍': 'thumbs up'}, {'👌': 'OK hand'}, {'👍': 'thumbs up'}, {'👿': 'angry face with horns', '😑': 'expressionless face'}, {'😂': 'face with tears of joy'}, {'😂': 'face with tears of joy'}, {'😏': 'smirking face'}, {'❄️': 'snowflake'}, {'👌': 'OK hand'}, {'🌴': 'palm tree', '👙': 'bikini'}, {'😂': 'face with tears of joy'}, {'😁': 'beaming face with smiling eyes'}, {'😊': 'smiling face with smiling eyes'}, {'😔': 'pensive face'}, {'💕': 'two hearts', '❤️': 'red heart', '😂': 'face with tears of joy'}, {'❤️': 'red heart'}, {'😑': 'expressionless face', '👌': 'OK hand', '😡': 'pouting face'}, {'😒': 'unamused face'}, {'😒': 'unamused face'}, {'😒': 'unamused face'}, {'😛': 'face with tongue'}, {'😠': 'angry face'}, {'😒': 'unamused face', '👎': 'thumbs down', '🙈': 'see-no-evil monkey'}, {'😉': 'winking face'}, {'❤️': 'red heart'}, {'😂': 'face with tears of joy'}, {'😶': 'face without mouth'}, {'😄': 'grinning face with smiling eyes', '👍': 'thumbs up'}, {'😑': 'expressionless face'}, {'😲': 'astonished face'}, {'😅': 'grinning face with sweat', '👎': 'thumbs down'}, {'😒': 'unamused face', '😭': 'loudly crying face'}, {'😃': 'grinning face with big eyes', '😰': 'anxious face with sweat'}, {'💁': 'person tipping hand'}, {'😄': 'grinning face with smiling eyes'}, {'😏': 'smirking face'}, {'😂': 'face with tears of joy'}, {'🔫': 'water pistol', '😁': 'beaming face with smiling eyes'}, {'😃': 'grinning face with big eyes'}, {'😒': 'unamused face'}, {'😠': 'angry face', '😡': 'pouting face'}, {'☝️': 'index pointing up'}, {'😷': 'face with medical mask'}, {'😒': 'unamused face'}, {'🎀': 'ribbon', '😁': 'beaming face with smiling eyes', '😳': 'flushed face'}, {'👊': 'oncoming fist'}, {'😒': 'unamused face'}, {'😩': 'weary face', '😭': 'loudly crying face'}, {'💩': 'pile of poo'}, {'😒': 'unamused face'}, {'😂': 'face with tears of joy'}, {'😒': 'unamused face', '🙌': 'raising hands'}, {'😂': 'face with tears of joy'}, {'😒': 'unamused face'}, {'👌': 'OK hand', '😊': 'smiling face with smiling eyes'}, {'😜': 'winking face with tongue', '😂': 'face with tears of joy'}, {'😀': 'grinning face'}, {'😒': 'unamused face'}, {'😑': 'expressionless face'}, {'👌': 'OK hand'}, {'👌': 'OK hand'}, {'😂': 'face with tears of joy'}, {'😙': 'kissing face with smiling eyes'}, {'😘': 'face blowing a kiss', '💎': 'gem stone', '👑': 'crown'}, {'😒': 'unamused face'}, {'🚶': 'person walking', '🏃': 'person running', '😄': 'grinning face with smiling eyes', '💨': 'dashing away', '😒': 'unamused face'}, {'💢': 'anger symbol', '😑': 'expressionless face', '👊': 'oncoming fist'}, {'😒': 'unamused face'}, {'😒': 'unamused face'}, {'😑': 'expressionless face'}, {'😬': 'grimacing face'}, {'😅': 'grinning face with sweat'}, {'😒': 'unamused face'}, {'😳': 'flushed face'}, {'👍': 'thumbs up'}, {'😶': 'face without mouth', '👍': 'thumbs up'}, {'😂': 'face with tears of joy'}, {'💁': 'person tipping hand', '😂': 'face with tears of joy'}, {'😒': 'unamused face'}, {'😒': 'unamused face'}, {'👍': 'thumbs up', '👌': 'OK hand', '🙆': 'person gesturing OK'}, {'🍻': 'clinking beer mugs'}, {'😱': 'face screaming in fear'}, {'🍧': 'shaved ice', '🍪': 'cookie', '🍰': 'shortcake', '🍭': 'lollipop', '🍬': 'candy'}, {'👌': 'OK hand'}, {'😂': 'face with tears of joy'}, {'❄️': 'snowflake', '👙': 'bikini'}, {'❤️': 'red heart', '😍': 'smiling face with heart-eyes'}, {'😃': 'grinning face with big eyes', '😱': 'face screaming in fear', '😆': 'grinning squinting face'}, {'😒': 'unamused face'}, {'❤️': 'red heart'}, {'😃': 'grinning face with big eyes'}, {'😱': 'face screaming in fear'}, {'👌': 'OK hand'}, {'😡': 'pouting face', '😞': 'disappointed face'}, {'😠': 'angry face'}, {'👍': 'thumbs up'}, {'😁': 'beaming face with smiling eyes'}, {'😒': 'unamused face'}, {'💁': 'person tipping hand', '❤': 'red heart'}, {'😒': 'unamused face'}, {'😂': 'face with tears of joy'}, {'😔': 'pensive face'}, {'😏': 'smirking face'}, {'✈️': 'airplane', '😡': 'pouting face'}, {'💃': 'woman dancing', '😣': 'persevering face', '😉': 'winking face', '😰': 'anxious face with sweat'}, {'👏': 'clapping hands'}, {'😒': 'unamused face'}, {'😄': 'grinning face with smiling eyes'}, {'😊': 'smiling face with smiling eyes'}, {'😒': 'unamused face'}, {'😴': 'sleeping face', '😠': 'angry face', '😰': 'anxious face with sweat'}, {'✊': 'raised fist'}, {'😑': 'expressionless face'}, {'😳': 'flushed face'}, {'👌': 'OK hand', '😂': 'face with tears of joy', '👏': 'clapping hands'}, {'😒': 'unamused face'}, {'🙈': 'see-no-evil monkey'}, {'😂': 'face with tears of joy'}, {'😒': 'unamused face'}, {'😒': 'unamused face'}, {'😒': 'unamused face'}, {'💜': 'purple heart', '👍': 'thumbs up', '😁': 'beaming face with smiling eyes', '😆': 'grinning squinting face', '💚': 'green heart', '☺️': 'smiling face', '😄': 'grinning face with smiling eyes'}, {'👌': 'OK hand'}, {'👍': 'thumbs up', '🙈': 'see-no-evil monkey'}, {'👌': 'OK hand'}, {'✌️': 'victory hand'}, {'😏': 'smirking face', '😜': 'winking face with tongue', '😁': 'beaming face with smiling eyes'}, {'😑': 'expressionless face'}, {'😑': 'expressionless face'}, {'😐': 'neutral face'}, {'😒': 'unamused face', '😔': 'pensive face', '😂': 'face with tears of joy'}, {'😴': 'sleeping face', '📖': 'open book', '📚': 'books', '👍': 'thumbs up'}, {'😂': 'face with tears of joy'}, {'😊': 'smiling face with smiling eyes'}, {'👍': 'thumbs up'}, {'👌': 'OK hand'}, {'😘': 'face blowing a kiss'}, {'😘': 'face blowing a kiss'}, {'😠': 'angry face'}, {'🙆': 'person gesturing OK'}, {'😕': 'confused face'}, {'😒': 'unamused face', '😠': 'angry face', '😉': 'winking face'}, {'👍': 'thumbs up', '😜': 'winking face with tongue', '😂': 'face with tears of joy'}, {'😒': 'unamused face'}, {'😉': 'winking face'}, {'😒': 'unamused face'}, {'😂': 'face with tears of joy'}, {'😊': 'smiling face with smiling eyes'}, {'😁': 'beaming face with smiling eyes'}, {'👌': 'OK hand'}, {'✨': 'sparkles'}, {'😒': 'unamused face', '😷': 'face with medical mask', '👀': 'eyes'}, {'😂': 'face with tears of joy'}, {'😠': 'angry face'}, {'😂': 'face with tears of joy'}, {'❤️': 'red heart'}, {'👎': 'thumbs down'}, {'😫': 'tired face'}, {'😒': 'unamused face'}, {'😻': 'smiling cat with heart-eyes', '🙌': 'raising hands'}, {'😂': 'face with tears of joy'}, {'👍': 'thumbs up', '😀': 'grinning face'}, {'💪': 'flexed biceps'}, {'🌅': 'sunrise'}, {'😝': 'squinting face with tongue'}, {'😄': 'grinning face with smiling eyes'}, {'👌': 'OK hand'}, {'🔫': 'water pistol', '😂': 'face with tears of joy'}, {'😄': 'grinning face with smiling eyes'}, {'♥️': 'heart suit', '😍': 'smiling face with heart-eyes'}, {'😒': 'unamused face'}, {'😆': 'grinning squinting face'}, {'👍': 'thumbs up'}, {'🙋': 'person raising hand'}, {'😘': 'face blowing a kiss', '😊': 'smiling face with smiling eyes'}, {'😒': 'unamused face', '😂': 'face with tears of joy'}, {'😠': 'angry face'}, {'😳': 'flushed face', '😂': 'face with tears of joy'}, {'😒': 'unamused face'}, {'🔥': 'fire'}, {'😄': 'grinning face with smiling eyes', '✌️': 'victory hand'}, {'👄': 'mouth'}, {'👊': 'oncoming fist', '😡': 'pouting face', '😂': 'face with tears of joy'}, {'☕': 'hot beverage', '🚫': 'prohibited', '😌': 'relieved face'}, {'😒': 'unamused face', '😤': 'face with steam from nose', '😡': 'pouting face'}, {'👌': 'OK hand', '😉': 'winking face'}, {'😒': 'unamused face'}, {'😁': 'beaming face with smiling eyes'}, {'😂': 'face with tears of joy'}, {'😑': 'expressionless face', '😤': 'face with steam from nose'}, {'👊': 'oncoming fist', '👎': 'thumbs down', '😡': 'pouting face'}, {'😹': 'cat with tears of joy'}, {'😑': 'expressionless face'}, {'😏': 'smirking face'}, {'😄': 'grinning face with smiling eyes', '🎊': 'confetti ball', '🎈': 'balloon', '🎉': 'party popper'}, {'☀': 'sun', '⛄': 'snowman without snow'}, {'🔫': 'water pistol', '😵': 'knocked-out face'}, {'😴': 'sleeping face'}, {'👌': 'OK hand'}, {'👌': 'OK hand'}, {'😔': 'pensive face'}, {'😑': 'expressionless face'}, {'😒': 'unamused face'}, {'👀': 'eyes'}, {'🔫': 'water pistol', '😩': 'weary face'}, {'😍': 'smiling face with heart-eyes'}, {'😒': 'unamused face'}, {'😂': 'face with tears of joy'}, {'👉': 'backhand index pointing right'}, {'😡': 'pouting face'}, {'👌': 'OK hand', '✌️': 'victory hand', '👆': 'backhand index pointing up'}, {'😞': 'disappointed face'}, {'😉': 'winking face'}, {'🏈': 'american football'}, {'😒': 'unamused face', '👌': 'OK hand'}, {'😁': 'beaming face with smiling eyes'}, {'👌': 'OK hand'}, {'😒': 'unamused face'}, {'😊': 'smiling face with smiling eyes'}, {'😂': 'face with tears of joy'}, {'♥': 'heart suit'}, {'😂': 'face with tears of joy'}, {'😌': 'relieved face', '😭': 'loudly crying face'}, {'😒': 'unamused face'}, {'😂': 'face with tears of joy'}, {'😑': 'expressionless face'}, {'😒': 'unamused face', '😑': 'expressionless face'}, {'😀': 'grinning face'}, {'😂': 'face with tears of joy'}, {'😒': 'unamused face'}, {'😶': 'face without mouth'}, {'😆': 'grinning squinting face', '👍': 'thumbs up'}, {'⚽': 'soccer ball'}, {'😒': 'unamused face', '😳': 'flushed face'}, {'👋': 'waving hand'}, {'😑': 'expressionless face'}, {'😒': 'unamused face'}, {'👍': 'thumbs up'}, {'😂': 'face with tears of joy'}, {'😁': 'beaming face with smiling eyes', '💯': 'hundred points'}, {'👍': 'thumbs up'}, {'👍': 'thumbs up', '👌': 'OK hand'}, {'😷': 'face with medical mask'}, {'😒': 'unamused face'}, {'😏': 'smirking face', '😂': 'face with tears of joy'}, {'😍': 'smiling face with heart-eyes'}, {'😩': 'weary face'}, {'💋': 'kiss mark', '😍': 'smiling face with heart-eyes', '😂': 'face with tears of joy'}, {'😇': 'smiling face with halo'}, {'😄': 'grinning face with smiling eyes'}, {'😒': 'unamused face'}, {'😒': 'unamused face'}, {'😊': 'smiling face with smiling eyes', '😠': 'angry face', '😡': 'pouting face'}, {'😊': 'smiling face with smiling eyes'}, {'🙈': 'see-no-evil monkey'}, {'😡': 'pouting face'}, {'☺️': 'smiling face'}, {'😠': 'angry face'}, {'😤': 'face with steam from nose', '👎': 'thumbs down', '😠': 'angry face', '😡': 'pouting face'}, {'😒': 'unamused face'}, {'😞': 'disappointed face'}, {'✋': 'raised hand', '🙅': 'person gesturing NO'}, {'😅': 'grinning face with sweat'}, {'😂': 'face with tears of joy'}, {'❄️': 'snowflake'}, {'😒': 'unamused face'}, {'😘': 'face blowing a kiss'}, {'😡': 'pouting face'}, {'😐': 'neutral face'}, {'😊': 'smiling face with smiling eyes'}, {'😁': 'beaming face with smiling eyes'}, {'👌': 'OK hand', '😬': 'grimacing face'}, {'😘': 'face blowing a kiss', '❤️': 'red heart', '💗': 'growing heart', '💞': 'revolving hearts', '💖': 'sparkling heart', '💋': 'kiss mark'}, {'❄️': 'snowflake', '😍': 'smiling face with heart-eyes'}, {'😒': 'unamused face'}, {'❄️': 'snowflake', '☀️': 'sun', '🌀': 'cyclone', '😐': 'neutral face', '❌': 'cross mark', '⛄': 'snowman without snow'}, {'💧': 'droplet', '👌': 'OK hand', '🏊': 'person swimming'}, {'😑': 'expressionless face'}, {'👍': 'thumbs up'}, {'🙈': 'see-no-evil monkey', '👀': 'eyes'}, {'😍': 'smiling face with heart-eyes'}, {'🙈': 'see-no-evil monkey', '😍': 'smiling face with heart-eyes', '😂': 'face with tears of joy'}, {'😳': 'flushed face', '😱': 'face screaming in fear'}, {'😆': 'grinning squinting face'}, {'👌': 'OK hand', '😐': 'neutral face'}, {'🍗': 'poultry leg'}, {'❗': 'red exclamation mark'}, {'✊': 'raised fist', '💦': 'sweat droplets'}, {'❄️': 'snowflake', '⛄': 'snowman without snow'}, {'😒': 'unamused face'}, {'😒': 'unamused face', '💁': 'person tipping hand'}, {'😊': 'smiling face with smiling eyes'}, {'😃': 'grinning face with big eyes'}, {'👍': 'thumbs up'}, {'😤': 'face with steam from nose', '😷': 'face with medical mask'}, {'😒': 'unamused face', '😠': 'angry face'}, {'😐': 'neutral face'}, {'😍': 'smiling face with heart-eyes'}, {'😝': 'squinting face with tongue', '😏': 'smirking face', '😂': 'face with tears of joy'}, {'😒': 'unamused face'}, {'😒': 'unamused face'}, {'💁': 'person tipping hand', '😁': 'beaming face with smiling eyes', '😂': 'face with tears of joy'}, {'💜': 'purple heart', '😂': 'face with tears of joy'}, {'😑': 'expressionless face'}, {'😑': 'expressionless face'}, {'😂': 'face with tears of joy'}, {'😂': 'face with tears of joy'}, {'😒': 'unamused face'}, {'😔': 'pensive face'}, {'😕': 'confused face'}, {'😒': 'unamused face'}, {'❄️': 'snowflake', '⛅': 'sun behind cloud', '☀️': 'sun', '☔': 'umbrella with rain drops', '⚡': 'high voltage', '☁️': 'cloud'}, {'😫': 'tired face', '😩': 'weary face', '😖': 'confounded face'}, {'👍': 'thumbs up'}, {'👌': 'OK hand'}, {'👎': 'thumbs down'}, {'😁': 'beaming face with smiling eyes'}, {'😄': 'grinning face with smiling eyes'}, {'😂': 'face with tears of joy'}, {'😒': 'unamused face', '😔': 'pensive face'}, {'😨': 'fearful face', '😩': 'weary face', '😣': 'persevering face', '😡': 'pouting face'}, {'👌': 'OK hand'}, {'😭': 'loudly crying face'}, {'❄️': 'snowflake'}, {'☺️': 'smiling face'}, {'😒': 'unamused face'}, {'☕': 'hot beverage', '🎄': 'Christmas tree', '💻': 'laptop'}, {'😑': 'expressionless face', '😡': 'pouting face'}, {'😬': 'grimacing face'}, {'😔': 'pensive face'}, {'✌️': 'victory hand'}, {'😜': 'winking face with tongue'}, {'😒': 'unamused face'}, {'😵': 'knocked-out face'}, {'🐤': 'baby chick'}, {'😑': 'expressionless face', '😐': 'neutral face', '😡': 'pouting face', '😕': 'confused face'}, {'☺️': 'smiling face'}, {'😀': 'grinning face'}, {'🚔': 'oncoming police car', '🚨': 'police car light'}, {'😂': 'face with tears of joy'}, {'😂': 'face with tears of joy'}, {'👌': 'OK hand'}, {'😊': 'smiling face with smiling eyes', '😂': 'face with tears of joy'}, {'👎': 'thumbs down', '😐': 'neutral face'}, {'😂': 'face with tears of joy'}, {'😒': 'unamused face'}, {'😂': 'face with tears of joy'}, {'😀': 'grinning face'}, {'👌': 'OK hand'}, {'👼': 'baby angel'}, {'😒': 'unamused face'}, {'😂': 'face with tears of joy'}, {'😐': 'neutral face', '😑': 'expressionless face', '😟': 'worried face'}, {'😪': 'sleepy face'}, {'😁': 'beaming face with smiling eyes'}, {'😒': 'unamused face'}, {'😒': 'unamused face'}, {'😏': 'smirking face'}, {'🚬': 'cigarette'}, {'👍': 'thumbs up', '😁': 'beaming face with smiling eyes'}, {'😑': 'expressionless face', '🚨': 'police car light'}, {'😱': 'face screaming in fear'}, {'👶': 'baby', '👎': 'thumbs down'}, {'😍': 'smiling face with heart-eyes', '🎁': 'wrapped gift'}, {'❤️': 'red heart'}, {'😳': 'flushed face'}, {'💪': 'flexed biceps'}, {'😘': 'face blowing a kiss', '👌': 'OK hand'}, {'❄️': 'snowflake', '😒': 'unamused face', '🔫': 'water pistol'}, {'😡': 'pouting face'}, {'😒': 'unamused face'}, {'😂': 'face with tears of joy'}, {'😴': 'sleeping face', '💤': 'zzz'}, {'❤️': 'red heart', '🙏': 'folded hands'}, {'😂': 'face with tears of joy'}, {'👍': 'thumbs up'}, {'😋': 'face savoring food'}, {'👍': 'thumbs up'}, {'😑': 'expressionless face'}, {'👌': 'OK hand', '😕': 'confused face'}, {'👌': 'OK hand'}, {'👍': 'thumbs up'}, {'😅': 'grinning face with sweat'}, {'😩': 'weary face'}, {'😒': 'unamused face'}, {'😅': 'grinning face with sweat'}, {'🎊': 'confetti ball', '😯': 'hushed face', '🍻': 'clinking beer mugs', '😱': 'face screaming in fear', '🍺': 'beer mug', '🎉': 'party popper'}, {'👌': 'OK hand'}, {'😃': 'grinning face with big eyes'}, {'😁': 'beaming face with smiling eyes'}, {'😠': 'angry face', '😔': 'pensive face'}, {'😒': 'unamused face', '👌': 'OK hand'}, {'😳': 'flushed face'}, {'😒': 'unamused face'}, {'🙊': 'speak-no-evil monkey'}, {'😂': 'face with tears of joy'}, {'😑': 'expressionless face'}, {'😇': 'smiling face with halo', '💕': 'two hearts', '💁': 'person tipping hand'}, {'😁': 'beaming face with smiling eyes'}, {'👍': 'thumbs up'}, {'😔': 'pensive face'}, {'😂': 'face with tears of joy'}, {'😒': 'unamused face'}, {'☔': 'umbrella with rain drops'}, {'😱': 'face screaming in fear'}, {'😂': 'face with tears of joy'}, {'😁': 'beaming face with smiling eyes'}, {'😂': 'face with tears of joy'}, {'😒': 'unamused face'}, {'😕': 'confused face'}, {'😘': 'face blowing a kiss'}, {'😂': 'face with tears of joy'}, {'😔': 'pensive face'}, {'😒': 'unamused face', '🙌': 'raising hands'}, {'😂': 'face with tears of joy', '💄': 'lipstick', '😉': 'winking face', '🎀': 'ribbon', '💋': 'kiss mark'}, {'😠': 'angry face'}, {'😃': 'grinning face with big eyes'}, {'😒': 'unamused face'}, {'💁': 'person tipping hand'}, {'😕': 'confused face'}, {'👌': 'OK hand'}, {'😥': 'sad but relieved face', '🚨': 'police car light'}, {'😑': 'expressionless face'}, {'😂': 'face with tears of joy', '😭': 'loudly crying face'}, {'😄': 'grinning face with smiling eyes'}, {'😫': 'tired face', '😩': 'weary face', '😤': 'face with steam from nose'}, {'👌': 'OK hand'}, {'😆': 'grinning squinting face'}, {'❄️': 'snowflake', '😒': 'unamused face'}, {'🙊': 'speak-no-evil monkey'}, {'😁': 'beaming face with smiling eyes'}, {'😒': 'unamused face'}, {'😒': 'unamused face'}, {'😔': 'pensive face'}, {'🙉': 'hear-no-evil monkey'}, {'😂': 'face with tears of joy'}, {'💁': 'person tipping hand'}, {'😏': 'smirking face'}, {'😒': 'unamused face'}, {'🙆': 'person gesturing OK', '👏': 'clapping hands'}, {'😒': 'unamused face'}, {'😂': 'face with tears of joy'}, {'😒': 'unamused face'}, {'☀️': 'sun', '😊': 'smiling face with smiling eyes', '💛': 'yellow heart'}, {'😂': 'face with tears of joy'}, {'✌': 'victory hand'}, {'😔': 'pensive face'}, {'👌': 'OK hand'}, {'😒': 'unamused face'}, {'😭': 'loudly crying face'}, {'♥': 'heart suit'}, {'😒': 'unamused face'}, {'👌': 'OK hand'}, {'😂': 'face with tears of joy'}, {'😒': 'unamused face'}, {'😒': 'unamused face'}, {'😒': 'unamused face'}, {'👌': 'OK hand'}, {'😒': 'unamused face'}, {'😏': 'smirking face'}, {'😒': 'unamused face'}, {'🎊': 'confetti ball', '🎉': 'party popper'}, {'😂': 'face with tears of joy'}, {'😅': 'grinning face with sweat'}, {'😑': 'expressionless face'}, {'👎': 'thumbs down'}, {'🎁': 'wrapped gift'}, {'😂': 'face with tears of joy'}, {'😑': 'expressionless face'}, {'✌': 'victory hand', '😁': 'beaming face with smiling eyes'}, {'😊': 'smiling face with smiling eyes'}, {'😑': 'expressionless face'}, {'💕': 'two hearts', '😘': 'face blowing a kiss'}, {'👌': 'OK hand'}, {'😒': 'unamused face', '😁': 'beaming face with smiling eyes'}, {'😄': 'grinning face with smiling eyes'}, {'💁': 'person tipping hand'}, {'👎': 'thumbs down'}, {'😒': 'unamused face', '😁': 'beaming face with smiling eyes'}, {'🎉': 'party popper', '👏': 'clapping hands'}, {'📖': 'open book', '📚': 'books', '✏': 'pencil'}, {'😅': 'grinning face with sweat', '😬': 'grimacing face'}, {'👍': 'thumbs up', '😊': 'smiling face with smiling eyes', '📚': 'books'}, {'😡': 'pouting face'}, {'👌': 'OK hand'}, {'😍': 'smiling face with heart-eyes'}, {'😉': 'winking face'}, {'😘': 'face blowing a kiss'}, {'☔': 'umbrella with rain drops', '⚡': 'high voltage'}, {'😂': 'face with tears of joy'}, {'☺️': 'smiling face'}, {'😒': 'unamused face', '😠': 'angry face'}, {'👏': 'clapping hands'}, {'😢': 'crying face', '💪': 'flexed biceps'}, {'😅': 'grinning face with sweat'}, {'🎹': 'musical keyboard', '🎻': 'violin', '🎷': 'saxophone', '🎺': 'trumpet', '📯': 'postal horn', '🎼': 'musical score', '🎸': 'guitar', '🎶': 'musical notes', '🎵': 'musical note'}, {'👋': 'waving hand'}, {'❤': 'red heart', '😘': 'face blowing a kiss'}, {'😑': 'expressionless face'}, {'🙈': 'see-no-evil monkey'}, {'💸': 'money with wings', '😔': 'pensive face'}, {'😅': 'grinning face with sweat'}, {'😜': 'winking face with tongue', '🎉': 'party popper'}, {'❤️': 'red heart'}, {'😆': 'grinning squinting face'}, {'💉': 'syringe', '💊': 'pill'}, {'🙈': 'see-no-evil monkey'}, {'😤': 'face with steam from nose'}, {'👏': 'clapping hands'}, {'😒': 'unamused face'}, {'😩': 'weary face'}, {'😷': 'face with medical mask'}, {'😔': 'pensive face'}, {'😊': 'smiling face with smiling eyes', '😯': 'hushed face'}, {'😒': 'unamused face'}, {'🙅': 'person gesturing NO'}, {'✌️': 'victory hand', '💀': 'skull'}, {'😊': 'smiling face with smiling eyes'}, {'😅': 'grinning face with sweat', '😢': 'crying face', '😭': 'loudly crying face'}, {'👎': 'thumbs down', '😔': 'pensive face'}, {'😊': 'smiling face with smiling eyes'}, {'😂': 'face with tears of joy'}, {'😏': 'smirking face'}, {'😉': 'winking face'}, {'😊': 'smiling face with smiling eyes'}, {'🐳': 'spouting whale', '🐬': 'dolphin', '🐟': 'fish', '🐠': 'tropical fish'}, {'😢': 'crying face'}, {'😁': 'beaming face with smiling eyes'}, {'💔': 'broken heart'}, {'🌵': 'cactus'}, {'😂': 'face with tears of joy'}, {'🍗': 'poultry leg', '🍧': 'shaved ice', '🍝': 'spaghetti', '🍤': 'fried shrimp', '🍨': 'ice cream', '🍟': 'french fries', '🍕': 'pizza', '🍦': 'soft ice cream', '🍖': 'meat on bone', '🎂': 'birthday cake', '🍫': 'chocolate bar', '🍛': 'curry rice', '🍳': 'cooking', '🍩': 'doughnut', '🍔': 'hamburger'}, {'😕': 'confused face'}, {'😬': 'grimacing face'}, {'😂': 'face with tears of joy'}, {'😧': 'anguished face'}, {'😩': 'weary face'}, {'😂': 'face with tears of joy'}, {'😝': 'squinting face with tongue'}, {'😒': 'unamused face'}, {'😍': 'smiling face with heart-eyes'}, {'🍁': 'maple leaf', '💚': 'green heart', '👃': 'nose'}, {'😂': 'face with tears of joy'}, {'😊': 'smiling face with smiling eyes'}, {'😴': 'sleeping face'}, {'❄️': 'snowflake', '⛄': 'snowman without snow'}, {'😃': 'grinning face with big eyes', '👌': 'OK hand'}, {'😂': 'face with tears of joy'}, {'😂': 'face with tears of joy'}, {'😒': 'unamused face', '📑': 'bookmark tabs', '💻': 'laptop'}, {'😊': 'smiling face with smiling eyes'}, {'😒': 'unamused face', '🐛': 'bug'}, {'🔫': 'water pistol', '😑': 'expressionless face'}, {'😂': 'face with tears of joy'}, {'😂': 'face with tears of joy'}, {'😑': 'expressionless face'}, {'👍': 'thumbs up'}, {'👍': 'thumbs up', '😀': 'grinning face'}, {'💖': 'sparkling heart'}, {'👌': 'OK hand', '🙌': 'raising hands', '👏': 'clapping hands'}, {'😒': 'unamused face'}, {'👏': 'clapping hands'}, {'😒': 'unamused face', '😠': 'angry face'}, {'✌️': 'victory hand'}, {'👍': 'thumbs up'}, {'😉': 'winking face'}, {'😱': 'face screaming in fear'}, {'😎': 'smiling face with sunglasses', '😂': 'face with tears of joy', '😈': 'smiling face with horns'}, {'😒': 'unamused face'}, {'💯': 'hundred points'}, {'😁': 'beaming face with smiling eyes'}, {'😑': 'expressionless face'}, {'🙊': 'speak-no-evil monkey'}, {'😳': 'flushed face'}, {'👿': 'angry face with horns'}, {'😊': 'smiling face with smiling eyes'}, {'🌙': 'crescent moon'}, {'😒': 'unamused face'}, {'😭': 'loudly crying face'}, {'😂': 'face with tears of joy', '👏': 'clapping hands'}, {'😂': 'face with tears of joy', '😭': 'loudly crying face'}, {'👀': 'eyes'}, {'😉': 'winking face'}, {'😴': 'sleeping face'}, {'😝': 'squinting face with tongue', '😏': 'smirking face', '😁': 'beaming face with smiling eyes', '😌': 'relieved face'}, {'😒': 'unamused face'}, {'😄': 'grinning face with smiling eyes', '👌': 'OK hand', '👍': 'thumbs up'}, {'👌': 'OK hand'}, {'😂': 'face with tears of joy'}, {'😊': 'smiling face with smiling eyes'}, {'😑': 'expressionless face'}, {'😘': 'face blowing a kiss', '😂': 'face with tears of joy'}, {'😑': 'expressionless face', '👍': 'thumbs up'}, {'😒': 'unamused face'}, {'😕': 'confused face'}, {'🔫': 'water pistol', '😑': 'expressionless face'}, {'🍺': 'beer mug'}, {'😉': 'winking face'}, {'😑': 'expressionless face'}, {'😍': 'smiling face with heart-eyes'}, {'👊': 'oncoming fist', '😭': 'loudly crying face'}, {'😂': 'face with tears of joy', '😭': 'loudly crying face'}, {'😑': 'expressionless face'}, {'😒': 'unamused face', '😄': 'grinning face with smiling eyes'}, {'🙌': 'raising hands'}, {'😔': 'pensive face'}, {'👍': 'thumbs up'}, {'😂': 'face with tears of joy'}, {'😎': 'smiling face with sunglasses'}, {'👌': 'OK hand'}, {'🙌': 'raising hands', '😂': 'face with tears of joy'}, {'👍': 'thumbs up'}, {'😒': 'unamused face', '👍': 'thumbs up', '😃': 'grinning face with big eyes'}, {'😜': 'winking face with tongue'}, {'😳': 'flushed face'}, {'😒': 'unamused face'}, {'😒': 'unamused face'}, {'😔': 'pensive face'}, {'😒': 'unamused face'}, {'🙏': 'folded hands'}, {'👍': 'thumbs up'}, {'😩': 'weary face', '👎': 'thumbs down'}, {'😜': 'winking face with tongue'}, {'🙌': 'raising hands'}, {'👌': 'OK hand', '😂': 'face with tears of joy'}, {'😔': 'pensive face'}, {'👍': 'thumbs up'}, {'😔': 'pensive face'}, {'😃': 'grinning face with big eyes'}, {'😂': 'face with tears of joy'}, {'😑': 'expressionless face'}, {'😄': 'grinning face with smiling eyes'}, {'😐': 'neutral face'}, {'😌': 'relieved face'}, {'☺️': 'smiling face'}, {'❤️': 'red heart'}, {'👍': 'thumbs up'}, {'😊': 'smiling face with smiling eyes'}, {'😒': 'unamused face', '👎': 'thumbs down'}, {'😒': 'unamused face'}, {'🌀': 'cyclone', '👀': 'eyes'}, {'😑': 'expressionless face'}, {'👌': 'OK hand'}, {'😊': 'smiling face with smiling eyes'}, {'😒': 'unamused face'}, {'😂': 'face with tears of joy'}, {'💔': 'broken heart'}, {'👾': 'alien monster'}, {'😂': 'face with tears of joy'}, {'😂': 'face with tears of joy', '😌': 'relieved face'}, {'💁': 'person tipping hand'}, {'💁': 'person tipping hand', '😄': 'grinning face with smiling eyes', '😁': 'beaming face with smiling eyes'}, {'👍': 'thumbs up'}, {'😒': 'unamused face', '😑': 'expressionless face'}, {'😅': 'grinning face with sweat'}, {'😑': 'expressionless face'}, {'💩': 'pile of poo'}, {'👌': 'OK hand'}, {'😄': 'grinning face with smiling eyes'}, {'😊': 'smiling face with smiling eyes'}, {'💁': 'person tipping hand'}, {'😎': 'smiling face with sunglasses'}, {'😑': 'expressionless face'}, {'😅': 'grinning face with sweat'}, {'😍': 'smiling face with heart-eyes'}, {'😳': 'flushed face'}, {'💩': 'pile of poo'}, {'♥': 'heart suit'}, {'💁': 'person tipping hand'}, {'♥': 'heart suit'}, {'☕': 'hot beverage', '🍩': 'doughnut'}, {'♥': 'heart suit'}, {'💎': 'gem stone', '🍀': 'four leaf clover', '💪': 'flexed biceps'}, {'😏': 'smirking face'}, {'🙌': 'raising hands'}, {'♥': 'heart suit'}, {'😒': 'unamused face'}, {'😃': 'grinning face with big eyes'}, {'😛': 'face with tongue'}, {'💣': 'bomb', '🏥': 'hospital', '🐾': 'paw prints', '🎎': 'Japanese dolls', '📱': 'mobile phone', '💊': 'pill'}, {'♥': 'heart suit'}, {'😂': 'face with tears of joy'}, {'🙆': 'person gesturing OK'}, {'💯': 'hundred points'}, {'😴': 'sleeping face', '👭': 'women holding hands'}, {'😚': 'kissing face with closed eyes', '♥': 'heart suit', '☺': 'smiling face'}, {'🎄': 'Christmas tree', '😍': 'smiling face with heart-eyes'}, {'😘': 'face blowing a kiss'}, {'❤': 'red heart', '😉': 'winking face'}, {'♥': 'heart suit'}, {'😂': 'face with tears of joy'}, {'™': 'trade mark'}, {'♥': 'heart suit'}, {'😬': 'grimacing face'}, {'🍠': 'roasted sweet potato', '🍆': 'eggplant', '🍲': 'pot of food', '😂': 'face with tears of joy', '👌': 'OK hand', '🍅': 'tomato', '🍍': 'pineapple', '😃': 'grinning face with big eyes'}, {'💃': 'woman dancing'}, {'😳': 'flushed face', '🕥': 'ten-thirty'}, {'👌': 'OK hand'}, {'♥': 'heart suit'}, {'☹': 'frowning face'}, {'🌂': 'closed umbrella', '💄': 'lipstick', '😊': 'smiling face with smiling eyes', '👠': 'high-heeled shoe'}, {'🎀': 'ribbon', '😘': 'face blowing a kiss'}, {'😎': 'smiling face with sunglasses', '👊': 'oncoming fist'}, {'😂': 'face with tears of joy'}, {'❤️': 'red heart'}, {'🙋': 'person raising hand', '🎄': 'Christmas tree', '🎉': 'party popper', '🎅': 'Santa Claus'}, {'❤️': 'red heart'}, {'😢': 'crying face'}, {'😂': 'face with tears of joy'}, {'😠': 'angry face'}, {'😆': 'grinning squinting face', '😊': 'smiling face with smiling eyes', '😂': 'face with tears of joy'}, {'©': 'copyright'}, {'💕': 'two hearts'}, {'😅': 'grinning face with sweat'}, {'♥': 'heart suit'}, {'♥': 'heart suit'}, {'🌏': 'globe showing Asia-Australia', '🌍': 'globe showing Europe-Africa'}, {'🎄': 'Christmas tree', '🎅': 'Santa Claus'}, {'😛': 'face with tongue', '😂': 'face with tears of joy'}, {'😂': 'face with tears of joy'}, {'💳': 'credit card'}, {'💕': 'two hearts', '😍': 'smiling face with heart-eyes'}, {'♥': 'heart suit'}, {'❤️': 'red heart'}, {'😳': 'flushed face', '😔': 'pensive face'}, {'❤': 'red heart', '😉': 'winking face'}, {'😁': 'beaming face with smiling eyes'}, {'🙈': 'see-no-evil monkey'}, {'😘': 'face blowing a kiss', '😜': 'winking face with tongue'}, {'❤️': 'red heart'}, {'😱': 'face screaming in fear', '😡': 'pouting face'}, {'🌎': 'globe showing Americas'}, {'🍸': 'cocktail glass', '🍷': 'wine glass', '🍹': 'tropical drink', '👭': 'women holding hands'}, {'❤': 'red heart'}, {'❤️': 'red heart'}, {'🙈': 'see-no-evil monkey'}, {'❤️': 'red heart'}, {'♥': 'heart suit'}, {'👌': 'OK hand', '😂': 'face with tears of joy'}, {'♥': 'heart suit'}, {'😒': 'unamused face', '💤': 'zzz', '😴': 'sleeping face'}, {'❤️': 'red heart'}, {'👍': 'thumbs up', '❤️': 'red heart'}, {'🏈': 'american football'}, {'❤️': 'red heart'}, {'✖️': 'multiply', '😌': 'relieved face'}, {'®': 'registered'}, {'👏': 'clapping hands'}, {'❤️': 'red heart', '😞': 'disappointed face'}, {'😎': 'smiling face with sunglasses', '👍': 'thumbs up'}, {'©': 'copyright'}, {'❤': 'red heart', '😉': 'winking face'}, {'😁': 'beaming face with smiling eyes', '💚': 'green heart'}, {'👌': 'OK hand', '😂': 'face with tears of joy'}, {'😭': 'loudly crying face'}, {'📖': 'open book'}, {'🎭': 'performing arts'}, {'👌': 'OK hand', '😳': 'flushed face', '😂': 'face with tears of joy'}, {'😔': 'pensive face'}, {'😄': 'grinning face with smiling eyes'}, {'😎': 'smiling face with sunglasses'}, {'👍': 'thumbs up', '😍': 'smiling face with heart-eyes'}, {'❤': 'red heart', '😉': 'winking face'}, {'💁': 'person tipping hand'}, {'😓': 'downcast face with sweat'}, {'🌞': 'sun with face', '💕': 'two hearts'}, {'😡': 'pouting face'}, {'😂': 'face with tears of joy'}, {'😒': 'unamused face'}, {'🙆': 'person gesturing OK'}, {'🙈': 'see-no-evil monkey', '😂': 'face with tears of joy'}, {'😔': 'pensive face'}, {'♥': 'heart suit'}, {'😁': 'beaming face with smiling eyes'}, {'🙆': 'person gesturing OK', '👬': 'men holding hands', '👩': 'woman', '😂': 'face with tears of joy', '🔫': 'water pistol'}, {'☃': 'snowman', '❄': 'snowflake'}, {'✨': 'sparkles', '🌙': 'crescent moon'}, {'❤': 'red heart', '😉': 'winking face'}, {'👊': 'oncoming fist', '😡': 'pouting face'}, {'❤': 'red heart', '😉': 'winking face'}, {'❤️': 'red heart'}, {'💔': 'broken heart'}, {'💪': 'flexed biceps'}, {'❤': 'red heart'}, {'😂': 'face with tears of joy'}, {'😚': 'kissing face with closed eyes'}, {'❤️': 'red heart'}, {'❄️': 'snowflake', '💜': 'purple heart', '🎄': 'Christmas tree', '❤️': 'red heart', '🎅': 'Santa Claus'}, {'🐼': 'panda', '📖': 'open book', '🍵': 'teacup without handle', '👣': 'footprints', '😊': 'smiling face with smiling eyes'}, {'♥': 'heart suit'}, {'😭': 'loudly crying face'}, {'😭': 'loudly crying face'}, {'☺': 'smiling face', '😭': 'loudly crying face'}, {'🎊': 'confetti ball', '🎁': 'wrapped gift', '🎆': 'fireworks', '🎄': 'Christmas tree', '😊': 'smiling face with smiling eyes', '🎉': 'party popper', '🎅': 'Santa Claus'}, {'😒': 'unamused face'}, {'😭': 'loudly crying face'}, {'☹': 'frowning face'}, {'😍': 'smiling face with heart-eyes'}, {'😐': 'neutral face'}, {'❤': 'red heart', '😉': 'winking face'}, {'🎄': 'Christmas tree', '🎁': 'wrapped gift'}, {'😆': 'grinning squinting face'}, {'😂': 'face with tears of joy'}, {'😂': 'face with tears of joy'}, {'✋': 'raised hand'}, {'❤': 'red heart'}, {'♥': 'heart suit'}, {'😃': 'grinning face with big eyes', '🎈': 'balloon'}, {'♥': 'heart suit'}, {'😢': 'crying face', '✋': 'raised hand', '🙈': 'see-no-evil monkey', '😭': 'loudly crying face'}, {'❤️': 'red heart', '✊': 'raised fist', '😍': 'smiling face with heart-eyes', '💯': 'hundred points'}, {'😫': 'tired face'}, {'♥': 'heart suit'}, {'♥': 'heart suit'}, {'😏': 'smirking face', '😂': 'face with tears of joy'}, {'©': 'copyright'}, {'😛': 'face with tongue'}, {'♥': 'heart suit'}, {'♥': 'heart suit'}, {'🎶': 'musical notes'}, {'😊': 'smiling face with smiling eyes', '🎈': 'balloon', '🎉': 'party popper'}, {'🎧': 'headphone'}, {'🎧': 'headphone'}, {'😊': 'smiling face with smiling eyes'}, {'😍': 'smiling face with heart-eyes'}, {'❄️': 'snowflake'}, {'😒': 'unamused face', '👌': 'OK hand', '💯': 'hundred points'}, {'😳': 'flushed face'}, {'❤': 'red heart', '😉': 'winking face'}, {'👙': 'bikini', '👼': 'baby angel'}, {'♥': 'heart suit'}, {'👍': 'thumbs up'}, {'♥': 'heart suit'}, {'😔': 'pensive face'}, {'♥': 'heart suit'}, {'➡️': 'right arrow', '⬅️': 'left arrow'}, {'☀': 'sun', '😊': 'smiling face with smiling eyes'}, {'😂': 'face with tears of joy'}, {'😔': 'pensive face'}, {'🇫🇷': 'flag: France', '🍭': 'lollipop', '🌆': 'cityscape at dusk', '😍': 'smiling face with heart-eyes'}, {'♦': 'diamond suit'}, {'💕': 'two hearts', '😏': 'smirking face', '🌽': 'ear of corn'}, {'💃': 'woman dancing', '🙈': 'see-no-evil monkey', '🙊': 'speak-no-evil monkey'}, {'😂': 'face with tears of joy'}, {'😌': 'relieved face'}, {'👉': 'backhand index pointing right', '😘': 'face blowing a kiss', '❤': 'red heart', '😃': 'grinning face with big eyes'}, {'☹': 'frowning face'}, {'☕': 'hot beverage', '🌞': 'sun with face'}, {'♥': 'heart suit'}, {'🌙': 'crescent moon'}, {'😒': 'unamused face', '😏': 'smirking face', '🙆': 'person gesturing OK'}, {'😏': 'smirking face'}, {'👊': 'oncoming fist'}, {'🙌': 'raising hands'}, {'✋': 'raised hand'}, {'♥': 'heart suit'}, {'🙌': 'raising hands'}, {'😍': 'smiling face with heart-eyes'}, {'❤': 'red heart', '😉': 'winking face'}, {'❤': 'red heart', '😉': 'winking face'}, {'😩': 'weary face', '😳': 'flushed face', '😔': 'pensive face'}, {'♥': 'heart suit'}, {'❤️': 'red heart'}, {'😩': 'weary face'}, {'🙈': 'see-no-evil monkey'}, {'😂': 'face with tears of joy'}, {'😄': 'grinning face with smiling eyes', '👍': 'thumbs up'}, {'😄': 'grinning face with smiling eyes', '👏': 'clapping hands'}, {'☹': 'frowning face'}, {'😂': 'face with tears of joy'}, {'😂': 'face with tears of joy'}, {'♥': 'heart suit'}, {'🙌': 'raising hands'}, {'🎶': 'musical notes', '🎄': 'Christmas tree', '❤️': 'red heart', '🎅': 'Santa Claus'}, {'☹': 'frowning face'}, {'🔫': 'water pistol', '😟': 'worried face'}, {'😂': 'face with tears of joy'}, {'♥': 'heart suit'}, {'☺': 'smiling face'}, {'💰': 'money bag', '💸': 'money with wings'}, {'🎧': 'headphone'}, {'♥': 'heart suit'}, {'😘': 'face blowing a kiss'}, {'😤': 'face with steam from nose', '😡': 'pouting face'}, {'😮': 'face with open mouth', '👏': 'clapping hands'}, {'😍': 'smiling face with heart-eyes'}, {'♥': 'heart suit'}, {'🎅': 'Santa Claus'}, {'✌': 'victory hand'}, {'💋': 'kiss mark'}, {'♥': 'heart suit'}, {'👌': 'OK hand', '🙌': 'raising hands'}, {'😄': 'grinning face with smiling eyes', '👍': 'thumbs up'}, {'❤': 'red heart'}, {'🚶': 'person walking', '😂': 'face with tears of joy', '👌': 'OK hand', '🎉': 'party popper', '🙌': 'raising hands', '😌': 'relieved face'}, {'❤': 'red heart', '😉': 'winking face'}, {'❤️': 'red heart'}, {'👐': 'open hands'}, {'♥': 'heart suit'}, {'❤': 'red heart', '😉': 'winking face'}, {'😘': 'face blowing a kiss'}, {'❤️': 'red heart'}, {'👌': 'OK hand'}, {'♥': 'heart suit'}, {'🎄': 'Christmas tree', '💝': 'heart with ribbon'}, {'🐰': 'rabbit face', '💚': 'green heart', '🙊': 'speak-no-evil monkey'}, {'😒': 'unamused face', '😌': 'relieved face', '😂': 'face with tears of joy'}, {'😏': 'smirking face', '🙌': 'raising hands'}, {'❤': 'red heart'}, {'🎉': 'party popper', '🎾': 'tennis'}, {'☹': 'frowning face', '♥': 'heart suit'}, {'🙅': 'person gesturing NO'}, {'🙌': 'raising hands'}, {'😊': 'smiling face with smiling eyes'}, {'👌': 'OK hand', '😂': 'face with tears of joy', '🙊': 'speak-no-evil monkey'}, {'😘': 'face blowing a kiss'}, {'😔': 'pensive face'}, {'♥': 'heart suit'}, {'♥': 'heart suit'}, {'❤': 'red heart', '😉': 'winking face'}, {'™': 'trade mark'}, {'😎': 'smiling face with sunglasses', '❤️': 'red heart'}, {'💕': 'two hearts', '💌': 'love letter', '💖': 'sparkling heart'}, {'❤️': 'red heart'}, {'❤': 'red heart'}, {'😘': 'face blowing a kiss', '❤️': 'red heart', '😍': 'smiling face with heart-eyes'}, {'❤': 'red heart'}, {'©': 'copyright'}, {'😍': 'smiling face with heart-eyes', '🎀': 'ribbon', '💁': 'person tipping hand', '😋': 'face savoring food', '👑': 'crown'}, {'❤️': 'red heart', '😭': 'loudly crying face'}, {'❤': 'red heart', '😉': 'winking face'}, {'❤': 'red heart', '😊': 'smiling face with smiling eyes'}, {'♥': 'heart suit'}, {'♥': 'heart suit'}, {'🚴': 'person biking'}, {'😍': 'smiling face with heart-eyes'}, {'♥': 'heart suit'}, {'😁': 'beaming face with smiling eyes'}, {'🙈': 'see-no-evil monkey', '⏰': 'alarm clock', '💛': 'yellow heart', '💞': 'revolving hearts'}, {'😡': 'pouting face', '😂': 'face with tears of joy'}, {'☺': 'smiling face'}, {'👍': 'thumbs up', '😜': 'winking face with tongue', '💏': 'kiss', '👌': 'OK hand'}, {'😒': 'unamused face', '😭': 'loudly crying face'}, {'♥': 'heart suit'}, {'🎧': 'headphone'}, {'👩': 'woman', '😊': 'smiling face with smiling eyes', '🌊': 'water wave', '🏊': 'person swimming'}, {'▶': 'play button'}, {'👪': 'family', '❤️': 'red heart'}, {'😊': 'smiling face with smiling eyes'}, {'🙈': 'see-no-evil monkey'}, {'♥': 'heart suit'}, {'😒': 'unamused face'}, {'🎧': 'headphone'}, {'😂': 'face with tears of joy'}, {'👍': 'thumbs up', '♥': 'heart suit'}, {'♥': 'heart suit'}, {'♥': 'heart suit'}, {'♥': 'heart suit'}, {'😋': 'face savoring food'}, {'😃': 'grinning face with big eyes'}, {'♥': 'heart suit'}, {'♥': 'heart suit'}, {'😌': 'relieved face'}, {'😬': 'grimacing face'}, {'😣': 'persevering face'}, {'❤️': 'red heart'}, {'💕': 'two hearts'}, {'💅': 'nail polish', '♥': 'heart suit'}, {'⚡': 'high voltage'}, {'😘': 'face blowing a kiss', '❤️': 'red heart', '😍': 'smiling face with heart-eyes'}, {'♥': 'heart suit'}, {'♥': 'heart suit'}, {'👍': 'thumbs up'}, {'💋': 'kiss mark', '❤️': 'red heart'}, {'♥': 'heart suit'}, {'😥': 'sad but relieved face'}, {'💖': 'sparkling heart'}, {'❤': 'red heart', '😉': 'winking face'}, {'❤': 'red heart', '😉': 'winking face'}, {'🏰': 'castle'}, {'💕': 'two hearts', '👍': 'thumbs up', '➡️': 'right arrow'}, {'💕': 'two hearts'}, {'☕': 'hot beverage', '🍩': 'doughnut'}, {'😥': 'sad but relieved face'}, {'❤': 'red heart', '😉': 'winking face'}, {'😭': 'loudly crying face'}, {'♥': 'heart suit'}, {'♥': 'heart suit'}, {'😂': 'face with tears of joy'}, {'🙆': 'person gesturing OK', '😳': 'flushed face', '😂': 'face with tears of joy'}, {'😝': 'squinting face with tongue', '😳': 'flushed face', '😂': 'face with tears of joy'}, {'🎧': 'headphone', '🎼': 'musical score'}, {'😴': 'sleeping face', '😋': 'face savoring food'}, {'👌': 'OK hand'}, {'😭': 'loudly crying face'}, {'✨': 'sparkles', '💵': 'dollar banknote', '🍆': 'eggplant', '💆': 'person getting massage', '👜': 'handbag', '💂': 'guard', '💅': 'nail polish'}, {'😔': 'pensive face'}, {'♥': 'heart suit'}, {'😏': 'smirking face', '💁': 'person tipping hand'}, {'😂': 'face with tears of joy'}, {'😊': 'smiling face with smiling eyes'}, {'♥': 'heart suit'}, {'😒': 'unamused face'}, {'😉': 'winking face'}, {'😂': 'face with tears of joy'}, {'❤': 'red heart', '😊': 'smiling face with smiling eyes', '💚': 'green heart'}, {'😘': 'face blowing a kiss', '👍': 'thumbs up', '❤️': 'red heart', '😍': 'smiling face with heart-eyes', '☺️': 'smiling face', '👌': 'OK hand'}, {'❤': 'red heart', '😉': 'winking face'}, {'®': 'registered'}, {'😒': 'unamused face', '😳': 'flushed face'}, {'👌': 'OK hand', '😂': 'face with tears of joy'}, {'❤': 'red heart', '😉': 'winking face'}, {'😀': 'grinning face'}, {'❤️': 'red heart'}, {'🎧': 'headphone', '🎼': 'musical score', '🎤': 'microphone', '🎶': 'musical notes', '🎵': 'musical note'}, {'♥': 'heart suit'}, {'💕': 'two hearts', '🙈': 'see-no-evil monkey'}, {'💋': 'kiss mark'}, {'💜': 'purple heart', '😊': 'smiling face with smiling eyes', '✨': 'sparkles'}, {'❄️': 'snowflake', '😱': 'face screaming in fear'}, {'😃': 'grinning face with big eyes', '😍': 'smiling face with heart-eyes'}, {'♥': 'heart suit'}, {'🎉': 'party popper'}, {'✴': 'eight-pointed star'}, {'♥': 'heart suit'}, {'💕': 'two hearts', '😘': 'face blowing a kiss', '❤': 'red heart', '🇩🇪': 'flag: Germany'}, {'♥': 'heart suit'}, {'😨': 'fearful face', '☀️': 'sun', '💅': 'nail polish', '⛅': 'sun behind cloud'}, {'😂': 'face with tears of joy'}, {'♥': 'heart suit'}, {'🎶': 'musical notes'}, {'👍': 'thumbs up', '👌': 'OK hand', '😁': 'beaming face with smiling eyes'}, {'✴': 'eight-pointed star'}, {'❤': 'red heart'}, {'🙈': 'see-no-evil monkey'}, {'▶': 'play button'}, {'♥': 'heart suit'}, {'♥': 'heart suit'}, {'😂': 'face with tears of joy'}, {'♥': 'heart suit'}, {'🙏': 'folded hands'}, {'🙆': 'person gesturing OK'}, {'🙋': 'person raising hand'}, {'💗': 'growing heart'}, {'😍': 'smiling face with heart-eyes'}, {'®': 'registered'}, {'🙈': 'see-no-evil monkey', '😂': 'face with tears of joy'}, {'♥': 'heart suit'}, {'😄': 'grinning face with smiling eyes', '❤️': 'red heart'}, {'❤️': 'red heart'}, {'😂': 'face with tears of joy'}, {'💨': 'dashing away', '😂': 'face with tears of joy', '🚴': 'person biking'}, {'💖': 'sparkling heart', '😘': 'face blowing a kiss', '🙌': 'raising hands'}, {'👍': 'thumbs up', '😈': 'smiling face with horns'}, {'☺': 'smiling face'}, {'♥': 'heart suit'}, {'❤️': 'red heart'}, {'😩': 'weary face', '☺️': 'smiling face'}, {'♥': 'heart suit'}, {'♥': 'heart suit'}, {'😔': 'pensive face'}, {'❤': 'red heart'}, {'😘': 'face blowing a kiss'}, {'😔': 'pensive face'}, {'😳': 'flushed face', '😠': 'angry face'}, {'♥': 'heart suit'}, {'🌸': 'cherry blossom'}, {'😎': 'smiling face with sunglasses'}, {'♥': 'heart suit'}, {'😎': 'smiling face with sunglasses', '🙈': 'see-no-evil monkey', '🙊': 'speak-no-evil monkey'}, {'✨': 'sparkles'}, {'💁': 'person tipping hand'}, {'😄': 'grinning face with smiling eyes'}, {'🎶': 'musical notes'}, {'😍': 'smiling face with heart-eyes'}, {'😒': 'unamused face', '😂': 'face with tears of joy'}, {'♥': 'heart suit'}, {'🙏': 'folded hands', '😍': 'smiling face with heart-eyes'}, {'🎧': 'headphone'}, {'❤': 'red heart', '🙏': 'folded hands', '😭': 'loudly crying face'}, {'😩': 'weary face', '😋': 'face savoring food'}, {'😔': 'pensive face'}, {'♥': 'heart suit'}, {'❤': 'red heart', '♥': 'heart suit'}, {'🙆': 'person gesturing OK', '😳': 'flushed face', '😂': 'face with tears of joy'}, {'♥': 'heart suit'}, {'♥': 'heart suit'}, {'😜': 'winking face with tongue', '🙈': 'see-no-evil monkey', '👩': 'woman', '😂': 'face with tears of joy', '💁': 'person tipping hand', '👸': 'princess'}, {'💜': 'purple heart', '😄': 'grinning face with smiling eyes', '❤️': 'red heart'}, {'🌱': 'seedling', '🐟': 'fish'}, {'💖': 'sparkling heart', '✈️': 'airplane', '👭': 'women holding hands', '😭': 'loudly crying face'}, {'🎶': 'musical notes'}, {'♥': 'heart suit'}, {'👣': 'footprints'}, {'😭': 'loudly crying face'}, {'😂': 'face with tears of joy'}, {'😁': 'beaming face with smiling eyes'}, {'😏': 'smirking face', '😂': 'face with tears of joy', '😘': 'face blowing a kiss'}, {'🎁': 'wrapped gift', '🎄': 'Christmas tree', '❄': 'snowflake', '🎀': 'ribbon', '😃': 'grinning face with big eyes', '🎅': 'Santa Claus'}, {'❤': 'red heart', '😬': 'grimacing face'}, {'😖': 'confounded face'}, {'😄': 'grinning face with smiling eyes'}, {'😃': 'grinning face with big eyes'}, {'®': 'registered'}, {'👌': 'OK hand', '😂': 'face with tears of joy'}, {'🎶': 'musical notes'}, {'®': 'registered'}, {'😳': 'flushed face'}, {'😳': 'flushed face'}, {'♥': 'heart suit'}, {'☺': 'smiling face'}, {'😩': 'weary face', '😏': 'smirking face'}, {'✋': 'raised hand', '😳': 'flushed face', '😭': 'loudly crying face'}, {'💖': 'sparkling heart'}, {'😉': 'winking face'}, {'😃': 'grinning face with big eyes'}, {'☹': 'frowning face'}, {'😩': 'weary face', '😭': 'loudly crying face'}, {'😩': 'weary face', '😍': 'smiling face with heart-eyes', '😭': 'loudly crying face'}, {'😴': 'sleeping face', '💤': 'zzz'}, {'♥': 'heart suit'}, {'🎄': 'Christmas tree', '🎁': 'wrapped gift', '🎅': 'Santa Claus'}, {'🔥': 'fire', '🚬': 'cigarette', '💯': 'hundred points', '👌': 'OK hand'}, {'▶': 'play button'}, {'😒': 'unamused face'}, {'😏': 'smirking face'}, {'♥': 'heart suit'}, {'😦': 'frowning face with open mouth', '😧': 'anguished face'}, {'😁': 'beaming face with smiling eyes', '😳': 'flushed face', '😂': 'face with tears of joy'}, {'🚼': 'baby symbol', '😍': 'smiling face with heart-eyes', '☺': 'smiling face'}, {'🕑': 'two o’clock', '🎧': 'headphone', '🕐': 'one o’clock', '👀': 'eyes'}, {'😊': 'smiling face with smiling eyes'}, {'👏': 'clapping hands'}, {'♏': 'Scorpio'}, {'❤️': 'red heart'}, {'✋': 'raised hand'}, {'▪': 'black small square'}, {'❤️': 'red heart'}, {'👋': 'waving hand'}, {'❤': 'red heart', '😉': 'winking face'}, {'💖': 'sparkling heart'}, {'🙏': 'folded hands'}, {'😂': 'face with tears of joy'}, {'♥': 'heart suit'}, {'❤': 'red heart', '😉': 'winking face'}, {'🏰': 'castle'}, {'🙈': 'see-no-evil monkey', '😳': 'flushed face'}, {'®': 'registered'}, {'♥': 'heart suit'}, {'👯': 'people with bunny ears'}, {'🎄': 'Christmas tree'}, {'♥': 'heart suit'}, {'🇩🇪': 'flag: Germany'}, {'😩': 'weary face'}, {'😒': 'unamused face'}, {'❤': 'red heart'}, {'❤': 'red heart', '😉': 'winking face'}, {'😘': 'face blowing a kiss', '🎄': 'Christmas tree', '🎅': 'Santa Claus'}, {'😎': 'smiling face with sunglasses'}, {'😂': 'face with tears of joy'}, {'💖': 'sparkling heart'}, {'❄️': 'snowflake', '😍': 'smiling face with heart-eyes', '☺️': 'smiling face'}, {'😝': 'squinting face with tongue', '😊': 'smiling face with smiling eyes', '😍': 'smiling face with heart-eyes'}, {'❤': 'red heart', '😉': 'winking face'}, {'♥': 'heart suit'}, {'😂': 'face with tears of joy', '😭': 'loudly crying face'}, {'♥': 'heart suit'}, {'♥': 'heart suit'}, {'😏': 'smirking face'}, {'✌': 'victory hand', '✊': 'raised fist', '☺': 'smiling face'}, {'❤️': 'red heart', '✨': 'sparkles'}, {'❤️': 'red heart'}, {'♥': 'heart suit'}, {'❤': 'red heart', '😉': 'winking face'}, {'😩': 'weary face'}, {'♥': 'heart suit'}, {'♥': 'heart suit'}, {'😳': 'flushed face', '😂': 'face with tears of joy'}, {'😤': 'face with steam from nose', '😡': 'pouting face'}, {'😔': 'pensive face'}, {'💋': 'kiss mark', '❤️': 'red heart', '✊': 'raised fist'}, {'👎': 'thumbs down'}, {'♥': 'heart suit'}, {'❤': 'red heart', '😉': 'winking face'}, {'😊': 'smiling face with smiling eyes'}, {'♥': 'heart suit'}, {'♥': 'heart suit'}, {'💪': 'flexed biceps'}, {'♥': 'heart suit'}, {'♥': 'heart suit'}, {'🌏': 'globe showing Asia-Australia', '🌎': 'globe showing Americas', '✈️': 'airplane', '🌍': 'globe showing Europe-Africa'}, {'😭': 'loudly crying face'}, {'😂': 'face with tears of joy'}, {'😜': 'winking face with tongue'}, {'😍': 'smiling face with heart-eyes'}, {'😄': 'grinning face with smiling eyes'}, {'😄': 'grinning face with smiling eyes'}, {'😁': 'beaming face with smiling eyes'}, {'☕': 'hot beverage', '🍩': 'doughnut'}, {'😂': 'face with tears of joy'}, {'🙈': 'see-no-evil monkey', '😭': 'loudly crying face'}, {'😭': 'loudly crying face'}, {'❤': 'red heart', '😉': 'winking face'}, {'❤': 'red heart', '😉': 'winking face'}, {'🍸': 'cocktail glass', '🍷': 'wine glass', '🍻': 'clinking beer mugs'}, {'😘': 'face blowing a kiss'}, {'♥': 'heart suit'}, {'🍺': 'beer mug', '😁': 'beaming face with smiling eyes'}, {'❤': 'red heart'}, {'💖': 'sparkling heart'}, {'♥': 'heart suit'}, {'☀': 'sun', '☂': 'umbrella'}, {'😮': 'face with open mouth'}, {'💝': 'heart with ribbon'}, {'😉': 'winking face'}, {'😳': 'flushed face'}, {'😚': 'kissing face with closed eyes', '❤️': 'red heart'}, {'😒': 'unamused face', '👫': 'woman and man holding hands'}, {'😝': 'squinting face with tongue'}, {'😕': 'confused face'}, {'💕': 'two hearts'}, {'💕': 'two hearts'}, {'🌙': 'crescent moon'}, {'😭': 'loudly crying face'}, {'💩': 'pile of poo', '😏': 'smirking face'}, {'😂': 'face with tears of joy'}, {'💁': 'person tipping hand', '😂': 'face with tears of joy', '😘': 'face blowing a kiss'}, {'☺️': 'smiling face'}, {'😒': 'unamused face'}, {'❤': 'red heart', '😉': 'winking face'}, {'♥': 'heart suit'}, {'💙': 'blue heart'}, {'👌': 'OK hand', '👋': 'waving hand'}, {'👌': 'OK hand'}, {'✈': 'airplane', '🎄': 'Christmas tree', '❄': 'snowflake', '❤': 'red heart', '⛄': 'snowman without snow', '😊': 'smiling face with smiling eyes', '🍷': 'wine glass', '🍻': 'clinking beer mugs', '🎅': 'Santa Claus'}, {'😎': 'smiling face with sunglasses'}, {'💜': 'purple heart'}, {'🐉': 'dragon', '😛': 'face with tongue', '😳': 'flushed face'}, {'♥': 'heart suit'}, {'✋': 'raised hand'}, {'🙌': 'raising hands', '👏': 'clapping hands'}, {'♥': 'heart suit'}, {'👌': 'OK hand'}, {'📣': 'megaphone', '💘': 'heart with arrow', '🎂': 'birthday cake'}, {'♥': 'heart suit'}, {'😒': 'unamused face'}, {'😂': 'face with tears of joy'}, {'😯': 'hushed face'}, {'♥': 'heart suit'}, {'♥': 'heart suit'}, {'😀': 'grinning face'}, {'🐽': 'pig nose'}, {'😡': 'pouting face'}, {'😘': 'face blowing a kiss', '😊': 'smiling face with smiling eyes'}, {'🚢': 'ship'}, {'😀': 'grinning face'}, {'♥': 'heart suit'}, {'💖': 'sparkling heart'}, {'🎶': 'musical notes'}, {'😛': 'face with tongue'}, {'♥': 'heart suit'}, {'😬': 'grimacing face'}, {'♥': 'heart suit'}, {'😍': 'smiling face with heart-eyes'}, {'🐶': 'dog face'}, {'👏': 'clapping hands'}, {'❤': 'red heart', '😉': 'winking face'}, {'💗': 'growing heart', '🐶': 'dog face'}, {'😭': 'loudly crying face'}, {'♥': 'heart suit'}, {'😊': 'smiling face with smiling eyes', '✌️': 'victory hand', '🍻': 'clinking beer mugs'}, {'❤️': 'red heart'}, {'😍': 'smiling face with heart-eyes'}, {'😒': 'unamused face'}, {'😊': 'smiling face with smiling eyes'}, {'™': 'trade mark'}, {'😊': 'smiling face with smiling eyes'}, {'▶': 'play button'}, {'❤️': 'red heart'}, {'😂': 'face with tears of joy'}, {'🎄': 'Christmas tree'}, {'🎂': 'birthday cake', '🎉': 'party popper'}, {'♥': 'heart suit'}, {'😁': 'beaming face with smiling eyes', '✌️': 'victory hand', '🎉': 'party popper', '👌': 'OK hand'}, {'💋': 'kiss mark', '😙': 'kissing face with smiling eyes'}, {'😁': 'beaming face with smiling eyes'}, {'♥': 'heart suit'}, {'♥': 'heart suit'}, {'👌': 'OK hand', '😂': 'face with tears of joy'}, {'🎧': 'headphone'}, {'😏': 'smirking face', '😂': 'face with tears of joy'}, {'❤️': 'red heart'}, {'🎌': 'crossed flags', '🎎': 'Japanese dolls'}, {'😉': 'winking face'}, {'👍': 'thumbs up'}, {'🎶': 'musical notes'}, {'♥': 'heart suit'}, {'🍺': 'beer mug', '👍': 'thumbs up', '😊': 'smiling face with smiling eyes', '🍻': 'clinking beer mugs'}, {'🎶': 'musical notes'}, {'🎧': 'headphone', '📖': 'open book', '👻': 'ghost'}, {'✏': 'pencil', '🚙': 'sport utility vehicle', '📓': 'notebook'}, {'🐸': 'frog'}, {'♥': 'heart suit'}, {'☺️': 'smiling face'}, {'♥': 'heart suit'}, {'😏': 'smirking face', '😳': 'flushed face'}, {'▶': 'play button'}, {'♥': 'heart suit'}, {'😝': 'squinting face with tongue', '😂': 'face with tears of joy'}, {'❤': 'red heart', '😉': 'winking face'}, {'😉': 'winking face'}, {'😎': 'smiling face with sunglasses', '😁': 'beaming face with smiling eyes'}, {'💁': 'person tipping hand', '😊': 'smiling face with smiling eyes'}, {'💯': 'hundred points', '😂': 'face with tears of joy'}, {'🌆': 'cityscape at dusk', '✈️': 'airplane', '💰': 'money bag', '🎤': 'microphone', '🎶': 'musical notes', '🌃': 'night with stars'}, {'☮': 'peace symbol'}, {'🙈': 'see-no-evil monkey', '😳': 'flushed face', '😂': 'face with tears of joy'}, {'❤️': 'red heart', '💚': 'green heart'}, {'😘': 'face blowing a kiss', '☺️': 'smiling face'}, {'🙈': 'see-no-evil monkey', '😳': 'flushed face'}, {'🎊': 'confetti ball', '🎋': 'tanabata tree', '👻': 'ghost'}, {'😘': 'face blowing a kiss', '💪': 'flexed biceps', '💰': 'money bag', '🎓': 'graduation cap', '👏': 'clapping hands', '😉': 'winking face'}, {'💽': 'computer disk'}, {'🙌': 'raising hands'}, {'💣': 'bomb', '💥': 'collision', '🚀': 'rocket', '⛄': 'snowman without snow', '🎈': 'balloon', '🎉': 'party popper'}, {'♥': 'heart suit'}, {'😉': 'winking face'}, {'®': 'registered'}, {'😊': 'smiling face with smiling eyes'}, {'❤': 'red heart', '😉': 'winking face'}, {'😂': 'face with tears of joy'}, {'❤️': 'red heart'}, {'🌞': 'sun with face', '☕': 'hot beverage'}, {'🙈': 'see-no-evil monkey', '🙏': 'folded hands', '😇': 'smiling face with halo', '😈': 'smiling face with horns', '😏': 'smirking face'}, {'♥': 'heart suit'}, {'⭐': 'star'}, {'♥': 'heart suit'}, {'😍': 'smiling face with heart-eyes'}, {'💁': 'person tipping hand', '😂': 'face with tears of joy'}, {'😎': 'smiling face with sunglasses', '🍫': 'chocolate bar', '🍩': 'doughnut'}, {'♥': 'heart suit'}, {'😤': 'face with steam from nose'}, {'👌': 'OK hand', '😂': 'face with tears of joy'}, {'♥': 'heart suit'}, {'❤️': 'red heart'}, {'😍': 'smiling face with heart-eyes'}, {'👌': 'OK hand', '😂': 'face with tears of joy'}, {'💜': 'purple heart', '😊': 'smiling face with smiling eyes'}, {'😂': 'face with tears of joy'}, {'♥': 'heart suit'}, {'🙈': 'see-no-evil monkey'}, {'❄️': 'snowflake', '❄': 'snowflake'}, {'♥': 'heart suit'}, {'💖': 'sparkling heart'}, {'😔': 'pensive face'}, {'😘': 'face blowing a kiss', '❤️': 'red heart', '✊': 'raised fist', '💯': 'hundred points'}, {'🏄': 'person surfing', '💧': 'droplet', '🏊': 'person swimming', '😎': 'smiling face with sunglasses', '💦': 'sweat droplets'}, {'🎄': 'Christmas tree'}, {'😘': 'face blowing a kiss', '😱': 'face screaming in fear', '✌️': 'victory hand', '👍': 'thumbs up', '❤️': 'red heart', '😍': 'smiling face with heart-eyes', '☺️': 'smiling face', '👌': 'OK hand', '😳': 'flushed face', '😈': 'smiling face with horns', '😃': 'grinning face with big eyes', '😊': 'smiling face with smiling eyes'}, {'😏': 'smirking face', '👍': 'thumbs up', '😍': 'smiling face with heart-eyes'}, {'😉': 'winking face'}, {'☺': 'smiling face', '😭': 'loudly crying face'}, {'❤️': 'red heart'}, {'❤️': 'red heart'}, {'👌': 'OK hand', '🇬🇧': 'flag: United Kingdom'}, {'😘': 'face blowing a kiss', '❤️': 'red heart'}, {'💁': 'person tipping hand', '😘': 'face blowing a kiss'}, {'😐': 'neutral face'}, {'😰': 'anxious face with sweat'}, {'➡️': 'right arrow', '🇩🇪': 'flag: Germany', '🎓': 'graduation cap', '😰': 'anxious face with sweat'}, {'♥': 'heart suit'}, {'😃': 'grinning face with big eyes'}, {'😂': 'face with tears of joy'}, {'😢': 'crying face'}, {'👌': 'OK hand'}, {'♥': 'heart suit'}, {'😶': 'face without mouth', '❤️': 'red heart'}, {'♥': 'heart suit'}, {'♥': 'heart suit'}, {'🐒': 'monkey'}, {'❤': 'red heart', '😉': 'winking face'}, {'♥': 'heart suit'}, {'™': 'trade mark'}, {'🆒': 'COOL button'}, {'™': 'trade mark'}, {'♥': 'heart suit'}, {'😊': 'smiling face with smiling eyes'}, {'🍸': 'cocktail glass', '🎄': 'Christmas tree'}, {'💖': 'sparkling heart', '💙': 'blue heart', '💗': 'growing heart'}, {'♥': 'heart suit'}, {'😁': 'beaming face with smiling eyes'}, {'🙈': 'see-no-evil monkey', '😂': 'face with tears of joy'}, {'😍': 'smiling face with heart-eyes', '👌': 'OK hand', '🙌': 'raising hands'}, {'✨': 'sparkles'}, {'💜': 'purple heart', '💙': 'blue heart', '💛': 'yellow heart'}, {'🙌': 'raising hands'}, {'👊': 'oncoming fist', '💅': 'nail polish', '😂': 'face with tears of joy', '😭': 'loudly crying face'}, {'✌': 'victory hand'}, {'™': 'trade mark'}, {'😳': 'flushed face', '😂': 'face with tears of joy'}, {'®': 'registered'}, {'♥': 'heart suit'}, {'😉': 'winking face'}, {'♥': 'heart suit'}, {'❤️': 'red heart'}, {'♥': 'heart suit'}, {'👍': 'thumbs up', '😍': 'smiling face with heart-eyes'}, {'😉': 'winking face'}, {'😻': 'smiling cat with heart-eyes', '👶': 'baby', '😘': 'face blowing a kiss', '😍': 'smiling face with heart-eyes'}, {'🎄': 'Christmas tree', '🎁': 'wrapped gift'}, {'😔': 'pensive face'}, {'❤': 'red heart'}, {'❤': 'red heart'}, {'🎧': 'headphone'}, {'😊': 'smiling face with smiling eyes'}, {'☕': 'hot beverage', '👎': 'thumbs down', '😳': 'flushed face'}, {'👑': 'crown'}, {'👫': 'woman and man holding hands'}, {'♥': 'heart suit'}, {'😔': 'pensive face'}, {'♥': 'heart suit'}, {'☀️': 'sun', '❤️': 'red heart'}, {'✌️': 'victory hand'}, {'😱': 'face screaming in fear', '😂': 'face with tears of joy'}, {'😏': 'smirking face'}, {'👍': 'thumbs up', '🎉': 'party popper'}, {'✋': 'raised hand'}, {'☂': 'umbrella'}, {'😩': 'weary face', '😍': 'smiling face with heart-eyes'}, {'😂': 'face with tears of joy'}, {'⛄': 'snowman without snow', '🎄': 'Christmas tree', '🎉': 'party popper', '🎅': 'Santa Claus'}, {'✋': 'raised hand'}, {'👌': 'OK hand', '😳': 'flushed face'}, {'💁': 'person tipping hand', '🙈': 'see-no-evil monkey', '😂': 'face with tears of joy'}, {'🙈': 'see-no-evil monkey'}, {'⛪': 'church'}, {'💕': 'two hearts'}, {'♥': 'heart suit'}, {'♥': 'heart suit'}, {'™': 'trade mark'}, {'😑': 'expressionless face'}, {'♥': 'heart suit'}, {'👣': 'footprints'}, {'😂': 'face with tears of joy'}, {'💁': 'person tipping hand', '😂': 'face with tears of joy'}, {'♥': 'heart suit'}, {'♥': 'heart suit'}, {'😄': 'grinning face with smiling eyes'}, {'🙈': 'see-no-evil monkey', '🎅': 'Santa Claus'}, {'♥': 'heart suit'}, {'♥': 'heart suit'}, {'🙆': 'person gesturing OK', '👩': 'woman', '👸': 'princess'}, {'❤️': 'red heart'}, {'🎶': 'musical notes'}, {'❤️': 'red heart'}, {'🎧': 'headphone'}, {'😊': 'smiling face with smiling eyes', '🎅': 'Santa Claus'}, {'😘': 'face blowing a kiss', '❤️': 'red heart'}, {'😒': 'unamused face', '😐': 'neutral face'}, {'♥': 'heart suit'}, {'❤': 'red heart', '😉': 'winking face'}, {'☀️': 'sun'}, {'♥': 'heart suit'}, {'♥': 'heart suit'}, {'🎧': 'headphone'}, {'😍': 'smiling face with heart-eyes'}, {'😂': 'face with tears of joy'}, {'✌️': 'victory hand', '😉': 'winking face'}, {'💔': 'broken heart'}, {'♥': 'heart suit'}, {'😃': 'grinning face with big eyes'}, {'😫': 'tired face', '😡': 'pouting face', '😤': 'face with steam from nose', '😥': 'sad but relieved face', '😖': 'confounded face', '😠': 'angry face'}, {'😉': 'winking face'}, {'👋': 'waving hand', '😔': 'pensive face'}, {'❤': 'red heart', '😉': 'winking face'}, {'💜': 'purple heart'}, {'😭': 'loudly crying face'}, {'😒': 'unamused face'}, {'✌️': 'victory hand'}, {'😭': 'loudly crying face'}, {'👍': 'thumbs up', '💙': 'blue heart', '🍹': 'tropical drink', '💦': 'sweat droplets', '💋': 'kiss mark', '👄': 'mouth'}, {'🎄': 'Christmas tree'}, {'😑': 'expressionless face'}, {'🎶': 'musical notes'}, {'😂': 'face with tears of joy'}, {'🙈': 'see-no-evil monkey'}, {'☮': 'peace symbol'}, {'👌': 'OK hand', '✌️': 'victory hand', '💯': 'hundred points'}, {'▶': 'play button'}, {'🙌': 'raising hands', '👏': 'clapping hands'}, {'☺': 'smiling face'}, {'🙌': 'raising hands', '👏': 'clapping hands'}, {'👼': 'baby angel', '❤️': 'red heart', '🙈': 'see-no-evil monkey', '🐣': 'hatching chick', '👣': 'footprints', '🇩🇪': 'flag: Germany'}, {'❤': 'red heart', '😉': 'winking face'}, {'🐭': 'mouse face', '📚': 'books', '👀': 'eyes'}, {'♥': 'heart suit'}, {'👌': 'OK hand', '😂': 'face with tears of joy'}, {'🙏': 'folded hands', '🙌': 'raising hands', '👏': 'clapping hands'}, {'☕': 'hot beverage', '💕': 'two hearts', '🍩': 'doughnut'}, {'❤️': 'red heart'}, {'😂': 'face with tears of joy', '👏': 'clapping hands'}, {'♥': 'heart suit'}, {'❤️': 'red heart'}, {'😦': 'frowning face with open mouth', '😉': 'winking face'}, {'😒': 'unamused face', '😳': 'flushed face', '😂': 'face with tears of joy'}, {'😍': 'smiling face with heart-eyes'}, {'😜': 'winking face with tongue', '🙈': 'see-no-evil monkey', '😂': 'face with tears of joy'}, {'♥': 'heart suit'}, {'♥': 'heart suit'}, {'❤': 'red heart', '😉': 'winking face'}, {'💩': 'pile of poo'}, {'🎁': 'wrapped gift', '🎄': 'Christmas tree', '🍪': 'cookie', '❄': 'snowflake', '🍫': 'chocolate bar', '⛄': 'snowman without snow', '😃': 'grinning face with big eyes', '🎅': 'Santa Claus'}, {'😜': 'winking face with tongue'}, {'🎄': 'Christmas tree'}, {'❤️': 'red heart'}, {'❄️': 'snowflake'}, {'😖': 'confounded face', '😷': 'face with medical mask'}, {'♥': 'heart suit'}, {'👯': 'people with bunny ears'}, {'♥': 'heart suit'}, {'▶': 'play button'}, {'🍗': 'poultry leg', '🍖': 'meat on bone'}, {'😝': 'squinting face with tongue', '💁': 'person tipping hand'}, {'😒': 'unamused face'}, {'🙌': 'raising hands'}, {'☃': 'snowman', '☹': 'frowning face', '☁': 'cloud'}, {'😘': 'face blowing a kiss', '❤️': 'red heart'}, {'😘': 'face blowing a kiss', '❤️': 'red heart'}, {'👀': 'eyes'}, {'♥': 'heart suit'}, {'👌': 'OK hand', '😂': 'face with tears of joy', '🎅': 'Santa Claus'}, {'🙆': 'person gesturing OK', '🙏': 'folded hands', '😭': 'loudly crying face'}, {'💕': 'two hearts'}, {'❤': 'red heart', '😉': 'winking face'}, {'❤️': 'red heart', '♥': 'heart suit'}, {'♥': 'heart suit'}, {'☺️': 'smiling face'}, {'❤️': 'red heart'}, {'🙈': 'see-no-evil monkey', '🙉': 'hear-no-evil monkey', '🙊': 'speak-no-evil monkey'}, {'™': 'trade mark'}, {'🌚': 'new moon face'}, {'💅': 'nail polish'}, {'😝': 'squinting face with tongue', '😛': 'face with tongue', '😜': 'winking face with tongue'}, {'♥': 'heart suit'}, {'♥': 'heart suit'}, {'💖': 'sparkling heart'}, {'✨': 'sparkles'}, {'✋': 'raised hand'}, {'🙉': 'hear-no-evil monkey', '🙈': 'see-no-evil monkey', '🙊': 'speak-no-evil monkey'}, {'😺': 'grinning cat', '😁': 'beaming face with smiling eyes'}, {'♥️': 'heart suit'}, {'❤': 'red heart', '😉': 'winking face'}, {'🔫': 'water pistol', '😔': 'pensive face'}, {'😂': 'face with tears of joy'}, {'😆': 'grinning squinting face', '🙈': 'see-no-evil monkey', '🙊': 'speak-no-evil monkey'}, {'™': 'trade mark'}, {'😘': 'face blowing a kiss'}, {'👌': 'OK hand', '😂': 'face with tears of joy'}, {'😒': 'unamused face'}, {'©': 'copyright'}, {'☺': 'smiling face', '🙊': 'speak-no-evil monkey'}, {'😊': 'smiling face with smiling eyes'}, {'™': 'trade mark'}, {'😘': 'face blowing a kiss'}, {'❤': 'red heart', '😉': 'winking face'}, {'♥': 'heart suit'}, {'❤️': 'red heart'}, {'😊': 'smiling face with smiling eyes', '🙌': 'raising hands', '👌': 'OK hand'}, {'♥': 'heart suit'}, {'😳': 'flushed face', '😂': 'face with tears of joy'}, {'😑': 'expressionless face'}, {'♥': 'heart suit'}, {'♥': 'heart suit'}, {'💜': 'purple heart', '🎉': 'party popper'}, {'😭': 'loudly crying face'}, {'🎶': 'musical notes'}, {'😢': 'crying face'}, {'💟': 'heart decoration'}, {'®': 'registered'}, {'❤': 'red heart', '😉': 'winking face'}, {'😂': 'face with tears of joy'}, {'😎': 'smiling face with sunglasses'}, {'😳': 'flushed face'}, {'👏': 'clapping hands'}, {'💚': 'green heart'}, {'😃': 'grinning face with big eyes'}, {'❤': 'red heart', '😉': 'winking face'}, {'❤': 'red heart'}, {'🌞': 'sun with face', '☕': 'hot beverage'}, {'❤️': 'red heart', '😄': 'grinning face with smiling eyes', '🎄': 'Christmas tree', '⭐': 'star'}, {'💋': 'kiss mark'}, {'❤': 'red heart', '😉': 'winking face'}, {'♥': 'heart suit'}, {'👌': 'OK hand', '🙈': 'see-no-evil monkey', '😂': 'face with tears of joy'}, {'😒': 'unamused face'}, {'😏': 'smirking face', '🙆': 'person gesturing OK'}, {'💖': 'sparkling heart'}, {'♥': 'heart suit'}, {'♥': 'heart suit'}, {'❄️': 'snowflake', '🌾': 'sheaf of rice', '😤': 'face with steam from nose', '🙅': 'person gesturing NO'}, {'❤️': 'red heart', '😊': 'smiling face with smiling eyes'}, {'🎥': 'movie camera', '😭': 'loudly crying face'}, {'♥': 'heart suit'}, {'😏': 'smirking face', '👌': 'OK hand', '🙌': 'raising hands', '👍': 'thumbs up'}, {'😱': 'face screaming in fear', '😂': 'face with tears of joy', '👏': 'clapping hands'}, {'🚼': 'baby symbol', '😂': 'face with tears of joy', '👌': 'OK hand'}, {'🍆': 'eggplant', '🍀': 'four leaf clover'}, {'☹': 'frowning face'}, {'😉': 'winking face'}, {'📺': 'television'}, {'😩': 'weary face'}, {'❤': 'red heart', '😉': 'winking face'}, {'😝': 'squinting face with tongue', '👹': 'ogre', '😋': 'face savoring food'}, {'😤': 'face with steam from nose'}, {'👯': 'people with bunny ears', '🍹': 'tropical drink', '💝': 'heart with ribbon', '💄': 'lipstick', '🎶': 'musical notes', '🎉': 'party popper'}, {'✴': 'eight-pointed star'}, {'💜': 'purple heart'}, {'❤': 'red heart', '😉': 'winking face'}, {'◾': 'black medium-small square', '◽': 'white medium-small square'}, {'😉': 'winking face'}, {'😏': 'smirking face', '😂': 'face with tears of joy'}, {'💰': 'money bag', '🙌': 'raising hands'}, {'♥': 'heart suit', '☺': 'smiling face'}, {'👌': 'OK hand', '🙈': 'see-no-evil monkey', '😂': 'face with tears of joy'}, {'♥': 'heart suit'}, {'❤': 'red heart', '😉': 'winking face'}, {'👏': 'clapping hands'}, {'💕': 'two hearts', '💗': 'growing heart'}, {'❤️': 'red heart', '🎉': 'party popper'}, {'♥': 'heart suit'}, {'♥': 'heart suit'}, {'💘': 'heart with arrow', '😍': 'smiling face with heart-eyes'}, {'😘': 'face blowing a kiss'}, {'👌': 'OK hand'}, {'😄': 'grinning face with smiling eyes', '😬': 'grimacing face', '😉': 'winking face'}, {'💋': 'kiss mark'}, {'😳': 'flushed face', '😂': 'face with tears of joy'}, {'😒': 'unamused face', '✌️': 'victory hand'}, {'❤': 'red heart', '😉': 'winking face'}, {'❤️': 'red heart'}, {'🍓': 'strawberry', '👅': 'tongue'}, {'😑': 'expressionless face'}, {'💜': 'purple heart', '❤️': 'red heart', '💚': 'green heart', '💙': 'blue heart', '💛': 'yellow heart'}, {'🔥': 'fire', '👌': 'OK hand', '💯': 'hundred points'}, {'♥': 'heart suit'}, {'👍': 'thumbs up'}, {'😍': 'smiling face with heart-eyes'}, {'✌️': 'victory hand', '☺️': 'smiling face'}, {'❤️': 'red heart'}, {'💗': 'growing heart'}, {'♥': 'heart suit'}, {'🎆': 'fireworks', '❤️': 'red heart'}, {'♥': 'heart suit'}, {'😩': 'weary face'}, {'☺️': 'smiling face'}, {'😘': 'face blowing a kiss'}, {'😂': 'face with tears of joy'}, {'♥': 'heart suit'}, {'💖': 'sparkling heart'}, {'😑': 'expressionless face'}, {'©': 'copyright'}, {'♥': 'heart suit'}, {'®': 'registered'}, {'🎁': 'wrapped gift', '💐': 'bouquet', '🎉': 'party popper'}, {'❤': 'red heart', '😉': 'winking face'}, {'😂': 'face with tears of joy'}, {'❤': 'red heart', '😉': 'winking face'}, {'😉': 'winking face'}, {'💖': 'sparkling heart'}, {'♥': 'heart suit'}, {'👋': 'waving hand'}, {'👍': 'thumbs up'}, {'👍': 'thumbs up', '😜': 'winking face with tongue'}, {'🙆': 'person gesturing OK', '😳': 'flushed face', '😂': 'face with tears of joy'}, {'😜': 'winking face with tongue'}, {'🎄': 'Christmas tree', '🎉': 'party popper', '🎁': 'wrapped gift'}, {'©': 'copyright'}, {'✌️': 'victory hand'}, {'♥': 'heart suit'}, {'❤️': 'red heart'}, {'❤': 'red heart'}, {'❤': 'red heart'}, {'🚗': 'automobile'}, {'🙈': 'see-no-evil monkey', '😳': 'flushed face', '😂': 'face with tears of joy'}, {'😂': 'face with tears of joy', '👏': 'clapping hands'}, {'👍': 'thumbs up', '👌': 'OK hand'}, {'😌': 'relieved face'}, {'😒': 'unamused face'}, {'😭': 'loudly crying face'}, {'👌': 'OK hand'}, {'😊': 'smiling face with smiling eyes'}, {'😥': 'sad but relieved face', '😭': 'loudly crying face'}, {'♥': 'heart suit'}, {'♥': 'heart suit'}, {'💜': 'purple heart', '🎧': 'headphone', '💙': 'blue heart', '💛': 'yellow heart'}, {'💛': 'yellow heart'}, {'⁉️': 'exclamation question mark'}, {'❤': 'red heart', '😉': 'winking face'}, {'😖': 'confounded face', '😂': 'face with tears of joy'}, {'😄': 'grinning face with smiling eyes', '😘': 'face blowing a kiss'}, {'😇': 'smiling face with halo', '🎀': 'ribbon', '💃': 'woman dancing', '👌': 'OK hand'}, {'♥': 'heart suit'}, {'🎧': 'headphone'}, {'😩': 'weary face', '😘': 'face blowing a kiss', '☺️': 'smiling face', '😭': 'loudly crying face'}, {'😓': 'downcast face with sweat'}, {'♥': 'heart suit'}, {'💖': 'sparkling heart'}, {'😍': 'smiling face with heart-eyes'}, {'🐴': 'horse face', '😂': 'face with tears of joy'}, {'♥': 'heart suit'}, {'💋': 'kiss mark'}, {'🎄': 'Christmas tree', '🏡': 'house with garden', '🔆': 'bright button', '🚙': 'sport utility vehicle', '🇩🇪': 'flag: Germany', '🔅': 'dim button'}, {'🌠': 'shooting star', '❤️': 'red heart', '😇': 'smiling face with halo'}, {'☹': 'frowning face'}, {'👏': 'clapping hands'}, {'♥': 'heart suit'}, {'🎧': 'headphone'}, {'♥': 'heart suit'}, {'😘': 'face blowing a kiss'}, {'😡': 'pouting face', '☺': 'smiling face'}, {'😔': 'pensive face'}, {'😉': 'winking face'}, {'🎨': 'artist palette', '🎮': 'video game'}, {'❤': 'red heart', '😉': 'winking face'}, {'😉': 'winking face'}, {'😔': 'pensive face'}, {'©': 'copyright'}, {'❤️': 'red heart', '😍': 'smiling face with heart-eyes', '🙊': 'speak-no-evil monkey'}, {'🎉': 'party popper'}, {'😡': 'pouting face'}, {'😍': 'smiling face with heart-eyes'}, {'♥': 'heart suit'}, {'❤️': 'red heart', '✨': 'sparkles'}, {'❤': 'red heart', '😉': 'winking face'}, {'♥': 'heart suit'}, {'❤️': 'red heart'}, {'🎧': 'headphone'}, {'♥': 'heart suit'}, {'❄️': 'snowflake', '⛄': 'snowman without snow'}, {'❤': 'red heart', '😉': 'winking face'}, {'😃': 'grinning face with big eyes'}, {'♥': 'heart suit'}, {'😷': 'face with medical mask', '😳': 'flushed face'}, {'😓': 'downcast face with sweat'}, {'🎶': 'musical notes'}, {'♥': 'heart suit'}, {'🍀': 'four leaf clover'}, {'❤': 'red heart', '😉': 'winking face'}, {'♥': 'heart suit'}, {'♥': 'heart suit'}, {'☁': 'cloud'}, {'💕': 'two hearts', '🚺': 'women’s room'}, {'❤️': 'red heart', '🌚': 'new moon face'}, {'💗': 'growing heart'}, {'😍': 'smiling face with heart-eyes'}, {'❤': 'red heart'}, {'❤': 'red heart', '😉': 'winking face'}, {'❤': 'red heart', '😉': 'winking face'}, {'😑': 'expressionless face'}, {'®': 'registered'}, {'™': 'trade mark'}, {'❤': 'red heart', '😉': 'winking face'}, {'♥': 'heart suit'}, {'♥': 'heart suit', '😳': 'flushed face'}, {'😢': 'crying face'}, {'❤': 'red heart', '😉': 'winking face'}, {'😏': 'smirking face', '😂': 'face with tears of joy'}, {'♥': 'heart suit'}, {'🎶': 'musical notes'}, {'😏': 'smirking face'}, {'🙆': 'person gesturing OK', '😡': 'pouting face'}, {'👌': 'OK hand', '🙌': 'raising hands'}, {'💖': 'sparkling heart'}, {'✌️': 'victory hand'}, {'💖': 'sparkling heart'}, {'🎄': 'Christmas tree', '🎉': 'party popper', '🎅': 'Santa Claus'}, {'♥': 'heart suit'}, {'💨': 'dashing away'}, {'♥': 'heart suit'}, {'❤': 'red heart', '😉': 'winking face'}, {'👊': 'oncoming fist'}, {'😍': 'smiling face with heart-eyes'}, {'😂': 'face with tears of joy'}, {'♥': 'heart suit'}, {'❤️': 'red heart'}, {'😚': 'kissing face with closed eyes', '❤': 'red heart', '😔': 'pensive face'}, {'♥': 'heart suit'}, {'💋': 'kiss mark', '😊': 'smiling face with smiling eyes', '👏': 'clapping hands'}, {'♥': 'heart suit'}, {'😏': 'smirking face', '🙌': 'raising hands'}, {'🙆': 'person gesturing OK', '😂': 'face with tears of joy'}, {'💕': 'two hearts'}, {'😃': 'grinning face with big eyes'}, {'😑': 'expressionless face'}, {'©': 'copyright'}, {'😍': 'smiling face with heart-eyes'}, {'™': 'trade mark'}, {'👪': 'family', '🌲': 'evergreen tree', '♥️': 'heart suit'}, {'🔫': 'water pistol'}, {'😍': 'smiling face with heart-eyes'}, {'👌': 'OK hand', '😂': 'face with tears of joy'}, {'🎊': 'confetti ball', '🎉': 'party popper'}, {'💋': 'kiss mark', '👍': 'thumbs up', '❤️': 'red heart', '♥️': 'heart suit'}, {'😒': 'unamused face', '😭': 'loudly crying face'}, {'😏': 'smirking face', '💁': 'person tipping hand'}, {'❤️': 'red heart', '😍': 'smiling face with heart-eyes'}, {'❤': 'red heart', '😉': 'winking face'}, {'😃': 'grinning face with big eyes'}, {'😂': 'face with tears of joy'}, {'😂': 'face with tears of joy'}, {'☹': 'frowning face'}, {'🔫': 'water pistol', '😩': 'weary face'}, {'👌': 'OK hand'}, {'🙅': 'person gesturing NO'}, {'☺️': 'smiling face'}, {'😩': 'weary face', '✋': 'raised hand', '😡': 'pouting face'}, {'♥': 'heart suit'}, {'☺': 'smiling face'}, {'❤': 'red heart', '😉': 'winking face'}, {'❤': 'red heart', '😉': 'winking face'}, {'❄️': 'snowflake', '🎁': 'wrapped gift', '🎄': 'Christmas tree', '⛄': 'snowman without snow', '🎅': 'Santa Claus'}, {'✨': 'sparkles'}, {'🎄': 'Christmas tree'}, {'💕': 'two hearts', '😘': 'face blowing a kiss', '☺️': 'smiling face'}, {'🐶': 'dog face'}, {'😫': 'tired face', '🐼': 'panda'}, {'🙏': 'folded hands'}, {'😘': 'face blowing a kiss', '❤️': 'red heart'}, {'❤': 'red heart', '😉': 'winking face'}, {'😄': 'grinning face with smiling eyes', '😜': 'winking face with tongue'}, {'©': 'copyright'}, {'💤': 'zzz'}, {'♥': 'heart suit'}, {'🎅': 'Santa Claus'}, {'😊': 'smiling face with smiling eyes'}, {'♥': 'heart suit'}, {'⛄': 'snowman without snow'}, {'🙆': 'person gesturing OK', '🙈': 'see-no-evil monkey'}, {'♥': 'heart suit'}, {'💩': 'pile of poo'}, {'♥': 'heart suit'}, {'☺': 'smiling face'}, {'👌': 'OK hand', '😳': 'flushed face', '😂': 'face with tears of joy'}, {'❤': 'red heart', '😉': 'winking face'}, {'❤': 'red heart', '😉': 'winking face'}, {'🍀': 'four leaf clover'}, {'🍳': 'cooking', '🙊': 'speak-no-evil monkey'}, {'❤️': 'red heart'}, {'🌌': 'milky way'}, {'😢': 'crying face'}, {'🎶': 'musical notes'}, {'❤️': 'red heart', '🐧': 'penguin'}, {'🙌': 'raising hands'}, {'🆘': 'SOS button', '👍': 'thumbs up', '😴': 'sleeping face'}, {'😂': 'face with tears of joy'}, {'♥': 'heart suit'}, {'©': 'copyright'}, {'👸': 'princess'}, {'💋': 'kiss mark', '😘': 'face blowing a kiss', '💙': 'blue heart', '☺️': 'smiling face'}, {'❤': 'red heart', '😉': 'winking face'}, {'💃': 'woman dancing', '🏃': 'person running'}, {'❤️': 'red heart'}, {'😄': 'grinning face with smiling eyes', '🚢': 'ship'}, {'🎁': 'wrapped gift', '🎄': 'Christmas tree', '🎼': 'musical score', '🏰': 'castle', '🎶': 'musical notes'}, {'🎧': 'headphone'}, {'🔄': 'counterclockwise arrows button'}, {'💁': 'person tipping hand'}, {'❤️': 'red heart'}, {'❤': 'red heart', '😉': 'winking face'}, {'♥': 'heart suit'}, {'👑': 'crown', '👏': 'clapping hands'}, {'💸': 'money with wings', '😭': 'loudly crying face'}, {'😂': 'face with tears of joy'}, {'♥': 'heart suit'}, {'👊': 'oncoming fist'}, {'♥': 'heart suit'}, {'😘': 'face blowing a kiss', '😅': 'grinning face with sweat', '😛': 'face with tongue', '😍': 'smiling face with heart-eyes', '😄': 'grinning face with smiling eyes', '😳': 'flushed face', '😉': 'winking face', '😏': 'smirking face', '😋': 'face savoring food'}, {'✊': 'raised fist', '💯': 'hundred points'}, {'😂': 'face with tears of joy'}, {'🙈': 'see-no-evil monkey'}, {'😘': 'face blowing a kiss'}, {'♥': 'heart suit'}, {'🌸': 'cherry blossom', '☕': 'hot beverage'}, {'😒': 'unamused face', '👌': 'OK hand', '😉': 'winking face'}, {'😂': 'face with tears of joy'}, {'®': 'registered'}, {'☝️': 'index pointing up'}, {'💔': 'broken heart'}, {'👍': 'thumbs up', '☺️': 'smiling face'}, {'🚓': 'police car', '🚨': 'police car light'}, {'❤': 'red heart'}, {'😄': 'grinning face with smiling eyes'}, {'👌': 'OK hand', '😂': 'face with tears of joy'}, {'❤️': 'red heart'}, {'🎄': 'Christmas tree', '🎅': 'Santa Claus'}, {'💋': 'kiss mark', '❤': 'red heart'}, {'😍': 'smiling face with heart-eyes'}, {'☹': 'frowning face', '☺': 'smiling face'}, {'😂': 'face with tears of joy'}, {'❤️': 'red heart'}, {'™': 'trade mark', '♥': 'heart suit'}, {'😏': 'smirking face'}, {'❄️': 'snowflake', '📨': 'incoming envelope', '🎁': 'wrapped gift', '📄': 'page facing up', '☺': 'smiling face', '🎅': 'Santa Claus'}, {'❤': 'red heart', '😉': 'winking face'}, {'❤️': 'red heart'}, {'💕': 'two hearts'}, {'👌': 'OK hand', '😂': 'face with tears of joy'}, {'😝': 'squinting face with tongue'}, {'♥': 'heart suit'}, {'♥': 'heart suit'}, {'❤': 'red heart'}, {'😘': 'face blowing a kiss', '😍': 'smiling face with heart-eyes'}, {'♥': 'heart suit'}, {'💜': 'purple heart', '😍': 'smiling face with heart-eyes'}, {'👑': 'crown', '👩': 'woman', '👸': 'princess', '💛': 'yellow heart'}, {'™': 'trade mark'}, {'🍟': 'french fries', '🔪': 'kitchen knife', '🎥': 'movie camera', '🍔': 'hamburger', '😊': 'smiling face with smiling eyes', '📀': 'dvd'}, {'🙌': 'raising hands'}, {'😄': 'grinning face with smiling eyes', '👍': 'thumbs up', '😃': 'grinning face with big eyes'}, {'❤': 'red heart', '😉': 'winking face'}, {'😚': 'kissing face with closed eyes'}, {'❤️': 'red heart'}, {'💖': 'sparkling heart'}, {'♥': 'heart suit'}, {'❤': 'red heart', '😊': 'smiling face with smiling eyes', '😍': 'smiling face with heart-eyes'}, {'❤️': 'red heart'}, {'😭': 'loudly crying face'}, {'😳': 'flushed face'}, {'™': 'trade mark'}, {'👍': 'thumbs up', '❤️': 'red heart', '🎄': 'Christmas tree', '😍': 'smiling face with heart-eyes', '🎅': 'Santa Claus'}, {'😜': 'winking face with tongue', '😝': 'squinting face with tongue', '👊': 'oncoming fist', '🍺': 'beer mug', '😊': 'smiling face with smiling eyes', '🍻': 'clinking beer mugs'}, {'🍍': 'pineapple', '🍈': 'melon', '🍉': 'watermelon'}, {'😒': 'unamused face'}, {'😘': 'face blowing a kiss', '👬': 'men holding hands', '❤': 'red heart', '💞': 'revolving hearts', '👭': 'women holding hands', '💋': 'kiss mark'}, {'🍊': 'tangerine', '🍻': 'clinking beer mugs', '🏈': 'american football', '😂': 'face with tears of joy'}, {'❤': 'red heart', '😉': 'winking face'}, {'😏': 'smirking face', '👌': 'OK hand', '😂': 'face with tears of joy'}, {'😒': 'unamused face', '😳': 'flushed face'}, {'😝': 'squinting face with tongue'}, {'🙆': 'person gesturing OK'}, {'💁': 'person tipping hand', '💃': 'woman dancing', '🎉': 'party popper'}, {'❤': 'red heart', '😉': 'winking face'}, {'♥': 'heart suit'}, {'❤': 'red heart', '😉': 'winking face'}, {'👍': 'thumbs up', '✌️': 'victory hand'}, {'😔': 'pensive face'}, {'😄': 'grinning face with smiling eyes', '👹': 'ogre'}, {'😡': 'pouting face'}, {'💋': 'kiss mark'}, {'😩': 'weary face'}, {'♥': 'heart suit'}, {'😡': 'pouting face'}, {'😁': 'beaming face with smiling eyes', '👏': 'clapping hands'}, {'😏': 'smirking face'}, {'✨': 'sparkles'}, {'♥': 'heart suit'}, {'😘': 'face blowing a kiss', '👌': 'OK hand', '🍷': 'wine glass', '🎉': 'party popper'}, {'👶': 'baby', '👂': 'ear', '😭': 'loudly crying face', '😢': 'crying face', '😷': 'face with medical mask', '😪': 'sleepy face'}, {'💁': 'person tipping hand'}, {'®': 'registered'}, {'❤️': 'red heart'}, {'💖': 'sparkling heart', '😘': 'face blowing a kiss'}, {'✏': 'pencil', '😭': 'loudly crying face'}, {'♥': 'heart suit'}, {'♥': 'heart suit'}, {'💕': 'two hearts'}, {'❤': 'red heart', '😉': 'winking face'}, {'♥': 'heart suit'}, {'😳': 'flushed face', '😥': 'sad but relieved face', '😓': 'downcast face with sweat'}, {'🎶': 'musical notes', '😮': 'face with open mouth', '🎵': 'musical note'}, {'☹': 'frowning face'}, {'©': 'copyright'}, {'😂': 'face with tears of joy'}, {'♥': 'heart suit'}, {'🔥': 'fire'}, {'👌': 'OK hand', '😍': 'smiling face with heart-eyes'}, {'♥': 'heart suit'}, {'😝': 'squinting face with tongue'}, {'😂': 'face with tears of joy'}, {'🙈': 'see-no-evil monkey', '😳': 'flushed face'}, {'😒': 'unamused face', '😆': 'grinning squinting face'}, {'™': 'trade mark'}, {'🎅': 'Santa Claus'}, {'🙊': 'speak-no-evil monkey'}, {'☹': 'frowning face', '☺': 'smiling face'}, {'♥': 'heart suit'}, {'😟': 'worried face'}, {'♥': 'heart suit'}, {'♥': 'heart suit'}, {'♥': 'heart suit'}, {'♥': 'heart suit'}, {'♥': 'heart suit'}, {'😂': 'face with tears of joy', '👏': 'clapping hands'}, {'♥': 'heart suit'}, {'👍': 'thumbs up'}, {'▶': 'play button'}, {'😳': 'flushed face'}, {'❤': 'red heart', '😉': 'winking face'}, {'❤': 'red heart', '😉': 'winking face'}, {'♥': 'heart suit'}, {'😒': 'unamused face'}, {'😳': 'flushed face'}, {'💕': 'two hearts', '☺️': 'smiling face'}, {'😘': 'face blowing a kiss', '😂': 'face with tears of joy'}, {'☺': 'smiling face'}, {'😔': 'pensive face'}, {'💋': 'kiss mark'}, {'😁': 'beaming face with smiling eyes', '😂': 'face with tears of joy'}, {'❤': 'red heart', '😉': 'winking face'}, {'❄️': 'snowflake'}, {'♥': 'heart suit'}, {'👯': 'people with bunny ears', '😘': 'face blowing a kiss'}, {'❤️': 'red heart'}, {'❤️': 'red heart', '😂': 'face with tears of joy'}, {'♥': 'heart suit'}, {'❤': 'red heart', '😉': 'winking face'}, {'🇮🇹': 'flag: Italy', '😉': 'winking face'}, {'👣': 'footprints'}, {'😆': 'grinning squinting face'}, {'😁': 'beaming face with smiling eyes', '🙌': 'raising hands'}, {'♥': 'heart suit'}, {'❤': 'red heart', '😉': 'winking face'}, {'®': 'registered'}, {'♥': 'heart suit'}, {'☺️': 'smiling face'}, {'😭': 'loudly crying face'}, {'🔞': 'no one under eighteen'}, {'👍': 'thumbs up', '✌️': 'victory hand', '☺️': 'smiling face'}, {'😒': 'unamused face', '👊': 'oncoming fist'}, {'❤️': 'red heart'}, {'😂': 'face with tears of joy'}, {'🎅': 'Santa Claus'}, {'👌': 'OK hand', '✋': 'raised hand', '😂': 'face with tears of joy'}, {'😳': 'flushed face', '😂': 'face with tears of joy'}, {'♥': 'heart suit'}, {'😷': 'face with medical mask'}, {'😂': 'face with tears of joy'}, {'👌': 'OK hand', '😂': 'face with tears of joy'}, {'😊': 'smiling face with smiling eyes', '💪': 'flexed biceps'}, {'😂': 'face with tears of joy'}, {'😒': 'unamused face'}, {'🎧': 'headphone'}, {'😌': 'relieved face'}, {'™': 'trade mark'}, {'😂': 'face with tears of joy', '👀': 'eyes', '😭': 'loudly crying face'}, {'👍': 'thumbs up', '👌': 'OK hand'}, {'😘': 'face blowing a kiss'}, {'🙅': 'person gesturing NO'}, {'📱': 'mobile phone', '👳': 'person wearing turban'}, {'🎁': 'wrapped gift', '😭': 'loudly crying face', '😂': 'face with tears of joy', '⛄': 'snowman without snow', '🎅': 'Santa Claus'}, {'😏': 'smirking face'}, {'😳': 'flushed face', '🙅': 'person gesturing NO'}, {'❤': 'red heart', '😉': 'winking face'}, {'❤️': 'red heart'}, {'🎈': 'balloon', '😻': 'smiling cat with heart-eyes', '❤️': 'red heart', '💛': 'yellow heart', '😽': 'kissing cat'}, {'⛅': 'sun behind cloud', '🌊': 'water wave', '🌁': 'foggy', '🚢': 'ship', '☁': 'cloud'}, {'♥': 'heart suit'}, {'☺': 'smiling face'}, {'❤️': 'red heart'}, {'☺': 'smiling face'}, {'♥': 'heart suit'}, {'✖': 'multiply'}, {'🎶': 'musical notes', '😏': 'smirking face'}, {'❤️': 'red heart'}, {'😘': 'face blowing a kiss'}, {'©': 'copyright'}, {'😂': 'face with tears of joy'}, {'🙈': 'see-no-evil monkey'}, {'😊': 'smiling face with smiling eyes'}, {'😓': 'downcast face with sweat'}, {'♥': 'heart suit'}, {'❤️': 'red heart', '🐧': 'penguin'}, {'🎄': 'Christmas tree', '🎅': 'Santa Claus'}, {'🎤': 'microphone'}, {'♥': 'heart suit'}, {'😊': 'smiling face with smiling eyes', '😉': 'winking face'}, {'🙅': 'person gesturing NO'}, {'🎊': 'confetti ball', '🎁': 'wrapped gift', '🎄': 'Christmas tree', '🔮': 'crystal ball', '🎉': 'party popper', '🎅': 'Santa Claus'}, {'❤': 'red heart', '😉': 'winking face'}, {'😭': 'loudly crying face'}, {'😭': 'loudly crying face'}, {'💂': 'guard'}, {'💞': 'revolving hearts', '👫': 'woman and man holding hands', '🌃': 'night with stars'}, {'❄️': 'snowflake', '👌': 'OK hand', '✌️': 'victory hand', '😍': 'smiling face with heart-eyes'}, {'♥': 'heart suit'}, {'☹': 'frowning face'}, {'😊': 'smiling face with smiling eyes'}, {'🎄': 'Christmas tree', '😊': 'smiling face with smiling eyes'}, {'♥': 'heart suit'}, {'😇': 'smiling face with halo', '❤️': 'red heart'}, {'👯': 'people with bunny ears', '💁': 'person tipping hand', '🎓': 'graduation cap'}, {'❤': 'red heart', '😉': 'winking face'}, {'♥': 'heart suit'}, {'😌': 'relieved face'}, {'❤': 'red heart'}, {'♥': 'heart suit'}, {'😏': 'smirking face', '😳': 'flushed face', '😂': 'face with tears of joy'}, {'😚': 'kissing face with closed eyes'}, {'☕': 'hot beverage'}, {'✔️': 'check mark'}, {'😨': 'fearful face'}, {'😭': 'loudly crying face'}, {'♥': 'heart suit'}, {'❤': 'red heart', '🎈': 'balloon', '👫': 'woman and man holding hands'}, {'🙈': 'see-no-evil monkey'}, {'❤️': 'red heart'}, {'🌌': 'milky way', '⭐': 'star', '🏰': 'castle'}, {'❤': 'red heart', '😉': 'winking face'}, {'♥': 'heart suit'}, {'♥': 'heart suit'}, {'😂': 'face with tears of joy'}, {'©': 'copyright'}, {'✋': 'raised hand', '😔': 'pensive face'}, {'♥': 'heart suit'}, {'💕': 'two hearts'}, {'❤': 'red heart', '😉': 'winking face'}, {'♥': 'heart suit'}, {'😂': 'face with tears of joy'}, {'😫': 'tired face', '✌️': 'victory hand', '😎': 'smiling face with sunglasses'}, {'💁': 'person tipping hand', '🙌': 'raising hands'}, {'💗': 'growing heart', '😭': 'loudly crying face'}, {'✈️': 'airplane'}, {'🙏': 'folded hands', '😂': 'face with tears of joy'}, {'😂': 'face with tears of joy'}, {'💕': 'two hearts', '😄': 'grinning face with smiling eyes', '🙈': 'see-no-evil monkey'}, {'😳': 'flushed face'}, {'❤️': 'red heart'}, {'💁': 'person tipping hand'}, {'😂': 'face with tears of joy'}, {'❤': 'red heart', '😉': 'winking face'}, {'💀': 'skull'}, {'♥': 'heart suit'}, {'😭': 'loudly crying face'}, {'♥': 'heart suit'}, {'🏂': 'snowboarder', '🎿': 'skis', '❄': 'snowflake'}, {'♥': 'heart suit'}, {'💕': 'two hearts'}, {'🐷': 'pig face', '💕': 'two hearts'}, {'🎾': 'tennis', '😂': 'face with tears of joy', '🐶': 'dog face'}, {'🎄': 'Christmas tree'}, {'❤': 'red heart', '😉': 'winking face'}, {'😝': 'squinting face with tongue', '👋': 'waving hand'}, {'🙌': 'raising hands'}, {'😩': 'weary face', '😴': 'sleeping face', '😏': 'smirking face', '😱': 'face screaming in fear'}, {'😒': 'unamused face'}, {'😔': 'pensive face'}, {'▶': 'play button'}, {'☹': 'frowning face'}, {'💖': 'sparkling heart', '👰': 'person with veil', '🙏': 'folded hands', '💏': 'kiss'}, {'🙍': 'person frowning'}, {'♥': 'heart suit'}, {'❤': 'red heart', '😉': 'winking face'}, {'®': 'registered'}, {'💁': 'person tipping hand'}, {'♥': 'heart suit'}, {'♥': 'heart suit'}, {'®': 'registered'}, {'🙈': 'see-no-evil monkey', '😳': 'flushed face', '😂': 'face with tears of joy'}, {'😎': 'smiling face with sunglasses'}, {'♥': 'heart suit'}, {'♥': 'heart suit'}, {'🌞': 'sun with face', '😘': 'face blowing a kiss', '😁': 'beaming face with smiling eyes', '🌻': 'sunflower', '💞': 'revolving hearts'}, {'😆': 'grinning squinting face'}, {'😜': 'winking face with tongue', '😆': 'grinning squinting face', '😁': 'beaming face with smiling eyes', '👍': 'thumbs up', '😉': 'winking face', '🎈': 'balloon'}, {'😂': 'face with tears of joy'}, {'😉': 'winking face'}, {'👌': 'OK hand'}, {'😚': 'kissing face with closed eyes', '❤️': 'red heart'}, {'😍': 'smiling face with heart-eyes'}, {'😂': 'face with tears of joy'}, {'😋': 'face savoring food'}, {'❤️': 'red heart'}, {'🙈': 'see-no-evil monkey', '😂': 'face with tears of joy'}, {'🎀': 'ribbon', '😍': 'smiling face with heart-eyes'}, {'♥': 'heart suit'}, {'❤': 'red heart', '😉': 'winking face'}, {'👌': 'OK hand', '😂': 'face with tears of joy'}, {'♥': 'heart suit'}, {'♥': 'heart suit'}, {'😂': 'face with tears of joy'}, {'😍': 'smiling face with heart-eyes'}, {'🐇': 'rabbit'}, {'😂': 'face with tears of joy'}, {'♥': 'heart suit'}, {'🙌': 'raising hands', '😭': 'loudly crying face'}, {'😘': 'face blowing a kiss'}, {'😂': 'face with tears of joy'}, {'♥': 'heart suit'}, {'😏': 'smirking face'}, {'😂': 'face with tears of joy'}, {'🍀': 'four leaf clover'}, {'😂': 'face with tears of joy'}, {'❤': 'red heart', '😉': 'winking face'}, {'♥': 'heart suit'}, {'👼': 'baby angel', '🙊': 'speak-no-evil monkey', '🙈': 'see-no-evil monkey', '😇': 'smiling face with halo', '💦': 'sweat droplets', '🙉': 'hear-no-evil monkey'}, {'😳': 'flushed face'}, {'♥': 'heart suit'}, {'♥': 'heart suit'}, {'✊': 'raised fist', '😍': 'smiling face with heart-eyes', '😂': 'face with tears of joy'}, {'☕': 'hot beverage', '🍩': 'doughnut'}, {'♥': 'heart suit'}, {'😩': 'weary face'}, {'✌️': 'victory hand'}, {'♥': 'heart suit'}, {'♥': 'heart suit'}, {'♥': 'heart suit'}, {'⛄': 'snowman without snow', '🎄': 'Christmas tree', '🎅': 'Santa Claus'}, {'💕': 'two hearts', '😘': 'face blowing a kiss'}, {'🙏': 'folded hands', '🙌': 'raising hands', '👏': 'clapping hands'}, {'♥': 'heart suit'}, {'😶': 'face without mouth', '😿': 'crying cat'}, {'😳': 'flushed face'}, {'☹': 'frowning face'}, {'❤️': 'red heart'}, {'🎁': 'wrapped gift'}, {'🎶': 'musical notes', '❤': 'red heart', '😍': 'smiling face with heart-eyes', '🎸': 'guitar'}, {'♥': 'heart suit'}, {'💋': 'kiss mark', '💞': 'revolving hearts'}, {'😒': 'unamused face', '💔': 'broken heart'}, {'💖': 'sparkling heart'}, {'😉': 'winking face'}, {'〰': 'wavy dash', '❗': 'red exclamation mark'}, {'♥': 'heart suit'}, {'👌': 'OK hand'}, {'😂': 'face with tears of joy'}, {'❤': 'red heart', '😉': 'winking face'}, {'❤': 'red heart', '😉': 'winking face'}, {'💖': 'sparkling heart'}, {'😅': 'grinning face with sweat'}, {'💙': 'blue heart', '💛': 'yellow heart'}, {'😊': 'smiling face with smiling eyes', '😭': 'loudly crying face'}, {'☹': 'frowning face'}, {'🎄': 'Christmas tree', '🎈': 'balloon'}, {'🙈': 'see-no-evil monkey', '😔': 'pensive face'}, {'❤': 'red heart'}, {'😁': 'beaming face with smiling eyes'}, {'🙌': 'raising hands'}, {'❤️': 'red heart'}, {'😠': 'angry face'}, {'🎄': 'Christmas tree'}, {'♥': 'heart suit'}, {'☺️': 'smiling face'}, {'👪': 'family', '💯': 'hundred points', '👊': 'oncoming fist', '💎': 'gem stone', '💍': 'ring'}, {'😝': 'squinting face with tongue'}, {'😒': 'unamused face'}, {'🎶': 'musical notes', '❤️': 'red heart', '🙀': 'weary cat', '🎻': 'violin'}, {'💖': 'sparkling heart', '❤️': 'red heart'}, {'🍋': 'lemon', '😟': 'worried face'}, {'✋': 'raised hand'}, {'🐷': 'pig face'}, {'🇺🇸': 'flag: United States'}, {'💕': 'two hearts'}, {'😗': 'kissing face', '😀': 'grinning face', '😋': 'face savoring food', '🙊': 'speak-no-evil monkey'}, {'☺': 'smiling face'}, {'❤️': 'red heart', '😊': 'smiling face with smiling eyes'}, {'❤️': 'red heart'}, {'🎊': 'confetti ball', '😍': 'smiling face with heart-eyes', '🔥': 'fire', '🔯': 'dotted six-pointed star', '⛄': 'snowman without snow'}, {'♥': 'heart suit'}, {'👍': 'thumbs up', '💃': 'woman dancing'}, {'♥': 'heart suit'}, {'♥': 'heart suit'}, {'😊': 'smiling face with smiling eyes', '🎻': 'violin'}, {'👔': 'necktie', '💼': 'briefcase'}, {'👌': 'OK hand'}, {'😭': 'loudly crying face'}, {'💛': 'yellow heart'}, {'🙌': 'raising hands'}, {'❤️': 'red heart'}, {'🙏': 'folded hands', '🔥': 'fire'}, {'💕': 'two hearts'}, {'♥': 'heart suit'}, {'❤️': 'red heart', '😄': 'grinning face with smiling eyes', '😘': 'face blowing a kiss', '👍': 'thumbs up'}, {'🎁': 'wrapped gift', '🎄': 'Christmas tree', '❤️': 'red heart', '💐': 'bouquet', '🎅': 'Santa Claus'}, {'😩': 'weary face', '💁': 'person tipping hand', '🙌': 'raising hands', '😔': 'pensive face'}, {'😒': 'unamused face', '✌️': 'victory hand', '🌵': 'cactus'}, {'♥': 'heart suit'}, {'❤': 'red heart', '😉': 'winking face'}, {'♥': 'heart suit'}, {'™': 'trade mark'}, {'♥': 'heart suit'}, {'😔': 'pensive face', '😭': 'loudly crying face'}, {'💖': 'sparkling heart'}, {'☕': 'hot beverage', '🌞': 'sun with face'}, {'❄️': 'snowflake', '😩': 'weary face', '😁': 'beaming face with smiling eyes', '😣': 'persevering face', '😒': 'unamused face'}, {'😏': 'smirking face', '😘': 'face blowing a kiss', '❤️': 'red heart'}, {'❤️': 'red heart'}, {'💕': 'two hearts', '😘': 'face blowing a kiss'}, {'🍏': 'green apple'}, {'🎶': 'musical notes', '🎧': 'headphone'}, {'❤️': 'red heart'}, {'😑': 'expressionless face', '💔': 'broken heart', '😭': 'loudly crying face'}, {'😜': 'winking face with tongue'}, {'🙌': 'raising hands'}, {'😂': 'face with tears of joy'}]\n"
          ]
        }
      ]
    },
    {
      "cell_type": "code",
      "metadata": {
        "id": "d1j72LfOTyuq"
      },
      "source": [
        "all_keys = set().union(*(d.keys() for d in f))"
      ],
      "execution_count": null,
      "outputs": []
    },
    {
      "cell_type": "code",
      "metadata": {
        "colab": {
          "base_uri": "https://localhost:8080/"
        },
        "id": "dlUEjcOgTzX9",
        "outputId": "39e47eb1-6ead-4ae8-a452-56b0da978ccd"
      },
      "source": [
        "print(all_keys)"
      ],
      "execution_count": null,
      "outputs": [
        {
          "output_type": "stream",
          "name": "stdout",
          "text": [
            "{'🎹', '🇫🇷', '⏰', '🚙', '☀️', '🍝', '😛', '🎺', '💥', '📯', '🐣', '🎸', '🍏', '🌽', '💔', '😰', '🍉', '🚗', '©', '✌', '✋', '💯', '🚶', '😷', '▪', '😊', '🎷', '🙍', '🍠', '☝️', '🎓', '🔥', '👫', '🎥', '🔫', '✈️', '▶', '🍈', '🙈', '😏', '😬', '🎉', '🎼', '🐽', '🇺🇸', '🐥', '®', '👩', '☺️', '🎨', '💄', '😙', '👪', '👬', '🏄', '🚬', '🍆', '🚓', '☺', '🎾', '🐶', '📀', '⛅', '👼', '😻', '🍸', '☹', '💊', '😋', '😪', '💀', '😡', '👍', '🆒', '🌙', '💻', '❄️', '📣', '🍟', '💎', '💤', '😎', '😣', '🌀', '🍃', '👳', '😹', '🏈', '🌁', '👉', '👱', '💨', '😃', '😌', '👑', '🚺', '😴', '😺', '🍍', '🎶', '🍤', '🍨', '🎵', '😓', '🙊', '💕', '🍪', '🍕', '😦', '☕', '💗', '◽', '🎮', '💵', '💙', '🇬🇧', '💦', '🕑', '🍷', '👅', '🐭', '🐒', '😑', '🌱', '⛄', '🎌', '➡️', '😅', '🐾', '👐', '💸', '™', '😽', '👔', '🎻', '☠', '📺', '❄', '🌂', '🐇', '😜', '💣', '🍫', '🇮🇹', '🏥', '🏊', '🐧', '💂', '😉', '🐸', '🌾', '🐷', '💞', '🍧', '👏', '😚', '😒', '🎅', '👠', '😟', '👆', '🐤', '🍗', '😯', '😧', '🚔', '😢', '✴', '🙉', '🌏', '💪', '🇩🇪', '👶', '🎆', '😄', '♥️', '🚴', '😲', '📖', '🌵', '😈', '❗', '🐼', '🐳', '👻', '🍳', '😩', '🐛', '🍵', '🔯', '🍩', '✔️', '🙏', '🍭', '🌚', '😔', '💖', '😮', '👸', '🐠', '🌸', '💝', '💍', '💋', '💅', '😶', '💜', '👰', '🍛', '🌆', '🌲', '🔆', '🍔', '⚡', '☀', '🎄', '❤️', '😂', '🔞', '❤', '👹', '👯', '💧', '💉', '🔪', '🚀', '🎋', '🕐', '🙀', '📱', '👙', '📑', '💳', '😞', '👃', '✈', '👀', '💛', '💢', '🍅', '☂', '😕', '🍀', '😝', '🚫', '💟', '🎤', '📄', '🌅', '✏', '☁', '♦', '📚', '😍', '🌍', '😖', '👣', '🚨', '🍻', '💏', '⚽', '👜', '👌', '😐', '🍬', '😀', '🍦', '💘', '😱', '🎁', '💆', '✊', '♏', '🙅', '🐰', '💩', '👊', '🕥', '👎', '✨', '🏃', '🍲', '😿', '💃', '🐴', '🙌', '🙆', '🏂', '🐬', '👭', '🌠', '🎀', '🍁', '🔅', '🍊', '🙋', '🏡', '📓', '🎭', '❌', '👈', '😨', '🆘', '〰', '😠', '🎈', '✖', '✌️', '😳', '☃', '💁', '👾', '🌊', '🌴', '🍺', '🌻', '◾', '🏰', '🚢', '☮', '👋', '☁️', '👄', '💌', '👿', '🐟', '👂', '🌌', '😗', '🔄', '🍓', '💐', '🌞', '☔', '😤', '⁉️', '✖️', '😫', '🐉', '😘', '🍋', '😭', '😆', '😁', '💚', '🍰', '😵', '💼', '🎂', '⬅️', '🔮', '🍖', '🍹', '😇', '🎎', '🎿', '🌃', '📨', '♥', '💰', '🎧', '💽', '⛪', '⭐', '🎊', '🌎', '😥', '🚼'}\n"
          ]
        }
      ]
    },
    {
      "cell_type": "code",
      "metadata": {
        "id": "fpeaqy-jTxpc"
      },
      "source": [
        "import emoji\n",
        "def extract_emojis(s):\n",
        "    return ''.join((' '+c+' ') if c in emoji.UNICODE_EMOJI['en'] else c for c in s)"
      ],
      "execution_count": null,
      "outputs": []
    },
    {
      "cell_type": "code",
      "metadata": {
        "id": "F2_vfkfGURRw"
      },
      "source": [
        "df['Tweet'] = df['Tweet'].apply(extract_emojis)"
      ],
      "execution_count": null,
      "outputs": []
    },
    {
      "cell_type": "code",
      "metadata": {
        "id": "Opeb2L0xiVPh"
      },
      "source": [
        "df_train['Tweet'] = df_train['Tweet'].apply(extract_emojis)\n",
        "\n",
        "df_test['Tweet'] = df_test['Tweet'].apply(extract_emojis)\n"
      ],
      "execution_count": null,
      "outputs": []
    },
    {
      "cell_type": "code",
      "metadata": {
        "id": "sWp62oOehm12"
      },
      "source": [
        "df.to_csv('./drive/MyDrive/datasets/file1.csv')"
      ],
      "execution_count": null,
      "outputs": []
    },
    {
      "cell_type": "code",
      "metadata": {
        "id": "0gQXvY4xUVBw"
      },
      "source": [
        "df.columns = df.columns.str.lstrip()"
      ],
      "execution_count": null,
      "outputs": []
    },
    {
      "cell_type": "code",
      "metadata": {
        "id": "lUNJPJ_fFcLn"
      },
      "source": [
        "\n",
        "texts = df_train.Tweet.values\n",
        "labels = df_train.Label.values"
      ],
      "execution_count": null,
      "outputs": []
    },
    {
      "cell_type": "code",
      "metadata": {
        "colab": {
          "base_uri": "https://localhost:8080/",
          "height": 289,
          "referenced_widgets": [
            "95c04270279a4b758ce315dca90209e4",
            "b7e432887b40417f92f94bddc740fdec",
            "3eab6913e49b4790a007cfe45e382973",
            "ac8674ce3da7497090cc2cf3d3fea892",
            "0164ae1ee28d4a65a450231ba653090b",
            "840b196f1c4a4c2db230b0085981dcf0",
            "34b4cf07c51c4d67a5ddacafcfa7c6af",
            "347915619d7c40b495dbc7c43b6ee038",
            "10146939c71144819f2bfb85e9403128",
            "4de3b8fe490c4642b3db1905749e11b0",
            "382854666fb64bc1ac97b0b53507331b",
            "0a920e9bdc8d4d239c6455c83719f07b",
            "1521a1a2de5845489c2ca7715e2a0aeb",
            "fec3bb64cf674e36a2fadd25dc052a01",
            "7ed5cf2d3eae4c5689b84dbc7a649060"
          ]
        },
        "id": "4eaSaV7IGV1T",
        "outputId": "e54a8fee-ba6e-47d7-942d-833861fe2078"
      },
      "source": [
        "tokenizer = ElectraTokenizer.from_pretrained('google/electra-base-discriminator') \n",
        "model = ElectraForSequenceClassification.from_pretrained('google/electra-base-discriminator',num_labels=2,return_dict= True)"
      ],
      "execution_count": null,
      "outputs": [
        {
          "output_type": "display_data",
          "data": {
            "application/vnd.jupyter.widget-view+json": {
              "model_id": "95c04270279a4b758ce315dca90209e4",
              "version_minor": 0,
              "version_major": 2
            },
            "text/plain": [
              "Downloading:   0%|          | 0.00/226k [00:00<?, ?B/s]"
            ]
          },
          "metadata": {}
        },
        {
          "output_type": "display_data",
          "data": {
            "application/vnd.jupyter.widget-view+json": {
              "model_id": "0a920e9bdc8d4d239c6455c83719f07b",
              "version_minor": 0,
              "version_major": 2
            },
            "text/plain": [
              "Downloading:   0%|          | 0.00/27.0 [00:00<?, ?B/s]"
            ]
          },
          "metadata": {}
        },
        {
          "output_type": "display_data",
          "data": {
            "application/vnd.jupyter.widget-view+json": {
              "model_id": "1521a1a2de5845489c2ca7715e2a0aeb",
              "version_minor": 0,
              "version_major": 2
            },
            "text/plain": [
              "Downloading:   0%|          | 0.00/455k [00:00<?, ?B/s]"
            ]
          },
          "metadata": {}
        },
        {
          "output_type": "display_data",
          "data": {
            "application/vnd.jupyter.widget-view+json": {
              "model_id": "fec3bb64cf674e36a2fadd25dc052a01",
              "version_minor": 0,
              "version_major": 2
            },
            "text/plain": [
              "Downloading:   0%|          | 0.00/666 [00:00<?, ?B/s]"
            ]
          },
          "metadata": {}
        },
        {
          "output_type": "display_data",
          "data": {
            "application/vnd.jupyter.widget-view+json": {
              "model_id": "7ed5cf2d3eae4c5689b84dbc7a649060",
              "version_minor": 0,
              "version_major": 2
            },
            "text/plain": [
              "Downloading:   0%|          | 0.00/420M [00:00<?, ?B/s]"
            ]
          },
          "metadata": {}
        },
        {
          "output_type": "stream",
          "name": "stderr",
          "text": [
            "Some weights of the model checkpoint at google/electra-base-discriminator were not used when initializing ElectraForSequenceClassification: ['discriminator_predictions.dense.weight', 'discriminator_predictions.dense_prediction.weight', 'discriminator_predictions.dense.bias', 'discriminator_predictions.dense_prediction.bias']\n",
            "- This IS expected if you are initializing ElectraForSequenceClassification from the checkpoint of a model trained on another task or with another architecture (e.g. initializing a BertForSequenceClassification model from a BertForPreTraining model).\n",
            "- This IS NOT expected if you are initializing ElectraForSequenceClassification from the checkpoint of a model that you expect to be exactly identical (initializing a BertForSequenceClassification model from a BertForSequenceClassification model).\n",
            "Some weights of ElectraForSequenceClassification were not initialized from the model checkpoint at google/electra-base-discriminator and are newly initialized: ['classifier.out_proj.bias', 'classifier.dense.weight', 'classifier.dense.bias', 'classifier.out_proj.weight']\n",
            "You should probably TRAIN this model on a down-stream task to be able to use it for predictions and inference.\n"
          ]
        }
      ]
    },
    {
      "cell_type": "code",
      "metadata": {
        "id": "MigK2-PFG_wG"
      },
      "source": [
        "emoji_1 = re.compile('[\\\\u203C-\\\\u3299\\\\U0001F000-\\\\U0001F644]')"
      ],
      "execution_count": null,
      "outputs": []
    },
    {
      "cell_type": "code",
      "metadata": {
        "id": "XyJ-GOwrHAwE",
        "colab": {
          "base_uri": "https://localhost:8080/",
          "height": 171
        },
        "outputId": "dbdfb0b6-9b85-4e44-edcf-addcec65fd42"
      },
      "source": [
        "emoji_list= list(filter(emoji_1.match, df['Tweet']))"
      ],
      "execution_count": null,
      "outputs": [
        {
          "output_type": "error",
          "ename": "NameError",
          "evalue": "ignored",
          "traceback": [
            "\u001b[0;31m---------------------------------------------------------------------------\u001b[0m",
            "\u001b[0;31mNameError\u001b[0m                                 Traceback (most recent call last)",
            "\u001b[0;32m<ipython-input-12-b5db416a1258>\u001b[0m in \u001b[0;36m<module>\u001b[0;34m()\u001b[0m\n\u001b[0;32m----> 1\u001b[0;31m \u001b[0memoji_list\u001b[0m\u001b[0;34m=\u001b[0m \u001b[0mlist\u001b[0m\u001b[0;34m(\u001b[0m\u001b[0mfilter\u001b[0m\u001b[0;34m(\u001b[0m\u001b[0memoji_1\u001b[0m\u001b[0;34m.\u001b[0m\u001b[0mmatch\u001b[0m\u001b[0;34m,\u001b[0m \u001b[0mdf\u001b[0m\u001b[0;34m[\u001b[0m\u001b[0;34m'Tweet'\u001b[0m\u001b[0;34m]\u001b[0m\u001b[0;34m)\u001b[0m\u001b[0;34m)\u001b[0m\u001b[0;34m\u001b[0m\u001b[0;34m\u001b[0m\u001b[0m\n\u001b[0m",
            "\u001b[0;31mNameError\u001b[0m: name 'df' is not defined"
          ]
        }
      ]
    },
    {
      "cell_type": "code",
      "metadata": {
        "colab": {
          "base_uri": "https://localhost:8080/",
          "height": 171
        },
        "id": "QkaVCoMZHC7t",
        "outputId": "c0415995-b2f1-416e-ebdb-36c03b453b66"
      },
      "source": [
        "print(emoji_list)"
      ],
      "execution_count": null,
      "outputs": [
        {
          "output_type": "error",
          "ename": "NameError",
          "evalue": "ignored",
          "traceback": [
            "\u001b[0;31m---------------------------------------------------------------------------\u001b[0m",
            "\u001b[0;31mNameError\u001b[0m                                 Traceback (most recent call last)",
            "\u001b[0;32m<ipython-input-13-60306d0eb341>\u001b[0m in \u001b[0;36m<module>\u001b[0;34m()\u001b[0m\n\u001b[0;32m----> 1\u001b[0;31m \u001b[0mprint\u001b[0m\u001b[0;34m(\u001b[0m\u001b[0memoji_list\u001b[0m\u001b[0;34m)\u001b[0m\u001b[0;34m\u001b[0m\u001b[0;34m\u001b[0m\u001b[0m\n\u001b[0m",
            "\u001b[0;31mNameError\u001b[0m: name 'emoji_list' is not defined"
          ]
        }
      ]
    },
    {
      "cell_type": "code",
      "metadata": {
        "id": "RVim4b9xHHC-",
        "colab": {
          "base_uri": "https://localhost:8080/",
          "height": 171
        },
        "outputId": "f8abf2e0-d834-4d3a-a574-6eee00ac0d82"
      },
      "source": [
        "emo_found= ' '.join(emoji for emoji in emoji_list)"
      ],
      "execution_count": null,
      "outputs": [
        {
          "output_type": "error",
          "ename": "NameError",
          "evalue": "ignored",
          "traceback": [
            "\u001b[0;31m---------------------------------------------------------------------------\u001b[0m",
            "\u001b[0;31mNameError\u001b[0m                                 Traceback (most recent call last)",
            "\u001b[0;32m<ipython-input-14-fe30f5398089>\u001b[0m in \u001b[0;36m<module>\u001b[0;34m()\u001b[0m\n\u001b[0;32m----> 1\u001b[0;31m \u001b[0memo_found\u001b[0m\u001b[0;34m=\u001b[0m \u001b[0;34m' '\u001b[0m\u001b[0;34m.\u001b[0m\u001b[0mjoin\u001b[0m\u001b[0;34m(\u001b[0m\u001b[0memoji\u001b[0m \u001b[0;32mfor\u001b[0m \u001b[0memoji\u001b[0m \u001b[0;32min\u001b[0m \u001b[0memoji_list\u001b[0m\u001b[0;34m)\u001b[0m\u001b[0;34m\u001b[0m\u001b[0;34m\u001b[0m\u001b[0m\n\u001b[0m",
            "\u001b[0;31mNameError\u001b[0m: name 'emoji_list' is not defined"
          ]
        }
      ]
    },
    {
      "cell_type": "code",
      "metadata": {
        "id": "bptNxDlKHKRL"
      },
      "source": [
        "\n",
        "def get_emoji_set(text):\n",
        "    return {letter for letter in text if letter in UNICODE_EMOJI['en'] }"
      ],
      "execution_count": null,
      "outputs": []
    },
    {
      "cell_type": "code",
      "metadata": {
        "id": "ZCPLbUfmHMli"
      },
      "source": [
        "c = get_emoji_set(emo_found)"
      ],
      "execution_count": null,
      "outputs": []
    },
    {
      "cell_type": "code",
      "metadata": {
        "colab": {
          "base_uri": "https://localhost:8080/"
        },
        "id": "uAJDHquKHPkY",
        "outputId": "c981a94e-b294-438d-b40d-147a8e9d6c42"
      },
      "source": [
        "print(c)"
      ],
      "execution_count": null,
      "outputs": [
        {
          "output_type": "stream",
          "name": "stdout",
          "text": [
            "{'▶', '⛄', '🙉', '👌', '👑', '😘', '😳', '🏥', '⭐', '😂', '😩', '😔', '☕', '👫', '🍀', '🙈', '💣', '💦', '🎄', '✨', '🎀', '☺', '🌍', '🍊', '🌏', '😙', '😏', '😕', '😊', '🎶', '💎', '🐉', '🎧', '🎅', '❄', '💕', '😒', '💯', '😝', '❤', '😛', '🐒', '😋', '👼', '🏈', '💗', '🐶', '😇', '🐸', '🙊', '🎎', '😢', '😍', '🐾', '🍩', '💊', '♥', '📱', '😆', '💝', '🎁', '🌞', '🍃', '☹', '🍻', '🎈', '😱', '💚'}\n"
          ]
        }
      ]
    },
    {
      "cell_type": "code",
      "metadata": {
        "colab": {
          "base_uri": "https://localhost:8080/"
        },
        "id": "TsgxPPTcGeRT",
        "outputId": "463f19a7-f2f6-4ff5-bf58-8cd9a2ff63c0"
      },
      "source": [
        "tokenizer.add_tokens(['🎹', '🇫🇷', '⏰', '🚙', '☀️', '🍝', '😛', '🎺', '💥', '📯', '🐣', '🎸', '🍏', '🌽', '💔', '😰', '🍉', '🚗', '©', '✌', '✋', '💯', '🚶', '😷', '▪', '😊', '🎷', '🙍', '🍠', '☝️', '🎓', '🔥', '👫', '🎥', '🔫', '✈️', '▶', '🍈', '🙈', '😏', '😬', '🎉', '🎼', '🐽', '🇺🇸', '🐥', '®', '👩', '☺️', '🎨', '💄', '😙', '👪', '👬', '🏄', '🚬', '🍆', '🚓', '☺', '🎾', '🐶', '📀', '⛅', '👼', '😻', '🍸', '☹', '💊', '😋', '😪', '💀', '😡', '👍', '🆒', '🌙', '💻', '❄️', '📣', '🍟', '💎', '💤', '😎', '😣', '🌀', '🍃', '👳', '😹', '🏈', '🌁', '👉', '👱', '💨', '😃', '😌', '👑', '🚺', '😴', '😺', '🍍', '🎶', '🍤', '🍨', '🎵', '😓', '🙊', '💕', '🍪', '🍕', '😦', '☕', '💗', '◽', '🎮', '💵', '💙', '🇬🇧', '💦', '🕑', '🍷', '👅', '🐭', '🐒', '😑', '🌱', '⛄', '🎌', '➡️', '😅', '🐾', '👐', '💸', '™', '😽', '👔', '🎻', '☠', '📺', '❄', '🌂', '🐇', '😜', '💣', '🍫', '🇮🇹', '🏥', '🏊', '🐧', '💂', '😉', '🐸', '🌾', '🐷', '💞', '🍧', '👏', '😚', '😒', '🎅', '👠', '😟', '👆', '🐤', '🍗', '😯', '😧', '🚔', '😢', '✴', '🙉', '🌏', '💪', '🇩🇪', '👶', '🎆', '😄', '♥️', '🚴', '😲', '📖', '🌵', '😈', '❗', '🐼', '🐳', '👻', '🍳', '😩', '🐛', '🍵', '🔯', '🍩', '✔️', '🙏', '🍭', '🌚', '😔', '💖', '😮', '👸', '🐠', '🌸', '💝', '💍', '💋', '💅', '😶', '💜', '👰', '🍛', '🌆', '🌲', '🔆', '🍔', '⚡', '☀', '🎄', '❤️', '😂', '🔞', '❤', '👹', '👯', '💧', '💉', '🔪', '🚀', '🎋', '🕐', '🙀', '📱', '👙', '📑', '💳', '😞', '👃', '✈', '👀', '💛', '💢', '🍅', '☂', '😕', '🍀', '😝', '🚫', '💟', '🎤', '📄', '🌅', '✏', '☁', '♦', '📚', '😍', '🌍', '😖', '👣', '🚨', '🍻', '💏', '⚽', '👜', '👌', '😐', '🍬', '😀', '🍦', '💘', '😱', '🎁', '💆', '✊', '♏', '🙅', '🐰', '💩', '👊', '🕥', '👎', '✨', '🏃', '🍲', '😿', '💃', '🐴', '🙌', '🙆', '🏂', '🐬', '👭', '🌠', '🎀', '🍁', '🔅', '🍊', '🙋', '🏡', '📓', '🎭', '❌', '👈', '😨', '🆘', '〰', '😠', '🎈', '✖', '✌️', '😳', '☃', '💁', '👾', '🌊', '🌴', '🍺', '🌻', '◾', '🏰', '🚢', '☮', '👋', '☁️', '👄', '💌', '👿', '🐟', '👂', '🌌', '😗', '🔄', '🍓', '💐', '🌞', '☔', '😤', '⁉️', '✖️', '😫', '🐉', '😘', '🍋', '😭', '😆', '😁', '💚', '🍰', '😵', '💼', '🎂', '⬅️', '🔮', '🍖', '🍹', '😇', '🎎', '🎿', '🌃', '📨', '♥', '💰', '🎧', '💽', '⛪', '⭐', '🎊', '🌎', '😥', '🚼']\n",
        ")"
      ],
      "execution_count": null,
      "outputs": [
        {
          "output_type": "execute_result",
          "data": {
            "text/plain": [
              "362"
            ]
          },
          "metadata": {},
          "execution_count": 25
        }
      ]
    },
    {
      "cell_type": "code",
      "metadata": {
        "colab": {
          "base_uri": "https://localhost:8080/"
        },
        "id": "BirMlx-VHXTe",
        "outputId": "2493ab24-c1d1-487e-feb7-3840a8dd22d4"
      },
      "source": [
        "model.resize_token_embeddings(len(tokenizer))"
      ],
      "execution_count": null,
      "outputs": [
        {
          "output_type": "execute_result",
          "data": {
            "text/plain": [
              "Embedding(30884, 768)"
            ]
          },
          "metadata": {},
          "execution_count": 26
        }
      ]
    },
    {
      "cell_type": "code",
      "metadata": {
        "colab": {
          "base_uri": "https://localhost:8080/"
        },
        "id": "-wueNIBXHgil",
        "outputId": "dbe80889-f4ee-44de-b758-d654e0b5716b"
      },
      "source": [
        "model.to(device)"
      ],
      "execution_count": null,
      "outputs": [
        {
          "output_type": "execute_result",
          "data": {
            "text/plain": [
              "ElectraForSequenceClassification(\n",
              "  (electra): ElectraModel(\n",
              "    (embeddings): ElectraEmbeddings(\n",
              "      (word_embeddings): Embedding(30884, 768)\n",
              "      (position_embeddings): Embedding(512, 768)\n",
              "      (token_type_embeddings): Embedding(2, 768)\n",
              "      (LayerNorm): LayerNorm((768,), eps=1e-12, elementwise_affine=True)\n",
              "      (dropout): Dropout(p=0.1, inplace=False)\n",
              "    )\n",
              "    (encoder): ElectraEncoder(\n",
              "      (layer): ModuleList(\n",
              "        (0): ElectraLayer(\n",
              "          (attention): ElectraAttention(\n",
              "            (self): ElectraSelfAttention(\n",
              "              (query): Linear(in_features=768, out_features=768, bias=True)\n",
              "              (key): Linear(in_features=768, out_features=768, bias=True)\n",
              "              (value): Linear(in_features=768, out_features=768, bias=True)\n",
              "              (dropout): Dropout(p=0.1, inplace=False)\n",
              "            )\n",
              "            (output): ElectraSelfOutput(\n",
              "              (dense): Linear(in_features=768, out_features=768, bias=True)\n",
              "              (LayerNorm): LayerNorm((768,), eps=1e-12, elementwise_affine=True)\n",
              "              (dropout): Dropout(p=0.1, inplace=False)\n",
              "            )\n",
              "          )\n",
              "          (intermediate): ElectraIntermediate(\n",
              "            (dense): Linear(in_features=768, out_features=3072, bias=True)\n",
              "          )\n",
              "          (output): ElectraOutput(\n",
              "            (dense): Linear(in_features=3072, out_features=768, bias=True)\n",
              "            (LayerNorm): LayerNorm((768,), eps=1e-12, elementwise_affine=True)\n",
              "            (dropout): Dropout(p=0.1, inplace=False)\n",
              "          )\n",
              "        )\n",
              "        (1): ElectraLayer(\n",
              "          (attention): ElectraAttention(\n",
              "            (self): ElectraSelfAttention(\n",
              "              (query): Linear(in_features=768, out_features=768, bias=True)\n",
              "              (key): Linear(in_features=768, out_features=768, bias=True)\n",
              "              (value): Linear(in_features=768, out_features=768, bias=True)\n",
              "              (dropout): Dropout(p=0.1, inplace=False)\n",
              "            )\n",
              "            (output): ElectraSelfOutput(\n",
              "              (dense): Linear(in_features=768, out_features=768, bias=True)\n",
              "              (LayerNorm): LayerNorm((768,), eps=1e-12, elementwise_affine=True)\n",
              "              (dropout): Dropout(p=0.1, inplace=False)\n",
              "            )\n",
              "          )\n",
              "          (intermediate): ElectraIntermediate(\n",
              "            (dense): Linear(in_features=768, out_features=3072, bias=True)\n",
              "          )\n",
              "          (output): ElectraOutput(\n",
              "            (dense): Linear(in_features=3072, out_features=768, bias=True)\n",
              "            (LayerNorm): LayerNorm((768,), eps=1e-12, elementwise_affine=True)\n",
              "            (dropout): Dropout(p=0.1, inplace=False)\n",
              "          )\n",
              "        )\n",
              "        (2): ElectraLayer(\n",
              "          (attention): ElectraAttention(\n",
              "            (self): ElectraSelfAttention(\n",
              "              (query): Linear(in_features=768, out_features=768, bias=True)\n",
              "              (key): Linear(in_features=768, out_features=768, bias=True)\n",
              "              (value): Linear(in_features=768, out_features=768, bias=True)\n",
              "              (dropout): Dropout(p=0.1, inplace=False)\n",
              "            )\n",
              "            (output): ElectraSelfOutput(\n",
              "              (dense): Linear(in_features=768, out_features=768, bias=True)\n",
              "              (LayerNorm): LayerNorm((768,), eps=1e-12, elementwise_affine=True)\n",
              "              (dropout): Dropout(p=0.1, inplace=False)\n",
              "            )\n",
              "          )\n",
              "          (intermediate): ElectraIntermediate(\n",
              "            (dense): Linear(in_features=768, out_features=3072, bias=True)\n",
              "          )\n",
              "          (output): ElectraOutput(\n",
              "            (dense): Linear(in_features=3072, out_features=768, bias=True)\n",
              "            (LayerNorm): LayerNorm((768,), eps=1e-12, elementwise_affine=True)\n",
              "            (dropout): Dropout(p=0.1, inplace=False)\n",
              "          )\n",
              "        )\n",
              "        (3): ElectraLayer(\n",
              "          (attention): ElectraAttention(\n",
              "            (self): ElectraSelfAttention(\n",
              "              (query): Linear(in_features=768, out_features=768, bias=True)\n",
              "              (key): Linear(in_features=768, out_features=768, bias=True)\n",
              "              (value): Linear(in_features=768, out_features=768, bias=True)\n",
              "              (dropout): Dropout(p=0.1, inplace=False)\n",
              "            )\n",
              "            (output): ElectraSelfOutput(\n",
              "              (dense): Linear(in_features=768, out_features=768, bias=True)\n",
              "              (LayerNorm): LayerNorm((768,), eps=1e-12, elementwise_affine=True)\n",
              "              (dropout): Dropout(p=0.1, inplace=False)\n",
              "            )\n",
              "          )\n",
              "          (intermediate): ElectraIntermediate(\n",
              "            (dense): Linear(in_features=768, out_features=3072, bias=True)\n",
              "          )\n",
              "          (output): ElectraOutput(\n",
              "            (dense): Linear(in_features=3072, out_features=768, bias=True)\n",
              "            (LayerNorm): LayerNorm((768,), eps=1e-12, elementwise_affine=True)\n",
              "            (dropout): Dropout(p=0.1, inplace=False)\n",
              "          )\n",
              "        )\n",
              "        (4): ElectraLayer(\n",
              "          (attention): ElectraAttention(\n",
              "            (self): ElectraSelfAttention(\n",
              "              (query): Linear(in_features=768, out_features=768, bias=True)\n",
              "              (key): Linear(in_features=768, out_features=768, bias=True)\n",
              "              (value): Linear(in_features=768, out_features=768, bias=True)\n",
              "              (dropout): Dropout(p=0.1, inplace=False)\n",
              "            )\n",
              "            (output): ElectraSelfOutput(\n",
              "              (dense): Linear(in_features=768, out_features=768, bias=True)\n",
              "              (LayerNorm): LayerNorm((768,), eps=1e-12, elementwise_affine=True)\n",
              "              (dropout): Dropout(p=0.1, inplace=False)\n",
              "            )\n",
              "          )\n",
              "          (intermediate): ElectraIntermediate(\n",
              "            (dense): Linear(in_features=768, out_features=3072, bias=True)\n",
              "          )\n",
              "          (output): ElectraOutput(\n",
              "            (dense): Linear(in_features=3072, out_features=768, bias=True)\n",
              "            (LayerNorm): LayerNorm((768,), eps=1e-12, elementwise_affine=True)\n",
              "            (dropout): Dropout(p=0.1, inplace=False)\n",
              "          )\n",
              "        )\n",
              "        (5): ElectraLayer(\n",
              "          (attention): ElectraAttention(\n",
              "            (self): ElectraSelfAttention(\n",
              "              (query): Linear(in_features=768, out_features=768, bias=True)\n",
              "              (key): Linear(in_features=768, out_features=768, bias=True)\n",
              "              (value): Linear(in_features=768, out_features=768, bias=True)\n",
              "              (dropout): Dropout(p=0.1, inplace=False)\n",
              "            )\n",
              "            (output): ElectraSelfOutput(\n",
              "              (dense): Linear(in_features=768, out_features=768, bias=True)\n",
              "              (LayerNorm): LayerNorm((768,), eps=1e-12, elementwise_affine=True)\n",
              "              (dropout): Dropout(p=0.1, inplace=False)\n",
              "            )\n",
              "          )\n",
              "          (intermediate): ElectraIntermediate(\n",
              "            (dense): Linear(in_features=768, out_features=3072, bias=True)\n",
              "          )\n",
              "          (output): ElectraOutput(\n",
              "            (dense): Linear(in_features=3072, out_features=768, bias=True)\n",
              "            (LayerNorm): LayerNorm((768,), eps=1e-12, elementwise_affine=True)\n",
              "            (dropout): Dropout(p=0.1, inplace=False)\n",
              "          )\n",
              "        )\n",
              "        (6): ElectraLayer(\n",
              "          (attention): ElectraAttention(\n",
              "            (self): ElectraSelfAttention(\n",
              "              (query): Linear(in_features=768, out_features=768, bias=True)\n",
              "              (key): Linear(in_features=768, out_features=768, bias=True)\n",
              "              (value): Linear(in_features=768, out_features=768, bias=True)\n",
              "              (dropout): Dropout(p=0.1, inplace=False)\n",
              "            )\n",
              "            (output): ElectraSelfOutput(\n",
              "              (dense): Linear(in_features=768, out_features=768, bias=True)\n",
              "              (LayerNorm): LayerNorm((768,), eps=1e-12, elementwise_affine=True)\n",
              "              (dropout): Dropout(p=0.1, inplace=False)\n",
              "            )\n",
              "          )\n",
              "          (intermediate): ElectraIntermediate(\n",
              "            (dense): Linear(in_features=768, out_features=3072, bias=True)\n",
              "          )\n",
              "          (output): ElectraOutput(\n",
              "            (dense): Linear(in_features=3072, out_features=768, bias=True)\n",
              "            (LayerNorm): LayerNorm((768,), eps=1e-12, elementwise_affine=True)\n",
              "            (dropout): Dropout(p=0.1, inplace=False)\n",
              "          )\n",
              "        )\n",
              "        (7): ElectraLayer(\n",
              "          (attention): ElectraAttention(\n",
              "            (self): ElectraSelfAttention(\n",
              "              (query): Linear(in_features=768, out_features=768, bias=True)\n",
              "              (key): Linear(in_features=768, out_features=768, bias=True)\n",
              "              (value): Linear(in_features=768, out_features=768, bias=True)\n",
              "              (dropout): Dropout(p=0.1, inplace=False)\n",
              "            )\n",
              "            (output): ElectraSelfOutput(\n",
              "              (dense): Linear(in_features=768, out_features=768, bias=True)\n",
              "              (LayerNorm): LayerNorm((768,), eps=1e-12, elementwise_affine=True)\n",
              "              (dropout): Dropout(p=0.1, inplace=False)\n",
              "            )\n",
              "          )\n",
              "          (intermediate): ElectraIntermediate(\n",
              "            (dense): Linear(in_features=768, out_features=3072, bias=True)\n",
              "          )\n",
              "          (output): ElectraOutput(\n",
              "            (dense): Linear(in_features=3072, out_features=768, bias=True)\n",
              "            (LayerNorm): LayerNorm((768,), eps=1e-12, elementwise_affine=True)\n",
              "            (dropout): Dropout(p=0.1, inplace=False)\n",
              "          )\n",
              "        )\n",
              "        (8): ElectraLayer(\n",
              "          (attention): ElectraAttention(\n",
              "            (self): ElectraSelfAttention(\n",
              "              (query): Linear(in_features=768, out_features=768, bias=True)\n",
              "              (key): Linear(in_features=768, out_features=768, bias=True)\n",
              "              (value): Linear(in_features=768, out_features=768, bias=True)\n",
              "              (dropout): Dropout(p=0.1, inplace=False)\n",
              "            )\n",
              "            (output): ElectraSelfOutput(\n",
              "              (dense): Linear(in_features=768, out_features=768, bias=True)\n",
              "              (LayerNorm): LayerNorm((768,), eps=1e-12, elementwise_affine=True)\n",
              "              (dropout): Dropout(p=0.1, inplace=False)\n",
              "            )\n",
              "          )\n",
              "          (intermediate): ElectraIntermediate(\n",
              "            (dense): Linear(in_features=768, out_features=3072, bias=True)\n",
              "          )\n",
              "          (output): ElectraOutput(\n",
              "            (dense): Linear(in_features=3072, out_features=768, bias=True)\n",
              "            (LayerNorm): LayerNorm((768,), eps=1e-12, elementwise_affine=True)\n",
              "            (dropout): Dropout(p=0.1, inplace=False)\n",
              "          )\n",
              "        )\n",
              "        (9): ElectraLayer(\n",
              "          (attention): ElectraAttention(\n",
              "            (self): ElectraSelfAttention(\n",
              "              (query): Linear(in_features=768, out_features=768, bias=True)\n",
              "              (key): Linear(in_features=768, out_features=768, bias=True)\n",
              "              (value): Linear(in_features=768, out_features=768, bias=True)\n",
              "              (dropout): Dropout(p=0.1, inplace=False)\n",
              "            )\n",
              "            (output): ElectraSelfOutput(\n",
              "              (dense): Linear(in_features=768, out_features=768, bias=True)\n",
              "              (LayerNorm): LayerNorm((768,), eps=1e-12, elementwise_affine=True)\n",
              "              (dropout): Dropout(p=0.1, inplace=False)\n",
              "            )\n",
              "          )\n",
              "          (intermediate): ElectraIntermediate(\n",
              "            (dense): Linear(in_features=768, out_features=3072, bias=True)\n",
              "          )\n",
              "          (output): ElectraOutput(\n",
              "            (dense): Linear(in_features=3072, out_features=768, bias=True)\n",
              "            (LayerNorm): LayerNorm((768,), eps=1e-12, elementwise_affine=True)\n",
              "            (dropout): Dropout(p=0.1, inplace=False)\n",
              "          )\n",
              "        )\n",
              "        (10): ElectraLayer(\n",
              "          (attention): ElectraAttention(\n",
              "            (self): ElectraSelfAttention(\n",
              "              (query): Linear(in_features=768, out_features=768, bias=True)\n",
              "              (key): Linear(in_features=768, out_features=768, bias=True)\n",
              "              (value): Linear(in_features=768, out_features=768, bias=True)\n",
              "              (dropout): Dropout(p=0.1, inplace=False)\n",
              "            )\n",
              "            (output): ElectraSelfOutput(\n",
              "              (dense): Linear(in_features=768, out_features=768, bias=True)\n",
              "              (LayerNorm): LayerNorm((768,), eps=1e-12, elementwise_affine=True)\n",
              "              (dropout): Dropout(p=0.1, inplace=False)\n",
              "            )\n",
              "          )\n",
              "          (intermediate): ElectraIntermediate(\n",
              "            (dense): Linear(in_features=768, out_features=3072, bias=True)\n",
              "          )\n",
              "          (output): ElectraOutput(\n",
              "            (dense): Linear(in_features=3072, out_features=768, bias=True)\n",
              "            (LayerNorm): LayerNorm((768,), eps=1e-12, elementwise_affine=True)\n",
              "            (dropout): Dropout(p=0.1, inplace=False)\n",
              "          )\n",
              "        )\n",
              "        (11): ElectraLayer(\n",
              "          (attention): ElectraAttention(\n",
              "            (self): ElectraSelfAttention(\n",
              "              (query): Linear(in_features=768, out_features=768, bias=True)\n",
              "              (key): Linear(in_features=768, out_features=768, bias=True)\n",
              "              (value): Linear(in_features=768, out_features=768, bias=True)\n",
              "              (dropout): Dropout(p=0.1, inplace=False)\n",
              "            )\n",
              "            (output): ElectraSelfOutput(\n",
              "              (dense): Linear(in_features=768, out_features=768, bias=True)\n",
              "              (LayerNorm): LayerNorm((768,), eps=1e-12, elementwise_affine=True)\n",
              "              (dropout): Dropout(p=0.1, inplace=False)\n",
              "            )\n",
              "          )\n",
              "          (intermediate): ElectraIntermediate(\n",
              "            (dense): Linear(in_features=768, out_features=3072, bias=True)\n",
              "          )\n",
              "          (output): ElectraOutput(\n",
              "            (dense): Linear(in_features=3072, out_features=768, bias=True)\n",
              "            (LayerNorm): LayerNorm((768,), eps=1e-12, elementwise_affine=True)\n",
              "            (dropout): Dropout(p=0.1, inplace=False)\n",
              "          )\n",
              "        )\n",
              "      )\n",
              "    )\n",
              "  )\n",
              "  (classifier): ElectraClassificationHead(\n",
              "    (dense): Linear(in_features=768, out_features=768, bias=True)\n",
              "    (dropout): Dropout(p=0.1, inplace=False)\n",
              "    (out_proj): Linear(in_features=768, out_features=2, bias=True)\n",
              "  )\n",
              ")"
            ]
          },
          "metadata": {},
          "execution_count": 27
        }
      ]
    },
    {
      "cell_type": "code",
      "metadata": {
        "colab": {
          "base_uri": "https://localhost:8080/"
        },
        "id": "DkE5XKl4HtJ-",
        "outputId": "1b687432-fe6d-4095-fc3b-a94bd4d518d1"
      },
      "source": [
        "indices=tokenizer.batch_encode_plus(texts,\n",
        "                                    max_length=64,\n",
        "                                    add_special_tokens=True, \n",
        "                                    return_attention_mask=True,\n",
        "                                    pad_to_max_length=True,\n",
        "                                    truncation=True)"
      ],
      "execution_count": null,
      "outputs": [
        {
          "output_type": "stream",
          "name": "stderr",
          "text": [
            "/usr/local/lib/python3.7/dist-packages/transformers/tokenization_utils_base.py:2217: FutureWarning: The `pad_to_max_length` argument is deprecated and will be removed in a future version, use `padding=True` or `padding='longest'` to pad to the longest sequence in the batch, or use `padding='max_length'` to pad to a max length. In this case, you can give a specific length with `max_length` (e.g. `max_length=45`) or leave max_length to None to pad to the maximal input size of the model (e.g. 512 for Bert).\n",
            "  FutureWarning,\n"
          ]
        }
      ]
    },
    {
      "cell_type": "code",
      "metadata": {
        "id": "4gqr4lElH0Lp"
      },
      "source": [
        "input_ids=indices[\"input_ids\"]\n",
        "attention_masks=indices[\"attention_mask\"]"
      ],
      "execution_count": null,
      "outputs": []
    },
    {
      "cell_type": "code",
      "metadata": {
        "id": "IoY0I5P4H305"
      },
      "source": [
        "from sklearn.model_selection import train_test_split\n",
        "train_inputs, validation_inputs, train_labels, validation_labels = train_test_split(input_ids, labels, \n",
        "                                                            random_state=42, test_size=0.2)\n",
        "train_masks, validation_masks, _, _ = train_test_split(attention_masks, labels,\n",
        "                                             random_state=42, test_size=0.2)"
      ],
      "execution_count": null,
      "outputs": []
    },
    {
      "cell_type": "code",
      "metadata": {
        "id": "-yhNLUdEH9jm"
      },
      "source": [
        "train_inputs = torch.tensor(train_inputs)\n",
        "validation_inputs = torch.tensor(validation_inputs)\n",
        "train_labels = torch.tensor(train_labels, dtype=torch.long)\n",
        "validation_labels = torch.tensor(validation_labels, dtype=torch.long)\n",
        "train_masks = torch.tensor(train_masks, dtype=torch.long)\n",
        "validation_masks = torch.tensor(validation_masks, dtype=torch.long)"
      ],
      "execution_count": null,
      "outputs": []
    },
    {
      "cell_type": "code",
      "metadata": {
        "id": "OL-YpGtGIAqx"
      },
      "source": [
        "from torch.utils.data import TensorDataset, DataLoader, RandomSampler, SequentialSampler\n"
      ],
      "execution_count": null,
      "outputs": []
    },
    {
      "cell_type": "code",
      "metadata": {
        "id": "g4ynaj6ZIFOj"
      },
      "source": [
        "batch_size = my_mini_batch_size\n",
        "\n",
        "# Create the DataLoader for our training set.\n",
        "train_data = TensorDataset(train_inputs, train_masks, train_labels)\n",
        "train_sampler = RandomSampler(train_data)\n",
        "train_dataloader = DataLoader(train_data, sampler=train_sampler, batch_size=batch_size)\n",
        "\n",
        "# Create the DataLoader for our validation set.\n",
        "validation_data = TensorDataset(validation_inputs, validation_masks, validation_labels)\n",
        "validation_sampler = SequentialSampler(validation_data)\n",
        "validation_dataloader = DataLoader(validation_data, sampler=validation_sampler, batch_size=batch_size)"
      ],
      "execution_count": null,
      "outputs": []
    },
    {
      "cell_type": "code",
      "metadata": {
        "id": "RmyQQzTJIIza"
      },
      "source": [
        "optimizer = AdamW(model.parameters(),\n",
        "                  lr = my_learning_rate, #args.learning_rate\n",
        "                  eps = my_adam_epsilon  #args.adam_epsilon\n",
        "                )\n"
      ],
      "execution_count": null,
      "outputs": []
    },
    {
      "cell_type": "code",
      "metadata": {
        "id": "5ANTtAg9IPsd"
      },
      "source": [
        "epochs = my_number_of_epochs\n",
        "\n",
        "# Total number of training steps is number of batches * number of epochs.\n",
        "total_steps = len(train_dataloader) * epochs\n",
        "\n",
        "# Create the learning rate scheduler.\n",
        "scheduler = get_linear_schedule_with_warmup(optimizer,\n",
        "                                            num_warmup_steps = my_warmup, \n",
        "                                            num_training_steps = total_steps)"
      ],
      "execution_count": null,
      "outputs": []
    },
    {
      "cell_type": "code",
      "metadata": {
        "id": "Zul8HmXjITq0"
      },
      "source": [
        "def flat_accuracy(preds, labels):\n",
        "    pred_flat = np.argmax(preds, axis=1).flatten()\n",
        "    labels_flat = labels.flatten()\n",
        "    return np.sum(pred_flat == labels_flat) / len(labels_flat)"
      ],
      "execution_count": null,
      "outputs": []
    },
    {
      "cell_type": "code",
      "metadata": {
        "id": "2Ec3NGM1Ij97"
      },
      "source": [
        "import time\n",
        "import datetime\n",
        "\n",
        "def format_time(elapsed):\n",
        "    '''\n",
        "    Takes a time in seconds and returns a string hh:mm:ss\n",
        "    '''\n",
        "    # Round to the nearest second.\n",
        "    elapsed_rounded = int(round((elapsed)))\n",
        "    \n",
        "    # Format as hh:mm:ss\n",
        "    return str(datetime.timedelta(seconds=elapsed_rounded))"
      ],
      "execution_count": null,
      "outputs": []
    },
    {
      "cell_type": "code",
      "metadata": {
        "id": "BdmNi-rUIoia"
      },
      "source": [
        "import random\n",
        "\n",
        "# Base on GLUE from huggingface, this is classification problem best suit our problem, here, look at the\n",
        "# example Python code from hungingface gtihub, here is the here training loop\n",
        "\n",
        "# This training code is based on the `run_glue.py` script here:\n",
        "# https://github.com/huggingface/transformers/blob/5bfcd0485ece086ebcbed2d008813037968a9e58/examples/run_glue.py#L128\n",
        "\n",
        "# Set the seed value all over the place to make this reproducible.\n",
        "seed_val = 42\n",
        "\n",
        "random.seed(seed_val)\n",
        "np.random.seed(seed_val)\n",
        "torch.manual_seed(seed_val)\n",
        "torch.cuda.manual_seed_all(seed_val)\n"
      ],
      "execution_count": null,
      "outputs": []
    },
    {
      "cell_type": "code",
      "metadata": {
        "colab": {
          "base_uri": "https://localhost:8080/"
        },
        "id": "CXvenPtJIyBw",
        "outputId": "594da65a-1566-4d0d-d0f1-4eca8b296ad0"
      },
      "source": [
        "loss_values = []\n",
        "train_acc = []\n",
        "# For each epoch...\n",
        "for epoch_i in range(0, epochs):\n",
        "    print(\"\")\n",
        "    print('======== Epoch {:} / {:} ========'.format(epoch_i + 1, epochs))\n",
        "    print('Training...')\n",
        "\n",
        "    # Measure how long the training epoch takes.\n",
        "    t0 = time.time()\n",
        "\n",
        "    # Reset the total loss for this epoch.\n",
        "    total_loss = 0\n",
        "\n",
        "    model.train()\n",
        "\n",
        "    #correct_prediction= 0\n",
        "    history = defaultdict(list)\n",
        "    for step, batch in enumerate(train_dataloader):\n",
        "\n",
        "        # Progress update every 100 batches.\n",
        "        if step % 50 == 0 and not step == 0:\n",
        "            # Calculate elapsed time in minutes.\n",
        "            elapsed = format_time(time.time() - t0)\n",
        "            print('  Batch {:>5,}  of  {:>5,}.    Elapsed: {:}.'.format(step, len(train_dataloader), elapsed))\n",
        "\n",
        "        # `batch` contains three pytorch tensors: [0]: input ids ,[1]: attention masks,[2]: labels \n",
        "        b_input_ids = batch[0].to(device)\n",
        "        b_input_mask = batch[1].to(device)\n",
        "        b_labels = batch[2].to(device)\n",
        "\n",
        "        # Clear any previously calculated gradients.\n",
        "        # (source: https://stackoverflow.com/questions/48001598/why-do-we-need-to-call-zero-grad-in-pytorch)\n",
        "        model.zero_grad()        \n",
        "\n",
        "        # Evaluate the model on this training batch.\n",
        "        outputs = model(b_input_ids, \n",
        "                    token_type_ids=None, \n",
        "                    attention_mask=b_input_mask, \n",
        "                    labels=b_labels)\n",
        "        loss = outputs[0]\n",
        "        #logits = outputs[1]\n",
        "        #_, preds = torch.max(outputs, dim=1)\n",
        "        # Accumulate the training loss over all of the batches \n",
        "        total_loss += loss.item()\n",
        "        #correct_predictions += torch.sum(preds == b_labels)\n",
        "        loss.backward()\n",
        "        # Clip the norm of the gradients to 1.0. to prevent the \"exploding gradients\" problem.\n",
        "        torch.nn.utils.clip_grad_norm_(model.parameters(), 1.0)\n",
        "        optimizer.step()\n",
        "\n",
        "        # Update the learning rate.\n",
        "        scheduler.step()\n",
        "        logits = outputs.logits\n",
        "        #logits = F.softmax(logits, dim= -1)\n",
        "        #logits= torch.nn.Softmax(logits)\n",
        "        logits = logits.detach().cpu().numpy()\n",
        "        num_correct = (torch.max(outputs[1], 1)[1] == b_labels.data).float().sum()\n",
        "        acc = (100 * num_correct )/ 32\n",
        "        train_acc.append(acc.item())\n",
        "        #avg_train_acc =sum(train_acc)/len(train_acc)\n",
        "        #labels = b_labels.to('cpu').numpy()\n",
        "        #tmp_train_accuracy = flat_accuracy(logits, labels)\n",
        "        #train_acc += tmp_train_accuracy\n",
        "        #conf_mat = confusion_matrix(logits, labels)\n",
        "        #acc = np.sum(conf_mat.diagonal()) / np.sum(conf_mat)\n",
        "        #print('Train accuracy: {} %'.format(acc*100))\n",
        "    # Calculate the average loss over the training data.\n",
        "\n",
        "    avg_train_loss = total_loss / len(train_dataloader)   \n",
        "             \n",
        "    # train_acc= correct_predictions.double() / len(train_dataloader)\n",
        "\n",
        "    history['train_loss'].append(loss.item())\n",
        "    history['train_acc'].append(acc.item())\n",
        "    # Store the loss value for plotting the learning curve.\n",
        "    #loss_values.append(avg_train_loss)\n",
        "    \n",
        "    print(\"\")\n",
        "    print(\"Training accuracy: {}\".format(train_acc))\n",
        "    print(\"  Average training loss:{0:.2f}\".format(avg_train_loss))\n",
        "    print(\"  Training epoch took: {:}\".format(format_time(time.time() - t0)))\n",
        "\n",
        "   \n",
        "#    plt.ylim([0, 1]);\n",
        "      \n",
        "print(\"\")\n",
        "print(\"Training complete!\")"
      ],
      "execution_count": null,
      "outputs": [
        {
          "output_type": "stream",
          "name": "stdout",
          "text": [
            "\n",
            "======== Epoch 1 / 5 ========\n",
            "Training...\n",
            "  Batch    50  of  1,285.    Elapsed: 0:00:10.\n",
            "  Batch   100  of  1,285.    Elapsed: 0:00:21.\n",
            "  Batch   150  of  1,285.    Elapsed: 0:00:31.\n",
            "  Batch   200  of  1,285.    Elapsed: 0:00:41.\n",
            "  Batch   250  of  1,285.    Elapsed: 0:00:52.\n",
            "  Batch   300  of  1,285.    Elapsed: 0:01:02.\n",
            "  Batch   350  of  1,285.    Elapsed: 0:01:12.\n",
            "  Batch   400  of  1,285.    Elapsed: 0:01:23.\n",
            "  Batch   450  of  1,285.    Elapsed: 0:01:33.\n",
            "  Batch   500  of  1,285.    Elapsed: 0:01:43.\n",
            "  Batch   550  of  1,285.    Elapsed: 0:01:54.\n",
            "  Batch   600  of  1,285.    Elapsed: 0:02:04.\n",
            "  Batch   650  of  1,285.    Elapsed: 0:02:14.\n",
            "  Batch   700  of  1,285.    Elapsed: 0:02:24.\n",
            "  Batch   750  of  1,285.    Elapsed: 0:02:35.\n",
            "  Batch   800  of  1,285.    Elapsed: 0:02:45.\n",
            "  Batch   850  of  1,285.    Elapsed: 0:02:55.\n",
            "  Batch   900  of  1,285.    Elapsed: 0:03:06.\n",
            "  Batch   950  of  1,285.    Elapsed: 0:03:16.\n",
            "  Batch 1,000  of  1,285.    Elapsed: 0:03:26.\n",
            "  Batch 1,050  of  1,285.    Elapsed: 0:03:37.\n",
            "  Batch 1,100  of  1,285.    Elapsed: 0:03:47.\n",
            "  Batch 1,150  of  1,285.    Elapsed: 0:03:57.\n",
            "  Batch 1,200  of  1,285.    Elapsed: 0:04:07.\n",
            "  Batch 1,250  of  1,285.    Elapsed: 0:04:18.\n",
            "\n",
            "Training accuracy: [34.375, 37.5, 31.25, 68.75, 78.125, 81.25, 84.375, 84.375, 84.375, 87.5, 81.25, 84.375, 71.875, 75.0, 78.125, 75.0, 75.0, 87.5, 75.0, 90.625, 53.125, 81.25, 68.75, 75.0, 75.0, 68.75, 81.25, 75.0, 71.875, 90.625, 75.0, 81.25, 81.25, 75.0, 62.5, 84.375, 75.0, 75.0, 68.75, 71.875, 78.125, 84.375, 62.5, 84.375, 84.375, 78.125, 68.75, 81.25, 71.875, 84.375, 90.625, 87.5, 81.25, 84.375, 81.25, 84.375, 75.0, 81.25, 84.375, 81.25, 81.25, 75.0, 78.125, 68.75, 81.25, 75.0, 78.125, 84.375, 65.625, 81.25, 62.5, 75.0, 71.875, 68.75, 71.875, 87.5, 90.625, 87.5, 75.0, 81.25, 75.0, 84.375, 78.125, 84.375, 62.5, 84.375, 78.125, 75.0, 78.125, 78.125, 87.5, 90.625, 84.375, 87.5, 78.125, 87.5, 81.25, 87.5, 84.375, 75.0, 84.375, 87.5, 84.375, 87.5, 84.375, 81.25, 78.125, 87.5, 90.625, 93.75, 90.625, 71.875, 90.625, 78.125, 84.375, 71.875, 87.5, 87.5, 81.25, 78.125, 75.0, 90.625, 96.875, 78.125, 84.375, 68.75, 87.5, 87.5, 81.25, 78.125, 68.75, 90.625, 90.625, 90.625, 78.125, 84.375, 87.5, 75.0, 87.5, 87.5, 90.625, 71.875, 75.0, 75.0, 71.875, 90.625, 84.375, 90.625, 81.25, 90.625, 84.375, 81.25, 81.25, 84.375, 87.5, 81.25, 90.625, 81.25, 96.875, 87.5, 71.875, 90.625, 87.5, 90.625, 84.375, 78.125, 81.25, 87.5, 90.625, 81.25, 87.5, 90.625, 81.25, 81.25, 84.375, 75.0, 93.75, 100.0, 81.25, 90.625, 100.0, 90.625, 78.125, 81.25, 87.5, 90.625, 81.25, 84.375, 93.75, 71.875, 90.625, 90.625, 75.0, 65.625, 81.25, 81.25, 78.125, 81.25, 81.25, 90.625, 78.125, 87.5, 93.75, 87.5, 75.0, 90.625, 84.375, 78.125, 87.5, 81.25, 90.625, 87.5, 87.5, 90.625, 93.75, 78.125, 84.375, 93.75, 75.0, 81.25, 81.25, 90.625, 84.375, 81.25, 87.5, 78.125, 84.375, 90.625, 75.0, 96.875, 84.375, 90.625, 81.25, 87.5, 87.5, 84.375, 93.75, 87.5, 93.75, 75.0, 87.5, 78.125, 81.25, 78.125, 71.875, 87.5, 81.25, 87.5, 87.5, 81.25, 84.375, 93.75, 81.25, 87.5, 93.75, 90.625, 84.375, 96.875, 75.0, 84.375, 84.375, 78.125, 75.0, 62.5, 78.125, 75.0, 87.5, 84.375, 81.25, 84.375, 75.0, 78.125, 81.25, 75.0, 87.5, 78.125, 87.5, 81.25, 90.625, 100.0, 84.375, 87.5, 84.375, 87.5, 75.0, 90.625, 87.5, 90.625, 90.625, 90.625, 81.25, 93.75, 84.375, 78.125, 84.375, 78.125, 96.875, 87.5, 81.25, 90.625, 84.375, 81.25, 84.375, 87.5, 93.75, 87.5, 87.5, 84.375, 81.25, 93.75, 75.0, 84.375, 81.25, 87.5, 87.5, 84.375, 84.375, 90.625, 87.5, 90.625, 96.875, 96.875, 87.5, 96.875, 84.375, 87.5, 93.75, 75.0, 96.875, 90.625, 87.5, 90.625, 87.5, 75.0, 87.5, 87.5, 90.625, 93.75, 84.375, 93.75, 78.125, 90.625, 84.375, 90.625, 90.625, 100.0, 78.125, 75.0, 90.625, 87.5, 87.5, 100.0, 78.125, 96.875, 90.625, 81.25, 84.375, 93.75, 87.5, 78.125, 90.625, 87.5, 84.375, 84.375, 90.625, 90.625, 84.375, 96.875, 87.5, 78.125, 87.5, 84.375, 75.0, 75.0, 84.375, 96.875, 84.375, 93.75, 81.25, 78.125, 87.5, 71.875, 75.0, 81.25, 84.375, 90.625, 78.125, 75.0, 90.625, 96.875, 93.75, 90.625, 87.5, 84.375, 81.25, 84.375, 90.625, 93.75, 87.5, 78.125, 93.75, 90.625, 75.0, 87.5, 90.625, 81.25, 84.375, 93.75, 93.75, 87.5, 93.75, 90.625, 75.0, 81.25, 90.625, 84.375, 71.875, 93.75, 87.5, 78.125, 81.25, 90.625, 93.75, 87.5, 81.25, 93.75, 81.25, 81.25, 87.5, 93.75, 100.0, 96.875, 93.75, 84.375, 90.625, 93.75, 90.625, 84.375, 81.25, 100.0, 84.375, 90.625, 90.625, 90.625, 90.625, 84.375, 93.75, 93.75, 84.375, 90.625, 78.125, 96.875, 93.75, 87.5, 90.625, 75.0, 84.375, 93.75, 87.5, 87.5, 96.875, 90.625, 81.25, 87.5, 93.75, 68.75, 87.5, 81.25, 84.375, 78.125, 81.25, 87.5, 81.25, 90.625, 87.5, 90.625, 90.625, 87.5, 87.5, 90.625, 68.75, 81.25, 81.25, 90.625, 96.875, 90.625, 87.5, 84.375, 84.375, 84.375, 81.25, 84.375, 75.0, 90.625, 87.5, 75.0, 81.25, 81.25, 68.75, 78.125, 78.125, 87.5, 87.5, 84.375, 78.125, 90.625, 93.75, 81.25, 81.25, 78.125, 90.625, 75.0, 84.375, 81.25, 84.375, 81.25, 90.625, 93.75, 78.125, 87.5, 87.5, 84.375, 93.75, 96.875, 75.0, 84.375, 84.375, 81.25, 78.125, 81.25, 81.25, 93.75, 96.875, 84.375, 78.125, 81.25, 84.375, 90.625, 90.625, 84.375, 87.5, 93.75, 90.625, 90.625, 100.0, 90.625, 90.625, 87.5, 87.5, 96.875, 87.5, 93.75, 87.5, 87.5, 84.375, 87.5, 96.875, 87.5, 93.75, 90.625, 90.625, 78.125, 90.625, 81.25, 87.5, 96.875, 84.375, 84.375, 84.375, 93.75, 87.5, 90.625, 93.75, 84.375, 78.125, 84.375, 81.25, 87.5, 81.25, 78.125, 84.375, 90.625, 78.125, 75.0, 90.625, 87.5, 84.375, 96.875, 90.625, 84.375, 87.5, 84.375, 90.625, 87.5, 90.625, 81.25, 93.75, 90.625, 90.625, 75.0, 81.25, 93.75, 93.75, 87.5, 75.0, 87.5, 90.625, 100.0, 87.5, 84.375, 93.75, 87.5, 90.625, 96.875, 75.0, 87.5, 87.5, 93.75, 90.625, 78.125, 90.625, 75.0, 87.5, 90.625, 87.5, 90.625, 90.625, 90.625, 81.25, 71.875, 75.0, 93.75, 78.125, 81.25, 75.0, 87.5, 84.375, 78.125, 87.5, 93.75, 87.5, 93.75, 90.625, 90.625, 93.75, 87.5, 93.75, 90.625, 84.375, 90.625, 81.25, 84.375, 81.25, 90.625, 90.625, 87.5, 93.75, 90.625, 78.125, 87.5, 84.375, 87.5, 93.75, 87.5, 84.375, 84.375, 93.75, 93.75, 93.75, 87.5, 87.5, 84.375, 93.75, 90.625, 93.75, 87.5, 84.375, 81.25, 93.75, 81.25, 75.0, 87.5, 100.0, 90.625, 93.75, 93.75, 90.625, 87.5, 90.625, 84.375, 81.25, 90.625, 81.25, 84.375, 81.25, 81.25, 84.375, 84.375, 81.25, 93.75, 87.5, 78.125, 87.5, 96.875, 93.75, 90.625, 93.75, 78.125, 93.75, 81.25, 84.375, 87.5, 84.375, 78.125, 81.25, 90.625, 87.5, 81.25, 84.375, 87.5, 84.375, 78.125, 87.5, 84.375, 93.75, 93.75, 84.375, 96.875, 96.875, 96.875, 84.375, 81.25, 81.25, 87.5, 90.625, 75.0, 93.75, 78.125, 81.25, 81.25, 87.5, 90.625, 84.375, 93.75, 96.875, 90.625, 81.25, 90.625, 84.375, 93.75, 75.0, 93.75, 84.375, 96.875, 93.75, 90.625, 93.75, 90.625, 96.875, 87.5, 93.75, 81.25, 68.75, 87.5, 96.875, 96.875, 93.75, 81.25, 93.75, 84.375, 87.5, 96.875, 96.875, 78.125, 84.375, 93.75, 81.25, 87.5, 87.5, 81.25, 93.75, 93.75, 100.0, 100.0, 96.875, 84.375, 90.625, 96.875, 87.5, 93.75, 93.75, 90.625, 84.375, 96.875, 90.625, 84.375, 84.375, 90.625, 87.5, 93.75, 81.25, 87.5, 93.75, 81.25, 81.25, 96.875, 90.625, 84.375, 90.625, 75.0, 93.75, 93.75, 96.875, 93.75, 84.375, 81.25, 96.875, 90.625, 96.875, 87.5, 93.75, 93.75, 93.75, 87.5, 96.875, 81.25, 93.75, 87.5, 84.375, 84.375, 93.75, 81.25, 93.75, 93.75, 90.625, 84.375, 87.5, 87.5, 84.375, 84.375, 84.375, 96.875, 87.5, 93.75, 90.625, 96.875, 84.375, 84.375, 90.625, 84.375, 90.625, 87.5, 93.75, 87.5, 84.375, 87.5, 84.375, 78.125, 100.0, 90.625, 84.375, 87.5, 93.75, 93.75, 96.875, 90.625, 90.625, 87.5, 93.75, 90.625, 90.625, 87.5, 93.75, 93.75, 90.625, 90.625, 78.125, 81.25, 90.625, 81.25, 87.5, 87.5, 96.875, 87.5, 84.375, 93.75, 93.75, 90.625, 93.75, 81.25, 87.5, 87.5, 90.625, 93.75, 87.5, 81.25, 93.75, 81.25, 90.625, 87.5, 84.375, 78.125, 87.5, 84.375, 90.625, 90.625, 87.5, 87.5, 90.625, 90.625, 84.375, 87.5, 93.75, 90.625, 81.25, 90.625, 87.5, 93.75, 87.5, 75.0, 90.625, 75.0, 87.5, 84.375, 81.25, 81.25, 84.375, 84.375, 90.625, 84.375, 96.875, 84.375, 100.0, 84.375, 87.5, 93.75, 84.375, 96.875, 84.375, 96.875, 87.5, 87.5, 87.5, 90.625, 93.75, 84.375, 93.75, 81.25, 90.625, 90.625, 93.75, 84.375, 87.5, 87.5, 93.75, 87.5, 90.625, 90.625, 96.875, 87.5, 90.625, 93.75, 93.75, 87.5, 87.5, 96.875, 93.75, 75.0, 87.5, 90.625, 81.25, 84.375, 75.0, 87.5, 81.25, 75.0, 87.5, 87.5, 81.25, 87.5, 90.625, 93.75, 87.5, 87.5, 84.375, 87.5, 78.125, 84.375, 87.5, 90.625, 90.625, 87.5, 93.75, 81.25, 90.625, 93.75, 84.375, 93.75, 90.625, 78.125, 84.375, 93.75, 93.75, 93.75, 84.375, 93.75, 96.875, 81.25, 84.375, 93.75, 93.75, 87.5, 84.375, 87.5, 84.375, 84.375, 93.75, 90.625, 84.375, 87.5, 87.5, 96.875, 87.5, 93.75, 81.25, 90.625, 84.375, 93.75, 93.75, 84.375, 81.25, 84.375, 84.375, 81.25, 96.875, 84.375, 87.5, 90.625, 90.625, 90.625, 81.25, 78.125, 96.875, 81.25, 84.375, 87.5, 90.625, 90.625, 78.125, 93.75, 87.5, 87.5, 90.625, 96.875, 84.375, 87.5, 96.875, 87.5, 90.625, 90.625, 90.625, 93.75, 93.75, 96.875, 81.25, 81.25, 81.25, 96.875, 87.5, 90.625, 87.5, 90.625, 90.625, 93.75, 96.875, 87.5, 90.625, 93.75, 87.5, 93.75, 84.375, 90.625, 87.5, 84.375, 87.5, 90.625, 87.5, 87.5, 90.625, 96.875, 87.5, 84.375, 90.625, 87.5, 81.25, 81.25, 84.375, 87.5, 90.625, 87.5, 93.75, 90.625, 90.625, 87.5, 84.375, 96.875, 87.5, 87.5, 100.0, 90.625, 96.875, 87.5, 96.875, 81.25, 90.625, 93.75, 87.5, 100.0, 87.5, 93.75, 87.5, 87.5, 90.625, 90.625, 84.375, 87.5, 93.75, 81.25, 84.375, 90.625, 93.75, 87.5, 90.625, 87.5, 84.375, 90.625, 90.625, 84.375, 87.5, 90.625, 90.625, 93.75, 84.375, 93.75, 78.125, 87.5, 90.625, 87.5, 87.5, 78.125, 93.75, 90.625, 87.5, 75.0, 90.625, 93.75, 87.5, 90.625, 84.375, 96.875, 90.625, 90.625, 96.875, 81.25, 84.375, 96.875, 87.5, 90.625, 87.5, 90.625, 84.375, 93.75, 96.875, 93.75, 96.875, 87.5, 87.5, 90.625, 87.5, 90.625, 87.5, 87.5, 100.0, 87.5, 96.875, 93.75, 78.125, 81.25, 84.375, 93.75, 90.625, 84.375, 68.75, 93.75, 90.625, 90.625, 87.5, 90.625, 84.375, 84.375, 96.875, 96.875, 87.5, 84.375, 90.625, 90.625, 87.5, 87.5, 87.5, 96.875, 84.375, 81.25, 84.375, 84.375, 84.375, 90.625, 90.625, 84.375, 81.25, 90.625, 93.75, 87.5, 84.375, 78.125, 87.5, 90.625, 84.375, 93.75, 81.25, 84.375, 90.625, 87.5, 84.375, 81.25, 87.5, 87.5, 78.125, 87.5, 87.5, 87.5, 96.875, 75.0, 87.5, 96.875, 90.625, 81.25, 87.5, 96.875, 87.5, 90.625, 87.5, 84.375, 96.875, 84.375, 81.25, 81.25, 90.625, 87.5, 81.25, 87.5, 84.375, 90.625, 93.75, 90.625, 96.875, 84.375, 87.5, 78.125, 90.625, 90.625, 90.625, 90.625, 81.25, 96.875, 90.625, 81.25, 84.375, 84.375, 87.5, 84.375, 90.625, 87.5, 90.625, 93.75, 53.125]\n",
            "  Average training loss:0.31\n",
            "  Training epoch took: 0:04:25\n",
            "\n",
            "======== Epoch 2 / 5 ========\n",
            "Training...\n",
            "  Batch    50  of  1,285.    Elapsed: 0:00:10.\n",
            "  Batch   100  of  1,285.    Elapsed: 0:00:21.\n",
            "  Batch   150  of  1,285.    Elapsed: 0:00:31.\n",
            "  Batch   200  of  1,285.    Elapsed: 0:00:41.\n",
            "  Batch   250  of  1,285.    Elapsed: 0:00:52.\n",
            "  Batch   300  of  1,285.    Elapsed: 0:01:02.\n",
            "  Batch   350  of  1,285.    Elapsed: 0:01:12.\n",
            "  Batch   400  of  1,285.    Elapsed: 0:01:22.\n",
            "  Batch   450  of  1,285.    Elapsed: 0:01:33.\n",
            "  Batch   500  of  1,285.    Elapsed: 0:01:43.\n",
            "  Batch   550  of  1,285.    Elapsed: 0:01:53.\n",
            "  Batch   600  of  1,285.    Elapsed: 0:02:04.\n",
            "  Batch   650  of  1,285.    Elapsed: 0:02:14.\n",
            "  Batch   700  of  1,285.    Elapsed: 0:02:24.\n",
            "  Batch   750  of  1,285.    Elapsed: 0:02:35.\n",
            "  Batch   800  of  1,285.    Elapsed: 0:02:45.\n",
            "  Batch   850  of  1,285.    Elapsed: 0:02:55.\n",
            "  Batch   900  of  1,285.    Elapsed: 0:03:05.\n",
            "  Batch   950  of  1,285.    Elapsed: 0:03:16.\n",
            "  Batch 1,000  of  1,285.    Elapsed: 0:03:26.\n",
            "  Batch 1,050  of  1,285.    Elapsed: 0:03:36.\n",
            "  Batch 1,100  of  1,285.    Elapsed: 0:03:47.\n",
            "  Batch 1,150  of  1,285.    Elapsed: 0:03:57.\n",
            "  Batch 1,200  of  1,285.    Elapsed: 0:04:07.\n",
            "  Batch 1,250  of  1,285.    Elapsed: 0:04:18.\n",
            "\n",
            "Training accuracy: [34.375, 37.5, 31.25, 68.75, 78.125, 81.25, 84.375, 84.375, 84.375, 87.5, 81.25, 84.375, 71.875, 75.0, 78.125, 75.0, 75.0, 87.5, 75.0, 90.625, 53.125, 81.25, 68.75, 75.0, 75.0, 68.75, 81.25, 75.0, 71.875, 90.625, 75.0, 81.25, 81.25, 75.0, 62.5, 84.375, 75.0, 75.0, 68.75, 71.875, 78.125, 84.375, 62.5, 84.375, 84.375, 78.125, 68.75, 81.25, 71.875, 84.375, 90.625, 87.5, 81.25, 84.375, 81.25, 84.375, 75.0, 81.25, 84.375, 81.25, 81.25, 75.0, 78.125, 68.75, 81.25, 75.0, 78.125, 84.375, 65.625, 81.25, 62.5, 75.0, 71.875, 68.75, 71.875, 87.5, 90.625, 87.5, 75.0, 81.25, 75.0, 84.375, 78.125, 84.375, 62.5, 84.375, 78.125, 75.0, 78.125, 78.125, 87.5, 90.625, 84.375, 87.5, 78.125, 87.5, 81.25, 87.5, 84.375, 75.0, 84.375, 87.5, 84.375, 87.5, 84.375, 81.25, 78.125, 87.5, 90.625, 93.75, 90.625, 71.875, 90.625, 78.125, 84.375, 71.875, 87.5, 87.5, 81.25, 78.125, 75.0, 90.625, 96.875, 78.125, 84.375, 68.75, 87.5, 87.5, 81.25, 78.125, 68.75, 90.625, 90.625, 90.625, 78.125, 84.375, 87.5, 75.0, 87.5, 87.5, 90.625, 71.875, 75.0, 75.0, 71.875, 90.625, 84.375, 90.625, 81.25, 90.625, 84.375, 81.25, 81.25, 84.375, 87.5, 81.25, 90.625, 81.25, 96.875, 87.5, 71.875, 90.625, 87.5, 90.625, 84.375, 78.125, 81.25, 87.5, 90.625, 81.25, 87.5, 90.625, 81.25, 81.25, 84.375, 75.0, 93.75, 100.0, 81.25, 90.625, 100.0, 90.625, 78.125, 81.25, 87.5, 90.625, 81.25, 84.375, 93.75, 71.875, 90.625, 90.625, 75.0, 65.625, 81.25, 81.25, 78.125, 81.25, 81.25, 90.625, 78.125, 87.5, 93.75, 87.5, 75.0, 90.625, 84.375, 78.125, 87.5, 81.25, 90.625, 87.5, 87.5, 90.625, 93.75, 78.125, 84.375, 93.75, 75.0, 81.25, 81.25, 90.625, 84.375, 81.25, 87.5, 78.125, 84.375, 90.625, 75.0, 96.875, 84.375, 90.625, 81.25, 87.5, 87.5, 84.375, 93.75, 87.5, 93.75, 75.0, 87.5, 78.125, 81.25, 78.125, 71.875, 87.5, 81.25, 87.5, 87.5, 81.25, 84.375, 93.75, 81.25, 87.5, 93.75, 90.625, 84.375, 96.875, 75.0, 84.375, 84.375, 78.125, 75.0, 62.5, 78.125, 75.0, 87.5, 84.375, 81.25, 84.375, 75.0, 78.125, 81.25, 75.0, 87.5, 78.125, 87.5, 81.25, 90.625, 100.0, 84.375, 87.5, 84.375, 87.5, 75.0, 90.625, 87.5, 90.625, 90.625, 90.625, 81.25, 93.75, 84.375, 78.125, 84.375, 78.125, 96.875, 87.5, 81.25, 90.625, 84.375, 81.25, 84.375, 87.5, 93.75, 87.5, 87.5, 84.375, 81.25, 93.75, 75.0, 84.375, 81.25, 87.5, 87.5, 84.375, 84.375, 90.625, 87.5, 90.625, 96.875, 96.875, 87.5, 96.875, 84.375, 87.5, 93.75, 75.0, 96.875, 90.625, 87.5, 90.625, 87.5, 75.0, 87.5, 87.5, 90.625, 93.75, 84.375, 93.75, 78.125, 90.625, 84.375, 90.625, 90.625, 100.0, 78.125, 75.0, 90.625, 87.5, 87.5, 100.0, 78.125, 96.875, 90.625, 81.25, 84.375, 93.75, 87.5, 78.125, 90.625, 87.5, 84.375, 84.375, 90.625, 90.625, 84.375, 96.875, 87.5, 78.125, 87.5, 84.375, 75.0, 75.0, 84.375, 96.875, 84.375, 93.75, 81.25, 78.125, 87.5, 71.875, 75.0, 81.25, 84.375, 90.625, 78.125, 75.0, 90.625, 96.875, 93.75, 90.625, 87.5, 84.375, 81.25, 84.375, 90.625, 93.75, 87.5, 78.125, 93.75, 90.625, 75.0, 87.5, 90.625, 81.25, 84.375, 93.75, 93.75, 87.5, 93.75, 90.625, 75.0, 81.25, 90.625, 84.375, 71.875, 93.75, 87.5, 78.125, 81.25, 90.625, 93.75, 87.5, 81.25, 93.75, 81.25, 81.25, 87.5, 93.75, 100.0, 96.875, 93.75, 84.375, 90.625, 93.75, 90.625, 84.375, 81.25, 100.0, 84.375, 90.625, 90.625, 90.625, 90.625, 84.375, 93.75, 93.75, 84.375, 90.625, 78.125, 96.875, 93.75, 87.5, 90.625, 75.0, 84.375, 93.75, 87.5, 87.5, 96.875, 90.625, 81.25, 87.5, 93.75, 68.75, 87.5, 81.25, 84.375, 78.125, 81.25, 87.5, 81.25, 90.625, 87.5, 90.625, 90.625, 87.5, 87.5, 90.625, 68.75, 81.25, 81.25, 90.625, 96.875, 90.625, 87.5, 84.375, 84.375, 84.375, 81.25, 84.375, 75.0, 90.625, 87.5, 75.0, 81.25, 81.25, 68.75, 78.125, 78.125, 87.5, 87.5, 84.375, 78.125, 90.625, 93.75, 81.25, 81.25, 78.125, 90.625, 75.0, 84.375, 81.25, 84.375, 81.25, 90.625, 93.75, 78.125, 87.5, 87.5, 84.375, 93.75, 96.875, 75.0, 84.375, 84.375, 81.25, 78.125, 81.25, 81.25, 93.75, 96.875, 84.375, 78.125, 81.25, 84.375, 90.625, 90.625, 84.375, 87.5, 93.75, 90.625, 90.625, 100.0, 90.625, 90.625, 87.5, 87.5, 96.875, 87.5, 93.75, 87.5, 87.5, 84.375, 87.5, 96.875, 87.5, 93.75, 90.625, 90.625, 78.125, 90.625, 81.25, 87.5, 96.875, 84.375, 84.375, 84.375, 93.75, 87.5, 90.625, 93.75, 84.375, 78.125, 84.375, 81.25, 87.5, 81.25, 78.125, 84.375, 90.625, 78.125, 75.0, 90.625, 87.5, 84.375, 96.875, 90.625, 84.375, 87.5, 84.375, 90.625, 87.5, 90.625, 81.25, 93.75, 90.625, 90.625, 75.0, 81.25, 93.75, 93.75, 87.5, 75.0, 87.5, 90.625, 100.0, 87.5, 84.375, 93.75, 87.5, 90.625, 96.875, 75.0, 87.5, 87.5, 93.75, 90.625, 78.125, 90.625, 75.0, 87.5, 90.625, 87.5, 90.625, 90.625, 90.625, 81.25, 71.875, 75.0, 93.75, 78.125, 81.25, 75.0, 87.5, 84.375, 78.125, 87.5, 93.75, 87.5, 93.75, 90.625, 90.625, 93.75, 87.5, 93.75, 90.625, 84.375, 90.625, 81.25, 84.375, 81.25, 90.625, 90.625, 87.5, 93.75, 90.625, 78.125, 87.5, 84.375, 87.5, 93.75, 87.5, 84.375, 84.375, 93.75, 93.75, 93.75, 87.5, 87.5, 84.375, 93.75, 90.625, 93.75, 87.5, 84.375, 81.25, 93.75, 81.25, 75.0, 87.5, 100.0, 90.625, 93.75, 93.75, 90.625, 87.5, 90.625, 84.375, 81.25, 90.625, 81.25, 84.375, 81.25, 81.25, 84.375, 84.375, 81.25, 93.75, 87.5, 78.125, 87.5, 96.875, 93.75, 90.625, 93.75, 78.125, 93.75, 81.25, 84.375, 87.5, 84.375, 78.125, 81.25, 90.625, 87.5, 81.25, 84.375, 87.5, 84.375, 78.125, 87.5, 84.375, 93.75, 93.75, 84.375, 96.875, 96.875, 96.875, 84.375, 81.25, 81.25, 87.5, 90.625, 75.0, 93.75, 78.125, 81.25, 81.25, 87.5, 90.625, 84.375, 93.75, 96.875, 90.625, 81.25, 90.625, 84.375, 93.75, 75.0, 93.75, 84.375, 96.875, 93.75, 90.625, 93.75, 90.625, 96.875, 87.5, 93.75, 81.25, 68.75, 87.5, 96.875, 96.875, 93.75, 81.25, 93.75, 84.375, 87.5, 96.875, 96.875, 78.125, 84.375, 93.75, 81.25, 87.5, 87.5, 81.25, 93.75, 93.75, 100.0, 100.0, 96.875, 84.375, 90.625, 96.875, 87.5, 93.75, 93.75, 90.625, 84.375, 96.875, 90.625, 84.375, 84.375, 90.625, 87.5, 93.75, 81.25, 87.5, 93.75, 81.25, 81.25, 96.875, 90.625, 84.375, 90.625, 75.0, 93.75, 93.75, 96.875, 93.75, 84.375, 81.25, 96.875, 90.625, 96.875, 87.5, 93.75, 93.75, 93.75, 87.5, 96.875, 81.25, 93.75, 87.5, 84.375, 84.375, 93.75, 81.25, 93.75, 93.75, 90.625, 84.375, 87.5, 87.5, 84.375, 84.375, 84.375, 96.875, 87.5, 93.75, 90.625, 96.875, 84.375, 84.375, 90.625, 84.375, 90.625, 87.5, 93.75, 87.5, 84.375, 87.5, 84.375, 78.125, 100.0, 90.625, 84.375, 87.5, 93.75, 93.75, 96.875, 90.625, 90.625, 87.5, 93.75, 90.625, 90.625, 87.5, 93.75, 93.75, 90.625, 90.625, 78.125, 81.25, 90.625, 81.25, 87.5, 87.5, 96.875, 87.5, 84.375, 93.75, 93.75, 90.625, 93.75, 81.25, 87.5, 87.5, 90.625, 93.75, 87.5, 81.25, 93.75, 81.25, 90.625, 87.5, 84.375, 78.125, 87.5, 84.375, 90.625, 90.625, 87.5, 87.5, 90.625, 90.625, 84.375, 87.5, 93.75, 90.625, 81.25, 90.625, 87.5, 93.75, 87.5, 75.0, 90.625, 75.0, 87.5, 84.375, 81.25, 81.25, 84.375, 84.375, 90.625, 84.375, 96.875, 84.375, 100.0, 84.375, 87.5, 93.75, 84.375, 96.875, 84.375, 96.875, 87.5, 87.5, 87.5, 90.625, 93.75, 84.375, 93.75, 81.25, 90.625, 90.625, 93.75, 84.375, 87.5, 87.5, 93.75, 87.5, 90.625, 90.625, 96.875, 87.5, 90.625, 93.75, 93.75, 87.5, 87.5, 96.875, 93.75, 75.0, 87.5, 90.625, 81.25, 84.375, 75.0, 87.5, 81.25, 75.0, 87.5, 87.5, 81.25, 87.5, 90.625, 93.75, 87.5, 87.5, 84.375, 87.5, 78.125, 84.375, 87.5, 90.625, 90.625, 87.5, 93.75, 81.25, 90.625, 93.75, 84.375, 93.75, 90.625, 78.125, 84.375, 93.75, 93.75, 93.75, 84.375, 93.75, 96.875, 81.25, 84.375, 93.75, 93.75, 87.5, 84.375, 87.5, 84.375, 84.375, 93.75, 90.625, 84.375, 87.5, 87.5, 96.875, 87.5, 93.75, 81.25, 90.625, 84.375, 93.75, 93.75, 84.375, 81.25, 84.375, 84.375, 81.25, 96.875, 84.375, 87.5, 90.625, 90.625, 90.625, 81.25, 78.125, 96.875, 81.25, 84.375, 87.5, 90.625, 90.625, 78.125, 93.75, 87.5, 87.5, 90.625, 96.875, 84.375, 87.5, 96.875, 87.5, 90.625, 90.625, 90.625, 93.75, 93.75, 96.875, 81.25, 81.25, 81.25, 96.875, 87.5, 90.625, 87.5, 90.625, 90.625, 93.75, 96.875, 87.5, 90.625, 93.75, 87.5, 93.75, 84.375, 90.625, 87.5, 84.375, 87.5, 90.625, 87.5, 87.5, 90.625, 96.875, 87.5, 84.375, 90.625, 87.5, 81.25, 81.25, 84.375, 87.5, 90.625, 87.5, 93.75, 90.625, 90.625, 87.5, 84.375, 96.875, 87.5, 87.5, 100.0, 90.625, 96.875, 87.5, 96.875, 81.25, 90.625, 93.75, 87.5, 100.0, 87.5, 93.75, 87.5, 87.5, 90.625, 90.625, 84.375, 87.5, 93.75, 81.25, 84.375, 90.625, 93.75, 87.5, 90.625, 87.5, 84.375, 90.625, 90.625, 84.375, 87.5, 90.625, 90.625, 93.75, 84.375, 93.75, 78.125, 87.5, 90.625, 87.5, 87.5, 78.125, 93.75, 90.625, 87.5, 75.0, 90.625, 93.75, 87.5, 90.625, 84.375, 96.875, 90.625, 90.625, 96.875, 81.25, 84.375, 96.875, 87.5, 90.625, 87.5, 90.625, 84.375, 93.75, 96.875, 93.75, 96.875, 87.5, 87.5, 90.625, 87.5, 90.625, 87.5, 87.5, 100.0, 87.5, 96.875, 93.75, 78.125, 81.25, 84.375, 93.75, 90.625, 84.375, 68.75, 93.75, 90.625, 90.625, 87.5, 90.625, 84.375, 84.375, 96.875, 96.875, 87.5, 84.375, 90.625, 90.625, 87.5, 87.5, 87.5, 96.875, 84.375, 81.25, 84.375, 84.375, 84.375, 90.625, 90.625, 84.375, 81.25, 90.625, 93.75, 87.5, 84.375, 78.125, 87.5, 90.625, 84.375, 93.75, 81.25, 84.375, 90.625, 87.5, 84.375, 81.25, 87.5, 87.5, 78.125, 87.5, 87.5, 87.5, 96.875, 75.0, 87.5, 96.875, 90.625, 81.25, 87.5, 96.875, 87.5, 90.625, 87.5, 84.375, 96.875, 84.375, 81.25, 81.25, 90.625, 87.5, 81.25, 87.5, 84.375, 90.625, 93.75, 90.625, 96.875, 84.375, 87.5, 78.125, 90.625, 90.625, 90.625, 90.625, 81.25, 96.875, 90.625, 81.25, 84.375, 84.375, 87.5, 84.375, 90.625, 87.5, 90.625, 93.75, 53.125, 96.875, 93.75, 93.75, 87.5, 90.625, 90.625, 90.625, 87.5, 90.625, 87.5, 96.875, 93.75, 90.625, 87.5, 90.625, 84.375, 90.625, 87.5, 93.75, 84.375, 93.75, 90.625, 90.625, 93.75, 93.75, 93.75, 87.5, 87.5, 100.0, 90.625, 93.75, 90.625, 100.0, 93.75, 87.5, 96.875, 93.75, 96.875, 90.625, 93.75, 93.75, 96.875, 93.75, 93.75, 90.625, 90.625, 84.375, 90.625, 96.875, 93.75, 96.875, 96.875, 87.5, 93.75, 96.875, 84.375, 93.75, 93.75, 87.5, 87.5, 93.75, 90.625, 93.75, 96.875, 90.625, 96.875, 93.75, 93.75, 87.5, 87.5, 96.875, 96.875, 90.625, 93.75, 100.0, 93.75, 96.875, 93.75, 87.5, 87.5, 96.875, 93.75, 93.75, 93.75, 93.75, 90.625, 87.5, 90.625, 93.75, 96.875, 93.75, 84.375, 84.375, 93.75, 93.75, 93.75, 90.625, 90.625, 96.875, 90.625, 90.625, 78.125, 93.75, 93.75, 96.875, 84.375, 100.0, 90.625, 100.0, 93.75, 90.625, 96.875, 87.5, 84.375, 100.0, 84.375, 96.875, 96.875, 93.75, 93.75, 90.625, 93.75, 90.625, 90.625, 90.625, 93.75, 100.0, 90.625, 93.75, 93.75, 87.5, 90.625, 84.375, 96.875, 87.5, 93.75, 96.875, 84.375, 87.5, 93.75, 96.875, 84.375, 87.5, 93.75, 93.75, 93.75, 93.75, 90.625, 96.875, 96.875, 90.625, 87.5, 78.125, 100.0, 93.75, 90.625, 87.5, 96.875, 90.625, 96.875, 90.625, 90.625, 96.875, 84.375, 93.75, 87.5, 87.5, 96.875, 87.5, 96.875, 84.375, 93.75, 93.75, 93.75, 90.625, 93.75, 96.875, 93.75, 96.875, 93.75, 100.0, 87.5, 87.5, 87.5, 90.625, 90.625, 90.625, 100.0, 93.75, 90.625, 93.75, 84.375, 90.625, 90.625, 96.875, 93.75, 87.5, 87.5, 93.75, 96.875, 96.875, 90.625, 96.875, 93.75, 87.5, 93.75, 93.75, 75.0, 90.625, 90.625, 100.0, 93.75, 90.625, 93.75, 87.5, 93.75, 93.75, 93.75, 96.875, 96.875, 100.0, 93.75, 93.75, 81.25, 87.5, 90.625, 90.625, 93.75, 93.75, 87.5, 96.875, 93.75, 87.5, 93.75, 93.75, 90.625, 93.75, 100.0, 90.625, 93.75, 90.625, 100.0, 96.875, 90.625, 90.625, 93.75, 90.625, 90.625, 87.5, 93.75, 87.5, 87.5, 90.625, 90.625, 84.375, 87.5, 96.875, 90.625, 96.875, 93.75, 93.75, 90.625, 100.0, 93.75, 96.875, 87.5, 90.625, 90.625, 90.625, 90.625, 96.875, 93.75, 90.625, 100.0, 93.75, 87.5, 93.75, 96.875, 96.875, 93.75, 90.625, 96.875, 90.625, 100.0, 93.75, 90.625, 96.875, 96.875, 96.875, 96.875, 96.875, 90.625, 93.75, 90.625, 93.75, 87.5, 93.75, 100.0, 96.875, 90.625, 96.875, 96.875, 93.75, 90.625, 96.875, 96.875, 84.375, 90.625, 87.5, 90.625, 93.75, 100.0, 93.75, 96.875, 96.875, 93.75, 87.5, 96.875, 84.375, 90.625, 96.875, 87.5, 90.625, 93.75, 100.0, 96.875, 90.625, 84.375, 87.5, 90.625, 90.625, 90.625, 93.75, 84.375, 93.75, 93.75, 90.625, 90.625, 96.875, 90.625, 93.75, 87.5, 90.625, 93.75, 96.875, 96.875, 93.75, 93.75, 93.75, 87.5, 96.875, 87.5, 81.25, 84.375, 96.875, 96.875, 93.75, 96.875, 93.75, 96.875, 93.75, 90.625, 87.5, 90.625, 90.625, 93.75, 90.625, 93.75, 90.625, 90.625, 90.625, 93.75, 87.5, 93.75, 93.75, 90.625, 96.875, 87.5, 96.875, 84.375, 93.75, 87.5, 93.75, 90.625, 96.875, 93.75, 87.5, 93.75, 90.625, 93.75, 96.875, 90.625, 93.75, 93.75, 96.875, 96.875, 81.25, 87.5, 87.5, 96.875, 90.625, 93.75, 84.375, 81.25, 90.625, 93.75, 93.75, 84.375, 90.625, 84.375, 90.625, 93.75, 93.75, 93.75, 84.375, 90.625, 87.5, 93.75, 84.375, 93.75, 90.625, 96.875, 93.75, 90.625, 93.75, 84.375, 90.625, 93.75, 87.5, 90.625, 90.625, 93.75, 81.25, 100.0, 90.625, 84.375, 93.75, 84.375, 100.0, 87.5, 96.875, 90.625, 100.0, 87.5, 87.5, 90.625, 93.75, 93.75, 96.875, 96.875, 93.75, 96.875, 90.625, 93.75, 90.625, 96.875, 87.5, 90.625, 87.5, 93.75, 96.875, 93.75, 93.75, 87.5, 87.5, 96.875, 93.75, 96.875, 93.75, 96.875, 93.75, 90.625, 93.75, 81.25, 90.625, 87.5, 90.625, 93.75, 90.625, 93.75, 93.75, 96.875, 84.375, 93.75, 81.25, 84.375, 87.5, 84.375, 93.75, 90.625, 96.875, 90.625, 81.25, 87.5, 100.0, 96.875, 90.625, 100.0, 90.625, 93.75, 93.75, 93.75, 96.875, 84.375, 87.5, 84.375, 93.75, 90.625, 93.75, 93.75, 96.875, 90.625, 93.75, 96.875, 96.875, 93.75, 100.0, 90.625, 93.75, 93.75, 87.5, 90.625, 93.75, 93.75, 93.75, 78.125, 93.75, 90.625, 93.75, 93.75, 84.375, 87.5, 96.875, 84.375, 87.5, 90.625, 90.625, 93.75, 87.5, 90.625, 100.0, 93.75, 87.5, 100.0, 90.625, 100.0, 87.5, 93.75, 84.375, 90.625, 96.875, 90.625, 96.875, 93.75, 90.625, 87.5, 93.75, 90.625, 90.625, 96.875, 93.75, 96.875, 93.75, 90.625, 87.5, 93.75, 96.875, 90.625, 96.875, 100.0, 93.75, 93.75, 100.0, 93.75, 93.75, 100.0, 96.875, 90.625, 90.625, 93.75, 90.625, 93.75, 87.5, 100.0, 90.625, 96.875, 93.75, 93.75, 84.375, 84.375, 93.75, 100.0, 100.0, 96.875, 84.375, 81.25, 81.25, 87.5, 96.875, 96.875, 90.625, 87.5, 93.75, 100.0, 84.375, 96.875, 93.75, 96.875, 84.375, 100.0, 87.5, 90.625, 87.5, 93.75, 93.75, 87.5, 96.875, 96.875, 93.75, 90.625, 90.625, 90.625, 84.375, 87.5, 87.5, 96.875, 96.875, 93.75, 93.75, 84.375, 90.625, 93.75, 93.75, 87.5, 84.375, 90.625, 100.0, 90.625, 93.75, 100.0, 96.875, 90.625, 100.0, 93.75, 96.875, 93.75, 93.75, 96.875, 93.75, 81.25, 100.0, 96.875, 90.625, 96.875, 100.0, 93.75, 93.75, 90.625, 96.875, 93.75, 93.75, 93.75, 87.5, 90.625, 93.75, 90.625, 90.625, 87.5, 93.75, 96.875, 81.25, 96.875, 90.625, 96.875, 93.75, 87.5, 93.75, 93.75, 87.5, 84.375, 87.5, 90.625, 96.875, 81.25, 93.75, 100.0, 93.75, 96.875, 84.375, 93.75, 87.5, 96.875, 96.875, 87.5, 93.75, 87.5, 90.625, 93.75, 90.625, 96.875, 96.875, 87.5, 90.625, 93.75, 96.875, 100.0, 87.5, 90.625, 93.75, 90.625, 96.875, 93.75, 84.375, 87.5, 93.75, 96.875, 87.5, 90.625, 90.625, 96.875, 84.375, 100.0, 90.625, 93.75, 100.0, 90.625, 100.0, 93.75, 96.875, 93.75, 93.75, 96.875, 87.5, 96.875, 96.875, 90.625, 90.625, 96.875, 90.625, 93.75, 84.375, 87.5, 87.5, 87.5, 84.375, 87.5, 96.875, 87.5, 87.5, 100.0, 90.625, 100.0, 90.625, 90.625, 90.625, 87.5, 93.75, 93.75, 93.75, 96.875, 90.625, 96.875, 93.75, 87.5, 96.875, 87.5, 96.875, 84.375, 84.375, 90.625, 87.5, 87.5, 96.875, 87.5, 96.875, 100.0, 93.75, 93.75, 90.625, 90.625, 96.875, 90.625, 96.875, 87.5, 96.875, 87.5, 90.625, 96.875, 90.625, 96.875, 93.75, 96.875, 90.625, 90.625, 93.75, 93.75, 84.375, 90.625, 93.75, 93.75, 90.625, 93.75, 90.625, 87.5, 90.625, 84.375, 96.875, 96.875, 90.625, 90.625, 96.875, 96.875, 84.375, 87.5, 87.5, 87.5, 81.25, 81.25, 93.75, 93.75, 96.875, 90.625, 81.25, 96.875, 100.0, 93.75, 96.875, 96.875, 93.75, 90.625, 87.5, 84.375, 100.0, 96.875, 87.5, 93.75, 84.375, 81.25, 93.75, 90.625, 93.75, 93.75, 90.625, 93.75, 96.875, 90.625, 84.375, 93.75, 96.875, 90.625, 84.375, 84.375, 93.75, 93.75, 90.625, 87.5, 93.75, 96.875, 93.75, 96.875, 90.625, 100.0, 87.5, 96.875, 87.5, 90.625, 93.75, 93.75, 90.625, 90.625, 96.875, 84.375, 96.875, 84.375, 100.0, 93.75, 93.75, 100.0, 96.875, 90.625, 90.625, 100.0, 96.875, 93.75, 100.0, 96.875, 93.75, 90.625, 100.0, 90.625, 93.75, 93.75, 90.625, 96.875, 90.625, 90.625, 100.0, 93.75, 90.625, 87.5, 93.75, 96.875, 87.5, 78.125, 93.75, 87.5, 90.625, 93.75, 90.625, 90.625, 78.125, 93.75, 93.75, 87.5, 96.875, 93.75, 93.75, 90.625, 93.75, 90.625, 90.625, 93.75, 96.875, 100.0, 93.75, 90.625, 87.5, 90.625, 90.625, 87.5, 96.875, 93.75, 90.625, 96.875, 90.625, 96.875, 90.625, 84.375, 93.75, 90.625, 93.75, 90.625, 93.75, 96.875, 100.0, 84.375, 90.625, 87.5, 90.625, 90.625, 93.75, 81.25, 93.75, 96.875, 100.0, 90.625, 96.875, 96.875, 93.75, 87.5, 84.375, 100.0, 87.5, 100.0, 87.5, 93.75, 81.25, 93.75, 93.75, 84.375, 93.75, 84.375, 96.875, 93.75, 100.0, 93.75, 93.75, 84.375, 100.0, 87.5, 93.75, 90.625, 90.625, 93.75, 81.25, 90.625, 90.625, 84.375, 90.625, 90.625, 90.625, 96.875, 96.875, 90.625, 93.75, 81.25, 96.875, 96.875, 90.625, 93.75, 87.5, 96.875, 93.75, 100.0, 96.875, 93.75, 90.625, 90.625, 100.0, 87.5, 96.875, 84.375, 90.625, 96.875, 93.75, 93.75, 87.5, 100.0, 93.75, 96.875, 90.625, 90.625, 96.875, 81.25, 93.75, 96.875, 87.5, 87.5, 90.625, 96.875, 90.625, 90.625, 84.375, 87.5, 96.875, 87.5, 93.75, 81.25, 93.75, 93.75, 96.875, 87.5, 93.75, 90.625, 96.875, 93.75, 78.125, 87.5, 96.875, 84.375, 96.875, 93.75, 90.625, 93.75, 100.0, 93.75, 90.625, 87.5, 87.5, 93.75, 90.625, 87.5, 93.75, 96.875, 96.875, 96.875, 93.75, 96.875, 87.5, 100.0, 93.75, 93.75, 93.75, 100.0, 87.5, 90.625, 90.625, 87.5, 90.625, 93.75, 96.875, 93.75, 90.625, 87.5, 93.75, 87.5, 96.875, 100.0, 96.875, 90.625, 78.125, 81.25, 87.5, 87.5, 93.75, 81.25, 78.125, 90.625, 93.75, 93.75, 93.75, 96.875, 90.625, 100.0, 90.625, 90.625, 90.625, 90.625, 84.375, 93.75, 84.375, 100.0, 93.75, 93.75, 96.875, 93.75, 84.375, 100.0, 96.875, 90.625, 93.75, 93.75, 90.625, 93.75, 96.875, 87.5, 100.0, 93.75, 81.25, 96.875, 90.625, 90.625, 100.0, 90.625, 90.625, 87.5, 96.875, 96.875, 96.875, 93.75, 93.75, 100.0, 90.625, 100.0, 90.625, 93.75, 96.875, 90.625, 93.75, 96.875, 96.875, 96.875, 96.875, 90.625, 84.375, 93.75, 93.75, 81.25, 90.625, 93.75, 96.875, 93.75, 93.75, 93.75, 96.875, 90.625, 100.0, 100.0, 93.75, 87.5, 90.625, 93.75, 90.625, 100.0, 90.625, 96.875, 96.875, 93.75, 84.375, 96.875, 90.625, 90.625, 100.0, 90.625, 87.5, 87.5, 84.375, 90.625, 90.625, 81.25, 84.375, 96.875, 96.875, 90.625, 81.25, 90.625, 93.75, 96.875, 81.25, 93.75, 96.875, 100.0, 93.75, 87.5, 93.75, 93.75, 93.75, 93.75, 87.5, 93.75, 96.875, 87.5, 96.875, 93.75, 90.625, 93.75, 93.75, 93.75, 93.75, 93.75, 93.75, 90.625, 90.625, 90.625, 87.5, 90.625, 84.375, 93.75, 90.625, 90.625, 90.625, 90.625, 87.5, 90.625, 93.75, 87.5, 100.0, 96.875, 84.375, 100.0, 90.625, 84.375, 90.625, 93.75, 100.0, 87.5, 100.0, 90.625, 84.375, 100.0, 90.625, 100.0, 90.625, 96.875, 87.5, 96.875, 87.5, 87.5, 87.5, 84.375, 84.375, 96.875, 93.75, 93.75, 87.5, 93.75, 90.625, 93.75, 96.875, 93.75, 93.75, 96.875, 93.75, 93.75, 90.625, 87.5, 96.875, 90.625, 93.75, 96.875, 87.5, 84.375, 90.625, 90.625, 62.5]\n",
            "  Average training loss:0.20\n",
            "  Training epoch took: 0:04:25\n",
            "\n",
            "======== Epoch 3 / 5 ========\n",
            "Training...\n",
            "  Batch    50  of  1,285.    Elapsed: 0:00:10.\n",
            "  Batch   100  of  1,285.    Elapsed: 0:00:21.\n",
            "  Batch   150  of  1,285.    Elapsed: 0:00:31.\n",
            "  Batch   200  of  1,285.    Elapsed: 0:00:41.\n",
            "  Batch   250  of  1,285.    Elapsed: 0:00:51.\n",
            "  Batch   300  of  1,285.    Elapsed: 0:01:02.\n",
            "  Batch   350  of  1,285.    Elapsed: 0:01:12.\n",
            "  Batch   400  of  1,285.    Elapsed: 0:01:22.\n",
            "  Batch   450  of  1,285.    Elapsed: 0:01:33.\n",
            "  Batch   500  of  1,285.    Elapsed: 0:01:43.\n",
            "  Batch   550  of  1,285.    Elapsed: 0:01:53.\n",
            "  Batch   600  of  1,285.    Elapsed: 0:02:04.\n",
            "  Batch   650  of  1,285.    Elapsed: 0:02:14.\n",
            "  Batch   700  of  1,285.    Elapsed: 0:02:24.\n",
            "  Batch   750  of  1,285.    Elapsed: 0:02:34.\n",
            "  Batch   800  of  1,285.    Elapsed: 0:02:45.\n",
            "  Batch   850  of  1,285.    Elapsed: 0:02:55.\n",
            "  Batch   900  of  1,285.    Elapsed: 0:03:05.\n",
            "  Batch   950  of  1,285.    Elapsed: 0:03:16.\n",
            "  Batch 1,000  of  1,285.    Elapsed: 0:03:26.\n",
            "  Batch 1,050  of  1,285.    Elapsed: 0:03:36.\n",
            "  Batch 1,100  of  1,285.    Elapsed: 0:03:47.\n",
            "  Batch 1,150  of  1,285.    Elapsed: 0:03:57.\n",
            "  Batch 1,200  of  1,285.    Elapsed: 0:04:07.\n",
            "  Batch 1,250  of  1,285.    Elapsed: 0:04:17.\n",
            "\n",
            "Training accuracy: [34.375, 37.5, 31.25, 68.75, 78.125, 81.25, 84.375, 84.375, 84.375, 87.5, 81.25, 84.375, 71.875, 75.0, 78.125, 75.0, 75.0, 87.5, 75.0, 90.625, 53.125, 81.25, 68.75, 75.0, 75.0, 68.75, 81.25, 75.0, 71.875, 90.625, 75.0, 81.25, 81.25, 75.0, 62.5, 84.375, 75.0, 75.0, 68.75, 71.875, 78.125, 84.375, 62.5, 84.375, 84.375, 78.125, 68.75, 81.25, 71.875, 84.375, 90.625, 87.5, 81.25, 84.375, 81.25, 84.375, 75.0, 81.25, 84.375, 81.25, 81.25, 75.0, 78.125, 68.75, 81.25, 75.0, 78.125, 84.375, 65.625, 81.25, 62.5, 75.0, 71.875, 68.75, 71.875, 87.5, 90.625, 87.5, 75.0, 81.25, 75.0, 84.375, 78.125, 84.375, 62.5, 84.375, 78.125, 75.0, 78.125, 78.125, 87.5, 90.625, 84.375, 87.5, 78.125, 87.5, 81.25, 87.5, 84.375, 75.0, 84.375, 87.5, 84.375, 87.5, 84.375, 81.25, 78.125, 87.5, 90.625, 93.75, 90.625, 71.875, 90.625, 78.125, 84.375, 71.875, 87.5, 87.5, 81.25, 78.125, 75.0, 90.625, 96.875, 78.125, 84.375, 68.75, 87.5, 87.5, 81.25, 78.125, 68.75, 90.625, 90.625, 90.625, 78.125, 84.375, 87.5, 75.0, 87.5, 87.5, 90.625, 71.875, 75.0, 75.0, 71.875, 90.625, 84.375, 90.625, 81.25, 90.625, 84.375, 81.25, 81.25, 84.375, 87.5, 81.25, 90.625, 81.25, 96.875, 87.5, 71.875, 90.625, 87.5, 90.625, 84.375, 78.125, 81.25, 87.5, 90.625, 81.25, 87.5, 90.625, 81.25, 81.25, 84.375, 75.0, 93.75, 100.0, 81.25, 90.625, 100.0, 90.625, 78.125, 81.25, 87.5, 90.625, 81.25, 84.375, 93.75, 71.875, 90.625, 90.625, 75.0, 65.625, 81.25, 81.25, 78.125, 81.25, 81.25, 90.625, 78.125, 87.5, 93.75, 87.5, 75.0, 90.625, 84.375, 78.125, 87.5, 81.25, 90.625, 87.5, 87.5, 90.625, 93.75, 78.125, 84.375, 93.75, 75.0, 81.25, 81.25, 90.625, 84.375, 81.25, 87.5, 78.125, 84.375, 90.625, 75.0, 96.875, 84.375, 90.625, 81.25, 87.5, 87.5, 84.375, 93.75, 87.5, 93.75, 75.0, 87.5, 78.125, 81.25, 78.125, 71.875, 87.5, 81.25, 87.5, 87.5, 81.25, 84.375, 93.75, 81.25, 87.5, 93.75, 90.625, 84.375, 96.875, 75.0, 84.375, 84.375, 78.125, 75.0, 62.5, 78.125, 75.0, 87.5, 84.375, 81.25, 84.375, 75.0, 78.125, 81.25, 75.0, 87.5, 78.125, 87.5, 81.25, 90.625, 100.0, 84.375, 87.5, 84.375, 87.5, 75.0, 90.625, 87.5, 90.625, 90.625, 90.625, 81.25, 93.75, 84.375, 78.125, 84.375, 78.125, 96.875, 87.5, 81.25, 90.625, 84.375, 81.25, 84.375, 87.5, 93.75, 87.5, 87.5, 84.375, 81.25, 93.75, 75.0, 84.375, 81.25, 87.5, 87.5, 84.375, 84.375, 90.625, 87.5, 90.625, 96.875, 96.875, 87.5, 96.875, 84.375, 87.5, 93.75, 75.0, 96.875, 90.625, 87.5, 90.625, 87.5, 75.0, 87.5, 87.5, 90.625, 93.75, 84.375, 93.75, 78.125, 90.625, 84.375, 90.625, 90.625, 100.0, 78.125, 75.0, 90.625, 87.5, 87.5, 100.0, 78.125, 96.875, 90.625, 81.25, 84.375, 93.75, 87.5, 78.125, 90.625, 87.5, 84.375, 84.375, 90.625, 90.625, 84.375, 96.875, 87.5, 78.125, 87.5, 84.375, 75.0, 75.0, 84.375, 96.875, 84.375, 93.75, 81.25, 78.125, 87.5, 71.875, 75.0, 81.25, 84.375, 90.625, 78.125, 75.0, 90.625, 96.875, 93.75, 90.625, 87.5, 84.375, 81.25, 84.375, 90.625, 93.75, 87.5, 78.125, 93.75, 90.625, 75.0, 87.5, 90.625, 81.25, 84.375, 93.75, 93.75, 87.5, 93.75, 90.625, 75.0, 81.25, 90.625, 84.375, 71.875, 93.75, 87.5, 78.125, 81.25, 90.625, 93.75, 87.5, 81.25, 93.75, 81.25, 81.25, 87.5, 93.75, 100.0, 96.875, 93.75, 84.375, 90.625, 93.75, 90.625, 84.375, 81.25, 100.0, 84.375, 90.625, 90.625, 90.625, 90.625, 84.375, 93.75, 93.75, 84.375, 90.625, 78.125, 96.875, 93.75, 87.5, 90.625, 75.0, 84.375, 93.75, 87.5, 87.5, 96.875, 90.625, 81.25, 87.5, 93.75, 68.75, 87.5, 81.25, 84.375, 78.125, 81.25, 87.5, 81.25, 90.625, 87.5, 90.625, 90.625, 87.5, 87.5, 90.625, 68.75, 81.25, 81.25, 90.625, 96.875, 90.625, 87.5, 84.375, 84.375, 84.375, 81.25, 84.375, 75.0, 90.625, 87.5, 75.0, 81.25, 81.25, 68.75, 78.125, 78.125, 87.5, 87.5, 84.375, 78.125, 90.625, 93.75, 81.25, 81.25, 78.125, 90.625, 75.0, 84.375, 81.25, 84.375, 81.25, 90.625, 93.75, 78.125, 87.5, 87.5, 84.375, 93.75, 96.875, 75.0, 84.375, 84.375, 81.25, 78.125, 81.25, 81.25, 93.75, 96.875, 84.375, 78.125, 81.25, 84.375, 90.625, 90.625, 84.375, 87.5, 93.75, 90.625, 90.625, 100.0, 90.625, 90.625, 87.5, 87.5, 96.875, 87.5, 93.75, 87.5, 87.5, 84.375, 87.5, 96.875, 87.5, 93.75, 90.625, 90.625, 78.125, 90.625, 81.25, 87.5, 96.875, 84.375, 84.375, 84.375, 93.75, 87.5, 90.625, 93.75, 84.375, 78.125, 84.375, 81.25, 87.5, 81.25, 78.125, 84.375, 90.625, 78.125, 75.0, 90.625, 87.5, 84.375, 96.875, 90.625, 84.375, 87.5, 84.375, 90.625, 87.5, 90.625, 81.25, 93.75, 90.625, 90.625, 75.0, 81.25, 93.75, 93.75, 87.5, 75.0, 87.5, 90.625, 100.0, 87.5, 84.375, 93.75, 87.5, 90.625, 96.875, 75.0, 87.5, 87.5, 93.75, 90.625, 78.125, 90.625, 75.0, 87.5, 90.625, 87.5, 90.625, 90.625, 90.625, 81.25, 71.875, 75.0, 93.75, 78.125, 81.25, 75.0, 87.5, 84.375, 78.125, 87.5, 93.75, 87.5, 93.75, 90.625, 90.625, 93.75, 87.5, 93.75, 90.625, 84.375, 90.625, 81.25, 84.375, 81.25, 90.625, 90.625, 87.5, 93.75, 90.625, 78.125, 87.5, 84.375, 87.5, 93.75, 87.5, 84.375, 84.375, 93.75, 93.75, 93.75, 87.5, 87.5, 84.375, 93.75, 90.625, 93.75, 87.5, 84.375, 81.25, 93.75, 81.25, 75.0, 87.5, 100.0, 90.625, 93.75, 93.75, 90.625, 87.5, 90.625, 84.375, 81.25, 90.625, 81.25, 84.375, 81.25, 81.25, 84.375, 84.375, 81.25, 93.75, 87.5, 78.125, 87.5, 96.875, 93.75, 90.625, 93.75, 78.125, 93.75, 81.25, 84.375, 87.5, 84.375, 78.125, 81.25, 90.625, 87.5, 81.25, 84.375, 87.5, 84.375, 78.125, 87.5, 84.375, 93.75, 93.75, 84.375, 96.875, 96.875, 96.875, 84.375, 81.25, 81.25, 87.5, 90.625, 75.0, 93.75, 78.125, 81.25, 81.25, 87.5, 90.625, 84.375, 93.75, 96.875, 90.625, 81.25, 90.625, 84.375, 93.75, 75.0, 93.75, 84.375, 96.875, 93.75, 90.625, 93.75, 90.625, 96.875, 87.5, 93.75, 81.25, 68.75, 87.5, 96.875, 96.875, 93.75, 81.25, 93.75, 84.375, 87.5, 96.875, 96.875, 78.125, 84.375, 93.75, 81.25, 87.5, 87.5, 81.25, 93.75, 93.75, 100.0, 100.0, 96.875, 84.375, 90.625, 96.875, 87.5, 93.75, 93.75, 90.625, 84.375, 96.875, 90.625, 84.375, 84.375, 90.625, 87.5, 93.75, 81.25, 87.5, 93.75, 81.25, 81.25, 96.875, 90.625, 84.375, 90.625, 75.0, 93.75, 93.75, 96.875, 93.75, 84.375, 81.25, 96.875, 90.625, 96.875, 87.5, 93.75, 93.75, 93.75, 87.5, 96.875, 81.25, 93.75, 87.5, 84.375, 84.375, 93.75, 81.25, 93.75, 93.75, 90.625, 84.375, 87.5, 87.5, 84.375, 84.375, 84.375, 96.875, 87.5, 93.75, 90.625, 96.875, 84.375, 84.375, 90.625, 84.375, 90.625, 87.5, 93.75, 87.5, 84.375, 87.5, 84.375, 78.125, 100.0, 90.625, 84.375, 87.5, 93.75, 93.75, 96.875, 90.625, 90.625, 87.5, 93.75, 90.625, 90.625, 87.5, 93.75, 93.75, 90.625, 90.625, 78.125, 81.25, 90.625, 81.25, 87.5, 87.5, 96.875, 87.5, 84.375, 93.75, 93.75, 90.625, 93.75, 81.25, 87.5, 87.5, 90.625, 93.75, 87.5, 81.25, 93.75, 81.25, 90.625, 87.5, 84.375, 78.125, 87.5, 84.375, 90.625, 90.625, 87.5, 87.5, 90.625, 90.625, 84.375, 87.5, 93.75, 90.625, 81.25, 90.625, 87.5, 93.75, 87.5, 75.0, 90.625, 75.0, 87.5, 84.375, 81.25, 81.25, 84.375, 84.375, 90.625, 84.375, 96.875, 84.375, 100.0, 84.375, 87.5, 93.75, 84.375, 96.875, 84.375, 96.875, 87.5, 87.5, 87.5, 90.625, 93.75, 84.375, 93.75, 81.25, 90.625, 90.625, 93.75, 84.375, 87.5, 87.5, 93.75, 87.5, 90.625, 90.625, 96.875, 87.5, 90.625, 93.75, 93.75, 87.5, 87.5, 96.875, 93.75, 75.0, 87.5, 90.625, 81.25, 84.375, 75.0, 87.5, 81.25, 75.0, 87.5, 87.5, 81.25, 87.5, 90.625, 93.75, 87.5, 87.5, 84.375, 87.5, 78.125, 84.375, 87.5, 90.625, 90.625, 87.5, 93.75, 81.25, 90.625, 93.75, 84.375, 93.75, 90.625, 78.125, 84.375, 93.75, 93.75, 93.75, 84.375, 93.75, 96.875, 81.25, 84.375, 93.75, 93.75, 87.5, 84.375, 87.5, 84.375, 84.375, 93.75, 90.625, 84.375, 87.5, 87.5, 96.875, 87.5, 93.75, 81.25, 90.625, 84.375, 93.75, 93.75, 84.375, 81.25, 84.375, 84.375, 81.25, 96.875, 84.375, 87.5, 90.625, 90.625, 90.625, 81.25, 78.125, 96.875, 81.25, 84.375, 87.5, 90.625, 90.625, 78.125, 93.75, 87.5, 87.5, 90.625, 96.875, 84.375, 87.5, 96.875, 87.5, 90.625, 90.625, 90.625, 93.75, 93.75, 96.875, 81.25, 81.25, 81.25, 96.875, 87.5, 90.625, 87.5, 90.625, 90.625, 93.75, 96.875, 87.5, 90.625, 93.75, 87.5, 93.75, 84.375, 90.625, 87.5, 84.375, 87.5, 90.625, 87.5, 87.5, 90.625, 96.875, 87.5, 84.375, 90.625, 87.5, 81.25, 81.25, 84.375, 87.5, 90.625, 87.5, 93.75, 90.625, 90.625, 87.5, 84.375, 96.875, 87.5, 87.5, 100.0, 90.625, 96.875, 87.5, 96.875, 81.25, 90.625, 93.75, 87.5, 100.0, 87.5, 93.75, 87.5, 87.5, 90.625, 90.625, 84.375, 87.5, 93.75, 81.25, 84.375, 90.625, 93.75, 87.5, 90.625, 87.5, 84.375, 90.625, 90.625, 84.375, 87.5, 90.625, 90.625, 93.75, 84.375, 93.75, 78.125, 87.5, 90.625, 87.5, 87.5, 78.125, 93.75, 90.625, 87.5, 75.0, 90.625, 93.75, 87.5, 90.625, 84.375, 96.875, 90.625, 90.625, 96.875, 81.25, 84.375, 96.875, 87.5, 90.625, 87.5, 90.625, 84.375, 93.75, 96.875, 93.75, 96.875, 87.5, 87.5, 90.625, 87.5, 90.625, 87.5, 87.5, 100.0, 87.5, 96.875, 93.75, 78.125, 81.25, 84.375, 93.75, 90.625, 84.375, 68.75, 93.75, 90.625, 90.625, 87.5, 90.625, 84.375, 84.375, 96.875, 96.875, 87.5, 84.375, 90.625, 90.625, 87.5, 87.5, 87.5, 96.875, 84.375, 81.25, 84.375, 84.375, 84.375, 90.625, 90.625, 84.375, 81.25, 90.625, 93.75, 87.5, 84.375, 78.125, 87.5, 90.625, 84.375, 93.75, 81.25, 84.375, 90.625, 87.5, 84.375, 81.25, 87.5, 87.5, 78.125, 87.5, 87.5, 87.5, 96.875, 75.0, 87.5, 96.875, 90.625, 81.25, 87.5, 96.875, 87.5, 90.625, 87.5, 84.375, 96.875, 84.375, 81.25, 81.25, 90.625, 87.5, 81.25, 87.5, 84.375, 90.625, 93.75, 90.625, 96.875, 84.375, 87.5, 78.125, 90.625, 90.625, 90.625, 90.625, 81.25, 96.875, 90.625, 81.25, 84.375, 84.375, 87.5, 84.375, 90.625, 87.5, 90.625, 93.75, 53.125, 96.875, 93.75, 93.75, 87.5, 90.625, 90.625, 90.625, 87.5, 90.625, 87.5, 96.875, 93.75, 90.625, 87.5, 90.625, 84.375, 90.625, 87.5, 93.75, 84.375, 93.75, 90.625, 90.625, 93.75, 93.75, 93.75, 87.5, 87.5, 100.0, 90.625, 93.75, 90.625, 100.0, 93.75, 87.5, 96.875, 93.75, 96.875, 90.625, 93.75, 93.75, 96.875, 93.75, 93.75, 90.625, 90.625, 84.375, 90.625, 96.875, 93.75, 96.875, 96.875, 87.5, 93.75, 96.875, 84.375, 93.75, 93.75, 87.5, 87.5, 93.75, 90.625, 93.75, 96.875, 90.625, 96.875, 93.75, 93.75, 87.5, 87.5, 96.875, 96.875, 90.625, 93.75, 100.0, 93.75, 96.875, 93.75, 87.5, 87.5, 96.875, 93.75, 93.75, 93.75, 93.75, 90.625, 87.5, 90.625, 93.75, 96.875, 93.75, 84.375, 84.375, 93.75, 93.75, 93.75, 90.625, 90.625, 96.875, 90.625, 90.625, 78.125, 93.75, 93.75, 96.875, 84.375, 100.0, 90.625, 100.0, 93.75, 90.625, 96.875, 87.5, 84.375, 100.0, 84.375, 96.875, 96.875, 93.75, 93.75, 90.625, 93.75, 90.625, 90.625, 90.625, 93.75, 100.0, 90.625, 93.75, 93.75, 87.5, 90.625, 84.375, 96.875, 87.5, 93.75, 96.875, 84.375, 87.5, 93.75, 96.875, 84.375, 87.5, 93.75, 93.75, 93.75, 93.75, 90.625, 96.875, 96.875, 90.625, 87.5, 78.125, 100.0, 93.75, 90.625, 87.5, 96.875, 90.625, 96.875, 90.625, 90.625, 96.875, 84.375, 93.75, 87.5, 87.5, 96.875, 87.5, 96.875, 84.375, 93.75, 93.75, 93.75, 90.625, 93.75, 96.875, 93.75, 96.875, 93.75, 100.0, 87.5, 87.5, 87.5, 90.625, 90.625, 90.625, 100.0, 93.75, 90.625, 93.75, 84.375, 90.625, 90.625, 96.875, 93.75, 87.5, 87.5, 93.75, 96.875, 96.875, 90.625, 96.875, 93.75, 87.5, 93.75, 93.75, 75.0, 90.625, 90.625, 100.0, 93.75, 90.625, 93.75, 87.5, 93.75, 93.75, 93.75, 96.875, 96.875, 100.0, 93.75, 93.75, 81.25, 87.5, 90.625, 90.625, 93.75, 93.75, 87.5, 96.875, 93.75, 87.5, 93.75, 93.75, 90.625, 93.75, 100.0, 90.625, 93.75, 90.625, 100.0, 96.875, 90.625, 90.625, 93.75, 90.625, 90.625, 87.5, 93.75, 87.5, 87.5, 90.625, 90.625, 84.375, 87.5, 96.875, 90.625, 96.875, 93.75, 93.75, 90.625, 100.0, 93.75, 96.875, 87.5, 90.625, 90.625, 90.625, 90.625, 96.875, 93.75, 90.625, 100.0, 93.75, 87.5, 93.75, 96.875, 96.875, 93.75, 90.625, 96.875, 90.625, 100.0, 93.75, 90.625, 96.875, 96.875, 96.875, 96.875, 96.875, 90.625, 93.75, 90.625, 93.75, 87.5, 93.75, 100.0, 96.875, 90.625, 96.875, 96.875, 93.75, 90.625, 96.875, 96.875, 84.375, 90.625, 87.5, 90.625, 93.75, 100.0, 93.75, 96.875, 96.875, 93.75, 87.5, 96.875, 84.375, 90.625, 96.875, 87.5, 90.625, 93.75, 100.0, 96.875, 90.625, 84.375, 87.5, 90.625, 90.625, 90.625, 93.75, 84.375, 93.75, 93.75, 90.625, 90.625, 96.875, 90.625, 93.75, 87.5, 90.625, 93.75, 96.875, 96.875, 93.75, 93.75, 93.75, 87.5, 96.875, 87.5, 81.25, 84.375, 96.875, 96.875, 93.75, 96.875, 93.75, 96.875, 93.75, 90.625, 87.5, 90.625, 90.625, 93.75, 90.625, 93.75, 90.625, 90.625, 90.625, 93.75, 87.5, 93.75, 93.75, 90.625, 96.875, 87.5, 96.875, 84.375, 93.75, 87.5, 93.75, 90.625, 96.875, 93.75, 87.5, 93.75, 90.625, 93.75, 96.875, 90.625, 93.75, 93.75, 96.875, 96.875, 81.25, 87.5, 87.5, 96.875, 90.625, 93.75, 84.375, 81.25, 90.625, 93.75, 93.75, 84.375, 90.625, 84.375, 90.625, 93.75, 93.75, 93.75, 84.375, 90.625, 87.5, 93.75, 84.375, 93.75, 90.625, 96.875, 93.75, 90.625, 93.75, 84.375, 90.625, 93.75, 87.5, 90.625, 90.625, 93.75, 81.25, 100.0, 90.625, 84.375, 93.75, 84.375, 100.0, 87.5, 96.875, 90.625, 100.0, 87.5, 87.5, 90.625, 93.75, 93.75, 96.875, 96.875, 93.75, 96.875, 90.625, 93.75, 90.625, 96.875, 87.5, 90.625, 87.5, 93.75, 96.875, 93.75, 93.75, 87.5, 87.5, 96.875, 93.75, 96.875, 93.75, 96.875, 93.75, 90.625, 93.75, 81.25, 90.625, 87.5, 90.625, 93.75, 90.625, 93.75, 93.75, 96.875, 84.375, 93.75, 81.25, 84.375, 87.5, 84.375, 93.75, 90.625, 96.875, 90.625, 81.25, 87.5, 100.0, 96.875, 90.625, 100.0, 90.625, 93.75, 93.75, 93.75, 96.875, 84.375, 87.5, 84.375, 93.75, 90.625, 93.75, 93.75, 96.875, 90.625, 93.75, 96.875, 96.875, 93.75, 100.0, 90.625, 93.75, 93.75, 87.5, 90.625, 93.75, 93.75, 93.75, 78.125, 93.75, 90.625, 93.75, 93.75, 84.375, 87.5, 96.875, 84.375, 87.5, 90.625, 90.625, 93.75, 87.5, 90.625, 100.0, 93.75, 87.5, 100.0, 90.625, 100.0, 87.5, 93.75, 84.375, 90.625, 96.875, 90.625, 96.875, 93.75, 90.625, 87.5, 93.75, 90.625, 90.625, 96.875, 93.75, 96.875, 93.75, 90.625, 87.5, 93.75, 96.875, 90.625, 96.875, 100.0, 93.75, 93.75, 100.0, 93.75, 93.75, 100.0, 96.875, 90.625, 90.625, 93.75, 90.625, 93.75, 87.5, 100.0, 90.625, 96.875, 93.75, 93.75, 84.375, 84.375, 93.75, 100.0, 100.0, 96.875, 84.375, 81.25, 81.25, 87.5, 96.875, 96.875, 90.625, 87.5, 93.75, 100.0, 84.375, 96.875, 93.75, 96.875, 84.375, 100.0, 87.5, 90.625, 87.5, 93.75, 93.75, 87.5, 96.875, 96.875, 93.75, 90.625, 90.625, 90.625, 84.375, 87.5, 87.5, 96.875, 96.875, 93.75, 93.75, 84.375, 90.625, 93.75, 93.75, 87.5, 84.375, 90.625, 100.0, 90.625, 93.75, 100.0, 96.875, 90.625, 100.0, 93.75, 96.875, 93.75, 93.75, 96.875, 93.75, 81.25, 100.0, 96.875, 90.625, 96.875, 100.0, 93.75, 93.75, 90.625, 96.875, 93.75, 93.75, 93.75, 87.5, 90.625, 93.75, 90.625, 90.625, 87.5, 93.75, 96.875, 81.25, 96.875, 90.625, 96.875, 93.75, 87.5, 93.75, 93.75, 87.5, 84.375, 87.5, 90.625, 96.875, 81.25, 93.75, 100.0, 93.75, 96.875, 84.375, 93.75, 87.5, 96.875, 96.875, 87.5, 93.75, 87.5, 90.625, 93.75, 90.625, 96.875, 96.875, 87.5, 90.625, 93.75, 96.875, 100.0, 87.5, 90.625, 93.75, 90.625, 96.875, 93.75, 84.375, 87.5, 93.75, 96.875, 87.5, 90.625, 90.625, 96.875, 84.375, 100.0, 90.625, 93.75, 100.0, 90.625, 100.0, 93.75, 96.875, 93.75, 93.75, 96.875, 87.5, 96.875, 96.875, 90.625, 90.625, 96.875, 90.625, 93.75, 84.375, 87.5, 87.5, 87.5, 84.375, 87.5, 96.875, 87.5, 87.5, 100.0, 90.625, 100.0, 90.625, 90.625, 90.625, 87.5, 93.75, 93.75, 93.75, 96.875, 90.625, 96.875, 93.75, 87.5, 96.875, 87.5, 96.875, 84.375, 84.375, 90.625, 87.5, 87.5, 96.875, 87.5, 96.875, 100.0, 93.75, 93.75, 90.625, 90.625, 96.875, 90.625, 96.875, 87.5, 96.875, 87.5, 90.625, 96.875, 90.625, 96.875, 93.75, 96.875, 90.625, 90.625, 93.75, 93.75, 84.375, 90.625, 93.75, 93.75, 90.625, 93.75, 90.625, 87.5, 90.625, 84.375, 96.875, 96.875, 90.625, 90.625, 96.875, 96.875, 84.375, 87.5, 87.5, 87.5, 81.25, 81.25, 93.75, 93.75, 96.875, 90.625, 81.25, 96.875, 100.0, 93.75, 96.875, 96.875, 93.75, 90.625, 87.5, 84.375, 100.0, 96.875, 87.5, 93.75, 84.375, 81.25, 93.75, 90.625, 93.75, 93.75, 90.625, 93.75, 96.875, 90.625, 84.375, 93.75, 96.875, 90.625, 84.375, 84.375, 93.75, 93.75, 90.625, 87.5, 93.75, 96.875, 93.75, 96.875, 90.625, 100.0, 87.5, 96.875, 87.5, 90.625, 93.75, 93.75, 90.625, 90.625, 96.875, 84.375, 96.875, 84.375, 100.0, 93.75, 93.75, 100.0, 96.875, 90.625, 90.625, 100.0, 96.875, 93.75, 100.0, 96.875, 93.75, 90.625, 100.0, 90.625, 93.75, 93.75, 90.625, 96.875, 90.625, 90.625, 100.0, 93.75, 90.625, 87.5, 93.75, 96.875, 87.5, 78.125, 93.75, 87.5, 90.625, 93.75, 90.625, 90.625, 78.125, 93.75, 93.75, 87.5, 96.875, 93.75, 93.75, 90.625, 93.75, 90.625, 90.625, 93.75, 96.875, 100.0, 93.75, 90.625, 87.5, 90.625, 90.625, 87.5, 96.875, 93.75, 90.625, 96.875, 90.625, 96.875, 90.625, 84.375, 93.75, 90.625, 93.75, 90.625, 93.75, 96.875, 100.0, 84.375, 90.625, 87.5, 90.625, 90.625, 93.75, 81.25, 93.75, 96.875, 100.0, 90.625, 96.875, 96.875, 93.75, 87.5, 84.375, 100.0, 87.5, 100.0, 87.5, 93.75, 81.25, 93.75, 93.75, 84.375, 93.75, 84.375, 96.875, 93.75, 100.0, 93.75, 93.75, 84.375, 100.0, 87.5, 93.75, 90.625, 90.625, 93.75, 81.25, 90.625, 90.625, 84.375, 90.625, 90.625, 90.625, 96.875, 96.875, 90.625, 93.75, 81.25, 96.875, 96.875, 90.625, 93.75, 87.5, 96.875, 93.75, 100.0, 96.875, 93.75, 90.625, 90.625, 100.0, 87.5, 96.875, 84.375, 90.625, 96.875, 93.75, 93.75, 87.5, 100.0, 93.75, 96.875, 90.625, 90.625, 96.875, 81.25, 93.75, 96.875, 87.5, 87.5, 90.625, 96.875, 90.625, 90.625, 84.375, 87.5, 96.875, 87.5, 93.75, 81.25, 93.75, 93.75, 96.875, 87.5, 93.75, 90.625, 96.875, 93.75, 78.125, 87.5, 96.875, 84.375, 96.875, 93.75, 90.625, 93.75, 100.0, 93.75, 90.625, 87.5, 87.5, 93.75, 90.625, 87.5, 93.75, 96.875, 96.875, 96.875, 93.75, 96.875, 87.5, 100.0, 93.75, 93.75, 93.75, 100.0, 87.5, 90.625, 90.625, 87.5, 90.625, 93.75, 96.875, 93.75, 90.625, 87.5, 93.75, 87.5, 96.875, 100.0, 96.875, 90.625, 78.125, 81.25, 87.5, 87.5, 93.75, 81.25, 78.125, 90.625, 93.75, 93.75, 93.75, 96.875, 90.625, 100.0, 90.625, 90.625, 90.625, 90.625, 84.375, 93.75, 84.375, 100.0, 93.75, 93.75, 96.875, 93.75, 84.375, 100.0, 96.875, 90.625, 93.75, 93.75, 90.625, 93.75, 96.875, 87.5, 100.0, 93.75, 81.25, 96.875, 90.625, 90.625, 100.0, 90.625, 90.625, 87.5, 96.875, 96.875, 96.875, 93.75, 93.75, 100.0, 90.625, 100.0, 90.625, 93.75, 96.875, 90.625, 93.75, 96.875, 96.875, 96.875, 96.875, 90.625, 84.375, 93.75, 93.75, 81.25, 90.625, 93.75, 96.875, 93.75, 93.75, 93.75, 96.875, 90.625, 100.0, 100.0, 93.75, 87.5, 90.625, 93.75, 90.625, 100.0, 90.625, 96.875, 96.875, 93.75, 84.375, 96.875, 90.625, 90.625, 100.0, 90.625, 87.5, 87.5, 84.375, 90.625, 90.625, 81.25, 84.375, 96.875, 96.875, 90.625, 81.25, 90.625, 93.75, 96.875, 81.25, 93.75, 96.875, 100.0, 93.75, 87.5, 93.75, 93.75, 93.75, 93.75, 87.5, 93.75, 96.875, 87.5, 96.875, 93.75, 90.625, 93.75, 93.75, 93.75, 93.75, 93.75, 93.75, 90.625, 90.625, 90.625, 87.5, 90.625, 84.375, 93.75, 90.625, 90.625, 90.625, 90.625, 87.5, 90.625, 93.75, 87.5, 100.0, 96.875, 84.375, 100.0, 90.625, 84.375, 90.625, 93.75, 100.0, 87.5, 100.0, 90.625, 84.375, 100.0, 90.625, 100.0, 90.625, 96.875, 87.5, 96.875, 87.5, 87.5, 87.5, 84.375, 84.375, 96.875, 93.75, 93.75, 87.5, 93.75, 90.625, 93.75, 96.875, 93.75, 93.75, 96.875, 93.75, 93.75, 90.625, 87.5, 96.875, 90.625, 93.75, 96.875, 87.5, 84.375, 90.625, 90.625, 62.5, 93.75, 90.625, 96.875, 100.0, 100.0, 93.75, 90.625, 100.0, 93.75, 93.75, 93.75, 96.875, 96.875, 93.75, 93.75, 96.875, 100.0, 90.625, 93.75, 93.75, 93.75, 93.75, 100.0, 96.875, 96.875, 90.625, 100.0, 90.625, 100.0, 96.875, 90.625, 100.0, 96.875, 90.625, 93.75, 96.875, 93.75, 93.75, 100.0, 96.875, 96.875, 93.75, 96.875, 96.875, 100.0, 90.625, 100.0, 96.875, 93.75, 93.75, 87.5, 93.75, 93.75, 100.0, 100.0, 96.875, 93.75, 93.75, 100.0, 100.0, 93.75, 93.75, 90.625, 93.75, 96.875, 100.0, 87.5, 93.75, 93.75, 93.75, 96.875, 100.0, 93.75, 96.875, 96.875, 100.0, 93.75, 100.0, 93.75, 93.75, 90.625, 96.875, 100.0, 93.75, 87.5, 93.75, 96.875, 93.75, 96.875, 100.0, 90.625, 93.75, 93.75, 96.875, 93.75, 100.0, 100.0, 93.75, 100.0, 100.0, 96.875, 93.75, 96.875, 93.75, 96.875, 93.75, 100.0, 96.875, 93.75, 96.875, 100.0, 96.875, 90.625, 100.0, 100.0, 100.0, 100.0, 100.0, 96.875, 96.875, 100.0, 100.0, 93.75, 84.375, 93.75, 100.0, 100.0, 96.875, 87.5, 87.5, 96.875, 100.0, 90.625, 100.0, 100.0, 96.875, 90.625, 96.875, 87.5, 100.0, 96.875, 93.75, 93.75, 87.5, 96.875, 90.625, 96.875, 100.0, 90.625, 100.0, 90.625, 96.875, 93.75, 96.875, 93.75, 96.875, 96.875, 96.875, 100.0, 93.75, 100.0, 96.875, 93.75, 93.75, 96.875, 90.625, 96.875, 90.625, 93.75, 93.75, 93.75, 100.0, 90.625, 90.625, 90.625, 100.0, 90.625, 96.875, 93.75, 96.875, 93.75, 96.875, 96.875, 93.75, 93.75, 93.75, 93.75, 93.75, 96.875, 96.875, 100.0, 100.0, 96.875, 100.0, 96.875, 90.625, 100.0, 93.75, 96.875, 90.625, 96.875, 100.0, 93.75, 93.75, 100.0, 87.5, 96.875, 100.0, 96.875, 96.875, 100.0, 100.0, 96.875, 93.75, 96.875, 100.0, 96.875, 90.625, 100.0, 93.75, 93.75, 93.75, 96.875, 96.875, 90.625, 93.75, 93.75, 93.75, 93.75, 96.875, 93.75, 93.75, 93.75, 96.875, 96.875, 90.625, 96.875, 90.625, 90.625, 90.625, 96.875, 100.0, 93.75, 96.875, 93.75, 90.625, 96.875, 96.875, 96.875, 93.75, 100.0, 96.875, 96.875, 100.0, 96.875, 90.625, 96.875, 100.0, 100.0, 93.75, 93.75, 87.5, 100.0, 93.75, 93.75, 93.75, 90.625, 96.875, 100.0, 96.875, 87.5, 93.75, 93.75, 96.875, 96.875, 93.75, 93.75, 96.875, 100.0, 96.875, 90.625, 93.75, 93.75, 93.75, 93.75, 90.625, 96.875, 96.875, 100.0, 90.625, 93.75, 100.0, 93.75, 90.625, 96.875, 100.0, 87.5, 96.875, 93.75, 96.875, 84.375, 96.875, 100.0, 100.0, 100.0, 93.75, 96.875, 93.75, 90.625, 100.0, 100.0, 93.75, 93.75, 100.0, 96.875, 96.875, 100.0, 90.625, 100.0, 90.625, 96.875, 100.0, 100.0, 100.0, 96.875, 93.75, 90.625, 93.75, 96.875, 96.875, 100.0, 96.875, 93.75, 96.875, 96.875, 96.875, 93.75, 100.0, 87.5, 87.5, 96.875, 90.625, 100.0, 100.0, 96.875, 100.0, 96.875, 96.875, 96.875, 100.0, 96.875, 93.75, 93.75, 96.875, 100.0, 96.875, 90.625, 96.875, 87.5, 96.875, 93.75, 100.0, 100.0, 93.75, 96.875, 96.875, 93.75, 87.5, 96.875, 100.0, 93.75, 100.0, 100.0, 90.625, 93.75, 100.0, 100.0, 96.875, 96.875, 100.0, 100.0, 100.0, 90.625, 96.875, 84.375, 100.0, 100.0, 96.875, 90.625, 93.75, 90.625, 93.75, 90.625, 96.875, 93.75, 87.5, 96.875, 96.875, 93.75, 90.625, 90.625, 96.875, 90.625, 96.875, 100.0, 96.875, 96.875, 93.75, 96.875, 100.0, 100.0, 96.875, 100.0, 100.0, 96.875, 90.625, 96.875, 93.75, 96.875, 96.875, 93.75, 93.75, 96.875, 96.875, 96.875, 93.75, 100.0, 93.75, 93.75, 96.875, 93.75, 87.5, 93.75, 93.75, 93.75, 100.0, 96.875, 100.0, 96.875, 96.875, 93.75, 90.625, 93.75, 93.75, 96.875, 100.0, 93.75, 96.875, 96.875, 96.875, 96.875, 93.75, 96.875, 93.75, 93.75, 84.375, 100.0, 90.625, 90.625, 90.625, 90.625, 93.75, 100.0, 96.875, 100.0, 96.875, 100.0, 100.0, 93.75, 96.875, 100.0, 93.75, 93.75, 100.0, 90.625, 90.625, 90.625, 96.875, 100.0, 100.0, 100.0, 96.875, 93.75, 93.75, 90.625, 100.0, 100.0, 96.875, 96.875, 93.75, 93.75, 96.875, 100.0, 96.875, 93.75, 96.875, 100.0, 93.75, 100.0, 96.875, 100.0, 87.5, 90.625, 93.75, 100.0, 96.875, 93.75, 100.0, 90.625, 93.75, 90.625, 96.875, 96.875, 90.625, 96.875, 96.875, 100.0, 93.75, 96.875, 100.0, 96.875, 96.875, 93.75, 93.75, 100.0, 96.875, 87.5, 93.75, 96.875, 100.0, 96.875, 87.5, 100.0, 93.75, 96.875, 96.875, 90.625, 93.75, 100.0, 96.875, 96.875, 100.0, 100.0, 90.625, 96.875, 100.0, 96.875, 100.0, 100.0, 93.75, 96.875, 100.0, 96.875, 96.875, 96.875, 100.0, 100.0, 96.875, 84.375, 96.875, 90.625, 96.875, 90.625, 87.5, 96.875, 93.75, 96.875, 96.875, 96.875, 93.75, 100.0, 93.75, 93.75, 100.0, 100.0, 96.875, 87.5, 84.375, 96.875, 96.875, 96.875, 93.75, 100.0, 90.625, 93.75, 96.875, 96.875, 96.875, 100.0, 93.75, 90.625, 100.0, 90.625, 100.0, 90.625, 96.875, 90.625, 100.0, 96.875, 96.875, 93.75, 100.0, 96.875, 93.75, 100.0, 96.875, 96.875, 100.0, 96.875, 90.625, 93.75, 90.625, 100.0, 84.375, 93.75, 96.875, 96.875, 90.625, 90.625, 100.0, 93.75, 90.625, 90.625, 93.75, 96.875, 93.75, 96.875, 93.75, 90.625, 96.875, 96.875, 100.0, 93.75, 93.75, 96.875, 100.0, 90.625, 90.625, 96.875, 93.75, 100.0, 96.875, 96.875, 100.0, 96.875, 100.0, 90.625, 96.875, 96.875, 96.875, 90.625, 93.75, 100.0, 100.0, 96.875, 90.625, 100.0, 90.625, 100.0, 100.0, 96.875, 90.625, 96.875, 93.75, 90.625, 96.875, 96.875, 100.0, 93.75, 96.875, 96.875, 96.875, 93.75, 93.75, 96.875, 96.875, 90.625, 93.75, 96.875, 96.875, 96.875, 87.5, 100.0, 100.0, 96.875, 100.0, 100.0, 100.0, 96.875, 93.75, 90.625, 96.875, 81.25, 100.0, 96.875, 96.875, 96.875, 96.875, 100.0, 100.0, 100.0, 93.75, 96.875, 93.75, 100.0, 96.875, 100.0, 96.875, 93.75, 96.875, 100.0, 96.875, 93.75, 93.75, 96.875, 100.0, 93.75, 93.75, 93.75, 90.625, 96.875, 96.875, 96.875, 96.875, 93.75, 93.75, 96.875, 100.0, 93.75, 96.875, 96.875, 93.75, 93.75, 100.0, 90.625, 96.875, 100.0, 100.0, 93.75, 96.875, 96.875, 87.5, 90.625, 96.875, 93.75, 100.0, 100.0, 90.625, 100.0, 96.875, 90.625, 100.0, 93.75, 100.0, 100.0, 96.875, 90.625, 96.875, 93.75, 100.0, 96.875, 100.0, 93.75, 93.75, 93.75, 100.0, 93.75, 100.0, 90.625, 96.875, 96.875, 100.0, 93.75, 100.0, 93.75, 93.75, 93.75, 100.0, 96.875, 93.75, 96.875, 90.625, 96.875, 93.75, 87.5, 93.75, 93.75, 93.75, 96.875, 96.875, 96.875, 100.0, 100.0, 100.0, 100.0, 93.75, 96.875, 100.0, 96.875, 96.875, 90.625, 100.0, 93.75, 93.75, 93.75, 96.875, 90.625, 93.75, 96.875, 96.875, 100.0, 96.875, 93.75, 93.75, 96.875, 93.75, 100.0, 100.0, 100.0, 96.875, 93.75, 100.0, 93.75, 100.0, 84.375, 93.75, 93.75, 96.875, 100.0, 100.0, 96.875, 100.0, 90.625, 96.875, 96.875, 90.625, 93.75, 96.875, 100.0, 96.875, 90.625, 96.875, 96.875, 87.5, 100.0, 93.75, 100.0, 100.0, 96.875, 93.75, 93.75, 100.0, 100.0, 90.625, 96.875, 93.75, 100.0, 93.75, 93.75, 96.875, 96.875, 93.75, 81.25, 100.0, 96.875, 93.75, 100.0, 96.875, 100.0, 93.75, 96.875, 100.0, 100.0, 100.0, 90.625, 87.5, 100.0, 100.0, 93.75, 93.75, 96.875, 100.0, 100.0, 100.0, 93.75, 96.875, 100.0, 96.875, 96.875, 100.0, 96.875, 100.0, 87.5, 100.0, 100.0, 100.0, 87.5, 96.875, 90.625, 93.75, 96.875, 93.75, 93.75, 93.75, 90.625, 96.875, 93.75, 96.875, 100.0, 100.0, 93.75, 96.875, 96.875, 93.75, 100.0, 90.625, 96.875, 100.0, 96.875, 96.875, 96.875, 93.75, 93.75, 100.0, 93.75, 93.75, 96.875, 93.75, 96.875, 100.0, 90.625, 96.875, 96.875, 93.75, 93.75, 96.875, 100.0, 96.875, 90.625, 96.875, 96.875, 87.5, 93.75, 93.75, 100.0, 87.5, 93.75, 87.5, 96.875, 93.75, 100.0, 93.75, 96.875, 96.875, 93.75, 93.75, 87.5, 100.0, 96.875, 93.75, 100.0, 93.75, 96.875, 96.875, 96.875, 100.0, 96.875, 100.0, 90.625, 96.875, 87.5, 96.875, 93.75, 96.875, 96.875, 93.75, 96.875, 90.625, 96.875, 100.0, 87.5, 90.625, 93.75, 100.0, 96.875, 93.75, 100.0, 96.875, 100.0, 96.875, 100.0, 96.875, 96.875, 93.75, 93.75, 90.625, 96.875, 100.0, 96.875, 96.875, 90.625, 100.0, 100.0, 93.75, 96.875, 90.625, 93.75, 96.875, 100.0, 93.75, 96.875, 96.875, 96.875, 93.75, 90.625, 100.0, 90.625, 100.0, 90.625, 96.875, 93.75, 100.0, 96.875, 100.0, 100.0, 100.0, 96.875, 100.0, 100.0, 96.875, 96.875, 93.75, 96.875, 100.0, 96.875, 96.875, 100.0, 96.875, 96.875, 96.875, 100.0, 100.0, 96.875, 96.875, 93.75, 96.875, 100.0, 93.75, 96.875, 96.875, 90.625, 96.875, 93.75, 87.5, 96.875, 90.625, 96.875, 100.0, 90.625, 100.0, 96.875, 90.625, 93.75, 100.0, 90.625, 96.875, 100.0, 100.0, 96.875, 96.875, 100.0, 100.0, 100.0, 96.875, 96.875, 93.75, 87.5, 90.625, 93.75, 100.0, 100.0, 93.75, 96.875, 100.0, 96.875, 100.0, 90.625, 93.75, 90.625, 90.625, 96.875, 96.875, 93.75, 96.875, 93.75, 100.0, 93.75, 93.75, 96.875, 96.875, 96.875, 93.75, 100.0, 93.75, 90.625, 96.875, 100.0, 93.75, 96.875, 93.75, 93.75, 93.75, 93.75, 96.875, 96.875, 90.625, 96.875, 93.75, 90.625, 87.5, 96.875, 96.875, 96.875, 96.875, 100.0, 100.0, 96.875, 96.875, 100.0, 84.375, 90.625, 90.625, 96.875, 100.0, 93.75, 90.625, 100.0, 93.75, 100.0, 87.5, 100.0, 96.875, 93.75, 93.75, 100.0, 93.75, 90.625, 93.75, 96.875, 96.875, 90.625, 100.0, 96.875, 96.875, 93.75, 93.75, 90.625, 100.0, 93.75, 96.875, 100.0, 93.75, 96.875, 93.75, 100.0, 87.5, 96.875, 96.875, 96.875, 100.0, 96.875, 100.0, 96.875, 93.75, 93.75, 93.75, 96.875, 90.625, 100.0, 93.75, 90.625, 93.75, 93.75, 96.875, 93.75, 87.5, 90.625, 100.0, 90.625, 84.375, 93.75, 100.0, 87.5, 90.625, 100.0, 93.75, 93.75, 96.875, 93.75, 96.875, 100.0, 100.0, 100.0, 93.75, 87.5, 93.75, 93.75, 93.75, 96.875, 96.875, 84.375, 100.0, 100.0, 96.875, 100.0, 96.875, 96.875, 90.625, 100.0, 96.875, 100.0, 93.75, 96.875, 93.75, 93.75, 93.75, 96.875, 96.875, 100.0, 96.875, 100.0, 93.75, 96.875, 96.875, 96.875, 100.0, 100.0, 93.75, 96.875, 96.875, 100.0, 96.875, 93.75, 100.0, 90.625, 90.625, 100.0, 100.0, 96.875, 100.0, 96.875, 93.75, 96.875, 100.0, 96.875, 90.625, 93.75, 96.875, 100.0, 90.625, 96.875, 93.75, 81.25, 90.625, 90.625, 96.875, 96.875, 96.875, 93.75, 93.75, 96.875, 96.875, 90.625, 93.75, 96.875, 96.875, 96.875, 93.75, 90.625, 96.875, 93.75, 100.0, 100.0, 96.875, 56.25]\n",
            "  Average training loss:0.12\n",
            "  Training epoch took: 0:04:25\n",
            "\n",
            "======== Epoch 4 / 5 ========\n",
            "Training...\n",
            "  Batch    50  of  1,285.    Elapsed: 0:00:10.\n",
            "  Batch   100  of  1,285.    Elapsed: 0:00:21.\n",
            "  Batch   150  of  1,285.    Elapsed: 0:00:31.\n",
            "  Batch   200  of  1,285.    Elapsed: 0:00:41.\n",
            "  Batch   250  of  1,285.    Elapsed: 0:00:52.\n",
            "  Batch   300  of  1,285.    Elapsed: 0:01:02.\n",
            "  Batch   350  of  1,285.    Elapsed: 0:01:12.\n",
            "  Batch   400  of  1,285.    Elapsed: 0:01:22.\n",
            "  Batch   450  of  1,285.    Elapsed: 0:01:33.\n",
            "  Batch   500  of  1,285.    Elapsed: 0:01:43.\n",
            "  Batch   550  of  1,285.    Elapsed: 0:01:53.\n",
            "  Batch   600  of  1,285.    Elapsed: 0:02:03.\n",
            "  Batch   650  of  1,285.    Elapsed: 0:02:14.\n",
            "  Batch   700  of  1,285.    Elapsed: 0:02:24.\n",
            "  Batch   750  of  1,285.    Elapsed: 0:02:34.\n",
            "  Batch   800  of  1,285.    Elapsed: 0:02:45.\n",
            "  Batch   850  of  1,285.    Elapsed: 0:02:55.\n",
            "  Batch   900  of  1,285.    Elapsed: 0:03:05.\n",
            "  Batch   950  of  1,285.    Elapsed: 0:03:15.\n",
            "  Batch 1,000  of  1,285.    Elapsed: 0:03:26.\n",
            "  Batch 1,050  of  1,285.    Elapsed: 0:03:36.\n",
            "  Batch 1,100  of  1,285.    Elapsed: 0:03:46.\n",
            "  Batch 1,150  of  1,285.    Elapsed: 0:03:57.\n",
            "  Batch 1,200  of  1,285.    Elapsed: 0:04:07.\n",
            "  Batch 1,250  of  1,285.    Elapsed: 0:04:17.\n",
            "\n",
            "Training accuracy: [34.375, 37.5, 31.25, 68.75, 78.125, 81.25, 84.375, 84.375, 84.375, 87.5, 81.25, 84.375, 71.875, 75.0, 78.125, 75.0, 75.0, 87.5, 75.0, 90.625, 53.125, 81.25, 68.75, 75.0, 75.0, 68.75, 81.25, 75.0, 71.875, 90.625, 75.0, 81.25, 81.25, 75.0, 62.5, 84.375, 75.0, 75.0, 68.75, 71.875, 78.125, 84.375, 62.5, 84.375, 84.375, 78.125, 68.75, 81.25, 71.875, 84.375, 90.625, 87.5, 81.25, 84.375, 81.25, 84.375, 75.0, 81.25, 84.375, 81.25, 81.25, 75.0, 78.125, 68.75, 81.25, 75.0, 78.125, 84.375, 65.625, 81.25, 62.5, 75.0, 71.875, 68.75, 71.875, 87.5, 90.625, 87.5, 75.0, 81.25, 75.0, 84.375, 78.125, 84.375, 62.5, 84.375, 78.125, 75.0, 78.125, 78.125, 87.5, 90.625, 84.375, 87.5, 78.125, 87.5, 81.25, 87.5, 84.375, 75.0, 84.375, 87.5, 84.375, 87.5, 84.375, 81.25, 78.125, 87.5, 90.625, 93.75, 90.625, 71.875, 90.625, 78.125, 84.375, 71.875, 87.5, 87.5, 81.25, 78.125, 75.0, 90.625, 96.875, 78.125, 84.375, 68.75, 87.5, 87.5, 81.25, 78.125, 68.75, 90.625, 90.625, 90.625, 78.125, 84.375, 87.5, 75.0, 87.5, 87.5, 90.625, 71.875, 75.0, 75.0, 71.875, 90.625, 84.375, 90.625, 81.25, 90.625, 84.375, 81.25, 81.25, 84.375, 87.5, 81.25, 90.625, 81.25, 96.875, 87.5, 71.875, 90.625, 87.5, 90.625, 84.375, 78.125, 81.25, 87.5, 90.625, 81.25, 87.5, 90.625, 81.25, 81.25, 84.375, 75.0, 93.75, 100.0, 81.25, 90.625, 100.0, 90.625, 78.125, 81.25, 87.5, 90.625, 81.25, 84.375, 93.75, 71.875, 90.625, 90.625, 75.0, 65.625, 81.25, 81.25, 78.125, 81.25, 81.25, 90.625, 78.125, 87.5, 93.75, 87.5, 75.0, 90.625, 84.375, 78.125, 87.5, 81.25, 90.625, 87.5, 87.5, 90.625, 93.75, 78.125, 84.375, 93.75, 75.0, 81.25, 81.25, 90.625, 84.375, 81.25, 87.5, 78.125, 84.375, 90.625, 75.0, 96.875, 84.375, 90.625, 81.25, 87.5, 87.5, 84.375, 93.75, 87.5, 93.75, 75.0, 87.5, 78.125, 81.25, 78.125, 71.875, 87.5, 81.25, 87.5, 87.5, 81.25, 84.375, 93.75, 81.25, 87.5, 93.75, 90.625, 84.375, 96.875, 75.0, 84.375, 84.375, 78.125, 75.0, 62.5, 78.125, 75.0, 87.5, 84.375, 81.25, 84.375, 75.0, 78.125, 81.25, 75.0, 87.5, 78.125, 87.5, 81.25, 90.625, 100.0, 84.375, 87.5, 84.375, 87.5, 75.0, 90.625, 87.5, 90.625, 90.625, 90.625, 81.25, 93.75, 84.375, 78.125, 84.375, 78.125, 96.875, 87.5, 81.25, 90.625, 84.375, 81.25, 84.375, 87.5, 93.75, 87.5, 87.5, 84.375, 81.25, 93.75, 75.0, 84.375, 81.25, 87.5, 87.5, 84.375, 84.375, 90.625, 87.5, 90.625, 96.875, 96.875, 87.5, 96.875, 84.375, 87.5, 93.75, 75.0, 96.875, 90.625, 87.5, 90.625, 87.5, 75.0, 87.5, 87.5, 90.625, 93.75, 84.375, 93.75, 78.125, 90.625, 84.375, 90.625, 90.625, 100.0, 78.125, 75.0, 90.625, 87.5, 87.5, 100.0, 78.125, 96.875, 90.625, 81.25, 84.375, 93.75, 87.5, 78.125, 90.625, 87.5, 84.375, 84.375, 90.625, 90.625, 84.375, 96.875, 87.5, 78.125, 87.5, 84.375, 75.0, 75.0, 84.375, 96.875, 84.375, 93.75, 81.25, 78.125, 87.5, 71.875, 75.0, 81.25, 84.375, 90.625, 78.125, 75.0, 90.625, 96.875, 93.75, 90.625, 87.5, 84.375, 81.25, 84.375, 90.625, 93.75, 87.5, 78.125, 93.75, 90.625, 75.0, 87.5, 90.625, 81.25, 84.375, 93.75, 93.75, 87.5, 93.75, 90.625, 75.0, 81.25, 90.625, 84.375, 71.875, 93.75, 87.5, 78.125, 81.25, 90.625, 93.75, 87.5, 81.25, 93.75, 81.25, 81.25, 87.5, 93.75, 100.0, 96.875, 93.75, 84.375, 90.625, 93.75, 90.625, 84.375, 81.25, 100.0, 84.375, 90.625, 90.625, 90.625, 90.625, 84.375, 93.75, 93.75, 84.375, 90.625, 78.125, 96.875, 93.75, 87.5, 90.625, 75.0, 84.375, 93.75, 87.5, 87.5, 96.875, 90.625, 81.25, 87.5, 93.75, 68.75, 87.5, 81.25, 84.375, 78.125, 81.25, 87.5, 81.25, 90.625, 87.5, 90.625, 90.625, 87.5, 87.5, 90.625, 68.75, 81.25, 81.25, 90.625, 96.875, 90.625, 87.5, 84.375, 84.375, 84.375, 81.25, 84.375, 75.0, 90.625, 87.5, 75.0, 81.25, 81.25, 68.75, 78.125, 78.125, 87.5, 87.5, 84.375, 78.125, 90.625, 93.75, 81.25, 81.25, 78.125, 90.625, 75.0, 84.375, 81.25, 84.375, 81.25, 90.625, 93.75, 78.125, 87.5, 87.5, 84.375, 93.75, 96.875, 75.0, 84.375, 84.375, 81.25, 78.125, 81.25, 81.25, 93.75, 96.875, 84.375, 78.125, 81.25, 84.375, 90.625, 90.625, 84.375, 87.5, 93.75, 90.625, 90.625, 100.0, 90.625, 90.625, 87.5, 87.5, 96.875, 87.5, 93.75, 87.5, 87.5, 84.375, 87.5, 96.875, 87.5, 93.75, 90.625, 90.625, 78.125, 90.625, 81.25, 87.5, 96.875, 84.375, 84.375, 84.375, 93.75, 87.5, 90.625, 93.75, 84.375, 78.125, 84.375, 81.25, 87.5, 81.25, 78.125, 84.375, 90.625, 78.125, 75.0, 90.625, 87.5, 84.375, 96.875, 90.625, 84.375, 87.5, 84.375, 90.625, 87.5, 90.625, 81.25, 93.75, 90.625, 90.625, 75.0, 81.25, 93.75, 93.75, 87.5, 75.0, 87.5, 90.625, 100.0, 87.5, 84.375, 93.75, 87.5, 90.625, 96.875, 75.0, 87.5, 87.5, 93.75, 90.625, 78.125, 90.625, 75.0, 87.5, 90.625, 87.5, 90.625, 90.625, 90.625, 81.25, 71.875, 75.0, 93.75, 78.125, 81.25, 75.0, 87.5, 84.375, 78.125, 87.5, 93.75, 87.5, 93.75, 90.625, 90.625, 93.75, 87.5, 93.75, 90.625, 84.375, 90.625, 81.25, 84.375, 81.25, 90.625, 90.625, 87.5, 93.75, 90.625, 78.125, 87.5, 84.375, 87.5, 93.75, 87.5, 84.375, 84.375, 93.75, 93.75, 93.75, 87.5, 87.5, 84.375, 93.75, 90.625, 93.75, 87.5, 84.375, 81.25, 93.75, 81.25, 75.0, 87.5, 100.0, 90.625, 93.75, 93.75, 90.625, 87.5, 90.625, 84.375, 81.25, 90.625, 81.25, 84.375, 81.25, 81.25, 84.375, 84.375, 81.25, 93.75, 87.5, 78.125, 87.5, 96.875, 93.75, 90.625, 93.75, 78.125, 93.75, 81.25, 84.375, 87.5, 84.375, 78.125, 81.25, 90.625, 87.5, 81.25, 84.375, 87.5, 84.375, 78.125, 87.5, 84.375, 93.75, 93.75, 84.375, 96.875, 96.875, 96.875, 84.375, 81.25, 81.25, 87.5, 90.625, 75.0, 93.75, 78.125, 81.25, 81.25, 87.5, 90.625, 84.375, 93.75, 96.875, 90.625, 81.25, 90.625, 84.375, 93.75, 75.0, 93.75, 84.375, 96.875, 93.75, 90.625, 93.75, 90.625, 96.875, 87.5, 93.75, 81.25, 68.75, 87.5, 96.875, 96.875, 93.75, 81.25, 93.75, 84.375, 87.5, 96.875, 96.875, 78.125, 84.375, 93.75, 81.25, 87.5, 87.5, 81.25, 93.75, 93.75, 100.0, 100.0, 96.875, 84.375, 90.625, 96.875, 87.5, 93.75, 93.75, 90.625, 84.375, 96.875, 90.625, 84.375, 84.375, 90.625, 87.5, 93.75, 81.25, 87.5, 93.75, 81.25, 81.25, 96.875, 90.625, 84.375, 90.625, 75.0, 93.75, 93.75, 96.875, 93.75, 84.375, 81.25, 96.875, 90.625, 96.875, 87.5, 93.75, 93.75, 93.75, 87.5, 96.875, 81.25, 93.75, 87.5, 84.375, 84.375, 93.75, 81.25, 93.75, 93.75, 90.625, 84.375, 87.5, 87.5, 84.375, 84.375, 84.375, 96.875, 87.5, 93.75, 90.625, 96.875, 84.375, 84.375, 90.625, 84.375, 90.625, 87.5, 93.75, 87.5, 84.375, 87.5, 84.375, 78.125, 100.0, 90.625, 84.375, 87.5, 93.75, 93.75, 96.875, 90.625, 90.625, 87.5, 93.75, 90.625, 90.625, 87.5, 93.75, 93.75, 90.625, 90.625, 78.125, 81.25, 90.625, 81.25, 87.5, 87.5, 96.875, 87.5, 84.375, 93.75, 93.75, 90.625, 93.75, 81.25, 87.5, 87.5, 90.625, 93.75, 87.5, 81.25, 93.75, 81.25, 90.625, 87.5, 84.375, 78.125, 87.5, 84.375, 90.625, 90.625, 87.5, 87.5, 90.625, 90.625, 84.375, 87.5, 93.75, 90.625, 81.25, 90.625, 87.5, 93.75, 87.5, 75.0, 90.625, 75.0, 87.5, 84.375, 81.25, 81.25, 84.375, 84.375, 90.625, 84.375, 96.875, 84.375, 100.0, 84.375, 87.5, 93.75, 84.375, 96.875, 84.375, 96.875, 87.5, 87.5, 87.5, 90.625, 93.75, 84.375, 93.75, 81.25, 90.625, 90.625, 93.75, 84.375, 87.5, 87.5, 93.75, 87.5, 90.625, 90.625, 96.875, 87.5, 90.625, 93.75, 93.75, 87.5, 87.5, 96.875, 93.75, 75.0, 87.5, 90.625, 81.25, 84.375, 75.0, 87.5, 81.25, 75.0, 87.5, 87.5, 81.25, 87.5, 90.625, 93.75, 87.5, 87.5, 84.375, 87.5, 78.125, 84.375, 87.5, 90.625, 90.625, 87.5, 93.75, 81.25, 90.625, 93.75, 84.375, 93.75, 90.625, 78.125, 84.375, 93.75, 93.75, 93.75, 84.375, 93.75, 96.875, 81.25, 84.375, 93.75, 93.75, 87.5, 84.375, 87.5, 84.375, 84.375, 93.75, 90.625, 84.375, 87.5, 87.5, 96.875, 87.5, 93.75, 81.25, 90.625, 84.375, 93.75, 93.75, 84.375, 81.25, 84.375, 84.375, 81.25, 96.875, 84.375, 87.5, 90.625, 90.625, 90.625, 81.25, 78.125, 96.875, 81.25, 84.375, 87.5, 90.625, 90.625, 78.125, 93.75, 87.5, 87.5, 90.625, 96.875, 84.375, 87.5, 96.875, 87.5, 90.625, 90.625, 90.625, 93.75, 93.75, 96.875, 81.25, 81.25, 81.25, 96.875, 87.5, 90.625, 87.5, 90.625, 90.625, 93.75, 96.875, 87.5, 90.625, 93.75, 87.5, 93.75, 84.375, 90.625, 87.5, 84.375, 87.5, 90.625, 87.5, 87.5, 90.625, 96.875, 87.5, 84.375, 90.625, 87.5, 81.25, 81.25, 84.375, 87.5, 90.625, 87.5, 93.75, 90.625, 90.625, 87.5, 84.375, 96.875, 87.5, 87.5, 100.0, 90.625, 96.875, 87.5, 96.875, 81.25, 90.625, 93.75, 87.5, 100.0, 87.5, 93.75, 87.5, 87.5, 90.625, 90.625, 84.375, 87.5, 93.75, 81.25, 84.375, 90.625, 93.75, 87.5, 90.625, 87.5, 84.375, 90.625, 90.625, 84.375, 87.5, 90.625, 90.625, 93.75, 84.375, 93.75, 78.125, 87.5, 90.625, 87.5, 87.5, 78.125, 93.75, 90.625, 87.5, 75.0, 90.625, 93.75, 87.5, 90.625, 84.375, 96.875, 90.625, 90.625, 96.875, 81.25, 84.375, 96.875, 87.5, 90.625, 87.5, 90.625, 84.375, 93.75, 96.875, 93.75, 96.875, 87.5, 87.5, 90.625, 87.5, 90.625, 87.5, 87.5, 100.0, 87.5, 96.875, 93.75, 78.125, 81.25, 84.375, 93.75, 90.625, 84.375, 68.75, 93.75, 90.625, 90.625, 87.5, 90.625, 84.375, 84.375, 96.875, 96.875, 87.5, 84.375, 90.625, 90.625, 87.5, 87.5, 87.5, 96.875, 84.375, 81.25, 84.375, 84.375, 84.375, 90.625, 90.625, 84.375, 81.25, 90.625, 93.75, 87.5, 84.375, 78.125, 87.5, 90.625, 84.375, 93.75, 81.25, 84.375, 90.625, 87.5, 84.375, 81.25, 87.5, 87.5, 78.125, 87.5, 87.5, 87.5, 96.875, 75.0, 87.5, 96.875, 90.625, 81.25, 87.5, 96.875, 87.5, 90.625, 87.5, 84.375, 96.875, 84.375, 81.25, 81.25, 90.625, 87.5, 81.25, 87.5, 84.375, 90.625, 93.75, 90.625, 96.875, 84.375, 87.5, 78.125, 90.625, 90.625, 90.625, 90.625, 81.25, 96.875, 90.625, 81.25, 84.375, 84.375, 87.5, 84.375, 90.625, 87.5, 90.625, 93.75, 53.125, 96.875, 93.75, 93.75, 87.5, 90.625, 90.625, 90.625, 87.5, 90.625, 87.5, 96.875, 93.75, 90.625, 87.5, 90.625, 84.375, 90.625, 87.5, 93.75, 84.375, 93.75, 90.625, 90.625, 93.75, 93.75, 93.75, 87.5, 87.5, 100.0, 90.625, 93.75, 90.625, 100.0, 93.75, 87.5, 96.875, 93.75, 96.875, 90.625, 93.75, 93.75, 96.875, 93.75, 93.75, 90.625, 90.625, 84.375, 90.625, 96.875, 93.75, 96.875, 96.875, 87.5, 93.75, 96.875, 84.375, 93.75, 93.75, 87.5, 87.5, 93.75, 90.625, 93.75, 96.875, 90.625, 96.875, 93.75, 93.75, 87.5, 87.5, 96.875, 96.875, 90.625, 93.75, 100.0, 93.75, 96.875, 93.75, 87.5, 87.5, 96.875, 93.75, 93.75, 93.75, 93.75, 90.625, 87.5, 90.625, 93.75, 96.875, 93.75, 84.375, 84.375, 93.75, 93.75, 93.75, 90.625, 90.625, 96.875, 90.625, 90.625, 78.125, 93.75, 93.75, 96.875, 84.375, 100.0, 90.625, 100.0, 93.75, 90.625, 96.875, 87.5, 84.375, 100.0, 84.375, 96.875, 96.875, 93.75, 93.75, 90.625, 93.75, 90.625, 90.625, 90.625, 93.75, 100.0, 90.625, 93.75, 93.75, 87.5, 90.625, 84.375, 96.875, 87.5, 93.75, 96.875, 84.375, 87.5, 93.75, 96.875, 84.375, 87.5, 93.75, 93.75, 93.75, 93.75, 90.625, 96.875, 96.875, 90.625, 87.5, 78.125, 100.0, 93.75, 90.625, 87.5, 96.875, 90.625, 96.875, 90.625, 90.625, 96.875, 84.375, 93.75, 87.5, 87.5, 96.875, 87.5, 96.875, 84.375, 93.75, 93.75, 93.75, 90.625, 93.75, 96.875, 93.75, 96.875, 93.75, 100.0, 87.5, 87.5, 87.5, 90.625, 90.625, 90.625, 100.0, 93.75, 90.625, 93.75, 84.375, 90.625, 90.625, 96.875, 93.75, 87.5, 87.5, 93.75, 96.875, 96.875, 90.625, 96.875, 93.75, 87.5, 93.75, 93.75, 75.0, 90.625, 90.625, 100.0, 93.75, 90.625, 93.75, 87.5, 93.75, 93.75, 93.75, 96.875, 96.875, 100.0, 93.75, 93.75, 81.25, 87.5, 90.625, 90.625, 93.75, 93.75, 87.5, 96.875, 93.75, 87.5, 93.75, 93.75, 90.625, 93.75, 100.0, 90.625, 93.75, 90.625, 100.0, 96.875, 90.625, 90.625, 93.75, 90.625, 90.625, 87.5, 93.75, 87.5, 87.5, 90.625, 90.625, 84.375, 87.5, 96.875, 90.625, 96.875, 93.75, 93.75, 90.625, 100.0, 93.75, 96.875, 87.5, 90.625, 90.625, 90.625, 90.625, 96.875, 93.75, 90.625, 100.0, 93.75, 87.5, 93.75, 96.875, 96.875, 93.75, 90.625, 96.875, 90.625, 100.0, 93.75, 90.625, 96.875, 96.875, 96.875, 96.875, 96.875, 90.625, 93.75, 90.625, 93.75, 87.5, 93.75, 100.0, 96.875, 90.625, 96.875, 96.875, 93.75, 90.625, 96.875, 96.875, 84.375, 90.625, 87.5, 90.625, 93.75, 100.0, 93.75, 96.875, 96.875, 93.75, 87.5, 96.875, 84.375, 90.625, 96.875, 87.5, 90.625, 93.75, 100.0, 96.875, 90.625, 84.375, 87.5, 90.625, 90.625, 90.625, 93.75, 84.375, 93.75, 93.75, 90.625, 90.625, 96.875, 90.625, 93.75, 87.5, 90.625, 93.75, 96.875, 96.875, 93.75, 93.75, 93.75, 87.5, 96.875, 87.5, 81.25, 84.375, 96.875, 96.875, 93.75, 96.875, 93.75, 96.875, 93.75, 90.625, 87.5, 90.625, 90.625, 93.75, 90.625, 93.75, 90.625, 90.625, 90.625, 93.75, 87.5, 93.75, 93.75, 90.625, 96.875, 87.5, 96.875, 84.375, 93.75, 87.5, 93.75, 90.625, 96.875, 93.75, 87.5, 93.75, 90.625, 93.75, 96.875, 90.625, 93.75, 93.75, 96.875, 96.875, 81.25, 87.5, 87.5, 96.875, 90.625, 93.75, 84.375, 81.25, 90.625, 93.75, 93.75, 84.375, 90.625, 84.375, 90.625, 93.75, 93.75, 93.75, 84.375, 90.625, 87.5, 93.75, 84.375, 93.75, 90.625, 96.875, 93.75, 90.625, 93.75, 84.375, 90.625, 93.75, 87.5, 90.625, 90.625, 93.75, 81.25, 100.0, 90.625, 84.375, 93.75, 84.375, 100.0, 87.5, 96.875, 90.625, 100.0, 87.5, 87.5, 90.625, 93.75, 93.75, 96.875, 96.875, 93.75, 96.875, 90.625, 93.75, 90.625, 96.875, 87.5, 90.625, 87.5, 93.75, 96.875, 93.75, 93.75, 87.5, 87.5, 96.875, 93.75, 96.875, 93.75, 96.875, 93.75, 90.625, 93.75, 81.25, 90.625, 87.5, 90.625, 93.75, 90.625, 93.75, 93.75, 96.875, 84.375, 93.75, 81.25, 84.375, 87.5, 84.375, 93.75, 90.625, 96.875, 90.625, 81.25, 87.5, 100.0, 96.875, 90.625, 100.0, 90.625, 93.75, 93.75, 93.75, 96.875, 84.375, 87.5, 84.375, 93.75, 90.625, 93.75, 93.75, 96.875, 90.625, 93.75, 96.875, 96.875, 93.75, 100.0, 90.625, 93.75, 93.75, 87.5, 90.625, 93.75, 93.75, 93.75, 78.125, 93.75, 90.625, 93.75, 93.75, 84.375, 87.5, 96.875, 84.375, 87.5, 90.625, 90.625, 93.75, 87.5, 90.625, 100.0, 93.75, 87.5, 100.0, 90.625, 100.0, 87.5, 93.75, 84.375, 90.625, 96.875, 90.625, 96.875, 93.75, 90.625, 87.5, 93.75, 90.625, 90.625, 96.875, 93.75, 96.875, 93.75, 90.625, 87.5, 93.75, 96.875, 90.625, 96.875, 100.0, 93.75, 93.75, 100.0, 93.75, 93.75, 100.0, 96.875, 90.625, 90.625, 93.75, 90.625, 93.75, 87.5, 100.0, 90.625, 96.875, 93.75, 93.75, 84.375, 84.375, 93.75, 100.0, 100.0, 96.875, 84.375, 81.25, 81.25, 87.5, 96.875, 96.875, 90.625, 87.5, 93.75, 100.0, 84.375, 96.875, 93.75, 96.875, 84.375, 100.0, 87.5, 90.625, 87.5, 93.75, 93.75, 87.5, 96.875, 96.875, 93.75, 90.625, 90.625, 90.625, 84.375, 87.5, 87.5, 96.875, 96.875, 93.75, 93.75, 84.375, 90.625, 93.75, 93.75, 87.5, 84.375, 90.625, 100.0, 90.625, 93.75, 100.0, 96.875, 90.625, 100.0, 93.75, 96.875, 93.75, 93.75, 96.875, 93.75, 81.25, 100.0, 96.875, 90.625, 96.875, 100.0, 93.75, 93.75, 90.625, 96.875, 93.75, 93.75, 93.75, 87.5, 90.625, 93.75, 90.625, 90.625, 87.5, 93.75, 96.875, 81.25, 96.875, 90.625, 96.875, 93.75, 87.5, 93.75, 93.75, 87.5, 84.375, 87.5, 90.625, 96.875, 81.25, 93.75, 100.0, 93.75, 96.875, 84.375, 93.75, 87.5, 96.875, 96.875, 87.5, 93.75, 87.5, 90.625, 93.75, 90.625, 96.875, 96.875, 87.5, 90.625, 93.75, 96.875, 100.0, 87.5, 90.625, 93.75, 90.625, 96.875, 93.75, 84.375, 87.5, 93.75, 96.875, 87.5, 90.625, 90.625, 96.875, 84.375, 100.0, 90.625, 93.75, 100.0, 90.625, 100.0, 93.75, 96.875, 93.75, 93.75, 96.875, 87.5, 96.875, 96.875, 90.625, 90.625, 96.875, 90.625, 93.75, 84.375, 87.5, 87.5, 87.5, 84.375, 87.5, 96.875, 87.5, 87.5, 100.0, 90.625, 100.0, 90.625, 90.625, 90.625, 87.5, 93.75, 93.75, 93.75, 96.875, 90.625, 96.875, 93.75, 87.5, 96.875, 87.5, 96.875, 84.375, 84.375, 90.625, 87.5, 87.5, 96.875, 87.5, 96.875, 100.0, 93.75, 93.75, 90.625, 90.625, 96.875, 90.625, 96.875, 87.5, 96.875, 87.5, 90.625, 96.875, 90.625, 96.875, 93.75, 96.875, 90.625, 90.625, 93.75, 93.75, 84.375, 90.625, 93.75, 93.75, 90.625, 93.75, 90.625, 87.5, 90.625, 84.375, 96.875, 96.875, 90.625, 90.625, 96.875, 96.875, 84.375, 87.5, 87.5, 87.5, 81.25, 81.25, 93.75, 93.75, 96.875, 90.625, 81.25, 96.875, 100.0, 93.75, 96.875, 96.875, 93.75, 90.625, 87.5, 84.375, 100.0, 96.875, 87.5, 93.75, 84.375, 81.25, 93.75, 90.625, 93.75, 93.75, 90.625, 93.75, 96.875, 90.625, 84.375, 93.75, 96.875, 90.625, 84.375, 84.375, 93.75, 93.75, 90.625, 87.5, 93.75, 96.875, 93.75, 96.875, 90.625, 100.0, 87.5, 96.875, 87.5, 90.625, 93.75, 93.75, 90.625, 90.625, 96.875, 84.375, 96.875, 84.375, 100.0, 93.75, 93.75, 100.0, 96.875, 90.625, 90.625, 100.0, 96.875, 93.75, 100.0, 96.875, 93.75, 90.625, 100.0, 90.625, 93.75, 93.75, 90.625, 96.875, 90.625, 90.625, 100.0, 93.75, 90.625, 87.5, 93.75, 96.875, 87.5, 78.125, 93.75, 87.5, 90.625, 93.75, 90.625, 90.625, 78.125, 93.75, 93.75, 87.5, 96.875, 93.75, 93.75, 90.625, 93.75, 90.625, 90.625, 93.75, 96.875, 100.0, 93.75, 90.625, 87.5, 90.625, 90.625, 87.5, 96.875, 93.75, 90.625, 96.875, 90.625, 96.875, 90.625, 84.375, 93.75, 90.625, 93.75, 90.625, 93.75, 96.875, 100.0, 84.375, 90.625, 87.5, 90.625, 90.625, 93.75, 81.25, 93.75, 96.875, 100.0, 90.625, 96.875, 96.875, 93.75, 87.5, 84.375, 100.0, 87.5, 100.0, 87.5, 93.75, 81.25, 93.75, 93.75, 84.375, 93.75, 84.375, 96.875, 93.75, 100.0, 93.75, 93.75, 84.375, 100.0, 87.5, 93.75, 90.625, 90.625, 93.75, 81.25, 90.625, 90.625, 84.375, 90.625, 90.625, 90.625, 96.875, 96.875, 90.625, 93.75, 81.25, 96.875, 96.875, 90.625, 93.75, 87.5, 96.875, 93.75, 100.0, 96.875, 93.75, 90.625, 90.625, 100.0, 87.5, 96.875, 84.375, 90.625, 96.875, 93.75, 93.75, 87.5, 100.0, 93.75, 96.875, 90.625, 90.625, 96.875, 81.25, 93.75, 96.875, 87.5, 87.5, 90.625, 96.875, 90.625, 90.625, 84.375, 87.5, 96.875, 87.5, 93.75, 81.25, 93.75, 93.75, 96.875, 87.5, 93.75, 90.625, 96.875, 93.75, 78.125, 87.5, 96.875, 84.375, 96.875, 93.75, 90.625, 93.75, 100.0, 93.75, 90.625, 87.5, 87.5, 93.75, 90.625, 87.5, 93.75, 96.875, 96.875, 96.875, 93.75, 96.875, 87.5, 100.0, 93.75, 93.75, 93.75, 100.0, 87.5, 90.625, 90.625, 87.5, 90.625, 93.75, 96.875, 93.75, 90.625, 87.5, 93.75, 87.5, 96.875, 100.0, 96.875, 90.625, 78.125, 81.25, 87.5, 87.5, 93.75, 81.25, 78.125, 90.625, 93.75, 93.75, 93.75, 96.875, 90.625, 100.0, 90.625, 90.625, 90.625, 90.625, 84.375, 93.75, 84.375, 100.0, 93.75, 93.75, 96.875, 93.75, 84.375, 100.0, 96.875, 90.625, 93.75, 93.75, 90.625, 93.75, 96.875, 87.5, 100.0, 93.75, 81.25, 96.875, 90.625, 90.625, 100.0, 90.625, 90.625, 87.5, 96.875, 96.875, 96.875, 93.75, 93.75, 100.0, 90.625, 100.0, 90.625, 93.75, 96.875, 90.625, 93.75, 96.875, 96.875, 96.875, 96.875, 90.625, 84.375, 93.75, 93.75, 81.25, 90.625, 93.75, 96.875, 93.75, 93.75, 93.75, 96.875, 90.625, 100.0, 100.0, 93.75, 87.5, 90.625, 93.75, 90.625, 100.0, 90.625, 96.875, 96.875, 93.75, 84.375, 96.875, 90.625, 90.625, 100.0, 90.625, 87.5, 87.5, 84.375, 90.625, 90.625, 81.25, 84.375, 96.875, 96.875, 90.625, 81.25, 90.625, 93.75, 96.875, 81.25, 93.75, 96.875, 100.0, 93.75, 87.5, 93.75, 93.75, 93.75, 93.75, 87.5, 93.75, 96.875, 87.5, 96.875, 93.75, 90.625, 93.75, 93.75, 93.75, 93.75, 93.75, 93.75, 90.625, 90.625, 90.625, 87.5, 90.625, 84.375, 93.75, 90.625, 90.625, 90.625, 90.625, 87.5, 90.625, 93.75, 87.5, 100.0, 96.875, 84.375, 100.0, 90.625, 84.375, 90.625, 93.75, 100.0, 87.5, 100.0, 90.625, 84.375, 100.0, 90.625, 100.0, 90.625, 96.875, 87.5, 96.875, 87.5, 87.5, 87.5, 84.375, 84.375, 96.875, 93.75, 93.75, 87.5, 93.75, 90.625, 93.75, 96.875, 93.75, 93.75, 96.875, 93.75, 93.75, 90.625, 87.5, 96.875, 90.625, 93.75, 96.875, 87.5, 84.375, 90.625, 90.625, 62.5, 93.75, 90.625, 96.875, 100.0, 100.0, 93.75, 90.625, 100.0, 93.75, 93.75, 93.75, 96.875, 96.875, 93.75, 93.75, 96.875, 100.0, 90.625, 93.75, 93.75, 93.75, 93.75, 100.0, 96.875, 96.875, 90.625, 100.0, 90.625, 100.0, 96.875, 90.625, 100.0, 96.875, 90.625, 93.75, 96.875, 93.75, 93.75, 100.0, 96.875, 96.875, 93.75, 96.875, 96.875, 100.0, 90.625, 100.0, 96.875, 93.75, 93.75, 87.5, 93.75, 93.75, 100.0, 100.0, 96.875, 93.75, 93.75, 100.0, 100.0, 93.75, 93.75, 90.625, 93.75, 96.875, 100.0, 87.5, 93.75, 93.75, 93.75, 96.875, 100.0, 93.75, 96.875, 96.875, 100.0, 93.75, 100.0, 93.75, 93.75, 90.625, 96.875, 100.0, 93.75, 87.5, 93.75, 96.875, 93.75, 96.875, 100.0, 90.625, 93.75, 93.75, 96.875, 93.75, 100.0, 100.0, 93.75, 100.0, 100.0, 96.875, 93.75, 96.875, 93.75, 96.875, 93.75, 100.0, 96.875, 93.75, 96.875, 100.0, 96.875, 90.625, 100.0, 100.0, 100.0, 100.0, 100.0, 96.875, 96.875, 100.0, 100.0, 93.75, 84.375, 93.75, 100.0, 100.0, 96.875, 87.5, 87.5, 96.875, 100.0, 90.625, 100.0, 100.0, 96.875, 90.625, 96.875, 87.5, 100.0, 96.875, 93.75, 93.75, 87.5, 96.875, 90.625, 96.875, 100.0, 90.625, 100.0, 90.625, 96.875, 93.75, 96.875, 93.75, 96.875, 96.875, 96.875, 100.0, 93.75, 100.0, 96.875, 93.75, 93.75, 96.875, 90.625, 96.875, 90.625, 93.75, 93.75, 93.75, 100.0, 90.625, 90.625, 90.625, 100.0, 90.625, 96.875, 93.75, 96.875, 93.75, 96.875, 96.875, 93.75, 93.75, 93.75, 93.75, 93.75, 96.875, 96.875, 100.0, 100.0, 96.875, 100.0, 96.875, 90.625, 100.0, 93.75, 96.875, 90.625, 96.875, 100.0, 93.75, 93.75, 100.0, 87.5, 96.875, 100.0, 96.875, 96.875, 100.0, 100.0, 96.875, 93.75, 96.875, 100.0, 96.875, 90.625, 100.0, 93.75, 93.75, 93.75, 96.875, 96.875, 90.625, 93.75, 93.75, 93.75, 93.75, 96.875, 93.75, 93.75, 93.75, 96.875, 96.875, 90.625, 96.875, 90.625, 90.625, 90.625, 96.875, 100.0, 93.75, 96.875, 93.75, 90.625, 96.875, 96.875, 96.875, 93.75, 100.0, 96.875, 96.875, 100.0, 96.875, 90.625, 96.875, 100.0, 100.0, 93.75, 93.75, 87.5, 100.0, 93.75, 93.75, 93.75, 90.625, 96.875, 100.0, 96.875, 87.5, 93.75, 93.75, 96.875, 96.875, 93.75, 93.75, 96.875, 100.0, 96.875, 90.625, 93.75, 93.75, 93.75, 93.75, 90.625, 96.875, 96.875, 100.0, 90.625, 93.75, 100.0, 93.75, 90.625, 96.875, 100.0, 87.5, 96.875, 93.75, 96.875, 84.375, 96.875, 100.0, 100.0, 100.0, 93.75, 96.875, 93.75, 90.625, 100.0, 100.0, 93.75, 93.75, 100.0, 96.875, 96.875, 100.0, 90.625, 100.0, 90.625, 96.875, 100.0, 100.0, 100.0, 96.875, 93.75, 90.625, 93.75, 96.875, 96.875, 100.0, 96.875, 93.75, 96.875, 96.875, 96.875, 93.75, 100.0, 87.5, 87.5, 96.875, 90.625, 100.0, 100.0, 96.875, 100.0, 96.875, 96.875, 96.875, 100.0, 96.875, 93.75, 93.75, 96.875, 100.0, 96.875, 90.625, 96.875, 87.5, 96.875, 93.75, 100.0, 100.0, 93.75, 96.875, 96.875, 93.75, 87.5, 96.875, 100.0, 93.75, 100.0, 100.0, 90.625, 93.75, 100.0, 100.0, 96.875, 96.875, 100.0, 100.0, 100.0, 90.625, 96.875, 84.375, 100.0, 100.0, 96.875, 90.625, 93.75, 90.625, 93.75, 90.625, 96.875, 93.75, 87.5, 96.875, 96.875, 93.75, 90.625, 90.625, 96.875, 90.625, 96.875, 100.0, 96.875, 96.875, 93.75, 96.875, 100.0, 100.0, 96.875, 100.0, 100.0, 96.875, 90.625, 96.875, 93.75, 96.875, 96.875, 93.75, 93.75, 96.875, 96.875, 96.875, 93.75, 100.0, 93.75, 93.75, 96.875, 93.75, 87.5, 93.75, 93.75, 93.75, 100.0, 96.875, 100.0, 96.875, 96.875, 93.75, 90.625, 93.75, 93.75, 96.875, 100.0, 93.75, 96.875, 96.875, 96.875, 96.875, 93.75, 96.875, 93.75, 93.75, 84.375, 100.0, 90.625, 90.625, 90.625, 90.625, 93.75, 100.0, 96.875, 100.0, 96.875, 100.0, 100.0, 93.75, 96.875, 100.0, 93.75, 93.75, 100.0, 90.625, 90.625, 90.625, 96.875, 100.0, 100.0, 100.0, 96.875, 93.75, 93.75, 90.625, 100.0, 100.0, 96.875, 96.875, 93.75, 93.75, 96.875, 100.0, 96.875, 93.75, 96.875, 100.0, 93.75, 100.0, 96.875, 100.0, 87.5, 90.625, 93.75, 100.0, 96.875, 93.75, 100.0, 90.625, 93.75, 90.625, 96.875, 96.875, 90.625, 96.875, 96.875, 100.0, 93.75, 96.875, 100.0, 96.875, 96.875, 93.75, 93.75, 100.0, 96.875, 87.5, 93.75, 96.875, 100.0, 96.875, 87.5, 100.0, 93.75, 96.875, 96.875, 90.625, 93.75, 100.0, 96.875, 96.875, 100.0, 100.0, 90.625, 96.875, 100.0, 96.875, 100.0, 100.0, 93.75, 96.875, 100.0, 96.875, 96.875, 96.875, 100.0, 100.0, 96.875, 84.375, 96.875, 90.625, 96.875, 90.625, 87.5, 96.875, 93.75, 96.875, 96.875, 96.875, 93.75, 100.0, 93.75, 93.75, 100.0, 100.0, 96.875, 87.5, 84.375, 96.875, 96.875, 96.875, 93.75, 100.0, 90.625, 93.75, 96.875, 96.875, 96.875, 100.0, 93.75, 90.625, 100.0, 90.625, 100.0, 90.625, 96.875, 90.625, 100.0, 96.875, 96.875, 93.75, 100.0, 96.875, 93.75, 100.0, 96.875, 96.875, 100.0, 96.875, 90.625, 93.75, 90.625, 100.0, 84.375, 93.75, 96.875, 96.875, 90.625, 90.625, 100.0, 93.75, 90.625, 90.625, 93.75, 96.875, 93.75, 96.875, 93.75, 90.625, 96.875, 96.875, 100.0, 93.75, 93.75, 96.875, 100.0, 90.625, 90.625, 96.875, 93.75, 100.0, 96.875, 96.875, 100.0, 96.875, 100.0, 90.625, 96.875, 96.875, 96.875, 90.625, 93.75, 100.0, 100.0, 96.875, 90.625, 100.0, 90.625, 100.0, 100.0, 96.875, 90.625, 96.875, 93.75, 90.625, 96.875, 96.875, 100.0, 93.75, 96.875, 96.875, 96.875, 93.75, 93.75, 96.875, 96.875, 90.625, 93.75, 96.875, 96.875, 96.875, 87.5, 100.0, 100.0, 96.875, 100.0, 100.0, 100.0, 96.875, 93.75, 90.625, 96.875, 81.25, 100.0, 96.875, 96.875, 96.875, 96.875, 100.0, 100.0, 100.0, 93.75, 96.875, 93.75, 100.0, 96.875, 100.0, 96.875, 93.75, 96.875, 100.0, 96.875, 93.75, 93.75, 96.875, 100.0, 93.75, 93.75, 93.75, 90.625, 96.875, 96.875, 96.875, 96.875, 93.75, 93.75, 96.875, 100.0, 93.75, 96.875, 96.875, 93.75, 93.75, 100.0, 90.625, 96.875, 100.0, 100.0, 93.75, 96.875, 96.875, 87.5, 90.625, 96.875, 93.75, 100.0, 100.0, 90.625, 100.0, 96.875, 90.625, 100.0, 93.75, 100.0, 100.0, 96.875, 90.625, 96.875, 93.75, 100.0, 96.875, 100.0, 93.75, 93.75, 93.75, 100.0, 93.75, 100.0, 90.625, 96.875, 96.875, 100.0, 93.75, 100.0, 93.75, 93.75, 93.75, 100.0, 96.875, 93.75, 96.875, 90.625, 96.875, 93.75, 87.5, 93.75, 93.75, 93.75, 96.875, 96.875, 96.875, 100.0, 100.0, 100.0, 100.0, 93.75, 96.875, 100.0, 96.875, 96.875, 90.625, 100.0, 93.75, 93.75, 93.75, 96.875, 90.625, 93.75, 96.875, 96.875, 100.0, 96.875, 93.75, 93.75, 96.875, 93.75, 100.0, 100.0, 100.0, 96.875, 93.75, 100.0, 93.75, 100.0, 84.375, 93.75, 93.75, 96.875, 100.0, 100.0, 96.875, 100.0, 90.625, 96.875, 96.875, 90.625, 93.75, 96.875, 100.0, 96.875, 90.625, 96.875, 96.875, 87.5, 100.0, 93.75, 100.0, 100.0, 96.875, 93.75, 93.75, 100.0, 100.0, 90.625, 96.875, 93.75, 100.0, 93.75, 93.75, 96.875, 96.875, 93.75, 81.25, 100.0, 96.875, 93.75, 100.0, 96.875, 100.0, 93.75, 96.875, 100.0, 100.0, 100.0, 90.625, 87.5, 100.0, 100.0, 93.75, 93.75, 96.875, 100.0, 100.0, 100.0, 93.75, 96.875, 100.0, 96.875, 96.875, 100.0, 96.875, 100.0, 87.5, 100.0, 100.0, 100.0, 87.5, 96.875, 90.625, 93.75, 96.875, 93.75, 93.75, 93.75, 90.625, 96.875, 93.75, 96.875, 100.0, 100.0, 93.75, 96.875, 96.875, 93.75, 100.0, 90.625, 96.875, 100.0, 96.875, 96.875, 96.875, 93.75, 93.75, 100.0, 93.75, 93.75, 96.875, 93.75, 96.875, 100.0, 90.625, 96.875, 96.875, 93.75, 93.75, 96.875, 100.0, 96.875, 90.625, 96.875, 96.875, 87.5, 93.75, 93.75, 100.0, 87.5, 93.75, 87.5, 96.875, 93.75, 100.0, 93.75, 96.875, 96.875, 93.75, 93.75, 87.5, 100.0, 96.875, 93.75, 100.0, 93.75, 96.875, 96.875, 96.875, 100.0, 96.875, 100.0, 90.625, 96.875, 87.5, 96.875, 93.75, 96.875, 96.875, 93.75, 96.875, 90.625, 96.875, 100.0, 87.5, 90.625, 93.75, 100.0, 96.875, 93.75, 100.0, 96.875, 100.0, 96.875, 100.0, 96.875, 96.875, 93.75, 93.75, 90.625, 96.875, 100.0, 96.875, 96.875, 90.625, 100.0, 100.0, 93.75, 96.875, 90.625, 93.75, 96.875, 100.0, 93.75, 96.875, 96.875, 96.875, 93.75, 90.625, 100.0, 90.625, 100.0, 90.625, 96.875, 93.75, 100.0, 96.875, 100.0, 100.0, 100.0, 96.875, 100.0, 100.0, 96.875, 96.875, 93.75, 96.875, 100.0, 96.875, 96.875, 100.0, 96.875, 96.875, 96.875, 100.0, 100.0, 96.875, 96.875, 93.75, 96.875, 100.0, 93.75, 96.875, 96.875, 90.625, 96.875, 93.75, 87.5, 96.875, 90.625, 96.875, 100.0, 90.625, 100.0, 96.875, 90.625, 93.75, 100.0, 90.625, 96.875, 100.0, 100.0, 96.875, 96.875, 100.0, 100.0, 100.0, 96.875, 96.875, 93.75, 87.5, 90.625, 93.75, 100.0, 100.0, 93.75, 96.875, 100.0, 96.875, 100.0, 90.625, 93.75, 90.625, 90.625, 96.875, 96.875, 93.75, 96.875, 93.75, 100.0, 93.75, 93.75, 96.875, 96.875, 96.875, 93.75, 100.0, 93.75, 90.625, 96.875, 100.0, 93.75, 96.875, 93.75, 93.75, 93.75, 93.75, 96.875, 96.875, 90.625, 96.875, 93.75, 90.625, 87.5, 96.875, 96.875, 96.875, 96.875, 100.0, 100.0, 96.875, 96.875, 100.0, 84.375, 90.625, 90.625, 96.875, 100.0, 93.75, 90.625, 100.0, 93.75, 100.0, 87.5, 100.0, 96.875, 93.75, 93.75, 100.0, 93.75, 90.625, 93.75, 96.875, 96.875, 90.625, 100.0, 96.875, 96.875, 93.75, 93.75, 90.625, 100.0, 93.75, 96.875, 100.0, 93.75, 96.875, 93.75, 100.0, 87.5, 96.875, 96.875, 96.875, 100.0, 96.875, 100.0, 96.875, 93.75, 93.75, 93.75, 96.875, 90.625, 100.0, 93.75, 90.625, 93.75, 93.75, 96.875, 93.75, 87.5, 90.625, 100.0, 90.625, 84.375, 93.75, 100.0, 87.5, 90.625, 100.0, 93.75, 93.75, 96.875, 93.75, 96.875, 100.0, 100.0, 100.0, 93.75, 87.5, 93.75, 93.75, 93.75, 96.875, 96.875, 84.375, 100.0, 100.0, 96.875, 100.0, 96.875, 96.875, 90.625, 100.0, 96.875, 100.0, 93.75, 96.875, 93.75, 93.75, 93.75, 96.875, 96.875, 100.0, 96.875, 100.0, 93.75, 96.875, 96.875, 96.875, 100.0, 100.0, 93.75, 96.875, 96.875, 100.0, 96.875, 93.75, 100.0, 90.625, 90.625, 100.0, 100.0, 96.875, 100.0, 96.875, 93.75, 96.875, 100.0, 96.875, 90.625, 93.75, 96.875, 100.0, 90.625, 96.875, 93.75, 81.25, 90.625, 90.625, 96.875, 96.875, 96.875, 93.75, 93.75, 96.875, 96.875, 90.625, 93.75, 96.875, 96.875, 96.875, 93.75, 90.625, 96.875, 93.75, 100.0, 100.0, 96.875, 56.25, 100.0, 96.875, 100.0, 100.0, 90.625, 96.875, 100.0, 93.75, 96.875, 96.875, 93.75, 96.875, 96.875, 100.0, 100.0, 100.0, 100.0, 96.875, 96.875, 100.0, 96.875, 96.875, 100.0, 96.875, 100.0, 93.75, 93.75, 100.0, 100.0, 100.0, 100.0, 100.0, 96.875, 100.0, 93.75, 96.875, 93.75, 100.0, 93.75, 93.75, 100.0, 96.875, 100.0, 93.75, 96.875, 100.0, 100.0, 96.875, 96.875, 100.0, 96.875, 100.0, 100.0, 90.625, 96.875, 93.75, 93.75, 96.875, 96.875, 96.875, 93.75, 90.625, 96.875, 100.0, 96.875, 100.0, 96.875, 96.875, 93.75, 100.0, 93.75, 96.875, 90.625, 90.625, 100.0, 93.75, 100.0, 100.0, 96.875, 96.875, 93.75, 93.75, 100.0, 100.0, 100.0, 96.875, 90.625, 96.875, 93.75, 100.0, 100.0, 100.0, 93.75, 96.875, 100.0, 100.0, 100.0, 100.0, 93.75, 96.875, 93.75, 100.0, 100.0, 96.875, 96.875, 100.0, 96.875, 96.875, 93.75, 100.0, 96.875, 100.0, 96.875, 96.875, 100.0, 96.875, 100.0, 93.75, 100.0, 100.0, 96.875, 96.875, 96.875, 100.0, 93.75, 96.875, 96.875, 96.875, 100.0, 93.75, 100.0, 96.875, 96.875, 96.875, 96.875, 96.875, 100.0, 93.75, 96.875, 93.75, 93.75, 100.0, 96.875, 96.875, 93.75, 100.0, 87.5, 93.75, 96.875, 100.0, 96.875, 100.0, 100.0, 100.0, 100.0, 100.0, 96.875, 96.875, 96.875, 93.75, 96.875, 96.875, 90.625, 96.875, 100.0, 93.75, 100.0, 100.0, 100.0, 100.0, 96.875, 93.75, 96.875, 100.0, 100.0, 96.875, 96.875, 100.0, 96.875, 93.75, 100.0, 96.875, 100.0, 100.0, 96.875, 96.875, 96.875, 100.0, 100.0, 96.875, 96.875, 96.875, 93.75, 100.0, 96.875, 93.75, 96.875, 93.75, 100.0, 96.875, 93.75, 100.0, 96.875, 100.0, 96.875, 100.0, 96.875, 100.0, 96.875, 96.875, 100.0, 96.875, 100.0, 96.875, 96.875, 96.875, 100.0, 90.625, 90.625, 96.875, 100.0, 96.875, 96.875, 100.0, 96.875, 96.875, 96.875, 100.0, 96.875, 96.875, 100.0, 100.0, 96.875, 96.875, 100.0, 93.75, 100.0, 96.875, 96.875, 100.0, 100.0, 96.875, 100.0, 93.75, 100.0, 93.75, 100.0, 100.0, 96.875, 96.875, 96.875, 96.875, 93.75, 90.625, 100.0, 96.875, 96.875, 100.0, 96.875, 90.625, 96.875, 100.0, 100.0, 100.0, 96.875, 93.75, 100.0, 96.875, 96.875, 93.75, 96.875, 90.625, 100.0, 93.75, 90.625, 100.0, 96.875, 100.0, 100.0, 100.0, 100.0, 100.0, 100.0, 100.0, 100.0, 100.0, 100.0, 100.0, 93.75, 96.875, 100.0, 100.0, 100.0, 100.0, 96.875, 100.0, 96.875, 100.0, 100.0, 96.875, 100.0, 96.875, 96.875, 93.75, 100.0, 96.875, 100.0, 100.0, 100.0, 90.625, 96.875, 96.875, 96.875, 96.875, 96.875, 96.875, 90.625, 96.875, 100.0, 96.875, 100.0, 90.625, 100.0, 93.75, 100.0, 96.875, 100.0, 96.875, 93.75, 96.875, 100.0, 96.875, 96.875, 93.75, 93.75, 96.875, 100.0, 100.0, 100.0, 96.875, 96.875, 93.75, 100.0, 93.75, 96.875, 96.875, 100.0, 100.0, 96.875, 93.75, 93.75, 100.0, 100.0, 100.0, 100.0, 100.0, 93.75, 96.875, 100.0, 93.75, 100.0, 96.875, 96.875, 100.0, 96.875, 100.0, 96.875, 90.625, 100.0, 100.0, 90.625, 93.75, 96.875, 96.875, 100.0, 96.875, 96.875, 93.75, 96.875, 96.875, 93.75, 100.0, 100.0, 96.875, 96.875, 100.0, 100.0, 100.0, 96.875, 96.875, 100.0, 100.0, 100.0, 96.875, 100.0, 96.875, 100.0, 96.875, 100.0, 100.0, 96.875, 96.875, 90.625, 96.875, 90.625, 100.0, 100.0, 96.875, 90.625, 96.875, 96.875, 96.875, 96.875, 100.0, 100.0, 96.875, 90.625, 96.875, 100.0, 96.875, 100.0, 100.0, 93.75, 96.875, 100.0, 100.0, 100.0, 96.875, 96.875, 93.75, 96.875, 100.0, 100.0, 96.875, 96.875, 93.75, 100.0, 100.0, 93.75, 96.875, 93.75, 96.875, 100.0, 100.0, 90.625, 96.875, 96.875, 100.0, 100.0, 100.0, 100.0, 90.625, 100.0, 100.0, 100.0, 100.0, 100.0, 100.0, 96.875, 90.625, 100.0, 87.5, 93.75, 96.875, 100.0, 100.0, 100.0, 93.75, 100.0, 100.0, 90.625, 96.875, 93.75, 100.0, 96.875, 96.875, 96.875, 93.75, 100.0, 100.0, 100.0, 90.625, 100.0, 90.625, 93.75, 93.75, 96.875, 100.0, 90.625, 100.0, 100.0, 96.875, 96.875, 100.0, 100.0, 96.875, 100.0, 93.75, 93.75, 96.875, 96.875, 96.875, 96.875, 96.875, 96.875, 100.0, 100.0, 100.0, 100.0, 93.75, 100.0, 100.0, 100.0, 100.0, 100.0, 96.875, 96.875, 100.0, 100.0, 100.0, 100.0, 96.875, 96.875, 90.625, 100.0, 100.0, 100.0, 96.875, 96.875, 96.875, 100.0, 100.0, 100.0, 100.0, 100.0, 96.875, 93.75, 100.0, 96.875, 100.0, 93.75, 93.75, 96.875, 100.0, 93.75, 96.875, 100.0, 100.0, 100.0, 96.875, 96.875, 100.0, 100.0, 100.0, 100.0, 96.875, 93.75, 96.875, 100.0, 100.0, 90.625, 100.0, 96.875, 100.0, 96.875, 93.75, 96.875, 93.75, 100.0, 96.875, 90.625, 96.875, 96.875, 100.0, 96.875, 100.0, 96.875, 93.75, 93.75, 93.75, 100.0, 96.875, 96.875, 100.0, 100.0, 100.0, 100.0, 96.875, 96.875, 100.0, 100.0, 100.0, 100.0, 93.75, 100.0, 100.0, 93.75, 100.0, 100.0, 100.0, 96.875, 96.875, 96.875, 100.0, 93.75, 100.0, 96.875, 96.875, 90.625, 93.75, 93.75, 96.875, 96.875, 96.875, 96.875, 93.75, 93.75, 96.875, 100.0, 93.75, 96.875, 100.0, 100.0, 100.0, 96.875, 93.75, 93.75, 90.625, 100.0, 100.0, 100.0, 96.875, 96.875, 93.75, 100.0, 100.0, 96.875, 100.0, 96.875, 96.875, 96.875, 96.875, 100.0, 93.75, 96.875, 93.75, 96.875, 93.75, 96.875, 93.75, 100.0, 100.0, 96.875, 93.75, 96.875, 100.0, 100.0, 100.0, 100.0, 100.0, 100.0, 100.0, 90.625, 96.875, 100.0, 93.75, 90.625, 100.0, 93.75, 100.0, 93.75, 93.75, 100.0, 96.875, 96.875, 100.0, 100.0, 100.0, 100.0, 96.875, 100.0, 96.875, 100.0, 90.625, 96.875, 100.0, 96.875, 100.0, 100.0, 100.0, 100.0, 93.75, 100.0, 93.75, 96.875, 90.625, 100.0, 100.0, 93.75, 100.0, 100.0, 100.0, 96.875, 100.0, 100.0, 93.75, 100.0, 100.0, 100.0, 96.875, 100.0, 96.875, 96.875, 96.875, 96.875, 90.625, 100.0, 87.5, 93.75, 100.0, 93.75, 93.75, 96.875, 100.0, 93.75, 100.0, 100.0, 96.875, 100.0, 90.625, 96.875, 100.0, 96.875, 90.625, 96.875, 96.875, 93.75, 96.875, 100.0, 96.875, 100.0, 96.875, 100.0, 100.0, 93.75, 93.75, 96.875, 96.875, 100.0, 100.0, 93.75, 100.0, 96.875, 100.0, 100.0, 96.875, 100.0, 90.625, 100.0, 100.0, 100.0, 96.875, 100.0, 96.875, 100.0, 96.875, 96.875, 100.0, 100.0, 96.875, 96.875, 96.875, 100.0, 96.875, 96.875, 96.875, 93.75, 100.0, 96.875, 100.0, 100.0, 96.875, 100.0, 100.0, 100.0, 100.0, 100.0, 93.75, 96.875, 100.0, 96.875, 100.0, 96.875, 100.0, 90.625, 96.875, 100.0, 100.0, 100.0, 100.0, 100.0, 96.875, 100.0, 100.0, 96.875, 100.0, 100.0, 96.875, 93.75, 96.875, 96.875, 93.75, 100.0, 100.0, 96.875, 96.875, 100.0, 93.75, 96.875, 100.0, 96.875, 100.0, 100.0, 100.0, 96.875, 100.0, 100.0, 100.0, 96.875, 100.0, 96.875, 100.0, 93.75, 96.875, 96.875, 93.75, 100.0, 100.0, 96.875, 100.0, 96.875, 93.75, 100.0, 96.875, 90.625, 96.875, 93.75, 100.0, 93.75, 100.0, 96.875, 100.0, 93.75, 100.0, 100.0, 100.0, 100.0, 100.0, 96.875, 90.625, 93.75, 100.0, 93.75, 93.75, 100.0, 100.0, 100.0, 100.0, 96.875, 100.0, 100.0, 100.0, 93.75, 100.0, 100.0, 100.0, 100.0, 100.0, 96.875, 93.75, 100.0, 100.0, 93.75, 87.5, 100.0, 100.0, 100.0, 96.875, 93.75, 100.0, 84.375, 100.0, 96.875, 100.0, 96.875, 100.0, 100.0, 96.875, 96.875, 100.0, 100.0, 100.0, 96.875, 100.0, 96.875, 96.875, 100.0, 100.0, 96.875, 96.875, 93.75, 100.0, 100.0, 100.0, 100.0, 100.0, 96.875, 100.0, 93.75, 96.875, 100.0, 96.875, 96.875, 100.0, 90.625, 93.75, 96.875, 100.0, 96.875, 96.875, 96.875, 100.0, 96.875, 93.75, 96.875, 100.0, 100.0, 96.875, 100.0, 100.0, 100.0, 90.625, 100.0, 96.875, 96.875, 100.0, 93.75, 100.0, 96.875, 100.0, 96.875, 100.0, 96.875, 100.0, 100.0, 100.0, 100.0, 100.0, 96.875, 96.875, 96.875, 93.75, 100.0, 96.875, 100.0, 96.875, 100.0, 93.75, 96.875, 96.875, 100.0, 96.875, 100.0, 100.0, 96.875, 93.75, 100.0, 93.75, 100.0, 100.0, 96.875, 100.0, 96.875, 96.875, 100.0, 90.625, 100.0, 100.0, 100.0, 96.875, 96.875, 93.75, 96.875, 100.0, 96.875, 100.0, 96.875, 93.75, 96.875, 100.0, 96.875, 96.875, 100.0, 96.875, 100.0, 100.0, 93.75, 100.0, 96.875, 100.0, 93.75, 96.875, 100.0, 96.875, 100.0, 100.0, 100.0, 100.0, 96.875, 100.0, 100.0, 96.875, 87.5, 100.0, 96.875, 100.0, 100.0, 100.0, 100.0, 93.75, 96.875, 93.75, 93.75, 93.75, 100.0, 100.0, 100.0, 96.875, 96.875, 93.75, 100.0, 96.875, 96.875, 96.875, 93.75, 96.875, 96.875, 100.0, 100.0, 96.875, 96.875, 100.0, 96.875, 96.875, 100.0, 96.875, 96.875, 96.875, 96.875, 100.0, 93.75, 96.875, 100.0, 96.875, 96.875, 96.875, 100.0, 96.875, 100.0, 93.75, 100.0, 93.75, 100.0, 96.875, 93.75, 100.0, 100.0, 96.875, 96.875, 93.75, 96.875, 100.0, 100.0, 100.0, 100.0, 96.875, 93.75, 100.0, 100.0, 100.0, 100.0, 96.875, 96.875, 90.625, 100.0, 93.75, 96.875, 96.875, 93.75, 100.0, 90.625, 96.875, 90.625, 96.875, 100.0, 93.75, 100.0, 96.875, 90.625, 93.75, 96.875, 93.75, 96.875, 96.875, 96.875, 93.75, 96.875, 96.875, 96.875, 96.875, 100.0, 96.875, 96.875, 100.0, 100.0, 96.875, 100.0, 100.0, 96.875, 100.0, 96.875, 96.875, 96.875, 96.875, 100.0, 100.0, 100.0, 100.0, 100.0, 100.0, 96.875, 100.0, 96.875, 90.625, 100.0, 100.0, 96.875, 100.0, 100.0, 100.0, 93.75, 100.0, 96.875, 96.875, 96.875, 93.75, 96.875, 100.0, 96.875, 96.875, 96.875, 96.875, 100.0, 100.0, 100.0, 96.875, 100.0, 100.0, 100.0, 90.625, 96.875, 93.75, 96.875, 100.0, 100.0, 100.0, 96.875, 87.5, 100.0, 93.75, 100.0, 90.625, 96.875, 100.0, 93.75, 100.0, 100.0, 90.625, 100.0, 96.875, 100.0, 96.875, 100.0, 96.875, 100.0, 100.0, 100.0, 100.0, 96.875, 100.0, 100.0, 100.0, 96.875, 96.875, 96.875, 100.0, 93.75, 96.875, 96.875, 96.875, 100.0, 96.875, 96.875, 96.875, 96.875, 100.0, 96.875, 100.0, 96.875, 100.0, 96.875, 100.0, 96.875, 96.875, 96.875, 100.0, 100.0, 100.0, 100.0, 100.0, 100.0, 100.0, 100.0, 100.0, 100.0, 96.875, 96.875, 93.75, 96.875, 100.0, 96.875, 93.75, 100.0, 100.0, 93.75, 100.0, 100.0, 96.875, 100.0, 93.75, 96.875, 96.875, 96.875, 100.0, 100.0, 93.75, 100.0, 100.0, 100.0, 96.875, 96.875, 100.0, 96.875, 96.875, 93.75, 100.0, 96.875, 96.875, 100.0, 96.875, 96.875, 100.0, 96.875, 93.75, 100.0, 96.875, 100.0, 96.875, 96.875, 100.0, 100.0, 90.625, 96.875, 100.0, 65.625]\n",
            "  Average training loss:0.08\n",
            "  Training epoch took: 0:04:24\n",
            "\n",
            "======== Epoch 5 / 5 ========\n",
            "Training...\n",
            "  Batch    50  of  1,285.    Elapsed: 0:00:10.\n",
            "  Batch   100  of  1,285.    Elapsed: 0:00:21.\n",
            "  Batch   150  of  1,285.    Elapsed: 0:00:31.\n",
            "  Batch   200  of  1,285.    Elapsed: 0:00:41.\n",
            "  Batch   250  of  1,285.    Elapsed: 0:00:51.\n",
            "  Batch   300  of  1,285.    Elapsed: 0:01:02.\n",
            "  Batch   350  of  1,285.    Elapsed: 0:01:12.\n",
            "  Batch   400  of  1,285.    Elapsed: 0:01:22.\n",
            "  Batch   450  of  1,285.    Elapsed: 0:01:32.\n",
            "  Batch   500  of  1,285.    Elapsed: 0:01:43.\n",
            "  Batch   550  of  1,285.    Elapsed: 0:01:53.\n",
            "  Batch   600  of  1,285.    Elapsed: 0:02:03.\n",
            "  Batch   650  of  1,285.    Elapsed: 0:02:13.\n",
            "  Batch   700  of  1,285.    Elapsed: 0:02:24.\n",
            "  Batch   750  of  1,285.    Elapsed: 0:02:34.\n",
            "  Batch   800  of  1,285.    Elapsed: 0:02:44.\n",
            "  Batch   850  of  1,285.    Elapsed: 0:02:54.\n",
            "  Batch   900  of  1,285.    Elapsed: 0:03:05.\n",
            "  Batch   950  of  1,285.    Elapsed: 0:03:15.\n",
            "  Batch 1,000  of  1,285.    Elapsed: 0:03:25.\n",
            "  Batch 1,050  of  1,285.    Elapsed: 0:03:35.\n",
            "  Batch 1,100  of  1,285.    Elapsed: 0:03:46.\n",
            "  Batch 1,150  of  1,285.    Elapsed: 0:03:56.\n",
            "  Batch 1,200  of  1,285.    Elapsed: 0:04:06.\n",
            "  Batch 1,250  of  1,285.    Elapsed: 0:04:16.\n",
            "\n",
            "Training accuracy: [34.375, 37.5, 31.25, 68.75, 78.125, 81.25, 84.375, 84.375, 84.375, 87.5, 81.25, 84.375, 71.875, 75.0, 78.125, 75.0, 75.0, 87.5, 75.0, 90.625, 53.125, 81.25, 68.75, 75.0, 75.0, 68.75, 81.25, 75.0, 71.875, 90.625, 75.0, 81.25, 81.25, 75.0, 62.5, 84.375, 75.0, 75.0, 68.75, 71.875, 78.125, 84.375, 62.5, 84.375, 84.375, 78.125, 68.75, 81.25, 71.875, 84.375, 90.625, 87.5, 81.25, 84.375, 81.25, 84.375, 75.0, 81.25, 84.375, 81.25, 81.25, 75.0, 78.125, 68.75, 81.25, 75.0, 78.125, 84.375, 65.625, 81.25, 62.5, 75.0, 71.875, 68.75, 71.875, 87.5, 90.625, 87.5, 75.0, 81.25, 75.0, 84.375, 78.125, 84.375, 62.5, 84.375, 78.125, 75.0, 78.125, 78.125, 87.5, 90.625, 84.375, 87.5, 78.125, 87.5, 81.25, 87.5, 84.375, 75.0, 84.375, 87.5, 84.375, 87.5, 84.375, 81.25, 78.125, 87.5, 90.625, 93.75, 90.625, 71.875, 90.625, 78.125, 84.375, 71.875, 87.5, 87.5, 81.25, 78.125, 75.0, 90.625, 96.875, 78.125, 84.375, 68.75, 87.5, 87.5, 81.25, 78.125, 68.75, 90.625, 90.625, 90.625, 78.125, 84.375, 87.5, 75.0, 87.5, 87.5, 90.625, 71.875, 75.0, 75.0, 71.875, 90.625, 84.375, 90.625, 81.25, 90.625, 84.375, 81.25, 81.25, 84.375, 87.5, 81.25, 90.625, 81.25, 96.875, 87.5, 71.875, 90.625, 87.5, 90.625, 84.375, 78.125, 81.25, 87.5, 90.625, 81.25, 87.5, 90.625, 81.25, 81.25, 84.375, 75.0, 93.75, 100.0, 81.25, 90.625, 100.0, 90.625, 78.125, 81.25, 87.5, 90.625, 81.25, 84.375, 93.75, 71.875, 90.625, 90.625, 75.0, 65.625, 81.25, 81.25, 78.125, 81.25, 81.25, 90.625, 78.125, 87.5, 93.75, 87.5, 75.0, 90.625, 84.375, 78.125, 87.5, 81.25, 90.625, 87.5, 87.5, 90.625, 93.75, 78.125, 84.375, 93.75, 75.0, 81.25, 81.25, 90.625, 84.375, 81.25, 87.5, 78.125, 84.375, 90.625, 75.0, 96.875, 84.375, 90.625, 81.25, 87.5, 87.5, 84.375, 93.75, 87.5, 93.75, 75.0, 87.5, 78.125, 81.25, 78.125, 71.875, 87.5, 81.25, 87.5, 87.5, 81.25, 84.375, 93.75, 81.25, 87.5, 93.75, 90.625, 84.375, 96.875, 75.0, 84.375, 84.375, 78.125, 75.0, 62.5, 78.125, 75.0, 87.5, 84.375, 81.25, 84.375, 75.0, 78.125, 81.25, 75.0, 87.5, 78.125, 87.5, 81.25, 90.625, 100.0, 84.375, 87.5, 84.375, 87.5, 75.0, 90.625, 87.5, 90.625, 90.625, 90.625, 81.25, 93.75, 84.375, 78.125, 84.375, 78.125, 96.875, 87.5, 81.25, 90.625, 84.375, 81.25, 84.375, 87.5, 93.75, 87.5, 87.5, 84.375, 81.25, 93.75, 75.0, 84.375, 81.25, 87.5, 87.5, 84.375, 84.375, 90.625, 87.5, 90.625, 96.875, 96.875, 87.5, 96.875, 84.375, 87.5, 93.75, 75.0, 96.875, 90.625, 87.5, 90.625, 87.5, 75.0, 87.5, 87.5, 90.625, 93.75, 84.375, 93.75, 78.125, 90.625, 84.375, 90.625, 90.625, 100.0, 78.125, 75.0, 90.625, 87.5, 87.5, 100.0, 78.125, 96.875, 90.625, 81.25, 84.375, 93.75, 87.5, 78.125, 90.625, 87.5, 84.375, 84.375, 90.625, 90.625, 84.375, 96.875, 87.5, 78.125, 87.5, 84.375, 75.0, 75.0, 84.375, 96.875, 84.375, 93.75, 81.25, 78.125, 87.5, 71.875, 75.0, 81.25, 84.375, 90.625, 78.125, 75.0, 90.625, 96.875, 93.75, 90.625, 87.5, 84.375, 81.25, 84.375, 90.625, 93.75, 87.5, 78.125, 93.75, 90.625, 75.0, 87.5, 90.625, 81.25, 84.375, 93.75, 93.75, 87.5, 93.75, 90.625, 75.0, 81.25, 90.625, 84.375, 71.875, 93.75, 87.5, 78.125, 81.25, 90.625, 93.75, 87.5, 81.25, 93.75, 81.25, 81.25, 87.5, 93.75, 100.0, 96.875, 93.75, 84.375, 90.625, 93.75, 90.625, 84.375, 81.25, 100.0, 84.375, 90.625, 90.625, 90.625, 90.625, 84.375, 93.75, 93.75, 84.375, 90.625, 78.125, 96.875, 93.75, 87.5, 90.625, 75.0, 84.375, 93.75, 87.5, 87.5, 96.875, 90.625, 81.25, 87.5, 93.75, 68.75, 87.5, 81.25, 84.375, 78.125, 81.25, 87.5, 81.25, 90.625, 87.5, 90.625, 90.625, 87.5, 87.5, 90.625, 68.75, 81.25, 81.25, 90.625, 96.875, 90.625, 87.5, 84.375, 84.375, 84.375, 81.25, 84.375, 75.0, 90.625, 87.5, 75.0, 81.25, 81.25, 68.75, 78.125, 78.125, 87.5, 87.5, 84.375, 78.125, 90.625, 93.75, 81.25, 81.25, 78.125, 90.625, 75.0, 84.375, 81.25, 84.375, 81.25, 90.625, 93.75, 78.125, 87.5, 87.5, 84.375, 93.75, 96.875, 75.0, 84.375, 84.375, 81.25, 78.125, 81.25, 81.25, 93.75, 96.875, 84.375, 78.125, 81.25, 84.375, 90.625, 90.625, 84.375, 87.5, 93.75, 90.625, 90.625, 100.0, 90.625, 90.625, 87.5, 87.5, 96.875, 87.5, 93.75, 87.5, 87.5, 84.375, 87.5, 96.875, 87.5, 93.75, 90.625, 90.625, 78.125, 90.625, 81.25, 87.5, 96.875, 84.375, 84.375, 84.375, 93.75, 87.5, 90.625, 93.75, 84.375, 78.125, 84.375, 81.25, 87.5, 81.25, 78.125, 84.375, 90.625, 78.125, 75.0, 90.625, 87.5, 84.375, 96.875, 90.625, 84.375, 87.5, 84.375, 90.625, 87.5, 90.625, 81.25, 93.75, 90.625, 90.625, 75.0, 81.25, 93.75, 93.75, 87.5, 75.0, 87.5, 90.625, 100.0, 87.5, 84.375, 93.75, 87.5, 90.625, 96.875, 75.0, 87.5, 87.5, 93.75, 90.625, 78.125, 90.625, 75.0, 87.5, 90.625, 87.5, 90.625, 90.625, 90.625, 81.25, 71.875, 75.0, 93.75, 78.125, 81.25, 75.0, 87.5, 84.375, 78.125, 87.5, 93.75, 87.5, 93.75, 90.625, 90.625, 93.75, 87.5, 93.75, 90.625, 84.375, 90.625, 81.25, 84.375, 81.25, 90.625, 90.625, 87.5, 93.75, 90.625, 78.125, 87.5, 84.375, 87.5, 93.75, 87.5, 84.375, 84.375, 93.75, 93.75, 93.75, 87.5, 87.5, 84.375, 93.75, 90.625, 93.75, 87.5, 84.375, 81.25, 93.75, 81.25, 75.0, 87.5, 100.0, 90.625, 93.75, 93.75, 90.625, 87.5, 90.625, 84.375, 81.25, 90.625, 81.25, 84.375, 81.25, 81.25, 84.375, 84.375, 81.25, 93.75, 87.5, 78.125, 87.5, 96.875, 93.75, 90.625, 93.75, 78.125, 93.75, 81.25, 84.375, 87.5, 84.375, 78.125, 81.25, 90.625, 87.5, 81.25, 84.375, 87.5, 84.375, 78.125, 87.5, 84.375, 93.75, 93.75, 84.375, 96.875, 96.875, 96.875, 84.375, 81.25, 81.25, 87.5, 90.625, 75.0, 93.75, 78.125, 81.25, 81.25, 87.5, 90.625, 84.375, 93.75, 96.875, 90.625, 81.25, 90.625, 84.375, 93.75, 75.0, 93.75, 84.375, 96.875, 93.75, 90.625, 93.75, 90.625, 96.875, 87.5, 93.75, 81.25, 68.75, 87.5, 96.875, 96.875, 93.75, 81.25, 93.75, 84.375, 87.5, 96.875, 96.875, 78.125, 84.375, 93.75, 81.25, 87.5, 87.5, 81.25, 93.75, 93.75, 100.0, 100.0, 96.875, 84.375, 90.625, 96.875, 87.5, 93.75, 93.75, 90.625, 84.375, 96.875, 90.625, 84.375, 84.375, 90.625, 87.5, 93.75, 81.25, 87.5, 93.75, 81.25, 81.25, 96.875, 90.625, 84.375, 90.625, 75.0, 93.75, 93.75, 96.875, 93.75, 84.375, 81.25, 96.875, 90.625, 96.875, 87.5, 93.75, 93.75, 93.75, 87.5, 96.875, 81.25, 93.75, 87.5, 84.375, 84.375, 93.75, 81.25, 93.75, 93.75, 90.625, 84.375, 87.5, 87.5, 84.375, 84.375, 84.375, 96.875, 87.5, 93.75, 90.625, 96.875, 84.375, 84.375, 90.625, 84.375, 90.625, 87.5, 93.75, 87.5, 84.375, 87.5, 84.375, 78.125, 100.0, 90.625, 84.375, 87.5, 93.75, 93.75, 96.875, 90.625, 90.625, 87.5, 93.75, 90.625, 90.625, 87.5, 93.75, 93.75, 90.625, 90.625, 78.125, 81.25, 90.625, 81.25, 87.5, 87.5, 96.875, 87.5, 84.375, 93.75, 93.75, 90.625, 93.75, 81.25, 87.5, 87.5, 90.625, 93.75, 87.5, 81.25, 93.75, 81.25, 90.625, 87.5, 84.375, 78.125, 87.5, 84.375, 90.625, 90.625, 87.5, 87.5, 90.625, 90.625, 84.375, 87.5, 93.75, 90.625, 81.25, 90.625, 87.5, 93.75, 87.5, 75.0, 90.625, 75.0, 87.5, 84.375, 81.25, 81.25, 84.375, 84.375, 90.625, 84.375, 96.875, 84.375, 100.0, 84.375, 87.5, 93.75, 84.375, 96.875, 84.375, 96.875, 87.5, 87.5, 87.5, 90.625, 93.75, 84.375, 93.75, 81.25, 90.625, 90.625, 93.75, 84.375, 87.5, 87.5, 93.75, 87.5, 90.625, 90.625, 96.875, 87.5, 90.625, 93.75, 93.75, 87.5, 87.5, 96.875, 93.75, 75.0, 87.5, 90.625, 81.25, 84.375, 75.0, 87.5, 81.25, 75.0, 87.5, 87.5, 81.25, 87.5, 90.625, 93.75, 87.5, 87.5, 84.375, 87.5, 78.125, 84.375, 87.5, 90.625, 90.625, 87.5, 93.75, 81.25, 90.625, 93.75, 84.375, 93.75, 90.625, 78.125, 84.375, 93.75, 93.75, 93.75, 84.375, 93.75, 96.875, 81.25, 84.375, 93.75, 93.75, 87.5, 84.375, 87.5, 84.375, 84.375, 93.75, 90.625, 84.375, 87.5, 87.5, 96.875, 87.5, 93.75, 81.25, 90.625, 84.375, 93.75, 93.75, 84.375, 81.25, 84.375, 84.375, 81.25, 96.875, 84.375, 87.5, 90.625, 90.625, 90.625, 81.25, 78.125, 96.875, 81.25, 84.375, 87.5, 90.625, 90.625, 78.125, 93.75, 87.5, 87.5, 90.625, 96.875, 84.375, 87.5, 96.875, 87.5, 90.625, 90.625, 90.625, 93.75, 93.75, 96.875, 81.25, 81.25, 81.25, 96.875, 87.5, 90.625, 87.5, 90.625, 90.625, 93.75, 96.875, 87.5, 90.625, 93.75, 87.5, 93.75, 84.375, 90.625, 87.5, 84.375, 87.5, 90.625, 87.5, 87.5, 90.625, 96.875, 87.5, 84.375, 90.625, 87.5, 81.25, 81.25, 84.375, 87.5, 90.625, 87.5, 93.75, 90.625, 90.625, 87.5, 84.375, 96.875, 87.5, 87.5, 100.0, 90.625, 96.875, 87.5, 96.875, 81.25, 90.625, 93.75, 87.5, 100.0, 87.5, 93.75, 87.5, 87.5, 90.625, 90.625, 84.375, 87.5, 93.75, 81.25, 84.375, 90.625, 93.75, 87.5, 90.625, 87.5, 84.375, 90.625, 90.625, 84.375, 87.5, 90.625, 90.625, 93.75, 84.375, 93.75, 78.125, 87.5, 90.625, 87.5, 87.5, 78.125, 93.75, 90.625, 87.5, 75.0, 90.625, 93.75, 87.5, 90.625, 84.375, 96.875, 90.625, 90.625, 96.875, 81.25, 84.375, 96.875, 87.5, 90.625, 87.5, 90.625, 84.375, 93.75, 96.875, 93.75, 96.875, 87.5, 87.5, 90.625, 87.5, 90.625, 87.5, 87.5, 100.0, 87.5, 96.875, 93.75, 78.125, 81.25, 84.375, 93.75, 90.625, 84.375, 68.75, 93.75, 90.625, 90.625, 87.5, 90.625, 84.375, 84.375, 96.875, 96.875, 87.5, 84.375, 90.625, 90.625, 87.5, 87.5, 87.5, 96.875, 84.375, 81.25, 84.375, 84.375, 84.375, 90.625, 90.625, 84.375, 81.25, 90.625, 93.75, 87.5, 84.375, 78.125, 87.5, 90.625, 84.375, 93.75, 81.25, 84.375, 90.625, 87.5, 84.375, 81.25, 87.5, 87.5, 78.125, 87.5, 87.5, 87.5, 96.875, 75.0, 87.5, 96.875, 90.625, 81.25, 87.5, 96.875, 87.5, 90.625, 87.5, 84.375, 96.875, 84.375, 81.25, 81.25, 90.625, 87.5, 81.25, 87.5, 84.375, 90.625, 93.75, 90.625, 96.875, 84.375, 87.5, 78.125, 90.625, 90.625, 90.625, 90.625, 81.25, 96.875, 90.625, 81.25, 84.375, 84.375, 87.5, 84.375, 90.625, 87.5, 90.625, 93.75, 53.125, 96.875, 93.75, 93.75, 87.5, 90.625, 90.625, 90.625, 87.5, 90.625, 87.5, 96.875, 93.75, 90.625, 87.5, 90.625, 84.375, 90.625, 87.5, 93.75, 84.375, 93.75, 90.625, 90.625, 93.75, 93.75, 93.75, 87.5, 87.5, 100.0, 90.625, 93.75, 90.625, 100.0, 93.75, 87.5, 96.875, 93.75, 96.875, 90.625, 93.75, 93.75, 96.875, 93.75, 93.75, 90.625, 90.625, 84.375, 90.625, 96.875, 93.75, 96.875, 96.875, 87.5, 93.75, 96.875, 84.375, 93.75, 93.75, 87.5, 87.5, 93.75, 90.625, 93.75, 96.875, 90.625, 96.875, 93.75, 93.75, 87.5, 87.5, 96.875, 96.875, 90.625, 93.75, 100.0, 93.75, 96.875, 93.75, 87.5, 87.5, 96.875, 93.75, 93.75, 93.75, 93.75, 90.625, 87.5, 90.625, 93.75, 96.875, 93.75, 84.375, 84.375, 93.75, 93.75, 93.75, 90.625, 90.625, 96.875, 90.625, 90.625, 78.125, 93.75, 93.75, 96.875, 84.375, 100.0, 90.625, 100.0, 93.75, 90.625, 96.875, 87.5, 84.375, 100.0, 84.375, 96.875, 96.875, 93.75, 93.75, 90.625, 93.75, 90.625, 90.625, 90.625, 93.75, 100.0, 90.625, 93.75, 93.75, 87.5, 90.625, 84.375, 96.875, 87.5, 93.75, 96.875, 84.375, 87.5, 93.75, 96.875, 84.375, 87.5, 93.75, 93.75, 93.75, 93.75, 90.625, 96.875, 96.875, 90.625, 87.5, 78.125, 100.0, 93.75, 90.625, 87.5, 96.875, 90.625, 96.875, 90.625, 90.625, 96.875, 84.375, 93.75, 87.5, 87.5, 96.875, 87.5, 96.875, 84.375, 93.75, 93.75, 93.75, 90.625, 93.75, 96.875, 93.75, 96.875, 93.75, 100.0, 87.5, 87.5, 87.5, 90.625, 90.625, 90.625, 100.0, 93.75, 90.625, 93.75, 84.375, 90.625, 90.625, 96.875, 93.75, 87.5, 87.5, 93.75, 96.875, 96.875, 90.625, 96.875, 93.75, 87.5, 93.75, 93.75, 75.0, 90.625, 90.625, 100.0, 93.75, 90.625, 93.75, 87.5, 93.75, 93.75, 93.75, 96.875, 96.875, 100.0, 93.75, 93.75, 81.25, 87.5, 90.625, 90.625, 93.75, 93.75, 87.5, 96.875, 93.75, 87.5, 93.75, 93.75, 90.625, 93.75, 100.0, 90.625, 93.75, 90.625, 100.0, 96.875, 90.625, 90.625, 93.75, 90.625, 90.625, 87.5, 93.75, 87.5, 87.5, 90.625, 90.625, 84.375, 87.5, 96.875, 90.625, 96.875, 93.75, 93.75, 90.625, 100.0, 93.75, 96.875, 87.5, 90.625, 90.625, 90.625, 90.625, 96.875, 93.75, 90.625, 100.0, 93.75, 87.5, 93.75, 96.875, 96.875, 93.75, 90.625, 96.875, 90.625, 100.0, 93.75, 90.625, 96.875, 96.875, 96.875, 96.875, 96.875, 90.625, 93.75, 90.625, 93.75, 87.5, 93.75, 100.0, 96.875, 90.625, 96.875, 96.875, 93.75, 90.625, 96.875, 96.875, 84.375, 90.625, 87.5, 90.625, 93.75, 100.0, 93.75, 96.875, 96.875, 93.75, 87.5, 96.875, 84.375, 90.625, 96.875, 87.5, 90.625, 93.75, 100.0, 96.875, 90.625, 84.375, 87.5, 90.625, 90.625, 90.625, 93.75, 84.375, 93.75, 93.75, 90.625, 90.625, 96.875, 90.625, 93.75, 87.5, 90.625, 93.75, 96.875, 96.875, 93.75, 93.75, 93.75, 87.5, 96.875, 87.5, 81.25, 84.375, 96.875, 96.875, 93.75, 96.875, 93.75, 96.875, 93.75, 90.625, 87.5, 90.625, 90.625, 93.75, 90.625, 93.75, 90.625, 90.625, 90.625, 93.75, 87.5, 93.75, 93.75, 90.625, 96.875, 87.5, 96.875, 84.375, 93.75, 87.5, 93.75, 90.625, 96.875, 93.75, 87.5, 93.75, 90.625, 93.75, 96.875, 90.625, 93.75, 93.75, 96.875, 96.875, 81.25, 87.5, 87.5, 96.875, 90.625, 93.75, 84.375, 81.25, 90.625, 93.75, 93.75, 84.375, 90.625, 84.375, 90.625, 93.75, 93.75, 93.75, 84.375, 90.625, 87.5, 93.75, 84.375, 93.75, 90.625, 96.875, 93.75, 90.625, 93.75, 84.375, 90.625, 93.75, 87.5, 90.625, 90.625, 93.75, 81.25, 100.0, 90.625, 84.375, 93.75, 84.375, 100.0, 87.5, 96.875, 90.625, 100.0, 87.5, 87.5, 90.625, 93.75, 93.75, 96.875, 96.875, 93.75, 96.875, 90.625, 93.75, 90.625, 96.875, 87.5, 90.625, 87.5, 93.75, 96.875, 93.75, 93.75, 87.5, 87.5, 96.875, 93.75, 96.875, 93.75, 96.875, 93.75, 90.625, 93.75, 81.25, 90.625, 87.5, 90.625, 93.75, 90.625, 93.75, 93.75, 96.875, 84.375, 93.75, 81.25, 84.375, 87.5, 84.375, 93.75, 90.625, 96.875, 90.625, 81.25, 87.5, 100.0, 96.875, 90.625, 100.0, 90.625, 93.75, 93.75, 93.75, 96.875, 84.375, 87.5, 84.375, 93.75, 90.625, 93.75, 93.75, 96.875, 90.625, 93.75, 96.875, 96.875, 93.75, 100.0, 90.625, 93.75, 93.75, 87.5, 90.625, 93.75, 93.75, 93.75, 78.125, 93.75, 90.625, 93.75, 93.75, 84.375, 87.5, 96.875, 84.375, 87.5, 90.625, 90.625, 93.75, 87.5, 90.625, 100.0, 93.75, 87.5, 100.0, 90.625, 100.0, 87.5, 93.75, 84.375, 90.625, 96.875, 90.625, 96.875, 93.75, 90.625, 87.5, 93.75, 90.625, 90.625, 96.875, 93.75, 96.875, 93.75, 90.625, 87.5, 93.75, 96.875, 90.625, 96.875, 100.0, 93.75, 93.75, 100.0, 93.75, 93.75, 100.0, 96.875, 90.625, 90.625, 93.75, 90.625, 93.75, 87.5, 100.0, 90.625, 96.875, 93.75, 93.75, 84.375, 84.375, 93.75, 100.0, 100.0, 96.875, 84.375, 81.25, 81.25, 87.5, 96.875, 96.875, 90.625, 87.5, 93.75, 100.0, 84.375, 96.875, 93.75, 96.875, 84.375, 100.0, 87.5, 90.625, 87.5, 93.75, 93.75, 87.5, 96.875, 96.875, 93.75, 90.625, 90.625, 90.625, 84.375, 87.5, 87.5, 96.875, 96.875, 93.75, 93.75, 84.375, 90.625, 93.75, 93.75, 87.5, 84.375, 90.625, 100.0, 90.625, 93.75, 100.0, 96.875, 90.625, 100.0, 93.75, 96.875, 93.75, 93.75, 96.875, 93.75, 81.25, 100.0, 96.875, 90.625, 96.875, 100.0, 93.75, 93.75, 90.625, 96.875, 93.75, 93.75, 93.75, 87.5, 90.625, 93.75, 90.625, 90.625, 87.5, 93.75, 96.875, 81.25, 96.875, 90.625, 96.875, 93.75, 87.5, 93.75, 93.75, 87.5, 84.375, 87.5, 90.625, 96.875, 81.25, 93.75, 100.0, 93.75, 96.875, 84.375, 93.75, 87.5, 96.875, 96.875, 87.5, 93.75, 87.5, 90.625, 93.75, 90.625, 96.875, 96.875, 87.5, 90.625, 93.75, 96.875, 100.0, 87.5, 90.625, 93.75, 90.625, 96.875, 93.75, 84.375, 87.5, 93.75, 96.875, 87.5, 90.625, 90.625, 96.875, 84.375, 100.0, 90.625, 93.75, 100.0, 90.625, 100.0, 93.75, 96.875, 93.75, 93.75, 96.875, 87.5, 96.875, 96.875, 90.625, 90.625, 96.875, 90.625, 93.75, 84.375, 87.5, 87.5, 87.5, 84.375, 87.5, 96.875, 87.5, 87.5, 100.0, 90.625, 100.0, 90.625, 90.625, 90.625, 87.5, 93.75, 93.75, 93.75, 96.875, 90.625, 96.875, 93.75, 87.5, 96.875, 87.5, 96.875, 84.375, 84.375, 90.625, 87.5, 87.5, 96.875, 87.5, 96.875, 100.0, 93.75, 93.75, 90.625, 90.625, 96.875, 90.625, 96.875, 87.5, 96.875, 87.5, 90.625, 96.875, 90.625, 96.875, 93.75, 96.875, 90.625, 90.625, 93.75, 93.75, 84.375, 90.625, 93.75, 93.75, 90.625, 93.75, 90.625, 87.5, 90.625, 84.375, 96.875, 96.875, 90.625, 90.625, 96.875, 96.875, 84.375, 87.5, 87.5, 87.5, 81.25, 81.25, 93.75, 93.75, 96.875, 90.625, 81.25, 96.875, 100.0, 93.75, 96.875, 96.875, 93.75, 90.625, 87.5, 84.375, 100.0, 96.875, 87.5, 93.75, 84.375, 81.25, 93.75, 90.625, 93.75, 93.75, 90.625, 93.75, 96.875, 90.625, 84.375, 93.75, 96.875, 90.625, 84.375, 84.375, 93.75, 93.75, 90.625, 87.5, 93.75, 96.875, 93.75, 96.875, 90.625, 100.0, 87.5, 96.875, 87.5, 90.625, 93.75, 93.75, 90.625, 90.625, 96.875, 84.375, 96.875, 84.375, 100.0, 93.75, 93.75, 100.0, 96.875, 90.625, 90.625, 100.0, 96.875, 93.75, 100.0, 96.875, 93.75, 90.625, 100.0, 90.625, 93.75, 93.75, 90.625, 96.875, 90.625, 90.625, 100.0, 93.75, 90.625, 87.5, 93.75, 96.875, 87.5, 78.125, 93.75, 87.5, 90.625, 93.75, 90.625, 90.625, 78.125, 93.75, 93.75, 87.5, 96.875, 93.75, 93.75, 90.625, 93.75, 90.625, 90.625, 93.75, 96.875, 100.0, 93.75, 90.625, 87.5, 90.625, 90.625, 87.5, 96.875, 93.75, 90.625, 96.875, 90.625, 96.875, 90.625, 84.375, 93.75, 90.625, 93.75, 90.625, 93.75, 96.875, 100.0, 84.375, 90.625, 87.5, 90.625, 90.625, 93.75, 81.25, 93.75, 96.875, 100.0, 90.625, 96.875, 96.875, 93.75, 87.5, 84.375, 100.0, 87.5, 100.0, 87.5, 93.75, 81.25, 93.75, 93.75, 84.375, 93.75, 84.375, 96.875, 93.75, 100.0, 93.75, 93.75, 84.375, 100.0, 87.5, 93.75, 90.625, 90.625, 93.75, 81.25, 90.625, 90.625, 84.375, 90.625, 90.625, 90.625, 96.875, 96.875, 90.625, 93.75, 81.25, 96.875, 96.875, 90.625, 93.75, 87.5, 96.875, 93.75, 100.0, 96.875, 93.75, 90.625, 90.625, 100.0, 87.5, 96.875, 84.375, 90.625, 96.875, 93.75, 93.75, 87.5, 100.0, 93.75, 96.875, 90.625, 90.625, 96.875, 81.25, 93.75, 96.875, 87.5, 87.5, 90.625, 96.875, 90.625, 90.625, 84.375, 87.5, 96.875, 87.5, 93.75, 81.25, 93.75, 93.75, 96.875, 87.5, 93.75, 90.625, 96.875, 93.75, 78.125, 87.5, 96.875, 84.375, 96.875, 93.75, 90.625, 93.75, 100.0, 93.75, 90.625, 87.5, 87.5, 93.75, 90.625, 87.5, 93.75, 96.875, 96.875, 96.875, 93.75, 96.875, 87.5, 100.0, 93.75, 93.75, 93.75, 100.0, 87.5, 90.625, 90.625, 87.5, 90.625, 93.75, 96.875, 93.75, 90.625, 87.5, 93.75, 87.5, 96.875, 100.0, 96.875, 90.625, 78.125, 81.25, 87.5, 87.5, 93.75, 81.25, 78.125, 90.625, 93.75, 93.75, 93.75, 96.875, 90.625, 100.0, 90.625, 90.625, 90.625, 90.625, 84.375, 93.75, 84.375, 100.0, 93.75, 93.75, 96.875, 93.75, 84.375, 100.0, 96.875, 90.625, 93.75, 93.75, 90.625, 93.75, 96.875, 87.5, 100.0, 93.75, 81.25, 96.875, 90.625, 90.625, 100.0, 90.625, 90.625, 87.5, 96.875, 96.875, 96.875, 93.75, 93.75, 100.0, 90.625, 100.0, 90.625, 93.75, 96.875, 90.625, 93.75, 96.875, 96.875, 96.875, 96.875, 90.625, 84.375, 93.75, 93.75, 81.25, 90.625, 93.75, 96.875, 93.75, 93.75, 93.75, 96.875, 90.625, 100.0, 100.0, 93.75, 87.5, 90.625, 93.75, 90.625, 100.0, 90.625, 96.875, 96.875, 93.75, 84.375, 96.875, 90.625, 90.625, 100.0, 90.625, 87.5, 87.5, 84.375, 90.625, 90.625, 81.25, 84.375, 96.875, 96.875, 90.625, 81.25, 90.625, 93.75, 96.875, 81.25, 93.75, 96.875, 100.0, 93.75, 87.5, 93.75, 93.75, 93.75, 93.75, 87.5, 93.75, 96.875, 87.5, 96.875, 93.75, 90.625, 93.75, 93.75, 93.75, 93.75, 93.75, 93.75, 90.625, 90.625, 90.625, 87.5, 90.625, 84.375, 93.75, 90.625, 90.625, 90.625, 90.625, 87.5, 90.625, 93.75, 87.5, 100.0, 96.875, 84.375, 100.0, 90.625, 84.375, 90.625, 93.75, 100.0, 87.5, 100.0, 90.625, 84.375, 100.0, 90.625, 100.0, 90.625, 96.875, 87.5, 96.875, 87.5, 87.5, 87.5, 84.375, 84.375, 96.875, 93.75, 93.75, 87.5, 93.75, 90.625, 93.75, 96.875, 93.75, 93.75, 96.875, 93.75, 93.75, 90.625, 87.5, 96.875, 90.625, 93.75, 96.875, 87.5, 84.375, 90.625, 90.625, 62.5, 93.75, 90.625, 96.875, 100.0, 100.0, 93.75, 90.625, 100.0, 93.75, 93.75, 93.75, 96.875, 96.875, 93.75, 93.75, 96.875, 100.0, 90.625, 93.75, 93.75, 93.75, 93.75, 100.0, 96.875, 96.875, 90.625, 100.0, 90.625, 100.0, 96.875, 90.625, 100.0, 96.875, 90.625, 93.75, 96.875, 93.75, 93.75, 100.0, 96.875, 96.875, 93.75, 96.875, 96.875, 100.0, 90.625, 100.0, 96.875, 93.75, 93.75, 87.5, 93.75, 93.75, 100.0, 100.0, 96.875, 93.75, 93.75, 100.0, 100.0, 93.75, 93.75, 90.625, 93.75, 96.875, 100.0, 87.5, 93.75, 93.75, 93.75, 96.875, 100.0, 93.75, 96.875, 96.875, 100.0, 93.75, 100.0, 93.75, 93.75, 90.625, 96.875, 100.0, 93.75, 87.5, 93.75, 96.875, 93.75, 96.875, 100.0, 90.625, 93.75, 93.75, 96.875, 93.75, 100.0, 100.0, 93.75, 100.0, 100.0, 96.875, 93.75, 96.875, 93.75, 96.875, 93.75, 100.0, 96.875, 93.75, 96.875, 100.0, 96.875, 90.625, 100.0, 100.0, 100.0, 100.0, 100.0, 96.875, 96.875, 100.0, 100.0, 93.75, 84.375, 93.75, 100.0, 100.0, 96.875, 87.5, 87.5, 96.875, 100.0, 90.625, 100.0, 100.0, 96.875, 90.625, 96.875, 87.5, 100.0, 96.875, 93.75, 93.75, 87.5, 96.875, 90.625, 96.875, 100.0, 90.625, 100.0, 90.625, 96.875, 93.75, 96.875, 93.75, 96.875, 96.875, 96.875, 100.0, 93.75, 100.0, 96.875, 93.75, 93.75, 96.875, 90.625, 96.875, 90.625, 93.75, 93.75, 93.75, 100.0, 90.625, 90.625, 90.625, 100.0, 90.625, 96.875, 93.75, 96.875, 93.75, 96.875, 96.875, 93.75, 93.75, 93.75, 93.75, 93.75, 96.875, 96.875, 100.0, 100.0, 96.875, 100.0, 96.875, 90.625, 100.0, 93.75, 96.875, 90.625, 96.875, 100.0, 93.75, 93.75, 100.0, 87.5, 96.875, 100.0, 96.875, 96.875, 100.0, 100.0, 96.875, 93.75, 96.875, 100.0, 96.875, 90.625, 100.0, 93.75, 93.75, 93.75, 96.875, 96.875, 90.625, 93.75, 93.75, 93.75, 93.75, 96.875, 93.75, 93.75, 93.75, 96.875, 96.875, 90.625, 96.875, 90.625, 90.625, 90.625, 96.875, 100.0, 93.75, 96.875, 93.75, 90.625, 96.875, 96.875, 96.875, 93.75, 100.0, 96.875, 96.875, 100.0, 96.875, 90.625, 96.875, 100.0, 100.0, 93.75, 93.75, 87.5, 100.0, 93.75, 93.75, 93.75, 90.625, 96.875, 100.0, 96.875, 87.5, 93.75, 93.75, 96.875, 96.875, 93.75, 93.75, 96.875, 100.0, 96.875, 90.625, 93.75, 93.75, 93.75, 93.75, 90.625, 96.875, 96.875, 100.0, 90.625, 93.75, 100.0, 93.75, 90.625, 96.875, 100.0, 87.5, 96.875, 93.75, 96.875, 84.375, 96.875, 100.0, 100.0, 100.0, 93.75, 96.875, 93.75, 90.625, 100.0, 100.0, 93.75, 93.75, 100.0, 96.875, 96.875, 100.0, 90.625, 100.0, 90.625, 96.875, 100.0, 100.0, 100.0, 96.875, 93.75, 90.625, 93.75, 96.875, 96.875, 100.0, 96.875, 93.75, 96.875, 96.875, 96.875, 93.75, 100.0, 87.5, 87.5, 96.875, 90.625, 100.0, 100.0, 96.875, 100.0, 96.875, 96.875, 96.875, 100.0, 96.875, 93.75, 93.75, 96.875, 100.0, 96.875, 90.625, 96.875, 87.5, 96.875, 93.75, 100.0, 100.0, 93.75, 96.875, 96.875, 93.75, 87.5, 96.875, 100.0, 93.75, 100.0, 100.0, 90.625, 93.75, 100.0, 100.0, 96.875, 96.875, 100.0, 100.0, 100.0, 90.625, 96.875, 84.375, 100.0, 100.0, 96.875, 90.625, 93.75, 90.625, 93.75, 90.625, 96.875, 93.75, 87.5, 96.875, 96.875, 93.75, 90.625, 90.625, 96.875, 90.625, 96.875, 100.0, 96.875, 96.875, 93.75, 96.875, 100.0, 100.0, 96.875, 100.0, 100.0, 96.875, 90.625, 96.875, 93.75, 96.875, 96.875, 93.75, 93.75, 96.875, 96.875, 96.875, 93.75, 100.0, 93.75, 93.75, 96.875, 93.75, 87.5, 93.75, 93.75, 93.75, 100.0, 96.875, 100.0, 96.875, 96.875, 93.75, 90.625, 93.75, 93.75, 96.875, 100.0, 93.75, 96.875, 96.875, 96.875, 96.875, 93.75, 96.875, 93.75, 93.75, 84.375, 100.0, 90.625, 90.625, 90.625, 90.625, 93.75, 100.0, 96.875, 100.0, 96.875, 100.0, 100.0, 93.75, 96.875, 100.0, 93.75, 93.75, 100.0, 90.625, 90.625, 90.625, 96.875, 100.0, 100.0, 100.0, 96.875, 93.75, 93.75, 90.625, 100.0, 100.0, 96.875, 96.875, 93.75, 93.75, 96.875, 100.0, 96.875, 93.75, 96.875, 100.0, 93.75, 100.0, 96.875, 100.0, 87.5, 90.625, 93.75, 100.0, 96.875, 93.75, 100.0, 90.625, 93.75, 90.625, 96.875, 96.875, 90.625, 96.875, 96.875, 100.0, 93.75, 96.875, 100.0, 96.875, 96.875, 93.75, 93.75, 100.0, 96.875, 87.5, 93.75, 96.875, 100.0, 96.875, 87.5, 100.0, 93.75, 96.875, 96.875, 90.625, 93.75, 100.0, 96.875, 96.875, 100.0, 100.0, 90.625, 96.875, 100.0, 96.875, 100.0, 100.0, 93.75, 96.875, 100.0, 96.875, 96.875, 96.875, 100.0, 100.0, 96.875, 84.375, 96.875, 90.625, 96.875, 90.625, 87.5, 96.875, 93.75, 96.875, 96.875, 96.875, 93.75, 100.0, 93.75, 93.75, 100.0, 100.0, 96.875, 87.5, 84.375, 96.875, 96.875, 96.875, 93.75, 100.0, 90.625, 93.75, 96.875, 96.875, 96.875, 100.0, 93.75, 90.625, 100.0, 90.625, 100.0, 90.625, 96.875, 90.625, 100.0, 96.875, 96.875, 93.75, 100.0, 96.875, 93.75, 100.0, 96.875, 96.875, 100.0, 96.875, 90.625, 93.75, 90.625, 100.0, 84.375, 93.75, 96.875, 96.875, 90.625, 90.625, 100.0, 93.75, 90.625, 90.625, 93.75, 96.875, 93.75, 96.875, 93.75, 90.625, 96.875, 96.875, 100.0, 93.75, 93.75, 96.875, 100.0, 90.625, 90.625, 96.875, 93.75, 100.0, 96.875, 96.875, 100.0, 96.875, 100.0, 90.625, 96.875, 96.875, 96.875, 90.625, 93.75, 100.0, 100.0, 96.875, 90.625, 100.0, 90.625, 100.0, 100.0, 96.875, 90.625, 96.875, 93.75, 90.625, 96.875, 96.875, 100.0, 93.75, 96.875, 96.875, 96.875, 93.75, 93.75, 96.875, 96.875, 90.625, 93.75, 96.875, 96.875, 96.875, 87.5, 100.0, 100.0, 96.875, 100.0, 100.0, 100.0, 96.875, 93.75, 90.625, 96.875, 81.25, 100.0, 96.875, 96.875, 96.875, 96.875, 100.0, 100.0, 100.0, 93.75, 96.875, 93.75, 100.0, 96.875, 100.0, 96.875, 93.75, 96.875, 100.0, 96.875, 93.75, 93.75, 96.875, 100.0, 93.75, 93.75, 93.75, 90.625, 96.875, 96.875, 96.875, 96.875, 93.75, 93.75, 96.875, 100.0, 93.75, 96.875, 96.875, 93.75, 93.75, 100.0, 90.625, 96.875, 100.0, 100.0, 93.75, 96.875, 96.875, 87.5, 90.625, 96.875, 93.75, 100.0, 100.0, 90.625, 100.0, 96.875, 90.625, 100.0, 93.75, 100.0, 100.0, 96.875, 90.625, 96.875, 93.75, 100.0, 96.875, 100.0, 93.75, 93.75, 93.75, 100.0, 93.75, 100.0, 90.625, 96.875, 96.875, 100.0, 93.75, 100.0, 93.75, 93.75, 93.75, 100.0, 96.875, 93.75, 96.875, 90.625, 96.875, 93.75, 87.5, 93.75, 93.75, 93.75, 96.875, 96.875, 96.875, 100.0, 100.0, 100.0, 100.0, 93.75, 96.875, 100.0, 96.875, 96.875, 90.625, 100.0, 93.75, 93.75, 93.75, 96.875, 90.625, 93.75, 96.875, 96.875, 100.0, 96.875, 93.75, 93.75, 96.875, 93.75, 100.0, 100.0, 100.0, 96.875, 93.75, 100.0, 93.75, 100.0, 84.375, 93.75, 93.75, 96.875, 100.0, 100.0, 96.875, 100.0, 90.625, 96.875, 96.875, 90.625, 93.75, 96.875, 100.0, 96.875, 90.625, 96.875, 96.875, 87.5, 100.0, 93.75, 100.0, 100.0, 96.875, 93.75, 93.75, 100.0, 100.0, 90.625, 96.875, 93.75, 100.0, 93.75, 93.75, 96.875, 96.875, 93.75, 81.25, 100.0, 96.875, 93.75, 100.0, 96.875, 100.0, 93.75, 96.875, 100.0, 100.0, 100.0, 90.625, 87.5, 100.0, 100.0, 93.75, 93.75, 96.875, 100.0, 100.0, 100.0, 93.75, 96.875, 100.0, 96.875, 96.875, 100.0, 96.875, 100.0, 87.5, 100.0, 100.0, 100.0, 87.5, 96.875, 90.625, 93.75, 96.875, 93.75, 93.75, 93.75, 90.625, 96.875, 93.75, 96.875, 100.0, 100.0, 93.75, 96.875, 96.875, 93.75, 100.0, 90.625, 96.875, 100.0, 96.875, 96.875, 96.875, 93.75, 93.75, 100.0, 93.75, 93.75, 96.875, 93.75, 96.875, 100.0, 90.625, 96.875, 96.875, 93.75, 93.75, 96.875, 100.0, 96.875, 90.625, 96.875, 96.875, 87.5, 93.75, 93.75, 100.0, 87.5, 93.75, 87.5, 96.875, 93.75, 100.0, 93.75, 96.875, 96.875, 93.75, 93.75, 87.5, 100.0, 96.875, 93.75, 100.0, 93.75, 96.875, 96.875, 96.875, 100.0, 96.875, 100.0, 90.625, 96.875, 87.5, 96.875, 93.75, 96.875, 96.875, 93.75, 96.875, 90.625, 96.875, 100.0, 87.5, 90.625, 93.75, 100.0, 96.875, 93.75, 100.0, 96.875, 100.0, 96.875, 100.0, 96.875, 96.875, 93.75, 93.75, 90.625, 96.875, 100.0, 96.875, 96.875, 90.625, 100.0, 100.0, 93.75, 96.875, 90.625, 93.75, 96.875, 100.0, 93.75, 96.875, 96.875, 96.875, 93.75, 90.625, 100.0, 90.625, 100.0, 90.625, 96.875, 93.75, 100.0, 96.875, 100.0, 100.0, 100.0, 96.875, 100.0, 100.0, 96.875, 96.875, 93.75, 96.875, 100.0, 96.875, 96.875, 100.0, 96.875, 96.875, 96.875, 100.0, 100.0, 96.875, 96.875, 93.75, 96.875, 100.0, 93.75, 96.875, 96.875, 90.625, 96.875, 93.75, 87.5, 96.875, 90.625, 96.875, 100.0, 90.625, 100.0, 96.875, 90.625, 93.75, 100.0, 90.625, 96.875, 100.0, 100.0, 96.875, 96.875, 100.0, 100.0, 100.0, 96.875, 96.875, 93.75, 87.5, 90.625, 93.75, 100.0, 100.0, 93.75, 96.875, 100.0, 96.875, 100.0, 90.625, 93.75, 90.625, 90.625, 96.875, 96.875, 93.75, 96.875, 93.75, 100.0, 93.75, 93.75, 96.875, 96.875, 96.875, 93.75, 100.0, 93.75, 90.625, 96.875, 100.0, 93.75, 96.875, 93.75, 93.75, 93.75, 93.75, 96.875, 96.875, 90.625, 96.875, 93.75, 90.625, 87.5, 96.875, 96.875, 96.875, 96.875, 100.0, 100.0, 96.875, 96.875, 100.0, 84.375, 90.625, 90.625, 96.875, 100.0, 93.75, 90.625, 100.0, 93.75, 100.0, 87.5, 100.0, 96.875, 93.75, 93.75, 100.0, 93.75, 90.625, 93.75, 96.875, 96.875, 90.625, 100.0, 96.875, 96.875, 93.75, 93.75, 90.625, 100.0, 93.75, 96.875, 100.0, 93.75, 96.875, 93.75, 100.0, 87.5, 96.875, 96.875, 96.875, 100.0, 96.875, 100.0, 96.875, 93.75, 93.75, 93.75, 96.875, 90.625, 100.0, 93.75, 90.625, 93.75, 93.75, 96.875, 93.75, 87.5, 90.625, 100.0, 90.625, 84.375, 93.75, 100.0, 87.5, 90.625, 100.0, 93.75, 93.75, 96.875, 93.75, 96.875, 100.0, 100.0, 100.0, 93.75, 87.5, 93.75, 93.75, 93.75, 96.875, 96.875, 84.375, 100.0, 100.0, 96.875, 100.0, 96.875, 96.875, 90.625, 100.0, 96.875, 100.0, 93.75, 96.875, 93.75, 93.75, 93.75, 96.875, 96.875, 100.0, 96.875, 100.0, 93.75, 96.875, 96.875, 96.875, 100.0, 100.0, 93.75, 96.875, 96.875, 100.0, 96.875, 93.75, 100.0, 90.625, 90.625, 100.0, 100.0, 96.875, 100.0, 96.875, 93.75, 96.875, 100.0, 96.875, 90.625, 93.75, 96.875, 100.0, 90.625, 96.875, 93.75, 81.25, 90.625, 90.625, 96.875, 96.875, 96.875, 93.75, 93.75, 96.875, 96.875, 90.625, 93.75, 96.875, 96.875, 96.875, 93.75, 90.625, 96.875, 93.75, 100.0, 100.0, 96.875, 56.25, 100.0, 96.875, 100.0, 100.0, 90.625, 96.875, 100.0, 93.75, 96.875, 96.875, 93.75, 96.875, 96.875, 100.0, 100.0, 100.0, 100.0, 96.875, 96.875, 100.0, 96.875, 96.875, 100.0, 96.875, 100.0, 93.75, 93.75, 100.0, 100.0, 100.0, 100.0, 100.0, 96.875, 100.0, 93.75, 96.875, 93.75, 100.0, 93.75, 93.75, 100.0, 96.875, 100.0, 93.75, 96.875, 100.0, 100.0, 96.875, 96.875, 100.0, 96.875, 100.0, 100.0, 90.625, 96.875, 93.75, 93.75, 96.875, 96.875, 96.875, 93.75, 90.625, 96.875, 100.0, 96.875, 100.0, 96.875, 96.875, 93.75, 100.0, 93.75, 96.875, 90.625, 90.625, 100.0, 93.75, 100.0, 100.0, 96.875, 96.875, 93.75, 93.75, 100.0, 100.0, 100.0, 96.875, 90.625, 96.875, 93.75, 100.0, 100.0, 100.0, 93.75, 96.875, 100.0, 100.0, 100.0, 100.0, 93.75, 96.875, 93.75, 100.0, 100.0, 96.875, 96.875, 100.0, 96.875, 96.875, 93.75, 100.0, 96.875, 100.0, 96.875, 96.875, 100.0, 96.875, 100.0, 93.75, 100.0, 100.0, 96.875, 96.875, 96.875, 100.0, 93.75, 96.875, 96.875, 96.875, 100.0, 93.75, 100.0, 96.875, 96.875, 96.875, 96.875, 96.875, 100.0, 93.75, 96.875, 93.75, 93.75, 100.0, 96.875, 96.875, 93.75, 100.0, 87.5, 93.75, 96.875, 100.0, 96.875, 100.0, 100.0, 100.0, 100.0, 100.0, 96.875, 96.875, 96.875, 93.75, 96.875, 96.875, 90.625, 96.875, 100.0, 93.75, 100.0, 100.0, 100.0, 100.0, 96.875, 93.75, 96.875, 100.0, 100.0, 96.875, 96.875, 100.0, 96.875, 93.75, 100.0, 96.875, 100.0, 100.0, 96.875, 96.875, 96.875, 100.0, 100.0, 96.875, 96.875, 96.875, 93.75, 100.0, 96.875, 93.75, 96.875, 93.75, 100.0, 96.875, 93.75, 100.0, 96.875, 100.0, 96.875, 100.0, 96.875, 100.0, 96.875, 96.875, 100.0, 96.875, 100.0, 96.875, 96.875, 96.875, 100.0, 90.625, 90.625, 96.875, 100.0, 96.875, 96.875, 100.0, 96.875, 96.875, 96.875, 100.0, 96.875, 96.875, 100.0, 100.0, 96.875, 96.875, 100.0, 93.75, 100.0, 96.875, 96.875, 100.0, 100.0, 96.875, 100.0, 93.75, 100.0, 93.75, 100.0, 100.0, 96.875, 96.875, 96.875, 96.875, 93.75, 90.625, 100.0, 96.875, 96.875, 100.0, 96.875, 90.625, 96.875, 100.0, 100.0, 100.0, 96.875, 93.75, 100.0, 96.875, 96.875, 93.75, 96.875, 90.625, 100.0, 93.75, 90.625, 100.0, 96.875, 100.0, 100.0, 100.0, 100.0, 100.0, 100.0, 100.0, 100.0, 100.0, 100.0, 100.0, 93.75, 96.875, 100.0, 100.0, 100.0, 100.0, 96.875, 100.0, 96.875, 100.0, 100.0, 96.875, 100.0, 96.875, 96.875, 93.75, 100.0, 96.875, 100.0, 100.0, 100.0, 90.625, 96.875, 96.875, 96.875, 96.875, 96.875, 96.875, 90.625, 96.875, 100.0, 96.875, 100.0, 90.625, 100.0, 93.75, 100.0, 96.875, 100.0, 96.875, 93.75, 96.875, 100.0, 96.875, 96.875, 93.75, 93.75, 96.875, 100.0, 100.0, 100.0, 96.875, 96.875, 93.75, 100.0, 93.75, 96.875, 96.875, 100.0, 100.0, 96.875, 93.75, 93.75, 100.0, 100.0, 100.0, 100.0, 100.0, 93.75, 96.875, 100.0, 93.75, 100.0, 96.875, 96.875, 100.0, 96.875, 100.0, 96.875, 90.625, 100.0, 100.0, 90.625, 93.75, 96.875, 96.875, 100.0, 96.875, 96.875, 93.75, 96.875, 96.875, 93.75, 100.0, 100.0, 96.875, 96.875, 100.0, 100.0, 100.0, 96.875, 96.875, 100.0, 100.0, 100.0, 96.875, 100.0, 96.875, 100.0, 96.875, 100.0, 100.0, 96.875, 96.875, 90.625, 96.875, 90.625, 100.0, 100.0, 96.875, 90.625, 96.875, 96.875, 96.875, 96.875, 100.0, 100.0, 96.875, 90.625, 96.875, 100.0, 96.875, 100.0, 100.0, 93.75, 96.875, 100.0, 100.0, 100.0, 96.875, 96.875, 93.75, 96.875, 100.0, 100.0, 96.875, 96.875, 93.75, 100.0, 100.0, 93.75, 96.875, 93.75, 96.875, 100.0, 100.0, 90.625, 96.875, 96.875, 100.0, 100.0, 100.0, 100.0, 90.625, 100.0, 100.0, 100.0, 100.0, 100.0, 100.0, 96.875, 90.625, 100.0, 87.5, 93.75, 96.875, 100.0, 100.0, 100.0, 93.75, 100.0, 100.0, 90.625, 96.875, 93.75, 100.0, 96.875, 96.875, 96.875, 93.75, 100.0, 100.0, 100.0, 90.625, 100.0, 90.625, 93.75, 93.75, 96.875, 100.0, 90.625, 100.0, 100.0, 96.875, 96.875, 100.0, 100.0, 96.875, 100.0, 93.75, 93.75, 96.875, 96.875, 96.875, 96.875, 96.875, 96.875, 100.0, 100.0, 100.0, 100.0, 93.75, 100.0, 100.0, 100.0, 100.0, 100.0, 96.875, 96.875, 100.0, 100.0, 100.0, 100.0, 96.875, 96.875, 90.625, 100.0, 100.0, 100.0, 96.875, 96.875, 96.875, 100.0, 100.0, 100.0, 100.0, 100.0, 96.875, 93.75, 100.0, 96.875, 100.0, 93.75, 93.75, 96.875, 100.0, 93.75, 96.875, 100.0, 100.0, 100.0, 96.875, 96.875, 100.0, 100.0, 100.0, 100.0, 96.875, 93.75, 96.875, 100.0, 100.0, 90.625, 100.0, 96.875, 100.0, 96.875, 93.75, 96.875, 93.75, 100.0, 96.875, 90.625, 96.875, 96.875, 100.0, 96.875, 100.0, 96.875, 93.75, 93.75, 93.75, 100.0, 96.875, 96.875, 100.0, 100.0, 100.0, 100.0, 96.875, 96.875, 100.0, 100.0, 100.0, 100.0, 93.75, 100.0, 100.0, 93.75, 100.0, 100.0, 100.0, 96.875, 96.875, 96.875, 100.0, 93.75, 100.0, 96.875, 96.875, 90.625, 93.75, 93.75, 96.875, 96.875, 96.875, 96.875, 93.75, 93.75, 96.875, 100.0, 93.75, 96.875, 100.0, 100.0, 100.0, 96.875, 93.75, 93.75, 90.625, 100.0, 100.0, 100.0, 96.875, 96.875, 93.75, 100.0, 100.0, 96.875, 100.0, 96.875, 96.875, 96.875, 96.875, 100.0, 93.75, 96.875, 93.75, 96.875, 93.75, 96.875, 93.75, 100.0, 100.0, 96.875, 93.75, 96.875, 100.0, 100.0, 100.0, 100.0, 100.0, 100.0, 100.0, 90.625, 96.875, 100.0, 93.75, 90.625, 100.0, 93.75, 100.0, 93.75, 93.75, 100.0, 96.875, 96.875, 100.0, 100.0, 100.0, 100.0, 96.875, 100.0, 96.875, 100.0, 90.625, 96.875, 100.0, 96.875, 100.0, 100.0, 100.0, 100.0, 93.75, 100.0, 93.75, 96.875, 90.625, 100.0, 100.0, 93.75, 100.0, 100.0, 100.0, 96.875, 100.0, 100.0, 93.75, 100.0, 100.0, 100.0, 96.875, 100.0, 96.875, 96.875, 96.875, 96.875, 90.625, 100.0, 87.5, 93.75, 100.0, 93.75, 93.75, 96.875, 100.0, 93.75, 100.0, 100.0, 96.875, 100.0, 90.625, 96.875, 100.0, 96.875, 90.625, 96.875, 96.875, 93.75, 96.875, 100.0, 96.875, 100.0, 96.875, 100.0, 100.0, 93.75, 93.75, 96.875, 96.875, 100.0, 100.0, 93.75, 100.0, 96.875, 100.0, 100.0, 96.875, 100.0, 90.625, 100.0, 100.0, 100.0, 96.875, 100.0, 96.875, 100.0, 96.875, 96.875, 100.0, 100.0, 96.875, 96.875, 96.875, 100.0, 96.875, 96.875, 96.875, 93.75, 100.0, 96.875, 100.0, 100.0, 96.875, 100.0, 100.0, 100.0, 100.0, 100.0, 93.75, 96.875, 100.0, 96.875, 100.0, 96.875, 100.0, 90.625, 96.875, 100.0, 100.0, 100.0, 100.0, 100.0, 96.875, 100.0, 100.0, 96.875, 100.0, 100.0, 96.875, 93.75, 96.875, 96.875, 93.75, 100.0, 100.0, 96.875, 96.875, 100.0, 93.75, 96.875, 100.0, 96.875, 100.0, 100.0, 100.0, 96.875, 100.0, 100.0, 100.0, 96.875, 100.0, 96.875, 100.0, 93.75, 96.875, 96.875, 93.75, 100.0, 100.0, 96.875, 100.0, 96.875, 93.75, 100.0, 96.875, 90.625, 96.875, 93.75, 100.0, 93.75, 100.0, 96.875, 100.0, 93.75, 100.0, 100.0, 100.0, 100.0, 100.0, 96.875, 90.625, 93.75, 100.0, 93.75, 93.75, 100.0, 100.0, 100.0, 100.0, 96.875, 100.0, 100.0, 100.0, 93.75, 100.0, 100.0, 100.0, 100.0, 100.0, 96.875, 93.75, 100.0, 100.0, 93.75, 87.5, 100.0, 100.0, 100.0, 96.875, 93.75, 100.0, 84.375, 100.0, 96.875, 100.0, 96.875, 100.0, 100.0, 96.875, 96.875, 100.0, 100.0, 100.0, 96.875, 100.0, 96.875, 96.875, 100.0, 100.0, 96.875, 96.875, 93.75, 100.0, 100.0, 100.0, 100.0, 100.0, 96.875, 100.0, 93.75, 96.875, 100.0, 96.875, 96.875, 100.0, 90.625, 93.75, 96.875, 100.0, 96.875, 96.875, 96.875, 100.0, 96.875, 93.75, 96.875, 100.0, 100.0, 96.875, 100.0, 100.0, 100.0, 90.625, 100.0, 96.875, 96.875, 100.0, 93.75, 100.0, 96.875, 100.0, 96.875, 100.0, 96.875, 100.0, 100.0, 100.0, 100.0, 100.0, 96.875, 96.875, 96.875, 93.75, 100.0, 96.875, 100.0, 96.875, 100.0, 93.75, 96.875, 96.875, 100.0, 96.875, 100.0, 100.0, 96.875, 93.75, 100.0, 93.75, 100.0, 100.0, 96.875, 100.0, 96.875, 96.875, 100.0, 90.625, 100.0, 100.0, 100.0, 96.875, 96.875, 93.75, 96.875, 100.0, 96.875, 100.0, 96.875, 93.75, 96.875, 100.0, 96.875, 96.875, 100.0, 96.875, 100.0, 100.0, 93.75, 100.0, 96.875, 100.0, 93.75, 96.875, 100.0, 96.875, 100.0, 100.0, 100.0, 100.0, 96.875, 100.0, 100.0, 96.875, 87.5, 100.0, 96.875, 100.0, 100.0, 100.0, 100.0, 93.75, 96.875, 93.75, 93.75, 93.75, 100.0, 100.0, 100.0, 96.875, 96.875, 93.75, 100.0, 96.875, 96.875, 96.875, 93.75, 96.875, 96.875, 100.0, 100.0, 96.875, 96.875, 100.0, 96.875, 96.875, 100.0, 96.875, 96.875, 96.875, 96.875, 100.0, 93.75, 96.875, 100.0, 96.875, 96.875, 96.875, 100.0, 96.875, 100.0, 93.75, 100.0, 93.75, 100.0, 96.875, 93.75, 100.0, 100.0, 96.875, 96.875, 93.75, 96.875, 100.0, 100.0, 100.0, 100.0, 96.875, 93.75, 100.0, 100.0, 100.0, 100.0, 96.875, 96.875, 90.625, 100.0, 93.75, 96.875, 96.875, 93.75, 100.0, 90.625, 96.875, 90.625, 96.875, 100.0, 93.75, 100.0, 96.875, 90.625, 93.75, 96.875, 93.75, 96.875, 96.875, 96.875, 93.75, 96.875, 96.875, 96.875, 96.875, 100.0, 96.875, 96.875, 100.0, 100.0, 96.875, 100.0, 100.0, 96.875, 100.0, 96.875, 96.875, 96.875, 96.875, 100.0, 100.0, 100.0, 100.0, 100.0, 100.0, 96.875, 100.0, 96.875, 90.625, 100.0, 100.0, 96.875, 100.0, 100.0, 100.0, 93.75, 100.0, 96.875, 96.875, 96.875, 93.75, 96.875, 100.0, 96.875, 96.875, 96.875, 96.875, 100.0, 100.0, 100.0, 96.875, 100.0, 100.0, 100.0, 90.625, 96.875, 93.75, 96.875, 100.0, 100.0, 100.0, 96.875, 87.5, 100.0, 93.75, 100.0, 90.625, 96.875, 100.0, 93.75, 100.0, 100.0, 90.625, 100.0, 96.875, 100.0, 96.875, 100.0, 96.875, 100.0, 100.0, 100.0, 100.0, 96.875, 100.0, 100.0, 100.0, 96.875, 96.875, 96.875, 100.0, 93.75, 96.875, 96.875, 96.875, 100.0, 96.875, 96.875, 96.875, 96.875, 100.0, 96.875, 100.0, 96.875, 100.0, 96.875, 100.0, 96.875, 96.875, 96.875, 100.0, 100.0, 100.0, 100.0, 100.0, 100.0, 100.0, 100.0, 100.0, 100.0, 96.875, 96.875, 93.75, 96.875, 100.0, 96.875, 93.75, 100.0, 100.0, 93.75, 100.0, 100.0, 96.875, 100.0, 93.75, 96.875, 96.875, 96.875, 100.0, 100.0, 93.75, 100.0, 100.0, 100.0, 96.875, 96.875, 100.0, 96.875, 96.875, 93.75, 100.0, 96.875, 96.875, 100.0, 96.875, 96.875, 100.0, 96.875, 93.75, 100.0, 96.875, 100.0, 96.875, 96.875, 100.0, 100.0, 90.625, 96.875, 100.0, 65.625, 100.0, 100.0, 96.875, 93.75, 96.875, 100.0, 93.75, 100.0, 96.875, 90.625, 96.875, 100.0, 96.875, 90.625, 93.75, 93.75, 100.0, 96.875, 96.875, 100.0, 96.875, 100.0, 100.0, 100.0, 96.875, 100.0, 90.625, 100.0, 96.875, 100.0, 96.875, 100.0, 96.875, 96.875, 100.0, 93.75, 100.0, 100.0, 96.875, 100.0, 93.75, 100.0, 100.0, 100.0, 96.875, 100.0, 100.0, 96.875, 96.875, 96.875, 96.875, 100.0, 96.875, 96.875, 96.875, 100.0, 100.0, 100.0, 100.0, 100.0, 100.0, 100.0, 100.0, 100.0, 100.0, 100.0, 96.875, 96.875, 100.0, 96.875, 96.875, 96.875, 100.0, 100.0, 96.875, 100.0, 100.0, 96.875, 100.0, 100.0, 100.0, 100.0, 96.875, 100.0, 100.0, 100.0, 100.0, 100.0, 100.0, 96.875, 100.0, 100.0, 96.875, 100.0, 100.0, 93.75, 100.0, 100.0, 100.0, 100.0, 93.75, 90.625, 96.875, 96.875, 96.875, 96.875, 96.875, 100.0, 100.0, 100.0, 100.0, 100.0, 100.0, 100.0, 96.875, 100.0, 96.875, 100.0, 100.0, 100.0, 100.0, 96.875, 100.0, 100.0, 100.0, 100.0, 100.0, 100.0, 100.0, 100.0, 96.875, 96.875, 96.875, 96.875, 96.875, 96.875, 100.0, 96.875, 100.0, 100.0, 100.0, 96.875, 93.75, 100.0, 96.875, 96.875, 96.875, 96.875, 100.0, 96.875, 96.875, 96.875, 100.0, 100.0, 100.0, 100.0, 96.875, 96.875, 100.0, 96.875, 96.875, 100.0, 100.0, 96.875, 100.0, 96.875, 93.75, 100.0, 96.875, 100.0, 100.0, 100.0, 96.875, 100.0, 100.0, 100.0, 96.875, 100.0, 100.0, 93.75, 100.0, 100.0, 100.0, 100.0, 96.875, 96.875, 100.0, 100.0, 100.0, 100.0, 96.875, 100.0, 100.0, 100.0, 100.0, 96.875, 96.875, 96.875, 93.75, 93.75, 100.0, 100.0, 96.875, 100.0, 96.875, 90.625, 100.0, 100.0, 100.0, 100.0, 100.0, 100.0, 100.0, 100.0, 100.0, 100.0, 100.0, 96.875, 100.0, 100.0, 100.0, 100.0, 100.0, 100.0, 100.0, 100.0, 100.0, 96.875, 96.875, 96.875, 96.875, 100.0, 100.0, 96.875, 100.0, 96.875, 100.0, 100.0, 100.0, 87.5, 100.0, 100.0, 96.875, 100.0, 100.0, 100.0, 93.75, 100.0, 100.0, 100.0, 100.0, 96.875, 100.0, 96.875, 100.0, 100.0, 100.0, 100.0, 100.0, 100.0, 100.0, 100.0, 100.0, 100.0, 100.0, 96.875, 100.0, 100.0, 100.0, 100.0, 100.0, 96.875, 100.0, 100.0, 100.0, 96.875, 100.0, 100.0, 100.0, 100.0, 96.875, 100.0, 100.0, 96.875, 93.75, 96.875, 100.0, 96.875, 100.0, 100.0, 96.875, 100.0, 96.875, 100.0, 100.0, 100.0, 100.0, 100.0, 100.0, 96.875, 100.0, 96.875, 100.0, 96.875, 100.0, 100.0, 96.875, 96.875, 96.875, 100.0, 96.875, 96.875, 100.0, 100.0, 100.0, 96.875, 96.875, 100.0, 96.875, 96.875, 100.0, 100.0, 96.875, 96.875, 96.875, 100.0, 96.875, 96.875, 93.75, 100.0, 96.875, 100.0, 93.75, 96.875, 100.0, 100.0, 93.75, 96.875, 96.875, 100.0, 96.875, 100.0, 96.875, 100.0, 100.0, 96.875, 100.0, 96.875, 100.0, 96.875, 96.875, 100.0, 100.0, 96.875, 100.0, 96.875, 96.875, 100.0, 100.0, 96.875, 100.0, 100.0, 93.75, 100.0, 93.75, 100.0, 100.0, 100.0, 100.0, 100.0, 100.0, 100.0, 96.875, 96.875, 96.875, 100.0, 100.0, 100.0, 100.0, 100.0, 100.0, 96.875, 93.75, 100.0, 100.0, 96.875, 100.0, 100.0, 100.0, 100.0, 100.0, 96.875, 100.0, 100.0, 93.75, 96.875, 100.0, 93.75, 96.875, 100.0, 96.875, 100.0, 96.875, 100.0, 100.0, 93.75, 96.875, 96.875, 100.0, 100.0, 96.875, 100.0, 100.0, 100.0, 100.0, 96.875, 100.0, 96.875, 93.75, 96.875, 93.75, 96.875, 100.0, 100.0, 100.0, 100.0, 100.0, 96.875, 100.0, 93.75, 100.0, 100.0, 93.75, 100.0, 100.0, 100.0, 100.0, 100.0, 100.0, 96.875, 100.0, 100.0, 100.0, 96.875, 100.0, 96.875, 100.0, 96.875, 100.0, 100.0, 96.875, 100.0, 96.875, 100.0, 100.0, 100.0, 100.0, 96.875, 93.75, 100.0, 100.0, 93.75, 100.0, 100.0, 96.875, 100.0, 96.875, 100.0, 100.0, 100.0, 96.875, 100.0, 96.875, 96.875, 100.0, 100.0, 100.0, 96.875, 93.75, 100.0, 100.0, 100.0, 96.875, 100.0, 100.0, 96.875, 96.875, 96.875, 100.0, 96.875, 96.875, 100.0, 96.875, 100.0, 93.75, 93.75, 100.0, 96.875, 100.0, 100.0, 100.0, 93.75, 100.0, 100.0, 100.0, 100.0, 100.0, 93.75, 100.0, 100.0, 100.0, 96.875, 100.0, 100.0, 100.0, 90.625, 100.0, 100.0, 96.875, 100.0, 96.875, 96.875, 100.0, 100.0, 93.75, 100.0, 100.0, 96.875, 100.0, 96.875, 96.875, 96.875, 100.0, 100.0, 100.0, 100.0, 93.75, 100.0, 100.0, 100.0, 100.0, 96.875, 100.0, 100.0, 100.0, 100.0, 96.875, 100.0, 96.875, 100.0, 100.0, 100.0, 100.0, 100.0, 96.875, 100.0, 96.875, 100.0, 100.0, 100.0, 96.875, 96.875, 100.0, 100.0, 100.0, 100.0, 93.75, 96.875, 100.0, 100.0, 100.0, 100.0, 100.0, 93.75, 96.875, 100.0, 100.0, 100.0, 100.0, 100.0, 100.0, 96.875, 100.0, 100.0, 100.0, 96.875, 100.0, 96.875, 96.875, 100.0, 93.75, 96.875, 100.0, 100.0, 100.0, 100.0, 100.0, 96.875, 90.625, 100.0, 100.0, 100.0, 100.0, 96.875, 100.0, 100.0, 90.625, 96.875, 100.0, 100.0, 100.0, 96.875, 100.0, 96.875, 100.0, 100.0, 93.75, 100.0, 100.0, 96.875, 100.0, 100.0, 96.875, 96.875, 100.0, 100.0, 100.0, 96.875, 100.0, 100.0, 100.0, 96.875, 100.0, 100.0, 96.875, 100.0, 96.875, 100.0, 100.0, 100.0, 100.0, 96.875, 93.75, 96.875, 96.875, 100.0, 96.875, 100.0, 100.0, 100.0, 100.0, 100.0, 96.875, 96.875, 100.0, 100.0, 100.0, 100.0, 96.875, 100.0, 100.0, 96.875, 100.0, 93.75, 100.0, 96.875, 100.0, 100.0, 100.0, 100.0, 96.875, 96.875, 100.0, 100.0, 100.0, 96.875, 100.0, 100.0, 90.625, 100.0, 100.0, 100.0, 96.875, 93.75, 96.875, 96.875, 96.875, 100.0, 93.75, 100.0, 100.0, 100.0, 100.0, 100.0, 93.75, 100.0, 90.625, 100.0, 100.0, 100.0, 100.0, 100.0, 100.0, 100.0, 100.0, 100.0, 100.0, 100.0, 100.0, 100.0, 96.875, 100.0, 96.875, 96.875, 100.0, 96.875, 100.0, 96.875, 100.0, 100.0, 100.0, 100.0, 90.625, 96.875, 96.875, 100.0, 100.0, 96.875, 100.0, 100.0, 96.875, 100.0, 100.0, 100.0, 100.0, 96.875, 96.875, 100.0, 96.875, 96.875, 100.0, 96.875, 100.0, 100.0, 96.875, 93.75, 100.0, 96.875, 100.0, 100.0, 96.875, 100.0, 100.0, 100.0, 100.0, 100.0, 96.875, 93.75, 100.0, 100.0, 96.875, 100.0, 100.0, 100.0, 100.0, 96.875, 100.0, 96.875, 93.75, 100.0, 93.75, 100.0, 96.875, 100.0, 100.0, 96.875, 100.0, 96.875, 100.0, 100.0, 100.0, 100.0, 100.0, 96.875, 100.0, 96.875, 100.0, 100.0, 100.0, 100.0, 96.875, 90.625, 93.75, 100.0, 100.0, 96.875, 100.0, 100.0, 96.875, 100.0, 96.875, 100.0, 100.0, 100.0, 96.875, 100.0, 100.0, 100.0, 100.0, 93.75, 100.0, 100.0, 100.0, 100.0, 100.0, 96.875, 100.0, 96.875, 100.0, 100.0, 96.875, 100.0, 100.0, 96.875, 100.0, 96.875, 100.0, 93.75, 100.0, 100.0, 100.0, 100.0, 93.75, 100.0, 96.875, 96.875, 100.0, 96.875, 96.875, 96.875, 96.875, 96.875, 96.875, 100.0, 100.0, 100.0, 100.0, 96.875, 100.0, 96.875, 96.875, 100.0, 100.0, 100.0, 100.0, 96.875, 100.0, 100.0, 96.875, 100.0, 100.0, 93.75, 96.875, 100.0, 96.875, 100.0, 100.0, 100.0, 100.0, 96.875, 96.875, 100.0, 96.875, 96.875, 93.75, 100.0, 96.875, 93.75, 100.0, 100.0, 96.875, 96.875, 96.875, 100.0, 100.0, 96.875, 100.0, 96.875, 100.0, 100.0, 100.0, 100.0, 100.0, 96.875, 100.0, 100.0, 100.0, 100.0, 100.0, 100.0, 100.0, 100.0, 100.0, 100.0, 96.875, 100.0, 96.875, 96.875, 96.875, 100.0, 100.0, 96.875, 96.875, 96.875, 100.0, 100.0, 100.0, 100.0, 96.875, 100.0, 100.0, 100.0, 100.0, 93.75, 100.0, 96.875, 96.875, 100.0, 100.0, 96.875, 100.0, 100.0, 100.0, 93.75, 96.875, 96.875, 96.875, 96.875, 96.875, 96.875, 93.75, 100.0, 96.875, 100.0, 100.0, 96.875, 96.875, 100.0, 100.0, 100.0, 100.0, 100.0, 100.0, 93.75, 100.0, 100.0, 100.0, 100.0, 100.0, 100.0, 100.0, 96.875, 100.0, 93.75, 100.0, 96.875, 96.875, 100.0, 100.0, 100.0, 96.875, 100.0, 96.875, 100.0, 96.875, 96.875, 100.0, 100.0, 96.875, 100.0, 96.875, 100.0, 96.875, 100.0, 100.0, 100.0, 100.0, 100.0, 100.0, 100.0, 96.875, 100.0, 100.0, 93.75, 100.0, 100.0, 100.0, 100.0, 96.875, 100.0, 100.0, 96.875, 100.0, 100.0, 96.875, 100.0, 100.0, 100.0, 100.0, 93.75, 96.875, 100.0, 100.0, 96.875, 100.0, 100.0, 100.0, 93.75, 100.0, 100.0, 96.875, 100.0, 100.0, 100.0, 96.875, 96.875, 96.875, 96.875, 100.0, 100.0, 100.0, 93.75, 100.0, 100.0, 96.875, 100.0, 100.0, 100.0, 96.875, 100.0, 100.0, 100.0, 96.875, 100.0, 100.0, 100.0, 100.0, 100.0, 100.0, 96.875, 96.875, 96.875, 100.0, 100.0, 100.0, 100.0, 96.875, 100.0, 96.875, 100.0, 96.875, 96.875, 96.875, 100.0, 100.0, 100.0, 100.0, 93.75, 100.0, 100.0, 96.875, 100.0, 96.875, 96.875, 100.0, 100.0, 100.0, 100.0, 96.875, 100.0, 96.875, 96.875, 100.0, 96.875, 96.875, 96.875, 100.0, 100.0, 96.875, 100.0, 100.0, 100.0, 93.75, 100.0, 96.875, 96.875, 96.875, 100.0, 96.875, 100.0, 96.875, 100.0, 100.0, 96.875, 100.0, 96.875, 96.875, 100.0, 100.0, 100.0, 100.0, 100.0, 96.875, 100.0, 100.0, 93.75, 96.875, 96.875, 96.875, 100.0, 100.0, 100.0, 100.0, 96.875, 100.0, 100.0, 96.875, 96.875, 96.875, 100.0, 100.0, 96.875, 100.0, 100.0, 100.0, 100.0, 100.0, 96.875, 93.75, 96.875, 100.0, 100.0, 96.875, 100.0, 100.0, 100.0, 87.5, 100.0, 100.0, 93.75, 100.0, 93.75, 100.0, 100.0, 100.0, 96.875, 100.0, 96.875, 96.875, 96.875, 100.0, 100.0, 96.875, 100.0, 100.0, 96.875, 100.0, 100.0, 100.0, 93.75, 100.0, 100.0, 100.0, 96.875, 100.0, 100.0, 96.875, 96.875, 93.75, 100.0, 90.625, 100.0, 100.0, 100.0, 96.875, 100.0, 96.875, 100.0, 96.875, 96.875, 100.0, 100.0, 96.875, 93.75, 96.875, 100.0, 96.875, 96.875, 100.0, 100.0, 96.875, 96.875, 96.875, 100.0, 100.0, 100.0, 100.0, 100.0, 100.0, 96.875, 96.875, 100.0, 100.0, 100.0, 96.875, 100.0, 100.0, 96.875, 100.0, 100.0, 100.0, 93.75, 100.0, 100.0, 96.875, 96.875, 100.0, 100.0, 100.0, 100.0, 96.875, 100.0, 96.875, 96.875, 96.875, 100.0, 100.0, 100.0, 96.875, 96.875, 96.875, 100.0, 100.0, 100.0, 100.0, 93.75, 100.0, 96.875, 100.0, 100.0, 100.0, 93.75, 100.0, 100.0, 100.0, 100.0, 100.0, 100.0, 100.0, 100.0, 96.875, 100.0, 96.875, 96.875, 100.0, 93.75, 100.0, 96.875, 100.0, 100.0, 96.875, 100.0, 96.875, 93.75, 100.0, 96.875, 100.0, 96.875, 100.0, 100.0, 96.875, 96.875, 100.0, 100.0, 65.625]\n",
            "  Average training loss:0.05\n",
            "  Training epoch took: 0:04:24\n",
            "\n",
            "Training complete!\n"
          ]
        }
      ]
    },
    {
      "cell_type": "code",
      "metadata": {
        "colab": {
          "base_uri": "https://localhost:8080/",
          "height": 313
        },
        "id": "ves2n2wKZLF4",
        "outputId": "3e967cd7-635d-4aa8-e6c5-c234ad047bfd"
      },
      "source": [
        "plt.plot(history['train_acc'], label='train accuracy')\n",
        "plt.title('Training history')\n",
        "plt.ylabel('Accuracy')\n",
        "plt.xlabel('Epoch')\n",
        "#plt.legend()\n",
        "\n"
      ],
      "execution_count": null,
      "outputs": [
        {
          "output_type": "execute_result",
          "data": {
            "text/plain": [
              "Text(0.5, 0, 'Epoch')"
            ]
          },
          "metadata": {},
          "execution_count": 27
        },
        {
          "output_type": "display_data",
          "data": {
            "image/png": "[encoded data removed]",
            "text/plain": [
              "<Figure size 432x288 with 1 Axes>"
            ]
          },
          "metadata": {
            "needs_background": "light"
          }
        }
      ]
    },
    {
      "cell_type": "code",
      "metadata": {
        "id": "GlnJMA78t5Wj"
      },
      "source": [
        "epochs = range(1, len(acc) + 1)\n",
        "\n",
        "plt.plot(epochs, acc, 'bo', label='Training acc')\n",
        "#plt.plot(epochs, val_acc, 'b', label='Validation acc')\n",
        "plt.title('Training and validation accuracy')\n",
        "plt.legend()\n",
        "\n",
        "plt.figure()"
      ],
      "execution_count": null,
      "outputs": []
    },
    {
      "cell_type": "code",
      "metadata": {
        "colab": {
          "base_uri": "https://localhost:8080/",
          "height": 295
        },
        "id": "v3zJtDxvS1fn",
        "outputId": "d14620c9-21f8-4d4d-9ad6-a2cb924dfecf"
      },
      "source": [
        "plt.plot(history['train_loss'], label='train_loss')\n",
        "plt.title('Training Loss')\n",
        "plt.ylabel('Loss')\n",
        "plt.xlabel('Epoch')\n",
        "#plt.legend()\n",
        "plt.xlim([0, 6]);\n"
      ],
      "execution_count": null,
      "outputs": [
        {
          "output_type": "display_data",
          "data": {
            "image/png": "[encoded data removed]",
            "text/plain": [
              "<Figure size 432x288 with 1 Axes>"
            ]
          },
          "metadata": {
            "needs_background": "light"
          }
        }
      ]
    },
    {
      "cell_type": "code",
      "metadata": {
        "id": "9Wcel7W3Kznw",
        "colab": {
          "base_uri": "https://localhost:8080/"
        },
        "outputId": "4ef18e85-2e63-4105-c68a-2baa0652b86c"
      },
      "source": [
        "# Validation\n",
        "print(\"\")\n",
        "print(\"Running Validation...\")\n",
        "\n",
        "t0 = time.time()\n",
        "model.eval()\n",
        "\n",
        "preds=[]\n",
        "true=[]\n",
        "\n",
        "# Tracking variables \n",
        "eval_loss, eval_accuracy = 0, 0\n",
        "nb_eval_steps, nb_eval_examples = 0, 0\n",
        "history_2 = defaultdict(list)\n",
        "# Evaluate data for one epoch\n",
        "for batch in validation_dataloader:\n",
        "    \n",
        "    # Add batch to GPU\n",
        "    batch = tuple(t.to(device) for t in batch)\n",
        "    \n",
        "    # Unpack the inputs from our dataloader\n",
        "    b_input_ids, b_input_mask, b_labels = batch\n",
        "    \n",
        "    # Telling the model not to compute or store gradients, saving memory and speeding up validation\n",
        "    with torch.no_grad():        \n",
        "\n",
        "        outputs = model(b_input_ids, \n",
        "                        token_type_ids=None, \n",
        "                        attention_mask=b_input_mask)\n",
        "    \n",
        "    # Get the \"logits\" output by the model. The \"logits\" are the output values prior to applying an activation function like the softmax.\n",
        "    logits = outputs[0]\n",
        "\n",
        "    # Move logits and labels to CPU\n",
        "    logits = logits.detach().cpu().numpy()\n",
        "    label_ids = b_labels.to('cpu').numpy()\n",
        "    \n",
        "    preds.append(logits)\n",
        "    true.append(label_ids)\n",
        "    # Calculate the accuracy for this batch.\n",
        "    tmp_eval_accuracy = flat_accuracy(logits, label_ids)\n",
        "    \n",
        "    # Accumulate the total accuracy.\n",
        "    eval_accuracy += tmp_eval_accuracy\n",
        "    history_2['Val_Accuracy'].append(eval_accuracy.item())\n",
        "    # Track the number of batches\n",
        "    nb_eval_steps += 1\n",
        "\n",
        "# Report the final accuracy for this validation run.\n",
        "print(\"  Accuracy: {0:.2f}\".format(eval_accuracy/nb_eval_steps))\n",
        "print(\"  Validation took: {:}\".format(format_time(time.time() - t0)))\n",
        "\n",
        "\n"
      ],
      "execution_count": null,
      "outputs": [
        {
          "output_type": "stream",
          "name": "stdout",
          "text": [
            "\n",
            "Running Validation...\n",
            "  Accuracy: 0.89\n",
            "  Validation took: 0:00:20\n"
          ]
        }
      ]
    },
    {
      "cell_type": "code",
      "metadata": {
        "colab": {
          "base_uri": "https://localhost:8080/",
          "height": 313
        },
        "id": "0vrFwZdMfahH",
        "outputId": "74a75dd9-9569-4da6-c2d6-8310f69be348"
      },
      "source": [
        "plt.plot(history_2['Val_Accuracy'], label='Validation Accuracy')\n",
        "plt.title('Validation Accuracy')\n",
        "plt.ylabel('accuracy')\n",
        "plt.xlabel('Epoch')"
      ],
      "execution_count": null,
      "outputs": [
        {
          "output_type": "execute_result",
          "data": {
            "text/plain": [
              "Text(0.5, 0, 'Epoch')"
            ]
          },
          "metadata": {},
          "execution_count": 62
        },
        {
          "output_type": "display_data",
          "data": {
            "image/png": "[encoded data removed]",
            "text/plain": [
              "<Figure size 432x288 with 1 Axes>"
            ]
          },
          "metadata": {
            "needs_background": "light"
          }
        }
      ]
    },
    {
      "cell_type": "code",
      "metadata": {
        "id": "HTu8A53jI3V4"
      },
      "source": [
        "# Combine the predictions for each batch into a single list of 0s and 1s.\n",
        "flat_predictions = [item for sublist in preds for item in sublist]\n",
        "flat_predictions = np.argmax(flat_predictions, axis=1).flatten()\n",
        "\n",
        "# Combine the correct labels for each batch into a single list.\n",
        "flat_true_labels = [item for sublist in true for item in sublist]\n"
      ],
      "execution_count": null,
      "outputs": []
    },
    {
      "cell_type": "code",
      "metadata": {
        "id": "29lFix3rLP32",
        "colab": {
          "base_uri": "https://localhost:8080/"
        },
        "outputId": "b343ae3d-1f57-407b-d4e5-c1ff9159e6fd"
      },
      "source": [
        "from sklearn.metrics import classification_report\n",
        "print(classification_report(flat_predictions,flat_true_labels))\n",
        "\n",
        "\n",
        "text1 = df_test.Tweet.values\n",
        "\n",
        "indices1=tokenizer.batch_encode_plus(text1,\n",
        "                                     max_length=128,\n",
        "                                     add_special_tokens=True, \n",
        "                                     return_attention_mask=True,\n",
        "                                     pad_to_max_length=True,\n",
        "                                     truncation=True)\n",
        "input_ids1=indices1[\"input_ids\"]\n",
        "attention_masks1=indices1[\"attention_mask\"]\n",
        "\n",
        "prediction_inputs1= torch.tensor(input_ids1)\n",
        "prediction_masks1 = torch.tensor(attention_masks1)\n",
        "\n",
        "\n",
        "# Set the batch size.  \n",
        "batch_size = my_mini_batch_size\n",
        "\n",
        "# Create the DataLoader.\n",
        "prediction_data1 = TensorDataset(prediction_inputs1, prediction_masks1)\n",
        "prediction_sampler1 = SequentialSampler(prediction_data1)\n",
        "prediction_dataloader1 = DataLoader(prediction_data1, sampler=prediction_sampler1, batch_size=batch_size)\n",
        "\n",
        "\n",
        "\n",
        "print('Predicting labels for {:,} test sentences...'.format(len(prediction_inputs1)))"
      ],
      "execution_count": null,
      "outputs": [
        {
          "output_type": "stream",
          "name": "stdout",
          "text": [
            "              precision    recall  f1-score   support\n",
            "\n",
            "           0       0.93      0.93      0.93      7955\n",
            "           1       0.75      0.77      0.76      2323\n",
            "\n",
            "    accuracy                           0.89     10278\n",
            "   macro avg       0.84      0.85      0.85     10278\n",
            "weighted avg       0.89      0.89      0.89     10278\n",
            "\n"
          ]
        },
        {
          "output_type": "stream",
          "name": "stderr",
          "text": [
            "/usr/local/lib/python3.7/dist-packages/transformers/tokenization_utils_base.py:2217: FutureWarning: The `pad_to_max_length` argument is deprecated and will be removed in a future version, use `padding=True` or `padding='longest'` to pad to the longest sequence in the batch, or use `padding='max_length'` to pad to a max length. In this case, you can give a specific length with `max_length` (e.g. `max_length=45`) or leave max_length to None to pad to the maximal input size of the model (e.g. 512 for Bert).\n",
            "  FutureWarning,\n"
          ]
        },
        {
          "output_type": "stream",
          "name": "stdout",
          "text": [
            "Predicting labels for 3,212 test sentences...\n"
          ]
        }
      ]
    },
    {
      "cell_type": "code",
      "metadata": {
        "id": "LUPDa9WbLUdo"
      },
      "source": [
        "model.eval()\n",
        "\n",
        "# Tracking variables \n",
        "predictions = []\n",
        "\n",
        "# Predict \n",
        "for batch in prediction_dataloader1:\n",
        "  # Add batch to GPU\n",
        "  batch = tuple(t.to(device) for t in batch)\n",
        "  \n",
        "  # Unpack the inputs from our dataloader\n",
        "  b_input_ids1, b_input_mask1 = batch\n",
        "  \n",
        "  # Telling the model not to compute or store gradients, saving memory and \n",
        "  # speeding up prediction\n",
        "  with torch.no_grad():\n",
        "      # Forward pass, calculate logit predictions\n",
        "      outputs1 = model(b_input_ids1, token_type_ids=None, \n",
        "                      attention_mask=b_input_mask1)\n",
        "\n",
        "  logits1 = outputs1[0]\n",
        "\n",
        "  # Move logits and labels to CPU\n",
        "  logits1 = logits1.detach().cpu().numpy()\n",
        "  \n",
        "  \n",
        "  # Store predictions and true labels\n",
        "  predictions.append(logits1)\n",
        "\n",
        "flat_predictions = [item for sublist in predictions for item in sublist]\n",
        "flat_predictions = np.argmax(flat_predictions, axis=1).flatten()\n",
        "\n"
      ],
      "execution_count": null,
      "outputs": []
    },
    {
      "cell_type": "code",
      "metadata": {
        "id": "ZY4kyMnUqeTg"
      },
      "source": [
        ""
      ],
      "execution_count": null,
      "outputs": []
    }
  ]
}