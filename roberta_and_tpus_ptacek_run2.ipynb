{
  "nbformat": 4,
  "nbformat_minor": 0,
  "metadata": {
    "kernelspec": {
      "display_name": "Python 3",
      "language": "python",
      "name": "python3"
    },
    "language_info": {
      "codemirror_mode": {
        "name": "ipython",
        "version": 3
      },
      "file_extension": ".py",
      "mimetype": "text/x-python",
      "name": "python",
      "nbconvert_exporter": "python",
      "pygments_lexer": "ipython3",
      "version": "3.7.6"
    },
    "papermill": {
      "duration": 220.919883,
      "end_time": "2020-08-17T01:02:22.864726",
      "environment_variables": {},
      "exception": null,
      "input_path": "__notebook__.ipynb",
      "output_path": "__notebook__.ipynb",
      "parameters": {},
      "start_time": "2020-08-17T00:58:41.944843",
      "version": "2.1.0"
    },
    "widgets": {
      "application/vnd.jupyter.widget-state+json": {
        "45f6a5f81c73433e9fd6c209e396a216": {
          "model_module": "@jupyter-widgets/controls",
          "model_name": "HBoxModel",
          "model_module_version": "1.5.0",
          "state": {
            "_view_name": "HBoxView",
            "_dom_classes": [],
            "_model_name": "HBoxModel",
            "_view_module": "@jupyter-widgets/controls",
            "_model_module_version": "1.5.0",
            "_view_count": null,
            "_view_module_version": "1.5.0",
            "box_style": "",
            "layout": "IPY_MODEL_f934e524935e4031a6ecf39bb5cfe594",
            "_model_module": "@jupyter-widgets/controls",
            "children": [
              "IPY_MODEL_8a51e1f776264eaba7cdb5732f08d842",
              "IPY_MODEL_340bcd7b1869442086a6021ec6e459e3",
              "IPY_MODEL_81c8ef2fc54b4d6ab32c54f7ac33c824"
            ]
          }
        },
        "f934e524935e4031a6ecf39bb5cfe594": {
          "model_module": "@jupyter-widgets/base",
          "model_name": "LayoutModel",
          "model_module_version": "1.2.0",
          "state": {
            "_view_name": "LayoutView",
            "grid_template_rows": null,
            "right": null,
            "justify_content": null,
            "_view_module": "@jupyter-widgets/base",
            "overflow": null,
            "_model_module_version": "1.2.0",
            "_view_count": null,
            "flex_flow": null,
            "width": null,
            "min_width": null,
            "border": null,
            "align_items": null,
            "bottom": null,
            "_model_module": "@jupyter-widgets/base",
            "top": null,
            "grid_column": null,
            "overflow_y": null,
            "overflow_x": null,
            "grid_auto_flow": null,
            "grid_area": null,
            "grid_template_columns": null,
            "flex": null,
            "_model_name": "LayoutModel",
            "justify_items": null,
            "grid_row": null,
            "max_height": null,
            "align_content": null,
            "visibility": null,
            "align_self": null,
            "height": null,
            "min_height": null,
            "padding": null,
            "grid_auto_rows": null,
            "grid_gap": null,
            "max_width": null,
            "order": null,
            "_view_module_version": "1.2.0",
            "grid_template_areas": null,
            "object_position": null,
            "object_fit": null,
            "grid_auto_columns": null,
            "margin": null,
            "display": null,
            "left": null
          }
        },
        "8a51e1f776264eaba7cdb5732f08d842": {
          "model_module": "@jupyter-widgets/controls",
          "model_name": "HTMLModel",
          "model_module_version": "1.5.0",
          "state": {
            "_view_name": "HTMLView",
            "style": "IPY_MODEL_7f3427e0f0fb406d9bdd34deac7f1761",
            "_dom_classes": [],
            "description": "",
            "_model_name": "HTMLModel",
            "placeholder": "​",
            "_view_module": "@jupyter-widgets/controls",
            "_model_module_version": "1.5.0",
            "value": "Downloading: 100%",
            "_view_count": null,
            "_view_module_version": "1.5.0",
            "description_tooltip": null,
            "_model_module": "@jupyter-widgets/controls",
            "layout": "IPY_MODEL_1a7d20662dd94749ac5f1cf022329980"
          }
        },
        "340bcd7b1869442086a6021ec6e459e3": {
          "model_module": "@jupyter-widgets/controls",
          "model_name": "FloatProgressModel",
          "model_module_version": "1.5.0",
          "state": {
            "_view_name": "ProgressView",
            "style": "IPY_MODEL_b29e82e95cee4e84aab011b1e37c47ea",
            "_dom_classes": [],
            "description": "",
            "_model_name": "FloatProgressModel",
            "bar_style": "success",
            "max": 898823,
            "_view_module": "@jupyter-widgets/controls",
            "_model_module_version": "1.5.0",
            "value": 898823,
            "_view_count": null,
            "_view_module_version": "1.5.0",
            "orientation": "horizontal",
            "min": 0,
            "description_tooltip": null,
            "_model_module": "@jupyter-widgets/controls",
            "layout": "IPY_MODEL_16b777ac1d6043ee9494644d8d2bc467"
          }
        },
        "81c8ef2fc54b4d6ab32c54f7ac33c824": {
          "model_module": "@jupyter-widgets/controls",
          "model_name": "HTMLModel",
          "model_module_version": "1.5.0",
          "state": {
            "_view_name": "HTMLView",
            "style": "IPY_MODEL_0bd0bc56aea547578b80c5ace7c35313",
            "_dom_classes": [],
            "description": "",
            "_model_name": "HTMLModel",
            "placeholder": "​",
            "_view_module": "@jupyter-widgets/controls",
            "_model_module_version": "1.5.0",
            "value": " 878k/878k [00:00&lt;00:00, 4.46MB/s]",
            "_view_count": null,
            "_view_module_version": "1.5.0",
            "description_tooltip": null,
            "_model_module": "@jupyter-widgets/controls",
            "layout": "IPY_MODEL_2346f5b977f948e6b25367d89a212e0e"
          }
        },
        "7f3427e0f0fb406d9bdd34deac7f1761": {
          "model_module": "@jupyter-widgets/controls",
          "model_name": "DescriptionStyleModel",
          "model_module_version": "1.5.0",
          "state": {
            "_view_name": "StyleView",
            "_model_name": "DescriptionStyleModel",
            "description_width": "",
            "_view_module": "@jupyter-widgets/base",
            "_model_module_version": "1.5.0",
            "_view_count": null,
            "_view_module_version": "1.2.0",
            "_model_module": "@jupyter-widgets/controls"
          }
        },
        "1a7d20662dd94749ac5f1cf022329980": {
          "model_module": "@jupyter-widgets/base",
          "model_name": "LayoutModel",
          "model_module_version": "1.2.0",
          "state": {
            "_view_name": "LayoutView",
            "grid_template_rows": null,
            "right": null,
            "justify_content": null,
            "_view_module": "@jupyter-widgets/base",
            "overflow": null,
            "_model_module_version": "1.2.0",
            "_view_count": null,
            "flex_flow": null,
            "width": null,
            "min_width": null,
            "border": null,
            "align_items": null,
            "bottom": null,
            "_model_module": "@jupyter-widgets/base",
            "top": null,
            "grid_column": null,
            "overflow_y": null,
            "overflow_x": null,
            "grid_auto_flow": null,
            "grid_area": null,
            "grid_template_columns": null,
            "flex": null,
            "_model_name": "LayoutModel",
            "justify_items": null,
            "grid_row": null,
            "max_height": null,
            "align_content": null,
            "visibility": null,
            "align_self": null,
            "height": null,
            "min_height": null,
            "padding": null,
            "grid_auto_rows": null,
            "grid_gap": null,
            "max_width": null,
            "order": null,
            "_view_module_version": "1.2.0",
            "grid_template_areas": null,
            "object_position": null,
            "object_fit": null,
            "grid_auto_columns": null,
            "margin": null,
            "display": null,
            "left": null
          }
        },
        "b29e82e95cee4e84aab011b1e37c47ea": {
          "model_module": "@jupyter-widgets/controls",
          "model_name": "ProgressStyleModel",
          "model_module_version": "1.5.0",
          "state": {
            "_view_name": "StyleView",
            "_model_name": "ProgressStyleModel",
            "description_width": "",
            "_view_module": "@jupyter-widgets/base",
            "_model_module_version": "1.5.0",
            "_view_count": null,
            "_view_module_version": "1.2.0",
            "bar_color": null,
            "_model_module": "@jupyter-widgets/controls"
          }
        },
        "16b777ac1d6043ee9494644d8d2bc467": {
          "model_module": "@jupyter-widgets/base",
          "model_name": "LayoutModel",
          "model_module_version": "1.2.0",
          "state": {
            "_view_name": "LayoutView",
            "grid_template_rows": null,
            "right": null,
            "justify_content": null,
            "_view_module": "@jupyter-widgets/base",
            "overflow": null,
            "_model_module_version": "1.2.0",
            "_view_count": null,
            "flex_flow": null,
            "width": null,
            "min_width": null,
            "border": null,
            "align_items": null,
            "bottom": null,
            "_model_module": "@jupyter-widgets/base",
            "top": null,
            "grid_column": null,
            "overflow_y": null,
            "overflow_x": null,
            "grid_auto_flow": null,
            "grid_area": null,
            "grid_template_columns": null,
            "flex": null,
            "_model_name": "LayoutModel",
            "justify_items": null,
            "grid_row": null,
            "max_height": null,
            "align_content": null,
            "visibility": null,
            "align_self": null,
            "height": null,
            "min_height": null,
            "padding": null,
            "grid_auto_rows": null,
            "grid_gap": null,
            "max_width": null,
            "order": null,
            "_view_module_version": "1.2.0",
            "grid_template_areas": null,
            "object_position": null,
            "object_fit": null,
            "grid_auto_columns": null,
            "margin": null,
            "display": null,
            "left": null
          }
        },
        "0bd0bc56aea547578b80c5ace7c35313": {
          "model_module": "@jupyter-widgets/controls",
          "model_name": "DescriptionStyleModel",
          "model_module_version": "1.5.0",
          "state": {
            "_view_name": "StyleView",
            "_model_name": "DescriptionStyleModel",
            "description_width": "",
            "_view_module": "@jupyter-widgets/base",
            "_model_module_version": "1.5.0",
            "_view_count": null,
            "_view_module_version": "1.2.0",
            "_model_module": "@jupyter-widgets/controls"
          }
        },
        "2346f5b977f948e6b25367d89a212e0e": {
          "model_module": "@jupyter-widgets/base",
          "model_name": "LayoutModel",
          "model_module_version": "1.2.0",
          "state": {
            "_view_name": "LayoutView",
            "grid_template_rows": null,
            "right": null,
            "justify_content": null,
            "_view_module": "@jupyter-widgets/base",
            "overflow": null,
            "_model_module_version": "1.2.0",
            "_view_count": null,
            "flex_flow": null,
            "width": null,
            "min_width": null,
            "border": null,
            "align_items": null,
            "bottom": null,
            "_model_module": "@jupyter-widgets/base",
            "top": null,
            "grid_column": null,
            "overflow_y": null,
            "overflow_x": null,
            "grid_auto_flow": null,
            "grid_area": null,
            "grid_template_columns": null,
            "flex": null,
            "_model_name": "LayoutModel",
            "justify_items": null,
            "grid_row": null,
            "max_height": null,
            "align_content": null,
            "visibility": null,
            "align_self": null,
            "height": null,
            "min_height": null,
            "padding": null,
            "grid_auto_rows": null,
            "grid_gap": null,
            "max_width": null,
            "order": null,
            "_view_module_version": "1.2.0",
            "grid_template_areas": null,
            "object_position": null,
            "object_fit": null,
            "grid_auto_columns": null,
            "margin": null,
            "display": null,
            "left": null
          }
        },
        "aeb5d15a600c4147ba6fa3a00eeb7576": {
          "model_module": "@jupyter-widgets/controls",
          "model_name": "HBoxModel",
          "model_module_version": "1.5.0",
          "state": {
            "_view_name": "HBoxView",
            "_dom_classes": [],
            "_model_name": "HBoxModel",
            "_view_module": "@jupyter-widgets/controls",
            "_model_module_version": "1.5.0",
            "_view_count": null,
            "_view_module_version": "1.5.0",
            "box_style": "",
            "layout": "IPY_MODEL_2ae44a650ff74574ac9b9a6d1ab6d346",
            "_model_module": "@jupyter-widgets/controls",
            "children": [
              "IPY_MODEL_16d8b3f9b67f4de5a390bfefcf25320e",
              "IPY_MODEL_f0e40022d26142eebc15eecb7b1cb043",
              "IPY_MODEL_82f56f0f8dfa454a9b02fc525df87af4"
            ]
          }
        },
        "2ae44a650ff74574ac9b9a6d1ab6d346": {
          "model_module": "@jupyter-widgets/base",
          "model_name": "LayoutModel",
          "model_module_version": "1.2.0",
          "state": {
            "_view_name": "LayoutView",
            "grid_template_rows": null,
            "right": null,
            "justify_content": null,
            "_view_module": "@jupyter-widgets/base",
            "overflow": null,
            "_model_module_version": "1.2.0",
            "_view_count": null,
            "flex_flow": null,
            "width": null,
            "min_width": null,
            "border": null,
            "align_items": null,
            "bottom": null,
            "_model_module": "@jupyter-widgets/base",
            "top": null,
            "grid_column": null,
            "overflow_y": null,
            "overflow_x": null,
            "grid_auto_flow": null,
            "grid_area": null,
            "grid_template_columns": null,
            "flex": null,
            "_model_name": "LayoutModel",
            "justify_items": null,
            "grid_row": null,
            "max_height": null,
            "align_content": null,
            "visibility": null,
            "align_self": null,
            "height": null,
            "min_height": null,
            "padding": null,
            "grid_auto_rows": null,
            "grid_gap": null,
            "max_width": null,
            "order": null,
            "_view_module_version": "1.2.0",
            "grid_template_areas": null,
            "object_position": null,
            "object_fit": null,
            "grid_auto_columns": null,
            "margin": null,
            "display": null,
            "left": null
          }
        },
        "16d8b3f9b67f4de5a390bfefcf25320e": {
          "model_module": "@jupyter-widgets/controls",
          "model_name": "HTMLModel",
          "model_module_version": "1.5.0",
          "state": {
            "_view_name": "HTMLView",
            "style": "IPY_MODEL_697e6e67037e4f3790d7b842d611893e",
            "_dom_classes": [],
            "description": "",
            "_model_name": "HTMLModel",
            "placeholder": "​",
            "_view_module": "@jupyter-widgets/controls",
            "_model_module_version": "1.5.0",
            "value": "Downloading: 100%",
            "_view_count": null,
            "_view_module_version": "1.5.0",
            "description_tooltip": null,
            "_model_module": "@jupyter-widgets/controls",
            "layout": "IPY_MODEL_e85708c92e7445a2bfa0d546f2b74e05"
          }
        },
        "f0e40022d26142eebc15eecb7b1cb043": {
          "model_module": "@jupyter-widgets/controls",
          "model_name": "FloatProgressModel",
          "model_module_version": "1.5.0",
          "state": {
            "_view_name": "ProgressView",
            "style": "IPY_MODEL_943d8b3c59884d2d93e8f3bd01372edb",
            "_dom_classes": [],
            "description": "",
            "_model_name": "FloatProgressModel",
            "bar_style": "success",
            "max": 456318,
            "_view_module": "@jupyter-widgets/controls",
            "_model_module_version": "1.5.0",
            "value": 456318,
            "_view_count": null,
            "_view_module_version": "1.5.0",
            "orientation": "horizontal",
            "min": 0,
            "description_tooltip": null,
            "_model_module": "@jupyter-widgets/controls",
            "layout": "IPY_MODEL_01d99e384a7d4938b9d9051584851389"
          }
        },
        "82f56f0f8dfa454a9b02fc525df87af4": {
          "model_module": "@jupyter-widgets/controls",
          "model_name": "HTMLModel",
          "model_module_version": "1.5.0",
          "state": {
            "_view_name": "HTMLView",
            "style": "IPY_MODEL_edfa9eec58c6430d9e435f369cb0a643",
            "_dom_classes": [],
            "description": "",
            "_model_name": "HTMLModel",
            "placeholder": "​",
            "_view_module": "@jupyter-widgets/controls",
            "_model_module_version": "1.5.0",
            "value": " 446k/446k [00:00&lt;00:00, 793kB/s]",
            "_view_count": null,
            "_view_module_version": "1.5.0",
            "description_tooltip": null,
            "_model_module": "@jupyter-widgets/controls",
            "layout": "IPY_MODEL_abfbb54dd1054ce5ac901506f698460b"
          }
        },
        "697e6e67037e4f3790d7b842d611893e": {
          "model_module": "@jupyter-widgets/controls",
          "model_name": "DescriptionStyleModel",
          "model_module_version": "1.5.0",
          "state": {
            "_view_name": "StyleView",
            "_model_name": "DescriptionStyleModel",
            "description_width": "",
            "_view_module": "@jupyter-widgets/base",
            "_model_module_version": "1.5.0",
            "_view_count": null,
            "_view_module_version": "1.2.0",
            "_model_module": "@jupyter-widgets/controls"
          }
        },
        "e85708c92e7445a2bfa0d546f2b74e05": {
          "model_module": "@jupyter-widgets/base",
          "model_name": "LayoutModel",
          "model_module_version": "1.2.0",
          "state": {
            "_view_name": "LayoutView",
            "grid_template_rows": null,
            "right": null,
            "justify_content": null,
            "_view_module": "@jupyter-widgets/base",
            "overflow": null,
            "_model_module_version": "1.2.0",
            "_view_count": null,
            "flex_flow": null,
            "width": null,
            "min_width": null,
            "border": null,
            "align_items": null,
            "bottom": null,
            "_model_module": "@jupyter-widgets/base",
            "top": null,
            "grid_column": null,
            "overflow_y": null,
            "overflow_x": null,
            "grid_auto_flow": null,
            "grid_area": null,
            "grid_template_columns": null,
            "flex": null,
            "_model_name": "LayoutModel",
            "justify_items": null,
            "grid_row": null,
            "max_height": null,
            "align_content": null,
            "visibility": null,
            "align_self": null,
            "height": null,
            "min_height": null,
            "padding": null,
            "grid_auto_rows": null,
            "grid_gap": null,
            "max_width": null,
            "order": null,
            "_view_module_version": "1.2.0",
            "grid_template_areas": null,
            "object_position": null,
            "object_fit": null,
            "grid_auto_columns": null,
            "margin": null,
            "display": null,
            "left": null
          }
        },
        "943d8b3c59884d2d93e8f3bd01372edb": {
          "model_module": "@jupyter-widgets/controls",
          "model_name": "ProgressStyleModel",
          "model_module_version": "1.5.0",
          "state": {
            "_view_name": "StyleView",
            "_model_name": "ProgressStyleModel",
            "description_width": "",
            "_view_module": "@jupyter-widgets/base",
            "_model_module_version": "1.5.0",
            "_view_count": null,
            "_view_module_version": "1.2.0",
            "bar_color": null,
            "_model_module": "@jupyter-widgets/controls"
          }
        },
        "01d99e384a7d4938b9d9051584851389": {
          "model_module": "@jupyter-widgets/base",
          "model_name": "LayoutModel",
          "model_module_version": "1.2.0",
          "state": {
            "_view_name": "LayoutView",
            "grid_template_rows": null,
            "right": null,
            "justify_content": null,
            "_view_module": "@jupyter-widgets/base",
            "overflow": null,
            "_model_module_version": "1.2.0",
            "_view_count": null,
            "flex_flow": null,
            "width": null,
            "min_width": null,
            "border": null,
            "align_items": null,
            "bottom": null,
            "_model_module": "@jupyter-widgets/base",
            "top": null,
            "grid_column": null,
            "overflow_y": null,
            "overflow_x": null,
            "grid_auto_flow": null,
            "grid_area": null,
            "grid_template_columns": null,
            "flex": null,
            "_model_name": "LayoutModel",
            "justify_items": null,
            "grid_row": null,
            "max_height": null,
            "align_content": null,
            "visibility": null,
            "align_self": null,
            "height": null,
            "min_height": null,
            "padding": null,
            "grid_auto_rows": null,
            "grid_gap": null,
            "max_width": null,
            "order": null,
            "_view_module_version": "1.2.0",
            "grid_template_areas": null,
            "object_position": null,
            "object_fit": null,
            "grid_auto_columns": null,
            "margin": null,
            "display": null,
            "left": null
          }
        },
        "edfa9eec58c6430d9e435f369cb0a643": {
          "model_module": "@jupyter-widgets/controls",
          "model_name": "DescriptionStyleModel",
          "model_module_version": "1.5.0",
          "state": {
            "_view_name": "StyleView",
            "_model_name": "DescriptionStyleModel",
            "description_width": "",
            "_view_module": "@jupyter-widgets/base",
            "_model_module_version": "1.5.0",
            "_view_count": null,
            "_view_module_version": "1.2.0",
            "_model_module": "@jupyter-widgets/controls"
          }
        },
        "abfbb54dd1054ce5ac901506f698460b": {
          "model_module": "@jupyter-widgets/base",
          "model_name": "LayoutModel",
          "model_module_version": "1.2.0",
          "state": {
            "_view_name": "LayoutView",
            "grid_template_rows": null,
            "right": null,
            "justify_content": null,
            "_view_module": "@jupyter-widgets/base",
            "overflow": null,
            "_model_module_version": "1.2.0",
            "_view_count": null,
            "flex_flow": null,
            "width": null,
            "min_width": null,
            "border": null,
            "align_items": null,
            "bottom": null,
            "_model_module": "@jupyter-widgets/base",
            "top": null,
            "grid_column": null,
            "overflow_y": null,
            "overflow_x": null,
            "grid_auto_flow": null,
            "grid_area": null,
            "grid_template_columns": null,
            "flex": null,
            "_model_name": "LayoutModel",
            "justify_items": null,
            "grid_row": null,
            "max_height": null,
            "align_content": null,
            "visibility": null,
            "align_self": null,
            "height": null,
            "min_height": null,
            "padding": null,
            "grid_auto_rows": null,
            "grid_gap": null,
            "max_width": null,
            "order": null,
            "_view_module_version": "1.2.0",
            "grid_template_areas": null,
            "object_position": null,
            "object_fit": null,
            "grid_auto_columns": null,
            "margin": null,
            "display": null,
            "left": null
          }
        },
        "2a99637891004a0e94907032f464d863": {
          "model_module": "@jupyter-widgets/controls",
          "model_name": "HBoxModel",
          "model_module_version": "1.5.0",
          "state": {
            "_view_name": "HBoxView",
            "_dom_classes": [],
            "_model_name": "HBoxModel",
            "_view_module": "@jupyter-widgets/controls",
            "_model_module_version": "1.5.0",
            "_view_count": null,
            "_view_module_version": "1.5.0",
            "box_style": "",
            "layout": "IPY_MODEL_bd811b9d9f05445db965babac46ad2cc",
            "_model_module": "@jupyter-widgets/controls",
            "children": [
              "IPY_MODEL_e6c202f528e446f2a15471bfbe2d62f4",
              "IPY_MODEL_30d7ab3e2d984a37ad2fb2b035f0d701",
              "IPY_MODEL_8a2817752dff42eb95060fc030dc1fc0"
            ]
          }
        },
        "bd811b9d9f05445db965babac46ad2cc": {
          "model_module": "@jupyter-widgets/base",
          "model_name": "LayoutModel",
          "model_module_version": "1.2.0",
          "state": {
            "_view_name": "LayoutView",
            "grid_template_rows": null,
            "right": null,
            "justify_content": null,
            "_view_module": "@jupyter-widgets/base",
            "overflow": null,
            "_model_module_version": "1.2.0",
            "_view_count": null,
            "flex_flow": null,
            "width": null,
            "min_width": null,
            "border": null,
            "align_items": null,
            "bottom": null,
            "_model_module": "@jupyter-widgets/base",
            "top": null,
            "grid_column": null,
            "overflow_y": null,
            "overflow_x": null,
            "grid_auto_flow": null,
            "grid_area": null,
            "grid_template_columns": null,
            "flex": null,
            "_model_name": "LayoutModel",
            "justify_items": null,
            "grid_row": null,
            "max_height": null,
            "align_content": null,
            "visibility": null,
            "align_self": null,
            "height": null,
            "min_height": null,
            "padding": null,
            "grid_auto_rows": null,
            "grid_gap": null,
            "max_width": null,
            "order": null,
            "_view_module_version": "1.2.0",
            "grid_template_areas": null,
            "object_position": null,
            "object_fit": null,
            "grid_auto_columns": null,
            "margin": null,
            "display": null,
            "left": null
          }
        },
        "e6c202f528e446f2a15471bfbe2d62f4": {
          "model_module": "@jupyter-widgets/controls",
          "model_name": "HTMLModel",
          "model_module_version": "1.5.0",
          "state": {
            "_view_name": "HTMLView",
            "style": "IPY_MODEL_762b4df2e28e4b949dc39dfe67928ed2",
            "_dom_classes": [],
            "description": "",
            "_model_name": "HTMLModel",
            "placeholder": "​",
            "_view_module": "@jupyter-widgets/controls",
            "_model_module_version": "1.5.0",
            "value": "Downloading: 100%",
            "_view_count": null,
            "_view_module_version": "1.5.0",
            "description_tooltip": null,
            "_model_module": "@jupyter-widgets/controls",
            "layout": "IPY_MODEL_2c9ab774cf4d422b9106a164588524a2"
          }
        },
        "30d7ab3e2d984a37ad2fb2b035f0d701": {
          "model_module": "@jupyter-widgets/controls",
          "model_name": "FloatProgressModel",
          "model_module_version": "1.5.0",
          "state": {
            "_view_name": "ProgressView",
            "style": "IPY_MODEL_a0f0b8c4b1ab4e94ad47f735ec5b9186",
            "_dom_classes": [],
            "description": "",
            "_model_name": "FloatProgressModel",
            "bar_style": "success",
            "max": 657434796,
            "_view_module": "@jupyter-widgets/controls",
            "_model_module_version": "1.5.0",
            "value": 657434796,
            "_view_count": null,
            "_view_module_version": "1.5.0",
            "orientation": "horizontal",
            "min": 0,
            "description_tooltip": null,
            "_model_module": "@jupyter-widgets/controls",
            "layout": "IPY_MODEL_5cdd882ad0d34c6db88b91699ecc716c"
          }
        },
        "8a2817752dff42eb95060fc030dc1fc0": {
          "model_module": "@jupyter-widgets/controls",
          "model_name": "HTMLModel",
          "model_module_version": "1.5.0",
          "state": {
            "_view_name": "HTMLView",
            "style": "IPY_MODEL_3de090bff95a4916b9f7ac6726ec4731",
            "_dom_classes": [],
            "description": "",
            "_model_name": "HTMLModel",
            "placeholder": "​",
            "_view_module": "@jupyter-widgets/controls",
            "_model_module_version": "1.5.0",
            "value": " 627M/627M [00:11&lt;00:00, 58.7MB/s]",
            "_view_count": null,
            "_view_module_version": "1.5.0",
            "description_tooltip": null,
            "_model_module": "@jupyter-widgets/controls",
            "layout": "IPY_MODEL_e2eeff0fb6004070a8d8edfa669d1924"
          }
        },
        "762b4df2e28e4b949dc39dfe67928ed2": {
          "model_module": "@jupyter-widgets/controls",
          "model_name": "DescriptionStyleModel",
          "model_module_version": "1.5.0",
          "state": {
            "_view_name": "StyleView",
            "_model_name": "DescriptionStyleModel",
            "description_width": "",
            "_view_module": "@jupyter-widgets/base",
            "_model_module_version": "1.5.0",
            "_view_count": null,
            "_view_module_version": "1.2.0",
            "_model_module": "@jupyter-widgets/controls"
          }
        },
        "2c9ab774cf4d422b9106a164588524a2": {
          "model_module": "@jupyter-widgets/base",
          "model_name": "LayoutModel",
          "model_module_version": "1.2.0",
          "state": {
            "_view_name": "LayoutView",
            "grid_template_rows": null,
            "right": null,
            "justify_content": null,
            "_view_module": "@jupyter-widgets/base",
            "overflow": null,
            "_model_module_version": "1.2.0",
            "_view_count": null,
            "flex_flow": null,
            "width": null,
            "min_width": null,
            "border": null,
            "align_items": null,
            "bottom": null,
            "_model_module": "@jupyter-widgets/base",
            "top": null,
            "grid_column": null,
            "overflow_y": null,
            "overflow_x": null,
            "grid_auto_flow": null,
            "grid_area": null,
            "grid_template_columns": null,
            "flex": null,
            "_model_name": "LayoutModel",
            "justify_items": null,
            "grid_row": null,
            "max_height": null,
            "align_content": null,
            "visibility": null,
            "align_self": null,
            "height": null,
            "min_height": null,
            "padding": null,
            "grid_auto_rows": null,
            "grid_gap": null,
            "max_width": null,
            "order": null,
            "_view_module_version": "1.2.0",
            "grid_template_areas": null,
            "object_position": null,
            "object_fit": null,
            "grid_auto_columns": null,
            "margin": null,
            "display": null,
            "left": null
          }
        },
        "a0f0b8c4b1ab4e94ad47f735ec5b9186": {
          "model_module": "@jupyter-widgets/controls",
          "model_name": "ProgressStyleModel",
          "model_module_version": "1.5.0",
          "state": {
            "_view_name": "StyleView",
            "_model_name": "ProgressStyleModel",
            "description_width": "",
            "_view_module": "@jupyter-widgets/base",
            "_model_module_version": "1.5.0",
            "_view_count": null,
            "_view_module_version": "1.2.0",
            "bar_color": null,
            "_model_module": "@jupyter-widgets/controls"
          }
        },
        "5cdd882ad0d34c6db88b91699ecc716c": {
          "model_module": "@jupyter-widgets/base",
          "model_name": "LayoutModel",
          "model_module_version": "1.2.0",
          "state": {
            "_view_name": "LayoutView",
            "grid_template_rows": null,
            "right": null,
            "justify_content": null,
            "_view_module": "@jupyter-widgets/base",
            "overflow": null,
            "_model_module_version": "1.2.0",
            "_view_count": null,
            "flex_flow": null,
            "width": null,
            "min_width": null,
            "border": null,
            "align_items": null,
            "bottom": null,
            "_model_module": "@jupyter-widgets/base",
            "top": null,
            "grid_column": null,
            "overflow_y": null,
            "overflow_x": null,
            "grid_auto_flow": null,
            "grid_area": null,
            "grid_template_columns": null,
            "flex": null,
            "_model_name": "LayoutModel",
            "justify_items": null,
            "grid_row": null,
            "max_height": null,
            "align_content": null,
            "visibility": null,
            "align_self": null,
            "height": null,
            "min_height": null,
            "padding": null,
            "grid_auto_rows": null,
            "grid_gap": null,
            "max_width": null,
            "order": null,
            "_view_module_version": "1.2.0",
            "grid_template_areas": null,
            "object_position": null,
            "object_fit": null,
            "grid_auto_columns": null,
            "margin": null,
            "display": null,
            "left": null
          }
        },
        "3de090bff95a4916b9f7ac6726ec4731": {
          "model_module": "@jupyter-widgets/controls",
          "model_name": "DescriptionStyleModel",
          "model_module_version": "1.5.0",
          "state": {
            "_view_name": "StyleView",
            "_model_name": "DescriptionStyleModel",
            "description_width": "",
            "_view_module": "@jupyter-widgets/base",
            "_model_module_version": "1.5.0",
            "_view_count": null,
            "_view_module_version": "1.2.0",
            "_model_module": "@jupyter-widgets/controls"
          }
        },
        "e2eeff0fb6004070a8d8edfa669d1924": {
          "model_module": "@jupyter-widgets/base",
          "model_name": "LayoutModel",
          "model_module_version": "1.2.0",
          "state": {
            "_view_name": "LayoutView",
            "grid_template_rows": null,
            "right": null,
            "justify_content": null,
            "_view_module": "@jupyter-widgets/base",
            "overflow": null,
            "_model_module_version": "1.2.0",
            "_view_count": null,
            "flex_flow": null,
            "width": null,
            "min_width": null,
            "border": null,
            "align_items": null,
            "bottom": null,
            "_model_module": "@jupyter-widgets/base",
            "top": null,
            "grid_column": null,
            "overflow_y": null,
            "overflow_x": null,
            "grid_auto_flow": null,
            "grid_area": null,
            "grid_template_columns": null,
            "flex": null,
            "_model_name": "LayoutModel",
            "justify_items": null,
            "grid_row": null,
            "max_height": null,
            "align_content": null,
            "visibility": null,
            "align_self": null,
            "height": null,
            "min_height": null,
            "padding": null,
            "grid_auto_rows": null,
            "grid_gap": null,
            "max_width": null,
            "order": null,
            "_view_module_version": "1.2.0",
            "grid_template_areas": null,
            "object_position": null,
            "object_fit": null,
            "grid_auto_columns": null,
            "margin": null,
            "display": null,
            "left": null
          }
        }
      }
    },
    "colab": {
      "name": "roberta-and-tpus_ptacek_run2.ipynb",
      "provenance": [],
      "machine_shape": "hm",
      "include_colab_link": true
    },
    "accelerator": "TPU"
  },
  "cells": [
    {
      "cell_type": "markdown",
      "metadata": {
        "id": "view-in-github",
        "colab_type": "text"
      },
      "source": [
        "<a href=\"https://colab.research.google.com/github/nazmus007/transformers_test/blob/main/roberta_and_tpus_ptacek_run2.ipynb\" target=\"_parent\"><img src=\"https://colab.research.google.com/assets/colab-badge.svg\" alt=\"Open In Colab\"/></a>"
      ]
    },
    {
      "cell_type": "markdown",
      "metadata": {
        "papermill": {
          "duration": 0.013944,
          "end_time": "2020-08-17T00:58:47.141883",
          "exception": false,
          "start_time": "2020-08-17T00:58:47.127939",
          "status": "completed"
        },
        "tags": [],
        "id": "uLDawlaJbSij"
      },
      "source": [
        "# Text Classification with RoBERTa\n",
        "\n",
        "The RoBERTa model was proposed in RoBERTa: A Robustly Optimized BERT Pretraining Approach by Yinhan Liu et al. It is based on Google’s BERT model released in 2018: it modifies key hyperparameters, removing the next-sentence pretraining objective and training with much larger mini-batches and learning rates.\n",
        "\n",
        "See:\n",
        "- RoBERTa's paper: https://arxiv.org/pdf/1907.11692.pdf\n",
        "- BERT's paper: https://arxiv.org/pdf/1810.04805.pdf"
      ]
    },
    {
      "cell_type": "code",
      "metadata": {
        "colab": {
          "base_uri": "https://localhost:8080/"
        },
        "id": "kHPmPndEbZB-",
        "outputId": "4886199d-0c7d-4b90-f985-89d5a966f157"
      },
      "source": [
        "!pip install -qq transformers"
      ],
      "execution_count": null,
      "outputs": [
        {
          "output_type": "stream",
          "name": "stdout",
          "text": [
            "\u001b[K     |████████████████████████████████| 2.9 MB 5.3 MB/s \n",
            "\u001b[K     |████████████████████████████████| 3.3 MB 69.7 MB/s \n",
            "\u001b[K     |████████████████████████████████| 56 kB 5.0 MB/s \n",
            "\u001b[K     |████████████████████████████████| 636 kB 84.9 MB/s \n",
            "\u001b[K     |████████████████████████████████| 895 kB 78.7 MB/s \n",
            "\u001b[?25h"
          ]
        }
      ]
    },
    {
      "cell_type": "code",
      "metadata": {
        "execution": {
          "iopub.execute_input": "2020-08-17T00:58:47.177202Z",
          "iopub.status.busy": "2020-08-17T00:58:47.176190Z",
          "iopub.status.idle": "2020-08-17T00:58:57.520104Z",
          "shell.execute_reply": "2020-08-17T00:58:57.519406Z"
        },
        "papermill": {
          "duration": 10.36626,
          "end_time": "2020-08-17T00:58:57.520250",
          "exception": false,
          "start_time": "2020-08-17T00:58:47.153990",
          "status": "completed"
        },
        "tags": [],
        "id": "vr7jGmOsbSip"
      },
      "source": [
        "import numpy as np\n",
        "import regex as re\n",
        "import pandas as pd\n",
        "import matplotlib.pyplot as plt\n",
        "import seaborn as sns\n",
        "import statistics\n",
        "import math\n",
        "import os\n",
        "\n",
        "from sklearn.model_selection import StratifiedKFold\n",
        "from sklearn.metrics import accuracy_score,classification_report,confusion_matrix\n",
        "from sklearn.model_selection import train_test_split\n",
        "\n",
        "import tensorflow as tf\n",
        "import tensorflow.keras.backend as K\n",
        "import tokenizers\n",
        "from transformers import RobertaTokenizer, TFRobertaModel\n",
        "\n",
        "from collections import Counter\n",
        "\n",
        "import warnings\n",
        "warnings.filterwarnings(\"ignore\")"
      ],
      "execution_count": 36,
      "outputs": []
    },
    {
      "cell_type": "code",
      "metadata": {
        "execution": {
          "iopub.execute_input": "2020-08-17T00:58:57.554786Z",
          "iopub.status.busy": "2020-08-17T00:58:57.548463Z",
          "iopub.status.idle": "2020-08-17T00:59:02.123739Z",
          "shell.execute_reply": "2020-08-17T00:59:02.123130Z"
        },
        "papermill": {
          "duration": 4.59451,
          "end_time": "2020-08-17T00:59:02.123874",
          "exception": false,
          "start_time": "2020-08-17T00:58:57.529364",
          "status": "completed"
        },
        "tags": [],
        "colab": {
          "base_uri": "https://localhost:8080/"
        },
        "id": "Hwd2BtbbbSit",
        "outputId": "269c355c-b389-46a5-f53c-d149baf88190"
      },
      "source": [
        "# Detect hardware, return appropriate distribution strategy (you can see that it is pretty easy to set up).\n",
        "try:\n",
        "    # TPU detection. No parameters necessary if TPU_NAME environment variable is set (always set in Kaggle)\n",
        "    tpu = tf.distribute.cluster_resolver.TPUClusterResolver()\n",
        "    tf.config.experimental_connect_to_cluster(tpu)\n",
        "    tf.tpu.experimental.initialize_tpu_system(tpu)\n",
        "    strategy = tf.distribute.experimental.TPUStrategy(tpu)\n",
        "    print('Running on TPU ', tpu.master())\n",
        "except ValueError:\n",
        "    # Default distribution strategy in Tensorflow. Works on CPU and single GPU.\n",
        "    strategy = tf.distribute.get_strategy()\n",
        "\n",
        "print('Number of replicas:', strategy.num_replicas_in_sync)"
      ],
      "execution_count": null,
      "outputs": [
        {
          "output_type": "stream",
          "name": "stderr",
          "text": [
            "INFO:absl:Entering into master device scope: /job:worker/replica:0/task:0/device:CPU:0\n"
          ]
        },
        {
          "output_type": "stream",
          "name": "stdout",
          "text": [
            "INFO:tensorflow:Clearing out eager caches\n"
          ]
        },
        {
          "output_type": "stream",
          "name": "stderr",
          "text": [
            "INFO:tensorflow:Clearing out eager caches\n"
          ]
        },
        {
          "output_type": "stream",
          "name": "stdout",
          "text": [
            "INFO:tensorflow:Initializing the TPU system: grpc://10.127.107.194:8470\n"
          ]
        },
        {
          "output_type": "stream",
          "name": "stderr",
          "text": [
            "INFO:tensorflow:Initializing the TPU system: grpc://10.127.107.194:8470\n"
          ]
        },
        {
          "output_type": "stream",
          "name": "stdout",
          "text": [
            "INFO:tensorflow:Finished initializing TPU system.\n"
          ]
        },
        {
          "output_type": "stream",
          "name": "stderr",
          "text": [
            "INFO:tensorflow:Finished initializing TPU system.\n",
            "WARNING:absl:`tf.distribute.experimental.TPUStrategy` is deprecated, please use  the non experimental symbol `tf.distribute.TPUStrategy` instead.\n"
          ]
        },
        {
          "output_type": "stream",
          "name": "stdout",
          "text": [
            "INFO:tensorflow:Found TPU system:\n"
          ]
        },
        {
          "output_type": "stream",
          "name": "stderr",
          "text": [
            "INFO:tensorflow:Found TPU system:\n"
          ]
        },
        {
          "output_type": "stream",
          "name": "stdout",
          "text": [
            "INFO:tensorflow:*** Num TPU Cores: 8\n"
          ]
        },
        {
          "output_type": "stream",
          "name": "stderr",
          "text": [
            "INFO:tensorflow:*** Num TPU Cores: 8\n"
          ]
        },
        {
          "output_type": "stream",
          "name": "stdout",
          "text": [
            "INFO:tensorflow:*** Num TPU Workers: 1\n"
          ]
        },
        {
          "output_type": "stream",
          "name": "stderr",
          "text": [
            "INFO:tensorflow:*** Num TPU Workers: 1\n"
          ]
        },
        {
          "output_type": "stream",
          "name": "stdout",
          "text": [
            "INFO:tensorflow:*** Num TPU Cores Per Worker: 8\n"
          ]
        },
        {
          "output_type": "stream",
          "name": "stderr",
          "text": [
            "INFO:tensorflow:*** Num TPU Cores Per Worker: 8\n"
          ]
        },
        {
          "output_type": "stream",
          "name": "stdout",
          "text": [
            "INFO:tensorflow:*** Available Device: _DeviceAttributes(/job:localhost/replica:0/task:0/device:CPU:0, CPU, 0, 0)\n"
          ]
        },
        {
          "output_type": "stream",
          "name": "stderr",
          "text": [
            "INFO:tensorflow:*** Available Device: _DeviceAttributes(/job:localhost/replica:0/task:0/device:CPU:0, CPU, 0, 0)\n"
          ]
        },
        {
          "output_type": "stream",
          "name": "stdout",
          "text": [
            "INFO:tensorflow:*** Available Device: _DeviceAttributes(/job:worker/replica:0/task:0/device:CPU:0, CPU, 0, 0)\n"
          ]
        },
        {
          "output_type": "stream",
          "name": "stderr",
          "text": [
            "INFO:tensorflow:*** Available Device: _DeviceAttributes(/job:worker/replica:0/task:0/device:CPU:0, CPU, 0, 0)\n"
          ]
        },
        {
          "output_type": "stream",
          "name": "stdout",
          "text": [
            "INFO:tensorflow:*** Available Device: _DeviceAttributes(/job:worker/replica:0/task:0/device:TPU:0, TPU, 0, 0)\n"
          ]
        },
        {
          "output_type": "stream",
          "name": "stderr",
          "text": [
            "INFO:tensorflow:*** Available Device: _DeviceAttributes(/job:worker/replica:0/task:0/device:TPU:0, TPU, 0, 0)\n"
          ]
        },
        {
          "output_type": "stream",
          "name": "stdout",
          "text": [
            "INFO:tensorflow:*** Available Device: _DeviceAttributes(/job:worker/replica:0/task:0/device:TPU:1, TPU, 0, 0)\n"
          ]
        },
        {
          "output_type": "stream",
          "name": "stderr",
          "text": [
            "INFO:tensorflow:*** Available Device: _DeviceAttributes(/job:worker/replica:0/task:0/device:TPU:1, TPU, 0, 0)\n"
          ]
        },
        {
          "output_type": "stream",
          "name": "stdout",
          "text": [
            "INFO:tensorflow:*** Available Device: _DeviceAttributes(/job:worker/replica:0/task:0/device:TPU:2, TPU, 0, 0)\n"
          ]
        },
        {
          "output_type": "stream",
          "name": "stderr",
          "text": [
            "INFO:tensorflow:*** Available Device: _DeviceAttributes(/job:worker/replica:0/task:0/device:TPU:2, TPU, 0, 0)\n"
          ]
        },
        {
          "output_type": "stream",
          "name": "stdout",
          "text": [
            "INFO:tensorflow:*** Available Device: _DeviceAttributes(/job:worker/replica:0/task:0/device:TPU:3, TPU, 0, 0)\n"
          ]
        },
        {
          "output_type": "stream",
          "name": "stderr",
          "text": [
            "INFO:tensorflow:*** Available Device: _DeviceAttributes(/job:worker/replica:0/task:0/device:TPU:3, TPU, 0, 0)\n"
          ]
        },
        {
          "output_type": "stream",
          "name": "stdout",
          "text": [
            "INFO:tensorflow:*** Available Device: _DeviceAttributes(/job:worker/replica:0/task:0/device:TPU:4, TPU, 0, 0)\n"
          ]
        },
        {
          "output_type": "stream",
          "name": "stderr",
          "text": [
            "INFO:tensorflow:*** Available Device: _DeviceAttributes(/job:worker/replica:0/task:0/device:TPU:4, TPU, 0, 0)\n"
          ]
        },
        {
          "output_type": "stream",
          "name": "stdout",
          "text": [
            "INFO:tensorflow:*** Available Device: _DeviceAttributes(/job:worker/replica:0/task:0/device:TPU:5, TPU, 0, 0)\n"
          ]
        },
        {
          "output_type": "stream",
          "name": "stderr",
          "text": [
            "INFO:tensorflow:*** Available Device: _DeviceAttributes(/job:worker/replica:0/task:0/device:TPU:5, TPU, 0, 0)\n"
          ]
        },
        {
          "output_type": "stream",
          "name": "stdout",
          "text": [
            "INFO:tensorflow:*** Available Device: _DeviceAttributes(/job:worker/replica:0/task:0/device:TPU:6, TPU, 0, 0)\n"
          ]
        },
        {
          "output_type": "stream",
          "name": "stderr",
          "text": [
            "INFO:tensorflow:*** Available Device: _DeviceAttributes(/job:worker/replica:0/task:0/device:TPU:6, TPU, 0, 0)\n"
          ]
        },
        {
          "output_type": "stream",
          "name": "stdout",
          "text": [
            "INFO:tensorflow:*** Available Device: _DeviceAttributes(/job:worker/replica:0/task:0/device:TPU:7, TPU, 0, 0)\n"
          ]
        },
        {
          "output_type": "stream",
          "name": "stderr",
          "text": [
            "INFO:tensorflow:*** Available Device: _DeviceAttributes(/job:worker/replica:0/task:0/device:TPU:7, TPU, 0, 0)\n"
          ]
        },
        {
          "output_type": "stream",
          "name": "stdout",
          "text": [
            "INFO:tensorflow:*** Available Device: _DeviceAttributes(/job:worker/replica:0/task:0/device:TPU_SYSTEM:0, TPU_SYSTEM, 0, 0)\n"
          ]
        },
        {
          "output_type": "stream",
          "name": "stderr",
          "text": [
            "INFO:tensorflow:*** Available Device: _DeviceAttributes(/job:worker/replica:0/task:0/device:TPU_SYSTEM:0, TPU_SYSTEM, 0, 0)\n"
          ]
        },
        {
          "output_type": "stream",
          "name": "stdout",
          "text": [
            "INFO:tensorflow:*** Available Device: _DeviceAttributes(/job:worker/replica:0/task:0/device:XLA_CPU:0, XLA_CPU, 0, 0)\n"
          ]
        },
        {
          "output_type": "stream",
          "name": "stderr",
          "text": [
            "INFO:tensorflow:*** Available Device: _DeviceAttributes(/job:worker/replica:0/task:0/device:XLA_CPU:0, XLA_CPU, 0, 0)\n"
          ]
        },
        {
          "output_type": "stream",
          "name": "stdout",
          "text": [
            "Running on TPU  grpc://10.127.107.194:8470\n",
            "Number of replicas: 8\n"
          ]
        }
      ]
    },
    {
      "cell_type": "code",
      "metadata": {
        "execution": {
          "iopub.execute_input": "2020-08-17T00:59:02.149207Z",
          "iopub.status.busy": "2020-08-17T00:59:02.148412Z",
          "iopub.status.idle": "2020-08-17T00:59:02.152199Z",
          "shell.execute_reply": "2020-08-17T00:59:02.151582Z"
        },
        "papermill": {
          "duration": 0.019427,
          "end_time": "2020-08-17T00:59:02.152327",
          "exception": false,
          "start_time": "2020-08-17T00:59:02.132900",
          "status": "completed"
        },
        "tags": [],
        "id": "GEaE3IfNbSiv"
      },
      "source": [
        "MODEL_NAME = 'roberta-base'\n",
        "MAX_LEN = 128\n",
        "ARTIFACTS_PATH = './drive/MyDrive/artifacts/'\n",
        "\n",
        "BATCH_SIZE = 8 * strategy.num_replicas_in_sync\n",
        "EPOCHS = 5\n",
        "\n",
        "if not os.path.exists(ARTIFACTS_PATH):\n",
        "    os.makedirs(ARTIFACTS_PATH)"
      ],
      "execution_count": null,
      "outputs": []
    },
    {
      "cell_type": "code",
      "metadata": {
        "colab": {
          "base_uri": "https://localhost:8080/"
        },
        "id": "gozW-CGfcW3M",
        "outputId": "c190fbff-adc4-4af0-d937-cc376ed65958"
      },
      "source": [
        "from google.colab import drive\n",
        "drive.mount('/drive')"
      ],
      "execution_count": null,
      "outputs": [
        {
          "output_type": "stream",
          "name": "stdout",
          "text": [
            "Mounted at /drive\n"
          ]
        }
      ]
    },
    {
      "cell_type": "code",
      "metadata": {
        "id": "TpYkB-u6tHq6"
      },
      "source": [
        "exit()"
      ],
      "execution_count": null,
      "outputs": []
    },
    {
      "cell_type": "markdown",
      "metadata": {
        "papermill": {
          "duration": 0.008666,
          "end_time": "2020-08-17T00:59:02.170047",
          "exception": false,
          "start_time": "2020-08-17T00:59:02.161381",
          "status": "completed"
        },
        "tags": [],
        "id": "Az2_QwhebSiw"
      },
      "source": [
        "## Prepare dataset\n",
        "\n",
        "Note that I have already cleaned the dataset, so the training should be better:\n",
        "- Remove punctuation symbols and double white spaces.\n",
        "- Lemmatization.\n",
        "- Remove stop words (see `spacy.lang.en.stop_words.STOP_WORDS`).\n",
        "- TD-IDF\n",
        "\n",
        "The reason of this preprocess is that I have used this dataset with other models, such as LSTM. However, I believe (I didn't test it) that RoBERTa could deal with it."
      ]
    },
    {
      "cell_type": "code",
      "metadata": {
        "execution": {
          "iopub.execute_input": "2020-08-17T00:59:02.195556Z",
          "iopub.status.busy": "2020-08-17T00:59:02.194688Z",
          "iopub.status.idle": "2020-08-17T00:59:02.257868Z",
          "shell.execute_reply": "2020-08-17T00:59:02.258452Z"
        },
        "papermill": {
          "duration": 0.079526,
          "end_time": "2020-08-17T00:59:02.258609",
          "exception": false,
          "start_time": "2020-08-17T00:59:02.179083",
          "status": "completed"
        },
        "tags": [],
        "colab": {
          "base_uri": "https://localhost:8080/",
          "height": 206
        },
        "id": "W7PPJOFNbSix",
        "outputId": "acbe1774-dc1b-4dbf-f8d7-aab1b8a67feb"
      },
      "source": [
        "df = pd.read_csv('/drive/MyDrive/datasets/cleaned_ptacek_wtweets_wnotebook.csv')\n",
        "df.head()"
      ],
      "execution_count": null,
      "outputs": [
        {
          "output_type": "execute_result",
          "data": {
            "text/html": [
              "<div>\n",
              "<style scoped>\n",
              "    .dataframe tbody tr th:only-of-type {\n",
              "        vertical-align: middle;\n",
              "    }\n",
              "\n",
              "    .dataframe tbody tr th {\n",
              "        vertical-align: top;\n",
              "    }\n",
              "\n",
              "    .dataframe thead th {\n",
              "        text-align: right;\n",
              "    }\n",
              "</style>\n",
              "<table border=\"1\" class=\"dataframe\">\n",
              "  <thead>\n",
              "    <tr style=\"text-align: right;\">\n",
              "      <th></th>\n",
              "      <th>Unnamed: 0</th>\n",
              "      <th>index</th>\n",
              "      <th>Tweet_id</th>\n",
              "      <th>Tweet</th>\n",
              "      <th>Label</th>\n",
              "    </tr>\n",
              "  </thead>\n",
              "  <tbody>\n",
              "    <tr>\n",
              "      <th>0</th>\n",
              "      <td>0</td>\n",
              "      <td>0</td>\n",
              "      <td>411348816583856129</td>\n",
              "      <td>peyton obviously cannot finish games he just t...</td>\n",
              "      <td>1</td>\n",
              "    </tr>\n",
              "    <tr>\n",
              "      <th>1</th>\n",
              "      <td>1</td>\n",
              "      <td>1</td>\n",
              "      <td>408111537011036160</td>\n",
              "      <td>well i would love to be sleeping right now but...</td>\n",
              "      <td>1</td>\n",
              "    </tr>\n",
              "    <tr>\n",
              "      <th>2</th>\n",
              "      <td>2</td>\n",
              "      <td>2</td>\n",
              "      <td>403282506230665217</td>\n",
              "      <td>my biggest executive decision today choosing b...</td>\n",
              "      <td>1</td>\n",
              "    </tr>\n",
              "    <tr>\n",
              "      <th>3</th>\n",
              "      <td>3</td>\n",
              "      <td>3</td>\n",
              "      <td>409720467662983168</td>\n",
              "      <td>the first quality opponent they played in 2 y...</td>\n",
              "      <td>1</td>\n",
              "    </tr>\n",
              "    <tr>\n",
              "      <th>4</th>\n",
              "      <td>4</td>\n",
              "      <td>4</td>\n",
              "      <td>403005765608554496</td>\n",
              "      <td>but do not you dare call it hate crimes  libe...</td>\n",
              "      <td>1</td>\n",
              "    </tr>\n",
              "  </tbody>\n",
              "</table>\n",
              "</div>"
            ],
            "text/plain": [
              "   Unnamed: 0  index  ...                                              Tweet Label\n",
              "0           0      0  ...  peyton obviously cannot finish games he just t...     1\n",
              "1           1      1  ...  well i would love to be sleeping right now but...     1\n",
              "2           2      2  ...  my biggest executive decision today choosing b...     1\n",
              "3           3      3  ...   the first quality opponent they played in 2 y...     1\n",
              "4           4      4  ...   but do not you dare call it hate crimes  libe...     1\n",
              "\n",
              "[5 rows x 5 columns]"
            ]
          },
          "metadata": {},
          "execution_count": 7
        }
      ]
    },
    {
      "cell_type": "code",
      "metadata": {
        "id": "0aOt6Z8E_3nb"
      },
      "source": [
        "df.columns = df.columns.str.lstrip()"
      ],
      "execution_count": null,
      "outputs": []
    },
    {
      "cell_type": "code",
      "metadata": {
        "execution": {
          "iopub.execute_input": "2020-08-17T00:59:02.292536Z",
          "iopub.status.busy": "2020-08-17T00:59:02.291626Z",
          "iopub.status.idle": "2020-08-17T00:59:02.295159Z",
          "shell.execute_reply": "2020-08-17T00:59:02.294382Z"
        },
        "papermill": {
          "duration": 0.027193,
          "end_time": "2020-08-17T00:59:02.295293",
          "exception": false,
          "start_time": "2020-08-17T00:59:02.268100",
          "status": "completed"
        },
        "tags": [],
        "id": "KC81JL8ybSiy"
      },
      "source": [
        "X_data = df[['Tweet']].to_numpy()\n",
        "y_data = df[['Label']].to_numpy()"
      ],
      "execution_count": null,
      "outputs": []
    },
    {
      "cell_type": "code",
      "metadata": {
        "colab": {
          "base_uri": "https://localhost:8080/"
        },
        "id": "gYrWT7z15dq_",
        "outputId": "c32d83f7-4c05-489e-c85d-ceae2816840e"
      },
      "source": [
        "print(X_data[90:93])"
      ],
      "execution_count": null,
      "outputs": [
        {
          "output_type": "stream",
          "name": "stdout",
          "text": [
            "[['i am hearing multiple reports that redsox are looking at youkilis as their utility infielder  feel he can play quality ss  ']\n",
            " ['got to go to the doctors at 845am on friday looking forward to it ']\n",
            " ['“ my nights gonna be so fun 🙈  babysitting like 20 kids 😍    😫  🔫 ”']]\n"
          ]
        }
      ]
    },
    {
      "cell_type": "code",
      "metadata": {
        "colab": {
          "base_uri": "https://localhost:8080/"
        },
        "id": "QgMQxTzB_WUW",
        "outputId": "753e9063-0034-4b34-8e1d-ede598a32be5"
      },
      "source": [
        "!pip install emoji"
      ],
      "execution_count": null,
      "outputs": [
        {
          "output_type": "stream",
          "name": "stdout",
          "text": [
            "Collecting emoji\n",
            "  Downloading emoji-1.6.0.tar.gz (168 kB)\n",
            "\u001b[?25l\r\u001b[K     |██                              | 10 kB 28.5 MB/s eta 0:00:01\r\u001b[K     |███▉                            | 20 kB 34.6 MB/s eta 0:00:01\r\u001b[K     |█████▉                          | 30 kB 13.2 MB/s eta 0:00:01\r\u001b[K     |███████▊                        | 40 kB 9.9 MB/s eta 0:00:01\r\u001b[K     |█████████▊                      | 51 kB 5.1 MB/s eta 0:00:01\r\u001b[K     |███████████▋                    | 61 kB 5.6 MB/s eta 0:00:01\r\u001b[K     |█████████████▋                  | 71 kB 6.0 MB/s eta 0:00:01\r\u001b[K     |███████████████▌                | 81 kB 6.7 MB/s eta 0:00:01\r\u001b[K     |█████████████████▌              | 92 kB 6.5 MB/s eta 0:00:01\r\u001b[K     |███████████████████▍            | 102 kB 5.4 MB/s eta 0:00:01\r\u001b[K     |█████████████████████▍          | 112 kB 5.4 MB/s eta 0:00:01\r\u001b[K     |███████████████████████▎        | 122 kB 5.4 MB/s eta 0:00:01\r\u001b[K     |█████████████████████████▎      | 133 kB 5.4 MB/s eta 0:00:01\r\u001b[K     |███████████████████████████▏    | 143 kB 5.4 MB/s eta 0:00:01\r\u001b[K     |█████████████████████████████▏  | 153 kB 5.4 MB/s eta 0:00:01\r\u001b[K     |███████████████████████████████ | 163 kB 5.4 MB/s eta 0:00:01\r\u001b[K     |████████████████████████████████| 168 kB 5.4 MB/s \n",
            "\u001b[?25hBuilding wheels for collected packages: emoji\n",
            "  Building wheel for emoji (setup.py) ... \u001b[?25l\u001b[?25hdone\n",
            "  Created wheel for emoji: filename=emoji-1.6.0-py3-none-any.whl size=168256 sha256=fc5ec1a59f7662ea5e7d2d68b011f56b2bf6735d1077c3f1a755525c94458e2c\n",
            "  Stored in directory: /root/.cache/pip/wheels/f7/d7/74/c720aaf345a042b0c2d74361873258c5e8649b7f11b2ccce49\n",
            "Successfully built emoji\n",
            "Installing collected packages: emoji\n",
            "Successfully installed emoji-1.6.0\n"
          ]
        }
      ]
    },
    {
      "cell_type": "code",
      "metadata": {
        "id": "KIau-Kty4OqP"
      },
      "source": [
        "import emoji\n",
        "def extract_emojis(s):\n",
        "    return ''.join((' '+c+' ') if c in emoji.UNICODE_EMOJI['en'] else c for c in s)"
      ],
      "execution_count": null,
      "outputs": []
    },
    {
      "cell_type": "code",
      "metadata": {
        "id": "e6FK2FJf_e1r"
      },
      "source": [
        "df['Tweet'] = df['Tweet'].apply(extract_emojis)"
      ],
      "execution_count": null,
      "outputs": []
    },
    {
      "cell_type": "code",
      "metadata": {
        "id": "eeJM47C6eiLt"
      },
      "source": [
        "X_data = X_data.reshape(-1)\n",
        "y_data = y_data.reshape(-1)"
      ],
      "execution_count": null,
      "outputs": []
    },
    {
      "cell_type": "code",
      "metadata": {
        "colab": {
          "base_uri": "https://localhost:8080/"
        },
        "id": "IxdX6mIbesHQ",
        "outputId": "ded48aa5-6ba0-4380-884f-62b80b0ed5b8"
      },
      "source": [
        "print(X_data[:10])"
      ],
      "execution_count": null,
      "outputs": [
        {
          "output_type": "stream",
          "name": "stdout",
          "text": [
            "['peyton obviously cannot finish games he just throws interceptions when the game is on the line just like romo firepeytonmanning '\n",
            " 'well i would love to be sleeping right now but nooooooo lets just stay awake all might that is what i wanted to do  cantsleep blah'\n",
            " 'my biggest executive decision today choosing between georgetown cupcakes andamp sprinkles i still have not decided '\n",
            " ' the first quality opponent they played in 2 years and they lose shocked '\n",
            " ' but do not you dare call it hate crimes  liberallogic'\n",
            " 'its always a good day when you think you failed a test '\n",
            " 'i am going to have such a wonderful weekend yay so stoked just kidding  tothemax'\n",
            " 'great i have a night class next semester oh the joy '\n",
            " '   loll hahahahahahaha funny as he will funny '\n",
            " 'this week just keeps getting better and better ']\n"
          ]
        }
      ]
    },
    {
      "cell_type": "markdown",
      "metadata": {
        "papermill": {
          "duration": 0.009105,
          "end_time": "2020-08-17T00:59:02.314235",
          "exception": false,
          "start_time": "2020-08-17T00:59:02.305130",
          "status": "completed"
        },
        "tags": [],
        "id": "JmZIlfJLbSiy"
      },
      "source": [
        "# Dataset analysis\n",
        "\n",
        "As you can see in the following plot, the samples **are not balanced**. This could cause problems during the training but, since they are not highly unbalanced, I have left it as it is.\n",
        "\n",
        "In other cases, such as fraud detecting where the positive classes are very few compared to the negative ones, we must apply techniques to balance it. For example, we could undersample the biggest category."
      ]
    },
    {
      "cell_type": "code",
      "metadata": {
        "execution": {
          "iopub.execute_input": "2020-08-17T00:59:02.345719Z",
          "iopub.status.busy": "2020-08-17T00:59:02.344849Z",
          "iopub.status.idle": "2020-08-17T00:59:02.551796Z",
          "shell.execute_reply": "2020-08-17T00:59:02.552389Z"
        },
        "papermill": {
          "duration": 0.229019,
          "end_time": "2020-08-17T00:59:02.552568",
          "exception": false,
          "start_time": "2020-08-17T00:59:02.323549",
          "status": "completed"
        },
        "tags": [],
        "colab": {
          "base_uri": "https://localhost:8080/",
          "height": 354
        },
        "id": "TK5bHtRtbSiz",
        "outputId": "dd774dc7-7e3d-4aee-c364-6b5a498c83a8"
      },
      "source": [
        "categories = df[['Label']].values.reshape(-1)\n",
        "\n",
        "counter_categories = Counter(categories)\n",
        "category_names = counter_categories.keys()\n",
        "category_values = counter_categories.values()\n",
        "\n",
        "y_pos = np.arange(len(category_names))\n",
        "\n",
        "plt.figure(1, figsize=(10, 5))\n",
        "plt.bar(y_pos, category_values, align='center', alpha=0.5)\n",
        "plt.xticks(y_pos, category_names)\n",
        "plt.ylabel('Number of texts')\n",
        "plt.title('Distribution of texts per category')\n",
        "plt.gca().yaxis.grid(True)\n",
        "plt.show()\n",
        "\n",
        "print(counter_categories)"
      ],
      "execution_count": null,
      "outputs": [
        {
          "output_type": "display_data",
          "data": {
            "image/png": "[encoded data removed]",
            "text/plain": [
              "<Figure size 720x360 with 1 Axes>"
            ]
          },
          "metadata": {
            "needs_background": "light"
          }
        },
        {
          "output_type": "stream",
          "name": "stdout",
          "text": [
            "Counter({0: 49654, 1: 14580})\n"
          ]
        }
      ]
    },
    {
      "cell_type": "code",
      "metadata": {
        "execution": {
          "iopub.execute_input": "2020-08-17T00:59:02.594121Z",
          "iopub.status.busy": "2020-08-17T00:59:02.593179Z",
          "iopub.status.idle": "2020-08-17T00:59:02.596211Z",
          "shell.execute_reply": "2020-08-17T00:59:02.595575Z"
        },
        "papermill": {
          "duration": 0.033783,
          "end_time": "2020-08-17T00:59:02.596334",
          "exception": false,
          "start_time": "2020-08-17T00:59:02.562551",
          "status": "completed"
        },
        "tags": [],
        "id": "1sV85RTVbSi2"
      },
      "source": [
        "def calculate_stats(df, split_char=' '):\n",
        "    categories = df['Label'].unique()\n",
        "    \n",
        "    all_lengths = []\n",
        "    per_category = {\n",
        "        'lengths': {c:[] for c in categories},\n",
        "        'mean': {c:0 for c in categories},\n",
        "        'stdev': {c:0 for c in categories}\n",
        "    }\n",
        "\n",
        "    for index, row in df.iterrows():\n",
        "        text = row['Tweet']\n",
        "        text = re.sub(r\"\\s+\", ' ', text) # Normalize\n",
        "        text = text.split(split_char)\n",
        "        l = len(text)\n",
        "        \n",
        "        category = row['Label']\n",
        "        \n",
        "        all_lengths.append(l)\n",
        "        per_category['lengths'][category].append(l)\n",
        "    \n",
        "    for c in categories:\n",
        "        per_category['mean'][c] = statistics.mean(per_category['lengths'][c])\n",
        "        per_category['stdev'][c] = statistics.stdev(per_category['lengths'][c])\n",
        "    \n",
        "    global_stats = {\n",
        "        'mean': statistics.mean(all_lengths),\n",
        "        'stdev': statistics.stdev(all_lengths),\n",
        "        'lengths': all_lengths\n",
        "    }\n",
        "    \n",
        "    return {\n",
        "        'global': global_stats,\n",
        "        'per_category': pd.DataFrame(per_category)\n",
        "    }\n",
        "\n",
        "\n",
        "def display_lengths_histograms(df_stats, n_cols=3):\n",
        "    categories = df['Label'].unique()\n",
        "    n_rows = math.ceil(len(categories) / n_cols)\n",
        "    \n",
        "    plt.figure(figsize=(15, 8))\n",
        "    plt.suptitle('Distribution of lengths')\n",
        "    \n",
        "    # Subplot of all lengths\n",
        "    plt.subplot(n_rows, n_cols, 1)\n",
        "    plt.title('All categories')\n",
        "    lengths = df_stats['global']['lengths']\n",
        "    plt.hist(lengths, color='r')\n",
        "\n",
        "    # Subplot of each category\n",
        "    index_subplot = 2\n",
        "    for c in categories:\n",
        "        plt.subplot(n_rows, n_cols, index_subplot)\n",
        "        plt.title('Category: %s' % c)\n",
        "        \n",
        "        lengths = df_stats['per_category']['lengths'][c]\n",
        "        plt.hist(lengths, color='b')\n",
        "\n",
        "        index_subplot += 1\n",
        "\n",
        "    plt.show()"
      ],
      "execution_count": null,
      "outputs": []
    },
    {
      "cell_type": "markdown",
      "metadata": {
        "papermill": {
          "duration": 0.009466,
          "end_time": "2020-08-17T00:59:02.615755",
          "exception": false,
          "start_time": "2020-08-17T00:59:02.606289",
          "status": "completed"
        },
        "tags": [],
        "id": "yv7RekF3bSi2"
      },
      "source": [
        "In these histograms and stats, we can see that almost all texts contain $500$ or less words. Also, we can see that the average length is very different depending on the category.\n",
        "\n",
        "Please, note that the tokenization process may split words into several parts, so lengths could increase (or decrease too). This is only an orientative result."
      ]
    },
    {
      "cell_type": "code",
      "metadata": {
        "execution": {
          "iopub.execute_input": "2020-08-17T00:59:02.645642Z",
          "iopub.status.busy": "2020-08-17T00:59:02.644559Z",
          "iopub.status.idle": "2020-08-17T00:59:03.414051Z",
          "shell.execute_reply": "2020-08-17T00:59:03.414617Z"
        },
        "papermill": {
          "duration": 0.789333,
          "end_time": "2020-08-17T00:59:03.414792",
          "exception": false,
          "start_time": "2020-08-17T00:59:02.625459",
          "status": "completed"
        },
        "tags": [],
        "id": "wFEIC90XbSi3",
        "colab": {
          "base_uri": "https://localhost:8080/",
          "height": 112
        },
        "outputId": "ab6db329-9755-4348-e8b9-dfc3af622b2d"
      },
      "source": [
        "df_stats = calculate_stats(df)\n",
        "df_stats['per_category']"
      ],
      "execution_count": null,
      "outputs": [
        {
          "output_type": "execute_result",
          "data": {
            "text/html": [
              "<div>\n",
              "<style scoped>\n",
              "    .dataframe tbody tr th:only-of-type {\n",
              "        vertical-align: middle;\n",
              "    }\n",
              "\n",
              "    .dataframe tbody tr th {\n",
              "        vertical-align: top;\n",
              "    }\n",
              "\n",
              "    .dataframe thead th {\n",
              "        text-align: right;\n",
              "    }\n",
              "</style>\n",
              "<table border=\"1\" class=\"dataframe\">\n",
              "  <thead>\n",
              "    <tr style=\"text-align: right;\">\n",
              "      <th></th>\n",
              "      <th>lengths</th>\n",
              "      <th>mean</th>\n",
              "      <th>stdev</th>\n",
              "    </tr>\n",
              "  </thead>\n",
              "  <tbody>\n",
              "    <tr>\n",
              "      <th>1</th>\n",
              "      <td>[21, 26, 17, 15, 11, 13, 15, 12, 9, 9, 17, 25,...</td>\n",
              "      <td>16.104047</td>\n",
              "      <td>5.183757</td>\n",
              "    </tr>\n",
              "    <tr>\n",
              "      <th>0</th>\n",
              "      <td>[16, 9, 10, 21, 16, 12, 17, 19, 15, 13, 8, 10,...</td>\n",
              "      <td>14.484231</td>\n",
              "      <td>5.326436</td>\n",
              "    </tr>\n",
              "  </tbody>\n",
              "</table>\n",
              "</div>"
            ],
            "text/plain": [
              "                                             lengths       mean     stdev\n",
              "1  [21, 26, 17, 15, 11, 13, 15, 12, 9, 9, 17, 25,...  16.104047  5.183757\n",
              "0  [16, 9, 10, 21, 16, 12, 17, 19, 15, 13, 8, 10,...  14.484231  5.326436"
            ]
          },
          "metadata": {},
          "execution_count": 15
        }
      ]
    },
    {
      "cell_type": "code",
      "metadata": {
        "execution": {
          "iopub.execute_input": "2020-08-17T00:59:03.446634Z",
          "iopub.status.busy": "2020-08-17T00:59:03.439289Z",
          "iopub.status.idle": "2020-08-17T00:59:04.714830Z",
          "shell.execute_reply": "2020-08-17T00:59:04.714244Z"
        },
        "papermill": {
          "duration": 1.289992,
          "end_time": "2020-08-17T00:59:04.714956",
          "exception": false,
          "start_time": "2020-08-17T00:59:03.424964",
          "status": "completed"
        },
        "tags": [],
        "id": "EnQvNmirbSi3",
        "colab": {
          "base_uri": "https://localhost:8080/",
          "height": 540
        },
        "outputId": "58116686-3053-4c11-d8b3-7b8e793b69f8"
      },
      "source": [
        "display_lengths_histograms(df_stats)"
      ],
      "execution_count": null,
      "outputs": [
        {
          "output_type": "display_data",
          "data": {
            "image/png": "[encoded data removed]",
            "text/plain": [
              "<Figure size 1080x576 with 3 Axes>"
            ]
          },
          "metadata": {
            "needs_background": "light"
          }
        }
      ]
    },
    {
      "cell_type": "code",
      "metadata": {
        "execution": {
          "iopub.execute_input": "2020-08-17T00:59:04.744270Z",
          "iopub.status.busy": "2020-08-17T00:59:04.743492Z",
          "iopub.status.idle": "2020-08-17T00:59:04.747754Z",
          "shell.execute_reply": "2020-08-17T00:59:04.746809Z"
        },
        "papermill": {
          "duration": 0.021533,
          "end_time": "2020-08-17T00:59:04.747906",
          "exception": false,
          "start_time": "2020-08-17T00:59:04.726373",
          "status": "completed"
        },
        "tags": [],
        "colab": {
          "base_uri": "https://localhost:8080/"
        },
        "id": "CoOcrZARbSi5",
        "outputId": "1b6a9ce8-dd35-496e-e253-5e582bd5fe70"
      },
      "source": [
        "n_texts = len(X_data)\n",
        "print('Texts in dataset: %d' % n_texts)\n",
        "\n",
        "categories = df['Label'].unique()\n",
        "n_categories = len(categories)\n",
        "print('Number of categories: %d' % n_categories)\n",
        "\n",
        "print('Done!')"
      ],
      "execution_count": null,
      "outputs": [
        {
          "output_type": "stream",
          "name": "stdout",
          "text": [
            "Texts in dataset: 64234\n",
            "Number of categories: 2\n",
            "Done!\n"
          ]
        }
      ]
    },
    {
      "cell_type": "markdown",
      "metadata": {
        "papermill": {
          "duration": 0.010138,
          "end_time": "2020-08-17T00:59:04.769397",
          "exception": false,
          "start_time": "2020-08-17T00:59:04.759259",
          "status": "completed"
        },
        "tags": [],
        "id": "5sG59QFZbSi6"
      },
      "source": [
        "# Tokenize & encode"
      ]
    },
    {
      "cell_type": "markdown",
      "metadata": {
        "papermill": {
          "duration": 0.01009,
          "end_time": "2020-08-17T00:59:04.789862",
          "exception": false,
          "start_time": "2020-08-17T00:59:04.779772",
          "status": "completed"
        },
        "tags": [],
        "id": "KQ-i9NImbSi6"
      },
      "source": [
        "I am going to import the RoBERTa model from HuggingFace. Note that I must import not only the model but also the tokenizer (since I must use the same vocabulary as the model was trained with).\n",
        "\n",
        "We should take into account that RoBERTa's input accepts up-to 512 tokens, thus **we must truncate the tokenized texts**. In my case, I truncate to 256 tokens, but you can put a higher value in the variable `MAX_LEN`.\n",
        "\n",
        "See https://huggingface.co/roberta-base"
      ]
    },
    {
      "cell_type": "code",
      "metadata": {
        "execution": {
          "iopub.execute_input": "2020-08-17T00:59:04.823681Z",
          "iopub.status.busy": "2020-08-17T00:59:04.822765Z",
          "iopub.status.idle": "2020-08-17T00:59:04.826001Z",
          "shell.execute_reply": "2020-08-17T00:59:04.825249Z"
        },
        "papermill": {
          "duration": 0.025689,
          "end_time": "2020-08-17T00:59:04.826129",
          "exception": false,
          "start_time": "2020-08-17T00:59:04.800440",
          "status": "completed"
        },
        "tags": [],
        "id": "Ag4YPNe9bSi6"
      },
      "source": [
        "def roberta_encode(texts, tokenizer):\n",
        "    ct = len(texts)\n",
        "    input_ids = np.ones((ct, MAX_LEN), dtype='int32')\n",
        "    attention_mask = np.zeros((ct, MAX_LEN), dtype='int32')\n",
        "    token_type_ids = np.zeros((ct, MAX_LEN), dtype='int32') # Not used in text classification\n",
        "\n",
        "    for k, text in enumerate(texts):\n",
        "        # Tokenize\n",
        "        tok_text= tokenizer.add_tokens(['😀', '😏', '☺️', '🎾', '🍧', '💔', '📯', '😿', '😶', '🍔', '🇬🇧', '📖', '😊', '🌏', '🎸', '😥', '🍝', '🎌', '✋', '😳', '💅', '👆', '🔮', '🍬', '👈', '😍', '😕', '🚬', '🔥', '☃', '🔞', '👔', '🏊', '💝', '🐒', '🎈', '🌴', '🏃', '🍩', '👎', '🍤', '💩', '©', '🚴', '🐣', '👻', '🚼', '💊', '🌱', '🙆', '🙅', '👅', '🐤', '❗', '✖', '💰', '⚡', '💂', '⬅️', '💚', '💌', '🍕', '🎁', '👊', '😱', '🌌', '📚', '💞', '🍭', '⛄', '👳', '🎤', '📀', '💨', '😁', '😨', '💖', '🚗', '😇', '💧', '🇫🇷', '😎', '🌃', '〰', '💽', '🏂', '🆒', '🍦', '😩', '🌻', '💀', '⏰', '🍲', '🚢', '😅', '🍅', '😣', '👱', '😈', '🎆', '🍳', '🎎', '🍗', '💙', '🙊', '☹', '🍸', '💐', '🌅', '🎮', '🐬', '😯', '👃', '🍷', '🍖', '😒', '🍊', '🌸', '🍻', '🐽', '😰', '🆘', '🐛', '🍃', '😠', '🍰', '🎿', '🙌', '😪', '☠', '☀️', '▶', '👀', '🍺', '😢', '👫', '🙈', '🚔', '🎊', '😑', '🎹', '◽', '☮', '✊', '👩', '🚨', '💕', '⭐', '❌', '👬', '😭', '🌲', '🌀', '🍹', '💆', '👌', '▪', '💎', '➡️', '😓', '☺', '🍓', '💋', '🐾', '🍛', '👠', '🌆', '™', '📓', '🙀', '🚀', '🙋', '💢', '🎼', '🍍', '✴', '😽', '😝', '👶', '😫', '😐', '❄', '💻', '👙', '✔️', '😵', '😬', '😮', '🍉', '👾', '🏄', '😚', '🎨', '💛', '😜', '🐥', '🔄', '🌠', '❄️', '👋', '😦', '🔆', '💯', '🌞', '😌', '💁', '🎉', '📺', '♦', '🕑', '🌎', '🎶', '👏', '😃', '🐇', '🍏', '🇩🇪', '☕', '😴', '🎵', '🌍', '🙉', '👂', '😷', '🐶', '🕥', '👯', '🌙', '🕐', '😙', '🎀', '💸', '😆', '🔫', '♏', '😉', '👭', '🐷', '💘', '👿', '♥', '☁️', '🎓', '😂', '⁉️', '😟', '💟', '💜', '😤', '🌊', '🌾', '🐴', '🍨', '🏡', '🐰', '😲', '💳', '🚶', '🍁', '😡', '🐳', '🔪', '🍠', '🌁', '😻', '🔯', '🔅', '🍀', '🎻', '🍵', '🐠', '👉', '☀', '👪', '✌', '👜', '💥', '😹', '👣', '🍈', '🇺🇸', '📨', '🇮🇹', '😗', '🌚', '💵', '🙍', '🎄', '🐉', '◾', '🌂', '💍', '⛪', '🎧', '❤️', '®', '❤', '👑', '💣', '🍋', '🎺', '📑', '🚺', '😘', '✌️', '🚫', '🌽', '💤', '🎥', '✏', '💪', '🏰', '😞', '✖️', '👹', '📣', '😺', '😄', '👰', '☔', '🎅', '😔', '☂', '💼', '🚓', '🍫', '👄', '💄', '👐', '💗', '🌵', '🐟', '💃', '🙏', '✨', '☝️', '☁', '🏈', '🍪', '⛅', '💉', '🐭', '⚽', '😛', '🍟', '💏', '😋', '📄', '🏥', '🐼', '♥️', '😧', '💦', '🎷', '🎂', '📱', '🚙', '👼', '🍆', '✈', '👸', '🎭', '🐸', '👍', '✈️', '😖', '🎋', '🐧'])\n",
        "        tok_text = tokenizer.tokenize(text)\n",
        "        \n",
        "        # Truncate and convert tokens to numerical IDs\n",
        "        enc_text = tokenizer.convert_tokens_to_ids(tok_text[:(MAX_LEN-2)])\n",
        "        \n",
        "        input_length = len(enc_text) + 2\n",
        "        input_length = input_length if input_length < MAX_LEN else MAX_LEN\n",
        "        \n",
        "        # Add tokens [CLS] and [SEP] at the beginning and the end\n",
        "        input_ids[k,:input_length] = np.asarray([0] + enc_text + [2], dtype='int32')\n",
        "        \n",
        "        # Set to 1s in the attention input\n",
        "        attention_mask[k,:input_length] = 1\n",
        "\n",
        "    return {\n",
        "        'input_word_ids': input_ids,\n",
        "        'input_mask': attention_mask,\n",
        "        'input_type_ids': token_type_ids\n",
        "    }"
      ],
      "execution_count": null,
      "outputs": []
    },
    {
      "cell_type": "code",
      "metadata": {
        "execution": {
          "iopub.execute_input": "2020-08-17T00:59:04.858065Z",
          "iopub.status.busy": "2020-08-17T00:59:04.857134Z",
          "iopub.status.idle": "2020-08-17T00:59:04.861813Z",
          "shell.execute_reply": "2020-08-17T00:59:04.861171Z"
        },
        "papermill": {
          "duration": 0.025227,
          "end_time": "2020-08-17T00:59:04.861943",
          "exception": false,
          "start_time": "2020-08-17T00:59:04.836716",
          "status": "completed"
        },
        "tags": [],
        "colab": {
          "base_uri": "https://localhost:8080/"
        },
        "id": "0IZ9NTKKbSi7",
        "outputId": "266fc926-97de-4644-8cd7-030881fc14d2"
      },
      "source": [
        "# Transform categories into numbers\n",
        "category_to_id = {}\n",
        "category_to_name = {}\n",
        "\n",
        "for index, c in enumerate(y_data):\n",
        "    if c in category_to_id:\n",
        "        category_id = category_to_id[c]\n",
        "    else:\n",
        "        category_id = len(category_to_id)\n",
        "        category_to_id[c] = category_id\n",
        "        category_to_name[category_id] = c\n",
        "    \n",
        "    y_data[index] = category_id\n",
        "\n",
        "# Display dictionary\n",
        "category_to_name"
      ],
      "execution_count": null,
      "outputs": [
        {
          "output_type": "execute_result",
          "data": {
            "text/plain": [
              "{0: 1, 1: 0}"
            ]
          },
          "metadata": {},
          "execution_count": 19
        }
      ]
    },
    {
      "cell_type": "code",
      "metadata": {
        "execution": {
          "iopub.execute_input": "2020-08-17T00:59:04.890382Z",
          "iopub.status.busy": "2020-08-17T00:59:04.889620Z",
          "iopub.status.idle": "2020-08-17T00:59:04.893070Z",
          "shell.execute_reply": "2020-08-17T00:59:04.892447Z"
        },
        "papermill": {
          "duration": 0.020423,
          "end_time": "2020-08-17T00:59:04.893194",
          "exception": false,
          "start_time": "2020-08-17T00:59:04.872771",
          "status": "completed"
        },
        "tags": [],
        "id": "9xCQYv0ybSi8"
      },
      "source": [
        "# Split into train and test datasets\n",
        "X_train, X_test, y_train, y_test = train_test_split(X_data, y_data, test_size=0.3, random_state=777) # random_state to reproduce results"
      ],
      "execution_count": null,
      "outputs": []
    },
    {
      "cell_type": "code",
      "metadata": {
        "execution": {
          "iopub.execute_input": "2020-08-17T00:59:04.920991Z",
          "iopub.status.busy": "2020-08-17T00:59:04.920216Z",
          "iopub.status.idle": "2020-08-17T00:59:07.838328Z",
          "shell.execute_reply": "2020-08-17T00:59:07.837704Z"
        },
        "papermill": {
          "duration": 2.934245,
          "end_time": "2020-08-17T00:59:07.838456",
          "exception": false,
          "start_time": "2020-08-17T00:59:04.904211",
          "status": "completed"
        },
        "tags": [],
        "colab": {
          "base_uri": "https://localhost:8080/",
          "height": 461,
          "referenced_widgets": [
            "45f6a5f81c73433e9fd6c209e396a216",
            "f934e524935e4031a6ecf39bb5cfe594",
            "8a51e1f776264eaba7cdb5732f08d842",
            "340bcd7b1869442086a6021ec6e459e3",
            "81c8ef2fc54b4d6ab32c54f7ac33c824",
            "7f3427e0f0fb406d9bdd34deac7f1761",
            "1a7d20662dd94749ac5f1cf022329980",
            "b29e82e95cee4e84aab011b1e37c47ea",
            "16b777ac1d6043ee9494644d8d2bc467",
            "0bd0bc56aea547578b80c5ace7c35313",
            "2346f5b977f948e6b25367d89a212e0e",
            "aeb5d15a600c4147ba6fa3a00eeb7576",
            "2ae44a650ff74574ac9b9a6d1ab6d346",
            "16d8b3f9b67f4de5a390bfefcf25320e",
            "f0e40022d26142eebc15eecb7b1cb043",
            "82f56f0f8dfa454a9b02fc525df87af4",
            "697e6e67037e4f3790d7b842d611893e",
            "e85708c92e7445a2bfa0d546f2b74e05",
            "943d8b3c59884d2d93e8f3bd01372edb",
            "01d99e384a7d4938b9d9051584851389",
            "edfa9eec58c6430d9e435f369cb0a643",
            "abfbb54dd1054ce5ac901506f698460b",
            "b0510f80380446aeb9f0717791e75811",
            "bfa4b1a31db549c1a94d700008c68630"
          ]
        },
        "id": "7P3JGGgAbSi8",
        "outputId": "dcca7447-8ee9-4e1e-a423-9660e2b7b178"
      },
      "source": [
        "# Import tokenizer from HuggingFace\n",
        "tokenizer = RobertaTokenizer.from_pretrained(MODEL_NAME)"
      ],
      "execution_count": null,
      "outputs": [
        {
          "output_type": "stream",
          "name": "stderr",
          "text": [
            "DEBUG:filelock:Attempting to acquire lock 140015508870480 on /root/.cache/huggingface/transformers/d3ccdbfeb9aaa747ef20432d4976c32ee3fa69663b379deb253ccfce2bb1fdc5.d67d6b367eb24ab43b08ad55e014cf254076934f71d832bbab9ad35644a375ab.lock\n",
            "DEBUG:filelock:Lock 140015508870480 acquired on /root/.cache/huggingface/transformers/d3ccdbfeb9aaa747ef20432d4976c32ee3fa69663b379deb253ccfce2bb1fdc5.d67d6b367eb24ab43b08ad55e014cf254076934f71d832bbab9ad35644a375ab.lock\n"
          ]
        },
        {
          "output_type": "display_data",
          "data": {
            "application/vnd.jupyter.widget-view+json": {
              "model_id": "45f6a5f81c73433e9fd6c209e396a216",
              "version_minor": 0,
              "version_major": 2
            },
            "text/plain": [
              "Downloading:   0%|          | 0.00/878k [00:00<?, ?B/s]"
            ]
          },
          "metadata": {}
        },
        {
          "output_type": "stream",
          "name": "stderr",
          "text": [
            "DEBUG:filelock:Attempting to release lock 140015508870480 on /root/.cache/huggingface/transformers/d3ccdbfeb9aaa747ef20432d4976c32ee3fa69663b379deb253ccfce2bb1fdc5.d67d6b367eb24ab43b08ad55e014cf254076934f71d832bbab9ad35644a375ab.lock\n",
            "DEBUG:filelock:Lock 140015508870480 released on /root/.cache/huggingface/transformers/d3ccdbfeb9aaa747ef20432d4976c32ee3fa69663b379deb253ccfce2bb1fdc5.d67d6b367eb24ab43b08ad55e014cf254076934f71d832bbab9ad35644a375ab.lock\n",
            "DEBUG:filelock:Attempting to acquire lock 140015509015376 on /root/.cache/huggingface/transformers/cafdecc90fcab17011e12ac813dd574b4b3fea39da6dd817813efa010262ff3f.5d12962c5ee615a4c803841266e9c3be9a691a924f72d395d3a6c6c81157788b.lock\n",
            "DEBUG:filelock:Lock 140015509015376 acquired on /root/.cache/huggingface/transformers/cafdecc90fcab17011e12ac813dd574b4b3fea39da6dd817813efa010262ff3f.5d12962c5ee615a4c803841266e9c3be9a691a924f72d395d3a6c6c81157788b.lock\n"
          ]
        },
        {
          "output_type": "display_data",
          "data": {
            "application/vnd.jupyter.widget-view+json": {
              "model_id": "aeb5d15a600c4147ba6fa3a00eeb7576",
              "version_minor": 0,
              "version_major": 2
            },
            "text/plain": [
              "Downloading:   0%|          | 0.00/446k [00:00<?, ?B/s]"
            ]
          },
          "metadata": {}
        },
        {
          "output_type": "stream",
          "name": "stderr",
          "text": [
            "DEBUG:filelock:Attempting to release lock 140015509015376 on /root/.cache/huggingface/transformers/cafdecc90fcab17011e12ac813dd574b4b3fea39da6dd817813efa010262ff3f.5d12962c5ee615a4c803841266e9c3be9a691a924f72d395d3a6c6c81157788b.lock\n",
            "DEBUG:filelock:Lock 140015509015376 released on /root/.cache/huggingface/transformers/cafdecc90fcab17011e12ac813dd574b4b3fea39da6dd817813efa010262ff3f.5d12962c5ee615a4c803841266e9c3be9a691a924f72d395d3a6c6c81157788b.lock\n",
            "DEBUG:filelock:Attempting to acquire lock 140015509709072 on /root/.cache/huggingface/transformers/d53fc0fa09b8342651efd4073d75e19617b3e51287c2a535becda5808a8db287.fc9576039592f026ad76a1c231b89aee8668488c671dfbe6616bab2ed298d730.lock\n",
            "DEBUG:filelock:Lock 140015509709072 acquired on /root/.cache/huggingface/transformers/d53fc0fa09b8342651efd4073d75e19617b3e51287c2a535becda5808a8db287.fc9576039592f026ad76a1c231b89aee8668488c671dfbe6616bab2ed298d730.lock\n"
          ]
        },
        {
          "output_type": "display_data",
          "data": {
            "application/vnd.jupyter.widget-view+json": {
              "model_id": "b0510f80380446aeb9f0717791e75811",
              "version_minor": 0,
              "version_major": 2
            },
            "text/plain": [
              "Downloading:   0%|          | 0.00/1.29M [00:00<?, ?B/s]"
            ]
          },
          "metadata": {}
        },
        {
          "output_type": "stream",
          "name": "stderr",
          "text": [
            "DEBUG:filelock:Attempting to release lock 140015509709072 on /root/.cache/huggingface/transformers/d53fc0fa09b8342651efd4073d75e19617b3e51287c2a535becda5808a8db287.fc9576039592f026ad76a1c231b89aee8668488c671dfbe6616bab2ed298d730.lock\n",
            "DEBUG:filelock:Lock 140015509709072 released on /root/.cache/huggingface/transformers/d53fc0fa09b8342651efd4073d75e19617b3e51287c2a535becda5808a8db287.fc9576039592f026ad76a1c231b89aee8668488c671dfbe6616bab2ed298d730.lock\n",
            "DEBUG:filelock:Attempting to acquire lock 140015508579472 on /root/.cache/huggingface/transformers/733bade19e5f0ce98e6531021dd5180994bb2f7b8bd7e80c7968805834ba351e.35205c6cfc956461d8515139f0f8dd5d207a2f336c0c3a83b4bc8dca3518e37b.lock\n",
            "DEBUG:filelock:Lock 140015508579472 acquired on /root/.cache/huggingface/transformers/733bade19e5f0ce98e6531021dd5180994bb2f7b8bd7e80c7968805834ba351e.35205c6cfc956461d8515139f0f8dd5d207a2f336c0c3a83b4bc8dca3518e37b.lock\n"
          ]
        },
        {
          "output_type": "display_data",
          "data": {
            "application/vnd.jupyter.widget-view+json": {
              "model_id": "bfa4b1a31db549c1a94d700008c68630",
              "version_minor": 0,
              "version_major": 2
            },
            "text/plain": [
              "Downloading:   0%|          | 0.00/481 [00:00<?, ?B/s]"
            ]
          },
          "metadata": {}
        },
        {
          "output_type": "stream",
          "name": "stderr",
          "text": [
            "DEBUG:filelock:Attempting to release lock 140015508579472 on /root/.cache/huggingface/transformers/733bade19e5f0ce98e6531021dd5180994bb2f7b8bd7e80c7968805834ba351e.35205c6cfc956461d8515139f0f8dd5d207a2f336c0c3a83b4bc8dca3518e37b.lock\n",
            "DEBUG:filelock:Lock 140015508579472 released on /root/.cache/huggingface/transformers/733bade19e5f0ce98e6531021dd5180994bb2f7b8bd7e80c7968805834ba351e.35205c6cfc956461d8515139f0f8dd5d207a2f336c0c3a83b4bc8dca3518e37b.lock\n"
          ]
        }
      ]
    },
    {
      "cell_type": "code",
      "metadata": {
        "execution": {
          "iopub.execute_input": "2020-08-17T00:59:07.868787Z",
          "iopub.status.busy": "2020-08-17T00:59:07.868044Z",
          "iopub.status.idle": "2020-08-17T00:59:13.419358Z",
          "shell.execute_reply": "2020-08-17T00:59:13.418701Z"
        },
        "papermill": {
          "duration": 5.568996,
          "end_time": "2020-08-17T00:59:13.419489",
          "exception": false,
          "start_time": "2020-08-17T00:59:07.850493",
          "status": "completed"
        },
        "tags": [],
        "id": "OOdpuXiqbSi8"
      },
      "source": [
        "X_train = roberta_encode(X_train, tokenizer)\n",
        "X_test = roberta_encode(X_test, tokenizer)\n",
        "\n",
        "y_train = np.asarray(y_train, dtype='int32')\n",
        "y_test = np.asarray(y_test, dtype='int32')"
      ],
      "execution_count": null,
      "outputs": []
    },
    {
      "cell_type": "markdown",
      "metadata": {
        "papermill": {
          "duration": 0.011806,
          "end_time": "2020-08-17T00:59:13.443167",
          "exception": false,
          "start_time": "2020-08-17T00:59:13.431361",
          "status": "completed"
        },
        "tags": [],
        "id": "YnTbcjKzbSi9"
      },
      "source": [
        "## Create RoBERTa model"
      ]
    },
    {
      "cell_type": "code",
      "metadata": {
        "execution": {
          "iopub.execute_input": "2020-08-17T00:59:13.482447Z",
          "iopub.status.busy": "2020-08-17T00:59:13.480028Z",
          "iopub.status.idle": "2020-08-17T00:59:13.485058Z",
          "shell.execute_reply": "2020-08-17T00:59:13.485589Z"
        },
        "papermill": {
          "duration": 0.031088,
          "end_time": "2020-08-17T00:59:13.485764",
          "exception": false,
          "start_time": "2020-08-17T00:59:13.454676",
          "status": "completed"
        },
        "scrolled": true,
        "tags": [],
        "id": "9jfSHZurbSi9"
      },
      "source": [
        "def build_model(n_categories):\n",
        "    with strategy.scope():\n",
        "        input_word_ids = tf.keras.Input(shape=(MAX_LEN,), dtype=tf.int32, name='input_word_ids')\n",
        "        input_mask = tf.keras.Input(shape=(MAX_LEN,), dtype=tf.int32, name='input_mask')\n",
        "        input_type_ids = tf.keras.Input(shape=(MAX_LEN,), dtype=tf.int32, name='input_type_ids')\n",
        "\n",
        "        # Import RoBERTa model from HuggingFace\n",
        "        roberta_model = TFRobertaModel.from_pretrained(MODEL_NAME)\n",
        "        roberta_model.resize_token_embeddings(len(tokenizer))\n",
        "        x = roberta_model(input_word_ids, attention_mask=input_mask, token_type_ids=input_type_ids)\n",
        "\n",
        "        # Huggingface transformers have multiple outputs, embeddings are the first one,\n",
        "        # so let's slice out the first position\n",
        "        x = x[0]\n",
        "\n",
        "        x = tf.keras.layers.Dropout(0.1)(x)\n",
        "        x = tf.keras.layers.Flatten()(x)\n",
        "        x = tf.keras.layers.Dense(256, activation='relu')(x)\n",
        "        x = tf.keras.layers.Dense(n_categories, activation='softmax')(x)\n",
        "\n",
        "        model = tf.keras.Model(inputs=[input_word_ids, input_mask, input_type_ids], outputs=x)\n",
        "        model.compile(\n",
        "            optimizer=tf.keras.optimizers.Adam(lr=3e-5),\n",
        "            loss='sparse_categorical_crossentropy',\n",
        "            metrics=['accuracy'])\n",
        "\n",
        "        return model"
      ],
      "execution_count": null,
      "outputs": []
    },
    {
      "cell_type": "code",
      "metadata": {
        "execution": {
          "iopub.execute_input": "2020-08-17T00:59:13.515642Z",
          "iopub.status.busy": "2020-08-17T00:59:13.514812Z",
          "iopub.status.idle": "2020-08-17T01:00:08.617564Z",
          "shell.execute_reply": "2020-08-17T01:00:08.616814Z"
        },
        "papermill": {
          "duration": 55.120478,
          "end_time": "2020-08-17T01:00:08.617740",
          "exception": false,
          "start_time": "2020-08-17T00:59:13.497262",
          "status": "completed"
        },
        "tags": [],
        "colab": {
          "base_uri": "https://localhost:8080/",
          "height": 716,
          "referenced_widgets": [
            "2a99637891004a0e94907032f464d863",
            "bd811b9d9f05445db965babac46ad2cc",
            "e6c202f528e446f2a15471bfbe2d62f4",
            "30d7ab3e2d984a37ad2fb2b035f0d701",
            "8a2817752dff42eb95060fc030dc1fc0",
            "762b4df2e28e4b949dc39dfe67928ed2",
            "2c9ab774cf4d422b9106a164588524a2",
            "a0f0b8c4b1ab4e94ad47f735ec5b9186",
            "5cdd882ad0d34c6db88b91699ecc716c",
            "3de090bff95a4916b9f7ac6726ec4731",
            "e2eeff0fb6004070a8d8edfa669d1924"
          ]
        },
        "id": "OB0RzdkPbSi-",
        "outputId": "17444a2b-10b4-4857-f59f-a01e334b7c17"
      },
      "source": [
        "with strategy.scope():\n",
        "    model = build_model(n_categories)\n",
        "    model.summary()"
      ],
      "execution_count": null,
      "outputs": [
        {
          "output_type": "stream",
          "name": "stderr",
          "text": [
            "DEBUG:filelock:Attempting to acquire lock 140003701488976 on /root/.cache/huggingface/transformers/22fef2e3c5012c1a8f8d7f024e30275dd2925b076abb5131dc3d1068345b6426.d409db346b0c1408865b9785d36744ccb988186626309ae8f995f86511811602.h5.lock\n",
            "DEBUG:filelock:Lock 140003701488976 acquired on /root/.cache/huggingface/transformers/22fef2e3c5012c1a8f8d7f024e30275dd2925b076abb5131dc3d1068345b6426.d409db346b0c1408865b9785d36744ccb988186626309ae8f995f86511811602.h5.lock\n"
          ]
        },
        {
          "output_type": "display_data",
          "data": {
            "application/vnd.jupyter.widget-view+json": {
              "model_id": "2a99637891004a0e94907032f464d863",
              "version_minor": 0,
              "version_major": 2
            },
            "text/plain": [
              "Downloading:   0%|          | 0.00/627M [00:00<?, ?B/s]"
            ]
          },
          "metadata": {}
        },
        {
          "output_type": "stream",
          "name": "stderr",
          "text": [
            "DEBUG:filelock:Attempting to release lock 140003701488976 on /root/.cache/huggingface/transformers/22fef2e3c5012c1a8f8d7f024e30275dd2925b076abb5131dc3d1068345b6426.d409db346b0c1408865b9785d36744ccb988186626309ae8f995f86511811602.h5.lock\n",
            "DEBUG:filelock:Lock 140003701488976 released on /root/.cache/huggingface/transformers/22fef2e3c5012c1a8f8d7f024e30275dd2925b076abb5131dc3d1068345b6426.d409db346b0c1408865b9785d36744ccb988186626309ae8f995f86511811602.h5.lock\n",
            "Some layers from the model checkpoint at roberta-base were not used when initializing TFRobertaModel: ['lm_head']\n",
            "- This IS expected if you are initializing TFRobertaModel from the checkpoint of a model trained on another task or with another architecture (e.g. initializing a BertForSequenceClassification model from a BertForPreTraining model).\n",
            "- This IS NOT expected if you are initializing TFRobertaModel from the checkpoint of a model that you expect to be exactly identical (initializing a BertForSequenceClassification model from a BertForSequenceClassification model).\n",
            "All the layers of TFRobertaModel were initialized from the model checkpoint at roberta-base.\n",
            "If your task is similar to the task the model of the checkpoint was trained on, you can already use TFRobertaModel for predictions without further training.\n"
          ]
        },
        {
          "output_type": "stream",
          "name": "stdout",
          "text": [
            "Model: \"model\"\n",
            "__________________________________________________________________________________________________\n",
            "Layer (type)                    Output Shape         Param #     Connected to                     \n",
            "==================================================================================================\n",
            "input_word_ids (InputLayer)     [(None, 128)]        0                                            \n",
            "__________________________________________________________________________________________________\n",
            "input_mask (InputLayer)         [(None, 128)]        0                                            \n",
            "__________________________________________________________________________________________________\n",
            "input_type_ids (InputLayer)     [(None, 128)]        0                                            \n",
            "__________________________________________________________________________________________________\n",
            "tf_roberta_model (TFRobertaMode TFBaseModelOutputWit 124926720   input_word_ids[0][0]             \n",
            "                                                                 input_mask[0][0]                 \n",
            "                                                                 input_type_ids[0][0]             \n",
            "__________________________________________________________________________________________________\n",
            "dropout_37 (Dropout)            (None, 128, 768)     0           tf_roberta_model[0][0]           \n",
            "__________________________________________________________________________________________________\n",
            "flatten (Flatten)               (None, 98304)        0           dropout_37[0][0]                 \n",
            "__________________________________________________________________________________________________\n",
            "dense (Dense)                   (None, 256)          25166080    flatten[0][0]                    \n",
            "__________________________________________________________________________________________________\n",
            "dense_1 (Dense)                 (None, 2)            514         dense[0][0]                      \n",
            "==================================================================================================\n",
            "Total params: 150,093,314\n",
            "Trainable params: 150,093,314\n",
            "Non-trainable params: 0\n",
            "__________________________________________________________________________________________________\n"
          ]
        }
      ]
    },
    {
      "cell_type": "markdown",
      "metadata": {
        "papermill": {
          "duration": 0.012166,
          "end_time": "2020-08-17T01:00:08.645204",
          "exception": false,
          "start_time": "2020-08-17T01:00:08.633038",
          "status": "completed"
        },
        "tags": [],
        "id": "_Ij1JVzlbSi_"
      },
      "source": [
        "## Train model\n",
        "\n",
        "This is basic training of RoBERTa but, if your dataset is larger, you may use K-Folds in this section. In this notebook, I use K-Folds (use it as inspiration): https://www.kaggle.com/dimasmunoz/clean-english-data-roberta ;)"
      ]
    },
    {
      "cell_type": "code",
      "metadata": {
        "execution": {
          "iopub.execute_input": "2020-08-17T01:00:08.690435Z",
          "iopub.status.busy": "2020-08-17T01:00:08.689632Z",
          "iopub.status.idle": "2020-08-17T01:02:08.992785Z",
          "shell.execute_reply": "2020-08-17T01:02:08.992073Z"
        },
        "papermill": {
          "duration": 120.335358,
          "end_time": "2020-08-17T01:02:08.992931",
          "exception": false,
          "start_time": "2020-08-17T01:00:08.657573",
          "status": "completed"
        },
        "tags": [],
        "colab": {
          "base_uri": "https://localhost:8080/"
        },
        "id": "raag3RzlbSi_",
        "outputId": "d3a77c69-99e4-4743-c00d-5055ecee5f2e"
      },
      "source": [
        "with strategy.scope():\n",
        "    print('Starting training.....')\n",
        "    history = model.fit(X_train,\n",
        "                        y_train,\n",
        "                        epochs=EPOCHS,\n",
        "                        batch_size=BATCH_SIZE,\n",
        "                        verbose=1,\n",
        "                        validation_data=(X_test, y_test))"
      ],
      "execution_count": null,
      "outputs": [
        {
          "output_type": "stream",
          "name": "stdout",
          "text": [
            "Starting training.....\n",
            "Epoch 1/5\n"
          ]
        },
        {
          "output_type": "stream",
          "name": "stderr",
          "text": [
            "INFO:absl:TPU has inputs with dynamic shapes: [<tf.Tensor 'Const:0' shape=() dtype=int32>, <tf.Tensor 'cond_8/Identity:0' shape=(None, 128) dtype=int32>, <tf.Tensor 'cond_8/Identity_1:0' shape=(None, 128) dtype=int32>, <tf.Tensor 'cond_8/Identity_2:0' shape=(None, 128) dtype=int32>, <tf.Tensor 'cond_8/Identity_3:0' shape=(None,) dtype=int32>]\n"
          ]
        },
        {
          "output_type": "stream",
          "name": "stdout",
          "text": [
            "WARNING:tensorflow:Gradients do not exist for variables ['tf_roberta_model/roberta/pooler/dense/kernel:0', 'tf_roberta_model/roberta/pooler/dense/bias:0'] when minimizing the loss.\n"
          ]
        },
        {
          "output_type": "stream",
          "name": "stderr",
          "text": [
            "WARNING:tensorflow:Gradients do not exist for variables ['tf_roberta_model/roberta/pooler/dense/kernel:0', 'tf_roberta_model/roberta/pooler/dense/bias:0'] when minimizing the loss.\n",
            "INFO:absl:TPU has inputs with dynamic shapes: [<tf.Tensor 'Const:0' shape=() dtype=int32>, <tf.Tensor 'cond_8/Identity:0' shape=(None, 128) dtype=int32>, <tf.Tensor 'cond_8/Identity_1:0' shape=(None, 128) dtype=int32>, <tf.Tensor 'cond_8/Identity_2:0' shape=(None, 128) dtype=int32>, <tf.Tensor 'cond_8/Identity_3:0' shape=(None,) dtype=int32>]\n"
          ]
        },
        {
          "output_type": "stream",
          "name": "stdout",
          "text": [
            "WARNING:tensorflow:Gradients do not exist for variables ['tf_roberta_model/roberta/pooler/dense/kernel:0', 'tf_roberta_model/roberta/pooler/dense/bias:0'] when minimizing the loss.\n"
          ]
        },
        {
          "output_type": "stream",
          "name": "stderr",
          "text": [
            "WARNING:tensorflow:Gradients do not exist for variables ['tf_roberta_model/roberta/pooler/dense/kernel:0', 'tf_roberta_model/roberta/pooler/dense/bias:0'] when minimizing the loss.\n"
          ]
        },
        {
          "output_type": "stream",
          "name": "stdout",
          "text": [
            "703/703 [==============================] - ETA: 0s - loss: 0.2352 - accuracy: 0.8996"
          ]
        },
        {
          "output_type": "stream",
          "name": "stderr",
          "text": [
            "INFO:absl:TPU has inputs with dynamic shapes: [<tf.Tensor 'Const:0' shape=() dtype=int32>, <tf.Tensor 'cond_8/Identity:0' shape=(None, 128) dtype=int32>, <tf.Tensor 'cond_8/Identity_1:0' shape=(None, 128) dtype=int32>, <tf.Tensor 'cond_8/Identity_2:0' shape=(None, 128) dtype=int32>, <tf.Tensor 'cond_8/Identity_3:0' shape=(None,) dtype=int32>]\n"
          ]
        },
        {
          "output_type": "stream",
          "name": "stdout",
          "text": [
            "703/703 [==============================] - 222s 207ms/step - loss: 0.2352 - accuracy: 0.8996 - val_loss: 0.1743 - val_accuracy: 0.9278\n",
            "Epoch 2/5\n",
            "703/703 [==============================] - 78s 111ms/step - loss: 0.1489 - accuracy: 0.9403 - val_loss: 0.1985 - val_accuracy: 0.9137\n",
            "Epoch 3/5\n",
            "703/703 [==============================] - 78s 110ms/step - loss: 0.0990 - accuracy: 0.9611 - val_loss: 0.1956 - val_accuracy: 0.9337\n",
            "Epoch 4/5\n",
            "703/703 [==============================] - 78s 110ms/step - loss: 0.0642 - accuracy: 0.9764 - val_loss: 0.2265 - val_accuracy: 0.9348\n",
            "Epoch 5/5\n",
            "703/703 [==============================] - 78s 111ms/step - loss: 0.0432 - accuracy: 0.9841 - val_loss: 0.2738 - val_accuracy: 0.9335\n"
          ]
        }
      ]
    },
    {
      "cell_type": "code",
      "metadata": {
        "execution": {
          "iopub.execute_input": "2020-08-17T01:02:09.037091Z",
          "iopub.status.busy": "2020-08-17T01:02:09.035944Z",
          "iopub.status.idle": "2020-08-17T01:02:09.278418Z",
          "shell.execute_reply": "2020-08-17T01:02:09.277834Z"
        },
        "papermill": {
          "duration": 0.267718,
          "end_time": "2020-08-17T01:02:09.278543",
          "exception": false,
          "start_time": "2020-08-17T01:02:09.010825",
          "status": "completed"
        },
        "tags": [],
        "colab": {
          "base_uri": "https://localhost:8080/",
          "height": 625
        },
        "id": "GCj7VZECbSjB",
        "outputId": "d770ff05-9b36-4d20-f3e0-587fcc28025e"
      },
      "source": [
        "# This plot will look much better if we train models with more epochs, but anyway here is\n",
        "plt.figure(figsize=(10, 10))\n",
        "plt.title('Accuracy')\n",
        "\n",
        "xaxis = np.arange(len(history.history['accuracy']))\n",
        "plt.plot(xaxis, history.history['accuracy'], label='Train set')\n",
        "plt.plot(xaxis, history.history['val_accuracy'], label='Validation set')\n",
        "plt.legend()"
      ],
      "execution_count": null,
      "outputs": [
        {
          "output_type": "execute_result",
          "data": {
            "text/plain": [
              "<matplotlib.legend.Legend at 0x7f55251689d0>"
            ]
          },
          "metadata": {},
          "execution_count": 27
        },
        {
          "output_type": "display_data",
          "data": {
            "image/png": "[encoded data removed]",
            "text/plain": [
              "<Figure size 720x720 with 1 Axes>"
            ]
          },
          "metadata": {
            "needs_background": "light"
          }
        }
      ]
    },
    {
      "cell_type": "code",
      "metadata": {
        "colab": {
          "base_uri": "https://localhost:8080/",
          "height": 625
        },
        "id": "xiErkZ-wsxoL",
        "outputId": "90133b51-a577-4124-dd7a-9eaaec686661"
      },
      "source": [
        "plt.figure(figsize=(10, 10))\n",
        "plt.title('Accuracy')\n",
        "\n",
        "xaxis = np.arange(len(history.history['loss']))\n",
        "plt.plot(xaxis, history.history['loss'], label='Train set')\n",
        "plt.plot(xaxis, history.history['val_loss'], label='Validation set')\n",
        "plt.legend()"
      ],
      "execution_count": null,
      "outputs": [
        {
          "output_type": "execute_result",
          "data": {
            "text/plain": [
              "<matplotlib.legend.Legend at 0x7f552519a190>"
            ]
          },
          "metadata": {},
          "execution_count": 28
        },
        {
          "output_type": "display_data",
          "data": {
            "image/png": "[encoded data removed]",
            "text/plain": [
              "<Figure size 720x720 with 1 Axes>"
            ]
          },
          "metadata": {
            "needs_background": "light"
          }
        }
      ]
    },
    {
      "cell_type": "markdown",
      "metadata": {
        "papermill": {
          "duration": 0.0176,
          "end_time": "2020-08-17T01:02:09.314368",
          "exception": false,
          "start_time": "2020-08-17T01:02:09.296768",
          "status": "completed"
        },
        "tags": [],
        "id": "Gf_QB1BqbSjB"
      },
      "source": [
        "## Evaluation\n",
        "\n",
        "In a confusion matrix, we can see how many categories are classified c"
      ]
    },
    {
      "cell_type": "code",
      "metadata": {
        "execution": {
          "iopub.execute_input": "2020-08-17T01:02:09.362877Z",
          "iopub.status.busy": "2020-08-17T01:02:09.361981Z",
          "iopub.status.idle": "2020-08-17T01:02:09.364860Z",
          "shell.execute_reply": "2020-08-17T01:02:09.365396Z"
        },
        "papermill": {
          "duration": 0.033205,
          "end_time": "2020-08-17T01:02:09.365553",
          "exception": false,
          "start_time": "2020-08-17T01:02:09.332348",
          "status": "completed"
        },
        "tags": [],
        "id": "wf_Re7n7bSjC"
      },
      "source": [
        "def plot_confusion_matrix(X_test, y_test, model):\n",
        "    y_pred = model.predict(X_test)\n",
        "    y_pred = [np.argmax(i) for i in model.predict(X_test)]\n",
        "\n",
        "    con_mat = tf.math.confusion_matrix(labels=y_test, predictions=y_pred).numpy()\n",
        "\n",
        "    con_mat_norm = np.around(con_mat.astype('float') / con_mat.sum(axis=1)[:, np.newaxis], decimals=2)\n",
        "    label_names = list(range(len(con_mat_norm)))\n",
        "\n",
        "    con_mat_df = pd.DataFrame(con_mat_norm,\n",
        "                              index=label_names, \n",
        "                              columns=label_names)\n",
        "\n",
        "    figure = plt.figure(figsize=(10, 10))\n",
        "    sns.heatmap(con_mat_df, cmap=plt.cm.Blues, annot=True)\n",
        "    plt.ylabel('True label')\n",
        "    plt.xlabel('Predicted label')"
      ],
      "execution_count": null,
      "outputs": []
    },
    {
      "cell_type": "code",
      "metadata": {
        "execution": {
          "iopub.execute_input": "2020-08-17T01:02:09.411483Z",
          "iopub.status.busy": "2020-08-17T01:02:09.410589Z",
          "iopub.status.idle": "2020-08-17T01:02:10.240891Z",
          "shell.execute_reply": "2020-08-17T01:02:10.241444Z"
        },
        "papermill": {
          "duration": 0.857642,
          "end_time": "2020-08-17T01:02:10.241606",
          "exception": false,
          "start_time": "2020-08-17T01:02:09.383964",
          "status": "completed"
        },
        "tags": [],
        "colab": {
          "base_uri": "https://localhost:8080/"
        },
        "id": "LwqN3s2ubSjC",
        "outputId": "bd033650-0da9-4bf7-a2e9-f167da10b795"
      },
      "source": [
        "scores = model.evaluate(X_test, y_test, verbose=0)\n",
        "print(\"Accuracy: %.2f%%\" % (scores[1] * 100))"
      ],
      "execution_count": null,
      "outputs": [
        {
          "output_type": "stream",
          "name": "stdout",
          "text": [
            "Accuracy: 93.35%\n"
          ]
        }
      ]
    },
    {
      "cell_type": "code",
      "metadata": {
        "id": "JhprlcjSSUqM"
      },
      "source": [
        "class_names=['1', '0']"
      ],
      "execution_count": null,
      "outputs": []
    },
    {
      "cell_type": "code",
      "metadata": {
        "colab": {
          "base_uri": "https://localhost:8080/"
        },
        "id": "EbmP5AzmSblm",
        "outputId": "6bcf9e19-48a7-4eff-b415-6ec50c32e688"
      },
      "source": [
        "y_pred= model.predict(X_test)\n",
        "y_pred = [np.argmax(i) for i in model.predict(X_test)]\n",
        "print(classification_report(y_test, y_pred, target_names=class_names))"
      ],
      "execution_count": null,
      "outputs": [
        {
          "output_type": "stream",
          "name": "stderr",
          "text": [
            "INFO:absl:TPU has inputs with dynamic shapes: [<tf.Tensor 'Const:0' shape=() dtype=int32>, <tf.Tensor 'cond_8/Identity:0' shape=(None, 128) dtype=int32>, <tf.Tensor 'cond_8/Identity_1:0' shape=(None, 128) dtype=int32>, <tf.Tensor 'cond_8/Identity_2:0' shape=(None, 128) dtype=int32>]\n"
          ]
        },
        {
          "output_type": "stream",
          "name": "stdout",
          "text": [
            "              precision    recall  f1-score   support\n",
            "\n",
            "           1       0.84      0.88      0.86      4374\n",
            "           0       0.96      0.95      0.96     14897\n",
            "\n",
            "    accuracy                           0.93     19271\n",
            "   macro avg       0.90      0.91      0.91     19271\n",
            "weighted avg       0.93      0.93      0.93     19271\n",
            "\n"
          ]
        }
      ]
    },
    {
      "cell_type": "code",
      "metadata": {
        "id": "b2vCsrKolxJd"
      },
      "source": [
        "def show_confusion_matrix(confusion_matrix):\n",
        "  hmap = sns.heatmap(confusion_matrix, annot=True, fmt=\"d\", cmap=\"Blues\")\n",
        "  hmap.yaxis.set_ticklabels(hmap.yaxis.get_ticklabels(), rotation=0, ha='right')\n",
        "  hmap.xaxis.set_ticklabels(hmap.xaxis.get_ticklabels(), rotation=30, ha='right')\n",
        "  plt.ylabel('True Lablel')\n",
        "  plt.xlabel('Predicted label');"
      ],
      "execution_count": 38,
      "outputs": []
    },
    {
      "cell_type": "code",
      "metadata": {
        "colab": {
          "base_uri": "https://localhost:8080/",
          "height": 283
        },
        "id": "Vp6_bcmuleat",
        "outputId": "7124a86e-3197-43d7-b87c-3f3996d1ce94"
      },
      "source": [
        "cm = confusion_matrix(y_test, y_pred)\n",
        "df_cm = pd.DataFrame(cm, index=class_names, columns=class_names)\n",
        "show_confusion_matrix(df_cm)"
      ],
      "execution_count": 39,
      "outputs": [
        {
          "output_type": "display_data",
          "data": {
            "image/png": "[encoded data removed]",
            "text/plain": [
              "<Figure size 432x288 with 2 Axes>"
            ]
          },
          "metadata": {
            "needs_background": "light"
          }
        }
      ]
    },
    {
      "cell_type": "code",
      "metadata": {
        "execution": {
          "iopub.execute_input": "2020-08-17T01:02:10.287252Z",
          "iopub.status.busy": "2020-08-17T01:02:10.286402Z",
          "iopub.status.idle": "2020-08-17T01:02:22.697723Z",
          "shell.execute_reply": "2020-08-17T01:02:22.696941Z"
        },
        "papermill": {
          "duration": 12.437743,
          "end_time": "2020-08-17T01:02:22.697855",
          "exception": false,
          "start_time": "2020-08-17T01:02:10.260112",
          "status": "completed"
        },
        "tags": [],
        "colab": {
          "base_uri": "https://localhost:8080/",
          "height": 606
        },
        "id": "AZ5q_-NibSjD",
        "outputId": "797e41a2-2dc9-4c98-e964-f27fc7501bcf"
      },
      "source": [
        "plot_confusion_matrix(X_test, y_test, model)"
      ],
      "execution_count": null,
      "outputs": [
        {
          "output_type": "display_data",
          "data": {
            "image/png": "[encoded data removed]",
            "text/plain": [
              "<Figure size 720x720 with 2 Axes>"
            ]
          },
          "metadata": {
            "needs_background": "light"
          }
        }
      ]
    },
    {
      "cell_type": "code",
      "metadata": {
        "papermill": {
          "duration": 0.018376,
          "end_time": "2020-08-17T01:02:22.735544",
          "exception": false,
          "start_time": "2020-08-17T01:02:22.717168",
          "status": "completed"
        },
        "tags": [],
        "id": "7A9VT1XabSjD"
      },
      "source": [
        ""
      ],
      "execution_count": null,
      "outputs": []
    }
  ]
}